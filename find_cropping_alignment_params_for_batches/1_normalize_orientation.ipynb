{
 "cells": [
  {
   "cell_type": "markdown",
   "id": "d22e58ec-57e5-42d0-9325-3cf6a3123a56",
   "metadata": {},
   "source": [
    "# Preprocess images to normalize rotation"
   ]
  },
  {
   "cell_type": "markdown",
   "id": "9e836833-c2d8-4808-b660-0dad6aab1d0a",
   "metadata": {},
   "source": [
    "We will do this using GMOdetector code originally written to adjust for how the camera may sometimes think it is either pointed sideways or not... (when really, it's always pointed down).\n",
    "\n",
    "The NEXT steps will be to rotate everything so the label is on bottom, and to resize to 2000x2000. From there, we can find the right cropping dimensions for the contamination detection workflow."
   ]
  },
  {
   "cell_type": "markdown",
   "id": "87c3f09c-aacc-496b-8d5c-ec9a15d66b34",
   "metadata": {},
   "source": [
    "This is the original code. I think it should still work. Let's see."
   ]
  },
  {
   "cell_type": "code",
   "execution_count": 8,
   "id": "cf739b45-4aae-41b9-bc28-ab45ea070289",
   "metadata": {},
   "outputs": [
    {
     "name": "stdout",
     "output_type": "stream",
     "text": [
      "(alignment) "
     ]
    },
    {
     "ename": "",
     "evalue": "1",
     "output_type": "error",
     "traceback": []
    }
   ],
   "source": [
    "data=\"/media/michael/Elements/In_vitro_GWAS_transformation/All_GWAS_Grids\""
   ]
  },
  {
   "cell_type": "code",
   "execution_count": 9,
   "id": "7eaa9213-93b0-4ff6-b4e2-bae00fc6beff",
   "metadata": {},
   "outputs": [
    {
     "name": "stdout",
     "output_type": "stream",
     "text": [
      "(alignment) "
     ]
    },
    {
     "ename": "",
     "evalue": "1",
     "output_type": "error",
     "traceback": []
    }
   ],
   "source": [
    "conda activate alignment"
   ]
  },
  {
   "cell_type": "markdown",
   "id": "04411c3f-ed9f-4243-926a-282dc366df8b",
   "metadata": {},
   "source": [
    "Let's first cover all in which the `jpeg` is two deep (e.g. GWAA/wk7)"
   ]
  },
  {
   "cell_type": "code",
   "execution_count": 12,
   "id": "c8a4f192-f7de-4fad-8f8b-181f2f5d3cab",
   "metadata": {},
   "outputs": [
    {
     "name": "stdout",
     "output_type": "stream",
     "text": [
      "(alignment) "
     ]
    },
    {
     "ename": "",
     "evalue": "1",
     "output_type": "error",
     "traceback": []
    }
   ],
   "source": [
    "for filename in $data/*/*/*.jpg; do\n",
    "    exiftool -Orientation=8 -n \"$filename\" > \"${data}/log_exiftool.txt\"\n",
    "    done"
   ]
  },
  {
   "cell_type": "markdown",
   "id": "b4eb0ef6-b747-4737-aa74-e42689b683d6",
   "metadata": {},
   "source": [
    "Now let's cover those in which `jpeg` is three deep (e.g. GWA/wk7/Broadband)"
   ]
  },
  {
   "cell_type": "code",
   "execution_count": 13,
   "id": "27cc1ba1-27a6-4404-beb5-db39931f7608",
   "metadata": {},
   "outputs": [
    {
     "name": "stdout",
     "output_type": "stream",
     "text": [
      "Error: File not found - /media/michael/Elements/In_vitro_GWAS_transformation/All_GWAS_Grids/*/*/*/*.jpg\n",
      "(alignment) "
     ]
    },
    {
     "ename": "",
     "evalue": "1",
     "output_type": "error",
     "traceback": []
    }
   ],
   "source": [
    "for filename in $data/*/*/*/*.jpg; do\n",
    "    exiftool -Orientation=8 -n \"$filename\" > \"${data}/log_exiftool.txt\"\n",
    "    done"
   ]
  },
  {
   "cell_type": "markdown",
   "id": "aed59a6c-1598-425c-a10a-9c06d89079fc",
   "metadata": {},
   "source": [
    "Apparently there are none like that. Ok."
   ]
  },
  {
   "cell_type": "markdown",
   "id": "6beb9955-2d06-48b3-9c94-2afcee932af6",
   "metadata": {},
   "source": [
    "Let's repeat it all for the second folder, called `ALL_GWAS_GRIDS_B`"
   ]
  },
  {
   "cell_type": "code",
   "execution_count": 15,
   "id": "9d4f8cf9-4b57-47b8-94de-8e511bd08230",
   "metadata": {},
   "outputs": [
    {
     "name": "stdout",
     "output_type": "stream",
     "text": [
      "(alignment) "
     ]
    },
    {
     "ename": "",
     "evalue": "1",
     "output_type": "error",
     "traceback": []
    }
   ],
   "source": [
    "data=\"/media/michael/Elements/In_vitro_GWAS_transformation/ALL_GWAS_GRIDS_B\""
   ]
  },
  {
   "cell_type": "code",
   "execution_count": 16,
   "id": "f3a9a2a8-5761-4d81-9417-2af472a6d38f",
   "metadata": {},
   "outputs": [
    {
     "name": "stdout",
     "output_type": "stream",
     "text": [
      "(alignment) "
     ]
    },
    {
     "ename": "",
     "evalue": "1",
     "output_type": "error",
     "traceback": []
    }
   ],
   "source": [
    "for filename in $data/*/*/*.jpg; do\n",
    "    exiftool -Orientation=8 -n \"$filename\" > \"${data}/log_exiftool.txt\"\n",
    "    done"
   ]
  },
  {
   "cell_type": "code",
   "execution_count": 17,
   "id": "4c94d333-4aa8-4a7e-91a8-a6e76a9764ee",
   "metadata": {},
   "outputs": [
    {
     "name": "stdout",
     "output_type": "stream",
     "text": [
      "Error: File not found - /media/michael/Elements/In_vitro_GWAS_transformation/ALL_GWAS_GRIDS_B/*/*/*/*.jpg\n",
      "(alignment) "
     ]
    },
    {
     "ename": "",
     "evalue": "1",
     "output_type": "error",
     "traceback": []
    }
   ],
   "source": [
    "for filename in $data/*/*/*/*.jpg; do\n",
    "    exiftool -Orientation=8 -n \"$filename\" > \"${data}/log_exiftool.txt\"\n",
    "    done"
   ]
  },
  {
   "cell_type": "code",
   "execution_count": null,
   "id": "0daa7033-e8c2-468e-af1e-59d6b916bb5a",
   "metadata": {},
   "outputs": [],
   "source": [
    "conda deactivate\n",
    "conda deactivate"
   ]
  }
 ],
 "metadata": {
  "kernelspec": {
   "display_name": "Bash",
   "language": "bash",
   "name": "bash"
  },
  "language_info": {
   "codemirror_mode": "shell",
   "file_extension": ".sh",
   "mimetype": "text/x-sh",
   "name": "bash"
  }
 },
 "nbformat": 4,
 "nbformat_minor": 5
}
