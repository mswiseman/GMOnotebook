{
 "cells": [
  {
   "cell_type": "markdown",
   "metadata": {},
   "source": [
    "# *CubeGLM-only notebook*: Template to analyze a new batch of images, whole plate statistics only\n",
    "**Notebook template for applying routine hyperspectral/segmentation cross-analysis phenomics workflow over new datasets without segmentation**"
   ]
  },
  {
   "cell_type": "markdown",
   "metadata": {
    "tags": []
   },
   "source": [
    "## Instructions for use\n",
    "1.  Enter information for the experiment below\n",
    "2. Set <font color=blue>variables</font> for data paths and parameters, as instructed by colored boxes.\n",
    "3. \"Save as\" with filename describing experiment and anything special about this analysis (e.g. T18_OD_TAO_wk7_automation_test_attempt2.ipynb)\n",
    "4. Run notebook from console, by either one of two methods:\n",
    "- In the top bar of JupyterLab, select \"Run\" and \"Run all cells\"\n",
    "- In a terminal, enter the below command with the notebook filename inserted<br>\n",
    "```jupyter nbconvert --to HTML --ExecutePreprocessor.timeout=-1 --allow-errors --execute insert_filename_here```\n",
    "5. Wait for email"
   ]
  },
  {
   "cell_type": "markdown",
   "metadata": {},
   "source": [
    "## Experiment ID and quick description:"
   ]
  },
  {
   "cell_type": "markdown",
   "metadata": {},
   "source": [
    "<div class=\"alert alert-block alert-success\">\n",
    "Provide a short description of the experiment in the below box. This should include unique identifier codes for the experiment, along with a short description of genotypes and treatments studied. The timepoint should also be included. </div>"
   ]
  },
  {
   "cell_type": "raw",
   "metadata": {},
   "source": [
    "Citrus 4-mut GRF-GIF in Eucalyptus week 9"
   ]
  },
  {
   "cell_type": "markdown",
   "metadata": {
    "heading_collapsed": "true"
   },
   "source": [
    "## Parameters for analysis:"
   ]
  },
  {
   "cell_type": "markdown",
   "metadata": {},
   "source": [
    "<div class=\"alert alert-block alert-success\">\n",
    "The below variables must be modified appropriately every time this workflow is run over new images.\n",
    "</div>"
   ]
  },
  {
   "cell_type": "markdown",
   "metadata": {},
   "source": [
    "### Data location\n",
    "The `data` variable below provides the **complete** path to the folder containing data to be analyzed. This should include all folders and subfolders in which the data of interest is organized by. For the organizational system used for our lab's data, this should follow the format \"/Experiment/Subexperiment/Timepoint/\""
   ]
  },
  {
   "cell_type": "code",
   "execution_count": 1,
   "metadata": {},
   "outputs": [],
   "source": [
    "data_prefix=\"/media/michael/Elements_GRF/\""
   ]
  },
  {
   "cell_type": "code",
   "execution_count": 2,
   "metadata": {},
   "outputs": [],
   "source": [
    "data_suffix=\"/Euc_C4M_GRF/9_wk/\""
   ]
  },
  {
   "cell_type": "code",
   "execution_count": 3,
   "metadata": {},
   "outputs": [],
   "source": [
    "data=\"${data_prefix}${data_suffix}\""
   ]
  },
  {
   "cell_type": "code",
   "execution_count": 4,
   "metadata": {},
   "outputs": [
    {
     "name": "stdout",
     "output_type": "stream",
     "text": [
      "/media/michael/Elements_GRF//Euc_C4M_GRF/9_wk/\n"
     ]
    }
   ],
   "source": [
    "echo $data"
   ]
  },
  {
   "cell_type": "markdown",
   "metadata": {},
   "source": [
    "### Sample information\n",
    "Every experiment has a randomization datasheet, which was used to organize treatment and genotype information for each plate, prepare labels, and randomize plates. The path to this file is provided through the `randomization_datasheets` variable below. This workflow requires this datasheet in order to know which plates have which genotype/treatment. At a later date, we will integrate an ability to read this data directly from labels."
   ]
  },
  {
   "cell_type": "code",
   "execution_count": 5,
   "metadata": {},
   "outputs": [],
   "source": [
    "randomization_datasheet=\"${data_prefix}/Euc_C4M_GRF/C4M_euc_data.xlsx\""
   ]
  },
  {
   "cell_type": "code",
   "execution_count": 6,
   "metadata": {},
   "outputs": [
    {
     "name": "stdout",
     "output_type": "stream",
     "text": [
      "\u001b[0m\u001b[01;32m/media/michael/Elements_GRF//Euc_C4M_GRF/C4M_euc_data.xlsx\u001b[0m\n"
     ]
    }
   ],
   "source": [
    "ls $randomization_datasheet"
   ]
  },
  {
   "cell_type": "markdown",
   "metadata": {},
   "source": [
    "### Detection of missing or contaminated explants"
   ]
  },
  {
   "cell_type": "markdown",
   "metadata": {},
   "source": [
    "Set the `missing_explants` variable to `\"Automatic\"` if using model to automatically detect missing and contaminated explants. Note that this model is only supported for plates with 12 explants. Otherwise, set this option to `\"Manual\"` and include this information in the `total_explants_manual` column in the randomization datasheet."
   ]
  },
  {
   "cell_type": "code",
   "execution_count": 7,
   "metadata": {},
   "outputs": [],
   "source": [
    "missing_explants=\"Automatic\""
   ]
  },
  {
   "cell_type": "markdown",
   "metadata": {},
   "source": [
    "Enter your email where results will be sent"
   ]
  },
  {
   "cell_type": "markdown",
   "metadata": {},
   "source": [
    "### Email"
   ]
  },
  {
   "cell_type": "code",
   "execution_count": 8,
   "metadata": {},
   "outputs": [],
   "source": [
    "email=ryanna@oregonstate.edu"
   ]
  },
  {
   "cell_type": "markdown",
   "metadata": {},
   "source": [
    "\n",
    "\n",
    "\n",
    "\n",
    "\n",
    "\n",
    "\n",
    "\n",
    "\n",
    "\n",
    "\n",
    "\n",
    "\n",
    "\n",
    "\n",
    "<div class=\"alert alert-block alert-warning\">\n",
    "All variables below should be modified only as needed to indicate the fluorescent proteins in samples and the grid layout of explants. </div>"
   ]
  },
  {
   "cell_type": "markdown",
   "metadata": {},
   "source": [
    "### Fluorescent protein settings"
   ]
  },
  {
   "cell_type": "markdown",
   "metadata": {},
   "source": [
    "Below should be all known fluorescent components contained in the sample. This includes each fluorescent protein, as well as a \"noise\" or \"diffraction\" term if applicable. All of these components must exist in the user's spectral library. `GMOdetector` currently comes with a spectral library that includes, by default:\n",
    "- DsRed\n",
    "- ZsYellow\n",
    "- GFP\n",
    "- Chl\n",
    "- ChlA\n",
    "- ChlB\n",
    "- Diffraction"
   ]
  },
  {
   "cell_type": "code",
   "execution_count": 9,
   "metadata": {},
   "outputs": [],
   "source": [
    "fluorophores=(DsRed Chl Diffraction) # An explanation of array variables in bash is here: https://tldp.org/LDP/Bash-Beginners-Guide/html/sect_10_02.html"
   ]
  },
  {
   "cell_type": "markdown",
   "metadata": {},
   "source": [
    "The user has the option of limiting loading of hyperspectral data and subsequent regression to a specific range of wavelengths, using the `desired_wavelength_range` array variable. This range should cover all fluorophores provided in the `fluorophores` array variable able. Aside from runtime, there is no disadvantage to including a wider range than is needed."
   ]
  },
  {
   "cell_type": "code",
   "execution_count": 10,
   "metadata": {},
   "outputs": [],
   "source": [
    "desired_wavelength_range=(500 900)"
   ]
  },
  {
   "cell_type": "markdown",
   "metadata": {},
   "source": [
    "### False color plot settings"
   ]
  },
  {
   "cell_type": "markdown",
   "metadata": {},
   "source": [
    "To assist user inspection of regression results, false color plots can be produced by `GMOdetector` to show results of regression over whole samples. \n",
    "Note: In v0.2.0.x of the workflow, these parameters are independent of those used later by `GMOlabeler` to produce by-explant plots including false color plots. These will be made the same in a later update.\n",
    "The `FalseColor_channels` array variable indicates the components to be plotted as red, green and blue, in that order."
   ]
  },
  {
   "cell_type": "code",
   "execution_count": 11,
   "metadata": {},
   "outputs": [],
   "source": [
    "FalseColor_channels=(Chl DsRed Diffraction)"
   ]
  },
  {
   "cell_type": "markdown",
   "metadata": {},
   "source": [
    "The `FalseColor_caps` array variable indicates an upper limit of signal for each of these component. Any signal at or above these values will appear with maximum brightness; thus, these variables are comparable to exposure on a camera. If caps are too high, not much signal at lower ranges will be seen. If cap for a given component is too low, the false color images will appear overexposed with respect to the component."
   ]
  },
  {
   "cell_type": "code",
   "execution_count": 12,
   "metadata": {},
   "outputs": [],
   "source": [
    "FalseColor_caps=(200 400 200)"
   ]
  },
  {
   "cell_type": "markdown",
   "metadata": {},
   "source": [
    "`GMOlabeler` will use the below parameters to classify individual explants on plates as positive for a given fluorescent protein or not. A single fluorescent protein is chosen for the by-explant false color plots. Multiple can be used to generate the final plots summarizing results."
   ]
  },
  {
   "cell_type": "code",
   "execution_count": 13,
   "metadata": {},
   "outputs": [],
   "source": [
    "reporters=(DsRed)\n",
    "#reporter=DsRed"
   ]
  },
  {
   "cell_type": "markdown",
   "metadata": {},
   "source": [
    "Parameters for reporter signal threshold and pixel threshold must be provided by the user. Our grid search yielded several noted below. These were most recently calculated from statistics produced with Python `GMOdetector`."
   ]
  },
  {
   "cell_type": "markdown",
   "metadata": {},
   "source": [
    "<img src=\"Figures/GMOlabeler_parameters.png\">"
   ]
  },
  {
   "cell_type": "code",
   "execution_count": 14,
   "metadata": {},
   "outputs": [],
   "source": [
    "reporter_threshold=38"
   ]
  },
  {
   "cell_type": "markdown",
   "metadata": {},
   "source": [
    "### Grid settings"
   ]
  },
  {
   "cell_type": "markdown",
   "metadata": {},
   "source": [
    "This is only needed if we're using a model to detect missing explants. Note that this model only works for the 12-explant grid."
   ]
  },
  {
   "cell_type": "code",
   "execution_count": 15,
   "metadata": {},
   "outputs": [],
   "source": [
    "pre_aligned_resized_grid_borders=(\"256,490,1720,1602\")"
   ]
  },
  {
   "cell_type": "markdown",
   "metadata": {},
   "source": [
    "<div class=\"alert alert-block alert-danger\">\n",
    "The below variables do not need to be modified during any routine use of the workflow.\n",
    "</div>"
   ]
  },
  {
   "cell_type": "markdown",
   "metadata": {},
   "source": [
    "Set dimensions for plot outputs"
   ]
  },
  {
   "cell_type": "code",
   "execution_count": 16,
   "metadata": {},
   "outputs": [],
   "source": [
    "#width=15\n",
    "width=9\n",
    "height=5"
   ]
  },
  {
   "cell_type": "code",
   "execution_count": 17,
   "metadata": {},
   "outputs": [],
   "source": [
    "parallel=0"
   ]
  },
  {
   "cell_type": "markdown",
   "metadata": {},
   "source": [
    "### Paths to workflow modules"
   ]
  },
  {
   "cell_type": "markdown",
   "metadata": {},
   "source": [
    "These only need to be modified if you are setting up a `GMOnotebook` template on a new computer."
   ]
  },
  {
   "cell_type": "code",
   "execution_count": 18,
   "metadata": {},
   "outputs": [],
   "source": [
    "cwd=\"/home/michael/GMOnotebook\""
   ]
  },
  {
   "cell_type": "code",
   "execution_count": 19,
   "metadata": {},
   "outputs": [],
   "source": [
    "gmodetector_wd=\"/home/michael/gmodetector_py/\"\n",
    "spectral_library_path=\"${gmodetector_wd}spectral_library/\"\n",
    "deeplab_path=\"/home/michael/poplar_model_2_w_contam/\"\n",
    "alignment_path=\"/home/michael/ImageAlignment/\"\n",
    "gmolabeler_path=\"/home/michael/GMOlabeler/\"\n",
    "contamination_path=\"/home/michael/DenseNet\"\n",
    "data_prefix=\"/home/michael/data/\"\n",
    "output_directory_prefix=\"${data_prefix}gmodetector_out/\""
   ]
  },
  {
   "cell_type": "markdown",
   "metadata": {},
   "source": [
    "<div class=\"alert alert-block alert-info\">\n",
    "With all above variables set, please \"Save as...\" with a filename referencing this specific dataset. <br>Finally, deploy the workflow (Step 4 in above instructions).\n",
    "</div>"
   ]
  },
  {
   "cell_type": "markdown",
   "metadata": {},
   "source": [
    "# Automated workflow to be deployed"
   ]
  },
  {
   "cell_type": "markdown",
   "metadata": {},
   "source": [
    "See the below code for a walkthrough of how GMOnotebook works, or view the outputs after running the workflow for help troubleshooting errors in specific steps of analysis."
   ]
  },
  {
   "cell_type": "markdown",
   "metadata": {},
   "source": [
    "<div class=\"alert alert-block alert-danger\"> <b>Danger:</b> Do not modify any below code without creating a new version of the template notebook. During routine usage, this workflow should be customized only by modifying variables above, while leaving the below code unmodified. </div>"
   ]
  },
  {
   "cell_type": "markdown",
   "metadata": {},
   "source": [
    "These internal variables are set automatically."
   ]
  },
  {
   "cell_type": "code",
   "execution_count": 20,
   "metadata": {},
   "outputs": [],
   "source": [
    "datestamp=$(date +”%Y-%m-%d”)"
   ]
  },
  {
   "cell_type": "code",
   "execution_count": 21,
   "metadata": {},
   "outputs": [],
   "source": [
    "data_folder=$(echo $data | cut -d/ -f5-)"
   ]
  },
  {
   "cell_type": "code",
   "execution_count": 22,
   "metadata": {},
   "outputs": [],
   "source": [
    "timepoint=\"$(basename -- $data_folder)\""
   ]
  },
  {
   "cell_type": "code",
   "execution_count": 23,
   "metadata": {},
   "outputs": [],
   "source": [
    "output_directory_full=\"$output_directory_prefix$data_folder\""
   ]
  },
  {
   "cell_type": "code",
   "execution_count": 24,
   "metadata": {},
   "outputs": [],
   "source": [
    "#dataset_name=$(echo $data_folder | sed -e 's/\\//-/g')\n",
    "dataset_name=$(echo $data_folder | sed -e 's/\\///g')"
   ]
  },
  {
   "cell_type": "code",
   "execution_count": 25,
   "metadata": {},
   "outputs": [
    {
     "name": "stdout",
     "output_type": "stream",
     "text": [
      "Euc_C4M_GRF9_wk\n"
     ]
    }
   ],
   "source": [
    "echo $dataset_name"
   ]
  },
  {
   "cell_type": "markdown",
   "metadata": {},
   "source": [
    "Time analysis begins:"
   ]
  },
  {
   "cell_type": "code",
   "execution_count": 26,
   "metadata": {},
   "outputs": [
    {
     "name": "stdout",
     "output_type": "stream",
     "text": [
      "Fri 06 May 2022 10:33:52 AM PDT\n"
     ]
    }
   ],
   "source": [
    "echo $(date)"
   ]
  },
  {
   "cell_type": "markdown",
   "metadata": {},
   "source": [
    "## Quantification of fluorescent proteins by regression"
   ]
  },
  {
   "cell_type": "markdown",
   "metadata": {},
   "source": [
    "The Python package `CubeGLM` is used to quantify fluorescent proteins in each pixel of hyperspectral images via linear regression. Hyperspectral images are regressed over spectra of known components, and pixelwise maps of test-statistics are constructed for each component in the sample. This approach to quantifying components of hyperspectral images is described in-depth in the Methods section from <a href=\"https://link.springer.com/article/10.1007/s40789-019-0252-7\" target=\"_blank\">Böhme, et al. 2019</a>. Code and documentation for `CubeGLM` is on <a href=\"https://github.com/naglemi/GMOdetector_py\" target=\"_blank\">Github</a>."
   ]
  },
  {
   "cell_type": "code",
   "execution_count": 27,
   "metadata": {},
   "outputs": [],
   "source": [
    "cd $gmodetector_wd"
   ]
  },
  {
   "cell_type": "code",
   "execution_count": 28,
   "metadata": {},
   "outputs": [],
   "source": [
    "job_list_name=\"$dataset_name.jobs\""
   ]
  },
  {
   "cell_type": "code",
   "execution_count": 29,
   "metadata": {},
   "outputs": [],
   "source": [
    "rm -rf $job_list_name"
   ]
  },
  {
   "cell_type": "code",
   "execution_count": 30,
   "metadata": {},
   "outputs": [],
   "source": [
    "for file in $data/*.hdr\n",
    "do\n",
    " if [[ \"$file\" != *'hroma'* ]] && [[ \"$file\" != *'roadband'* ]]; then\n",
    "  echo \"python -W ignore wrappers/analyze_sample.py \\\n",
    "--file_path $file \\\n",
    "--fluorophores ${fluorophores[*]} \\\n",
    "--min_desired_wavelength ${desired_wavelength_range[0]} \\\n",
    "--max_desired_wavelength ${desired_wavelength_range[1]} \\\n",
    "--red_channel ${FalseColor_channels[0]} \\\n",
    "--green_channel ${FalseColor_channels[1]} \\\n",
    "--blue_channel ${FalseColor_channels[2]} \\\n",
    "--red_cap ${FalseColor_caps[0]} \\\n",
    "--green_cap ${FalseColor_caps[1]} \\\n",
    "--blue_cap ${FalseColor_caps[2]} \\\n",
    "--plot 1 \\\n",
    "--spectral_library_path \"$spectral_library_path\" \\\n",
    "--output_dir $output_directory_full \\\n",
    "--threshold 38\" >> $job_list_name\n",
    " fi\n",
    "done"
   ]
  },
  {
   "cell_type": "code",
   "execution_count": 31,
   "metadata": {},
   "outputs": [
    {
     "name": "stdout",
     "output_type": "stream",
     "text": [
      "Euc_C4M_GRF9_wk.jobs\n"
     ]
    }
   ],
   "source": [
    "echo $job_list_name"
   ]
  },
  {
   "cell_type": "code",
   "execution_count": 32,
   "metadata": {
    "scrolled": true
   },
   "outputs": [
    {
     "name": "stdout",
     "output_type": "stream",
     "text": [
      "(test-environment) (test-environment) (test-environment) (test-environment) Running GMOdetector version 0.0.875\n",
      "load mode isload_full_then_crop\n",
      "Saving to /home/michael/data/gmodetector_out//Euc_C4M_GRF/9_wk/C4M1_I5.0_F1.9_L100LED30_093058_0_0_0_Fluorescence_weights.hdf with key of weights\n",
      "Saving summary stats w/ threshold38.0 to /home/michael/data/gmodetector_out//Euc_C4M_GRF/9_wk/C4M1_I5.0_F1.9_L100LED30_093058_0_0_0_Fluorescence_summary.csv\n",
      "Producing image channel for DsRed with cap 400 in color green\n",
      "Producing image channel for Chl with cap 200 in color red\n",
      "Producing image channel for Diffraction with cap 200 in color blue\n",
      "Saving image to /home/michael/data/gmodetector_out//Euc_C4M_GRF/9_wk/C4M1_I5.0_F1.9_L100LED30_093058_0_0_0_Fluorescence.png\n",
      "Saving image metadata to /home/michael/data/gmodetector_out//Euc_C4M_GRF/9_wk/C4M1_I5.0_F1.9_L100LED30_093058_0_0_0_Fluorescence.csv\n",
      "\n",
      "Finished running sample /media/michael/Elements_GRF//Euc_C4M_GRF/9_wk//C4M1_I5.0_F1.9_L100LED30_093058_0_0_0_Fluorescence.hdr in 21.50925910100341s\n",
      "\n",
      "Running GMOdetector version 0.0.875\n",
      "load mode isload_full_then_crop\n",
      "Saving to /home/michael/data/gmodetector_out//Euc_C4M_GRF/9_wk/C4M1_I5.0_F1.9_L100LED30_093140_1_0_1_Fluorescence_weights.hdf with key of weights\n",
      "Saving summary stats w/ threshold38.0 to /home/michael/data/gmodetector_out//Euc_C4M_GRF/9_wk/C4M1_I5.0_F1.9_L100LED30_093140_1_0_1_Fluorescence_summary.csv\n",
      "Producing image channel for DsRed with cap 400 in color green\n",
      "Producing image channel for Chl with cap 200 in color red\n",
      "Producing image channel for Diffraction with cap 200 in color blue\n",
      "Saving image to /home/michael/data/gmodetector_out//Euc_C4M_GRF/9_wk/C4M1_I5.0_F1.9_L100LED30_093140_1_0_1_Fluorescence.png\n",
      "Saving image metadata to /home/michael/data/gmodetector_out//Euc_C4M_GRF/9_wk/C4M1_I5.0_F1.9_L100LED30_093140_1_0_1_Fluorescence.csv\n",
      "\n",
      "Finished running sample /media/michael/Elements_GRF//Euc_C4M_GRF/9_wk//C4M1_I5.0_F1.9_L100LED30_093140_1_0_1_Fluorescence.hdr in 20.54551640606951s\n",
      "\n",
      "Running GMOdetector version 0.0.875\n",
      "load mode isload_full_then_crop\n",
      "Saving to /home/michael/data/gmodetector_out//Euc_C4M_GRF/9_wk/C4M1_I5.0_F1.9_L100LED30_093237_2_0_2_Fluorescence_weights.hdf with key of weights\n",
      "Saving summary stats w/ threshold38.0 to /home/michael/data/gmodetector_out//Euc_C4M_GRF/9_wk/C4M1_I5.0_F1.9_L100LED30_093237_2_0_2_Fluorescence_summary.csv\n",
      "Producing image channel for DsRed with cap 400 in color green\n",
      "Producing image channel for Chl with cap 200 in color red\n",
      "Producing image channel for Diffraction with cap 200 in color blue\n",
      "Saving image to /home/michael/data/gmodetector_out//Euc_C4M_GRF/9_wk/C4M1_I5.0_F1.9_L100LED30_093237_2_0_2_Fluorescence.png\n",
      "Saving image metadata to /home/michael/data/gmodetector_out//Euc_C4M_GRF/9_wk/C4M1_I5.0_F1.9_L100LED30_093237_2_0_2_Fluorescence.csv\n",
      "\n",
      "Finished running sample /media/michael/Elements_GRF//Euc_C4M_GRF/9_wk//C4M1_I5.0_F1.9_L100LED30_093237_2_0_2_Fluorescence.hdr in 19.983218793058768s\n",
      "\n",
      "Running GMOdetector version 0.0.875\n",
      "load mode isload_full_then_crop\n",
      "Saving to /home/michael/data/gmodetector_out//Euc_C4M_GRF/9_wk/C4M1_I5.0_F1.9_L100LED30_093334_3_0_3_Fluorescence_weights.hdf with key of weights\n",
      "Saving summary stats w/ threshold38.0 to /home/michael/data/gmodetector_out//Euc_C4M_GRF/9_wk/C4M1_I5.0_F1.9_L100LED30_093334_3_0_3_Fluorescence_summary.csv\n",
      "Producing image channel for DsRed with cap 400 in color green\n",
      "Producing image channel for Chl with cap 200 in color red\n",
      "Producing image channel for Diffraction with cap 200 in color blue\n",
      "Saving image to /home/michael/data/gmodetector_out//Euc_C4M_GRF/9_wk/C4M1_I5.0_F1.9_L100LED30_093334_3_0_3_Fluorescence.png\n",
      "Saving image metadata to /home/michael/data/gmodetector_out//Euc_C4M_GRF/9_wk/C4M1_I5.0_F1.9_L100LED30_093334_3_0_3_Fluorescence.csv\n",
      "\n",
      "Finished running sample /media/michael/Elements_GRF//Euc_C4M_GRF/9_wk//C4M1_I5.0_F1.9_L100LED30_093334_3_0_3_Fluorescence.hdr in 20.208526863949373s\n",
      "\n",
      "Running GMOdetector version 0.0.875\n",
      "load mode isload_full_then_crop\n",
      "Saving to /home/michael/data/gmodetector_out//Euc_C4M_GRF/9_wk/C4M1_I5.0_F1.9_L100LED30_093430_4_0_4_Fluorescence_weights.hdf with key of weights\n",
      "Saving summary stats w/ threshold38.0 to /home/michael/data/gmodetector_out//Euc_C4M_GRF/9_wk/C4M1_I5.0_F1.9_L100LED30_093430_4_0_4_Fluorescence_summary.csv\n",
      "Producing image channel for DsRed with cap 400 in color green\n",
      "Producing image channel for Chl with cap 200 in color red\n",
      "Producing image channel for Diffraction with cap 200 in color blue\n",
      "Saving image to /home/michael/data/gmodetector_out//Euc_C4M_GRF/9_wk/C4M1_I5.0_F1.9_L100LED30_093430_4_0_4_Fluorescence.png\n",
      "Saving image metadata to /home/michael/data/gmodetector_out//Euc_C4M_GRF/9_wk/C4M1_I5.0_F1.9_L100LED30_093430_4_0_4_Fluorescence.csv\n",
      "\n",
      "Finished running sample /media/michael/Elements_GRF//Euc_C4M_GRF/9_wk//C4M1_I5.0_F1.9_L100LED30_093430_4_0_4_Fluorescence.hdr in 20.131884991074912s\n",
      "\n",
      "Running GMOdetector version 0.0.875\n",
      "load mode isload_full_then_crop\n",
      "Saving to /home/michael/data/gmodetector_out//Euc_C4M_GRF/9_wk/C4M1_I5.0_F1.9_L100LED30_093526_5_0_5_Fluorescence_weights.hdf with key of weights\n",
      "Saving summary stats w/ threshold38.0 to /home/michael/data/gmodetector_out//Euc_C4M_GRF/9_wk/C4M1_I5.0_F1.9_L100LED30_093526_5_0_5_Fluorescence_summary.csv\n",
      "Producing image channel for DsRed with cap 400 in color green\n",
      "Producing image channel for Chl with cap 200 in color red\n",
      "Producing image channel for Diffraction with cap 200 in color blue\n",
      "Saving image to /home/michael/data/gmodetector_out//Euc_C4M_GRF/9_wk/C4M1_I5.0_F1.9_L100LED30_093526_5_0_5_Fluorescence.png\n",
      "Saving image metadata to /home/michael/data/gmodetector_out//Euc_C4M_GRF/9_wk/C4M1_I5.0_F1.9_L100LED30_093526_5_0_5_Fluorescence.csv\n",
      "\n",
      "Finished running sample /media/michael/Elements_GRF//Euc_C4M_GRF/9_wk//C4M1_I5.0_F1.9_L100LED30_093526_5_0_5_Fluorescence.hdr in 20.367922545061447s\n",
      "\n",
      "Running GMOdetector version 0.0.875\n",
      "load mode isload_full_then_crop\n",
      "Saving to /home/michael/data/gmodetector_out//Euc_C4M_GRF/9_wk/C4M1_I5.0_F1.9_L100LED30_093623_6_0_6_Fluorescence_weights.hdf with key of weights\n",
      "Saving summary stats w/ threshold38.0 to /home/michael/data/gmodetector_out//Euc_C4M_GRF/9_wk/C4M1_I5.0_F1.9_L100LED30_093623_6_0_6_Fluorescence_summary.csv\n",
      "Producing image channel for DsRed with cap 400 in color green\n",
      "Producing image channel for Chl with cap 200 in color red\n",
      "Producing image channel for Diffraction with cap 200 in color blue\n",
      "Saving image to /home/michael/data/gmodetector_out//Euc_C4M_GRF/9_wk/C4M1_I5.0_F1.9_L100LED30_093623_6_0_6_Fluorescence.png\n",
      "Saving image metadata to /home/michael/data/gmodetector_out//Euc_C4M_GRF/9_wk/C4M1_I5.0_F1.9_L100LED30_093623_6_0_6_Fluorescence.csv\n",
      "\n",
      "Finished running sample /media/michael/Elements_GRF//Euc_C4M_GRF/9_wk//C4M1_I5.0_F1.9_L100LED30_093623_6_0_6_Fluorescence.hdr in 20.46893385401927s\n",
      "\n",
      "Running GMOdetector version 0.0.875\n",
      "load mode isload_full_then_crop\n",
      "Saving to /home/michael/data/gmodetector_out//Euc_C4M_GRF/9_wk/C4M1_I5.0_F1.9_L100LED30_093720_7_1_6_Fluorescence_weights.hdf with key of weights\n",
      "Saving summary stats w/ threshold38.0 to /home/michael/data/gmodetector_out//Euc_C4M_GRF/9_wk/C4M1_I5.0_F1.9_L100LED30_093720_7_1_6_Fluorescence_summary.csv\n",
      "Producing image channel for DsRed with cap 400 in color green\n",
      "Producing image channel for Chl with cap 200 in color red\n",
      "Producing image channel for Diffraction with cap 200 in color blue\n",
      "Saving image to /home/michael/data/gmodetector_out//Euc_C4M_GRF/9_wk/C4M1_I5.0_F1.9_L100LED30_093720_7_1_6_Fluorescence.png\n",
      "Saving image metadata to /home/michael/data/gmodetector_out//Euc_C4M_GRF/9_wk/C4M1_I5.0_F1.9_L100LED30_093720_7_1_6_Fluorescence.csv\n",
      "\n",
      "Finished running sample /media/michael/Elements_GRF//Euc_C4M_GRF/9_wk//C4M1_I5.0_F1.9_L100LED30_093720_7_1_6_Fluorescence.hdr in 20.20432568609249s\n",
      "\n",
      "Running GMOdetector version 0.0.875\n",
      "load mode isload_full_then_crop\n",
      "Saving to /home/michael/data/gmodetector_out//Euc_C4M_GRF/9_wk/C4M1_I5.0_F1.9_L100LED30_093807_8_1_5_Fluorescence_weights.hdf with key of weights\n",
      "Saving summary stats w/ threshold38.0 to /home/michael/data/gmodetector_out//Euc_C4M_GRF/9_wk/C4M1_I5.0_F1.9_L100LED30_093807_8_1_5_Fluorescence_summary.csv\n",
      "Producing image channel for DsRed with cap 400 in color green\n",
      "Producing image channel for Chl with cap 200 in color red\n",
      "Producing image channel for Diffraction with cap 200 in color blue\n",
      "Saving image to /home/michael/data/gmodetector_out//Euc_C4M_GRF/9_wk/C4M1_I5.0_F1.9_L100LED30_093807_8_1_5_Fluorescence.png\n",
      "Saving image metadata to /home/michael/data/gmodetector_out//Euc_C4M_GRF/9_wk/C4M1_I5.0_F1.9_L100LED30_093807_8_1_5_Fluorescence.csv\n",
      "\n",
      "Finished running sample /media/michael/Elements_GRF//Euc_C4M_GRF/9_wk//C4M1_I5.0_F1.9_L100LED30_093807_8_1_5_Fluorescence.hdr in 20.171158130047843s\n",
      "\n",
      "Running GMOdetector version 0.0.875\n",
      "load mode isload_full_then_crop\n",
      "Saving to /home/michael/data/gmodetector_out//Euc_C4M_GRF/9_wk/C4M1_I5.0_F1.9_L100LED30_093903_9_1_4_Fluorescence_weights.hdf with key of weights\n",
      "Saving summary stats w/ threshold38.0 to /home/michael/data/gmodetector_out//Euc_C4M_GRF/9_wk/C4M1_I5.0_F1.9_L100LED30_093903_9_1_4_Fluorescence_summary.csv\n",
      "Producing image channel for DsRed with cap 400 in color green\n",
      "Producing image channel for Chl with cap 200 in color red\n",
      "Producing image channel for Diffraction with cap 200 in color blue\n",
      "Saving image to /home/michael/data/gmodetector_out//Euc_C4M_GRF/9_wk/C4M1_I5.0_F1.9_L100LED30_093903_9_1_4_Fluorescence.png\n",
      "Saving image metadata to /home/michael/data/gmodetector_out//Euc_C4M_GRF/9_wk/C4M1_I5.0_F1.9_L100LED30_093903_9_1_4_Fluorescence.csv\n",
      "\n",
      "Finished running sample /media/michael/Elements_GRF//Euc_C4M_GRF/9_wk//C4M1_I5.0_F1.9_L100LED30_093903_9_1_4_Fluorescence.hdr in 20.364761262084357s\n",
      "\n",
      "Running GMOdetector version 0.0.875\n",
      "load mode isload_full_then_crop\n",
      "Saving to /home/michael/data/gmodetector_out//Euc_C4M_GRF/9_wk/C4M1_I5.0_F1.9_L100LED30_094000_10_1_3_Fluorescence_weights.hdf with key of weights\n",
      "Saving summary stats w/ threshold38.0 to /home/michael/data/gmodetector_out//Euc_C4M_GRF/9_wk/C4M1_I5.0_F1.9_L100LED30_094000_10_1_3_Fluorescence_summary.csv\n",
      "Producing image channel for DsRed with cap 400 in color green\n",
      "Producing image channel for Chl with cap 200 in color red\n",
      "Producing image channel for Diffraction with cap 200 in color blue\n",
      "Saving image to /home/michael/data/gmodetector_out//Euc_C4M_GRF/9_wk/C4M1_I5.0_F1.9_L100LED30_094000_10_1_3_Fluorescence.png\n",
      "Saving image metadata to /home/michael/data/gmodetector_out//Euc_C4M_GRF/9_wk/C4M1_I5.0_F1.9_L100LED30_094000_10_1_3_Fluorescence.csv\n",
      "\n",
      "Finished running sample /media/michael/Elements_GRF//Euc_C4M_GRF/9_wk//C4M1_I5.0_F1.9_L100LED30_094000_10_1_3_Fluorescence.hdr in 20.113252266077325s\n",
      "\n",
      "Running GMOdetector version 0.0.875\n",
      "load mode isload_full_then_crop\n",
      "Saving to /home/michael/data/gmodetector_out//Euc_C4M_GRF/9_wk/C4M1_I5.0_F1.9_L100LED30_094056_11_1_2_Fluorescence_weights.hdf with key of weights\n",
      "Saving summary stats w/ threshold38.0 to /home/michael/data/gmodetector_out//Euc_C4M_GRF/9_wk/C4M1_I5.0_F1.9_L100LED30_094056_11_1_2_Fluorescence_summary.csv\n",
      "Producing image channel for DsRed with cap 400 in color green\n",
      "Producing image channel for Chl with cap 200 in color red\n",
      "Producing image channel for Diffraction with cap 200 in color blue\n",
      "Saving image to /home/michael/data/gmodetector_out//Euc_C4M_GRF/9_wk/C4M1_I5.0_F1.9_L100LED30_094056_11_1_2_Fluorescence.png\n",
      "Saving image metadata to /home/michael/data/gmodetector_out//Euc_C4M_GRF/9_wk/C4M1_I5.0_F1.9_L100LED30_094056_11_1_2_Fluorescence.csv\n",
      "\n",
      "Finished running sample /media/michael/Elements_GRF//Euc_C4M_GRF/9_wk//C4M1_I5.0_F1.9_L100LED30_094056_11_1_2_Fluorescence.hdr in 19.897864678991027s\n",
      "\n",
      "Running GMOdetector version 0.0.875\n",
      "load mode isload_full_then_crop\n",
      "Saving to /home/michael/data/gmodetector_out//Euc_C4M_GRF/9_wk/C4M1_I5.0_F1.9_L100LED30_094153_12_1_1_Fluorescence_weights.hdf with key of weights\n",
      "Saving summary stats w/ threshold38.0 to /home/michael/data/gmodetector_out//Euc_C4M_GRF/9_wk/C4M1_I5.0_F1.9_L100LED30_094153_12_1_1_Fluorescence_summary.csv\n",
      "Producing image channel for DsRed with cap 400 in color green\n",
      "Producing image channel for Chl with cap 200 in color red\n",
      "Producing image channel for Diffraction with cap 200 in color blue\n",
      "Saving image to /home/michael/data/gmodetector_out//Euc_C4M_GRF/9_wk/C4M1_I5.0_F1.9_L100LED30_094153_12_1_1_Fluorescence.png\n",
      "Saving image metadata to /home/michael/data/gmodetector_out//Euc_C4M_GRF/9_wk/C4M1_I5.0_F1.9_L100LED30_094153_12_1_1_Fluorescence.csv\n",
      "\n",
      "Finished running sample /media/michael/Elements_GRF//Euc_C4M_GRF/9_wk//C4M1_I5.0_F1.9_L100LED30_094153_12_1_1_Fluorescence.hdr in 19.62444048607722s\n",
      "\n",
      "Running GMOdetector version 0.0.875\n",
      "load mode isload_full_then_crop\n",
      "Saving to /home/michael/data/gmodetector_out//Euc_C4M_GRF/9_wk/C4M1_I5.0_F1.9_L100LED30_094249_13_1_0_Fluorescence_weights.hdf with key of weights\n",
      "Saving summary stats w/ threshold38.0 to /home/michael/data/gmodetector_out//Euc_C4M_GRF/9_wk/C4M1_I5.0_F1.9_L100LED30_094249_13_1_0_Fluorescence_summary.csv\n",
      "Producing image channel for DsRed with cap 400 in color green\n",
      "Producing image channel for Chl with cap 200 in color red\n",
      "Producing image channel for Diffraction with cap 200 in color blue\n",
      "Saving image to /home/michael/data/gmodetector_out//Euc_C4M_GRF/9_wk/C4M1_I5.0_F1.9_L100LED30_094249_13_1_0_Fluorescence.png\n",
      "Saving image metadata to /home/michael/data/gmodetector_out//Euc_C4M_GRF/9_wk/C4M1_I5.0_F1.9_L100LED30_094249_13_1_0_Fluorescence.csv\n",
      "\n",
      "Finished running sample /media/michael/Elements_GRF//Euc_C4M_GRF/9_wk//C4M1_I5.0_F1.9_L100LED30_094249_13_1_0_Fluorescence.hdr in 19.638316104072146s\n",
      "\n",
      "Running GMOdetector version 0.0.875\n",
      "load mode isload_full_then_crop\n",
      "Saving to /home/michael/data/gmodetector_out//Euc_C4M_GRF/9_wk/C4M1_I5.0_F1.9_L100LED30_094346_14_2_0_Fluorescence_weights.hdf with key of weights\n",
      "Saving summary stats w/ threshold38.0 to /home/michael/data/gmodetector_out//Euc_C4M_GRF/9_wk/C4M1_I5.0_F1.9_L100LED30_094346_14_2_0_Fluorescence_summary.csv\n",
      "Producing image channel for DsRed with cap 400 in color green\n",
      "Producing image channel for Chl with cap 200 in color red\n",
      "Producing image channel for Diffraction with cap 200 in color blue\n",
      "Saving image to /home/michael/data/gmodetector_out//Euc_C4M_GRF/9_wk/C4M1_I5.0_F1.9_L100LED30_094346_14_2_0_Fluorescence.png\n",
      "Saving image metadata to /home/michael/data/gmodetector_out//Euc_C4M_GRF/9_wk/C4M1_I5.0_F1.9_L100LED30_094346_14_2_0_Fluorescence.csv\n",
      "\n",
      "Finished running sample /media/michael/Elements_GRF//Euc_C4M_GRF/9_wk//C4M1_I5.0_F1.9_L100LED30_094346_14_2_0_Fluorescence.hdr in 20.12375427596271s\n",
      "\n",
      "Running GMOdetector version 0.0.875\n",
      "load mode isload_full_then_crop\n",
      "Saving to /home/michael/data/gmodetector_out//Euc_C4M_GRF/9_wk/C4M1_I5.0_F1.9_L100LED30_094433_15_2_1_Fluorescence_weights.hdf with key of weights\n",
      "Saving summary stats w/ threshold38.0 to /home/michael/data/gmodetector_out//Euc_C4M_GRF/9_wk/C4M1_I5.0_F1.9_L100LED30_094433_15_2_1_Fluorescence_summary.csv\n",
      "Producing image channel for DsRed with cap 400 in color green\n",
      "Producing image channel for Chl with cap 200 in color red\n",
      "Producing image channel for Diffraction with cap 200 in color blue\n",
      "Saving image to /home/michael/data/gmodetector_out//Euc_C4M_GRF/9_wk/C4M1_I5.0_F1.9_L100LED30_094433_15_2_1_Fluorescence.png\n",
      "Saving image metadata to /home/michael/data/gmodetector_out//Euc_C4M_GRF/9_wk/C4M1_I5.0_F1.9_L100LED30_094433_15_2_1_Fluorescence.csv\n",
      "\n",
      "Finished running sample /media/michael/Elements_GRF//Euc_C4M_GRF/9_wk//C4M1_I5.0_F1.9_L100LED30_094433_15_2_1_Fluorescence.hdr in 20.249134436948225s\n",
      "\n",
      "Running GMOdetector version 0.0.875\n",
      "load mode isload_full_then_crop\n",
      "Saving to /home/michael/data/gmodetector_out//Euc_C4M_GRF/9_wk/C4M1_I5.0_F1.9_L100LED30_094530_16_2_2_Fluorescence_weights.hdf with key of weights\n",
      "Saving summary stats w/ threshold38.0 to /home/michael/data/gmodetector_out//Euc_C4M_GRF/9_wk/C4M1_I5.0_F1.9_L100LED30_094530_16_2_2_Fluorescence_summary.csv\n",
      "Producing image channel for DsRed with cap 400 in color green\n",
      "Producing image channel for Chl with cap 200 in color red\n",
      "Producing image channel for Diffraction with cap 200 in color blue\n",
      "Saving image to /home/michael/data/gmodetector_out//Euc_C4M_GRF/9_wk/C4M1_I5.0_F1.9_L100LED30_094530_16_2_2_Fluorescence.png\n",
      "Saving image metadata to /home/michael/data/gmodetector_out//Euc_C4M_GRF/9_wk/C4M1_I5.0_F1.9_L100LED30_094530_16_2_2_Fluorescence.csv\n",
      "\n",
      "Finished running sample /media/michael/Elements_GRF//Euc_C4M_GRF/9_wk//C4M1_I5.0_F1.9_L100LED30_094530_16_2_2_Fluorescence.hdr in 20.007005652063526s\n",
      "\n",
      "Running GMOdetector version 0.0.875\n",
      "load mode isload_full_then_crop\n",
      "Saving to /home/michael/data/gmodetector_out//Euc_C4M_GRF/9_wk/C4M1_I5.0_F1.9_L100LED30_094626_17_2_3_Fluorescence_weights.hdf with key of weights\n",
      "Saving summary stats w/ threshold38.0 to /home/michael/data/gmodetector_out//Euc_C4M_GRF/9_wk/C4M1_I5.0_F1.9_L100LED30_094626_17_2_3_Fluorescence_summary.csv\n",
      "Producing image channel for DsRed with cap 400 in color green\n",
      "Producing image channel for Chl with cap 200 in color red\n",
      "Producing image channel for Diffraction with cap 200 in color blue\n",
      "Saving image to /home/michael/data/gmodetector_out//Euc_C4M_GRF/9_wk/C4M1_I5.0_F1.9_L100LED30_094626_17_2_3_Fluorescence.png\n",
      "Saving image metadata to /home/michael/data/gmodetector_out//Euc_C4M_GRF/9_wk/C4M1_I5.0_F1.9_L100LED30_094626_17_2_3_Fluorescence.csv\n",
      "\n",
      "Finished running sample /media/michael/Elements_GRF//Euc_C4M_GRF/9_wk//C4M1_I5.0_F1.9_L100LED30_094626_17_2_3_Fluorescence.hdr in 19.574697733973153s\n",
      "\n",
      "Running GMOdetector version 0.0.875\n",
      "load mode isload_full_then_crop\n",
      "Saving to /home/michael/data/gmodetector_out//Euc_C4M_GRF/9_wk/C4M1_I5.0_F1.9_L100LED30_094723_18_2_4_Fluorescence_weights.hdf with key of weights\n",
      "Saving summary stats w/ threshold38.0 to /home/michael/data/gmodetector_out//Euc_C4M_GRF/9_wk/C4M1_I5.0_F1.9_L100LED30_094723_18_2_4_Fluorescence_summary.csv\n",
      "Producing image channel for DsRed with cap 400 in color green\n",
      "Producing image channel for Chl with cap 200 in color red\n",
      "Producing image channel for Diffraction with cap 200 in color blue\n",
      "Saving image to /home/michael/data/gmodetector_out//Euc_C4M_GRF/9_wk/C4M1_I5.0_F1.9_L100LED30_094723_18_2_4_Fluorescence.png\n",
      "Saving image metadata to /home/michael/data/gmodetector_out//Euc_C4M_GRF/9_wk/C4M1_I5.0_F1.9_L100LED30_094723_18_2_4_Fluorescence.csv\n",
      "\n",
      "Finished running sample /media/michael/Elements_GRF//Euc_C4M_GRF/9_wk//C4M1_I5.0_F1.9_L100LED30_094723_18_2_4_Fluorescence.hdr in 19.560172492987476s\n",
      "\n",
      "Running GMOdetector version 0.0.875\n",
      "load mode isload_full_then_crop\n",
      "Saving to /home/michael/data/gmodetector_out//Euc_C4M_GRF/9_wk/C4M1_I5.0_F1.9_L100LED30_094819_19_2_5_Fluorescence_weights.hdf with key of weights\n",
      "Saving summary stats w/ threshold38.0 to /home/michael/data/gmodetector_out//Euc_C4M_GRF/9_wk/C4M1_I5.0_F1.9_L100LED30_094819_19_2_5_Fluorescence_summary.csv\n",
      "Producing image channel for DsRed with cap 400 in color green\n",
      "Producing image channel for Chl with cap 200 in color red\n",
      "Producing image channel for Diffraction with cap 200 in color blue\n",
      "Saving image to /home/michael/data/gmodetector_out//Euc_C4M_GRF/9_wk/C4M1_I5.0_F1.9_L100LED30_094819_19_2_5_Fluorescence.png\n",
      "Saving image metadata to /home/michael/data/gmodetector_out//Euc_C4M_GRF/9_wk/C4M1_I5.0_F1.9_L100LED30_094819_19_2_5_Fluorescence.csv\n",
      "\n",
      "Finished running sample /media/michael/Elements_GRF//Euc_C4M_GRF/9_wk//C4M1_I5.0_F1.9_L100LED30_094819_19_2_5_Fluorescence.hdr in 20.075075740925968s\n",
      "\n",
      "Running GMOdetector version 0.0.875\n",
      "load mode isload_full_then_crop\n",
      "Saving to /home/michael/data/gmodetector_out//Euc_C4M_GRF/9_wk/C4M1_I5.0_F1.9_L100LED30_094916_20_2_6_Fluorescence_weights.hdf with key of weights\n",
      "Saving summary stats w/ threshold38.0 to /home/michael/data/gmodetector_out//Euc_C4M_GRF/9_wk/C4M1_I5.0_F1.9_L100LED30_094916_20_2_6_Fluorescence_summary.csv\n",
      "Producing image channel for DsRed with cap 400 in color green\n",
      "Producing image channel for Chl with cap 200 in color red\n",
      "Producing image channel for Diffraction with cap 200 in color blue\n",
      "Saving image to /home/michael/data/gmodetector_out//Euc_C4M_GRF/9_wk/C4M1_I5.0_F1.9_L100LED30_094916_20_2_6_Fluorescence.png\n",
      "Saving image metadata to /home/michael/data/gmodetector_out//Euc_C4M_GRF/9_wk/C4M1_I5.0_F1.9_L100LED30_094916_20_2_6_Fluorescence.csv\n",
      "\n",
      "Finished running sample /media/michael/Elements_GRF//Euc_C4M_GRF/9_wk//C4M1_I5.0_F1.9_L100LED30_094916_20_2_6_Fluorescence.hdr in 19.761230392963625s\n",
      "\n",
      "Running GMOdetector version 0.0.875\n",
      "load mode isload_full_then_crop\n",
      "Saving to /home/michael/data/gmodetector_out//Euc_C4M_GRF/9_wk/C4M1_I5.0_F1.9_L100LED30_095613_0_0_0_Fluorescence_weights.hdf with key of weights\n",
      "Saving summary stats w/ threshold38.0 to /home/michael/data/gmodetector_out//Euc_C4M_GRF/9_wk/C4M1_I5.0_F1.9_L100LED30_095613_0_0_0_Fluorescence_summary.csv\n",
      "Producing image channel for DsRed with cap 400 in color green\n",
      "Producing image channel for Chl with cap 200 in color red\n",
      "Producing image channel for Diffraction with cap 200 in color blue\n",
      "Saving image to /home/michael/data/gmodetector_out//Euc_C4M_GRF/9_wk/C4M1_I5.0_F1.9_L100LED30_095613_0_0_0_Fluorescence.png\n",
      "Saving image metadata to /home/michael/data/gmodetector_out//Euc_C4M_GRF/9_wk/C4M1_I5.0_F1.9_L100LED30_095613_0_0_0_Fluorescence.csv\n",
      "\n",
      "Finished running sample /media/michael/Elements_GRF//Euc_C4M_GRF/9_wk//C4M1_I5.0_F1.9_L100LED30_095613_0_0_0_Fluorescence.hdr in 20.04890721605625s\n",
      "\n",
      "Running GMOdetector version 0.0.875\n",
      "load mode isload_full_then_crop\n",
      "Saving to /home/michael/data/gmodetector_out//Euc_C4M_GRF/9_wk/C4M1_I5.0_F1.9_L100LED30_095655_1_0_2_Fluorescence_weights.hdf with key of weights\n",
      "Saving summary stats w/ threshold38.0 to /home/michael/data/gmodetector_out//Euc_C4M_GRF/9_wk/C4M1_I5.0_F1.9_L100LED30_095655_1_0_2_Fluorescence_summary.csv\n",
      "Producing image channel for DsRed with cap 400 in color green\n",
      "Producing image channel for Chl with cap 200 in color red\n",
      "Producing image channel for Diffraction with cap 200 in color blue\n",
      "Saving image to /home/michael/data/gmodetector_out//Euc_C4M_GRF/9_wk/C4M1_I5.0_F1.9_L100LED30_095655_1_0_2_Fluorescence.png\n",
      "Saving image metadata to /home/michael/data/gmodetector_out//Euc_C4M_GRF/9_wk/C4M1_I5.0_F1.9_L100LED30_095655_1_0_2_Fluorescence.csv\n",
      "\n",
      "Finished running sample /media/michael/Elements_GRF//Euc_C4M_GRF/9_wk//C4M1_I5.0_F1.9_L100LED30_095655_1_0_2_Fluorescence.hdr in 20.352613821974955s\n",
      "\n",
      "Running GMOdetector version 0.0.875\n",
      "load mode isload_full_then_crop\n",
      "Saving to /home/michael/data/gmodetector_out//Euc_C4M_GRF/9_wk/C4M1_I5.0_F1.9_L100LED30_095754_2_0_5_Fluorescence_weights.hdf with key of weights\n",
      "Saving summary stats w/ threshold38.0 to /home/michael/data/gmodetector_out//Euc_C4M_GRF/9_wk/C4M1_I5.0_F1.9_L100LED30_095754_2_0_5_Fluorescence_summary.csv\n",
      "Producing image channel for DsRed with cap 400 in color green\n",
      "Producing image channel for Chl with cap 200 in color red\n",
      "Producing image channel for Diffraction with cap 200 in color blue\n",
      "Saving image to /home/michael/data/gmodetector_out//Euc_C4M_GRF/9_wk/C4M1_I5.0_F1.9_L100LED30_095754_2_0_5_Fluorescence.png\n",
      "Saving image metadata to /home/michael/data/gmodetector_out//Euc_C4M_GRF/9_wk/C4M1_I5.0_F1.9_L100LED30_095754_2_0_5_Fluorescence.csv\n",
      "\n",
      "Finished running sample /media/michael/Elements_GRF//Euc_C4M_GRF/9_wk//C4M1_I5.0_F1.9_L100LED30_095754_2_0_5_Fluorescence.hdr in 19.569838074967265s\n",
      "\n",
      "Running GMOdetector version 0.0.875\n",
      "load mode isload_full_then_crop\n",
      "Saving to /home/michael/data/gmodetector_out//Euc_C4M_GRF/9_wk/C4M1_I5.0_F1.9_L100LED30_095903_3_0_6_Fluorescence_weights.hdf with key of weights\n",
      "Saving summary stats w/ threshold38.0 to /home/michael/data/gmodetector_out//Euc_C4M_GRF/9_wk/C4M1_I5.0_F1.9_L100LED30_095903_3_0_6_Fluorescence_summary.csv\n",
      "Producing image channel for DsRed with cap 400 in color green\n",
      "Producing image channel for Chl with cap 200 in color red\n",
      "Producing image channel for Diffraction with cap 200 in color blue\n",
      "Saving image to /home/michael/data/gmodetector_out//Euc_C4M_GRF/9_wk/C4M1_I5.0_F1.9_L100LED30_095903_3_0_6_Fluorescence.png\n",
      "Saving image metadata to /home/michael/data/gmodetector_out//Euc_C4M_GRF/9_wk/C4M1_I5.0_F1.9_L100LED30_095903_3_0_6_Fluorescence.csv\n",
      "\n",
      "Finished running sample /media/michael/Elements_GRF//Euc_C4M_GRF/9_wk//C4M1_I5.0_F1.9_L100LED30_095903_3_0_6_Fluorescence.hdr in 20.562797516933642s\n",
      "\n",
      "Running GMOdetector version 0.0.875\n",
      "load mode isload_full_then_crop\n",
      "Saving to /home/michael/data/gmodetector_out//Euc_C4M_GRF/9_wk/C4M1_I5.0_F1.9_L100LED30_095959_4_1_6_Fluorescence_weights.hdf with key of weights\n",
      "Saving summary stats w/ threshold38.0 to /home/michael/data/gmodetector_out//Euc_C4M_GRF/9_wk/C4M1_I5.0_F1.9_L100LED30_095959_4_1_6_Fluorescence_summary.csv\n",
      "Producing image channel for DsRed with cap 400 in color green\n",
      "Producing image channel for Chl with cap 200 in color red\n",
      "Producing image channel for Diffraction with cap 200 in color blue\n",
      "Saving image to /home/michael/data/gmodetector_out//Euc_C4M_GRF/9_wk/C4M1_I5.0_F1.9_L100LED30_095959_4_1_6_Fluorescence.png\n",
      "Saving image metadata to /home/michael/data/gmodetector_out//Euc_C4M_GRF/9_wk/C4M1_I5.0_F1.9_L100LED30_095959_4_1_6_Fluorescence.csv\n",
      "\n",
      "Finished running sample /media/michael/Elements_GRF//Euc_C4M_GRF/9_wk//C4M1_I5.0_F1.9_L100LED30_095959_4_1_6_Fluorescence.hdr in 20.01538014097605s\n",
      "\n",
      "Running GMOdetector version 0.0.875\n",
      "load mode isload_full_then_crop\n",
      "Saving to /home/michael/data/gmodetector_out//Euc_C4M_GRF/9_wk/C4M1_I5.0_F1.9_L100LED30_100046_5_1_3_Fluorescence_weights.hdf with key of weights\n",
      "Saving summary stats w/ threshold38.0 to /home/michael/data/gmodetector_out//Euc_C4M_GRF/9_wk/C4M1_I5.0_F1.9_L100LED30_100046_5_1_3_Fluorescence_summary.csv\n",
      "Producing image channel for DsRed with cap 400 in color green\n",
      "Producing image channel for Chl with cap 200 in color red\n",
      "Producing image channel for Diffraction with cap 200 in color blue\n",
      "Saving image to /home/michael/data/gmodetector_out//Euc_C4M_GRF/9_wk/C4M1_I5.0_F1.9_L100LED30_100046_5_1_3_Fluorescence.png\n",
      "Saving image metadata to /home/michael/data/gmodetector_out//Euc_C4M_GRF/9_wk/C4M1_I5.0_F1.9_L100LED30_100046_5_1_3_Fluorescence.csv\n",
      "\n",
      "Finished running sample /media/michael/Elements_GRF//Euc_C4M_GRF/9_wk//C4M1_I5.0_F1.9_L100LED30_100046_5_1_3_Fluorescence.hdr in 20.038610389921814s\n",
      "\n",
      "Running GMOdetector version 0.0.875\n",
      "load mode isload_full_then_crop\n",
      "Saving to /home/michael/data/gmodetector_out//Euc_C4M_GRF/9_wk/C4M1_I5.0_F1.9_L100LED30_100154_6_1_2_Fluorescence_weights.hdf with key of weights\n",
      "Saving summary stats w/ threshold38.0 to /home/michael/data/gmodetector_out//Euc_C4M_GRF/9_wk/C4M1_I5.0_F1.9_L100LED30_100154_6_1_2_Fluorescence_summary.csv\n",
      "Producing image channel for DsRed with cap 400 in color green\n",
      "Producing image channel for Chl with cap 200 in color red\n",
      "Producing image channel for Diffraction with cap 200 in color blue\n",
      "Saving image to /home/michael/data/gmodetector_out//Euc_C4M_GRF/9_wk/C4M1_I5.0_F1.9_L100LED30_100154_6_1_2_Fluorescence.png\n",
      "Saving image metadata to /home/michael/data/gmodetector_out//Euc_C4M_GRF/9_wk/C4M1_I5.0_F1.9_L100LED30_100154_6_1_2_Fluorescence.csv\n",
      "\n",
      "Finished running sample /media/michael/Elements_GRF//Euc_C4M_GRF/9_wk//C4M1_I5.0_F1.9_L100LED30_100154_6_1_2_Fluorescence.hdr in 20.14827848097775s\n",
      "\n",
      "Running GMOdetector version 0.0.875\n",
      "load mode isload_full_then_crop\n",
      "Saving to /home/michael/data/gmodetector_out//Euc_C4M_GRF/9_wk/C4M1_I5.0_F1.9_L100LED30_100251_7_1_1_Fluorescence_weights.hdf with key of weights\n",
      "Saving summary stats w/ threshold38.0 to /home/michael/data/gmodetector_out//Euc_C4M_GRF/9_wk/C4M1_I5.0_F1.9_L100LED30_100251_7_1_1_Fluorescence_summary.csv\n",
      "Producing image channel for DsRed with cap 400 in color green\n",
      "Producing image channel for Chl with cap 200 in color red\n",
      "Producing image channel for Diffraction with cap 200 in color blue\n",
      "Saving image to /home/michael/data/gmodetector_out//Euc_C4M_GRF/9_wk/C4M1_I5.0_F1.9_L100LED30_100251_7_1_1_Fluorescence.png\n",
      "Saving image metadata to /home/michael/data/gmodetector_out//Euc_C4M_GRF/9_wk/C4M1_I5.0_F1.9_L100LED30_100251_7_1_1_Fluorescence.csv\n",
      "\n",
      "Finished running sample /media/michael/Elements_GRF//Euc_C4M_GRF/9_wk//C4M1_I5.0_F1.9_L100LED30_100251_7_1_1_Fluorescence.hdr in 19.8943235790357s\n",
      "\n",
      "Running GMOdetector version 0.0.875\n",
      "load mode isload_full_then_crop\n",
      "Saving to /home/michael/data/gmodetector_out//Euc_C4M_GRF/9_wk/C4M1_I5.0_F1.9_L100LED30_100347_8_1_0_Fluorescence_weights.hdf with key of weights\n",
      "Saving summary stats w/ threshold38.0 to /home/michael/data/gmodetector_out//Euc_C4M_GRF/9_wk/C4M1_I5.0_F1.9_L100LED30_100347_8_1_0_Fluorescence_summary.csv\n",
      "Producing image channel for DsRed with cap 400 in color green\n",
      "Producing image channel for Chl with cap 200 in color red\n",
      "Producing image channel for Diffraction with cap 200 in color blue\n",
      "Saving image to /home/michael/data/gmodetector_out//Euc_C4M_GRF/9_wk/C4M1_I5.0_F1.9_L100LED30_100347_8_1_0_Fluorescence.png\n",
      "Saving image metadata to /home/michael/data/gmodetector_out//Euc_C4M_GRF/9_wk/C4M1_I5.0_F1.9_L100LED30_100347_8_1_0_Fluorescence.csv\n",
      "\n",
      "Finished running sample /media/michael/Elements_GRF//Euc_C4M_GRF/9_wk//C4M1_I5.0_F1.9_L100LED30_100347_8_1_0_Fluorescence.hdr in 20.135743737919256s\n",
      "\n",
      "Running GMOdetector version 0.0.875\n",
      "load mode isload_full_then_crop\n",
      "Saving to /home/michael/data/gmodetector_out//Euc_C4M_GRF/9_wk/C4M1_I5.0_F1.9_L100LED30_100444_9_2_1_Fluorescence_weights.hdf with key of weights\n",
      "Saving summary stats w/ threshold38.0 to /home/michael/data/gmodetector_out//Euc_C4M_GRF/9_wk/C4M1_I5.0_F1.9_L100LED30_100444_9_2_1_Fluorescence_summary.csv\n",
      "Producing image channel for DsRed with cap 400 in color green\n",
      "Producing image channel for Chl with cap 200 in color red\n",
      "Producing image channel for Diffraction with cap 200 in color blue\n",
      "Saving image to /home/michael/data/gmodetector_out//Euc_C4M_GRF/9_wk/C4M1_I5.0_F1.9_L100LED30_100444_9_2_1_Fluorescence.png\n",
      "Saving image metadata to /home/michael/data/gmodetector_out//Euc_C4M_GRF/9_wk/C4M1_I5.0_F1.9_L100LED30_100444_9_2_1_Fluorescence.csv\n",
      "\n",
      "Finished running sample /media/michael/Elements_GRF//Euc_C4M_GRF/9_wk//C4M1_I5.0_F1.9_L100LED30_100444_9_2_1_Fluorescence.hdr in 20.120992711978033s\n",
      "\n",
      "Running GMOdetector version 0.0.875\n",
      "load mode isload_full_then_crop\n",
      "Saving to /home/michael/data/gmodetector_out//Euc_C4M_GRF/9_wk/C4M1_I5.0_F1.9_L100LED30_100533_10_2_3_Fluorescence_weights.hdf with key of weights\n",
      "Saving summary stats w/ threshold38.0 to /home/michael/data/gmodetector_out//Euc_C4M_GRF/9_wk/C4M1_I5.0_F1.9_L100LED30_100533_10_2_3_Fluorescence_summary.csv\n",
      "Producing image channel for DsRed with cap 400 in color green\n",
      "Producing image channel for Chl with cap 200 in color red\n",
      "Producing image channel for Diffraction with cap 200 in color blue\n",
      "Saving image to /home/michael/data/gmodetector_out//Euc_C4M_GRF/9_wk/C4M1_I5.0_F1.9_L100LED30_100533_10_2_3_Fluorescence.png\n",
      "Saving image metadata to /home/michael/data/gmodetector_out//Euc_C4M_GRF/9_wk/C4M1_I5.0_F1.9_L100LED30_100533_10_2_3_Fluorescence.csv\n",
      "\n",
      "Finished running sample /media/michael/Elements_GRF//Euc_C4M_GRF/9_wk//C4M1_I5.0_F1.9_L100LED30_100533_10_2_3_Fluorescence.hdr in 20.381219414062798s\n",
      "\n",
      "Running GMOdetector version 0.0.875\n",
      "load mode isload_full_then_crop\n",
      "Saving to /home/michael/data/gmodetector_out//Euc_C4M_GRF/9_wk/C4M1_I5.0_F1.9_L100LED30_100632_11_2_4_Fluorescence_weights.hdf with key of weights\n",
      "Saving summary stats w/ threshold38.0 to /home/michael/data/gmodetector_out//Euc_C4M_GRF/9_wk/C4M1_I5.0_F1.9_L100LED30_100632_11_2_4_Fluorescence_summary.csv\n",
      "Producing image channel for DsRed with cap 400 in color green\n",
      "Producing image channel for Chl with cap 200 in color red\n",
      "Producing image channel for Diffraction with cap 200 in color blue\n",
      "Saving image to /home/michael/data/gmodetector_out//Euc_C4M_GRF/9_wk/C4M1_I5.0_F1.9_L100LED30_100632_11_2_4_Fluorescence.png\n",
      "Saving image metadata to /home/michael/data/gmodetector_out//Euc_C4M_GRF/9_wk/C4M1_I5.0_F1.9_L100LED30_100632_11_2_4_Fluorescence.csv\n",
      "\n",
      "Finished running sample /media/michael/Elements_GRF//Euc_C4M_GRF/9_wk//C4M1_I5.0_F1.9_L100LED30_100632_11_2_4_Fluorescence.hdr in 19.962393305031583s\n",
      "\n",
      "Running GMOdetector version 0.0.875\n",
      "load mode isload_full_then_crop\n",
      "Saving to /home/michael/data/gmodetector_out//Euc_C4M_GRF/9_wk/C4M1_I5.0_F1.9_L100LED30_100729_12_2_5_Fluorescence_weights.hdf with key of weights\n",
      "Saving summary stats w/ threshold38.0 to /home/michael/data/gmodetector_out//Euc_C4M_GRF/9_wk/C4M1_I5.0_F1.9_L100LED30_100729_12_2_5_Fluorescence_summary.csv\n",
      "Producing image channel for DsRed with cap 400 in color green\n",
      "Producing image channel for Chl with cap 200 in color red\n",
      "Producing image channel for Diffraction with cap 200 in color blue\n",
      "Saving image to /home/michael/data/gmodetector_out//Euc_C4M_GRF/9_wk/C4M1_I5.0_F1.9_L100LED30_100729_12_2_5_Fluorescence.png\n",
      "Saving image metadata to /home/michael/data/gmodetector_out//Euc_C4M_GRF/9_wk/C4M1_I5.0_F1.9_L100LED30_100729_12_2_5_Fluorescence.csv\n",
      "\n",
      "Finished running sample /media/michael/Elements_GRF//Euc_C4M_GRF/9_wk//C4M1_I5.0_F1.9_L100LED30_100729_12_2_5_Fluorescence.hdr in 20.22964491508901s\n",
      "\n",
      "Running GMOdetector version 0.0.875\n",
      "load mode isload_full_then_crop\n",
      "Saving to /home/michael/data/gmodetector_out//Euc_C4M_GRF/9_wk/C4M1_I5.0_F1.9_L100LED30_100826_13_2_6_Fluorescence_weights.hdf with key of weights\n",
      "Saving summary stats w/ threshold38.0 to /home/michael/data/gmodetector_out//Euc_C4M_GRF/9_wk/C4M1_I5.0_F1.9_L100LED30_100826_13_2_6_Fluorescence_summary.csv\n",
      "Producing image channel for DsRed with cap 400 in color green\n",
      "Producing image channel for Chl with cap 200 in color red\n",
      "Producing image channel for Diffraction with cap 200 in color blue\n",
      "Saving image to /home/michael/data/gmodetector_out//Euc_C4M_GRF/9_wk/C4M1_I5.0_F1.9_L100LED30_100826_13_2_6_Fluorescence.png\n",
      "Saving image metadata to /home/michael/data/gmodetector_out//Euc_C4M_GRF/9_wk/C4M1_I5.0_F1.9_L100LED30_100826_13_2_6_Fluorescence.csv\n",
      "\n",
      "Finished running sample /media/michael/Elements_GRF//Euc_C4M_GRF/9_wk//C4M1_I5.0_F1.9_L100LED30_100826_13_2_6_Fluorescence.hdr in 19.95931483397726s\n",
      "\n",
      "Running GMOdetector version 0.0.875\n",
      "load mode isload_full_then_crop\n",
      "Saving to /home/michael/data/gmodetector_out//Euc_C4M_GRF/9_wk/C4M1_I5.0_F1.9_L100LED30_101019_0_2_4_Fluorescence_weights.hdf with key of weights\n",
      "Saving summary stats w/ threshold38.0 to /home/michael/data/gmodetector_out//Euc_C4M_GRF/9_wk/C4M1_I5.0_F1.9_L100LED30_101019_0_2_4_Fluorescence_summary.csv\n",
      "Producing image channel for DsRed with cap 400 in color green\n",
      "Producing image channel for Chl with cap 200 in color red\n",
      "Producing image channel for Diffraction with cap 200 in color blue\n",
      "Saving image to /home/michael/data/gmodetector_out//Euc_C4M_GRF/9_wk/C4M1_I5.0_F1.9_L100LED30_101019_0_2_4_Fluorescence.png\n",
      "Saving image metadata to /home/michael/data/gmodetector_out//Euc_C4M_GRF/9_wk/C4M1_I5.0_F1.9_L100LED30_101019_0_2_4_Fluorescence.csv\n",
      "\n",
      "Finished running sample /media/michael/Elements_GRF//Euc_C4M_GRF/9_wk//C4M1_I5.0_F1.9_L100LED30_101019_0_2_4_Fluorescence.hdr in 20.44673446600791s\n",
      "\n",
      "Running GMOdetector version 0.0.875\n",
      "load mode isload_full_then_crop\n",
      "Saving to /home/michael/data/gmodetector_out//Euc_C4M_GRF/9_wk/C4M2_I5.0_F1.9_L100LED30_101251_0_0_0_Fluorescence_weights.hdf with key of weights\n",
      "Saving summary stats w/ threshold38.0 to /home/michael/data/gmodetector_out//Euc_C4M_GRF/9_wk/C4M2_I5.0_F1.9_L100LED30_101251_0_0_0_Fluorescence_summary.csv\n",
      "Producing image channel for DsRed with cap 400 in color green\n",
      "Producing image channel for Chl with cap 200 in color red\n",
      "Producing image channel for Diffraction with cap 200 in color blue\n",
      "Saving image to /home/michael/data/gmodetector_out//Euc_C4M_GRF/9_wk/C4M2_I5.0_F1.9_L100LED30_101251_0_0_0_Fluorescence.png\n",
      "Saving image metadata to /home/michael/data/gmodetector_out//Euc_C4M_GRF/9_wk/C4M2_I5.0_F1.9_L100LED30_101251_0_0_0_Fluorescence.csv\n",
      "\n",
      "Finished running sample /media/michael/Elements_GRF//Euc_C4M_GRF/9_wk//C4M2_I5.0_F1.9_L100LED30_101251_0_0_0_Fluorescence.hdr in 20.41972507094033s\n",
      "\n",
      "Running GMOdetector version 0.0.875\n",
      "load mode isload_full_then_crop\n",
      "Saving to /home/michael/data/gmodetector_out//Euc_C4M_GRF/9_wk/C4M2_I5.0_F1.9_L100LED30_101333_1_0_1_Fluorescence_weights.hdf with key of weights\n",
      "Saving summary stats w/ threshold38.0 to /home/michael/data/gmodetector_out//Euc_C4M_GRF/9_wk/C4M2_I5.0_F1.9_L100LED30_101333_1_0_1_Fluorescence_summary.csv\n",
      "Producing image channel for DsRed with cap 400 in color green\n",
      "Producing image channel for Chl with cap 200 in color red\n",
      "Producing image channel for Diffraction with cap 200 in color blue\n",
      "Saving image to /home/michael/data/gmodetector_out//Euc_C4M_GRF/9_wk/C4M2_I5.0_F1.9_L100LED30_101333_1_0_1_Fluorescence.png\n",
      "Saving image metadata to /home/michael/data/gmodetector_out//Euc_C4M_GRF/9_wk/C4M2_I5.0_F1.9_L100LED30_101333_1_0_1_Fluorescence.csv\n",
      "\n",
      "Finished running sample /media/michael/Elements_GRF//Euc_C4M_GRF/9_wk//C4M2_I5.0_F1.9_L100LED30_101333_1_0_1_Fluorescence.hdr in 20.18030223995447s\n",
      "\n",
      "Running GMOdetector version 0.0.875\n",
      "load mode isload_full_then_crop\n",
      "Saving to /home/michael/data/gmodetector_out//Euc_C4M_GRF/9_wk/C4M2_I5.0_F1.9_L100LED30_101429_2_0_2_Fluorescence_weights.hdf with key of weights\n",
      "Saving summary stats w/ threshold38.0 to /home/michael/data/gmodetector_out//Euc_C4M_GRF/9_wk/C4M2_I5.0_F1.9_L100LED30_101429_2_0_2_Fluorescence_summary.csv\n",
      "Producing image channel for DsRed with cap 400 in color green\n",
      "Producing image channel for Chl with cap 200 in color red\n",
      "Producing image channel for Diffraction with cap 200 in color blue\n",
      "Saving image to /home/michael/data/gmodetector_out//Euc_C4M_GRF/9_wk/C4M2_I5.0_F1.9_L100LED30_101429_2_0_2_Fluorescence.png\n",
      "Saving image metadata to /home/michael/data/gmodetector_out//Euc_C4M_GRF/9_wk/C4M2_I5.0_F1.9_L100LED30_101429_2_0_2_Fluorescence.csv\n",
      "\n",
      "Finished running sample /media/michael/Elements_GRF//Euc_C4M_GRF/9_wk//C4M2_I5.0_F1.9_L100LED30_101429_2_0_2_Fluorescence.hdr in 19.89642854698468s\n",
      "\n",
      "Running GMOdetector version 0.0.875\n",
      "load mode isload_full_then_crop\n",
      "Saving to /home/michael/data/gmodetector_out//Euc_C4M_GRF/9_wk/C4M2_I5.0_F1.9_L100LED30_101526_3_0_3_Fluorescence_weights.hdf with key of weights\n",
      "Saving summary stats w/ threshold38.0 to /home/michael/data/gmodetector_out//Euc_C4M_GRF/9_wk/C4M2_I5.0_F1.9_L100LED30_101526_3_0_3_Fluorescence_summary.csv\n",
      "Producing image channel for DsRed with cap 400 in color green\n",
      "Producing image channel for Chl with cap 200 in color red\n",
      "Producing image channel for Diffraction with cap 200 in color blue\n",
      "Saving image to /home/michael/data/gmodetector_out//Euc_C4M_GRF/9_wk/C4M2_I5.0_F1.9_L100LED30_101526_3_0_3_Fluorescence.png\n",
      "Saving image metadata to /home/michael/data/gmodetector_out//Euc_C4M_GRF/9_wk/C4M2_I5.0_F1.9_L100LED30_101526_3_0_3_Fluorescence.csv\n",
      "\n",
      "Finished running sample /media/michael/Elements_GRF//Euc_C4M_GRF/9_wk//C4M2_I5.0_F1.9_L100LED30_101526_3_0_3_Fluorescence.hdr in 20.02097594703082s\n",
      "\n",
      "Running GMOdetector version 0.0.875\n",
      "load mode isload_full_then_crop\n",
      "Saving to /home/michael/data/gmodetector_out//Euc_C4M_GRF/9_wk/C4M2_I5.0_F1.9_L100LED30_101622_4_0_4_Fluorescence_weights.hdf with key of weights\n",
      "Saving summary stats w/ threshold38.0 to /home/michael/data/gmodetector_out//Euc_C4M_GRF/9_wk/C4M2_I5.0_F1.9_L100LED30_101622_4_0_4_Fluorescence_summary.csv\n",
      "Producing image channel for DsRed with cap 400 in color green\n",
      "Producing image channel for Chl with cap 200 in color red\n",
      "Producing image channel for Diffraction with cap 200 in color blue\n",
      "Saving image to /home/michael/data/gmodetector_out//Euc_C4M_GRF/9_wk/C4M2_I5.0_F1.9_L100LED30_101622_4_0_4_Fluorescence.png\n",
      "Saving image metadata to /home/michael/data/gmodetector_out//Euc_C4M_GRF/9_wk/C4M2_I5.0_F1.9_L100LED30_101622_4_0_4_Fluorescence.csv\n",
      "\n",
      "Finished running sample /media/michael/Elements_GRF//Euc_C4M_GRF/9_wk//C4M2_I5.0_F1.9_L100LED30_101622_4_0_4_Fluorescence.hdr in 20.273094934993424s\n",
      "\n",
      "(test-environment) (test-environment) "
     ]
    }
   ],
   "source": [
    "conda activate test-environment\n",
    "\n",
    "if [ $parallel -eq 1 ]\n",
    "then\n",
    "    parallel -a $job_list_name\n",
    "fi\n",
    "\n",
    "if [ $parallel -eq 0 ]\n",
    "then\n",
    "    bash $job_list_name\n",
    "fi\n",
    "\n",
    "conda deactivate\n",
    "conda deactivate"
   ]
  },
  {
   "cell_type": "markdown",
   "metadata": {},
   "source": [
    "Time regression completes:"
   ]
  },
  {
   "cell_type": "code",
   "execution_count": 33,
   "metadata": {},
   "outputs": [
    {
     "name": "stdout",
     "output_type": "stream",
     "text": [
      "Fri 06 May 2022 10:48:48 AM PDT\n"
     ]
    }
   ],
   "source": [
    "echo $(date)"
   ]
  },
  {
   "cell_type": "markdown",
   "metadata": {},
   "source": [
    "## Classification of contaminated/missing explants"
   ]
  },
  {
   "cell_type": "markdown",
   "metadata": {},
   "source": [
    "Plates are cropped into sub-images for each explant and each is analyzed to determine if the explant position should be excluded from analysis due to being missing or contamination. Missing and contaminated explants are recognized using a trained Densenet model (<a href=\"https://github.com/Contamination-Classification/DenseNet\" target=\"_blank\">Huang, et al. 2018</a>). Our fork of the Densenet repository is available on <a href=\"https://arxiv.org/abs/1608.06993\" target=\"_blank\">GitHub</a>."
   ]
  },
  {
   "cell_type": "markdown",
   "metadata": {},
   "source": [
    "<img src=\"Figures/Densenet.png\">\n",
    "Figure: These are four examples of contaminated explants used in the training set for this pre-trained model"
   ]
  },
  {
   "cell_type": "markdown",
   "metadata": {},
   "source": [
    "To check the grid cropping dimensions, we can run the following script. Note that these are the dimensions to crop the image to after resizing to 2000x2000 (from 4000x4000 in the case of the *macroPhor Array)."
   ]
  },
  {
   "cell_type": "markdown",
   "metadata": {},
   "source": [
    "#### Prepare list of images"
   ]
  },
  {
   "cell_type": "code",
   "execution_count": 34,
   "metadata": {},
   "outputs": [
    {
     "name": "stdout",
     "output_type": "stream",
     "text": [
      "Missing explants will be inferred.\n"
     ]
    }
   ],
   "source": [
    "if [ $missing_explants = \"Automatic\" ]; then\n",
    "    echo \"Missing explants will be inferred.\"\n",
    "    cd $data\n",
    "    ls -d $PWD/* $data | grep -i \"rgb.jpg\" > rgb_list.txt\n",
    "    sed -i '/hroma/d' rgb_list.txt\n",
    "    img_list_path=\"${data}/rgb_list.txt\"\n",
    "else\n",
    "    echo \"Missing explants input manually by user, in randomization datasheet\"\n",
    "    echo $missing_explants\n",
    "fi"
   ]
  },
  {
   "cell_type": "markdown",
   "metadata": {},
   "source": [
    "If the mode for missing explant data is automatic, prepare input file for script to detect missing explants and run this script."
   ]
  },
  {
   "cell_type": "markdown",
   "metadata": {},
   "source": [
    "#### Check dimensions for grid cropping"
   ]
  },
  {
   "cell_type": "markdown",
   "metadata": {},
   "source": [
    "The models to detect contamination and missing explants require a user input to define the pixel boundaries of the grid along which explants are placed. Note that currently, only the 12-explant grid is supported. To use other grids, contamination and missing explant data must be provided manually in a file formatted just like an output from this script."
   ]
  },
  {
   "cell_type": "markdown",
   "metadata": {},
   "source": [
    "When running `inference.py` to detect missing or contaminated explants, the user should provide dimensions for cropping down to the grid borders. Note, these dimensions apply after the image is rescaled to 2000x2000.\n",
    "- Default dimensions, used before the imager began to take \"off-center\" images, are (310, 515, 1750, 1610).\n",
    "- Dimensions for cropping for the off-center images are (260, 600, 1700, 1710). \n",
    "- New dimensions (275, 438, 1725, 1535) are for images taken after camera settings were re-centered.<br>\n",
    "\n",
    "We can test dimensions using the `--debug` option for `inference.py` as in the below code block. Next, we will run the same script in the regular mode to detect missing and contaminated explants using settled-upon cropping dimensions."
   ]
  },
  {
   "cell_type": "markdown",
   "metadata": {},
   "source": [
    "Uncomment and run this code block only if you wish to troubleshoot cropping."
   ]
  },
  {
   "cell_type": "code",
   "execution_count": 35,
   "metadata": {},
   "outputs": [],
   "source": [
    "# if [ $missing_explants = \"Automatic\" ]; then\n",
    "#     cd $contamination_path\n",
    "#     conda activate densenet\n",
    "#     python inference.py --img-list=$img_list_path --crop_dims \"(275,438,1725,1535)\" --debug\n",
    "#     conda deactivate\n",
    "# else\n",
    "#     echo \"Missing explants input manually by user, in file: \"\n",
    "#     echo $missing_explants\n",
    "# fi"
   ]
  },
  {
   "cell_type": "markdown",
   "metadata": {},
   "source": [
    "The outputs will be saved in this folder and can be evaluated to check how well the cropping worked."
   ]
  },
  {
   "cell_type": "code",
   "execution_count": 36,
   "metadata": {},
   "outputs": [],
   "source": [
    "# echo $contamination_path"
   ]
  },
  {
   "cell_type": "markdown",
   "metadata": {},
   "source": [
    "#### Infer contaminated/missing explants"
   ]
  },
  {
   "cell_type": "markdown",
   "metadata": {},
   "source": [
    "Dependencies include `keras-preprocessing`, `termcolor`,  `protobuf` and `absl-py`"
   ]
  },
  {
   "cell_type": "code",
   "execution_count": 37,
   "metadata": {},
   "outputs": [
    {
     "name": "stdout",
     "output_type": "stream",
     "text": [
      "Fri 06 May 2022 10:48:50 AM PDT\n"
     ]
    }
   ],
   "source": [
    "date"
   ]
  },
  {
   "cell_type": "code",
   "execution_count": 38,
   "metadata": {
    "slideshow": {
     "slide_type": "slide"
    }
   },
   "outputs": [
    {
     "name": "stdout",
     "output_type": "stream",
     "text": [
      "Using TensorFlow backend.\n",
      "WARNING:tensorflow:From /home/michael/anaconda3/envs/DenseNet/lib/python3.6/site-packages/tensorflow/python/ops/resource_variable_ops.py:435: colocate_with (from tensorflow.python.framework.ops) is deprecated and will be removed in a future version.\n",
      "Instructions for updating:\n",
      "Colocations handled automatically by placer.\n",
      "2022-05-06 10:48:54.313605: I tensorflow/core/platform/cpu_feature_guard.cc:141] Your CPU supports instructions that this TensorFlow binary was not compiled to use: SSE4.1 SSE4.2 AVX AVX2 FMA\n",
      "2022-05-06 10:48:54.350673: I tensorflow/core/platform/profile_utils/cpu_utils.cc:94] CPU Frequency: 3392485000 Hz\n",
      "2022-05-06 10:48:54.351624: I tensorflow/compiler/xla/service/service.cc:150] XLA service 0x560a72da6e40 executing computations on platform Host. Devices:\n",
      "2022-05-06 10:48:54.351653: I tensorflow/compiler/xla/service/service.cc:158]   StreamExecutor device (0): <undefined>, <undefined>\n"
     ]
    }
   ],
   "source": [
    "if [ $missing_explants = \"Automatic\" ]; then\n",
    "    cd $contamination_path\n",
    "    conda activate DenseNet\n",
    "    python -W ignore inference.py \\\n",
    "    --img-list=$img_list_path \\\n",
    "    --crop_dims $pre_aligned_resized_grid_borders \\\n",
    "    --output_file=output.csv >> $data/log_contam.txt\n",
    "    mv -f output.csv \"${data}/output.csv\"\n",
    "    conda deactivate\n",
    "fi"
   ]
  },
  {
   "cell_type": "code",
   "execution_count": 39,
   "metadata": {},
   "outputs": [
    {
     "name": "stdout",
     "output_type": "stream",
     "text": [
      "Missing explants inferred by model and written to file:\n",
      "/media/michael/Elements_GRF//Euc_C4M_GRF/9_wk//output.csv\n"
     ]
    }
   ],
   "source": [
    "if [ $missing_explants = \"Automatic\" ]; then\n",
    "    missing_explants_sheet=\"${data}/output.csv\"\n",
    "    echo \"Missing explants inferred by model and written to file:\"\n",
    "    echo $missing_explants_sheet\n",
    "else\n",
    "    missing_explant_sheet=\"Not applicable\"\n",
    "    echo \"Missing explants input manually by user, in randomization datasheet\"\n",
    "fi"
   ]
  },
  {
   "cell_type": "code",
   "execution_count": 40,
   "metadata": {},
   "outputs": [
    {
     "name": "stdout",
     "output_type": "stream",
     "text": [
      "Fri 06 May 2022 10:51:01 AM PDT\n"
     ]
    }
   ],
   "source": [
    "date"
   ]
  },
  {
   "cell_type": "markdown",
   "metadata": {},
   "source": [
    "## Plot results"
   ]
  },
  {
   "cell_type": "code",
   "execution_count": 41,
   "metadata": {},
   "outputs": [
    {
     "name": "stdout",
     "output_type": "stream",
     "text": [
      "/home/michael/DenseNet\n"
     ]
    }
   ],
   "source": [
    "pwd"
   ]
  },
  {
   "cell_type": "code",
   "execution_count": 42,
   "metadata": {},
   "outputs": [
    {
     "name": "stdout",
     "output_type": "stream",
     "text": [
      "config.py                  densenet169.py      \u001b[0m\u001b[01;34mpreprocessed_images\u001b[0m  test.py\n",
      "contamination_results.csv  inference.py        \u001b[01;34m__pycache__\u001b[0m          utils.py\n",
      "custom_layers.py           __init__.py         README.md\n",
      "densenet121.py             load_plant_data.py  requirements.txt\n",
      "densenet161.py             model_finetune.h5   test.csv\n"
     ]
    }
   ],
   "source": [
    "ls"
   ]
  },
  {
   "cell_type": "code",
   "execution_count": 43,
   "metadata": {},
   "outputs": [
    {
     "name": "stdout",
     "output_type": "stream",
     "text": [
      "Automatic\n"
     ]
    }
   ],
   "source": [
    "echo $missing_explants"
   ]
  },
  {
   "cell_type": "code",
   "execution_count": 44,
   "metadata": {
    "scrolled": true
   },
   "outputs": [
    {
     "name": "stdout",
     "output_type": "stream",
     "text": [
      "(gmolabeler) (gmolabeler) [1] \"Saving list of input arguments to : /home/michael/GMOlabeler/plots//Euc_C4M_GRF/9_wk////gridplot_args.rds\"\n",
      "New names:\n",
      "* `` -> ...10\n",
      "* `` -> ...11\n",
      "* `` -> ...12\n",
      "[1] \"Missinge explant option:\"\n",
      "[1] \"Automatic\"\n",
      "\n",
      "[1] \"Calculating total numbers of missing explants per plate\"\n",
      "[1] \"Chl\"\n",
      "[1] 41\n",
      "[1] \"We will only include in analysis the FINAL of multiple images for C4M1_1\"\n",
      "[1] \"We will only include in analysis the FINAL of multiple images for C4M1_3\"\n",
      "[1] \"We will only include in analysis the FINAL of multiple images for C4M1_6\"\n",
      "[1] \"We will only include in analysis the FINAL of multiple images for C4M1_7\"\n",
      "[1] \"We will only include in analysis the FINAL of multiple images for C4M1_14\"\n",
      "[1] \"We will only include in analysis the FINAL of multiple images for C4M1_11\"\n",
      "[1] \"We will only include in analysis the FINAL of multiple images for C4M1_10\"\n",
      "[1] \"We will only include in analysis the FINAL of multiple images for C4M1_9\"\n",
      "[1] \"We will only include in analysis the FINAL of multiple images for C4M1_8\"\n",
      "[1] \"We will only include in analysis the FINAL of multiple images for C4M1_16\"\n",
      "[1] \"We will only include in analysis the FINAL of multiple images for C4M1_18\"\n",
      "[1] \"We will only include in analysis the FINAL of multiple images for C4M1_19\"\n",
      "[1] \"We will only include in analysis the FINAL of multiple images for C4M1_20\"\n",
      "[1] \"We will only include in analysis the FINAL of multiple images for C4M1_21\"\n",
      "[1] \"We will only include in analysis the FINAL of multiple images for C4M1_19\"\n",
      "[1] \"Diffraction\"\n",
      "[1] 41\n",
      "[1] \"We will only include in analysis the FINAL of multiple images for C4M1_1\"\n",
      "[1] \"We will only include in analysis the FINAL of multiple images for C4M1_3\"\n",
      "[1] \"We will only include in analysis the FINAL of multiple images for C4M1_6\"\n",
      "[1] \"We will only include in analysis the FINAL of multiple images for C4M1_7\"\n",
      "[1] \"We will only include in analysis the FINAL of multiple images for C4M1_14\"\n",
      "[1] \"We will only include in analysis the FINAL of multiple images for C4M1_11\"\n",
      "[1] \"We will only include in analysis the FINAL of multiple images for C4M1_10\"\n",
      "[1] \"We will only include in analysis the FINAL of multiple images for C4M1_9\"\n",
      "[1] \"We will only include in analysis the FINAL of multiple images for C4M1_8\"\n",
      "[1] \"We will only include in analysis the FINAL of multiple images for C4M1_16\"\n",
      "[1] \"We will only include in analysis the FINAL of multiple images for C4M1_18\"\n",
      "[1] \"We will only include in analysis the FINAL of multiple images for C4M1_19\"\n",
      "[1] \"We will only include in analysis the FINAL of multiple images for C4M1_20\"\n",
      "[1] \"We will only include in analysis the FINAL of multiple images for C4M1_21\"\n",
      "[1] \"We will only include in analysis the FINAL of multiple images for C4M1_19\"\n",
      "[1] \"DsRed\"\n",
      "[1] 41\n",
      "[1] \"We will only include in analysis the FINAL of multiple images for C4M1_1\"\n",
      "[1] \"We will only include in analysis the FINAL of multiple images for C4M1_3\"\n",
      "[1] \"We will only include in analysis the FINAL of multiple images for C4M1_6\"\n",
      "[1] \"We will only include in analysis the FINAL of multiple images for C4M1_7\"\n",
      "[1] \"We will only include in analysis the FINAL of multiple images for C4M1_14\"\n",
      "[1] \"We will only include in analysis the FINAL of multiple images for C4M1_11\"\n",
      "[1] \"We will only include in analysis the FINAL of multiple images for C4M1_10\"\n",
      "[1] \"We will only include in analysis the FINAL of multiple images for C4M1_9\"\n",
      "[1] \"We will only include in analysis the FINAL of multiple images for C4M1_8\"\n",
      "[1] \"We will only include in analysis the FINAL of multiple images for C4M1_16\"\n",
      "[1] \"We will only include in analysis the FINAL of multiple images for C4M1_18\"\n",
      "[1] \"We will only include in analysis the FINAL of multiple images for C4M1_19\"\n",
      "[1] \"We will only include in analysis the FINAL of multiple images for C4M1_20\"\n",
      "[1] \"We will only include in analysis the FINAL of multiple images for C4M1_21\"\n",
      "[1] \"We will only include in analysis the FINAL of multiple images for C4M1_19\"\n",
      "[1] \"Intercept\"\n",
      "[1] 41\n",
      "[1] \"We will only include in analysis the FINAL of multiple images for C4M1_1\"\n",
      "[1] \"We will only include in analysis the FINAL of multiple images for C4M1_3\"\n",
      "[1] \"We will only include in analysis the FINAL of multiple images for C4M1_6\"\n",
      "[1] \"We will only include in analysis the FINAL of multiple images for C4M1_7\"\n",
      "[1] \"We will only include in analysis the FINAL of multiple images for C4M1_14\"\n",
      "[1] \"We will only include in analysis the FINAL of multiple images for C4M1_11\"\n",
      "[1] \"We will only include in analysis the FINAL of multiple images for C4M1_10\"\n",
      "[1] \"We will only include in analysis the FINAL of multiple images for C4M1_9\"\n",
      "[1] \"We will only include in analysis the FINAL of multiple images for C4M1_8\"\n",
      "[1] \"We will only include in analysis the FINAL of multiple images for C4M1_16\"\n",
      "[1] \"We will only include in analysis the FINAL of multiple images for C4M1_18\"\n",
      "[1] \"We will only include in analysis the FINAL of multiple images for C4M1_19\"\n",
      "[1] \"We will only include in analysis the FINAL of multiple images for C4M1_20\"\n",
      "[1] \"We will only include in analysis the FINAL of multiple images for C4M1_21\"\n",
      "[1] \"We will only include in analysis the FINAL of multiple images for C4M1_19\"\n",
      "[1] \"Chl\"\n",
      "[1] \"Diffraction\"\n",
      "[1] \"DsRed\"\n",
      "[1] \"Intercept\"\n",
      "(gmolabeler) (gmolabeler) "
     ]
    }
   ],
   "source": [
    "conda activate gmolabeler\n",
    "cd $gmolabeler_path\n",
    "Rscript $cwd/Extras/Whole_plate_plots.R \\\n",
    "-d \"${data_folder}/\" \\\n",
    "-r \"$randomization_datasheet\" \\\n",
    "-m $missing_explants \\\n",
    "-M $missing_explants_sheet \\\n",
    "--height $height \\\n",
    "--width $width\n",
    "\n",
    "conda deactivate"
   ]
  },
  {
   "cell_type": "code",
   "execution_count": 45,
   "metadata": {},
   "outputs": [
    {
     "name": "stdout",
     "output_type": "stream",
     "text": [
      "/media/michael/Elements_GRF//Euc_C4M_GRF/C4M_euc_data.xlsx\n"
     ]
    }
   ],
   "source": [
    "echo $randomization_datasheet"
   ]
  },
  {
   "cell_type": "markdown",
   "metadata": {},
   "source": [
    "## Email plots to user"
   ]
  },
  {
   "cell_type": "markdown",
   "metadata": {},
   "source": [
    "### ZIP results"
   ]
  },
  {
   "cell_type": "code",
   "execution_count": 46,
   "metadata": {},
   "outputs": [
    {
     "name": "stdout",
     "output_type": "stream",
     "text": [
      "/home/michael/GMOlabeler//plots/Euc_C4M_GRF/9_wk/\n"
     ]
    }
   ],
   "source": [
    "echo \"${gmolabeler_path}/plots${data_folder}\""
   ]
  },
  {
   "cell_type": "code",
   "execution_count": 47,
   "metadata": {},
   "outputs": [],
   "source": [
    "cd \"${gmolabeler_path}/plots/${data_folder}\""
   ]
  },
  {
   "cell_type": "code",
   "execution_count": 48,
   "metadata": {},
   "outputs": [],
   "source": [
    "rm -f ./plants_over_plates.csv"
   ]
  },
  {
   "cell_type": "code",
   "execution_count": 49,
   "metadata": {},
   "outputs": [
    {
     "name": "stdout",
     "output_type": "stream",
     "text": [
      "/home/michael/GMOlabeler//output//Euc_C4M_GRF/9_wk//\n"
     ]
    }
   ],
   "source": [
    "echo ${gmolabeler_path}/output/${data_folder}/"
   ]
  },
  {
   "cell_type": "code",
   "execution_count": 50,
   "metadata": {},
   "outputs": [],
   "source": [
    "#cp \"${gmolabeler_path}/output/${data_folder}/plants_over_plates.csv\" ./"
   ]
  },
  {
   "cell_type": "code",
   "execution_count": 51,
   "metadata": {},
   "outputs": [],
   "source": [
    "cp \"${gmolabeler_path}/plots/${data_folder}/Whole Plate/Whole_plate_stats.csv\" ./"
   ]
  },
  {
   "cell_type": "markdown",
   "metadata": {},
   "source": [
    "We don't use the version below because we just have one set of plots for all fluorescent components"
   ]
  },
  {
   "cell_type": "code",
   "execution_count": 52,
   "metadata": {},
   "outputs": [],
   "source": [
    "#for reporter in ${reporters[@]}; do\n",
    "#    cp \"${gmolabeler_path}/output/${data_folder}/${reporter}/stats_with_sums_over_tissues.csv\" ./\n",
    "#done"
   ]
  },
  {
   "cell_type": "code",
   "execution_count": 53,
   "metadata": {},
   "outputs": [],
   "source": [
    "#cd $data"
   ]
  },
  {
   "cell_type": "code",
   "execution_count": 54,
   "metadata": {},
   "outputs": [],
   "source": [
    "rm -f Rplots.pdf"
   ]
  },
  {
   "cell_type": "code",
   "execution_count": 55,
   "metadata": {},
   "outputs": [],
   "source": [
    "cd ../"
   ]
  },
  {
   "cell_type": "markdown",
   "metadata": {},
   "source": [
    "This messy substitution is explained here: https://superuser.com/questions/1068031/replace-backslash-with-forward-slash-in-a-variable-in-bash"
   ]
  },
  {
   "cell_type": "code",
   "execution_count": 56,
   "metadata": {},
   "outputs": [],
   "source": [
    "data_folder_Compress=\"${data_folder////-}.zip\"\n",
    "data_folder_Compress=${data_folder_Compress#?};"
   ]
  },
  {
   "cell_type": "code",
   "execution_count": 57,
   "metadata": {},
   "outputs": [
    {
     "name": "stdout",
     "output_type": "stream",
     "text": [
      "/Euc_C4M_GRF/9_wk/\n"
     ]
    }
   ],
   "source": [
    "echo $data_folder"
   ]
  },
  {
   "cell_type": "code",
   "execution_count": 58,
   "metadata": {},
   "outputs": [
    {
     "name": "stdout",
     "output_type": "stream",
     "text": [
      "Euc_C4M_GRF-9_wk-.zip\n"
     ]
    }
   ],
   "source": [
    "echo $data_folder_Compress"
   ]
  },
  {
   "cell_type": "code",
   "execution_count": 59,
   "metadata": {},
   "outputs": [
    {
     "name": "stdout",
     "output_type": "stream",
     "text": [
      "/home/michael/GMOlabeler/plots/Euc_C4M_GRF\n"
     ]
    }
   ],
   "source": [
    "pwd"
   ]
  },
  {
   "cell_type": "code",
   "execution_count": 60,
   "metadata": {},
   "outputs": [
    {
     "name": "stdout",
     "output_type": "stream",
     "text": [
      "9_wk\n"
     ]
    }
   ],
   "source": [
    "echo $timepoint"
   ]
  },
  {
   "cell_type": "code",
   "execution_count": 61,
   "metadata": {
    "tags": []
   },
   "outputs": [
    {
     "name": "stdout",
     "output_type": "stream",
     "text": [
      "\u001b[0m\u001b[01;34m9_wk\u001b[0m\n"
     ]
    }
   ],
   "source": [
    "ls"
   ]
  },
  {
   "cell_type": "code",
   "execution_count": 62,
   "metadata": {
    "scrolled": true,
    "tags": []
   },
   "outputs": [
    {
     "name": "stdout",
     "output_type": "stream",
     "text": [
      "  adding: gridplot_args.rds (stored 0%)\n",
      "  adding: Whole Plate/ (stored 0%)\n",
      "  adding: Whole Plate/Signif_Pixels_Diffraction.png (deflated 26%)\n",
      "  adding: Whole Plate/Signif_Pixels_Intercept.png (deflated 26%)\n",
      "  adding: Whole Plate/Total_Chl.png (deflated 31%)\n",
      "  adding: Whole Plate/Total_Diffraction.png (deflated 28%)\n",
      "  adding: Whole Plate/Whole_plate_stats.csv (deflated 77%)\n",
      "  adding: Whole Plate/Signif_Pixels_Chl.png (deflated 29%)\n",
      "  adding: Whole Plate/Total_Intercept.png (deflated 32%)\n",
      "  adding: Whole Plate/Total_DsRed.png (deflated 30%)\n",
      "  adding: Whole Plate/Signif_Pixels_DsRed.png (deflated 27%)\n",
      "  adding: Whole_plate_stats.csv (deflated 77%)\n"
     ]
    }
   ],
   "source": [
    "cd $timepoint\n",
    "zip -r $data_folder_Compress ./*"
   ]
  },
  {
   "cell_type": "markdown",
   "metadata": {},
   "source": [
    "### Write email"
   ]
  },
  {
   "cell_type": "code",
   "execution_count": 63,
   "metadata": {},
   "outputs": [],
   "source": [
    "duration=$(( SECONDS - start ))"
   ]
  },
  {
   "cell_type": "markdown",
   "metadata": {},
   "source": [
    "https://unix.stackexchange.com/questions/53841/how-to-use-a-timer-in-bash"
   ]
  },
  {
   "cell_type": "code",
   "execution_count": 64,
   "metadata": {},
   "outputs": [],
   "source": [
    "rm -f \"${gmolabeler_path}/email_to_send.txt\"\n",
    "cp \"${gmolabeler_path}/email_to_send_template.txt\" \"${gmolabeler_path}/email_to_send.txt\""
   ]
  },
  {
   "cell_type": "code",
   "execution_count": 65,
   "metadata": {},
   "outputs": [],
   "source": [
    "echo \"\" >> \"${gmolabeler_path}/email_to_send.txt\"\n",
    "echo \"Number of samples run: \" >> \"${gmolabeler_path}/email_to_send.txt\""
   ]
  },
  {
   "cell_type": "code",
   "execution_count": 66,
   "metadata": {},
   "outputs": [
    {
     "name": "stdout",
     "output_type": "stream",
     "text": [
      "cat: /media/michael/Elements_GRF//Euc_C4M_GRF/9_wk//test.csv: No such file or directory\n"
     ]
    }
   ],
   "source": [
    "cat \"${data}/test.csv\" | wc -l >> \"${gmolabeler_path}/email_to_send.txt\"\n",
    "echo \"\" >> \"${gmolabeler_path}/email_to_send.txt\""
   ]
  },
  {
   "cell_type": "code",
   "execution_count": 67,
   "metadata": {},
   "outputs": [],
   "source": [
    "if (( $SECONDS > 3600 )) ; then\n",
    "    let \"hours=SECONDS/3600\"\n",
    "    let \"minutes=(SECONDS%3600)/60\"\n",
    "    let \"seconds=(SECONDS%3600)%60\"\n",
    "    echo \"Completed in $hours hour(s), $minutes minute(s) and $seconds second(s)\" >> \"${gmolabeler_path}/email_to_send.txt\"\n",
    "elif (( $SECONDS > 60 )) ; then\n",
    "    let \"minutes=(SECONDS%3600)/60\"\n",
    "    let \"seconds=(SECONDS%3600)%60\"\n",
    "    echo \"Completed in $minutes minute(s) and $seconds second(s)\" >> \"${gmolabeler_path}/email_to_send.txt\"\n",
    "else\n",
    "    echo \"Completed in $SECONDS seconds\" >> \"${gmolabeler_path}/email_to_send.txt\"\n",
    "fi"
   ]
  },
  {
   "cell_type": "code",
   "execution_count": 68,
   "metadata": {},
   "outputs": [],
   "source": [
    "echo \"\" >> \"${gmolabeler_path}/email_to_send.txt\""
   ]
  },
  {
   "cell_type": "markdown",
   "metadata": {},
   "source": [
    "### Send email with results to user"
   ]
  },
  {
   "cell_type": "code",
   "execution_count": 69,
   "metadata": {},
   "outputs": [
    {
     "name": "stdout",
     "output_type": "stream",
     "text": [
      "/home/michael/GMOlabeler/plots/Euc_C4M_GRF/9_wk\n"
     ]
    }
   ],
   "source": [
    "pwd"
   ]
  },
  {
   "cell_type": "code",
   "execution_count": 70,
   "metadata": {},
   "outputs": [
    {
     "name": "stdout",
     "output_type": "stream",
     "text": [
      "Euc_C4M_GRF-9_wk-.zip\n"
     ]
    }
   ],
   "source": [
    "echo $data_folder_Compress"
   ]
  },
  {
   "cell_type": "code",
   "execution_count": 71,
   "metadata": {},
   "outputs": [
    {
     "name": "stdout",
     "output_type": "stream",
     "text": [
      "/Euc_C4M_GRF/9_wk/\n"
     ]
    }
   ],
   "source": [
    "echo $data_folder"
   ]
  },
  {
   "cell_type": "code",
   "execution_count": 72,
   "metadata": {},
   "outputs": [
    {
     "name": "stdout",
     "output_type": "stream",
     "text": [
      "ryanna@oregonstate.edu\n"
     ]
    }
   ],
   "source": [
    "echo $email"
   ]
  },
  {
   "cell_type": "code",
   "execution_count": 73,
   "metadata": {},
   "outputs": [
    {
     "name": "stdout",
     "output_type": "stream",
     "text": [
      "/home/michael/GMOlabeler//email_to_send.txt\n"
     ]
    }
   ],
   "source": [
    "echo \"${gmolabeler_path}/email_to_send.txt\""
   ]
  },
  {
   "cell_type": "code",
   "execution_count": 74,
   "metadata": {},
   "outputs": [
    {
     "name": "stdout",
     "output_type": "stream",
     "text": [
      "/home/michael/GMOlabeler/plots/Euc_C4M_GRF/9_wk\n"
     ]
    }
   ],
   "source": [
    "pwd"
   ]
  },
  {
   "cell_type": "code",
   "execution_count": 75,
   "metadata": {},
   "outputs": [
    {
     "name": "stdout",
     "output_type": "stream",
     "text": [
      "\n",
      "Your job is complete!\n",
      "\n",
      "Number of samples run: \n",
      "0\n",
      "\n",
      "Completed in 17 minute(s) and 23 second(s)\n",
      "\n"
     ]
    }
   ],
   "source": [
    "cat \"${gmolabeler_path}/email_to_send.txt\""
   ]
  },
  {
   "cell_type": "code",
   "execution_count": 76,
   "metadata": {},
   "outputs": [
    {
     "name": "stdout",
     "output_type": "stream",
     "text": [
      "Euc_C4M_GRF-9_wk-.zip\n"
     ]
    }
   ],
   "source": [
    "echo $data_folder_Compress"
   ]
  },
  {
   "cell_type": "code",
   "execution_count": 77,
   "metadata": {},
   "outputs": [
    {
     "name": "stdout",
     "output_type": "stream",
     "text": [
      "424K\tEuc_C4M_GRF-9_wk-.zip\n"
     ]
    }
   ],
   "source": [
    "du -sh $data_folder_Compress"
   ]
  },
  {
   "cell_type": "code",
   "execution_count": 78,
   "metadata": {},
   "outputs": [
    {
     "name": "stdout",
     "output_type": "stream",
     "text": [
      "\n",
      "Your job is complete!\n",
      "\n",
      "Number of samples run: \n",
      "0\n",
      "\n",
      "Completed in 17 minute(s) and 23 second(s)\n",
      "\n"
     ]
    }
   ],
   "source": [
    "cat \"${gmolabeler_path}/email_to_send.txt\""
   ]
  },
  {
   "cell_type": "markdown",
   "metadata": {},
   "source": [
    "Time workflow ends:"
   ]
  },
  {
   "cell_type": "code",
   "execution_count": 79,
   "metadata": {},
   "outputs": [
    {
     "name": "stdout",
     "output_type": "stream",
     "text": [
      "Fri 06 May 2022 10:51:12 AM PDT\n"
     ]
    }
   ],
   "source": [
    "echo $(date)"
   ]
  },
  {
   "cell_type": "code",
   "execution_count": 80,
   "metadata": {},
   "outputs": [
    {
     "name": "stdout",
     "output_type": "stream",
     "text": [
      "\u001b[?1h\u001b="
     ]
    },
    {
     "ename": "",
     "evalue": "1",
     "output_type": "error",
     "traceback": []
    }
   ],
   "source": [
    "s-nail -a $data_folder_Compress -s $data_folder $email < \"${gmolabeler_path}/email_to_send.txt\""
   ]
  },
  {
   "cell_type": "code",
   "execution_count": null,
   "metadata": {},
   "outputs": [],
   "source": [
    "\n",
    "\n",
    "\n",
    "\n",
    "\n",
    "\n",
    "\n",
    "\n",
    "\n",
    "\n",
    "\n",
    "\n",
    "\n",
    "\n",
    "\n",
    "\n",
    "\n",
    "\n",
    "\n",
    "\n"
   ]
  },
  {
   "cell_type": "code",
   "execution_count": null,
   "metadata": {},
   "outputs": [],
   "source": []
  },
  {
   "cell_type": "code",
   "execution_count": null,
   "metadata": {},
   "outputs": [],
   "source": []
  },
  {
   "cell_type": "code",
   "execution_count": null,
   "metadata": {},
   "outputs": [],
   "source": []
  },
  {
   "cell_type": "code",
   "execution_count": null,
   "metadata": {},
   "outputs": [],
   "source": []
  },
  {
   "cell_type": "code",
   "execution_count": null,
   "metadata": {},
   "outputs": [],
   "source": []
  },
  {
   "cell_type": "code",
   "execution_count": null,
   "metadata": {},
   "outputs": [],
   "source": []
  },
  {
   "cell_type": "code",
   "execution_count": null,
   "metadata": {},
   "outputs": [],
   "source": []
  },
  {
   "cell_type": "code",
   "execution_count": null,
   "metadata": {},
   "outputs": [],
   "source": []
  },
  {
   "cell_type": "code",
   "execution_count": null,
   "metadata": {},
   "outputs": [],
   "source": []
  },
  {
   "cell_type": "code",
   "execution_count": null,
   "metadata": {},
   "outputs": [],
   "source": []
  },
  {
   "cell_type": "code",
   "execution_count": null,
   "metadata": {},
   "outputs": [],
   "source": []
  },
  {
   "cell_type": "code",
   "execution_count": null,
   "metadata": {},
   "outputs": [],
   "source": []
  },
  {
   "cell_type": "code",
   "execution_count": null,
   "metadata": {},
   "outputs": [],
   "source": []
  },
  {
   "cell_type": "code",
   "execution_count": null,
   "metadata": {},
   "outputs": [],
   "source": []
  },
  {
   "cell_type": "code",
   "execution_count": null,
   "metadata": {},
   "outputs": [],
   "source": []
  },
  {
   "cell_type": "code",
   "execution_count": null,
   "metadata": {},
   "outputs": [],
   "source": []
  }
 ],
 "metadata": {
  "kernelspec": {
   "display_name": "Bash",
   "language": "bash",
   "name": "bash"
  },
  "language_info": {
   "codemirror_mode": "shell",
   "file_extension": ".sh",
   "mimetype": "text/x-sh",
   "name": "bash"
  },
  "toc-autonumbering": true,
  "toc-showtags": false
 },
 "nbformat": 4,
 "nbformat_minor": 4
}
