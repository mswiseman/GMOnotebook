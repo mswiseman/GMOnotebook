{
 "cells": [
  {
   "cell_type": "markdown",
   "metadata": {},
   "source": [
    "# *GMOdetector notebook*: Template to analyze a new batch of images\n",
    "**Notebook template for applying routine hyperspectral/segmentation cross-analysis phenomics workflow over new datasets**"
   ]
  },
  {
   "cell_type": "markdown",
   "metadata": {},
   "source": [
    "v.0.3.0 is updated to use new segmentation model and work without producing test alignment for every single image (to run more quickly)"
   ]
  },
  {
   "cell_type": "markdown",
   "metadata": {},
   "source": [
    "<img src=\"Figures/WorkflowFlowchart.png\">"
   ]
  },
  {
   "cell_type": "markdown",
   "metadata": {},
   "source": [
    "In this workflow, images taken with the macroPhor Array dual RGB/hyperspectral imaging platform are analyzed by a workflow in which regression quantifies fluorescent signals in hyperspectral images, deep learning segments RGB images into different tissues, and these datasets are cross-referenced to produce statistics on growth of transgenic callus and shoot."
   ]
  },
  {
   "cell_type": "markdown",
   "metadata": {},
   "source": [
    "## Instructions for use\n",
    "1.  Enter information for the experiment below\n",
    "2. Set <font color=blue>variables</font> for data paths and parameters, as instructed by colored boxes.\n",
    "3. \"Save as\" with filename describing experiment and anything special about this analysis (e.g. T18_OD_TAO_wk7_automation_test_attempt2.ipynb)\n",
    "4. Run notebook from console, by either one of two methods:\n",
    "- In the top bar of JupyterLab, select \"Run\" and \"Run all cells\"\n",
    "- In a terminal, enter the below command with the notebook filename inserted<br>\n",
    "```jupyter nbconvert --to HTML --ExecutePreprocessor.timeout=-1 --allow-errors --execute insert_filename_here```\n",
    "5. Wait for email"
   ]
  },
  {
   "cell_type": "markdown",
   "metadata": {},
   "source": [
    "## Experiment ID and quick description:"
   ]
  },
  {
   "cell_type": "markdown",
   "metadata": {},
   "source": [
    "<div class=\"alert alert-block alert-success\">\n",
    "Provide a short description of the experiment in the below box. This should include unique identifier codes for the experiment, along with a short description of genotypes and treatments studied. The timepoint should also be included. </div>"
   ]
  },
  {
   "cell_type": "raw",
   "metadata": {},
   "source": [
    "Testing knockout of GWAS gene candidates at wk. 7 - batch 2 (CRIB)"
   ]
  },
  {
   "cell_type": "markdown",
   "metadata": {
    "heading_collapsed": "true"
   },
   "source": [
    "## Parameters for analysis:"
   ]
  },
  {
   "cell_type": "markdown",
   "metadata": {},
   "source": [
    "<div class=\"alert alert-block alert-success\">\n",
    "The below variables must be modified appropriately every time this workflow is run over new images.\n",
    "</div>"
   ]
  },
  {
   "cell_type": "markdown",
   "metadata": {},
   "source": [
    "### Data location\n",
    "The `data` variable below provides the **complete** path to the folder containing data to be analyzed. This should include all folders and subfolders in which the data of interest is organized by. For the organizational system used for our lab's data, this should follow the format \"/Experiment/Subexperiment/Timepoint/\""
   ]
  },
  {
   "cell_type": "code",
   "execution_count": 2,
   "metadata": {},
   "outputs": [
    {
     "name": "stdout",
     "output_type": "stream",
     "text": [
      "\u001b[?2004h"
     ]
    },
    {
     "ename": "",
     "evalue": "1",
     "output_type": "error",
     "traceback": []
    }
   ],
   "source": [
    "data_prefix=\"/media/michael/Elements/\""
   ]
  },
  {
   "cell_type": "code",
   "execution_count": 3,
   "metadata": {},
   "outputs": [
    {
     "name": "stdout",
     "output_type": "stream",
     "text": [
      "\u001b[?2004h"
     ]
    },
    {
     "ename": "",
     "evalue": "1",
     "output_type": "error",
     "traceback": []
    }
   ],
   "source": [
    "data_suffix=\"/2xPt_6K10_15wk/\""
   ]
  },
  {
   "cell_type": "code",
   "execution_count": 4,
   "metadata": {},
   "outputs": [
    {
     "name": "stdout",
     "output_type": "stream",
     "text": [
      "\u001b[?2004h"
     ]
    },
    {
     "ename": "",
     "evalue": "1",
     "output_type": "error",
     "traceback": []
    }
   ],
   "source": [
    "data=\"${data_prefix}${data_suffix}\""
   ]
  },
  {
   "cell_type": "markdown",
   "metadata": {},
   "source": [
    "### Sample information\n",
    "Every experiment has a randomization datasheet, which was used to organize treatment and genotype information for each plate, prepare labels, and randomize plates. The path to this file is provided through the `randomization_datasheets` variable below. This workflow requires this datasheet in order to know which plates have which genotype/treatment. At a later date, we will integrate an ability to read this data directly from labels."
   ]
  },
  {
   "cell_type": "code",
   "execution_count": 5,
   "metadata": {},
   "outputs": [
    {
     "name": "stdout",
     "output_type": "stream",
     "text": [
      "\u001b[?2004h"
     ]
    },
    {
     "ename": "",
     "evalue": "1",
     "output_type": "error",
     "traceback": []
    }
   ],
   "source": [
    "randomization_datasheet=\"${data_prefix}/2xPt_6K10_15wk/6K10_2xPt_rand.xlsx\""
   ]
  },
  {
   "cell_type": "markdown",
   "metadata": {},
   "source": [
    "### Detection of missing or contaminated explants"
   ]
  },
  {
   "cell_type": "markdown",
   "metadata": {},
   "source": [
    "Set the `missing_explants` variable to `\"Automatic\"` if using model to automatically detect missing and contaminated explants. Note that this model is only supported for plates with 12 explants. Otherwise, provide an appropriately formatted `.csv` spreadsheet (see example)  of manually scored contamination / missing explant data."
   ]
  },
  {
   "cell_type": "code",
   "execution_count": 6,
   "metadata": {},
   "outputs": [
    {
     "name": "stdout",
     "output_type": "stream",
     "text": [
      "\u001b[?2004h"
     ]
    },
    {
     "ename": "",
     "evalue": "1",
     "output_type": "error",
     "traceback": []
    }
   ],
   "source": [
    "missing_explants=\"Automatic\""
   ]
  },
  {
   "cell_type": "markdown",
   "metadata": {},
   "source": [
    "Enter your email where results will be sent"
   ]
  },
  {
   "cell_type": "markdown",
   "metadata": {},
   "source": [
    "### Email"
   ]
  },
  {
   "cell_type": "code",
   "execution_count": 7,
   "metadata": {},
   "outputs": [
    {
     "name": "stdout",
     "output_type": "stream",
     "text": [
      "\u001b[?2004h"
     ]
    },
    {
     "ename": "",
     "evalue": "1",
     "output_type": "error",
     "traceback": []
    }
   ],
   "source": [
    "email=ryanna@oregonstate.edu"
   ]
  },
  {
   "cell_type": "markdown",
   "metadata": {},
   "source": [
    "\n",
    "\n",
    "\n",
    "\n",
    "\n",
    "\n",
    "\n",
    "\n",
    "\n",
    "\n",
    "\n",
    "\n",
    "\n",
    "\n",
    "\n",
    "<div class=\"alert alert-block alert-warning\">\n",
    "All variables below should be modified only as needed to indicate the fluorescent proteins in samples and the grid layout of explants. </div>"
   ]
  },
  {
   "cell_type": "markdown",
   "metadata": {},
   "source": [
    "### Fluorescent protein settings"
   ]
  },
  {
   "cell_type": "markdown",
   "metadata": {},
   "source": [
    "Below should be all known fluorescent components contained in the sample. This includes each fluorescent protein, as well as a \"noise\" or \"diffraction\" term if applicable. All of these components must exist in the user's spectral library. `GMOdetector` currently comes with a spectral library that includes, by default:\n",
    "- DsRed\n",
    "- ZsYellow\n",
    "- GFP\n",
    "- Chl\n",
    "- ChlA\n",
    "- ChlB\n",
    "- Diffraction"
   ]
  },
  {
   "cell_type": "code",
   "execution_count": 8,
   "metadata": {},
   "outputs": [
    {
     "name": "stdout",
     "output_type": "stream",
     "text": [
      "\u001b[?2004h"
     ]
    },
    {
     "ename": "",
     "evalue": "1",
     "output_type": "error",
     "traceback": []
    }
   ],
   "source": [
    "fluorophores=(DsRed Chl Diffraction) # An explanation of array variables in bash is here: https://tldp.org/LDP/Bash-Beginners-Guide/html/sect_10_02.html"
   ]
  },
  {
   "cell_type": "markdown",
   "metadata": {},
   "source": [
    "The user has the option of limiting loading of hyperspectral data and subsequent regression to a specific range of wavelengths, using the `desired_wavelength_range` array variable. This range should cover all fluorophores provided in the `fluorophores` array variable able. Aside from runtime, there is no disadvantage to including a wider range than is needed."
   ]
  },
  {
   "cell_type": "code",
   "execution_count": 9,
   "metadata": {},
   "outputs": [
    {
     "name": "stdout",
     "output_type": "stream",
     "text": [
      "\u001b[?2004h"
     ]
    },
    {
     "ename": "",
     "evalue": "1",
     "output_type": "error",
     "traceback": []
    }
   ],
   "source": [
    "desired_wavelength_range=(500 900)"
   ]
  },
  {
   "cell_type": "markdown",
   "metadata": {},
   "source": [
    "### False color plot settings"
   ]
  },
  {
   "cell_type": "markdown",
   "metadata": {},
   "source": [
    "To assist user inspection of regression results, false color plots can be produced by `GMOdetector` to show results of regression over whole samples. \n",
    "Note: In v0.2.0.x of the workflow, these parameters are independent of those used later by `GMOlabeler` to produce by-explant plots including false color plots. These will be made the same in a later update.\n",
    "The `FalseColor_channels` array variable indicates the components to be plotted as red, green and blue, in that order."
   ]
  },
  {
   "cell_type": "code",
   "execution_count": 10,
   "metadata": {},
   "outputs": [
    {
     "name": "stdout",
     "output_type": "stream",
     "text": [
      "\u001b[?2004h"
     ]
    },
    {
     "ename": "",
     "evalue": "1",
     "output_type": "error",
     "traceback": []
    }
   ],
   "source": [
    "FalseColor_channels=(Chl DsRed Diffraction)"
   ]
  },
  {
   "cell_type": "markdown",
   "metadata": {},
   "source": [
    "The `FalseColor_caps` array variable indicates an upper limit of signal for each of these component. Any signal at or above these values will appear with maximum brightness; thus, these variables are comparable to exposure on a camera. If caps are too high, not much signal at lower ranges will be seen. If cap for a given component is too low, the false color images will appear overexposed with respect to the component."
   ]
  },
  {
   "cell_type": "code",
   "execution_count": 11,
   "metadata": {},
   "outputs": [
    {
     "name": "stdout",
     "output_type": "stream",
     "text": [
      "\u001b[?2004h"
     ]
    },
    {
     "ename": "",
     "evalue": "1",
     "output_type": "error",
     "traceback": []
    }
   ],
   "source": [
    "FalseColor_caps=(200 800 200)"
   ]
  },
  {
   "cell_type": "markdown",
   "metadata": {},
   "source": [
    "`GMOlabeler` will use the below parameters to classify individual explants on plates as positive for a given fluorescent protein or not. A single fluorescent protein is chosen for the by-explant false color plots. Multiple can be used to generate the final plots summarizing results."
   ]
  },
  {
   "cell_type": "code",
   "execution_count": 12,
   "metadata": {},
   "outputs": [
    {
     "name": "stdout",
     "output_type": "stream",
     "text": [
      "\u001b[?2004l\n",
      "\u001b[?2004h"
     ]
    },
    {
     "ename": "",
     "evalue": "1",
     "output_type": "error",
     "traceback": []
    }
   ],
   "source": [
    "echo $reporters"
   ]
  },
  {
   "cell_type": "code",
   "execution_count": 13,
   "metadata": {},
   "outputs": [
    {
     "name": "stdout",
     "output_type": "stream",
     "text": [
      "\u001b[?2004h\u001b[?2004l"
     ]
    },
    {
     "ename": "",
     "evalue": "1",
     "output_type": "error",
     "traceback": []
    }
   ],
   "source": [
    "reporters=(DsRed)\n",
    "#reporter=DsRed"
   ]
  },
  {
   "cell_type": "markdown",
   "metadata": {},
   "source": [
    "Parameters for reporter signal threshold and pixel threshold must be provided by the user. Our grid search yielded several noted below. These were most recently calculated from statistics produced with Python `GMOdetector`."
   ]
  },
  {
   "cell_type": "markdown",
   "metadata": {},
   "source": [
    "<img src=\"Figures/GMOlabeler_parameters.png\">"
   ]
  },
  {
   "cell_type": "code",
   "execution_count": 14,
   "metadata": {},
   "outputs": [
    {
     "name": "stdout",
     "output_type": "stream",
     "text": [
      "\u001b[?2004h\u001b[?2004l"
     ]
    },
    {
     "ename": "",
     "evalue": "1",
     "output_type": "error",
     "traceback": []
    }
   ],
   "source": [
    "reporter_threshold=38\n",
    "pixel_threshold=3"
   ]
  },
  {
   "cell_type": "markdown",
   "metadata": {},
   "source": [
    "### Grid settings"
   ]
  },
  {
   "cell_type": "markdown",
   "metadata": {},
   "source": [
    "Currently, `GMOlabeler` distinguishes explants by their expected position on a plate. This is supported for plates with 12 or 20 explants, arranged in specific positions on a grid. False positives may result in cases in which one explant grows to such an extent that it intrudes into the grid square meant for an adjacent explant. <br>In the future, an additional neural network will be used to segment individual explants on a per-pixel basis, avoiding the need for crude cropping, and the outputs from the resulting model will be integrated with `GMOlabeler`."
   ]
  },
  {
   "cell_type": "markdown",
   "metadata": {},
   "source": [
    "Cropping to grid squares is supported for standard grids with 12 or 20 explants, as indicated by the `grid` variable. An image of each grid square (with a file path provided by the `grid_file` variable) will be superimposed over each image during `GMOlabeler` analysis to allow the user to easily inspect and verify grid positions."
   ]
  },
  {
   "cell_type": "code",
   "execution_count": 15,
   "metadata": {},
   "outputs": [
    {
     "name": "stdout",
     "output_type": "stream",
     "text": [
      "\u001b[?2004h"
     ]
    },
    {
     "ename": "",
     "evalue": "1",
     "output_type": "error",
     "traceback": []
    }
   ],
   "source": [
    "grid=12"
   ]
  },
  {
   "cell_type": "markdown",
   "metadata": {},
   "source": [
    "Define grid borders for the grid with an image size of 2000x2000, not yet aligned to hyperspectral images. These borders will be used for the contamination model."
   ]
  },
  {
   "cell_type": "code",
   "execution_count": 16,
   "metadata": {},
   "outputs": [
    {
     "name": "stdout",
     "output_type": "stream",
     "text": [
      "\u001b[?2004h"
     ]
    },
    {
     "ename": "",
     "evalue": "1",
     "output_type": "error",
     "traceback": []
    }
   ],
   "source": [
    "pre_aligned_resized_grid_borders=(\"256,490,1720,1602\")"
   ]
  },
  {
   "cell_type": "markdown",
   "metadata": {},
   "source": [
    "Define grid borders for the grid after alignment. If unsure what to use, you may wish to wait until after alignment and inspection of results to set this parameter."
   ]
  },
  {
   "cell_type": "code",
   "execution_count": 17,
   "metadata": {},
   "outputs": [
    {
     "name": "stdout",
     "output_type": "stream",
     "text": [
      "\u001b[?2004h"
     ]
    },
    {
     "ename": "",
     "evalue": "1",
     "output_type": "error",
     "traceback": []
    }
   ],
   "source": [
    "aligned_grid_borders=\"122 1276 1273 326\""
   ]
  },
  {
   "cell_type": "markdown",
   "metadata": {},
   "source": [
    "<div class=\"alert alert-block alert-danger\">\n",
    "The below variables do not need to be modified during any routine use of the workflow.\n",
    "</div>"
   ]
  },
  {
   "cell_type": "markdown",
   "metadata": {},
   "source": [
    "For the following variables, use 0 (False) or 1 (True)"
   ]
  },
  {
   "cell_type": "code",
   "execution_count": 18,
   "metadata": {},
   "outputs": [
    {
     "name": "stdout",
     "output_type": "stream",
     "text": [
      "\u001b[?2004h"
     ]
    },
    {
     "ename": "",
     "evalue": "1",
     "output_type": "error",
     "traceback": []
    }
   ],
   "source": [
    "composite=1"
   ]
  },
  {
   "cell_type": "markdown",
   "metadata": {},
   "source": [
    "Set dimensions for plot outputs"
   ]
  },
  {
   "cell_type": "code",
   "execution_count": 19,
   "metadata": {},
   "outputs": [
    {
     "name": "stdout",
     "output_type": "stream",
     "text": [
      "\u001b[?2004h\u001b[?2004l\u001b[?2004l"
     ]
    },
    {
     "ename": "",
     "evalue": "1",
     "output_type": "error",
     "traceback": []
    }
   ],
   "source": [
    "#width=15\n",
    "width=9\n",
    "height=5"
   ]
  },
  {
   "cell_type": "code",
   "execution_count": 20,
   "metadata": {},
   "outputs": [
    {
     "name": "stdout",
     "output_type": "stream",
     "text": [
      "\u001b[?2004h"
     ]
    },
    {
     "ename": "",
     "evalue": "1",
     "output_type": "error",
     "traceback": []
    }
   ],
   "source": [
    "parallel=0"
   ]
  },
  {
   "cell_type": "markdown",
   "metadata": {},
   "source": [
    "### Alignment settings"
   ]
  },
  {
   "cell_type": "markdown",
   "metadata": {},
   "source": [
    "Set to \"Automatic\" if generating a new homography matrix from the grid standard included in the data folder. If using an existing homography matrix, enter the name here. This file should be in the \"output\" subfolder of the path to the `ImageAlignment` module."
   ]
  },
  {
   "cell_type": "code",
   "execution_count": 21,
   "metadata": {},
   "outputs": [
    {
     "name": "stdout",
     "output_type": "stream",
     "text": [
      "\u001b[?2004h"
     ]
    },
    {
     "ename": "",
     "evalue": "1",
     "output_type": "error",
     "traceback": []
    }
   ],
   "source": [
    "homography=\"/home/michael/GMOnotebook/existing_alignments/_GWAS_CRISPR_CRIA_wk3_stem_only_/chromagrid_I5.0_F1.9_L100LED30_144832_0_0_0_rgb_homography.npy\""
   ]
  },
  {
   "cell_type": "markdown",
   "metadata": {},
   "source": [
    "Set to \"Automatic\" or the path to the hyperspectral channel used to produce the homography matrix provided."
   ]
  },
  {
   "cell_type": "code",
   "execution_count": 22,
   "metadata": {},
   "outputs": [
    {
     "name": "stdout",
     "output_type": "stream",
     "text": [
      "\u001b[?2004h"
     ]
    },
    {
     "ename": "",
     "evalue": "1",
     "output_type": "error",
     "traceback": []
    }
   ],
   "source": [
    "hypercube_csv=\"/home/michael/GMOnotebook/existing_alignments/_GWAS_CRISPR_CRIA_wk3_stem_only_/hypercube_to_csv.csv\""
   ]
  },
  {
   "cell_type": "markdown",
   "metadata": {},
   "source": [
    "Parameters to be used for generating a homography  matrix; these will only be used if `homography` is set to \"Automatic\""
   ]
  },
  {
   "cell_type": "code",
   "execution_count": 23,
   "metadata": {},
   "outputs": [
    {
     "name": "stdout",
     "output_type": "stream",
     "text": [
      "\u001b[?2004h\u001b[?2004l"
     ]
    },
    {
     "ename": "",
     "evalue": "1",
     "output_type": "error",
     "traceback": []
    }
   ],
   "source": [
    "distance=0.60\n",
    "gaussian_sigma=0.40"
   ]
  },
  {
   "cell_type": "markdown",
   "metadata": {},
   "source": [
    "Set to \"Automatic\" or the path to the jpg resulting from using the homography matrix (indicated by the `homography` variable) above to transform the original grid jpg"
   ]
  },
  {
   "cell_type": "code",
   "execution_count": 24,
   "metadata": {},
   "outputs": [
    {
     "name": "stdout",
     "output_type": "stream",
     "text": [
      "\u001b[?2004h"
     ]
    },
    {
     "ename": "",
     "evalue": "1",
     "output_type": "error",
     "traceback": []
    }
   ],
   "source": [
    "aligned_grid=\"/home/michael/GMOnotebook/existing_alignments/_GWAS_CRISPR_CRIA_wk3_stem_only_/chromagrid_I5.0_F1.9_L100LED30_144832_0_0_0_rgb_aligned.jpg\""
   ]
  },
  {
   "cell_type": "code",
   "execution_count": 25,
   "metadata": {},
   "outputs": [
    {
     "name": "stdout",
     "output_type": "stream",
     "text": [
      "\u001b[?2004h"
     ]
    },
    {
     "ename": "",
     "evalue": "1",
     "output_type": "error",
     "traceback": []
    }
   ],
   "source": [
    "test_align_each_img=0"
   ]
  },
  {
   "cell_type": "markdown",
   "metadata": {},
   "source": [
    "### Paths to workflow modules"
   ]
  },
  {
   "cell_type": "markdown",
   "metadata": {},
   "source": [
    "These only need to be modified if you are setting up a `GMOnotebook` template on a new computer."
   ]
  },
  {
   "cell_type": "code",
   "execution_count": 26,
   "metadata": {},
   "outputs": [
    {
     "name": "stdout",
     "output_type": "stream",
     "text": [
      "\u001b[?2004h"
     ]
    },
    {
     "ename": "",
     "evalue": "1",
     "output_type": "error",
     "traceback": []
    }
   ],
   "source": [
    "cwd=\"/home/michael/GMOnotebook\""
   ]
  },
  {
   "cell_type": "code",
   "execution_count": 27,
   "metadata": {},
   "outputs": [
    {
     "name": "stdout",
     "output_type": "stream",
     "text": [
      "\u001b[?2004h\u001b[?2004l\u001b[?2004l\u001b[?2004l\u001b[?2004l\u001b[?2004l\u001b[?2004l\u001b[?2004l"
     ]
    },
    {
     "ename": "",
     "evalue": "1",
     "output_type": "error",
     "traceback": []
    }
   ],
   "source": [
    "gmodetector_wd=\"/home/michael/gmodetector_py/\"\n",
    "spectral_library_path=\"${gmodetector_wd}spectral_library/\"\n",
    "deeplab_path=\"/home/michael/poplar_model_2_w_contam/\"\n",
    "alignment_path=\"/home/michael/ImageAlignment/\"\n",
    "gmolabeler_path=\"/home/michael/GMOlabeler/\"\n",
    "contamination_path=\"/home/michael/DenseNet\"\n",
    "data_prefix=\"/home/michael/data/\"\n",
    "output_directory_prefix=\"${data_prefix}gmodetector_out/\""
   ]
  },
  {
   "cell_type": "markdown",
   "metadata": {},
   "source": [
    "<div class=\"alert alert-block alert-info\">\n",
    "With all above variables set, please \"Save as...\" with a filename referencing this specific dataset. <br>Finally, deploy the workflow (Step 4 in above instructions).\n",
    "</div>"
   ]
  },
  {
   "cell_type": "markdown",
   "metadata": {},
   "source": [
    "# Automated workflow to be deployed"
   ]
  },
  {
   "cell_type": "markdown",
   "metadata": {},
   "source": [
    "See the below code for a walkthrough of how GMOnotebook works, or view the outputs after running the workflow for help troubleshooting errors in specific steps of analysis."
   ]
  },
  {
   "cell_type": "markdown",
   "metadata": {},
   "source": [
    "<div class=\"alert alert-block alert-danger\"> <b>Danger:</b> Do not modify any below code without creating a new version of the template notebook. During routine usage, this workflow should be customized only by modifying variables above, while leaving the below code unmodified. </div>"
   ]
  },
  {
   "cell_type": "markdown",
   "metadata": {},
   "source": [
    "These internal variables are set automatically."
   ]
  },
  {
   "cell_type": "code",
   "execution_count": 28,
   "metadata": {},
   "outputs": [
    {
     "name": "stdout",
     "output_type": "stream",
     "text": [
      "\u001b[?2004h"
     ]
    },
    {
     "ename": "",
     "evalue": "1",
     "output_type": "error",
     "traceback": []
    }
   ],
   "source": [
    "datestamp=$(date +”%Y-%m-%d”)"
   ]
  },
  {
   "cell_type": "code",
   "execution_count": 29,
   "metadata": {},
   "outputs": [
    {
     "name": "stdout",
     "output_type": "stream",
     "text": [
      "\u001b[?2004h"
     ]
    },
    {
     "ename": "",
     "evalue": "1",
     "output_type": "error",
     "traceback": []
    }
   ],
   "source": [
    "data_folder=$(echo $data | cut -d/ -f5-)"
   ]
  },
  {
   "cell_type": "code",
   "execution_count": 30,
   "metadata": {},
   "outputs": [
    {
     "name": "stdout",
     "output_type": "stream",
     "text": [
      "\u001b[?2004h"
     ]
    },
    {
     "ename": "",
     "evalue": "1",
     "output_type": "error",
     "traceback": []
    }
   ],
   "source": [
    "timepoint=\"$(basename -- $data_folder)\""
   ]
  },
  {
   "cell_type": "code",
   "execution_count": 31,
   "metadata": {},
   "outputs": [
    {
     "name": "stdout",
     "output_type": "stream",
     "text": [
      "\u001b[?2004h"
     ]
    },
    {
     "ename": "",
     "evalue": "1",
     "output_type": "error",
     "traceback": []
    }
   ],
   "source": [
    "output_directory_full=\"$output_directory_prefix$data_folder\""
   ]
  },
  {
   "cell_type": "code",
   "execution_count": 32,
   "metadata": {},
   "outputs": [
    {
     "name": "stdout",
     "output_type": "stream",
     "text": [
      "\u001b[?2004h\u001b[?2004l"
     ]
    },
    {
     "ename": "",
     "evalue": "1",
     "output_type": "error",
     "traceback": []
    }
   ],
   "source": [
    "#dataset_name=$(echo $data_folder | sed -e 's/\\//-/g')\n",
    "dataset_name=$(echo $data_folder | sed -e 's/\\///g')"
   ]
  },
  {
   "cell_type": "code",
   "execution_count": 33,
   "metadata": {},
   "outputs": [
    {
     "name": "stdout",
     "output_type": "stream",
     "text": [
      "2xPt_6K10_15wk\n",
      "\u001b[?2004h"
     ]
    },
    {
     "ename": "",
     "evalue": "1",
     "output_type": "error",
     "traceback": []
    }
   ],
   "source": [
    "echo $dataset_name"
   ]
  },
  {
   "cell_type": "markdown",
   "metadata": {},
   "source": [
    "Time analysis begins:"
   ]
  },
  {
   "cell_type": "code",
   "execution_count": 34,
   "metadata": {},
   "outputs": [
    {
     "name": "stdout",
     "output_type": "stream",
     "text": [
      "Thu 17 Feb 2022 03:09:39 PM PST\n",
      "\u001b[?2004h"
     ]
    },
    {
     "ename": "",
     "evalue": "1",
     "output_type": "error",
     "traceback": []
    }
   ],
   "source": [
    "echo $(date)"
   ]
  },
  {
   "cell_type": "markdown",
   "metadata": {},
   "source": [
    "## Quantification of fluorescent proteins by regression"
   ]
  },
  {
   "cell_type": "markdown",
   "metadata": {},
   "source": [
    "The Python package `CubeGLM` is used to quantify fluorescent proteins in each pixel of hyperspectral images via linear regression. Hyperspectral images are regressed over spectra of known components, and pixelwise maps of test-statistics are constructed for each component in the sample. This approach to quantifying components of hyperspectral images is described in-depth in the Methods section from <a href=\"https://link.springer.com/article/10.1007/s40789-019-0252-7\" target=\"_blank\">Böhme, et al. 2019</a>. Code and documentation for `CubeGLM` is on <a href=\"https://github.com/naglemi/GMOdetector_py\" target=\"_blank\">Github</a>."
   ]
  },
  {
   "cell_type": "code",
   "execution_count": 35,
   "metadata": {},
   "outputs": [
    {
     "name": "stdout",
     "output_type": "stream",
     "text": [
      "\u001b[?2004h"
     ]
    },
    {
     "ename": "",
     "evalue": "1",
     "output_type": "error",
     "traceback": []
    }
   ],
   "source": [
    "cd $gmodetector_wd"
   ]
  },
  {
   "cell_type": "code",
   "execution_count": 36,
   "metadata": {},
   "outputs": [
    {
     "name": "stdout",
     "output_type": "stream",
     "text": [
      "\u001b[?2004h"
     ]
    },
    {
     "ename": "",
     "evalue": "1",
     "output_type": "error",
     "traceback": []
    }
   ],
   "source": [
    "job_list_name=\"$dataset_name.jobs\""
   ]
  },
  {
   "cell_type": "code",
   "execution_count": 37,
   "metadata": {},
   "outputs": [
    {
     "name": "stdout",
     "output_type": "stream",
     "text": [
      "\u001b[?2004h"
     ]
    },
    {
     "ename": "",
     "evalue": "1",
     "output_type": "error",
     "traceback": []
    }
   ],
   "source": [
    "rm -rf $job_list_name"
   ]
  },
  {
   "cell_type": "code",
   "execution_count": 38,
   "metadata": {},
   "outputs": [
    {
     "name": "stdout",
     "output_type": "stream",
     "text": [
      "\u001b[?2004h\u001b[?2004l\u001b[?2004l\u001b[?2004l\u001b[?2004l\u001b[?2004l\u001b[?2004l\u001b[?2004l\u001b[?2004l\u001b[?2004l\u001b[?2004l\u001b[?2004l\u001b[?2004l\u001b[?2004l\u001b[?2004l\u001b[?2004l\u001b[?2004l\u001b[?2004l\u001b[?2004l\u001b[?2004l"
     ]
    },
    {
     "ename": "",
     "evalue": "1",
     "output_type": "error",
     "traceback": []
    }
   ],
   "source": [
    "for file in $data/*.hdr\n",
    "do\n",
    " if [[ \"$file\" != *'hroma'* ]] && [[ \"$file\" != *'roadband'* ]]; then\n",
    "  echo \"python -W ignore wrappers/analyze_sample.py \\\n",
    "--file_path $file \\\n",
    "--fluorophores ${fluorophores[*]} \\\n",
    "--min_desired_wavelength ${desired_wavelength_range[0]} \\\n",
    "--max_desired_wavelength ${desired_wavelength_range[1]} \\\n",
    "--red_channel ${FalseColor_channels[0]} \\\n",
    "--green_channel ${FalseColor_channels[1]} \\\n",
    "--blue_channel ${FalseColor_channels[2]} \\\n",
    "--red_cap ${FalseColor_caps[0]} \\\n",
    "--green_cap ${FalseColor_caps[1]} \\\n",
    "--blue_cap ${FalseColor_caps[2]} \\\n",
    "--plot 1 \\\n",
    "--spectral_library_path \"$spectral_library_path\" \\\n",
    "--output_dir $output_directory_full \\\n",
    "--threshold 38\" >> $job_list_name\n",
    " fi\n",
    "done"
   ]
  },
  {
   "cell_type": "code",
   "execution_count": null,
   "metadata": {},
   "outputs": [],
   "source": [
    "echo $job_list_name"
   ]
  },
  {
   "cell_type": "code",
   "execution_count": 39,
   "metadata": {
    "scrolled": true
   },
   "outputs": [
    {
     "name": "stdout",
     "output_type": "stream",
     "text": [
      "Running GMOdetector version 0.0.875\u001b[?2004l\u001b[?2004l\u001b[?2004l\u001b[?2004l\u001b[?2004l\u001b[?2004l\u001b[?2004l\u001b[?2004l\u001b[?2004l\n",
      "load mode isload_full_then_crop\n",
      "Saving to /home/michael/data/gmodetector_out//2xPt_6K10_15wk/DPT2_I5.0_F1.9_L100LED30_093837_0_0_3_Fluorescence_weights.hdf with key of weights\n",
      "Saving summary stats w/ threshold38.0 to /home/michael/data/gmodetector_out//2xPt_6K10_15wk/DPT2_I5.0_F1.9_L100LED30_093837_0_0_3_Fluorescence_summary.csv\n",
      "Producing image channel for DsRed with cap 400 in color green\n",
      "Producing image channel for Chl with cap 200 in color red\n",
      "Producing image channel for Diffraction with cap 200 in color blue\n",
      "Saving image to /home/michael/data/gmodetector_out//2xPt_6K10_15wk/DPT2_I5.0_F1.9_L100LED30_093837_0_0_3_Fluorescence.png\n",
      "Saving image metadata to /home/michael/data/gmodetector_out//2xPt_6K10_15wk/DPT2_I5.0_F1.9_L100LED30_093837_0_0_3_Fluorescence.csv\n",
      "\n",
      "Finished running sample /media/michael/Elements//2xPt_6K10_15wk//DPT2_I5.0_F1.9_L100LED30_093837_0_0_3_Fluorescence.hdr in 6.872668968993821s\n",
      "\n",
      "Running GMOdetector version 0.0.875\n",
      "load mode isload_full_then_crop\n",
      "Saving to /home/michael/data/gmodetector_out//2xPt_6K10_15wk/DPT2_I5.0_F1.9_L100LED30_093946_1_0_4_Fluorescence_weights.hdf with key of weights\n",
      "Saving summary stats w/ threshold38.0 to /home/michael/data/gmodetector_out//2xPt_6K10_15wk/DPT2_I5.0_F1.9_L100LED30_093946_1_0_4_Fluorescence_summary.csv\n",
      "Producing image channel for DsRed with cap 400 in color green\n",
      "Producing image channel for Chl with cap 200 in color red\n",
      "Producing image channel for Diffraction with cap 200 in color blue\n",
      "Saving image to /home/michael/data/gmodetector_out//2xPt_6K10_15wk/DPT2_I5.0_F1.9_L100LED30_093946_1_0_4_Fluorescence.png\n",
      "Saving image metadata to /home/michael/data/gmodetector_out//2xPt_6K10_15wk/DPT2_I5.0_F1.9_L100LED30_093946_1_0_4_Fluorescence.csv\n",
      "\n",
      "Finished running sample /media/michael/Elements//2xPt_6K10_15wk//DPT2_I5.0_F1.9_L100LED30_093946_1_0_4_Fluorescence.hdr in 6.827032172004692s\n",
      "\n",
      "Running GMOdetector version 0.0.875\n",
      "load mode isload_full_then_crop\n",
      "Saving to /home/michael/data/gmodetector_out//2xPt_6K10_15wk/DPT2_I5.0_F1.9_L100LED30_094043_2_0_5_Fluorescence_weights.hdf with key of weights\n",
      "Saving summary stats w/ threshold38.0 to /home/michael/data/gmodetector_out//2xPt_6K10_15wk/DPT2_I5.0_F1.9_L100LED30_094043_2_0_5_Fluorescence_summary.csv\n",
      "Producing image channel for DsRed with cap 400 in color green\n",
      "Producing image channel for Chl with cap 200 in color red\n",
      "Producing image channel for Diffraction with cap 200 in color blue\n",
      "Saving image to /home/michael/data/gmodetector_out//2xPt_6K10_15wk/DPT2_I5.0_F1.9_L100LED30_094043_2_0_5_Fluorescence.png\n",
      "Saving image metadata to /home/michael/data/gmodetector_out//2xPt_6K10_15wk/DPT2_I5.0_F1.9_L100LED30_094043_2_0_5_Fluorescence.csv\n",
      "\n",
      "Finished running sample /media/michael/Elements//2xPt_6K10_15wk//DPT2_I5.0_F1.9_L100LED30_094043_2_0_5_Fluorescence.hdr in 6.6499468839901965s\n",
      "\n",
      "Running GMOdetector version 0.0.875\n",
      "load mode isload_full_then_crop\n",
      "Saving to /home/michael/data/gmodetector_out//2xPt_6K10_15wk/DPT2_I5.0_F1.9_L100LED30_094140_3_0_6_Fluorescence_weights.hdf with key of weights\n",
      "Saving summary stats w/ threshold38.0 to /home/michael/data/gmodetector_out//2xPt_6K10_15wk/DPT2_I5.0_F1.9_L100LED30_094140_3_0_6_Fluorescence_summary.csv\n",
      "Producing image channel for DsRed with cap 400 in color green\n",
      "Producing image channel for Chl with cap 200 in color red\n",
      "Producing image channel for Diffraction with cap 200 in color blue\n",
      "Saving image to /home/michael/data/gmodetector_out//2xPt_6K10_15wk/DPT2_I5.0_F1.9_L100LED30_094140_3_0_6_Fluorescence.png\n",
      "Saving image metadata to /home/michael/data/gmodetector_out//2xPt_6K10_15wk/DPT2_I5.0_F1.9_L100LED30_094140_3_0_6_Fluorescence.csv\n",
      "\n",
      "Finished running sample /media/michael/Elements//2xPt_6K10_15wk//DPT2_I5.0_F1.9_L100LED30_094140_3_0_6_Fluorescence.hdr in 6.558598853996955s\n",
      "\n",
      "Running GMOdetector version 0.0.875\n",
      "load mode isload_full_then_crop\n",
      "Saving to /home/michael/data/gmodetector_out//2xPt_6K10_15wk/DPT2_I5.0_F1.9_L100LED30_094236_4_1_3_Fluorescence_weights.hdf with key of weights\n",
      "Saving summary stats w/ threshold38.0 to /home/michael/data/gmodetector_out//2xPt_6K10_15wk/DPT2_I5.0_F1.9_L100LED30_094236_4_1_3_Fluorescence_summary.csv\n",
      "Producing image channel for DsRed with cap 400 in color green\n",
      "Producing image channel for Chl with cap 200 in color red\n",
      "Producing image channel for Diffraction with cap 200 in color blue\n",
      "Saving image to /home/michael/data/gmodetector_out//2xPt_6K10_15wk/DPT2_I5.0_F1.9_L100LED30_094236_4_1_3_Fluorescence.png\n",
      "Saving image metadata to /home/michael/data/gmodetector_out//2xPt_6K10_15wk/DPT2_I5.0_F1.9_L100LED30_094236_4_1_3_Fluorescence.csv\n",
      "\n",
      "Finished running sample /media/michael/Elements//2xPt_6K10_15wk//DPT2_I5.0_F1.9_L100LED30_094236_4_1_3_Fluorescence.hdr in 6.524782827007584s\n",
      "\n",
      "Running GMOdetector version 0.0.875\n",
      "load mode isload_full_then_crop\n",
      "Saving to /home/michael/data/gmodetector_out//2xPt_6K10_15wk/DPT2_I5.0_F1.9_L100LED30_094344_5_1_2_Fluorescence_weights.hdf with key of weights\n",
      "Saving summary stats w/ threshold38.0 to /home/michael/data/gmodetector_out//2xPt_6K10_15wk/DPT2_I5.0_F1.9_L100LED30_094344_5_1_2_Fluorescence_summary.csv\n",
      "Producing image channel for DsRed with cap 400 in color green\n",
      "Producing image channel for Chl with cap 200 in color red\n",
      "Producing image channel for Diffraction with cap 200 in color blue\n",
      "Saving image to /home/michael/data/gmodetector_out//2xPt_6K10_15wk/DPT2_I5.0_F1.9_L100LED30_094344_5_1_2_Fluorescence.png\n",
      "Saving image metadata to /home/michael/data/gmodetector_out//2xPt_6K10_15wk/DPT2_I5.0_F1.9_L100LED30_094344_5_1_2_Fluorescence.csv\n",
      "\n",
      "Finished running sample /media/michael/Elements//2xPt_6K10_15wk//DPT2_I5.0_F1.9_L100LED30_094344_5_1_2_Fluorescence.hdr in 46.35067957000865s\n",
      "\n",
      "Running GMOdetector version 0.0.875\n",
      "load mode isload_full_then_crop\n",
      "Saving to /home/michael/data/gmodetector_out//2xPt_6K10_15wk/DPT2_I5.0_F1.9_L100LED30_094441_6_1_1_Fluorescence_weights.hdf with key of weights\n",
      "Saving summary stats w/ threshold38.0 to /home/michael/data/gmodetector_out//2xPt_6K10_15wk/DPT2_I5.0_F1.9_L100LED30_094441_6_1_1_Fluorescence_summary.csv\n",
      "Producing image channel for DsRed with cap 400 in color green\n",
      "Producing image channel for Chl with cap 200 in color red\n",
      "Producing image channel for Diffraction with cap 200 in color blue\n",
      "Saving image to /home/michael/data/gmodetector_out//2xPt_6K10_15wk/DPT2_I5.0_F1.9_L100LED30_094441_6_1_1_Fluorescence.png\n",
      "Saving image metadata to /home/michael/data/gmodetector_out//2xPt_6K10_15wk/DPT2_I5.0_F1.9_L100LED30_094441_6_1_1_Fluorescence.csv\n",
      "\n",
      "Finished running sample /media/michael/Elements//2xPt_6K10_15wk//DPT2_I5.0_F1.9_L100LED30_094441_6_1_1_Fluorescence.hdr in 47.65737513599743s\n",
      "\n",
      "Running GMOdetector version 0.0.875\n",
      "load mode isload_full_then_crop\n",
      "Saving to /home/michael/data/gmodetector_out//2xPt_6K10_15wk/DPT2_I5.0_F1.9_L100LED30_094538_7_1_0_Fluorescence_weights.hdf with key of weights\n",
      "Saving summary stats w/ threshold38.0 to /home/michael/data/gmodetector_out//2xPt_6K10_15wk/DPT2_I5.0_F1.9_L100LED30_094538_7_1_0_Fluorescence_summary.csv\n",
      "Producing image channel for DsRed with cap 400 in color green\n",
      "Producing image channel for Chl with cap 200 in color red\n",
      "Producing image channel for Diffraction with cap 200 in color blue\n",
      "Saving image to /home/michael/data/gmodetector_out//2xPt_6K10_15wk/DPT2_I5.0_F1.9_L100LED30_094538_7_1_0_Fluorescence.png\n",
      "Saving image metadata to /home/michael/data/gmodetector_out//2xPt_6K10_15wk/DPT2_I5.0_F1.9_L100LED30_094538_7_1_0_Fluorescence.csv\n",
      "\n",
      "Finished running sample /media/michael/Elements//2xPt_6K10_15wk//DPT2_I5.0_F1.9_L100LED30_094538_7_1_0_Fluorescence.hdr in 45.704429471996264s\n",
      "\n",
      "\u001b[?2004h(jupyter) ronment) \u001b[?2004l\u001b[?2004l\u001b[?2004l"
     ]
    },
    {
     "ename": "",
     "evalue": "1",
     "output_type": "error",
     "traceback": []
    }
   ],
   "source": [
    "conda activate test-environment\n",
    "\n",
    "if [ $parallel -eq 1 ]\n",
    "then\n",
    "    parallel -a $job_list_name\n",
    "fi\n",
    "\n",
    "if [ $parallel -eq 0 ]\n",
    "then\n",
    "    bash $job_list_name\n",
    "fi\n",
    "\n",
    "conda deactivate\n",
    "conda deactivate"
   ]
  },
  {
   "cell_type": "markdown",
   "metadata": {},
   "source": [
    "Time regression completes:"
   ]
  },
  {
   "cell_type": "code",
   "execution_count": 40,
   "metadata": {},
   "outputs": [
    {
     "name": "stdout",
     "output_type": "stream",
     "text": [
      "Thu 17 Feb 2022 03:13:03 PM PST\n",
      "\u001b[?2004h"
     ]
    },
    {
     "ename": "",
     "evalue": "1",
     "output_type": "error",
     "traceback": []
    }
   ],
   "source": [
    "echo $(date)"
   ]
  },
  {
   "cell_type": "markdown",
   "metadata": {},
   "source": [
    "## Neural networks to segment tissues, classify missing/contaminated explants"
   ]
  },
  {
   "cell_type": "markdown",
   "metadata": {},
   "source": [
    "### Semantic segmentation of tissues"
   ]
  },
  {
   "cell_type": "markdown",
   "metadata": {},
   "source": [
    "Images are segmented into specific plant tissues by a deep neural network of the state-of-the-art Deeplab v3 architecture <a href=\"https://arxiv.org/abs/1706.05587\" target=\"_blank\">Liang-Chieh et al., 2017</a>. The model has been trained using training sets generated with our annotation GUI Intelligent DEep Annotator for Segmentation (IDEAS, available on <a href=\"https://bitbucket.org/JialinYuan/image-annotator/src/master/\" target=\"_blank\">Bitbucket</a>, publication pending). Our branch of the Deeplab v3 repo, including a Jupyter walkthrough for training, can be found on Github."
   ]
  },
  {
   "cell_type": "markdown",
   "metadata": {},
   "source": [
    "Training is completed upstream of this notebook, which only entails analysis of test data using the latest model."
   ]
  },
  {
   "cell_type": "markdown",
   "metadata": {},
   "source": [
    "<img src=\"Figures/downsized/segmentation_composite2.png\">"
   ]
  },
  {
   "cell_type": "markdown",
   "metadata": {},
   "source": [
    "Figure: This example image was taken from an experiment on the effects of different CIMs on cottonwood regeneration. This composite image illustrates that for every sample, tissues are segmented into stem (red), callus (blue) and shoot (green). These composite images, useful for manual inspection of results, are produced when the 'composite' option is on."
   ]
  },
  {
   "cell_type": "markdown",
   "metadata": {},
   "source": [
    "#### Pre-processing"
   ]
  },
  {
   "cell_type": "markdown",
   "metadata": {},
   "source": [
    "##### Normalize orientation"
   ]
  },
  {
   "cell_type": "markdown",
   "metadata": {},
   "source": [
    "We desire for images to all be in the same orientation. At one point, the camera on the *macroPhor Array* was set to automatically detect orientation, which led to images randomly being in portrait or landscape. Here we will standardize the orientation."
   ]
  },
  {
   "cell_type": "code",
   "execution_count": 49,
   "metadata": {},
   "outputs": [
    {
     "name": "stdout",
     "output_type": "stream",
     "text": [
      "\u001b[?2004h(alignment) \u001b[?2004l\u001b[?2004l\u001b[?2004l\u001b[?2004l\u001b[?2004l"
     ]
    },
    {
     "ename": "",
     "evalue": "1",
     "output_type": "error",
     "traceback": []
    }
   ],
   "source": [
    "conda activate alignment\n",
    "for filename in $data/*.jpg; do\n",
    "    exiftool -Orientation=8 -n $filename > ${data}log_exiftool.txt\n",
    "    done\n",
    "conda deactivate\n",
    "conda deactivate"
   ]
  },
  {
   "cell_type": "code",
   "execution_count": 50,
   "metadata": {},
   "outputs": [
    {
     "name": "stdout",
     "output_type": "stream",
     "text": [
      "\u001b[?2004h"
     ]
    },
    {
     "ename": "",
     "evalue": "1",
     "output_type": "error",
     "traceback": []
    }
   ],
   "source": [
    "rm -f $data/*original*"
   ]
  },
  {
   "cell_type": "markdown",
   "metadata": {},
   "source": [
    "##### Crop and resize"
   ]
  },
  {
   "cell_type": "markdown",
   "metadata": {},
   "source": [
    "This script resizes images to 900x900 and then crops away top and bottom 150 pixels for a final image size of 900x600."
   ]
  },
  {
   "cell_type": "markdown",
   "metadata": {},
   "source": [
    "The purpose for cropping is to remove labels, which has been standard practice for all training and testing. Otherwise, we could run into problems such as the neural network \"learning\" plants labeled as control have more or less regeneration.<br>The purpose for resizing is to reduce computational expense."
   ]
  },
  {
   "cell_type": "code",
   "execution_count": 51,
   "metadata": {},
   "outputs": [
    {
     "name": "stdout",
     "output_type": "stream",
     "text": [
      "\u001b[?2004h"
     ]
    },
    {
     "ename": "",
     "evalue": "1",
     "output_type": "error",
     "traceback": []
    }
   ],
   "source": [
    "cd ${cwd}/intermediates/"
   ]
  },
  {
   "cell_type": "code",
   "execution_count": 52,
   "metadata": {},
   "outputs": [
    {
     "name": "stdout",
     "output_type": "stream",
     "text": [
      "\u001b[?2004h(base) \u001b[?2004l\u001b[?2004l"
     ]
    },
    {
     "ename": "",
     "evalue": "1",
     "output_type": "error",
     "traceback": []
    }
   ],
   "source": [
    "conda activate base\n",
    "python crop.py $data\n",
    "conda deactivate"
   ]
  },
  {
   "cell_type": "markdown",
   "metadata": {},
   "source": [
    "##### Prepare input list"
   ]
  },
  {
   "cell_type": "markdown",
   "metadata": {},
   "source": [
    "The script `inference.py` requires a list of all files to be analyzed. We will create this file as `test.csv`. This will be a list of all our (pre-processed) image files."
   ]
  },
  {
   "cell_type": "code",
   "execution_count": 53,
   "metadata": {},
   "outputs": [
    {
     "name": "stdout",
     "output_type": "stream",
     "text": [
      "\u001b[?2004h\u001b[?2004l"
     ]
    },
    {
     "ename": "",
     "evalue": "1",
     "output_type": "error",
     "traceback": []
    }
   ],
   "source": [
    "cd $data\n",
    "ls -d $PWD/* $data | grep -i \"rgb_cropped.jpg\" > test.csv"
   ]
  },
  {
   "cell_type": "markdown",
   "metadata": {},
   "source": [
    "Remove the chroma standard from list of RGB image data to be segmented"
   ]
  },
  {
   "cell_type": "code",
   "execution_count": 54,
   "metadata": {},
   "outputs": [
    {
     "name": "stdout",
     "output_type": "stream",
     "text": [
      "\u001b[?2004h"
     ]
    },
    {
     "ename": "",
     "evalue": "1",
     "output_type": "error",
     "traceback": []
    }
   ],
   "source": [
    "sed -i '/hroma/d' \"${data}/test.csv\""
   ]
  },
  {
   "cell_type": "markdown",
   "metadata": {},
   "source": [
    "#### Inference"
   ]
  },
  {
   "cell_type": "markdown",
   "metadata": {},
   "source": [
    "The trained model is deployed to perform semantic segmentation of experimental images. A list of RGB images to be segmented by the trained model is passed through the --image-list option. For each of these images, we will obtain an output mask (.png) of labeled tissues"
   ]
  },
  {
   "cell_type": "markdown",
   "metadata": {},
   "source": [
    "Dependencies include `opencv`, `scipy`, `yaml` and `tensorflow` (version 1.14)"
   ]
  },
  {
   "cell_type": "code",
   "execution_count": 55,
   "metadata": {
    "scrolled": true
   },
   "outputs": [
    {
     "name": "stdout",
     "output_type": "stream",
     "text": [
      "WARNING:tensorflow:From deeplab/inference.py:142: The name tf.app.run is deprecated. Please use tf.compat.v1.app.run instead.\n",
      "\n",
      "WARNING:tensorflow:From deeplab/inference.py:51: The name tf.gfile.GFile is deprecated. Please use tf.io.gfile.GFile instead.\n",
      "\n",
      "W0217 15:17:10.148992 139800412481344 deprecation_wrapper.py:119] From deeplab/inference.py:51: The name tf.gfile.GFile is deprecated. Please use tf.io.gfile.GFile instead.\n",
      "\n",
      "WARNING:tensorflow:From deeplab/inference.py:52: The name tf.GraphDef is deprecated. Please use tf.compat.v1.GraphDef instead.\n",
      "\n",
      "W0217 15:17:10.149432 139800412481344 deprecation_wrapper.py:119] From deeplab/inference.py:52: The name tf.GraphDef is deprecated. Please use tf.compat.v1.GraphDef instead.\n",
      "\n",
      "WARNING:tensorflow:From deeplab/inference.py:61: The name tf.Session is deprecated. Please use tf.compat.v1.Session instead.\n",
      "\n",
      "W0217 15:17:10.971671 139800412481344 deprecation_wrapper.py:119] From deeplab/inference.py:61: The name tf.Session is deprecated. Please use tf.compat.v1.Session instead.\n",
      "\n",
      "2022-02-17 15:17:10.972048: I tensorflow/core/platform/cpu_feature_guard.cc:142] Your CPU supports instructions that this TensorFlow binary was not compiled to use: SSE4.1 SSE4.2 AVX AVX2 FMA\n",
      "2022-02-17 15:17:10.995471: I tensorflow/core/platform/profile_utils/cpu_utils.cc:94] CPU Frequency: 3391965000 Hz\n",
      "2022-02-17 15:17:10.995833: I tensorflow/compiler/xla/service/service.cc:168] XLA service 0x55b26cc782a0 executing computations on platform Host. Devices:\n",
      "2022-02-17 15:17:10.995862: I tensorflow/compiler/xla/service/service.cc:175]   StreamExecutor device (0): <undefined>, <undefined>\n",
      "Running inference for  8  images.\n",
      "Running deeplab on image: 1\n",
      "2022-02-17 15:17:15.013175: W tensorflow/compiler/jit/mark_for_compilation_pass.cc:1412] (One-time warning): Not using XLA:CPU for cluster because envvar TF_XLA_FLAGS=--tf_xla_cpu_global_jit was not set.  If you want XLA:CPU, either set that envvar, or use experimental_jit_scope to enable XLA:CPU.  To confirm that XLA is active, pass --vmodule=xla_compilation_cache=1 (as a proper command-line flag, not via TF_XLA_FLAGS) or set the envvar XLA_FLAGS=--xla_hlo_profile.\n",
      "WARNING:tensorflow:From /home/michael/poplar_model_2_w_contam/deeplab/utils/save_annotation.py:82: The name tf.gfile.Open is deprecated. Please use tf.io.gfile.GFile instead.\n",
      "\n",
      "W0217 15:17:22.513700 139800412481344 deprecation_wrapper.py:119] From /home/michael/poplar_model_2_w_contam/deeplab/utils/save_annotation.py:82: The name tf.gfile.Open is deprecated. Please use tf.io.gfile.GFile instead.\n",
      "\n",
      "Running deeplab on image: 2\n",
      "Running deeplab on image: 3\n",
      "Running deeplab on image: 4\n",
      "Running deeplab on image: 5\n",
      "Running deeplab on image: 6\n",
      "Running deeplab on image: 7\n",
      "Running deeplab on image: 8\n",
      "\u001b[?2004h(deeplab) \u001b[?2004l\u001b[?2004l\u001b[?2004l"
     ]
    },
    {
     "ename": "",
     "evalue": "1",
     "output_type": "error",
     "traceback": []
    }
   ],
   "source": [
    "cd $deeplab_path\n",
    "conda activate deeplab\n",
    "export PYTHONPATH=$PYTHONPATH:`pwd`:`pwd`/slim\n",
    "python -W ignore deeplab/inference.py \\\n",
    "--image_lists \"${data}/test.csv\" \\\n",
    "--crop_size 900 --crop_size 600 \\\n",
    "--seg_results segmentation_results \\\n",
    "--model_dir \"${deeplab_path}/deeplab/model/\"\n",
    ">> $data/log_inference.txt\n",
    "conda deactivate\n",
    "conda deactivate"
   ]
  },
  {
   "cell_type": "code",
   "execution_count": 56,
   "metadata": {
    "tags": []
   },
   "outputs": [
    {
     "name": "stdout",
     "output_type": "stream",
     "text": [
      "\u001b[?2004h"
     ]
    },
    {
     "ename": "",
     "evalue": "1",
     "output_type": "error",
     "traceback": []
    }
   ],
   "source": [
    "#ls \"${deeplab_path}/segmentation_results/output/\""
   ]
  },
  {
   "cell_type": "markdown",
   "metadata": {},
   "source": [
    "Clean up and reorganize files. Let's keep the outputs we need with all other data."
   ]
  },
  {
   "cell_type": "code",
   "execution_count": 57,
   "metadata": {},
   "outputs": [
    {
     "name": "stdout",
     "output_type": "stream",
     "text": [
      "\u001b[?2004h"
     ]
    },
    {
     "ename": "",
     "evalue": "1",
     "output_type": "error",
     "traceback": []
    }
   ],
   "source": [
    "mv \"${deeplab_path}/segmentation_results/raw/\"* $data/"
   ]
  },
  {
   "cell_type": "markdown",
   "metadata": {},
   "source": [
    "#### Post-processing"
   ]
  },
  {
   "cell_type": "markdown",
   "metadata": {},
   "source": [
    "Name outputs to reflect that they are segmentation results"
   ]
  },
  {
   "cell_type": "code",
   "execution_count": 58,
   "metadata": {},
   "outputs": [
    {
     "name": "stdout",
     "output_type": "stream",
     "text": [
      "/media/michael/Elements//2xPt_6K10_15wk/\n",
      "\u001b[?2004h"
     ]
    },
    {
     "ename": "",
     "evalue": "1",
     "output_type": "error",
     "traceback": []
    }
   ],
   "source": [
    "echo $data"
   ]
  },
  {
   "cell_type": "code",
   "execution_count": 59,
   "metadata": {},
   "outputs": [
    {
     "name": "stdout",
     "output_type": "stream",
     "text": [
      "\u001b[?2004h\u001b[?2004l"
     ]
    },
    {
     "ename": "",
     "evalue": "1",
     "output_type": "error",
     "traceback": []
    }
   ],
   "source": [
    "cd $data\n",
    "for file in *_rgb_cropped.png; do mv -f \"$file\" \"${file%_rgb_cropped.png}_segment_cropped.png\"; done"
   ]
  },
  {
   "cell_type": "markdown",
   "metadata": {},
   "source": [
    "Re-expand segment outputs to same size as original RGB files"
   ]
  },
  {
   "cell_type": "markdown",
   "metadata": {},
   "source": [
    "Dependencies include `scikit-image`"
   ]
  },
  {
   "cell_type": "code",
   "execution_count": 60,
   "metadata": {},
   "outputs": [
    {
     "name": "stdout",
     "output_type": "stream",
     "text": [
      "\u001b[?2004h(alignment) \u001b[?2004l\u001b[?2004l\u001b[?2004l\u001b[?2004l"
     ]
    },
    {
     "ename": "",
     "evalue": "1",
     "output_type": "error",
     "traceback": []
    }
   ],
   "source": [
    "conda activate alignment\n",
    "#cd ${cwd}/intermediates\n",
    "cd $alignment_path\n",
    "python expand.py $data >> $data/log_expand.txt\n",
    "conda deactivate"
   ]
  },
  {
   "cell_type": "code",
   "execution_count": 61,
   "metadata": {},
   "outputs": [
    {
     "name": "stdout",
     "output_type": "stream",
     "text": [
      "Thu 17 Feb 2022 03:18:37 PM PST\n",
      "\u001b[?2004h"
     ]
    },
    {
     "ename": "",
     "evalue": "1",
     "output_type": "error",
     "traceback": []
    }
   ],
   "source": [
    "date # started abt 5:15pm"
   ]
  },
  {
   "cell_type": "markdown",
   "metadata": {},
   "source": [
    "Make composite images with side-by-side RGB, segmentation outputs and blended images"
   ]
  },
  {
   "cell_type": "code",
   "execution_count": 62,
   "metadata": {},
   "outputs": [
    {
     "name": "stdout",
     "output_type": "stream",
     "text": [
      "\u001b[?2004h\u001b[?2004l\u001b[?2004l\u001b[?2004l\u001b[?2004l\u001b[?2004l\u001b[?2004l"
     ]
    },
    {
     "ename": "",
     "evalue": "1",
     "output_type": "error",
     "traceback": []
    }
   ],
   "source": [
    "# conda activate test-environment\n",
    "# if [ $composite -eq 1 ]\n",
    "# then\n",
    "#     cd $gmolabeler_path\n",
    "#     python image_blender.py $data 0.75 'both' 1 180 >> $data/log_blend.txt\n",
    "# fi\n",
    "# conda deactivate"
   ]
  },
  {
   "cell_type": "markdown",
   "metadata": {},
   "source": [
    "### Classification of contaminated/missing explants"
   ]
  },
  {
   "cell_type": "markdown",
   "metadata": {},
   "source": [
    "Plates are cropped into sub-images for each explant and each is analyzed to determine if the explant position should be excluded from analysis due to being missing or contamination. Missing and contaminated explants are recognized using a trained Densenet model (<a href=\"https://github.com/Contamination-Classification/DenseNet\" target=\"_blank\">Huang, et al. 2018</a>). Our fork of the Densenet repository is available on <a href=\"https://arxiv.org/abs/1608.06993\" target=\"_blank\">GitHub</a>."
   ]
  },
  {
   "cell_type": "markdown",
   "metadata": {},
   "source": [
    "<img src=\"Figures/Densenet.png\">\n",
    "Figure: These are four examples of contaminated explants used in the training set for this pre-trained model"
   ]
  },
  {
   "cell_type": "markdown",
   "metadata": {},
   "source": [
    "To check the grid cropping dimensions, we can run the following script. Note that these are the dimensions to crop the image to after resizing to 2000x2000 (from 4000x4000 in the case of the *macroPhor Array)."
   ]
  },
  {
   "cell_type": "markdown",
   "metadata": {},
   "source": [
    "#### Prepare list of images"
   ]
  },
  {
   "cell_type": "code",
   "execution_count": 63,
   "metadata": {},
   "outputs": [
    {
     "name": "stdout",
     "output_type": "stream",
     "text": [
      "Missing explants will be inferred.?2004l\u001b[?2004l\u001b[?2004l\u001b[?2004l\u001b[?2004l\u001b[?2004l\n",
      "\u001b[?2004h"
     ]
    },
    {
     "ename": "",
     "evalue": "1",
     "output_type": "error",
     "traceback": []
    }
   ],
   "source": [
    "if [ $missing_explants = \"Automatic\" ]; then\n",
    "    echo \"Missing explants will be inferred.\"\n",
    "    cd $data\n",
    "    ls -d $PWD/* $data | grep -i \"rgb.jpg\" > rgb_list.txt\n",
    "    sed -i '/hroma/d' rgb_list.txt\n",
    "    img_list_path=\"${data}/rgb_list.txt\"\n",
    "else\n",
    "    echo \"Missing explants input manually by user, in file: \"\n",
    "    echo $missing_explants\n",
    "fi"
   ]
  },
  {
   "cell_type": "markdown",
   "metadata": {},
   "source": [
    "If the mode for missing explant data is automatic, prepare input file for script to detect missing explants and run this script."
   ]
  },
  {
   "cell_type": "markdown",
   "metadata": {},
   "source": [
    "#### Check dimensions for grid cropping"
   ]
  },
  {
   "cell_type": "markdown",
   "metadata": {},
   "source": [
    "The models to detect contamination and missing explants require a user input to define the pixel boundaries of the grid along which explants are placed. Note that currently, only the 12-explant grid is supported. To use other grids, contamination and missing explant data must be provided manually in a file formatted just like an output from this script."
   ]
  },
  {
   "cell_type": "markdown",
   "metadata": {},
   "source": [
    "When running `inference.py` to detect missing or contaminated explants, the user should provide dimensions for cropping down to the grid borders. Note, these dimensions apply after the image is rescaled to 2000x2000.\n",
    "- Default dimensions, used before the imager began to take \"off-center\" images, are (310, 515, 1750, 1610).\n",
    "- Dimensions for cropping for the off-center images are (260, 600, 1700, 1710). \n",
    "- New dimensions (275, 438, 1725, 1535) are for images taken after camera settings were re-centered.<br>\n",
    "\n",
    "We can test dimensions using the `--debug` option for `inference.py` as in the below code block. Next, we will run the same script in the regular mode to detect missing and contaminated explants using settled-upon cropping dimensions."
   ]
  },
  {
   "cell_type": "markdown",
   "metadata": {},
   "source": [
    "Uncomment and run this code block only if you wish to troubleshoot cropping."
   ]
  },
  {
   "cell_type": "code",
   "execution_count": 64,
   "metadata": {},
   "outputs": [
    {
     "name": "stdout",
     "output_type": "stream",
     "text": [
      "\u001b[?2004h\u001b[?2004l\u001b[?2004l\u001b[?2004l\u001b[?2004l\u001b[?2004l\u001b[?2004l\u001b[?2004l\u001b[?2004l"
     ]
    },
    {
     "ename": "",
     "evalue": "1",
     "output_type": "error",
     "traceback": []
    }
   ],
   "source": [
    "# if [ $missing_explants = \"Automatic\" ]; then\n",
    "#     cd $contamination_path\n",
    "#     conda activate densenet\n",
    "#     python inference.py --img-list=$img_list_path --crop_dims \"(275,438,1725,1535)\" --debug\n",
    "#     conda deactivate\n",
    "# else\n",
    "#     echo \"Missing explants input manually by user, in file: \"\n",
    "#     echo $missing_explants\n",
    "# fi"
   ]
  },
  {
   "cell_type": "markdown",
   "metadata": {},
   "source": [
    "The outputs will be saved in this folder and can be evaluated to check how well the cropping worked."
   ]
  },
  {
   "cell_type": "code",
   "execution_count": 65,
   "metadata": {},
   "outputs": [
    {
     "name": "stdout",
     "output_type": "stream",
     "text": [
      "\u001b[?2004h"
     ]
    },
    {
     "ename": "",
     "evalue": "1",
     "output_type": "error",
     "traceback": []
    }
   ],
   "source": [
    "# echo $contamination_path"
   ]
  },
  {
   "cell_type": "markdown",
   "metadata": {},
   "source": [
    "#### Infer contaminated/missing explants"
   ]
  },
  {
   "cell_type": "markdown",
   "metadata": {},
   "source": [
    "Dependencies include `keras-preprocessing`, `termcolor`,  `protobuf` and `absl-py`"
   ]
  },
  {
   "cell_type": "code",
   "execution_count": 66,
   "metadata": {},
   "outputs": [
    {
     "name": "stdout",
     "output_type": "stream",
     "text": [
      "Thu 17 Feb 2022 03:18:52 PM PST\n",
      "\u001b[?2004h"
     ]
    },
    {
     "ename": "",
     "evalue": "1",
     "output_type": "error",
     "traceback": []
    }
   ],
   "source": [
    "date"
   ]
  },
  {
   "cell_type": "code",
   "execution_count": 67,
   "metadata": {
    "slideshow": {
     "slide_type": "slide"
    }
   },
   "outputs": [
    {
     "name": "stdout",
     "output_type": "stream",
     "text": [
      "Using TensorFlow backend.[?2004l\u001b[?2004l\u001b[?2004l\u001b[?2004l\u001b[?2004l\u001b[?2004l\u001b[?2004l\n",
      "WARNING:tensorflow:From /home/michael/anaconda3/envs/DenseNet/lib/python3.6/site-packages/tensorflow/python/ops/resource_variable_ops.py:435: colocate_with (from tensorflow.python.framework.ops) is deprecated and will be removed in a future version.\n",
      "Instructions for updating:\n",
      "Colocations handled automatically by placer.\n",
      "2022-02-17 15:18:57.078581: I tensorflow/core/platform/cpu_feature_guard.cc:141] Your CPU supports instructions that this TensorFlow binary was not compiled to use: SSE4.1 SSE4.2 AVX AVX2 FMA\n",
      "2022-02-17 15:18:57.111505: I tensorflow/core/platform/profile_utils/cpu_utils.cc:94] CPU Frequency: 3391965000 Hz\n",
      "2022-02-17 15:18:57.112348: I tensorflow/compiler/xla/service/service.cc:150] XLA service 0x564a74edd020 executing computations on platform Host. Devices:\n",
      "2022-02-17 15:18:57.112371: I tensorflow/compiler/xla/service/service.cc:158]   StreamExecutor device (0): <undefined>, <undefined>\n",
      "\u001b[?2004h"
     ]
    },
    {
     "ename": "",
     "evalue": "1",
     "output_type": "error",
     "traceback": []
    }
   ],
   "source": [
    "if [ $missing_explants = \"Automatic\" ]; then\n",
    "    cd $contamination_path\n",
    "    conda activate DenseNet\n",
    "    python -W ignore inference.py \\\n",
    "    --img-list=$img_list_path \\\n",
    "    --crop_dims $pre_aligned_resized_grid_borders \\\n",
    "    --output_file=output.csv >> $data/log_contam.txt\n",
    "    mv -f output.csv \"${data}/output.csv\"\n",
    "    conda deactivate\n",
    "fi"
   ]
  },
  {
   "cell_type": "code",
   "execution_count": 68,
   "metadata": {},
   "outputs": [
    {
     "name": "stdout",
     "output_type": "stream",
     "text": [
      "Missing explants inferred by model and written to file:l\u001b[?2004l\n",
      "/media/michael/Elements//2xPt_6K10_15wk//output.csv\n",
      "\u001b[?2004h"
     ]
    },
    {
     "ename": "",
     "evalue": "1",
     "output_type": "error",
     "traceback": []
    }
   ],
   "source": [
    "if [ $missing_explants = \"Automatic\" ]; then\n",
    "    missing_explants=\"${data}/output.csv\"\n",
    "    echo \"Missing explants inferred by model and written to file:\"\n",
    "    echo $missing_explants\n",
    "else\n",
    "    echo \"Missing explants input manually by user, in file: \"\n",
    "    echo $missing_explants\n",
    "fi"
   ]
  },
  {
   "cell_type": "code",
   "execution_count": 69,
   "metadata": {},
   "outputs": [
    {
     "name": "stdout",
     "output_type": "stream",
     "text": [
      "Thu 17 Feb 2022 03:19:51 PM PST\n",
      "\u001b[?2004h"
     ]
    },
    {
     "ename": "",
     "evalue": "1",
     "output_type": "error",
     "traceback": []
    }
   ],
   "source": [
    "date"
   ]
  },
  {
   "cell_type": "markdown",
   "metadata": {},
   "source": [
    "## Alignment of RGB and hyperspectral layers"
   ]
  },
  {
   "cell_type": "markdown",
   "metadata": {},
   "source": [
    "<div class=\"alert alert-block alert-info\"><b>Tip:</b> This section of the workflow must be run regardless of whether a homography matrix for alignment has been provided or will be generated.</div>"
   ]
  },
  {
   "cell_type": "markdown",
   "metadata": {},
   "source": [
    "To match the frame and angle of RGB and hyperspectral image layers, we apply a scale-invariant feature transformation (<a href=\"https://github.com/NSF-Image-alignment/ImageAlignment\" target=\"_blank\">GitHub</a>). Using a pair of standard images, a homography matrix is calculated for the necessary transformation of RGB images to align with hyperspectral images. The transformation can then be applied to large batches of images rapidly, as long as the RGB and hyperspectral cameras remain in the same positions relative to one another (as they do in the macroPhor Array platform)"
   ]
  },
  {
   "cell_type": "markdown",
   "metadata": {},
   "source": [
    "<img src=\"Figures/Alignment.png\">\n",
    "Figure: To enable precise calculation of a homography matrix for transformation of RGB images to match hyperspectral images, we used images of a piece of paper with grid marks. These images are provided by the user inputs to --hyper-img and --rgb-img in the below call to the alignment script. If using a phenotyping platform other than the macroPhor Array, or using updated camera settings, these variables will need to be replaced."
   ]
  },
  {
   "cell_type": "markdown",
   "metadata": {},
   "source": [
    "### Prepare file lists for alignment"
   ]
  },
  {
   "cell_type": "markdown",
   "metadata": {},
   "source": [
    "<div class=\"alert alert-block alert-info\"><b>Tip:</b> We will produce two lists: one for hyperspectral channels (chlorophyll peak channel) for each sample and another for the complementary RGB images. We will superimpose them and produce images for inspection, allowing the user to make sure the alignment works reliably for all images. However, it is possible to replace the hyperspectral channels for each image with a single file; this would run more quickly but be less useful for allowing the user to validate alignment results.</div>"
   ]
  },
  {
   "cell_type": "markdown",
   "metadata": {},
   "source": [
    "We need to produce a csv with two columns with headers `hyper_img` and `rgb_images`. For each RGB image being transformed in batch alignment (mode 2), we can test the alignment by producing superimposed images of the transformed RGB images together with a hyperspectral layer. The hyperspectral layer can either be for a grid (fast) or can be for a layer extracted from the hyperspectral image of each channel (slow, but useful for making sure a certain homography matrix works reliably to transform a batch of images)."
   ]
  },
  {
   "cell_type": "markdown",
   "metadata": {},
   "source": [
    "Let's first generate the list that will go into the column `rgb_images`"
   ]
  },
  {
   "cell_type": "code",
   "execution_count": 70,
   "metadata": {},
   "outputs": [
    {
     "name": "stdout",
     "output_type": "stream",
     "text": [
      "\u001b[?2004h\u001b[?2004l\u001b[?2004l\u001b[?2004l\u001b[?2004l\u001b[?2004l\u001b[?2004l\u001b[?2004l\u001b[?2004l"
     ]
    },
    {
     "ename": "",
     "evalue": "1",
     "output_type": "error",
     "traceback": []
    }
   ],
   "source": [
    "cd $data\n",
    "ls | grep -i 'rgb\\.jpg' > file_list_part1.csv\n",
    "ls | grep -i 'segment_uncropped\\.png' > file_list_part2.csv\n",
    "cat file_list_part* > file_list.csv\n",
    "# sed -i '/hroma/d' file_list.csv\n",
    "cwd2=$(pwd)/\n",
    "awk -v prefix=\"$cwd2\" '{print prefix $0}' file_list.csv > temp\n",
    "mv -f temp file_list.csv\n",
    "echo 'rgb_images' | cat - file_list.csv > temp && mv -f temp file_list.csv"
   ]
  },
  {
   "cell_type": "markdown",
   "metadata": {},
   "source": [
    "If testing alignment on every image, we will now modify the list going into the `rgb_images` column to produce the list of filenames for `hyper_img`. If not, we will simply use the `_hyperchannel.csv` file for every value of this column."
   ]
  },
  {
   "cell_type": "code",
   "execution_count": 71,
   "metadata": {},
   "outputs": [
    {
     "name": "stdout",
     "output_type": "stream",
     "text": [
      "\u001b[?2004h"
     ]
    },
    {
     "ename": "",
     "evalue": "1",
     "output_type": "error",
     "traceback": []
    }
   ],
   "source": [
    "test_align_each_img=0"
   ]
  },
  {
   "cell_type": "code",
   "execution_count": 72,
   "metadata": {},
   "outputs": [
    {
     "name": "stdout",
     "output_type": "stream",
     "text": [
      "/media/michael/Elements/2xPt_6K10_15wk\n",
      "\u001b[?2004h"
     ]
    },
    {
     "ename": "",
     "evalue": "1",
     "output_type": "error",
     "traceback": []
    }
   ],
   "source": [
    "pwd"
   ]
  },
  {
   "cell_type": "code",
   "execution_count": 73,
   "metadata": {},
   "outputs": [
    {
     "name": "stdout",
     "output_type": "stream",
     "text": [
      "\u001b[?2004h\u001b[?2004l\u001b[?2004l\u001b[?2004l\u001b[?2004l\u001b[?2004l\u001b[?2004l"
     ]
    },
    {
     "ename": "",
     "evalue": "1",
     "output_type": "error",
     "traceback": []
    }
   ],
   "source": [
    "#if [ $test_align_each_img -eq 1 ]; then\n",
    "cp file_list.csv file_list_hyper_channel.csv\n",
    "sed -i 's/_rgb.jpg/_hyperchannel.csv/g' file_list_hyper_channel.csv\n",
    "sed -i 's/rgb_images/hyper_img/g' file_list_hyper_channel.csv\n",
    "sed -i 's/_segment_uncropped.png/_hyperchannel.csv/g' file_list_hyper_channel.csv\n",
    "paste --delimiters=',' file_list_hyper_channel.csv file_list.csv > rgb_and_hyper_channel_lists.csv\n",
    "#fi"
   ]
  },
  {
   "cell_type": "code",
   "execution_count": 74,
   "metadata": {
    "tags": []
   },
   "outputs": [
    {
     "name": "stdout",
     "output_type": "stream",
     "text": [
      "\u001b[?2004h\u001b[?2004l\u001b[?2004l"
     ]
    },
    {
     "ename": "",
     "evalue": "1",
     "output_type": "error",
     "traceback": []
    }
   ],
   "source": [
    "#if [ $test_align_each_img -eq 0 ]; then\n",
    "#Rscript $cwd/intermediates/generate_file_list_with_grid.R\n",
    "#fi"
   ]
  },
  {
   "cell_type": "markdown",
   "metadata": {},
   "source": [
    "### Generate a homography matrix for alignment if one is not provided."
   ]
  },
  {
   "cell_type": "markdown",
   "metadata": {},
   "source": [
    "<div class=\"alert alert-block alert-info\"><b>Tip:</b> This section is only needed if a homography matrix has not been provided and must be generated. In this section, a hyperspectral channel is extracted from the standard to be used for alignment with the complementary RGB image.</div>"
   ]
  },
  {
   "cell_type": "markdown",
   "metadata": {},
   "source": [
    "If using this method, we should have RGB and hyperspectral images of a grid. Here, we will assume they have \"grid\" in their name and can be found in the same folder as the sample images."
   ]
  },
  {
   "cell_type": "markdown",
   "metadata": {},
   "source": [
    "We will generate a homography matrix for alignment of the grid images (RGB and hyperspectral) because these align more robustly than images of plants. We will then apply this homography matrix to alignment of all RGB plant images, so that they will align with the respective hyperspectral images. Note, for this approach to work the relative positions and angles of RGB/hyperspectral cameras must be the same for all image pairs."
   ]
  },
  {
   "cell_type": "code",
   "execution_count": 75,
   "metadata": {},
   "outputs": [
    {
     "name": "stdout",
     "output_type": "stream",
     "text": [
      "\u001b[?2004h"
     ]
    },
    {
     "ename": "",
     "evalue": "1",
     "output_type": "error",
     "traceback": []
    }
   ],
   "source": [
    "cd $data"
   ]
  },
  {
   "cell_type": "code",
   "execution_count": 76,
   "metadata": {},
   "outputs": [
    {
     "name": "stdout",
     "output_type": "stream",
     "text": [
      "/media/michael/Elements//2xPt_6K10_15wk/\n",
      "\u001b[?2004h"
     ]
    },
    {
     "ename": "",
     "evalue": "1",
     "output_type": "error",
     "traceback": []
    }
   ],
   "source": [
    "echo $data$grid_hdr"
   ]
  },
  {
   "cell_type": "code",
   "execution_count": 77,
   "metadata": {},
   "outputs": [
    {
     "name": "stdout",
     "output_type": "stream",
     "text": [
      "/home/michael/ImageAlignment/\n",
      "\u001b[?2004h"
     ]
    },
    {
     "ename": "",
     "evalue": "1",
     "output_type": "error",
     "traceback": []
    }
   ],
   "source": [
    "echo $alignment_path"
   ]
  },
  {
   "cell_type": "code",
   "execution_count": 78,
   "metadata": {},
   "outputs": [
    {
     "name": "stdout",
     "output_type": "stream",
     "text": [
      "\u001b[?2004l\n",
      "\u001b[?2004h"
     ]
    },
    {
     "ename": "",
     "evalue": "1",
     "output_type": "error",
     "traceback": []
    }
   ],
   "source": [
    "echo $grid_jpg"
   ]
  },
  {
   "cell_type": "code",
   "execution_count": 79,
   "metadata": {},
   "outputs": [
    {
     "name": "stdout",
     "output_type": "stream",
     "text": [
      "Homography matrix provided by user at:4l\u001b[?2004l\u001b[?2004l\u001b[?2004l\u001b[?2004l\u001b[?2004l\u001b[?2004l\u001b[?2004l\u001b[?2004l\u001b[?2004l\u001b[?2004l\u001b[?2004l\u001b[?2004l\u001b[?2004l\u001b[?2004l\u001b[?2004l\u001b[?2004l\u001b[?2004l\u001b[?2004l\u001b[?2004l\u001b[?2004l\u001b[?2004l\u001b[?2004l\u001b[?2004l\u001b[?2004l\u001b[?2004l\u001b[?2004l\u001b[?2004l\u001b[?2004l\u001b[?2004l\u001b[?2004l\n",
      "/home/michael/GMOlabeler/output//home/michael/GMOnotebook/existing_alignments/_GWAS_CRISPR_CRIA_wk3_stem_only_/chromagrid_I5.0_F1.9_L100LED30_144832_0_0_0_rgb_homography.npy\n",
      "\u001b[?2004h"
     ]
    },
    {
     "ename": "",
     "evalue": "1",
     "output_type": "error",
     "traceback": []
    }
   ],
   "source": [
    "if [ $homography = \"Automatic\" ]; then\n",
    "    grid_hdr=$(ls $data | grep -i \"grid\" | grep -i \"Fluorescence.hdr\")\n",
    "    grid_jpg=$(ls $data | grep -i \"grid\" | grep -i \"rgb.jpg\")\n",
    "    echo \"Homography matrix to be generated by alignment of:\"\n",
    "    echo $grid_hdr\n",
    "    echo $grid_jpg\n",
    "    conda activate test-environment\n",
    "    cd $alignment_path\n",
    "    python hypercube_to_csv.py \\\n",
    "    $data$grid_hdr \\\n",
    "    700 \\\n",
    "    130 \\\n",
    "    $data\"hypercube_to_csv.csv\" \\\n",
    "    $data\"hypercube_to_csv.jpg\"\n",
    "    conda deactivate\n",
    "    aligned_grid=$(echo $grid_jpg | sed 's/rgb/rgb_aligned/g')\n",
    "    aligned_grid=${alignment_path}output/$aligned_grid\n",
    "    conda activate alignment\n",
    "    cd $alignment_path\n",
    "    python main.py \\\n",
    "    --hyper-img $data\"hypercube_to_csv.csv\" \\\n",
    "    --rgb-img $data$grid_jpg \\\n",
    "    --mode 1 \\\n",
    "    --image_thresh_high=120 \\\n",
    "    --image_thresh_low=50 \\\n",
    "    --distance=$distance \\\n",
    "    --gaussian_sigma=$gaussian_sigma\n",
    "    conda deactivate\n",
    "    homography=$(echo $grid_jpg | sed 's/\\.jpg/_homography.npy/g')\n",
    "    homography=${alignment_path}output/$homography\n",
    "    hypercube_csv=\"${data}hypercube_to_csv.csv\"\n",
    "else\n",
    "    echo \"Homography matrix provided by user at:\"\n",
    "    echo ${gmolabeler_path}output/$homography\n",
    "fi"
   ]
  },
  {
   "cell_type": "markdown",
   "metadata": {},
   "source": [
    "Save copies of the homography matrix and aligned images for later inspection and reuse."
   ]
  },
  {
   "cell_type": "code",
   "execution_count": 80,
   "metadata": {},
   "outputs": [
    {
     "name": "stdout",
     "output_type": "stream",
     "text": [
      "\u001b[?2004h"
     ]
    },
    {
     "ename": "",
     "evalue": "1",
     "output_type": "error",
     "traceback": []
    }
   ],
   "source": [
    "alignment_subfolder_name=$(echo $data_folder | sed -e 's/\\//_/g')"
   ]
  },
  {
   "cell_type": "code",
   "execution_count": 81,
   "metadata": {},
   "outputs": [
    {
     "name": "stdout",
     "output_type": "stream",
     "text": [
      "_2xPt_6K10_15wk_\n",
      "\u001b[?2004h"
     ]
    },
    {
     "ename": "",
     "evalue": "1",
     "output_type": "error",
     "traceback": []
    }
   ],
   "source": [
    "echo $alignment_subfolder_name"
   ]
  },
  {
   "cell_type": "code",
   "execution_count": 82,
   "metadata": {},
   "outputs": [
    {
     "name": "stdout",
     "output_type": "stream",
     "text": [
      "\u001b[?2004h"
     ]
    },
    {
     "ename": "",
     "evalue": "1",
     "output_type": "error",
     "traceback": []
    }
   ],
   "source": [
    "mkdir -p $cwd/existing_alignments/$alignment_subfolder_name"
   ]
  },
  {
   "cell_type": "code",
   "execution_count": 83,
   "metadata": {},
   "outputs": [
    {
     "name": "stdout",
     "output_type": "stream",
     "text": [
      "/home/michael/GMOnotebook/existing_alignments/_GWAS_CRISPR_CRIA_wk3_stem_only_/chromagrid_I5.0_F1.9_L100LED30_144832_0_0_0_rgb_homography.npy\n",
      "\u001b[?2004h"
     ]
    },
    {
     "ename": "",
     "evalue": "1",
     "output_type": "error",
     "traceback": []
    }
   ],
   "source": [
    "echo $homography"
   ]
  },
  {
   "cell_type": "code",
   "execution_count": 84,
   "metadata": {},
   "outputs": [
    {
     "name": "stdout",
     "output_type": "stream",
     "text": [
      "/home/michael/GMOnotebook/existing_alignments/_GWAS_CRISPR_CRIA_wk3_stem_only_/hypercube_to_csv.csv\n",
      "\u001b[?2004h"
     ]
    },
    {
     "ename": "",
     "evalue": "1",
     "output_type": "error",
     "traceback": []
    }
   ],
   "source": [
    "echo $hypercube_csv"
   ]
  },
  {
   "cell_type": "code",
   "execution_count": 85,
   "metadata": {},
   "outputs": [
    {
     "name": "stdout",
     "output_type": "stream",
     "text": [
      "/home/michael/GMOnotebook/existing_alignments/_GWAS_CRISPR_CRIA_wk3_stem_only_/chromagrid_I5.0_F1.9_L100LED30_144832_0_0_0_rgb_aligned.jpg\n",
      "\u001b[?2004h"
     ]
    },
    {
     "ename": "",
     "evalue": "1",
     "output_type": "error",
     "traceback": []
    }
   ],
   "source": [
    "echo $aligned_grid"
   ]
  },
  {
   "cell_type": "code",
   "execution_count": 86,
   "metadata": {},
   "outputs": [
    {
     "name": "stdout",
     "output_type": "stream",
     "text": [
      "\u001b[?2004h\u001b[?2004l\u001b[?2004l"
     ]
    },
    {
     "ename": "",
     "evalue": "1",
     "output_type": "error",
     "traceback": []
    }
   ],
   "source": [
    "cp $homography $cwd/existing_alignments/$alignment_subfolder_name\n",
    "cp $hypercube_csv $cwd/existing_alignments/$alignment_subfolder_name\n",
    "cp $aligned_grid $cwd/existing_alignments/$alignment_subfolder_name"
   ]
  },
  {
   "cell_type": "markdown",
   "metadata": {},
   "source": [
    "<div class=\"alert alert-block alert-info\"><b>Tip:</b> We can visualize the extracted hyperspectral channel to make sure there is a signal and everything looks good.</div>"
   ]
  },
  {
   "cell_type": "code",
   "execution_count": 87,
   "metadata": {},
   "outputs": [
    {
     "name": "stdout",
     "output_type": "stream",
     "text": [
      "/media/michael/Elements//2xPt_6K10_15wk/hypercube_to_csv.jpg\n",
      "\u001b[?2004h"
     ]
    },
    {
     "ename": "",
     "evalue": "1",
     "output_type": "error",
     "traceback": []
    }
   ],
   "source": [
    "echo $data\"hypercube_to_csv.jpg\""
   ]
  },
  {
   "cell_type": "markdown",
   "metadata": {},
   "source": [
    "<div class=\"alert alert-block alert-info\"><b>Tip:</b> We can also inspect the alignment to make sure image layers stack and align well.</div>"
   ]
  },
  {
   "cell_type": "code",
   "execution_count": 88,
   "metadata": {},
   "outputs": [
    {
     "name": "stdout",
     "output_type": "stream",
     "text": [
      "/home/michael/GMOnotebook/existing_alignments/_GWAS_CRISPR_CRIA_wk3_stem_only_/chromagrid_I5.0_F1.9_L100LED30_144832_0_0_0_rgb_aligned.jpg\n",
      "\u001b[?2004h"
     ]
    },
    {
     "ename": "",
     "evalue": "1",
     "output_type": "error",
     "traceback": []
    }
   ],
   "source": [
    "echo $aligned_grid"
   ]
  },
  {
   "cell_type": "code",
   "execution_count": 89,
   "metadata": {
    "tags": []
   },
   "outputs": [
    {
     "name": "stdout",
     "output_type": "stream",
     "text": [
      "bash_kernel: saved image data to: /tmp/bash_kernel.Uj3TaeHK0f\n",
      "\u001b[?2004h"
     ]
    },
    {
     "ename": "",
     "evalue": "1",
     "output_type": "error",
     "traceback": []
    }
   ],
   "source": [
    "display < $aligned_grid"
   ]
  },
  {
   "cell_type": "markdown",
   "metadata": {},
   "source": [
    "### Generate `csv` of hyperspectral channel for every image in dataset"
   ]
  },
  {
   "cell_type": "markdown",
   "metadata": {},
   "source": [
    "This section is optional. It is useful to *make sure* the alignment works reasonably well for every image, but it can be slow."
   ]
  },
  {
   "cell_type": "code",
   "execution_count": 90,
   "metadata": {},
   "outputs": [
    {
     "name": "stdout",
     "output_type": "stream",
     "text": [
      "\u001b[?2004h\u001b[?2004l\u001b[?2004l\u001b[?2004l\u001b[?2004l\u001b[?2004l\u001b[?2004l\u001b[?2004l\u001b[?2004l\u001b[?2004l\u001b[?2004l\u001b[?2004l\u001b[?2004l\u001b[?2004l\u001b[?2004l\u001b[?2004l\u001b[?2004l\u001b[?2004l"
     ]
    },
    {
     "ename": "",
     "evalue": "1",
     "output_type": "error",
     "traceback": []
    }
   ],
   "source": [
    "if [ $test_align_each_img -eq 1 ]; then\n",
    "hdr_files=$data/*.hdr\n",
    "cd $alignment_path\n",
    "conda activate test-environment\n",
    "for hdr_file in $hdr_files\n",
    "do\n",
    " csv_file=$(sed 's/Fluorescence.hdr/hyperchannel.csv/g' <<< $hdr_file)\n",
    " csv_file=$(sed 's/.hdr/_hyperchannel.csv/g' <<< $csv_file)\n",
    " csv_jpg=$(sed 's/csv/jpg/g' <<< $csv_file)\n",
    " python -W ignore hypercube_to_csv.py \\\n",
    " $hdr_file \\\n",
    " 300 \\\n",
    " 219 \\\n",
    " $csv_file \\\n",
    " $csv_jpg >> ${data}log_hypercube2csv.txt\n",
    "done\n",
    "conda deactivate\n",
    "fi"
   ]
  },
  {
   "cell_type": "markdown",
   "metadata": {},
   "source": [
    "### Run batch alignment to apply homography matrix to all images"
   ]
  },
  {
   "cell_type": "code",
   "execution_count": 91,
   "metadata": {},
   "outputs": [
    {
     "name": "stdout",
     "output_type": "stream",
     "text": [
      "/home/michael/GMOnotebook/existing_alignments/_GWAS_CRISPR_CRIA_wk3_stem_only_/hypercube_to_csv.csv\n",
      "\u001b[?2004h"
     ]
    },
    {
     "ename": "",
     "evalue": "1",
     "output_type": "error",
     "traceback": []
    }
   ],
   "source": [
    "echo $hypercube_csv"
   ]
  },
  {
   "cell_type": "code",
   "execution_count": 92,
   "metadata": {
    "tags": []
   },
   "outputs": [
    {
     "name": "stdout",
     "output_type": "stream",
     "text": [
      "hyper_img,rgb_images\n",
      "/media/michael/Elements/2xPt_6K10_15wk/chromagrid_I5.0_F1.9_L100LED30_093533_0_0_0_hyperchannel.csv,/media/michael/Elements/2xPt_6K10_15wk/chromagrid_I5.0_F1.9_L100LED30_093533_0_0_0_rgb.jpg\n",
      "/media/michael/Elements/2xPt_6K10_15wk/DPT2_I5.0_F1.9_L100LED30_093837_0_0_3_hyperchannel.csv,/media/michael/Elements/2xPt_6K10_15wk/DPT2_I5.0_F1.9_L100LED30_093837_0_0_3_rgb.jpg\n",
      "/media/michael/Elements/2xPt_6K10_15wk/DPT2_I5.0_F1.9_L100LED30_093946_1_0_4_hyperchannel.csv,/media/michael/Elements/2xPt_6K10_15wk/DPT2_I5.0_F1.9_L100LED30_093946_1_0_4_rgb.jpg\n",
      "/media/michael/Elements/2xPt_6K10_15wk/DPT2_I5.0_F1.9_L100LED30_094043_2_0_5_hyperchannel.csv,/media/michael/Elements/2xPt_6K10_15wk/DPT2_I5.0_F1.9_L100LED30_094043_2_0_5_rgb.jpg\n",
      "/media/michael/Elements/2xPt_6K10_15wk/DPT2_I5.0_F1.9_L100LED30_094140_3_0_6_hyperchannel.csv,/media/michael/Elements/2xPt_6K10_15wk/DPT2_I5.0_F1.9_L100LED30_094140_3_0_6_rgb.jpg\n",
      "/media/michael/Elements/2xPt_6K10_15wk/DPT2_I5.0_F1.9_L100LED30_094236_4_1_3_hyperchannel.csv,/media/michael/Elements/2xPt_6K10_15wk/DPT2_I5.0_F1.9_L100LED30_094236_4_1_3_rgb.jpg\n",
      "/media/michael/Elements/2xPt_6K10_15wk/DPT2_I5.0_F1.9_L100LED30_094344_5_1_2_hyperchannel.csv,/media/michael/Elements/2xPt_6K10_15wk/DPT2_I5.0_F1.9_L100LED30_094344_5_1_2_rgb.jpg\n",
      "/media/michael/Elements/2xPt_6K10_15wk/DPT2_I5.0_F1.9_L100LED30_094441_6_1_1_hyperchannel.csv,/media/michael/Elements/2xPt_6K10_15wk/DPT2_I5.0_F1.9_L100LED30_094441_6_1_1_rgb.jpg\n",
      "/media/michael/Elements/2xPt_6K10_15wk/DPT2_I5.0_F1.9_L100LED30_094538_7_1_0_hyperchannel.csv,/media/michael/Elements/2xPt_6K10_15wk/DPT2_I5.0_F1.9_L100LED30_094538_7_1_0_rgb.jpg\n",
      "\u001b[?2004h"
     ]
    },
    {
     "ename": "",
     "evalue": "1",
     "output_type": "error",
     "traceback": []
    }
   ],
   "source": [
    "head \"${data}/rgb_and_hyper_channel_lists.csv\""
   ]
  },
  {
   "cell_type": "code",
   "execution_count": 93,
   "metadata": {},
   "outputs": [
    {
     "name": "stdout",
     "output_type": "stream",
     "text": [
      "/home/michael/GMOnotebook/existing_alignments/_GWAS_CRISPR_CRIA_wk3_stem_only_/chromagrid_I5.0_F1.9_L100LED30_144832_0_0_0_rgb_homography.npy\n",
      "\u001b[?2004h"
     ]
    },
    {
     "ename": "",
     "evalue": "1",
     "output_type": "error",
     "traceback": []
    }
   ],
   "source": [
    "echo $homography"
   ]
  },
  {
   "cell_type": "code",
   "execution_count": 94,
   "metadata": {},
   "outputs": [
    {
     "name": "stdout",
     "output_type": "stream",
     "text": [
      "\u001b[?2004h(alignment) \u001b[?2004l\u001b[?2004l\u001b[?2004l\u001b[?2004l\u001b[?2004l\u001b[?2004l\u001b[?2004l\u001b[?2004l\u001b[?2004l"
     ]
    },
    {
     "ename": "",
     "evalue": "1",
     "output_type": "error",
     "traceback": []
    }
   ],
   "source": [
    "conda activate alignment\n",
    "cd $alignment_path\n",
    "file_list_input=\"${data}/rgb_and_hyper_channel_lists.csv\"\n",
    "python main.py \\\n",
    "--hyper-img $hypercube_csv \\\n",
    "--img-csv $file_list_input \\\n",
    "--mode 2 \\\n",
    "--h_matrix_path $homography >> $data/log_alignment_mode2.txt\n",
    "conda deactivate\n",
    "conda deactivate"
   ]
  },
  {
   "cell_type": "markdown",
   "metadata": {},
   "source": [
    "## Cross-analyze deep segmentation and regression results"
   ]
  },
  {
   "cell_type": "markdown",
   "metadata": {},
   "source": [
    "Scripts in the <a href=\"https://github.com/naglemi/GMOlabeler\" target=\"_blank\">GMOlabeler repository</a> are used to cross-reference results from deep segmentation of RGB images and regression of hyperspectral imaging, apply thresholding parameters to classify tissues as transgenic or escapes, and produce plots."
   ]
  },
  {
   "cell_type": "markdown",
   "metadata": {},
   "source": [
    "<img src=\"Figures/GMOlabeler.png\">"
   ]
  },
  {
   "cell_type": "markdown",
   "metadata": {},
   "source": [
    "Figure: The various steps of data processing in GMOlabeler are illustrated for an example explant from an experiment on CIM optimization for cottonwood. Images of plates are cropped to a sub-image for each explant. RGB segmentation results and hyperspectral regression results are cross-referenced to calculate fluorecent proteins in specific tissues and infer whether these tissues are transgenic."
   ]
  },
  {
   "cell_type": "markdown",
   "metadata": {},
   "source": [
    "### Prepare sample datasheet input"
   ]
  },
  {
   "cell_type": "markdown",
   "metadata": {},
   "source": [
    "Prepare input file we will use for making plots. This file contains paths to CLS results, RGB images, and hyperspectral images."
   ]
  },
  {
   "cell_type": "code",
   "execution_count": 95,
   "metadata": {},
   "outputs": [
    {
     "name": "stdout",
     "output_type": "stream",
     "text": [
      "/media/michael/Elements//2xPt_6K10_15wk/\n",
      "\u001b[?2004h"
     ]
    },
    {
     "ename": "",
     "evalue": "1",
     "output_type": "error",
     "traceback": []
    }
   ],
   "source": [
    "echo $data"
   ]
  },
  {
   "cell_type": "code",
   "execution_count": 96,
   "metadata": {},
   "outputs": [
    {
     "name": "stdout",
     "output_type": "stream",
     "text": [
      "/media/michael/Elements//2xPt_6K10_15wk/\n",
      "\u001b[?2004h"
     ]
    },
    {
     "ename": "",
     "evalue": "1",
     "output_type": "error",
     "traceback": []
    }
   ],
   "source": [
    "echo $data"
   ]
  },
  {
   "cell_type": "code",
   "execution_count": 97,
   "metadata": {
    "scrolled": true,
    "tags": []
   },
   "outputs": [
    {
     "name": "stdout",
     "output_type": "stream",
     "text": [
      "[1] \"”2022-02-17”\"r) \u001b[?2004l\u001b[?2004l\u001b[?2004l\u001b[?2004l\u001b[?2004l\u001b[?2004l\n",
      "[1] \"Looking for CLS data in: /home/michael/data/gmodetector_out//2xPt_6K10_15wk//\"\n",
      "[1] \"2022-02-17\"\n",
      "[1] \"Looking for CLS files in directory /home/michael/data/gmodetector_out//2xPt_6K10_15wk//\"\n",
      "[1] \"How many CLS files? 8\"\n",
      "[1] \"Writing 8 rows to /media/michael/Elements//2xPt_6K10_15wk///samples_pre_labeling.csv\"\n",
      "\u001b[?2004h(gmolabeler) \u001b[?2004l"
     ]
    },
    {
     "ename": "",
     "evalue": "1",
     "output_type": "error",
     "traceback": []
    }
   ],
   "source": [
    "conda activate gmolabeler\n",
    "cd \"${cwd}/intermediates/\"\n",
    "Rscript pre_label.R \\\n",
    "-r \"${data}/\" \\\n",
    "-R \"${output_directory_prefix}\" \\\n",
    "-i 1 \\\n",
    "-d $datestamp\n",
    "conda deactivate"
   ]
  },
  {
   "cell_type": "markdown",
   "metadata": {},
   "source": [
    "### Cross-reference RGB and hyperspectral data"
   ]
  },
  {
   "cell_type": "markdown",
   "metadata": {},
   "source": [
    "On 1/11/20, we altered `gmolabeler` to accept user-defined borders of the grid box, rather than hardcoding these borders in for specific grids with 12 or 20 explants. Thus, if providing `grid_borders`, `grid` can be left as `None`, or vice versa. To determine the borders, open the *aligned* grid file in a GUI like GIMP or Microsoft Paint and use the crosshairs to find the pixel positions of each border. These are then provided through the `grid_borders` parameter in order \"top bottom right left\"."
   ]
  },
  {
   "cell_type": "markdown",
   "metadata": {},
   "source": [
    "Some notes on grid copping parameters:\n",
    "- Submit a space-delimited string with parameters for borders of grid as \"left right bottom top\"\n",
    "- For FAA wk3, use parameters \"139 1580 1250 312\"\n",
    "- For FAA wk7 and FAD wk7, use \"156 1600 1280 335\"\n",
    "- For all images taken after re-centering of camera settings on 1/18/21, use \"152 1592 1200 260\" if images are of high resolution (2GB hyperspectral files) or \"110 1356 1168 222\" if of normal resolution (1.3GB hyperspectral files)"
   ]
  },
  {
   "cell_type": "code",
   "execution_count": 98,
   "metadata": {},
   "outputs": [
    {
     "name": "stdout",
     "output_type": "stream",
     "text": [
      "/media/michael/Elements//2xPt_6K10_15wk//samples_pre_labeling.csv\n",
      "\u001b[?2004h"
     ]
    },
    {
     "ename": "",
     "evalue": "1",
     "output_type": "error",
     "traceback": []
    }
   ],
   "source": [
    "echo ${data}/samples_pre_labeling.csv"
   ]
  },
  {
   "cell_type": "code",
   "execution_count": 99,
   "metadata": {},
   "outputs": [
    {
     "name": "stdout",
     "output_type": "stream",
     "text": [
      "/home/michael/GMOnotebook/existing_alignments/_GWAS_CRISPR_CRIA_wk3_stem_only_/chromagrid_I5.0_F1.9_L100LED30_144832_0_0_0_rgb_aligned.jpg\n",
      "\u001b[?2004h"
     ]
    },
    {
     "ename": "",
     "evalue": "1",
     "output_type": "error",
     "traceback": []
    }
   ],
   "source": [
    "echo $aligned_grid"
   ]
  },
  {
   "cell_type": "code",
   "execution_count": 100,
   "metadata": {},
   "outputs": [
    {
     "name": "stdout",
     "output_type": "stream",
     "text": [
      "/2xPt_6K10_15wk/\n",
      "\u001b[?2004h"
     ]
    },
    {
     "ename": "",
     "evalue": "1",
     "output_type": "error",
     "traceback": []
    }
   ],
   "source": [
    "echo $data_folder"
   ]
  },
  {
   "cell_type": "code",
   "execution_count": 101,
   "metadata": {
    "tags": []
   },
   "outputs": [
    {
     "name": "stdout",
     "output_type": "stream",
     "text": [
      "segment,CLS_data,rgb,mean_callus_signal,mean_shoot_signal,callus_signal_total,shoot_signal_total,n_pixels_callus_transgenic,n_pixels_callus_escape,n_pixels_shoot_transgenic,n_pixels_shoot_escape,threshold\n",
      "/media/michael/Elements//2xPt_6K10_15wk///DPT2_I5.0_F1.9_L100LED30_094538_7_1_0_segment_uncropped_processed.png,/home/michael/data/gmodetector_out//2xPt_6K10_15wk///DPT2_I5.0_F1.9_L100LED30_094538_7_1_0_Fluorescence_weights.hdf,/media/michael/Elements//2xPt_6K10_15wk///DPT2_I5.0_F1.9_L100LED30_094538_7_1_0_rgb_processed.jpg,,,,,,,,,\n",
      "/media/michael/Elements//2xPt_6K10_15wk///DPT2_I5.0_F1.9_L100LED30_094441_6_1_1_segment_uncropped_processed.png,/home/michael/data/gmodetector_out//2xPt_6K10_15wk///DPT2_I5.0_F1.9_L100LED30_094441_6_1_1_Fluorescence_weights.hdf,/media/michael/Elements//2xPt_6K10_15wk///DPT2_I5.0_F1.9_L100LED30_094441_6_1_1_rgb_processed.jpg,,,,,,,,,\n",
      "/media/michael/Elements//2xPt_6K10_15wk///DPT2_I5.0_F1.9_L100LED30_094344_5_1_2_segment_uncropped_processed.png,/home/michael/data/gmodetector_out//2xPt_6K10_15wk///DPT2_I5.0_F1.9_L100LED30_094344_5_1_2_Fluorescence_weights.hdf,/media/michael/Elements//2xPt_6K10_15wk///DPT2_I5.0_F1.9_L100LED30_094344_5_1_2_rgb_processed.jpg,,,,,,,,,\n",
      "/media/michael/Elements//2xPt_6K10_15wk///DPT2_I5.0_F1.9_L100LED30_094236_4_1_3_segment_uncropped_processed.png,/home/michael/data/gmodetector_out//2xPt_6K10_15wk///DPT2_I5.0_F1.9_L100LED30_094236_4_1_3_Fluorescence_weights.hdf,/media/michael/Elements//2xPt_6K10_15wk///DPT2_I5.0_F1.9_L100LED30_094236_4_1_3_rgb_processed.jpg,,,,,,,,,\n",
      "/media/michael/Elements//2xPt_6K10_15wk///DPT2_I5.0_F1.9_L100LED30_094140_3_0_6_segment_uncropped_processed.png,/home/michael/data/gmodetector_out//2xPt_6K10_15wk///DPT2_I5.0_F1.9_L100LED30_094140_3_0_6_Fluorescence_weights.hdf,/media/michael/Elements//2xPt_6K10_15wk///DPT2_I5.0_F1.9_L100LED30_094140_3_0_6_rgb_processed.jpg,,,,,,,,,\n",
      "/media/michael/Elements//2xPt_6K10_15wk///DPT2_I5.0_F1.9_L100LED30_094043_2_0_5_segment_uncropped_processed.png,/home/michael/data/gmodetector_out//2xPt_6K10_15wk///DPT2_I5.0_F1.9_L100LED30_094043_2_0_5_Fluorescence_weights.hdf,/media/michael/Elements//2xPt_6K10_15wk///DPT2_I5.0_F1.9_L100LED30_094043_2_0_5_rgb_processed.jpg,,,,,,,,,\n",
      "/media/michael/Elements//2xPt_6K10_15wk///DPT2_I5.0_F1.9_L100LED30_093946_1_0_4_segment_uncropped_processed.png,/home/michael/data/gmodetector_out//2xPt_6K10_15wk///DPT2_I5.0_F1.9_L100LED30_093946_1_0_4_Fluorescence_weights.hdf,/media/michael/Elements//2xPt_6K10_15wk///DPT2_I5.0_F1.9_L100LED30_093946_1_0_4_rgb_processed.jpg,,,,,,,,,\n",
      "/media/michael/Elements//2xPt_6K10_15wk///DPT2_I5.0_F1.9_L100LED30_093837_0_0_3_segment_uncropped_processed.png,/home/michael/data/gmodetector_out//2xPt_6K10_15wk///DPT2_I5.0_F1.9_L100LED30_093837_0_0_3_Fluorescence_weights.hdf,/media/michael/Elements//2xPt_6K10_15wk///DPT2_I5.0_F1.9_L100LED30_093837_0_0_3_rgb_processed.jpg,,,,,,,,,\n",
      "\u001b[?2004h"
     ]
    },
    {
     "ename": "",
     "evalue": "1",
     "output_type": "error",
     "traceback": []
    }
   ],
   "source": [
    "head $data/samples_pre_labeling.csv"
   ]
  },
  {
   "cell_type": "code",
   "execution_count": 102,
   "metadata": {},
   "outputs": [
    {
     "name": "stdout",
     "output_type": "stream",
     "text": [
      "/home/michael/GMOnotebook/existing_alignments/_GWAS_CRISPR_CRIA_wk3_stem_only_/chromagrid_I5.0_F1.9_L100LED30_144832_0_0_0_rgb_aligned.jpg\n",
      "\u001b[?2004h"
     ]
    },
    {
     "ename": "",
     "evalue": "1",
     "output_type": "error",
     "traceback": []
    }
   ],
   "source": [
    "echo $aligned_grid"
   ]
  },
  {
   "cell_type": "code",
   "execution_count": 103,
   "metadata": {},
   "outputs": [
    {
     "name": "stdout",
     "output_type": "stream",
     "text": [
      "DsRed04l\n",
      "\u001b[?2004h"
     ]
    },
    {
     "ename": "",
     "evalue": "1",
     "output_type": "error",
     "traceback": []
    }
   ],
   "source": [
    "echo $reporters"
   ]
  },
  {
   "cell_type": "code",
   "execution_count": 104,
   "metadata": {},
   "outputs": [
    {
     "name": "stdout",
     "output_type": "stream",
     "text": [
      "DsRed04h\u001b[?2004l\u001b[?2004l\n",
      "\u001b[?2004h"
     ]
    },
    {
     "ename": "",
     "evalue": "1",
     "output_type": "error",
     "traceback": []
    }
   ],
   "source": [
    "for reporter in ${reporters[@]}; do\n",
    "    echo $reporter\n",
    "done"
   ]
  },
  {
   "cell_type": "code",
   "execution_count": 105,
   "metadata": {},
   "outputs": [
    {
     "name": "stdout",
     "output_type": "stream",
     "text": [
      "\u001b[?2004h(gmolabeler) \u001b[?2004l\u001b[?2004l\u001b[?2004l\u001b[?2004l\u001b[?2004l\u001b[?2004l\u001b[?2004l\u001b[?2004l\u001b[?2004l\u001b[?2004l\u001b[?2004l\u001b[?2004l\u001b[?2004l"
     ]
    },
    {
     "ename": "",
     "evalue": "1",
     "output_type": "error",
     "traceback": []
    }
   ],
   "source": [
    "conda activate gmolabeler\n",
    "cd $gmolabeler_path\n",
    "for reporter in ${reporters[@]}; do\n",
    "    python main.py \\\n",
    "    \"${data}/samples_pre_labeling.csv\" \\\n",
    "    $aligned_grid \\\n",
    "    $reporter_threshold \\\n",
    "    $reporter \\\n",
    "    $grid \\\n",
    "    \"hdf\" \\\n",
    "    $gmolabeler_path \\\n",
    "    \"$aligned_grid_borders\" > $data/log_gmolabeler_$reporter.txt\n",
    "done\n",
    "conda deactivate"
   ]
  },
  {
   "cell_type": "markdown",
   "metadata": {},
   "source": [
    "### Calculate sums of statistics over combined segments"
   ]
  },
  {
   "cell_type": "markdown",
   "metadata": {},
   "source": [
    "We are interested in all regenerated tissue (callus + shoot) as well as all tissue (including stem as well). We will calculate aggregate statistics over these groups."
   ]
  },
  {
   "cell_type": "code",
   "execution_count": 106,
   "metadata": {},
   "outputs": [
    {
     "name": "stdout",
     "output_type": "stream",
     "text": [
      "[1] \"Writing output with sums statistics calculated over combined tissue segments to: /home/michael/GMOlabeler//output//2xPt_6K10_15wk//DsRed/stats_with_sums_over_tissues.csv\"\n",
      "\u001b[?2004h(gmolabeler) \u001b[?2004l"
     ]
    },
    {
     "ename": "",
     "evalue": "1",
     "output_type": "error",
     "traceback": []
    }
   ],
   "source": [
    "conda activate gmolabeler\n",
    "for reporter in ${reporters[@]}; do\n",
    "    Rscript calculate_sum_stats_over_combined_segments.R \\\n",
    "    --output_dir \"${gmolabeler_path}/output/\" \\\n",
    "    --datapath \"${data_folder}/${reporter}/\"\n",
    "done\n",
    "conda deactivate"
   ]
  },
  {
   "cell_type": "markdown",
   "metadata": {},
   "source": [
    "### Make plots of results"
   ]
  },
  {
   "cell_type": "code",
   "execution_count": 107,
   "metadata": {
    "scrolled": true
   },
   "outputs": [
    {
     "name": "stdout",
     "output_type": "stream",
     "text": [
      "Warning message:ler) \u001b[?2004l\u001b[?2004l\u001b[?2004l\u001b[?2004l\u001b[?2004l\u001b[?2004l\u001b[?2004l\u001b[?2004l\u001b[?2004l\u001b[?2004l\u001b[?2004l\u001b[?2004l\u001b[?2004l\u001b[?2004l\u001b[?2004l\u001b[?2004l\n",
      "In storage.mode(default) <- type : NAs introduced by coercion\n",
      "[1] \"Saving list of input arguments to : /home/michael/GMOlabeler/plots//2xPt_6K10_15wk///DsRed/gridplot_args.rds\"\n",
      "[1] \"Reading in output from GMOlabeler at path: /home/michael/GMOlabeler/output//2xPt_6K10_15wk//DsRed/stats_with_sums_over_tissues.csv\"\n",
      "\n",
      "[1] \"Rows in output from GMOlabeler: 452\"\n",
      "\n",
      "[1] \"Max n_pixels_passing_threshold in output from GMOlabeler: 10746\"\n",
      "\n",
      "[1] \"Max total_signal in output from GMOlabeler: 1250587.04066452\"\n",
      "\n",
      "[1] \"Look at the top of output from GMOlabeler\"\n",
      "[1] \"/media/michael/Elements//2xPt_6K10_15wk///DPT2_I5.0_F1.9_L100LED30_094538_7_1_0.png\"\n",
      "[2] \"/media/michael/Elements//2xPt_6K10_15wk///DPT2_I5.0_F1.9_L100LED30_094538_7_1_0.png\"\n",
      "[3] \"/media/michael/Elements//2xPt_6K10_15wk///DPT2_I5.0_F1.9_L100LED30_094538_7_1_0.png\"\n",
      "[4] \"/media/michael/Elements//2xPt_6K10_15wk///DPT2_I5.0_F1.9_L100LED30_094538_7_1_0.png\"\n",
      "[5] \"/media/michael/Elements//2xPt_6K10_15wk///DPT2_I5.0_F1.9_L100LED30_094538_7_1_0.png\"\n",
      "[6] \"/media/michael/Elements//2xPt_6K10_15wk///DPT2_I5.0_F1.9_L100LED30_094538_7_1_0.png\"\n",
      "\n",
      "[1] \"Look at the top of missing explant data\"\n",
      "\u001b[38;5;246m# A tibble: 6 × 3\u001b[39m\n",
      "  filename                                      grid_item present\n",
      "  \u001b[3m\u001b[38;5;246m<chr>\u001b[39m\u001b[23m                                         \u001b[3m\u001b[38;5;246m<chr>\u001b[39m\u001b[23m     \u001b[3m\u001b[38;5;246m<chr>\u001b[39m\u001b[23m  \n",
      "\u001b[38;5;250m1\u001b[39m DPT2_I5.0_F1.9_L100LED30_093837_0_0_3_rgb.jpg 1         C      \n",
      "\u001b[38;5;250m2\u001b[39m DPT2_I5.0_F1.9_L100LED30_093837_0_0_3_rgb.jpg 2         NC     \n",
      "\u001b[38;5;250m3\u001b[39m DPT2_I5.0_F1.9_L100LED30_093837_0_0_3_rgb.jpg 3         NC     \n",
      "\u001b[38;5;250m4\u001b[39m DPT2_I5.0_F1.9_L100LED30_093837_0_0_3_rgb.jpg 4         C      \n",
      "\u001b[38;5;250m5\u001b[39m DPT2_I5.0_F1.9_L100LED30_093837_0_0_3_rgb.jpg 5         NC     \n",
      "\u001b[38;5;250m6\u001b[39m DPT2_I5.0_F1.9_L100LED30_093837_0_0_3_rgb.jpg 6         NC     \n",
      "\n",
      "[1] \"Look at the head of filenames for missing explant data\"\n",
      "[1] \"DPT2_I5.0_F1.9_L100LED30_093837_0_0_3_rgb.jpg\"\n",
      "[2] \"DPT2_I5.0_F1.9_L100LED30_093837_0_0_3_rgb.jpg\"\n",
      "[3] \"DPT2_I5.0_F1.9_L100LED30_093837_0_0_3_rgb.jpg\"\n",
      "[4] \"DPT2_I5.0_F1.9_L100LED30_093837_0_0_3_rgb.jpg\"\n",
      "[5] \"DPT2_I5.0_F1.9_L100LED30_093837_0_0_3_rgb.jpg\"\n",
      "[6] \"DPT2_I5.0_F1.9_L100LED30_093837_0_0_3_rgb.jpg\"\n",
      "\n",
      "[1] \"Look at the colnames of output from GMOlabeler\"\n",
      " [1] \"V1\"                         \"filename\"                  \n",
      " [3] \"grid_item\"                  \"segment_hex\"               \n",
      " [5] \"intensity_threshold\"        \"n_pixels_passing_threshold\"\n",
      " [7] \"mean_signal\"                \"max_signal\"                \n",
      " [9] \"total_signal\"               \"total_pixels\"              \n",
      "\n",
      "[1] \"Look at the colnames of missing explant data\"\n",
      "[1] \"filename\"  \"grid_item\" \"present\"  \n",
      "\n",
      "[1] \"Before merging the GMOlabeler and missing output data, they have rows of 452 and 96 respectively.\"\n",
      "\n",
      "[1] \"After merging but before removing missing/contminated explants, merged output has 452 rows.\"\n",
      "\n",
      "[1] \"After removing the missing/contaminated explants, merged output has 452\"\n",
      "\u001b[?25h\n",
      "\u001b[?25h[1] \"Afer processing GMOlabeler output to merge with missing explant data, Head of data (w/ first 5 col): \"\n",
      "\u001b[?25h                                    filename grid_item          V1\n",
      "1: DPT2_I5.0_F1.9_L100LED30_093837_0_0_3.png         1 observation\n",
      "2: DPT2_I5.0_F1.9_L100LED30_093837_0_0_3.png         1 observation\n",
      "3: DPT2_I5.0_F1.9_L100LED30_093837_0_0_3.png         1 observation\n",
      "4: DPT2_I5.0_F1.9_L100LED30_093837_0_0_3.png         1 observation\n",
      "5: DPT2_I5.0_F1.9_L100LED30_093837_0_0_3.png         1 observation\n",
      "              segment_hex intensity_threshold\n",
      "1:                 00CC11                  38\n",
      "2:                 0006CC                  38\n",
      "3:                 CC0000                  38\n",
      "4:             All_tissue                  NA\n",
      "5: All_regenerated_tissue                  NA\n",
      "\u001b[?25h\u001b[?25h\u001b[?25h\u001b[?25hError: `path` does not exist: ‘/media/michael/Elements//6K10_2xPt_rand.xlsx’\n",
      "Execution halted\n",
      "\u001b[?2004h?2004h(gmolabeler) \u001b[?2004l"
     ]
    },
    {
     "ename": "",
     "evalue": "1",
     "output_type": "error",
     "traceback": []
    }
   ],
   "source": [
    "conda activate gmolabeler\n",
    "cd $gmolabeler_path\n",
    "for reporter in ${reporters[@]}; do\n",
    "    Rscript grid_item_plots.R \\\n",
    "    -d \"${data_folder}/\" \\\n",
    "    -r \"$randomization_datasheet\" \\\n",
    "    -p $pixel_threshold \\\n",
    "    -v categorical \\\n",
    "    -m 1 \\\n",
    "    -M $missing_explants \\\n",
    "    -g $grid \\\n",
    "    --samples-pre-labeling ${data}/samples_pre_labeling.csv \\\n",
    "    --sort 1 \\\n",
    "    --height $height \\\n",
    "    --width $width \\\n",
    "    --Reporter $reporter\n",
    "done\n",
    "conda deactivate"
   ]
  },
  {
   "cell_type": "code",
   "execution_count": 108,
   "metadata": {},
   "outputs": [
    {
     "name": "stdout",
     "output_type": "stream",
     "text": [
      "/media/michael/Elements//6K10_2xPt_rand.xlsx\n",
      "\u001b[?2004h"
     ]
    },
    {
     "ename": "",
     "evalue": "1",
     "output_type": "error",
     "traceback": []
    }
   ],
   "source": [
    "echo $randomization_datasheet"
   ]
  },
  {
   "cell_type": "markdown",
   "metadata": {},
   "source": [
    "## Email plots to user"
   ]
  },
  {
   "cell_type": "markdown",
   "metadata": {},
   "source": [
    "### ZIP results"
   ]
  },
  {
   "cell_type": "code",
   "execution_count": 109,
   "metadata": {},
   "outputs": [
    {
     "name": "stdout",
     "output_type": "stream",
     "text": [
      "/home/michael/GMOlabeler//plots/2xPt_6K10_15wk/\n",
      "\u001b[?2004h"
     ]
    },
    {
     "ename": "",
     "evalue": "1",
     "output_type": "error",
     "traceback": []
    }
   ],
   "source": [
    "echo \"${gmolabeler_path}/plots${data_folder}\""
   ]
  },
  {
   "cell_type": "code",
   "execution_count": 110,
   "metadata": {},
   "outputs": [
    {
     "name": "stdout",
     "output_type": "stream",
     "text": [
      "\u001b[?2004h"
     ]
    },
    {
     "ename": "",
     "evalue": "1",
     "output_type": "error",
     "traceback": []
    }
   ],
   "source": [
    "cd \"${gmolabeler_path}/plots/${data_folder}\""
   ]
  },
  {
   "cell_type": "code",
   "execution_count": 111,
   "metadata": {},
   "outputs": [
    {
     "name": "stdout",
     "output_type": "stream",
     "text": [
      "\u001b[?2004h"
     ]
    },
    {
     "ename": "",
     "evalue": "1",
     "output_type": "error",
     "traceback": []
    }
   ],
   "source": [
    "rm -f ./plants_over_plates.csv"
   ]
  },
  {
   "cell_type": "code",
   "execution_count": 112,
   "metadata": {},
   "outputs": [
    {
     "name": "stdout",
     "output_type": "stream",
     "text": [
      "/home/michael/GMOlabeler//output//2xPt_6K10_15wk//\n",
      "\u001b[?2004h"
     ]
    },
    {
     "ename": "",
     "evalue": "1",
     "output_type": "error",
     "traceback": []
    }
   ],
   "source": [
    "echo ${gmolabeler_path}/output/${data_folder}/"
   ]
  },
  {
   "cell_type": "code",
   "execution_count": 113,
   "metadata": {},
   "outputs": [
    {
     "name": "stdout",
     "output_type": "stream",
     "text": [
      "\u001b[?2004h"
     ]
    },
    {
     "ename": "",
     "evalue": "1",
     "output_type": "error",
     "traceback": []
    }
   ],
   "source": [
    "#cp \"${gmolabeler_path}/output/${data_folder}/plants_over_plates.csv\" ./"
   ]
  },
  {
   "cell_type": "code",
   "execution_count": 114,
   "metadata": {},
   "outputs": [
    {
     "name": "stdout",
     "output_type": "stream",
     "text": [
      "\u001b[?2004h\u001b[?2004l\u001b[?2004l"
     ]
    },
    {
     "ename": "",
     "evalue": "1",
     "output_type": "error",
     "traceback": []
    }
   ],
   "source": [
    "for reporter in ${reporters[@]}; do\n",
    "    cp \"${gmolabeler_path}/output/${data_folder}/${reporter}/stats_with_sums_over_tissues.csv\" ./\n",
    "done"
   ]
  },
  {
   "cell_type": "code",
   "execution_count": 115,
   "metadata": {},
   "outputs": [
    {
     "name": "stdout",
     "output_type": "stream",
     "text": [
      "\u001b[?2004h"
     ]
    },
    {
     "ename": "",
     "evalue": "1",
     "output_type": "error",
     "traceback": []
    }
   ],
   "source": [
    "#cd $data"
   ]
  },
  {
   "cell_type": "code",
   "execution_count": 116,
   "metadata": {},
   "outputs": [
    {
     "name": "stdout",
     "output_type": "stream",
     "text": [
      "\u001b[?2004h"
     ]
    },
    {
     "ename": "",
     "evalue": "1",
     "output_type": "error",
     "traceback": []
    }
   ],
   "source": [
    "rm -f Rplots.pdf"
   ]
  },
  {
   "cell_type": "code",
   "execution_count": 117,
   "metadata": {},
   "outputs": [
    {
     "name": "stdout",
     "output_type": "stream",
     "text": [
      "\u001b[?2004h"
     ]
    },
    {
     "ename": "",
     "evalue": "1",
     "output_type": "error",
     "traceback": []
    }
   ],
   "source": [
    "cd ../"
   ]
  },
  {
   "cell_type": "markdown",
   "metadata": {},
   "source": [
    "This messy substitution is explained here: https://superuser.com/questions/1068031/replace-backslash-with-forward-slash-in-a-variable-in-bash"
   ]
  },
  {
   "cell_type": "code",
   "execution_count": 118,
   "metadata": {},
   "outputs": [
    {
     "name": "stdout",
     "output_type": "stream",
     "text": [
      "\u001b[?2004h\u001b[?2004l"
     ]
    },
    {
     "ename": "",
     "evalue": "1",
     "output_type": "error",
     "traceback": []
    }
   ],
   "source": [
    "data_folder_Compress=\"${data_folder////-}.zip\"\n",
    "data_folder_Compress=${data_folder_Compress#?};"
   ]
  },
  {
   "cell_type": "code",
   "execution_count": 119,
   "metadata": {},
   "outputs": [
    {
     "name": "stdout",
     "output_type": "stream",
     "text": [
      "/2xPt_6K10_15wk/\n",
      "\u001b[?2004h"
     ]
    },
    {
     "ename": "",
     "evalue": "1",
     "output_type": "error",
     "traceback": []
    }
   ],
   "source": [
    "echo $data_folder"
   ]
  },
  {
   "cell_type": "code",
   "execution_count": 120,
   "metadata": {},
   "outputs": [
    {
     "name": "stdout",
     "output_type": "stream",
     "text": [
      "2xPt_6K10_15wk-.zip\n",
      "\u001b[?2004h"
     ]
    },
    {
     "ename": "",
     "evalue": "1",
     "output_type": "error",
     "traceback": []
    }
   ],
   "source": [
    "echo $data_folder_Compress"
   ]
  },
  {
   "cell_type": "code",
   "execution_count": 121,
   "metadata": {},
   "outputs": [
    {
     "name": "stdout",
     "output_type": "stream",
     "text": [
      "/home/michael/GMOlabeler/plots\n",
      "\u001b[?2004h"
     ]
    },
    {
     "ename": "",
     "evalue": "1",
     "output_type": "error",
     "traceback": []
    }
   ],
   "source": [
    "pwd"
   ]
  },
  {
   "cell_type": "code",
   "execution_count": 122,
   "metadata": {},
   "outputs": [
    {
     "name": "stdout",
     "output_type": "stream",
     "text": [
      "\u001b[?2004h"
     ]
    },
    {
     "ename": "",
     "evalue": "1",
     "output_type": "error",
     "traceback": []
    }
   ],
   "source": [
    "cd $timepoint"
   ]
  },
  {
   "cell_type": "code",
   "execution_count": 123,
   "metadata": {},
   "outputs": [
    {
     "name": "stdout",
     "output_type": "stream",
     "text": [
      "2xPt_6K10_15wk\n",
      "\u001b[?2004h"
     ]
    },
    {
     "ename": "",
     "evalue": "1",
     "output_type": "error",
     "traceback": []
    }
   ],
   "source": [
    "echo $timepoint"
   ]
  },
  {
   "cell_type": "code",
   "execution_count": 124,
   "metadata": {
    "tags": []
   },
   "outputs": [
    {
     "name": "stdout",
     "output_type": "stream",
     "text": [
      "\u001b[0m\u001b[01;34mDsRed\u001b[0m  stats_with_sums_over_tissues.csv\n",
      "\u001b[?2004h"
     ]
    },
    {
     "ename": "",
     "evalue": "1",
     "output_type": "error",
     "traceback": []
    }
   ],
   "source": [
    "ls"
   ]
  },
  {
   "cell_type": "code",
   "execution_count": 125,
   "metadata": {
    "scrolled": true,
    "tags": []
   },
   "outputs": [
    {
     "name": "stdout",
     "output_type": "stream",
     "text": [
      "bash: cd: 2xPt_6K10_15wk: No such file or directory\n",
      "  adding: DsRed/ (stored 0%)\n",
      "  adding: DsRed/gridplot_args.rds (stored 0%)\n",
      "  adding: stats_with_sums_over_tissues.csv (deflated 87%)\n",
      "\u001b[?2004h"
     ]
    },
    {
     "ename": "",
     "evalue": "1",
     "output_type": "error",
     "traceback": []
    }
   ],
   "source": [
    "cd $timepoint\n",
    "zip -r $data_folder_Compress ./*"
   ]
  },
  {
   "cell_type": "markdown",
   "metadata": {},
   "source": [
    "### Write email"
   ]
  },
  {
   "cell_type": "code",
   "execution_count": 126,
   "metadata": {},
   "outputs": [
    {
     "name": "stdout",
     "output_type": "stream",
     "text": [
      "\u001b[?2004h"
     ]
    },
    {
     "ename": "",
     "evalue": "1",
     "output_type": "error",
     "traceback": []
    }
   ],
   "source": [
    "duration=$(( SECONDS - start ))"
   ]
  },
  {
   "cell_type": "markdown",
   "metadata": {},
   "source": [
    "https://unix.stackexchange.com/questions/53841/how-to-use-a-timer-in-bash"
   ]
  },
  {
   "cell_type": "code",
   "execution_count": 127,
   "metadata": {},
   "outputs": [
    {
     "name": "stdout",
     "output_type": "stream",
     "text": [
      "\u001b[?2004h\u001b[?2004l"
     ]
    },
    {
     "ename": "",
     "evalue": "1",
     "output_type": "error",
     "traceback": []
    }
   ],
   "source": [
    "rm -f \"${gmolabeler_path}/email_to_send.txt\"\n",
    "cp \"${gmolabeler_path}/email_to_send_template.txt\" \"${gmolabeler_path}/email_to_send.txt\""
   ]
  },
  {
   "cell_type": "code",
   "execution_count": 128,
   "metadata": {},
   "outputs": [
    {
     "name": "stdout",
     "output_type": "stream",
     "text": [
      "\u001b[?2004h\u001b[?2004l"
     ]
    },
    {
     "ename": "",
     "evalue": "1",
     "output_type": "error",
     "traceback": []
    }
   ],
   "source": [
    "echo \"\" >> \"${gmolabeler_path}/email_to_send.txt\"\n",
    "echo \"Number of samples run: \" >> \"${gmolabeler_path}/email_to_send.txt\""
   ]
  },
  {
   "cell_type": "code",
   "execution_count": 129,
   "metadata": {},
   "outputs": [
    {
     "name": "stdout",
     "output_type": "stream",
     "text": [
      "\u001b[?2004h\u001b[?2004l"
     ]
    },
    {
     "ename": "",
     "evalue": "1",
     "output_type": "error",
     "traceback": []
    }
   ],
   "source": [
    "cat \"${data}/test.csv\" | wc -l >> \"${gmolabeler_path}/email_to_send.txt\"\n",
    "echo \"\" >> \"${gmolabeler_path}/email_to_send.txt\""
   ]
  },
  {
   "cell_type": "code",
   "execution_count": 130,
   "metadata": {},
   "outputs": [
    {
     "name": "stdout",
     "output_type": "stream",
     "text": [
      "\u001b[?2004h\u001b[?2004l\u001b[?2004l\u001b[?2004l\u001b[?2004l\u001b[?2004l\u001b[?2004l\u001b[?2004l\u001b[?2004l\u001b[?2004l\u001b[?2004l\u001b[?2004l"
     ]
    },
    {
     "ename": "",
     "evalue": "1",
     "output_type": "error",
     "traceback": []
    }
   ],
   "source": [
    "if (( $SECONDS > 3600 )) ; then\n",
    "    let \"hours=SECONDS/3600\"\n",
    "    let \"minutes=(SECONDS%3600)/60\"\n",
    "    let \"seconds=(SECONDS%3600)%60\"\n",
    "    echo \"Completed in $hours hour(s), $minutes minute(s) and $seconds second(s)\" >> \"${gmolabeler_path}/email_to_send.txt\"\n",
    "elif (( $SECONDS > 60 )) ; then\n",
    "    let \"minutes=(SECONDS%3600)/60\"\n",
    "    let \"seconds=(SECONDS%3600)%60\"\n",
    "    echo \"Completed in $minutes minute(s) and $seconds second(s)\" >> \"${gmolabeler_path}/email_to_send.txt\"\n",
    "else\n",
    "    echo \"Completed in $SECONDS seconds\" >> \"${gmolabeler_path}/email_to_send.txt\"\n",
    "fi"
   ]
  },
  {
   "cell_type": "code",
   "execution_count": 131,
   "metadata": {},
   "outputs": [
    {
     "name": "stdout",
     "output_type": "stream",
     "text": [
      "\u001b[?2004h"
     ]
    },
    {
     "ename": "",
     "evalue": "1",
     "output_type": "error",
     "traceback": []
    }
   ],
   "source": [
    "echo \"\" >> \"${gmolabeler_path}/email_to_send.txt\""
   ]
  },
  {
   "cell_type": "markdown",
   "metadata": {},
   "source": [
    "### Send email with results to user"
   ]
  },
  {
   "cell_type": "code",
   "execution_count": 132,
   "metadata": {},
   "outputs": [
    {
     "name": "stdout",
     "output_type": "stream",
     "text": [
      "/home/michael/GMOlabeler/plots/2xPt_6K10_15wk\n",
      "\u001b[?2004h"
     ]
    },
    {
     "ename": "",
     "evalue": "1",
     "output_type": "error",
     "traceback": []
    }
   ],
   "source": [
    "pwd"
   ]
  },
  {
   "cell_type": "code",
   "execution_count": 133,
   "metadata": {},
   "outputs": [
    {
     "name": "stdout",
     "output_type": "stream",
     "text": [
      "2xPt_6K10_15wk-.zip\n",
      "\u001b[?2004h"
     ]
    },
    {
     "ename": "",
     "evalue": "1",
     "output_type": "error",
     "traceback": []
    }
   ],
   "source": [
    "echo $data_folder_Compress"
   ]
  },
  {
   "cell_type": "code",
   "execution_count": 134,
   "metadata": {},
   "outputs": [
    {
     "name": "stdout",
     "output_type": "stream",
     "text": [
      "/2xPt_6K10_15wk/\n",
      "\u001b[?2004h"
     ]
    },
    {
     "ename": "",
     "evalue": "1",
     "output_type": "error",
     "traceback": []
    }
   ],
   "source": [
    "echo $data_folder"
   ]
  },
  {
   "cell_type": "code",
   "execution_count": 135,
   "metadata": {},
   "outputs": [
    {
     "name": "stdout",
     "output_type": "stream",
     "text": [
      "ryanna@oregonstate.edu\n",
      "\u001b[?2004h"
     ]
    },
    {
     "ename": "",
     "evalue": "1",
     "output_type": "error",
     "traceback": []
    }
   ],
   "source": [
    "echo $email"
   ]
  },
  {
   "cell_type": "code",
   "execution_count": 136,
   "metadata": {},
   "outputs": [
    {
     "name": "stdout",
     "output_type": "stream",
     "text": [
      "/home/michael/GMOlabeler//email_to_send.txt\n",
      "\u001b[?2004h"
     ]
    },
    {
     "ename": "",
     "evalue": "1",
     "output_type": "error",
     "traceback": []
    }
   ],
   "source": [
    "echo \"${gmolabeler_path}/email_to_send.txt\""
   ]
  },
  {
   "cell_type": "code",
   "execution_count": 137,
   "metadata": {},
   "outputs": [
    {
     "name": "stdout",
     "output_type": "stream",
     "text": [
      "/home/michael/GMOlabeler/plots/2xPt_6K10_15wk\n",
      "\u001b[?2004h"
     ]
    },
    {
     "ename": "",
     "evalue": "1",
     "output_type": "error",
     "traceback": []
    }
   ],
   "source": [
    "pwd"
   ]
  },
  {
   "cell_type": "code",
   "execution_count": 138,
   "metadata": {},
   "outputs": [
    {
     "name": "stdout",
     "output_type": "stream",
     "text": [
      "\u001b[?2004l\n",
      "Your job is complete!\n",
      "\n",
      "Number of samples run: \n",
      "8\n",
      "\n",
      "Completed in 13 minute(s) and 30 second(s)\n",
      "\n",
      "\u001b[?2004h"
     ]
    },
    {
     "ename": "",
     "evalue": "1",
     "output_type": "error",
     "traceback": []
    }
   ],
   "source": [
    "cat \"${gmolabeler_path}/email_to_send.txt\""
   ]
  },
  {
   "cell_type": "code",
   "execution_count": 139,
   "metadata": {},
   "outputs": [
    {
     "name": "stdout",
     "output_type": "stream",
     "text": [
      "2xPt_6K10_15wk-.zip\n",
      "\u001b[?2004h"
     ]
    },
    {
     "ename": "",
     "evalue": "1",
     "output_type": "error",
     "traceback": []
    }
   ],
   "source": [
    "echo $data_folder_Compress"
   ]
  },
  {
   "cell_type": "code",
   "execution_count": 140,
   "metadata": {},
   "outputs": [
    {
     "name": "stdout",
     "output_type": "stream",
     "text": [
      "PK\u0003\u0004004l\n",
      "\u0000\u0000\u0000\u0000\u0000�zQT\u0000\u0000\u0000\u0000\u0000\u0000\u0000\u0000\u0000\u0000\u0000\u0000\u0006\u0000\u001c",
      "\u0000DsRed/UT\t\u0000\u0003��\u000eb��\u000ebux\u000b",
      "\u0000\u0001\u0004�\u0003\u0000\u0000\u0004�\u0003\u0000\u0000PK\u0003\u0004\n",
      "Iڮ�j���&�.\u0015\u001c",
      "\u0018f��{3üv\u0010BuToZ\u000fl�����\u0005B�=\u000b",
      "z�w�o�\u0006j۸�O�'C��G�dt6øB8�\tD�ℇ����\u0002\u0012H�ƸԔjE�h�\u000b",
      "�W��j�K5M�\u0000M�\u0002\"�\u0004\u0004O�a�gv�V1𪅼�.��@�)\u001e",
      "Rᩗ�k����%�\u001a95��\u001f.GVW,��\n",
      ">X{Bp��\u0010٤S\u0016Kk�V\t)M@;U�\u0015�\u00115TR�F��_�;K�\u00075<KI��\f",
      "����8}�Ё}��?���%�A\u0010�\u0014h��ȕ[3�8px3�Z����\u000b",
      "����ŊGļK/i�L�f�\u0001��G��G��Zc���i��7\u0006���\u0002\u0000\u0000PK\u0003\u0004\u0014\u0000\u0000\u0000�zQT�v.�i'\u0000\u0000�:\u0001\u0000 \u0000\u001c",
      "\u0000stats_with_sums_over_tissues.csvUT\t\u0000\u0003��\u000eb��\u000ebux\u000b",
      "\u0000\u0001\u0004�\u0003\u0000\u0000\u0004�\u0003\u0000\u0000�]ˎ\\9r��*\u0018�\u0017ך1`x\u0016�0�-���n�z�%����9W#U�\\�]d�l���j\u0006\u0019�s\"��\u001f�?�x����s����>�����}}����oO�?���������o�����?�����ï��ӗ�>�����ׯ�?�v���>=}}�ۧw\u001f��w�����o�>����W����������������݇o>>���ݛ������7��̵}}�F�������!O����޼y���>��wy�����߆�����)O��g=��x��\u001f����_������O_�����ׯϿ�/�~k���};F���\u001bV\u001b�W��2��K�Av��W�e�\u0012?��ه�YK�\u0013^�\u000b",
      "!��-����T�J\u0015�e�3WӴ�ܲ\u0004�DΖ�D�W�u�����R�}\u000b",
      "9d;�Q�M�8�Jl���і����4J'� \"V\u001f����1���S��\u000b",
      "}*�6��1g��E�h#�`��ZS�\u0016>���2K\u000f��P5O��:ix��2˱�\u0013J\u0004�0��b\u0001�J��P&գj�\u000e�m.M9Y�\u0017m�\u001f\u001d",
      "&;%�\u0014�C��#Def�ZF��\u000026K�9��8U�y�J�@�X���\u0013K�\u0004�3J �,��kx��2Y�qm:�\\�4/\u0014I�FCVќ\u0013�\\E/\u0005Y�uL3-o\u0003*F�_\u0001�\u000f�\u001a�[��\"��\u0011�9W��B%\u001e",
      "c5/�k\u001d",
      "�\u0006?��\u0000^�Hj8^8��fn��F�v�'\u0014�tB�W�\u001c",
      "r�N�/N�l\"��d,�0\u0004��x\u0007W�g\u00057x����\"��4\u001f9�fS]�|!~(�\u001b#`v7���H2\u0003��f\u001f�D���\u0006�����B��٦���R�(\u0006��̈́�b�s!D\u000f�D��R�\u00112\u0000�\u0016\u0000�\u0004�R\u001b>B����\\(\u0012\u000f�,��Y�Io�6\u0001Dͩ%����%��\u0002(>\u0002rz\u0001t�\u0005laڹ�8v��P\u0014�\u000b",
      "�L�l(-�q�\u000f\u0000���-j1�[\u00067W\u001e",
      "�hP�s��\u000f�\u000ey�\u000ep_2�\u0000�tꋰـ\t`e\u0003f7���e��\u0002g��\u0007@��Ex��Q\u0017ǫ@����w�\u000f���V���m�\u0001)\u0002�AA����֗\u0012�W���B)�\u0002b@T��\u0000���.8U�\t�J��9\u0013Z\u0010\n",
      "+�>!�3T6Fʳ�xQ\u000b",
      "r'�\u000b",
      "�R�;��\"���\u0002\u0006�\u0019C��qV`~���\u0019�����s5i]h��E���\u00068`\u0001o���\u001e",
      "��0D\u001c",
      "D�B9�\u001f�\u001c",
      "\u0001�\u000e�8�t\u0019~h\u0012�&�P_C�K@\u0018`M8�\u0005\\\u0002:\u0002\u0013�\u0010\u0001l�\u0003��\u000b",
      "�\u0012�ΊF�ʓ�xQ%K&��\u00033i!\\#h��\\%\u0018!�aT\u000b",
      "P�6\u0001�3[E���OC.A�J\u001e",
      "\u0004�\u0012�W^�*��١���8\u0000�3p2\u0012�[�\u001a\t�\u0005w\u0006R{�\u0010/�\tF\n",
      "(w���\u0018��W�V��\tn�@\u000b",
      "���0�\u0006�]˘\u0001lQn\u001d",
      "pM�\u0014��ة\u0006\\e\u0001�A���\u00054�\\;\"�\f",
      "p�E=Ȭ�p�<3\u00046\f",
      "lp�b\\f^a��!\u0002���A|\u000ez\u0015Ȁ�ׅ�5\u0018�\u0006�K�\u0006&��\n",
      "��o\f",
      "�3���e�uR7�B\u0016��\u0017�y0�\u0006-����l����%��,\u001c",
      "\u000fs�0ԓ3���WR\u0007V#���\n",
      "8E�����\n",
      "�c��鰕�Ÿ��/�\u0000H�ܰϐd\f",
      "��\u0002\u0002W\u0016�\u0005\f",
      "\u0006\u001f��~@�?\u0001�\u0018ua6�\u0002R�C��[9�c���K�����9�x�@d\u0000�Pg��r$�Bl\t\n",
      "x��\u0006��-��\u0011\u0011n\u001f}^�\u001a�eׁ�\u0015�-r\u0000�³A�;�\t0�\u0000�$>���c\u0004b�\u0016\u000b",
      "\u0018�Λx�c\u0012\\f�\u001d",
      "K\u0005�C�Q�\n",
      "\u001b[?2004h"
     ]
    },
    {
     "ename": "",
     "evalue": "1",
     "output_type": "error",
     "traceback": []
    }
   ],
   "source": [
    "head $data_folder_Compress"
   ]
  },
  {
   "cell_type": "code",
   "execution_count": 141,
   "metadata": {},
   "outputs": [
    {
     "name": "stdout",
     "output_type": "stream",
     "text": [
      "\u001b[?1h\u001b=\u001b[?2004h"
     ]
    },
    {
     "ename": "",
     "evalue": "1",
     "output_type": "error",
     "traceback": []
    }
   ],
   "source": [
    "s-nail -a $data_folder_Compress -s $data_folder $email < \"${gmolabeler_path}/email_to_send.txt\""
   ]
  },
  {
   "cell_type": "code",
   "execution_count": 142,
   "metadata": {},
   "outputs": [
    {
     "name": "stdout",
     "output_type": "stream",
     "text": [
      "du -sh $data_folder_Compress\n",
      "12K\t2xPt_6K10_15wk-.zip\n",
      "\u001b[?2004h"
     ]
    },
    {
     "ename": "",
     "evalue": "1",
     "output_type": "error",
     "traceback": []
    }
   ],
   "source": [
    "du -sh $data_folder_Compress"
   ]
  },
  {
   "cell_type": "code",
   "execution_count": 143,
   "metadata": {},
   "outputs": [
    {
     "name": "stdout",
     "output_type": "stream",
     "text": [
      "cat \"${gmolabeler_path}/email_to_send.txt\"\n",
      "\u001b[?2004l\n",
      "Your job is complete!\n",
      "\n",
      "Number of samples run: \n",
      "8\n",
      "\n",
      "Completed in 13 minute(s) and 30 second(s)\n",
      "\n",
      "\u001b[?2004h"
     ]
    },
    {
     "ename": "",
     "evalue": "1",
     "output_type": "error",
     "traceback": []
    }
   ],
   "source": [
    "cat \"${gmolabeler_path}/email_to_send.txt\""
   ]
  },
  {
   "cell_type": "markdown",
   "metadata": {},
   "source": [
    "Time workflow ends:"
   ]
  },
  {
   "cell_type": "code",
   "execution_count": 144,
   "metadata": {},
   "outputs": [
    {
     "name": "stdout",
     "output_type": "stream",
     "text": [
      "echo $(date)\n",
      "Thu 17 Feb 2022 03:22:40 PM PST\n",
      "\u001b[?2004h"
     ]
    },
    {
     "ename": "",
     "evalue": "1",
     "output_type": "error",
     "traceback": []
    }
   ],
   "source": [
    "echo $(date)"
   ]
  },
  {
   "cell_type": "code",
   "execution_count": null,
   "metadata": {},
   "outputs": [],
   "source": []
  },
  {
   "cell_type": "code",
   "execution_count": null,
   "metadata": {},
   "outputs": [],
   "source": []
  },
  {
   "cell_type": "code",
   "execution_count": null,
   "metadata": {},
   "outputs": [],
   "source": []
  },
  {
   "cell_type": "code",
   "execution_count": null,
   "metadata": {},
   "outputs": [],
   "source": []
  },
  {
   "cell_type": "code",
   "execution_count": null,
   "metadata": {},
   "outputs": [],
   "source": []
  },
  {
   "cell_type": "code",
   "execution_count": null,
   "metadata": {},
   "outputs": [],
   "source": []
  },
  {
   "cell_type": "code",
   "execution_count": null,
   "metadata": {},
   "outputs": [],
   "source": []
  },
  {
   "cell_type": "code",
   "execution_count": null,
   "metadata": {},
   "outputs": [],
   "source": []
  },
  {
   "cell_type": "code",
   "execution_count": null,
   "metadata": {},
   "outputs": [],
   "source": []
  },
  {
   "cell_type": "code",
   "execution_count": null,
   "metadata": {},
   "outputs": [],
   "source": []
  },
  {
   "cell_type": "code",
   "execution_count": null,
   "metadata": {},
   "outputs": [],
   "source": []
  },
  {
   "cell_type": "code",
   "execution_count": null,
   "metadata": {},
   "outputs": [],
   "source": []
  },
  {
   "cell_type": "code",
   "execution_count": null,
   "metadata": {},
   "outputs": [],
   "source": []
  },
  {
   "cell_type": "code",
   "execution_count": null,
   "metadata": {},
   "outputs": [],
   "source": []
  },
  {
   "cell_type": "code",
   "execution_count": null,
   "metadata": {},
   "outputs": [],
   "source": []
  },
  {
   "cell_type": "code",
   "execution_count": null,
   "metadata": {},
   "outputs": [],
   "source": []
  },
  {
   "cell_type": "code",
   "execution_count": null,
   "metadata": {},
   "outputs": [],
   "source": []
  }
 ],
 "metadata": {
  "kernelspec": {
   "display_name": "Bash",
   "language": "bash",
   "name": "bash"
  },
  "language_info": {
   "codemirror_mode": "shell",
   "file_extension": ".sh",
   "mimetype": "text/x-sh",
   "name": "bash"
  },
  "toc-autonumbering": true,
  "toc-showtags": false
 },
 "nbformat": 4,
 "nbformat_minor": 4
}
