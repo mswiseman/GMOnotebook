{
 "cells": [
  {
   "cell_type": "markdown",
   "metadata": {},
   "source": [
    "# *CubeGLM-only notebook*: Template to analyze a new batch of images, whole plate statistics only\n",
    "**Notebook template for applying routine hyperspectral/segmentation cross-analysis phenomics workflow over new datasets without segmentation**"
   ]
  },
  {
   "cell_type": "markdown",
   "metadata": {},
   "source": [
    "## Instructions for use\n",
    "1.  Enter information for the experiment below\n",
    "2. Set <font color=blue>variables</font> for data paths and parameters, as instructed by colored boxes.\n",
    "3. \"Save as\" with filename describing experiment and anything special about this analysis (e.g. T18_OD_TAO_wk7_automation_test_attempt2.ipynb)\n",
    "4. Run notebook from console, by either one of two methods:\n",
    "- In the top bar of JupyterLab, select \"Run\" and \"Run all cells\"\n",
    "- In a terminal, enter the below command with the notebook filename inserted<br>\n",
    "```jupyter nbconvert --to HTML --ExecutePreprocessor.timeout=-1 --allow-errors --execute insert_filename_here```\n",
    "5. Wait for email"
   ]
  },
  {
   "cell_type": "markdown",
   "metadata": {},
   "source": [
    "## Experiment ID and quick description:"
   ]
  },
  {
   "cell_type": "markdown",
   "metadata": {},
   "source": [
    "<div class=\"alert alert-block alert-success\">\n",
    "Provide a short description of the experiment in the below box. This should include unique identifier codes for the experiment, along with a short description of genotypes and treatments studied. The timepoint should also be included. </div>"
   ]
  },
  {
   "cell_type": "raw",
   "metadata": {},
   "source": [
    "GRF construct in 717 at week 7"
   ]
  },
  {
   "cell_type": "markdown",
   "metadata": {
    "heading_collapsed": "true"
   },
   "source": [
    "## Parameters for analysis:"
   ]
  },
  {
   "cell_type": "markdown",
   "metadata": {},
   "source": [
    "<div class=\"alert alert-block alert-success\">\n",
    "The below variables must be modified appropriately every time this workflow is run over new images.\n",
    "</div>"
   ]
  },
  {
   "cell_type": "markdown",
   "metadata": {},
   "source": [
    "### Data location\n",
    "The `data` variable below provides the **complete** path to the folder containing data to be analyzed. This should include all folders and subfolders in which the data of interest is organized by. For the organizational system used for our lab's data, this should follow the format \"/Experiment/Subexperiment/Timepoint/\""
   ]
  },
  {
   "cell_type": "code",
   "execution_count": 1,
   "metadata": {},
   "outputs": [],
   "source": [
    "data_prefix=\"/media/michael/Elements_13/\""
   ]
  },
  {
   "cell_type": "code",
   "execution_count": 2,
   "metadata": {},
   "outputs": [],
   "source": [
    "data_suffix=\"/Nathan_GRF/Nathan_GRF_12_2021/717_1xCWT_GRF/week_7/\""
   ]
  },
  {
   "cell_type": "code",
   "execution_count": 3,
   "metadata": {},
   "outputs": [],
   "source": [
    "data=\"${data_prefix}${data_suffix}\""
   ]
  },
  {
   "cell_type": "code",
   "execution_count": 4,
   "metadata": {},
   "outputs": [
    {
     "name": "stdout",
     "output_type": "stream",
     "text": [
      "/media/michael/Elements_13//Nathan_GRF/Nathan_GRF_12_2021/717_1xCWT_GRF/week_7/\n"
     ]
    }
   ],
   "source": [
    "echo $data"
   ]
  },
  {
   "cell_type": "markdown",
   "metadata": {},
   "source": [
    "### Sample information\n",
    "Every experiment has a randomization datasheet, which was used to organize treatment and genotype information for each plate, prepare labels, and randomize plates. The path to this file is provided through the `randomization_datasheets` variable below. This workflow requires this datasheet in order to know which plates have which genotype/treatment. At a later date, we will integrate an ability to read this data directly from labels."
   ]
  },
  {
   "cell_type": "code",
   "execution_count": 5,
   "metadata": {},
   "outputs": [],
   "source": [
    "randomization_datasheet=\"${data_prefix}/Nathan_GRF/Nathan_GRF_12_2021/717_1xCWT_GRF/1xCWT_wk3.xlsx\""
   ]
  },
  {
   "cell_type": "code",
   "execution_count": 6,
   "metadata": {},
   "outputs": [
    {
     "name": "stdout",
     "output_type": "stream",
     "text": [
      "\u001b[0m\u001b[01;32m/media/michael/Elements_13//Nathan_GRF/Nathan_GRF_12_2021/717_1xCWT_GRF/1xCWT_wk3.xlsx\u001b[0m\u001b[K\n"
     ]
    }
   ],
   "source": [
    "ls $randomization_datasheet"
   ]
  },
  {
   "cell_type": "markdown",
   "metadata": {},
   "source": [
    "### Detection of missing or contaminated explants"
   ]
  },
  {
   "cell_type": "markdown",
   "metadata": {},
   "source": [
    "Set the `missing_explants` variable to `\"Automatic\"` if using model to automatically detect missing and contaminated explants. Note that this model is only supported for plates with 12 explants. Otherwise, set this option to `\"Manual\"` and include this information in the `total_explants_manual` column in the randomization datasheet."
   ]
  },
  {
   "cell_type": "code",
   "execution_count": 7,
   "metadata": {},
   "outputs": [],
   "source": [
    "missing_explants=\"Automatic\""
   ]
  },
  {
   "cell_type": "markdown",
   "metadata": {},
   "source": [
    "Enter your email where results will be sent"
   ]
  },
  {
   "cell_type": "markdown",
   "metadata": {},
   "source": [
    "### Email"
   ]
  },
  {
   "cell_type": "code",
   "execution_count": 8,
   "metadata": {},
   "outputs": [],
   "source": [
    "email=michael.nagle@oregonstate.edu"
   ]
  },
  {
   "cell_type": "markdown",
   "metadata": {},
   "source": [
    "\n",
    "\n",
    "\n",
    "\n",
    "\n",
    "\n",
    "\n",
    "\n",
    "\n",
    "\n",
    "\n",
    "\n",
    "\n",
    "\n",
    "\n",
    "<div class=\"alert alert-block alert-warning\">\n",
    "All variables below should be modified only as needed to indicate the fluorescent proteins in samples and the grid layout of explants. </div>"
   ]
  },
  {
   "cell_type": "markdown",
   "metadata": {},
   "source": [
    "### Fluorescent protein settings"
   ]
  },
  {
   "cell_type": "markdown",
   "metadata": {},
   "source": [
    "Below should be all known fluorescent components contained in the sample. This includes each fluorescent protein, as well as a \"noise\" or \"diffraction\" term if applicable. All of these components must exist in the user's spectral library. `GMOdetector` currently comes with a spectral library that includes, by default:\n",
    "- DsRed\n",
    "- ZsYellow\n",
    "- GFP\n",
    "- Chl\n",
    "- ChlA\n",
    "- ChlB\n",
    "- Diffraction"
   ]
  },
  {
   "cell_type": "code",
   "execution_count": 9,
   "metadata": {},
   "outputs": [],
   "source": [
    "fluorophores=(DsRed Chl Diffraction) # An explanation of array variables in bash is here: https://tldp.org/LDP/Bash-Beginners-Guide/html/sect_10_02.html"
   ]
  },
  {
   "cell_type": "markdown",
   "metadata": {},
   "source": [
    "The user has the option of limiting loading of hyperspectral data and subsequent regression to a specific range of wavelengths, using the `desired_wavelength_range` array variable. This range should cover all fluorophores provided in the `fluorophores` array variable able. Aside from runtime, there is no disadvantage to including a wider range than is needed."
   ]
  },
  {
   "cell_type": "code",
   "execution_count": 10,
   "metadata": {},
   "outputs": [],
   "source": [
    "desired_wavelength_range=(500 900)"
   ]
  },
  {
   "cell_type": "markdown",
   "metadata": {},
   "source": [
    "### False color plot settings"
   ]
  },
  {
   "cell_type": "markdown",
   "metadata": {},
   "source": [
    "To assist user inspection of regression results, false color plots can be produced by `GMOdetector` to show results of regression over whole samples. \n",
    "Note: In v0.2.0.x of the workflow, these parameters are independent of those used later by `GMOlabeler` to produce by-explant plots including false color plots. These will be made the same in a later update.\n",
    "The `FalseColor_channels` array variable indicates the components to be plotted as red, green and blue, in that order."
   ]
  },
  {
   "cell_type": "code",
   "execution_count": 11,
   "metadata": {},
   "outputs": [],
   "source": [
    "FalseColor_channels=(Chl DsRed Diffraction)"
   ]
  },
  {
   "cell_type": "markdown",
   "metadata": {},
   "source": [
    "The `FalseColor_caps` array variable indicates an upper limit of signal for each of these component. Any signal at or above these values will appear with maximum brightness; thus, these variables are comparable to exposure on a camera. If caps are too high, not much signal at lower ranges will be seen. If cap for a given component is too low, the false color images will appear overexposed with respect to the component."
   ]
  },
  {
   "cell_type": "code",
   "execution_count": 12,
   "metadata": {},
   "outputs": [],
   "source": [
    "FalseColor_caps=(200 400 200)"
   ]
  },
  {
   "cell_type": "markdown",
   "metadata": {},
   "source": [
    "`GMOlabeler` will use the below parameters to classify individual explants on plates as positive for a given fluorescent protein or not. A single fluorescent protein is chosen for the by-explant false color plots. Multiple can be used to generate the final plots summarizing results."
   ]
  },
  {
   "cell_type": "code",
   "execution_count": 13,
   "metadata": {},
   "outputs": [],
   "source": [
    "reporters=(DsRed)\n",
    "#reporter=DsRed"
   ]
  },
  {
   "cell_type": "markdown",
   "metadata": {},
   "source": [
    "Parameters for reporter signal threshold and pixel threshold must be provided by the user. Our grid search yielded several noted below. These were most recently calculated from statistics produced with Python `GMOdetector`."
   ]
  },
  {
   "cell_type": "markdown",
   "metadata": {},
   "source": [
    "<img src=\"Figures/GMOlabeler_parameters.png\">"
   ]
  },
  {
   "cell_type": "code",
   "execution_count": 14,
   "metadata": {},
   "outputs": [],
   "source": [
    "reporter_threshold=38"
   ]
  },
  {
   "cell_type": "markdown",
   "metadata": {},
   "source": [
    "### Grid settings"
   ]
  },
  {
   "cell_type": "markdown",
   "metadata": {},
   "source": [
    "This is only needed if we're using a model to detect missing explants. Note that this model only works for the 12-explant grid."
   ]
  },
  {
   "cell_type": "code",
   "execution_count": 15,
   "metadata": {},
   "outputs": [],
   "source": [
    "pre_aligned_resized_grid_borders=(\"256,490,1720,1602\")"
   ]
  },
  {
   "cell_type": "markdown",
   "metadata": {},
   "source": [
    "<div class=\"alert alert-block alert-danger\">\n",
    "The below variables do not need to be modified during any routine use of the workflow.\n",
    "</div>"
   ]
  },
  {
   "cell_type": "markdown",
   "metadata": {},
   "source": [
    "Set dimensions for plot outputs"
   ]
  },
  {
   "cell_type": "code",
   "execution_count": 16,
   "metadata": {},
   "outputs": [],
   "source": [
    "#width=15\n",
    "width=9\n",
    "height=5"
   ]
  },
  {
   "cell_type": "code",
   "execution_count": 17,
   "metadata": {},
   "outputs": [],
   "source": [
    "parallel=0"
   ]
  },
  {
   "cell_type": "markdown",
   "metadata": {},
   "source": [
    "### Paths to workflow modules"
   ]
  },
  {
   "cell_type": "markdown",
   "metadata": {},
   "source": [
    "These only need to be modified if you are setting up a `GMOnotebook` template on a new computer."
   ]
  },
  {
   "cell_type": "code",
   "execution_count": 18,
   "metadata": {},
   "outputs": [],
   "source": [
    "cwd=\"/home/michael/GMOnotebook\""
   ]
  },
  {
   "cell_type": "code",
   "execution_count": 19,
   "metadata": {},
   "outputs": [],
   "source": [
    "gmodetector_wd=\"/home/michael/gmodetector_py/\"\n",
    "spectral_library_path=\"${gmodetector_wd}spectral_library/\"\n",
    "deeplab_path=\"/home/michael/poplar_model_2_w_contam/\"\n",
    "alignment_path=\"/home/michael/ImageAlignment/\"\n",
    "gmolabeler_path=\"/home/michael/GMOlabeler/\"\n",
    "contamination_path=\"/home/michael/DenseNet\"\n",
    "data_prefix=\"/home/michael/data/\"\n",
    "output_directory_prefix=\"${data_prefix}gmodetector_out/\""
   ]
  },
  {
   "cell_type": "markdown",
   "metadata": {},
   "source": [
    "<div class=\"alert alert-block alert-info\">\n",
    "With all above variables set, please \"Save as...\" with a filename referencing this specific dataset. <br>Finally, deploy the workflow (Step 4 in above instructions).\n",
    "</div>"
   ]
  },
  {
   "cell_type": "markdown",
   "metadata": {},
   "source": [
    "# Automated workflow to be deployed"
   ]
  },
  {
   "cell_type": "markdown",
   "metadata": {},
   "source": [
    "See the below code for a walkthrough of how GMOnotebook works, or view the outputs after running the workflow for help troubleshooting errors in specific steps of analysis."
   ]
  },
  {
   "cell_type": "markdown",
   "metadata": {},
   "source": [
    "<div class=\"alert alert-block alert-danger\"> <b>Danger:</b> Do not modify any below code without creating a new version of the template notebook. During routine usage, this workflow should be customized only by modifying variables above, while leaving the below code unmodified. </div>"
   ]
  },
  {
   "cell_type": "markdown",
   "metadata": {},
   "source": [
    "These internal variables are set automatically."
   ]
  },
  {
   "cell_type": "code",
   "execution_count": 20,
   "metadata": {},
   "outputs": [],
   "source": [
    "datestamp=$(date +”%Y-%m-%d”)"
   ]
  },
  {
   "cell_type": "code",
   "execution_count": 21,
   "metadata": {},
   "outputs": [],
   "source": [
    "data_folder=$(echo $data | cut -d/ -f5-)"
   ]
  },
  {
   "cell_type": "code",
   "execution_count": 22,
   "metadata": {},
   "outputs": [],
   "source": [
    "timepoint=\"$(basename -- $data_folder)\""
   ]
  },
  {
   "cell_type": "code",
   "execution_count": 23,
   "metadata": {},
   "outputs": [],
   "source": [
    "output_directory_full=\"$output_directory_prefix$data_folder\""
   ]
  },
  {
   "cell_type": "code",
   "execution_count": 24,
   "metadata": {},
   "outputs": [],
   "source": [
    "#dataset_name=$(echo $data_folder | sed -e 's/\\//-/g')\n",
    "dataset_name=$(echo $data_folder | sed -e 's/\\///g')"
   ]
  },
  {
   "cell_type": "code",
   "execution_count": 25,
   "metadata": {},
   "outputs": [
    {
     "name": "stdout",
     "output_type": "stream",
     "text": [
      "Nathan_GRFNathan_GRF_12_2021717_1xCWT_GRFweek_7\n"
     ]
    }
   ],
   "source": [
    "echo $dataset_name"
   ]
  },
  {
   "cell_type": "markdown",
   "metadata": {},
   "source": [
    "Time analysis begins:"
   ]
  },
  {
   "cell_type": "code",
   "execution_count": 26,
   "metadata": {},
   "outputs": [
    {
     "name": "stdout",
     "output_type": "stream",
     "text": [
      "Wed 26 Jan 2022 03:28:16 PM PST\n"
     ]
    }
   ],
   "source": [
    "echo $(date)"
   ]
  },
  {
   "cell_type": "markdown",
   "metadata": {},
   "source": [
    "## Quantification of fluorescent proteins by regression"
   ]
  },
  {
   "cell_type": "markdown",
   "metadata": {},
   "source": [
    "The Python package `CubeGLM` is used to quantify fluorescent proteins in each pixel of hyperspectral images via linear regression. Hyperspectral images are regressed over spectra of known components, and pixelwise maps of test-statistics are constructed for each component in the sample. This approach to quantifying components of hyperspectral images is described in-depth in the Methods section from <a href=\"https://link.springer.com/article/10.1007/s40789-019-0252-7\" target=\"_blank\">Böhme, et al. 2019</a>. Code and documentation for `CubeGLM` is on <a href=\"https://github.com/naglemi/GMOdetector_py\" target=\"_blank\">Github</a>."
   ]
  },
  {
   "cell_type": "code",
   "execution_count": 27,
   "metadata": {},
   "outputs": [],
   "source": [
    "cd $gmodetector_wd"
   ]
  },
  {
   "cell_type": "code",
   "execution_count": 28,
   "metadata": {},
   "outputs": [],
   "source": [
    "job_list_name=\"$dataset_name.jobs\""
   ]
  },
  {
   "cell_type": "code",
   "execution_count": 29,
   "metadata": {},
   "outputs": [],
   "source": [
    "rm -rf $job_list_name"
   ]
  },
  {
   "cell_type": "code",
   "execution_count": 30,
   "metadata": {},
   "outputs": [],
   "source": [
    "for file in $data/*.hdr\n",
    "do\n",
    " if [[ \"$file\" != *'hroma'* ]] && [[ \"$file\" != *'roadband'* ]]; then\n",
    "  echo \"python -W ignore wrappers/analyze_sample.py \\\n",
    "--file_path $file \\\n",
    "--fluorophores ${fluorophores[*]} \\\n",
    "--min_desired_wavelength ${desired_wavelength_range[0]} \\\n",
    "--max_desired_wavelength ${desired_wavelength_range[1]} \\\n",
    "--red_channel ${FalseColor_channels[0]} \\\n",
    "--green_channel ${FalseColor_channels[1]} \\\n",
    "--blue_channel ${FalseColor_channels[2]} \\\n",
    "--red_cap ${FalseColor_caps[0]} \\\n",
    "--green_cap ${FalseColor_caps[1]} \\\n",
    "--blue_cap ${FalseColor_caps[2]} \\\n",
    "--plot 1 \\\n",
    "--spectral_library_path \"$spectral_library_path\" \\\n",
    "--output_dir $output_directory_full \\\n",
    "--threshold 38\" >> $job_list_name\n",
    " fi\n",
    "done"
   ]
  },
  {
   "cell_type": "code",
   "execution_count": 31,
   "metadata": {},
   "outputs": [
    {
     "name": "stdout",
     "output_type": "stream",
     "text": [
      "Nathan_GRFNathan_GRF_12_2021717_1xCWT_GRFweek_7.jobs\n"
     ]
    }
   ],
   "source": [
    "echo $job_list_name"
   ]
  },
  {
   "cell_type": "code",
   "execution_count": 32,
   "metadata": {
    "scrolled": true
   },
   "outputs": [
    {
     "name": "stdout",
     "output_type": "stream",
     "text": [
      "(test-environment) (test-environment) (test-environment) (test-environment) Running GMOdetector version 0.0.875\n",
      "load mode isload_full_then_crop\n",
      "Saving to /home/michael/data/gmodetector_out//Nathan_GRF/Nathan_GRF_12_2021/717_1xCWT_GRF/week_7/CWT1_I5.0_F1.9_L100LED30_120305_0_0_0_Fluorescence_weights.hdf with key of weights\n",
      "Saving summary stats w/ threshold38.0 to /home/michael/data/gmodetector_out//Nathan_GRF/Nathan_GRF_12_2021/717_1xCWT_GRF/week_7/CWT1_I5.0_F1.9_L100LED30_120305_0_0_0_Fluorescence_summary.csv\n",
      "Producing image channel for DsRed with cap 400 in color green\n",
      "Producing image channel for Chl with cap 200 in color red\n",
      "Producing image channel for Diffraction with cap 200 in color blue\n",
      "Saving image to /home/michael/data/gmodetector_out//Nathan_GRF/Nathan_GRF_12_2021/717_1xCWT_GRF/week_7/CWT1_I5.0_F1.9_L100LED30_120305_0_0_0_Fluorescence.png\n",
      "Saving image metadata to /home/michael/data/gmodetector_out//Nathan_GRF/Nathan_GRF_12_2021/717_1xCWT_GRF/week_7/CWT1_I5.0_F1.9_L100LED30_120305_0_0_0_Fluorescence.csv\n",
      "\n",
      "Finished running sample /media/michael/Elements_13//Nathan_GRF/Nathan_GRF_12_2021/717_1xCWT_GRF/week_7//CWT1_I5.0_F1.9_L100LED30_120305_0_0_0_Fluorescence.hdr in 21.0443111108616s\n",
      "\n",
      "Running GMOdetector version 0.0.875\n",
      "load mode isload_full_then_crop\n",
      "Saving to /home/michael/data/gmodetector_out//Nathan_GRF/Nathan_GRF_12_2021/717_1xCWT_GRF/week_7/CWT1_I5.0_F1.9_L100LED30_120347_1_0_1_Fluorescence_weights.hdf with key of weights\n",
      "Saving summary stats w/ threshold38.0 to /home/michael/data/gmodetector_out//Nathan_GRF/Nathan_GRF_12_2021/717_1xCWT_GRF/week_7/CWT1_I5.0_F1.9_L100LED30_120347_1_0_1_Fluorescence_summary.csv\n",
      "Producing image channel for DsRed with cap 400 in color green\n",
      "Producing image channel for Chl with cap 200 in color red\n",
      "Producing image channel for Diffraction with cap 200 in color blue\n",
      "Saving image to /home/michael/data/gmodetector_out//Nathan_GRF/Nathan_GRF_12_2021/717_1xCWT_GRF/week_7/CWT1_I5.0_F1.9_L100LED30_120347_1_0_1_Fluorescence.png\n",
      "Saving image metadata to /home/michael/data/gmodetector_out//Nathan_GRF/Nathan_GRF_12_2021/717_1xCWT_GRF/week_7/CWT1_I5.0_F1.9_L100LED30_120347_1_0_1_Fluorescence.csv\n",
      "\n",
      "Finished running sample /media/michael/Elements_13//Nathan_GRF/Nathan_GRF_12_2021/717_1xCWT_GRF/week_7//CWT1_I5.0_F1.9_L100LED30_120347_1_0_1_Fluorescence.hdr in 18.58648562571034s\n",
      "\n",
      "Running GMOdetector version 0.0.875\n",
      "load mode isload_full_then_crop\n",
      "Saving to /home/michael/data/gmodetector_out//Nathan_GRF/Nathan_GRF_12_2021/717_1xCWT_GRF/week_7/CWT1_I5.0_F1.9_L100LED30_120444_2_0_2_Fluorescence_weights.hdf with key of weights\n",
      "Saving summary stats w/ threshold38.0 to /home/michael/data/gmodetector_out//Nathan_GRF/Nathan_GRF_12_2021/717_1xCWT_GRF/week_7/CWT1_I5.0_F1.9_L100LED30_120444_2_0_2_Fluorescence_summary.csv\n",
      "Producing image channel for DsRed with cap 400 in color green\n",
      "Producing image channel for Chl with cap 200 in color red\n",
      "Producing image channel for Diffraction with cap 200 in color blue\n",
      "Saving image to /home/michael/data/gmodetector_out//Nathan_GRF/Nathan_GRF_12_2021/717_1xCWT_GRF/week_7/CWT1_I5.0_F1.9_L100LED30_120444_2_0_2_Fluorescence.png\n",
      "Saving image metadata to /home/michael/data/gmodetector_out//Nathan_GRF/Nathan_GRF_12_2021/717_1xCWT_GRF/week_7/CWT1_I5.0_F1.9_L100LED30_120444_2_0_2_Fluorescence.csv\n",
      "\n",
      "Finished running sample /media/michael/Elements_13//Nathan_GRF/Nathan_GRF_12_2021/717_1xCWT_GRF/week_7//CWT1_I5.0_F1.9_L100LED30_120444_2_0_2_Fluorescence.hdr in 18.76036485377699s\n",
      "\n",
      "Running GMOdetector version 0.0.875\n",
      "load mode isload_full_then_crop\n",
      "Saving to /home/michael/data/gmodetector_out//Nathan_GRF/Nathan_GRF_12_2021/717_1xCWT_GRF/week_7/CWT1_I5.0_F1.9_L100LED30_120540_3_0_3_Fluorescence_weights.hdf with key of weights\n",
      "Saving summary stats w/ threshold38.0 to /home/michael/data/gmodetector_out//Nathan_GRF/Nathan_GRF_12_2021/717_1xCWT_GRF/week_7/CWT1_I5.0_F1.9_L100LED30_120540_3_0_3_Fluorescence_summary.csv\n",
      "Producing image channel for DsRed with cap 400 in color green\n",
      "Producing image channel for Chl with cap 200 in color red\n",
      "Producing image channel for Diffraction with cap 200 in color blue\n",
      "Saving image to /home/michael/data/gmodetector_out//Nathan_GRF/Nathan_GRF_12_2021/717_1xCWT_GRF/week_7/CWT1_I5.0_F1.9_L100LED30_120540_3_0_3_Fluorescence.png\n",
      "Saving image metadata to /home/michael/data/gmodetector_out//Nathan_GRF/Nathan_GRF_12_2021/717_1xCWT_GRF/week_7/CWT1_I5.0_F1.9_L100LED30_120540_3_0_3_Fluorescence.csv\n",
      "\n",
      "Finished running sample /media/michael/Elements_13//Nathan_GRF/Nathan_GRF_12_2021/717_1xCWT_GRF/week_7//CWT1_I5.0_F1.9_L100LED30_120540_3_0_3_Fluorescence.hdr in 18.205586560070515s\n",
      "\n",
      "Running GMOdetector version 0.0.875\n",
      "load mode isload_full_then_crop\n",
      "Saving to /home/michael/data/gmodetector_out//Nathan_GRF/Nathan_GRF_12_2021/717_1xCWT_GRF/week_7/CWT1_I5.0_F1.9_L100LED30_120637_4_0_4_Fluorescence_weights.hdf with key of weights\n",
      "Saving summary stats w/ threshold38.0 to /home/michael/data/gmodetector_out//Nathan_GRF/Nathan_GRF_12_2021/717_1xCWT_GRF/week_7/CWT1_I5.0_F1.9_L100LED30_120637_4_0_4_Fluorescence_summary.csv\n",
      "Producing image channel for DsRed with cap 400 in color green\n",
      "Producing image channel for Chl with cap 200 in color red\n",
      "Producing image channel for Diffraction with cap 200 in color blue\n",
      "Saving image to /home/michael/data/gmodetector_out//Nathan_GRF/Nathan_GRF_12_2021/717_1xCWT_GRF/week_7/CWT1_I5.0_F1.9_L100LED30_120637_4_0_4_Fluorescence.png\n",
      "Saving image metadata to /home/michael/data/gmodetector_out//Nathan_GRF/Nathan_GRF_12_2021/717_1xCWT_GRF/week_7/CWT1_I5.0_F1.9_L100LED30_120637_4_0_4_Fluorescence.csv\n",
      "\n",
      "Finished running sample /media/michael/Elements_13//Nathan_GRF/Nathan_GRF_12_2021/717_1xCWT_GRF/week_7//CWT1_I5.0_F1.9_L100LED30_120637_4_0_4_Fluorescence.hdr in 17.97882849909365s\n",
      "\n",
      "Running GMOdetector version 0.0.875\n",
      "load mode isload_full_then_crop\n",
      "Saving to /home/michael/data/gmodetector_out//Nathan_GRF/Nathan_GRF_12_2021/717_1xCWT_GRF/week_7/CWT1_I5.0_F1.9_L100LED30_120733_5_0_5_Fluorescence_weights.hdf with key of weights\n",
      "Saving summary stats w/ threshold38.0 to /home/michael/data/gmodetector_out//Nathan_GRF/Nathan_GRF_12_2021/717_1xCWT_GRF/week_7/CWT1_I5.0_F1.9_L100LED30_120733_5_0_5_Fluorescence_summary.csv\n",
      "Producing image channel for DsRed with cap 400 in color green\n",
      "Producing image channel for Chl with cap 200 in color red\n",
      "Producing image channel for Diffraction with cap 200 in color blue\n",
      "Saving image to /home/michael/data/gmodetector_out//Nathan_GRF/Nathan_GRF_12_2021/717_1xCWT_GRF/week_7/CWT1_I5.0_F1.9_L100LED30_120733_5_0_5_Fluorescence.png\n",
      "Saving image metadata to /home/michael/data/gmodetector_out//Nathan_GRF/Nathan_GRF_12_2021/717_1xCWT_GRF/week_7/CWT1_I5.0_F1.9_L100LED30_120733_5_0_5_Fluorescence.csv\n",
      "\n",
      "Finished running sample /media/michael/Elements_13//Nathan_GRF/Nathan_GRF_12_2021/717_1xCWT_GRF/week_7//CWT1_I5.0_F1.9_L100LED30_120733_5_0_5_Fluorescence.hdr in 18.34534496674314s\n",
      "\n",
      "Running GMOdetector version 0.0.875\n",
      "load mode isload_full_then_crop\n",
      "Saving to /home/michael/data/gmodetector_out//Nathan_GRF/Nathan_GRF_12_2021/717_1xCWT_GRF/week_7/CWT1_I5.0_F1.9_L100LED30_120829_6_0_6_Fluorescence_weights.hdf with key of weights\n",
      "Saving summary stats w/ threshold38.0 to /home/michael/data/gmodetector_out//Nathan_GRF/Nathan_GRF_12_2021/717_1xCWT_GRF/week_7/CWT1_I5.0_F1.9_L100LED30_120829_6_0_6_Fluorescence_summary.csv\n",
      "Producing image channel for DsRed with cap 400 in color green\n",
      "Producing image channel for Chl with cap 200 in color red\n",
      "Producing image channel for Diffraction with cap 200 in color blue\n",
      "Saving image to /home/michael/data/gmodetector_out//Nathan_GRF/Nathan_GRF_12_2021/717_1xCWT_GRF/week_7/CWT1_I5.0_F1.9_L100LED30_120829_6_0_6_Fluorescence.png\n",
      "Saving image metadata to /home/michael/data/gmodetector_out//Nathan_GRF/Nathan_GRF_12_2021/717_1xCWT_GRF/week_7/CWT1_I5.0_F1.9_L100LED30_120829_6_0_6_Fluorescence.csv\n",
      "\n",
      "Finished running sample /media/michael/Elements_13//Nathan_GRF/Nathan_GRF_12_2021/717_1xCWT_GRF/week_7//CWT1_I5.0_F1.9_L100LED30_120829_6_0_6_Fluorescence.hdr in 18.897239258047193s\n",
      "\n",
      "Running GMOdetector version 0.0.875\n",
      "load mode isload_full_then_crop\n",
      "Saving to /home/michael/data/gmodetector_out//Nathan_GRF/Nathan_GRF_12_2021/717_1xCWT_GRF/week_7/CWT1_I5.0_F1.9_L100LED30_120926_7_1_5_Fluorescence_weights.hdf with key of weights\n",
      "Saving summary stats w/ threshold38.0 to /home/michael/data/gmodetector_out//Nathan_GRF/Nathan_GRF_12_2021/717_1xCWT_GRF/week_7/CWT1_I5.0_F1.9_L100LED30_120926_7_1_5_Fluorescence_summary.csv\n",
      "Producing image channel for DsRed with cap 400 in color green\n",
      "Producing image channel for Chl with cap 200 in color red\n",
      "Producing image channel for Diffraction with cap 200 in color blue\n",
      "Saving image to /home/michael/data/gmodetector_out//Nathan_GRF/Nathan_GRF_12_2021/717_1xCWT_GRF/week_7/CWT1_I5.0_F1.9_L100LED30_120926_7_1_5_Fluorescence.png\n",
      "Saving image metadata to /home/michael/data/gmodetector_out//Nathan_GRF/Nathan_GRF_12_2021/717_1xCWT_GRF/week_7/CWT1_I5.0_F1.9_L100LED30_120926_7_1_5_Fluorescence.csv\n",
      "\n",
      "Finished running sample /media/michael/Elements_13//Nathan_GRF/Nathan_GRF_12_2021/717_1xCWT_GRF/week_7//CWT1_I5.0_F1.9_L100LED30_120926_7_1_5_Fluorescence.hdr in 18.418429026845843s\n",
      "\n",
      "Running GMOdetector version 0.0.875\n",
      "load mode isload_full_then_crop\n",
      "Saving to /home/michael/data/gmodetector_out//Nathan_GRF/Nathan_GRF_12_2021/717_1xCWT_GRF/week_7/CWT1_I5.0_F1.9_L100LED30_121016_8_1_4_Fluorescence_weights.hdf with key of weights\n",
      "Saving summary stats w/ threshold38.0 to /home/michael/data/gmodetector_out//Nathan_GRF/Nathan_GRF_12_2021/717_1xCWT_GRF/week_7/CWT1_I5.0_F1.9_L100LED30_121016_8_1_4_Fluorescence_summary.csv\n",
      "Producing image channel for DsRed with cap 400 in color green\n",
      "Producing image channel for Chl with cap 200 in color red\n",
      "Producing image channel for Diffraction with cap 200 in color blue\n",
      "Saving image to /home/michael/data/gmodetector_out//Nathan_GRF/Nathan_GRF_12_2021/717_1xCWT_GRF/week_7/CWT1_I5.0_F1.9_L100LED30_121016_8_1_4_Fluorescence.png\n",
      "Saving image metadata to /home/michael/data/gmodetector_out//Nathan_GRF/Nathan_GRF_12_2021/717_1xCWT_GRF/week_7/CWT1_I5.0_F1.9_L100LED30_121016_8_1_4_Fluorescence.csv\n",
      "\n",
      "Finished running sample /media/michael/Elements_13//Nathan_GRF/Nathan_GRF_12_2021/717_1xCWT_GRF/week_7//CWT1_I5.0_F1.9_L100LED30_121016_8_1_4_Fluorescence.hdr in 18.13891479698941s\n",
      "\n",
      "Running GMOdetector version 0.0.875\n",
      "load mode isload_full_then_crop\n",
      "Saving to /home/michael/data/gmodetector_out//Nathan_GRF/Nathan_GRF_12_2021/717_1xCWT_GRF/week_7/CWT1_I5.0_F1.9_L100LED30_121112_9_1_3_Fluorescence_weights.hdf with key of weights\n",
      "Saving summary stats w/ threshold38.0 to /home/michael/data/gmodetector_out//Nathan_GRF/Nathan_GRF_12_2021/717_1xCWT_GRF/week_7/CWT1_I5.0_F1.9_L100LED30_121112_9_1_3_Fluorescence_summary.csv\n",
      "Producing image channel for DsRed with cap 400 in color green\n",
      "Producing image channel for Chl with cap 200 in color red\n",
      "Producing image channel for Diffraction with cap 200 in color blue\n",
      "Saving image to /home/michael/data/gmodetector_out//Nathan_GRF/Nathan_GRF_12_2021/717_1xCWT_GRF/week_7/CWT1_I5.0_F1.9_L100LED30_121112_9_1_3_Fluorescence.png\n",
      "Saving image metadata to /home/michael/data/gmodetector_out//Nathan_GRF/Nathan_GRF_12_2021/717_1xCWT_GRF/week_7/CWT1_I5.0_F1.9_L100LED30_121112_9_1_3_Fluorescence.csv\n",
      "\n",
      "Finished running sample /media/michael/Elements_13//Nathan_GRF/Nathan_GRF_12_2021/717_1xCWT_GRF/week_7//CWT1_I5.0_F1.9_L100LED30_121112_9_1_3_Fluorescence.hdr in 18.95430761296302s\n",
      "\n",
      "Running GMOdetector version 0.0.875\n",
      "load mode isload_full_then_crop\n",
      "Saving to /home/michael/data/gmodetector_out//Nathan_GRF/Nathan_GRF_12_2021/717_1xCWT_GRF/week_7/CWT1_I5.0_F1.9_L100LED30_121209_10_1_2_Fluorescence_weights.hdf with key of weights\n",
      "Saving summary stats w/ threshold38.0 to /home/michael/data/gmodetector_out//Nathan_GRF/Nathan_GRF_12_2021/717_1xCWT_GRF/week_7/CWT1_I5.0_F1.9_L100LED30_121209_10_1_2_Fluorescence_summary.csv\n",
      "Producing image channel for DsRed with cap 400 in color green\n",
      "Producing image channel for Chl with cap 200 in color red\n",
      "Producing image channel for Diffraction with cap 200 in color blue\n",
      "Saving image to /home/michael/data/gmodetector_out//Nathan_GRF/Nathan_GRF_12_2021/717_1xCWT_GRF/week_7/CWT1_I5.0_F1.9_L100LED30_121209_10_1_2_Fluorescence.png\n",
      "Saving image metadata to /home/michael/data/gmodetector_out//Nathan_GRF/Nathan_GRF_12_2021/717_1xCWT_GRF/week_7/CWT1_I5.0_F1.9_L100LED30_121209_10_1_2_Fluorescence.csv\n",
      "\n",
      "Finished running sample /media/michael/Elements_13//Nathan_GRF/Nathan_GRF_12_2021/717_1xCWT_GRF/week_7//CWT1_I5.0_F1.9_L100LED30_121209_10_1_2_Fluorescence.hdr in 17.993121734354645s\n",
      "\n",
      "Running GMOdetector version 0.0.875\n",
      "load mode isload_full_then_crop\n",
      "Saving to /home/michael/data/gmodetector_out//Nathan_GRF/Nathan_GRF_12_2021/717_1xCWT_GRF/week_7/CWT1_I5.0_F1.9_L100LED30_121305_11_1_1_Fluorescence_weights.hdf with key of weights\n",
      "Saving summary stats w/ threshold38.0 to /home/michael/data/gmodetector_out//Nathan_GRF/Nathan_GRF_12_2021/717_1xCWT_GRF/week_7/CWT1_I5.0_F1.9_L100LED30_121305_11_1_1_Fluorescence_summary.csv\n",
      "Producing image channel for DsRed with cap 400 in color green\n",
      "Producing image channel for Chl with cap 200 in color red\n",
      "Producing image channel for Diffraction with cap 200 in color blue\n",
      "Saving image to /home/michael/data/gmodetector_out//Nathan_GRF/Nathan_GRF_12_2021/717_1xCWT_GRF/week_7/CWT1_I5.0_F1.9_L100LED30_121305_11_1_1_Fluorescence.png\n",
      "Saving image metadata to /home/michael/data/gmodetector_out//Nathan_GRF/Nathan_GRF_12_2021/717_1xCWT_GRF/week_7/CWT1_I5.0_F1.9_L100LED30_121305_11_1_1_Fluorescence.csv\n",
      "\n",
      "Finished running sample /media/michael/Elements_13//Nathan_GRF/Nathan_GRF_12_2021/717_1xCWT_GRF/week_7//CWT1_I5.0_F1.9_L100LED30_121305_11_1_1_Fluorescence.hdr in 18.54097940167412s\n",
      "\n",
      "Running GMOdetector version 0.0.875\n",
      "load mode isload_full_then_crop\n",
      "Saving to /home/michael/data/gmodetector_out//Nathan_GRF/Nathan_GRF_12_2021/717_1xCWT_GRF/week_7/CWT1_I5.0_F1.9_L100LED30_121402_12_1_0_Fluorescence_weights.hdf with key of weights\n",
      "Saving summary stats w/ threshold38.0 to /home/michael/data/gmodetector_out//Nathan_GRF/Nathan_GRF_12_2021/717_1xCWT_GRF/week_7/CWT1_I5.0_F1.9_L100LED30_121402_12_1_0_Fluorescence_summary.csv\n",
      "Producing image channel for DsRed with cap 400 in color green\n",
      "Producing image channel for Chl with cap 200 in color red\n",
      "Producing image channel for Diffraction with cap 200 in color blue\n",
      "Saving image to /home/michael/data/gmodetector_out//Nathan_GRF/Nathan_GRF_12_2021/717_1xCWT_GRF/week_7/CWT1_I5.0_F1.9_L100LED30_121402_12_1_0_Fluorescence.png\n",
      "Saving image metadata to /home/michael/data/gmodetector_out//Nathan_GRF/Nathan_GRF_12_2021/717_1xCWT_GRF/week_7/CWT1_I5.0_F1.9_L100LED30_121402_12_1_0_Fluorescence.csv\n",
      "\n",
      "Finished running sample /media/michael/Elements_13//Nathan_GRF/Nathan_GRF_12_2021/717_1xCWT_GRF/week_7//CWT1_I5.0_F1.9_L100LED30_121402_12_1_0_Fluorescence.hdr in 18.74216707609594s\n",
      "\n",
      "(test-environment) (test-environment) "
     ]
    }
   ],
   "source": [
    "conda activate test-environment\n",
    "\n",
    "if [ $parallel -eq 1 ]\n",
    "then\n",
    "    parallel -a $job_list_name\n",
    "fi\n",
    "\n",
    "if [ $parallel -eq 0 ]\n",
    "then\n",
    "    bash $job_list_name\n",
    "fi\n",
    "\n",
    "conda deactivate\n",
    "conda deactivate"
   ]
  },
  {
   "cell_type": "markdown",
   "metadata": {},
   "source": [
    "Time regression completes:"
   ]
  },
  {
   "cell_type": "code",
   "execution_count": 33,
   "metadata": {},
   "outputs": [
    {
     "name": "stdout",
     "output_type": "stream",
     "text": [
      "Wed 26 Jan 2022 03:32:47 PM PST\n"
     ]
    }
   ],
   "source": [
    "echo $(date)"
   ]
  },
  {
   "cell_type": "markdown",
   "metadata": {},
   "source": [
    "## Classification of contaminated/missing explants"
   ]
  },
  {
   "cell_type": "markdown",
   "metadata": {},
   "source": [
    "Plates are cropped into sub-images for each explant and each is analyzed to determine if the explant position should be excluded from analysis due to being missing or contamination. Missing and contaminated explants are recognized using a trained Densenet model (<a href=\"https://github.com/Contamination-Classification/DenseNet\" target=\"_blank\">Huang, et al. 2018</a>). Our fork of the Densenet repository is available on <a href=\"https://arxiv.org/abs/1608.06993\" target=\"_blank\">GitHub</a>."
   ]
  },
  {
   "cell_type": "markdown",
   "metadata": {},
   "source": [
    "<img src=\"Figures/Densenet.png\">\n",
    "Figure: These are four examples of contaminated explants used in the training set for this pre-trained model"
   ]
  },
  {
   "cell_type": "markdown",
   "metadata": {},
   "source": [
    "To check the grid cropping dimensions, we can run the following script. Note that these are the dimensions to crop the image to after resizing to 2000x2000 (from 4000x4000 in the case of the *macroPhor Array)."
   ]
  },
  {
   "cell_type": "markdown",
   "metadata": {},
   "source": [
    "#### Prepare list of images"
   ]
  },
  {
   "cell_type": "code",
   "execution_count": 34,
   "metadata": {},
   "outputs": [
    {
     "name": "stdout",
     "output_type": "stream",
     "text": [
      "Missing explants will be inferred.\n"
     ]
    }
   ],
   "source": [
    "if [ $missing_explants = \"Automatic\" ]; then\n",
    "    echo \"Missing explants will be inferred.\"\n",
    "    cd $data\n",
    "    ls -d $PWD/* $data | grep -i \"rgb.jpg\" > rgb_list.txt\n",
    "    sed -i '/hroma/d' rgb_list.txt\n",
    "    img_list_path=\"${data}/rgb_list.txt\"\n",
    "else\n",
    "    echo \"Missing explants input manually by user, in randomization datasheet\"\n",
    "    echo $missing_explants\n",
    "fi"
   ]
  },
  {
   "cell_type": "markdown",
   "metadata": {},
   "source": [
    "If the mode for missing explant data is automatic, prepare input file for script to detect missing explants and run this script."
   ]
  },
  {
   "cell_type": "markdown",
   "metadata": {},
   "source": [
    "#### Check dimensions for grid cropping"
   ]
  },
  {
   "cell_type": "markdown",
   "metadata": {},
   "source": [
    "The models to detect contamination and missing explants require a user input to define the pixel boundaries of the grid along which explants are placed. Note that currently, only the 12-explant grid is supported. To use other grids, contamination and missing explant data must be provided manually in a file formatted just like an output from this script."
   ]
  },
  {
   "cell_type": "markdown",
   "metadata": {},
   "source": [
    "When running `inference.py` to detect missing or contaminated explants, the user should provide dimensions for cropping down to the grid borders. Note, these dimensions apply after the image is rescaled to 2000x2000.\n",
    "- Default dimensions, used before the imager began to take \"off-center\" images, are (310, 515, 1750, 1610).\n",
    "- Dimensions for cropping for the off-center images are (260, 600, 1700, 1710). \n",
    "- New dimensions (275, 438, 1725, 1535) are for images taken after camera settings were re-centered.<br>\n",
    "\n",
    "We can test dimensions using the `--debug` option for `inference.py` as in the below code block. Next, we will run the same script in the regular mode to detect missing and contaminated explants using settled-upon cropping dimensions."
   ]
  },
  {
   "cell_type": "markdown",
   "metadata": {},
   "source": [
    "Uncomment and run this code block only if you wish to troubleshoot cropping."
   ]
  },
  {
   "cell_type": "code",
   "execution_count": 35,
   "metadata": {},
   "outputs": [],
   "source": [
    "# if [ $missing_explants = \"Automatic\" ]; then\n",
    "#     cd $contamination_path\n",
    "#     conda activate densenet\n",
    "#     python inference.py --img-list=$img_list_path --crop_dims \"(275,438,1725,1535)\" --debug\n",
    "#     conda deactivate\n",
    "# else\n",
    "#     echo \"Missing explants input manually by user, in file: \"\n",
    "#     echo $missing_explants\n",
    "# fi"
   ]
  },
  {
   "cell_type": "markdown",
   "metadata": {},
   "source": [
    "The outputs will be saved in this folder and can be evaluated to check how well the cropping worked."
   ]
  },
  {
   "cell_type": "code",
   "execution_count": 36,
   "metadata": {},
   "outputs": [],
   "source": [
    "# echo $contamination_path"
   ]
  },
  {
   "cell_type": "markdown",
   "metadata": {},
   "source": [
    "#### Infer contaminated/missing explants"
   ]
  },
  {
   "cell_type": "markdown",
   "metadata": {},
   "source": [
    "Dependencies include `keras-preprocessing`, `termcolor`,  `protobuf` and `absl-py`"
   ]
  },
  {
   "cell_type": "code",
   "execution_count": 37,
   "metadata": {},
   "outputs": [
    {
     "name": "stdout",
     "output_type": "stream",
     "text": [
      "Wed 26 Jan 2022 03:32:48 PM PST\n"
     ]
    }
   ],
   "source": [
    "date"
   ]
  },
  {
   "cell_type": "code",
   "execution_count": 38,
   "metadata": {
    "slideshow": {
     "slide_type": "slide"
    }
   },
   "outputs": [
    {
     "name": "stdout",
     "output_type": "stream",
     "text": [
      "Using TensorFlow backend.\n",
      "WARNING:tensorflow:From /home/michael/anaconda3/envs/DenseNet/lib/python3.6/site-packages/tensorflow/python/ops/resource_variable_ops.py:435: colocate_with (from tensorflow.python.framework.ops) is deprecated and will be removed in a future version.\n",
      "Instructions for updating:\n",
      "Colocations handled automatically by placer.\n",
      "2022-01-26 15:32:52.478060: I tensorflow/core/platform/cpu_feature_guard.cc:141] Your CPU supports instructions that this TensorFlow binary was not compiled to use: SSE4.1 SSE4.2 AVX AVX2 FMA\n",
      "2022-01-26 15:32:52.511473: I tensorflow/core/platform/profile_utils/cpu_utils.cc:94] CPU Frequency: 3391990000 Hz\n",
      "2022-01-26 15:32:52.512467: I tensorflow/compiler/xla/service/service.cc:150] XLA service 0x55a07063ae60 executing computations on platform Host. Devices:\n",
      "2022-01-26 15:32:52.512495: I tensorflow/compiler/xla/service/service.cc:158]   StreamExecutor device (0): <undefined>, <undefined>\n"
     ]
    }
   ],
   "source": [
    "if [ $missing_explants = \"Automatic\" ]; then\n",
    "    cd $contamination_path\n",
    "    conda activate DenseNet\n",
    "    python -W ignore inference.py \\\n",
    "    --img-list=$img_list_path \\\n",
    "    --crop_dims $pre_aligned_resized_grid_borders \\\n",
    "    --output_file=output.csv >> $data/log_contam.txt\n",
    "    mv -f output.csv \"${data}/output.csv\"\n",
    "    conda deactivate\n",
    "fi"
   ]
  },
  {
   "cell_type": "code",
   "execution_count": 39,
   "metadata": {},
   "outputs": [
    {
     "name": "stdout",
     "output_type": "stream",
     "text": [
      "Missing explants inferred by model and written to file:\n",
      "/media/michael/Elements_13//Nathan_GRF/Nathan_GRF_12_2021/717_1xCWT_GRF/week_7//output.csv\n"
     ]
    }
   ],
   "source": [
    "if [ $missing_explants = \"Automatic\" ]; then\n",
    "    missing_explants_sheet=\"${data}/output.csv\"\n",
    "    echo \"Missing explants inferred by model and written to file:\"\n",
    "    echo $missing_explants_sheet\n",
    "else\n",
    "    missing_explant_sheet=\"Not applicable\"\n",
    "    echo \"Missing explants input manually by user, in randomization datasheet\"\n",
    "fi"
   ]
  },
  {
   "cell_type": "code",
   "execution_count": 40,
   "metadata": {},
   "outputs": [
    {
     "name": "stdout",
     "output_type": "stream",
     "text": [
      "Wed 26 Jan 2022 03:33:45 PM PST\n"
     ]
    }
   ],
   "source": [
    "date"
   ]
  },
  {
   "cell_type": "markdown",
   "metadata": {},
   "source": [
    "## Plot results"
   ]
  },
  {
   "cell_type": "code",
   "execution_count": 162,
   "metadata": {},
   "outputs": [
    {
     "name": "stdout",
     "output_type": "stream",
     "text": [
      "pwd\n",
      "/home/michael/GMOlabeler/plots/Nathan_GRF/Nathan_GRF_12_2021/717_1xCWT_GRF/week_7\n"
     ]
    },
    {
     "ename": "",
     "evalue": "1",
     "output_type": "error",
     "traceback": []
    }
   ],
   "source": [
    "pwd"
   ]
  },
  {
   "cell_type": "code",
   "execution_count": 163,
   "metadata": {},
   "outputs": [
    {
     "name": "stdout",
     "output_type": "stream",
     "text": [
      "ls\n",
      " gridplot_args.rds\n",
      " \u001b[0m\u001b[01;31mNathan_GRF-Nathan_GRF_12_2021-717_1xCWT_GRF-week_7-.zip\u001b[0m\n",
      "\u001b[01;34m'Whole Plate'\u001b[0m\n",
      " Whole_plate_stats.csv\n"
     ]
    },
    {
     "ename": "",
     "evalue": "1",
     "output_type": "error",
     "traceback": []
    }
   ],
   "source": [
    "ls"
   ]
  },
  {
   "cell_type": "code",
   "execution_count": 164,
   "metadata": {},
   "outputs": [
    {
     "name": "stdout",
     "output_type": "stream",
     "text": [
      "echo $missing_explants\n",
      "Automatic\n"
     ]
    },
    {
     "ename": "",
     "evalue": "1",
     "output_type": "error",
     "traceback": []
    }
   ],
   "source": [
    "echo $missing_explants"
   ]
  },
  {
   "cell_type": "code",
   "execution_count": 165,
   "metadata": {
    "scrolled": true
   },
   "outputs": [
    {
     "name": "stdout",
     "output_type": "stream",
     "text": [
      "conda activate gmolabeler\n",
      "(gmolabeler) cd $gmolabeler_path\n",
      "(gmolabeler) Rscript $cwd/Extras/Whole_plate_plots.R \\\n",
      "-d \"${data_folder}/\" \\\n",
      "-r \"$randomization_datasheet\" \\\n",
      "-m $missing_explants \\\n",
      "-M $missing_explants_sheet \\\n",
      "--height $height \\\n",
      "--width $width\n",
      "[1] \"Saving list of input arguments to : /home/michael/GMOlabeler/plots//Nathan_GRF/Nathan_GRF_12_2021/717_1xCWT_GRF/week_7////gridplot_args.rds\"\n",
      "[1] \"Missinge explant option:\"\n",
      "[1] \"Automatic\"\n",
      "\n",
      "[1] \"Calculating total numbers of missing explants per plate\"\n",
      "[1] \"Chl\"\n",
      "[1] 13\n",
      "[1] \"Diffraction\"\n",
      "[1] 13\n",
      "[1] \"DsRed\"\n",
      "[1] 13\n",
      "[1] \"Intercept\"\n",
      "[1] 13\n",
      "[1] \"Chl\"\n",
      "[1] \"Diffraction\"\n",
      "[1] \"DsRed\"\n",
      "[1] \"Intercept\"\n",
      "(gmolabeler) \n",
      "(gmolabeler) conda deactivate\n"
     ]
    },
    {
     "ename": "",
     "evalue": "1",
     "output_type": "error",
     "traceback": []
    }
   ],
   "source": [
    "conda activate gmolabeler\n",
    "cd $gmolabeler_path\n",
    "Rscript $cwd/Extras/Whole_plate_plots.R \\\n",
    "-d \"${data_folder}/\" \\\n",
    "-r \"$randomization_datasheet\" \\\n",
    "-m $missing_explants \\\n",
    "-M $missing_explants_sheet \\\n",
    "--height $height \\\n",
    "--width $width\n",
    "\n",
    "conda deactivate"
   ]
  },
  {
   "cell_type": "code",
   "execution_count": 166,
   "metadata": {},
   "outputs": [
    {
     "name": "stdout",
     "output_type": "stream",
     "text": [
      "echo $randomization_datasheet\n",
      "/media/michael/Elements_13//Nathan_GRF/Nathan_GRF_12_2021/717_1xCWT_GRF/1xCWT_wk3.xlsx\n"
     ]
    },
    {
     "ename": "",
     "evalue": "1",
     "output_type": "error",
     "traceback": []
    }
   ],
   "source": [
    "echo $randomization_datasheet"
   ]
  },
  {
   "cell_type": "markdown",
   "metadata": {},
   "source": [
    "## Email plots to user"
   ]
  },
  {
   "cell_type": "markdown",
   "metadata": {},
   "source": [
    "### ZIP results"
   ]
  },
  {
   "cell_type": "code",
   "execution_count": 167,
   "metadata": {},
   "outputs": [
    {
     "name": "stdout",
     "output_type": "stream",
     "text": [
      "echo \"${gmolabeler_path}/plots${data_folder}\"\n",
      "/home/michael/GMOlabeler//plots/Nathan_GRF/Nathan_GRF_12_2021/717_1xCWT_GRF/week_7/\n"
     ]
    },
    {
     "ename": "",
     "evalue": "1",
     "output_type": "error",
     "traceback": []
    }
   ],
   "source": [
    "echo \"${gmolabeler_path}/plots${data_folder}\""
   ]
  },
  {
   "cell_type": "code",
   "execution_count": 168,
   "metadata": {},
   "outputs": [
    {
     "name": "stdout",
     "output_type": "stream",
     "text": [
      "cd \"${gmolabeler_path}/plots/${data_folder}\"\n"
     ]
    },
    {
     "ename": "",
     "evalue": "1",
     "output_type": "error",
     "traceback": []
    }
   ],
   "source": [
    "cd \"${gmolabeler_path}/plots/${data_folder}\""
   ]
  },
  {
   "cell_type": "code",
   "execution_count": 169,
   "metadata": {},
   "outputs": [
    {
     "name": "stdout",
     "output_type": "stream",
     "text": [
      "rm -f ./plants_over_plates.csv\n"
     ]
    },
    {
     "ename": "",
     "evalue": "1",
     "output_type": "error",
     "traceback": []
    }
   ],
   "source": [
    "rm -f ./plants_over_plates.csv"
   ]
  },
  {
   "cell_type": "code",
   "execution_count": 170,
   "metadata": {},
   "outputs": [
    {
     "name": "stdout",
     "output_type": "stream",
     "text": [
      "echo ${gmolabeler_path}/output/${data_folder}/\n",
      "/home/michael/GMOlabeler//output//Nathan_GRF/Nathan_GRF_12_2021/717_1xCWT_GRF/week_7//\n"
     ]
    },
    {
     "ename": "",
     "evalue": "1",
     "output_type": "error",
     "traceback": []
    }
   ],
   "source": [
    "echo ${gmolabeler_path}/output/${data_folder}/"
   ]
  },
  {
   "cell_type": "code",
   "execution_count": 171,
   "metadata": {},
   "outputs": [
    {
     "name": "stdout",
     "output_type": "stream",
     "text": [
      "#cp \"${gmolabeler_path}/output/${data_folder}/plants_over_plates.csv\" ./\n"
     ]
    },
    {
     "ename": "",
     "evalue": "1",
     "output_type": "error",
     "traceback": []
    }
   ],
   "source": [
    "#cp \"${gmolabeler_path}/output/${data_folder}/plants_over_plates.csv\" ./"
   ]
  },
  {
   "cell_type": "code",
   "execution_count": 172,
   "metadata": {},
   "outputs": [
    {
     "name": "stdout",
     "output_type": "stream",
     "text": [
      "cp \"${gmolabeler_path}/plots/${data_folder}/Whole Plate/Whole_plate_stats.csv\" ./\n"
     ]
    },
    {
     "ename": "",
     "evalue": "1",
     "output_type": "error",
     "traceback": []
    }
   ],
   "source": [
    "cp \"${gmolabeler_path}/plots/${data_folder}/Whole Plate/Whole_plate_stats.csv\" ./"
   ]
  },
  {
   "cell_type": "markdown",
   "metadata": {},
   "source": [
    "We don't use the version below because we just have one set of plots for all fluorescent components"
   ]
  },
  {
   "cell_type": "code",
   "execution_count": 173,
   "metadata": {},
   "outputs": [
    {
     "name": "stdout",
     "output_type": "stream",
     "text": [
      "#for reporter in ${reporters[@]}; do\n",
      "#    cp \"${gmolabeler_path}/output/${data_folder}/${reporter}/stats_with_sums_over_tissues.csv\" ./\n",
      "#done\n"
     ]
    },
    {
     "ename": "",
     "evalue": "1",
     "output_type": "error",
     "traceback": []
    }
   ],
   "source": [
    "#for reporter in ${reporters[@]}; do\n",
    "#    cp \"${gmolabeler_path}/output/${data_folder}/${reporter}/stats_with_sums_over_tissues.csv\" ./\n",
    "#done"
   ]
  },
  {
   "cell_type": "code",
   "execution_count": 174,
   "metadata": {},
   "outputs": [
    {
     "name": "stdout",
     "output_type": "stream",
     "text": [
      "#cd $data\n"
     ]
    },
    {
     "ename": "",
     "evalue": "1",
     "output_type": "error",
     "traceback": []
    }
   ],
   "source": [
    "#cd $data"
   ]
  },
  {
   "cell_type": "code",
   "execution_count": 175,
   "metadata": {},
   "outputs": [
    {
     "name": "stdout",
     "output_type": "stream",
     "text": [
      "rm -f Rplots.pdf\n"
     ]
    },
    {
     "ename": "",
     "evalue": "1",
     "output_type": "error",
     "traceback": []
    }
   ],
   "source": [
    "rm -f Rplots.pdf"
   ]
  },
  {
   "cell_type": "code",
   "execution_count": 176,
   "metadata": {},
   "outputs": [
    {
     "name": "stdout",
     "output_type": "stream",
     "text": [
      "cd ../\n"
     ]
    },
    {
     "ename": "",
     "evalue": "1",
     "output_type": "error",
     "traceback": []
    }
   ],
   "source": [
    "cd ../"
   ]
  },
  {
   "cell_type": "markdown",
   "metadata": {},
   "source": [
    "This messy substitution is explained here: https://superuser.com/questions/1068031/replace-backslash-with-forward-slash-in-a-variable-in-bash"
   ]
  },
  {
   "cell_type": "code",
   "execution_count": 177,
   "metadata": {},
   "outputs": [
    {
     "name": "stdout",
     "output_type": "stream",
     "text": [
      "data_folder_Compress=\"${data_folder////-}.zip\"\n",
      "data_folder_Compress=${data_folder_Compress#?};\n"
     ]
    },
    {
     "ename": "",
     "evalue": "1",
     "output_type": "error",
     "traceback": []
    }
   ],
   "source": [
    "data_folder_Compress=\"${data_folder////-}.zip\"\n",
    "data_folder_Compress=${data_folder_Compress#?};"
   ]
  },
  {
   "cell_type": "code",
   "execution_count": 178,
   "metadata": {},
   "outputs": [
    {
     "name": "stdout",
     "output_type": "stream",
     "text": [
      "echo $data_folder\n",
      "/Nathan_GRF/Nathan_GRF_12_2021/717_1xCWT_GRF/week_7/\n"
     ]
    },
    {
     "ename": "",
     "evalue": "1",
     "output_type": "error",
     "traceback": []
    }
   ],
   "source": [
    "echo $data_folder"
   ]
  },
  {
   "cell_type": "code",
   "execution_count": 179,
   "metadata": {},
   "outputs": [
    {
     "name": "stdout",
     "output_type": "stream",
     "text": [
      "echo $data_folder_Compress\n",
      "Nathan_GRF-Nathan_GRF_12_2021-717_1xCWT_GRF-week_7-.zip\n"
     ]
    },
    {
     "ename": "",
     "evalue": "1",
     "output_type": "error",
     "traceback": []
    }
   ],
   "source": [
    "echo $data_folder_Compress"
   ]
  },
  {
   "cell_type": "code",
   "execution_count": 180,
   "metadata": {},
   "outputs": [
    {
     "name": "stdout",
     "output_type": "stream",
     "text": [
      "pwd\n",
      "/home/michael/GMOlabeler/plots/Nathan_GRF/Nathan_GRF_12_2021/717_1xCWT_GRF\n"
     ]
    },
    {
     "ename": "",
     "evalue": "1",
     "output_type": "error",
     "traceback": []
    }
   ],
   "source": [
    "pwd"
   ]
  },
  {
   "cell_type": "code",
   "execution_count": 181,
   "metadata": {},
   "outputs": [
    {
     "name": "stdout",
     "output_type": "stream",
     "text": [
      "echo $timepoint\n",
      "week_7\n"
     ]
    },
    {
     "ename": "",
     "evalue": "1",
     "output_type": "error",
     "traceback": []
    }
   ],
   "source": [
    "echo $timepoint"
   ]
  },
  {
   "cell_type": "code",
   "execution_count": 182,
   "metadata": {
    "tags": []
   },
   "outputs": [
    {
     "name": "stdout",
     "output_type": "stream",
     "text": [
      "ls\n",
      "\u001b[0m\u001b[01;34mweek_3\u001b[0m  \u001b[01;34mweek_7\u001b[0m\n"
     ]
    },
    {
     "ename": "",
     "evalue": "1",
     "output_type": "error",
     "traceback": []
    }
   ],
   "source": [
    "ls"
   ]
  },
  {
   "cell_type": "code",
   "execution_count": 183,
   "metadata": {
    "scrolled": true,
    "tags": []
   },
   "outputs": [
    {
     "name": "stdout",
     "output_type": "stream",
     "text": [
      "cd $timepoint\n",
      "zip -r $data_folder_Compress ./*\n",
      "updating: gridplot_args.rds (stored 0%)\n",
      "updating: Whole Plate/ (stored 0%)\n",
      "updating: Whole Plate/Signif_Pixels_Diffraction.png (deflated 29%)\n",
      "updating: Whole Plate/Signif_Pixels_Intercept.png (deflated 30%)\n",
      "updating: Whole Plate/Total_Chl.png (deflated 32%)\n",
      "updating: Whole Plate/Total_Diffraction.png (deflated 30%)\n",
      "updating: Whole Plate/Whole_plate_stats.csv (deflated 70%)\n",
      "updating: Whole Plate/Signif_Pixels_Chl.png (deflated 31%)\n",
      "updating: Whole Plate/Total_Intercept.png (deflated 29%)\n",
      "updating: Whole Plate/Total_DsRed.png (deflated 33%)\n",
      "updating: Whole Plate/Signif_Pixels_DsRed.png (deflated 31%)\n",
      "updating: Whole_plate_stats.csv (deflated 70%)\n"
     ]
    },
    {
     "ename": "",
     "evalue": "1",
     "output_type": "error",
     "traceback": []
    }
   ],
   "source": [
    "cd $timepoint\n",
    "zip -r $data_folder_Compress ./*"
   ]
  },
  {
   "cell_type": "markdown",
   "metadata": {},
   "source": [
    "### Write email"
   ]
  },
  {
   "cell_type": "code",
   "execution_count": 184,
   "metadata": {},
   "outputs": [
    {
     "name": "stdout",
     "output_type": "stream",
     "text": [
      "duration=$(( SECONDS - start ))\n"
     ]
    },
    {
     "ename": "",
     "evalue": "1",
     "output_type": "error",
     "traceback": []
    }
   ],
   "source": [
    "duration=$(( SECONDS - start ))"
   ]
  },
  {
   "cell_type": "markdown",
   "metadata": {},
   "source": [
    "https://unix.stackexchange.com/questions/53841/how-to-use-a-timer-in-bash"
   ]
  },
  {
   "cell_type": "code",
   "execution_count": 185,
   "metadata": {},
   "outputs": [
    {
     "name": "stdout",
     "output_type": "stream",
     "text": [
      "rm -f \"${gmolabeler_path}/email_to_send.txt\"\n",
      "cp \"${gmolabeler_path}/email_to_send_template.txt\" \"${gmolabeler_path}/email_to_send.txt\"\n"
     ]
    },
    {
     "ename": "",
     "evalue": "1",
     "output_type": "error",
     "traceback": []
    }
   ],
   "source": [
    "rm -f \"${gmolabeler_path}/email_to_send.txt\"\n",
    "cp \"${gmolabeler_path}/email_to_send_template.txt\" \"${gmolabeler_path}/email_to_send.txt\""
   ]
  },
  {
   "cell_type": "code",
   "execution_count": 186,
   "metadata": {},
   "outputs": [
    {
     "name": "stdout",
     "output_type": "stream",
     "text": [
      "echo \"\" >> \"${gmolabeler_path}/email_to_send.txt\"\n",
      "echo \"Number of samples run: \" >> \"${gmolabeler_path}/email_to_send.txt\"\n"
     ]
    },
    {
     "ename": "",
     "evalue": "1",
     "output_type": "error",
     "traceback": []
    }
   ],
   "source": [
    "echo \"\" >> \"${gmolabeler_path}/email_to_send.txt\"\n",
    "echo \"Number of samples run: \" >> \"${gmolabeler_path}/email_to_send.txt\""
   ]
  },
  {
   "cell_type": "code",
   "execution_count": 187,
   "metadata": {},
   "outputs": [
    {
     "name": "stdout",
     "output_type": "stream",
     "text": [
      "cat \"${data}/test.csv\" | wc -l >> \"${gmolabeler_path}/email_to_send.txt\"\n",
      "echo \"\" >> \"${gmolabeler_path}/email_to_send.txt\"\n"
     ]
    },
    {
     "ename": "",
     "evalue": "1",
     "output_type": "error",
     "traceback": []
    }
   ],
   "source": [
    "cat \"${data}/test.csv\" | wc -l >> \"${gmolabeler_path}/email_to_send.txt\"\n",
    "echo \"\" >> \"${gmolabeler_path}/email_to_send.txt\""
   ]
  },
  {
   "cell_type": "code",
   "execution_count": 188,
   "metadata": {},
   "outputs": [
    {
     "name": "stdout",
     "output_type": "stream",
     "text": [
      "if (( $SECONDS > 3600 )) ; then\n",
      "    let \"hours=SECONDS/3600\"\n",
      "    let \"minutes=(SECONDS%3600)/60\"\n",
      "    let \"seconds=(SECONDS%3600)%60\"\n",
      "    echo \"Completed in $hours hour(s), $minutes minute(s) and $seconds second(s)\" >> \"${gmolabeler_path}/email_to_send.txt\"\n",
      "elif (( $SECONDS > 60 )) ; then\n",
      "    let \"minutes=(SECONDS%3600)/60\"\n",
      "    let \"seconds=(SECONDS%3600)%60\"\n",
      "    echo \"Completed in $minutes minute(s) and $seconds second(s)\" >> \"${gmolabeler_path}/email_to_send.txt\"\n",
      "else\n",
      "    echo \"Completed in $SECONDS seconds\" >> \"${gmolabeler_path}/email_to_send.txt\"\n",
      "fi\n"
     ]
    },
    {
     "ename": "",
     "evalue": "1",
     "output_type": "error",
     "traceback": []
    }
   ],
   "source": [
    "if (( $SECONDS > 3600 )) ; then\n",
    "    let \"hours=SECONDS/3600\"\n",
    "    let \"minutes=(SECONDS%3600)/60\"\n",
    "    let \"seconds=(SECONDS%3600)%60\"\n",
    "    echo \"Completed in $hours hour(s), $minutes minute(s) and $seconds second(s)\" >> \"${gmolabeler_path}/email_to_send.txt\"\n",
    "elif (( $SECONDS > 60 )) ; then\n",
    "    let \"minutes=(SECONDS%3600)/60\"\n",
    "    let \"seconds=(SECONDS%3600)%60\"\n",
    "    echo \"Completed in $minutes minute(s) and $seconds second(s)\" >> \"${gmolabeler_path}/email_to_send.txt\"\n",
    "else\n",
    "    echo \"Completed in $SECONDS seconds\" >> \"${gmolabeler_path}/email_to_send.txt\"\n",
    "fi"
   ]
  },
  {
   "cell_type": "code",
   "execution_count": 189,
   "metadata": {},
   "outputs": [
    {
     "name": "stdout",
     "output_type": "stream",
     "text": [
      "echo \"\" >> \"${gmolabeler_path}/email_to_send.txt\"\n"
     ]
    },
    {
     "ename": "",
     "evalue": "1",
     "output_type": "error",
     "traceback": []
    }
   ],
   "source": [
    "echo \"\" >> \"${gmolabeler_path}/email_to_send.txt\""
   ]
  },
  {
   "cell_type": "markdown",
   "metadata": {},
   "source": [
    "### Send email with results to user"
   ]
  },
  {
   "cell_type": "code",
   "execution_count": 190,
   "metadata": {},
   "outputs": [
    {
     "name": "stdout",
     "output_type": "stream",
     "text": [
      "pwd\n",
      "/home/michael/GMOlabeler/plots/Nathan_GRF/Nathan_GRF_12_2021/717_1xCWT_GRF/week_7\n"
     ]
    },
    {
     "ename": "",
     "evalue": "1",
     "output_type": "error",
     "traceback": []
    }
   ],
   "source": [
    "pwd"
   ]
  },
  {
   "cell_type": "code",
   "execution_count": 191,
   "metadata": {},
   "outputs": [
    {
     "name": "stdout",
     "output_type": "stream",
     "text": [
      "echo $data_folder_Compress\n",
      "Nathan_GRF-Nathan_GRF_12_2021-717_1xCWT_GRF-week_7-.zip\n"
     ]
    },
    {
     "ename": "",
     "evalue": "1",
     "output_type": "error",
     "traceback": []
    }
   ],
   "source": [
    "echo $data_folder_Compress"
   ]
  },
  {
   "cell_type": "code",
   "execution_count": 192,
   "metadata": {},
   "outputs": [
    {
     "name": "stdout",
     "output_type": "stream",
     "text": [
      "echo $data_folder\n",
      "/Nathan_GRF/Nathan_GRF_12_2021/717_1xCWT_GRF/week_7/\n"
     ]
    },
    {
     "ename": "",
     "evalue": "1",
     "output_type": "error",
     "traceback": []
    }
   ],
   "source": [
    "echo $data_folder"
   ]
  },
  {
   "cell_type": "code",
   "execution_count": 193,
   "metadata": {},
   "outputs": [
    {
     "name": "stdout",
     "output_type": "stream",
     "text": [
      "echo $email\n",
      "michael.nagle@oregonstate.edu\n"
     ]
    },
    {
     "ename": "",
     "evalue": "1",
     "output_type": "error",
     "traceback": []
    }
   ],
   "source": [
    "echo $email"
   ]
  },
  {
   "cell_type": "code",
   "execution_count": 194,
   "metadata": {},
   "outputs": [
    {
     "name": "stdout",
     "output_type": "stream",
     "text": [
      "echo \"${gmolabeler_path}/email_to_send.txt\"\n",
      "/home/michael/GMOlabeler//email_to_send.txt\n"
     ]
    },
    {
     "ename": "",
     "evalue": "1",
     "output_type": "error",
     "traceback": []
    }
   ],
   "source": [
    "echo \"${gmolabeler_path}/email_to_send.txt\""
   ]
  },
  {
   "cell_type": "code",
   "execution_count": 195,
   "metadata": {},
   "outputs": [
    {
     "name": "stdout",
     "output_type": "stream",
     "text": [
      "pwd\n",
      "/home/michael/GMOlabeler/plots/Nathan_GRF/Nathan_GRF_12_2021/717_1xCWT_GRF/week_7\n"
     ]
    },
    {
     "ename": "",
     "evalue": "1",
     "output_type": "error",
     "traceback": []
    }
   ],
   "source": [
    "pwd"
   ]
  },
  {
   "cell_type": "code",
   "execution_count": 196,
   "metadata": {},
   "outputs": [
    {
     "name": "stdout",
     "output_type": "stream",
     "text": [
      "cat \"${gmolabeler_path}/email_to_send.txt\"\n",
      "\n",
      "Your job is complete!\n",
      "\n",
      "Number of samples run: \n",
      "13\n",
      "\n",
      "Completed in 26 minute(s) and 18 second(s)\n",
      "\n"
     ]
    },
    {
     "ename": "",
     "evalue": "1",
     "output_type": "error",
     "traceback": []
    }
   ],
   "source": [
    "cat \"${gmolabeler_path}/email_to_send.txt\""
   ]
  },
  {
   "cell_type": "code",
   "execution_count": 197,
   "metadata": {},
   "outputs": [
    {
     "name": "stdout",
     "output_type": "stream",
     "text": [
      "echo $data_folder_Compress\n",
      "Nathan_GRF-Nathan_GRF_12_2021-717_1xCWT_GRF-week_7-.zip\n"
     ]
    },
    {
     "ename": "",
     "evalue": "1",
     "output_type": "error",
     "traceback": []
    }
   ],
   "source": [
    "echo $data_folder_Compress"
   ]
  },
  {
   "cell_type": "code",
   "execution_count": 198,
   "metadata": {},
   "outputs": [
    {
     "name": "stdout",
     "output_type": "stream",
     "text": [
      "du -sh $data_folder_Compress\n",
      "396K\tNathan_GRF-Nathan_GRF_12_2021-717_1xCWT_GRF-week_7-.zip\n"
     ]
    },
    {
     "ename": "",
     "evalue": "1",
     "output_type": "error",
     "traceback": []
    }
   ],
   "source": [
    "du -sh $data_folder_Compress"
   ]
  },
  {
   "cell_type": "code",
   "execution_count": 199,
   "metadata": {},
   "outputs": [
    {
     "name": "stdout",
     "output_type": "stream",
     "text": [
      "cat \"${gmolabeler_path}/email_to_send.txt\"\n",
      "\n",
      "Your job is complete!\n",
      "\n",
      "Number of samples run: \n",
      "13\n",
      "\n",
      "Completed in 26 minute(s) and 18 second(s)\n",
      "\n"
     ]
    },
    {
     "ename": "",
     "evalue": "1",
     "output_type": "error",
     "traceback": []
    }
   ],
   "source": [
    "cat \"${gmolabeler_path}/email_to_send.txt\""
   ]
  },
  {
   "cell_type": "markdown",
   "metadata": {},
   "source": [
    "Time workflow ends:"
   ]
  },
  {
   "cell_type": "code",
   "execution_count": 200,
   "metadata": {},
   "outputs": [
    {
     "name": "stdout",
     "output_type": "stream",
     "text": [
      "echo $(date)\n",
      "Wed 26 Jan 2022 03:54:39 PM PST\n"
     ]
    },
    {
     "ename": "",
     "evalue": "1",
     "output_type": "error",
     "traceback": []
    }
   ],
   "source": [
    "echo $(date)"
   ]
  },
  {
   "cell_type": "code",
   "execution_count": 201,
   "metadata": {},
   "outputs": [
    {
     "name": "stdout",
     "output_type": "stream",
     "text": [
      "s-nail -a $data_folder_Compress -s $data_folder $email < \"${gmolabeler_path}/email_to_send.txt\"\n",
      "\u001b[?1h\u001b="
     ]
    },
    {
     "ename": "",
     "evalue": "1",
     "output_type": "error",
     "traceback": []
    }
   ],
   "source": [
    "s-nail -a $data_folder_Compress -s $data_folder $email < \"${gmolabeler_path}/email_to_send.txt\""
   ]
  },
  {
   "cell_type": "code",
   "execution_count": null,
   "metadata": {},
   "outputs": [],
   "source": [
    "\n",
    "\n",
    "\n",
    "\n",
    "\n",
    "\n",
    "\n",
    "\n",
    "\n",
    "\n",
    "\n",
    "\n",
    "\n",
    "\n",
    "\n",
    "\n",
    "\n",
    "\n",
    "\n",
    "\n"
   ]
  },
  {
   "cell_type": "code",
   "execution_count": null,
   "metadata": {},
   "outputs": [],
   "source": []
  },
  {
   "cell_type": "code",
   "execution_count": null,
   "metadata": {},
   "outputs": [],
   "source": []
  },
  {
   "cell_type": "code",
   "execution_count": null,
   "metadata": {},
   "outputs": [],
   "source": []
  },
  {
   "cell_type": "code",
   "execution_count": null,
   "metadata": {},
   "outputs": [],
   "source": []
  },
  {
   "cell_type": "code",
   "execution_count": null,
   "metadata": {},
   "outputs": [],
   "source": []
  },
  {
   "cell_type": "code",
   "execution_count": null,
   "metadata": {},
   "outputs": [],
   "source": []
  },
  {
   "cell_type": "code",
   "execution_count": null,
   "metadata": {},
   "outputs": [],
   "source": []
  },
  {
   "cell_type": "code",
   "execution_count": null,
   "metadata": {},
   "outputs": [],
   "source": []
  },
  {
   "cell_type": "code",
   "execution_count": null,
   "metadata": {},
   "outputs": [],
   "source": []
  },
  {
   "cell_type": "code",
   "execution_count": null,
   "metadata": {},
   "outputs": [],
   "source": []
  },
  {
   "cell_type": "code",
   "execution_count": null,
   "metadata": {},
   "outputs": [],
   "source": []
  },
  {
   "cell_type": "code",
   "execution_count": null,
   "metadata": {},
   "outputs": [],
   "source": []
  },
  {
   "cell_type": "code",
   "execution_count": null,
   "metadata": {},
   "outputs": [],
   "source": []
  },
  {
   "cell_type": "code",
   "execution_count": null,
   "metadata": {},
   "outputs": [],
   "source": []
  },
  {
   "cell_type": "code",
   "execution_count": null,
   "metadata": {},
   "outputs": [],
   "source": []
  },
  {
   "cell_type": "code",
   "execution_count": null,
   "metadata": {},
   "outputs": [],
   "source": []
  }
 ],
 "metadata": {
  "kernelspec": {
   "display_name": "Bash",
   "language": "bash",
   "name": "bash"
  },
  "language_info": {
   "codemirror_mode": "shell",
   "file_extension": ".sh",
   "mimetype": "text/x-sh",
   "name": "bash"
  },
  "toc-autonumbering": true,
  "toc-showtags": false
 },
 "nbformat": 4,
 "nbformat_minor": 4
}
