{
 "cells": [
  {
   "cell_type": "markdown",
   "id": "879f2149-a6d1-488d-bf63-beca02a523ad",
   "metadata": {},
   "source": [
    "***Bold and italic text***"
   ]
  },
  {
   "cell_type": "markdown",
   "id": "29d87c91-50bd-4eef-971e-23af4ce829b6",
   "metadata": {},
   "source": [
    "# Start big section"
   ]
  },
  {
   "cell_type": "markdown",
   "id": "8daf6560-ec07-4bae-9227-9115170c5828",
   "metadata": {},
   "source": [
    "We are going to print test"
   ]
  },
  {
   "cell_type": "code",
   "execution_count": 1,
   "id": "985676f0-6a3c-48dc-b35e-826a4e46eb22",
   "metadata": {},
   "outputs": [
    {
     "name": "stdout",
     "output_type": "stream",
     "text": [
      "test\n"
     ]
    }
   ],
   "source": [
    "print(\"test\")"
   ]
  },
  {
   "cell_type": "markdown",
   "id": "f21bdc82-58ab-45ee-aceb-f5f98661d1cb",
   "metadata": {},
   "source": [
    "## Start section 1A"
   ]
  },
  {
   "cell_type": "code",
   "execution_count": null,
   "id": "ba4d18bf-c733-414f-b564-740ef413aef6",
   "metadata": {},
   "outputs": [],
   "source": []
  },
  {
   "cell_type": "markdown",
   "id": "bd4db844-2b3e-40ef-93c3-4f7f0282b574",
   "metadata": {},
   "source": [
    "## Start section 1B "
   ]
  },
  {
   "cell_type": "code",
   "execution_count": null,
   "id": "99b9f133-2f2b-4449-adbf-ebcf8c1f9741",
   "metadata": {},
   "outputs": [],
   "source": []
  }
 ],
 "metadata": {
  "kernelspec": {
   "display_name": "Python 3 (ipykernel)",
   "language": "python",
   "name": "python3"
  },
  "language_info": {
   "codemirror_mode": {
    "name": "ipython",
    "version": 3
   },
   "file_extension": ".py",
   "mimetype": "text/x-python",
   "name": "python",
   "nbconvert_exporter": "python",
   "pygments_lexer": "ipython3",
   "version": "3.8.8"
  }
 },
 "nbformat": 4,
 "nbformat_minor": 5
}
