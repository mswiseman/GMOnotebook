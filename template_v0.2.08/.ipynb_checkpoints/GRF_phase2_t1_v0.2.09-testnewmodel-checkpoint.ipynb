{
 "cells": [
  {
   "cell_type": "markdown",
   "metadata": {},
   "source": [
    "# *GMOnotebook*: Template to analyze a new batch of images\n",
    "**Notebook template for applying routine hyperspectral/segmentation cross-analysis phenomics workflow over new datasets**"
   ]
  },
  {
   "cell_type": "markdown",
   "metadata": {},
   "source": [
    "- v0.2.0 onward applies the Python `GMOdetector` package instead of the deprecated R `GMOdetectoR` package, for much faster runtime\n",
    "- v0.2.01 has calls to `conda` cleaned up with `conda activate` and `conda deactivate` in the same code blocks to avoid any problems with warnings/errors preventing automatic execution of subsequent blocks\n",
    "- v0.2.02 is cleaned up using path variables (declared in notebook) instead of hardcoded paths, for portability\n",
    "- v0.2.03 is more clean to avoid running alignment-processed images through `inference.py` if an analysis if being repeated... also has better instructions\n",
    "- v.0.2.05 is updated to work with FAA wk7. Specifically, there are updates to deal with increased image resolution (y~=2000), off-center images, and rotated images, including metadata normalization and user inputs for parameterized grid cropping.\n",
    "- v.0.2.07 is updated to deal with the fact that the user may wish to either use an existing homography matrix or produce a new one for alignment... and also to allow the user to easily adjust grid borders, both for contamination model and GMOlabeler modules."
   ]
  },
  {
   "cell_type": "markdown",
   "metadata": {},
   "source": [
    "<img src=\"Figures/WorkflowFlowchart.png\">"
   ]
  },
  {
   "cell_type": "markdown",
   "metadata": {},
   "source": [
    "In this workflow, images taken with the macroPhor Array dual RGB/hyperspectral imaging platform are analyzed by a workflow in which regression quantifies fluorescent signals in hyperspectral images, deep learning segments RGB images into different tissues, and these datasets are cross-referenced to produce statistics on growth of transgenic callus and shoot."
   ]
  },
  {
   "cell_type": "markdown",
   "metadata": {},
   "source": [
    "## Instructions for use\n",
    "1.  Enter information for the experiment below\n",
    "2. Set <font color=blue>variables</font> for data paths and parameters, as instructed by colored boxes.\n",
    "3. \"Save as\" with filename describing experiment and anything special about this analysis (e.g. T18_OD_TAO_wk7_automation_test_attempt2.ipynb)\n",
    "4. Run notebook from console, by either one of two methods:\n",
    "- In the top bar of JupyterLab, select \"Run\" and \"Run all cells\"\n",
    "- In a terminal, enter the below command with the notebook filename inserted<br>\n",
    "```jupyter nbconvert --to HTML --ExecutePreprocessor.timeout=-1 --allow-errors --execute insert_filename_here```\n",
    "5. Wait for email"
   ]
  },
  {
   "cell_type": "markdown",
   "metadata": {},
   "source": [
    "## Experiment ID and quick description:"
   ]
  },
  {
   "cell_type": "markdown",
   "metadata": {},
   "source": [
    "<div class=\"alert alert-block alert-success\">\n",
    "Provide a short description of the experiment in the below box. This should include unique identifier codes for the experiment, along with a short description of genotypes and treatments studied. The timepoint should also be included. </div>"
   ]
  },
  {
   "cell_type": "raw",
   "metadata": {},
   "source": [
    "GRF experiments, first timepoint: Obtain details from Nathan"
   ]
  },
  {
   "cell_type": "markdown",
   "metadata": {
    "heading_collapsed": "true"
   },
   "source": [
    "## Parameters for analysis:"
   ]
  },
  {
   "cell_type": "markdown",
   "metadata": {},
   "source": [
    "<div class=\"alert alert-block alert-success\">\n",
    "The below variables must be modified appropriately every time this workflow is run over new images.\n",
    "</div>"
   ]
  },
  {
   "cell_type": "markdown",
   "metadata": {},
   "source": [
    "### Data location\n",
    "The `data` variable below provides the **complete** path to the folder containing data to be analyzed. This should include all folders and subfolders in which the data of interest is organized by. For the organizational system used for our lab's data, this should follow the format \"/Experiment/Subexperiment/Timepoint/\""
   ]
  },
  {
   "cell_type": "code",
   "execution_count": 1,
   "metadata": {},
   "outputs": [],
   "source": [
    "data_prefix=\"/run/media/labgroup/Elements_10/\""
   ]
  },
  {
   "cell_type": "code",
   "execution_count": 2,
   "metadata": {},
   "outputs": [],
   "source": [
    "data=\"${data_prefix}/Transformation/GRF_Poplar/GRF1_Phase_2/wk3/\""
   ]
  },
  {
   "cell_type": "markdown",
   "metadata": {},
   "source": [
    "### Sample information\n",
    "Every experiment has a randomization datasheet, which was used to organize treatment and genotype information for each plate, prepare labels, and randomize plates. The path to this file is provided through the `randomization_datasheets` variable below. This workflow requires this datasheet in order to know which plates have which genotype/treatment. At a later date, we will integrate an ability to read this data directly from labels."
   ]
  },
  {
   "cell_type": "code",
   "execution_count": 3,
   "metadata": {},
   "outputs": [],
   "source": [
    "randomization_datasheet=\"${data_prefix}/Transformation/GRF_Poplar/GRF1_Phase_2/GRF_Hyperspectral_Labels_P2.xlsx\""
   ]
  },
  {
   "cell_type": "markdown",
   "metadata": {},
   "source": [
    "### Detection of missing or contaminated explants"
   ]
  },
  {
   "cell_type": "markdown",
   "metadata": {},
   "source": [
    "Set the `missing_explants` variable to `\"Automatic\"` if using model to automatically detect missing and contaminated explants. Note that this model is only supported for plates with 12 explants. Otherwise, provide an appropriately formatted `.csv` spreadsheet (see example)  of manually scored contamination / missing explant data."
   ]
  },
  {
   "cell_type": "code",
   "execution_count": 4,
   "metadata": {},
   "outputs": [],
   "source": [
    "missing_explants=\"${data}missing_explants.csv\""
   ]
  },
  {
   "cell_type": "code",
   "execution_count": 5,
   "metadata": {},
   "outputs": [
    {
     "name": "stdout",
     "output_type": "stream",
     "text": [
      "head: cannot open ‘/run/media/labgroup/Elements_10//Transformation/GRF_Poplar/GRF1_Phase_2/wk3/missing_explants.csv’ for reading: No such file or directory\n"
     ]
    },
    {
     "ename": "",
     "evalue": "1",
     "output_type": "error",
     "traceback": []
    }
   ],
   "source": [
    "head $missing_explants"
   ]
  },
  {
   "cell_type": "markdown",
   "metadata": {},
   "source": [
    "Enter your email where results will be sent"
   ]
  },
  {
   "cell_type": "markdown",
   "metadata": {},
   "source": [
    "### Email"
   ]
  },
  {
   "cell_type": "code",
   "execution_count": 6,
   "metadata": {},
   "outputs": [],
   "source": [
    "email=michael.nagle@oregonstate.edu"
   ]
  },
  {
   "cell_type": "markdown",
   "metadata": {},
   "source": [
    "\n",
    "\n",
    "\n",
    "\n",
    "\n",
    "\n",
    "\n",
    "\n",
    "\n",
    "\n",
    "\n",
    "\n",
    "\n",
    "\n",
    "\n",
    "<div class=\"alert alert-block alert-warning\">\n",
    "All variables below should be modified only as needed to indicate the fluorescent proteins in samples and the grid layout of explants. </div>"
   ]
  },
  {
   "cell_type": "markdown",
   "metadata": {},
   "source": [
    "### Fluorescent protein settings"
   ]
  },
  {
   "cell_type": "markdown",
   "metadata": {},
   "source": [
    "Below should be all known fluorescent components contained in the sample. This includes each fluorescent protein, as well as a \"noise\" or \"diffraction\" term if applicable. All of these components must exist in the user's spectral library. `GMOdetector` currently comes with a spectral library that includes, by default:\n",
    "- DsRed\n",
    "- ZsYellow\n",
    "- GFP\n",
    "- Chl\n",
    "- ChlA\n",
    "- ChlB\n",
    "- Diffraction"
   ]
  },
  {
   "cell_type": "code",
   "execution_count": 6,
   "metadata": {},
   "outputs": [],
   "source": [
    "fluorophores=(DsRed Chl Diffraction) # An explanation of array variables in bash is here: https://tldp.org/LDP/Bash-Beginners-Guide/html/sect_10_02.html"
   ]
  },
  {
   "cell_type": "markdown",
   "metadata": {},
   "source": [
    "The user has the option of limiting loading of hyperspectral data and subsequent regression to a specific range of wavelengths, using the `desired_wavelength_range` array variable. This range should cover all fluorophores provided in the `fluorophores` array variable able. Aside from runtime, there is no disadvantage to including a wider range than is needed."
   ]
  },
  {
   "cell_type": "code",
   "execution_count": 7,
   "metadata": {},
   "outputs": [],
   "source": [
    "desired_wavelength_range=(500 900)"
   ]
  },
  {
   "cell_type": "markdown",
   "metadata": {},
   "source": [
    "### False color plot settings"
   ]
  },
  {
   "cell_type": "markdown",
   "metadata": {},
   "source": [
    "To assist user inspection of regression results, false color plots can be produced by `GMOdetector` to show results of regression over whole samples. \n",
    "Note: In v0.2.0.x of the workflow, these parameters are independent of those used later by `GMOlabeler` to produce by-explant plots including false color plots. These will be made the same in a later update.\n",
    "The `FalseColor_channels` array variable indicates the components to be plotted as red, green and blue, in that order."
   ]
  },
  {
   "cell_type": "code",
   "execution_count": 8,
   "metadata": {},
   "outputs": [],
   "source": [
    "FalseColor_channels=(Chl DsRed Diffraction)"
   ]
  },
  {
   "cell_type": "markdown",
   "metadata": {},
   "source": [
    "The `FalseColor_caps` array variable indicates an upper limit of signal for each of these component. Any signal at or above these values will appear with maximum brightness; thus, these variables are comparable to exposure on a camera. If caps are too high, not much signal at lower ranges will be seen. If cap for a given component is too low, the false color images will appear overexposed with respect to the component."
   ]
  },
  {
   "cell_type": "code",
   "execution_count": 9,
   "metadata": {},
   "outputs": [],
   "source": [
    "FalseColor_caps=(200 400 50)"
   ]
  },
  {
   "cell_type": "markdown",
   "metadata": {},
   "source": [
    "`GMOlabeler` will use the below parameters to classify individual explants on plates as transgenic or not."
   ]
  },
  {
   "cell_type": "code",
   "execution_count": 10,
   "metadata": {},
   "outputs": [],
   "source": [
    "#reporter=GFP\n",
    "reporter=DsRed"
   ]
  },
  {
   "cell_type": "markdown",
   "metadata": {},
   "source": [
    "Parameters for reporter signal threshold and pixel threshold must be provided by the user. Our grid search yielded several noted below. These were most recently calculated from statistics produced with Python `GMOdetector`."
   ]
  },
  {
   "cell_type": "markdown",
   "metadata": {},
   "source": [
    "<img src=\"Figures/GMOlabeler_parameters.png\">"
   ]
  },
  {
   "cell_type": "code",
   "execution_count": 11,
   "metadata": {},
   "outputs": [],
   "source": [
    "reporter_threshold=38\n",
    "pixel_threshold=3"
   ]
  },
  {
   "cell_type": "markdown",
   "metadata": {},
   "source": [
    "### Grid settings"
   ]
  },
  {
   "cell_type": "markdown",
   "metadata": {},
   "source": [
    "Currently, `GMOlabeler` distinguishes explants by their expected position on a plate. This is supported for plates with 12 or 20 explants, arranged in specific positions on a grid. False positives may result in cases in which one explant grows to such an extent that it intrudes into the grid square meant for an adjacent explant. <br>In the future, an additional neural network will be used to segment individual explants on a per-pixel basis, avoiding the need for crude cropping, and the outputs from the resulting model will be integrated with `GMOlabeler`."
   ]
  },
  {
   "cell_type": "markdown",
   "metadata": {},
   "source": [
    "Cropping to grid squares is supported for standard grids with 12 or 20 explants, as indicated by the `grid` variable. An image of each grid square (with a file path provided by the `grid_file` variable) will be superimposed over each image during `GMOlabeler` analysis to allow the user to easily inspect and verify grid positions."
   ]
  },
  {
   "cell_type": "code",
   "execution_count": 12,
   "metadata": {},
   "outputs": [],
   "source": [
    "grid=20"
   ]
  },
  {
   "cell_type": "markdown",
   "metadata": {},
   "source": [
    "Define grid borders for the grid with an image size of 2000x2000, not yet aligned to hyperspectral images. These borders will be used for the contamination model."
   ]
  },
  {
   "cell_type": "code",
   "execution_count": 13,
   "metadata": {},
   "outputs": [],
   "source": [
    "pre_aligned_resized_grid_borders=(\"302,420,1746,1516\")"
   ]
  },
  {
   "cell_type": "markdown",
   "metadata": {},
   "source": [
    "Define grid borders for the grid after alignment. If unsure what to use, you may wish to wait until after alignment and inspection of results to set this parameter."
   ]
  },
  {
   "cell_type": "code",
   "execution_count": 14,
   "metadata": {},
   "outputs": [],
   "source": [
    "aligned_grid_borders=\"0 1705 1210 212\""
   ]
  },
  {
   "cell_type": "markdown",
   "metadata": {},
   "source": [
    "<div class=\"alert alert-block alert-danger\">\n",
    "The below variables do not need to be modified during any routine use of the workflow.\n",
    "</div>"
   ]
  },
  {
   "cell_type": "markdown",
   "metadata": {},
   "source": [
    "For the following variables, use 0 (False) or 1 (True)"
   ]
  },
  {
   "cell_type": "code",
   "execution_count": 15,
   "metadata": {},
   "outputs": [],
   "source": [
    "composite=1"
   ]
  },
  {
   "cell_type": "markdown",
   "metadata": {},
   "source": [
    "Set dimensions for plot outputs"
   ]
  },
  {
   "cell_type": "code",
   "execution_count": 16,
   "metadata": {},
   "outputs": [],
   "source": [
    "#width=15\n",
    "width=9\n",
    "height=5"
   ]
  },
  {
   "cell_type": "code",
   "execution_count": 17,
   "metadata": {},
   "outputs": [],
   "source": [
    "parallel=0"
   ]
  },
  {
   "cell_type": "markdown",
   "metadata": {},
   "source": [
    "### Alignment settings"
   ]
  },
  {
   "cell_type": "markdown",
   "metadata": {},
   "source": [
    "Set to \"Automatic\" if generating a new homography matrix from the grid standard included in the data folder. If using an existing homography matrix, enter the name here. This file should be in the \"output\" subfolder of the path to the `ImageAlignment` module."
   ]
  },
  {
   "cell_type": "code",
   "execution_count": 18,
   "metadata": {},
   "outputs": [],
   "source": [
    "homography=\"Automatic\""
   ]
  },
  {
   "cell_type": "markdown",
   "metadata": {},
   "source": [
    "Set to \"Automatic\" or the path to the hyperspectral channel used to produce the homography matrix provided."
   ]
  },
  {
   "cell_type": "code",
   "execution_count": 19,
   "metadata": {},
   "outputs": [],
   "source": [
    "hypercube_csv=\"Automatic\""
   ]
  },
  {
   "cell_type": "markdown",
   "metadata": {},
   "source": [
    "Parameters to be used for generating a homography  matrix; these will only be used if `homography` is set to \"Automatic\""
   ]
  },
  {
   "cell_type": "code",
   "execution_count": 20,
   "metadata": {},
   "outputs": [],
   "source": [
    "distance=0.65\n",
    "gaussian_sigma=0.55"
   ]
  },
  {
   "cell_type": "markdown",
   "metadata": {},
   "source": [
    "Set to \"Automatic\" or the path to the jpg resulting from using the homography matrix (indicated by the `homography` variable) above to transform the original grid jpg"
   ]
  },
  {
   "cell_type": "code",
   "execution_count": 21,
   "metadata": {},
   "outputs": [],
   "source": [
    "aligned_grid=\"Automatic\""
   ]
  },
  {
   "cell_type": "markdown",
   "metadata": {},
   "source": [
    "### Paths to workflow modules"
   ]
  },
  {
   "cell_type": "markdown",
   "metadata": {},
   "source": [
    "These only need to be modified if you are setting up a `GMOnotebook` template on a new computer."
   ]
  },
  {
   "cell_type": "code",
   "execution_count": 22,
   "metadata": {},
   "outputs": [],
   "source": [
    "cwd=\"/home/labgroup/code/GMOnotebook\""
   ]
  },
  {
   "cell_type": "code",
   "execution_count": 23,
   "metadata": {},
   "outputs": [],
   "source": [
    "gmodetector_wd=\"/home/labgroup/code/gmodetector_py/\"\n",
    "spectral_library_path=\"${gmodetector_wd}spectral_library/\"\n",
    "deeplab_path=\"/home/labgroup/code/deeplab/\"\n",
    "alignment_path=\"/home/labgroup/code/ImageAlignment/\"\n",
    "gmolabeler_path=\"/home/labgroup/code/GMOlabeler/\"\n",
    "contamination_path=\"/home/labgroup/code/DenseNet\"\n",
    "data_prefix=\"/home/labgroup/data/\"\n",
    "output_directory_prefix=\"${data_prefix}gmodetector_out/\""
   ]
  },
  {
   "cell_type": "markdown",
   "metadata": {},
   "source": [
    "<div class=\"alert alert-block alert-info\">\n",
    "With all above variables set, please \"Save as...\" with a filename referencing this specific dataset. <br>Finally, deploy the workflow (Step 4 in above instructions).\n",
    "</div>"
   ]
  },
  {
   "cell_type": "markdown",
   "metadata": {},
   "source": [
    "# Automated workflow to be deployed"
   ]
  },
  {
   "cell_type": "markdown",
   "metadata": {},
   "source": [
    "See the below code for a walkthrough of how GMOnotebook works, or view the outputs after running the workflow for help troubleshooting errors in specific steps of analysis."
   ]
  },
  {
   "cell_type": "markdown",
   "metadata": {},
   "source": [
    "<div class=\"alert alert-block alert-danger\"> <b>Danger:</b> Do not modify any below code without creating a new version of the template notebook. During routine usage, this workflow should be customized only by modifying variables above, while leaving the below code unmodified. </div>"
   ]
  },
  {
   "cell_type": "markdown",
   "metadata": {},
   "source": [
    "These internal variables are set automatically."
   ]
  },
  {
   "cell_type": "code",
   "execution_count": 24,
   "metadata": {},
   "outputs": [],
   "source": [
    "datestamp=$(date +”%Y-%m-%d”)"
   ]
  },
  {
   "cell_type": "code",
   "execution_count": 25,
   "metadata": {},
   "outputs": [],
   "source": [
    "data_folder=$(echo $data | cut -d/ -f5-)"
   ]
  },
  {
   "cell_type": "code",
   "execution_count": 26,
   "metadata": {},
   "outputs": [],
   "source": [
    "timepoint=\"$(basename -- $data_folder)\""
   ]
  },
  {
   "cell_type": "code",
   "execution_count": 27,
   "metadata": {},
   "outputs": [],
   "source": [
    "output_directory_full=\"$output_directory_prefix$data_folder\""
   ]
  },
  {
   "cell_type": "code",
   "execution_count": 28,
   "metadata": {},
   "outputs": [],
   "source": [
    "dataset_name=$(echo $data_folder | sed -e 's/\\//-/g')"
   ]
  },
  {
   "cell_type": "markdown",
   "metadata": {},
   "source": [
    "Time analysis begins:"
   ]
  },
  {
   "cell_type": "code",
   "execution_count": 29,
   "metadata": {},
   "outputs": [
    {
     "name": "stdout",
     "output_type": "stream",
     "text": [
      "Sun Mar 28 20:33:25 PDT 2021\n"
     ]
    }
   ],
   "source": [
    "echo $(date)"
   ]
  },
  {
   "cell_type": "markdown",
   "metadata": {},
   "source": [
    "## Quantification of fluorescent proteins by regression"
   ]
  },
  {
   "cell_type": "markdown",
   "metadata": {},
   "source": [
    "The Python package `CubeGLM` is used to quantify fluorescent proteins in each pixel of hyperspectral images via linear regression. Hyperspectral images are regressed over spectra of known components, and pixelwise maps of test-statistics are constructed for each component in the sample. This approach to quantifying components of hyperspectral images is described in-depth in the Methods section from <a href=\"https://link.springer.com/article/10.1007/s40789-019-0252-7\" target=\"_blank\">Böhme, et al. 2019</a>. Code and documentation for `CubeGLM` is on <a href=\"https://github.com/naglemi/GMOdetector_py\" target=\"_blank\">Github</a>."
   ]
  },
  {
   "cell_type": "code",
   "execution_count": 30,
   "metadata": {
    "jupyter": {
     "source_hidden": true
    }
   },
   "outputs": [],
   "source": [
    "cd $gmodetector_wd"
   ]
  },
  {
   "cell_type": "code",
   "execution_count": 31,
   "metadata": {
    "jupyter": {
     "source_hidden": true
    }
   },
   "outputs": [],
   "source": [
    "job_list_name=\"$dataset_name.jobs\""
   ]
  },
  {
   "cell_type": "code",
   "execution_count": 32,
   "metadata": {
    "jupyter": {
     "source_hidden": true
    }
   },
   "outputs": [],
   "source": [
    "rm -rf $job_list_name"
   ]
  },
  {
   "cell_type": "code",
   "execution_count": 33,
   "metadata": {},
   "outputs": [],
   "source": [
    "for file in $data/*.hdr\n",
    "do\n",
    " if [[ \"$file\" != *'hroma'* ]]; then\n",
    "  echo \"python -W ignore wrappers/analyze_sample.py \\\n",
    "--file_path $file \\\n",
    "--fluorophores ${fluorophores[*]} \\\n",
    "--min_desired_wavelength ${desired_wavelength_range[0]} \\\n",
    "--max_desired_wavelength ${desired_wavelength_range[1]} \\\n",
    "--red_channel ${FalseColor_channels[0]} \\\n",
    "--green_channel ${FalseColor_channels[1]} \\\n",
    "--blue_channel ${FalseColor_channels[2]} \\\n",
    "--red_cap ${FalseColor_caps[0]} \\\n",
    "--green_cap ${FalseColor_caps[1]} \\\n",
    "--blue_cap ${FalseColor_caps[2]} \\\n",
    "--plot 1 \\\n",
    "--spectral_library_path \"$spectral_library_path\" \\\n",
    "--output_dir $output_directory_full\" >> $job_list_name\n",
    " fi\n",
    "done"
   ]
  },
  {
   "cell_type": "code",
   "execution_count": 34,
   "metadata": {},
   "outputs": [
    {
     "name": "stdout",
     "output_type": "stream",
     "text": [
      "Elements_10--Transformation-GRF_Poplar-GRF1_Phase_2-wk3-.jobs\n"
     ]
    }
   ],
   "source": [
    "echo $job_list_name"
   ]
  },
  {
   "cell_type": "code",
   "execution_count": 35,
   "metadata": {
    "scrolled": true
   },
   "outputs": [
    {
     "name": "stdout",
     "output_type": "stream",
     "text": [
      "(test-environment) (test-environment) (test-environment) (test-environment) Running GMOdetector version 0.0.855\n",
      "load mode isload_full_then_crop\n",
      "Saving to /home/labgroup/data/gmodetector_out/Elements_10//Transformation/GRF_Poplar/GRF1_Phase_2/wk3/GRF1_I5.0_F1.9_L100_130910_0_0_0_Fluorescence_weights.hdf with key of weights\n",
      "Producing image channel for DsRed with cap 400 in color green\n",
      "Producing image channel for Chl with cap 200 in color red\n",
      "Producing image channel for Diffraction with cap 50 in color blue\n",
      "Saving image to /home/labgroup/data/gmodetector_out/Elements_10//Transformation/GRF_Poplar/GRF1_Phase_2/wk3/GRF1_I5.0_F1.9_L100_130910_0_0_0_Fluorescence.png\n",
      "Saving image metadata to /home/labgroup/data/gmodetector_out/Elements_10//Transformation/GRF_Poplar/GRF1_Phase_2/wk3/GRF1_I5.0_F1.9_L100_130910_0_0_0_Fluorescence.csv\n",
      "\n",
      "Finished running sample /run/media/labgroup/Elements_10//Transformation/GRF_Poplar/GRF1_Phase_2/wk3//GRF1_I5.0_F1.9_L100_130910_0_0_0_Fluorescence.hdr in 230.95243562799988s\n",
      "\n",
      "Running GMOdetector version 0.0.855\n",
      "load mode isload_full_then_crop\n",
      "Saving to /home/labgroup/data/gmodetector_out/Elements_10//Transformation/GRF_Poplar/GRF1_Phase_2/wk3/GRF1_I5.0_F1.9_L100_130957_1_0_1_Fluorescence_weights.hdf with key of weights\n",
      "Producing image channel for DsRed with cap 400 in color green\n",
      "Producing image channel for Chl with cap 200 in color red\n",
      "Producing image channel for Diffraction with cap 50 in color blue\n",
      "Saving image to /home/labgroup/data/gmodetector_out/Elements_10//Transformation/GRF_Poplar/GRF1_Phase_2/wk3/GRF1_I5.0_F1.9_L100_130957_1_0_1_Fluorescence.png\n",
      "Saving image metadata to /home/labgroup/data/gmodetector_out/Elements_10//Transformation/GRF_Poplar/GRF1_Phase_2/wk3/GRF1_I5.0_F1.9_L100_130957_1_0_1_Fluorescence.csv\n",
      "\n",
      "Finished running sample /run/media/labgroup/Elements_10//Transformation/GRF_Poplar/GRF1_Phase_2/wk3//GRF1_I5.0_F1.9_L100_130957_1_0_1_Fluorescence.hdr in 226.81901777799976s\n",
      "\n",
      "Running GMOdetector version 0.0.855\n",
      "load mode isload_full_then_crop\n",
      "Saving to /home/labgroup/data/gmodetector_out/Elements_10//Transformation/GRF_Poplar/GRF1_Phase_2/wk3/GRF1_I5.0_F1.9_L100_131058_2_0_2_Fluorescence_weights.hdf with key of weights\n",
      "Producing image channel for DsRed with cap 400 in color green\n",
      "Producing image channel for Chl with cap 200 in color red\n",
      "Producing image channel for Diffraction with cap 50 in color blue\n",
      "Saving image to /home/labgroup/data/gmodetector_out/Elements_10//Transformation/GRF_Poplar/GRF1_Phase_2/wk3/GRF1_I5.0_F1.9_L100_131058_2_0_2_Fluorescence.png\n",
      "Saving image metadata to /home/labgroup/data/gmodetector_out/Elements_10//Transformation/GRF_Poplar/GRF1_Phase_2/wk3/GRF1_I5.0_F1.9_L100_131058_2_0_2_Fluorescence.csv\n",
      "\n",
      "Finished running sample /run/media/labgroup/Elements_10//Transformation/GRF_Poplar/GRF1_Phase_2/wk3//GRF1_I5.0_F1.9_L100_131058_2_0_2_Fluorescence.hdr in 257.41064393000033s\n",
      "\n",
      "Running GMOdetector version 0.0.855\n",
      "load mode isload_full_then_crop\n",
      "Saving to /home/labgroup/data/gmodetector_out/Elements_10//Transformation/GRF_Poplar/GRF1_Phase_2/wk3/GRF1_I5.0_F1.9_L100_131202_3_0_3_Fluorescence_weights.hdf with key of weights\n",
      "Producing image channel for DsRed with cap 400 in color green\n",
      "Producing image channel for Chl with cap 200 in color red\n",
      "Producing image channel for Diffraction with cap 50 in color blue\n",
      "Saving image to /home/labgroup/data/gmodetector_out/Elements_10//Transformation/GRF_Poplar/GRF1_Phase_2/wk3/GRF1_I5.0_F1.9_L100_131202_3_0_3_Fluorescence.png\n",
      "Saving image metadata to /home/labgroup/data/gmodetector_out/Elements_10//Transformation/GRF_Poplar/GRF1_Phase_2/wk3/GRF1_I5.0_F1.9_L100_131202_3_0_3_Fluorescence.csv\n",
      "\n",
      "Finished running sample /run/media/labgroup/Elements_10//Transformation/GRF_Poplar/GRF1_Phase_2/wk3//GRF1_I5.0_F1.9_L100_131202_3_0_3_Fluorescence.hdr in 185.84847763599964s\n",
      "\n",
      "Running GMOdetector version 0.0.855\n",
      "load mode isload_full_then_crop\n",
      "Saving to /home/labgroup/data/gmodetector_out/Elements_10//Transformation/GRF_Poplar/GRF1_Phase_2/wk3/GRF1_I5.0_F1.9_L100_131303_4_0_4_Fluorescence_weights.hdf with key of weights\n",
      "Producing image channel for DsRed with cap 400 in color green\n",
      "Producing image channel for Chl with cap 200 in color red\n",
      "Producing image channel for Diffraction with cap 50 in color blue\n",
      "Saving image to /home/labgroup/data/gmodetector_out/Elements_10//Transformation/GRF_Poplar/GRF1_Phase_2/wk3/GRF1_I5.0_F1.9_L100_131303_4_0_4_Fluorescence.png\n",
      "Saving image metadata to /home/labgroup/data/gmodetector_out/Elements_10//Transformation/GRF_Poplar/GRF1_Phase_2/wk3/GRF1_I5.0_F1.9_L100_131303_4_0_4_Fluorescence.csv\n",
      "\n",
      "Finished running sample /run/media/labgroup/Elements_10//Transformation/GRF_Poplar/GRF1_Phase_2/wk3//GRF1_I5.0_F1.9_L100_131303_4_0_4_Fluorescence.hdr in 230.39152909599989s\n",
      "\n",
      "Running GMOdetector version 0.0.855\n",
      "load mode isload_full_then_crop\n",
      "Saving to /home/labgroup/data/gmodetector_out/Elements_10//Transformation/GRF_Poplar/GRF1_Phase_2/wk3/GRF1_I5.0_F1.9_L100_131407_5_0_5_Fluorescence_weights.hdf with key of weights\n",
      "Producing image channel for DsRed with cap 400 in color green\n",
      "Producing image channel for Chl with cap 200 in color red\n",
      "Producing image channel for Diffraction with cap 50 in color blue\n",
      "Saving image to /home/labgroup/data/gmodetector_out/Elements_10//Transformation/GRF_Poplar/GRF1_Phase_2/wk3/GRF1_I5.0_F1.9_L100_131407_5_0_5_Fluorescence.png\n",
      "Saving image metadata to /home/labgroup/data/gmodetector_out/Elements_10//Transformation/GRF_Poplar/GRF1_Phase_2/wk3/GRF1_I5.0_F1.9_L100_131407_5_0_5_Fluorescence.csv\n",
      "\n",
      "Finished running sample /run/media/labgroup/Elements_10//Transformation/GRF_Poplar/GRF1_Phase_2/wk3//GRF1_I5.0_F1.9_L100_131407_5_0_5_Fluorescence.hdr in 195.92628882600002s\n",
      "\n",
      "Running GMOdetector version 0.0.855\n",
      "load mode isload_full_then_crop\n",
      "Saving to /home/labgroup/data/gmodetector_out/Elements_10//Transformation/GRF_Poplar/GRF1_Phase_2/wk3/GRF1_I5.0_F1.9_L100_131509_6_0_6_Fluorescence_weights.hdf with key of weights\n",
      "Producing image channel for DsRed with cap 400 in color green\n",
      "Producing image channel for Chl with cap 200 in color red\n",
      "Producing image channel for Diffraction with cap 50 in color blue\n",
      "Saving image to /home/labgroup/data/gmodetector_out/Elements_10//Transformation/GRF_Poplar/GRF1_Phase_2/wk3/GRF1_I5.0_F1.9_L100_131509_6_0_6_Fluorescence.png\n",
      "Saving image metadata to /home/labgroup/data/gmodetector_out/Elements_10//Transformation/GRF_Poplar/GRF1_Phase_2/wk3/GRF1_I5.0_F1.9_L100_131509_6_0_6_Fluorescence.csv\n",
      "\n",
      "Finished running sample /run/media/labgroup/Elements_10//Transformation/GRF_Poplar/GRF1_Phase_2/wk3//GRF1_I5.0_F1.9_L100_131509_6_0_6_Fluorescence.hdr in 807.6970066670001s\n",
      "\n",
      "Running GMOdetector version 0.0.855\n",
      "load mode isload_full_then_crop\n",
      "Saving to /home/labgroup/data/gmodetector_out/Elements_10//Transformation/GRF_Poplar/GRF1_Phase_2/wk3/GRF1_I5.0_F1.9_L100_131613_7_1_6_Fluorescence_weights.hdf with key of weights\n",
      "Producing image channel for DsRed with cap 400 in color green\n",
      "Producing image channel for Chl with cap 200 in color red\n",
      "Producing image channel for Diffraction with cap 50 in color blue\n",
      "Saving image to /home/labgroup/data/gmodetector_out/Elements_10//Transformation/GRF_Poplar/GRF1_Phase_2/wk3/GRF1_I5.0_F1.9_L100_131613_7_1_6_Fluorescence.png\n",
      "Saving image metadata to /home/labgroup/data/gmodetector_out/Elements_10//Transformation/GRF_Poplar/GRF1_Phase_2/wk3/GRF1_I5.0_F1.9_L100_131613_7_1_6_Fluorescence.csv\n",
      "\n",
      "Finished running sample /run/media/labgroup/Elements_10//Transformation/GRF_Poplar/GRF1_Phase_2/wk3//GRF1_I5.0_F1.9_L100_131613_7_1_6_Fluorescence.hdr in 172.77648176399998s\n",
      "\n",
      "Running GMOdetector version 0.0.855\n",
      "load mode isload_full_then_crop\n",
      "Saving to /home/labgroup/data/gmodetector_out/Elements_10//Transformation/GRF_Poplar/GRF1_Phase_2/wk3/GRF1_I5.0_F1.9_L100_131705_8_1_5_Fluorescence_weights.hdf with key of weights\n",
      "Producing image channel for DsRed with cap 400 in color green\n",
      "Producing image channel for Chl with cap 200 in color red\n",
      "Producing image channel for Diffraction with cap 50 in color blue\n",
      "Saving image to /home/labgroup/data/gmodetector_out/Elements_10//Transformation/GRF_Poplar/GRF1_Phase_2/wk3/GRF1_I5.0_F1.9_L100_131705_8_1_5_Fluorescence.png\n",
      "Saving image metadata to /home/labgroup/data/gmodetector_out/Elements_10//Transformation/GRF_Poplar/GRF1_Phase_2/wk3/GRF1_I5.0_F1.9_L100_131705_8_1_5_Fluorescence.csv\n",
      "\n",
      "Finished running sample /run/media/labgroup/Elements_10//Transformation/GRF_Poplar/GRF1_Phase_2/wk3//GRF1_I5.0_F1.9_L100_131705_8_1_5_Fluorescence.hdr in 218.83478024600026s\n",
      "\n",
      "Running GMOdetector version 0.0.855\n",
      "load mode isload_full_then_crop\n",
      "Saving to /home/labgroup/data/gmodetector_out/Elements_10//Transformation/GRF_Poplar/GRF1_Phase_2/wk3/GRF1_I5.0_F1.9_L100_131808_9_1_4_Fluorescence_weights.hdf with key of weights\n",
      "Producing image channel for DsRed with cap 400 in color green\n",
      "Producing image channel for Chl with cap 200 in color red\n",
      "Producing image channel for Diffraction with cap 50 in color blue\n",
      "Saving image to /home/labgroup/data/gmodetector_out/Elements_10//Transformation/GRF_Poplar/GRF1_Phase_2/wk3/GRF1_I5.0_F1.9_L100_131808_9_1_4_Fluorescence.png\n",
      "Saving image metadata to /home/labgroup/data/gmodetector_out/Elements_10//Transformation/GRF_Poplar/GRF1_Phase_2/wk3/GRF1_I5.0_F1.9_L100_131808_9_1_4_Fluorescence.csv\n",
      "\n",
      "Finished running sample /run/media/labgroup/Elements_10//Transformation/GRF_Poplar/GRF1_Phase_2/wk3//GRF1_I5.0_F1.9_L100_131808_9_1_4_Fluorescence.hdr in 203.32261733199994s\n",
      "\n",
      "Running GMOdetector version 0.0.855\n",
      "load mode isload_full_then_crop\n",
      "Saving to /home/labgroup/data/gmodetector_out/Elements_10//Transformation/GRF_Poplar/GRF1_Phase_2/wk3/GRF1_I5.0_F1.9_L100_131910_10_1_3_Fluorescence_weights.hdf with key of weights\n",
      "Producing image channel for DsRed with cap 400 in color green\n",
      "Producing image channel for Chl with cap 200 in color red\n",
      "Producing image channel for Diffraction with cap 50 in color blue\n",
      "Saving image to /home/labgroup/data/gmodetector_out/Elements_10//Transformation/GRF_Poplar/GRF1_Phase_2/wk3/GRF1_I5.0_F1.9_L100_131910_10_1_3_Fluorescence.png\n",
      "Saving image metadata to /home/labgroup/data/gmodetector_out/Elements_10//Transformation/GRF_Poplar/GRF1_Phase_2/wk3/GRF1_I5.0_F1.9_L100_131910_10_1_3_Fluorescence.csv\n",
      "\n",
      "Finished running sample /run/media/labgroup/Elements_10//Transformation/GRF_Poplar/GRF1_Phase_2/wk3//GRF1_I5.0_F1.9_L100_131910_10_1_3_Fluorescence.hdr in 212.3701836529999s\n",
      "\n",
      "Running GMOdetector version 0.0.855\n",
      "load mode isload_full_then_crop\n",
      "Saving to /home/labgroup/data/gmodetector_out/Elements_10//Transformation/GRF_Poplar/GRF1_Phase_2/wk3/GRF1_I5.0_F1.9_L100_132012_11_1_2_Fluorescence_weights.hdf with key of weights\n",
      "Producing image channel for DsRed with cap 400 in color green\n",
      "Producing image channel for Chl with cap 200 in color red\n",
      "Producing image channel for Diffraction with cap 50 in color blue\n",
      "Saving image to /home/labgroup/data/gmodetector_out/Elements_10//Transformation/GRF_Poplar/GRF1_Phase_2/wk3/GRF1_I5.0_F1.9_L100_132012_11_1_2_Fluorescence.png\n",
      "Saving image metadata to /home/labgroup/data/gmodetector_out/Elements_10//Transformation/GRF_Poplar/GRF1_Phase_2/wk3/GRF1_I5.0_F1.9_L100_132012_11_1_2_Fluorescence.csv\n",
      "\n",
      "Finished running sample /run/media/labgroup/Elements_10//Transformation/GRF_Poplar/GRF1_Phase_2/wk3//GRF1_I5.0_F1.9_L100_132012_11_1_2_Fluorescence.hdr in 227.77335064s\n",
      "\n",
      "Running GMOdetector version 0.0.855\n",
      "load mode isload_full_then_crop\n",
      "Saving to /home/labgroup/data/gmodetector_out/Elements_10//Transformation/GRF_Poplar/GRF1_Phase_2/wk3/GRF1_I5.0_F1.9_L100_132113_12_1_1_Fluorescence_weights.hdf with key of weights\n",
      "Producing image channel for DsRed with cap 400 in color green\n",
      "Producing image channel for Chl with cap 200 in color red\n",
      "Producing image channel for Diffraction with cap 50 in color blue\n",
      "Saving image to /home/labgroup/data/gmodetector_out/Elements_10//Transformation/GRF_Poplar/GRF1_Phase_2/wk3/GRF1_I5.0_F1.9_L100_132113_12_1_1_Fluorescence.png\n",
      "Saving image metadata to /home/labgroup/data/gmodetector_out/Elements_10//Transformation/GRF_Poplar/GRF1_Phase_2/wk3/GRF1_I5.0_F1.9_L100_132113_12_1_1_Fluorescence.csv\n",
      "\n",
      "Finished running sample /run/media/labgroup/Elements_10//Transformation/GRF_Poplar/GRF1_Phase_2/wk3//GRF1_I5.0_F1.9_L100_132113_12_1_1_Fluorescence.hdr in 226.13268990399956s\n",
      "\n",
      "Running GMOdetector version 0.0.855\n",
      "load mode isload_full_then_crop\n",
      "Saving to /home/labgroup/data/gmodetector_out/Elements_10//Transformation/GRF_Poplar/GRF1_Phase_2/wk3/GRF1_I5.0_F1.9_L100_132217_13_1_0_Fluorescence_weights.hdf with key of weights\n",
      "Producing image channel for DsRed with cap 400 in color green\n",
      "Producing image channel for Chl with cap 200 in color red\n",
      "Producing image channel for Diffraction with cap 50 in color blue\n",
      "Saving image to /home/labgroup/data/gmodetector_out/Elements_10//Transformation/GRF_Poplar/GRF1_Phase_2/wk3/GRF1_I5.0_F1.9_L100_132217_13_1_0_Fluorescence.png\n",
      "Saving image metadata to /home/labgroup/data/gmodetector_out/Elements_10//Transformation/GRF_Poplar/GRF1_Phase_2/wk3/GRF1_I5.0_F1.9_L100_132217_13_1_0_Fluorescence.csv\n",
      "\n",
      "Finished running sample /run/media/labgroup/Elements_10//Transformation/GRF_Poplar/GRF1_Phase_2/wk3//GRF1_I5.0_F1.9_L100_132217_13_1_0_Fluorescence.hdr in 222.2017036490006s\n",
      "\n",
      "Running GMOdetector version 0.0.855\n",
      "load mode isload_full_then_crop\n",
      "Saving to /home/labgroup/data/gmodetector_out/Elements_10//Transformation/GRF_Poplar/GRF1_Phase_2/wk3/GRF1_I5.0_F1.9_L100_132319_14_2_0_Fluorescence_weights.hdf with key of weights\n",
      "Producing image channel for DsRed with cap 400 in color green\n",
      "Producing image channel for Chl with cap 200 in color red\n",
      "Producing image channel for Diffraction with cap 50 in color blue\n",
      "Saving image to /home/labgroup/data/gmodetector_out/Elements_10//Transformation/GRF_Poplar/GRF1_Phase_2/wk3/GRF1_I5.0_F1.9_L100_132319_14_2_0_Fluorescence.png\n",
      "Saving image metadata to /home/labgroup/data/gmodetector_out/Elements_10//Transformation/GRF_Poplar/GRF1_Phase_2/wk3/GRF1_I5.0_F1.9_L100_132319_14_2_0_Fluorescence.csv\n",
      "\n",
      "Finished running sample /run/media/labgroup/Elements_10//Transformation/GRF_Poplar/GRF1_Phase_2/wk3//GRF1_I5.0_F1.9_L100_132319_14_2_0_Fluorescence.hdr in 235.47792622999987s\n",
      "\n",
      "Running GMOdetector version 0.0.855\n",
      "load mode isload_full_then_crop\n",
      "Saving to /home/labgroup/data/gmodetector_out/Elements_10//Transformation/GRF_Poplar/GRF1_Phase_2/wk3/GRF1_I5.0_F1.9_L100_132412_15_2_1_Fluorescence_weights.hdf with key of weights\n",
      "Producing image channel for DsRed with cap 400 in color green\n",
      "Producing image channel for Chl with cap 200 in color red\n",
      "Producing image channel for Diffraction with cap 50 in color blue\n",
      "Saving image to /home/labgroup/data/gmodetector_out/Elements_10//Transformation/GRF_Poplar/GRF1_Phase_2/wk3/GRF1_I5.0_F1.9_L100_132412_15_2_1_Fluorescence.png\n",
      "Saving image metadata to /home/labgroup/data/gmodetector_out/Elements_10//Transformation/GRF_Poplar/GRF1_Phase_2/wk3/GRF1_I5.0_F1.9_L100_132412_15_2_1_Fluorescence.csv\n",
      "\n",
      "Finished running sample /run/media/labgroup/Elements_10//Transformation/GRF_Poplar/GRF1_Phase_2/wk3//GRF1_I5.0_F1.9_L100_132412_15_2_1_Fluorescence.hdr in 196.78209287400023s\n",
      "\n",
      "Running GMOdetector version 0.0.855\n",
      "load mode isload_full_then_crop\n",
      "Saving to /home/labgroup/data/gmodetector_out/Elements_10//Transformation/GRF_Poplar/GRF1_Phase_2/wk3/GRF1_I5.0_F1.9_L100_132515_16_2_2_Fluorescence_weights.hdf with key of weights\n",
      "Producing image channel for DsRed with cap 400 in color green\n",
      "Producing image channel for Chl with cap 200 in color red\n",
      "Producing image channel for Diffraction with cap 50 in color blue\n",
      "Saving image to /home/labgroup/data/gmodetector_out/Elements_10//Transformation/GRF_Poplar/GRF1_Phase_2/wk3/GRF1_I5.0_F1.9_L100_132515_16_2_2_Fluorescence.png\n",
      "Saving image metadata to /home/labgroup/data/gmodetector_out/Elements_10//Transformation/GRF_Poplar/GRF1_Phase_2/wk3/GRF1_I5.0_F1.9_L100_132515_16_2_2_Fluorescence.csv\n",
      "\n",
      "Finished running sample /run/media/labgroup/Elements_10//Transformation/GRF_Poplar/GRF1_Phase_2/wk3//GRF1_I5.0_F1.9_L100_132515_16_2_2_Fluorescence.hdr in 217.09840117299973s\n",
      "\n",
      "Running GMOdetector version 0.0.855\n",
      "load mode isload_full_then_crop\n",
      "Saving to /home/labgroup/data/gmodetector_out/Elements_10//Transformation/GRF_Poplar/GRF1_Phase_2/wk3/GRF1_I5.0_F1.9_L100_132618_17_2_3_Fluorescence_weights.hdf with key of weights\n",
      "Producing image channel for DsRed with cap 400 in color green\n",
      "Producing image channel for Chl with cap 200 in color red\n",
      "Producing image channel for Diffraction with cap 50 in color blue\n",
      "Saving image to /home/labgroup/data/gmodetector_out/Elements_10//Transformation/GRF_Poplar/GRF1_Phase_2/wk3/GRF1_I5.0_F1.9_L100_132618_17_2_3_Fluorescence.png\n",
      "Saving image metadata to /home/labgroup/data/gmodetector_out/Elements_10//Transformation/GRF_Poplar/GRF1_Phase_2/wk3/GRF1_I5.0_F1.9_L100_132618_17_2_3_Fluorescence.csv\n",
      "\n",
      "Finished running sample /run/media/labgroup/Elements_10//Transformation/GRF_Poplar/GRF1_Phase_2/wk3//GRF1_I5.0_F1.9_L100_132618_17_2_3_Fluorescence.hdr in 173.15752270900066s\n",
      "\n",
      "Running GMOdetector version 0.0.855\n",
      "load mode isload_full_then_crop\n",
      "Saving to /home/labgroup/data/gmodetector_out/Elements_10//Transformation/GRF_Poplar/GRF1_Phase_2/wk3/GRF1_I5.0_F1.9_L100_133606_0_0_5_Fluorescence_weights.hdf with key of weights\n",
      "Producing image channel for DsRed with cap 400 in color green\n",
      "Producing image channel for Chl with cap 200 in color red\n",
      "Producing image channel for Diffraction with cap 50 in color blue\n",
      "Saving image to /home/labgroup/data/gmodetector_out/Elements_10//Transformation/GRF_Poplar/GRF1_Phase_2/wk3/GRF1_I5.0_F1.9_L100_133606_0_0_5_Fluorescence.png\n",
      "Saving image metadata to /home/labgroup/data/gmodetector_out/Elements_10//Transformation/GRF_Poplar/GRF1_Phase_2/wk3/GRF1_I5.0_F1.9_L100_133606_0_0_5_Fluorescence.csv\n",
      "\n",
      "Finished running sample /run/media/labgroup/Elements_10//Transformation/GRF_Poplar/GRF1_Phase_2/wk3//GRF1_I5.0_F1.9_L100_133606_0_0_5_Fluorescence.hdr in 213.59852441300063s\n",
      "\n",
      "Running GMOdetector version 0.0.855\n",
      "load mode isload_full_then_crop\n",
      "Saving to /home/labgroup/data/gmodetector_out/Elements_10//Transformation/GRF_Poplar/GRF1_Phase_2/wk3/GRF1_I5.0_F1.9_L100_133742_1_0_6_Fluorescence_weights.hdf with key of weights\n",
      "Producing image channel for DsRed with cap 400 in color green\n",
      "Producing image channel for Chl with cap 200 in color red\n",
      "Producing image channel for Diffraction with cap 50 in color blue\n",
      "Saving image to /home/labgroup/data/gmodetector_out/Elements_10//Transformation/GRF_Poplar/GRF1_Phase_2/wk3/GRF1_I5.0_F1.9_L100_133742_1_0_6_Fluorescence.png\n",
      "Saving image metadata to /home/labgroup/data/gmodetector_out/Elements_10//Transformation/GRF_Poplar/GRF1_Phase_2/wk3/GRF1_I5.0_F1.9_L100_133742_1_0_6_Fluorescence.csv\n",
      "\n",
      "Finished running sample /run/media/labgroup/Elements_10//Transformation/GRF_Poplar/GRF1_Phase_2/wk3//GRF1_I5.0_F1.9_L100_133742_1_0_6_Fluorescence.hdr in 188.77441343099963s\n",
      "\n",
      "Running GMOdetector version 0.0.855\n",
      "load mode isload_full_then_crop\n",
      "Saving to /home/labgroup/data/gmodetector_out/Elements_10//Transformation/GRF_Poplar/GRF1_Phase_2/wk3/GRF1_I5.0_F1.9_L100_133844_2_1_2_Fluorescence_weights.hdf with key of weights\n",
      "Producing image channel for DsRed with cap 400 in color green\n",
      "Producing image channel for Chl with cap 200 in color red\n",
      "Producing image channel for Diffraction with cap 50 in color blue\n",
      "Saving image to /home/labgroup/data/gmodetector_out/Elements_10//Transformation/GRF_Poplar/GRF1_Phase_2/wk3/GRF1_I5.0_F1.9_L100_133844_2_1_2_Fluorescence.png\n",
      "Saving image metadata to /home/labgroup/data/gmodetector_out/Elements_10//Transformation/GRF_Poplar/GRF1_Phase_2/wk3/GRF1_I5.0_F1.9_L100_133844_2_1_2_Fluorescence.csv\n",
      "\n",
      "Finished running sample /run/media/labgroup/Elements_10//Transformation/GRF_Poplar/GRF1_Phase_2/wk3//GRF1_I5.0_F1.9_L100_133844_2_1_2_Fluorescence.hdr in 254.00129590599863s\n",
      "\n",
      "Running GMOdetector version 0.0.855\n",
      "load mode isload_full_then_crop\n",
      "Saving to /home/labgroup/data/gmodetector_out/Elements_10//Transformation/GRF_Poplar/GRF1_Phase_2/wk3/GRF1_I5.0_F1.9_L100_134006_3_1_1_Fluorescence_weights.hdf with key of weights\n",
      "Producing image channel for DsRed with cap 400 in color green\n",
      "Producing image channel for Chl with cap 200 in color red\n",
      "Producing image channel for Diffraction with cap 50 in color blue\n",
      "Saving image to /home/labgroup/data/gmodetector_out/Elements_10//Transformation/GRF_Poplar/GRF1_Phase_2/wk3/GRF1_I5.0_F1.9_L100_134006_3_1_1_Fluorescence.png\n",
      "Saving image metadata to /home/labgroup/data/gmodetector_out/Elements_10//Transformation/GRF_Poplar/GRF1_Phase_2/wk3/GRF1_I5.0_F1.9_L100_134006_3_1_1_Fluorescence.csv\n",
      "\n",
      "Finished running sample /run/media/labgroup/Elements_10//Transformation/GRF_Poplar/GRF1_Phase_2/wk3//GRF1_I5.0_F1.9_L100_134006_3_1_1_Fluorescence.hdr in 201.25549289800074s\n",
      "\n",
      "Running GMOdetector version 0.0.855\n",
      "load mode isload_full_then_crop\n",
      "Saving to /home/labgroup/data/gmodetector_out/Elements_10//Transformation/GRF_Poplar/GRF1_Phase_2/wk3/GRF1_I5.0_F1.9_L100_134108_4_1_0_Fluorescence_weights.hdf with key of weights\n",
      "Producing image channel for DsRed with cap 400 in color green\n",
      "Producing image channel for Chl with cap 200 in color red\n",
      "Producing image channel for Diffraction with cap 50 in color blue\n",
      "Saving image to /home/labgroup/data/gmodetector_out/Elements_10//Transformation/GRF_Poplar/GRF1_Phase_2/wk3/GRF1_I5.0_F1.9_L100_134108_4_1_0_Fluorescence.png\n",
      "Saving image metadata to /home/labgroup/data/gmodetector_out/Elements_10//Transformation/GRF_Poplar/GRF1_Phase_2/wk3/GRF1_I5.0_F1.9_L100_134108_4_1_0_Fluorescence.csv\n",
      "\n",
      "Finished running sample /run/media/labgroup/Elements_10//Transformation/GRF_Poplar/GRF1_Phase_2/wk3//GRF1_I5.0_F1.9_L100_134108_4_1_0_Fluorescence.hdr in 176.81095108000045s\n",
      "\n",
      "Running GMOdetector version 0.0.855\n",
      "load mode isload_full_then_crop\n",
      "Saving to /home/labgroup/data/gmodetector_out/Elements_10//Transformation/GRF_Poplar/GRF1_Phase_2/wk3/GRF1_I5.0_F1.9_L100_134208_5_2_0_Fluorescence_weights.hdf with key of weights\n",
      "Producing image channel for DsRed with cap 400 in color green\n",
      "Producing image channel for Chl with cap 200 in color red\n",
      "Producing image channel for Diffraction with cap 50 in color blue\n",
      "Saving image to /home/labgroup/data/gmodetector_out/Elements_10//Transformation/GRF_Poplar/GRF1_Phase_2/wk3/GRF1_I5.0_F1.9_L100_134208_5_2_0_Fluorescence.png\n",
      "Saving image metadata to /home/labgroup/data/gmodetector_out/Elements_10//Transformation/GRF_Poplar/GRF1_Phase_2/wk3/GRF1_I5.0_F1.9_L100_134208_5_2_0_Fluorescence.csv\n",
      "\n",
      "Finished running sample /run/media/labgroup/Elements_10//Transformation/GRF_Poplar/GRF1_Phase_2/wk3//GRF1_I5.0_F1.9_L100_134208_5_2_0_Fluorescence.hdr in 205.93463150700154s\n",
      "\n",
      "Running GMOdetector version 0.0.855\n",
      "load mode isload_full_then_crop\n",
      "Saving to /home/labgroup/data/gmodetector_out/Elements_10//Transformation/GRF_Poplar/GRF1_Phase_2/wk3/GRF1_I5.0_F1.9_L100_134300_6_2_1_Fluorescence_weights.hdf with key of weights\n",
      "Producing image channel for DsRed with cap 400 in color green\n",
      "Producing image channel for Chl with cap 200 in color red\n",
      "Producing image channel for Diffraction with cap 50 in color blue\n",
      "Saving image to /home/labgroup/data/gmodetector_out/Elements_10//Transformation/GRF_Poplar/GRF1_Phase_2/wk3/GRF1_I5.0_F1.9_L100_134300_6_2_1_Fluorescence.png\n",
      "Saving image metadata to /home/labgroup/data/gmodetector_out/Elements_10//Transformation/GRF_Poplar/GRF1_Phase_2/wk3/GRF1_I5.0_F1.9_L100_134300_6_2_1_Fluorescence.csv\n",
      "\n",
      "Finished running sample /run/media/labgroup/Elements_10//Transformation/GRF_Poplar/GRF1_Phase_2/wk3//GRF1_I5.0_F1.9_L100_134300_6_2_1_Fluorescence.hdr in 234.6156199140005s\n",
      "\n",
      "(test-environment) (test-environment) (jupyter) "
     ]
    }
   ],
   "source": [
    "conda activate test-environment\n",
    "\n",
    "if [ $parallel -eq 1 ]\n",
    "then\n",
    "    parallel -a $job_list_name\n",
    "fi\n",
    "\n",
    "if [ $parallel -eq 0 ]\n",
    "then\n",
    "    bash $job_list_name\n",
    "fi\n",
    "\n",
    "conda deactivate\n",
    "conda deactivate"
   ]
  },
  {
   "cell_type": "markdown",
   "metadata": {},
   "source": [
    "Time regression completes:"
   ]
  },
  {
   "cell_type": "code",
   "execution_count": 36,
   "metadata": {},
   "outputs": [
    {
     "name": "stdout",
     "output_type": "stream",
     "text": [
      "Sun Mar 28 22:59:10 PDT 2021\n"
     ]
    }
   ],
   "source": [
    "echo $(date)"
   ]
  },
  {
   "cell_type": "markdown",
   "metadata": {},
   "source": [
    "## Neural networks to segment tissues, classify missing/contaminated explants"
   ]
  },
  {
   "cell_type": "markdown",
   "metadata": {},
   "source": [
    "### Semantic segmentation of tissues"
   ]
  },
  {
   "cell_type": "markdown",
   "metadata": {},
   "source": [
    "Images are segmented into specific plant tissues by a deep neural network of the state-of-the-art Deeplab v3 architecture <a href=\"https://arxiv.org/abs/1706.05587\" target=\"_blank\">Liang-Chieh et al., 2017</a>. The model has been trained using training sets generated with our annotation GUI Intelligent DEep Annotator for Segmentation (IDEAS, available on <a href=\"https://bitbucket.org/JialinYuan/image-annotator/src/master/\" target=\"_blank\">Bitbucket</a>, publication pending). Our branch of the Deeplab v3 repo, including a Jupyter walkthrough for training, can be found on Github."
   ]
  },
  {
   "cell_type": "markdown",
   "metadata": {},
   "source": [
    "Training is completed upstream of this notebook, which only entails analysis of test data using the latest model."
   ]
  },
  {
   "cell_type": "markdown",
   "metadata": {},
   "source": [
    "<img src=\"Figures/downsized/segmentation_composite2.png\">"
   ]
  },
  {
   "cell_type": "markdown",
   "metadata": {},
   "source": [
    "Figure: This example image was taken from an experiment on the effects of different CIMs on cottonwood regeneration. This composite image illustrates that for every sample, tissues are segmented into stem (red), callus (blue) and shoot (green). These composite images, useful for manual inspection of results, are produced when the 'composite' option is on."
   ]
  },
  {
   "cell_type": "markdown",
   "metadata": {},
   "source": [
    "#### Pre-processing"
   ]
  },
  {
   "cell_type": "markdown",
   "metadata": {},
   "source": [
    "##### Normalize orientation"
   ]
  },
  {
   "cell_type": "markdown",
   "metadata": {},
   "source": [
    "We desire for images to all be in the same orientation. At one point, the camera on the *macroPhor Array* was set to automatically detect orientation, which led to images randomly being in portrait or landscape. Here we will standardize the orientation."
   ]
  },
  {
   "cell_type": "code",
   "execution_count": 37,
   "metadata": {},
   "outputs": [
    {
     "name": "stdout",
     "output_type": "stream",
     "text": [
      "(alignment) (alignment) "
     ]
    }
   ],
   "source": [
    "conda activate alignment\n",
    "for filename in $data/*.jpg; do\n",
    "    exiftool -Orientation=8 -n $filename > ${data}log_exiftool.txt\n",
    "    done\n",
    "conda deactivate\n",
    "conda deactivate"
   ]
  },
  {
   "cell_type": "code",
   "execution_count": 38,
   "metadata": {},
   "outputs": [],
   "source": [
    "rm -f $data/*original*"
   ]
  },
  {
   "cell_type": "markdown",
   "metadata": {},
   "source": [
    "##### Crop and resize"
   ]
  },
  {
   "cell_type": "markdown",
   "metadata": {},
   "source": [
    "This script resizes images to 900x900 and then crops away top and bottom 150 pixels for a final image size of 900x600."
   ]
  },
  {
   "cell_type": "markdown",
   "metadata": {},
   "source": [
    "The purpose for cropping is to remove labels, which has been standard practice for all training and testing. Otherwise, we could run into problems such as the neural network \"learning\" plants labeled as control have more or less regeneration.<br>The purpose for resizing is to reduce computational expense."
   ]
  },
  {
   "cell_type": "code",
   "execution_count": 39,
   "metadata": {},
   "outputs": [],
   "source": [
    "cd ${cwd}/intermediates/"
   ]
  },
  {
   "cell_type": "code",
   "execution_count": 40,
   "metadata": {},
   "outputs": [
    {
     "name": "stdout",
     "output_type": "stream",
     "text": [
      "(base) (base) "
     ]
    }
   ],
   "source": [
    "conda activate base\n",
    "python crop.py $data\n",
    "conda deactivate"
   ]
  },
  {
   "cell_type": "markdown",
   "metadata": {},
   "source": [
    "##### Prepare input list"
   ]
  },
  {
   "cell_type": "markdown",
   "metadata": {},
   "source": [
    "The script `inference.py` requires a list of all files to be analyzed. We will create this file as `test.csv`. This will be a list of all our (pre-processed) image files."
   ]
  },
  {
   "cell_type": "code",
   "execution_count": 41,
   "metadata": {},
   "outputs": [],
   "source": [
    "cd $data\n",
    "ls -d $PWD/* $data | grep -i \"rgb_cropped.jpg\" > test.csv"
   ]
  },
  {
   "cell_type": "markdown",
   "metadata": {},
   "source": [
    "Remove the chroma standard from list of RGB image data to be segmented"
   ]
  },
  {
   "cell_type": "code",
   "execution_count": 42,
   "metadata": {},
   "outputs": [],
   "source": [
    "sed -i '/hroma/d' \"${data}/test.csv\""
   ]
  },
  {
   "cell_type": "markdown",
   "metadata": {},
   "source": [
    "#### Inference"
   ]
  },
  {
   "cell_type": "markdown",
   "metadata": {},
   "source": [
    "The trained model is deployed to perform semantic segmentation of experimental images. A list of RGB images to be segmented by the trained model is passed through the --image-list option. For each of these images, we will obtain an output mask (.png) of labeled tissues"
   ]
  },
  {
   "cell_type": "markdown",
   "metadata": {},
   "source": [
    "Dependencies include `opencv`, `scipy`, `yaml` and `tensorflow` (version 1.14)"
   ]
  },
  {
   "cell_type": "code",
   "execution_count": 43,
   "metadata": {
    "scrolled": true
   },
   "outputs": [
    {
     "name": "stdout",
     "output_type": "stream",
     "text": [
      "(deeplab) WARNING:tensorflow:From inference.py:34: The name tf.gfile.GFile is deprecated. Please use tf.io.gfile.GFile instead.\n",
      "\n",
      "WARNING:tensorflow:From inference.py:35: The name tf.GraphDef is deprecated. Please use tf.compat.v1.GraphDef instead.\n",
      "\n",
      "WARNING:tensorflow:From inference.py:41: The name tf.Session is deprecated. Please use tf.compat.v1.Session instead.\n",
      "\n",
      "2021-03-28 23:00:51.355894: I tensorflow/core/platform/cpu_feature_guard.cc:142] Your CPU supports instructions that this TensorFlow binary was not compiled to use: SSE4.1 SSE4.2 AVX\n",
      "2021-03-28 23:00:51.649299: I tensorflow/core/platform/profile_utils/cpu_utils.cc:94] CPU Frequency: 2494520000 Hz\n",
      "2021-03-28 23:00:51.650379: I tensorflow/compiler/xla/service/service.cc:168] XLA service 0x5583a1559780 executing computations on platform Host. Devices:\n",
      "2021-03-28 23:00:51.650482: I tensorflow/compiler/xla/service/service.cc:175]   StreamExecutor device (0): <undefined>, <undefined>\n",
      "2021-03-28 23:00:57.392787: W tensorflow/compiler/jit/mark_for_compilation_pass.cc:1412] (One-time warning): Not using XLA:CPU for cluster because envvar TF_XLA_FLAGS=--tf_xla_cpu_global_jit was not set.  If you want XLA:CPU, either set that envvar, or use experimental_jit_scope to enable XLA:CPU.  To confirm that XLA is active, pass --vmodule=xla_compilation_cache=1 (as a proper command-line flag, not via TF_XLA_FLAGS) or set the envvar XLA_FLAGS=--xla_hlo_profile.\n",
      "(deeplab) "
     ]
    }
   ],
   "source": [
    "cd $deeplab_path\n",
    "conda activate deeplab\n",
    "python -W ignore inference.py --image-list \"${data}/test.csv\" >> $data/log_inference.txt\n",
    "conda deactivate\n",
    "conda deactivate"
   ]
  },
  {
   "cell_type": "markdown",
   "metadata": {},
   "source": [
    "#### Post-processing"
   ]
  },
  {
   "cell_type": "markdown",
   "metadata": {},
   "source": [
    "Name outputs to reflect that they are segmentation results"
   ]
  },
  {
   "cell_type": "code",
   "execution_count": 44,
   "metadata": {},
   "outputs": [
    {
     "name": "stdout",
     "output_type": "stream",
     "text": [
      "/run/media/labgroup/Elements_10//Transformation/GRF_Poplar/GRF1_Phase_2/wk3/\n"
     ]
    }
   ],
   "source": [
    "echo $data"
   ]
  },
  {
   "cell_type": "code",
   "execution_count": 45,
   "metadata": {},
   "outputs": [],
   "source": [
    "cd $data\n",
    "for file in *_rgb_cropped.png; do mv -f \"$file\" \"${file%_rgb_cropped.png}_segment_cropped.png\"; done"
   ]
  },
  {
   "cell_type": "markdown",
   "metadata": {},
   "source": [
    "Re-expand segment outputs to same size as original RGB files"
   ]
  },
  {
   "cell_type": "markdown",
   "metadata": {},
   "source": [
    "Dependencies include `scikit-image`"
   ]
  },
  {
   "cell_type": "code",
   "execution_count": 46,
   "metadata": {},
   "outputs": [
    {
     "name": "stdout",
     "output_type": "stream",
     "text": [
      "(alignment) (alignment) (alignment) "
     ]
    }
   ],
   "source": [
    "conda activate alignment\n",
    "cd $alignment_path\n",
    "python expand.py $data >> $data/log_expand.txt\n",
    "conda deactivate"
   ]
  },
  {
   "cell_type": "markdown",
   "metadata": {},
   "source": [
    "Make composite images with side-by-side RGB, segmentation outputs and blended images"
   ]
  },
  {
   "cell_type": "code",
   "execution_count": 47,
   "metadata": {},
   "outputs": [
    {
     "name": "stdout",
     "output_type": "stream",
     "text": [
      "(test-environment) (test-environment) "
     ]
    }
   ],
   "source": [
    "conda activate test-environment\n",
    "if [ $composite -eq 1 ]\n",
    "then\n",
    "    cd $gmolabeler_path\n",
    "    python image_blender.py $data 0.75 'both' 1 180 >> $data/log_blend.txt\n",
    "fi\n",
    "conda deactivate"
   ]
  },
  {
   "cell_type": "markdown",
   "metadata": {},
   "source": [
    "### Classification of contaminated/missing explants"
   ]
  },
  {
   "cell_type": "markdown",
   "metadata": {},
   "source": [
    "Plates are cropped into sub-images for each explant and each is analyzed to determine if the explant position should be excluded from analysis due to being missing or contamination. Missing and contaminated explants are recognized using a trained Densenet model (<a href=\"https://github.com/Contamination-Classification/DenseNet\" target=\"_blank\">Huang, et al. 2018</a>). Our fork of the Densenet repository is available on <a href=\"https://arxiv.org/abs/1608.06993\" target=\"_blank\">GitHub</a>."
   ]
  },
  {
   "cell_type": "markdown",
   "metadata": {},
   "source": [
    "<img src=\"Figures/Densenet.png\">\n",
    "Figure: These are four examples of contaminated explants used in the training set for this pre-trained model"
   ]
  },
  {
   "cell_type": "markdown",
   "metadata": {},
   "source": [
    "To check the grid cropping dimensions, we can run the following script. Note that these are the dimensions to crop the image to after resizing to 2000x2000 (from 4000x4000 in the case of the *macroPhor Array)."
   ]
  },
  {
   "cell_type": "markdown",
   "metadata": {},
   "source": [
    "#### Prepare list of images"
   ]
  },
  {
   "cell_type": "code",
   "execution_count": 48,
   "metadata": {},
   "outputs": [
    {
     "name": "stdout",
     "output_type": "stream",
     "text": [
      "Missing explants input manually by user, in file: \n",
      "/run/media/labgroup/Elements_10//Transformation/GRF_Poplar/GRF1_Phase_2/wk3/missing_explants.csv\n"
     ]
    }
   ],
   "source": [
    "if [ $missing_explants = \"Automatic\" ]; then\n",
    "    echo \"Missing explants will be inferred.\"\n",
    "    cd $data\n",
    "    ls -d $PWD/* $data | grep -i \"rgb.jpg\" > rgb_list.txt\n",
    "    sed -i '/hroma/d' rgb_list.txt\n",
    "    img_list_path=\"${data}/rgb_list.txt\"\n",
    "else\n",
    "    echo \"Missing explants input manually by user, in file: \"\n",
    "    echo $missing_explants\n",
    "fi"
   ]
  },
  {
   "cell_type": "markdown",
   "metadata": {},
   "source": [
    "If the mode for missing explant data is automatic, prepare input file for script to detect missing explants and run this script."
   ]
  },
  {
   "cell_type": "markdown",
   "metadata": {},
   "source": [
    "#### Check dimensions for grid cropping"
   ]
  },
  {
   "cell_type": "markdown",
   "metadata": {},
   "source": [
    "The models to detect contamination and missing explants require a user input to define the pixel boundaries of the grid along which explants are placed. Note that currently, only the 12-explant grid is supported. To use other grids, contamination and missing explant data must be provided manually in a file formatted just like an output from this script."
   ]
  },
  {
   "cell_type": "markdown",
   "metadata": {},
   "source": [
    "When running `inference.py` to detect missing or contaminated explants, the user should provide dimensions for cropping down to the grid borders. Note, these dimensions apply after the image is rescaled to 2000x2000.\n",
    "- Default dimensions, used before the imager began to take \"off-center\" images, are (310, 515, 1750, 1610).\n",
    "- Dimensions for cropping for the off-center images are (260, 600, 1700, 1710). \n",
    "- New dimensions (275, 438, 1725, 1535) are for images taken after camera settings were re-centered.<br>\n",
    "\n",
    "We can test dimensions using the `--debug` option for `inference.py` as in the below code block. Next, we will run the same script in the regular mode to detect missing and contaminated explants using settled-upon cropping dimensions."
   ]
  },
  {
   "cell_type": "markdown",
   "metadata": {},
   "source": [
    "Uncomment and run this code block only if you wish to troubleshoot cropping."
   ]
  },
  {
   "cell_type": "code",
   "execution_count": 49,
   "metadata": {},
   "outputs": [],
   "source": [
    "# if [ $missing_explants = \"Automatic\" ]; then\n",
    "#     cd $contamination_path\n",
    "#     conda activate densenet\n",
    "#     python inference.py --img-list=$img_list_path --crop_dims \"(275,438,1725,1535)\" --debug\n",
    "#     conda deactivate\n",
    "# else\n",
    "#     echo \"Missing explants input manually by user, in file: \"\n",
    "#     echo $missing_explants\n",
    "# fi"
   ]
  },
  {
   "cell_type": "markdown",
   "metadata": {},
   "source": [
    "The outputs will be saved in this folder and can be evaluated to check how well the cropping worked."
   ]
  },
  {
   "cell_type": "code",
   "execution_count": 50,
   "metadata": {},
   "outputs": [],
   "source": [
    "# echo $contamination_path"
   ]
  },
  {
   "cell_type": "markdown",
   "metadata": {},
   "source": [
    "#### Infer contaminated/missing explants"
   ]
  },
  {
   "cell_type": "markdown",
   "metadata": {},
   "source": [
    "Dependencies include `keras-preprocessing`, `termcolor`,  `protobuf` and `absl-py`"
   ]
  },
  {
   "cell_type": "code",
   "execution_count": 51,
   "metadata": {
    "slideshow": {
     "slide_type": "slide"
    }
   },
   "outputs": [
    {
     "name": "stdout",
     "output_type": "stream",
     "text": [
      "Missing explants input manually by user, in file: \n",
      "/run/media/labgroup/Elements_10//Transformation/GRF_Poplar/GRF1_Phase_2/wk3/missing_explants.csv\n"
     ]
    }
   ],
   "source": [
    "if [ $missing_explants = \"Automatic\" ]; then\n",
    "    cd $contamination_path\n",
    "    conda activate densenet\n",
    "    python -W ignore inference.py \\\n",
    "    --img-list=$img_list_path \\\n",
    "    --crop_dims $pre_aligned_resized_grid_borders \\\n",
    "    --output_file=output.csv >> $data/log_contam.txt\n",
    "    mv -f output.csv \"${data}/output.csv\"\n",
    "    missing_explants=\"${data}/output.csv\"\n",
    "    echo \"Missing explants inferred by model and written to file:\"\n",
    "    echo $missing_explants\n",
    "    conda deactivate\n",
    "else\n",
    "    echo \"Missing explants input manually by user, in file: \"\n",
    "    echo $missing_explants\n",
    "fi"
   ]
  },
  {
   "cell_type": "markdown",
   "metadata": {},
   "source": [
    "## Alignment of RGB and hyperspectral layers"
   ]
  },
  {
   "cell_type": "markdown",
   "metadata": {},
   "source": [
    "<div class=\"alert alert-block alert-info\"><b>Tip:</b> This section of the workflow must be run regardless of whether a homography matrix for alignment has been provided or will be generated.</div>"
   ]
  },
  {
   "cell_type": "markdown",
   "metadata": {},
   "source": [
    "To match the frame and angle of RGB and hyperspectral image layers, we apply a scale-invariant feature transformation (<a href=\"https://github.com/NSF-Image-alignment/ImageAlignment\" target=\"_blank\">GitHub</a>). Using a pair of standard images, a homography matrix is calculated for the necessary transformation of RGB images to align with hyperspectral images. The transformation can then be applied to large batches of images rapidly, as long as the RGB and hyperspectral cameras remain in the same positions relative to one another (as they do in the macroPhor Array platform)"
   ]
  },
  {
   "cell_type": "markdown",
   "metadata": {},
   "source": [
    "<img src=\"Figures/Alignment.png\">\n",
    "Figure: To enable precise calculation of a homography matrix for transformation of RGB images to match hyperspectral images, we used images of a piece of paper with grid marks. These images are provided by the user inputs to --hyper-img and --rgb-img in the below call to the alignment script. If using a phenotyping platform other than the macroPhor Array, or using updated camera settings, these variables will need to be replaced."
   ]
  },
  {
   "cell_type": "markdown",
   "metadata": {},
   "source": [
    "### Prepare file lists for alignment"
   ]
  },
  {
   "cell_type": "markdown",
   "metadata": {},
   "source": [
    "<div class=\"alert alert-block alert-info\"><b>Tip:</b> We will produce two lists: one for hyperspectral channels (chlorophyll peak channel) for each sample and another for the complementary RGB images. We will superimpose them and produce images for inspection, allowing the user to make sure the alignment works reliably for all images. However, it is possible to replace the hyperspectral channels for each image with a single file; this would run more quickly but be less useful for allowing the user to validate alignment results.</div>"
   ]
  },
  {
   "cell_type": "markdown",
   "metadata": {},
   "source": [
    "We need to produce a csv with two columns with headers `hyper_img` and `rgb_images`. For each RGB image being transformed in batch alignment (mode 2), we can test the alignment by producing superimposed images of the transformed RGB images together with a hyperspectral layer. The hyperspectral layer can either be for a grid (fast) or can be for a layer extracted from the hyperspectral image of each channel (slow, but useful for making sure a certain homography matrix works reliably to transform a batch of images)."
   ]
  },
  {
   "cell_type": "markdown",
   "metadata": {},
   "source": [
    "Let's first generate the list that will go into the column `rgb_images`"
   ]
  },
  {
   "cell_type": "code",
   "execution_count": 52,
   "metadata": {},
   "outputs": [],
   "source": [
    "cd $data\n",
    "ls | grep -i 'rgb\\.jpg' > file_list_part1.csv\n",
    "ls | grep -i 'segment_uncropped\\.png' > file_list_part2.csv\n",
    "cat file_list_part* > file_list.csv\n",
    "# sed -i '/hroma/d' file_list.csv\n",
    "cwd2=$(pwd)/\n",
    "awk -v prefix=\"$cwd2\" '{print prefix $0}' file_list.csv > temp\n",
    "mv -f temp file_list.csv\n",
    "echo 'rgb_images' | cat - file_list.csv > temp && mv -f temp file_list.csv"
   ]
  },
  {
   "cell_type": "markdown",
   "metadata": {},
   "source": [
    "Now to modify the list going into the `rgb_images` column to produce the list of filenames for `hyper_img`:"
   ]
  },
  {
   "cell_type": "code",
   "execution_count": 53,
   "metadata": {},
   "outputs": [],
   "source": [
    "cp file_list.csv file_list_hyper_channel.csv\n",
    "sed -i 's/_rgb.jpg/_hyperchannel.csv/g' file_list_hyper_channel.csv\n",
    "sed -i 's/rgb_images/hyper_img/g' file_list_hyper_channel.csv\n",
    "sed -i 's/_segment_uncropped.png/_hyperchannel.csv/g' file_list_hyper_channel.csv\n"
   ]
  },
  {
   "cell_type": "markdown",
   "metadata": {},
   "source": [
    "Bind these columns together..."
   ]
  },
  {
   "cell_type": "code",
   "execution_count": 54,
   "metadata": {},
   "outputs": [],
   "source": [
    "paste --delimiters=',' file_list_hyper_channel.csv file_list.csv > rgb_and_hyper_channel_lists.csv"
   ]
  },
  {
   "cell_type": "markdown",
   "metadata": {},
   "source": [
    "### Generate a homography matrix for alignment if one is not provided."
   ]
  },
  {
   "cell_type": "markdown",
   "metadata": {},
   "source": [
    "<div class=\"alert alert-block alert-info\"><b>Tip:</b> This section is only needed if a homography matrix has not been provided and must be generated. In this section, a hyperspectral channel is extracted from the standard to be used for alignment with the complementary RGB image.</div>"
   ]
  },
  {
   "cell_type": "markdown",
   "metadata": {},
   "source": [
    "If using this method, we should have RGB and hyperspectral images of a grid. Here, we will assume they have \"grid\" in their name and can be found in the same folder as the sample images."
   ]
  },
  {
   "cell_type": "markdown",
   "metadata": {},
   "source": [
    "We will generate a homography matrix for alignment of the grid images (RGB and hyperspectral) because these align more robustly than images of plants. We will then apply this homography matrix to alignment of all RGB plant images, so that they will align with the respective hyperspectral images. Note, for this approach to work the relative positions and angles of RGB/hyperspectral cameras must be the same for all image pairs."
   ]
  },
  {
   "cell_type": "code",
   "execution_count": 55,
   "metadata": {},
   "outputs": [],
   "source": [
    "cd $data"
   ]
  },
  {
   "cell_type": "code",
   "execution_count": 56,
   "metadata": {},
   "outputs": [
    {
     "name": "stdout",
     "output_type": "stream",
     "text": [
      "Homography matrix to be generated by alignment of:\n",
      "chromagrid_I5.0_F1.9_L100_170217_0_0_0_Fluorescence.hdr\n",
      "chromagrid_I5.0_F1.9_L100_170217_0_0_0_rgb.jpg\n",
      "Reading hyperspectral image /run/media/labgroup/Elements_10//Transformation/GRF_Poplar/GRF1_Phase_2/wk3/chromagrid_I5.0_F1.9_L100_170217_0_0_0_Fluorescence.hdr\n",
      "/home/labgroup/anaconda3/envs/test-environment/lib/python3.7/site-packages/spectral/io/envi.py:175: UserWarning: Parameters with non-lowercase names encountered and converted to lowercase. To retain source file parameter name capitalization, set spectral.settings.envi_support_nonlowercase_params to True.\n",
      "  warnings.warn(msg)\n",
      "Extracting channel at index 130\n",
      "Writing channel matrix to /run/media/labgroup/Elements_10//Transformation/GRF_Poplar/GRF1_Phase_2/wk3/hypercube_to_csv.csv\n",
      "Making image for inspection and writing to /run/media/labgroup/Elements_10//Transformation/GRF_Poplar/GRF1_Phase_2/wk3/hypercube_to_csv.jpg\n",
      "------------Preprocess is saved and finished.-------------------\n",
      "Homography : \n",
      " [[ 1.17765221e+00 -2.25983104e-03 -1.04288721e+02]\n",
      " [-7.45084635e-03  1.00089954e+00 -1.03821874e+02]\n",
      " [-4.30252188e-07 -3.62436568e-06  1.00000000e+00]]\n",
      "\n",
      "Saving aligned image and homography matrix at:\n",
      "output/chromagrid_I5.0_F1.9_L100_170217_0_0_0_rgb\n"
     ]
    }
   ],
   "source": [
    "if [ $homography = \"Automatic\" ]; then\n",
    "    grid_hdr=$(ls $data | grep -i \"grid\" | grep -i \"hdr\")\n",
    "    grid_jpg=$(ls $data | grep -i \"grid\" | grep -i \"rgb.jpg\")\n",
    "    echo \"Homography matrix to be generated by alignment of:\"\n",
    "    echo $grid_hdr\n",
    "    echo $grid_jpg\n",
    "    conda activate test-environment\n",
    "    cd $alignment_path\n",
    "    python hypercube_to_csv.py \\\n",
    "    $data$grid_hdr \\\n",
    "    700 \\\n",
    "    130 \\\n",
    "    $data\"hypercube_to_csv.csv\" \\\n",
    "    $data\"hypercube_to_csv.jpg\"\n",
    "    conda deactivate\n",
    "    aligned_grid=$(echo $grid_jpg | sed 's/rgb/rgb_aligned/g')\n",
    "    aligned_grid=${alignment_path}output/$aligned_grid\n",
    "    conda activate alignment\n",
    "    cd $alignment_path\n",
    "    python main.py \\\n",
    "    --hyper-img $data\"hypercube_to_csv.csv\" \\\n",
    "    --rgb-img $data$grid_jpg \\\n",
    "    --mode 1 \\\n",
    "    --image_thresh_high=120 \\\n",
    "    --image_thresh_low=50 \\\n",
    "    --distance=$distance \\\n",
    "    --gaussian_sigma=$gaussian_sigma\n",
    "    conda deactivate\n",
    "    homography=$(echo $grid_jpg | sed 's/\\.jpg/_homography.npy/g')\n",
    "    homography=${alignment_path}output/$homography\n",
    "    hypercube_csv=\"${data}hypercube_to_csv.csv\"\n",
    "else\n",
    "    echo \"Homography matrix provided by user at:\"\n",
    "    echo ${gmolabeler_path}output/$homography\n",
    "fi"
   ]
  },
  {
   "cell_type": "markdown",
   "metadata": {},
   "source": [
    "<div class=\"alert alert-block alert-info\"><b>Tip:</b> We can visualize the extracted hyperspectral channel to make sure there is a signal and everything looks good.</div>"
   ]
  },
  {
   "cell_type": "code",
   "execution_count": 57,
   "metadata": {},
   "outputs": [],
   "source": [
    "# display < $data\"hypercube_to_csv.jpg\""
   ]
  },
  {
   "cell_type": "markdown",
   "metadata": {},
   "source": [
    "<div class=\"alert alert-block alert-info\"><b>Tip:</b> We can also inspect the alignment to make sure image layers stack and align well.</div>"
   ]
  },
  {
   "cell_type": "code",
   "execution_count": 58,
   "metadata": {},
   "outputs": [],
   "source": [
    "# display < output/$aligned"
   ]
  },
  {
   "cell_type": "markdown",
   "metadata": {},
   "source": [
    "### Generate `csv` of hyperspectral channel for every image in dataset"
   ]
  },
  {
   "cell_type": "code",
   "execution_count": 59,
   "metadata": {},
   "outputs": [],
   "source": [
    "hdr_files=$data/*.hdr"
   ]
  },
  {
   "cell_type": "code",
   "execution_count": 60,
   "metadata": {},
   "outputs": [
    {
     "name": "stdout",
     "output_type": "stream",
     "text": [
      "(test-environment) (test-environment) "
     ]
    }
   ],
   "source": [
    "cd $alignment_path\n",
    "conda activate test-environment\n",
    "for hdr_file in $hdr_files\n",
    "do\n",
    " csv_file=$(sed 's/Fluorescence.hdr/hyperchannel.csv/g' <<< $hdr_file)\n",
    " csv_file=$(sed 's/.hdr/_hyperchannel.csv/g' <<< $csv_file)\n",
    " csv_jpg=$(sed 's/csv/jpg/g' <<< $csv_file)\n",
    " python -W ignore hypercube_to_csv.py \\\n",
    " $hdr_file \\\n",
    " 300 \\\n",
    " 219 \\\n",
    " $csv_file \\\n",
    " $csv_jpg >> ${data}log_hypercube2csv.txt\n",
    "done\n",
    "conda deactivate"
   ]
  },
  {
   "cell_type": "markdown",
   "metadata": {},
   "source": [
    "### Run batch alignment to apply homography matrix to all images"
   ]
  },
  {
   "cell_type": "code",
   "execution_count": 61,
   "metadata": {},
   "outputs": [
    {
     "name": "stdout",
     "output_type": "stream",
     "text": [
      "(alignment) (alignment) (alignment) (alignment) "
     ]
    }
   ],
   "source": [
    "conda activate alignment\n",
    "cd $alignment_path\n",
    "file_list_input=\"${data}/rgb_and_hyper_channel_lists.csv\"\n",
    "python main.py \\\n",
    "--hyper-img $hypercube_csv \\\n",
    "--img-csv $file_list_input \\\n",
    "--mode 2 \\\n",
    "--h_matrix_path $homography >> $data/log_alignment_mode2.txt\n",
    "conda deactivate\n",
    "conda deactivate"
   ]
  },
  {
   "cell_type": "markdown",
   "metadata": {},
   "source": [
    "## Cross-analyze deep segmentation and regression results"
   ]
  },
  {
   "cell_type": "markdown",
   "metadata": {},
   "source": [
    "Scripts in the <a href=\"https://github.com/naglemi/GMOlabeler\" target=\"_blank\">GMOlabeler repository</a> are used to cross-reference results from deep segmentation of RGB images and regression of hyperspectral imaging, apply thresholding parameters to classify tissues as transgenic or escapes, and produce plots."
   ]
  },
  {
   "cell_type": "markdown",
   "metadata": {},
   "source": [
    "<img src=\"Figures/GMOlabeler.png\">"
   ]
  },
  {
   "cell_type": "markdown",
   "metadata": {},
   "source": [
    "Figure: The various steps of data processing in GMOlabeler are illustrated for an example explant from an experiment on CIM optimization for cottonwood. Images of plates are cropped to a sub-image for each explant. RGB segmentation results and hyperspectral regression results are cross-referenced to calculate fluorecent proteins in specific tissues and infer whether these tissues are transgenic."
   ]
  },
  {
   "cell_type": "markdown",
   "metadata": {},
   "source": [
    "### Prepare sample datasheet input"
   ]
  },
  {
   "cell_type": "markdown",
   "metadata": {},
   "source": [
    "Prepare input file we will use for making plots. This file contains paths to CLS results, RGB images, and hyperspectral images."
   ]
  },
  {
   "cell_type": "code",
   "execution_count": 62,
   "metadata": {},
   "outputs": [
    {
     "name": "stdout",
     "output_type": "stream",
     "text": [
      "(gmolabeler) (gmolabeler) [1] \"”2021-03-28”\"\n",
      "[1] \"Looking for CLS data in: /home/labgroup/data/gmodetector_out/Elements_10//Transformation/GRF_Poplar/GRF1_Phase_2/wk3//\"\n",
      "[1] \"2021-03-28\"\n",
      "[1] \"Looking for CLS files in directory /home/labgroup/data/gmodetector_out/Elements_10//Transformation/GRF_Poplar/GRF1_Phase_2/wk3//\"\n",
      "[1] \"How many CLS files? 25\"\n",
      "[1] \"We will only include in analysis the FINAL of multiple images for GRF1_2_1\"\n",
      "[1] \"We will only include in analysis the FINAL of multiple images for GRF1_2_0\"\n",
      "[1] \"We will only include in analysis the FINAL of multiple images for GRF1_1_0\"\n",
      "[1] \"We will only include in analysis the FINAL of multiple images for GRF1_1_1\"\n",
      "[1] \"We will only include in analysis the FINAL of multiple images for GRF1_1_2\"\n",
      "[1] \"We will only include in analysis the FINAL of multiple images for GRF1_0_6\"\n",
      "[1] \"We will only include in analysis the FINAL of multiple images for GRF1_0_5\"\n",
      "[1] \"Writing 18 rows to /run/media/labgroup/Elements_10//Transformation/GRF_Poplar/GRF1_Phase_2/wk3///samples_pre_labeling.csv\"\n",
      "(gmolabeler) "
     ]
    }
   ],
   "source": [
    "conda activate gmolabeler\n",
    "cd \"${cwd}/intermediates/\"\n",
    "Rscript pre_label.R \\\n",
    "-r \"${data}/\" \\\n",
    "-R \"${output_directory_prefix}\" \\\n",
    "-i 1 \\\n",
    "-d $datestamp\n",
    "conda deactivate"
   ]
  },
  {
   "cell_type": "markdown",
   "metadata": {},
   "source": [
    "### Cross-reference RGB and hyperspectral data"
   ]
  },
  {
   "cell_type": "markdown",
   "metadata": {},
   "source": [
    "On 1/11/20, we altered `gmolabeler` to accept user-defined borders of the grid box, rather than hardcoding these borders in for specific grids with 12 or 20 explants. Thus, if providing `grid_borders`, `grid` can be left as `None`, or vice versa. To determine the borders, open the *aligned* grid file in a GUI like GIMP or Microsoft Paint and use the crosshairs to find the pixel positions of each border. These are then provided through the `grid_borders` parameter in order \"top bottom right left\"."
   ]
  },
  {
   "cell_type": "markdown",
   "metadata": {},
   "source": [
    "Some notes on grid copping parameters:\n",
    "- Submit a space-delimited string with parameters for borders of grid as \"left right bottom top\"\n",
    "- For FAA wk3, use parameters \"139 1580 1250 312\"\n",
    "- For FAA wk7 and FAD wk7, use \"156 1600 1280 335\"\n",
    "- For all images taken after re-centering of camera settings on 1/18/21, use \"152 1592 1200 260\" if images are of high resolution (2GB hyperspectral files) or \"110 1356 1168 222\" if of normal resolution (1.3GB hyperspectral files)"
   ]
  },
  {
   "cell_type": "code",
   "execution_count": 63,
   "metadata": {},
   "outputs": [
    {
     "name": "stdout",
     "output_type": "stream",
     "text": [
      "/run/media/labgroup/Elements_10//Transformation/GRF_Poplar/GRF1_Phase_2/wk3//samples_pre_labeling.csv\n"
     ]
    }
   ],
   "source": [
    "echo ${data}/samples_pre_labeling.csv"
   ]
  },
  {
   "cell_type": "code",
   "execution_count": 64,
   "metadata": {},
   "outputs": [
    {
     "name": "stdout",
     "output_type": "stream",
     "text": [
      "/home/labgroup/code/ImageAlignment/output/chromagrid_I5.0_F1.9_L100_170217_0_0_0_rgb_aligned.jpg\n"
     ]
    }
   ],
   "source": [
    "echo $aligned_grid"
   ]
  },
  {
   "cell_type": "code",
   "execution_count": 65,
   "metadata": {},
   "outputs": [
    {
     "name": "stdout",
     "output_type": "stream",
     "text": [
      "0 1705 1210 212\n"
     ]
    }
   ],
   "source": [
    "echo $aligned_grid_borders"
   ]
  },
  {
   "cell_type": "code",
   "execution_count": 66,
   "metadata": {},
   "outputs": [
    {
     "name": "stdout",
     "output_type": "stream",
     "text": [
      "(gmolabeler) (gmolabeler) (gmolabeler) "
     ]
    }
   ],
   "source": [
    "conda activate gmolabeler\n",
    "cd $gmolabeler_path\n",
    "python main.py \\\n",
    "\"${data}/samples_pre_labeling.csv\" \\\n",
    "$aligned_grid \\\n",
    "$reporter_threshold \\\n",
    "$reporter \\\n",
    "$grid \\\n",
    "\"hdf\" \\\n",
    "$gmolabeler_path \\\n",
    "\"$aligned_grid_borders\" > $data/log_gmolabeler.txt\n",
    "conda deactivate"
   ]
  },
  {
   "cell_type": "markdown",
   "metadata": {},
   "source": [
    "### Calculate sums of statistics over combined segments"
   ]
  },
  {
   "cell_type": "markdown",
   "metadata": {},
   "source": [
    "We are interested in all regenerated tissue (callus + shoot) as well as all tissue (including stem as well). We will calculate aggregate statistics over these groups."
   ]
  },
  {
   "cell_type": "code",
   "execution_count": 67,
   "metadata": {},
   "outputs": [
    {
     "name": "stdout",
     "output_type": "stream",
     "text": [
      "(gmolabeler) [1] \"Writing output with sums statistics calculated over combined tissue segments to: /home/labgroup/code/GMOlabeler//output/Elements_10//Transformation/GRF_Poplar/GRF1_Phase_2/wk3//stats_with_sums_over_tissues.csv\"\n",
      "(gmolabeler) "
     ]
    }
   ],
   "source": [
    "conda activate gmolabeler\n",
    "Rscript calculate_sum_stats_over_combined_segments.R \\\n",
    "--output_dir \"${gmolabeler_path}/output/\" \\\n",
    "--datapath \"${data_folder}/\"\n",
    "conda deactivate"
   ]
  },
  {
   "cell_type": "markdown",
   "metadata": {},
   "source": [
    "### Make plots of results"
   ]
  },
  {
   "cell_type": "code",
   "execution_count": 68,
   "metadata": {
    "scrolled": true
   },
   "outputs": [
    {
     "name": "stdout",
     "output_type": "stream",
     "text": [
      "(gmolabeler) (gmolabeler) Warning message:\n",
      "In storage.mode(default) <- type : NAs introduced by coercion\n",
      "[1] \"Saving list of input arguments to : /home/labgroup/code/GMOlabeler/plots/Elements_10//Transformation/GRF_Poplar/GRF1_Phase_2/wk3//gridplot_args.rds\"\n",
      "[1] \"Reading in output from GMOlabeler at path: /home/labgroup/code/GMOlabeler/output/Elements_10//Transformation/GRF_Poplar/GRF1_Phase_2/wk3//stats_with_sums_over_tissues.csv\"\n",
      "\n",
      "[1] \"Rows in output from GMOlabeler: 1708\"\n",
      "\n",
      "[1] \"Max n_pixels_passing_threshold in output from GMOlabeler: 2698\"\n",
      "\n",
      "[1] \"Max total_signal in output from GMOlabeler: 1315456.16547483\"\n",
      "\n",
      "[1] \"Look at the top of output from GMOlabeler\"\n",
      "[1] \"\"                                                                                                                  \n",
      "[2] \"/run/media/labgroup/Elements_10//Transformation/GRF_Poplar/GRF1_Phase_2/wk3///GRF1_I5.0_F1.9_L100_134300_6_2_1.png\"\n",
      "[3] \"/run/media/labgroup/Elements_10//Transformation/GRF_Poplar/GRF1_Phase_2/wk3///GRF1_I5.0_F1.9_L100_134300_6_2_1.png\"\n",
      "[4] \"/run/media/labgroup/Elements_10//Transformation/GRF_Poplar/GRF1_Phase_2/wk3///GRF1_I5.0_F1.9_L100_134300_6_2_1.png\"\n",
      "[5] \"/run/media/labgroup/Elements_10//Transformation/GRF_Poplar/GRF1_Phase_2/wk3///GRF1_I5.0_F1.9_L100_134300_6_2_1.png\"\n",
      "[6] \"/run/media/labgroup/Elements_10//Transformation/GRF_Poplar/GRF1_Phase_2/wk3///GRF1_I5.0_F1.9_L100_134300_6_2_1.png\"\n",
      "\n",
      "[1] \"Look at the top of missing explant data\"\n",
      "# A tibble: 6 x 3\n",
      "  filename                             grid_item present\n",
      "  <chr>                                <chr>     <chr>  \n",
      "1 GRF1_I5.0_F1.9_L100_130957_1_0_1_rgb 1         NC     \n",
      "2 GRF1_I5.0_F1.9_L100_130957_1_0_1_rgb 2         NC     \n",
      "3 GRF1_I5.0_F1.9_L100_130957_1_0_1_rgb 3         NC     \n",
      "4 GRF1_I5.0_F1.9_L100_130957_1_0_1_rgb 4         NC     \n",
      "5 GRF1_I5.0_F1.9_L100_130957_1_0_1_rgb 5         NC     \n",
      "6 GRF1_I5.0_F1.9_L100_130957_1_0_1_rgb 6         NC     \n",
      "\n",
      "[1] \"Look at the head of filenames for missing explant data\"\n",
      "[1] \"GRF1_I5.0_F1.9_L100_130957_1_0_1_rgb\"\n",
      "[2] \"GRF1_I5.0_F1.9_L100_130957_1_0_1_rgb\"\n",
      "[3] \"GRF1_I5.0_F1.9_L100_130957_1_0_1_rgb\"\n",
      "[4] \"GRF1_I5.0_F1.9_L100_130957_1_0_1_rgb\"\n",
      "[5] \"GRF1_I5.0_F1.9_L100_130957_1_0_1_rgb\"\n",
      "[6] \"GRF1_I5.0_F1.9_L100_130957_1_0_1_rgb\"\n",
      "\n",
      "[1] \"Look at the colnames of output from GMOlabeler\"\n",
      " [1] \"V1\"                         \"filename\"                  \n",
      " [3] \"grid_item\"                  \"segment_hex\"               \n",
      " [5] \"intensity_threshold\"        \"n_pixels_passing_threshold\"\n",
      " [7] \"mean_signal\"                \"max_signal\"                \n",
      " [9] \"total_signal\"               \"total_pixels\"              \n",
      "\n",
      "[1] \"Look at the colnames of missing explant data\"\n",
      "[1] \"filename\"  \"grid_item\" \"present\"  \n",
      "\n",
      "[1] \"Before merging the GMOlabeler and missing output data, they have rows of 1708 and 220 respectively.\"\n",
      "\n",
      "[1] \"After merging but before removing missing/contminated explants, merged output has 1708 rows.\"\n",
      "\n",
      "[1] \"After removing the missing/contaminated explants, merged output has 1708\"\n",
      "\n",
      "[1] \"Afer processing GMOlabeler output to merge with missing explant data, Head of data (w/ first 5 col): \"\n",
      "                               filename grid_item          V1 segment_hex\n",
      "1:                                           <NA> observation            \n",
      "2: GRF1_I5.0_F1.9_L100_130910_0_0_0.png         1 observation      00CC11\n",
      "3: GRF1_I5.0_F1.9_L100_130910_0_0_0.png         1 observation      0006CC\n",
      "4: GRF1_I5.0_F1.9_L100_130910_0_0_0.png         1 observation      CC0000\n",
      "5: GRF1_I5.0_F1.9_L100_130910_0_0_0.png         1 observation  All_tissue\n",
      "   intensity_threshold\n",
      "1:                  NA\n",
      "2:                  38\n",
      "3:                  38\n",
      "4:                  38\n",
      "5:                  NA\n",
      "Warning! This dataset contains multiple explant types. We will only analyze stem explants.\n",
      "[1] \"Randomization datasheet contains levels of tissue type: \"\n",
      "[1] \"L\" \"S\"\n",
      "[1] \"Nrow before subsetting to stem only: 18\"\n",
      "[1] \"Nrow after subsetting to stem only: 8\"\n",
      "[1] \"Upon loading randomization_datasheet, it has how many rows? 8\"\n",
      "\n",
      "[1] \"Calculating total numbers of missing explants per plate\"\n",
      "[1] \"Let's figure out why contaminated/missing plates are being said to have 0 instead of NA\"\n",
      "\n",
      "[1] \"Dimensions of missing explant data with totals\"\n",
      "[1] 11 22\n",
      "[1] \"Minimum number of explants on any plate after removing missing and contaminated explants is...\"\n",
      "[1] 13\n",
      "                              image_name 1 2 3 4 5 6 7 8 9 10 11 12 13 14 15 16\n",
      "1:  GRF1_I5.0_F1.9_L100_130957_1_0_1_rgb 1 1 1 1 1 1 1 1 1  1  1  1  1  1  1  1\n",
      "2:  GRF1_I5.0_F1.9_L100_131058_2_0_2_rgb 1 1 1 1 1 1 1 1 1  1  1  1  1  1  1  1\n",
      "3:  GRF1_I5.0_F1.9_L100_131303_4_0_4_rgb 1 1 1 1 1 1 1 1 1  1  1  1  1  1  1  1\n",
      "4:  GRF1_I5.0_F1.9_L100_131613_7_1_6_rgb 1 1 1 1 1 1 1 1 1  1  1  1  1  0  0  0\n",
      "5:  GRF1_I5.0_F1.9_L100_131808_9_1_4_rgb 1 1 1 1 1 1 1 1 1  1  1  1  1  0  0  0\n",
      "6: GRF1_I5.0_F1.9_L100_132012_11_1_2_rgb 1 1 1 1 1 1 1 1 1  1  1  1  1  1  1  1\n",
      "   17 18 19 20 total_explants\n",
      "1:  1  0  0  0             17\n",
      "2:  1  0  0  0             17\n",
      "3:  1  0  0  0             17\n",
      "4:  0  0  0  0             13\n",
      "5:  0  0  0  0             13\n",
      "6:  1  1  0  0             18\n",
      "\n",
      "[1] \"About to add IDs to missing explant data based on filenames. Here is head of filenames.\"\n",
      "[1] \"GRF1_I5.0_F1.9_L100_130957_1_0_1\"  \"GRF1_I5.0_F1.9_L100_131058_2_0_2\" \n",
      "[3] \"GRF1_I5.0_F1.9_L100_131303_4_0_4\"  \"GRF1_I5.0_F1.9_L100_131613_7_1_6\" \n",
      "[5] \"GRF1_I5.0_F1.9_L100_131808_9_1_4\"  \"GRF1_I5.0_F1.9_L100_132012_11_1_2\"\n",
      "\n",
      "[1] \"We have added IDs to missing explant data based on filenames. Here is head of IDs.\"\n",
      "[1] \"GRF1_2\"  \"GRF1_3\"  \"GRF1_5\"  \"GRF1_14\" \"GRF1_12\" \"GRF1_10\"\n",
      "\n",
      "[1] \"N rows of randomization datasheet before merging with missing explant data: \"\n",
      "[1] 8\n",
      "[1] \"Head of IDs in missing explant data\"\n",
      "[1] \"GRF1_2\"  \"GRF1_3\"  \"GRF1_5\"  \"GRF1_14\" \"GRF1_12\" \"GRF1_10\"\n",
      "[1] \"Head of IDs in randomization datasheet\"\n",
      "[1] \"GRF1_1\"  \"GRF1_3\"  \"GRF1_6\"  \"GRF1_7\"  \"GRF1_13\" \"GRF1_14\"\n",
      "\n",
      "[1] \"Now about to merge randomization_datasheet and missing explant data.\"\n",
      "[1] \"Rows in randomization_datasheet: 8\"\n",
      "[1] \"Rows in missing explant data: 11\"\n",
      "\n",
      "[1] \"Now about to merge randomization datasheet and missing explant data, by ID. Look at head of IDs for both.\"\n",
      "[1] \"GRF1_1\"  \"GRF1_3\"  \"GRF1_6\"  \"GRF1_7\"  \"GRF1_13\" \"GRF1_14\"\n",
      "[1] \"GRF1_2\"  \"GRF1_3\"  \"GRF1_5\"  \"GRF1_14\" \"GRF1_12\" \"GRF1_10\"\n",
      "       ID Image # Tray ID Treatment name Genotype_ID Plate Tissue type Explant\n",
      "1  GRF1_1       1    GRF1            GRF         717    24           S      20\n",
      "2 GRF1_13      13    GRF1            GRF         353    36           S      20\n",
      "3 GRF1_14      14    GRF1            GRF         353    37           S      13\n",
      "4 GRF1_17      17    GRF1            CTR         353    40           S      17\n",
      "5 GRF1_18      18    GRF1            CTR         353    41           S      20\n",
      "6  GRF1_3       3    GRF1            GRF         717    26           S      17\n",
      "  Transformation_Date DPT                          filename    1    2    3    4\n",
      "1          2021-01-11  24                              <NA> <NA> <NA> <NA> <NA>\n",
      "2          2021-01-11  24                              <NA> <NA> <NA> <NA> <NA>\n",
      "3          2021-01-11  24  GRF1_I5.0_F1.9_L100_131613_7_1_6    1    1    1    1\n",
      "4          2021-01-11  24 GRF1_I5.0_F1.9_L100_132515_16_2_2    1    1    1    1\n",
      "5          2021-01-11  24                              <NA> <NA> <NA> <NA> <NA>\n",
      "6          2021-01-11  24  GRF1_I5.0_F1.9_L100_131058_2_0_2    1    1    1    1\n",
      "     5    6    7    8    9   10   11   12   13   14   15   16   17   18   19\n",
      "1 <NA> <NA> <NA> <NA> <NA> <NA> <NA> <NA> <NA> <NA> <NA> <NA> <NA> <NA> <NA>\n",
      "2 <NA> <NA> <NA> <NA> <NA> <NA> <NA> <NA> <NA> <NA> <NA> <NA> <NA> <NA> <NA>\n",
      "3    1    1    1    1    1    1    1    1    1    0    0    0    0    0    0\n",
      "4    1    1    1    1    1    1    1    1    1    1    1    1    1    0    0\n",
      "5 <NA> <NA> <NA> <NA> <NA> <NA> <NA> <NA> <NA> <NA> <NA> <NA> <NA> <NA> <NA>\n",
      "6    1    1    1    1    1    1    1    1    1    1    1    1    1    0    0\n",
      "    20 total_explants\n",
      "1 <NA>             NA\n",
      "2 <NA>             NA\n",
      "3    0             13\n",
      "4    0             17\n",
      "5 <NA>             NA\n",
      "6    0             17\n",
      "[1] NA NA 13 17 NA 17 NA 17\n",
      "[1] \"Still figuring, now in merged rd, out why contaminated/missing plates are being said to have 0 instead of NA\"\n",
      "\n",
      "[1] \"Dimensions of missing explant data with totals\"\n",
      "[1] 11 23\n",
      "[1] \"Levels of total explants on any plate after removing missing and contaminated explants is...\"\n",
      "[1] \"13\" \"17\"\n",
      "[1] \"Minimum number of explants on any plate after removing missing and contaminated explants is...\"\n",
      "[1] 13\n",
      "\n",
      "[1] \"Rows in merged output: 8\"\n",
      "[1] NA NA 13 17 NA 17 NA 17\n",
      "\n",
      "[1] \"Assuming for all explants for which we have no missing explant data that there are:\"\n",
      "[1] 20\n",
      "\n",
      "[1] \"N rows of randomization datasheet after merging with missing explant data: \"\n",
      "[1] 8\n",
      "[1] \"Column names of randomization datasheet afer merging with missing explant data: \"\n",
      " [1] \"ID\"                  \"Image #\"             \"Tray ID\"            \n",
      " [4] \"Treatment name\"      \"Genotype_ID\"         \"Plate\"              \n",
      " [7] \"Tissue type\"         \"Explant\"             \"Transformation_Date\"\n",
      "[10] \"DPT\"                 \"filename\"            \"1\"                  \n",
      "[13] \"2\"                   \"3\"                   \"4\"                  \n",
      "[16] \"5\"                   \"6\"                   \"7\"                  \n",
      "[19] \"8\"                   \"9\"                   \"10\"                 \n",
      "[22] \"11\"                  \"12\"                  \"13\"                 \n",
      "[25] \"14\"                  \"15\"                  \"16\"                 \n",
      "[28] \"17\"                  \"18\"                  \"19\"                 \n",
      "[31] \"20\"                  \"total_explants\"     \n",
      "\n",
      "[1] \"In output, Maximum observations for a segment in a grid item in a filename (should be 1): 1\"\n",
      "[1] \"In randomization datasheet, Maximum observations for an ID (should be 1): 1\"\n",
      "\n",
      "[1] \"Before calculating totals, let's look at the column total_explants in randomization datasheet\"\n",
      "[1] 20 20 13 17 20 17\n",
      "[1] \"13\" \"17\" \"20\"\n",
      "\n",
      "\n",
      "[1] \"Nrow of output before dropping missing explants is: 1708\"\n",
      "[1] \"Head of ID_exp columns from both output data table and IDs_to_drop data tbales, respectively:\"\n",
      "[1] \"__NA\"     \"GRF1_1_1\" \"GRF1_1_1\" \"GRF1_1_1\" \"GRF1_1_1\" \"GRF1_1_1\"\n",
      "[1] \"GRF1_2_18\" \"GRF1_2_19\" \"GRF1_2_20\" \"GRF1_3_18\" \"GRF1_3_19\" \"GRF1_3_20\"\n",
      "[1] \"Nrow of output AFTER dropping missing explants is: 1606\"\n",
      "[1] \"Head of output\"\n",
      "   filename grid_item          V1 segment_hex intensity_threshold\n",
      "1:               <NA> observation                              NA\n",
      "   n_pixels_passing_threshold mean_signal max_signal total_signal total_pixels\n",
      "1:                         NA          NA         NA           NA           NA\n",
      "   present ID transgenic segment_present ID_exp\n",
      "1:       Y  _          0               0   __NA\n",
      "\n",
      "# A tibble: 6 x 5\n",
      "  filename                         grid_item present ID     ID_exp   \n",
      "  <chr>                            <chr>     <chr>   <chr>  <chr>    \n",
      "1 GRF1_I5.0_F1.9_L100_130957_1_0_1 18        M       GRF1_2 GRF1_2_18\n",
      "2 GRF1_I5.0_F1.9_L100_130957_1_0_1 19        M       GRF1_2 GRF1_2_19\n",
      "3 GRF1_I5.0_F1.9_L100_130957_1_0_1 20        M       GRF1_2 GRF1_2_20\n",
      "4 GRF1_I5.0_F1.9_L100_131058_2_0_2 18        M       GRF1_3 GRF1_3_18\n",
      "5 GRF1_I5.0_F1.9_L100_131058_2_0_2 19        M       GRF1_3 GRF1_3_19\n",
      "6 GRF1_I5.0_F1.9_L100_131058_2_0_2 20        M       GRF1_3 GRF1_3_20\n",
      " [1] \"filename\"                   \"grid_item\"                 \n",
      " [3] \"V1\"                         \"segment_hex\"               \n",
      " [5] \"intensity_threshold\"        \"n_pixels_passing_threshold\"\n",
      " [7] \"mean_signal\"                \"max_signal\"                \n",
      " [9] \"total_signal\"               \"total_pixels\"              \n",
      "[11] \"present\"                    \"ID\"                        \n",
      "[13] \"transgenic\"                 \"segment_present\"           \n",
      "[15] \"ID_exp\"                    \n",
      "[1] \"Maximum # grid positions with transgenic stem in any plate: 4\"\n",
      "[1] \"Maximum # grid positions with transgenic callus in any plate: 6\"\n",
      "[1] \"Maximum # grid positions with transgenic shoot in any plate: 1\"\n",
      "[1] \"Minimum # grid positions with explants in any plate: 13\"\n",
      "[1] \"Maximum # grid positions with explants in any plate: 20\"\n",
      "[1] \"Maximum # grid positions with callus in any plate: 18\"\n",
      "[1] \"Maximum # grid positions with shoot in any plate: 10\"\n",
      "[1] \"Column of interest is portion_transgenic_Shoot\"\n",
      "[1] \"For transgenic tissue, What is the range of values for portion for Shoot\"\n",
      "[1] 0\n",
      "[1] 0.05\n",
      "[1] \"What are factor levels?\"\n",
      "[1] \"0\"    \"0.05\"\n",
      "\n",
      "[1] \"Column of interest is portion_Shoot\"\n",
      "[1] \"For total tissue, What is the range of values for portion for Shoot\"\n",
      "[1] 0\n",
      "[1] 0.5882353\n",
      "[1] \"What are factor levels?\"\n",
      "[1] \"0\"                 \"0.1\"               \"0.15\"             \n",
      "[4] \"0.176470588235294\" \"0.2\"               \"0.538461538461538\"\n",
      "[7] \"0.588235294117647\"\n",
      "\n",
      "[1] \"Column of interest is portion_transgenic_Callus\"\n",
      "[1] \"For transgenic tissue, What is the range of values for portion for Callus\"\n",
      "[1] 0\n",
      "[1] 0.3\n",
      "[1] \"What are factor levels?\"\n",
      "[1] \"0\"                 \"0.1\"               \"0.117647058823529\"\n",
      "[4] \"0.294117647058824\" \"0.3\"              \n",
      "\n",
      "[1] \"Column of interest is portion_Callus\"\n",
      "[1] \"For total tissue, What is the range of values for portion for Callus\"\n",
      "[1] 0.5882353\n",
      "[1] 0.9411765\n",
      "[1] \"What are factor levels?\"\n",
      "[1] \"0.588235294117647\" \"0.615384615384615\" \"0.75\"             \n",
      "[4] \"0.882352941176471\" \"0.9\"               \"0.941176470588235\"\n",
      "\n",
      "[1] \"Column of interest is portion_transgenic_Stem\"\n",
      "[1] \"For transgenic tissue, What is the range of values for portion for Stem\"\n",
      "[1] 0\n",
      "[1] 0.2352941\n",
      "[1] \"What are factor levels?\"\n",
      "[1] \"0\"                  \"0.05\"               \"0.0588235294117647\"\n",
      "[4] \"0.2\"                \"0.235294117647059\" \n",
      "\n",
      "[1] \"Column of interest is portion_Stem\"\n",
      "[1] \"For total tissue, What is the range of values for portion for Stem\"\n",
      "[1] 0.6\n",
      "[1] 1\n",
      "[1] \"What are factor levels?\"\n",
      "[1] \"0.6\"               \"0.692307692307692\" \"0.705882352941177\"\n",
      "[4] \"0.75\"              \"0.85\"              \"0.882352941176471\"\n",
      "[7] \"1\"                \n",
      "\n",
      "[1] \"Column of interest is portion_transgenic_All_tissue\"\n",
      "[1] \"For transgenic tissue, What is the range of values for portion for All_tissue\"\n",
      "[1] 0\n",
      "[1] 0.4117647\n",
      "[1] \"What are factor levels?\"\n",
      "[1] \"0\"                  \"0.0588235294117647\" \"0.117647058823529\" \n",
      "[4] \"0.25\"               \"0.35\"               \"0.411764705882353\" \n",
      "\n",
      "[1] \"Column of interest is portion_All_tissue\"\n",
      "[1] \"For total tissue, What is the range of values for portion for All_tissue\"\n",
      "[1] 1\n",
      "[1] 1\n",
      "[1] \"What are factor levels?\"\n",
      "[1] \"1\"\n",
      "\n",
      "[1] \"Column of interest is portion_transgenic_All_regenerated_tissue\"\n",
      "[1] \"For transgenic tissue, What is the range of values for portion for All_regenerated_tissue\"\n",
      "[1] 0\n",
      "[1] 0.35\n",
      "[1] \"What are factor levels?\"\n",
      "[1] \"0\"                 \"0.117647058823529\" \"0.15\"             \n",
      "[4] \"0.294117647058824\" \"0.35\"             \n",
      "\n",
      "[1] \"Column of interest is portion_All_regenerated_tissue\"\n",
      "[1] \"For total tissue, What is the range of values for portion for All_regenerated_tissue\"\n",
      "[1] 0.6470588\n",
      "[1] 0.9411765\n",
      "[1] \"What are factor levels?\"\n",
      "[1] \"0.647058823529412\" \"0.692307692307692\" \"0.75\"             \n",
      "[4] \"0.8\"               \"0.9\"               \"0.941176470588235\"\n",
      "\n",
      "[1] \"Column of interest is portion_transgenic_Background\"\n",
      "[1] \"For transgenic tissue, What is the range of values for portion for Background\"\n",
      "[1] 0\n",
      "[1] 0\n",
      "[1] \"What are factor levels?\"\n",
      "[1] \"0\"\n",
      "\n",
      "[1] \"Column of interest is portion_Background\"\n",
      "[1] \"For total tissue, What is the range of values for portion for Background\"\n",
      "[1] 0\n",
      "[1] 0\n",
      "[1] \"What are factor levels?\"\n",
      "[1] \"0\"\n",
      "\n",
      "[1] \"N rows of randomization datasheet: \"\n",
      "[1] 8\n",
      "[1] \"N rows of randomization datasheet: \"\n",
      "[1] 8\n",
      "\n",
      "[1] \"Plots will be saved to: \"\n",
      "[1] \"/home/labgroup/code/GMOlabeler/plots/Elements_10//Transformation/GRF_Poplar/GRF1_Phase_2/wk3//\"\n",
      "\n",
      "\n",
      "[1] \"How many groups per treatment?\"\n",
      "\n",
      "CTR GRF \n",
      "  4   4 \n",
      "[1] \"How many rows in randomization datasheet?\"\n",
      "[1] 8\n",
      "[1] \"How many rows in randomization datasheet with portion_Callus data?\"\n",
      "[1] 8\n",
      "Warning message:\n",
      "`fun.y` is deprecated. Use `fun` instead. \n",
      "Warning message:\n",
      "`fun.y` is deprecated. Use `fun` instead. \n",
      "Warning message:\n",
      "`fun.y` is deprecated. Use `fun` instead. \n",
      "Warning message:\n",
      "`fun.y` is deprecated. Use `fun` instead. \n",
      "Warning message:\n",
      "`fun.y` is deprecated. Use `fun` instead. \n",
      "Warning message:\n",
      "`fun.y` is deprecated. Use `fun` instead. \n",
      "Warning message:\n",
      "`fun.y` is deprecated. Use `fun` instead. \n",
      "Warning message:\n",
      "`fun.y` is deprecated. Use `fun` instead. \n",
      "\n",
      "[1] \"How many groups per treatment?\"\n",
      "\n",
      "CTR GRF \n",
      "  4   4 \n",
      "[1] \"How many rows in randomization datasheet?\"\n",
      "[1] 8\n",
      "[1] \"How many rows in randomization datasheet with portion_Callus data?\"\n",
      "[1] 8\n",
      "Warning messages:\n",
      "1: Ignoring unknown parameters: outlier.shape \n",
      "2: `fun.y` is deprecated. Use `fun` instead. \n",
      "Warning messages:\n",
      "1: Ignoring unknown parameters: outlier.shape \n",
      "2: `fun.y` is deprecated. Use `fun` instead. \n",
      "Warning messages:\n",
      "1: Ignoring unknown parameters: outlier.shape \n",
      "2: `fun.y` is deprecated. Use `fun` instead. \n",
      "Warning messages:\n",
      "1: Ignoring unknown parameters: outlier.shape \n",
      "2: `fun.y` is deprecated. Use `fun` instead. \n",
      "Warning messages:\n",
      "1: Ignoring unknown parameters: outlier.shape \n",
      "2: `fun.y` is deprecated. Use `fun` instead. \n",
      "Warning messages:\n",
      "1: Ignoring unknown parameters: outlier.shape \n",
      "2: `fun.y` is deprecated. Use `fun` instead. \n",
      "Warning messages:\n",
      "1: Ignoring unknown parameters: outlier.shape \n",
      "2: `fun.y` is deprecated. Use `fun` instead. \n",
      "Warning messages:\n",
      "1: Ignoring unknown parameters: outlier.shape \n",
      "2: `fun.y` is deprecated. Use `fun` instead. \n",
      "\n",
      "[1] \"How many groups per treatment?\"\n",
      "\n",
      "CTR GRF \n",
      "  4   4 \n",
      "[1] \"How many rows in randomization datasheet?\"\n",
      "[1] 8\n",
      "[1] \"How many rows in randomization datasheet with n_Callus data?\"\n",
      "[1] 8\n",
      "[1] \"Head:\"\n",
      "       ID Image # Tray ID Treatment name Genotype_ID Plate Tissue type Explant\n",
      "1  GRF1_1       1    GRF1            GRF         717    24           S      20\n",
      "2 GRF1_13      13    GRF1            GRF         353    36           S      20\n",
      "3 GRF1_14      14    GRF1            GRF         353    37           S      13\n",
      "4 GRF1_17      17    GRF1            CTR         353    40           S      17\n",
      "5 GRF1_18      18    GRF1            CTR         353    41           S      20\n",
      "6  GRF1_3       3    GRF1            GRF         717    26           S      17\n",
      "  Transformation_Date DPT                          filename    1    2    3    4\n",
      "1          2021-01-11  24                              <NA> <NA> <NA> <NA> <NA>\n",
      "2          2021-01-11  24                              <NA> <NA> <NA> <NA> <NA>\n",
      "3          2021-01-11  24  GRF1_I5.0_F1.9_L100_131613_7_1_6    1    1    1    1\n",
      "4          2021-01-11  24 GRF1_I5.0_F1.9_L100_132515_16_2_2    1    1    1    1\n",
      "5          2021-01-11  24                              <NA> <NA> <NA> <NA> <NA>\n",
      "6          2021-01-11  24  GRF1_I5.0_F1.9_L100_131058_2_0_2    1    1    1    1\n",
      "     5    6    7    8    9   10   11   12   13   14   15   16   17   18   19\n",
      "1 <NA> <NA> <NA> <NA> <NA> <NA> <NA> <NA> <NA> <NA> <NA> <NA> <NA> <NA> <NA>\n",
      "2 <NA> <NA> <NA> <NA> <NA> <NA> <NA> <NA> <NA> <NA> <NA> <NA> <NA> <NA> <NA>\n",
      "3    1    1    1    1    1    1    1    1    1    0    0    0    0    0    0\n",
      "4    1    1    1    1    1    1    1    1    1    1    1    1    1    0    0\n",
      "5 <NA> <NA> <NA> <NA> <NA> <NA> <NA> <NA> <NA> <NA> <NA> <NA> <NA> <NA> <NA>\n",
      "6    1    1    1    1    1    1    1    1    1    1    1    1    1    0    0\n",
      "    20 total_explants n_transgenic_Shoot portion_transgenic_Shoot\n",
      "1 <NA>             20                  0                     0.00\n",
      "2 <NA>             20                  0                     0.00\n",
      "3    0             13                  0                     0.00\n",
      "4    0             17                  0                     0.00\n",
      "5 <NA>             20                  1                     0.05\n",
      "6    0             17                  0                     0.00\n",
      "  n_transgenic_Callus portion_transgenic_Callus n_transgenic_Stem\n",
      "1                   0                 0.0000000                 0\n",
      "2                   0                 0.0000000                 0\n",
      "3                   0                 0.0000000                 0\n",
      "4                   0                 0.0000000                 1\n",
      "5                   2                 0.1000000                 4\n",
      "6                   2                 0.1176471                 0\n",
      "  portion_transgenic_Stem n_transgenic_All_tissue portion_transgenic_All_tissue\n",
      "1              0.00000000                       0                    0.00000000\n",
      "2              0.00000000                       0                    0.00000000\n",
      "3              0.00000000                       0                    0.00000000\n",
      "4              0.05882353                       1                    0.05882353\n",
      "5              0.20000000                       5                    0.25000000\n",
      "6              0.00000000                       2                    0.11764706\n",
      "  n_transgenic_All_regenerated_tissue portion_transgenic_All_regenerated_tissue\n",
      "1                                   0                                 0.0000000\n",
      "2                                   0                                 0.0000000\n",
      "3                                   0                                 0.0000000\n",
      "4                                   0                                 0.0000000\n",
      "5                                   3                                 0.1500000\n",
      "6                                   2                                 0.1176471\n",
      "  n_transgenic_Background portion_transgenic_Background n_Shoot portion_Shoot\n",
      "1                       0                             0       4     0.2000000\n",
      "2                       0                             0       4     0.2000000\n",
      "3                       0                             0       7     0.5384615\n",
      "4                       0                             0       3     0.1764706\n",
      "5                       0                             0       3     0.1500000\n",
      "6                       0                             0      10     0.5882353\n",
      "  n_Callus portion_Callus n_Stem portion_Stem n_All_tissue portion_All_tissue\n",
      "1       18      0.9000000     12    0.6000000           20                  1\n",
      "2       15      0.7500000     17    0.8500000           20                  1\n",
      "3        8      0.6153846      9    0.6923077           13                  1\n",
      "4       10      0.5882353     15    0.8823529           17                  1\n",
      "5       15      0.7500000     20    1.0000000           20                  1\n",
      "6       15      0.8823529     12    0.7058824           17                  1\n",
      "  n_All_regenerated_tissue portion_All_regenerated_tissue n_Background\n",
      "1                       18                      0.9000000            0\n",
      "2                       15                      0.7500000            0\n",
      "3                        9                      0.6923077            0\n",
      "4                       11                      0.6470588            0\n",
      "5                       16                      0.8000000            0\n",
      "6                       16                      0.9411765            0\n",
      "  portion_Background\n",
      "1                  0\n",
      "2                  0\n",
      "3                  0\n",
      "4                  0\n",
      "5                  0\n",
      "6                  0\n",
      "Warning message:\n",
      "`fun.y` is deprecated. Use `fun` instead. \n",
      "Warning message:\n",
      "`fun.y` is deprecated. Use `fun` instead. \n",
      "Warning message:\n",
      "`fun.y` is deprecated. Use `fun` instead. \n",
      "Warning message:\n",
      "`fun.y` is deprecated. Use `fun` instead. \n",
      "Warning message:\n",
      "`fun.y` is deprecated. Use `fun` instead. \n",
      "Warning message:\n",
      "`fun.y` is deprecated. Use `fun` instead. \n",
      "Warning message:\n",
      "`fun.y` is deprecated. Use `fun` instead. \n",
      "Warning message:\n",
      "`fun.y` is deprecated. Use `fun` instead. \n",
      "\n",
      "[1] \"List of treatments in this randomization_datasheet: \"\n",
      "[1] \"CTR\" \"GRF\"\n",
      "[1] \"Now about to merge randomization_datasheet and GMOlabeler output.\"\n",
      "[1] \"Rows in randomization_datasheet: 8\"\n",
      "[1] \"Rows in GMOlabeler output: 1606\"\n",
      "[1] \"Before merging, look at table of ID in both. \"\n",
      "\n",
      " GRF1_1 GRF1_13 GRF1_14 GRF1_17 GRF1_18  GRF1_3  GRF1_6  GRF1_7 \n",
      "      1       1       1       1       1       1       1       1 \n",
      "\n",
      "      _  GRF1_1 GRF1_10 GRF1_11 GRF1_12 GRF1_13 GRF1_14 GRF1_15 GRF1_16 GRF1_17 \n",
      "      1      98      90     100      65      95      61      85     100      79 \n",
      "GRF1_18  GRF1_2  GRF1_3  GRF1_4  GRF1_5  GRF1_6  GRF1_7  GRF1_8  GRF1_9 \n",
      "     96      85      84     100      85      98      84     100     100 \n",
      "[1] \"Rows in merged output: 1606\"\n",
      "[1] \"List of treatments in this combined data: \"\n",
      "[1] \"CTR\" \"GRF\"\n",
      "\n",
      "[1] \"Making final plots for tissue: \"\n",
      "  Tissue hex_code color\n",
      "1  Shoot   00CC11 green\n",
      "[1] \"Dim before and after subsetting combined data to this tissue only\"\n",
      "[1] 1606   70\n",
      "[1] 326  70\n",
      "[1] \"Max mean_signal\"\n",
      "[1] 11.87077\n",
      "[1] \"Mean signal plots\"\n",
      "[1] \"Finished making mean signal plot... Now to save and make the rest.\"\n",
      "[1] \"Max signal plots\"\n",
      "[1] \"Total signal plots\"\n",
      "[1] \"Making final plots for tissue: \"\n",
      "  Tissue hex_code color\n",
      "2 Callus   0006CC  blue\n",
      "[1] \"Dim before and after subsetting combined data to this tissue only\"\n",
      "[1] 1606   70\n",
      "[1] 326  70\n",
      "[1] \"Max mean_signal\"\n",
      "[1] 92.20756\n",
      "[1] \"Mean signal plots\"\n",
      "[1] \"Finished making mean signal plot... Now to save and make the rest.\"\n",
      "[1] \"Max signal plots\"\n",
      "[1] \"Total signal plots\"\n",
      "[1] \"Making final plots for tissue: \"\n",
      "  Tissue hex_code color\n",
      "3   Stem   CC0000   red\n",
      "[1] \"Dim before and after subsetting combined data to this tissue only\"\n",
      "[1] 1606   70\n",
      "[1] 326  70\n",
      "[1] \"Max mean_signal\"\n",
      "[1] 12.07728\n",
      "[1] \"Mean signal plots\"\n",
      "[1] \"Finished making mean signal plot... Now to save and make the rest.\"\n",
      "[1] \"Max signal plots\"\n",
      "[1] \"Total signal plots\"\n",
      "[1] \"Making final plots for tissue: \"\n",
      "      Tissue   hex_code color\n",
      "4 All_tissue All_tissue black\n",
      "[1] \"Dim before and after subsetting combined data to this tissue only\"\n",
      "[1] 1606   70\n",
      "[1] 326  70\n",
      "[1] \"Max mean_signal\"\n",
      "[1] -Inf\n",
      "[1] \"Making final plots for tissue: \"\n",
      "                  Tissue               hex_code color\n",
      "5 All_regenerated_tissue All_regenerated_tissue  <NA>\n",
      "[1] \"Dim before and after subsetting combined data to this tissue only\"\n",
      "[1] 1606   70\n",
      "[1] 301  70\n",
      "[1] \"Max mean_signal\"\n",
      "[1] -Inf\n",
      "There were 50 or more warnings (use warnings() to see the first 50)\n",
      "(gmolabeler) "
     ]
    }
   ],
   "source": [
    "conda activate gmolabeler\n",
    "cd $gmolabeler_path\n",
    "Rscript grid_item_plots.R \\\n",
    "-d \"${data_folder}/\" \\\n",
    "-r \"$randomization_datasheet\" \\\n",
    "-p $pixel_threshold \\\n",
    "-v categorical \\\n",
    "-m 1 \\\n",
    "-M $missing_explants \\\n",
    "-g $grid \\\n",
    "--sort 1 \\\n",
    "--height $height \\\n",
    "--width $width\n",
    "conda deactivate"
   ]
  },
  {
   "cell_type": "markdown",
   "metadata": {},
   "source": [
    "## Email plots to user"
   ]
  },
  {
   "cell_type": "markdown",
   "metadata": {},
   "source": [
    "### ZIP results"
   ]
  },
  {
   "cell_type": "code",
   "execution_count": 69,
   "metadata": {},
   "outputs": [
    {
     "name": "stdout",
     "output_type": "stream",
     "text": [
      "/home/labgroup/code/GMOlabeler//plotsElements_10//Transformation/GRF_Poplar/GRF1_Phase_2/wk3/\n"
     ]
    }
   ],
   "source": [
    "echo \"${gmolabeler_path}/plots${data_folder}\""
   ]
  },
  {
   "cell_type": "code",
   "execution_count": 70,
   "metadata": {},
   "outputs": [],
   "source": [
    "cd \"${gmolabeler_path}/plots/${data_folder}\""
   ]
  },
  {
   "cell_type": "code",
   "execution_count": 71,
   "metadata": {},
   "outputs": [],
   "source": [
    "rm -f ./plants_over_plates.csv"
   ]
  },
  {
   "cell_type": "code",
   "execution_count": 72,
   "metadata": {},
   "outputs": [
    {
     "name": "stdout",
     "output_type": "stream",
     "text": [
      "/home/labgroup/code/GMOlabeler//output/Elements_10//Transformation/GRF_Poplar/GRF1_Phase_2/wk3//\n"
     ]
    }
   ],
   "source": [
    "echo ${gmolabeler_path}/output/${data_folder}/"
   ]
  },
  {
   "cell_type": "code",
   "execution_count": 73,
   "metadata": {},
   "outputs": [],
   "source": [
    "cp \"${gmolabeler_path}/output/${data_folder}/plants_over_plates.csv\" ./"
   ]
  },
  {
   "cell_type": "code",
   "execution_count": 74,
   "metadata": {},
   "outputs": [],
   "source": [
    "cp \"${gmolabeler_path}/output/${data_folder}/stats_with_sums_over_tissues.csv\" ./"
   ]
  },
  {
   "cell_type": "code",
   "execution_count": 75,
   "metadata": {},
   "outputs": [],
   "source": [
    "#cd $data"
   ]
  },
  {
   "cell_type": "code",
   "execution_count": 76,
   "metadata": {},
   "outputs": [],
   "source": [
    "rm -f Rplots.pdf"
   ]
  },
  {
   "cell_type": "code",
   "execution_count": 77,
   "metadata": {},
   "outputs": [],
   "source": [
    "cd ../"
   ]
  },
  {
   "cell_type": "markdown",
   "metadata": {},
   "source": [
    "This messy substitution is explained here: https://superuser.com/questions/1068031/replace-backslash-with-forward-slash-in-a-variable-in-bash"
   ]
  },
  {
   "cell_type": "code",
   "execution_count": 78,
   "metadata": {},
   "outputs": [],
   "source": [
    "data_folder_Compress=\"${data_folder////-}.zip\"\n",
    "data_folder_Compress=${data_folder_Compress#?};"
   ]
  },
  {
   "cell_type": "code",
   "execution_count": 79,
   "metadata": {},
   "outputs": [
    {
     "name": "stdout",
     "output_type": "stream",
     "text": [
      "Elements_10//Transformation/GRF_Poplar/GRF1_Phase_2/wk3/\n"
     ]
    }
   ],
   "source": [
    "echo $data_folder"
   ]
  },
  {
   "cell_type": "code",
   "execution_count": 80,
   "metadata": {},
   "outputs": [
    {
     "name": "stdout",
     "output_type": "stream",
     "text": [
      "lements_10--Transformation-GRF_Poplar-GRF1_Phase_2-wk3-.zip\n"
     ]
    }
   ],
   "source": [
    "echo $data_folder_Compress"
   ]
  },
  {
   "cell_type": "code",
   "execution_count": 81,
   "metadata": {},
   "outputs": [
    {
     "name": "stdout",
     "output_type": "stream",
     "text": [
      "/home/labgroup/code/GMOlabeler/plots/Elements_10/Transformation/GRF_Poplar/GRF1_Phase_2\n"
     ]
    }
   ],
   "source": [
    "pwd"
   ]
  },
  {
   "cell_type": "code",
   "execution_count": 82,
   "metadata": {},
   "outputs": [],
   "source": [
    "cd $timepoint"
   ]
  },
  {
   "cell_type": "code",
   "execution_count": 83,
   "metadata": {},
   "outputs": [
    {
     "name": "stdout",
     "output_type": "stream",
     "text": [
      "2A1c_portion_Callus_total.png\n",
      "2A1_portion_Callus_total.png\n",
      "2A2c_portion_Callus_transgenic.png\n",
      "2A2_portion_Callus_transgenic.png\n",
      "2B1c_portion_Shoot_total.png\n",
      "2B1_portion_Shoot_total.png\n",
      "2B2c_portion_Shoot_transgenic.png\n",
      "2B2_portion_Shoot_transgenic.png\n",
      "2C1c_portion_All_regenerated_tissue_total.png\n",
      "2C1_portion_All_regenerated_tissue_total.png\n",
      "2C2c_portion_All_regenerated_tissue_transgenic.png\n",
      "2C2_portion_All_regenerated_tissue_transgenic.png\n",
      "2D1c_portion_All_tissue_total.png\n",
      "2D1_portion_All_tissue_total.png\n",
      "2D2c_portion_All_tissue_transgenic.png\n",
      "2D2_portion_All_tissue_transgenic.png\n",
      "3A1_Callus_total.png\n",
      "3A2_Callus_transgenic.png\n",
      "3B1_Shoot_total.png\n",
      "3B2_Shoot_transgenic.png\n",
      "3D1_All_regenerated_tissue_total.png\n",
      "3D1_All_tissue_total.png\n",
      "3D2_All_regenerated_tissue_transgenic.png\n",
      "3D2_All_tissue_transgenic.png\n",
      "A1_Shoot_Total_signal.png\n",
      "A2_Callus_Total_signal.png\n",
      "A3_Stem_Total_signal.png\n",
      "B1_Shoot_Max_signal.png\n",
      "B2_Callus_Max_signal.png\n",
      "B3_Stem_Max_signal.png\n",
      "C1_Shoot_Mean_signal.png\n",
      "C2_Callus_Mean_signal.png\n",
      "C3_Stem_Mean_signal.png\n",
      "gridplot_args.rds\n",
      "lements_10--Transformation-GRF_Poplar-GRF1_Phase_2-wk3-.zip\n",
      "plants_over_plates.csv\n",
      "stats_with_sums_over_tissues.csv\n"
     ]
    }
   ],
   "source": [
    "ls"
   ]
  },
  {
   "cell_type": "code",
   "execution_count": 84,
   "metadata": {},
   "outputs": [
    {
     "name": "stdout",
     "output_type": "stream",
     "text": [
      "bash: cd: wk3: No such file or directory\n",
      "updating: 2A1c_portion_Callus_total.png (deflated 10%)\n",
      "updating: 2A1_portion_Callus_total.png (deflated 18%)\n",
      "updating: 2A2c_portion_Callus_transgenic.png (deflated 13%)\n",
      "updating: 2A2_portion_Callus_transgenic.png (deflated 18%)\n",
      "updating: 2B1c_portion_Shoot_total.png (deflated 13%)\n",
      "updating: 2B1_portion_Shoot_total.png (deflated 18%)\n",
      "updating: 2B2c_portion_Shoot_transgenic.png (deflated 14%)\n",
      "updating: 2B2_portion_Shoot_transgenic.png (deflated 18%)\n",
      "updating: 2C1c_portion_All_regenerated_tissue_total.png (deflated 11%)\n",
      "updating: 2C1_portion_All_regenerated_tissue_total.png (deflated 18%)\n",
      "updating: 2C2c_portion_All_regenerated_tissue_transgenic.png (deflated 13%)\n",
      "updating: 2C2_portion_All_regenerated_tissue_transgenic.png (deflated 17%)\n",
      "updating: 2D1c_portion_All_tissue_total.png (deflated 35%)\n",
      "updating: 2D1_portion_All_tissue_total.png (deflated 39%)\n",
      "updating: 2D2c_portion_All_tissue_transgenic.png (deflated 13%)\n",
      "updating: 2D2_portion_All_tissue_transgenic.png (deflated 18%)\n",
      "updating: 3A1_Callus_total.png (deflated 19%)\n",
      "updating: 3A2_Callus_transgenic.png (deflated 19%)\n",
      "updating: 3B1_Shoot_total.png (deflated 19%)\n",
      "updating: 3B2_Shoot_transgenic.png (deflated 20%)\n",
      "updating: 3D1_All_regenerated_tissue_total.png (deflated 17%)\n",
      "updating: 3D1_All_tissue_total.png (deflated 19%)\n",
      "updating: 3D2_All_regenerated_tissue_transgenic.png (deflated 19%)\n",
      "updating: 3D2_All_tissue_transgenic.png (deflated 18%)\n",
      "updating: A1_Shoot_Total_signal.png (deflated 17%)\n",
      "updating: A2_Callus_Total_signal.png (deflated 19%)\n",
      "updating: A3_Stem_Total_signal.png (deflated 15%)\n",
      "updating: B1_Shoot_Max_signal.png (deflated 19%)\n",
      "updating: B2_Callus_Max_signal.png (deflated 17%)\n",
      "updating: B3_Stem_Max_signal.png (deflated 18%)\n",
      "updating: C1_Shoot_Mean_signal.png (deflated 15%)\n",
      "updating: C2_Callus_Mean_signal.png (deflated 18%)\n",
      "updating: C3_Stem_Mean_signal.png (deflated 14%)\n",
      "updating: gridplot_args.rds (stored 0%)\n",
      "updating: plants_over_plates.csv (deflated 73%)\n",
      "updating: stats_with_sums_over_tissues.csv (deflated 89%)\n"
     ]
    }
   ],
   "source": [
    "cd $timepoint\n",
    "zip -r $data_folder_Compress ./*"
   ]
  },
  {
   "cell_type": "markdown",
   "metadata": {},
   "source": [
    "### Write email"
   ]
  },
  {
   "cell_type": "code",
   "execution_count": 85,
   "metadata": {},
   "outputs": [],
   "source": [
    "duration=$(( SECONDS - start ))"
   ]
  },
  {
   "cell_type": "markdown",
   "metadata": {},
   "source": [
    "https://unix.stackexchange.com/questions/53841/how-to-use-a-timer-in-bash"
   ]
  },
  {
   "cell_type": "code",
   "execution_count": 86,
   "metadata": {},
   "outputs": [],
   "source": [
    "rm -f \"${gmolabeler_path}/email_to_send.txt\"\n",
    "cp \"${gmolabeler_path}/email_to_send_template.txt\" \"${gmolabeler_path}/email_to_send.txt\""
   ]
  },
  {
   "cell_type": "code",
   "execution_count": 87,
   "metadata": {},
   "outputs": [],
   "source": [
    "echo \"\" >> \"${gmolabeler_path}/email_to_send.txt\"\n",
    "echo \"Number of samples run: \" >> \"${gmolabeler_path}/email_to_send.txt\""
   ]
  },
  {
   "cell_type": "code",
   "execution_count": 88,
   "metadata": {},
   "outputs": [],
   "source": [
    "cat \"${data}/test.csv\" | wc -l >> \"${gmolabeler_path}/email_to_send.txt\"\n",
    "echo \"\" >> \"${gmolabeler_path}/email_to_send.txt\""
   ]
  },
  {
   "cell_type": "code",
   "execution_count": 89,
   "metadata": {},
   "outputs": [],
   "source": [
    "if (( $SECONDS > 3600 )) ; then\n",
    "    let \"hours=SECONDS/3600\"\n",
    "    let \"minutes=(SECONDS%3600)/60\"\n",
    "    let \"seconds=(SECONDS%3600)%60\"\n",
    "    echo \"Completed in $hours hour(s), $minutes minute(s) and $seconds second(s)\" >> \"${gmolabeler_path}/email_to_send.txt\"\n",
    "elif (( $SECONDS > 60 )) ; then\n",
    "    let \"minutes=(SECONDS%3600)/60\"\n",
    "    let \"seconds=(SECONDS%3600)%60\"\n",
    "    echo \"Completed in $minutes minute(s) and $seconds second(s)\" >> \"${gmolabeler_path}/email_to_send.txt\"\n",
    "else\n",
    "    echo \"Completed in $SECONDS seconds\" >> \"${gmolabeler_path}/email_to_send.txt\"\n",
    "fi"
   ]
  },
  {
   "cell_type": "code",
   "execution_count": 90,
   "metadata": {},
   "outputs": [],
   "source": [
    "echo \"\" >> \"${gmolabeler_path}/email_to_send.txt\""
   ]
  },
  {
   "cell_type": "markdown",
   "metadata": {},
   "source": [
    "### Send email with results to user"
   ]
  },
  {
   "cell_type": "code",
   "execution_count": 91,
   "metadata": {},
   "outputs": [
    {
     "name": "stdout",
     "output_type": "stream",
     "text": [
      "/home/labgroup/code/GMOlabeler/plots/Elements_10/Transformation/GRF_Poplar/GRF1_Phase_2/wk3\n"
     ]
    }
   ],
   "source": [
    "pwd"
   ]
  },
  {
   "cell_type": "code",
   "execution_count": 92,
   "metadata": {},
   "outputs": [],
   "source": [
    "conda deactivate"
   ]
  },
  {
   "cell_type": "code",
   "execution_count": 93,
   "metadata": {},
   "outputs": [],
   "source": [
    "mail -a $data_folder_Compress -s $data_folder $email < \"${gmolabeler_path}/email_to_send.txt\""
   ]
  },
  {
   "cell_type": "code",
   "execution_count": 94,
   "metadata": {},
   "outputs": [
    {
     "name": "stdout",
     "output_type": "stream",
     "text": [
      "Error in certificate: Peer's certificate issuer is not recognized.\n",
      "2.6M\tlements_10--Transformation-GRF_Poplar-GRF1_Phase_2-wk3-.zip\n"
     ]
    }
   ],
   "source": [
    "du -sh $data_folder_Compress"
   ]
  },
  {
   "cell_type": "code",
   "execution_count": 95,
   "metadata": {},
   "outputs": [
    {
     "name": "stdout",
     "output_type": "stream",
     "text": [
      "\n",
      "Your job is complete!\n",
      "\n",
      "Number of samples run: \n",
      "25\n",
      "\n",
      "Completed in 2 hour(s), 57 minute(s) and 34 second(s)\n",
      "\n"
     ]
    }
   ],
   "source": [
    "cat \"${gmolabeler_path}/email_to_send.txt\""
   ]
  },
  {
   "cell_type": "markdown",
   "metadata": {},
   "source": [
    "Time workflow ends:"
   ]
  },
  {
   "cell_type": "code",
   "execution_count": 96,
   "metadata": {},
   "outputs": [
    {
     "name": "stdout",
     "output_type": "stream",
     "text": [
      "Sun Mar 28 23:30:55 PDT 2021\n"
     ]
    }
   ],
   "source": [
    "echo $(date)"
   ]
  },
  {
   "cell_type": "code",
   "execution_count": null,
   "metadata": {},
   "outputs": [],
   "source": []
  },
  {
   "cell_type": "code",
   "execution_count": null,
   "metadata": {},
   "outputs": [],
   "source": []
  },
  {
   "cell_type": "code",
   "execution_count": null,
   "metadata": {},
   "outputs": [],
   "source": []
  },
  {
   "cell_type": "code",
   "execution_count": null,
   "metadata": {},
   "outputs": [],
   "source": []
  },
  {
   "cell_type": "code",
   "execution_count": null,
   "metadata": {},
   "outputs": [],
   "source": []
  },
  {
   "cell_type": "code",
   "execution_count": null,
   "metadata": {},
   "outputs": [],
   "source": []
  },
  {
   "cell_type": "code",
   "execution_count": null,
   "metadata": {},
   "outputs": [],
   "source": []
  },
  {
   "cell_type": "code",
   "execution_count": null,
   "metadata": {},
   "outputs": [],
   "source": []
  },
  {
   "cell_type": "code",
   "execution_count": null,
   "metadata": {},
   "outputs": [],
   "source": []
  },
  {
   "cell_type": "code",
   "execution_count": null,
   "metadata": {},
   "outputs": [],
   "source": []
  },
  {
   "cell_type": "code",
   "execution_count": null,
   "metadata": {},
   "outputs": [],
   "source": []
  },
  {
   "cell_type": "code",
   "execution_count": null,
   "metadata": {},
   "outputs": [],
   "source": []
  },
  {
   "cell_type": "code",
   "execution_count": null,
   "metadata": {},
   "outputs": [],
   "source": []
  },
  {
   "cell_type": "code",
   "execution_count": null,
   "metadata": {},
   "outputs": [],
   "source": []
  },
  {
   "cell_type": "code",
   "execution_count": null,
   "metadata": {},
   "outputs": [],
   "source": []
  },
  {
   "cell_type": "code",
   "execution_count": null,
   "metadata": {},
   "outputs": [],
   "source": []
  },
  {
   "cell_type": "code",
   "execution_count": null,
   "metadata": {},
   "outputs": [],
   "source": []
  }
 ],
 "metadata": {
  "kernelspec": {
   "display_name": "Bash",
   "language": "bash",
   "name": "bash"
  },
  "language_info": {
   "codemirror_mode": "shell",
   "file_extension": ".sh",
   "mimetype": "text/x-sh",
   "name": "bash"
  },
  "toc-autonumbering": true
 },
 "nbformat": 4,
 "nbformat_minor": 4
}
