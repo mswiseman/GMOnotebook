{
 "cells": [
  {
   "cell_type": "markdown",
   "metadata": {},
   "source": [
    "# *GMOnotebook*: Template to analyze a new batch of images\n",
    "**Notebook template for applying routine hyperspectral/segmentation cross-analysis phenomics workflow over new datasets**"
   ]
  },
  {
   "cell_type": "markdown",
   "metadata": {},
   "source": [
    "- v0.2.0 onward applies the Python `GMOdetector` package instead of the deprecated R `GMOdetectoR` package, for much faster runtime\n",
    "- v0.2.01 has calls to `conda` cleaned up with `conda activate` and `conda deactivate` in the same code blocks to avoid any problems with warnings/errors preventing automatic execution of subsequent blocks\n",
    "- v0.2.02 is cleaned up using path variables (declared in notebook) instead of hardcoded paths, for portability\n",
    "- v0.2.03 is more clean to avoid running alignment-processed images through `inference.py` if an analysis if being repeated... also has better instructions\n",
    "- v.0.2.05 is updated to work with FAA wk7. Specifically, there are updates to deal with increased image resolution (y~=2000), off-center images, and rotated images, including metadata normalization and user inputs for parameterized grid cropping.\n",
    "- v.0.2.07 is updated to deal with the fact that the user may wish to either use an existing homography matrix or produce a new one for alignment... and also to allow the user to easily adjust grid borders, both for contamination model and GMOlabeler modules."
   ]
  },
  {
   "cell_type": "markdown",
   "metadata": {},
   "source": [
    "<img src=\"Figures/WorkflowFlowchart.png\">"
   ]
  },
  {
   "cell_type": "markdown",
   "metadata": {},
   "source": [
    "In this workflow, images taken with the macroPhor Array dual RGB/hyperspectral imaging platform are analyzed by a workflow in which regression quantifies fluorescent signals in hyperspectral images, deep learning segments RGB images into different tissues, and these datasets are cross-referenced to produce statistics on growth of transgenic callus and shoot."
   ]
  },
  {
   "cell_type": "markdown",
   "metadata": {},
   "source": [
    "## Instructions for use\n",
    "1.  Enter information for the experiment below\n",
    "2. Set <font color=blue>variables</font> for data paths and parameters, as instructed by colored boxes.\n",
    "3. \"Save as\" with filename describing experiment and anything special about this analysis (e.g. T18_OD_TAO_wk7_automation_test_attempt2.ipynb)\n",
    "4. Run notebook from console, by either one of two methods:\n",
    "- In the top bar of JupyterLab, select \"Run\" and \"Run all cells\"\n",
    "- In a terminal, enter the below command with the notebook filename inserted<br>\n",
    "```jupyter nbconvert --to HTML --ExecutePreprocessor.timeout=-1 --allow-errors --execute insert_filename_here```\n",
    "5. Wait for email"
   ]
  },
  {
   "cell_type": "markdown",
   "metadata": {},
   "source": [
    "## Experiment ID and quick description:"
   ]
  },
  {
   "cell_type": "markdown",
   "metadata": {},
   "source": [
    "<div class=\"alert alert-block alert-success\">\n",
    "Provide a short description of the experiment in the below box. This should include unique identifier codes for the experiment, along with a short description of genotypes and treatments studied. The timepoint should also be included. </div>"
   ]
  },
  {
   "cell_type": "raw",
   "metadata": {},
   "source": [
    "GLK wk 7 - first attempt running transformation GWAS data"
   ]
  },
  {
   "cell_type": "markdown",
   "metadata": {
    "heading_collapsed": "true"
   },
   "source": [
    "## Parameters for analysis:"
   ]
  },
  {
   "cell_type": "markdown",
   "metadata": {},
   "source": [
    "<div class=\"alert alert-block alert-success\">\n",
    "The below variables must be modified appropriately every time this workflow is run over new images.\n",
    "</div>"
   ]
  },
  {
   "cell_type": "markdown",
   "metadata": {},
   "source": [
    "### Data location\n",
    "The `data` variable below provides the **complete** path to the folder containing data to be analyzed. This should include all folders and subfolders in which the data of interest is organized by. For the organizational system used for our lab's data, this should follow the format \"/Experiment/Subexperiment/Timepoint/\""
   ]
  },
  {
   "cell_type": "code",
   "execution_count": 1,
   "metadata": {},
   "outputs": [
    {
     "name": "stdout",
     "output_type": "stream",
     "text": [
      "\u001b[?2004h"
     ]
    },
    {
     "ename": "",
     "evalue": "1",
     "output_type": "error",
     "traceback": []
    }
   ],
   "source": [
    "data_prefix=\"/media/michael/Elements_12/\""
   ]
  },
  {
   "cell_type": "code",
   "execution_count": 2,
   "metadata": {},
   "outputs": [
    {
     "name": "stdout",
     "output_type": "stream",
     "text": [
      "\u001b[?2004h"
     ]
    },
    {
     "ename": "",
     "evalue": "1",
     "output_type": "error",
     "traceback": []
    }
   ],
   "source": [
    "data=\"${data_prefix}/GWAS_Transformation/GTK/wk7/\""
   ]
  },
  {
   "cell_type": "markdown",
   "metadata": {},
   "source": [
    "### Sample information\n",
    "Every experiment has a randomization datasheet, which was used to organize treatment and genotype information for each plate, prepare labels, and randomize plates. The path to this file is provided through the `randomization_datasheets` variable below. This workflow requires this datasheet in order to know which plates have which genotype/treatment. At a later date, we will integrate an ability to read this data directly from labels."
   ]
  },
  {
   "cell_type": "code",
   "execution_count": 3,
   "metadata": {},
   "outputs": [
    {
     "name": "stdout",
     "output_type": "stream",
     "text": [
      "\u001b[?2004h"
     ]
    },
    {
     "ename": "",
     "evalue": "1",
     "output_type": "error",
     "traceback": []
    }
   ],
   "source": [
    "randomization_datasheet=\"${data_prefix}/GWAS_Transformation/GTK/Phase_GTK_48_genotypes_02.01.21-02.05.21_labels.csv\""
   ]
  },
  {
   "cell_type": "markdown",
   "metadata": {},
   "source": [
    "### Detection of missing or contaminated explants"
   ]
  },
  {
   "cell_type": "markdown",
   "metadata": {},
   "source": [
    "Set the `missing_explants` variable to `\"Automatic\"` if using model to automatically detect missing and contaminated explants. Note that this model is only supported for plates with 12 explants. Otherwise, provide an appropriately formatted `.csv` spreadsheet (see example)  of manually scored contamination / missing explant data."
   ]
  },
  {
   "cell_type": "code",
   "execution_count": 4,
   "metadata": {},
   "outputs": [
    {
     "name": "stdout",
     "output_type": "stream",
     "text": [
      "\u001b[?2004h"
     ]
    },
    {
     "ename": "",
     "evalue": "1",
     "output_type": "error",
     "traceback": []
    }
   ],
   "source": [
    "missing_explants=\"Automatic\""
   ]
  },
  {
   "cell_type": "markdown",
   "metadata": {},
   "source": [
    "Enter your email where results will be sent"
   ]
  },
  {
   "cell_type": "markdown",
   "metadata": {},
   "source": [
    "### Email"
   ]
  },
  {
   "cell_type": "code",
   "execution_count": 5,
   "metadata": {},
   "outputs": [
    {
     "name": "stdout",
     "output_type": "stream",
     "text": [
      "\u001b[?2004h"
     ]
    },
    {
     "ename": "",
     "evalue": "1",
     "output_type": "error",
     "traceback": []
    }
   ],
   "source": [
    "email=michael.nagle@oregonstate.edu"
   ]
  },
  {
   "cell_type": "markdown",
   "metadata": {},
   "source": [
    "\n",
    "\n",
    "\n",
    "\n",
    "\n",
    "\n",
    "\n",
    "\n",
    "\n",
    "\n",
    "\n",
    "\n",
    "\n",
    "\n",
    "\n",
    "<div class=\"alert alert-block alert-warning\">\n",
    "All variables below should be modified only as needed to indicate the fluorescent proteins in samples and the grid layout of explants. </div>"
   ]
  },
  {
   "cell_type": "markdown",
   "metadata": {},
   "source": [
    "### Fluorescent protein settings"
   ]
  },
  {
   "cell_type": "markdown",
   "metadata": {},
   "source": [
    "Below should be all known fluorescent components contained in the sample. This includes each fluorescent protein, as well as a \"noise\" or \"diffraction\" term if applicable. All of these components must exist in the user's spectral library. `GMOdetector` currently comes with a spectral library that includes, by default:\n",
    "- DsRed\n",
    "- ZsYellow\n",
    "- GFP\n",
    "- Chl\n",
    "- ChlA\n",
    "- ChlB\n",
    "- Diffraction"
   ]
  },
  {
   "cell_type": "code",
   "execution_count": 6,
   "metadata": {},
   "outputs": [
    {
     "name": "stdout",
     "output_type": "stream",
     "text": [
      "\u001b[?2004h"
     ]
    },
    {
     "ename": "",
     "evalue": "1",
     "output_type": "error",
     "traceback": []
    }
   ],
   "source": [
    "fluorophores=(GFP Chl Diffraction) # An explanation of array variables in bash is here: https://tldp.org/LDP/Bash-Beginners-Guide/html/sect_10_02.html"
   ]
  },
  {
   "cell_type": "markdown",
   "metadata": {},
   "source": [
    "The user has the option of limiting loading of hyperspectral data and subsequent regression to a specific range of wavelengths, using the `desired_wavelength_range` array variable. This range should cover all fluorophores provided in the `fluorophores` array variable able. Aside from runtime, there is no disadvantage to including a wider range than is needed."
   ]
  },
  {
   "cell_type": "code",
   "execution_count": 72,
   "metadata": {},
   "outputs": [
    {
     "name": "stdout",
     "output_type": "stream",
     "text": [
      "\u001b[?2004h"
     ]
    },
    {
     "ename": "",
     "evalue": "1",
     "output_type": "error",
     "traceback": []
    }
   ],
   "source": [
    "desired_wavelength_range=(500 900)"
   ]
  },
  {
   "cell_type": "code",
   "execution_count": 73,
   "metadata": {},
   "outputs": [
    {
     "name": "stdout",
     "output_type": "stream",
     "text": [
      "5002004l\n",
      "\u001b[?2004h"
     ]
    },
    {
     "ename": "",
     "evalue": "1",
     "output_type": "error",
     "traceback": []
    }
   ],
   "source": [
    "echo $desired_wavelength_range"
   ]
  },
  {
   "cell_type": "markdown",
   "metadata": {},
   "source": [
    "### False color plot settings"
   ]
  },
  {
   "cell_type": "markdown",
   "metadata": {},
   "source": [
    "To assist user inspection of regression results, false color plots can be produced by `GMOdetector` to show results of regression over whole samples. \n",
    "Note: In v0.2.0.x of the workflow, these parameters are independent of those used later by `GMOlabeler` to produce by-explant plots including false color plots. These will be made the same in a later update.\n",
    "The `FalseColor_channels` array variable indicates the components to be plotted as red, green and blue, in that order."
   ]
  },
  {
   "cell_type": "code",
   "execution_count": 7,
   "metadata": {},
   "outputs": [
    {
     "name": "stdout",
     "output_type": "stream",
     "text": [
      "\u001b[?2004h"
     ]
    },
    {
     "ename": "",
     "evalue": "1",
     "output_type": "error",
     "traceback": []
    }
   ],
   "source": [
    "FalseColor_channels=(Chl GFP Diffraction)"
   ]
  },
  {
   "cell_type": "markdown",
   "metadata": {},
   "source": [
    "The `FalseColor_caps` array variable indicates an upper limit of signal for each of these component. Any signal at or above these values will appear with maximum brightness; thus, these variables are comparable to exposure on a camera. If caps are too high, not much signal at lower ranges will be seen. If cap for a given component is too low, the false color images will appear overexposed with respect to the component."
   ]
  },
  {
   "cell_type": "code",
   "execution_count": null,
   "metadata": {},
   "outputs": [],
   "source": [
    "FalseColor_caps=(200 400 50)"
   ]
  },
  {
   "cell_type": "markdown",
   "metadata": {},
   "source": [
    "`GMOlabeler` will use the below parameters to classify individual explants on plates as transgenic or not."
   ]
  },
  {
   "cell_type": "code",
   "execution_count": 8,
   "metadata": {},
   "outputs": [
    {
     "name": "stdout",
     "output_type": "stream",
     "text": [
      "\u001b[?2004h\u001b[?2004l"
     ]
    },
    {
     "ename": "",
     "evalue": "1",
     "output_type": "error",
     "traceback": []
    }
   ],
   "source": [
    "reporter=GFP\n",
    "#reporter=DsRed"
   ]
  },
  {
   "cell_type": "markdown",
   "metadata": {},
   "source": [
    "Parameters for reporter signal threshold and pixel threshold must be provided by the user. Our grid search yielded several noted below. These were most recently calculated from statistics produced with Python `GMOdetector`."
   ]
  },
  {
   "cell_type": "markdown",
   "metadata": {},
   "source": [
    "<img src=\"Figures/GMOlabeler_parameters.png\">"
   ]
  },
  {
   "cell_type": "code",
   "execution_count": 10,
   "metadata": {},
   "outputs": [
    {
     "name": "stdout",
     "output_type": "stream",
     "text": [
      "\u001b[?2004h\u001b[?2004l"
     ]
    },
    {
     "ename": "",
     "evalue": "1",
     "output_type": "error",
     "traceback": []
    }
   ],
   "source": [
    "reporter_threshold=38\n",
    "pixel_threshold=3"
   ]
  },
  {
   "cell_type": "markdown",
   "metadata": {},
   "source": [
    "### Grid settings"
   ]
  },
  {
   "cell_type": "markdown",
   "metadata": {},
   "source": [
    "Currently, `GMOlabeler` distinguishes explants by their expected position on a plate. This is supported for plates with 12 or 20 explants, arranged in specific positions on a grid. False positives may result in cases in which one explant grows to such an extent that it intrudes into the grid square meant for an adjacent explant. <br>In the future, an additional neural network will be used to segment individual explants on a per-pixel basis, avoiding the need for crude cropping, and the outputs from the resulting model will be integrated with `GMOlabeler`."
   ]
  },
  {
   "cell_type": "markdown",
   "metadata": {},
   "source": [
    "Cropping to grid squares is supported for standard grids with 12 or 20 explants, as indicated by the `grid` variable. An image of each grid square (with a file path provided by the `grid_file` variable) will be superimposed over each image during `GMOlabeler` analysis to allow the user to easily inspect and verify grid positions."
   ]
  },
  {
   "cell_type": "code",
   "execution_count": 11,
   "metadata": {},
   "outputs": [
    {
     "name": "stdout",
     "output_type": "stream",
     "text": [
      "\u001b[?2004h"
     ]
    },
    {
     "ename": "",
     "evalue": "1",
     "output_type": "error",
     "traceback": []
    }
   ],
   "source": [
    "grid=12"
   ]
  },
  {
   "cell_type": "markdown",
   "metadata": {},
   "source": [
    "Define grid borders for the grid with an image size of 2000x2000, not yet aligned to hyperspectral images. These borders will be used for the contamination model."
   ]
  },
  {
   "cell_type": "code",
   "execution_count": 12,
   "metadata": {},
   "outputs": [
    {
     "name": "stdout",
     "output_type": "stream",
     "text": [
      "\u001b[?2004h"
     ]
    },
    {
     "ename": "",
     "evalue": "1",
     "output_type": "error",
     "traceback": []
    }
   ],
   "source": [
    "pre_aligned_resized_grid_borders=(\"302,420,1746,1516\")"
   ]
  },
  {
   "cell_type": "markdown",
   "metadata": {},
   "source": [
    "Define grid borders for the grid after alignment. If unsure what to use, you may wish to wait until after alignment and inspection of results to set this parameter."
   ]
  },
  {
   "cell_type": "code",
   "execution_count": 126,
   "metadata": {},
   "outputs": [
    {
     "name": "stdout",
     "output_type": "stream",
     "text": [
      "\u001b[?2004h"
     ]
    },
    {
     "ename": "",
     "evalue": "1",
     "output_type": "error",
     "traceback": []
    }
   ],
   "source": [
    "aligned_grid_borders=\"110 1356 1168 222\""
   ]
  },
  {
   "cell_type": "markdown",
   "metadata": {},
   "source": [
    "<div class=\"alert alert-block alert-danger\">\n",
    "The below variables do not need to be modified during any routine use of the workflow.\n",
    "</div>"
   ]
  },
  {
   "cell_type": "markdown",
   "metadata": {},
   "source": [
    "For the following variables, use 0 (False) or 1 (True)"
   ]
  },
  {
   "cell_type": "code",
   "execution_count": 14,
   "metadata": {},
   "outputs": [
    {
     "name": "stdout",
     "output_type": "stream",
     "text": [
      "\u001b[?2004h"
     ]
    },
    {
     "ename": "",
     "evalue": "1",
     "output_type": "error",
     "traceback": []
    }
   ],
   "source": [
    "composite=1"
   ]
  },
  {
   "cell_type": "markdown",
   "metadata": {},
   "source": [
    "Set dimensions for plot outputs"
   ]
  },
  {
   "cell_type": "code",
   "execution_count": 15,
   "metadata": {},
   "outputs": [
    {
     "name": "stdout",
     "output_type": "stream",
     "text": [
      "\u001b[?2004h\u001b[?2004l\u001b[?2004l"
     ]
    },
    {
     "ename": "",
     "evalue": "1",
     "output_type": "error",
     "traceback": []
    }
   ],
   "source": [
    "#width=15\n",
    "width=9\n",
    "height=5"
   ]
  },
  {
   "cell_type": "code",
   "execution_count": 16,
   "metadata": {},
   "outputs": [
    {
     "name": "stdout",
     "output_type": "stream",
     "text": [
      "\u001b[?2004h"
     ]
    },
    {
     "ename": "",
     "evalue": "1",
     "output_type": "error",
     "traceback": []
    }
   ],
   "source": [
    "parallel=0"
   ]
  },
  {
   "cell_type": "markdown",
   "metadata": {},
   "source": [
    "### Alignment settings"
   ]
  },
  {
   "cell_type": "markdown",
   "metadata": {},
   "source": [
    "Set to \"Automatic\" if generating a new homography matrix from the grid standard included in the data folder. If using an existing homography matrix, enter the name here. This file should be in the \"output\" subfolder of the path to the `ImageAlignment` module."
   ]
  },
  {
   "cell_type": "code",
   "execution_count": 17,
   "metadata": {},
   "outputs": [
    {
     "name": "stdout",
     "output_type": "stream",
     "text": [
      "\u001b[?2004h"
     ]
    },
    {
     "ename": "",
     "evalue": "1",
     "output_type": "error",
     "traceback": []
    }
   ],
   "source": [
    "homography=\"Automatic\""
   ]
  },
  {
   "cell_type": "markdown",
   "metadata": {},
   "source": [
    "Set to \"Automatic\" or the path to the hyperspectral channel used to produce the homography matrix provided."
   ]
  },
  {
   "cell_type": "code",
   "execution_count": 18,
   "metadata": {},
   "outputs": [
    {
     "name": "stdout",
     "output_type": "stream",
     "text": [
      "\u001b[?2004h"
     ]
    },
    {
     "ename": "",
     "evalue": "1",
     "output_type": "error",
     "traceback": []
    }
   ],
   "source": [
    "hypercube_csv=\"Automatic\""
   ]
  },
  {
   "cell_type": "markdown",
   "metadata": {},
   "source": [
    "Parameters to be used for generating a homography  matrix; these will only be used if `homography` is set to \"Automatic\""
   ]
  },
  {
   "cell_type": "code",
   "execution_count": 19,
   "metadata": {},
   "outputs": [
    {
     "name": "stdout",
     "output_type": "stream",
     "text": [
      "\u001b[?2004h\u001b[?2004l"
     ]
    },
    {
     "ename": "",
     "evalue": "1",
     "output_type": "error",
     "traceback": []
    }
   ],
   "source": [
    "distance=0.65\n",
    "gaussian_sigma=0.55"
   ]
  },
  {
   "cell_type": "markdown",
   "metadata": {},
   "source": [
    "Set to \"Automatic\" or the path to the jpg resulting from using the homography matrix (indicated by the `homography` variable) above to transform the original grid jpg"
   ]
  },
  {
   "cell_type": "code",
   "execution_count": 20,
   "metadata": {},
   "outputs": [
    {
     "name": "stdout",
     "output_type": "stream",
     "text": [
      "\u001b[?2004h"
     ]
    },
    {
     "ename": "",
     "evalue": "1",
     "output_type": "error",
     "traceback": []
    }
   ],
   "source": [
    "aligned_grid=\"Automatic\""
   ]
  },
  {
   "cell_type": "markdown",
   "metadata": {},
   "source": [
    "### Paths to workflow modules"
   ]
  },
  {
   "cell_type": "markdown",
   "metadata": {},
   "source": [
    "These only need to be modified if you are setting up a `GMOnotebook` template on a new computer."
   ]
  },
  {
   "cell_type": "code",
   "execution_count": 21,
   "metadata": {},
   "outputs": [
    {
     "name": "stdout",
     "output_type": "stream",
     "text": [
      "\u001b[?2004h"
     ]
    },
    {
     "ename": "",
     "evalue": "1",
     "output_type": "error",
     "traceback": []
    }
   ],
   "source": [
    "cwd=\"/home/michael/GMOnotebook\""
   ]
  },
  {
   "cell_type": "code",
   "execution_count": 47,
   "metadata": {},
   "outputs": [
    {
     "name": "stdout",
     "output_type": "stream",
     "text": [
      "\u001b[?2004h\u001b[?2004l\u001b[?2004l\u001b[?2004l\u001b[?2004l\u001b[?2004l\u001b[?2004l\u001b[?2004l"
     ]
    },
    {
     "ename": "",
     "evalue": "1",
     "output_type": "error",
     "traceback": []
    }
   ],
   "source": [
    "gmodetector_wd=\"/home/michael/gmodetector_py/\"\n",
    "spectral_library_path=\"${gmodetector_wd}spectral_library/\"\n",
    "deeplab_path=\"/home/michael/poplar_model_2_w_contam/\"\n",
    "alignment_path=\"/home/michael/ImageAlignment/\"\n",
    "gmolabeler_path=\"/home/michael/GMOlabeler/\"\n",
    "contamination_path=\"/home/michael/DenseNet\"\n",
    "data_prefix=\"/home/michael/data/\"\n",
    "output_directory_prefix=\"${data_prefix}gmodetector_out/\""
   ]
  },
  {
   "cell_type": "markdown",
   "metadata": {},
   "source": [
    "<div class=\"alert alert-block alert-info\">\n",
    "With all above variables set, please \"Save as...\" with a filename referencing this specific dataset. <br>Finally, deploy the workflow (Step 4 in above instructions).\n",
    "</div>"
   ]
  },
  {
   "cell_type": "markdown",
   "metadata": {},
   "source": [
    "# Automated workflow to be deployed"
   ]
  },
  {
   "cell_type": "markdown",
   "metadata": {},
   "source": [
    "See the below code for a walkthrough of how GMOnotebook works, or view the outputs after running the workflow for help troubleshooting errors in specific steps of analysis."
   ]
  },
  {
   "cell_type": "markdown",
   "metadata": {},
   "source": [
    "<div class=\"alert alert-block alert-danger\"> <b>Danger:</b> Do not modify any below code without creating a new version of the template notebook. During routine usage, this workflow should be customized only by modifying variables above, while leaving the below code unmodified. </div>"
   ]
  },
  {
   "cell_type": "markdown",
   "metadata": {},
   "source": [
    "These internal variables are set automatically."
   ]
  },
  {
   "cell_type": "code",
   "execution_count": 23,
   "metadata": {},
   "outputs": [
    {
     "name": "stdout",
     "output_type": "stream",
     "text": [
      "\u001b[?2004h"
     ]
    },
    {
     "ename": "",
     "evalue": "1",
     "output_type": "error",
     "traceback": []
    }
   ],
   "source": [
    "datestamp=$(date +”%Y-%m-%d”)"
   ]
  },
  {
   "cell_type": "code",
   "execution_count": 24,
   "metadata": {},
   "outputs": [
    {
     "name": "stdout",
     "output_type": "stream",
     "text": [
      "\u001b[?2004h"
     ]
    },
    {
     "ename": "",
     "evalue": "1",
     "output_type": "error",
     "traceback": []
    }
   ],
   "source": [
    "data_folder=$(echo $data | cut -d/ -f5-)"
   ]
  },
  {
   "cell_type": "code",
   "execution_count": 25,
   "metadata": {},
   "outputs": [
    {
     "name": "stdout",
     "output_type": "stream",
     "text": [
      "\u001b[?2004h"
     ]
    },
    {
     "ename": "",
     "evalue": "1",
     "output_type": "error",
     "traceback": []
    }
   ],
   "source": [
    "timepoint=\"$(basename -- $data_folder)\""
   ]
  },
  {
   "cell_type": "code",
   "execution_count": 26,
   "metadata": {},
   "outputs": [
    {
     "name": "stdout",
     "output_type": "stream",
     "text": [
      "\u001b[?2004h"
     ]
    },
    {
     "ename": "",
     "evalue": "1",
     "output_type": "error",
     "traceback": []
    }
   ],
   "source": [
    "output_directory_full=\"$output_directory_prefix$data_folder\""
   ]
  },
  {
   "cell_type": "code",
   "execution_count": 27,
   "metadata": {},
   "outputs": [
    {
     "name": "stdout",
     "output_type": "stream",
     "text": [
      "\u001b[?2004h\u001b[?2004l"
     ]
    },
    {
     "ename": "",
     "evalue": "1",
     "output_type": "error",
     "traceback": []
    }
   ],
   "source": [
    "#dataset_name=$(echo $data_folder | sed -e 's/\\//-/g')\n",
    "dataset_name=$(echo $data_folder | sed -e 's/\\///g')"
   ]
  },
  {
   "cell_type": "code",
   "execution_count": 28,
   "metadata": {},
   "outputs": [
    {
     "name": "stdout",
     "output_type": "stream",
     "text": [
      "GWAS_TransformationGTKwk7\n",
      "\u001b[?2004h"
     ]
    },
    {
     "ename": "",
     "evalue": "1",
     "output_type": "error",
     "traceback": []
    }
   ],
   "source": [
    "echo $dataset_name"
   ]
  },
  {
   "cell_type": "markdown",
   "metadata": {},
   "source": [
    "Time analysis begins:"
   ]
  },
  {
   "cell_type": "code",
   "execution_count": 30,
   "metadata": {},
   "outputs": [
    {
     "name": "stdout",
     "output_type": "stream",
     "text": [
      "Fri 12 Nov 2021 02:38:59 PM PST\n",
      "\u001b[?2004h"
     ]
    },
    {
     "ename": "",
     "evalue": "1",
     "output_type": "error",
     "traceback": []
    }
   ],
   "source": [
    "echo $(date)"
   ]
  },
  {
   "cell_type": "markdown",
   "metadata": {},
   "source": [
    "## Quantification of fluorescent proteins by regression"
   ]
  },
  {
   "cell_type": "markdown",
   "metadata": {},
   "source": [
    "The Python package `CubeGLM` is used to quantify fluorescent proteins in each pixel of hyperspectral images via linear regression. Hyperspectral images are regressed over spectra of known components, and pixelwise maps of test-statistics are constructed for each component in the sample. This approach to quantifying components of hyperspectral images is described in-depth in the Methods section from <a href=\"https://link.springer.com/article/10.1007/s40789-019-0252-7\" target=\"_blank\">Böhme, et al. 2019</a>. Code and documentation for `CubeGLM` is on <a href=\"https://github.com/naglemi/GMOdetector_py\" target=\"_blank\">Github</a>."
   ]
  },
  {
   "cell_type": "code",
   "execution_count": 29,
   "metadata": {},
   "outputs": [
    {
     "name": "stdout",
     "output_type": "stream",
     "text": [
      "\u001b[?2004h"
     ]
    },
    {
     "ename": "",
     "evalue": "1",
     "output_type": "error",
     "traceback": []
    }
   ],
   "source": [
    "cd $gmodetector_wd"
   ]
  },
  {
   "cell_type": "code",
   "execution_count": 30,
   "metadata": {},
   "outputs": [
    {
     "name": "stdout",
     "output_type": "stream",
     "text": [
      "\u001b[?2004h"
     ]
    },
    {
     "ename": "",
     "evalue": "1",
     "output_type": "error",
     "traceback": []
    }
   ],
   "source": [
    "job_list_name=\"$dataset_name.jobs\""
   ]
  },
  {
   "cell_type": "code",
   "execution_count": 31,
   "metadata": {},
   "outputs": [
    {
     "name": "stdout",
     "output_type": "stream",
     "text": [
      "GWAS_TransformationGTKwk7\n",
      "\u001b[?2004h"
     ]
    },
    {
     "ename": "",
     "evalue": "1",
     "output_type": "error",
     "traceback": []
    }
   ],
   "source": [
    "echo $dataset_name"
   ]
  },
  {
   "cell_type": "code",
   "execution_count": 32,
   "metadata": {},
   "outputs": [
    {
     "name": "stdout",
     "output_type": "stream",
     "text": [
      "\u001b[?2004h"
     ]
    },
    {
     "ename": "",
     "evalue": "1",
     "output_type": "error",
     "traceback": []
    }
   ],
   "source": [
    "rm -rf $job_list_name"
   ]
  },
  {
   "cell_type": "code",
   "execution_count": 69,
   "metadata": {},
   "outputs": [
    {
     "name": "stdout",
     "output_type": "stream",
     "text": [
      "GFP Chl Diffraction\n",
      "/home/michael/gmodetector_py/spectral_library/\n",
      "\u001b[?2004h\u001b[?2004l\n",
      "\u001b[?2004h"
     ]
    },
    {
     "ename": "",
     "evalue": "1",
     "output_type": "error",
     "traceback": []
    }
   ],
   "source": [
    "echo ${fluorophores[*]}\n",
    "echo $spectral_library_path\n",
    "echo $desired_wavelength_range"
   ]
  },
  {
   "cell_type": "code",
   "execution_count": 71,
   "metadata": {},
   "outputs": [
    {
     "name": "stdout",
     "output_type": "stream",
     "text": [
      "\u001b[?2004l\n",
      "\u001b[?2004h"
     ]
    },
    {
     "ename": "",
     "evalue": "1",
     "output_type": "error",
     "traceback": []
    }
   ],
   "source": [
    "echo $desired_wavelength_range"
   ]
  },
  {
   "cell_type": "code",
   "execution_count": 59,
   "metadata": {},
   "outputs": [
    {
     "name": "stdout",
     "output_type": "stream",
     "text": [
      "\u001b[?2004h\u001b[?2004l\u001b[?2004l\u001b[?2004l\u001b[?2004l\u001b[?2004l\u001b[?2004l\u001b[?2004l\u001b[?2004l\u001b[?2004l\u001b[?2004l\u001b[?2004l\u001b[?2004l\u001b[?2004l\u001b[?2004l\u001b[?2004l\u001b[?2004l\u001b[?2004l\u001b[?2004l"
     ]
    },
    {
     "ename": "",
     "evalue": "1",
     "output_type": "error",
     "traceback": []
    }
   ],
   "source": [
    "for file in $data/*.hdr\n",
    "do\n",
    " if [[ \"$file\" != *'hroma'* ]] && [[ \"$file\" != *'roadband'* ]]; then\n",
    "  echo \"python -W ignore wrappers/analyze_sample.py \\\n",
    "--file_path $file \\\n",
    "--fluorophores ${fluorophores[*]} \\\n",
    "--min_desired_wavelength ${desired_wavelength_range[0]} \\\n",
    "--max_desired_wavelength ${desired_wavelength_range[1]} \\\n",
    "--red_channel ${FalseColor_channels[0]} \\\n",
    "--green_channel ${FalseColor_channels[1]} \\\n",
    "--blue_channel ${FalseColor_channels[2]} \\\n",
    "--red_cap ${FalseColor_caps[0]} \\\n",
    "--green_cap ${FalseColor_caps[1]} \\\n",
    "--blue_cap ${FalseColor_caps[2]} \\\n",
    "--plot 1 \\\n",
    "--spectral_library_path \"$spectral_library_path\" \\\n",
    "--output_dir $output_directory_full\" >> $job_list_name\n",
    " fi\n",
    "done"
   ]
  },
  {
   "cell_type": "code",
   "execution_count": 60,
   "metadata": {},
   "outputs": [
    {
     "name": "stdout",
     "output_type": "stream",
     "text": [
      "GWAS_TransformationGTKwk7.jobs\n",
      "\u001b[?2004h"
     ]
    },
    {
     "ename": "",
     "evalue": "1",
     "output_type": "error",
     "traceback": []
    }
   ],
   "source": [
    "echo $job_list_name"
   ]
  },
  {
   "cell_type": "code",
   "execution_count": 61,
   "metadata": {
    "collapsed": true,
    "jupyter": {
     "outputs_hidden": true
    }
   },
   "outputs": [
    {
     "name": "stdout",
     "output_type": "stream",
     "text": [
      "python -W ignore wrappers/analyze_sample.py --file_path /media/michael/Elements_12//GWAS_Transformation/GTK/wk7//GTK10_I5.0_F1.9_L100LED30_145729_0_0_0_Fluorescence.hdr --fluorophores GFP Chl Diffraction --min_desired_wavelength 500 --max_desired_wavelength 900 --red_channel Chl --green_channel GFP --blue_channel Diffraction --red_cap 200 --green_cap 400 --blue_cap 50 --plot 1 --spectral_library_path /home/michael/gmodetector_py/spectral_library/ --output_dir /home/michael/data/gmodetector_out//GWAS_Transformation/GTK/wk7/\n",
      "python -W ignore wrappers/analyze_sample.py --file_path /media/michael/Elements_12//GWAS_Transformation/GTK/wk7//GTK10_I5.0_F1.9_L100LED30_145850_1_0_1_Fluorescence.hdr --fluorophores GFP Chl Diffraction --min_desired_wavelength 500 --max_desired_wavelength 900 --red_channel Chl --green_channel GFP --blue_channel Diffraction --red_cap 200 --green_cap 400 --blue_cap 50 --plot 1 --spectral_library_path /home/michael/gmodetector_py/spectral_library/ --output_dir /home/michael/data/gmodetector_out//GWAS_Transformation/GTK/wk7/\n",
      "python -W ignore wrappers/analyze_sample.py --file_path /media/michael/Elements_12//GWAS_Transformation/GTK/wk7//GTK10_I5.0_F1.9_L100LED30_150028_2_0_2_Fluorescence.hdr --fluorophores GFP Chl Diffraction --min_desired_wavelength 500 --max_desired_wavelength 900 --red_channel Chl --green_channel GFP --blue_channel Diffraction --red_cap 200 --green_cap 400 --blue_cap 50 --plot 1 --spectral_library_path /home/michael/gmodetector_py/spectral_library/ --output_dir /home/michael/data/gmodetector_out//GWAS_Transformation/GTK/wk7/\n",
      "python -W ignore wrappers/analyze_sample.py --file_path /media/michael/Elements_12//GWAS_Transformation/GTK/wk7//GTK10_I5.0_F1.9_L100LED30_150204_3_0_3_Fluorescence.hdr --fluorophores GFP Chl Diffraction --min_desired_wavelength 500 --max_desired_wavelength 900 --red_channel Chl --green_channel GFP --blue_channel Diffraction --red_cap 200 --green_cap 400 --blue_cap 50 --plot 1 --spectral_library_path /home/michael/gmodetector_py/spectral_library/ --output_dir /home/michael/data/gmodetector_out//GWAS_Transformation/GTK/wk7/\n",
      "python -W ignore wrappers/analyze_sample.py --file_path /media/michael/Elements_12//GWAS_Transformation/GTK/wk7//GTK10_I5.0_F1.9_L100LED30_150338_4_0_4_Fluorescence.hdr --fluorophores GFP Chl Diffraction --min_desired_wavelength 500 --max_desired_wavelength 900 --red_channel Chl --green_channel GFP --blue_channel Diffraction --red_cap 200 --green_cap 400 --blue_cap 50 --plot 1 --spectral_library_path /home/michael/gmodetector_py/spectral_library/ --output_dir /home/michael/data/gmodetector_out//GWAS_Transformation/GTK/wk7/\n",
      "python -W ignore wrappers/analyze_sample.py --file_path /media/michael/Elements_12//GWAS_Transformation/GTK/wk7//GTK10_I5.0_F1.9_L100LED30_150516_5_0_5_Fluorescence.hdr --fluorophores GFP Chl Diffraction --min_desired_wavelength 500 --max_desired_wavelength 900 --red_channel Chl --green_channel GFP --blue_channel Diffraction --red_cap 200 --green_cap 400 --blue_cap 50 --plot 1 --spectral_library_path /home/michael/gmodetector_py/spectral_library/ --output_dir /home/michael/data/gmodetector_out//GWAS_Transformation/GTK/wk7/\n",
      "python -W ignore wrappers/analyze_sample.py --file_path /media/michael/Elements_12//GWAS_Transformation/GTK/wk7//GTK10_I5.0_F1.9_L100LED30_150651_6_0_6_Fluorescence.hdr --fluorophores GFP Chl Diffraction --min_desired_wavelength 500 --max_desired_wavelength 900 --red_channel Chl --green_channel GFP --blue_channel Diffraction --red_cap 200 --green_cap 400 --blue_cap 50 --plot 1 --spectral_library_path /home/michael/gmodetector_py/spectral_library/ --output_dir /home/michael/data/gmodetector_out//GWAS_Transformation/GTK/wk7/\n",
      "python -W ignore wrappers/analyze_sample.py --file_path /media/michael/Elements_12//GWAS_Transformation/GTK/wk7//GTK10_I5.0_F1.9_L100LED30_150826_7_1_2_Fluorescence.hdr --fluorophores GFP Chl Diffraction --min_desired_wavelength 500 --max_desired_wavelength 900 --red_channel Chl --green_channel GFP --blue_channel Diffraction --red_cap 200 --green_cap 400 --blue_cap 50 --plot 1 --spectral_library_path /home/michael/gmodetector_py/spectral_library/ --output_dir /home/michael/data/gmodetector_out//GWAS_Transformation/GTK/wk7/\n",
      "python -W ignore wrappers/analyze_sample.py --file_path /media/michael/Elements_12//GWAS_Transformation/GTK/wk7//GTK10_I5.0_F1.9_L100LED30_151019_8_1_1_Fluorescence.hdr --fluorophores GFP Chl Diffraction --min_desired_wavelength 500 --max_desired_wavelength 900 --red_channel Chl --green_channel GFP --blue_channel Diffraction --red_cap 200 --green_cap 400 --blue_cap 50 --plot 1 --spectral_library_path /home/michael/gmodetector_py/spectral_library/ --output_dir /home/michael/data/gmodetector_out//GWAS_Transformation/GTK/wk7/\n",
      "python -W ignore wrappers/analyze_sample.py --file_path /media/michael/Elements_12//GWAS_Transformation/GTK/wk7//GTK10_I5.0_F1.9_L100LED30_151156_9_1_0_Fluorescence.hdr --fluorophores GFP Chl Diffraction --min_desired_wavelength 500 --max_desired_wavelength 900 --red_channel Chl --green_channel GFP --blue_channel Diffraction --red_cap 200 --green_cap 400 --blue_cap 50 --plot 1 --spectral_library_path /home/michael/gmodetector_py/spectral_library/ --output_dir /home/michael/data/gmodetector_out//GWAS_Transformation/GTK/wk7/\n",
      "python -W ignore wrappers/analyze_sample.py --file_path /media/michael/Elements_12//GWAS_Transformation/GTK/wk7//GTK11_I5.0_F1.9_L100LED30_175028_0_0_0_Fluorescence.hdr --fluorophores GFP Chl Diffraction --min_desired_wavelength 500 --max_desired_wavelength 900 --red_channel Chl --green_channel GFP --blue_channel Diffraction --red_cap 200 --green_cap 400 --blue_cap 50 --plot 1 --spectral_library_path /home/michael/gmodetector_py/spectral_library/ --output_dir /home/michael/data/gmodetector_out//GWAS_Transformation/GTK/wk7/\n",
      "python -W ignore wrappers/analyze_sample.py --file_path /media/michael/Elements_12//GWAS_Transformation/GTK/wk7//GTK11_I5.0_F1.9_L100LED30_175146_1_0_1_Fluorescence.hdr --fluorophores GFP Chl Diffraction --min_desired_wavelength 500 --max_desired_wavelength 900 --red_channel Chl --green_channel GFP --blue_channel Diffraction --red_cap 200 --green_cap 400 --blue_cap 50 --plot 1 --spectral_library_path /home/michael/gmodetector_py/spectral_library/ --output_dir /home/michael/data/gmodetector_out//GWAS_Transformation/GTK/wk7/\n",
      "python -W ignore wrappers/analyze_sample.py --file_path /media/michael/Elements_12//GWAS_Transformation/GTK/wk7//GTK11_I5.0_F1.9_L100LED30_175323_2_0_2_Fluorescence.hdr --fluorophores GFP Chl Diffraction --min_desired_wavelength 500 --max_desired_wavelength 900 --red_channel Chl --green_channel GFP --blue_channel Diffraction --red_cap 200 --green_cap 400 --blue_cap 50 --plot 1 --spectral_library_path /home/michael/gmodetector_py/spectral_library/ --output_dir /home/michael/data/gmodetector_out//GWAS_Transformation/GTK/wk7/\n",
      "python -W ignore wrappers/analyze_sample.py --file_path /media/michael/Elements_12//GWAS_Transformation/GTK/wk7//GTK11_I5.0_F1.9_L100LED30_175459_3_0_3_Fluorescence.hdr --fluorophores GFP Chl Diffraction --min_desired_wavelength 500 --max_desired_wavelength 900 --red_channel Chl --green_channel GFP --blue_channel Diffraction --red_cap 200 --green_cap 400 --blue_cap 50 --plot 1 --spectral_library_path /home/michael/gmodetector_py/spectral_library/ --output_dir /home/michael/data/gmodetector_out//GWAS_Transformation/GTK/wk7/\n",
      "python -W ignore wrappers/analyze_sample.py --file_path /media/michael/Elements_12//GWAS_Transformation/GTK/wk7//GTK11_I5.0_F1.9_L100LED30_175635_4_0_5_Fluorescence.hdr --fluorophores GFP Chl Diffraction --min_desired_wavelength 500 --max_desired_wavelength 900 --red_channel Chl --green_channel GFP --blue_channel Diffraction --red_cap 200 --green_cap 400 --blue_cap 50 --plot 1 --spectral_library_path /home/michael/gmodetector_py/spectral_library/ --output_dir /home/michael/data/gmodetector_out//GWAS_Transformation/GTK/wk7/\n",
      "python -W ignore wrappers/analyze_sample.py --file_path /media/michael/Elements_12//GWAS_Transformation/GTK/wk7//GTK11_I5.0_F1.9_L100LED30_175813_5_0_6_Fluorescence.hdr --fluorophores GFP Chl Diffraction --min_desired_wavelength 500 --max_desired_wavelength 900 --red_channel Chl --green_channel GFP --blue_channel Diffraction --red_cap 200 --green_cap 400 --blue_cap 50 --plot 1 --spectral_library_path /home/michael/gmodetector_py/spectral_library/ --output_dir /home/michael/data/gmodetector_out//GWAS_Transformation/GTK/wk7/\n",
      "python -W ignore wrappers/analyze_sample.py --file_path /media/michael/Elements_12//GWAS_Transformation/GTK/wk7//GTK11_I5.0_F1.9_L100LED30_175950_6_1_6_Fluorescence.hdr --fluorophores GFP Chl Diffraction --min_desired_wavelength 500 --max_desired_wavelength 900 --red_channel Chl --green_channel GFP --blue_channel Diffraction --red_cap 200 --green_cap 400 --blue_cap 50 --plot 1 --spectral_library_path /home/michael/gmodetector_py/spectral_library/ --output_dir /home/michael/data/gmodetector_out//GWAS_Transformation/GTK/wk7/\n",
      "python -W ignore wrappers/analyze_sample.py --file_path /media/michael/Elements_12//GWAS_Transformation/GTK/wk7//GTK11_I5.0_F1.9_L100LED30_180116_7_1_5_Fluorescence.hdr --fluorophores GFP Chl Diffraction --min_desired_wavelength 500 --max_desired_wavelength 900 --red_channel Chl --green_channel GFP --blue_channel Diffraction --red_cap 200 --green_cap 400 --blue_cap 50 --plot 1 --spectral_library_path /home/michael/gmodetector_py/spectral_library/ --output_dir /home/michael/data/gmodetector_out//GWAS_Transformation/GTK/wk7/\n",
      "python -W ignore wrappers/analyze_sample.py --file_path /media/michael/Elements_12//GWAS_Transformation/GTK/wk7//GTK11_I5.0_F1.9_L100LED30_180253_8_1_4_Fluorescence.hdr --fluorophores GFP Chl Diffraction --min_desired_wavelength 500 --max_desired_wavelength 900 --red_channel Chl --green_channel GFP --blue_channel Diffraction --red_cap 200 --green_cap 400 --blue_cap 50 --plot 1 --spectral_library_path /home/michael/gmodetector_py/spectral_library/ --output_dir /home/michael/data/gmodetector_out//GWAS_Transformation/GTK/wk7/\n",
      "python -W ignore wrappers/analyze_sample.py --file_path /media/michael/Elements_12//GWAS_Transformation/GTK/wk7//GTK11_I5.0_F1.9_L100LED30_180426_9_1_3_Fluorescence.hdr --fluorophores GFP Chl Diffraction --min_desired_wavelength 500 --max_desired_wavelength 900 --red_channel Chl --green_channel GFP --blue_channel Diffraction --red_cap 200 --green_cap 400 --blue_cap 50 --plot 1 --spectral_library_path /home/michael/gmodetector_py/spectral_library/ --output_dir /home/michael/data/gmodetector_out//GWAS_Transformation/GTK/wk7/\n",
      "python -W ignore wrappers/analyze_sample.py --file_path /media/michael/Elements_12//GWAS_Transformation/GTK/wk7//GTK11_I5.0_F1.9_L100LED30_180602_10_1_2_Fluorescence.hdr --fluorophores GFP Chl Diffraction --min_desired_wavelength 500 --max_desired_wavelength 900 --red_channel Chl --green_channel GFP --blue_channel Diffraction --red_cap 200 --green_cap 400 --blue_cap 50 --plot 1 --spectral_library_path /home/michael/gmodetector_py/spectral_library/ --output_dir /home/michael/data/gmodetector_out//GWAS_Transformation/GTK/wk7/\n",
      "python -W ignore wrappers/analyze_sample.py --file_path /media/michael/Elements_12//GWAS_Transformation/GTK/wk7//GTK11_I5.0_F1.9_L100LED30_180738_11_1_1_Fluorescence.hdr --fluorophores GFP Chl Diffraction --min_desired_wavelength 500 --max_desired_wavelength 900 --red_channel Chl --green_channel GFP --blue_channel Diffraction --red_cap 200 --green_cap 400 --blue_cap 50 --plot 1 --spectral_library_path /home/michael/gmodetector_py/spectral_library/ --output_dir /home/michael/data/gmodetector_out//GWAS_Transformation/GTK/wk7/\n",
      "python -W ignore wrappers/analyze_sample.py --file_path /media/michael/Elements_12//GWAS_Transformation/GTK/wk7//GTK11_I5.0_F1.9_L100LED30_180914_12_1_0_Fluorescence.hdr --fluorophores GFP Chl Diffraction --min_desired_wavelength 500 --max_desired_wavelength 900 --red_channel Chl --green_channel GFP --blue_channel Diffraction --red_cap 200 --green_cap 400 --blue_cap 50 --plot 1 --spectral_library_path /home/michael/gmodetector_py/spectral_library/ --output_dir /home/michael/data/gmodetector_out//GWAS_Transformation/GTK/wk7/\n",
      "python -W ignore wrappers/analyze_sample.py --file_path /media/michael/Elements_12//GWAS_Transformation/GTK/wk7//GTK11_I5.0_F1.9_L100LED30_181050_13_2_0_Fluorescence.hdr --fluorophores GFP Chl Diffraction --min_desired_wavelength 500 --max_desired_wavelength 900 --red_channel Chl --green_channel GFP --blue_channel Diffraction --red_cap 200 --green_cap 400 --blue_cap 50 --plot 1 --spectral_library_path /home/michael/gmodetector_py/spectral_library/ --output_dir /home/michael/data/gmodetector_out//GWAS_Transformation/GTK/wk7/\n",
      "python -W ignore wrappers/analyze_sample.py --file_path /media/michael/Elements_12//GWAS_Transformation/GTK/wk7//GTK11_I5.0_F1.9_L100LED30_181219_14_2_1_Fluorescence.hdr --fluorophores GFP Chl Diffraction --min_desired_wavelength 500 --max_desired_wavelength 900 --red_channel Chl --green_channel GFP --blue_channel Diffraction --red_cap 200 --green_cap 400 --blue_cap 50 --plot 1 --spectral_library_path /home/michael/gmodetector_py/spectral_library/ --output_dir /home/michael/data/gmodetector_out//GWAS_Transformation/GTK/wk7/\n",
      "python -W ignore wrappers/analyze_sample.py --file_path /media/michael/Elements_12//GWAS_Transformation/GTK/wk7//GTK11_I5.0_F1.9_L100LED30_181354_15_2_2_Fluorescence.hdr --fluorophores GFP Chl Diffraction --min_desired_wavelength 500 --max_desired_wavelength 900 --red_channel Chl --green_channel GFP --blue_channel Diffraction --red_cap 200 --green_cap 400 --blue_cap 50 --plot 1 --spectral_library_path /home/michael/gmodetector_py/spectral_library/ --output_dir /home/michael/data/gmodetector_out//GWAS_Transformation/GTK/wk7/\n",
      "python -W ignore wrappers/analyze_sample.py --file_path /media/michael/Elements_12//GWAS_Transformation/GTK/wk7//GTK11_I5.0_F1.9_L100LED30_181530_16_2_3_Fluorescence.hdr --fluorophores GFP Chl Diffraction --min_desired_wavelength 500 --max_desired_wavelength 900 --red_channel Chl --green_channel GFP --blue_channel Diffraction --red_cap 200 --green_cap 400 --blue_cap 50 --plot 1 --spectral_library_path /home/michael/gmodetector_py/spectral_library/ --output_dir /home/michael/data/gmodetector_out//GWAS_Transformation/GTK/wk7/\n",
      "python -W ignore wrappers/analyze_sample.py --file_path /media/michael/Elements_12//GWAS_Transformation/GTK/wk7//GTK11_I5.0_F1.9_L100LED30_181704_17_2_4_Fluorescence.hdr --fluorophores GFP Chl Diffraction --min_desired_wavelength 500 --max_desired_wavelength 900 --red_channel Chl --green_channel GFP --blue_channel Diffraction --red_cap 200 --green_cap 400 --blue_cap 50 --plot 1 --spectral_library_path /home/michael/gmodetector_py/spectral_library/ --output_dir /home/michael/data/gmodetector_out//GWAS_Transformation/GTK/wk7/\n",
      "python -W ignore wrappers/analyze_sample.py --file_path /media/michael/Elements_12//GWAS_Transformation/GTK/wk7//GTK11_I5.0_F1.9_L100LED30_181839_18_2_5_Fluorescence.hdr --fluorophores GFP Chl Diffraction --min_desired_wavelength 500 --max_desired_wavelength 900 --red_channel Chl --green_channel GFP --blue_channel Diffraction --red_cap 200 --green_cap 400 --blue_cap 50 --plot 1 --spectral_library_path /home/michael/gmodetector_py/spectral_library/ --output_dir /home/michael/data/gmodetector_out//GWAS_Transformation/GTK/wk7/\n",
      "python -W ignore wrappers/analyze_sample.py --file_path /media/michael/Elements_12//GWAS_Transformation/GTK/wk7//GTK11_I5.0_F1.9_L100LED30_182014_19_2_6_Fluorescence.hdr --fluorophores GFP Chl Diffraction --min_desired_wavelength 500 --max_desired_wavelength 900 --red_channel Chl --green_channel GFP --blue_channel Diffraction --red_cap 200 --green_cap 400 --blue_cap 50 --plot 1 --spectral_library_path /home/michael/gmodetector_py/spectral_library/ --output_dir /home/michael/data/gmodetector_out//GWAS_Transformation/GTK/wk7/\n",
      "python -W ignore wrappers/analyze_sample.py --file_path /media/michael/Elements_12//GWAS_Transformation/GTK/wk7//GTK12_I5.0_F1.9_L100LED30_182500_0_0_0_Fluorescence.hdr --fluorophores GFP Chl Diffraction --min_desired_wavelength 500 --max_desired_wavelength 900 --red_channel Chl --green_channel GFP --blue_channel Diffraction --red_cap 200 --green_cap 400 --blue_cap 50 --plot 1 --spectral_library_path /home/michael/gmodetector_py/spectral_library/ --output_dir /home/michael/data/gmodetector_out//GWAS_Transformation/GTK/wk7/\n",
      "python -W ignore wrappers/analyze_sample.py --file_path /media/michael/Elements_12//GWAS_Transformation/GTK/wk7//GTK12_I5.0_F1.9_L100LED30_182624_1_0_1_Fluorescence.hdr --fluorophores GFP Chl Diffraction --min_desired_wavelength 500 --max_desired_wavelength 900 --red_channel Chl --green_channel GFP --blue_channel Diffraction --red_cap 200 --green_cap 400 --blue_cap 50 --plot 1 --spectral_library_path /home/michael/gmodetector_py/spectral_library/ --output_dir /home/michael/data/gmodetector_out//GWAS_Transformation/GTK/wk7/\n",
      "python -W ignore wrappers/analyze_sample.py --file_path /media/michael/Elements_12//GWAS_Transformation/GTK/wk7//GTK12_I5.0_F1.9_L100LED30_182817_2_0_2_Fluorescence.hdr --fluorophores GFP Chl Diffraction --min_desired_wavelength 500 --max_desired_wavelength 900 --red_channel Chl --green_channel GFP --blue_channel Diffraction --red_cap 200 --green_cap 400 --blue_cap 50 --plot 1 --spectral_library_path /home/michael/gmodetector_py/spectral_library/ --output_dir /home/michael/data/gmodetector_out//GWAS_Transformation/GTK/wk7/\n",
      "python -W ignore wrappers/analyze_sample.py --file_path /media/michael/Elements_12//GWAS_Transformation/GTK/wk7//GTK12_I5.0_F1.9_L100LED30_182955_3_0_5_Fluorescence.hdr --fluorophores GFP Chl Diffraction --min_desired_wavelength 500 --max_desired_wavelength 900 --red_channel Chl --green_channel GFP --blue_channel Diffraction --red_cap 200 --green_cap 400 --blue_cap 50 --plot 1 --spectral_library_path /home/michael/gmodetector_py/spectral_library/ --output_dir /home/michael/data/gmodetector_out//GWAS_Transformation/GTK/wk7/\n",
      "python -W ignore wrappers/analyze_sample.py --file_path /media/michael/Elements_12//GWAS_Transformation/GTK/wk7//GTK12_I5.0_F1.9_L100LED30_183141_4_0_6_Fluorescence.hdr --fluorophores GFP Chl Diffraction --min_desired_wavelength 500 --max_desired_wavelength 900 --red_channel Chl --green_channel GFP --blue_channel Diffraction --red_cap 200 --green_cap 400 --blue_cap 50 --plot 1 --spectral_library_path /home/michael/gmodetector_py/spectral_library/ --output_dir /home/michael/data/gmodetector_out//GWAS_Transformation/GTK/wk7/\n",
      "python -W ignore wrappers/analyze_sample.py --file_path /media/michael/Elements_12//GWAS_Transformation/GTK/wk7//GTK12_I5.0_F1.9_L100LED30_183319_5_1_5_Fluorescence.hdr --fluorophores GFP Chl Diffraction --min_desired_wavelength 500 --max_desired_wavelength 900 --red_channel Chl --green_channel GFP --blue_channel Diffraction --red_cap 200 --green_cap 400 --blue_cap 50 --plot 1 --spectral_library_path /home/michael/gmodetector_py/spectral_library/ --output_dir /home/michael/data/gmodetector_out//GWAS_Transformation/GTK/wk7/\n",
      "python -W ignore wrappers/analyze_sample.py --file_path /media/michael/Elements_12//GWAS_Transformation/GTK/wk7//GTK12_I5.0_F1.9_L100LED30_183445_6_1_4_Fluorescence.hdr --fluorophores GFP Chl Diffraction --min_desired_wavelength 500 --max_desired_wavelength 900 --red_channel Chl --green_channel GFP --blue_channel Diffraction --red_cap 200 --green_cap 400 --blue_cap 50 --plot 1 --spectral_library_path /home/michael/gmodetector_py/spectral_library/ --output_dir /home/michael/data/gmodetector_out//GWAS_Transformation/GTK/wk7/\n",
      "python -W ignore wrappers/analyze_sample.py --file_path /media/michael/Elements_12//GWAS_Transformation/GTK/wk7//GTK12_I5.0_F1.9_L100LED30_183619_7_1_3_Fluorescence.hdr --fluorophores GFP Chl Diffraction --min_desired_wavelength 500 --max_desired_wavelength 900 --red_channel Chl --green_channel GFP --blue_channel Diffraction --red_cap 200 --green_cap 400 --blue_cap 50 --plot 1 --spectral_library_path /home/michael/gmodetector_py/spectral_library/ --output_dir /home/michael/data/gmodetector_out//GWAS_Transformation/GTK/wk7/\n",
      "python -W ignore wrappers/analyze_sample.py --file_path /media/michael/Elements_12//GWAS_Transformation/GTK/wk7//GTK12_I5.0_F1.9_L100LED30_183753_8_1_2_Fluorescence.hdr --fluorophores GFP Chl Diffraction --min_desired_wavelength 500 --max_desired_wavelength 900 --red_channel Chl --green_channel GFP --blue_channel Diffraction --red_cap 200 --green_cap 400 --blue_cap 50 --plot 1 --spectral_library_path /home/michael/gmodetector_py/spectral_library/ --output_dir /home/michael/data/gmodetector_out//GWAS_Transformation/GTK/wk7/\n",
      "python -W ignore wrappers/analyze_sample.py --file_path /media/michael/Elements_12//GWAS_Transformation/GTK/wk7//GTK12_I5.0_F1.9_L100LED30_183933_9_1_1_Fluorescence.hdr --fluorophores GFP Chl Diffraction --min_desired_wavelength 500 --max_desired_wavelength 900 --red_channel Chl --green_channel GFP --blue_channel Diffraction --red_cap 200 --green_cap 400 --blue_cap 50 --plot 1 --spectral_library_path /home/michael/gmodetector_py/spectral_library/ --output_dir /home/michael/data/gmodetector_out//GWAS_Transformation/GTK/wk7/\n",
      "python -W ignore wrappers/analyze_sample.py --file_path /media/michael/Elements_12//GWAS_Transformation/GTK/wk7//GTK12_I5.0_F1.9_L100LED30_184108_10_1_0_Fluorescence.hdr --fluorophores GFP Chl Diffraction --min_desired_wavelength 500 --max_desired_wavelength 900 --red_channel Chl --green_channel GFP --blue_channel Diffraction --red_cap 200 --green_cap 400 --blue_cap 50 --plot 1 --spectral_library_path /home/michael/gmodetector_py/spectral_library/ --output_dir /home/michael/data/gmodetector_out//GWAS_Transformation/GTK/wk7/\n",
      "python -W ignore wrappers/analyze_sample.py --file_path /media/michael/Elements_12//GWAS_Transformation/GTK/wk7//GTK12_I5.0_F1.9_L100LED30_184243_11_2_0_Fluorescence.hdr --fluorophores GFP Chl Diffraction --min_desired_wavelength 500 --max_desired_wavelength 900 --red_channel Chl --green_channel GFP --blue_channel Diffraction --red_cap 200 --green_cap 400 --blue_cap 50 --plot 1 --spectral_library_path /home/michael/gmodetector_py/spectral_library/ --output_dir /home/michael/data/gmodetector_out//GWAS_Transformation/GTK/wk7/\n",
      "python -W ignore wrappers/analyze_sample.py --file_path /media/michael/Elements_12//GWAS_Transformation/GTK/wk7//GTK12_I5.0_F1.9_L100LED30_184408_12_2_1_Fluorescence.hdr --fluorophores GFP Chl Diffraction --min_desired_wavelength 500 --max_desired_wavelength 900 --red_channel Chl --green_channel GFP --blue_channel Diffraction --red_cap 200 --green_cap 400 --blue_cap 50 --plot 1 --spectral_library_path /home/michael/gmodetector_py/spectral_library/ --output_dir /home/michael/data/gmodetector_out//GWAS_Transformation/GTK/wk7/\n",
      "python -W ignore wrappers/analyze_sample.py --file_path /media/michael/Elements_12//GWAS_Transformation/GTK/wk7//GTK12_I5.0_F1.9_L100LED30_184544_13_2_2_Fluorescence.hdr --fluorophores GFP Chl Diffraction --min_desired_wavelength 500 --max_desired_wavelength 900 --red_channel Chl --green_channel GFP --blue_channel Diffraction --red_cap 200 --green_cap 400 --blue_cap 50 --plot 1 --spectral_library_path /home/michael/gmodetector_py/spectral_library/ --output_dir /home/michael/data/gmodetector_out//GWAS_Transformation/GTK/wk7/\n",
      "python -W ignore wrappers/analyze_sample.py --file_path /media/michael/Elements_12//GWAS_Transformation/GTK/wk7//GTK12_I5.0_F1.9_L100LED30_184718_14_2_3_Fluorescence.hdr --fluorophores GFP Chl Diffraction --min_desired_wavelength 500 --max_desired_wavelength 900 --red_channel Chl --green_channel GFP --blue_channel Diffraction --red_cap 200 --green_cap 400 --blue_cap 50 --plot 1 --spectral_library_path /home/michael/gmodetector_py/spectral_library/ --output_dir /home/michael/data/gmodetector_out//GWAS_Transformation/GTK/wk7/\n",
      "python -W ignore wrappers/analyze_sample.py --file_path /media/michael/Elements_12//GWAS_Transformation/GTK/wk7//GTK12_I5.0_F1.9_L100LED30_184856_15_2_5_Fluorescence.hdr --fluorophores GFP Chl Diffraction --min_desired_wavelength 500 --max_desired_wavelength 900 --red_channel Chl --green_channel GFP --blue_channel Diffraction --red_cap 200 --green_cap 400 --blue_cap 50 --plot 1 --spectral_library_path /home/michael/gmodetector_py/spectral_library/ --output_dir /home/michael/data/gmodetector_out//GWAS_Transformation/GTK/wk7/\n",
      "python -W ignore wrappers/analyze_sample.py --file_path /media/michael/Elements_12//GWAS_Transformation/GTK/wk7//GTK12_I5.0_F1.9_L100LED30_185036_16_2_6_Fluorescence.hdr --fluorophores GFP Chl Diffraction --min_desired_wavelength 500 --max_desired_wavelength 900 --red_channel Chl --green_channel GFP --blue_channel Diffraction --red_cap 200 --green_cap 400 --blue_cap 50 --plot 1 --spectral_library_path /home/michael/gmodetector_py/spectral_library/ --output_dir /home/michael/data/gmodetector_out//GWAS_Transformation/GTK/wk7/\n",
      "python -W ignore wrappers/analyze_sample.py --file_path /media/michael/Elements_12//GWAS_Transformation/GTK/wk7//GTK12_I5.0_F1.9_L100LED30_185601_0_2_5_Fluorescence.hdr --fluorophores GFP Chl Diffraction --min_desired_wavelength 500 --max_desired_wavelength 900 --red_channel Chl --green_channel GFP --blue_channel Diffraction --red_cap 200 --green_cap 400 --blue_cap 50 --plot 1 --spectral_library_path /home/michael/gmodetector_py/spectral_library/ --output_dir /home/michael/data/gmodetector_out//GWAS_Transformation/GTK/wk7/\n",
      "python -W ignore wrappers/analyze_sample.py --file_path /media/michael/Elements_12//GWAS_Transformation/GTK/wk7//GTK12_I5.0_F1.9_L100LED30_185809_1_2_6_Fluorescence.hdr --fluorophores GFP Chl Diffraction --min_desired_wavelength 500 --max_desired_wavelength 900 --red_channel Chl --green_channel GFP --blue_channel Diffraction --red_cap 200 --green_cap 400 --blue_cap 50 --plot 1 --spectral_library_path /home/michael/gmodetector_py/spectral_library/ --output_dir /home/michael/data/gmodetector_out//GWAS_Transformation/GTK/wk7/\n",
      "python -W ignore wrappers/analyze_sample.py --file_path /media/michael/Elements_12//GWAS_Transformation/GTK/wk7//GTK13_I5.0_F1.9_L100LED30_190445_0_0_0_Fluorescence.hdr --fluorophores GFP Chl Diffraction --min_desired_wavelength 500 --max_desired_wavelength 900 --red_channel Chl --green_channel GFP --blue_channel Diffraction --red_cap 200 --green_cap 400 --blue_cap 50 --plot 1 --spectral_library_path /home/michael/gmodetector_py/spectral_library/ --output_dir /home/michael/data/gmodetector_out//GWAS_Transformation/GTK/wk7/\n",
      "python -W ignore wrappers/analyze_sample.py --file_path /media/michael/Elements_12//GWAS_Transformation/GTK/wk7//GTK13_I5.0_F1.9_L100LED30_190616_1_0_1_Fluorescence.hdr --fluorophores GFP Chl Diffraction --min_desired_wavelength 500 --max_desired_wavelength 900 --red_channel Chl --green_channel GFP --blue_channel Diffraction --red_cap 200 --green_cap 400 --blue_cap 50 --plot 1 --spectral_library_path /home/michael/gmodetector_py/spectral_library/ --output_dir /home/michael/data/gmodetector_out//GWAS_Transformation/GTK/wk7/\n",
      "python -W ignore wrappers/analyze_sample.py --file_path /media/michael/Elements_12//GWAS_Transformation/GTK/wk7//GTK13_I5.0_F1.9_L100LED30_190756_2_0_2_Fluorescence.hdr --fluorophores GFP Chl Diffraction --min_desired_wavelength 500 --max_desired_wavelength 900 --red_channel Chl --green_channel GFP --blue_channel Diffraction --red_cap 200 --green_cap 400 --blue_cap 50 --plot 1 --spectral_library_path /home/michael/gmodetector_py/spectral_library/ --output_dir /home/michael/data/gmodetector_out//GWAS_Transformation/GTK/wk7/\n",
      "python -W ignore wrappers/analyze_sample.py --file_path /media/michael/Elements_12//GWAS_Transformation/GTK/wk7//GTK13_I5.0_F1.9_L100LED30_190930_3_0_3_Fluorescence.hdr --fluorophores GFP Chl Diffraction --min_desired_wavelength 500 --max_desired_wavelength 900 --red_channel Chl --green_channel GFP --blue_channel Diffraction --red_cap 200 --green_cap 400 --blue_cap 50 --plot 1 --spectral_library_path /home/michael/gmodetector_py/spectral_library/ --output_dir /home/michael/data/gmodetector_out//GWAS_Transformation/GTK/wk7/\n",
      "python -W ignore wrappers/analyze_sample.py --file_path /media/michael/Elements_12//GWAS_Transformation/GTK/wk7//GTK13_I5.0_F1.9_L100LED30_191106_4_0_4_Fluorescence.hdr --fluorophores GFP Chl Diffraction --min_desired_wavelength 500 --max_desired_wavelength 900 --red_channel Chl --green_channel GFP --blue_channel Diffraction --red_cap 200 --green_cap 400 --blue_cap 50 --plot 1 --spectral_library_path /home/michael/gmodetector_py/spectral_library/ --output_dir /home/michael/data/gmodetector_out//GWAS_Transformation/GTK/wk7/\n",
      "python -W ignore wrappers/analyze_sample.py --file_path /media/michael/Elements_12//GWAS_Transformation/GTK/wk7//GTK13_I5.0_F1.9_L100LED30_191244_5_0_5_Fluorescence.hdr --fluorophores GFP Chl Diffraction --min_desired_wavelength 500 --max_desired_wavelength 900 --red_channel Chl --green_channel GFP --blue_channel Diffraction --red_cap 200 --green_cap 400 --blue_cap 50 --plot 1 --spectral_library_path /home/michael/gmodetector_py/spectral_library/ --output_dir /home/michael/data/gmodetector_out//GWAS_Transformation/GTK/wk7/\n",
      "python -W ignore wrappers/analyze_sample.py --file_path /media/michael/Elements_12//GWAS_Transformation/GTK/wk7//GTK13_I5.0_F1.9_L100LED30_191420_6_0_6_Fluorescence.hdr --fluorophores GFP Chl Diffraction --min_desired_wavelength 500 --max_desired_wavelength 900 --red_channel Chl --green_channel GFP --blue_channel Diffraction --red_cap 200 --green_cap 400 --blue_cap 50 --plot 1 --spectral_library_path /home/michael/gmodetector_py/spectral_library/ --output_dir /home/michael/data/gmodetector_out//GWAS_Transformation/GTK/wk7/\n",
      "python -W ignore wrappers/analyze_sample.py --file_path /media/michael/Elements_12//GWAS_Transformation/GTK/wk7//GTK13_I5.0_F1.9_L100LED30_191554_7_1_6_Fluorescence.hdr --fluorophores GFP Chl Diffraction --min_desired_wavelength 500 --max_desired_wavelength 900 --red_channel Chl --green_channel GFP --blue_channel Diffraction --red_cap 200 --green_cap 400 --blue_cap 50 --plot 1 --spectral_library_path /home/michael/gmodetector_py/spectral_library/ --output_dir /home/michael/data/gmodetector_out//GWAS_Transformation/GTK/wk7/\n",
      "python -W ignore wrappers/analyze_sample.py --file_path /media/michael/Elements_12//GWAS_Transformation/GTK/wk7//GTK13_I5.0_F1.9_L100LED30_191722_8_1_5_Fluorescence.hdr --fluorophores GFP Chl Diffraction --min_desired_wavelength 500 --max_desired_wavelength 900 --red_channel Chl --green_channel GFP --blue_channel Diffraction --red_cap 200 --green_cap 400 --blue_cap 50 --plot 1 --spectral_library_path /home/michael/gmodetector_py/spectral_library/ --output_dir /home/michael/data/gmodetector_out//GWAS_Transformation/GTK/wk7/\n",
      "python -W ignore wrappers/analyze_sample.py --file_path /media/michael/Elements_12//GWAS_Transformation/GTK/wk7//GTK13_I5.0_F1.9_L100LED30_192343_12_1_0_Fluorescence.hdr --fluorophores GFP Chl Diffraction --min_desired_wavelength 500 --max_desired_wavelength 900 --red_channel Chl --green_channel GFP --blue_channel Diffraction --red_cap 200 --green_cap 400 --blue_cap 50 --plot 1 --spectral_library_path /home/michael/gmodetector_py/spectral_library/ --output_dir /home/michael/data/gmodetector_out//GWAS_Transformation/GTK/wk7/\n",
      "python -W ignore wrappers/analyze_sample.py --file_path /media/michael/Elements_12//GWAS_Transformation/GTK/wk7//GTK13_I5.0_F1.9_L100LED30_192838_15_2_4_Fluorescence.hdr --fluorophores GFP Chl Diffraction --min_desired_wavelength 500 --max_desired_wavelength 900 --red_channel Chl --green_channel GFP --blue_channel Diffraction --red_cap 200 --green_cap 400 --blue_cap 50 --plot 1 --spectral_library_path /home/michael/gmodetector_py/spectral_library/ --output_dir /home/michael/data/gmodetector_out//GWAS_Transformation/GTK/wk7/\n",
      "python -W ignore wrappers/analyze_sample.py --file_path /media/michael/Elements_12//GWAS_Transformation/GTK/wk7//GTK13_I5.0_F1.9_L100LED30_193014_16_2_6_Fluorescence.hdr --fluorophores GFP Chl Diffraction --min_desired_wavelength 500 --max_desired_wavelength 900 --red_channel Chl --green_channel GFP --blue_channel Diffraction --red_cap 200 --green_cap 400 --blue_cap 50 --plot 1 --spectral_library_path /home/michael/gmodetector_py/spectral_library/ --output_dir /home/michael/data/gmodetector_out//GWAS_Transformation/GTK/wk7/\n",
      "python -W ignore wrappers/analyze_sample.py --file_path /media/michael/Elements_12//GWAS_Transformation/GTK/wk7//GTK13_I5.0_F1.9_L100LED30_193528_0_1_3_Fluorescence.hdr --fluorophores GFP Chl Diffraction --min_desired_wavelength 500 --max_desired_wavelength 900 --red_channel Chl --green_channel GFP --blue_channel Diffraction --red_cap 200 --green_cap 400 --blue_cap 50 --plot 1 --spectral_library_path /home/michael/gmodetector_py/spectral_library/ --output_dir /home/michael/data/gmodetector_out//GWAS_Transformation/GTK/wk7/\n",
      "python -W ignore wrappers/analyze_sample.py --file_path /media/michael/Elements_12//GWAS_Transformation/GTK/wk7//GTK13_I5.0_F1.9_L100LED30_193718_1_1_2_Fluorescence.hdr --fluorophores GFP Chl Diffraction --min_desired_wavelength 500 --max_desired_wavelength 900 --red_channel Chl --green_channel GFP --blue_channel Diffraction --red_cap 200 --green_cap 400 --blue_cap 50 --plot 1 --spectral_library_path /home/michael/gmodetector_py/spectral_library/ --output_dir /home/michael/data/gmodetector_out//GWAS_Transformation/GTK/wk7/\n",
      "python -W ignore wrappers/analyze_sample.py --file_path /media/michael/Elements_12//GWAS_Transformation/GTK/wk7//GTK13_I5.0_F1.9_L100LED30_193855_2_1_1_Fluorescence.hdr --fluorophores GFP Chl Diffraction --min_desired_wavelength 500 --max_desired_wavelength 900 --red_channel Chl --green_channel GFP --blue_channel Diffraction --red_cap 200 --green_cap 400 --blue_cap 50 --plot 1 --spectral_library_path /home/michael/gmodetector_py/spectral_library/ --output_dir /home/michael/data/gmodetector_out//GWAS_Transformation/GTK/wk7/\n",
      "python -W ignore wrappers/analyze_sample.py --file_path /media/michael/Elements_12//GWAS_Transformation/GTK/wk7//GTK13_I5.0_F1.9_L100LED30_194942_0_2_2_Fluorescence.hdr --fluorophores GFP Chl Diffraction --min_desired_wavelength 500 --max_desired_wavelength 900 --red_channel Chl --green_channel GFP --blue_channel Diffraction --red_cap 200 --green_cap 400 --blue_cap 50 --plot 1 --spectral_library_path /home/michael/gmodetector_py/spectral_library/ --output_dir /home/michael/data/gmodetector_out//GWAS_Transformation/GTK/wk7/\n",
      "python -W ignore wrappers/analyze_sample.py --file_path /media/michael/Elements_12//GWAS_Transformation/GTK/wk7//GTK13_I5.0_F1.9_L100LED30_195119_1_2_3_Fluorescence.hdr --fluorophores GFP Chl Diffraction --min_desired_wavelength 500 --max_desired_wavelength 900 --red_channel Chl --green_channel GFP --blue_channel Diffraction --red_cap 200 --green_cap 400 --blue_cap 50 --plot 1 --spectral_library_path /home/michael/gmodetector_py/spectral_library/ --output_dir /home/michael/data/gmodetector_out//GWAS_Transformation/GTK/wk7/\n",
      "python -W ignore wrappers/analyze_sample.py --file_path /media/michael/Elements_12//GWAS_Transformation/GTK/wk7//GTK14_I5.0_F1.9_L100LED30_201659_0_0_0_Fluorescence.hdr --fluorophores GFP Chl Diffraction --min_desired_wavelength 500 --max_desired_wavelength 900 --red_channel Chl --green_channel GFP --blue_channel Diffraction --red_cap 200 --green_cap 400 --blue_cap 50 --plot 1 --spectral_library_path /home/michael/gmodetector_py/spectral_library/ --output_dir /home/michael/data/gmodetector_out//GWAS_Transformation/GTK/wk7/\n",
      "python -W ignore wrappers/analyze_sample.py --file_path /media/michael/Elements_12//GWAS_Transformation/GTK/wk7//GTK14_I5.0_F1.9_L100LED30_201819_1_0_1_Fluorescence.hdr --fluorophores GFP Chl Diffraction --min_desired_wavelength 500 --max_desired_wavelength 900 --red_channel Chl --green_channel GFP --blue_channel Diffraction --red_cap 200 --green_cap 400 --blue_cap 50 --plot 1 --spectral_library_path /home/michael/gmodetector_py/spectral_library/ --output_dir /home/michael/data/gmodetector_out//GWAS_Transformation/GTK/wk7/\n",
      "python -W ignore wrappers/analyze_sample.py --file_path /media/michael/Elements_12//GWAS_Transformation/GTK/wk7//GTK14_I5.0_F1.9_L100LED30_201956_2_0_2_Fluorescence.hdr --fluorophores GFP Chl Diffraction --min_desired_wavelength 500 --max_desired_wavelength 900 --red_channel Chl --green_channel GFP --blue_channel Diffraction --red_cap 200 --green_cap 400 --blue_cap 50 --plot 1 --spectral_library_path /home/michael/gmodetector_py/spectral_library/ --output_dir /home/michael/data/gmodetector_out//GWAS_Transformation/GTK/wk7/\n",
      "python -W ignore wrappers/analyze_sample.py --file_path /media/michael/Elements_12//GWAS_Transformation/GTK/wk7//GTK14_I5.0_F1.9_L100LED30_203423_0_0_6_Fluorescence.hdr --fluorophores GFP Chl Diffraction --min_desired_wavelength 500 --max_desired_wavelength 900 --red_channel Chl --green_channel GFP --blue_channel Diffraction --red_cap 200 --green_cap 400 --blue_cap 50 --plot 1 --spectral_library_path /home/michael/gmodetector_py/spectral_library/ --output_dir /home/michael/data/gmodetector_out//GWAS_Transformation/GTK/wk7/\n",
      "python -W ignore wrappers/analyze_sample.py --file_path /media/michael/Elements_12//GWAS_Transformation/GTK/wk7//GTK14_I5.0_F1.9_L100LED30_204628_0_1_6_Fluorescence.hdr --fluorophores GFP Chl Diffraction --min_desired_wavelength 500 --max_desired_wavelength 900 --red_channel Chl --green_channel GFP --blue_channel Diffraction --red_cap 200 --green_cap 400 --blue_cap 50 --plot 1 --spectral_library_path /home/michael/gmodetector_py/spectral_library/ --output_dir /home/michael/data/gmodetector_out//GWAS_Transformation/GTK/wk7/\n",
      "python -W ignore wrappers/analyze_sample.py --file_path /media/michael/Elements_12//GWAS_Transformation/GTK/wk7//GTK14_I5.0_F1.9_L100LED30_204848_1_1_5_Fluorescence.hdr --fluorophores GFP Chl Diffraction --min_desired_wavelength 500 --max_desired_wavelength 900 --red_channel Chl --green_channel GFP --blue_channel Diffraction --red_cap 200 --green_cap 400 --blue_cap 50 --plot 1 --spectral_library_path /home/michael/gmodetector_py/spectral_library/ --output_dir /home/michael/data/gmodetector_out//GWAS_Transformation/GTK/wk7/\n",
      "python -W ignore wrappers/analyze_sample.py --file_path /media/michael/Elements_12//GWAS_Transformation/GTK/wk7//GTK14_I5.0_F1.9_L100LED30_205026_2_1_4_Fluorescence.hdr --fluorophores GFP Chl Diffraction --min_desired_wavelength 500 --max_desired_wavelength 900 --red_channel Chl --green_channel GFP --blue_channel Diffraction --red_cap 200 --green_cap 400 --blue_cap 50 --plot 1 --spectral_library_path /home/michael/gmodetector_py/spectral_library/ --output_dir /home/michael/data/gmodetector_out//GWAS_Transformation/GTK/wk7/\n",
      "python -W ignore wrappers/analyze_sample.py --file_path /media/michael/Elements_12//GWAS_Transformation/GTK/wk7//GTK14_I5.0_F1.9_L100LED30_205203_3_1_3_Fluorescence.hdr --fluorophores GFP Chl Diffraction --min_desired_wavelength 500 --max_desired_wavelength 900 --red_channel Chl --green_channel GFP --blue_channel Diffraction --red_cap 200 --green_cap 400 --blue_cap 50 --plot 1 --spectral_library_path /home/michael/gmodetector_py/spectral_library/ --output_dir /home/michael/data/gmodetector_out//GWAS_Transformation/GTK/wk7/\n",
      "python -W ignore wrappers/analyze_sample.py --file_path /media/michael/Elements_12//GWAS_Transformation/GTK/wk7//GTK14_I5.0_F1.9_L100LED30_205343_4_1_2_Fluorescence.hdr --fluorophores GFP Chl Diffraction --min_desired_wavelength 500 --max_desired_wavelength 900 --red_channel Chl --green_channel GFP --blue_channel Diffraction --red_cap 200 --green_cap 400 --blue_cap 50 --plot 1 --spectral_library_path /home/michael/gmodetector_py/spectral_library/ --output_dir /home/michael/data/gmodetector_out//GWAS_Transformation/GTK/wk7/\n",
      "python -W ignore wrappers/analyze_sample.py --file_path /media/michael/Elements_12//GWAS_Transformation/GTK/wk7//GTK14_I5.0_F1.9_L100LED30_205520_5_1_0_Fluorescence.hdr --fluorophores GFP Chl Diffraction --min_desired_wavelength 500 --max_desired_wavelength 900 --red_channel Chl --green_channel GFP --blue_channel Diffraction --red_cap 200 --green_cap 400 --blue_cap 50 --plot 1 --spectral_library_path /home/michael/gmodetector_py/spectral_library/ --output_dir /home/michael/data/gmodetector_out//GWAS_Transformation/GTK/wk7/\n",
      "python -W ignore wrappers/analyze_sample.py --file_path /media/michael/Elements_12//GWAS_Transformation/GTK/wk7//GTK14_I5.0_F1.9_L100LED30_210140_0_2_0_Fluorescence.hdr --fluorophores GFP Chl Diffraction --min_desired_wavelength 500 --max_desired_wavelength 900 --red_channel Chl --green_channel GFP --blue_channel Diffraction --red_cap 200 --green_cap 400 --blue_cap 50 --plot 1 --spectral_library_path /home/michael/gmodetector_py/spectral_library/ --output_dir /home/michael/data/gmodetector_out//GWAS_Transformation/GTK/wk7/\n",
      "python -W ignore wrappers/analyze_sample.py --file_path /media/michael/Elements_12//GWAS_Transformation/GTK/wk7//GTK14_I5.0_F1.9_L100LED30_210320_1_2_1_Fluorescence.hdr --fluorophores GFP Chl Diffraction --min_desired_wavelength 500 --max_desired_wavelength 900 --red_channel Chl --green_channel GFP --blue_channel Diffraction --red_cap 200 --green_cap 400 --blue_cap 50 --plot 1 --spectral_library_path /home/michael/gmodetector_py/spectral_library/ --output_dir /home/michael/data/gmodetector_out//GWAS_Transformation/GTK/wk7/\n",
      "python -W ignore wrappers/analyze_sample.py --file_path /media/michael/Elements_12//GWAS_Transformation/GTK/wk7//GTK14_I5.0_F1.9_L100LED30_210456_2_2_2_Fluorescence.hdr --fluorophores GFP Chl Diffraction --min_desired_wavelength 500 --max_desired_wavelength 900 --red_channel Chl --green_channel GFP --blue_channel Diffraction --red_cap 200 --green_cap 400 --blue_cap 50 --plot 1 --spectral_library_path /home/michael/gmodetector_py/spectral_library/ --output_dir /home/michael/data/gmodetector_out//GWAS_Transformation/GTK/wk7/\n",
      "python -W ignore wrappers/analyze_sample.py --file_path /media/michael/Elements_12//GWAS_Transformation/GTK/wk7//GTK14_I5.0_F1.9_L100LED30_210631_3_2_3_Fluorescence.hdr --fluorophores GFP Chl Diffraction --min_desired_wavelength 500 --max_desired_wavelength 900 --red_channel Chl --green_channel GFP --blue_channel Diffraction --red_cap 200 --green_cap 400 --blue_cap 50 --plot 1 --spectral_library_path /home/michael/gmodetector_py/spectral_library/ --output_dir /home/michael/data/gmodetector_out//GWAS_Transformation/GTK/wk7/\n",
      "python -W ignore wrappers/analyze_sample.py --file_path /media/michael/Elements_12//GWAS_Transformation/GTK/wk7//GTK14_I5.0_F1.9_L100LED30_210809_4_2_4_Fluorescence.hdr --fluorophores GFP Chl Diffraction --min_desired_wavelength 500 --max_desired_wavelength 900 --red_channel Chl --green_channel GFP --blue_channel Diffraction --red_cap 200 --green_cap 400 --blue_cap 50 --plot 1 --spectral_library_path /home/michael/gmodetector_py/spectral_library/ --output_dir /home/michael/data/gmodetector_out//GWAS_Transformation/GTK/wk7/\n",
      "python -W ignore wrappers/analyze_sample.py --file_path /media/michael/Elements_12//GWAS_Transformation/GTK/wk7//GTK14_I5.0_F1.9_L100LED30_210947_5_2_5_Fluorescence.hdr --fluorophores GFP Chl Diffraction --min_desired_wavelength 500 --max_desired_wavelength 900 --red_channel Chl --green_channel GFP --blue_channel Diffraction --red_cap 200 --green_cap 400 --blue_cap 50 --plot 1 --spectral_library_path /home/michael/gmodetector_py/spectral_library/ --output_dir /home/michael/data/gmodetector_out//GWAS_Transformation/GTK/wk7/\n",
      "python -W ignore wrappers/analyze_sample.py --file_path /media/michael/Elements_12//GWAS_Transformation/GTK/wk7//GTK14_I5.0_F1.9_L100LED30_211122_6_2_6_Fluorescence.hdr --fluorophores GFP Chl Diffraction --min_desired_wavelength 500 --max_desired_wavelength 900 --red_channel Chl --green_channel GFP --blue_channel Diffraction --red_cap 200 --green_cap 400 --blue_cap 50 --plot 1 --spectral_library_path /home/michael/gmodetector_py/spectral_library/ --output_dir /home/michael/data/gmodetector_out//GWAS_Transformation/GTK/wk7/\n",
      "python -W ignore wrappers/analyze_sample.py --file_path /media/michael/Elements_12//GWAS_Transformation/GTK/wk7//GTK15_I5.0_F1.9_L100LED30_211814_0_0_0_Fluorescence.hdr --fluorophores GFP Chl Diffraction --min_desired_wavelength 500 --max_desired_wavelength 900 --red_channel Chl --green_channel GFP --blue_channel Diffraction --red_cap 200 --green_cap 400 --blue_cap 50 --plot 1 --spectral_library_path /home/michael/gmodetector_py/spectral_library/ --output_dir /home/michael/data/gmodetector_out//GWAS_Transformation/GTK/wk7/\n",
      "python -W ignore wrappers/analyze_sample.py --file_path /media/michael/Elements_12//GWAS_Transformation/GTK/wk7//GTK15_I5.0_F1.9_L100LED30_211941_1_0_1_Fluorescence.hdr --fluorophores GFP Chl Diffraction --min_desired_wavelength 500 --max_desired_wavelength 900 --red_channel Chl --green_channel GFP --blue_channel Diffraction --red_cap 200 --green_cap 400 --blue_cap 50 --plot 1 --spectral_library_path /home/michael/gmodetector_py/spectral_library/ --output_dir /home/michael/data/gmodetector_out//GWAS_Transformation/GTK/wk7/\n",
      "python -W ignore wrappers/analyze_sample.py --file_path /media/michael/Elements_12//GWAS_Transformation/GTK/wk7//GTK15_I5.0_F1.9_L100LED30_212114_2_0_2_Fluorescence.hdr --fluorophores GFP Chl Diffraction --min_desired_wavelength 500 --max_desired_wavelength 900 --red_channel Chl --green_channel GFP --blue_channel Diffraction --red_cap 200 --green_cap 400 --blue_cap 50 --plot 1 --spectral_library_path /home/michael/gmodetector_py/spectral_library/ --output_dir /home/michael/data/gmodetector_out//GWAS_Transformation/GTK/wk7/\n",
      "python -W ignore wrappers/analyze_sample.py --file_path /media/michael/Elements_12//GWAS_Transformation/GTK/wk7//GTK15_I5.0_F1.9_L100LED30_212252_3_0_3_Fluorescence.hdr --fluorophores GFP Chl Diffraction --min_desired_wavelength 500 --max_desired_wavelength 900 --red_channel Chl --green_channel GFP --blue_channel Diffraction --red_cap 200 --green_cap 400 --blue_cap 50 --plot 1 --spectral_library_path /home/michael/gmodetector_py/spectral_library/ --output_dir /home/michael/data/gmodetector_out//GWAS_Transformation/GTK/wk7/\n",
      "python -W ignore wrappers/analyze_sample.py --file_path /media/michael/Elements_12//GWAS_Transformation/GTK/wk7//GTK15_I5.0_F1.9_L100LED30_212435_4_0_6_Fluorescence.hdr --fluorophores GFP Chl Diffraction --min_desired_wavelength 500 --max_desired_wavelength 900 --red_channel Chl --green_channel GFP --blue_channel Diffraction --red_cap 200 --green_cap 400 --blue_cap 50 --plot 1 --spectral_library_path /home/michael/gmodetector_py/spectral_library/ --output_dir /home/michael/data/gmodetector_out//GWAS_Transformation/GTK/wk7/\n",
      "python -W ignore wrappers/analyze_sample.py --file_path /media/michael/Elements_12//GWAS_Transformation/GTK/wk7//GTK15_I5.0_F1.9_L100LED30_212623_5_1_6_Fluorescence.hdr --fluorophores GFP Chl Diffraction --min_desired_wavelength 500 --max_desired_wavelength 900 --red_channel Chl --green_channel GFP --blue_channel Diffraction --red_cap 200 --green_cap 400 --blue_cap 50 --plot 1 --spectral_library_path /home/michael/gmodetector_py/spectral_library/ --output_dir /home/michael/data/gmodetector_out//GWAS_Transformation/GTK/wk7/\n",
      "python -W ignore wrappers/analyze_sample.py --file_path /media/michael/Elements_12//GWAS_Transformation/GTK/wk7//GTK15_I5.0_F1.9_L100LED30_212751_6_1_5_Fluorescence.hdr --fluorophores GFP Chl Diffraction --min_desired_wavelength 500 --max_desired_wavelength 900 --red_channel Chl --green_channel GFP --blue_channel Diffraction --red_cap 200 --green_cap 400 --blue_cap 50 --plot 1 --spectral_library_path /home/michael/gmodetector_py/spectral_library/ --output_dir /home/michael/data/gmodetector_out//GWAS_Transformation/GTK/wk7/\n",
      "python -W ignore wrappers/analyze_sample.py --file_path /media/michael/Elements_12//GWAS_Transformation/GTK/wk7//GTK15_I5.0_F1.9_L100LED30_212931_7_1_4_Fluorescence.hdr --fluorophores GFP Chl Diffraction --min_desired_wavelength 500 --max_desired_wavelength 900 --red_channel Chl --green_channel GFP --blue_channel Diffraction --red_cap 200 --green_cap 400 --blue_cap 50 --plot 1 --spectral_library_path /home/michael/gmodetector_py/spectral_library/ --output_dir /home/michael/data/gmodetector_out//GWAS_Transformation/GTK/wk7/\n",
      "python -W ignore wrappers/analyze_sample.py --file_path /media/michael/Elements_12//GWAS_Transformation/GTK/wk7//GTK15_I5.0_F1.9_L100LED30_213108_8_1_3_Fluorescence.hdr --fluorophores GFP Chl Diffraction --min_desired_wavelength 500 --max_desired_wavelength 900 --red_channel Chl --green_channel GFP --blue_channel Diffraction --red_cap 200 --green_cap 400 --blue_cap 50 --plot 1 --spectral_library_path /home/michael/gmodetector_py/spectral_library/ --output_dir /home/michael/data/gmodetector_out//GWAS_Transformation/GTK/wk7/\n",
      "python -W ignore wrappers/analyze_sample.py --file_path /media/michael/Elements_12//GWAS_Transformation/GTK/wk7//GTK15_I5.0_F1.9_L100LED30_213247_9_1_0_Fluorescence.hdr --fluorophores GFP Chl Diffraction --min_desired_wavelength 500 --max_desired_wavelength 900 --red_channel Chl --green_channel GFP --blue_channel Diffraction --red_cap 200 --green_cap 400 --blue_cap 50 --plot 1 --spectral_library_path /home/michael/gmodetector_py/spectral_library/ --output_dir /home/michael/data/gmodetector_out//GWAS_Transformation/GTK/wk7/\n",
      "python -W ignore wrappers/analyze_sample.py --file_path /media/michael/Elements_12//GWAS_Transformation/GTK/wk7//GTK1_I5.0_F1.9_L100LED30_155605_0_0_2_Fluorescence.hdr --fluorophores GFP Chl Diffraction --min_desired_wavelength 500 --max_desired_wavelength 900 --red_channel Chl --green_channel GFP --blue_channel Diffraction --red_cap 200 --green_cap 400 --blue_cap 50 --plot 1 --spectral_library_path /home/michael/gmodetector_py/spectral_library/ --output_dir /home/michael/data/gmodetector_out//GWAS_Transformation/GTK/wk7/\n",
      "python -W ignore wrappers/analyze_sample.py --file_path /media/michael/Elements_12//GWAS_Transformation/GTK/wk7//GTK1_I5.0_F1.9_L100LED30_155744_1_0_4_Fluorescence.hdr --fluorophores GFP Chl Diffraction --min_desired_wavelength 500 --max_desired_wavelength 900 --red_channel Chl --green_channel GFP --blue_channel Diffraction --red_cap 200 --green_cap 400 --blue_cap 50 --plot 1 --spectral_library_path /home/michael/gmodetector_py/spectral_library/ --output_dir /home/michael/data/gmodetector_out//GWAS_Transformation/GTK/wk7/\n",
      "python -W ignore wrappers/analyze_sample.py --file_path /media/michael/Elements_12//GWAS_Transformation/GTK/wk7//GTK1_I5.0_F1.9_L100LED30_155922_2_0_5_Fluorescence.hdr --fluorophores GFP Chl Diffraction --min_desired_wavelength 500 --max_desired_wavelength 900 --red_channel Chl --green_channel GFP --blue_channel Diffraction --red_cap 200 --green_cap 400 --blue_cap 50 --plot 1 --spectral_library_path /home/michael/gmodetector_py/spectral_library/ --output_dir /home/michael/data/gmodetector_out//GWAS_Transformation/GTK/wk7/\n",
      "python -W ignore wrappers/analyze_sample.py --file_path /media/michael/Elements_12//GWAS_Transformation/GTK/wk7//GTK1_I5.0_F1.9_L100LED30_160058_3_0_6_Fluorescence.hdr --fluorophores GFP Chl Diffraction --min_desired_wavelength 500 --max_desired_wavelength 900 --red_channel Chl --green_channel GFP --blue_channel Diffraction --red_cap 200 --green_cap 400 --blue_cap 50 --plot 1 --spectral_library_path /home/michael/gmodetector_py/spectral_library/ --output_dir /home/michael/data/gmodetector_out//GWAS_Transformation/GTK/wk7/\n",
      "python -W ignore wrappers/analyze_sample.py --file_path /media/michael/Elements_12//GWAS_Transformation/GTK/wk7//GTK1_I5.0_F1.9_L100LED30_160235_4_1_6_Fluorescence.hdr --fluorophores GFP Chl Diffraction --min_desired_wavelength 500 --max_desired_wavelength 900 --red_channel Chl --green_channel GFP --blue_channel Diffraction --red_cap 200 --green_cap 400 --blue_cap 50 --plot 1 --spectral_library_path /home/michael/gmodetector_py/spectral_library/ --output_dir /home/michael/data/gmodetector_out//GWAS_Transformation/GTK/wk7/\n",
      "python -W ignore wrappers/analyze_sample.py --file_path /media/michael/Elements_12//GWAS_Transformation/GTK/wk7//GTK1_I5.0_F1.9_L100LED30_160401_5_1_5_Fluorescence.hdr --fluorophores GFP Chl Diffraction --min_desired_wavelength 500 --max_desired_wavelength 900 --red_channel Chl --green_channel GFP --blue_channel Diffraction --red_cap 200 --green_cap 400 --blue_cap 50 --plot 1 --spectral_library_path /home/michael/gmodetector_py/spectral_library/ --output_dir /home/michael/data/gmodetector_out//GWAS_Transformation/GTK/wk7/\n",
      "python -W ignore wrappers/analyze_sample.py --file_path /media/michael/Elements_12//GWAS_Transformation/GTK/wk7//GTK1_I5.0_F1.9_L100LED30_160536_6_1_2_Fluorescence.hdr --fluorophores GFP Chl Diffraction --min_desired_wavelength 500 --max_desired_wavelength 900 --red_channel Chl --green_channel GFP --blue_channel Diffraction --red_cap 200 --green_cap 400 --blue_cap 50 --plot 1 --spectral_library_path /home/michael/gmodetector_py/spectral_library/ --output_dir /home/michael/data/gmodetector_out//GWAS_Transformation/GTK/wk7/\n",
      "python -W ignore wrappers/analyze_sample.py --file_path /media/michael/Elements_12//GWAS_Transformation/GTK/wk7//GTK1_I5.0_F1.9_L100LED30_160722_7_1_1_Fluorescence.hdr --fluorophores GFP Chl Diffraction --min_desired_wavelength 500 --max_desired_wavelength 900 --red_channel Chl --green_channel GFP --blue_channel Diffraction --red_cap 200 --green_cap 400 --blue_cap 50 --plot 1 --spectral_library_path /home/michael/gmodetector_py/spectral_library/ --output_dir /home/michael/data/gmodetector_out//GWAS_Transformation/GTK/wk7/\n",
      "python -W ignore wrappers/analyze_sample.py --file_path /media/michael/Elements_12//GWAS_Transformation/GTK/wk7//GTK1_I5.0_F1.9_L100LED30_160855_8_1_0_Fluorescence.hdr --fluorophores GFP Chl Diffraction --min_desired_wavelength 500 --max_desired_wavelength 900 --red_channel Chl --green_channel GFP --blue_channel Diffraction --red_cap 200 --green_cap 400 --blue_cap 50 --plot 1 --spectral_library_path /home/michael/gmodetector_py/spectral_library/ --output_dir /home/michael/data/gmodetector_out//GWAS_Transformation/GTK/wk7/\n",
      "python -W ignore wrappers/analyze_sample.py --file_path /media/michael/Elements_12//GWAS_Transformation/GTK/wk7//GTK1_I5.0_F1.9_L100LED30_161031_9_2_0_Fluorescence.hdr --fluorophores GFP Chl Diffraction --min_desired_wavelength 500 --max_desired_wavelength 900 --red_channel Chl --green_channel GFP --blue_channel Diffraction --red_cap 200 --green_cap 400 --blue_cap 50 --plot 1 --spectral_library_path /home/michael/gmodetector_py/spectral_library/ --output_dir /home/michael/data/gmodetector_out//GWAS_Transformation/GTK/wk7/\n",
      "python -W ignore wrappers/analyze_sample.py --file_path /media/michael/Elements_12//GWAS_Transformation/GTK/wk7//GTK1_I5.0_F1.9_L100LED30_161159_10_2_1_Fluorescence.hdr --fluorophores GFP Chl Diffraction --min_desired_wavelength 500 --max_desired_wavelength 900 --red_channel Chl --green_channel GFP --blue_channel Diffraction --red_cap 200 --green_cap 400 --blue_cap 50 --plot 1 --spectral_library_path /home/michael/gmodetector_py/spectral_library/ --output_dir /home/michael/data/gmodetector_out//GWAS_Transformation/GTK/wk7/\n",
      "python -W ignore wrappers/analyze_sample.py --file_path /media/michael/Elements_12//GWAS_Transformation/GTK/wk7//GTK1_I5.0_F1.9_L100LED30_161333_11_2_4_Fluorescence.hdr --fluorophores GFP Chl Diffraction --min_desired_wavelength 500 --max_desired_wavelength 900 --red_channel Chl --green_channel GFP --blue_channel Diffraction --red_cap 200 --green_cap 400 --blue_cap 50 --plot 1 --spectral_library_path /home/michael/gmodetector_py/spectral_library/ --output_dir /home/michael/data/gmodetector_out//GWAS_Transformation/GTK/wk7/\n",
      "python -W ignore wrappers/analyze_sample.py --file_path /media/michael/Elements_12//GWAS_Transformation/GTK/wk7//GTK1_I5.0_F1.9_L100LED30_161520_12_2_5_Fluorescence.hdr --fluorophores GFP Chl Diffraction --min_desired_wavelength 500 --max_desired_wavelength 900 --red_channel Chl --green_channel GFP --blue_channel Diffraction --red_cap 200 --green_cap 400 --blue_cap 50 --plot 1 --spectral_library_path /home/michael/gmodetector_py/spectral_library/ --output_dir /home/michael/data/gmodetector_out//GWAS_Transformation/GTK/wk7/\n",
      "python -W ignore wrappers/analyze_sample.py --file_path /media/michael/Elements_12//GWAS_Transformation/GTK/wk7//GTK1_I5.0_F1.9_L100LED30_161653_13_2_6_Fluorescence.hdr --fluorophores GFP Chl Diffraction --min_desired_wavelength 500 --max_desired_wavelength 900 --red_channel Chl --green_channel GFP --blue_channel Diffraction --red_cap 200 --green_cap 400 --blue_cap 50 --plot 1 --spectral_library_path /home/michael/gmodetector_py/spectral_library/ --output_dir /home/michael/data/gmodetector_out//GWAS_Transformation/GTK/wk7/\n",
      "python -W ignore wrappers/analyze_sample.py --file_path /media/michael/Elements_12//GWAS_Transformation/GTK/wk7//GTK1_I5.0_F1.9_L100LED30_174431_0_0_0_Fluorescence.hdr --fluorophores GFP Chl Diffraction --min_desired_wavelength 500 --max_desired_wavelength 900 --red_channel Chl --green_channel GFP --blue_channel Diffraction --red_cap 200 --green_cap 400 --blue_cap 50 --plot 1 --spectral_library_path /home/michael/gmodetector_py/spectral_library/ --output_dir /home/michael/data/gmodetector_out//GWAS_Transformation/GTK/wk7/\n",
      "python -W ignore wrappers/analyze_sample.py --file_path /media/michael/Elements_12//GWAS_Transformation/GTK/wk7//GTK1_I5.0_F1.9_L100LED30_174552_1_0_1_Fluorescence.hdr --fluorophores GFP Chl Diffraction --min_desired_wavelength 500 --max_desired_wavelength 900 --red_channel Chl --green_channel GFP --blue_channel Diffraction --red_cap 200 --green_cap 400 --blue_cap 50 --plot 1 --spectral_library_path /home/michael/gmodetector_py/spectral_library/ --output_dir /home/michael/data/gmodetector_out//GWAS_Transformation/GTK/wk7/\n",
      "python -W ignore wrappers/analyze_sample.py --file_path /media/michael/Elements_12//GWAS_Transformation/GTK/wk7//GTK1_I5.0_F1.9_L100LED30_174727_2_1_4_Fluorescence.hdr --fluorophores GFP Chl Diffraction --min_desired_wavelength 500 --max_desired_wavelength 900 --red_channel Chl --green_channel GFP --blue_channel Diffraction --red_cap 200 --green_cap 400 --blue_cap 50 --plot 1 --spectral_library_path /home/michael/gmodetector_py/spectral_library/ --output_dir /home/michael/data/gmodetector_out//GWAS_Transformation/GTK/wk7/\n",
      "python -W ignore wrappers/analyze_sample.py --file_path /media/michael/Elements_12//GWAS_Transformation/GTK/wk7//GTK1_I5.0_F1.9_L100LED30_174916_3_1_3_Fluorescence.hdr --fluorophores GFP Chl Diffraction --min_desired_wavelength 500 --max_desired_wavelength 900 --red_channel Chl --green_channel GFP --blue_channel Diffraction --red_cap 200 --green_cap 400 --blue_cap 50 --plot 1 --spectral_library_path /home/michael/gmodetector_py/spectral_library/ --output_dir /home/michael/data/gmodetector_out//GWAS_Transformation/GTK/wk7/\n",
      "python -W ignore wrappers/analyze_sample.py --file_path /media/michael/Elements_12//GWAS_Transformation/GTK/wk7//GTK1_I5.0_F1.9_L100LED30_175051_4_2_2_Fluorescence.hdr --fluorophores GFP Chl Diffraction --min_desired_wavelength 500 --max_desired_wavelength 900 --red_channel Chl --green_channel GFP --blue_channel Diffraction --red_cap 200 --green_cap 400 --blue_cap 50 --plot 1 --spectral_library_path /home/michael/gmodetector_py/spectral_library/ --output_dir /home/michael/data/gmodetector_out//GWAS_Transformation/GTK/wk7/\n",
      "python -W ignore wrappers/analyze_sample.py --file_path /media/michael/Elements_12//GWAS_Transformation/GTK/wk7//GTK1_I5.0_F1.9_L100LED30_175225_5_2_3_Fluorescence.hdr --fluorophores GFP Chl Diffraction --min_desired_wavelength 500 --max_desired_wavelength 900 --red_channel Chl --green_channel GFP --blue_channel Diffraction --red_cap 200 --green_cap 400 --blue_cap 50 --plot 1 --spectral_library_path /home/michael/gmodetector_py/spectral_library/ --output_dir /home/michael/data/gmodetector_out//GWAS_Transformation/GTK/wk7/\n",
      "python -W ignore wrappers/analyze_sample.py --file_path /media/michael/Elements_12//GWAS_Transformation/GTK/wk7//GTK2_I5.0_F1.9_L100LED30_162350_0_0_0_Fluorescence.hdr --fluorophores GFP Chl Diffraction --min_desired_wavelength 500 --max_desired_wavelength 900 --red_channel Chl --green_channel GFP --blue_channel Diffraction --red_cap 200 --green_cap 400 --blue_cap 50 --plot 1 --spectral_library_path /home/michael/gmodetector_py/spectral_library/ --output_dir /home/michael/data/gmodetector_out//GWAS_Transformation/GTK/wk7/\n",
      "python -W ignore wrappers/analyze_sample.py --file_path /media/michael/Elements_12//GWAS_Transformation/GTK/wk7//GTK2_I5.0_F1.9_L100LED30_162509_1_0_1_Fluorescence.hdr --fluorophores GFP Chl Diffraction --min_desired_wavelength 500 --max_desired_wavelength 900 --red_channel Chl --green_channel GFP --blue_channel Diffraction --red_cap 200 --green_cap 400 --blue_cap 50 --plot 1 --spectral_library_path /home/michael/gmodetector_py/spectral_library/ --output_dir /home/michael/data/gmodetector_out//GWAS_Transformation/GTK/wk7/\n",
      "python -W ignore wrappers/analyze_sample.py --file_path /media/michael/Elements_12//GWAS_Transformation/GTK/wk7//GTK2_I5.0_F1.9_L100LED30_162645_2_0_2_Fluorescence.hdr --fluorophores GFP Chl Diffraction --min_desired_wavelength 500 --max_desired_wavelength 900 --red_channel Chl --green_channel GFP --blue_channel Diffraction --red_cap 200 --green_cap 400 --blue_cap 50 --plot 1 --spectral_library_path /home/michael/gmodetector_py/spectral_library/ --output_dir /home/michael/data/gmodetector_out//GWAS_Transformation/GTK/wk7/\n",
      "python -W ignore wrappers/analyze_sample.py --file_path /media/michael/Elements_12//GWAS_Transformation/GTK/wk7//GTK2_I5.0_F1.9_L100LED30_162822_3_0_3_Fluorescence.hdr --fluorophores GFP Chl Diffraction --min_desired_wavelength 500 --max_desired_wavelength 900 --red_channel Chl --green_channel GFP --blue_channel Diffraction --red_cap 200 --green_cap 400 --blue_cap 50 --plot 1 --spectral_library_path /home/michael/gmodetector_py/spectral_library/ --output_dir /home/michael/data/gmodetector_out//GWAS_Transformation/GTK/wk7/\n",
      "python -W ignore wrappers/analyze_sample.py --file_path /media/michael/Elements_12//GWAS_Transformation/GTK/wk7//GTK2_I5.0_F1.9_L100LED30_162957_4_0_4_Fluorescence.hdr --fluorophores GFP Chl Diffraction --min_desired_wavelength 500 --max_desired_wavelength 900 --red_channel Chl --green_channel GFP --blue_channel Diffraction --red_cap 200 --green_cap 400 --blue_cap 50 --plot 1 --spectral_library_path /home/michael/gmodetector_py/spectral_library/ --output_dir /home/michael/data/gmodetector_out//GWAS_Transformation/GTK/wk7/\n",
      "python -W ignore wrappers/analyze_sample.py --file_path /media/michael/Elements_12//GWAS_Transformation/GTK/wk7//GTK2_I5.0_F1.9_L100LED30_163131_5_1_6_Fluorescence.hdr --fluorophores GFP Chl Diffraction --min_desired_wavelength 500 --max_desired_wavelength 900 --red_channel Chl --green_channel GFP --blue_channel Diffraction --red_cap 200 --green_cap 400 --blue_cap 50 --plot 1 --spectral_library_path /home/michael/gmodetector_py/spectral_library/ --output_dir /home/michael/data/gmodetector_out//GWAS_Transformation/GTK/wk7/\n",
      "python -W ignore wrappers/analyze_sample.py --file_path /media/michael/Elements_12//GWAS_Transformation/GTK/wk7//GTK2_I5.0_F1.9_L100LED30_163311_6_1_2_Fluorescence.hdr --fluorophores GFP Chl Diffraction --min_desired_wavelength 500 --max_desired_wavelength 900 --red_channel Chl --green_channel GFP --blue_channel Diffraction --red_cap 200 --green_cap 400 --blue_cap 50 --plot 1 --spectral_library_path /home/michael/gmodetector_py/spectral_library/ --output_dir /home/michael/data/gmodetector_out//GWAS_Transformation/GTK/wk7/\n",
      "python -W ignore wrappers/analyze_sample.py --file_path /media/michael/Elements_12//GWAS_Transformation/GTK/wk7//GTK2_I5.0_F1.9_L100LED30_163505_7_1_1_Fluorescence.hdr --fluorophores GFP Chl Diffraction --min_desired_wavelength 500 --max_desired_wavelength 900 --red_channel Chl --green_channel GFP --blue_channel Diffraction --red_cap 200 --green_cap 400 --blue_cap 50 --plot 1 --spectral_library_path /home/michael/gmodetector_py/spectral_library/ --output_dir /home/michael/data/gmodetector_out//GWAS_Transformation/GTK/wk7/\n",
      "python -W ignore wrappers/analyze_sample.py --file_path /media/michael/Elements_12//GWAS_Transformation/GTK/wk7//GTK2_I5.0_F1.9_L100LED30_163640_8_1_0_Fluorescence.hdr --fluorophores GFP Chl Diffraction --min_desired_wavelength 500 --max_desired_wavelength 900 --red_channel Chl --green_channel GFP --blue_channel Diffraction --red_cap 200 --green_cap 400 --blue_cap 50 --plot 1 --spectral_library_path /home/michael/gmodetector_py/spectral_library/ --output_dir /home/michael/data/gmodetector_out//GWAS_Transformation/GTK/wk7/\n",
      "python -W ignore wrappers/analyze_sample.py --file_path /media/michael/Elements_12//GWAS_Transformation/GTK/wk7//GTK2_I5.0_F1.9_L100LED30_163811_9_2_0_Fluorescence.hdr --fluorophores GFP Chl Diffraction --min_desired_wavelength 500 --max_desired_wavelength 900 --red_channel Chl --green_channel GFP --blue_channel Diffraction --red_cap 200 --green_cap 400 --blue_cap 50 --plot 1 --spectral_library_path /home/michael/gmodetector_py/spectral_library/ --output_dir /home/michael/data/gmodetector_out//GWAS_Transformation/GTK/wk7/\n",
      "python -W ignore wrappers/analyze_sample.py --file_path /media/michael/Elements_12//GWAS_Transformation/GTK/wk7//GTK2_I5.0_F1.9_L100LED30_163938_10_2_1_Fluorescence.hdr --fluorophores GFP Chl Diffraction --min_desired_wavelength 500 --max_desired_wavelength 900 --red_channel Chl --green_channel GFP --blue_channel Diffraction --red_cap 200 --green_cap 400 --blue_cap 50 --plot 1 --spectral_library_path /home/michael/gmodetector_py/spectral_library/ --output_dir /home/michael/data/gmodetector_out//GWAS_Transformation/GTK/wk7/\n",
      "python -W ignore wrappers/analyze_sample.py --file_path /media/michael/Elements_12//GWAS_Transformation/GTK/wk7//GTK2_I5.0_F1.9_L100LED30_164113_11_2_2_Fluorescence.hdr --fluorophores GFP Chl Diffraction --min_desired_wavelength 500 --max_desired_wavelength 900 --red_channel Chl --green_channel GFP --blue_channel Diffraction --red_cap 200 --green_cap 400 --blue_cap 50 --plot 1 --spectral_library_path /home/michael/gmodetector_py/spectral_library/ --output_dir /home/michael/data/gmodetector_out//GWAS_Transformation/GTK/wk7/\n",
      "python -W ignore wrappers/analyze_sample.py --file_path /media/michael/Elements_12//GWAS_Transformation/GTK/wk7//GTK2_I5.0_F1.9_L100LED30_164247_12_2_3_Fluorescence.hdr --fluorophores GFP Chl Diffraction --min_desired_wavelength 500 --max_desired_wavelength 900 --red_channel Chl --green_channel GFP --blue_channel Diffraction --red_cap 200 --green_cap 400 --blue_cap 50 --plot 1 --spectral_library_path /home/michael/gmodetector_py/spectral_library/ --output_dir /home/michael/data/gmodetector_out//GWAS_Transformation/GTK/wk7/\n",
      "python -W ignore wrappers/analyze_sample.py --file_path /media/michael/Elements_12//GWAS_Transformation/GTK/wk7//GTK2_I5.0_F1.9_L100LED30_164424_13_2_4_Fluorescence.hdr --fluorophores GFP Chl Diffraction --min_desired_wavelength 500 --max_desired_wavelength 900 --red_channel Chl --green_channel GFP --blue_channel Diffraction --red_cap 200 --green_cap 400 --blue_cap 50 --plot 1 --spectral_library_path /home/michael/gmodetector_py/spectral_library/ --output_dir /home/michael/data/gmodetector_out//GWAS_Transformation/GTK/wk7/\n",
      "python -W ignore wrappers/analyze_sample.py --file_path /media/michael/Elements_12//GWAS_Transformation/GTK/wk7//GTK2_I5.0_F1.9_L100LED30_164558_14_2_5_Fluorescence.hdr --fluorophores GFP Chl Diffraction --min_desired_wavelength 500 --max_desired_wavelength 900 --red_channel Chl --green_channel GFP --blue_channel Diffraction --red_cap 200 --green_cap 400 --blue_cap 50 --plot 1 --spectral_library_path /home/michael/gmodetector_py/spectral_library/ --output_dir /home/michael/data/gmodetector_out//GWAS_Transformation/GTK/wk7/\n",
      "python -W ignore wrappers/analyze_sample.py --file_path /media/michael/Elements_12//GWAS_Transformation/GTK/wk7//GTK2_I5.0_F1.9_L100LED30_164736_15_2_6_Fluorescence.hdr --fluorophores GFP Chl Diffraction --min_desired_wavelength 500 --max_desired_wavelength 900 --red_channel Chl --green_channel GFP --blue_channel Diffraction --red_cap 200 --green_cap 400 --blue_cap 50 --plot 1 --spectral_library_path /home/michael/gmodetector_py/spectral_library/ --output_dir /home/michael/data/gmodetector_out//GWAS_Transformation/GTK/wk7/\n",
      "python -W ignore wrappers/analyze_sample.py --file_path /media/michael/Elements_12//GWAS_Transformation/GTK/wk7//GTK2_I5.0_F1.9_L100LED30_173708_0_1_5_Fluorescence.hdr --fluorophores GFP Chl Diffraction --min_desired_wavelength 500 --max_desired_wavelength 900 --red_channel Chl --green_channel GFP --blue_channel Diffraction --red_cap 200 --green_cap 400 --blue_cap 50 --plot 1 --spectral_library_path /home/michael/gmodetector_py/spectral_library/ --output_dir /home/michael/data/gmodetector_out//GWAS_Transformation/GTK/wk7/\n",
      "python -W ignore wrappers/analyze_sample.py --file_path /media/michael/Elements_12//GWAS_Transformation/GTK/wk7//GTK2_I5.0_F1.9_L100LED30_173916_1_1_4_Fluorescence.hdr --fluorophores GFP Chl Diffraction --min_desired_wavelength 500 --max_desired_wavelength 900 --red_channel Chl --green_channel GFP --blue_channel Diffraction --red_cap 200 --green_cap 400 --blue_cap 50 --plot 1 --spectral_library_path /home/michael/gmodetector_py/spectral_library/ --output_dir /home/michael/data/gmodetector_out//GWAS_Transformation/GTK/wk7/\n",
      "python -W ignore wrappers/analyze_sample.py --file_path /media/michael/Elements_12//GWAS_Transformation/GTK/wk7//GTK3_I5.0_F1.9_L100LED30_165620_0_0_2_Fluorescence.hdr --fluorophores GFP Chl Diffraction --min_desired_wavelength 500 --max_desired_wavelength 900 --red_channel Chl --green_channel GFP --blue_channel Diffraction --red_cap 200 --green_cap 400 --blue_cap 50 --plot 1 --spectral_library_path /home/michael/gmodetector_py/spectral_library/ --output_dir /home/michael/data/gmodetector_out//GWAS_Transformation/GTK/wk7/\n",
      "python -W ignore wrappers/analyze_sample.py --file_path /media/michael/Elements_12//GWAS_Transformation/GTK/wk7//GTK3_I5.0_F1.9_L100LED30_165757_1_0_3_Fluorescence.hdr --fluorophores GFP Chl Diffraction --min_desired_wavelength 500 --max_desired_wavelength 900 --red_channel Chl --green_channel GFP --blue_channel Diffraction --red_cap 200 --green_cap 400 --blue_cap 50 --plot 1 --spectral_library_path /home/michael/gmodetector_py/spectral_library/ --output_dir /home/michael/data/gmodetector_out//GWAS_Transformation/GTK/wk7/\n",
      "python -W ignore wrappers/analyze_sample.py --file_path /media/michael/Elements_12//GWAS_Transformation/GTK/wk7//GTK3_I5.0_F1.9_L100LED30_165934_2_0_4_Fluorescence.hdr --fluorophores GFP Chl Diffraction --min_desired_wavelength 500 --max_desired_wavelength 900 --red_channel Chl --green_channel GFP --blue_channel Diffraction --red_cap 200 --green_cap 400 --blue_cap 50 --plot 1 --spectral_library_path /home/michael/gmodetector_py/spectral_library/ --output_dir /home/michael/data/gmodetector_out//GWAS_Transformation/GTK/wk7/\n",
      "python -W ignore wrappers/analyze_sample.py --file_path /media/michael/Elements_12//GWAS_Transformation/GTK/wk7//GTK3_I5.0_F1.9_L100LED30_170112_3_0_5_Fluorescence.hdr --fluorophores GFP Chl Diffraction --min_desired_wavelength 500 --max_desired_wavelength 900 --red_channel Chl --green_channel GFP --blue_channel Diffraction --red_cap 200 --green_cap 400 --blue_cap 50 --plot 1 --spectral_library_path /home/michael/gmodetector_py/spectral_library/ --output_dir /home/michael/data/gmodetector_out//GWAS_Transformation/GTK/wk7/\n",
      "python -W ignore wrappers/analyze_sample.py --file_path /media/michael/Elements_12//GWAS_Transformation/GTK/wk7//GTK3_I5.0_F1.9_L100LED30_170248_4_0_6_Fluorescence.hdr --fluorophores GFP Chl Diffraction --min_desired_wavelength 500 --max_desired_wavelength 900 --red_channel Chl --green_channel GFP --blue_channel Diffraction --red_cap 200 --green_cap 400 --blue_cap 50 --plot 1 --spectral_library_path /home/michael/gmodetector_py/spectral_library/ --output_dir /home/michael/data/gmodetector_out//GWAS_Transformation/GTK/wk7/\n",
      "python -W ignore wrappers/analyze_sample.py --file_path /media/michael/Elements_12//GWAS_Transformation/GTK/wk7//GTK3_I5.0_F1.9_L100LED30_170425_5_1_6_Fluorescence.hdr --fluorophores GFP Chl Diffraction --min_desired_wavelength 500 --max_desired_wavelength 900 --red_channel Chl --green_channel GFP --blue_channel Diffraction --red_cap 200 --green_cap 400 --blue_cap 50 --plot 1 --spectral_library_path /home/michael/gmodetector_py/spectral_library/ --output_dir /home/michael/data/gmodetector_out//GWAS_Transformation/GTK/wk7/\n",
      "python -W ignore wrappers/analyze_sample.py --file_path /media/michael/Elements_12//GWAS_Transformation/GTK/wk7//GTK3_I5.0_F1.9_L100LED30_170549_6_1_5_Fluorescence.hdr --fluorophores GFP Chl Diffraction --min_desired_wavelength 500 --max_desired_wavelength 900 --red_channel Chl --green_channel GFP --blue_channel Diffraction --red_cap 200 --green_cap 400 --blue_cap 50 --plot 1 --spectral_library_path /home/michael/gmodetector_py/spectral_library/ --output_dir /home/michael/data/gmodetector_out//GWAS_Transformation/GTK/wk7/\n",
      "python -W ignore wrappers/analyze_sample.py --file_path /media/michael/Elements_12//GWAS_Transformation/GTK/wk7//GTK3_I5.0_F1.9_L100LED30_170723_7_1_4_Fluorescence.hdr --fluorophores GFP Chl Diffraction --min_desired_wavelength 500 --max_desired_wavelength 900 --red_channel Chl --green_channel GFP --blue_channel Diffraction --red_cap 200 --green_cap 400 --blue_cap 50 --plot 1 --spectral_library_path /home/michael/gmodetector_py/spectral_library/ --output_dir /home/michael/data/gmodetector_out//GWAS_Transformation/GTK/wk7/\n",
      "python -W ignore wrappers/analyze_sample.py --file_path /media/michael/Elements_12//GWAS_Transformation/GTK/wk7//GTK3_I5.0_F1.9_L100LED30_170901_8_1_3_Fluorescence.hdr --fluorophores GFP Chl Diffraction --min_desired_wavelength 500 --max_desired_wavelength 900 --red_channel Chl --green_channel GFP --blue_channel Diffraction --red_cap 200 --green_cap 400 --blue_cap 50 --plot 1 --spectral_library_path /home/michael/gmodetector_py/spectral_library/ --output_dir /home/michael/data/gmodetector_out//GWAS_Transformation/GTK/wk7/\n",
      "python -W ignore wrappers/analyze_sample.py --file_path /media/michael/Elements_12//GWAS_Transformation/GTK/wk7//GTK3_I5.0_F1.9_L100LED30_171034_9_1_2_Fluorescence.hdr --fluorophores GFP Chl Diffraction --min_desired_wavelength 500 --max_desired_wavelength 900 --red_channel Chl --green_channel GFP --blue_channel Diffraction --red_cap 200 --green_cap 400 --blue_cap 50 --plot 1 --spectral_library_path /home/michael/gmodetector_py/spectral_library/ --output_dir /home/michael/data/gmodetector_out//GWAS_Transformation/GTK/wk7/\n",
      "python -W ignore wrappers/analyze_sample.py --file_path /media/michael/Elements_12//GWAS_Transformation/GTK/wk7//GTK3_I5.0_F1.9_L100LED30_171208_10_1_1_Fluorescence.hdr --fluorophores GFP Chl Diffraction --min_desired_wavelength 500 --max_desired_wavelength 900 --red_channel Chl --green_channel GFP --blue_channel Diffraction --red_cap 200 --green_cap 400 --blue_cap 50 --plot 1 --spectral_library_path /home/michael/gmodetector_py/spectral_library/ --output_dir /home/michael/data/gmodetector_out//GWAS_Transformation/GTK/wk7/\n",
      "python -W ignore wrappers/analyze_sample.py --file_path /media/michael/Elements_12//GWAS_Transformation/GTK/wk7//GTK3_I5.0_F1.9_L100LED30_171344_11_1_0_Fluorescence.hdr --fluorophores GFP Chl Diffraction --min_desired_wavelength 500 --max_desired_wavelength 900 --red_channel Chl --green_channel GFP --blue_channel Diffraction --red_cap 200 --green_cap 400 --blue_cap 50 --plot 1 --spectral_library_path /home/michael/gmodetector_py/spectral_library/ --output_dir /home/michael/data/gmodetector_out//GWAS_Transformation/GTK/wk7/\n",
      "python -W ignore wrappers/analyze_sample.py --file_path /media/michael/Elements_12//GWAS_Transformation/GTK/wk7//GTK3_I5.0_F1.9_L100LED30_171521_12_2_0_Fluorescence.hdr --fluorophores GFP Chl Diffraction --min_desired_wavelength 500 --max_desired_wavelength 900 --red_channel Chl --green_channel GFP --blue_channel Diffraction --red_cap 200 --green_cap 400 --blue_cap 50 --plot 1 --spectral_library_path /home/michael/gmodetector_py/spectral_library/ --output_dir /home/michael/data/gmodetector_out//GWAS_Transformation/GTK/wk7/\n",
      "python -W ignore wrappers/analyze_sample.py --file_path /media/michael/Elements_12//GWAS_Transformation/GTK/wk7//GTK3_I5.0_F1.9_L100LED30_171644_13_2_1_Fluorescence.hdr --fluorophores GFP Chl Diffraction --min_desired_wavelength 500 --max_desired_wavelength 900 --red_channel Chl --green_channel GFP --blue_channel Diffraction --red_cap 200 --green_cap 400 --blue_cap 50 --plot 1 --spectral_library_path /home/michael/gmodetector_py/spectral_library/ --output_dir /home/michael/data/gmodetector_out//GWAS_Transformation/GTK/wk7/\n",
      "python -W ignore wrappers/analyze_sample.py --file_path /media/michael/Elements_12//GWAS_Transformation/GTK/wk7//GTK3_I5.0_F1.9_L100LED30_171820_14_2_3_Fluorescence.hdr --fluorophores GFP Chl Diffraction --min_desired_wavelength 500 --max_desired_wavelength 900 --red_channel Chl --green_channel GFP --blue_channel Diffraction --red_cap 200 --green_cap 400 --blue_cap 50 --plot 1 --spectral_library_path /home/michael/gmodetector_py/spectral_library/ --output_dir /home/michael/data/gmodetector_out//GWAS_Transformation/GTK/wk7/\n",
      "python -W ignore wrappers/analyze_sample.py --file_path /media/michael/Elements_12//GWAS_Transformation/GTK/wk7//GTK3_I5.0_F1.9_L100LED30_171958_15_2_4_Fluorescence.hdr --fluorophores GFP Chl Diffraction --min_desired_wavelength 500 --max_desired_wavelength 900 --red_channel Chl --green_channel GFP --blue_channel Diffraction --red_cap 200 --green_cap 400 --blue_cap 50 --plot 1 --spectral_library_path /home/michael/gmodetector_py/spectral_library/ --output_dir /home/michael/data/gmodetector_out//GWAS_Transformation/GTK/wk7/\n",
      "python -W ignore wrappers/analyze_sample.py --file_path /media/michael/Elements_12//GWAS_Transformation/GTK/wk7//GTK3_I5.0_F1.9_L100LED30_172133_16_2_5_Fluorescence.hdr --fluorophores GFP Chl Diffraction --min_desired_wavelength 500 --max_desired_wavelength 900 --red_channel Chl --green_channel GFP --blue_channel Diffraction --red_cap 200 --green_cap 400 --blue_cap 50 --plot 1 --spectral_library_path /home/michael/gmodetector_py/spectral_library/ --output_dir /home/michael/data/gmodetector_out//GWAS_Transformation/GTK/wk7/\n",
      "python -W ignore wrappers/analyze_sample.py --file_path /media/michael/Elements_12//GWAS_Transformation/GTK/wk7//GTK3_I5.0_F1.9_L100LED30_172307_17_2_6_Fluorescence.hdr --fluorophores GFP Chl Diffraction --min_desired_wavelength 500 --max_desired_wavelength 900 --red_channel Chl --green_channel GFP --blue_channel Diffraction --red_cap 200 --green_cap 400 --blue_cap 50 --plot 1 --spectral_library_path /home/michael/gmodetector_py/spectral_library/ --output_dir /home/michael/data/gmodetector_out//GWAS_Transformation/GTK/wk7/\n",
      "python -W ignore wrappers/analyze_sample.py --file_path /media/michael/Elements_12//GWAS_Transformation/GTK/wk7//GTK3_I5.0_F1.9_L100LED30_172820_0_0_0_Fluorescence.hdr --fluorophores GFP Chl Diffraction --min_desired_wavelength 500 --max_desired_wavelength 900 --red_channel Chl --green_channel GFP --blue_channel Diffraction --red_cap 200 --green_cap 400 --blue_cap 50 --plot 1 --spectral_library_path /home/michael/gmodetector_py/spectral_library/ --output_dir /home/michael/data/gmodetector_out//GWAS_Transformation/GTK/wk7/\n",
      "python -W ignore wrappers/analyze_sample.py --file_path /media/michael/Elements_12//GWAS_Transformation/GTK/wk7//GTK3_I5.0_F1.9_L100LED30_172942_1_0_1_Fluorescence.hdr --fluorophores GFP Chl Diffraction --min_desired_wavelength 500 --max_desired_wavelength 900 --red_channel Chl --green_channel GFP --blue_channel Diffraction --red_cap 200 --green_cap 400 --blue_cap 50 --plot 1 --spectral_library_path /home/michael/gmodetector_py/spectral_library/ --output_dir /home/michael/data/gmodetector_out//GWAS_Transformation/GTK/wk7/\n",
      "python -W ignore wrappers/analyze_sample.py --file_path /media/michael/Elements_12//GWAS_Transformation/GTK/wk7//GTK3_I5.0_F1.9_L100LED30_173115_2_1_0_Fluorescence.hdr --fluorophores GFP Chl Diffraction --min_desired_wavelength 500 --max_desired_wavelength 900 --red_channel Chl --green_channel GFP --blue_channel Diffraction --red_cap 200 --green_cap 400 --blue_cap 50 --plot 1 --spectral_library_path /home/michael/gmodetector_py/spectral_library/ --output_dir /home/michael/data/gmodetector_out//GWAS_Transformation/GTK/wk7/\n",
      "python -W ignore wrappers/analyze_sample.py --file_path /media/michael/Elements_12//GWAS_Transformation/GTK/wk7//GTK4_I5.0_F1.9_L100LED30_181537_0_0_0_Fluorescence.hdr --fluorophores GFP Chl Diffraction --min_desired_wavelength 500 --max_desired_wavelength 900 --red_channel Chl --green_channel GFP --blue_channel Diffraction --red_cap 200 --green_cap 400 --blue_cap 50 --plot 1 --spectral_library_path /home/michael/gmodetector_py/spectral_library/ --output_dir /home/michael/data/gmodetector_out//GWAS_Transformation/GTK/wk7/\n",
      "python -W ignore wrappers/analyze_sample.py --file_path /media/michael/Elements_12//GWAS_Transformation/GTK/wk7//GTK4_I5.0_F1.9_L100LED30_181657_1_0_1_Fluorescence.hdr --fluorophores GFP Chl Diffraction --min_desired_wavelength 500 --max_desired_wavelength 900 --red_channel Chl --green_channel GFP --blue_channel Diffraction --red_cap 200 --green_cap 400 --blue_cap 50 --plot 1 --spectral_library_path /home/michael/gmodetector_py/spectral_library/ --output_dir /home/michael/data/gmodetector_out//GWAS_Transformation/GTK/wk7/\n",
      "python -W ignore wrappers/analyze_sample.py --file_path /media/michael/Elements_12//GWAS_Transformation/GTK/wk7//GTK4_I5.0_F1.9_L100LED30_181831_2_0_2_Fluorescence.hdr --fluorophores GFP Chl Diffraction --min_desired_wavelength 500 --max_desired_wavelength 900 --red_channel Chl --green_channel GFP --blue_channel Diffraction --red_cap 200 --green_cap 400 --blue_cap 50 --plot 1 --spectral_library_path /home/michael/gmodetector_py/spectral_library/ --output_dir /home/michael/data/gmodetector_out//GWAS_Transformation/GTK/wk7/\n",
      "python -W ignore wrappers/analyze_sample.py --file_path /media/michael/Elements_12//GWAS_Transformation/GTK/wk7//GTK4_I5.0_F1.9_L100LED30_182007_3_0_3_Fluorescence.hdr --fluorophores GFP Chl Diffraction --min_desired_wavelength 500 --max_desired_wavelength 900 --red_channel Chl --green_channel GFP --blue_channel Diffraction --red_cap 200 --green_cap 400 --blue_cap 50 --plot 1 --spectral_library_path /home/michael/gmodetector_py/spectral_library/ --output_dir /home/michael/data/gmodetector_out//GWAS_Transformation/GTK/wk7/\n",
      "python -W ignore wrappers/analyze_sample.py --file_path /media/michael/Elements_12//GWAS_Transformation/GTK/wk7//GTK4_I5.0_F1.9_L100LED30_182144_4_0_4_Fluorescence.hdr --fluorophores GFP Chl Diffraction --min_desired_wavelength 500 --max_desired_wavelength 900 --red_channel Chl --green_channel GFP --blue_channel Diffraction --red_cap 200 --green_cap 400 --blue_cap 50 --plot 1 --spectral_library_path /home/michael/gmodetector_py/spectral_library/ --output_dir /home/michael/data/gmodetector_out//GWAS_Transformation/GTK/wk7/\n",
      "python -W ignore wrappers/analyze_sample.py --file_path /media/michael/Elements_12//GWAS_Transformation/GTK/wk7//GTK4_I5.0_F1.9_L100LED30_182319_5_0_5_Fluorescence.hdr --fluorophores GFP Chl Diffraction --min_desired_wavelength 500 --max_desired_wavelength 900 --red_channel Chl --green_channel GFP --blue_channel Diffraction --red_cap 200 --green_cap 400 --blue_cap 50 --plot 1 --spectral_library_path /home/michael/gmodetector_py/spectral_library/ --output_dir /home/michael/data/gmodetector_out//GWAS_Transformation/GTK/wk7/\n",
      "python -W ignore wrappers/analyze_sample.py --file_path /media/michael/Elements_12//GWAS_Transformation/GTK/wk7//GTK4_I5.0_F1.9_L100LED30_182456_6_0_6_Fluorescence.hdr --fluorophores GFP Chl Diffraction --min_desired_wavelength 500 --max_desired_wavelength 900 --red_channel Chl --green_channel GFP --blue_channel Diffraction --red_cap 200 --green_cap 400 --blue_cap 50 --plot 1 --spectral_library_path /home/michael/gmodetector_py/spectral_library/ --output_dir /home/michael/data/gmodetector_out//GWAS_Transformation/GTK/wk7/\n",
      "python -W ignore wrappers/analyze_sample.py --file_path /media/michael/Elements_12//GWAS_Transformation/GTK/wk7//GTK4_I5.0_F1.9_L100LED30_182630_7_1_6_Fluorescence.hdr --fluorophores GFP Chl Diffraction --min_desired_wavelength 500 --max_desired_wavelength 900 --red_channel Chl --green_channel GFP --blue_channel Diffraction --red_cap 200 --green_cap 400 --blue_cap 50 --plot 1 --spectral_library_path /home/michael/gmodetector_py/spectral_library/ --output_dir /home/michael/data/gmodetector_out//GWAS_Transformation/GTK/wk7/\n",
      "python -W ignore wrappers/analyze_sample.py --file_path /media/michael/Elements_12//GWAS_Transformation/GTK/wk7//GTK4_I5.0_F1.9_L100LED30_182757_8_1_5_Fluorescence.hdr --fluorophores GFP Chl Diffraction --min_desired_wavelength 500 --max_desired_wavelength 900 --red_channel Chl --green_channel GFP --blue_channel Diffraction --red_cap 200 --green_cap 400 --blue_cap 50 --plot 1 --spectral_library_path /home/michael/gmodetector_py/spectral_library/ --output_dir /home/michael/data/gmodetector_out//GWAS_Transformation/GTK/wk7/\n",
      "python -W ignore wrappers/analyze_sample.py --file_path /media/michael/Elements_12//GWAS_Transformation/GTK/wk7//GTK4_I5.0_F1.9_L100LED30_182934_9_1_4_Fluorescence.hdr --fluorophores GFP Chl Diffraction --min_desired_wavelength 500 --max_desired_wavelength 900 --red_channel Chl --green_channel GFP --blue_channel Diffraction --red_cap 200 --green_cap 400 --blue_cap 50 --plot 1 --spectral_library_path /home/michael/gmodetector_py/spectral_library/ --output_dir /home/michael/data/gmodetector_out//GWAS_Transformation/GTK/wk7/\n",
      "python -W ignore wrappers/analyze_sample.py --file_path /media/michael/Elements_12//GWAS_Transformation/GTK/wk7//GTK4_I5.0_F1.9_L100LED30_183108_10_1_2_Fluorescence.hdr --fluorophores GFP Chl Diffraction --min_desired_wavelength 500 --max_desired_wavelength 900 --red_channel Chl --green_channel GFP --blue_channel Diffraction --red_cap 200 --green_cap 400 --blue_cap 50 --plot 1 --spectral_library_path /home/michael/gmodetector_py/spectral_library/ --output_dir /home/michael/data/gmodetector_out//GWAS_Transformation/GTK/wk7/\n",
      "python -W ignore wrappers/analyze_sample.py --file_path /media/michael/Elements_12//GWAS_Transformation/GTK/wk7//GTK4_I5.0_F1.9_L100LED30_183243_11_1_1_Fluorescence.hdr --fluorophores GFP Chl Diffraction --min_desired_wavelength 500 --max_desired_wavelength 900 --red_channel Chl --green_channel GFP --blue_channel Diffraction --red_cap 200 --green_cap 400 --blue_cap 50 --plot 1 --spectral_library_path /home/michael/gmodetector_py/spectral_library/ --output_dir /home/michael/data/gmodetector_out//GWAS_Transformation/GTK/wk7/\n",
      "python -W ignore wrappers/analyze_sample.py --file_path /media/michael/Elements_12//GWAS_Transformation/GTK/wk7//GTK4_I5.0_F1.9_L100LED30_183419_12_1_0_Fluorescence.hdr --fluorophores GFP Chl Diffraction --min_desired_wavelength 500 --max_desired_wavelength 900 --red_channel Chl --green_channel GFP --blue_channel Diffraction --red_cap 200 --green_cap 400 --blue_cap 50 --plot 1 --spectral_library_path /home/michael/gmodetector_py/spectral_library/ --output_dir /home/michael/data/gmodetector_out//GWAS_Transformation/GTK/wk7/\n",
      "python -W ignore wrappers/analyze_sample.py --file_path /media/michael/Elements_12//GWAS_Transformation/GTK/wk7//GTK4_I5.0_F1.9_L100LED30_183553_13_2_0_Fluorescence.hdr --fluorophores GFP Chl Diffraction --min_desired_wavelength 500 --max_desired_wavelength 900 --red_channel Chl --green_channel GFP --blue_channel Diffraction --red_cap 200 --green_cap 400 --blue_cap 50 --plot 1 --spectral_library_path /home/michael/gmodetector_py/spectral_library/ --output_dir /home/michael/data/gmodetector_out//GWAS_Transformation/GTK/wk7/\n",
      "python -W ignore wrappers/analyze_sample.py --file_path /media/michael/Elements_12//GWAS_Transformation/GTK/wk7//GTK4_I5.0_F1.9_L100LED30_183719_14_2_1_Fluorescence.hdr --fluorophores GFP Chl Diffraction --min_desired_wavelength 500 --max_desired_wavelength 900 --red_channel Chl --green_channel GFP --blue_channel Diffraction --red_cap 200 --green_cap 400 --blue_cap 50 --plot 1 --spectral_library_path /home/michael/gmodetector_py/spectral_library/ --output_dir /home/michael/data/gmodetector_out//GWAS_Transformation/GTK/wk7/\n",
      "python -W ignore wrappers/analyze_sample.py --file_path /media/michael/Elements_12//GWAS_Transformation/GTK/wk7//GTK4_I5.0_F1.9_L100LED30_183855_15_2_2_Fluorescence.hdr --fluorophores GFP Chl Diffraction --min_desired_wavelength 500 --max_desired_wavelength 900 --red_channel Chl --green_channel GFP --blue_channel Diffraction --red_cap 200 --green_cap 400 --blue_cap 50 --plot 1 --spectral_library_path /home/michael/gmodetector_py/spectral_library/ --output_dir /home/michael/data/gmodetector_out//GWAS_Transformation/GTK/wk7/\n",
      "python -W ignore wrappers/analyze_sample.py --file_path /media/michael/Elements_12//GWAS_Transformation/GTK/wk7//GTK4_I5.0_F1.9_L100LED30_184030_16_2_3_Fluorescence.hdr --fluorophores GFP Chl Diffraction --min_desired_wavelength 500 --max_desired_wavelength 900 --red_channel Chl --green_channel GFP --blue_channel Diffraction --red_cap 200 --green_cap 400 --blue_cap 50 --plot 1 --spectral_library_path /home/michael/gmodetector_py/spectral_library/ --output_dir /home/michael/data/gmodetector_out//GWAS_Transformation/GTK/wk7/\n",
      "python -W ignore wrappers/analyze_sample.py --file_path /media/michael/Elements_12//GWAS_Transformation/GTK/wk7//GTK4_I5.0_F1.9_L100LED30_184204_17_2_4_Fluorescence.hdr --fluorophores GFP Chl Diffraction --min_desired_wavelength 500 --max_desired_wavelength 900 --red_channel Chl --green_channel GFP --blue_channel Diffraction --red_cap 200 --green_cap 400 --blue_cap 50 --plot 1 --spectral_library_path /home/michael/gmodetector_py/spectral_library/ --output_dir /home/michael/data/gmodetector_out//GWAS_Transformation/GTK/wk7/\n",
      "python -W ignore wrappers/analyze_sample.py --file_path /media/michael/Elements_12//GWAS_Transformation/GTK/wk7//GTK4_I5.0_F1.9_L100LED30_184341_18_2_6_Fluorescence.hdr --fluorophores GFP Chl Diffraction --min_desired_wavelength 500 --max_desired_wavelength 900 --red_channel Chl --green_channel GFP --blue_channel Diffraction --red_cap 200 --green_cap 400 --blue_cap 50 --plot 1 --spectral_library_path /home/michael/gmodetector_py/spectral_library/ --output_dir /home/michael/data/gmodetector_out//GWAS_Transformation/GTK/wk7/\n",
      "python -W ignore wrappers/analyze_sample.py --file_path /media/michael/Elements_12//GWAS_Transformation/GTK/wk7//GTK4_I5.0_F1.9_L100LED30_185000_0_1_4_Fluorescence.hdr --fluorophores GFP Chl Diffraction --min_desired_wavelength 500 --max_desired_wavelength 900 --red_channel Chl --green_channel GFP --blue_channel Diffraction --red_cap 200 --green_cap 400 --blue_cap 50 --plot 1 --spectral_library_path /home/michael/gmodetector_py/spectral_library/ --output_dir /home/michael/data/gmodetector_out//GWAS_Transformation/GTK/wk7/\n",
      "python -W ignore wrappers/analyze_sample.py --file_path /media/michael/Elements_12//GWAS_Transformation/GTK/wk7//GTK5_I5.0_F1.9_L100LED30_191948_0_0_0_Fluorescence.hdr --fluorophores GFP Chl Diffraction --min_desired_wavelength 500 --max_desired_wavelength 900 --red_channel Chl --green_channel GFP --blue_channel Diffraction --red_cap 200 --green_cap 400 --blue_cap 50 --plot 1 --spectral_library_path /home/michael/gmodetector_py/spectral_library/ --output_dir /home/michael/data/gmodetector_out//GWAS_Transformation/GTK/wk7/\n",
      "python -W ignore wrappers/analyze_sample.py --file_path /media/michael/Elements_12//GWAS_Transformation/GTK/wk7//GTK5_I5.0_F1.9_L100LED30_192108_1_0_1_Fluorescence.hdr --fluorophores GFP Chl Diffraction --min_desired_wavelength 500 --max_desired_wavelength 900 --red_channel Chl --green_channel GFP --blue_channel Diffraction --red_cap 200 --green_cap 400 --blue_cap 50 --plot 1 --spectral_library_path /home/michael/gmodetector_py/spectral_library/ --output_dir /home/michael/data/gmodetector_out//GWAS_Transformation/GTK/wk7/\n",
      "python -W ignore wrappers/analyze_sample.py --file_path /media/michael/Elements_12//GWAS_Transformation/GTK/wk7//GTK5_I5.0_F1.9_L100LED30_192240_2_0_2_Fluorescence.hdr --fluorophores GFP Chl Diffraction --min_desired_wavelength 500 --max_desired_wavelength 900 --red_channel Chl --green_channel GFP --blue_channel Diffraction --red_cap 200 --green_cap 400 --blue_cap 50 --plot 1 --spectral_library_path /home/michael/gmodetector_py/spectral_library/ --output_dir /home/michael/data/gmodetector_out//GWAS_Transformation/GTK/wk7/\n",
      "python -W ignore wrappers/analyze_sample.py --file_path /media/michael/Elements_12//GWAS_Transformation/GTK/wk7//GTK5_I5.0_F1.9_L100LED30_192417_3_0_3_Fluorescence.hdr --fluorophores GFP Chl Diffraction --min_desired_wavelength 500 --max_desired_wavelength 900 --red_channel Chl --green_channel GFP --blue_channel Diffraction --red_cap 200 --green_cap 400 --blue_cap 50 --plot 1 --spectral_library_path /home/michael/gmodetector_py/spectral_library/ --output_dir /home/michael/data/gmodetector_out//GWAS_Transformation/GTK/wk7/\n",
      "python -W ignore wrappers/analyze_sample.py --file_path /media/michael/Elements_12//GWAS_Transformation/GTK/wk7//GTK5_I5.0_F1.9_L100LED30_192551_4_0_4_Fluorescence.hdr --fluorophores GFP Chl Diffraction --min_desired_wavelength 500 --max_desired_wavelength 900 --red_channel Chl --green_channel GFP --blue_channel Diffraction --red_cap 200 --green_cap 400 --blue_cap 50 --plot 1 --spectral_library_path /home/michael/gmodetector_py/spectral_library/ --output_dir /home/michael/data/gmodetector_out//GWAS_Transformation/GTK/wk7/\n",
      "python -W ignore wrappers/analyze_sample.py --file_path /media/michael/Elements_12//GWAS_Transformation/GTK/wk7//GTK5_I5.0_F1.9_L100LED30_192724_5_0_5_Fluorescence.hdr --fluorophores GFP Chl Diffraction --min_desired_wavelength 500 --max_desired_wavelength 900 --red_channel Chl --green_channel GFP --blue_channel Diffraction --red_cap 200 --green_cap 400 --blue_cap 50 --plot 1 --spectral_library_path /home/michael/gmodetector_py/spectral_library/ --output_dir /home/michael/data/gmodetector_out//GWAS_Transformation/GTK/wk7/\n",
      "python -W ignore wrappers/analyze_sample.py --file_path /media/michael/Elements_12//GWAS_Transformation/GTK/wk7//GTK5_I5.0_F1.9_L100LED30_192859_6_0_6_Fluorescence.hdr --fluorophores GFP Chl Diffraction --min_desired_wavelength 500 --max_desired_wavelength 900 --red_channel Chl --green_channel GFP --blue_channel Diffraction --red_cap 200 --green_cap 400 --blue_cap 50 --plot 1 --spectral_library_path /home/michael/gmodetector_py/spectral_library/ --output_dir /home/michael/data/gmodetector_out//GWAS_Transformation/GTK/wk7/\n",
      "python -W ignore wrappers/analyze_sample.py --file_path /media/michael/Elements_12//GWAS_Transformation/GTK/wk7//GTK5_I5.0_F1.9_L100LED30_193034_7_1_4_Fluorescence.hdr --fluorophores GFP Chl Diffraction --min_desired_wavelength 500 --max_desired_wavelength 900 --red_channel Chl --green_channel GFP --blue_channel Diffraction --red_cap 200 --green_cap 400 --blue_cap 50 --plot 1 --spectral_library_path /home/michael/gmodetector_py/spectral_library/ --output_dir /home/michael/data/gmodetector_out//GWAS_Transformation/GTK/wk7/\n",
      "python -W ignore wrappers/analyze_sample.py --file_path /media/michael/Elements_12//GWAS_Transformation/GTK/wk7//GTK5_I5.0_F1.9_L100LED30_193210_8_1_3_Fluorescence.hdr --fluorophores GFP Chl Diffraction --min_desired_wavelength 500 --max_desired_wavelength 900 --red_channel Chl --green_channel GFP --blue_channel Diffraction --red_cap 200 --green_cap 400 --blue_cap 50 --plot 1 --spectral_library_path /home/michael/gmodetector_py/spectral_library/ --output_dir /home/michael/data/gmodetector_out//GWAS_Transformation/GTK/wk7/\n",
      "python -W ignore wrappers/analyze_sample.py --file_path /media/michael/Elements_12//GWAS_Transformation/GTK/wk7//GTK5_I5.0_F1.9_L100LED30_193346_9_1_2_Fluorescence.hdr --fluorophores GFP Chl Diffraction --min_desired_wavelength 500 --max_desired_wavelength 900 --red_channel Chl --green_channel GFP --blue_channel Diffraction --red_cap 200 --green_cap 400 --blue_cap 50 --plot 1 --spectral_library_path /home/michael/gmodetector_py/spectral_library/ --output_dir /home/michael/data/gmodetector_out//GWAS_Transformation/GTK/wk7/\n",
      "python -W ignore wrappers/analyze_sample.py --file_path /media/michael/Elements_12//GWAS_Transformation/GTK/wk7//GTK5_I5.0_F1.9_L100LED30_193521_10_1_1_Fluorescence.hdr --fluorophores GFP Chl Diffraction --min_desired_wavelength 500 --max_desired_wavelength 900 --red_channel Chl --green_channel GFP --blue_channel Diffraction --red_cap 200 --green_cap 400 --blue_cap 50 --plot 1 --spectral_library_path /home/michael/gmodetector_py/spectral_library/ --output_dir /home/michael/data/gmodetector_out//GWAS_Transformation/GTK/wk7/\n",
      "python -W ignore wrappers/analyze_sample.py --file_path /media/michael/Elements_12//GWAS_Transformation/GTK/wk7//GTK6_I5.0_F1.9_L100LED30_121634_0_0_2_Fluorescence.hdr --fluorophores GFP Chl Diffraction --min_desired_wavelength 500 --max_desired_wavelength 900 --red_channel Chl --green_channel GFP --blue_channel Diffraction --red_cap 200 --green_cap 400 --blue_cap 50 --plot 1 --spectral_library_path /home/michael/gmodetector_py/spectral_library/ --output_dir /home/michael/data/gmodetector_out//GWAS_Transformation/GTK/wk7/\n",
      "python -W ignore wrappers/analyze_sample.py --file_path /media/michael/Elements_12//GWAS_Transformation/GTK/wk7//GTK6_I5.0_F1.9_L100LED30_121813_1_0_3_Fluorescence.hdr --fluorophores GFP Chl Diffraction --min_desired_wavelength 500 --max_desired_wavelength 900 --red_channel Chl --green_channel GFP --blue_channel Diffraction --red_cap 200 --green_cap 400 --blue_cap 50 --plot 1 --spectral_library_path /home/michael/gmodetector_py/spectral_library/ --output_dir /home/michael/data/gmodetector_out//GWAS_Transformation/GTK/wk7/\n",
      "python -W ignore wrappers/analyze_sample.py --file_path /media/michael/Elements_12//GWAS_Transformation/GTK/wk7//GTK6_I5.0_F1.9_L100LED30_121948_2_0_4_Fluorescence.hdr --fluorophores GFP Chl Diffraction --min_desired_wavelength 500 --max_desired_wavelength 900 --red_channel Chl --green_channel GFP --blue_channel Diffraction --red_cap 200 --green_cap 400 --blue_cap 50 --plot 1 --spectral_library_path /home/michael/gmodetector_py/spectral_library/ --output_dir /home/michael/data/gmodetector_out//GWAS_Transformation/GTK/wk7/\n",
      "python -W ignore wrappers/analyze_sample.py --file_path /media/michael/Elements_12//GWAS_Transformation/GTK/wk7//GTK6_I5.0_F1.9_L100LED30_122128_3_0_5_Fluorescence.hdr --fluorophores GFP Chl Diffraction --min_desired_wavelength 500 --max_desired_wavelength 900 --red_channel Chl --green_channel GFP --blue_channel Diffraction --red_cap 200 --green_cap 400 --blue_cap 50 --plot 1 --spectral_library_path /home/michael/gmodetector_py/spectral_library/ --output_dir /home/michael/data/gmodetector_out//GWAS_Transformation/GTK/wk7/\n",
      "python -W ignore wrappers/analyze_sample.py --file_path /media/michael/Elements_12//GWAS_Transformation/GTK/wk7//GTK6_I5.0_F1.9_L100LED30_122305_4_0_6_Fluorescence.hdr --fluorophores GFP Chl Diffraction --min_desired_wavelength 500 --max_desired_wavelength 900 --red_channel Chl --green_channel GFP --blue_channel Diffraction --red_cap 200 --green_cap 400 --blue_cap 50 --plot 1 --spectral_library_path /home/michael/gmodetector_py/spectral_library/ --output_dir /home/michael/data/gmodetector_out//GWAS_Transformation/GTK/wk7/\n",
      "python -W ignore wrappers/analyze_sample.py --file_path /media/michael/Elements_12//GWAS_Transformation/GTK/wk7//GTK6_I5.0_F1.9_L100LED30_122438_5_1_5_Fluorescence.hdr --fluorophores GFP Chl Diffraction --min_desired_wavelength 500 --max_desired_wavelength 900 --red_channel Chl --green_channel GFP --blue_channel Diffraction --red_cap 200 --green_cap 400 --blue_cap 50 --plot 1 --spectral_library_path /home/michael/gmodetector_py/spectral_library/ --output_dir /home/michael/data/gmodetector_out//GWAS_Transformation/GTK/wk7/\n",
      "python -W ignore wrappers/analyze_sample.py --file_path /media/michael/Elements_12//GWAS_Transformation/GTK/wk7//GTK6_I5.0_F1.9_L100LED30_122605_6_1_4_Fluorescence.hdr --fluorophores GFP Chl Diffraction --min_desired_wavelength 500 --max_desired_wavelength 900 --red_channel Chl --green_channel GFP --blue_channel Diffraction --red_cap 200 --green_cap 400 --blue_cap 50 --plot 1 --spectral_library_path /home/michael/gmodetector_py/spectral_library/ --output_dir /home/michael/data/gmodetector_out//GWAS_Transformation/GTK/wk7/\n",
      "python -W ignore wrappers/analyze_sample.py --file_path /media/michael/Elements_12//GWAS_Transformation/GTK/wk7//GTK6_I5.0_F1.9_L100LED30_122739_7_1_2_Fluorescence.hdr --fluorophores GFP Chl Diffraction --min_desired_wavelength 500 --max_desired_wavelength 900 --red_channel Chl --green_channel GFP --blue_channel Diffraction --red_cap 200 --green_cap 400 --blue_cap 50 --plot 1 --spectral_library_path /home/michael/gmodetector_py/spectral_library/ --output_dir /home/michael/data/gmodetector_out//GWAS_Transformation/GTK/wk7/\n",
      "python -W ignore wrappers/analyze_sample.py --file_path /media/michael/Elements_12//GWAS_Transformation/GTK/wk7//GTK6_I5.0_F1.9_L100LED30_122916_8_1_1_Fluorescence.hdr --fluorophores GFP Chl Diffraction --min_desired_wavelength 500 --max_desired_wavelength 900 --red_channel Chl --green_channel GFP --blue_channel Diffraction --red_cap 200 --green_cap 400 --blue_cap 50 --plot 1 --spectral_library_path /home/michael/gmodetector_py/spectral_library/ --output_dir /home/michael/data/gmodetector_out//GWAS_Transformation/GTK/wk7/\n",
      "python -W ignore wrappers/analyze_sample.py --file_path /media/michael/Elements_12//GWAS_Transformation/GTK/wk7//GTK6_I5.0_F1.9_L100LED30_123054_9_1_0_Fluorescence.hdr --fluorophores GFP Chl Diffraction --min_desired_wavelength 500 --max_desired_wavelength 900 --red_channel Chl --green_channel GFP --blue_channel Diffraction --red_cap 200 --green_cap 400 --blue_cap 50 --plot 1 --spectral_library_path /home/michael/gmodetector_py/spectral_library/ --output_dir /home/michael/data/gmodetector_out//GWAS_Transformation/GTK/wk7/\n",
      "python -W ignore wrappers/analyze_sample.py --file_path /media/michael/Elements_12//GWAS_Transformation/GTK/wk7//GTK6_I5.0_F1.9_L100LED30_123229_10_2_0_Fluorescence.hdr --fluorophores GFP Chl Diffraction --min_desired_wavelength 500 --max_desired_wavelength 900 --red_channel Chl --green_channel GFP --blue_channel Diffraction --red_cap 200 --green_cap 400 --blue_cap 50 --plot 1 --spectral_library_path /home/michael/gmodetector_py/spectral_library/ --output_dir /home/michael/data/gmodetector_out//GWAS_Transformation/GTK/wk7/\n",
      "python -W ignore wrappers/analyze_sample.py --file_path /media/michael/Elements_12//GWAS_Transformation/GTK/wk7//GTK6_I5.0_F1.9_L100LED30_123354_11_2_1_Fluorescence.hdr --fluorophores GFP Chl Diffraction --min_desired_wavelength 500 --max_desired_wavelength 900 --red_channel Chl --green_channel GFP --blue_channel Diffraction --red_cap 200 --green_cap 400 --blue_cap 50 --plot 1 --spectral_library_path /home/michael/gmodetector_py/spectral_library/ --output_dir /home/michael/data/gmodetector_out//GWAS_Transformation/GTK/wk7/\n",
      "python -W ignore wrappers/analyze_sample.py --file_path /media/michael/Elements_12//GWAS_Transformation/GTK/wk7//GTK6_I5.0_F1.9_L100LED30_123528_12_2_2_Fluorescence.hdr --fluorophores GFP Chl Diffraction --min_desired_wavelength 500 --max_desired_wavelength 900 --red_channel Chl --green_channel GFP --blue_channel Diffraction --red_cap 200 --green_cap 400 --blue_cap 50 --plot 1 --spectral_library_path /home/michael/gmodetector_py/spectral_library/ --output_dir /home/michael/data/gmodetector_out//GWAS_Transformation/GTK/wk7/\n",
      "python -W ignore wrappers/analyze_sample.py --file_path /media/michael/Elements_12//GWAS_Transformation/GTK/wk7//GTK6_I5.0_F1.9_L100LED30_123704_13_2_3_Fluorescence.hdr --fluorophores GFP Chl Diffraction --min_desired_wavelength 500 --max_desired_wavelength 900 --red_channel Chl --green_channel GFP --blue_channel Diffraction --red_cap 200 --green_cap 400 --blue_cap 50 --plot 1 --spectral_library_path /home/michael/gmodetector_py/spectral_library/ --output_dir /home/michael/data/gmodetector_out//GWAS_Transformation/GTK/wk7/\n",
      "python -W ignore wrappers/analyze_sample.py --file_path /media/michael/Elements_12//GWAS_Transformation/GTK/wk7//GTK6_I5.0_F1.9_L100LED30_123843_14_2_4_Fluorescence.hdr --fluorophores GFP Chl Diffraction --min_desired_wavelength 500 --max_desired_wavelength 900 --red_channel Chl --green_channel GFP --blue_channel Diffraction --red_cap 200 --green_cap 400 --blue_cap 50 --plot 1 --spectral_library_path /home/michael/gmodetector_py/spectral_library/ --output_dir /home/michael/data/gmodetector_out//GWAS_Transformation/GTK/wk7/\n",
      "python -W ignore wrappers/analyze_sample.py --file_path /media/michael/Elements_12//GWAS_Transformation/GTK/wk7//GTK6_I5.0_F1.9_L100LED30_124015_15_2_5_Fluorescence.hdr --fluorophores GFP Chl Diffraction --min_desired_wavelength 500 --max_desired_wavelength 900 --red_channel Chl --green_channel GFP --blue_channel Diffraction --red_cap 200 --green_cap 400 --blue_cap 50 --plot 1 --spectral_library_path /home/michael/gmodetector_py/spectral_library/ --output_dir /home/michael/data/gmodetector_out//GWAS_Transformation/GTK/wk7/\n",
      "python -W ignore wrappers/analyze_sample.py --file_path /media/michael/Elements_12//GWAS_Transformation/GTK/wk7//GTK6_I5.0_F1.9_L100LED30_124151_16_2_6_Fluorescence.hdr --fluorophores GFP Chl Diffraction --min_desired_wavelength 500 --max_desired_wavelength 900 --red_channel Chl --green_channel GFP --blue_channel Diffraction --red_cap 200 --green_cap 400 --blue_cap 50 --plot 1 --spectral_library_path /home/michael/gmodetector_py/spectral_library/ --output_dir /home/michael/data/gmodetector_out//GWAS_Transformation/GTK/wk7/\n",
      "python -W ignore wrappers/analyze_sample.py --file_path /media/michael/Elements_12//GWAS_Transformation/GTK/wk7//GTK6_I5.0_F1.9_L100LED30_124626_0_1_6_Fluorescence.hdr --fluorophores GFP Chl Diffraction --min_desired_wavelength 500 --max_desired_wavelength 900 --red_channel Chl --green_channel GFP --blue_channel Diffraction --red_cap 200 --green_cap 400 --blue_cap 50 --plot 1 --spectral_library_path /home/michael/gmodetector_py/spectral_library/ --output_dir /home/michael/data/gmodetector_out//GWAS_Transformation/GTK/wk7/\n",
      "python -W ignore wrappers/analyze_sample.py --file_path /media/michael/Elements_12//GWAS_Transformation/GTK/wk7//GTK7_I5.0_F1.9_L100LED30_125210_0_0_0_Fluorescence.hdr --fluorophores GFP Chl Diffraction --min_desired_wavelength 500 --max_desired_wavelength 900 --red_channel Chl --green_channel GFP --blue_channel Diffraction --red_cap 200 --green_cap 400 --blue_cap 50 --plot 1 --spectral_library_path /home/michael/gmodetector_py/spectral_library/ --output_dir /home/michael/data/gmodetector_out//GWAS_Transformation/GTK/wk7/\n",
      "python -W ignore wrappers/analyze_sample.py --file_path /media/michael/Elements_12//GWAS_Transformation/GTK/wk7//GTK7_I5.0_F1.9_L100LED30_125330_1_0_1_Fluorescence.hdr --fluorophores GFP Chl Diffraction --min_desired_wavelength 500 --max_desired_wavelength 900 --red_channel Chl --green_channel GFP --blue_channel Diffraction --red_cap 200 --green_cap 400 --blue_cap 50 --plot 1 --spectral_library_path /home/michael/gmodetector_py/spectral_library/ --output_dir /home/michael/data/gmodetector_out//GWAS_Transformation/GTK/wk7/\n",
      "python -W ignore wrappers/analyze_sample.py --file_path /media/michael/Elements_12//GWAS_Transformation/GTK/wk7//GTK7_I5.0_F1.9_L100LED30_125503_2_0_2_Fluorescence.hdr --fluorophores GFP Chl Diffraction --min_desired_wavelength 500 --max_desired_wavelength 900 --red_channel Chl --green_channel GFP --blue_channel Diffraction --red_cap 200 --green_cap 400 --blue_cap 50 --plot 1 --spectral_library_path /home/michael/gmodetector_py/spectral_library/ --output_dir /home/michael/data/gmodetector_out//GWAS_Transformation/GTK/wk7/\n",
      "python -W ignore wrappers/analyze_sample.py --file_path /media/michael/Elements_12//GWAS_Transformation/GTK/wk7//GTK7_I5.0_F1.9_L100LED30_125638_3_0_3_Fluorescence.hdr --fluorophores GFP Chl Diffraction --min_desired_wavelength 500 --max_desired_wavelength 900 --red_channel Chl --green_channel GFP --blue_channel Diffraction --red_cap 200 --green_cap 400 --blue_cap 50 --plot 1 --spectral_library_path /home/michael/gmodetector_py/spectral_library/ --output_dir /home/michael/data/gmodetector_out//GWAS_Transformation/GTK/wk7/\n",
      "python -W ignore wrappers/analyze_sample.py --file_path /media/michael/Elements_12//GWAS_Transformation/GTK/wk7//GTK7_I5.0_F1.9_L100LED30_125814_4_0_4_Fluorescence.hdr --fluorophores GFP Chl Diffraction --min_desired_wavelength 500 --max_desired_wavelength 900 --red_channel Chl --green_channel GFP --blue_channel Diffraction --red_cap 200 --green_cap 400 --blue_cap 50 --plot 1 --spectral_library_path /home/michael/gmodetector_py/spectral_library/ --output_dir /home/michael/data/gmodetector_out//GWAS_Transformation/GTK/wk7/\n",
      "python -W ignore wrappers/analyze_sample.py --file_path /media/michael/Elements_12//GWAS_Transformation/GTK/wk7//GTK7_I5.0_F1.9_L100LED30_125951_5_0_6_Fluorescence.hdr --fluorophores GFP Chl Diffraction --min_desired_wavelength 500 --max_desired_wavelength 900 --red_channel Chl --green_channel GFP --blue_channel Diffraction --red_cap 200 --green_cap 400 --blue_cap 50 --plot 1 --spectral_library_path /home/michael/gmodetector_py/spectral_library/ --output_dir /home/michael/data/gmodetector_out//GWAS_Transformation/GTK/wk7/\n",
      "python -W ignore wrappers/analyze_sample.py --file_path /media/michael/Elements_12//GWAS_Transformation/GTK/wk7//GTK7_I5.0_F1.9_L100LED30_130138_6_1_6_Fluorescence.hdr --fluorophores GFP Chl Diffraction --min_desired_wavelength 500 --max_desired_wavelength 900 --red_channel Chl --green_channel GFP --blue_channel Diffraction --red_cap 200 --green_cap 400 --blue_cap 50 --plot 1 --spectral_library_path /home/michael/gmodetector_py/spectral_library/ --output_dir /home/michael/data/gmodetector_out//GWAS_Transformation/GTK/wk7/\n",
      "python -W ignore wrappers/analyze_sample.py --file_path /media/michael/Elements_12//GWAS_Transformation/GTK/wk7//GTK7_I5.0_F1.9_L100LED30_130306_7_1_1_Fluorescence.hdr --fluorophores GFP Chl Diffraction --min_desired_wavelength 500 --max_desired_wavelength 900 --red_channel Chl --green_channel GFP --blue_channel Diffraction --red_cap 200 --green_cap 400 --blue_cap 50 --plot 1 --spectral_library_path /home/michael/gmodetector_py/spectral_library/ --output_dir /home/michael/data/gmodetector_out//GWAS_Transformation/GTK/wk7/\n",
      "python -W ignore wrappers/analyze_sample.py --file_path /media/michael/Elements_12//GWAS_Transformation/GTK/wk7//GTK7_I5.0_F1.9_L100LED30_130508_8_1_0_Fluorescence.hdr --fluorophores GFP Chl Diffraction --min_desired_wavelength 500 --max_desired_wavelength 900 --red_channel Chl --green_channel GFP --blue_channel Diffraction --red_cap 200 --green_cap 400 --blue_cap 50 --plot 1 --spectral_library_path /home/michael/gmodetector_py/spectral_library/ --output_dir /home/michael/data/gmodetector_out//GWAS_Transformation/GTK/wk7/\n",
      "python -W ignore wrappers/analyze_sample.py --file_path /media/michael/Elements_12//GWAS_Transformation/GTK/wk7//GTK7_I5.0_F1.9_L100LED30_130644_9_2_0_Fluorescence.hdr --fluorophores GFP Chl Diffraction --min_desired_wavelength 500 --max_desired_wavelength 900 --red_channel Chl --green_channel GFP --blue_channel Diffraction --red_cap 200 --green_cap 400 --blue_cap 50 --plot 1 --spectral_library_path /home/michael/gmodetector_py/spectral_library/ --output_dir /home/michael/data/gmodetector_out//GWAS_Transformation/GTK/wk7/\n",
      "python -W ignore wrappers/analyze_sample.py --file_path /media/michael/Elements_12//GWAS_Transformation/GTK/wk7//GTK7_I5.0_F1.9_L100LED30_130819_10_2_1_Fluorescence.hdr --fluorophores GFP Chl Diffraction --min_desired_wavelength 500 --max_desired_wavelength 900 --red_channel Chl --green_channel GFP --blue_channel Diffraction --red_cap 200 --green_cap 400 --blue_cap 50 --plot 1 --spectral_library_path /home/michael/gmodetector_py/spectral_library/ --output_dir /home/michael/data/gmodetector_out//GWAS_Transformation/GTK/wk7/\n",
      "python -W ignore wrappers/analyze_sample.py --file_path /media/michael/Elements_12//GWAS_Transformation/GTK/wk7//GTK7_I5.0_F1.9_L100LED30_130955_11_2_2_Fluorescence.hdr --fluorophores GFP Chl Diffraction --min_desired_wavelength 500 --max_desired_wavelength 900 --red_channel Chl --green_channel GFP --blue_channel Diffraction --red_cap 200 --green_cap 400 --blue_cap 50 --plot 1 --spectral_library_path /home/michael/gmodetector_py/spectral_library/ --output_dir /home/michael/data/gmodetector_out//GWAS_Transformation/GTK/wk7/\n",
      "python -W ignore wrappers/analyze_sample.py --file_path /media/michael/Elements_12//GWAS_Transformation/GTK/wk7//GTK7_I5.0_F1.9_L100LED30_131130_12_2_3_Fluorescence.hdr --fluorophores GFP Chl Diffraction --min_desired_wavelength 500 --max_desired_wavelength 900 --red_channel Chl --green_channel GFP --blue_channel Diffraction --red_cap 200 --green_cap 400 --blue_cap 50 --plot 1 --spectral_library_path /home/michael/gmodetector_py/spectral_library/ --output_dir /home/michael/data/gmodetector_out//GWAS_Transformation/GTK/wk7/\n",
      "python -W ignore wrappers/analyze_sample.py --file_path /media/michael/Elements_12//GWAS_Transformation/GTK/wk7//GTK7_I5.0_F1.9_L100LED30_131306_13_2_4_Fluorescence.hdr --fluorophores GFP Chl Diffraction --min_desired_wavelength 500 --max_desired_wavelength 900 --red_channel Chl --green_channel GFP --blue_channel Diffraction --red_cap 200 --green_cap 400 --blue_cap 50 --plot 1 --spectral_library_path /home/michael/gmodetector_py/spectral_library/ --output_dir /home/michael/data/gmodetector_out//GWAS_Transformation/GTK/wk7/\n",
      "python -W ignore wrappers/analyze_sample.py --file_path /media/michael/Elements_12//GWAS_Transformation/GTK/wk7//GTK7_I5.0_F1.9_L100LED30_131443_14_2_5_Fluorescence.hdr --fluorophores GFP Chl Diffraction --min_desired_wavelength 500 --max_desired_wavelength 900 --red_channel Chl --green_channel GFP --blue_channel Diffraction --red_cap 200 --green_cap 400 --blue_cap 50 --plot 1 --spectral_library_path /home/michael/gmodetector_py/spectral_library/ --output_dir /home/michael/data/gmodetector_out//GWAS_Transformation/GTK/wk7/\n",
      "python -W ignore wrappers/analyze_sample.py --file_path /media/michael/Elements_12//GWAS_Transformation/GTK/wk7//GTK7_I5.0_F1.9_L100LED30_131618_15_2_6_Fluorescence.hdr --fluorophores GFP Chl Diffraction --min_desired_wavelength 500 --max_desired_wavelength 900 --red_channel Chl --green_channel GFP --blue_channel Diffraction --red_cap 200 --green_cap 400 --blue_cap 50 --plot 1 --spectral_library_path /home/michael/gmodetector_py/spectral_library/ --output_dir /home/michael/data/gmodetector_out//GWAS_Transformation/GTK/wk7/\n",
      "python -W ignore wrappers/analyze_sample.py --file_path /media/michael/Elements_12//GWAS_Transformation/GTK/wk7//GTK8_I5.0_F1.9_L100LED30_135226_0_0_0_Fluorescence.hdr --fluorophores GFP Chl Diffraction --min_desired_wavelength 500 --max_desired_wavelength 900 --red_channel Chl --green_channel GFP --blue_channel Diffraction --red_cap 200 --green_cap 400 --blue_cap 50 --plot 1 --spectral_library_path /home/michael/gmodetector_py/spectral_library/ --output_dir /home/michael/data/gmodetector_out//GWAS_Transformation/GTK/wk7/\n",
      "python -W ignore wrappers/analyze_sample.py --file_path /media/michael/Elements_12//GWAS_Transformation/GTK/wk7//GTK8_I5.0_F1.9_L100LED30_135345_1_0_1_Fluorescence.hdr --fluorophores GFP Chl Diffraction --min_desired_wavelength 500 --max_desired_wavelength 900 --red_channel Chl --green_channel GFP --blue_channel Diffraction --red_cap 200 --green_cap 400 --blue_cap 50 --plot 1 --spectral_library_path /home/michael/gmodetector_py/spectral_library/ --output_dir /home/michael/data/gmodetector_out//GWAS_Transformation/GTK/wk7/\n",
      "python -W ignore wrappers/analyze_sample.py --file_path /media/michael/Elements_12//GWAS_Transformation/GTK/wk7//GTK8_I5.0_F1.9_L100LED30_135520_2_0_2_Fluorescence.hdr --fluorophores GFP Chl Diffraction --min_desired_wavelength 500 --max_desired_wavelength 900 --red_channel Chl --green_channel GFP --blue_channel Diffraction --red_cap 200 --green_cap 400 --blue_cap 50 --plot 1 --spectral_library_path /home/michael/gmodetector_py/spectral_library/ --output_dir /home/michael/data/gmodetector_out//GWAS_Transformation/GTK/wk7/\n",
      "python -W ignore wrappers/analyze_sample.py --file_path /media/michael/Elements_12//GWAS_Transformation/GTK/wk7//GTK8_I5.0_F1.9_L100LED30_135657_3_0_3_Fluorescence.hdr --fluorophores GFP Chl Diffraction --min_desired_wavelength 500 --max_desired_wavelength 900 --red_channel Chl --green_channel GFP --blue_channel Diffraction --red_cap 200 --green_cap 400 --blue_cap 50 --plot 1 --spectral_library_path /home/michael/gmodetector_py/spectral_library/ --output_dir /home/michael/data/gmodetector_out//GWAS_Transformation/GTK/wk7/\n",
      "python -W ignore wrappers/analyze_sample.py --file_path /media/michael/Elements_12//GWAS_Transformation/GTK/wk7//GTK8_I5.0_F1.9_L100LED30_135832_4_0_5_Fluorescence.hdr --fluorophores GFP Chl Diffraction --min_desired_wavelength 500 --max_desired_wavelength 900 --red_channel Chl --green_channel GFP --blue_channel Diffraction --red_cap 200 --green_cap 400 --blue_cap 50 --plot 1 --spectral_library_path /home/michael/gmodetector_py/spectral_library/ --output_dir /home/michael/data/gmodetector_out//GWAS_Transformation/GTK/wk7/\n",
      "python -W ignore wrappers/analyze_sample.py --file_path /media/michael/Elements_12//GWAS_Transformation/GTK/wk7//GTK8_I5.0_F1.9_L100LED30_140010_5_1_6_Fluorescence.hdr --fluorophores GFP Chl Diffraction --min_desired_wavelength 500 --max_desired_wavelength 900 --red_channel Chl --green_channel GFP --blue_channel Diffraction --red_cap 200 --green_cap 400 --blue_cap 50 --plot 1 --spectral_library_path /home/michael/gmodetector_py/spectral_library/ --output_dir /home/michael/data/gmodetector_out//GWAS_Transformation/GTK/wk7/\n",
      "python -W ignore wrappers/analyze_sample.py --file_path /media/michael/Elements_12//GWAS_Transformation/GTK/wk7//GTK8_I5.0_F1.9_L100LED30_140142_6_1_5_Fluorescence.hdr --fluorophores GFP Chl Diffraction --min_desired_wavelength 500 --max_desired_wavelength 900 --red_channel Chl --green_channel GFP --blue_channel Diffraction --red_cap 200 --green_cap 400 --blue_cap 50 --plot 1 --spectral_library_path /home/michael/gmodetector_py/spectral_library/ --output_dir /home/michael/data/gmodetector_out//GWAS_Transformation/GTK/wk7/\n",
      "python -W ignore wrappers/analyze_sample.py --file_path /media/michael/Elements_12//GWAS_Transformation/GTK/wk7//GTK8_I5.0_F1.9_L100LED30_140317_7_1_4_Fluorescence.hdr --fluorophores GFP Chl Diffraction --min_desired_wavelength 500 --max_desired_wavelength 900 --red_channel Chl --green_channel GFP --blue_channel Diffraction --red_cap 200 --green_cap 400 --blue_cap 50 --plot 1 --spectral_library_path /home/michael/gmodetector_py/spectral_library/ --output_dir /home/michael/data/gmodetector_out//GWAS_Transformation/GTK/wk7/\n",
      "python -W ignore wrappers/analyze_sample.py --file_path /media/michael/Elements_12//GWAS_Transformation/GTK/wk7//GTK8_I5.0_F1.9_L100LED30_140454_8_1_3_Fluorescence.hdr --fluorophores GFP Chl Diffraction --min_desired_wavelength 500 --max_desired_wavelength 900 --red_channel Chl --green_channel GFP --blue_channel Diffraction --red_cap 200 --green_cap 400 --blue_cap 50 --plot 1 --spectral_library_path /home/michael/gmodetector_py/spectral_library/ --output_dir /home/michael/data/gmodetector_out//GWAS_Transformation/GTK/wk7/\n",
      "python -W ignore wrappers/analyze_sample.py --file_path /media/michael/Elements_12//GWAS_Transformation/GTK/wk7//GTK8_I5.0_F1.9_L100LED30_140629_9_1_2_Fluorescence.hdr --fluorophores GFP Chl Diffraction --min_desired_wavelength 500 --max_desired_wavelength 900 --red_channel Chl --green_channel GFP --blue_channel Diffraction --red_cap 200 --green_cap 400 --blue_cap 50 --plot 1 --spectral_library_path /home/michael/gmodetector_py/spectral_library/ --output_dir /home/michael/data/gmodetector_out//GWAS_Transformation/GTK/wk7/\n",
      "python -W ignore wrappers/analyze_sample.py --file_path /media/michael/Elements_12//GWAS_Transformation/GTK/wk7//GTK8_I5.0_F1.9_L100LED30_140804_10_1_1_Fluorescence.hdr --fluorophores GFP Chl Diffraction --min_desired_wavelength 500 --max_desired_wavelength 900 --red_channel Chl --green_channel GFP --blue_channel Diffraction --red_cap 200 --green_cap 400 --blue_cap 50 --plot 1 --spectral_library_path /home/michael/gmodetector_py/spectral_library/ --output_dir /home/michael/data/gmodetector_out//GWAS_Transformation/GTK/wk7/\n",
      "python -W ignore wrappers/analyze_sample.py --file_path /media/michael/Elements_12//GWAS_Transformation/GTK/wk7//GTK8_I5.0_F1.9_L100LED30_140940_11_1_0_Fluorescence.hdr --fluorophores GFP Chl Diffraction --min_desired_wavelength 500 --max_desired_wavelength 900 --red_channel Chl --green_channel GFP --blue_channel Diffraction --red_cap 200 --green_cap 400 --blue_cap 50 --plot 1 --spectral_library_path /home/michael/gmodetector_py/spectral_library/ --output_dir /home/michael/data/gmodetector_out//GWAS_Transformation/GTK/wk7/\n",
      "python -W ignore wrappers/analyze_sample.py --file_path /media/michael/Elements_12//GWAS_Transformation/GTK/wk7//GTK8_I5.0_F1.9_L100LED30_141115_12_2_0_Fluorescence.hdr --fluorophores GFP Chl Diffraction --min_desired_wavelength 500 --max_desired_wavelength 900 --red_channel Chl --green_channel GFP --blue_channel Diffraction --red_cap 200 --green_cap 400 --blue_cap 50 --plot 1 --spectral_library_path /home/michael/gmodetector_py/spectral_library/ --output_dir /home/michael/data/gmodetector_out//GWAS_Transformation/GTK/wk7/\n",
      "python -W ignore wrappers/analyze_sample.py --file_path /media/michael/Elements_12//GWAS_Transformation/GTK/wk7//GTK8_I5.0_F1.9_L100LED30_141241_13_2_1_Fluorescence.hdr --fluorophores GFP Chl Diffraction --min_desired_wavelength 500 --max_desired_wavelength 900 --red_channel Chl --green_channel GFP --blue_channel Diffraction --red_cap 200 --green_cap 400 --blue_cap 50 --plot 1 --spectral_library_path /home/michael/gmodetector_py/spectral_library/ --output_dir /home/michael/data/gmodetector_out//GWAS_Transformation/GTK/wk7/\n",
      "python -W ignore wrappers/analyze_sample.py --file_path /media/michael/Elements_12//GWAS_Transformation/GTK/wk7//GTK8_I5.0_F1.9_L100LED30_141419_14_2_2_Fluorescence.hdr --fluorophores GFP Chl Diffraction --min_desired_wavelength 500 --max_desired_wavelength 900 --red_channel Chl --green_channel GFP --blue_channel Diffraction --red_cap 200 --green_cap 400 --blue_cap 50 --plot 1 --spectral_library_path /home/michael/gmodetector_py/spectral_library/ --output_dir /home/michael/data/gmodetector_out//GWAS_Transformation/GTK/wk7/\n",
      "python -W ignore wrappers/analyze_sample.py --file_path /media/michael/Elements_12//GWAS_Transformation/GTK/wk7//GTK8_I5.0_F1.9_L100LED30_141554_15_2_3_Fluorescence.hdr --fluorophores GFP Chl Diffraction --min_desired_wavelength 500 --max_desired_wavelength 900 --red_channel Chl --green_channel GFP --blue_channel Diffraction --red_cap 200 --green_cap 400 --blue_cap 50 --plot 1 --spectral_library_path /home/michael/gmodetector_py/spectral_library/ --output_dir /home/michael/data/gmodetector_out//GWAS_Transformation/GTK/wk7/\n",
      "python -W ignore wrappers/analyze_sample.py --file_path /media/michael/Elements_12//GWAS_Transformation/GTK/wk7//GTK8_I5.0_F1.9_L100LED30_141910_17_2_5_Fluorescence.hdr --fluorophores GFP Chl Diffraction --min_desired_wavelength 500 --max_desired_wavelength 900 --red_channel Chl --green_channel GFP --blue_channel Diffraction --red_cap 200 --green_cap 400 --blue_cap 50 --plot 1 --spectral_library_path /home/michael/gmodetector_py/spectral_library/ --output_dir /home/michael/data/gmodetector_out//GWAS_Transformation/GTK/wk7/\n",
      "python -W ignore wrappers/analyze_sample.py --file_path /media/michael/Elements_12//GWAS_Transformation/GTK/wk7//GTK8_I5.0_F1.9_L100LED30_142248_0_2_4_Fluorescence.hdr --fluorophores GFP Chl Diffraction --min_desired_wavelength 500 --max_desired_wavelength 900 --red_channel Chl --green_channel GFP --blue_channel Diffraction --red_cap 200 --green_cap 400 --blue_cap 50 --plot 1 --spectral_library_path /home/michael/gmodetector_py/spectral_library/ --output_dir /home/michael/data/gmodetector_out//GWAS_Transformation/GTK/wk7/\n",
      "python -W ignore wrappers/analyze_sample.py --file_path /media/michael/Elements_12//GWAS_Transformation/GTK/wk7//GTK9_I5.0_F1.9_L100LED30_142644_0_0_3_Fluorescence.hdr --fluorophores GFP Chl Diffraction --min_desired_wavelength 500 --max_desired_wavelength 900 --red_channel Chl --green_channel GFP --blue_channel Diffraction --red_cap 200 --green_cap 400 --blue_cap 50 --plot 1 --spectral_library_path /home/michael/gmodetector_py/spectral_library/ --output_dir /home/michael/data/gmodetector_out//GWAS_Transformation/GTK/wk7/\n",
      "python -W ignore wrappers/analyze_sample.py --file_path /media/michael/Elements_12//GWAS_Transformation/GTK/wk7//GTK9_I5.0_F1.9_L100LED30_142832_1_0_4_Fluorescence.hdr --fluorophores GFP Chl Diffraction --min_desired_wavelength 500 --max_desired_wavelength 900 --red_channel Chl --green_channel GFP --blue_channel Diffraction --red_cap 200 --green_cap 400 --blue_cap 50 --plot 1 --spectral_library_path /home/michael/gmodetector_py/spectral_library/ --output_dir /home/michael/data/gmodetector_out//GWAS_Transformation/GTK/wk7/\n",
      "python -W ignore wrappers/analyze_sample.py --file_path /media/michael/Elements_12//GWAS_Transformation/GTK/wk7//GTK9_I5.0_F1.9_L100LED30_143006_2_0_5_Fluorescence.hdr --fluorophores GFP Chl Diffraction --min_desired_wavelength 500 --max_desired_wavelength 900 --red_channel Chl --green_channel GFP --blue_channel Diffraction --red_cap 200 --green_cap 400 --blue_cap 50 --plot 1 --spectral_library_path /home/michael/gmodetector_py/spectral_library/ --output_dir /home/michael/data/gmodetector_out//GWAS_Transformation/GTK/wk7/\n",
      "python -W ignore wrappers/analyze_sample.py --file_path /media/michael/Elements_12//GWAS_Transformation/GTK/wk7//GTK9_I5.0_F1.9_L100LED30_143139_3_0_6_Fluorescence.hdr --fluorophores GFP Chl Diffraction --min_desired_wavelength 500 --max_desired_wavelength 900 --red_channel Chl --green_channel GFP --blue_channel Diffraction --red_cap 200 --green_cap 400 --blue_cap 50 --plot 1 --spectral_library_path /home/michael/gmodetector_py/spectral_library/ --output_dir /home/michael/data/gmodetector_out//GWAS_Transformation/GTK/wk7/\n",
      "python -W ignore wrappers/analyze_sample.py --file_path /media/michael/Elements_12//GWAS_Transformation/GTK/wk7//GTK9_I5.0_F1.9_L100LED30_143314_4_1_6_Fluorescence.hdr --fluorophores GFP Chl Diffraction --min_desired_wavelength 500 --max_desired_wavelength 900 --red_channel Chl --green_channel GFP --blue_channel Diffraction --red_cap 200 --green_cap 400 --blue_cap 50 --plot 1 --spectral_library_path /home/michael/gmodetector_py/spectral_library/ --output_dir /home/michael/data/gmodetector_out//GWAS_Transformation/GTK/wk7/\n",
      "python -W ignore wrappers/analyze_sample.py --file_path /media/michael/Elements_12//GWAS_Transformation/GTK/wk7//GTK9_I5.0_F1.9_L100LED30_143438_5_1_5_Fluorescence.hdr --fluorophores GFP Chl Diffraction --min_desired_wavelength 500 --max_desired_wavelength 900 --red_channel Chl --green_channel GFP --blue_channel Diffraction --red_cap 200 --green_cap 400 --blue_cap 50 --plot 1 --spectral_library_path /home/michael/gmodetector_py/spectral_library/ --output_dir /home/michael/data/gmodetector_out//GWAS_Transformation/GTK/wk7/\n",
      "python -W ignore wrappers/analyze_sample.py --file_path /media/michael/Elements_12//GWAS_Transformation/GTK/wk7//GTK9_I5.0_F1.9_L100LED30_143619_6_1_4_Fluorescence.hdr --fluorophores GFP Chl Diffraction --min_desired_wavelength 500 --max_desired_wavelength 900 --red_channel Chl --green_channel GFP --blue_channel Diffraction --red_cap 200 --green_cap 400 --blue_cap 50 --plot 1 --spectral_library_path /home/michael/gmodetector_py/spectral_library/ --output_dir /home/michael/data/gmodetector_out//GWAS_Transformation/GTK/wk7/\n",
      "python -W ignore wrappers/analyze_sample.py --file_path /media/michael/Elements_12//GWAS_Transformation/GTK/wk7//GTK9_I5.0_F1.9_L100LED30_143756_7_1_3_Fluorescence.hdr --fluorophores GFP Chl Diffraction --min_desired_wavelength 500 --max_desired_wavelength 900 --red_channel Chl --green_channel GFP --blue_channel Diffraction --red_cap 200 --green_cap 400 --blue_cap 50 --plot 1 --spectral_library_path /home/michael/gmodetector_py/spectral_library/ --output_dir /home/michael/data/gmodetector_out//GWAS_Transformation/GTK/wk7/\n",
      "python -W ignore wrappers/analyze_sample.py --file_path /media/michael/Elements_12//GWAS_Transformation/GTK/wk7//GTK9_I5.0_F1.9_L100LED30_143931_8_1_2_Fluorescence.hdr --fluorophores GFP Chl Diffraction --min_desired_wavelength 500 --max_desired_wavelength 900 --red_channel Chl --green_channel GFP --blue_channel Diffraction --red_cap 200 --green_cap 400 --blue_cap 50 --plot 1 --spectral_library_path /home/michael/gmodetector_py/spectral_library/ --output_dir /home/michael/data/gmodetector_out//GWAS_Transformation/GTK/wk7/\n",
      "python -W ignore wrappers/analyze_sample.py --file_path /media/michael/Elements_12//GWAS_Transformation/GTK/wk7//GTK9_I5.0_F1.9_L100LED30_144108_9_1_1_Fluorescence.hdr --fluorophores GFP Chl Diffraction --min_desired_wavelength 500 --max_desired_wavelength 900 --red_channel Chl --green_channel GFP --blue_channel Diffraction --red_cap 200 --green_cap 400 --blue_cap 50 --plot 1 --spectral_library_path /home/michael/gmodetector_py/spectral_library/ --output_dir /home/michael/data/gmodetector_out//GWAS_Transformation/GTK/wk7/\n",
      "python -W ignore wrappers/analyze_sample.py --file_path /media/michael/Elements_12//GWAS_Transformation/GTK/wk7//GTK9_I5.0_F1.9_L100LED30_144244_10_1_0_Fluorescence.hdr --fluorophores GFP Chl Diffraction --min_desired_wavelength 500 --max_desired_wavelength 900 --red_channel Chl --green_channel GFP --blue_channel Diffraction --red_cap 200 --green_cap 400 --blue_cap 50 --plot 1 --spectral_library_path /home/michael/gmodetector_py/spectral_library/ --output_dir /home/michael/data/gmodetector_out//GWAS_Transformation/GTK/wk7/\n",
      "python -W ignore wrappers/analyze_sample.py --file_path /media/michael/Elements_12//GWAS_Transformation/GTK/wk7//GTK9_I5.0_F1.9_L100LED30_144422_11_2_0_Fluorescence.hdr --fluorophores GFP Chl Diffraction --min_desired_wavelength 500 --max_desired_wavelength 900 --red_channel Chl --green_channel GFP --blue_channel Diffraction --red_cap 200 --green_cap 400 --blue_cap 50 --plot 1 --spectral_library_path /home/michael/gmodetector_py/spectral_library/ --output_dir /home/michael/data/gmodetector_out//GWAS_Transformation/GTK/wk7/\n",
      "python -W ignore wrappers/analyze_sample.py --file_path /media/michael/Elements_12//GWAS_Transformation/GTK/wk7//GTK9_I5.0_F1.9_L100LED30_144548_12_2_1_Fluorescence.hdr --fluorophores GFP Chl Diffraction --min_desired_wavelength 500 --max_desired_wavelength 900 --red_channel Chl --green_channel GFP --blue_channel Diffraction --red_cap 200 --green_cap 400 --blue_cap 50 --plot 1 --spectral_library_path /home/michael/gmodetector_py/spectral_library/ --output_dir /home/michael/data/gmodetector_out//GWAS_Transformation/GTK/wk7/\n",
      "python -W ignore wrappers/analyze_sample.py --file_path /media/michael/Elements_12//GWAS_Transformation/GTK/wk7//GTK9_I5.0_F1.9_L100LED30_144730_13_2_2_Fluorescence.hdr --fluorophores GFP Chl Diffraction --min_desired_wavelength 500 --max_desired_wavelength 900 --red_channel Chl --green_channel GFP --blue_channel Diffraction --red_cap 200 --green_cap 400 --blue_cap 50 --plot 1 --spectral_library_path /home/michael/gmodetector_py/spectral_library/ --output_dir /home/michael/data/gmodetector_out//GWAS_Transformation/GTK/wk7/\n",
      "python -W ignore wrappers/analyze_sample.py --file_path /media/michael/Elements_12//GWAS_Transformation/GTK/wk7//GTK9_I5.0_F1.9_L100LED30_144909_14_2_4_Fluorescence.hdr --fluorophores GFP Chl Diffraction --min_desired_wavelength 500 --max_desired_wavelength 900 --red_channel Chl --green_channel GFP --blue_channel Diffraction --red_cap 200 --green_cap 400 --blue_cap 50 --plot 1 --spectral_library_path /home/michael/gmodetector_py/spectral_library/ --output_dir /home/michael/data/gmodetector_out//GWAS_Transformation/GTK/wk7/\n",
      "python -W ignore wrappers/analyze_sample.py --file_path /media/michael/Elements_12//GWAS_Transformation/GTK/wk7//GTK9_I5.0_F1.9_L100LED30_145046_15_2_5_Fluorescence.hdr --fluorophores GFP Chl Diffraction --min_desired_wavelength 500 --max_desired_wavelength 900 --red_channel Chl --green_channel GFP --blue_channel Diffraction --red_cap 200 --green_cap 400 --blue_cap 50 --plot 1 --spectral_library_path /home/michael/gmodetector_py/spectral_library/ --output_dir /home/michael/data/gmodetector_out//GWAS_Transformation/GTK/wk7/\n",
      "python -W ignore wrappers/analyze_sample.py --file_path /media/michael/Elements_12//GWAS_Transformation/GTK/wk7//GTK9_I5.0_F1.9_L100LED30_145223_16_2_6_Fluorescence.hdr --fluorophores GFP Chl Diffraction --min_desired_wavelength 500 --max_desired_wavelength 900 --red_channel Chl --green_channel GFP --blue_channel Diffraction --red_cap 200 --green_cap 400 --blue_cap 50 --plot 1 --spectral_library_path /home/michael/gmodetector_py/spectral_library/ --output_dir /home/michael/data/gmodetector_out//GWAS_Transformation/GTK/wk7/\n",
      "\u001b[?2004h"
     ]
    },
    {
     "ename": "",
     "evalue": "1",
     "output_type": "error",
     "traceback": []
    }
   ],
   "source": [
    "cat $job_list_name"
   ]
  },
  {
   "cell_type": "code",
   "execution_count": null,
   "metadata": {
    "scrolled": true
   },
   "outputs": [
    {
     "name": "stdout",
     "output_type": "stream",
     "text": [
      "Running GMOdetector version 0.0.855\u001b[?2004l\u001b[?2004l\u001b[?2004l\u001b[?2004l\u001b[?2004l\u001b[?2004l\u001b[?2004l\u001b[?2004l\u001b[?2004l\n",
      "load mode isload_full_then_crop\n"
     ]
    }
   ],
   "source": [
    "conda activate test-environment\n",
    "\n",
    "if [ $parallel -eq 1 ]\n",
    "then\n",
    "    parallel -a $job_list_name\n",
    "fi\n",
    "\n",
    "if [ $parallel -eq 0 ]\n",
    "then\n",
    "    bash $job_list_name\n",
    "fi\n",
    "\n",
    "conda deactivate\n",
    "conda deactivate"
   ]
  },
  {
   "cell_type": "markdown",
   "metadata": {},
   "source": [
    "Time regression completes:"
   ]
  },
  {
   "cell_type": "code",
   "execution_count": null,
   "metadata": {},
   "outputs": [],
   "source": [
    "echo $(date)"
   ]
  },
  {
   "cell_type": "markdown",
   "metadata": {},
   "source": [
    "## Neural networks to segment tissues, classify missing/contaminated explants"
   ]
  },
  {
   "cell_type": "markdown",
   "metadata": {},
   "source": [
    "### Semantic segmentation of tissues"
   ]
  },
  {
   "cell_type": "markdown",
   "metadata": {},
   "source": [
    "Images are segmented into specific plant tissues by a deep neural network of the state-of-the-art Deeplab v3 architecture <a href=\"https://arxiv.org/abs/1706.05587\" target=\"_blank\">Liang-Chieh et al., 2017</a>. The model has been trained using training sets generated with our annotation GUI Intelligent DEep Annotator for Segmentation (IDEAS, available on <a href=\"https://bitbucket.org/JialinYuan/image-annotator/src/master/\" target=\"_blank\">Bitbucket</a>, publication pending). Our branch of the Deeplab v3 repo, including a Jupyter walkthrough for training, can be found on Github."
   ]
  },
  {
   "cell_type": "markdown",
   "metadata": {},
   "source": [
    "Training is completed upstream of this notebook, which only entails analysis of test data using the latest model."
   ]
  },
  {
   "cell_type": "markdown",
   "metadata": {},
   "source": [
    "<img src=\"Figures/downsized/segmentation_composite2.png\">"
   ]
  },
  {
   "cell_type": "markdown",
   "metadata": {},
   "source": [
    "Figure: This example image was taken from an experiment on the effects of different CIMs on cottonwood regeneration. This composite image illustrates that for every sample, tissues are segmented into stem (red), callus (blue) and shoot (green). These composite images, useful for manual inspection of results, are produced when the 'composite' option is on."
   ]
  },
  {
   "cell_type": "markdown",
   "metadata": {},
   "source": [
    "#### Pre-processing"
   ]
  },
  {
   "cell_type": "markdown",
   "metadata": {},
   "source": [
    "##### Normalize orientation"
   ]
  },
  {
   "cell_type": "markdown",
   "metadata": {},
   "source": [
    "We desire for images to all be in the same orientation. At one point, the camera on the *macroPhor Array* was set to automatically detect orientation, which led to images randomly being in portrait or landscape. Here we will standardize the orientation."
   ]
  },
  {
   "cell_type": "code",
   "execution_count": 33,
   "metadata": {},
   "outputs": [
    {
     "name": "stdout",
     "output_type": "stream",
     "text": [
      "\u001b[?2004h(jupyter) ) \u001b[?2004l\u001b[?2004l\u001b[?2004l\u001b[?2004l\u001b[?2004l"
     ]
    },
    {
     "ename": "",
     "evalue": "1",
     "output_type": "error",
     "traceback": []
    }
   ],
   "source": [
    "conda activate alignment\n",
    "for filename in $data/*.jpg; do\n",
    "    exiftool -Orientation=8 -n $filename > ${data}log_exiftool.txt\n",
    "    done\n",
    "conda deactivate\n",
    "conda deactivate"
   ]
  },
  {
   "cell_type": "code",
   "execution_count": null,
   "metadata": {},
   "outputs": [],
   "source": [
    "rm -f $data/*original*"
   ]
  },
  {
   "cell_type": "markdown",
   "metadata": {},
   "source": [
    "##### Crop and resize"
   ]
  },
  {
   "cell_type": "markdown",
   "metadata": {},
   "source": [
    "This script resizes images to 900x900 and then crops away top and bottom 150 pixels for a final image size of 900x600."
   ]
  },
  {
   "cell_type": "markdown",
   "metadata": {},
   "source": [
    "The purpose for cropping is to remove labels, which has been standard practice for all training and testing. Otherwise, we could run into problems such as the neural network \"learning\" plants labeled as control have more or less regeneration.<br>The purpose for resizing is to reduce computational expense."
   ]
  },
  {
   "cell_type": "code",
   "execution_count": 35,
   "metadata": {},
   "outputs": [
    {
     "name": "stdout",
     "output_type": "stream",
     "text": [
      "\u001b[?2004h"
     ]
    },
    {
     "ename": "",
     "evalue": "1",
     "output_type": "error",
     "traceback": []
    }
   ],
   "source": [
    "cd ${cwd}/intermediates/"
   ]
  },
  {
   "cell_type": "code",
   "execution_count": 36,
   "metadata": {},
   "outputs": [
    {
     "name": "stdout",
     "output_type": "stream",
     "text": [
      "\u001b[?2004h(base) \u001b[?2004l\u001b[?2004l"
     ]
    },
    {
     "ename": "",
     "evalue": "1",
     "output_type": "error",
     "traceback": []
    }
   ],
   "source": [
    "conda activate base\n",
    "python crop.py $data\n",
    "conda deactivate"
   ]
  },
  {
   "cell_type": "markdown",
   "metadata": {},
   "source": [
    "##### Prepare input list"
   ]
  },
  {
   "cell_type": "markdown",
   "metadata": {},
   "source": [
    "The script `inference.py` requires a list of all files to be analyzed. We will create this file as `test.csv`. This will be a list of all our (pre-processed) image files."
   ]
  },
  {
   "cell_type": "code",
   "execution_count": 37,
   "metadata": {},
   "outputs": [
    {
     "name": "stdout",
     "output_type": "stream",
     "text": [
      "\u001b[?2004h\u001b[?2004l"
     ]
    },
    {
     "ename": "",
     "evalue": "1",
     "output_type": "error",
     "traceback": []
    }
   ],
   "source": [
    "cd $data\n",
    "ls -d $PWD/* $data | grep -i \"rgb_cropped.jpg\" > test.csv"
   ]
  },
  {
   "cell_type": "markdown",
   "metadata": {},
   "source": [
    "Remove the chroma standard from list of RGB image data to be segmented"
   ]
  },
  {
   "cell_type": "code",
   "execution_count": 38,
   "metadata": {},
   "outputs": [
    {
     "name": "stdout",
     "output_type": "stream",
     "text": [
      "\u001b[?2004h"
     ]
    },
    {
     "ename": "",
     "evalue": "1",
     "output_type": "error",
     "traceback": []
    }
   ],
   "source": [
    "sed -i '/hroma/d' \"${data}/test.csv\""
   ]
  },
  {
   "cell_type": "markdown",
   "metadata": {},
   "source": [
    "#### Inference"
   ]
  },
  {
   "cell_type": "markdown",
   "metadata": {},
   "source": [
    "The trained model is deployed to perform semantic segmentation of experimental images. A list of RGB images to be segmented by the trained model is passed through the --image-list option. For each of these images, we will obtain an output mask (.png) of labeled tissues"
   ]
  },
  {
   "cell_type": "markdown",
   "metadata": {},
   "source": [
    "Dependencies include `opencv`, `scipy`, `yaml` and `tensorflow` (version 1.14)"
   ]
  },
  {
   "cell_type": "code",
   "execution_count": 54,
   "metadata": {},
   "outputs": [
    {
     "name": "stdout",
     "output_type": "stream",
     "text": [
      "head: error reading '/home/michael/poplar_model_2_w_contam/': Is a directory\n",
      "\u001b[?2004h"
     ]
    },
    {
     "ename": "",
     "evalue": "1",
     "output_type": "error",
     "traceback": []
    }
   ],
   "source": [
    "head $deeplab_path"
   ]
  },
  {
   "cell_type": "code",
   "execution_count": 53,
   "metadata": {
    "scrolled": true
   },
   "outputs": [
    {
     "name": "stdout",
     "output_type": "stream",
     "text": [
      "WARNING:tensorflow:From deeplab/inference.py:144: The name tf.app.run is deprecated. Please use tf.compat.v1.app.run instead.\n",
      "\n",
      "WARNING:tensorflow:From deeplab/inference.py:53: The name tf.gfile.GFile is deprecated. Please use tf.io.gfile.GFile instead.\n",
      "\n",
      "W1121 17:43:09.012676 140665158399808 deprecation_wrapper.py:119] From deeplab/inference.py:53: The name tf.gfile.GFile is deprecated. Please use tf.io.gfile.GFile instead.\n",
      "\n",
      "WARNING:tensorflow:From deeplab/inference.py:54: The name tf.GraphDef is deprecated. Please use tf.compat.v1.GraphDef instead.\n",
      "\n",
      "W1121 17:43:09.012999 140665158399808 deprecation_wrapper.py:119] From deeplab/inference.py:54: The name tf.GraphDef is deprecated. Please use tf.compat.v1.GraphDef instead.\n",
      "\n",
      "WARNING:tensorflow:From deeplab/inference.py:63: The name tf.Session is deprecated. Please use tf.compat.v1.Session instead.\n",
      "\n",
      "W1121 17:43:10.227423 140665158399808 deprecation_wrapper.py:119] From deeplab/inference.py:63: The name tf.Session is deprecated. Please use tf.compat.v1.Session instead.\n",
      "\n",
      "2021-11-21 17:43:10.228161: I tensorflow/core/platform/cpu_feature_guard.cc:142] Your CPU supports instructions that this TensorFlow binary was not compiled to use: SSE4.1 SSE4.2 AVX AVX2 FMA\n",
      "2021-11-21 17:43:10.263412: I tensorflow/core/platform/profile_utils/cpu_utils.cc:94] CPU Frequency: 3392130000 Hz\n",
      "2021-11-21 17:43:10.263781: I tensorflow/compiler/xla/service/service.cc:168] XLA service 0x5598f951d0d0 executing computations on platform Host. Devices:\n",
      "2021-11-21 17:43:10.263804: I tensorflow/compiler/xla/service/service.cc:175]   StreamExecutor device (0): <undefined>, <undefined>\n",
      "Running inference for  252  images.\n",
      "Running deeplab on image: 1\n",
      "2021-11-21 17:43:14.816753: W tensorflow/compiler/jit/mark_for_compilation_pass.cc:1412] (One-time warning): Not using XLA:CPU for cluster because envvar TF_XLA_FLAGS=--tf_xla_cpu_global_jit was not set.  If you want XLA:CPU, either set that envvar, or use experimental_jit_scope to enable XLA:CPU.  To confirm that XLA is active, pass --vmodule=xla_compilation_cache=1 (as a proper command-line flag, not via TF_XLA_FLAGS) or set the envvar XLA_FLAGS=--xla_hlo_profile.\n",
      "WARNING:tensorflow:From /home/michael/poplar_model_2_w_contam/deeplab/utils/save_annotation.py:82: The name tf.gfile.Open is deprecated. Please use tf.io.gfile.GFile instead.\n",
      "\n",
      "W1121 17:43:22.954305 140665158399808 deprecation_wrapper.py:119] From /home/michael/poplar_model_2_w_contam/deeplab/utils/save_annotation.py:82: The name tf.gfile.Open is deprecated. Please use tf.io.gfile.GFile instead.\n",
      "\n",
      "Running deeplab on image: 2\n",
      "Running deeplab on image: 3\n",
      "Running deeplab on image: 4\n",
      "Running deeplab on image: 5\n",
      "Running deeplab on image: 6\n",
      "Running deeplab on image: 7\n",
      "Running deeplab on image: 8\n",
      "Running deeplab on image: 9\n",
      "Running deeplab on image: 10\n",
      "Running deeplab on image: 11\n",
      "Running deeplab on image: 12\n",
      "Running deeplab on image: 13\n",
      "Running deeplab on image: 14\n",
      "Running deeplab on image: 15\n",
      "Running deeplab on image: 16\n",
      "Running deeplab on image: 17\n",
      "Running deeplab on image: 18\n",
      "Running deeplab on image: 19\n",
      "Running deeplab on image: 20\n",
      "Running deeplab on image: 21\n",
      "Running deeplab on image: 22\n",
      "Running deeplab on image: 23\n",
      "Running deeplab on image: 24\n",
      "Running deeplab on image: 25\n",
      "Running deeplab on image: 26\n",
      "Running deeplab on image: 27\n",
      "Running deeplab on image: 28\n",
      "Running deeplab on image: 29\n",
      "Running deeplab on image: 30\n",
      "Running deeplab on image: 31\n",
      "Running deeplab on image: 32\n",
      "Running deeplab on image: 33\n",
      "Running deeplab on image: 34\n",
      "Running deeplab on image: 35\n",
      "Running deeplab on image: 36\n",
      "Running deeplab on image: 37\n",
      "Running deeplab on image: 38\n",
      "Running deeplab on image: 39\n",
      "Running deeplab on image: 40\n",
      "Running deeplab on image: 41\n",
      "Running deeplab on image: 42\n",
      "Running deeplab on image: 43\n",
      "Running deeplab on image: 44\n",
      "Running deeplab on image: 45\n",
      "Running deeplab on image: 46\n",
      "Running deeplab on image: 47\n",
      "Running deeplab on image: 48\n",
      "Running deeplab on image: 49\n",
      "Running deeplab on image: 50\n",
      "Running deeplab on image: 51\n",
      "Running deeplab on image: 52\n",
      "Running deeplab on image: 53\n",
      "Running deeplab on image: 54\n",
      "Running deeplab on image: 55\n",
      "Running deeplab on image: 56\n",
      "Running deeplab on image: 57\n",
      "Running deeplab on image: 58\n",
      "Running deeplab on image: 59\n",
      "Running deeplab on image: 60\n",
      "Running deeplab on image: 61\n",
      "Running deeplab on image: 62\n",
      "Running deeplab on image: 63\n",
      "Running deeplab on image: 64\n",
      "Running deeplab on image: 65\n",
      "Running deeplab on image: 66\n",
      "Running deeplab on image: 67\n",
      "Running deeplab on image: 68\n",
      "Running deeplab on image: 69\n",
      "Running deeplab on image: 70\n",
      "Running deeplab on image: 71\n",
      "Running deeplab on image: 72\n",
      "Running deeplab on image: 73\n",
      "Running deeplab on image: 74\n",
      "Running deeplab on image: 75\n",
      "Running deeplab on image: 76\n",
      "Running deeplab on image: 77\n",
      "Running deeplab on image: 78\n",
      "Running deeplab on image: 79\n",
      "Running deeplab on image: 80\n",
      "Running deeplab on image: 81\n",
      "Running deeplab on image: 82\n",
      "Running deeplab on image: 83\n",
      "Running deeplab on image: 84\n",
      "Running deeplab on image: 85\n",
      "Running deeplab on image: 86\n",
      "Running deeplab on image: 87\n",
      "Running deeplab on image: 88\n",
      "Running deeplab on image: 89\n",
      "Running deeplab on image: 90\n",
      "Running deeplab on image: 91\n",
      "Running deeplab on image: 92\n",
      "Running deeplab on image: 93\n",
      "Running deeplab on image: 94\n",
      "Running deeplab on image: 95\n",
      "Running deeplab on image: 96\n",
      "Running deeplab on image: 97\n",
      "Running deeplab on image: 98\n",
      "Running deeplab on image: 99\n",
      "Running deeplab on image: 100\n",
      "Running deeplab on image: 101\n",
      "Running deeplab on image: 102\n",
      "Running deeplab on image: 103\n",
      "Running deeplab on image: 104\n",
      "Running deeplab on image: 105\n",
      "Running deeplab on image: 106\n",
      "Running deeplab on image: 107\n",
      "Running deeplab on image: 108\n",
      "Running deeplab on image: 109\n",
      "Running deeplab on image: 110\n",
      "Running deeplab on image: 111\n",
      "Running deeplab on image: 112\n",
      "Running deeplab on image: 113\n",
      "Running deeplab on image: 114\n",
      "Running deeplab on image: 115\n",
      "Running deeplab on image: 116\n",
      "Running deeplab on image: 117\n",
      "Running deeplab on image: 118\n",
      "Running deeplab on image: 119\n",
      "Running deeplab on image: 120\n",
      "Running deeplab on image: 121\n",
      "Running deeplab on image: 122\n",
      "Running deeplab on image: 123\n",
      "Running deeplab on image: 124\n",
      "Running deeplab on image: 125\n",
      "Running deeplab on image: 126\n",
      "Running deeplab on image: 127\n",
      "Running deeplab on image: 128\n",
      "Running deeplab on image: 129\n",
      "Running deeplab on image: 130\n",
      "Running deeplab on image: 131\n",
      "Running deeplab on image: 132\n",
      "Running deeplab on image: 133\n",
      "Running deeplab on image: 134\n",
      "Running deeplab on image: 135\n",
      "Running deeplab on image: 136\n",
      "Running deeplab on image: 137\n",
      "Running deeplab on image: 138\n",
      "Running deeplab on image: 139\n",
      "Running deeplab on image: 140\n",
      "Running deeplab on image: 141\n",
      "Running deeplab on image: 142\n",
      "Running deeplab on image: 143\n",
      "Running deeplab on image: 144\n",
      "Running deeplab on image: 145\n",
      "Running deeplab on image: 146\n",
      "Running deeplab on image: 147\n",
      "Running deeplab on image: 148\n",
      "Running deeplab on image: 149\n",
      "Running deeplab on image: 150\n",
      "Running deeplab on image: 151\n",
      "Running deeplab on image: 152\n",
      "Running deeplab on image: 153\n",
      "Running deeplab on image: 154\n",
      "Running deeplab on image: 155\n",
      "Running deeplab on image: 156\n",
      "Running deeplab on image: 157\n",
      "Running deeplab on image: 158\n",
      "Running deeplab on image: 159\n",
      "Running deeplab on image: 160\n",
      "Running deeplab on image: 161\n",
      "Running deeplab on image: 162\n",
      "Running deeplab on image: 163\n",
      "Running deeplab on image: 164\n",
      "Running deeplab on image: 165\n",
      "Running deeplab on image: 166\n",
      "Running deeplab on image: 167\n",
      "Running deeplab on image: 168\n",
      "Running deeplab on image: 169\n",
      "Running deeplab on image: 170\n",
      "Running deeplab on image: 171\n",
      "Running deeplab on image: 172\n",
      "Running deeplab on image: 173\n",
      "Running deeplab on image: 174\n",
      "Running deeplab on image: 175\n",
      "Running deeplab on image: 176\n",
      "Running deeplab on image: 177\n",
      "Running deeplab on image: 178\n",
      "Running deeplab on image: 179\n",
      "Running deeplab on image: 180\n",
      "Running deeplab on image: 181\n",
      "Running deeplab on image: 182\n",
      "Running deeplab on image: 183\n",
      "Running deeplab on image: 184\n",
      "Running deeplab on image: 185\n",
      "Running deeplab on image: 186\n",
      "Running deeplab on image: 187\n",
      "Running deeplab on image: 188\n",
      "Running deeplab on image: 189\n",
      "Running deeplab on image: 190\n",
      "Running deeplab on image: 191\n",
      "Running deeplab on image: 192\n",
      "Running deeplab on image: 193\n",
      "Running deeplab on image: 194\n",
      "Running deeplab on image: 195\n",
      "Running deeplab on image: 196\n",
      "Running deeplab on image: 197\n",
      "Running deeplab on image: 198\n",
      "Running deeplab on image: 199\n",
      "Running deeplab on image: 200\n",
      "Running deeplab on image: 201\n",
      "Running deeplab on image: 202\n",
      "Running deeplab on image: 203\n",
      "Running deeplab on image: 204\n",
      "Running deeplab on image: 205\n",
      "Running deeplab on image: 206\n",
      "Running deeplab on image: 207\n",
      "Running deeplab on image: 208\n",
      "Running deeplab on image: 209\n",
      "Running deeplab on image: 210\n",
      "Running deeplab on image: 211\n",
      "Running deeplab on image: 212\n",
      "Running deeplab on image: 213\n",
      "Running deeplab on image: 214\n",
      "Running deeplab on image: 215\n",
      "Running deeplab on image: 216\n",
      "Running deeplab on image: 217\n",
      "Running deeplab on image: 218\n",
      "Running deeplab on image: 219\n",
      "Running deeplab on image: 220\n",
      "Running deeplab on image: 221\n",
      "Running deeplab on image: 222\n",
      "Running deeplab on image: 223\n",
      "Running deeplab on image: 224\n",
      "Running deeplab on image: 225\n",
      "Running deeplab on image: 226\n",
      "Running deeplab on image: 227\n",
      "Running deeplab on image: 228\n",
      "Running deeplab on image: 229\n",
      "Running deeplab on image: 230\n",
      "Running deeplab on image: 231\n",
      "Running deeplab on image: 232\n",
      "Running deeplab on image: 233\n",
      "Running deeplab on image: 234\n",
      "Running deeplab on image: 235\n",
      "Running deeplab on image: 236\n",
      "Running deeplab on image: 237\n",
      "Running deeplab on image: 238\n",
      "Running deeplab on image: 239\n",
      "Running deeplab on image: 240\n",
      "Running deeplab on image: 241\n",
      "Running deeplab on image: 242\n",
      "Running deeplab on image: 243\n",
      "Running deeplab on image: 244\n",
      "Running deeplab on image: 245\n",
      "Running deeplab on image: 246\n",
      "Running deeplab on image: 247\n",
      "Running deeplab on image: 248\n",
      "Running deeplab on image: 249\n",
      "Running deeplab on image: 250\n",
      "Running deeplab on image: 251\n",
      "Running deeplab on image: 252\n",
      "\u001b[?2004h(deeplab) \u001b[?2004l\u001b[?2004l\u001b[?2004l"
     ]
    },
    {
     "ename": "",
     "evalue": "1",
     "output_type": "error",
     "traceback": []
    }
   ],
   "source": [
    "cd $deeplab_path\n",
    "conda activate deeplab\n",
    "export PYTHONPATH=$PYTHONPATH:`pwd`:`pwd`/slim\n",
    "python -W ignore deeplab/inference.py \\\n",
    "--image_lists \"${data}/test.csv\" \\\n",
    "--crop_size 900 --crop_size 600 \\\n",
    "--seg_results segmentation_results \\\n",
    "--model_dir \"${deeplab_path}/deeplab/model/\"\n",
    ">> $data/log_inference.txt\n",
    "conda deactivate\n",
    "conda deactivate"
   ]
  },
  {
   "cell_type": "code",
   "execution_count": 60,
   "metadata": {
    "collapsed": true,
    "jupyter": {
     "outputs_hidden": true
    }
   },
   "outputs": [
    {
     "name": "stdout",
     "output_type": "stream",
     "text": [
      "\u001b[0m\u001b[01;35mGTK10_I5.0_F1.9_L100LED30_145729_0_0_0_rgb_cropped.png\u001b[0m\n",
      "\u001b[01;35mGTK10_I5.0_F1.9_L100LED30_145850_1_0_1_rgb_cropped.png\u001b[0m\n",
      "\u001b[01;35mGTK10_I5.0_F1.9_L100LED30_150028_2_0_2_rgb_cropped.png\u001b[0m\n",
      "\u001b[01;35mGTK10_I5.0_F1.9_L100LED30_150204_3_0_3_rgb_cropped.png\u001b[0m\n",
      "\u001b[01;35mGTK10_I5.0_F1.9_L100LED30_150338_4_0_4_rgb_cropped.png\u001b[0m\n",
      "\u001b[01;35mGTK10_I5.0_F1.9_L100LED30_150516_5_0_5_rgb_cropped.png\u001b[0m\n",
      "\u001b[01;35mGTK10_I5.0_F1.9_L100LED30_150651_6_0_6_rgb_cropped.png\u001b[0m\n",
      "\u001b[01;35mGTK10_I5.0_F1.9_L100LED30_150826_7_1_2_rgb_cropped.png\u001b[0m\n",
      "\u001b[01;35mGTK10_I5.0_F1.9_L100LED30_151019_8_1_1_rgb_cropped.png\u001b[0m\n",
      "\u001b[01;35mGTK10_I5.0_F1.9_L100LED30_151156_9_1_0_rgb_cropped.png\u001b[0m\n",
      "\u001b[01;35mGTK11_I5.0_F1.9_L100LED30_175028_0_0_0_rgb_cropped.png\u001b[0m\n",
      "\u001b[01;35mGTK11_I5.0_F1.9_L100LED30_175146_1_0_1_rgb_cropped.png\u001b[0m\n",
      "\u001b[01;35mGTK11_I5.0_F1.9_L100LED30_175323_2_0_2_rgb_cropped.png\u001b[0m\n",
      "\u001b[01;35mGTK11_I5.0_F1.9_L100LED30_175459_3_0_3_rgb_cropped.png\u001b[0m\n",
      "\u001b[01;35mGTK11_I5.0_F1.9_L100LED30_175635_4_0_5_rgb_cropped.png\u001b[0m\n",
      "\u001b[01;35mGTK11_I5.0_F1.9_L100LED30_175813_5_0_6_rgb_cropped.png\u001b[0m\n",
      "\u001b[01;35mGTK11_I5.0_F1.9_L100LED30_175950_6_1_6_rgb_cropped.png\u001b[0m\n",
      "\u001b[01;35mGTK11_I5.0_F1.9_L100LED30_180116_7_1_5_rgb_cropped.png\u001b[0m\n",
      "\u001b[01;35mGTK11_I5.0_F1.9_L100LED30_180253_8_1_4_rgb_cropped.png\u001b[0m\n",
      "\u001b[01;35mGTK11_I5.0_F1.9_L100LED30_180426_9_1_3_rgb_cropped.png\u001b[0m\n",
      "\u001b[01;35mGTK11_I5.0_F1.9_L100LED30_180602_10_1_2_rgb_cropped.png\u001b[0m\n",
      "\u001b[01;35mGTK11_I5.0_F1.9_L100LED30_180738_11_1_1_rgb_cropped.png\u001b[0m\n",
      "\u001b[01;35mGTK11_I5.0_F1.9_L100LED30_180914_12_1_0_rgb_cropped.png\u001b[0m\n",
      "\u001b[01;35mGTK11_I5.0_F1.9_L100LED30_181050_13_2_0_rgb_cropped.png\u001b[0m\n",
      "\u001b[01;35mGTK11_I5.0_F1.9_L100LED30_181219_14_2_1_rgb_cropped.png\u001b[0m\n",
      "\u001b[01;35mGTK11_I5.0_F1.9_L100LED30_181354_15_2_2_rgb_cropped.png\u001b[0m\n",
      "\u001b[01;35mGTK11_I5.0_F1.9_L100LED30_181530_16_2_3_rgb_cropped.png\u001b[0m\n",
      "\u001b[01;35mGTK11_I5.0_F1.9_L100LED30_181704_17_2_4_rgb_cropped.png\u001b[0m\n",
      "\u001b[01;35mGTK11_I5.0_F1.9_L100LED30_181839_18_2_5_rgb_cropped.png\u001b[0m\n",
      "\u001b[01;35mGTK11_I5.0_F1.9_L100LED30_182014_19_2_6_rgb_cropped.png\u001b[0m\n",
      "\u001b[01;35mGTK12_I5.0_F1.9_L100LED30_182500_0_0_0_rgb_cropped.png\u001b[0m\n",
      "\u001b[01;35mGTK12_I5.0_F1.9_L100LED30_182624_1_0_1_rgb_cropped.png\u001b[0m\n",
      "\u001b[01;35mGTK12_I5.0_F1.9_L100LED30_182817_2_0_2_rgb_cropped.png\u001b[0m\n",
      "\u001b[01;35mGTK12_I5.0_F1.9_L100LED30_182955_3_0_5_rgb_cropped.png\u001b[0m\n",
      "\u001b[01;35mGTK12_I5.0_F1.9_L100LED30_183141_4_0_6_rgb_cropped.png\u001b[0m\n",
      "\u001b[01;35mGTK12_I5.0_F1.9_L100LED30_183319_5_1_5_rgb_cropped.png\u001b[0m\n",
      "\u001b[01;35mGTK12_I5.0_F1.9_L100LED30_183445_6_1_4_rgb_cropped.png\u001b[0m\n",
      "\u001b[01;35mGTK12_I5.0_F1.9_L100LED30_183619_7_1_3_rgb_cropped.png\u001b[0m\n",
      "\u001b[01;35mGTK12_I5.0_F1.9_L100LED30_183753_8_1_2_rgb_cropped.png\u001b[0m\n",
      "\u001b[01;35mGTK12_I5.0_F1.9_L100LED30_183933_9_1_1_rgb_cropped.png\u001b[0m\n",
      "\u001b[01;35mGTK12_I5.0_F1.9_L100LED30_184108_10_1_0_rgb_cropped.png\u001b[0m\n",
      "\u001b[01;35mGTK12_I5.0_F1.9_L100LED30_184243_11_2_0_rgb_cropped.png\u001b[0m\n",
      "\u001b[01;35mGTK12_I5.0_F1.9_L100LED30_184408_12_2_1_rgb_cropped.png\u001b[0m\n",
      "\u001b[01;35mGTK12_I5.0_F1.9_L100LED30_184544_13_2_2_rgb_cropped.png\u001b[0m\n",
      "\u001b[01;35mGTK12_I5.0_F1.9_L100LED30_184718_14_2_3_rgb_cropped.png\u001b[0m\n",
      "\u001b[01;35mGTK12_I5.0_F1.9_L100LED30_184856_15_2_5_rgb_cropped.png\u001b[0m\n",
      "\u001b[01;35mGTK12_I5.0_F1.9_L100LED30_185036_16_2_6_rgb_cropped.png\u001b[0m\n",
      "\u001b[01;35mGTK12_I5.0_F1.9_L100LED30_185601_0_2_5_rgb_cropped.png\u001b[0m\n",
      "\u001b[01;35mGTK12_I5.0_F1.9_L100LED30_185809_1_2_6_rgb_cropped.png\u001b[0m\n",
      "\u001b[01;35mGTK13_I5.0_F1.9_L100LED30_190445_0_0_0_rgb_cropped.png\u001b[0m\n",
      "\u001b[01;35mGTK13_I5.0_F1.9_L100LED30_190616_1_0_1_rgb_cropped.png\u001b[0m\n",
      "\u001b[01;35mGTK13_I5.0_F1.9_L100LED30_190756_2_0_2_rgb_cropped.png\u001b[0m\n",
      "\u001b[01;35mGTK13_I5.0_F1.9_L100LED30_190930_3_0_3_rgb_cropped.png\u001b[0m\n",
      "\u001b[01;35mGTK13_I5.0_F1.9_L100LED30_191106_4_0_4_rgb_cropped.png\u001b[0m\n",
      "\u001b[01;35mGTK13_I5.0_F1.9_L100LED30_191244_5_0_5_rgb_cropped.png\u001b[0m\n",
      "\u001b[01;35mGTK13_I5.0_F1.9_L100LED30_191420_6_0_6_rgb_cropped.png\u001b[0m\n",
      "\u001b[01;35mGTK13_I5.0_F1.9_L100LED30_191554_7_1_6_rgb_cropped.png\u001b[0m\n",
      "\u001b[01;35mGTK13_I5.0_F1.9_L100LED30_191722_8_1_5_rgb_cropped.png\u001b[0m\n",
      "\u001b[01;35mGTK13_I5.0_F1.9_L100LED30_192343_12_1_0_rgb_cropped.png\u001b[0m\n",
      "\u001b[01;35mGTK13_I5.0_F1.9_L100LED30_192838_15_2_4_rgb_cropped.png\u001b[0m\n",
      "\u001b[01;35mGTK13_I5.0_F1.9_L100LED30_193014_16_2_6_rgb_cropped.png\u001b[0m\n",
      "\u001b[01;35mGTK13_I5.0_F1.9_L100LED30_193528_0_1_3_rgb_cropped.png\u001b[0m\n",
      "\u001b[01;35mGTK13_I5.0_F1.9_L100LED30_193718_1_1_2_rgb_cropped.png\u001b[0m\n",
      "\u001b[01;35mGTK13_I5.0_F1.9_L100LED30_193855_2_1_1_rgb_cropped.png\u001b[0m\n",
      "\u001b[01;35mGTK13_I5.0_F1.9_L100LED30_194942_0_2_2_rgb_cropped.png\u001b[0m\n",
      "\u001b[01;35mGTK13_I5.0_F1.9_L100LED30_195119_1_2_3_rgb_cropped.png\u001b[0m\n",
      "\u001b[01;35mGTK14_I5.0_F1.9_L100LED30_201659_0_0_0_rgb_cropped.png\u001b[0m\n",
      "\u001b[01;35mGTK14_I5.0_F1.9_L100LED30_201819_1_0_1_rgb_cropped.png\u001b[0m\n",
      "\u001b[01;35mGTK14_I5.0_F1.9_L100LED30_201956_2_0_2_rgb_cropped.png\u001b[0m\n",
      "\u001b[01;35mGTK14_I5.0_F1.9_L100LED30_203423_0_0_6_rgb_cropped.png\u001b[0m\n",
      "\u001b[01;35mGTK14_I5.0_F1.9_L100LED30_204628_0_1_6_rgb_cropped.png\u001b[0m\n",
      "\u001b[01;35mGTK14_I5.0_F1.9_L100LED30_204848_1_1_5_rgb_cropped.png\u001b[0m\n",
      "\u001b[01;35mGTK14_I5.0_F1.9_L100LED30_205026_2_1_4_rgb_cropped.png\u001b[0m\n",
      "\u001b[01;35mGTK14_I5.0_F1.9_L100LED30_205203_3_1_3_rgb_cropped.png\u001b[0m\n",
      "\u001b[01;35mGTK14_I5.0_F1.9_L100LED30_205343_4_1_2_rgb_cropped.png\u001b[0m\n",
      "\u001b[01;35mGTK14_I5.0_F1.9_L100LED30_205520_5_1_0_rgb_cropped.png\u001b[0m\n",
      "\u001b[01;35mGTK14_I5.0_F1.9_L100LED30_210140_0_2_0_rgb_cropped.png\u001b[0m\n",
      "\u001b[01;35mGTK14_I5.0_F1.9_L100LED30_210320_1_2_1_rgb_cropped.png\u001b[0m\n",
      "\u001b[01;35mGTK14_I5.0_F1.9_L100LED30_210456_2_2_2_rgb_cropped.png\u001b[0m\n",
      "\u001b[01;35mGTK14_I5.0_F1.9_L100LED30_210631_3_2_3_rgb_cropped.png\u001b[0m\n",
      "\u001b[01;35mGTK14_I5.0_F1.9_L100LED30_210809_4_2_4_rgb_cropped.png\u001b[0m\n",
      "\u001b[01;35mGTK14_I5.0_F1.9_L100LED30_210947_5_2_5_rgb_cropped.png\u001b[0m\n",
      "\u001b[01;35mGTK14_I5.0_F1.9_L100LED30_211122_6_2_6_rgb_cropped.png\u001b[0m\n",
      "\u001b[01;35mGTK15_I5.0_F1.9_L100LED30_211814_0_0_0_rgb_cropped.png\u001b[0m\n",
      "\u001b[01;35mGTK15_I5.0_F1.9_L100LED30_211941_1_0_1_rgb_cropped.png\u001b[0m\n",
      "\u001b[01;35mGTK15_I5.0_F1.9_L100LED30_212114_2_0_2_rgb_cropped.png\u001b[0m\n",
      "\u001b[01;35mGTK15_I5.0_F1.9_L100LED30_212252_3_0_3_rgb_cropped.png\u001b[0m\n",
      "\u001b[01;35mGTK15_I5.0_F1.9_L100LED30_212435_4_0_6_rgb_cropped.png\u001b[0m\n",
      "\u001b[01;35mGTK15_I5.0_F1.9_L100LED30_212623_5_1_6_rgb_cropped.png\u001b[0m\n",
      "\u001b[01;35mGTK15_I5.0_F1.9_L100LED30_212751_6_1_5_rgb_cropped.png\u001b[0m\n",
      "\u001b[01;35mGTK15_I5.0_F1.9_L100LED30_212931_7_1_4_rgb_cropped.png\u001b[0m\n",
      "\u001b[01;35mGTK15_I5.0_F1.9_L100LED30_213108_8_1_3_rgb_cropped.png\u001b[0m\n",
      "\u001b[01;35mGTK15_I5.0_F1.9_L100LED30_213247_9_1_0_rgb_cropped.png\u001b[0m\n",
      "\u001b[01;35mGTK1_I5.0_F1.9_L100LED30_155605_0_0_2_rgb_cropped.png\u001b[0m\n",
      "\u001b[01;35mGTK1_I5.0_F1.9_L100LED30_155744_1_0_4_rgb_cropped.png\u001b[0m\n",
      "\u001b[01;35mGTK1_I5.0_F1.9_L100LED30_155922_2_0_5_rgb_cropped.png\u001b[0m\n",
      "\u001b[01;35mGTK1_I5.0_F1.9_L100LED30_160058_3_0_6_rgb_cropped.png\u001b[0m\n",
      "\u001b[01;35mGTK1_I5.0_F1.9_L100LED30_160235_4_1_6_rgb_cropped.png\u001b[0m\n",
      "\u001b[01;35mGTK1_I5.0_F1.9_L100LED30_160401_5_1_5_rgb_cropped.png\u001b[0m\n",
      "\u001b[01;35mGTK1_I5.0_F1.9_L100LED30_160536_6_1_2_rgb_cropped.png\u001b[0m\n",
      "\u001b[01;35mGTK1_I5.0_F1.9_L100LED30_160722_7_1_1_rgb_cropped.png\u001b[0m\n",
      "\u001b[01;35mGTK1_I5.0_F1.9_L100LED30_160855_8_1_0_rgb_cropped.png\u001b[0m\n",
      "\u001b[01;35mGTK1_I5.0_F1.9_L100LED30_161031_9_2_0_rgb_cropped.png\u001b[0m\n",
      "\u001b[01;35mGTK1_I5.0_F1.9_L100LED30_161159_10_2_1_rgb_cropped.png\u001b[0m\n",
      "\u001b[01;35mGTK1_I5.0_F1.9_L100LED30_161333_11_2_4_rgb_cropped.png\u001b[0m\n",
      "\u001b[01;35mGTK1_I5.0_F1.9_L100LED30_161520_12_2_5_rgb_cropped.png\u001b[0m\n",
      "\u001b[01;35mGTK1_I5.0_F1.9_L100LED30_161653_13_2_6_rgb_cropped.png\u001b[0m\n",
      "\u001b[01;35mGTK1_I5.0_F1.9_L100LED30_174431_0_0_0_rgb_cropped.png\u001b[0m\n",
      "\u001b[01;35mGTK1_I5.0_F1.9_L100LED30_174552_1_0_1_rgb_cropped.png\u001b[0m\n",
      "\u001b[01;35mGTK1_I5.0_F1.9_L100LED30_174727_2_1_4_rgb_cropped.png\u001b[0m\n",
      "\u001b[01;35mGTK1_I5.0_F1.9_L100LED30_174916_3_1_3_rgb_cropped.png\u001b[0m\n",
      "\u001b[01;35mGTK1_I5.0_F1.9_L100LED30_175051_4_2_2_rgb_cropped.png\u001b[0m\n",
      "\u001b[01;35mGTK1_I5.0_F1.9_L100LED30_175225_5_2_3_rgb_cropped.png\u001b[0m\n",
      "\u001b[01;35mGTK2_I5.0_F1.9_L100LED30_162350_0_0_0_rgb_cropped.png\u001b[0m\n",
      "\u001b[01;35mGTK2_I5.0_F1.9_L100LED30_162509_1_0_1_rgb_cropped.png\u001b[0m\n",
      "\u001b[01;35mGTK2_I5.0_F1.9_L100LED30_162645_2_0_2_rgb_cropped.png\u001b[0m\n",
      "\u001b[01;35mGTK2_I5.0_F1.9_L100LED30_162822_3_0_3_rgb_cropped.png\u001b[0m\n",
      "\u001b[01;35mGTK2_I5.0_F1.9_L100LED30_162957_4_0_4_rgb_cropped.png\u001b[0m\n",
      "\u001b[01;35mGTK2_I5.0_F1.9_L100LED30_163131_5_1_6_rgb_cropped.png\u001b[0m\n",
      "\u001b[01;35mGTK2_I5.0_F1.9_L100LED30_163311_6_1_2_rgb_cropped.png\u001b[0m\n",
      "\u001b[01;35mGTK2_I5.0_F1.9_L100LED30_163505_7_1_1_rgb_cropped.png\u001b[0m\n",
      "\u001b[01;35mGTK2_I5.0_F1.9_L100LED30_163640_8_1_0_rgb_cropped.png\u001b[0m\n",
      "\u001b[01;35mGTK2_I5.0_F1.9_L100LED30_163811_9_2_0_rgb_cropped.png\u001b[0m\n",
      "\u001b[01;35mGTK2_I5.0_F1.9_L100LED30_163938_10_2_1_rgb_cropped.png\u001b[0m\n",
      "\u001b[01;35mGTK2_I5.0_F1.9_L100LED30_164113_11_2_2_rgb_cropped.png\u001b[0m\n",
      "\u001b[01;35mGTK2_I5.0_F1.9_L100LED30_164247_12_2_3_rgb_cropped.png\u001b[0m\n",
      "\u001b[01;35mGTK2_I5.0_F1.9_L100LED30_164424_13_2_4_rgb_cropped.png\u001b[0m\n",
      "\u001b[01;35mGTK2_I5.0_F1.9_L100LED30_164558_14_2_5_rgb_cropped.png\u001b[0m\n",
      "\u001b[01;35mGTK2_I5.0_F1.9_L100LED30_164736_15_2_6_rgb_cropped.png\u001b[0m\n",
      "\u001b[01;35mGTK2_I5.0_F1.9_L100LED30_173708_0_1_5_rgb_cropped.png\u001b[0m\n",
      "\u001b[01;35mGTK2_I5.0_F1.9_L100LED30_173916_1_1_4_rgb_cropped.png\u001b[0m\n",
      "\u001b[01;35mGTK3_I5.0_F1.9_L100LED30_165620_0_0_2_rgb_cropped.png\u001b[0m\n",
      "\u001b[01;35mGTK3_I5.0_F1.9_L100LED30_165757_1_0_3_rgb_cropped.png\u001b[0m\n",
      "\u001b[01;35mGTK3_I5.0_F1.9_L100LED30_165934_2_0_4_rgb_cropped.png\u001b[0m\n",
      "\u001b[01;35mGTK3_I5.0_F1.9_L100LED30_170112_3_0_5_rgb_cropped.png\u001b[0m\n",
      "\u001b[01;35mGTK3_I5.0_F1.9_L100LED30_170248_4_0_6_rgb_cropped.png\u001b[0m\n",
      "\u001b[01;35mGTK3_I5.0_F1.9_L100LED30_170425_5_1_6_rgb_cropped.png\u001b[0m\n",
      "\u001b[01;35mGTK3_I5.0_F1.9_L100LED30_170549_6_1_5_rgb_cropped.png\u001b[0m\n",
      "\u001b[01;35mGTK3_I5.0_F1.9_L100LED30_170723_7_1_4_rgb_cropped.png\u001b[0m\n",
      "\u001b[01;35mGTK3_I5.0_F1.9_L100LED30_170901_8_1_3_rgb_cropped.png\u001b[0m\n",
      "\u001b[01;35mGTK3_I5.0_F1.9_L100LED30_171034_9_1_2_rgb_cropped.png\u001b[0m\n",
      "\u001b[01;35mGTK3_I5.0_F1.9_L100LED30_171208_10_1_1_rgb_cropped.png\u001b[0m\n",
      "\u001b[01;35mGTK3_I5.0_F1.9_L100LED30_171344_11_1_0_rgb_cropped.png\u001b[0m\n",
      "\u001b[01;35mGTK3_I5.0_F1.9_L100LED30_171521_12_2_0_rgb_cropped.png\u001b[0m\n",
      "\u001b[01;35mGTK3_I5.0_F1.9_L100LED30_171644_13_2_1_rgb_cropped.png\u001b[0m\n",
      "\u001b[01;35mGTK3_I5.0_F1.9_L100LED30_171820_14_2_3_rgb_cropped.png\u001b[0m\n",
      "\u001b[01;35mGTK3_I5.0_F1.9_L100LED30_171958_15_2_4_rgb_cropped.png\u001b[0m\n",
      "\u001b[01;35mGTK3_I5.0_F1.9_L100LED30_172133_16_2_5_rgb_cropped.png\u001b[0m\n",
      "\u001b[01;35mGTK3_I5.0_F1.9_L100LED30_172307_17_2_6_rgb_cropped.png\u001b[0m\n",
      "\u001b[01;35mGTK3_I5.0_F1.9_L100LED30_172820_0_0_0_rgb_cropped.png\u001b[0m\n",
      "\u001b[01;35mGTK3_I5.0_F1.9_L100LED30_172942_1_0_1_rgb_cropped.png\u001b[0m\n",
      "\u001b[01;35mGTK3_I5.0_F1.9_L100LED30_173115_2_1_0_rgb_cropped.png\u001b[0m\n",
      "\u001b[01;35mGTK4_I5.0_F1.9_L100LED30_181537_0_0_0_rgb_cropped.png\u001b[0m\n",
      "\u001b[01;35mGTK4_I5.0_F1.9_L100LED30_181657_1_0_1_rgb_cropped.png\u001b[0m\n",
      "\u001b[01;35mGTK4_I5.0_F1.9_L100LED30_181831_2_0_2_rgb_cropped.png\u001b[0m\n",
      "\u001b[01;35mGTK4_I5.0_F1.9_L100LED30_182007_3_0_3_rgb_cropped.png\u001b[0m\n",
      "\u001b[01;35mGTK4_I5.0_F1.9_L100LED30_182144_4_0_4_rgb_cropped.png\u001b[0m\n",
      "\u001b[01;35mGTK4_I5.0_F1.9_L100LED30_182319_5_0_5_rgb_cropped.png\u001b[0m\n",
      "\u001b[01;35mGTK4_I5.0_F1.9_L100LED30_182456_6_0_6_rgb_cropped.png\u001b[0m\n",
      "\u001b[01;35mGTK4_I5.0_F1.9_L100LED30_182630_7_1_6_rgb_cropped.png\u001b[0m\n",
      "\u001b[01;35mGTK4_I5.0_F1.9_L100LED30_182757_8_1_5_rgb_cropped.png\u001b[0m\n",
      "\u001b[01;35mGTK4_I5.0_F1.9_L100LED30_182934_9_1_4_rgb_cropped.png\u001b[0m\n",
      "\u001b[01;35mGTK4_I5.0_F1.9_L100LED30_183108_10_1_2_rgb_cropped.png\u001b[0m\n",
      "\u001b[01;35mGTK4_I5.0_F1.9_L100LED30_183243_11_1_1_rgb_cropped.png\u001b[0m\n",
      "\u001b[01;35mGTK4_I5.0_F1.9_L100LED30_183419_12_1_0_rgb_cropped.png\u001b[0m\n",
      "\u001b[01;35mGTK4_I5.0_F1.9_L100LED30_183553_13_2_0_rgb_cropped.png\u001b[0m\n",
      "\u001b[01;35mGTK4_I5.0_F1.9_L100LED30_183719_14_2_1_rgb_cropped.png\u001b[0m\n",
      "\u001b[01;35mGTK4_I5.0_F1.9_L100LED30_183855_15_2_2_rgb_cropped.png\u001b[0m\n",
      "\u001b[01;35mGTK4_I5.0_F1.9_L100LED30_184030_16_2_3_rgb_cropped.png\u001b[0m\n",
      "\u001b[01;35mGTK4_I5.0_F1.9_L100LED30_184204_17_2_4_rgb_cropped.png\u001b[0m\n",
      "\u001b[01;35mGTK4_I5.0_F1.9_L100LED30_184341_18_2_6_rgb_cropped.png\u001b[0m\n",
      "\u001b[01;35mGTK4_I5.0_F1.9_L100LED30_185000_0_1_4_rgb_cropped.png\u001b[0m\n",
      "\u001b[01;35mGTK5_I5.0_F1.9_L100LED30_191948_0_0_0_rgb_cropped.png\u001b[0m\n",
      "\u001b[01;35mGTK5_I5.0_F1.9_L100LED30_192108_1_0_1_rgb_cropped.png\u001b[0m\n",
      "\u001b[01;35mGTK5_I5.0_F1.9_L100LED30_192240_2_0_2_rgb_cropped.png\u001b[0m\n",
      "\u001b[01;35mGTK5_I5.0_F1.9_L100LED30_192417_3_0_3_rgb_cropped.png\u001b[0m\n",
      "\u001b[01;35mGTK5_I5.0_F1.9_L100LED30_192551_4_0_4_rgb_cropped.png\u001b[0m\n",
      "\u001b[01;35mGTK5_I5.0_F1.9_L100LED30_192724_5_0_5_rgb_cropped.png\u001b[0m\n",
      "\u001b[01;35mGTK5_I5.0_F1.9_L100LED30_192859_6_0_6_rgb_cropped.png\u001b[0m\n",
      "\u001b[01;35mGTK5_I5.0_F1.9_L100LED30_193034_7_1_4_rgb_cropped.png\u001b[0m\n",
      "\u001b[01;35mGTK5_I5.0_F1.9_L100LED30_193210_8_1_3_rgb_cropped.png\u001b[0m\n",
      "\u001b[01;35mGTK5_I5.0_F1.9_L100LED30_193346_9_1_2_rgb_cropped.png\u001b[0m\n",
      "\u001b[01;35mGTK5_I5.0_F1.9_L100LED30_193521_10_1_1_rgb_cropped.png\u001b[0m\n",
      "\u001b[01;35mGTK6_I5.0_F1.9_L100LED30_121634_0_0_2_rgb_cropped.png\u001b[0m\n",
      "\u001b[01;35mGTK6_I5.0_F1.9_L100LED30_121813_1_0_3_rgb_cropped.png\u001b[0m\n",
      "\u001b[01;35mGTK6_I5.0_F1.9_L100LED30_121948_2_0_4_rgb_cropped.png\u001b[0m\n",
      "\u001b[01;35mGTK6_I5.0_F1.9_L100LED30_122128_3_0_5_rgb_cropped.png\u001b[0m\n",
      "\u001b[01;35mGTK6_I5.0_F1.9_L100LED30_122305_4_0_6_rgb_cropped.png\u001b[0m\n",
      "\u001b[01;35mGTK6_I5.0_F1.9_L100LED30_122438_5_1_5_rgb_cropped.png\u001b[0m\n",
      "\u001b[01;35mGTK6_I5.0_F1.9_L100LED30_122605_6_1_4_rgb_cropped.png\u001b[0m\n",
      "\u001b[01;35mGTK6_I5.0_F1.9_L100LED30_122739_7_1_2_rgb_cropped.png\u001b[0m\n",
      "\u001b[01;35mGTK6_I5.0_F1.9_L100LED30_122916_8_1_1_rgb_cropped.png\u001b[0m\n",
      "\u001b[01;35mGTK6_I5.0_F1.9_L100LED30_123054_9_1_0_rgb_cropped.png\u001b[0m\n",
      "\u001b[01;35mGTK6_I5.0_F1.9_L100LED30_123229_10_2_0_rgb_cropped.png\u001b[0m\n",
      "\u001b[01;35mGTK6_I5.0_F1.9_L100LED30_123354_11_2_1_rgb_cropped.png\u001b[0m\n",
      "\u001b[01;35mGTK6_I5.0_F1.9_L100LED30_123528_12_2_2_rgb_cropped.png\u001b[0m\n",
      "\u001b[01;35mGTK6_I5.0_F1.9_L100LED30_123704_13_2_3_rgb_cropped.png\u001b[0m\n",
      "\u001b[01;35mGTK6_I5.0_F1.9_L100LED30_123843_14_2_4_rgb_cropped.png\u001b[0m\n",
      "\u001b[01;35mGTK6_I5.0_F1.9_L100LED30_124015_15_2_5_rgb_cropped.png\u001b[0m\n",
      "\u001b[01;35mGTK6_I5.0_F1.9_L100LED30_124151_16_2_6_rgb_cropped.png\u001b[0m\n",
      "\u001b[01;35mGTK6_I5.0_F1.9_L100LED30_124626_0_1_6_rgb_cropped.png\u001b[0m\n",
      "\u001b[01;35mGTK7_I5.0_F1.9_L100LED30_125210_0_0_0_rgb_cropped.png\u001b[0m\n",
      "\u001b[01;35mGTK7_I5.0_F1.9_L100LED30_125330_1_0_1_rgb_cropped.png\u001b[0m\n",
      "\u001b[01;35mGTK7_I5.0_F1.9_L100LED30_125503_2_0_2_rgb_cropped.png\u001b[0m\n",
      "\u001b[01;35mGTK7_I5.0_F1.9_L100LED30_125638_3_0_3_rgb_cropped.png\u001b[0m\n",
      "\u001b[01;35mGTK7_I5.0_F1.9_L100LED30_125814_4_0_4_rgb_cropped.png\u001b[0m\n",
      "\u001b[01;35mGTK7_I5.0_F1.9_L100LED30_125951_5_0_6_rgb_cropped.png\u001b[0m\n",
      "\u001b[01;35mGTK7_I5.0_F1.9_L100LED30_130138_6_1_6_rgb_cropped.png\u001b[0m\n",
      "\u001b[01;35mGTK7_I5.0_F1.9_L100LED30_130306_7_1_1_rgb_cropped.png\u001b[0m\n",
      "\u001b[01;35mGTK7_I5.0_F1.9_L100LED30_130508_8_1_0_rgb_cropped.png\u001b[0m\n",
      "\u001b[01;35mGTK7_I5.0_F1.9_L100LED30_130644_9_2_0_rgb_cropped.png\u001b[0m\n",
      "\u001b[01;35mGTK7_I5.0_F1.9_L100LED30_130819_10_2_1_rgb_cropped.png\u001b[0m\n",
      "\u001b[01;35mGTK7_I5.0_F1.9_L100LED30_130955_11_2_2_rgb_cropped.png\u001b[0m\n",
      "\u001b[01;35mGTK7_I5.0_F1.9_L100LED30_131130_12_2_3_rgb_cropped.png\u001b[0m\n",
      "\u001b[01;35mGTK7_I5.0_F1.9_L100LED30_131306_13_2_4_rgb_cropped.png\u001b[0m\n",
      "\u001b[01;35mGTK7_I5.0_F1.9_L100LED30_131443_14_2_5_rgb_cropped.png\u001b[0m\n",
      "\u001b[01;35mGTK7_I5.0_F1.9_L100LED30_131618_15_2_6_rgb_cropped.png\u001b[0m\n",
      "\u001b[01;35mGTK8_I5.0_F1.9_L100LED30_135226_0_0_0_rgb_cropped.png\u001b[0m\n",
      "\u001b[01;35mGTK8_I5.0_F1.9_L100LED30_135345_1_0_1_rgb_cropped.png\u001b[0m\n",
      "\u001b[01;35mGTK8_I5.0_F1.9_L100LED30_135520_2_0_2_rgb_cropped.png\u001b[0m\n",
      "\u001b[01;35mGTK8_I5.0_F1.9_L100LED30_135657_3_0_3_rgb_cropped.png\u001b[0m\n",
      "\u001b[01;35mGTK8_I5.0_F1.9_L100LED30_135832_4_0_5_rgb_cropped.png\u001b[0m\n",
      "\u001b[01;35mGTK8_I5.0_F1.9_L100LED30_140010_5_1_6_rgb_cropped.png\u001b[0m\n",
      "\u001b[01;35mGTK8_I5.0_F1.9_L100LED30_140142_6_1_5_rgb_cropped.png\u001b[0m\n",
      "\u001b[01;35mGTK8_I5.0_F1.9_L100LED30_140317_7_1_4_rgb_cropped.png\u001b[0m\n",
      "\u001b[01;35mGTK8_I5.0_F1.9_L100LED30_140454_8_1_3_rgb_cropped.png\u001b[0m\n",
      "\u001b[01;35mGTK8_I5.0_F1.9_L100LED30_140629_9_1_2_rgb_cropped.png\u001b[0m\n",
      "\u001b[01;35mGTK8_I5.0_F1.9_L100LED30_140804_10_1_1_rgb_cropped.png\u001b[0m\n",
      "\u001b[01;35mGTK8_I5.0_F1.9_L100LED30_140940_11_1_0_rgb_cropped.png\u001b[0m\n",
      "\u001b[01;35mGTK8_I5.0_F1.9_L100LED30_141115_12_2_0_rgb_cropped.png\u001b[0m\n",
      "\u001b[01;35mGTK8_I5.0_F1.9_L100LED30_141241_13_2_1_rgb_cropped.png\u001b[0m\n",
      "\u001b[01;35mGTK8_I5.0_F1.9_L100LED30_141419_14_2_2_rgb_cropped.png\u001b[0m\n",
      "\u001b[01;35mGTK8_I5.0_F1.9_L100LED30_141554_15_2_3_rgb_cropped.png\u001b[0m\n",
      "\u001b[01;35mGTK8_I5.0_F1.9_L100LED30_141910_17_2_5_rgb_cropped.png\u001b[0m\n",
      "\u001b[01;35mGTK8_I5.0_F1.9_L100LED30_142248_0_2_4_rgb_cropped.png\u001b[0m\n",
      "\u001b[01;35mGTK9_I5.0_F1.9_L100LED30_142644_0_0_3_rgb_cropped.png\u001b[0m\n",
      "\u001b[01;35mGTK9_I5.0_F1.9_L100LED30_142832_1_0_4_rgb_cropped.png\u001b[0m\n",
      "\u001b[01;35mGTK9_I5.0_F1.9_L100LED30_143006_2_0_5_rgb_cropped.png\u001b[0m\n",
      "\u001b[01;35mGTK9_I5.0_F1.9_L100LED30_143139_3_0_6_rgb_cropped.png\u001b[0m\n",
      "\u001b[01;35mGTK9_I5.0_F1.9_L100LED30_143314_4_1_6_rgb_cropped.png\u001b[0m\n",
      "\u001b[01;35mGTK9_I5.0_F1.9_L100LED30_143438_5_1_5_rgb_cropped.png\u001b[0m\n",
      "\u001b[01;35mGTK9_I5.0_F1.9_L100LED30_143619_6_1_4_rgb_cropped.png\u001b[0m\n",
      "\u001b[01;35mGTK9_I5.0_F1.9_L100LED30_143756_7_1_3_rgb_cropped.png\u001b[0m\n",
      "\u001b[01;35mGTK9_I5.0_F1.9_L100LED30_143931_8_1_2_rgb_cropped.png\u001b[0m\n",
      "\u001b[01;35mGTK9_I5.0_F1.9_L100LED30_144108_9_1_1_rgb_cropped.png\u001b[0m\n",
      "\u001b[01;35mGTK9_I5.0_F1.9_L100LED30_144244_10_1_0_rgb_cropped.png\u001b[0m\n",
      "\u001b[01;35mGTK9_I5.0_F1.9_L100LED30_144422_11_2_0_rgb_cropped.png\u001b[0m\n",
      "\u001b[01;35mGTK9_I5.0_F1.9_L100LED30_144548_12_2_1_rgb_cropped.png\u001b[0m\n",
      "\u001b[01;35mGTK9_I5.0_F1.9_L100LED30_144730_13_2_2_rgb_cropped.png\u001b[0m\n",
      "\u001b[01;35mGTK9_I5.0_F1.9_L100LED30_144909_14_2_4_rgb_cropped.png\u001b[0m\n",
      "\u001b[01;35mGTK9_I5.0_F1.9_L100LED30_145046_15_2_5_rgb_cropped.png\u001b[0m\n",
      "\u001b[01;35mGTK9_I5.0_F1.9_L100LED30_145223_16_2_6_rgb_cropped.png\u001b[0m\n",
      "\u001b[?2004h"
     ]
    },
    {
     "ename": "",
     "evalue": "1",
     "output_type": "error",
     "traceback": []
    }
   ],
   "source": [
    "ls \"${deeplab_path}/segmentation_results/output/\""
   ]
  },
  {
   "cell_type": "markdown",
   "metadata": {},
   "source": [
    "Clean up and reorganize files. Let's keep the outputs we need with all other data."
   ]
  },
  {
   "cell_type": "code",
   "execution_count": 62,
   "metadata": {},
   "outputs": [
    {
     "name": "stdout",
     "output_type": "stream",
     "text": [
      "mv: cannot stat '/home/michael/poplar_model_2_w_contam//segmentation_results/output/*': No such file or directory\n",
      "\u001b[?2004h"
     ]
    },
    {
     "ename": "",
     "evalue": "1",
     "output_type": "error",
     "traceback": []
    }
   ],
   "source": [
    "mv \"${deeplab_path}/segmentation_results/output/\"* $data/"
   ]
  },
  {
   "cell_type": "markdown",
   "metadata": {},
   "source": [
    "#### Post-processing"
   ]
  },
  {
   "cell_type": "markdown",
   "metadata": {},
   "source": [
    "Name outputs to reflect that they are segmentation results"
   ]
  },
  {
   "cell_type": "code",
   "execution_count": 63,
   "metadata": {},
   "outputs": [
    {
     "name": "stdout",
     "output_type": "stream",
     "text": [
      "/media/michael/Elements_12//GWAS_Transformation/GTK/wk7/\n",
      "\u001b[?2004h"
     ]
    },
    {
     "ename": "",
     "evalue": "1",
     "output_type": "error",
     "traceback": []
    }
   ],
   "source": [
    "echo $data"
   ]
  },
  {
   "cell_type": "code",
   "execution_count": 64,
   "metadata": {},
   "outputs": [
    {
     "name": "stdout",
     "output_type": "stream",
     "text": [
      "\u001b[?2004h\u001b[?2004l"
     ]
    },
    {
     "ename": "",
     "evalue": "1",
     "output_type": "error",
     "traceback": []
    }
   ],
   "source": [
    "cd $data\n",
    "for file in *_rgb_cropped.png; do mv -f \"$file\" \"${file%_rgb_cropped.png}_segment_cropped.png\"; done"
   ]
  },
  {
   "cell_type": "markdown",
   "metadata": {},
   "source": [
    "Re-expand segment outputs to same size as original RGB files"
   ]
  },
  {
   "cell_type": "markdown",
   "metadata": {},
   "source": [
    "Dependencies include `scikit-image`"
   ]
  },
  {
   "cell_type": "code",
   "execution_count": 65,
   "metadata": {},
   "outputs": [
    {
     "name": "stdout",
     "output_type": "stream",
     "text": [
      "\u001b[?2004h(alignment) \u001b[?2004l\u001b[?2004l\u001b[?2004l"
     ]
    },
    {
     "ename": "",
     "evalue": "1",
     "output_type": "error",
     "traceback": []
    }
   ],
   "source": [
    "conda activate alignment\n",
    "cd $alignment_path\n",
    "python expand.py $data >> $data/log_expand.txt\n",
    "conda deactivate"
   ]
  },
  {
   "cell_type": "markdown",
   "metadata": {},
   "source": [
    "Make composite images with side-by-side RGB, segmentation outputs and blended images"
   ]
  },
  {
   "cell_type": "code",
   "execution_count": 66,
   "metadata": {},
   "outputs": [
    {
     "name": "stdout",
     "output_type": "stream",
     "text": [
      "\u001b[?2004h(test-environment) \u001b[?2004l\u001b[?2004l\u001b[?2004l\u001b[?2004l\u001b[?2004l\u001b[?2004l"
     ]
    },
    {
     "ename": "",
     "evalue": "1",
     "output_type": "error",
     "traceback": []
    }
   ],
   "source": [
    "conda activate test-environment\n",
    "if [ $composite -eq 1 ]\n",
    "then\n",
    "    cd $gmolabeler_path\n",
    "    python image_blender.py $data 0.75 'both' 1 180 >> $data/log_blend.txt\n",
    "fi\n",
    "conda deactivate"
   ]
  },
  {
   "cell_type": "markdown",
   "metadata": {},
   "source": [
    "### Classification of contaminated/missing explants"
   ]
  },
  {
   "cell_type": "markdown",
   "metadata": {},
   "source": [
    "Plates are cropped into sub-images for each explant and each is analyzed to determine if the explant position should be excluded from analysis due to being missing or contamination. Missing and contaminated explants are recognized using a trained Densenet model (<a href=\"https://github.com/Contamination-Classification/DenseNet\" target=\"_blank\">Huang, et al. 2018</a>). Our fork of the Densenet repository is available on <a href=\"https://arxiv.org/abs/1608.06993\" target=\"_blank\">GitHub</a>."
   ]
  },
  {
   "cell_type": "markdown",
   "metadata": {},
   "source": [
    "<img src=\"Figures/Densenet.png\">\n",
    "Figure: These are four examples of contaminated explants used in the training set for this pre-trained model"
   ]
  },
  {
   "cell_type": "markdown",
   "metadata": {},
   "source": [
    "To check the grid cropping dimensions, we can run the following script. Note that these are the dimensions to crop the image to after resizing to 2000x2000 (from 4000x4000 in the case of the *macroPhor Array)."
   ]
  },
  {
   "cell_type": "markdown",
   "metadata": {},
   "source": [
    "#### Prepare list of images"
   ]
  },
  {
   "cell_type": "code",
   "execution_count": 74,
   "metadata": {},
   "outputs": [
    {
     "name": "stdout",
     "output_type": "stream",
     "text": [
      "Missing explants will be inferred.?2004l\u001b[?2004l\u001b[?2004l\u001b[?2004l\u001b[?2004l\u001b[?2004l\n",
      "\u001b[?2004h"
     ]
    },
    {
     "ename": "",
     "evalue": "1",
     "output_type": "error",
     "traceback": []
    }
   ],
   "source": [
    "if [ $missing_explants = \"Automatic\" ]; then\n",
    "    echo \"Missing explants will be inferred.\"\n",
    "    cd $data\n",
    "    ls -d $PWD/* $data | grep -i \"rgb.jpg\" > rgb_list.txt\n",
    "    sed -i '/hroma/d' rgb_list.txt\n",
    "    img_list_path=\"${data}/rgb_list.txt\"\n",
    "else\n",
    "    echo \"Missing explants input manually by user, in file: \"\n",
    "    echo $missing_explants\n",
    "fi"
   ]
  },
  {
   "cell_type": "markdown",
   "metadata": {},
   "source": [
    "If the mode for missing explant data is automatic, prepare input file for script to detect missing explants and run this script."
   ]
  },
  {
   "cell_type": "markdown",
   "metadata": {},
   "source": [
    "#### Check dimensions for grid cropping"
   ]
  },
  {
   "cell_type": "markdown",
   "metadata": {},
   "source": [
    "The models to detect contamination and missing explants require a user input to define the pixel boundaries of the grid along which explants are placed. Note that currently, only the 12-explant grid is supported. To use other grids, contamination and missing explant data must be provided manually in a file formatted just like an output from this script."
   ]
  },
  {
   "cell_type": "markdown",
   "metadata": {},
   "source": [
    "When running `inference.py` to detect missing or contaminated explants, the user should provide dimensions for cropping down to the grid borders. Note, these dimensions apply after the image is rescaled to 2000x2000.\n",
    "- Default dimensions, used before the imager began to take \"off-center\" images, are (310, 515, 1750, 1610).\n",
    "- Dimensions for cropping for the off-center images are (260, 600, 1700, 1710). \n",
    "- New dimensions (275, 438, 1725, 1535) are for images taken after camera settings were re-centered.<br>\n",
    "\n",
    "We can test dimensions using the `--debug` option for `inference.py` as in the below code block. Next, we will run the same script in the regular mode to detect missing and contaminated explants using settled-upon cropping dimensions."
   ]
  },
  {
   "cell_type": "markdown",
   "metadata": {},
   "source": [
    "Uncomment and run this code block only if you wish to troubleshoot cropping."
   ]
  },
  {
   "cell_type": "code",
   "execution_count": 75,
   "metadata": {},
   "outputs": [
    {
     "name": "stdout",
     "output_type": "stream",
     "text": [
      "\u001b[?2004h\u001b[?2004l\u001b[?2004l\u001b[?2004l\u001b[?2004l\u001b[?2004l\u001b[?2004l\u001b[?2004l\u001b[?2004l"
     ]
    },
    {
     "ename": "",
     "evalue": "1",
     "output_type": "error",
     "traceback": []
    }
   ],
   "source": [
    "# if [ $missing_explants = \"Automatic\" ]; then\n",
    "#     cd $contamination_path\n",
    "#     conda activate densenet\n",
    "#     python inference.py --img-list=$img_list_path --crop_dims \"(275,438,1725,1535)\" --debug\n",
    "#     conda deactivate\n",
    "# else\n",
    "#     echo \"Missing explants input manually by user, in file: \"\n",
    "#     echo $missing_explants\n",
    "# fi"
   ]
  },
  {
   "cell_type": "markdown",
   "metadata": {},
   "source": [
    "The outputs will be saved in this folder and can be evaluated to check how well the cropping worked."
   ]
  },
  {
   "cell_type": "code",
   "execution_count": 76,
   "metadata": {},
   "outputs": [
    {
     "name": "stdout",
     "output_type": "stream",
     "text": [
      "\u001b[?2004h"
     ]
    },
    {
     "ename": "",
     "evalue": "1",
     "output_type": "error",
     "traceback": []
    }
   ],
   "source": [
    "# echo $contamination_path"
   ]
  },
  {
   "cell_type": "markdown",
   "metadata": {},
   "source": [
    "#### Infer contaminated/missing explants"
   ]
  },
  {
   "cell_type": "markdown",
   "metadata": {},
   "source": [
    "Dependencies include `keras-preprocessing`, `termcolor`,  `protobuf` and `absl-py`"
   ]
  },
  {
   "cell_type": "code",
   "execution_count": 81,
   "metadata": {},
   "outputs": [
    {
     "name": "stdout",
     "output_type": "stream",
     "text": [
      "\u001b[?2004h"
     ]
    },
    {
     "ename": "",
     "evalue": "1",
     "output_type": "error",
     "traceback": []
    }
   ],
   "source": [
    "missing_explants=\"Automatic\""
   ]
  },
  {
   "cell_type": "code",
   "execution_count": 82,
   "metadata": {
    "slideshow": {
     "slide_type": "slide"
    }
   },
   "outputs": [
    {
     "name": "stdout",
     "output_type": "stream",
     "text": [
      "Using TensorFlow backend.[?2004l\u001b[?2004l\u001b[?2004l\u001b[?2004l\u001b[?2004l\u001b[?2004l\u001b[?2004l\u001b[?2004l\u001b[?2004l\u001b[?2004l\u001b[?2004l\u001b[?2004l\u001b[?2004l\n",
      "WARNING:tensorflow:From /home/michael/anaconda3/envs/DenseNet/lib/python3.6/site-packages/tensorflow/python/ops/resource_variable_ops.py:435: colocate_with (from tensorflow.python.framework.ops) is deprecated and will be removed in a future version.\n",
      "Instructions for updating:\n",
      "Colocations handled automatically by placer.\n",
      "2021-11-22 15:17:50.075394: I tensorflow/core/platform/cpu_feature_guard.cc:141] Your CPU supports instructions that this TensorFlow binary was not compiled to use: SSE4.1 SSE4.2 AVX AVX2 FMA\n",
      "2021-11-22 15:17:50.095444: I tensorflow/core/platform/profile_utils/cpu_utils.cc:94] CPU Frequency: 3392130000 Hz\n",
      "2021-11-22 15:17:50.095854: I tensorflow/compiler/xla/service/service.cc:150] XLA service 0x55aaf4563ba0 executing computations on platform Host. Devices:\n",
      "2021-11-22 15:17:50.095878: I tensorflow/compiler/xla/service/service.cc:158]   StreamExecutor device (0): <undefined>, <undefined>\n",
      "Missing explants inferred by model and written to file:\n",
      "/media/michael/Elements_12//GWAS_Transformation/GTK/wk7//output.csv\n",
      "\u001b[?2004h"
     ]
    },
    {
     "ename": "",
     "evalue": "1",
     "output_type": "error",
     "traceback": []
    }
   ],
   "source": [
    "if [ $missing_explants = \"Automatic\" ]; then\n",
    "    cd $contamination_path\n",
    "    conda activate DenseNet\n",
    "    python -W ignore inference.py \\\n",
    "    --img-list=$img_list_path \\\n",
    "    --crop_dims $pre_aligned_resized_grid_borders \\\n",
    "    --output_file=output.csv >> $data/log_contam.txt\n",
    "    mv -f output.csv \"${data}/output.csv\"\n",
    "    missing_explants=\"${data}/output.csv\"\n",
    "    echo \"Missing explants inferred by model and written to file:\"\n",
    "    echo $missing_explants\n",
    "    conda deactivate\n",
    "else\n",
    "    echo \"Missing explants input manually by user, in file: \"\n",
    "    echo $missing_explants\n",
    "fi"
   ]
  },
  {
   "cell_type": "markdown",
   "metadata": {},
   "source": [
    "## Alignment of RGB and hyperspectral layers"
   ]
  },
  {
   "cell_type": "markdown",
   "metadata": {},
   "source": [
    "<div class=\"alert alert-block alert-info\"><b>Tip:</b> This section of the workflow must be run regardless of whether a homography matrix for alignment has been provided or will be generated.</div>"
   ]
  },
  {
   "cell_type": "markdown",
   "metadata": {},
   "source": [
    "To match the frame and angle of RGB and hyperspectral image layers, we apply a scale-invariant feature transformation (<a href=\"https://github.com/NSF-Image-alignment/ImageAlignment\" target=\"_blank\">GitHub</a>). Using a pair of standard images, a homography matrix is calculated for the necessary transformation of RGB images to align with hyperspectral images. The transformation can then be applied to large batches of images rapidly, as long as the RGB and hyperspectral cameras remain in the same positions relative to one another (as they do in the macroPhor Array platform)"
   ]
  },
  {
   "cell_type": "markdown",
   "metadata": {},
   "source": [
    "<img src=\"Figures/Alignment.png\">\n",
    "Figure: To enable precise calculation of a homography matrix for transformation of RGB images to match hyperspectral images, we used images of a piece of paper with grid marks. These images are provided by the user inputs to --hyper-img and --rgb-img in the below call to the alignment script. If using a phenotyping platform other than the macroPhor Array, or using updated camera settings, these variables will need to be replaced."
   ]
  },
  {
   "cell_type": "markdown",
   "metadata": {},
   "source": [
    "### Prepare file lists for alignment"
   ]
  },
  {
   "cell_type": "markdown",
   "metadata": {},
   "source": [
    "<div class=\"alert alert-block alert-info\"><b>Tip:</b> We will produce two lists: one for hyperspectral channels (chlorophyll peak channel) for each sample and another for the complementary RGB images. We will superimpose them and produce images for inspection, allowing the user to make sure the alignment works reliably for all images. However, it is possible to replace the hyperspectral channels for each image with a single file; this would run more quickly but be less useful for allowing the user to validate alignment results.</div>"
   ]
  },
  {
   "cell_type": "markdown",
   "metadata": {},
   "source": [
    "We need to produce a csv with two columns with headers `hyper_img` and `rgb_images`. For each RGB image being transformed in batch alignment (mode 2), we can test the alignment by producing superimposed images of the transformed RGB images together with a hyperspectral layer. The hyperspectral layer can either be for a grid (fast) or can be for a layer extracted from the hyperspectral image of each channel (slow, but useful for making sure a certain homography matrix works reliably to transform a batch of images)."
   ]
  },
  {
   "cell_type": "markdown",
   "metadata": {},
   "source": [
    "Let's first generate the list that will go into the column `rgb_images`"
   ]
  },
  {
   "cell_type": "code",
   "execution_count": 83,
   "metadata": {},
   "outputs": [
    {
     "name": "stdout",
     "output_type": "stream",
     "text": [
      "\u001b[?2004h\u001b[?2004l\u001b[?2004l\u001b[?2004l\u001b[?2004l\u001b[?2004l\u001b[?2004l\u001b[?2004l\u001b[?2004l"
     ]
    },
    {
     "ename": "",
     "evalue": "1",
     "output_type": "error",
     "traceback": []
    }
   ],
   "source": [
    "cd $data\n",
    "ls | grep -i 'rgb\\.jpg' > file_list_part1.csv\n",
    "ls | grep -i 'segment_uncropped\\.png' > file_list_part2.csv\n",
    "cat file_list_part* > file_list.csv\n",
    "# sed -i '/hroma/d' file_list.csv\n",
    "cwd2=$(pwd)/\n",
    "awk -v prefix=\"$cwd2\" '{print prefix $0}' file_list.csv > temp\n",
    "mv -f temp file_list.csv\n",
    "echo 'rgb_images' | cat - file_list.csv > temp && mv -f temp file_list.csv"
   ]
  },
  {
   "cell_type": "markdown",
   "metadata": {},
   "source": [
    "Now to modify the list going into the `rgb_images` column to produce the list of filenames for `hyper_img`:"
   ]
  },
  {
   "cell_type": "code",
   "execution_count": 84,
   "metadata": {},
   "outputs": [
    {
     "name": "stdout",
     "output_type": "stream",
     "text": [
      "\u001b[?2004h\u001b[?2004l\u001b[?2004l\u001b[?2004l"
     ]
    },
    {
     "ename": "",
     "evalue": "1",
     "output_type": "error",
     "traceback": []
    }
   ],
   "source": [
    "cp file_list.csv file_list_hyper_channel.csv\n",
    "sed -i 's/_rgb.jpg/_hyperchannel.csv/g' file_list_hyper_channel.csv\n",
    "sed -i 's/rgb_images/hyper_img/g' file_list_hyper_channel.csv\n",
    "sed -i 's/_segment_uncropped.png/_hyperchannel.csv/g' file_list_hyper_channel.csv\n"
   ]
  },
  {
   "cell_type": "markdown",
   "metadata": {},
   "source": [
    "Bind these columns together..."
   ]
  },
  {
   "cell_type": "code",
   "execution_count": 85,
   "metadata": {},
   "outputs": [
    {
     "name": "stdout",
     "output_type": "stream",
     "text": [
      "\u001b[?2004h"
     ]
    },
    {
     "ename": "",
     "evalue": "1",
     "output_type": "error",
     "traceback": []
    }
   ],
   "source": [
    "paste --delimiters=',' file_list_hyper_channel.csv file_list.csv > rgb_and_hyper_channel_lists.csv"
   ]
  },
  {
   "cell_type": "markdown",
   "metadata": {},
   "source": [
    "### Generate a homography matrix for alignment if one is not provided."
   ]
  },
  {
   "cell_type": "markdown",
   "metadata": {},
   "source": [
    "<div class=\"alert alert-block alert-info\"><b>Tip:</b> This section is only needed if a homography matrix has not been provided and must be generated. In this section, a hyperspectral channel is extracted from the standard to be used for alignment with the complementary RGB image.</div>"
   ]
  },
  {
   "cell_type": "markdown",
   "metadata": {},
   "source": [
    "If using this method, we should have RGB and hyperspectral images of a grid. Here, we will assume they have \"grid\" in their name and can be found in the same folder as the sample images."
   ]
  },
  {
   "cell_type": "markdown",
   "metadata": {},
   "source": [
    "We will generate a homography matrix for alignment of the grid images (RGB and hyperspectral) because these align more robustly than images of plants. We will then apply this homography matrix to alignment of all RGB plant images, so that they will align with the respective hyperspectral images. Note, for this approach to work the relative positions and angles of RGB/hyperspectral cameras must be the same for all image pairs."
   ]
  },
  {
   "cell_type": "code",
   "execution_count": 86,
   "metadata": {},
   "outputs": [
    {
     "name": "stdout",
     "output_type": "stream",
     "text": [
      "\u001b[?2004h"
     ]
    },
    {
     "ename": "",
     "evalue": "1",
     "output_type": "error",
     "traceback": []
    }
   ],
   "source": [
    "cd $data"
   ]
  },
  {
   "cell_type": "code",
   "execution_count": 87,
   "metadata": {},
   "outputs": [
    {
     "name": "stdout",
     "output_type": "stream",
     "text": [
      "Automatic\n",
      "\u001b[?2004h"
     ]
    },
    {
     "ename": "",
     "evalue": "1",
     "output_type": "error",
     "traceback": []
    }
   ],
   "source": [
    "echo $homography"
   ]
  },
  {
   "cell_type": "code",
   "execution_count": 96,
   "metadata": {},
   "outputs": [
    {
     "name": "stdout",
     "output_type": "stream",
     "text": [
      "\u001b[?2004h"
     ]
    },
    {
     "ename": "",
     "evalue": "1",
     "output_type": "error",
     "traceback": []
    }
   ],
   "source": [
    "homography=\"Automatic\""
   ]
  },
  {
   "cell_type": "code",
   "execution_count": 97,
   "metadata": {},
   "outputs": [
    {
     "name": "stdout",
     "output_type": "stream",
     "text": [
      "chromagrid_I5.0_F1.9_L100LED30_115945_0_0_0_rgb.jpg\n",
      "\u001b[?2004h"
     ]
    },
    {
     "ename": "",
     "evalue": "1",
     "output_type": "error",
     "traceback": []
    }
   ],
   "source": [
    "echo $grid_jpg"
   ]
  },
  {
   "cell_type": "code",
   "execution_count": 98,
   "metadata": {},
   "outputs": [
    {
     "name": "stdout",
     "output_type": "stream",
     "text": [
      "chromagrid_I5.0_F1.9_L100LED30_115945_0_0_0_Broadband.hdr chromagrid_I5.0_F1.9_L100LED30_115945_0_0_0_Fluorescence.hdr\n",
      "\u001b[?2004h"
     ]
    },
    {
     "ename": "",
     "evalue": "1",
     "output_type": "error",
     "traceback": []
    }
   ],
   "source": [
    "echo $grid_hdr"
   ]
  },
  {
   "cell_type": "code",
   "execution_count": 99,
   "metadata": {},
   "outputs": [
    {
     "name": "stdout",
     "output_type": "stream",
     "text": [
      "Homography matrix to be generated by alignment of:?2004l\u001b[?2004l\u001b[?2004l\u001b[?2004l\u001b[?2004l\u001b[?2004l\u001b[?2004l\u001b[?2004l\u001b[?2004l\u001b[?2004l\u001b[?2004l\u001b[?2004l\u001b[?2004l\u001b[?2004l\u001b[?2004l\u001b[?2004l\u001b[?2004l\u001b[?2004l\u001b[?2004l\u001b[?2004l\u001b[?2004l\u001b[?2004l\u001b[?2004l\u001b[?2004l\u001b[?2004l\u001b[?2004l\u001b[?2004l\u001b[?2004l\u001b[?2004l\n",
      "chromagrid_I5.0_F1.9_L100LED30_115945_0_0_0_Fluorescence.hdr\n",
      "chromagrid_I5.0_F1.9_L100LED30_115945_0_0_0_rgb.jpg\n",
      "Reading hyperspectral image /media/michael/Elements_12//GWAS_Transformation/GTK/wk7/chromagrid_I5.0_F1.9_L100LED30_115945_0_0_0_Fluorescence.hdr\n",
      "/home/michael/anaconda3/envs/test-environment/lib/python3.7/site-packages/spectral/io/envi.py:175: UserWarning: Parameters with non-lowercase names encountered and converted to lowercase. To retain source file parameter name capitalization, set spectral.settings.envi_support_nonlowercase_params to True.\n",
      "  warnings.warn(msg)\n",
      "Extracting channel at index 130\n",
      "Writing channel matrix to /media/michael/Elements_12//GWAS_Transformation/GTK/wk7/hypercube_to_csv.csv\n",
      "Making image for inspection and writing to /media/michael/Elements_12//GWAS_Transformation/GTK/wk7/hypercube_to_csv.jpg\n",
      "------------Preprocess is saved and finished.-------------------\n",
      "Homography : \n",
      " [[ 1.19841595e+00  4.93833775e-03 -1.15940561e+02]\n",
      " [-2.20761803e-03  1.00732998e+00 -9.77243740e+01]\n",
      " [ 5.74058043e-06  3.64173331e-06  1.00000000e+00]]\n",
      "\n",
      "Saving aligned image and homography matrix at:\n",
      "output/chromagrid_I5.0_F1.9_L100LED30_115945_0_0_0_rgb\n",
      "\u001b[?2004h"
     ]
    },
    {
     "ename": "",
     "evalue": "1",
     "output_type": "error",
     "traceback": []
    }
   ],
   "source": [
    "if [ $homography = \"Automatic\" ]; then\n",
    "    grid_hdr=$(ls $data | grep -i \"grid\" | grep -i \"Fluorescence.hdr\")\n",
    "    grid_jpg=$(ls $data | grep -i \"grid\" | grep -i \"rgb.jpg\")\n",
    "    echo \"Homography matrix to be generated by alignment of:\"\n",
    "    echo $grid_hdr\n",
    "    echo $grid_jpg\n",
    "    conda activate test-environment\n",
    "    cd $alignment_path\n",
    "    python hypercube_to_csv.py \\\n",
    "    $data$grid_hdr \\\n",
    "    700 \\\n",
    "    130 \\\n",
    "    $data\"hypercube_to_csv.csv\" \\\n",
    "    $data\"hypercube_to_csv.jpg\"\n",
    "    conda deactivate\n",
    "    aligned_grid=$(echo $grid_jpg | sed 's/rgb/rgb_aligned/g')\n",
    "    aligned_grid=${alignment_path}output/$aligned_grid\n",
    "    conda activate alignment\n",
    "    cd $alignment_path\n",
    "    python main.py \\\n",
    "    --hyper-img $data\"hypercube_to_csv.csv\" \\\n",
    "    --rgb-img $data$grid_jpg \\\n",
    "    --mode 1 \\\n",
    "    --image_thresh_high=120 \\\n",
    "    --image_thresh_low=50 \\\n",
    "    --distance=$distance \\\n",
    "    --gaussian_sigma=$gaussian_sigma\n",
    "    conda deactivate\n",
    "    homography=$(echo $grid_jpg | sed 's/\\.jpg/_homography.npy/g')\n",
    "    homography=${alignment_path}output/$homography\n",
    "    hypercube_csv=\"${data}hypercube_to_csv.csv\"\n",
    "else\n",
    "    echo \"Homography matrix provided by user at:\"\n",
    "    echo ${gmolabeler_path}output/$homography\n",
    "fi"
   ]
  },
  {
   "cell_type": "markdown",
   "metadata": {},
   "source": [
    "<div class=\"alert alert-block alert-info\"><b>Tip:</b> We can visualize the extracted hyperspectral channel to make sure there is a signal and everything looks good.</div>"
   ]
  },
  {
   "cell_type": "code",
   "execution_count": 105,
   "metadata": {},
   "outputs": [
    {
     "name": "stdout",
     "output_type": "stream",
     "text": [
      "/media/michael/Elements_12//GWAS_Transformation/GTK/wk7/hypercube_to_csv.jpg\n",
      "\u001b[?2004h"
     ]
    },
    {
     "ename": "",
     "evalue": "1",
     "output_type": "error",
     "traceback": []
    }
   ],
   "source": [
    "echo $data\"hypercube_to_csv.jpg\""
   ]
  },
  {
   "cell_type": "markdown",
   "metadata": {},
   "source": [
    "<div class=\"alert alert-block alert-info\"><b>Tip:</b> We can also inspect the alignment to make sure image layers stack and align well.</div>"
   ]
  },
  {
   "cell_type": "code",
   "execution_count": 111,
   "metadata": {},
   "outputs": [
    {
     "name": "stdout",
     "output_type": "stream",
     "text": [
      "/home/michael/ImageAlignment/output/chromagrid_I5.0_F1.9_L100LED30_115945_0_0_0_rgb_aligned.jpg\n",
      "\u001b[?2004h"
     ]
    },
    {
     "ename": "",
     "evalue": "1",
     "output_type": "error",
     "traceback": []
    }
   ],
   "source": [
    "echo $aligned_grid"
   ]
  },
  {
   "cell_type": "code",
   "execution_count": 109,
   "metadata": {},
   "outputs": [
    {
     "name": "stdout",
     "output_type": "stream",
     "text": [
      "output/{}\n",
      "\u001b[?2004h"
     ]
    },
    {
     "ename": "",
     "evalue": "1",
     "output_type": "error",
     "traceback": []
    }
   ],
   "source": [
    "echo \"output/{$aligned}\""
   ]
  },
  {
   "cell_type": "code",
   "execution_count": 114,
   "metadata": {},
   "outputs": [
    {
     "name": "stdout",
     "output_type": "stream",
     "text": [
      "bash_kernel: saved image data to: /tmp/bash_kernel.5THBsWII7V\n",
      "\u001b[?2004h"
     ]
    },
    {
     "ename": "",
     "evalue": "1",
     "output_type": "error",
     "traceback": []
    }
   ],
   "source": [
    "display < $aligned_grid"
   ]
  },
  {
   "cell_type": "code",
   "execution_count": 115,
   "metadata": {},
   "outputs": [
    {
     "name": "stdout",
     "output_type": "stream",
     "text": [
      "/home/michael/ImageAlignment/output/chromagrid_I5.0_F1.9_L100LED30_115945_0_0_0_rgb_aligned.jpg\n",
      "\u001b[?2004h"
     ]
    },
    {
     "ename": "",
     "evalue": "1",
     "output_type": "error",
     "traceback": []
    }
   ],
   "source": [
    "echo $aligned_grid"
   ]
  },
  {
   "cell_type": "markdown",
   "metadata": {},
   "source": [
    "### Generate `csv` of hyperspectral channel for every image in dataset"
   ]
  },
  {
   "cell_type": "markdown",
   "metadata": {},
   "source": [
    "This section is optional, along with the subsequent section. It is useful to *make sure* the alignment works reasonably well for every image, but it can be slow."
   ]
  },
  {
   "cell_type": "code",
   "execution_count": 116,
   "metadata": {},
   "outputs": [
    {
     "name": "stdout",
     "output_type": "stream",
     "text": [
      "\u001b[?2004h"
     ]
    },
    {
     "ename": "",
     "evalue": "1",
     "output_type": "error",
     "traceback": []
    }
   ],
   "source": [
    "hdr_files=$data/*.hdr"
   ]
  },
  {
   "cell_type": "code",
   "execution_count": 117,
   "metadata": {},
   "outputs": [
    {
     "name": "stdout",
     "output_type": "stream",
     "text": [
      "\u001b[?2004h(test-environment) \u001b[?2004l\u001b[?2004l\u001b[?2004l\u001b[?2004l\u001b[?2004l\u001b[?2004l\u001b[?2004l\u001b[?2004l\u001b[?2004l\u001b[?2004l\u001b[?2004l\u001b[?2004l\u001b[?2004l"
     ]
    },
    {
     "ename": "",
     "evalue": "1",
     "output_type": "error",
     "traceback": []
    }
   ],
   "source": [
    "cd $alignment_path\n",
    "conda activate test-environment\n",
    "for hdr_file in $hdr_files\n",
    "do\n",
    " csv_file=$(sed 's/Fluorescence.hdr/hyperchannel.csv/g' <<< $hdr_file)\n",
    " csv_file=$(sed 's/.hdr/_hyperchannel.csv/g' <<< $csv_file)\n",
    " csv_jpg=$(sed 's/csv/jpg/g' <<< $csv_file)\n",
    " python -W ignore hypercube_to_csv.py \\\n",
    " $hdr_file \\\n",
    " 300 \\\n",
    " 219 \\\n",
    " $csv_file \\\n",
    " $csv_jpg >> ${data}log_hypercube2csv.txt\n",
    "done\n",
    "conda deactivate"
   ]
  },
  {
   "cell_type": "markdown",
   "metadata": {},
   "source": [
    "### Run batch alignment to apply homography matrix to all images"
   ]
  },
  {
   "cell_type": "code",
   "execution_count": 118,
   "metadata": {},
   "outputs": [
    {
     "name": "stdout",
     "output_type": "stream",
     "text": [
      "\u001b[?2004h(alignment) \u001b[?2004l\u001b[?2004l\u001b[?2004l\u001b[?2004l\u001b[?2004l\u001b[?2004l\u001b[?2004l\u001b[?2004l\u001b[?2004l"
     ]
    },
    {
     "ename": "",
     "evalue": "1",
     "output_type": "error",
     "traceback": []
    }
   ],
   "source": [
    "conda activate alignment\n",
    "cd $alignment_path\n",
    "file_list_input=\"${data}/rgb_and_hyper_channel_lists.csv\"\n",
    "python main.py \\\n",
    "--hyper-img $hypercube_csv \\\n",
    "--img-csv $file_list_input \\\n",
    "--mode 2 \\\n",
    "--h_matrix_path $homography >> $data/log_alignment_mode2.txt\n",
    "conda deactivate\n",
    "conda deactivate"
   ]
  },
  {
   "cell_type": "markdown",
   "metadata": {},
   "source": [
    "## Cross-analyze deep segmentation and regression results"
   ]
  },
  {
   "cell_type": "markdown",
   "metadata": {},
   "source": [
    "Scripts in the <a href=\"https://github.com/naglemi/GMOlabeler\" target=\"_blank\">GMOlabeler repository</a> are used to cross-reference results from deep segmentation of RGB images and regression of hyperspectral imaging, apply thresholding parameters to classify tissues as transgenic or escapes, and produce plots."
   ]
  },
  {
   "cell_type": "markdown",
   "metadata": {},
   "source": [
    "<img src=\"Figures/GMOlabeler.png\">"
   ]
  },
  {
   "cell_type": "markdown",
   "metadata": {},
   "source": [
    "Figure: The various steps of data processing in GMOlabeler are illustrated for an example explant from an experiment on CIM optimization for cottonwood. Images of plates are cropped to a sub-image for each explant. RGB segmentation results and hyperspectral regression results are cross-referenced to calculate fluorecent proteins in specific tissues and infer whether these tissues are transgenic."
   ]
  },
  {
   "cell_type": "markdown",
   "metadata": {},
   "source": [
    "### Prepare sample datasheet input"
   ]
  },
  {
   "cell_type": "markdown",
   "metadata": {},
   "source": [
    "Prepare input file we will use for making plots. This file contains paths to CLS results, RGB images, and hyperspectral images."
   ]
  },
  {
   "cell_type": "code",
   "execution_count": 120,
   "metadata": {},
   "outputs": [
    {
     "name": "stdout",
     "output_type": "stream",
     "text": [
      "[1] \"”2021-11-19”\"r) \u001b[?2004l\u001b[?2004l\u001b[?2004l\u001b[?2004l\u001b[?2004l\u001b[?2004l\n",
      "[1] \"Looking for CLS data in: /home/michael/data/gmodetector_out//GWAS_Transformation/GTK/wk7//\"\n",
      "[1] \"2021-11-19\"\n",
      "[1] \"Looking for CLS files in directory /home/michael/data/gmodetector_out//GWAS_Transformation/GTK/wk7//\"\n",
      "[1] \"How many CLS files? 252\"\n",
      "[1] \"We will only include in analysis the FINAL of multiple images for GTK12_2_6\"\n",
      "[1] \"We will only include in analysis the FINAL of multiple images for GTK12_2_5\"\n",
      "[1] \"We will only include in analysis the FINAL of multiple images for GTK4_1_4\"\n",
      "[1] \"We will only include in analysis the FINAL of multiple images for GTK3_1_0\"\n",
      "[1] \"Writing 248 rows to /media/michael/Elements_12//GWAS_Transformation/GTK/wk7///samples_pre_labeling.csv\"\n",
      "\u001b[?2004h(gmolabeler) \u001b[?2004l"
     ]
    },
    {
     "ename": "",
     "evalue": "1",
     "output_type": "error",
     "traceback": []
    }
   ],
   "source": [
    "conda activate gmolabeler\n",
    "cd \"${cwd}/intermediates/\"\n",
    "Rscript pre_label.R \\\n",
    "-r \"${data}/\" \\\n",
    "-R \"${output_directory_prefix}\" \\\n",
    "-i 1 \\\n",
    "-d $datestamp\n",
    "conda deactivate"
   ]
  },
  {
   "cell_type": "markdown",
   "metadata": {},
   "source": [
    "### Cross-reference RGB and hyperspectral data"
   ]
  },
  {
   "cell_type": "markdown",
   "metadata": {},
   "source": [
    "On 1/11/20, we altered `gmolabeler` to accept user-defined borders of the grid box, rather than hardcoding these borders in for specific grids with 12 or 20 explants. Thus, if providing `grid_borders`, `grid` can be left as `None`, or vice versa. To determine the borders, open the *aligned* grid file in a GUI like GIMP or Microsoft Paint and use the crosshairs to find the pixel positions of each border. These are then provided through the `grid_borders` parameter in order \"top bottom right left\"."
   ]
  },
  {
   "cell_type": "markdown",
   "metadata": {},
   "source": [
    "Some notes on grid copping parameters:\n",
    "- Submit a space-delimited string with parameters for borders of grid as \"left right bottom top\"\n",
    "- For FAA wk3, use parameters \"139 1580 1250 312\"\n",
    "- For FAA wk7 and FAD wk7, use \"156 1600 1280 335\"\n",
    "- For all images taken after re-centering of camera settings on 1/18/21, use \"152 1592 1200 260\" if images are of high resolution (2GB hyperspectral files) or \"110 1356 1168 222\" if of normal resolution (1.3GB hyperspectral files)"
   ]
  },
  {
   "cell_type": "code",
   "execution_count": 121,
   "metadata": {},
   "outputs": [
    {
     "name": "stdout",
     "output_type": "stream",
     "text": [
      "/media/michael/Elements_12//GWAS_Transformation/GTK/wk7//samples_pre_labeling.csv\n",
      "\u001b[?2004h"
     ]
    },
    {
     "ename": "",
     "evalue": "1",
     "output_type": "error",
     "traceback": []
    }
   ],
   "source": [
    "echo ${data}/samples_pre_labeling.csv"
   ]
  },
  {
   "cell_type": "code",
   "execution_count": 122,
   "metadata": {},
   "outputs": [
    {
     "name": "stdout",
     "output_type": "stream",
     "text": [
      "/home/michael/ImageAlignment/output/chromagrid_I5.0_F1.9_L100LED30_115945_0_0_0_rgb_aligned.jpg\n",
      "\u001b[?2004h"
     ]
    },
    {
     "ename": "",
     "evalue": "1",
     "output_type": "error",
     "traceback": []
    }
   ],
   "source": [
    "echo $aligned_grid"
   ]
  },
  {
   "cell_type": "code",
   "execution_count": 127,
   "metadata": {},
   "outputs": [
    {
     "name": "stdout",
     "output_type": "stream",
     "text": [
      "/home/michael/GMOlabeler/main.py:361: RuntimeWarning: Mean of empty slice.04l\u001b[?2004l\u001b[?2004l\u001b[?2004l\n",
      "  mean = CLS_data[CLS_data!=0].mean()\n",
      "/home/michael/anaconda3/envs/gmolabeler/lib/python3.9/site-packages/numpy/core/_methods.py:189: RuntimeWarning: invalid value encountered in double_scalars\n",
      "  ret = ret.dtype.type(ret / rcount)\n",
      "Error! There is no data in this CLS matrix.\n",
      "\u001b[?2004h(gmolabeler) \u001b[?2004l"
     ]
    },
    {
     "ename": "",
     "evalue": "1",
     "output_type": "error",
     "traceback": []
    }
   ],
   "source": [
    "conda activate gmolabeler\n",
    "cd $gmolabeler_path\n",
    "python main.py \\\n",
    "\"${data}/samples_pre_labeling.csv\" \\\n",
    "$aligned_grid \\\n",
    "$reporter_threshold \\\n",
    "$reporter \\\n",
    "$grid \\\n",
    "\"hdf\" \\\n",
    "$gmolabeler_path \\\n",
    "\"$aligned_grid_borders\" > $data/log_gmolabeler.txt\n",
    "conda deactivate"
   ]
  },
  {
   "cell_type": "code",
   "execution_count": 129,
   "metadata": {},
   "outputs": [
    {
     "name": "stdout",
     "output_type": "stream",
     "text": [
      "Grid type 12\n",
      "Loading plate 0 of 248\n",
      "/media/michael/Elements_12//GWAS_Transformation/GTK/wk7///GTK15_I5.0_F1.9_L100LED30_213247_9_1_0_segment_uncropped_processed.png\n",
      "Plate segment loaded\n",
      "Plate RGB loaded\n",
      "Loading CLS data from path/home/michael/data/gmodetector_out//GWAS_Transformation/GTK/wk7///GTK15_I5.0_F1.9_L100LED30_213247_9_1_0_Fluorescence_weights.hdf\n",
      "Loading plate 1 of 248\n",
      "/media/michael/Elements_12//GWAS_Transformation/GTK/wk7///GTK15_I5.0_F1.9_L100LED30_213108_8_1_3_segment_uncropped_processed.png\n",
      "Plate segment loaded\n",
      "Plate RGB loaded\n",
      "Loading CLS data from path/home/michael/data/gmodetector_out//GWAS_Transformation/GTK/wk7///GTK15_I5.0_F1.9_L100LED30_213108_8_1_3_Fluorescence_weights.hdf\n",
      "Loading plate 2 of 248\n",
      "/media/michael/Elements_12//GWAS_Transformation/GTK/wk7///GTK15_I5.0_F1.9_L100LED30_212931_7_1_4_segment_uncropped_processed.png\n",
      "Plate segment loaded\n",
      "Plate RGB loaded\n",
      "Loading CLS data from path/home/michael/data/gmodetector_out//GWAS_Transformation/GTK/wk7///GTK15_I5.0_F1.9_L100LED30_212931_7_1_4_Fluorescence_weights.hdf\n",
      "Loading plate 3 of 248\n",
      "/media/michael/Elements_12//GWAS_Transformation/GTK/wk7///GTK15_I5.0_F1.9_L100LED30_212751_6_1_5_segment_uncropped_processed.png\n",
      "Plate segment loaded\n",
      "Plate RGB loaded\n",
      "Loading CLS data from path/home/michael/data/gmodetector_out//GWAS_Transformation/GTK/wk7///GTK15_I5.0_F1.9_L100LED30_212751_6_1_5_Fluorescence_weights.hdf\n",
      "Loading plate 4 of 248\n",
      "/media/michael/Elements_12//GWAS_Transformation/GTK/wk7///GTK15_I5.0_F1.9_L100LED30_212623_5_1_6_segment_uncropped_processed.png\n",
      "Plate segment loaded\n",
      "Plate RGB loaded\n",
      "Loading CLS data from path/home/michael/data/gmodetector_out//GWAS_Transformation/GTK/wk7///GTK15_I5.0_F1.9_L100LED30_212623_5_1_6_Fluorescence_weights.hdf\n",
      "Loading plate 5 of 248\n",
      "/media/michael/Elements_12//GWAS_Transformation/GTK/wk7///GTK15_I5.0_F1.9_L100LED30_212435_4_0_6_segment_uncropped_processed.png\n",
      "Plate segment loaded\n",
      "Plate RGB loaded\n",
      "Loading CLS data from path/home/michael/data/gmodetector_out//GWAS_Transformation/GTK/wk7///GTK15_I5.0_F1.9_L100LED30_212435_4_0_6_Fluorescence_weights.hdf\n",
      "Loading plate 6 of 248\n",
      "/media/michael/Elements_12//GWAS_Transformation/GTK/wk7///GTK15_I5.0_F1.9_L100LED30_212252_3_0_3_segment_uncropped_processed.png\n",
      "Plate segment loaded\n",
      "Plate RGB loaded\n",
      "Loading CLS data from path/home/michael/data/gmodetector_out//GWAS_Transformation/GTK/wk7///GTK15_I5.0_F1.9_L100LED30_212252_3_0_3_Fluorescence_weights.hdf\n",
      "Loading plate 7 of 248\n",
      "/media/michael/Elements_12//GWAS_Transformation/GTK/wk7///GTK15_I5.0_F1.9_L100LED30_212114_2_0_2_segment_uncropped_processed.png\n",
      "Plate segment loaded\n",
      "Plate RGB loaded\n",
      "Loading CLS data from path/home/michael/data/gmodetector_out//GWAS_Transformation/GTK/wk7///GTK15_I5.0_F1.9_L100LED30_212114_2_0_2_Fluorescence_weights.hdf\n",
      "Loading plate 8 of 248\n",
      "/media/michael/Elements_12//GWAS_Transformation/GTK/wk7///GTK15_I5.0_F1.9_L100LED30_211941_1_0_1_segment_uncropped_processed.png\n",
      "Plate segment loaded\n",
      "Plate RGB loaded\n",
      "Loading CLS data from path/home/michael/data/gmodetector_out//GWAS_Transformation/GTK/wk7///GTK15_I5.0_F1.9_L100LED30_211941_1_0_1_Fluorescence_weights.hdf\n",
      "Loading plate 9 of 248\n",
      "/media/michael/Elements_12//GWAS_Transformation/GTK/wk7///GTK15_I5.0_F1.9_L100LED30_211814_0_0_0_segment_uncropped_processed.png\n",
      "Plate segment loaded\n",
      "Plate RGB loaded\n",
      "Loading CLS data from path/home/michael/data/gmodetector_out//GWAS_Transformation/GTK/wk7///GTK15_I5.0_F1.9_L100LED30_211814_0_0_0_Fluorescence_weights.hdf\n",
      "Loading plate 10 of 248\n",
      "/media/michael/Elements_12//GWAS_Transformation/GTK/wk7///GTK14_I5.0_F1.9_L100LED30_211122_6_2_6_segment_uncropped_processed.png\n",
      "Plate segment loaded\n",
      "Plate RGB loaded\n",
      "Loading CLS data from path/home/michael/data/gmodetector_out//GWAS_Transformation/GTK/wk7///GTK14_I5.0_F1.9_L100LED30_211122_6_2_6_Fluorescence_weights.hdf\n",
      "Loading plate 11 of 248\n",
      "/media/michael/Elements_12//GWAS_Transformation/GTK/wk7///GTK14_I5.0_F1.9_L100LED30_210947_5_2_5_segment_uncropped_processed.png\n",
      "Plate segment loaded\n",
      "Plate RGB loaded\n",
      "Loading CLS data from path/home/michael/data/gmodetector_out//GWAS_Transformation/GTK/wk7///GTK14_I5.0_F1.9_L100LED30_210947_5_2_5_Fluorescence_weights.hdf\n",
      "Loading plate 12 of 248\n",
      "/media/michael/Elements_12//GWAS_Transformation/GTK/wk7///GTK14_I5.0_F1.9_L100LED30_210809_4_2_4_segment_uncropped_processed.png\n",
      "Plate segment loaded\n",
      "Plate RGB loaded\n",
      "Loading CLS data from path/home/michael/data/gmodetector_out//GWAS_Transformation/GTK/wk7///GTK14_I5.0_F1.9_L100LED30_210809_4_2_4_Fluorescence_weights.hdf\n",
      "Loading plate 13 of 248\n",
      "/media/michael/Elements_12//GWAS_Transformation/GTK/wk7///GTK14_I5.0_F1.9_L100LED30_210631_3_2_3_segment_uncropped_processed.png\n",
      "Plate segment loaded\n",
      "Plate RGB loaded\n",
      "Loading CLS data from path/home/michael/data/gmodetector_out//GWAS_Transformation/GTK/wk7///GTK14_I5.0_F1.9_L100LED30_210631_3_2_3_Fluorescence_weights.hdf\n",
      "Loading plate 14 of 248\n",
      "/media/michael/Elements_12//GWAS_Transformation/GTK/wk7///GTK14_I5.0_F1.9_L100LED30_210456_2_2_2_segment_uncropped_processed.png\n",
      "Plate segment loaded\n",
      "Plate RGB loaded\n",
      "Loading CLS data from path/home/michael/data/gmodetector_out//GWAS_Transformation/GTK/wk7///GTK14_I5.0_F1.9_L100LED30_210456_2_2_2_Fluorescence_weights.hdf\n",
      "Loading plate 15 of 248\n",
      "/media/michael/Elements_12//GWAS_Transformation/GTK/wk7///GTK14_I5.0_F1.9_L100LED30_210320_1_2_1_segment_uncropped_processed.png\n",
      "Plate segment loaded\n",
      "Plate RGB loaded\n",
      "Loading CLS data from path/home/michael/data/gmodetector_out//GWAS_Transformation/GTK/wk7///GTK14_I5.0_F1.9_L100LED30_210320_1_2_1_Fluorescence_weights.hdf\n",
      "Loading plate 16 of 248\n",
      "/media/michael/Elements_12//GWAS_Transformation/GTK/wk7///GTK14_I5.0_F1.9_L100LED30_210140_0_2_0_segment_uncropped_processed.png\n",
      "Plate segment loaded\n",
      "Plate RGB loaded\n",
      "Loading CLS data from path/home/michael/data/gmodetector_out//GWAS_Transformation/GTK/wk7///GTK14_I5.0_F1.9_L100LED30_210140_0_2_0_Fluorescence_weights.hdf\n",
      "\u001b[?2004h"
     ]
    },
    {
     "ename": "",
     "evalue": "1",
     "output_type": "error",
     "traceback": []
    }
   ],
   "source": [
    "cat $data/log_gmolabeler.txt"
   ]
  },
  {
   "cell_type": "markdown",
   "metadata": {},
   "source": [
    "### Calculate sums of statistics over combined segments"
   ]
  },
  {
   "cell_type": "markdown",
   "metadata": {},
   "source": [
    "We are interested in all regenerated tissue (callus + shoot) as well as all tissue (including stem as well). We will calculate aggregate statistics over these groups."
   ]
  },
  {
   "cell_type": "code",
   "execution_count": null,
   "metadata": {},
   "outputs": [],
   "source": [
    "conda activate gmolabeler\n",
    "Rscript calculate_sum_stats_over_combined_segments.R \\\n",
    "--output_dir \"${gmolabeler_path}/output/\" \\\n",
    "--datapath \"${data_folder}/\"\n",
    "conda deactivate"
   ]
  },
  {
   "cell_type": "markdown",
   "metadata": {},
   "source": [
    "### Make plots of results"
   ]
  },
  {
   "cell_type": "code",
   "execution_count": null,
   "metadata": {
    "scrolled": true
   },
   "outputs": [],
   "source": [
    "conda activate gmolabeler\n",
    "cd $gmolabeler_path\n",
    "Rscript grid_item_plots.R \\\n",
    "-d \"${data_folder}/\" \\\n",
    "-r \"$randomization_datasheet\" \\\n",
    "-p $pixel_threshold \\\n",
    "-v categorical \\\n",
    "-m 1 \\\n",
    "-M $missing_explants \\\n",
    "-g $grid \\\n",
    "--sort 1 \\\n",
    "--height $height \\\n",
    "--width $width\n",
    "conda deactivate"
   ]
  },
  {
   "cell_type": "markdown",
   "metadata": {},
   "source": [
    "## Email plots to user"
   ]
  },
  {
   "cell_type": "markdown",
   "metadata": {},
   "source": [
    "### ZIP results"
   ]
  },
  {
   "cell_type": "code",
   "execution_count": null,
   "metadata": {},
   "outputs": [],
   "source": [
    "echo \"${gmolabeler_path}/plots${data_folder}\""
   ]
  },
  {
   "cell_type": "code",
   "execution_count": null,
   "metadata": {},
   "outputs": [],
   "source": [
    "cd \"${gmolabeler_path}/plots/${data_folder}\""
   ]
  },
  {
   "cell_type": "code",
   "execution_count": null,
   "metadata": {},
   "outputs": [],
   "source": [
    "rm -f ./plants_over_plates.csv"
   ]
  },
  {
   "cell_type": "code",
   "execution_count": null,
   "metadata": {},
   "outputs": [],
   "source": [
    "echo ${gmolabeler_path}/output/${data_folder}/"
   ]
  },
  {
   "cell_type": "code",
   "execution_count": null,
   "metadata": {},
   "outputs": [],
   "source": [
    "cp \"${gmolabeler_path}/output/${data_folder}/plants_over_plates.csv\" ./"
   ]
  },
  {
   "cell_type": "code",
   "execution_count": null,
   "metadata": {},
   "outputs": [],
   "source": [
    "cp \"${gmolabeler_path}/output/${data_folder}/stats_with_sums_over_tissues.csv\" ./"
   ]
  },
  {
   "cell_type": "code",
   "execution_count": null,
   "metadata": {},
   "outputs": [],
   "source": [
    "#cd $data"
   ]
  },
  {
   "cell_type": "code",
   "execution_count": null,
   "metadata": {},
   "outputs": [],
   "source": [
    "rm -f Rplots.pdf"
   ]
  },
  {
   "cell_type": "code",
   "execution_count": null,
   "metadata": {},
   "outputs": [],
   "source": [
    "cd ../"
   ]
  },
  {
   "cell_type": "markdown",
   "metadata": {},
   "source": [
    "This messy substitution is explained here: https://superuser.com/questions/1068031/replace-backslash-with-forward-slash-in-a-variable-in-bash"
   ]
  },
  {
   "cell_type": "code",
   "execution_count": null,
   "metadata": {},
   "outputs": [],
   "source": [
    "data_folder_Compress=\"${data_folder////-}.zip\"\n",
    "data_folder_Compress=${data_folder_Compress#?};"
   ]
  },
  {
   "cell_type": "code",
   "execution_count": null,
   "metadata": {},
   "outputs": [],
   "source": [
    "echo $data_folder"
   ]
  },
  {
   "cell_type": "code",
   "execution_count": null,
   "metadata": {},
   "outputs": [],
   "source": [
    "echo $data_folder_Compress"
   ]
  },
  {
   "cell_type": "code",
   "execution_count": null,
   "metadata": {},
   "outputs": [],
   "source": [
    "pwd"
   ]
  },
  {
   "cell_type": "code",
   "execution_count": null,
   "metadata": {},
   "outputs": [],
   "source": [
    "cd $timepoint"
   ]
  },
  {
   "cell_type": "code",
   "execution_count": null,
   "metadata": {},
   "outputs": [],
   "source": [
    "ls"
   ]
  },
  {
   "cell_type": "code",
   "execution_count": null,
   "metadata": {},
   "outputs": [],
   "source": [
    "cd $timepoint\n",
    "zip -r $data_folder_Compress ./*"
   ]
  },
  {
   "cell_type": "markdown",
   "metadata": {},
   "source": [
    "### Write email"
   ]
  },
  {
   "cell_type": "code",
   "execution_count": null,
   "metadata": {},
   "outputs": [],
   "source": [
    "duration=$(( SECONDS - start ))"
   ]
  },
  {
   "cell_type": "markdown",
   "metadata": {},
   "source": [
    "https://unix.stackexchange.com/questions/53841/how-to-use-a-timer-in-bash"
   ]
  },
  {
   "cell_type": "code",
   "execution_count": null,
   "metadata": {},
   "outputs": [],
   "source": [
    "rm -f \"${gmolabeler_path}/email_to_send.txt\"\n",
    "cp \"${gmolabeler_path}/email_to_send_template.txt\" \"${gmolabeler_path}/email_to_send.txt\""
   ]
  },
  {
   "cell_type": "code",
   "execution_count": null,
   "metadata": {},
   "outputs": [],
   "source": [
    "echo \"\" >> \"${gmolabeler_path}/email_to_send.txt\"\n",
    "echo \"Number of samples run: \" >> \"${gmolabeler_path}/email_to_send.txt\""
   ]
  },
  {
   "cell_type": "code",
   "execution_count": null,
   "metadata": {},
   "outputs": [],
   "source": [
    "cat \"${data}/test.csv\" | wc -l >> \"${gmolabeler_path}/email_to_send.txt\"\n",
    "echo \"\" >> \"${gmolabeler_path}/email_to_send.txt\""
   ]
  },
  {
   "cell_type": "code",
   "execution_count": null,
   "metadata": {},
   "outputs": [],
   "source": [
    "if (( $SECONDS > 3600 )) ; then\n",
    "    let \"hours=SECONDS/3600\"\n",
    "    let \"minutes=(SECONDS%3600)/60\"\n",
    "    let \"seconds=(SECONDS%3600)%60\"\n",
    "    echo \"Completed in $hours hour(s), $minutes minute(s) and $seconds second(s)\" >> \"${gmolabeler_path}/email_to_send.txt\"\n",
    "elif (( $SECONDS > 60 )) ; then\n",
    "    let \"minutes=(SECONDS%3600)/60\"\n",
    "    let \"seconds=(SECONDS%3600)%60\"\n",
    "    echo \"Completed in $minutes minute(s) and $seconds second(s)\" >> \"${gmolabeler_path}/email_to_send.txt\"\n",
    "else\n",
    "    echo \"Completed in $SECONDS seconds\" >> \"${gmolabeler_path}/email_to_send.txt\"\n",
    "fi"
   ]
  },
  {
   "cell_type": "code",
   "execution_count": null,
   "metadata": {},
   "outputs": [],
   "source": [
    "echo \"\" >> \"${gmolabeler_path}/email_to_send.txt\""
   ]
  },
  {
   "cell_type": "markdown",
   "metadata": {},
   "source": [
    "### Send email with results to user"
   ]
  },
  {
   "cell_type": "code",
   "execution_count": null,
   "metadata": {},
   "outputs": [],
   "source": [
    "pwd"
   ]
  },
  {
   "cell_type": "code",
   "execution_count": null,
   "metadata": {},
   "outputs": [],
   "source": [
    "conda deactivate"
   ]
  },
  {
   "cell_type": "code",
   "execution_count": null,
   "metadata": {},
   "outputs": [],
   "source": [
    "mail -a $data_folder_Compress -s $data_folder $email < \"${gmolabeler_path}/email_to_send.txt\""
   ]
  },
  {
   "cell_type": "code",
   "execution_count": null,
   "metadata": {},
   "outputs": [],
   "source": [
    "du -sh $data_folder_Compress"
   ]
  },
  {
   "cell_type": "code",
   "execution_count": null,
   "metadata": {},
   "outputs": [],
   "source": [
    "cat \"${gmolabeler_path}/email_to_send.txt\""
   ]
  },
  {
   "cell_type": "markdown",
   "metadata": {},
   "source": [
    "Time workflow ends:"
   ]
  },
  {
   "cell_type": "code",
   "execution_count": null,
   "metadata": {},
   "outputs": [],
   "source": [
    "echo $(date)"
   ]
  },
  {
   "cell_type": "code",
   "execution_count": null,
   "metadata": {},
   "outputs": [],
   "source": []
  },
  {
   "cell_type": "code",
   "execution_count": null,
   "metadata": {},
   "outputs": [],
   "source": []
  },
  {
   "cell_type": "code",
   "execution_count": null,
   "metadata": {},
   "outputs": [],
   "source": []
  },
  {
   "cell_type": "code",
   "execution_count": null,
   "metadata": {},
   "outputs": [],
   "source": []
  },
  {
   "cell_type": "code",
   "execution_count": null,
   "metadata": {},
   "outputs": [],
   "source": []
  },
  {
   "cell_type": "code",
   "execution_count": null,
   "metadata": {},
   "outputs": [],
   "source": []
  },
  {
   "cell_type": "code",
   "execution_count": null,
   "metadata": {},
   "outputs": [],
   "source": []
  },
  {
   "cell_type": "code",
   "execution_count": null,
   "metadata": {},
   "outputs": [],
   "source": []
  },
  {
   "cell_type": "code",
   "execution_count": null,
   "metadata": {},
   "outputs": [],
   "source": []
  },
  {
   "cell_type": "code",
   "execution_count": null,
   "metadata": {},
   "outputs": [],
   "source": []
  },
  {
   "cell_type": "code",
   "execution_count": null,
   "metadata": {},
   "outputs": [],
   "source": []
  },
  {
   "cell_type": "code",
   "execution_count": null,
   "metadata": {},
   "outputs": [],
   "source": []
  },
  {
   "cell_type": "code",
   "execution_count": null,
   "metadata": {},
   "outputs": [],
   "source": []
  },
  {
   "cell_type": "code",
   "execution_count": null,
   "metadata": {},
   "outputs": [],
   "source": []
  },
  {
   "cell_type": "code",
   "execution_count": null,
   "metadata": {},
   "outputs": [],
   "source": []
  },
  {
   "cell_type": "code",
   "execution_count": null,
   "metadata": {},
   "outputs": [],
   "source": []
  },
  {
   "cell_type": "code",
   "execution_count": null,
   "metadata": {},
   "outputs": [],
   "source": []
  }
 ],
 "metadata": {
  "kernelspec": {
   "display_name": "Bash",
   "language": "bash",
   "name": "bash"
  },
  "language_info": {
   "codemirror_mode": "shell",
   "file_extension": ".sh",
   "mimetype": "text/x-sh",
   "name": "bash"
  },
  "toc-autonumbering": true
 },
 "nbformat": 4,
 "nbformat_minor": 4
}
