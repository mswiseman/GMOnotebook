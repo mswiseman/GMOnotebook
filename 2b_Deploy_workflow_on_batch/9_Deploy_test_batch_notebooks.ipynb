{
 "cells": [
  {
   "cell_type": "code",
   "execution_count": 1,
   "id": "35dd9337-a9a6-472b-a5b5-d60ae8c369ad",
   "metadata": {},
   "outputs": [],
   "source": [
    "import papermill as pm\n",
    "import os\n",
    "import glob\n",
    "import time"
   ]
  },
  {
   "cell_type": "code",
   "execution_count": 2,
   "id": "0d816165-3378-4ea6-9bc5-abd2dd0c887c",
   "metadata": {},
   "outputs": [],
   "source": [
    "os.chdir(\"8-OUT_Big-batch_notebooks/\")"
   ]
  },
  {
   "cell_type": "code",
   "execution_count": 3,
   "id": "8bd65f1d-b8ce-4d94-a8b3-3d796923e385",
   "metadata": {},
   "outputs": [],
   "source": [
    "notebooks = glob.glob(\"./*.ipynb\")"
   ]
  },
  {
   "cell_type": "code",
   "execution_count": 4,
   "id": "d3b46b0b-5492-434a-bd38-82183d8b51f4",
   "metadata": {},
   "outputs": [],
   "source": [
    "notebooks = [x for x in notebooks if \"out\" not in x]"
   ]
  },
  {
   "cell_type": "code",
   "execution_count": 7,
   "id": "3cb664e5-3f03-4c00-9580-a636e5348bc4",
   "metadata": {},
   "outputs": [
    {
     "data": {
      "text/plain": [
       "['./GTD_wk3_test-batch_v0.61.ipynb',\n",
       " './GTD_wk10_test-batch_v0.61.ipynb',\n",
       " './GTD_wk7_test-batch_v0.61.ipynb']"
      ]
     },
     "execution_count": 7,
     "metadata": {},
     "output_type": "execute_result"
    }
   ],
   "source": [
    "[notebooks[125], notebooks[127], notebooks[128]]"
   ]
  },
  {
   "cell_type": "code",
   "execution_count": 5,
   "id": "e58ec900-1849-4fa0-9aaa-0fff9c6844b0",
   "metadata": {},
   "outputs": [
    {
     "data": {
      "text/plain": [
       "'./GTLL_wk7_test-batch_v0.61.ipynb'"
      ]
     },
     "execution_count": 5,
     "metadata": {},
     "output_type": "execute_result"
    }
   ],
   "source": [
    "notebooks[56]"
   ]
  },
  {
   "cell_type": "code",
   "execution_count": 6,
   "id": "effa4cff-4eac-4066-b225-5be41b2e3b57",
   "metadata": {},
   "outputs": [
    {
     "data": {
      "text/plain": [
       "'./GTAA_wk3_test-batch_v0.61_out.ipynb'"
      ]
     },
     "execution_count": 6,
     "metadata": {},
     "output_type": "execute_result"
    }
   ],
   "source": [
    "notebooks[0].replace(\".ipynb\", \"_out.ipynb\")"
   ]
  },
  {
   "cell_type": "markdown",
   "id": "4891bac6-6c9f-4450-b7f2-21e1ddeaa4b1",
   "metadata": {},
   "source": [
    "This one freezing halfway through..."
   ]
  },
  {
   "cell_type": "code",
   "execution_count": 7,
   "id": "79a24615-5449-4357-861c-4e79b41b33c2",
   "metadata": {},
   "outputs": [
    {
     "data": {
      "text/plain": [
       "'./GTLL_wk7_test-batch_v0.61.ipynb'"
      ]
     },
     "execution_count": 7,
     "metadata": {},
     "output_type": "execute_result"
    }
   ],
   "source": [
    "notebooks[56]"
   ]
  },
  {
   "cell_type": "markdown",
   "id": "ecf86e51-80a4-4ff2-a2dc-fa4053d33baf",
   "metadata": {},
   "source": [
    "This one too..."
   ]
  },
  {
   "cell_type": "code",
   "execution_count": 8,
   "id": "0b8aab97-5dc3-4a74-be7d-42a2288e7da7",
   "metadata": {},
   "outputs": [
    {
     "data": {
      "text/plain": [
       "'./GTNN_wk3_test-batch_v0.61.ipynb'"
      ]
     },
     "execution_count": 8,
     "metadata": {},
     "output_type": "execute_result"
    }
   ],
   "source": [
    "notebooks[61]"
   ]
  },
  {
   "cell_type": "code",
   "execution_count": null,
   "id": "9b115f34-0475-4aaf-88ea-96851087e996",
   "metadata": {
    "tags": []
   },
   "outputs": [
    {
     "name": "stdout",
     "output_type": "stream",
     "text": [
      "Running notebook ./GTPP_wk10_test-batch_v0.61.ipynb\n"
     ]
    },
    {
     "data": {
      "application/vnd.jupyter.widget-view+json": {
       "model_id": "4e3f2bde5a8b4cdb9e419286a619e09a",
       "version_major": 2,
       "version_minor": 0
      },
      "text/plain": [
       "Executing:   0%|          | 0/252 [00:00<?, ?cell/s]"
      ]
     },
     "metadata": {},
     "output_type": "display_data"
    },
    {
     "name": "stdout",
     "output_type": "stream",
     "text": [
      "Exception...\n",
      "Ran in 37.49535061120987 minutes\n",
      "Running notebook ./GTPP_wk3_test-batch_v0.61.ipynb\n"
     ]
    },
    {
     "data": {
      "application/vnd.jupyter.widget-view+json": {
       "model_id": "5701a81c60c540bcb5bbebb17f8c2e9d",
       "version_major": 2,
       "version_minor": 0
      },
      "text/plain": [
       "Executing:   0%|          | 0/252 [00:00<?, ?cell/s]"
      ]
     },
     "metadata": {},
     "output_type": "display_data"
    },
    {
     "name": "stdout",
     "output_type": "stream",
     "text": [
      "Exception...\n",
      "Ran in 55.102380243937176 minutes\n",
      "Running notebook ./GTPP_wk7_test-batch_v0.61.ipynb\n"
     ]
    },
    {
     "data": {
      "application/vnd.jupyter.widget-view+json": {
       "model_id": "453afa8fb8584173bee9bd7d8ae1396c",
       "version_major": 2,
       "version_minor": 0
      },
      "text/plain": [
       "Executing:   0%|          | 0/252 [00:00<?, ?cell/s]"
      ]
     },
     "metadata": {},
     "output_type": "display_data"
    },
    {
     "name": "stdout",
     "output_type": "stream",
     "text": [
      "Exception...\n",
      "Ran in 60.99026390711467 minutes\n",
      "Running notebook ./GTQQ_wk10_test-batch_v0.61.ipynb\n"
     ]
    },
    {
     "data": {
      "application/vnd.jupyter.widget-view+json": {
       "model_id": "c89358cc66b24813853e6d13774e03d1",
       "version_major": 2,
       "version_minor": 0
      },
      "text/plain": [
       "Executing:   0%|          | 0/252 [00:00<?, ?cell/s]"
      ]
     },
     "metadata": {},
     "output_type": "display_data"
    },
    {
     "name": "stdout",
     "output_type": "stream",
     "text": [
      "Exception...\n",
      "Ran in 33.12481319109599 minutes\n",
      "Running notebook ./GTQQ_wk3_test-batch_v0.61.ipynb\n"
     ]
    },
    {
     "data": {
      "application/vnd.jupyter.widget-view+json": {
       "model_id": "9abad22309b74c1696cf664ffc4aa341",
       "version_major": 2,
       "version_minor": 0
      },
      "text/plain": [
       "Executing:   0%|          | 0/252 [00:00<?, ?cell/s]"
      ]
     },
     "metadata": {},
     "output_type": "display_data"
    },
    {
     "name": "stdout",
     "output_type": "stream",
     "text": [
      "Exception...\n",
      "Ran in 36.04288256963094 minutes\n",
      "Running notebook ./GTQQ_wk7_test-batch_v0.61.ipynb\n"
     ]
    },
    {
     "data": {
      "application/vnd.jupyter.widget-view+json": {
       "model_id": "8e3a46e98ae34b3b89bf7f9f704443ee",
       "version_major": 2,
       "version_minor": 0
      },
      "text/plain": [
       "Executing:   0%|          | 0/252 [00:00<?, ?cell/s]"
      ]
     },
     "metadata": {},
     "output_type": "display_data"
    },
    {
     "name": "stdout",
     "output_type": "stream",
     "text": [
      "Exception...\n",
      "Ran in 33.4898609717687 minutes\n",
      "Running notebook ./GTRR_wk3_test-batch_v0.61.ipynb\n"
     ]
    },
    {
     "data": {
      "application/vnd.jupyter.widget-view+json": {
       "model_id": "fce8e3b3f3514d5698abb961404b8190",
       "version_major": 2,
       "version_minor": 0
      },
      "text/plain": [
       "Executing:   0%|          | 0/252 [00:00<?, ?cell/s]"
      ]
     },
     "metadata": {},
     "output_type": "display_data"
    },
    {
     "name": "stdout",
     "output_type": "stream",
     "text": [
      "Exception...\n",
      "Ran in 17.900090217590332 minutes\n",
      "Running notebook ./GTRR_wk7_test-batch_v0.61.ipynb\n"
     ]
    },
    {
     "data": {
      "application/vnd.jupyter.widget-view+json": {
       "model_id": "01255acddb9c4d7aa461b169a9fb17fb",
       "version_major": 2,
       "version_minor": 0
      },
      "text/plain": [
       "Executing:   0%|          | 0/252 [00:00<?, ?cell/s]"
      ]
     },
     "metadata": {},
     "output_type": "display_data"
    },
    {
     "name": "stdout",
     "output_type": "stream",
     "text": [
      "Exception...\n",
      "Ran in 17.95594793955485 minutes\n",
      "Running notebook ./GTSS_wk3_test-batch_v0.61.ipynb\n"
     ]
    },
    {
     "data": {
      "application/vnd.jupyter.widget-view+json": {
       "model_id": "18a108122a624c07ba57747e1c763f3b",
       "version_major": 2,
       "version_minor": 0
      },
      "text/plain": [
       "Executing:   0%|          | 0/252 [00:00<?, ?cell/s]"
      ]
     },
     "metadata": {},
     "output_type": "display_data"
    },
    {
     "name": "stdout",
     "output_type": "stream",
     "text": [
      "Exception...\n",
      "Ran in 8.266905689239502 minutes\n",
      "Running notebook ./GTTT_wk3_test-batch_v0.61.ipynb\n"
     ]
    },
    {
     "data": {
      "application/vnd.jupyter.widget-view+json": {
       "model_id": "f52fdee2a57e48ab824e8caa4d90cc3b",
       "version_major": 2,
       "version_minor": 0
      },
      "text/plain": [
       "Executing:   0%|          | 0/252 [00:00<?, ?cell/s]"
      ]
     },
     "metadata": {},
     "output_type": "display_data"
    },
    {
     "name": "stdout",
     "output_type": "stream",
     "text": [
      "Exception...\n",
      "Ran in 26.686980215708413 minutes\n",
      "Running notebook ./GTAAA_wk10_test-batch_v0.61.ipynb\n"
     ]
    },
    {
     "data": {
      "application/vnd.jupyter.widget-view+json": {
       "model_id": "f2b291ad2d0e426daf3a406201eccb78",
       "version_major": 2,
       "version_minor": 0
      },
      "text/plain": [
       "Executing:   0%|          | 0/252 [00:00<?, ?cell/s]"
      ]
     },
     "metadata": {},
     "output_type": "display_data"
    },
    {
     "name": "stdout",
     "output_type": "stream",
     "text": [
      "Exception...\n",
      "Ran in 49.31622460285823 minutes\n",
      "Running notebook ./GTAAA_wk3_test-batch_v0.61.ipynb\n"
     ]
    },
    {
     "data": {
      "application/vnd.jupyter.widget-view+json": {
       "model_id": "783065db0de74b4fbb76f412194d5ccf",
       "version_major": 2,
       "version_minor": 0
      },
      "text/plain": [
       "Executing:   0%|          | 0/252 [00:00<?, ?cell/s]"
      ]
     },
     "metadata": {},
     "output_type": "display_data"
    },
    {
     "name": "stdout",
     "output_type": "stream",
     "text": [
      "Exception...\n",
      "Ran in 49.70913463433583 minutes\n",
      "Running notebook ./GTAAA_wk7_test-batch_v0.61.ipynb\n"
     ]
    },
    {
     "data": {
      "application/vnd.jupyter.widget-view+json": {
       "model_id": "b2bdeb6905fa442393d41f3ea5fde2fc",
       "version_major": 2,
       "version_minor": 0
      },
      "text/plain": [
       "Executing:   0%|          | 0/252 [00:00<?, ?cell/s]"
      ]
     },
     "metadata": {},
     "output_type": "display_data"
    },
    {
     "name": "stdout",
     "output_type": "stream",
     "text": [
      "Exception...\n",
      "Ran in 47.58257885773977 minutes\n",
      "Running notebook ./GTBBB_wk10_test-batch_v0.61.ipynb\n"
     ]
    },
    {
     "data": {
      "application/vnd.jupyter.widget-view+json": {
       "model_id": "df82e33de2ea4a708ed2b72207aee368",
       "version_major": 2,
       "version_minor": 0
      },
      "text/plain": [
       "Executing:   0%|          | 0/252 [00:00<?, ?cell/s]"
      ]
     },
     "metadata": {},
     "output_type": "display_data"
    },
    {
     "name": "stdout",
     "output_type": "stream",
     "text": [
      "Exception...\n",
      "Ran in 103.69476024707159 minutes\n",
      "Running notebook ./GTBBB_wk3_test-batch_v0.61.ipynb\n"
     ]
    },
    {
     "data": {
      "application/vnd.jupyter.widget-view+json": {
       "model_id": "981b0565fd934eb4bac2e99aab9ccfa5",
       "version_major": 2,
       "version_minor": 0
      },
      "text/plain": [
       "Executing:   0%|          | 0/252 [00:00<?, ?cell/s]"
      ]
     },
     "metadata": {},
     "output_type": "display_data"
    },
    {
     "name": "stdout",
     "output_type": "stream",
     "text": [
      "Exception...\n",
      "Ran in 93.58973964055379 minutes\n",
      "Running notebook ./GTBBB_wk7_test-batch_v0.61.ipynb\n"
     ]
    },
    {
     "data": {
      "application/vnd.jupyter.widget-view+json": {
       "model_id": "1f23beb98b93422faafa8a1e3fd33a38",
       "version_major": 2,
       "version_minor": 0
      },
      "text/plain": [
       "Executing:   0%|          | 0/252 [00:00<?, ?cell/s]"
      ]
     },
     "metadata": {},
     "output_type": "display_data"
    },
    {
     "name": "stdout",
     "output_type": "stream",
     "text": [
      "Exception...\n",
      "Ran in 46.33172785043716 minutes\n",
      "Running notebook ./GTCCC_wk10_test-batch_v0.61.ipynb\n"
     ]
    },
    {
     "data": {
      "application/vnd.jupyter.widget-view+json": {
       "model_id": "1fe3e1fbbb624eddb7020a027a303932",
       "version_major": 2,
       "version_minor": 0
      },
      "text/plain": [
       "Executing:   0%|          | 0/252 [00:00<?, ?cell/s]"
      ]
     },
     "metadata": {},
     "output_type": "display_data"
    },
    {
     "name": "stdout",
     "output_type": "stream",
     "text": [
      "Exception...\n",
      "Ran in 25.82016641696294 minutes\n",
      "Running notebook ./GTCCC_wk3_test-batch_v0.61.ipynb\n"
     ]
    },
    {
     "data": {
      "application/vnd.jupyter.widget-view+json": {
       "model_id": "22ce35088ba6457d96215ec5c355fe44",
       "version_major": 2,
       "version_minor": 0
      },
      "text/plain": [
       "Executing:   0%|          | 0/252 [00:00<?, ?cell/s]"
      ]
     },
     "metadata": {},
     "output_type": "display_data"
    },
    {
     "name": "stdout",
     "output_type": "stream",
     "text": [
      "Exception...\n",
      "Ran in 24.935637899239858 minutes\n",
      "Running notebook ./GTCCC_wk9_test-batch_v0.61.ipynb\n"
     ]
    },
    {
     "data": {
      "application/vnd.jupyter.widget-view+json": {
       "model_id": "d4ec72ea901b43de9261a1dd02fed430",
       "version_major": 2,
       "version_minor": 0
      },
      "text/plain": [
       "Executing:   0%|          | 0/252 [00:00<?, ?cell/s]"
      ]
     },
     "metadata": {},
     "output_type": "display_data"
    },
    {
     "name": "stdout",
     "output_type": "stream",
     "text": [
      "Exception...\n",
      "Ran in 26.50412548383077 minutes\n",
      "Running notebook ./GTDDD_wk10_test-batch_v0.61.ipynb\n"
     ]
    },
    {
     "data": {
      "application/vnd.jupyter.widget-view+json": {
       "model_id": "d42557454c7449678ec958f3effc08de",
       "version_major": 2,
       "version_minor": 0
      },
      "text/plain": [
       "Executing:   0%|          | 0/252 [00:00<?, ?cell/s]"
      ]
     },
     "metadata": {},
     "output_type": "display_data"
    },
    {
     "name": "stdout",
     "output_type": "stream",
     "text": [
      "Exception...\n",
      "Ran in 40.55053297678629 minutes\n",
      "Running notebook ./GTDDD_wk3_test-batch_v0.61.ipynb\n"
     ]
    },
    {
     "data": {
      "application/vnd.jupyter.widget-view+json": {
       "model_id": "cfa899f6436c4def958271ec287cbd2c",
       "version_major": 2,
       "version_minor": 0
      },
      "text/plain": [
       "Executing:   0%|          | 0/252 [00:00<?, ?cell/s]"
      ]
     },
     "metadata": {},
     "output_type": "display_data"
    },
    {
     "name": "stdout",
     "output_type": "stream",
     "text": [
      "Exception...\n",
      "Ran in 51.0670582652092 minutes\n",
      "Running notebook ./GTDDD_wk8_test-batch_v0.61.ipynb\n"
     ]
    },
    {
     "data": {
      "application/vnd.jupyter.widget-view+json": {
       "model_id": "27f21e3ed76144ee8f93734a5c5835fc",
       "version_major": 2,
       "version_minor": 0
      },
      "text/plain": [
       "Executing:   0%|          | 0/252 [00:00<?, ?cell/s]"
      ]
     },
     "metadata": {},
     "output_type": "display_data"
    },
    {
     "name": "stdout",
     "output_type": "stream",
     "text": [
      "Exception...\n",
      "Ran in 53.73750765323639 minutes\n",
      "Running notebook ./GTEEE_wk10_test-batch_v0.61.ipynb\n"
     ]
    },
    {
     "data": {
      "application/vnd.jupyter.widget-view+json": {
       "model_id": "060fabcb0e074f4fb4e6860260274187",
       "version_major": 2,
       "version_minor": 0
      },
      "text/plain": [
       "Executing:   0%|          | 0/252 [00:00<?, ?cell/s]"
      ]
     },
     "metadata": {},
     "output_type": "display_data"
    },
    {
     "name": "stdout",
     "output_type": "stream",
     "text": [
      "Exception...\n",
      "Ran in 27.336553780237832 minutes\n",
      "Running notebook ./GTEEE_wk3_test-batch_v0.61.ipynb\n"
     ]
    },
    {
     "data": {
      "application/vnd.jupyter.widget-view+json": {
       "model_id": "25c2583974f64d76ade0aa9e7fac64de",
       "version_major": 2,
       "version_minor": 0
      },
      "text/plain": [
       "Executing:   0%|          | 0/252 [00:00<?, ?cell/s]"
      ]
     },
     "metadata": {},
     "output_type": "display_data"
    },
    {
     "name": "stdout",
     "output_type": "stream",
     "text": [
      "Exception...\n",
      "Ran in 23.354476841290793 minutes\n",
      "Running notebook ./GTEEE_wk7_test-batch_v0.61.ipynb\n"
     ]
    },
    {
     "data": {
      "application/vnd.jupyter.widget-view+json": {
       "model_id": "dc0ea3ba196b4929acf9097059aabd32",
       "version_major": 2,
       "version_minor": 0
      },
      "text/plain": [
       "Executing:   0%|          | 0/252 [00:00<?, ?cell/s]"
      ]
     },
     "metadata": {},
     "output_type": "display_data"
    },
    {
     "name": "stdout",
     "output_type": "stream",
     "text": [
      "Exception...\n",
      "Ran in 23.65133546193441 minutes\n",
      "Running notebook ./GTFFF_wk10_test-batch_v0.61.ipynb\n"
     ]
    },
    {
     "data": {
      "application/vnd.jupyter.widget-view+json": {
       "model_id": "9a7b8f6b9ad244ee8c362c4c97a2f923",
       "version_major": 2,
       "version_minor": 0
      },
      "text/plain": [
       "Executing:   0%|          | 0/252 [00:00<?, ?cell/s]"
      ]
     },
     "metadata": {},
     "output_type": "display_data"
    },
    {
     "name": "stdout",
     "output_type": "stream",
     "text": [
      "Exception...\n",
      "Ran in 0.8528631448745727 minutes\n",
      "Running notebook ./GTFFF_wk3_test-batch_v0.61.ipynb\n"
     ]
    },
    {
     "data": {
      "application/vnd.jupyter.widget-view+json": {
       "model_id": "07c2f84f25a342ed94d98e5601abd075",
       "version_major": 2,
       "version_minor": 0
      },
      "text/plain": [
       "Executing:   0%|          | 0/252 [00:00<?, ?cell/s]"
      ]
     },
     "metadata": {},
     "output_type": "display_data"
    },
    {
     "name": "stdout",
     "output_type": "stream",
     "text": [
      "Exception...\n",
      "Ran in 99.08434769312541 minutes\n",
      "Running notebook ./GTFFF_wk7_test-batch_v0.61.ipynb\n"
     ]
    },
    {
     "data": {
      "application/vnd.jupyter.widget-view+json": {
       "model_id": "e41fddd2d2374777a7fc921922daf7ed",
       "version_major": 2,
       "version_minor": 0
      },
      "text/plain": [
       "Executing:   0%|          | 0/252 [00:00<?, ?cell/s]"
      ]
     },
     "metadata": {},
     "output_type": "display_data"
    },
    {
     "name": "stdout",
     "output_type": "stream",
     "text": [
      "Exception...\n",
      "Ran in 100.71313155889511 minutes\n",
      "Running notebook ./GTHHH_wk10_test-batch_v0.61.ipynb\n"
     ]
    },
    {
     "data": {
      "application/vnd.jupyter.widget-view+json": {
       "model_id": "a0f69bebd33b4fef911cc44bcba9a835",
       "version_major": 2,
       "version_minor": 0
      },
      "text/plain": [
       "Executing:   0%|          | 0/252 [00:00<?, ?cell/s]"
      ]
     },
     "metadata": {},
     "output_type": "display_data"
    },
    {
     "name": "stdout",
     "output_type": "stream",
     "text": [
      "Exception...\n",
      "Ran in 71.12981145381927 minutes\n",
      "Running notebook ./GTHHH_wk3_test-batch_v0.61.ipynb\n"
     ]
    },
    {
     "data": {
      "application/vnd.jupyter.widget-view+json": {
       "model_id": "d2d4c8b4cd2842c2a1fa1e60561fb62c",
       "version_major": 2,
       "version_minor": 0
      },
      "text/plain": [
       "Executing:   0%|          | 0/252 [00:00<?, ?cell/s]"
      ]
     },
     "metadata": {},
     "output_type": "display_data"
    },
    {
     "name": "stdout",
     "output_type": "stream",
     "text": [
      "Exception...\n",
      "Ran in 72.72978978554407 minutes\n",
      "Running notebook ./GTHHH_wk7_test-batch_v0.61.ipynb\n"
     ]
    },
    {
     "data": {
      "application/vnd.jupyter.widget-view+json": {
       "model_id": "18d0e032b3214313b19a87d2ae4fafb6",
       "version_major": 2,
       "version_minor": 0
      },
      "text/plain": [
       "Executing:   0%|          | 0/252 [00:00<?, ?cell/s]"
      ]
     },
     "metadata": {},
     "output_type": "display_data"
    },
    {
     "name": "stdout",
     "output_type": "stream",
     "text": [
      "Exception...\n",
      "Ran in 78.22454957167308 minutes\n",
      "Running notebook ./GTRR_wk10_test-batch_v0.61.ipynb\n"
     ]
    },
    {
     "data": {
      "application/vnd.jupyter.widget-view+json": {
       "model_id": "66a18a8e5b4949b1a0299192f17e7f93",
       "version_major": 2,
       "version_minor": 0
      },
      "text/plain": [
       "Executing:   0%|          | 0/252 [00:00<?, ?cell/s]"
      ]
     },
     "metadata": {},
     "output_type": "display_data"
    },
    {
     "name": "stdout",
     "output_type": "stream",
     "text": [
      "Exception...\n",
      "Ran in 17.912969942887624 minutes\n",
      "Running notebook ./GTSS_wk10_test-batch_v0.61.ipynb\n"
     ]
    },
    {
     "data": {
      "application/vnd.jupyter.widget-view+json": {
       "model_id": "0cc3263cf5a14f418d94a821bd2b6217",
       "version_major": 2,
       "version_minor": 0
      },
      "text/plain": [
       "Executing:   0%|          | 0/252 [00:00<?, ?cell/s]"
      ]
     },
     "metadata": {},
     "output_type": "display_data"
    },
    {
     "name": "stdout",
     "output_type": "stream",
     "text": [
      "Exception...\n",
      "Ran in 21.381761614481608 minutes\n",
      "Running notebook ./GTSS_wk7_test-batch_v0.61.ipynb\n"
     ]
    },
    {
     "data": {
      "application/vnd.jupyter.widget-view+json": {
       "model_id": "7e495ab483d242ae9a166fea6c17d0de",
       "version_major": 2,
       "version_minor": 0
      },
      "text/plain": [
       "Executing:   0%|          | 0/252 [00:00<?, ?cell/s]"
      ]
     },
     "metadata": {},
     "output_type": "display_data"
    },
    {
     "name": "stdout",
     "output_type": "stream",
     "text": [
      "Exception...\n",
      "Ran in 20.868247958024345 minutes\n",
      "Running notebook ./GTTT_wk10_test-batch_v0.61.ipynb\n"
     ]
    },
    {
     "data": {
      "application/vnd.jupyter.widget-view+json": {
       "model_id": "98e086112830442c89fbaf72afa4ea68",
       "version_major": 2,
       "version_minor": 0
      },
      "text/plain": [
       "Executing:   0%|          | 0/252 [00:00<?, ?cell/s]"
      ]
     },
     "metadata": {},
     "output_type": "display_data"
    },
    {
     "name": "stdout",
     "output_type": "stream",
     "text": [
      "Exception...\n",
      "Ran in 22.952062610785166 minutes\n",
      "Running notebook ./GTTT_wk7_test-batch_v0.61.ipynb\n"
     ]
    },
    {
     "data": {
      "application/vnd.jupyter.widget-view+json": {
       "model_id": "66abfcb3dbd84696bc4cc80defdda376",
       "version_major": 2,
       "version_minor": 0
      },
      "text/plain": [
       "Executing:   0%|          | 0/252 [00:00<?, ?cell/s]"
      ]
     },
     "metadata": {},
     "output_type": "display_data"
    },
    {
     "name": "stdout",
     "output_type": "stream",
     "text": [
      "Exception...\n",
      "Ran in 19.900447169939678 minutes\n",
      "Running notebook ./GTUU_wk10_test-batch_v0.61.ipynb\n"
     ]
    },
    {
     "data": {
      "application/vnd.jupyter.widget-view+json": {
       "model_id": "c3087788c3b5484ba667a00f469b8a63",
       "version_major": 2,
       "version_minor": 0
      },
      "text/plain": [
       "Executing:   0%|          | 0/252 [00:00<?, ?cell/s]"
      ]
     },
     "metadata": {},
     "output_type": "display_data"
    },
    {
     "name": "stdout",
     "output_type": "stream",
     "text": [
      "Exception...\n",
      "Ran in 23.201243138313295 minutes\n",
      "Running notebook ./GTUU_wk3_test-batch_v0.61.ipynb\n"
     ]
    },
    {
     "data": {
      "application/vnd.jupyter.widget-view+json": {
       "model_id": "62b8bf258af44fb3a665561b54c58a5a",
       "version_major": 2,
       "version_minor": 0
      },
      "text/plain": [
       "Executing:   0%|          | 0/252 [00:00<?, ?cell/s]"
      ]
     },
     "metadata": {},
     "output_type": "display_data"
    },
    {
     "name": "stdout",
     "output_type": "stream",
     "text": [
      "Exception...\n",
      "Ran in 29.339631462097167 minutes\n",
      "Running notebook ./GTUU_wk7_test-batch_v0.61.ipynb\n"
     ]
    },
    {
     "data": {
      "application/vnd.jupyter.widget-view+json": {
       "model_id": "d3e320db948b45758bda34745acb869c",
       "version_major": 2,
       "version_minor": 0
      },
      "text/plain": [
       "Executing:   0%|          | 0/252 [00:00<?, ?cell/s]"
      ]
     },
     "metadata": {},
     "output_type": "display_data"
    },
    {
     "name": "stdout",
     "output_type": "stream",
     "text": [
      "Exception...\n",
      "Ran in 28.83895367383957 minutes\n",
      "Running notebook ./GTVV_wk10_test-batch_v0.61.ipynb\n"
     ]
    },
    {
     "data": {
      "application/vnd.jupyter.widget-view+json": {
       "model_id": "46e1312bdc88467a8da3df3c1d87322e",
       "version_major": 2,
       "version_minor": 0
      },
      "text/plain": [
       "Executing:   0%|          | 0/252 [00:00<?, ?cell/s]"
      ]
     },
     "metadata": {},
     "output_type": "display_data"
    },
    {
     "name": "stdout",
     "output_type": "stream",
     "text": [
      "Exception...\n",
      "Ran in 63.10510260661443 minutes\n",
      "Running notebook ./GTVV_wk3_test-batch_v0.61.ipynb\n"
     ]
    },
    {
     "data": {
      "application/vnd.jupyter.widget-view+json": {
       "model_id": "7072c7b581004d4cb09b121026dd2b3b",
       "version_major": 2,
       "version_minor": 0
      },
      "text/plain": [
       "Executing:   0%|          | 0/252 [00:00<?, ?cell/s]"
      ]
     },
     "metadata": {},
     "output_type": "display_data"
    },
    {
     "name": "stdout",
     "output_type": "stream",
     "text": [
      "Exception...\n",
      "Ran in 90.17284365892411 minutes\n",
      "Running notebook ./GTVV_wk7_test-batch_v0.61.ipynb\n"
     ]
    },
    {
     "data": {
      "application/vnd.jupyter.widget-view+json": {
       "model_id": "68655f33ca1d48e2bbb03d214d411255",
       "version_major": 2,
       "version_minor": 0
      },
      "text/plain": [
       "Executing:   0%|          | 0/252 [00:00<?, ?cell/s]"
      ]
     },
     "metadata": {},
     "output_type": "display_data"
    },
    {
     "name": "stdout",
     "output_type": "stream",
     "text": [
      "Exception...\n",
      "Ran in 79.15100808143616 minutes\n",
      "Running notebook ./GTWW_wk10_test-batch_v0.61.ipynb\n"
     ]
    },
    {
     "data": {
      "application/vnd.jupyter.widget-view+json": {
       "model_id": "d200b5fe60574d79a5e88238f61e17f5",
       "version_major": 2,
       "version_minor": 0
      },
      "text/plain": [
       "Executing:   0%|          | 0/252 [00:00<?, ?cell/s]"
      ]
     },
     "metadata": {},
     "output_type": "display_data"
    },
    {
     "name": "stdout",
     "output_type": "stream",
     "text": [
      "Exception...\n",
      "Ran in 23.702976671854653 minutes\n",
      "Running notebook ./GTWW_wk3_test-batch_v0.61.ipynb\n"
     ]
    },
    {
     "data": {
      "application/vnd.jupyter.widget-view+json": {
       "model_id": "7e0697a3c64c4b22977e830d91f7ba00",
       "version_major": 2,
       "version_minor": 0
      },
      "text/plain": [
       "Executing:   0%|          | 0/252 [00:00<?, ?cell/s]"
      ]
     },
     "metadata": {},
     "output_type": "display_data"
    },
    {
     "name": "stdout",
     "output_type": "stream",
     "text": [
      "Exception...\n",
      "Ran in 28.506341663996377 minutes\n",
      "Running notebook ./GTWW_wk7_test-batch_v0.61.ipynb\n"
     ]
    },
    {
     "data": {
      "application/vnd.jupyter.widget-view+json": {
       "model_id": "52555d838ab848c7b74cd8fdbab2b44a",
       "version_major": 2,
       "version_minor": 0
      },
      "text/plain": [
       "Executing:   0%|          | 0/252 [00:00<?, ?cell/s]"
      ]
     },
     "metadata": {},
     "output_type": "display_data"
    },
    {
     "name": "stdout",
     "output_type": "stream",
     "text": [
      "Exception...\n",
      "Ran in 28.05971964995066 minutes\n",
      "Running notebook ./GTXX_wk10_test-batch_v0.61.ipynb\n"
     ]
    },
    {
     "data": {
      "application/vnd.jupyter.widget-view+json": {
       "model_id": "4e7208deb01d47c093eab245f56c817a",
       "version_major": 2,
       "version_minor": 0
      },
      "text/plain": [
       "Executing:   0%|          | 0/252 [00:00<?, ?cell/s]"
      ]
     },
     "metadata": {},
     "output_type": "display_data"
    },
    {
     "name": "stdout",
     "output_type": "stream",
     "text": [
      "Exception...\n",
      "Ran in 50.3333896279335 minutes\n",
      "Running notebook ./GTXX_wk3_test-batch_v0.61.ipynb\n"
     ]
    },
    {
     "data": {
      "application/vnd.jupyter.widget-view+json": {
       "model_id": "e96a8fe9c220423f8b6557d1d128d934",
       "version_major": 2,
       "version_minor": 0
      },
      "text/plain": [
       "Executing:   0%|          | 0/252 [00:00<?, ?cell/s]"
      ]
     },
     "metadata": {},
     "output_type": "display_data"
    },
    {
     "name": "stdout",
     "output_type": "stream",
     "text": [
      "Exception...\n",
      "Ran in 52.66693232456843 minutes\n",
      "Running notebook ./GTXX_wk7_test-batch_v0.61.ipynb\n"
     ]
    },
    {
     "data": {
      "application/vnd.jupyter.widget-view+json": {
       "model_id": "e7d82199af5a4cc684954b699005eeeb",
       "version_major": 2,
       "version_minor": 0
      },
      "text/plain": [
       "Executing:   0%|          | 0/252 [00:00<?, ?cell/s]"
      ]
     },
     "metadata": {},
     "output_type": "display_data"
    },
    {
     "name": "stdout",
     "output_type": "stream",
     "text": [
      "Exception...\n",
      "Ran in 49.26564162174861 minutes\n",
      "Running notebook ./GTYY_wk10_test-batch_v0.61.ipynb\n"
     ]
    },
    {
     "data": {
      "application/vnd.jupyter.widget-view+json": {
       "model_id": "40185b7069314b2ca2ffd9fdb6d9dca9",
       "version_major": 2,
       "version_minor": 0
      },
      "text/plain": [
       "Executing:   0%|          | 0/252 [00:00<?, ?cell/s]"
      ]
     },
     "metadata": {},
     "output_type": "display_data"
    },
    {
     "name": "stdout",
     "output_type": "stream",
     "text": [
      "Exception...\n",
      "Ran in 33.74057926734289 minutes\n",
      "Running notebook ./GTYY_wk3_test-batch_v0.61.ipynb\n"
     ]
    },
    {
     "data": {
      "application/vnd.jupyter.widget-view+json": {
       "model_id": "18ebd282d3334ce09f9c82fe1d2bb010",
       "version_major": 2,
       "version_minor": 0
      },
      "text/plain": [
       "Executing:   0%|          | 0/252 [00:00<?, ?cell/s]"
      ]
     },
     "metadata": {},
     "output_type": "display_data"
    },
    {
     "name": "stdout",
     "output_type": "stream",
     "text": [
      "Exception...\n",
      "Ran in 51.181923401355746 minutes\n",
      "Running notebook ./GTYY_wk7_test-batch_v0.61.ipynb\n"
     ]
    },
    {
     "data": {
      "application/vnd.jupyter.widget-view+json": {
       "model_id": "4df0bb246d7d40099823df49cbe42fbd",
       "version_major": 2,
       "version_minor": 0
      },
      "text/plain": [
       "Executing:   0%|          | 0/252 [00:00<?, ?cell/s]"
      ]
     },
     "metadata": {},
     "output_type": "display_data"
    },
    {
     "name": "stdout",
     "output_type": "stream",
     "text": [
      "Exception...\n",
      "Ran in 49.82834401130676 minutes\n",
      "Running notebook ./GTZZ_wk10_test-batch_v0.61.ipynb\n"
     ]
    },
    {
     "data": {
      "application/vnd.jupyter.widget-view+json": {
       "model_id": "bcbb941d0e5946bbb1e7435112d5602e",
       "version_major": 2,
       "version_minor": 0
      },
      "text/plain": [
       "Executing:   0%|          | 0/252 [00:00<?, ?cell/s]"
      ]
     },
     "metadata": {},
     "output_type": "display_data"
    },
    {
     "name": "stdout",
     "output_type": "stream",
     "text": [
      "Exception...\n",
      "Ran in 98.71062819957733 minutes\n",
      "Running notebook ./GTZZ_wk3_test-batch_v0.61.ipynb\n"
     ]
    },
    {
     "data": {
      "application/vnd.jupyter.widget-view+json": {
       "model_id": "18f6b0ae819943fa95eb1baa5c52f644",
       "version_major": 2,
       "version_minor": 0
      },
      "text/plain": [
       "Executing:   0%|          | 0/252 [00:00<?, ?cell/s]"
      ]
     },
     "metadata": {},
     "output_type": "display_data"
    },
    {
     "name": "stdout",
     "output_type": "stream",
     "text": [
      "Exception...\n",
      "Ran in 105.96610517899195 minutes\n",
      "Running notebook ./GTZZ_wk7_test-batch_v0.61.ipynb\n"
     ]
    },
    {
     "data": {
      "application/vnd.jupyter.widget-view+json": {
       "model_id": "80c7307fea6f4d2888a8bd1b8be5e3e8",
       "version_major": 2,
       "version_minor": 0
      },
      "text/plain": [
       "Executing:   0%|          | 0/252 [00:00<?, ?cell/s]"
      ]
     },
     "metadata": {},
     "output_type": "display_data"
    },
    {
     "name": "stdout",
     "output_type": "stream",
     "text": [
      "Exception...\n",
      "Ran in 101.4122597694397 minutes\n",
      "Running notebook ./GTB_wk10_test-batch_v0.61.ipynb\n"
     ]
    },
    {
     "data": {
      "application/vnd.jupyter.widget-view+json": {
       "model_id": "6b4099a03f4443c990090d521c22a95f",
       "version_major": 2,
       "version_minor": 0
      },
      "text/plain": [
       "Executing:   0%|          | 0/252 [00:00<?, ?cell/s]"
      ]
     },
     "metadata": {},
     "output_type": "display_data"
    },
    {
     "name": "stdout",
     "output_type": "stream",
     "text": [
      "Exception...\n",
      "Ran in 60.59608906507492 minutes\n",
      "Running notebook ./GTB_wk3_test-batch_v0.61.ipynb\n"
     ]
    },
    {
     "data": {
      "application/vnd.jupyter.widget-view+json": {
       "model_id": "18caf2f3732b4ddcb3d558da4e7ddac9",
       "version_major": 2,
       "version_minor": 0
      },
      "text/plain": [
       "Executing:   0%|          | 0/252 [00:00<?, ?cell/s]"
      ]
     },
     "metadata": {},
     "output_type": "display_data"
    },
    {
     "name": "stdout",
     "output_type": "stream",
     "text": [
      "Exception...\n",
      "Ran in 64.77471642096837 minutes\n",
      "Running notebook ./GTB_wk7_test-batch_v0.61.ipynb\n"
     ]
    },
    {
     "data": {
      "application/vnd.jupyter.widget-view+json": {
       "model_id": "fbd75c6a17314ebe814a7ba338118d9c",
       "version_major": 2,
       "version_minor": 0
      },
      "text/plain": [
       "Executing:   0%|          | 0/252 [00:00<?, ?cell/s]"
      ]
     },
     "metadata": {},
     "output_type": "display_data"
    },
    {
     "name": "stdout",
     "output_type": "stream",
     "text": [
      "Exception...\n",
      "Ran in 77.9784019668897 minutes\n",
      "Running notebook ./GTC_wk3_test-batch_v0.61.ipynb\n"
     ]
    },
    {
     "data": {
      "application/vnd.jupyter.widget-view+json": {
       "model_id": "0fdcbcb2c26c4db4b1b1801eec9c32b4",
       "version_major": 2,
       "version_minor": 0
      },
      "text/plain": [
       "Executing:   0%|          | 0/252 [00:00<?, ?cell/s]"
      ]
     },
     "metadata": {},
     "output_type": "display_data"
    },
    {
     "name": "stdout",
     "output_type": "stream",
     "text": [
      "Exception...\n",
      "Ran in 120.52284564971924 minutes\n",
      "Running notebook ./GTC_wk7_test-batch_v0.61.ipynb\n"
     ]
    },
    {
     "data": {
      "application/vnd.jupyter.widget-view+json": {
       "model_id": "4b63473a826d4994ae91cd946dc82a86",
       "version_major": 2,
       "version_minor": 0
      },
      "text/plain": [
       "Executing:   0%|          | 0/252 [00:00<?, ?cell/s]"
      ]
     },
     "metadata": {},
     "output_type": "display_data"
    },
    {
     "name": "stdout",
     "output_type": "stream",
     "text": [
      "Exception...\n",
      "Ran in 156.81269241571425 minutes\n",
      "Running notebook ./GTD_wk3_test-batch_v0.61.ipynb\n"
     ]
    },
    {
     "data": {
      "application/vnd.jupyter.widget-view+json": {
       "model_id": "ba51416161c3499f82c28d03836e2b3f",
       "version_major": 2,
       "version_minor": 0
      },
      "text/plain": [
       "Executing:   0%|          | 0/252 [00:00<?, ?cell/s]"
      ]
     },
     "metadata": {},
     "output_type": "display_data"
    },
    {
     "name": "stdout",
     "output_type": "stream",
     "text": [
      "Exception...\n",
      "Ran in 138.9336294611295 minutes\n",
      "Running notebook ./GTC_wk10_test-batch_v0.61.ipynb\n"
     ]
    },
    {
     "data": {
      "application/vnd.jupyter.widget-view+json": {
       "model_id": "12cd6a2ad1a94080aa3b8f40c57d3931",
       "version_major": 2,
       "version_minor": 0
      },
      "text/plain": [
       "Executing:   0%|          | 0/252 [00:00<?, ?cell/s]"
      ]
     },
     "metadata": {},
     "output_type": "display_data"
    },
    {
     "name": "stdout",
     "output_type": "stream",
     "text": [
      "Exception...\n",
      "Ran in 92.87623988389969 minutes\n",
      "Running notebook ./GTD_wk10_test-batch_v0.61.ipynb\n"
     ]
    },
    {
     "data": {
      "application/vnd.jupyter.widget-view+json": {
       "model_id": "23ff6d2c659d416fbadea5e0d6580f6e",
       "version_major": 2,
       "version_minor": 0
      },
      "text/plain": [
       "Executing:   0%|          | 0/252 [00:00<?, ?cell/s]"
      ]
     },
     "metadata": {},
     "output_type": "display_data"
    },
    {
     "name": "stdout",
     "output_type": "stream",
     "text": [
      "Exception...\n",
      "Ran in 126.38728801806768 minutes\n",
      "Running notebook ./GTD_wk7_test-batch_v0.61.ipynb\n"
     ]
    },
    {
     "data": {
      "application/vnd.jupyter.widget-view+json": {
       "model_id": "c3e7cd9364b44c71a8badadc5932a442",
       "version_major": 2,
       "version_minor": 0
      },
      "text/plain": [
       "Executing:   0%|          | 0/252 [00:00<?, ?cell/s]"
      ]
     },
     "metadata": {},
     "output_type": "display_data"
    },
    {
     "name": "stdout",
     "output_type": "stream",
     "text": [
      "Exception...\n",
      "Ran in 135.12998965581258 minutes\n",
      "Running notebook ./GTE_wk10_test-batch_v0.61.ipynb\n"
     ]
    },
    {
     "data": {
      "application/vnd.jupyter.widget-view+json": {
       "model_id": "8141130f7b334de4a26d68a293707ab5",
       "version_major": 2,
       "version_minor": 0
      },
      "text/plain": [
       "Executing:   0%|          | 0/252 [00:00<?, ?cell/s]"
      ]
     },
     "metadata": {},
     "output_type": "display_data"
    },
    {
     "name": "stdout",
     "output_type": "stream",
     "text": [
      "Exception...\n",
      "Ran in 113.46449546813965 minutes\n",
      "Running notebook ./GTE_wk3_test-batch_v0.61.ipynb\n"
     ]
    },
    {
     "data": {
      "application/vnd.jupyter.widget-view+json": {
       "model_id": "0506913dd76d4921a870be9bb4d3d9fb",
       "version_major": 2,
       "version_minor": 0
      },
      "text/plain": [
       "Executing:   0%|          | 0/252 [00:00<?, ?cell/s]"
      ]
     },
     "metadata": {},
     "output_type": "display_data"
    },
    {
     "name": "stdout",
     "output_type": "stream",
     "text": [
      "Exception...\n",
      "Ran in 142.1133111556371 minutes\n",
      "Running notebook ./GTE_wk7_test-batch_v0.61.ipynb\n"
     ]
    },
    {
     "data": {
      "application/vnd.jupyter.widget-view+json": {
       "model_id": "57700dc3536f472f892248d3d69970a7",
       "version_major": 2,
       "version_minor": 0
      },
      "text/plain": [
       "Executing:   0%|          | 0/252 [00:00<?, ?cell/s]"
      ]
     },
     "metadata": {},
     "output_type": "display_data"
    },
    {
     "name": "stdout",
     "output_type": "stream",
     "text": [
      "Exception...\n",
      "Ran in 129.43508959213892 minutes\n",
      "Running notebook ./GTF_wk3_test-batch_v0.61.ipynb\n"
     ]
    },
    {
     "data": {
      "application/vnd.jupyter.widget-view+json": {
       "model_id": "b48af7cf37174cbeae29b7e9dc45ddf3",
       "version_major": 2,
       "version_minor": 0
      },
      "text/plain": [
       "Executing:   0%|          | 0/252 [00:00<?, ?cell/s]"
      ]
     },
     "metadata": {},
     "output_type": "display_data"
    },
    {
     "name": "stdout",
     "output_type": "stream",
     "text": [
      "Exception...\n",
      "Ran in 147.13447801272073 minutes\n",
      "Running notebook ./GTF_wk7_test-batch_v0.61.ipynb\n"
     ]
    },
    {
     "data": {
      "application/vnd.jupyter.widget-view+json": {
       "model_id": "c3136de5134e49cba424016aef432f94",
       "version_major": 2,
       "version_minor": 0
      },
      "text/plain": [
       "Executing:   0%|          | 0/252 [00:00<?, ?cell/s]"
      ]
     },
     "metadata": {},
     "output_type": "display_data"
    },
    {
     "name": "stdout",
     "output_type": "stream",
     "text": [
      "Exception...\n",
      "Ran in 97.42735038201015 minutes\n",
      "Running notebook ./GTG_wk3_test-batch_v0.61.ipynb\n"
     ]
    },
    {
     "data": {
      "application/vnd.jupyter.widget-view+json": {
       "model_id": "ae42e85e1fbd45808515dec192868e5b",
       "version_major": 2,
       "version_minor": 0
      },
      "text/plain": [
       "Executing:   0%|          | 0/252 [00:00<?, ?cell/s]"
      ]
     },
     "metadata": {},
     "output_type": "display_data"
    },
    {
     "name": "stdout",
     "output_type": "stream",
     "text": [
      "Exception...\n",
      "Ran in 144.71312480370204 minutes\n",
      "Running notebook ./GTG_wk7_test-batch_v0.61.ipynb\n"
     ]
    },
    {
     "data": {
      "application/vnd.jupyter.widget-view+json": {
       "model_id": "ef843e5a0b654685877342d92e52c000",
       "version_major": 2,
       "version_minor": 0
      },
      "text/plain": [
       "Executing:   0%|          | 0/252 [00:00<?, ?cell/s]"
      ]
     },
     "metadata": {},
     "output_type": "display_data"
    },
    {
     "name": "stdout",
     "output_type": "stream",
     "text": [
      "Exception...\n",
      "Ran in 129.87223920027415 minutes\n",
      "Running notebook ./GTH_wk3_test-batch_v0.61.ipynb\n"
     ]
    },
    {
     "data": {
      "application/vnd.jupyter.widget-view+json": {
       "model_id": "f9f35720b5ac4391bcf03edae15d4253",
       "version_major": 2,
       "version_minor": 0
      },
      "text/plain": [
       "Executing:   0%|          | 0/252 [00:00<?, ?cell/s]"
      ]
     },
     "metadata": {},
     "output_type": "display_data"
    },
    {
     "name": "stdout",
     "output_type": "stream",
     "text": [
      "Exception...\n",
      "Ran in 161.22041431268056 minutes\n",
      "Running notebook ./GTH_wk7_test-batch_v0.61.ipynb\n"
     ]
    },
    {
     "data": {
      "application/vnd.jupyter.widget-view+json": {
       "model_id": "1f96eaaa67e74b02a21261594715f9c0",
       "version_major": 2,
       "version_minor": 0
      },
      "text/plain": [
       "Executing:   0%|          | 0/252 [00:00<?, ?cell/s]"
      ]
     },
     "metadata": {},
     "output_type": "display_data"
    },
    {
     "name": "stdout",
     "output_type": "stream",
     "text": [
      "Exception...\n",
      "Ran in 112.6640626748403 minutes\n",
      "Running notebook ./GTI_wk3_test-batch_v0.61.ipynb\n"
     ]
    },
    {
     "data": {
      "application/vnd.jupyter.widget-view+json": {
       "model_id": "ab6fe8b70a6f445bbb47caec5649e8a5",
       "version_major": 2,
       "version_minor": 0
      },
      "text/plain": [
       "Executing:   0%|          | 0/252 [00:00<?, ?cell/s]"
      ]
     },
     "metadata": {},
     "output_type": "display_data"
    },
    {
     "name": "stdout",
     "output_type": "stream",
     "text": [
      "Exception...\n",
      "Ran in 129.34086148738862 minutes\n",
      "Running notebook ./GTJ_wk3_test-batch_v0.61.ipynb\n"
     ]
    },
    {
     "data": {
      "application/vnd.jupyter.widget-view+json": {
       "model_id": "2da9abf3409b4ba4b7e8c293af2f80b7",
       "version_major": 2,
       "version_minor": 0
      },
      "text/plain": [
       "Executing:   0%|          | 0/252 [00:00<?, ?cell/s]"
      ]
     },
     "metadata": {},
     "output_type": "display_data"
    },
    {
     "name": "stdout",
     "output_type": "stream",
     "text": [
      "Exception...\n",
      "Ran in 120.33360325892767 minutes\n",
      "Running notebook ./GTK_wk3_test-batch_v0.61.ipynb\n"
     ]
    },
    {
     "data": {
      "application/vnd.jupyter.widget-view+json": {
       "model_id": "35d7cc95dd40491c8692fc8228bb6024",
       "version_major": 2,
       "version_minor": 0
      },
      "text/plain": [
       "Executing:   0%|          | 0/252 [00:00<?, ?cell/s]"
      ]
     },
     "metadata": {},
     "output_type": "display_data"
    },
    {
     "name": "stdout",
     "output_type": "stream",
     "text": [
      "Exception...\n",
      "Ran in 154.595609720548 minutes\n",
      "Running notebook ./GTL_wk3_test-batch_v0.61.ipynb\n"
     ]
    },
    {
     "data": {
      "application/vnd.jupyter.widget-view+json": {
       "model_id": "2855d51808f840a6b634a52c18658078",
       "version_major": 2,
       "version_minor": 0
      },
      "text/plain": [
       "Executing:   0%|          | 0/252 [00:00<?, ?cell/s]"
      ]
     },
     "metadata": {},
     "output_type": "display_data"
    }
   ],
   "source": [
    "for notebook in notebooks[66::]:\n",
    "    output_filename = notebook.replace(\".ipynb\",\n",
    "                                       \"_out.ipynb\")\n",
    "    \n",
    "    print(\"Running notebook \" + notebook)\n",
    "    \n",
    "    output_exists = False\n",
    "    t0 = time.time()\n",
    "    \n",
    "    try: \n",
    "        pm.execute_notebook(\n",
    "            notebook,\n",
    "            output_filename,\n",
    "            allow_errors=True\n",
    "        )\n",
    "    except: \n",
    "        print(\"Exception...\")\n",
    "    \n",
    "    # while output_exists == False:\n",
    "    #     time.sleep(1)\n",
    "    #     if exists(output_filename):\n",
    "    #         output_exists = True\n",
    "    \n",
    "    t1 = time.time()\n",
    "    runtime = (t1-t0)/60\n",
    "    \n",
    "    print(\"Ran in \" + str(runtime) + \" minutes\")\n",
    "    "
   ]
  },
  {
   "cell_type": "markdown",
   "id": "eb6d767d-fed1-4263-9f13-237bf5d3c1b2",
   "metadata": {},
   "source": [
    "GTFFF wk10 ran in less than a minute... must be some problem."
   ]
  },
  {
   "cell_type": "code",
   "execution_count": 8,
   "id": "753c9485-d0f4-4e73-9ab4-bb36d5fc3f4a",
   "metadata": {},
   "outputs": [],
   "source": [
    "notebook = notebooks[10]"
   ]
  },
  {
   "cell_type": "code",
   "execution_count": 9,
   "id": "fda30db3-72b1-4aef-a31d-cb237f16d24a",
   "metadata": {},
   "outputs": [
    {
     "data": {
      "text/plain": [
       "['./GTW_wk10_test-batch_v0.61_out.ipynb',\n",
       " './GTDD_wk3_test-batch_v0.61_out.ipynb',\n",
       " './GTFF_wk10_test-batch_v0.61_out.ipynb',\n",
       " './GTUU_wk3_test-batch_v0.61_out.ipynb',\n",
       " './GTC_wk3_test-batch_v0.61_out.ipynb',\n",
       " './GTE_wk10_test-batch_v0.61_out.ipynb',\n",
       " './GTG_wk10_test-batch_v0.61_out.ipynb',\n",
       " './debug_GTFF_wk10_h5py_erorr.ipynb',\n",
       " './GTW_wk10_test-batch_v0.61.ipynb',\n",
       " './GTDD_wk3_test-batch_v0.61.ipynb',\n",
       " './GTFF_wk10_test-batch_v0.61.ipynb',\n",
       " './GTUU_wk3_test-batch_v0.61.ipynb',\n",
       " './GTC_wk3_test-batch_v0.61.ipynb',\n",
       " './GTE_wk10_test-batch_v0.61.ipynb',\n",
       " './GTG_wk10_test-batch_v0.61.ipynb']"
      ]
     },
     "execution_count": 9,
     "metadata": {},
     "output_type": "execute_result"
    }
   ],
   "source": [
    "notebooks"
   ]
  },
  {
   "cell_type": "code",
   "execution_count": 12,
   "id": "086c120a-97a1-43a6-9896-4c1055b6fba3",
   "metadata": {},
   "outputs": [
    {
     "data": {
      "text/plain": [
       "'./GTG_wk10_test-batch_v0.61.ipynb'"
      ]
     },
     "execution_count": 12,
     "metadata": {},
     "output_type": "execute_result"
    }
   ],
   "source": [
    "notebooks[14]"
   ]
  },
  {
   "cell_type": "code",
   "execution_count": 13,
   "id": "bf305c9d-ced9-4211-87cb-0b75abf29f7a",
   "metadata": {},
   "outputs": [],
   "source": [
    "notebook = notebooks[14]"
   ]
  },
  {
   "cell_type": "code",
   "execution_count": 14,
   "id": "9338cc79-0d22-42aa-957a-3646addc2508",
   "metadata": {
    "tags": []
   },
   "outputs": [
    {
     "name": "stdout",
     "output_type": "stream",
     "text": [
      "Running notebook ./GTG_wk10_test-batch_v0.61.ipynb\n"
     ]
    },
    {
     "data": {
      "application/vnd.jupyter.widget-view+json": {
       "model_id": "2cd323cd96344849ab6a01ee9ec7daa1",
       "version_major": 2,
       "version_minor": 0
      },
      "text/plain": [
       "Executing:   0%|          | 0/250 [00:00<?, ?cell/s]"
      ]
     },
     "metadata": {},
     "output_type": "display_data"
    },
    {
     "name": "stdout",
     "output_type": "stream",
     "text": [
      "Exception...\n",
      "Ran in 82.48124748071035 minutes\n"
     ]
    }
   ],
   "source": [
    "output_filename = notebook.replace(\".ipynb\",\n",
    "                                   \"_out.ipynb\")\n",
    "\n",
    "print(\"Running notebook \" + notebook)\n",
    "\n",
    "output_exists = False\n",
    "t0 = time.time()\n",
    "\n",
    "try: \n",
    "    pm.execute_notebook(\n",
    "        notebook,\n",
    "        output_filename,\n",
    "        allow_errors=True\n",
    "    )\n",
    "except: \n",
    "    print(\"Exception...\")\n",
    "\n",
    "# while output_exists == False:\n",
    "#     time.sleep(1)\n",
    "#     if exists(output_filename):\n",
    "#         output_exists = True\n",
    "\n",
    "t1 = time.time()\n",
    "runtime = (t1-t0)/60\n",
    "\n",
    "print(\"Ran in \" + str(runtime) + \" minutes\")\n"
   ]
  },
  {
   "cell_type": "code",
   "execution_count": null,
   "id": "81deca0c-1a4a-498b-a225-725dac22e50a",
   "metadata": {},
   "outputs": [],
   "source": []
  }
 ],
 "metadata": {
  "kernelspec": {
   "display_name": "Python 3 (ipykernel)",
   "language": "python",
   "name": "python3"
  },
  "language_info": {
   "codemirror_mode": {
    "name": "ipython",
    "version": 3
   },
   "file_extension": ".py",
   "mimetype": "text/x-python",
   "name": "python",
   "nbconvert_exporter": "python",
   "pygments_lexer": "ipython3",
   "version": "3.10.4"
  }
 },
 "nbformat": 4,
 "nbformat_minor": 5
}
