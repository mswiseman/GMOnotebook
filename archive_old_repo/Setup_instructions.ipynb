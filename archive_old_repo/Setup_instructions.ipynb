{
 "cells": [
  {
   "cell_type": "markdown",
   "metadata": {},
   "source": [
    "# Instructions to install phenomics workflow on a new computer"
   ]
  },
  {
   "cell_type": "markdown",
   "metadata": {},
   "source": [
    "## Installation of *JupyterLab*\n",
    "Note: If you are viewing these instructions in *JupyterLab*, this is already complete.\n",
    "\n",
    "1. Install *Anaconda*\n",
    "2. Install *JupyterLab* and related dependencies into a new environment using the command: <br>`conda create -y -c conda-forge jupyterlab=3.0.3 bash_kernel nodejs`\n",
    "3. Open *JupyterLab* using the command: `jupyter lab`\n",
    "4. (Optional) Install the toc-extension and collapsible_headings extensions in *JupyterLab*. You can find these by clicking on the puzzle icon on the left panel, then typing each of these two extension names and clicking the \"Install\" button for each."
   ]
  },
  {
   "cell_type": "markdown",
   "metadata": {},
   "source": [
    "## Installation of GMOdetector"
   ]
  },
  {
   "cell_type": "markdown",
   "metadata": {},
   "source": [
    "1. Clone *gmodetector_py* from Github using the command:<br>`git clone https://github.com/naglemi/gmodetector_py.git`\n",
    "2. Create an environment that already has most dependencies using this command: <br>`conda create -y -c conda-forge -n test-environment python=3.7.4 pytest codecov numpy pandas matplotlib tzlocal h5py pytables rpy2 parallel`\n",
    "3. Activate the new conda environment<br>`conda activate test-environment`\n",
    "4. Install *Spectral Python* from the *pypi* repository<br>`pip install spectral`\n",
    "5. Launch R and install *scales* from the R console via:<br>`install.packages('scales', repos = 'http://cran.us.r-project.org')`\n",
    "- Note: To launch R, just type `R` on the command line and press enter. Once you have completed installation and are ready to leave R and return to command line, enter `q()`. When prompted, enter `n` to indicate there is no need to save the workspace.\n",
    "6. Install *gmodetector_py* and test dependencies. The below command should be run from inside the *gmodetector_py* directory that is created from step 1 of this section.<br>`pip install \".[test]\"`"
   ]
  },
  {
   "cell_type": "markdown",
   "metadata": {},
   "source": [
    "## Installation of segmentation tools"
   ]
  },
  {
   "cell_type": "markdown",
   "metadata": {},
   "source": [
    "1. Install all dependencies for deeplab in a new conda environment:<br>\n",
    "`conda create -y -c conda-forge --name deeplab scipy opencv tensorflow=1.14 pillow`<br>\n",
    "2. Enter the environment and install one additional dependency from within:<br>\n",
    "`conda activate deeplab`<br>\n",
    "`pip install pyyaml`<br>\n",
    "3. Download the modified deeplab repository, including the pre-trained model, from the URL below. The entire folder should be downloaded and named \"deeplab\".<br>https://drive.google.com/drive/folders/1jvDsksXWJEBzb_TEZAK6--Ih33RmrYeC?usp=sharing"
   ]
  },
  {
   "cell_type": "markdown",
   "metadata": {},
   "source": [
    "## Installation of tools for classifying missing/contaminated explants"
   ]
  },
  {
   "cell_type": "markdown",
   "metadata": {},
   "source": [
    "1. Create an environment that will contain most dependencies, installed through conda:<br>\n",
    "`conda create -y -c conda-forge --name DenseNet python=3.6 keras tensorflow-gpu=1.13`<br>\n",
    "- Tip: tensorflow-gpu version 1.14 can be used if there is a problem with 1.13.<br>\n",
    "2. Enter the environment and install remaining dependencies through pip:<br>\n",
    "`pip3 install opencv-python Pillow matplotlib easydict argparse tqdm`<br>\n",
    "3. Clone the repository<br>\n",
    "`git clone https://github.com/Contamination-Classification/DenseNet`<br>\n",
    "3. Download the model from the below link. This should be saved into the folder called \"DenseNet\", which was created in the previous step.br>https://drive.google.com/file/d/1rLjzISZF9UTe11url96IS5A61GdLWOW9/view?usp=sharing"
   ]
  },
  {
   "cell_type": "markdown",
   "metadata": {},
   "source": [
    "## Installation of image alignment"
   ]
  },
  {
   "cell_type": "markdown",
   "metadata": {},
   "source": [
    "1. Clone the repository:<br>\n",
    "`cd ~/code`<br>\n",
    "`git clone https://github.com/NSF-Image-alignment/ImageAlignment.git`\n",
    "2. Create a conda environment:<br>\n",
    "`conda create -y -n alignment python=3.7`<br>\n",
    "3. Enter the conda environment and install the dependencies through pip:\n",
    "`conda activate alignment`<br>\n",
    "`pip3 install pillow scikit-image numpy matplotlib easydict opencv-python pandas argparse xlrd`\n",
    "4. Install *cmake* so we can build *SIFT* from source:<br>`conda install -c anaconda cmake`"
   ]
  },
  {
   "cell_type": "markdown",
   "metadata": {},
   "source": [
    "## Installation of GMOlabeler"
   ]
  },
  {
   "cell_type": "markdown",
   "metadata": {},
   "source": [
    "1. Create and activate a new environment<br>\n",
    "`conda create -y -n gmolabeler -c anaconda pillow pandas pytables`<br>\n",
    "`conda activate gmolabeler`<br>\n",
    "`conda install -y -c conda-forge libv8 rpy2`<br>\n",
    "2. Launch the R console and install required R packages from the R console:<br>`install.packages(c(\"optparse\", \"data.table\", \"stringr\", \"scales\", \"readxl\", \"ggplot2\", \"randomcoloR\", \"tidyr\"))`"
   ]
  },
  {
   "cell_type": "markdown",
   "metadata": {},
   "source": []
  },
  {
   "cell_type": "code",
   "execution_count": null,
   "metadata": {},
   "outputs": [],
   "source": []
  }
 ],
 "metadata": {
  "kernelspec": {
   "display_name": "Python 3",
   "language": "python",
   "name": "python3"
  },
  "language_info": {
   "codemirror_mode": {
    "name": "ipython",
    "version": 3
   },
   "file_extension": ".py",
   "mimetype": "text/x-python",
   "name": "python",
   "nbconvert_exporter": "python",
   "pygments_lexer": "ipython3",
   "version": "3.9.2"
  }
 },
 "nbformat": 4,
 "nbformat_minor": 4
}
