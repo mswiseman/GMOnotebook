{
 "cells": [
  {
   "cell_type": "markdown",
   "metadata": {},
   "source": [
    "# *GMOnotebook*\n",
    "#### **Notebook template for applying hyperspectral/segmentation cross-analysis phenomics workflow over new datasets**"
   ]
  },
  {
   "cell_type": "markdown",
   "metadata": {},
   "source": [
    "###### Notebook template v0.1.60 (Aug 18, 2020)\n",
    "###### New feature: Automated detection and removal of contaminated explants (now using DNN both for contaminated and missing explants, accelerated relative to linear classifier) – from v0.1.51\n",
    "###### In v0.1.52, I cleaned up bash commands in accordance with cleanup of GMOdetectoR repository...\n",
    "###### In v0.1.60, Use new version of contamination model and use a SINGLE environment for everything, for easy installation..."
   ]
  },
  {
   "cell_type": "code",
   "execution_count": 1,
   "metadata": {},
   "outputs": [
    {
     "name": "stdout",
     "output_type": "stream",
     "text": [
      "(gmonotebook) "
     ]
    },
    {
     "ename": "",
     "evalue": "1",
     "output_type": "error",
     "traceback": []
    }
   ],
   "source": [
    "conda activate gmonotebook"
   ]
  },
  {
   "cell_type": "markdown",
   "metadata": {},
   "source": [
    "<img src=\"WorkflowFlowchart.png\">"
   ]
  },
  {
   "cell_type": "markdown",
   "metadata": {},
   "source": [
    "In this workflow, images taken with the macroPhor Array dual RGB/hyperspectral imaging platform are analyzed by a workflow in which regression quantifies fluorescent signals in hyperspectral images, deep learning segments RGB images into different tissues, and these datasets are cross-referenced to produce statistics on growth of transgenic callus and shoot."
   ]
  },
  {
   "cell_type": "markdown",
   "metadata": {},
   "source": [
    "#### Instructions for use\n",
    "1.  Enter information for the experiment below\n",
    "2. Set <font color=blue>variables</font> for data paths and parameters, as instructed by colored boxes.\n",
    "3. \"Save as\" with filename describing experiment and anything special about this analysis (e.g. T18_OD_TAO_wk7_automation_test_attempt2.ipynb)\n",
    "4. Run notebook from console, using the below command with the notebook filename inserted<br>\n",
    "```jupyter nbconvert --to HTML --ExecutePreprocessor.timeout=-1 --allow-errors --execute insert_filename_here```\n",
    "5. Wait for email"
   ]
  },
  {
   "cell_type": "markdown",
   "metadata": {},
   "source": [
    "#### Experiment ID and quick description:"
   ]
  },
  {
   "cell_type": "markdown",
   "metadata": {},
   "source": [
    "<div class=\"alert alert-block alert-success\">\n",
    "Provide a short description of the experiment in the below box. This should include unique identifier codes for the experiment, along with a short description of genotypes and treatments studied. </div>"
   ]
  },
  {
   "cell_type": "raw",
   "metadata": {},
   "source": [
    "T16: EC wk31: Eucalyptus cotransformed transformed with PHP-CTR and either PtoWOX5a, PtoWOX11, PtoWUSa, or no co-transformation control. From mix of GH and IV materials, leaf and stem, but at this timepoint nothing has survived except in vitro leaf materials."
   ]
  },
  {
   "cell_type": "markdown",
   "metadata": {},
   "source": [
    "#### Parameters for analysis:"
   ]
  },
  {
   "cell_type": "markdown",
   "metadata": {},
   "source": [
    "<div class=\"alert alert-block alert-success\">\n",
    "The below variables must be modified appropriately every time this workflow is run over new images.\n",
    "</div>"
   ]
  },
  {
   "cell_type": "markdown",
   "metadata": {},
   "source": [
    "##### Data location\n",
    "The below is the path to the dataset. This should include all folder and subfolders in which the data of interest is organized by. For the organizational system used for our lab's data, this should follow the format \"/Experiment/Subexperiment/Timepoint\""
   ]
  },
  {
   "cell_type": "code",
   "execution_count": 2,
   "metadata": {},
   "outputs": [
    {
     "name": "stdout",
     "output_type": "stream",
     "text": [
      "(gmonotebook) "
     ]
    },
    {
     "ename": "",
     "evalue": "1",
     "output_type": "error",
     "traceback": []
    }
   ],
   "source": [
    "data_folder=\"/T16_DEV_genes/EA/wk7\""
   ]
  },
  {
   "cell_type": "markdown",
   "metadata": {},
   "source": [
    "##### Sample information\n",
    "Every experiment has a randomization datasheet which was used to organize treatment and genotype information for each plate, prepare labels, and randomize plates. This workflow requires this datasheet in order to know which plates have which genotype/treatment. At a later date, we will integrate an ability to read this data directly from labels."
   ]
  },
  {
   "cell_type": "code",
   "execution_count": 3,
   "metadata": {},
   "outputs": [
    {
     "name": "stdout",
     "output_type": "stream",
     "text": [
      "(gmonotebook) "
     ]
    },
    {
     "ename": "",
     "evalue": "1",
     "output_type": "error",
     "traceback": []
    }
   ],
   "source": [
    "randomization_datasheet=\"/scratch2/NSF_GWAS/macroPhor_Array/T16_DEV_genes/EA_randomized.xlsx\""
   ]
  },
  {
   "cell_type": "markdown",
   "metadata": {},
   "source": [
    "##### Exclusion of missing/contaminated explants from analysis"
   ]
  },
  {
   "cell_type": "markdown",
   "metadata": {},
   "source": [
    "Set the below variable to \"Automatic\" if using model to automatically detect missing and contaminated explants. Note that this model is only supported for plates with 12 explants. Otherwise, provide an appropriately formatted .csv spreadsheet (see example)  of manually scored contamination / missing explant data."
   ]
  },
  {
   "cell_type": "code",
   "execution_count": 4,
   "metadata": {},
   "outputs": [
    {
     "name": "stdout",
     "output_type": "stream",
     "text": [
      "(gmonotebook) "
     ]
    },
    {
     "ename": "",
     "evalue": "1",
     "output_type": "error",
     "traceback": []
    }
   ],
   "source": [
    "missing_explants=\"Automatic\""
   ]
  },
  {
   "cell_type": "markdown",
   "metadata": {},
   "source": [
    "Enter your email where results will be sent"
   ]
  },
  {
   "cell_type": "code",
   "execution_count": 5,
   "metadata": {},
   "outputs": [
    {
     "name": "stdout",
     "output_type": "stream",
     "text": [
      "(gmonotebook) "
     ]
    },
    {
     "ename": "",
     "evalue": "1",
     "output_type": "error",
     "traceback": []
    }
   ],
   "source": [
    "email=michael.nagle@oregonstate.edu"
   ]
  },
  {
   "cell_type": "markdown",
   "metadata": {},
   "source": [
    "<div class=\"alert alert-block alert-warning\">\n",
    "The below variables should be modified only as needed to indicate the fluorescent proteins in samples and the grid layout of explants. </div>"
   ]
  },
  {
   "cell_type": "markdown",
   "metadata": {},
   "source": [
    "Select the appropriate fluorophore list depending on reporter protein(s) being used"
   ]
  },
  {
   "cell_type": "code",
   "execution_count": 6,
   "metadata": {},
   "outputs": [
    {
     "name": "stdout",
     "output_type": "stream",
     "text": [
      "(gmonotebook) (gmonotebook) "
     ]
    },
    {
     "ename": "",
     "evalue": "1",
     "output_type": "error",
     "traceback": []
    }
   ],
   "source": [
    "#fluorophores=GFP_in_poplar_fluorophore_list.txt\n",
    "fluorophores=PHPCTR_in_poplar_fluorophore_list.txt"
   ]
  },
  {
   "cell_type": "code",
   "execution_count": 7,
   "metadata": {},
   "outputs": [
    {
     "name": "stdout",
     "output_type": "stream",
     "text": [
      "(gmonotebook) (gmonotebook) "
     ]
    },
    {
     "ename": "",
     "evalue": "1",
     "output_type": "error",
     "traceback": []
    }
   ],
   "source": [
    "#reporter=GFP\n",
    "reporter=DsRed"
   ]
  },
  {
   "cell_type": "markdown",
   "metadata": {},
   "source": [
    "The parameters for reporter signal threshold and pixel threshold must be provided by the user. Our brute force analyses yielded several noted below."
   ]
  },
  {
   "cell_type": "code",
   "execution_count": 8,
   "metadata": {},
   "outputs": [
    {
     "name": "stdout",
     "output_type": "stream",
     "text": [
      "(gmonotebook) (gmonotebook) "
     ]
    },
    {
     "ename": "",
     "evalue": "1",
     "output_type": "error",
     "traceback": []
    }
   ],
   "source": [
    "reporter_threshold=8.76\n",
    "#reporter_threshold=3.97"
   ]
  },
  {
   "cell_type": "code",
   "execution_count": 9,
   "metadata": {},
   "outputs": [
    {
     "name": "stdout",
     "output_type": "stream",
     "text": [
      "(gmonotebook) "
     ]
    },
    {
     "ename": "",
     "evalue": "1",
     "output_type": "error",
     "traceback": []
    }
   ],
   "source": [
    "pixel_threshold=5"
   ]
  },
  {
   "cell_type": "code",
   "execution_count": 10,
   "metadata": {},
   "outputs": [
    {
     "name": "stdout",
     "output_type": "stream",
     "text": [
      "(gmonotebook) (gmonotebook) "
     ]
    },
    {
     "ename": "",
     "evalue": "1",
     "output_type": "error",
     "traceback": []
    }
   ],
   "source": [
    "#grid=20\n",
    "grid=12"
   ]
  },
  {
   "cell_type": "markdown",
   "metadata": {},
   "source": [
    "This variable is for the number of grid positions on a plate. This workflow currently supports 12 and 20."
   ]
  },
  {
   "cell_type": "code",
   "execution_count": 11,
   "metadata": {},
   "outputs": [
    {
     "name": "stdout",
     "output_type": "stream",
     "text": [
      "(gmonotebook) (gmonotebook) "
     ]
    },
    {
     "ename": "",
     "evalue": "1",
     "output_type": "error",
     "traceback": []
    }
   ],
   "source": [
    "#grid_file=\"/scratch2/NSF_GWAS/macroPhor_Array/grids/grid20_post_processed.png\"\n",
    "grid_file=\"/scratch2/NSF_GWAS/macroPhor_Array/grids/grids_left_facing_125208_1_0_1_rgb_processed.jpg\""
   ]
  },
  {
   "cell_type": "markdown",
   "metadata": {},
   "source": [
    "<div class=\"alert alert-block alert-danger\">\n",
    "The below variables do not need to be modified during any routine use of the workflow.\n",
    "</div>"
   ]
  },
  {
   "cell_type": "code",
   "execution_count": 12,
   "metadata": {},
   "outputs": [
    {
     "name": "stdout",
     "output_type": "stream",
     "text": [
      "(gmonotebook) "
     ]
    },
    {
     "ename": "",
     "evalue": "1",
     "output_type": "error",
     "traceback": []
    }
   ],
   "source": [
    "Ncores=25"
   ]
  },
  {
   "cell_type": "markdown",
   "metadata": {},
   "source": [
    "This option should be either \"continuous\" or \"categorical\" and indicates the type of treatment (e.g. continuous variable for different levels of a chemical, or categorical for different gene vectors)."
   ]
  },
  {
   "cell_type": "code",
   "execution_count": 13,
   "metadata": {},
   "outputs": [
    {
     "name": "stdout",
     "output_type": "stream",
     "text": [
      "(gmonotebook) "
     ]
    },
    {
     "ename": "",
     "evalue": "1",
     "output_type": "error",
     "traceback": []
    }
   ],
   "source": [
    "variable_type=\"categorical\""
   ]
  },
  {
   "cell_type": "markdown",
   "metadata": {},
   "source": [
    "For the following three variables, use 0 (False) or 1 (True)"
   ]
  },
  {
   "cell_type": "markdown",
   "metadata": {},
   "source": [
    "If these options are true, plots are produced for every plate. This is helpful when trying new fluorophores or a new type of dataset, but is not needed for every analysis. Producing either or both type of plot will make analysis take several times longer."
   ]
  },
  {
   "cell_type": "code",
   "execution_count": 14,
   "metadata": {},
   "outputs": [
    {
     "name": "stdout",
     "output_type": "stream",
     "text": [
      "(gmonotebook) "
     ]
    },
    {
     "ename": "",
     "evalue": "1",
     "output_type": "error",
     "traceback": []
    }
   ],
   "source": [
    "residualplots=0"
   ]
  },
  {
   "cell_type": "code",
   "execution_count": 15,
   "metadata": {},
   "outputs": [
    {
     "name": "stdout",
     "output_type": "stream",
     "text": [
      "(gmonotebook) "
     ]
    },
    {
     "ename": "",
     "evalue": "1",
     "output_type": "error",
     "traceback": []
    }
   ],
   "source": [
    "regressionplots=0"
   ]
  },
  {
   "cell_type": "code",
   "execution_count": 16,
   "metadata": {},
   "outputs": [
    {
     "name": "stdout",
     "output_type": "stream",
     "text": [
      "(gmonotebook) "
     ]
    },
    {
     "ename": "",
     "evalue": "1",
     "output_type": "error",
     "traceback": []
    }
   ],
   "source": [
    "composite=1"
   ]
  },
  {
   "cell_type": "markdown",
   "metadata": {},
   "source": [
    "The below option should always be 0 (False) in this workflow since we are running regression over entire plates, then later integrating this data with deep segmentation results and finally dividing plates according to grid position and tissue type at the same time. <br>If the below option is 1 (True) then we output explant-level regression outputs at the end of regression. Plates would be divided prior to regression"
   ]
  },
  {
   "cell_type": "code",
   "execution_count": 17,
   "metadata": {},
   "outputs": [
    {
     "name": "stdout",
     "output_type": "stream",
     "text": [
      "(gmonotebook) "
     ]
    },
    {
     "ename": "",
     "evalue": "1",
     "output_type": "error",
     "traceback": []
    }
   ],
   "source": [
    "explantstatistics=0"
   ]
  },
  {
   "cell_type": "markdown",
   "metadata": {},
   "source": [
    "Set dimensions for plot outputs"
   ]
  },
  {
   "cell_type": "code",
   "execution_count": 18,
   "metadata": {},
   "outputs": [
    {
     "name": "stdout",
     "output_type": "stream",
     "text": [
      "(gmonotebook) (gmonotebook) (gmonotebook) "
     ]
    },
    {
     "ename": "",
     "evalue": "1",
     "output_type": "error",
     "traceback": []
    }
   ],
   "source": [
    "#width=15\n",
    "width=6\n",
    "height=5"
   ]
  },
  {
   "cell_type": "markdown",
   "metadata": {},
   "source": [
    "<div class=\"alert alert-block alert-info\">\n",
    "With all above variables set, please \"Save as...\" with a filename referencing this specific dataset. <br>Finally, execute the workflow by running the below command in a console, replacing insert_filename_here with the filename for the saved notebook.\n",
    "</div>"
   ]
  },
  {
   "cell_type": "raw",
   "metadata": {},
   "source": [
    "jupyter nbconvert --to HTML --ExecutePreprocessor.timeout=-1 --allow-errors --execute EA_v0.1.50_labdemo.ipynb"
   ]
  },
  {
   "cell_type": "markdown",
   "metadata": {},
   "source": [
    "# Automated workflow to be deployed"
   ]
  },
  {
   "cell_type": "markdown",
   "metadata": {},
   "source": [
    "See the below code for a walkthrough of how GMOnotebook works, or view the outputs after running the workflow for help troubleshooting errors in specific steps of analysis."
   ]
  },
  {
   "cell_type": "markdown",
   "metadata": {},
   "source": [
    "<div class=\"alert alert-block alert-danger\"> <b>Danger:</b> Do not modify any below code without creating a new version of the template notebook. Interact with this workflow by modifying variables above while leaving the below code unmodified. </div>"
   ]
  },
  {
   "cell_type": "markdown",
   "metadata": {},
   "source": [
    "##### Time analysis begins:"
   ]
  },
  {
   "cell_type": "code",
   "execution_count": 19,
   "metadata": {},
   "outputs": [
    {
     "name": "stdout",
     "output_type": "stream",
     "text": [
      "Tue Aug 18 21:12:40 PDT 2020\n",
      "(gmonotebook) "
     ]
    },
    {
     "ename": "",
     "evalue": "1",
     "output_type": "error",
     "traceback": []
    }
   ],
   "source": [
    "echo $(date)"
   ]
  },
  {
   "cell_type": "markdown",
   "metadata": {},
   "source": [
    "These internal variables are set automatically."
   ]
  },
  {
   "cell_type": "code",
   "execution_count": 20,
   "metadata": {},
   "outputs": [
    {
     "name": "stdout",
     "output_type": "stream",
     "text": [
      "(gmonotebook) "
     ]
    },
    {
     "ename": "",
     "evalue": "1",
     "output_type": "error",
     "traceback": []
    }
   ],
   "source": [
    "datestamp=$(date +”%Y-%m-%d”)"
   ]
  },
  {
   "cell_type": "code",
   "execution_count": 21,
   "metadata": {},
   "outputs": [
    {
     "name": "stdout",
     "output_type": "stream",
     "text": [
      "(gmonotebook) "
     ]
    },
    {
     "ename": "",
     "evalue": "1",
     "output_type": "error",
     "traceback": []
    }
   ],
   "source": [
    "timepoint=\"$(basename -- $data_folder)\""
   ]
  },
  {
   "cell_type": "code",
   "execution_count": 22,
   "metadata": {},
   "outputs": [
    {
     "name": "stdout",
     "output_type": "stream",
     "text": [
      "(gmonotebook) "
     ]
    },
    {
     "ename": "",
     "evalue": "1",
     "output_type": "error",
     "traceback": []
    }
   ],
   "source": [
    "data=\"/scratch2/NSF_GWAS/macroPhor_Array${data_folder}\""
   ]
  },
  {
   "cell_type": "code",
   "execution_count": 24,
   "metadata": {},
   "outputs": [
    {
     "name": "stdout",
     "output_type": "stream",
     "text": [
      "(gmonotebook) "
     ]
    },
    {
     "ename": "",
     "evalue": "1",
     "output_type": "error",
     "traceback": []
    }
   ],
   "source": [
    "TMPDIR=\"/scratch2/NSF_GWAS/Rtmp/\""
   ]
  },
  {
   "cell_type": "markdown",
   "metadata": {},
   "source": [
    "## 1. Quantification of fluorescent proteins by regression"
   ]
  },
  {
   "cell_type": "markdown",
   "metadata": {},
   "source": [
    "The R library GMOdetectoR is used to quantify fluorescent proteins in each pixel of hyperspectral images via linear regression. Hyperspectral images are regressed over spectra of known components, and pixelwise maps of test-statistics are constructed for each component in the sample. This approach to quantifying components of hyperspectral images is described in-depth in the Methods section from <a href=\"https://link.springer.com/article/10.1007/s40789-019-0252-7\" target=\"_blank\">Böhme, et al. 2019</a>. Code and documentation for GMOdetectoR is on <a href=\"https://github.com/naglemi/GMOdetectoR\" target=\"_blank\">Github</a>."
   ]
  },
  {
   "cell_type": "code",
   "execution_count": 27,
   "metadata": {},
   "outputs": [
    {
     "name": "stdout",
     "output_type": "stream",
     "text": [
      "(gmonotebook) Error in library(GMOdetectoR) : there is no package called ‘GMOdetectoR’\n",
      "Execution halted\n",
      "(gmonotebook) "
     ]
    },
    {
     "ename": "",
     "evalue": "1",
     "output_type": "error",
     "traceback": []
    }
   ],
   "source": [
    "cd /scratch2/NSF_GWAS/GMOdetectoR/\n",
    "Rscript wrappers/GMOdetectoR_wrapper.R \\\n",
    "-F $data \\\n",
    "-g $grid \\\n",
    "-m $Ncores \\\n",
    "-r $residualplots \\\n",
    "-p $regressionplots \\\n",
    "-e $explantstatistics \\\n",
    "-f $fluorophores"
   ]
  },
  {
   "cell_type": "markdown",
   "metadata": {},
   "source": [
    "##### Time regression completes:"
   ]
  },
  {
   "cell_type": "code",
   "execution_count": 24,
   "metadata": {},
   "outputs": [
    {
     "name": "stdout",
     "output_type": "stream",
     "text": [
      "Tue Jul 21 01:26:09 PDT 2020\n"
     ]
    }
   ],
   "source": [
    "echo $(date)"
   ]
  },
  {
   "cell_type": "markdown",
   "metadata": {},
   "source": [
    "## 2. Neural networks to segment tissues, classify missing/contaminated explants"
   ]
  },
  {
   "cell_type": "markdown",
   "metadata": {},
   "source": [
    "### 2.1. Semantic segmentation of tissues"
   ]
  },
  {
   "cell_type": "markdown",
   "metadata": {},
   "source": [
    "Images are segmented into specific plant tissues by a deep neural network of the state-of-the-art Deeplab v3 architecture <a href=\"https://arxiv.org/abs/1706.05587\" target=\"_blank\">Liang-Chieh et al., 2017</a>. The model has been trained using training sets generated with our annotation GUI Intelligent DEep Annotator for Segmentation (IDEAS, available on <a href=\"https://bitbucket.org/JialinYuan/image-annotator/src/master/\" target=\"_blank\">Bitbucket</a>, publication pending). Our branch of the Deeplab v3 repo, including a Jupyter walkthrough for training, can be found on Github."
   ]
  },
  {
   "cell_type": "markdown",
   "metadata": {},
   "source": [
    "Training is completed upstream of this notebook, which only entails analysis of test data using the latest model."
   ]
  },
  {
   "cell_type": "markdown",
   "metadata": {},
   "source": [
    "<img src=\"Figures/downsized/segmentation_composite2.png\">"
   ]
  },
  {
   "cell_type": "markdown",
   "metadata": {},
   "source": [
    "Figure: This example image was taken from an experiment on the effects of different CIMs on cottonwood regeneration. This composite image illustrates that for every sample, tissues are segmented into stem (red), callus (blue) and shoot (green). These composite images, useful for manual inspection of results, are produced when the 'composite' option is on."
   ]
  },
  {
   "cell_type": "markdown",
   "metadata": {},
   "source": [
    "#### 2.1.1. Pre-processing\n",
    "##### 2.1.1.1. Crop to remove labels, and resize images to 900x600"
   ]
  },
  {
   "cell_type": "markdown",
   "metadata": {},
   "source": [
    "This script resizes images to 900x900 and then crops away top and bottom 150 pixels for a final image size of 900x600."
   ]
  },
  {
   "cell_type": "code",
   "execution_count": 25,
   "metadata": {},
   "outputs": [],
   "source": [
    "cd /scratch2/NSF_GWAS/GMOdetectoR/"
   ]
  },
  {
   "cell_type": "code",
   "execution_count": 26,
   "metadata": {},
   "outputs": [
    {
     "name": "stdout",
     "output_type": "stream",
     "text": [
      "(base) (base) "
     ]
    },
    {
     "ename": "",
     "evalue": "1",
     "output_type": "error",
     "traceback": []
    }
   ],
   "source": [
    "conda activate base\n",
    "python crop.py $data"
   ]
  },
  {
   "cell_type": "markdown",
   "metadata": {},
   "source": [
    "##### 2.1.1.2. prepare test.csv file for inference"
   ]
  },
  {
   "cell_type": "markdown",
   "metadata": {},
   "source": [
    "Make a list of all our image files"
   ]
  },
  {
   "cell_type": "code",
   "execution_count": 27,
   "metadata": {},
   "outputs": [
    {
     "name": "stdout",
     "output_type": "stream",
     "text": [
      "(base) (base) "
     ]
    },
    {
     "ename": "",
     "evalue": "1",
     "output_type": "error",
     "traceback": []
    }
   ],
   "source": [
    "cd $data\n",
    "ls -d $PWD/* $data | grep -i \"rgb_cropped\" > test.csv"
   ]
  },
  {
   "cell_type": "markdown",
   "metadata": {},
   "source": [
    "Remove the chroma standard from list of RGB image data to be segmented"
   ]
  },
  {
   "cell_type": "code",
   "execution_count": 28,
   "metadata": {},
   "outputs": [
    {
     "name": "stdout",
     "output_type": "stream",
     "text": [
      "(base) "
     ]
    },
    {
     "ename": "",
     "evalue": "1",
     "output_type": "error",
     "traceback": []
    }
   ],
   "source": [
    "sed -i '/hroma/d' \"${data}/test.csv\""
   ]
  },
  {
   "cell_type": "markdown",
   "metadata": {},
   "source": [
    "#### 2.1.2. Inference"
   ]
  },
  {
   "cell_type": "markdown",
   "metadata": {},
   "source": [
    "The trained model is deployed to perform semantic segmentation of experimental images. A list of RGB images to be segmented by the trained model is passed through the --image-list option. For each of these images, we will obtain an output mask (.png) of labeled tissues"
   ]
  },
  {
   "cell_type": "code",
   "execution_count": 29,
   "metadata": {},
   "outputs": [
    {
     "name": "stdout",
     "output_type": "stream",
     "text": [
      "(base) (deeplab) WARNING:tensorflow:From /scratch2/NSF_GWAS/deeplab/inference.py:34: The name tf.gfile.GFile is deprecated. Please use tf.io.gfile.GFile instead.\n",
      "\n",
      "WARNING:tensorflow:From /scratch2/NSF_GWAS/deeplab/inference.py:35: The name tf.GraphDef is deprecated. Please use tf.compat.v1.GraphDef instead.\n",
      "\n",
      "WARNING:tensorflow:From /scratch2/NSF_GWAS/deeplab/inference.py:41: The name tf.Session is deprecated. Please use tf.compat.v1.Session instead.\n",
      "\n",
      "2020-07-21 01:27:13.275318: I tensorflow/stream_executor/platform/default/dso_loader.cc:42] Successfully opened dynamic library libcuda.so.1\n",
      "2020-07-21 01:27:13.342012: E tensorflow/stream_executor/cuda/cuda_driver.cc:318] failed call to cuInit: CUDA_ERROR_NO_DEVICE: no CUDA-capable device is detected\n",
      "2020-07-21 01:27:13.342164: I tensorflow/stream_executor/cuda/cuda_diagnostics.cc:156] kernel driver does not appear to be running on this host (steed.eecs.oregonstate.edu): /proc/driver/nvidia/version does not exist\n",
      "2020-07-21 01:27:13.343390: I tensorflow/core/platform/cpu_feature_guard.cc:142] Your CPU supports instructions that this TensorFlow binary was not compiled to use: AVX2 FMA\n",
      "2020-07-21 01:27:13.507405: I tensorflow/core/platform/profile_utils/cpu_utils.cc:94] CPU Frequency: 1800080000 Hz\n",
      "2020-07-21 01:27:13.526236: I tensorflow/compiler/xla/service/service.cc:168] XLA service 0x5584dec1d5e0 executing computations on platform Host. Devices:\n",
      "2020-07-21 01:27:13.526318: I tensorflow/compiler/xla/service/service.cc:175]   StreamExecutor device (0): <undefined>, <undefined>\n",
      "Running inference for  5  images.\n",
      "Running deeplab on image: 1\n",
      "2020-07-21 01:27:16.066710: W tensorflow/compiler/jit/mark_for_compilation_pass.cc:1412] (One-time warning): Not using XLA:CPU for cluster because envvar TF_XLA_FLAGS=--tf_xla_cpu_global_jit was not set.  If you want XLA:CPU, either set that envvar, or use experimental_jit_scope to enable XLA:CPU.  To confirm that XLA is active, pass --vmodule=xla_compilation_cache=1 (as a proper command-line flag, not via TF_XLA_FLAGS) or set the envvar XLA_FLAGS=--xla_hlo_profile.\n",
      "Running deeplab on image: 2\n",
      "Running deeplab on image: 3\n",
      "Running deeplab on image: 4\n",
      "Running deeplab on image: 5\n",
      "(deeplab) "
     ]
    },
    {
     "ename": "",
     "evalue": "1",
     "output_type": "error",
     "traceback": []
    }
   ],
   "source": [
    "cd /scratch2/NSF_GWAS/deeplab/\n",
    "conda activate deeplab\n",
    "python /scratch2/NSF_GWAS/deeplab/inference.py --image-list \"${data}/test.csv\""
   ]
  },
  {
   "cell_type": "markdown",
   "metadata": {},
   "source": [
    "#### 2.3. Post-processing"
   ]
  },
  {
   "cell_type": "markdown",
   "metadata": {},
   "source": [
    "Name outputs to reflect that they are segmentation results"
   ]
  },
  {
   "cell_type": "code",
   "execution_count": 30,
   "metadata": {},
   "outputs": [
    {
     "name": "stdout",
     "output_type": "stream",
     "text": [
      "(deeplab) (deeplab) "
     ]
    },
    {
     "ename": "",
     "evalue": "1",
     "output_type": "error",
     "traceback": []
    }
   ],
   "source": [
    "cd $data\n",
    "for file in *_rgb_cropped.png; do mv -f \"$file\" \"${file%_rgb_cropped.png}_segment_cropped.png\"; done"
   ]
  },
  {
   "cell_type": "markdown",
   "metadata": {},
   "source": [
    "Re-expand segment outputs to same size as original RGB files"
   ]
  },
  {
   "cell_type": "code",
   "execution_count": 31,
   "metadata": {},
   "outputs": [
    {
     "name": "stdout",
     "output_type": "stream",
     "text": [
      "(deeplab) (alignment) (alignment) Working in directory/scratch2/NSF_GWAS/macroPhor_Array/T16_DEV_genes/EC/wk31\n",
      "Number of files: 5\n",
      "Reading file EC1_I5.0_F1.9_L100_142252_2_0_6_segment_cropped.png\n",
      "Writing file EC1_I5.0_F1.9_L100_142252_2_0_6_segment_uncropped.png\n",
      "Reading file EC1_I5.0_F1.9_L100_143328_0_2_6_segment_cropped.png\n",
      "Writing file EC1_I5.0_F1.9_L100_143328_0_2_6_segment_uncropped.png\n",
      "Reading file EC1_I5.0_F1.9_L100_142348_3_1_2_segment_cropped.png\n",
      "Writing file EC1_I5.0_F1.9_L100_142348_3_1_2_segment_uncropped.png\n",
      "Reading file EC1_I5.0_F1.9_L100_142158_1_0_4_segment_cropped.png\n",
      "Writing file EC1_I5.0_F1.9_L100_142158_1_0_4_segment_uncropped.png\n",
      "Reading file EC1_I5.0_F1.9_L100_142501_4_1_0_segment_cropped.png\n",
      "Writing file EC1_I5.0_F1.9_L100_142501_4_1_0_segment_uncropped.png\n",
      "(alignment) "
     ]
    },
    {
     "ename": "",
     "evalue": "1",
     "output_type": "error",
     "traceback": []
    }
   ],
   "source": [
    "#cd /scratch2/NSF_GWAS/deeplab/\n",
    "conda activate alignment\n",
    "cd /scratch2/NSF_GWAS/ImageAlignment/\n",
    "python expand.py $data"
   ]
  },
  {
   "cell_type": "markdown",
   "metadata": {},
   "source": [
    "Make composite images with side-by-side RGB, segmentation outputs and blended images"
   ]
  },
  {
   "cell_type": "code",
   "execution_count": 34,
   "metadata": {},
   "outputs": [
    {
     "name": "stdout",
     "output_type": "stream",
     "text": [
      "['image_blender.py', '/scratch2/NSF_GWAS/macroPhor_Array/T16_DEV_genes/EC/wk31', '0.75', 'both', '1', '180']\n",
      "Building composite for image EC1_I5.0_F1.9_L100_142252_2_0_6_rgb.jpg\n",
      "Building composite for image EC1_I5.0_F1.9_L100_142348_3_1_2_rgb.jpg\n",
      "Building composite for image EC1_I5.0_F1.9_L100_142501_4_1_0_rgb.jpg\n",
      "Building composite for image EC1_I5.0_F1.9_L100_143328_0_2_6_rgb.jpg\n",
      "(alignment) "
     ]
    },
    {
     "ename": "",
     "evalue": "1",
     "output_type": "error",
     "traceback": []
    }
   ],
   "source": [
    "if [ $composite -eq 1 ]\n",
    "then\n",
    "    cd /scratch2/NSF_GWAS/GMOlabeler/\n",
    "    python image_blender.py $data 0.75 'both' 1 180\n",
    "fi"
   ]
  },
  {
   "cell_type": "markdown",
   "metadata": {},
   "source": [
    "#### 2.4. Classification of contaminated/missing explants"
   ]
  },
  {
   "cell_type": "markdown",
   "metadata": {},
   "source": [
    "Plates are cropped into sub-images for each explant and each is analyzed to determine if the explant position should be excluded from analysis due to being missing or contamination. Missing and contaminated explants are recognized using a trained Densenet model (<a href=\"https://github.com/Contamination-Classification/DenseNet\" target=\"_blank\">Huang, et al. 2018</a>). Our fork of the Densenet repository is available on <a href=\"https://arxiv.org/abs/1608.06993\" target=\"_blank\">GitHub</a>."
   ]
  },
  {
   "cell_type": "markdown",
   "metadata": {},
   "source": [
    "<img src=\"Figures/Densenet.png\">\n",
    "Figure: These are four examples of contaminated explants used in the training set for this pre-trained model"
   ]
  },
  {
   "cell_type": "markdown",
   "metadata": {},
   "source": [
    "If the mode for missing explant data is automatic, prepare input file for script to detect missing explants and run this script."
   ]
  },
  {
   "cell_type": "code",
   "execution_count": 35,
   "metadata": {},
   "outputs": [
    {
     "name": "stdout",
     "output_type": "stream",
     "text": [
      "(alignment) "
     ]
    },
    {
     "ename": "",
     "evalue": "1",
     "output_type": "error",
     "traceback": []
    }
   ],
   "source": [
    "img_list_path=\"${data}/rgb_list.txt\""
   ]
  },
  {
   "cell_type": "code",
   "execution_count": 36,
   "metadata": {},
   "outputs": [
    {
     "name": "stdout",
     "output_type": "stream",
     "text": [
      "bash: /scratch2/NSF_GWAS/macroPhor_Array/T16_DEV_genes/EC/wk31/output_a2.csv: No such file or directory\n",
      "(alignment) "
     ]
    },
    {
     "ename": "",
     "evalue": "1",
     "output_type": "error",
     "traceback": []
    }
   ],
   "source": [
    "\"${data}/output_a2.csv\""
   ]
  },
  {
   "cell_type": "code",
   "execution_count": 37,
   "metadata": {
    "slideshow": {
     "slide_type": "slide"
    }
   },
   "outputs": [
    {
     "name": "stdout",
     "output_type": "stream",
     "text": [
      "Missing explants input manually by user, in file: \n",
      "/scratch2/NSF_GWAS/macroPhor_Array/T16_DEV_genes/EC_ETA_EL_EN_callus_missing_scores.csv\n",
      "(alignment) "
     ]
    },
    {
     "ename": "",
     "evalue": "1",
     "output_type": "error",
     "traceback": []
    }
   ],
   "source": [
    "if [ $missing_explants = \"Automatic\" ]; then\n",
    "    conda activate densenet\n",
    "    echo \"Missing explants will be inferred.\"\n",
    "    cd $data\n",
    "    ls -d $PWD/* $data | grep -i \"rgb.jpg\" > rgb_list.txt\n",
    "    sed -i '/hroma/d' rgb_list.txt\n",
    "    #sed -i 's/.jpg//g' rgb_list.txt\n",
    "    #cat rgb_list.txt\n",
    "    cd /scratch2/NSF_GWAS/Contamination\n",
    "    img_list_path=\"${data}/rgb_list.txt\"\n",
    "    #echo $img_list_path\n",
    "    python inference.py --img-list=$img_list_path --output_file=output.csv\n",
    "    mv output.csv \"${data}/output_a2.csv\"\n",
    "    missing_explants=\"${data}/output_a2.csv\"\n",
    "    conda deactivate\n",
    "else\n",
    "    echo \"Missing explants input manually by user, in file: \"\n",
    "    echo $missing_explants\n",
    "fi"
   ]
  },
  {
   "cell_type": "markdown",
   "metadata": {},
   "source": [
    "Started running at 1:42"
   ]
  },
  {
   "cell_type": "markdown",
   "metadata": {},
   "source": [
    "## 3. Alignment of RGB and hyperspectral layers"
   ]
  },
  {
   "cell_type": "markdown",
   "metadata": {},
   "source": [
    "To match the frame and angle of RGB and hyperspectral image layers, we apply a scale-invariant feature transformation (<a href=\"https://github.com/NSF-Image-alignment/ImageAlignment\" target=\"_blank\">GitHub</a>). Using a pair of standard images, a homography matrix is calculated for the necessary transformation of RGB images to align with hyperspectral images. The transformation can then be applied to large batches of images rapidly, as long as the RGB and hyperspectral cameras remain in the same positions relative to one another (as they do in the macroPhor Array platform)"
   ]
  },
  {
   "cell_type": "markdown",
   "metadata": {},
   "source": [
    "<img src=\"Figures/Alignment.png\">\n",
    "Figure: To enable precise calculation of a homography matrix for transformation of RGB images to match hyperspectral images, we used images of a piece of paper with grid marks. These images are provided by the user inputs to --hyper-img and --rgb-img in the below call to the alignment script. If using a phenotyping platform other than the macroPhor Array, or using updated camera settings, these variables will need to be replaced."
   ]
  },
  {
   "cell_type": "markdown",
   "metadata": {},
   "source": [
    "##### 3.1. Prepare input file for alignment"
   ]
  },
  {
   "cell_type": "code",
   "execution_count": 39,
   "metadata": {},
   "outputs": [
    {
     "name": "stdout",
     "output_type": "stream",
     "text": [
      "(alignment) (alignment) (alignment) (alignment) (alignment) (alignment) (alignment) (alignment) (alignment) "
     ]
    },
    {
     "ename": "",
     "evalue": "1",
     "output_type": "error",
     "traceback": []
    }
   ],
   "source": [
    "cd $data\n",
    "ls | grep -i 'rgb\\.jpg' > file_list_part1.csv\n",
    "ls | grep -i 'segment_uncropped\\.png' > file_list_part2.csv\n",
    "cat file_list_part* > file_list.csv\n",
    "sed -i '/hroma/d' file_list.csv\n",
    "cwd=$(pwd)/\n",
    "awk -v prefix=\"$cwd\" '{print prefix $0}' file_list.csv > temp\n",
    "mv -f temp file_list.csv\n",
    "echo 'rgb_images' | cat - file_list.csv > temp && mv -f temp file_list.csv"
   ]
  },
  {
   "cell_type": "markdown",
   "metadata": {},
   "source": [
    "##### 3.2 Run alignment"
   ]
  },
  {
   "cell_type": "code",
   "execution_count": 40,
   "metadata": {},
   "outputs": [
    {
     "name": "stdout",
     "output_type": "stream",
     "text": [
      "(alignment) (alignment) (alignment) [  0   1   2   3   4   5   6   7   8   9  10  11  12  13  14  15  16  17\n",
      "  18  19  20  21  22  23  24  25  26  27  28  29  30  31  32  33  34  35\n",
      "  36  37  38  39  40  41  42  43  44  45  46  47  48  49  50  51  52  53\n",
      "  54  55  56  57  58  59  60  61  62  63  64  65  66  67  68  69  70  71\n",
      "  72  73  74  75  76  77  78  79  80  81  82  83  84  85  86  87  88  89\n",
      "  90  91  92  93  94  95  96  97  98  99 100 101 102 103 104 105 106 107\n",
      " 108 109 110 111 112 113 114 115 116 117 118 119 120 121 122 123 124 125\n",
      " 126 127 128 129 130 131 132 133 134 135 136 137 138 139 140 141 142 143\n",
      " 144 145 146 147 148 149 150 151 152 153 154 155 156 157 158 159 160 161\n",
      " 162 163 164 165 166 167 168 169 170 171 172 173 174 175 176 177 178 179\n",
      " 180 181 182 183 184 185 186 187 188 189 190 191 192 193 194 195 196 197\n",
      " 198 199 200 201 202 203 204 205 206 207 208 209 210 211 212 213 214 215\n",
      " 216 217 218 219 220 221 222 223 224 225 226 227 228 229 230 231 232 233\n",
      " 234 235 236 237 238 239 240 241 242 243 244 245 246 247 248 249 250 251\n",
      " 252 253 254 255]\n",
      "[  0   1   2   3   4   5   6   7   8   9  10  11  12  13  14  15  16  17\n",
      "  18  19  20  21  22  23  24  25  26  27  28  29  30  31  32  33  34  35\n",
      "  36  37  38  39  40  41  42  43  44  45  46  47  48  49  50  51  52  53\n",
      "  54  55  56  57  58  59  60  61  62  63  64  65  66  67  68  69  70  71\n",
      "  72  73  74  75  76  77  78  79  80  81  82  83  84  85  86  87  88  89\n",
      "  90  91  92  93  94  95  96  97  98  99 100 101 102 103 104 105 106 107\n",
      " 108 109 110 111 112 113 114 115 116 117 118 119 120 121 122 123 124 125\n",
      " 126 127 128 129 130 131 132 133 134 135 136 137 138 139 140 141 142 143\n",
      " 144 145 146 147 148 149 150 151 152 153 154 155 156 157 158 159 160 161\n",
      " 162 163 164 165 166 167 168 169 170 171 172 173 174 175 176 177 178 179\n",
      " 180 181 182 183 184 185 186 187 188 189 190 191 192 193 194 195 196 197\n",
      " 198 199 200 201 202 203 204 205 206 207 208 209 210 211 212 213 214 215\n",
      " 216 217 218 219 220 221 222 223 224 225 226 227 228 229 230 231 232 233\n",
      " 234 235 236 237 238 239 240 241 242 243 244 245 246 247 248 249 250 251\n",
      " 252 253 254 255]\n",
      "[  0   1   2   3   4   5   6   7   8   9  10  11  12  13  14  15  16  17\n",
      "  18  19  20  21  22  23  24  25  26  27  28  29  30  31  32  33  34  35\n",
      "  36  37  38  39  40  41  42  43  44  45  46  47  48  49  50  51  52  53\n",
      "  54  55  56  57  58  59  60  61  62  63  64  65  66  67  68  69  70  71\n",
      "  72  73  74  75  76  77  78  79  80  81  82  83  84  85  86  87  88  89\n",
      "  90  91  92  93  94  95  96  97  98  99 100 101 102 103 104 105 106 107\n",
      " 108 109 110 111 112 113 114 115 116 117 118 119 120 121 122 123 124 125\n",
      " 126 127 128 129 130 131 132 133 134 135 136 137 138 139 140 141 142 143\n",
      " 144 145 146 147 148 149 150 151 152 153 154 155 156 157 158 159 160 161\n",
      " 162 163 164 165 166 167 168 169 170 171 172 173 174 175 176 177 178 179\n",
      " 180 181 182 183 184 185 186 187 188 189 190 191 192 193 194 195 196 197\n",
      " 198 199 200 201 202 203 204 205 206 207 208 209 210 211 212 213 214 215\n",
      " 216 217 218 219 220 221 222 223 224 225 226 227 228 229 230 231 232 233\n",
      " 234 235 236 237 238 239 240 241 242 243 244 245 246 247 248 249 250 251\n",
      " 252 253 254 255]\n",
      "[  0   1   2   3   4   5   6   7   8   9  10  11  12  13  14  15  16  17\n",
      "  18  19  20  21  22  23  24  25  26  27  28  29  30  31  32  33  34  35\n",
      "  36  37  38  39  40  41  42  43  44  45  46  47  48  49  50  51  52  53\n",
      "  54  55  56  57  58  59  60  61  62  63  64  65  66  67  68  69  70  71\n",
      "  72  73  74  75  76  77  78  79  80  81  82  83  84  85  86  87  88  89\n",
      "  90  91  92  93  94  95  96  97  98  99 100 101 102 103 104 105 106 107\n",
      " 108 109 110 111 112 113 114 115 116 117 118 119 120 121 122 123 124 125\n",
      " 126 127 128 129 130 131 132 133 134 135 136 137 138 139 140 141 142 143\n",
      " 144 145 146 147 148 149 150 151 152 153 154 155 156 157 158 159 160 161\n",
      " 162 163 164 165 166 167 168 169 170 171 172 173 174 175 176 177 178 179\n",
      " 180 181 182 183 184 185 186 187 188 189 190 191 192 193 194 195 196 197\n",
      " 198 199 200 201 202 203 204 205 206 207 208 209 210 211 212 213 214 215\n",
      " 216 217 218 219 220 221 222 223 224 225 226 227 228 229 230 231 232 233\n",
      " 234 235 236 237 238 239 240 241 242 243 244 245 246 247 248 249 250 251\n",
      " 252 253 254 255]\n",
      "[  0   1   2   3   4   5   6   7   8   9  10  11  12  13  14  15  16  17\n",
      "  18  19  20  21  22  23  24  25  26  27  28  29  30  31  32  33  34  35\n",
      "  36  37  38  39  40  41  42  43  44  45  46  47  48  49  50  51  52  53\n",
      "  54  55  56  57  58  59  60  61  62  63  64  65  66  67  68  69  70  71\n",
      "  72  73  74  75  76  77  78  79  80  81  82  83  84  85  86  87  88  89\n",
      "  90  91  92  93  94  95  96  97  98  99 100 101 102 103 104 105 106 107\n",
      " 108 109 110 111 112 113 114 115 116 117 118 119 120 121 122 123 124 125\n",
      " 126 127 128 129 130 131 132 133 134 135 136 137 138 139 140 141 142 143\n",
      " 144 145 146 147 148 149 150 151 152 153 154 155 156 157 158 159 160 161\n",
      " 162 163 164 165 166 167 168 169 170 171 172 173 174 175 176 177 178 179\n",
      " 180 181 182 183 184 185 186 187 188 189 190 191 192 193 194 195 196 197\n",
      " 198 199 200 201 202 203 204 205 206 207 208 209 210 211 212 213 214 215\n",
      " 216 217 218 219 220 221 222 223 224 225 226 227 228 229 230 231 232 233\n",
      " 234 235 236 237 238 239 240 241 242 243 244 245 246 247 248 249 250 251\n",
      " 252 253 254 255]\n",
      "[  0   1   2   3   5   6   7   8   9  10  11  12  13  14  15  16  17  18\n",
      "  19  20  21  22  23  24  25  26  27  28  29  30  31  32  33  34  35  36\n",
      "  37  38  39  40  41  42  43  44  45  46  47  48  49  50  51  52  53  54\n",
      "  55  56  57  58  59  60  61  62  63  64  65  66  67  68  69  70  71  72\n",
      "  73  74  75  76  77  78  79  80  81  82  83  84  85  86  87  88  89  90\n",
      "  91  92  93  94  95  96  97  98  99 100 101 102 103 104 105 106 107 108\n",
      " 109 110 111 112 113 114 115 116 117 118 119 120 121 122 123 124 125 126\n",
      " 127 128 129 130 131 132 133 134 135 136 137 138 139 140 141 142 143 144\n",
      " 145 146 147 148 149 150 151 152 153 154 155 156 157 158 159 160 161 162\n",
      " 163 164 165 166 167 168 169 170 171 172 173 174 175 176 177 178 179 180\n",
      " 181 182 183 184 185 186 187 188 189 190 191 192 193 194 195 196 197 198\n",
      " 199 200 201 202 203 204 205 206 207 208 209 210 211 212 213 214 215 216\n",
      " 217 218 219 220 221 222 223 224 225 226 227 228 229 230 231 232 233 234\n",
      " 235 236 237 238 239 240 241 242 243 244 245 246 247 248 249 250 251 252\n",
      " 253 254 255]\n",
      "[  0   1   2   3   4   5   6   7   8   9  10  11  12  13  14  15  16  17\n",
      "  18  19  20  21  22  23  24  25  26  27  28  29  30  31  32  33  34  35\n",
      "  36  37  38  39  40  41  42  43  44  45  46  47  48  49  50  51  52  53\n",
      "  54  55  56  57  58  59  60  61  62  63  64  65  66  67  68  69  70  71\n",
      "  72  73  74  75  76  77  78  79  80  81  82  83  84  85  86  87  88  89\n",
      "  90  91  92  93  94  95  96  97  98  99 100 101 102 103 104 105 106 107\n",
      " 108 109 110 111 112 113 114 115 116 117 118 119 120 121 122 123 124 125\n",
      " 126 127 128 129 130 131 132 133 134 135 136 137 138 139 140 141 142 143\n",
      " 144 145 146 147 148 149 150 151 152 153 154 155 156 157 158 159 160 161\n",
      " 162 163 164 165 166 167 168 169 170 171 172 173 174 175 176 177 178 179\n",
      " 180 181 182 183 184 185 186 187 188 189 190 191 192 193 194 195 196 197\n",
      " 198 199 200 201 202 203 204 205 206 207 208 209 210 211 212 213 214 215\n",
      " 216 217 218 219 220 221 222 223 224 225 226 227 228 229 230 231 232 233\n",
      " 234 235 236 237 238 239 240 241 242 243 244 245 246 247 248 249 250 251\n",
      " 252 253 254 255]\n",
      "[  0   1   2   3   4   5   6   7   8   9  10  11  12  13  14  15  16  17\n",
      "  18  19  20  21  22  23  24  25  26  27  28  29  30  31  32  33  34  35\n",
      "  36  37  38  39  40  41  42  43  44  45  46  47  48  49  50  51  52  53\n",
      "  54  55  56  57  58  59  60  61  62  63  64  65  66  67  68  69  70  71\n",
      "  72  73  74  75  76  77  78  79  80  81  82  83  84  85  86  87  88  89\n",
      "  90  91  92  93  94  95  96  97  98  99 100 101 102 103 104 105 106 107\n",
      " 108 109 110 111 112 113 114 115 116 117 118 119 120 121 122 123 124 125\n",
      " 126 127 128 129 130 131 132 133 134 135 136 137 138 139 140 141 142 143\n",
      " 144 145 146 147 148 149 150 151 152 153 154 155 156 157 158 159 160 161\n",
      " 162 163 164 165 166 167 168 169 170 171 172 173 174 175 176 177 178 179\n",
      " 180 181 182 183 184 185 186 187 188 189 190 191 192 193 194 195 196 197\n",
      " 198 199 200 201 202 203 204 205 206 207 208 209 210 211 212 213 214 215\n",
      " 216 217 218 219 220 221 222 223 224 225 226 227 228 229 230 231 232 233\n",
      " 234 235 236 237 238 239 240 241 242 243 244 245 246 247 248 249 250 251\n",
      " 252 253 254 255]\n",
      "[  0   1   2   3   4   5   6   7   8   9  10  11  12  13  14  15  16  17\n",
      "  18  19  20  21  22  23  24  25  26  27  28  29  30  31  32  33  34  35\n",
      "  36  37  38  39  40  41  42  43  44  45  46  47  48  49  50  51  52  53\n",
      "  54  55  56  57  58  59  60  61  62  63  64  65  66  67  68  69  70  71\n",
      "  72  73  74  75  76  77  78  79  80  81  82  83  84  85  86  87  88  89\n",
      "  90  91  92  93  94  95  96  97  98  99 100 101 102 103 104 105 106 107\n",
      " 108 109 110 111 112 113 114 115 116 117 118 119 120 121 122 123 124 125\n",
      " 126 127 128 129 130 131 132 133 134 135 136 137 138 139 140 141 142 143\n",
      " 144 145 146 147 148 149 150 151 152 153 154 155 156 157 158 159 160 161\n",
      " 162 163 164 165 166 167 168 169 170 171 172 173 174 175 176 177 178 179\n",
      " 180 181 182 183 184 185 186 187 188 189 190 191 192 193 194 195 196 197\n",
      " 198 199 200 201 202 203 204 205 206 207 208 209 210 211 212 213 214 215\n",
      " 216 217 218 219 220 221 222 223 224 225 226 227 228 229 230 231 232 233\n",
      " 234 235 236 237 238 239 240 241 242 243 244 245 246 247 248 249 250 251\n",
      " 252 253 254 255]\n",
      "[  0   1   2   3   4   5   6   7   8   9  10  11  12  13  14  15  16  17\n",
      "  18  19  20  21  22  23  24  25  26  27  28  29  30  31  32  33  34  35\n",
      "  36  37  38  39  40  41  42  43  44  45  46  47  48  49  50  51  52  53\n",
      "  54  55  56  57  58  59  60  61  62  63  64  65  66  67  68  69  70  71\n",
      "  72  73  74  75  76  77  78  79  80  81  82  83  84  85  86  87  88  89\n",
      "  90  91  92  93  94  95  96  97  98  99 100 101 102 103 104 105 106 107\n",
      " 108 109 110 111 112 113 114 115 116 117 118 119 120 121 122 123 124 125\n",
      " 126 127 128 129 130 131 132 133 134 135 136 137 138 139 140 141 142 143\n",
      " 144 145 146 147 148 149 150 151 152 153 154 155 156 157 158 159 160 161\n",
      " 162 163 164 165 166 167 168 169 170 171 172 173 174 175 176 177 178 179\n",
      " 180 181 182 183 184 185 186 187 188 189 190 191 192 193 194 195 196 197\n",
      " 198 199 200 201 202 203 204 205 206 207 208 209 210 211 212 213 214 215\n",
      " 216 217 218 219 220 221 222 223 224 225 226 227 228 229 230 231 232 233\n",
      " 234 235 236 237 238 239 240 241 242 243 244 245 246 247 248 249 250 251\n",
      " 252 253 254 255]\n",
      "[  0   1   2   3   4   5   6   7   8   9  10  11  12  13  14  15  16  17\n",
      "  18  19  20  21  22  23  24  25  26  27  28  29  30  31  32  33  34  35\n",
      "  36  37  38  39  40  41  42  43  44  45  46  47  48  49  50  51  52  53\n",
      "  54  55  56  57  58  59  60  61  62  63  64  65  66  67  68  69  70  71\n",
      "  72  73  74  75  76  77  78  79  80  81  82  83  84  85  86  87  88  89\n",
      "  90  91  92  93  94  95  96  97  98  99 100 101 102 103 104 105 106 107\n",
      " 108 109 110 111 112 113 114 115 116 117 118 119 120 121 122 123 124 125\n",
      " 126 127 128 129 130 131 132 133 134 135 136 137 138 139 140 141 142 143\n",
      " 144 145 146 147 148 149 150 151 152 153 154 155 156 157 158 159 160 161\n",
      " 162 163 164 165 166 167 168 169 170 171 172 173 174 175 176 177 178 179\n",
      " 180 181 182 183 184 185 186 187 188 189 190 191 192 193 194 195 196 197\n",
      " 198 199 200 201 202 203 204 205 206 207 208 209 210 211 212 213 214 215\n",
      " 216 217 218 219 220 221 222 223 224 225 226 227 228 229 230 231 232 233\n",
      " 234 235 236 237 238 239 240 241 242 243 244 245 246 247 248 249 250 251\n",
      " 252 253 254 255]\n",
      "[  0   1   2   3   4   5   6   7   8   9  10  11  12  13  14  15  16  17\n",
      "  18  19  20  21  22  23  24  25  26  27  28  29  30  31  32  33  34  35\n",
      "  36  37  38  39  40  41  42  43  44  45  46  47  48  49  50  51  52  53\n",
      "  54  55  56  57  58  59  60  61  62  63  64  65  66  67  68  69  70  71\n",
      "  72  73  74  75  76  77  78  79  80  81  82  83  84  85  86  87  88  89\n",
      "  90  91  92  93  94  95  96  97  98  99 100 101 102 103 104 105 106 107\n",
      " 108 109 110 111 112 113 114 115 116 117 118 119 120 121 122 123 124 125\n",
      " 126 127 128 129 130 131 132 133 134 135 136 137 138 139 140 141 142 143\n",
      " 144 145 146 147 148 149 150 151 152 153 154 155 156 157 158 159 160 161\n",
      " 162 163 164 165 166 167 168 169 170 171 172 173 174 175 176 177 178 179\n",
      " 180 181 182 183 184 185 186 187 188 189 190 191 192 193 194 195 196 197\n",
      " 198 199 200 201 202 203 204 205 206 207 208 209 210 211 212 213 214 215\n",
      " 216 217 218 219 220 221 222 223 224 225 226 227 228 229 230 231 232 233\n",
      " 234 235 236 237 238 239 240 241 242 243 244 245 246 247 248 249 250 251\n",
      " 252 253 254 255]\n",
      "[  0   1   2   3   4   5   6   7   8   9  10  11  12  13  14  15  16  17\n",
      "  18  19  20  21  22  23  24  25  26  27  28  29  30  31  32  33  34  35\n",
      "  36  37  38  39  40  41  42  43  44  45  46  47  48  49  50  51  52  53\n",
      "  54  55  56  57  58  59  60  61  62  63  64  65  66  67  68  69  70  71\n",
      "  72  73  74  75  76  77  78  79  80  81  82  83  84  85  86  87  88  89\n",
      "  90  91  92  93  94  95  96  97  98  99 100 101 102 103 104 105 106 107\n",
      " 108 109 110 111 112 113 114 115 116 117 118 119 120 121 122 123 124 125\n",
      " 126 127 128 129 130 131 132 133 134 135 136 137 138 139 140 141 142 143\n",
      " 144 145 146 147 148 149 150 151 152 153 154 155 156 157 158 159 160 161\n",
      " 162 163 164 165 166 167 168 169 170 171 172 173 174 175 176 177 178 179\n",
      " 180 181 182 183 184 185 186 187 188 189 190 191 192 193 194 195 196 197\n",
      " 198 199 200 201 202 203 204 205 206 207 208 209 210 211 212 213 214 215\n",
      " 216 217 218 219 220 221 222 223 224 225 226 227 228 229 230 231 232 233\n",
      " 234 235 236 237 238 239 240 241 242 243 244 245 246 247 248 249 250 251\n",
      " 252 253 254 255]\n",
      "[  0   1   2   3   4   5   6   7   8   9  10  11  12  13  14  15  16  17\n",
      "  18  19  20  21  22  23  24  25  26  27  28  29  30  31  32  33  34  35\n",
      "  36  37  38  39  40  41  42  43  44  45  46  47  48  49  50  51  52  53\n",
      "  54  55  56  57  58  59  60  61  62  63  64  65  66  67  68  69  70  71\n",
      "  72  73  74  75  76  77  78  79  80  81  82  83  84  85  86  87  88  89\n",
      "  90  91  92  93  94  95  96  97  98  99 100 101 102 103 104 105 106 107\n",
      " 108 109 110 111 112 113 114 115 116 117 118 119 120 121 122 123 124 125\n",
      " 126 127 128 129 130 131 132 133 134 135 136 137 138 139 140 141 142 143\n",
      " 144 145 146 147 148 149 150 151 152 153 154 155 156 157 158 159 160 161\n",
      " 162 163 164 165 166 167 168 169 170 171 172 173 174 175 176 177 178 179\n",
      " 180 181 182 183 184 185 186 187 188 189 190 191 192 193 194 195 196 197\n",
      " 198 199 200 201 202 203 204 205 206 207 208 209 210 211 212 213 214 215\n",
      " 216 217 218 219 220 221 222 223 224 225 226 227 228 229 230 231 232 233\n",
      " 234 235 236 237 238 239 240 241 242 243 244 245 246 247 248 249 250 251\n",
      " 252 253 254 255]\n",
      "[  0   1   2   3   4   5   6   7   8   9  10  11  12  13  14  15  16  17\n",
      "  18  19  20  21  22  23  24  25  26  27  28  29  30  31  32  33  34  35\n",
      "  36  37  38  39  40  41  42  43  44  45  46  47  48  49  50  51  52  53\n",
      "  54  55  56  57  58  59  60  61  62  63  64  65  66  67  68  69  70  71\n",
      "  72  73  74  75  76  77  78  79  80  81  82  83  84  85  86  87  88  89\n",
      "  90  91  92  93  94  95  96  97  98  99 100 101 102 103 104 105 106 107\n",
      " 108 109 110 111 112 113 114 115 116 117 118 119 120 121 122 123 124 125\n",
      " 126 127 128 129 130 131 132 133 134 135 136 137 138 139 140 141 142 143\n",
      " 144 145 146 147 148 149 150 151 152 153 154 155 156 157 158 159 160 161\n",
      " 162 163 164 165 166 167 168 169 170 171 172 173 174 175 176 177 178 179\n",
      " 180 181 182 183 184 185 186 187 188 189 190 191 192 193 194 195 196 197\n",
      " 198 199 200 201 202 203 204 205 206 207 208 209 210 211 212 213 214 215\n",
      " 216 217 218 219 220 221 222 223 224 225 226 227 228 229 230 231 232 233\n",
      " 234 235 236 237 238 239 240 241 242 243 244 245 246 247 248 249 250 251\n",
      " 252 253 254 255]\n",
      "[0 1 2 3]\n",
      "[0 1 2 3]\n",
      "[0 1 2 3]\n",
      "[0 1 2 3]\n",
      "[0 1 2 3]\n",
      "[0 1 2 3]\n",
      "[0 1 2 3]\n",
      "[0 1 2 3]\n",
      "[0 1 2 3]\n",
      "[0 1 2 3]\n",
      "[0 1 2 3]\n",
      "[0 1 2 3]\n",
      "[0 1 2 3]\n",
      "[0 1 2 3]\n",
      "[0 1 2 3]\n",
      "(alignment) "
     ]
    },
    {
     "ename": "",
     "evalue": "1",
     "output_type": "error",
     "traceback": []
    }
   ],
   "source": [
    "conda activate alignment\n",
    "cd /scratch2/NSF_GWAS/ImageAlignment/\n",
    "file_list_input=\"${data}/file_list.csv\"\n",
    "python main.py \\\n",
    "--hyper-img Grids_to_align-selected/20itemgrid_F1.9_I3.0_L50_cyan_114229_0_0_0_index130.csv \\\n",
    "--rgb-img Grids_to_align-selected/20itemgrid_F1.9_I3.0_L50_cyan_114229_0_0_0_rgb.jpg \\\n",
    "--img-csv $file_list_input \\\n",
    "--mode 2"
   ]
  },
  {
   "cell_type": "code",
   "execution_count": 41,
   "metadata": {},
   "outputs": [
    {
     "name": "stdout",
     "output_type": "stream",
     "text": [
      "(deeplab) (base) "
     ]
    },
    {
     "ename": "",
     "evalue": "1",
     "output_type": "error",
     "traceback": []
    }
   ],
   "source": [
    "conda deactivate\n",
    "conda deactivate"
   ]
  },
  {
   "cell_type": "markdown",
   "metadata": {},
   "source": [
    "## 4. Cross-analyze deep segmentation and regression results"
   ]
  },
  {
   "cell_type": "markdown",
   "metadata": {},
   "source": [
    "Scripts in the <a href=\"https://github.com/naglemi/GMOlabeler\" target=\"_blank\">GMOlabeler repository</a> are used to cross-reference results from deep segmentation of RGB images and regression of hyperspectral imaging, apply thresholding parameters to classify tissues as transgenic or escapes, and produce plots."
   ]
  },
  {
   "cell_type": "markdown",
   "metadata": {},
   "source": [
    "<img src=\"Figures/GMOlabeler.png\">"
   ]
  },
  {
   "cell_type": "markdown",
   "metadata": {},
   "source": [
    "Figure: The various steps of data processing in GMOlabeler are illustrated for an example explant from an experiment on CIM optimization for cottonwood. Images of plates are cropped to a sub-image for each explant. RGB segmentation results and hyperspectral regression results are cross-referenced to calculate fluorecent proteins in specific tissues and infer whether these tissues are transgenic."
   ]
  },
  {
   "cell_type": "markdown",
   "metadata": {},
   "source": [
    "##### 4.1. Prepare sample datasheet input"
   ]
  },
  {
   "cell_type": "markdown",
   "metadata": {},
   "source": [
    "Prepare input file we will use for making plots. This file contains paths to CLS results, RGB images, and hyperspectral images."
   ]
  },
  {
   "cell_type": "code",
   "execution_count": 43,
   "metadata": {},
   "outputs": [
    {
     "name": "stdout",
     "output_type": "stream",
     "text": [
      "[1] \"”2020-07-21”\"\n",
      "[1] \"2020-07-21\"\n",
      "[1] \"Looking for CLS files in directory /scratch2/NSF_GWAS/GMOdetectoR/output/T16_DEV_genes/EC/wk31/intercept1/2020-07-21/CLS_tables\"\n",
      "[1] \"How many CLS files? 5\"\n",
      "[1] \"Writing 5 rows to /scratch2/NSF_GWAS/macroPhor_Array/T16_DEV_genes/EC/wk31//samples_pre_labeling.csv\"\n"
     ]
    }
   ],
   "source": [
    "conda deactivate\n",
    "cd /scratch2/NSF_GWAS/GMOdetectoR/\n",
    "Rscript wrappers/pre_label_a2.R \\\n",
    "-r \"${data}/\" \\\n",
    "-R \"/scratch2/NSF_GWAS/GMOdetectoR/output/\" \\\n",
    "-i 1 \\\n",
    "-d $datestamp"
   ]
  },
  {
   "cell_type": "markdown",
   "metadata": {},
   "source": [
    "##### 4.2. Cross-reference RGB and hyperspectral data"
   ]
  },
  {
   "cell_type": "code",
   "execution_count": 45,
   "metadata": {},
   "outputs": [
    {
     "name": "stdout",
     "output_type": "stream",
     "text": [
      "segment,CLS_data,rgb,mean_callus_signal,mean_shoot_signal,callus_signal_total,shoot_signal_total,n_pixels_callus_transgenic,n_pixels_callus_escape,n_pixels_shoot_transgenic,n_pixels_shoot_escape,threshold\n",
      "/scratch2/NSF_GWAS/macroPhor_Array/T16_DEV_genes/EC/wk31//EC1_I5.0_F1.9_L100_143328_0_2_6_segment_uncropped_processed.png,/scratch2/NSF_GWAS/GMOdetectoR/output/T16_DEV_genes/EC/wk31/intercept1/2020-07-21/CLS_tables/EC1_I5.0_F1.9_L100_143328_0_2_6_GridItemWholePlate.csv,/scratch2/NSF_GWAS/macroPhor_Array/T16_DEV_genes/EC/wk31//EC1_I5.0_F1.9_L100_143328_0_2_6_rgb_processed.jpg,,,,,,,,,\n",
      "/scratch2/NSF_GWAS/macroPhor_Array/T16_DEV_genes/EC/wk31//EC1_I5.0_F1.9_L100_142501_4_1_0_segment_uncropped_processed.png,/scratch2/NSF_GWAS/GMOdetectoR/output/T16_DEV_genes/EC/wk31/intercept1/2020-07-21/CLS_tables/EC1_I5.0_F1.9_L100_142501_4_1_0_GridItemWholePlate.csv,/scratch2/NSF_GWAS/macroPhor_Array/T16_DEV_genes/EC/wk31//EC1_I5.0_F1.9_L100_142501_4_1_0_rgb_processed.jpg,,,,,,,,,\n",
      "/scratch2/NSF_GWAS/macroPhor_Array/T16_DEV_genes/EC/wk31//EC1_I5.0_F1.9_L100_142348_3_1_2_segment_uncropped_processed.png,/scratch2/NSF_GWAS/GMOdetectoR/output/T16_DEV_genes/EC/wk31/intercept1/2020-07-21/CLS_tables/EC1_I5.0_F1.9_L100_142348_3_1_2_GridItemWholePlate.csv,/scratch2/NSF_GWAS/macroPhor_Array/T16_DEV_genes/EC/wk31//EC1_I5.0_F1.9_L100_142348_3_1_2_rgb_processed.jpg,,,,,,,,,\n",
      "/scratch2/NSF_GWAS/macroPhor_Array/T16_DEV_genes/EC/wk31//EC1_I5.0_F1.9_L100_142252_2_0_6_segment_uncropped_processed.png,/scratch2/NSF_GWAS/GMOdetectoR/output/T16_DEV_genes/EC/wk31/intercept1/2020-07-21/CLS_tables/EC1_I5.0_F1.9_L100_142252_2_0_6_GridItemWholePlate.csv,/scratch2/NSF_GWAS/macroPhor_Array/T16_DEV_genes/EC/wk31//EC1_I5.0_F1.9_L100_142252_2_0_6_rgb_processed.jpg,,,,,,,,,\n",
      "/scratch2/NSF_GWAS/macroPhor_Array/T16_DEV_genes/EC/wk31//EC1_I5.0_F1.9_L100_142158_1_0_4_segment_uncropped_processed.png,/scratch2/NSF_GWAS/GMOdetectoR/output/T16_DEV_genes/EC/wk31/intercept1/2020-07-21/CLS_tables/EC1_I5.0_F1.9_L100_142158_1_0_4_GridItemWholePlate.csv,/scratch2/NSF_GWAS/macroPhor_Array/T16_DEV_genes/EC/wk31//EC1_I5.0_F1.9_L100_142158_1_0_4_rgb_processed.jpg,,,,,,,,,\n",
      "(base) "
     ]
    },
    {
     "ename": "",
     "evalue": "1",
     "output_type": "error",
     "traceback": []
    }
   ],
   "source": [
    "cat \"${data}/samples_pre_labeling.csv\""
   ]
  },
  {
   "cell_type": "code",
   "execution_count": 46,
   "metadata": {},
   "outputs": [
    {
     "name": "stdout",
     "output_type": "stream",
     "text": [
      "12\n",
      "(base) "
     ]
    },
    {
     "ename": "",
     "evalue": "1",
     "output_type": "error",
     "traceback": []
    }
   ],
   "source": [
    "echo $grid"
   ]
  },
  {
   "cell_type": "code",
   "execution_count": 49,
   "metadata": {},
   "outputs": [
    {
     "name": "stdout",
     "output_type": "stream",
     "text": [
      "/scratch2/NSF_GWAS/macroPhor_Array/grids/grids_left_facing_125208_1_0_1_rgb_processed.jpg JPEG 1419x1566 1419x1566+0+0 8-bit sRGB 346442B 0.000u 0:00.000\n",
      "(base) "
     ]
    },
    {
     "ename": "",
     "evalue": "1",
     "output_type": "error",
     "traceback": []
    }
   ],
   "source": [
    "identify $grid_file"
   ]
  },
  {
   "cell_type": "code",
   "execution_count": 50,
   "metadata": {},
   "outputs": [
    {
     "name": "stdout",
     "output_type": "stream",
     "text": [
      "(base) (base) Grid type 12\n",
      "Loading plate 0 of 5\n",
      "/scratch2/NSF_GWAS/macroPhor_Array/T16_DEV_genes/EC/wk31//EC1_I5.0_F1.9_L100_143328_0_2_6_segment_uncropped_processed.png\n",
      "Plate segment loaded\n",
      "Plate RGB loaded\n",
      "Loading CLS data from path/scratch2/NSF_GWAS/GMOdetectoR/output/T16_DEV_genes/EC/wk31/intercept1/2020-07-21/CLS_tables/EC1_I5.0_F1.9_L100_143328_0_2_6_GridItemWholePlate.csv\n",
      "Loading plate 1 of 5\n",
      "/scratch2/NSF_GWAS/macroPhor_Array/T16_DEV_genes/EC/wk31//EC1_I5.0_F1.9_L100_142501_4_1_0_segment_uncropped_processed.png\n",
      "Plate segment loaded\n",
      "Plate RGB loaded\n",
      "Loading CLS data from path/scratch2/NSF_GWAS/GMOdetectoR/output/T16_DEV_genes/EC/wk31/intercept1/2020-07-21/CLS_tables/EC1_I5.0_F1.9_L100_142501_4_1_0_GridItemWholePlate.csv\n",
      "Loading plate 2 of 5\n",
      "/scratch2/NSF_GWAS/macroPhor_Array/T16_DEV_genes/EC/wk31//EC1_I5.0_F1.9_L100_142348_3_1_2_segment_uncropped_processed.png\n",
      "Plate segment loaded\n",
      "Plate RGB loaded\n",
      "Loading CLS data from path/scratch2/NSF_GWAS/GMOdetectoR/output/T16_DEV_genes/EC/wk31/intercept1/2020-07-21/CLS_tables/EC1_I5.0_F1.9_L100_142348_3_1_2_GridItemWholePlate.csv\n",
      "Loading plate 3 of 5\n",
      "/scratch2/NSF_GWAS/macroPhor_Array/T16_DEV_genes/EC/wk31//EC1_I5.0_F1.9_L100_142252_2_0_6_segment_uncropped_processed.png\n",
      "Plate segment loaded\n",
      "Plate RGB loaded\n",
      "Loading CLS data from path/scratch2/NSF_GWAS/GMOdetectoR/output/T16_DEV_genes/EC/wk31/intercept1/2020-07-21/CLS_tables/EC1_I5.0_F1.9_L100_142252_2_0_6_GridItemWholePlate.csv\n",
      "Loading plate 4 of 5\n",
      "/scratch2/NSF_GWAS/macroPhor_Array/T16_DEV_genes/EC/wk31//EC1_I5.0_F1.9_L100_142158_1_0_4_segment_uncropped_processed.png\n",
      "Plate segment loaded\n",
      "Plate RGB loaded\n",
      "Loading CLS data from path/scratch2/NSF_GWAS/GMOdetectoR/output/T16_DEV_genes/EC/wk31/intercept1/2020-07-21/CLS_tables/EC1_I5.0_F1.9_L100_142158_1_0_4_GridItemWholePlate.csv\n",
      "(base) "
     ]
    },
    {
     "ename": "",
     "evalue": "1",
     "output_type": "error",
     "traceback": []
    }
   ],
   "source": [
    "conda activate\n",
    "cd /scratch2/NSF_GWAS/GMOlabeler/\n",
    "python main.py \\\n",
    "\"${data}/samples_pre_labeling.csv\" \\\n",
    "$grid_file \\\n",
    "$reporter_threshold \\\n",
    "$reporter \\\n",
    "$grid"
   ]
  },
  {
   "cell_type": "markdown",
   "metadata": {},
   "source": [
    "##### 4.3. Calculate sums of statistics over combined segments"
   ]
  },
  {
   "cell_type": "markdown",
   "metadata": {},
   "source": [
    "We are interested in all regenerated tissue (callus + shoot) as well as all tissue (including stem as well). We will calculate aggregate statistics over these groups."
   ]
  },
  {
   "cell_type": "code",
   "execution_count": 51,
   "metadata": {},
   "outputs": [
    {
     "name": "stdout",
     "output_type": "stream",
     "text": [
      "[1] \"Writing output with sums statistics calculated over combined tissue segments to: /scratch2/NSF_GWAS/GMOlabeler/output//T16_DEV_genes/EC/wk31/stats_with_sums_over_tissues.csv\"\n"
     ]
    }
   ],
   "source": [
    "conda deactivate\n",
    "Rscript calculate_sum_stats_over_combined_segments.R \\\n",
    "--datapath \"${data_folder}/\""
   ]
  },
  {
   "cell_type": "markdown",
   "metadata": {},
   "source": [
    "##### 4.4. Make plots of results"
   ]
  },
  {
   "cell_type": "code",
   "execution_count": 59,
   "metadata": {},
   "outputs": [
    {
     "name": "stdout",
     "output_type": "stream",
     "text": [
      "/T16_DEV_genes/EC/wk31/\n",
      "/scratch2/NSF_GWAS/macroPhor_Array/T16_DEV_genes/EC_randomized.xlsx\n",
      "5\n",
      "categorical\n",
      "1\n",
      "/scratch2/NSF_GWAS/macroPhor_Array/T16_DEV_genes/EC_ETA_EL_EN_callus_missing_scores.csv\n",
      "12\n",
      "1\n",
      "5\n",
      "6\n"
     ]
    }
   ],
   "source": [
    "echo \"${data_folder}/\"\n",
    "echo $randomization_datasheet\n",
    "echo $pixel_threshold\n",
    "echo $variable_type\n",
    "echo 1\n",
    "echo $missing_explants\n",
    "echo $grid\n",
    "echo 1\n",
    "echo $height\n",
    "echo $width"
   ]
  },
  {
   "cell_type": "code",
   "execution_count": 60,
   "metadata": {},
   "outputs": [
    {
     "name": "stdout",
     "output_type": "stream",
     "text": [
      "Warning messages:\n",
      "1: replacing previous import ‘data.table::melt’ by ‘reshape2::melt’ when loading ‘GMOdetectoR’ \n",
      "2: replacing previous import ‘data.table::dcast’ by ‘reshape2::dcast’ when loading ‘GMOdetectoR’ \n",
      "Warning message:\n",
      "In storage.mode(default) <- type : NAs introduced by coercion\n",
      "[1] \"Reading in output from GMOlabeler at path: /scratch2/NSF_GWAS/GMOlabeler/output//T16_DEV_genes/EC/wk31/stats_with_sums_over_tissues.csv\"\n",
      "\n",
      "[1] \"Rows in output from GMOlabeler: 301\"\n",
      "\n",
      "[1] \"Max n_pixels_passing_threshold in output from GMOlabeler: 798\"\n",
      "\n",
      "[1] \"Max total_signal in output from GMOlabeler: 199420.551575988\"\n",
      "\n",
      "[1] \"Look at the top of output from GMOlabeler\"\n",
      "[1] \"\"                                                                                             \n",
      "[2] \"/scratch2/NSF_GWAS/macroPhor_Array/T16_DEV_genes/EC/wk31//EC1_I5.0_F1.9_L100_143328_0_2_6.png\"\n",
      "[3] \"/scratch2/NSF_GWAS/macroPhor_Array/T16_DEV_genes/EC/wk31//EC1_I5.0_F1.9_L100_143328_0_2_6.png\"\n",
      "[4] \"/scratch2/NSF_GWAS/macroPhor_Array/T16_DEV_genes/EC/wk31//EC1_I5.0_F1.9_L100_143328_0_2_6.png\"\n",
      "[5] \"/scratch2/NSF_GWAS/macroPhor_Array/T16_DEV_genes/EC/wk31//EC1_I5.0_F1.9_L100_143328_0_2_6.png\"\n",
      "[6] \"/scratch2/NSF_GWAS/macroPhor_Array/T16_DEV_genes/EC/wk31//EC1_I5.0_F1.9_L100_143328_0_2_6.png\"\n",
      "\n",
      "[1] \"Look at the top of missing explant data\"\n",
      "\u001b[90m# A tibble: 6 x 3\u001b[39m\n",
      "  filename                                 grid_item present\n",
      "  \u001b[3m\u001b[90m<chr>\u001b[39m\u001b[23m                                    \u001b[3m\u001b[90m<chr>\u001b[39m\u001b[23m     \u001b[3m\u001b[90m<chr>\u001b[39m\u001b[23m  \n",
      "\u001b[90m1\u001b[39m ETA1_I5.0_F1.9_L100_184659_0_0_0_rgb.jpg 1         2      \n",
      "\u001b[90m2\u001b[39m ETA1_I5.0_F1.9_L100_184659_0_0_0_rgb.jpg 2         2      \n",
      "\u001b[90m3\u001b[39m ETA1_I5.0_F1.9_L100_184659_0_0_0_rgb.jpg 3         2      \n",
      "\u001b[90m4\u001b[39m ETA1_I5.0_F1.9_L100_184659_0_0_0_rgb.jpg 4         2      \n",
      "\u001b[90m5\u001b[39m ETA1_I5.0_F1.9_L100_184659_0_0_0_rgb.jpg 5         1      \n",
      "\u001b[90m6\u001b[39m ETA1_I5.0_F1.9_L100_184659_0_0_0_rgb.jpg 6         2      \n",
      "\n",
      "[1] \"Look at the head of filenames for missing explant data\"\n",
      "[1] \"ETA1_I5.0_F1.9_L100_184659_0_0_0_rgb.jpg\"\n",
      "[2] \"ETA1_I5.0_F1.9_L100_184659_0_0_0_rgb.jpg\"\n",
      "[3] \"ETA1_I5.0_F1.9_L100_184659_0_0_0_rgb.jpg\"\n",
      "[4] \"ETA1_I5.0_F1.9_L100_184659_0_0_0_rgb.jpg\"\n",
      "[5] \"ETA1_I5.0_F1.9_L100_184659_0_0_0_rgb.jpg\"\n",
      "[6] \"ETA1_I5.0_F1.9_L100_184659_0_0_0_rgb.jpg\"\n",
      "\n",
      "[1] \"Look at the colnames of output from GMOlabeler\"\n",
      " [1] \"V1\"                         \"filename\"                  \n",
      " [3] \"grid_item\"                  \"segment_hex\"               \n",
      " [5] \"intensity_threshold\"        \"n_pixels_passing_threshold\"\n",
      " [7] \"mean_signal\"                \"max_signal\"                \n",
      " [9] \"total_signal\"               \"total_pixels\"              \n",
      "\n",
      "[1] \"Look at the colnames of missing explant data\"\n",
      "[1] \"filename\"  \"grid_item\" \"present\"  \n",
      "\n",
      "[1] \"Before merging the GMOlabeler and missing output data, they have rows of 301 and 528 respectively.\"\n",
      "\n",
      "[1] \"After merging but before removing missing/contminated explants, merged output has 301 rows.\"\n",
      "\n",
      "[1] \"After removing the missing/contaminated explants, merged output has 301\"\n",
      "\n",
      "[1] \"Afer processing GMOlabeler output to merge with missing explant data, Head of data (w/ first 5 col): \"\n",
      "                              filename grid_item          V1 segment_hex\n",
      "1:                                          <NA> observation            \n",
      "2: EC1_I5.0_F1.9_L100_142158_1_0_4.png         1 observation      00CC11\n",
      "3: EC1_I5.0_F1.9_L100_142158_1_0_4.png         1 observation      0006CC\n",
      "4: EC1_I5.0_F1.9_L100_142158_1_0_4.png         1 observation      CC0000\n",
      "5: EC1_I5.0_F1.9_L100_142158_1_0_4.png         1 observation  All_tissue\n",
      "   intensity_threshold\n",
      "1:                  NA\n",
      "2:                8.76\n",
      "3:                8.76\n",
      "4:                8.76\n",
      "5:                  NA\n",
      "New names:\n",
      "* `` -> ...15\n",
      "[1] \"Upon loading randomization_datasheet, it has how many rows? 30\"\n",
      "\n",
      "[1] \"Calculating total numbers of missing explants per plate\"\n",
      "Warning message:\n",
      "In class(missing_explant_data_matrix) <- \"numeric\" :\n",
      "  NAs introduced by coercion\n",
      "[1] \"Let's figure out why contaminated/missing plates are being said to have 0 instead of NA\"\n",
      "\n",
      "[1] \"Dimensions of missing explant data with totals\"\n",
      "[1] 44 14\n",
      "[1] \"Minimum number of explants on any plate after removing missing and contaminated explants is...\"\n",
      "[1] 5\n",
      "                                      image 1 2 3 4 5 6 7 8 9 10 11 12\n",
      "1: ETA1_I5.0_F1.9_L100_184659_0_0_0_rgb.jpg 2 2 2 2 1 2 1 2 2  2  2  1\n",
      "2: ETA1_I5.0_F1.9_L100_184738_1_0_4_rgb.jpg 2 3 M M M M M M M  M  M  M\n",
      "3: ETA1_I5.0_F1.9_L100_184851_2_0_5_rgb.jpg 2 1 2 2 1 1 2 2 2  1  2  1\n",
      "4: ETA1_I5.0_F1.9_L100_184944_3_0_6_rgb.jpg 1 2 2 2 1 1 1 2 1  2  2  2\n",
      "5: ETA1_I5.0_F1.9_L100_191612_3_1_0_rgb.jpg 2 2 2 2 2 2 2 2 2  2  2  2\n",
      "6: ETA1_I5.0_F1.9_L100_191519_2_1_1_rgb.jpg 2 2 2 2 2 2 2 2 2  2  2  2\n",
      "   total_explants\n",
      "1:             21\n",
      "2:              5\n",
      "3:             19\n",
      "4:             19\n",
      "5:             24\n",
      "6:             24\n",
      "\n",
      "[1] \"About to add IDs to missing explant data based on filenames. Here is head of filenames.\"\n",
      "[1] \"ETA1_I5.0_F1.9_L100_184659_0_0_0\" \"ETA1_I5.0_F1.9_L100_184738_1_0_4\"\n",
      "[3] \"ETA1_I5.0_F1.9_L100_184851_2_0_5\" \"ETA1_I5.0_F1.9_L100_184944_3_0_6\"\n",
      "[5] \"ETA1_I5.0_F1.9_L100_191612_3_1_0\" \"ETA1_I5.0_F1.9_L100_191519_2_1_1\"\n",
      "\n",
      "[1] \"We have added IDs to missing explant data based on filenames. Here is head of IDs.\"\n",
      "[1] \"ETA1_1\" \"ETA1_5\" \"ETA1_6\" \"ETA1_7\" \"ETA1_8\" \"ETA1_9\"\n",
      "\n",
      "[1] \"N rows of randomization datasheet before merging with missing explant data: \"\n",
      "[1] 30\n",
      "[1] \"Head of IDs in missing explant data\"\n",
      "[1] \"ETA1_1\" \"ETA1_5\" \"ETA1_6\" \"ETA1_7\" \"ETA1_8\" \"ETA1_9\"\n",
      "[1] \"Head of IDs in randomization datasheet\"\n",
      "[1] \"EC1_1\" \"EC1_2\" \"EC1_3\" \"EC1_4\" \"EC1_5\" \"EC1_6\"\n",
      "\n",
      "[1] \"Now about to merge randomization_datasheet and missing explant data.\"\n",
      "[1] \"Rows in randomization_datasheet: 30\"\n",
      "[1] \"Rows in missing explant data: 44\"\n",
      "\n",
      "[1] \"Now about to merge randomization datasheet and missing explant data, by ID. Look at head of IDs for both.\"\n",
      "[1] \"EC1_1\" \"EC1_2\" \"EC1_3\" \"EC1_4\" \"EC1_5\" \"EC1_6\"\n",
      "[1] \"ETA1_1\" \"ETA1_5\" \"ETA1_6\" \"ETA1_7\" \"ETA1_8\" \"ETA1_9\"\n",
      "      ID Image # Tray ID Date of pre-culture Date of transformation\n",
      "1  EC1_1       1     EC1          2019-11-18             2019-11-20\n",
      "2 EC1_10      10     EC1          2019-11-18             2019-11-20\n",
      "3 EC1_11      11     EC1          2019-11-18             2019-11-20\n",
      "4 EC1_12      12     EC1          2019-11-18             2019-11-20\n",
      "5 EC1_13      13     EC1          2019-11-18             2019-11-20\n",
      "6 EC1_14      14     EC1          2019-11-18             2019-11-20\n",
      "  Date of Washing Plate # Randomization #   Plate ID Source of material*\n",
      "1      2019-11-29      16              R1 SP7-L4-4-2                  GH\n",
      "2      2019-11-29      24             R10  SP7-L-4-2                  IV\n",
      "3      2019-11-29      14             R11 SP7-L3-3-2                  GH\n",
      "4      2019-11-29      20             R12  SP7-L-2-2                  IV\n",
      "5      2019-11-29      12             R13 SP7-L2-2-2                  GH\n",
      "6      2019-11-29       1             R14 SP7-S1-1-1                  GH\n",
      "  Type of tissue** Genotype_ID Treatment #* Treatment name Replicate ...15\n",
      "1               L4         SP7            4          WOX11         2    NA\n",
      "2                L         SP7            4          WOX11         2    NA\n",
      "3               L3         SP7            3          WOX5a         2    NA\n",
      "4                L         SP7            2           WUSa         2    NA\n",
      "5               L2         SP7            2           WUSa         2    NA\n",
      "6               S1         SP7            1           CTRL         1    NA\n",
      "    LabelTop        LabelBot                        filename    1    2    3\n",
      "1   EC1_1_R1 SP7_L4_GH_WOX11                            <NA> <NA> <NA> <NA>\n",
      "2 EC1_10_R10  SP7_L_IV_WOX11 EC1_I5.0_F1.9_L100_142348_3_1_2    2    2    3\n",
      "3 EC1_11_R11 SP7_L3_GH_WOX5a                            <NA> <NA> <NA> <NA>\n",
      "4 EC1_12_R12   SP7_L_IV_WUSa                            <NA> <NA> <NA> <NA>\n",
      "5 EC1_13_R13  SP7_L2_GH_WUSa                            <NA> <NA> <NA> <NA>\n",
      "6 EC1_14_R14  SP7_S1_GH_CTRL                            <NA> <NA> <NA> <NA>\n",
      "     4    5    6    7    8    9   10   11   12 total_explants\n",
      "1 <NA> <NA> <NA> <NA> <NA> <NA> <NA> <NA> <NA>             NA\n",
      "2    3    2    2    2    3    2    2    2    2             27\n",
      "3 <NA> <NA> <NA> <NA> <NA> <NA> <NA> <NA> <NA>             NA\n",
      "4 <NA> <NA> <NA> <NA> <NA> <NA> <NA> <NA> <NA>             NA\n",
      "5 <NA> <NA> <NA> <NA> <NA> <NA> <NA> <NA> <NA>             NA\n",
      "6 <NA> <NA> <NA> <NA> <NA> <NA> <NA> <NA> <NA>             NA\n",
      " [1] NA 27 NA NA NA NA NA NA NA NA NA NA NA 26 NA NA 25 NA 24 26 NA NA NA NA NA\n",
      "[26] NA NA NA NA NA\n",
      "[1] \"Still figuring, now in merged rd, out why contaminated/missing plates are being said to have 0 instead of NA\"\n",
      "\n",
      "[1] \"Dimensions of missing explant data with totals\"\n",
      "[1] 44 15\n",
      "[1] \"Levels of total explants on any plate after removing missing and contaminated explants is...\"\n",
      "[1] \"24\" \"25\" \"26\" \"27\"\n",
      "[1] \"Minimum number of explants on any plate after removing missing and contaminated explants is...\"\n",
      "[1] 24\n",
      "\n",
      "[1] \"Rows in merged output: 30\"\n",
      " [1] NA 27 NA NA NA NA NA NA NA NA NA NA NA 26 NA NA 25 NA 24 26 NA NA NA NA NA\n",
      "[26] NA NA NA NA NA\n",
      "\n",
      "[1] \"Assuming for all explants for which we have no missing explant data that there are:\"\n",
      "[1] 12\n",
      "\n",
      "[1] \"N rows of randomization datasheet after merging with missing explant data: \"\n",
      "[1] 30\n",
      "[1] \"Column names of randomization datasheet afer merging with missing explant data: \"\n",
      " [1] \"ID\"                     \"Image #\"                \"Tray ID\"               \n",
      " [4] \"Date of pre-culture\"    \"Date of transformation\" \"Date of Washing\"       \n",
      " [7] \"Plate #\"                \"Randomization #\"        \"Plate ID\"              \n",
      "[10] \"Source of material*\"    \"Type of tissue**\"       \"Genotype_ID\"           \n",
      "[13] \"Treatment #*\"           \"Treatment name\"         \"Replicate\"             \n",
      "[16] \"...15\"                  \"LabelTop\"               \"LabelBot\"              \n",
      "[19] \"filename\"               \"1\"                      \"2\"                     \n",
      "[22] \"3\"                      \"4\"                      \"5\"                     \n",
      "[25] \"6\"                      \"7\"                      \"8\"                     \n",
      "[28] \"9\"                      \"10\"                     \"11\"                    \n",
      "[31] \"12\"                     \"total_explants\"        \n",
      "\n",
      "[1] \"In output, Maximum observations for a segment in a grid item in a filename (should be 1): 1\"\n",
      "[1] \"In randomization datasheet, Maximum observations for an ID (should be 1): 2\"\n",
      "\n",
      "[1] \"Before calculating totals, let's look at the column total_explants in randomization datasheet\"\n",
      "[1] 12 27 12 12 12 12\n",
      "[1] \"12\" \"24\" \"25\" \"26\" \"27\"\n",
      "\n",
      "\n",
      "[1] \"Nrow of output before dropping missing explants is: 301\"\n",
      "[1] \"Head of ID_exp columns from both output data table and IDs_to_drop data tbales, respectively:\"\n",
      "[1] \"__NA\"    \"EC1_5_1\" \"EC1_5_1\" \"EC1_5_1\" \"EC1_5_1\" \"EC1_5_1\"\n",
      "[1] \"ETA1_1_1\" \"ETA1_1_2\" \"ETA1_1_3\" \"ETA1_1_4\" \"ETA1_1_5\" \"ETA1_1_6\"\n",
      "[1] \"Nrow of output AFTER dropping missing explants is: 1\"\n",
      "[1] \"Head of output\"\n",
      "   filename grid_item          V1 segment_hex intensity_threshold\n",
      "1:               <NA> observation                              NA\n",
      "   n_pixels_passing_threshold mean_signal max_signal total_signal total_pixels\n",
      "1:                         NA          NA         NA           NA           NA\n",
      "   present ID transgenic segment_present ID_exp\n",
      "1:       Y  _          0               0   __NA\n",
      "\n",
      "\u001b[90m# A tibble: 6 x 5\u001b[39m\n",
      "  filename                             grid_item present ID     ID_exp  \n",
      "  \u001b[3m\u001b[90m<chr>\u001b[39m\u001b[23m                                \u001b[3m\u001b[90m<chr>\u001b[39m\u001b[23m     \u001b[3m\u001b[90m<chr>\u001b[39m\u001b[23m   \u001b[3m\u001b[90m<chr>\u001b[39m\u001b[23m  \u001b[3m\u001b[90m<chr>\u001b[39m\u001b[23m   \n",
      "\u001b[90m1\u001b[39m ETA1_I5.0_F1.9_L100_184659_0_0_0.jpg 1         2       ETA1_1 ETA1_1_1\n",
      "\u001b[90m2\u001b[39m ETA1_I5.0_F1.9_L100_184659_0_0_0.jpg 2         2       ETA1_1 ETA1_1_2\n",
      "\u001b[90m3\u001b[39m ETA1_I5.0_F1.9_L100_184659_0_0_0.jpg 3         2       ETA1_1 ETA1_1_3\n",
      "\u001b[90m4\u001b[39m ETA1_I5.0_F1.9_L100_184659_0_0_0.jpg 4         2       ETA1_1 ETA1_1_4\n",
      "\u001b[90m5\u001b[39m ETA1_I5.0_F1.9_L100_184659_0_0_0.jpg 5         1       ETA1_1 ETA1_1_5\n",
      "\u001b[90m6\u001b[39m ETA1_I5.0_F1.9_L100_184659_0_0_0.jpg 6         2       ETA1_1 ETA1_1_6\n",
      " [1] \"filename\"                   \"grid_item\"                 \n",
      " [3] \"V1\"                         \"segment_hex\"               \n",
      " [5] \"intensity_threshold\"        \"n_pixels_passing_threshold\"\n",
      " [7] \"mean_signal\"                \"max_signal\"                \n",
      " [9] \"total_signal\"               \"total_pixels\"              \n",
      "[11] \"present\"                    \"ID\"                        \n",
      "[13] \"transgenic\"                 \"segment_present\"           \n",
      "[15] \"ID_exp\"                    \n",
      "[1] \"Maximum # grid positions with transgenic callus in any plate: 0\"\n",
      "[1] \"Maximum # grid positions with transgenic shoot in any plate: 0\"\n",
      "[1] \"Minimum # grid positions with explants in any plate: 12\"\n",
      "[1] \"Maximum # grid positions with explants in any plate: 27\"\n",
      "[1] \"Maximum # grid positions with callus in any plate: 0\"\n",
      "[1] \"Maximum # grid positions with shoot in any plate: 0\"\n",
      "[1] \"Column of interest is portion_transgenic_Shoot\"\n",
      "[1] \"For transgenic tissue, What is the range of values for portion for Shoot\"\n",
      "[1] 0\n",
      "[1] 0\n",
      "[1] \"What are factor levels?\"\n",
      "[1] \"0\"\n",
      "\n",
      "[1] \"Column of interest is portion_Shoot\"\n",
      "[1] \"For total tissue, What is the range of values for portion for Shoot\"\n",
      "[1] 0\n",
      "[1] 0\n",
      "[1] \"What are factor levels?\"\n",
      "[1] \"0\"\n",
      "\n",
      "[1] \"Column of interest is portion_transgenic_Callus\"\n",
      "[1] \"For transgenic tissue, What is the range of values for portion for Callus\"\n",
      "[1] 0\n",
      "[1] 0\n",
      "[1] \"What are factor levels?\"\n",
      "[1] \"0\"\n",
      "\n",
      "[1] \"Column of interest is portion_Callus\"\n",
      "[1] \"For total tissue, What is the range of values for portion for Callus\"\n",
      "[1] 0\n",
      "[1] 0\n",
      "[1] \"What are factor levels?\"\n",
      "[1] \"0\"\n",
      "\n",
      "[1] \"Column of interest is portion_transgenic_Stem\"\n",
      "[1] \"For transgenic tissue, What is the range of values for portion for Stem\"\n",
      "[1] 0\n",
      "[1] 0\n",
      "[1] \"What are factor levels?\"\n",
      "[1] \"0\"\n",
      "\n",
      "[1] \"Column of interest is portion_Stem\"\n",
      "[1] \"For total tissue, What is the range of values for portion for Stem\"\n",
      "[1] 0\n",
      "[1] 0\n",
      "[1] \"What are factor levels?\"\n",
      "[1] \"0\"\n",
      "\n",
      "[1] \"Column of interest is portion_transgenic_All_tissue\"\n",
      "[1] \"For transgenic tissue, What is the range of values for portion for All_tissue\"\n",
      "[1] 0\n",
      "[1] 0\n",
      "[1] \"What are factor levels?\"\n",
      "[1] \"0\"\n",
      "\n",
      "[1] \"Column of interest is portion_All_tissue\"\n",
      "[1] \"For total tissue, What is the range of values for portion for All_tissue\"\n",
      "[1] 0\n",
      "[1] 0\n",
      "[1] \"What are factor levels?\"\n",
      "[1] \"0\"\n",
      "\n",
      "[1] \"Column of interest is portion_transgenic_All_regenerated_tissue\"\n",
      "[1] \"For transgenic tissue, What is the range of values for portion for All_regenerated_tissue\"\n",
      "[1] 0\n",
      "[1] 0\n",
      "[1] \"What are factor levels?\"\n",
      "[1] \"0\"\n",
      "\n",
      "[1] \"Column of interest is portion_All_regenerated_tissue\"\n",
      "[1] \"For total tissue, What is the range of values for portion for All_regenerated_tissue\"\n",
      "[1] 0\n",
      "[1] 0\n",
      "[1] \"What are factor levels?\"\n",
      "[1] \"0\"\n",
      "\n",
      "[1] \"Column of interest is portion_transgenic_Background\"\n",
      "[1] \"For transgenic tissue, What is the range of values for portion for Background\"\n",
      "[1] 0\n",
      "[1] 0\n",
      "[1] \"What are factor levels?\"\n",
      "[1] \"0\"\n",
      "\n",
      "[1] \"Column of interest is portion_Background\"\n",
      "[1] \"For total tissue, What is the range of values for portion for Background\"\n",
      "[1] 0\n",
      "[1] 0\n",
      "[1] \"What are factor levels?\"\n",
      "[1] \"0\"\n",
      "\n",
      "[1] \"N rows of randomization datasheet: \"\n",
      "[1] 30\n",
      "[1] \"N rows of randomization datasheet: \"\n",
      "[1] 24\n",
      "\n",
      "[1] \"Plots will be saved to: \"\n",
      "[1] \"/scratch2/NSF_GWAS/GMOlabeler/plots//T16_DEV_genes/EC/wk31/\"\n",
      "\n",
      "\n",
      "[1] \"How many groups per treatment?\"\n",
      "\n",
      " CTRL WOX11 WOX5a  WUSa \n",
      "    6     6     6     6 \n",
      "[1] \"How many rows in randomization datasheet?\"\n",
      "[1] 24\n",
      "[1] \"How many rows in randomization datasheet with portion_Callus data?\"\n",
      "[1] 24\n",
      "Warning message:\n",
      "`fun.y` is deprecated. Use `fun` instead. \n",
      "Warning messages:\n",
      "1: In grDevices::png(..., res = dpi, units = \"in\") :\n",
      "  unable to load shared object '/usr/lib64/R/library/grDevices/libs//cairo.so':\n",
      "  /lib64/libcairo.so.2: undefined symbol: FT_Get_Var_Design_Coordinates\n",
      "2: In grDevices::png(..., res = dpi, units = \"in\") :\n",
      "  failed to load cairo DLL\n",
      "Warning message:\n",
      "`fun.y` is deprecated. Use `fun` instead. \n",
      "Warning message:\n",
      "In grDevices::png(..., res = dpi, units = \"in\") : failed to load cairo DLL\n",
      "Warning message:\n",
      "`fun.y` is deprecated. Use `fun` instead. \n",
      "Warning message:\n",
      "In grDevices::png(..., res = dpi, units = \"in\") : failed to load cairo DLL\n",
      "Warning message:\n",
      "`fun.y` is deprecated. Use `fun` instead. \n",
      "Warning message:\n",
      "In grDevices::png(..., res = dpi, units = \"in\") : failed to load cairo DLL\n",
      "Warning message:\n",
      "`fun.y` is deprecated. Use `fun` instead. \n",
      "Warning message:\n",
      "In grDevices::png(..., res = dpi, units = \"in\") : failed to load cairo DLL\n",
      "Warning message:\n",
      "`fun.y` is deprecated. Use `fun` instead. \n",
      "Warning message:\n",
      "In grDevices::png(..., res = dpi, units = \"in\") : failed to load cairo DLL\n",
      "Warning message:\n",
      "`fun.y` is deprecated. Use `fun` instead. \n",
      "Warning message:\n",
      "In grDevices::png(..., res = dpi, units = \"in\") : failed to load cairo DLL\n",
      "Warning message:\n",
      "`fun.y` is deprecated. Use `fun` instead. \n",
      "Warning message:\n",
      "In grDevices::png(..., res = dpi, units = \"in\") : failed to load cairo DLL\n",
      "\n",
      "[1] \"How many groups per treatment?\"\n",
      "\n",
      " CTRL WOX11 WOX5a  WUSa \n",
      "    6     6     6     6 \n",
      "[1] \"How many rows in randomization datasheet?\"\n",
      "[1] 24\n",
      "[1] \"How many rows in randomization datasheet with portion_Callus data?\"\n",
      "[1] 24\n",
      "Warning messages:\n",
      "1: Ignoring unknown parameters: outlier.shape \n",
      "2: `fun.y` is deprecated. Use `fun` instead. \n",
      "Warning message:\n",
      "In grDevices::png(..., res = dpi, units = \"in\") : failed to load cairo DLL\n",
      "Warning messages:\n",
      "1: Ignoring unknown parameters: outlier.shape \n",
      "2: `fun.y` is deprecated. Use `fun` instead. \n",
      "Warning message:\n",
      "In grDevices::png(..., res = dpi, units = \"in\") : failed to load cairo DLL\n",
      "Warning messages:\n",
      "1: Ignoring unknown parameters: outlier.shape \n",
      "2: `fun.y` is deprecated. Use `fun` instead. \n",
      "Warning message:\n",
      "In grDevices::png(..., res = dpi, units = \"in\") : failed to load cairo DLL\n",
      "Warning messages:\n",
      "1: Ignoring unknown parameters: outlier.shape \n",
      "2: `fun.y` is deprecated. Use `fun` instead. \n",
      "Warning message:\n",
      "In grDevices::png(..., res = dpi, units = \"in\") : failed to load cairo DLL\n",
      "Warning messages:\n",
      "1: Ignoring unknown parameters: outlier.shape \n",
      "2: `fun.y` is deprecated. Use `fun` instead. \n",
      "Warning message:\n",
      "In grDevices::png(..., res = dpi, units = \"in\") : failed to load cairo DLL\n",
      "Warning messages:\n",
      "1: Ignoring unknown parameters: outlier.shape \n",
      "2: `fun.y` is deprecated. Use `fun` instead. \n",
      "Warning message:\n",
      "In grDevices::png(..., res = dpi, units = \"in\") : failed to load cairo DLL\n",
      "Warning messages:\n",
      "1: Ignoring unknown parameters: outlier.shape \n",
      "2: `fun.y` is deprecated. Use `fun` instead. \n",
      "Warning message:\n",
      "In grDevices::png(..., res = dpi, units = \"in\") : failed to load cairo DLL\n",
      "Warning messages:\n",
      "1: Ignoring unknown parameters: outlier.shape \n",
      "2: `fun.y` is deprecated. Use `fun` instead. \n",
      "Warning message:\n",
      "In grDevices::png(..., res = dpi, units = \"in\") : failed to load cairo DLL\n",
      "\n",
      "[1] \"How many groups per treatment?\"\n",
      "\n",
      " CTRL WOX11 WOX5a  WUSa \n",
      "    6     6     6     6 \n",
      "[1] \"How many rows in randomization datasheet?\"\n",
      "[1] 24\n",
      "[1] \"How many rows in randomization datasheet with n_Callus data?\"\n",
      "[1] 24\n",
      "[1] \"Head:\"\n",
      "      ID Image # Tray ID Date of pre-culture Date of transformation\n",
      "1  EC1_1       1     EC1          2019-11-18             2019-11-20\n",
      "2 EC1_10      10     EC1          2019-11-18             2019-11-20\n",
      "3 EC1_11      11     EC1          2019-11-18             2019-11-20\n",
      "4 EC1_12      12     EC1          2019-11-18             2019-11-20\n",
      "5 EC1_13      13     EC1          2019-11-18             2019-11-20\n",
      "6 EC1_14      14     EC1          2019-11-18             2019-11-20\n",
      "  Date of Washing Plate # Randomization #   Plate ID Source of material*\n",
      "1      2019-11-29      16              R1 SP7-L4-4-2                  GH\n",
      "2      2019-11-29      24             R10  SP7-L-4-2                  IV\n",
      "3      2019-11-29      14             R11 SP7-L3-3-2                  GH\n",
      "4      2019-11-29      20             R12  SP7-L-2-2                  IV\n",
      "5      2019-11-29      12             R13 SP7-L2-2-2                  GH\n",
      "6      2019-11-29       1             R14 SP7-S1-1-1                  GH\n",
      "  Type of tissue** Genotype_ID Treatment name #* Treatment name Replicate ...15\n",
      "1               L4         SP7                 4          WOX11         2    NA\n",
      "2                L         SP7                 4          WOX11         2    NA\n",
      "3               L3         SP7                 3          WOX5a         2    NA\n",
      "4                L         SP7                 2           WUSa         2    NA\n",
      "5               L2         SP7                 2           WUSa         2    NA\n",
      "6               S1         SP7                 1           CTRL         1    NA\n",
      "    LabelTop        LabelBot                        filename    1    2    3\n",
      "1   EC1_1_R1 SP7_L4_GH_WOX11                            <NA> <NA> <NA> <NA>\n",
      "2 EC1_10_R10  SP7_L_IV_WOX11 EC1_I5.0_F1.9_L100_142348_3_1_2    2    2    3\n",
      "3 EC1_11_R11 SP7_L3_GH_WOX5a                            <NA> <NA> <NA> <NA>\n",
      "4 EC1_12_R12   SP7_L_IV_WUSa                            <NA> <NA> <NA> <NA>\n",
      "5 EC1_13_R13  SP7_L2_GH_WUSa                            <NA> <NA> <NA> <NA>\n",
      "6 EC1_14_R14  SP7_S1_GH_CTRL                            <NA> <NA> <NA> <NA>\n",
      "     4    5    6    7    8    9   10   11   12 total_explants\n",
      "1 <NA> <NA> <NA> <NA> <NA> <NA> <NA> <NA> <NA>             12\n",
      "2    3    2    2    2    3    2    2    2    2             27\n",
      "3 <NA> <NA> <NA> <NA> <NA> <NA> <NA> <NA> <NA>             12\n",
      "4 <NA> <NA> <NA> <NA> <NA> <NA> <NA> <NA> <NA>             12\n",
      "5 <NA> <NA> <NA> <NA> <NA> <NA> <NA> <NA> <NA>             12\n",
      "6 <NA> <NA> <NA> <NA> <NA> <NA> <NA> <NA> <NA>             12\n",
      "  n_transgenic_Shoot portion_transgenic_Shoot n_transgenic_Callus\n",
      "1                  0                        0                   0\n",
      "2                  0                        0                   0\n",
      "3                  0                        0                   0\n",
      "4                  0                        0                   0\n",
      "5                  0                        0                   0\n",
      "6                  0                        0                   0\n",
      "  portion_transgenic_Callus n_transgenic_Stem portion_transgenic_Stem\n",
      "1                         0                 0                       0\n",
      "2                         0                 0                       0\n",
      "3                         0                 0                       0\n",
      "4                         0                 0                       0\n",
      "5                         0                 0                       0\n",
      "6                         0                 0                       0\n",
      "  n_transgenic_All_tissue portion_transgenic_All_tissue\n",
      "1                       0                             0\n",
      "2                       0                             0\n",
      "3                       0                             0\n",
      "4                       0                             0\n",
      "5                       0                             0\n",
      "6                       0                             0\n",
      "  n_transgenic_All_regenerated_tissue portion_transgenic_All_regenerated_tissue\n",
      "1                                   0                                         0\n",
      "2                                   0                                         0\n",
      "3                                   0                                         0\n",
      "4                                   0                                         0\n",
      "5                                   0                                         0\n",
      "6                                   0                                         0\n",
      "  n_transgenic_Background portion_transgenic_Background n_Shoot portion_Shoot\n",
      "1                       0                             0       0             0\n",
      "2                       0                             0       0             0\n",
      "3                       0                             0       0             0\n",
      "4                       0                             0       0             0\n",
      "5                       0                             0       0             0\n",
      "6                       0                             0       0             0\n",
      "  n_Callus portion_Callus n_Stem portion_Stem n_All_tissue portion_All_tissue\n",
      "1        0              0      0            0            0                  0\n",
      "2        0              0      0            0            0                  0\n",
      "3        0              0      0            0            0                  0\n",
      "4        0              0      0            0            0                  0\n",
      "5        0              0      0            0            0                  0\n",
      "6        0              0      0            0            0                  0\n",
      "  n_All_regenerated_tissue portion_All_regenerated_tissue n_Background\n",
      "1                        0                              0            0\n",
      "2                        0                              0            0\n",
      "3                        0                              0            0\n",
      "4                        0                              0            0\n",
      "5                        0                              0            0\n",
      "6                        0                              0            0\n",
      "  portion_Background\n",
      "1                  0\n",
      "2                  0\n",
      "3                  0\n",
      "4                  0\n",
      "5                  0\n",
      "6                  0\n",
      "Warning message:\n",
      "`fun.y` is deprecated. Use `fun` instead. \n",
      "Warning message:\n",
      "In grDevices::png(..., res = dpi, units = \"in\") : failed to load cairo DLL\n",
      "Warning message:\n",
      "`fun.y` is deprecated. Use `fun` instead. \n",
      "Warning message:\n",
      "In grDevices::png(..., res = dpi, units = \"in\") : failed to load cairo DLL\n",
      "Warning message:\n",
      "`fun.y` is deprecated. Use `fun` instead. \n",
      "Warning message:\n",
      "In grDevices::png(..., res = dpi, units = \"in\") : failed to load cairo DLL\n",
      "Warning message:\n",
      "`fun.y` is deprecated. Use `fun` instead. \n",
      "Warning message:\n",
      "In grDevices::png(..., res = dpi, units = \"in\") : failed to load cairo DLL\n",
      "Warning message:\n",
      "`fun.y` is deprecated. Use `fun` instead. \n",
      "Warning message:\n",
      "In grDevices::png(..., res = dpi, units = \"in\") : failed to load cairo DLL\n",
      "Warning message:\n",
      "`fun.y` is deprecated. Use `fun` instead. \n",
      "Warning message:\n",
      "In grDevices::png(..., res = dpi, units = \"in\") : failed to load cairo DLL\n",
      "Warning message:\n",
      "`fun.y` is deprecated. Use `fun` instead. \n",
      "Warning message:\n",
      "In grDevices::png(..., res = dpi, units = \"in\") : failed to load cairo DLL\n",
      "Warning message:\n",
      "`fun.y` is deprecated. Use `fun` instead. \n",
      "Warning message:\n",
      "In grDevices::png(..., res = dpi, units = \"in\") : failed to load cairo DLL\n",
      "\n",
      "[1] \"List of treatments in this randomization_datasheet: \"\n",
      "[1] \"CTRL\"  \"WOX11\" \"WOX5a\" \"WUSa\" \n",
      "[1] \"Now about to merge randomization_datasheet and GMOlabeler output.\"\n",
      "[1] \"Rows in randomization_datasheet: 24\"\n",
      "[1] \"Rows in GMOlabeler output: 1\"\n",
      "[1] \"Before merging, look at table of ID in both. \"\n",
      "\n",
      " EC1_1 EC1_10 EC1_11 EC1_12 EC1_13 EC1_14 EC1_15 EC1_16 EC1_17 EC1_18 EC1_19 \n",
      "     1      1      1      1      1      1      1      1      1      1      1 \n",
      " EC1_2 EC1_20 EC1_21  EC1_3  EC1_4  EC1_5  EC1_6  EC1_7  EC1_8  EC1_9  EC2_1 \n",
      "     1      1      1      1      1      1      1      1      1      1      1 \n",
      " EC2_2  EC2_3 \n",
      "     1      1 \n",
      "\n",
      "_ \n",
      "1 \n",
      "[1] \"Rows in merged output: 1\"\n",
      "[1] \"List of treatments in this combined data: \"\n",
      "character(0)\n",
      "\n",
      "[1]  0 70\n",
      "Error: Faceting variables must have at least one value\n",
      "Backtrace:\n",
      "\u001b[90m    \u001b[39m█\n",
      "\u001b[90m 1. \u001b[39m├─base::print(p1)\n",
      "\u001b[90m 2. \u001b[39m└─ggplot2:::print.ggplot(p1)\n",
      "\u001b[90m 3. \u001b[39m  ├─ggplot2::ggplot_build(x)\n",
      "\u001b[90m 4. \u001b[39m  └─ggplot2:::ggplot_build.ggplot(x)\n",
      "\u001b[90m 5. \u001b[39m    └─layout$setup(data, plot$data, plot$plot_env)\n",
      "\u001b[90m 6. \u001b[39m      └─ggplot2:::f(..., self = self)\n",
      "\u001b[90m 7. \u001b[39m        └─self$facet$compute_layout(data, self$facet_params)\n",
      "\u001b[90m 8. \u001b[39m          └─ggplot2:::f(...)\n",
      "\u001b[90m 9. \u001b[39m            └─ggplot2::combine_vars(data, params$plot_env, cols, drop = params$drop)\n",
      "In addition: Warning message:\n",
      "`fun.y` is deprecated. Use `fun` instead. \n",
      "Execution halted\n"
     ]
    },
    {
     "ename": "",
     "evalue": "1",
     "output_type": "error",
     "traceback": []
    }
   ],
   "source": [
    "cd /scratch2/NSF_GWAS/GMOlabeler/\n",
    "Rscript grid_item_plots_a10.R \\\n",
    "-d \"${data_folder}/\" \\\n",
    "-r $randomization_datasheet \\\n",
    "-p $pixel_threshold \\\n",
    "-v $variable_type \\\n",
    "-m 1 \\\n",
    "-M $missing_explants \\\n",
    "-g $grid \\\n",
    "--sort 1 \\\n",
    "--height $height \\\n",
    "--width $width"
   ]
  },
  {
   "cell_type": "markdown",
   "metadata": {},
   "source": [
    "## 5. Email plots to user"
   ]
  },
  {
   "cell_type": "markdown",
   "metadata": {},
   "source": [
    "##### 5.1. ZIP results"
   ]
  },
  {
   "cell_type": "code",
   "execution_count": null,
   "metadata": {},
   "outputs": [],
   "source": [
    "cd \"/scratch2/NSF_GWAS/GMOlabeler/plots${data_folder}\""
   ]
  },
  {
   "cell_type": "code",
   "execution_count": null,
   "metadata": {},
   "outputs": [],
   "source": [
    "rm -f ./plants_over_plates.csv"
   ]
  },
  {
   "cell_type": "code",
   "execution_count": null,
   "metadata": {},
   "outputs": [],
   "source": [
    "cp \"/scratch2/NSF_GWAS/GMOlabeler/output/${data_folder}/plants_over_plates.csv\" ./"
   ]
  },
  {
   "cell_type": "code",
   "execution_count": null,
   "metadata": {},
   "outputs": [],
   "source": [
    "rm -f Rplots.pdf"
   ]
  },
  {
   "cell_type": "code",
   "execution_count": null,
   "metadata": {},
   "outputs": [],
   "source": [
    "cd ../"
   ]
  },
  {
   "cell_type": "markdown",
   "metadata": {},
   "source": [
    "This messy substitution is explained here: https://superuser.com/questions/1068031/replace-backslash-with-forward-slash-in-a-variable-in-bash"
   ]
  },
  {
   "cell_type": "code",
   "execution_count": null,
   "metadata": {},
   "outputs": [],
   "source": [
    "data_folder_Compress=\"${data_folder////-}.zip\"\n",
    "data_folder_Compress=${data_folder_Compress#?};"
   ]
  },
  {
   "cell_type": "code",
   "execution_count": null,
   "metadata": {},
   "outputs": [],
   "source": [
    "ls"
   ]
  },
  {
   "cell_type": "code",
   "execution_count": null,
   "metadata": {},
   "outputs": [],
   "source": [
    "cd $timepoint\n",
    "zip -r $data_folder_Compress ./*"
   ]
  },
  {
   "cell_type": "markdown",
   "metadata": {},
   "source": [
    "##### 5.2. Write email"
   ]
  },
  {
   "cell_type": "code",
   "execution_count": null,
   "metadata": {},
   "outputs": [],
   "source": [
    "duration=$(( SECONDS - start ))"
   ]
  },
  {
   "cell_type": "markdown",
   "metadata": {},
   "source": [
    "https://unix.stackexchange.com/questions/53841/how-to-use-a-timer-in-bash"
   ]
  },
  {
   "cell_type": "code",
   "execution_count": null,
   "metadata": {},
   "outputs": [],
   "source": [
    "rm -f /scratch2/NSF_GWAS/GMOlabeler/email_to_send.txt\n",
    "cp /scratch2/NSF_GWAS/GMOlabeler/email_to_send_template.txt /scratch2/NSF_GWAS/GMOlabeler/email_to_send.txt"
   ]
  },
  {
   "cell_type": "code",
   "execution_count": null,
   "metadata": {},
   "outputs": [],
   "source": [
    "echo \"\" >> /scratch2/NSF_GWAS/GMOlabeler/email_to_send.txt\n",
    "echo \"Number of samples run: \" >> /scratch2/NSF_GWAS/GMOlabeler/email_to_send.txt"
   ]
  },
  {
   "cell_type": "code",
   "execution_count": null,
   "metadata": {},
   "outputs": [],
   "source": [
    "cat \"${data}/test.csv\" | wc -l >> /scratch2/NSF_GWAS/GMOlabeler/email_to_send.txt\n",
    "echo \"\" >> /scratch2/NSF_GWAS/GMOlabeler/email_to_send.txt"
   ]
  },
  {
   "cell_type": "code",
   "execution_count": null,
   "metadata": {},
   "outputs": [],
   "source": [
    "if (( $SECONDS > 3600 )) ; then\n",
    "    let \"hours=SECONDS/3600\"\n",
    "    let \"minutes=(SECONDS%3600)/60\"\n",
    "    let \"seconds=(SECONDS%3600)%60\"\n",
    "    echo \"Completed in $hours hour(s), $minutes minute(s) and $seconds second(s)\" >> /scratch2/NSF_GWAS/GMOlabeler/email_to_send.txt\n",
    "elif (( $SECONDS > 60 )) ; then\n",
    "    let \"minutes=(SECONDS%3600)/60\"\n",
    "    let \"seconds=(SECONDS%3600)%60\"\n",
    "    echo \"Completed in $minutes minute(s) and $seconds second(s)\" >> /scratch2/NSF_GWAS/GMOlabeler/email_to_send.txt\n",
    "else\n",
    "    echo \"Completed in $SECONDS seconds\" >> /scratch2/NSF_GWAS/GMOlabeler/email_to_send.txt\n",
    "fi"
   ]
  },
  {
   "cell_type": "code",
   "execution_count": null,
   "metadata": {},
   "outputs": [],
   "source": [
    "echo \"\" >> /scratch2/NSF_GWAS/GMOlabeler/email_to_send.txt"
   ]
  },
  {
   "cell_type": "markdown",
   "metadata": {},
   "source": [
    "##### 5.3. Send email with results to user"
   ]
  },
  {
   "cell_type": "code",
   "execution_count": null,
   "metadata": {},
   "outputs": [],
   "source": [
    "pwd"
   ]
  },
  {
   "cell_type": "code",
   "execution_count": null,
   "metadata": {},
   "outputs": [],
   "source": [
    "mail -a $data_folder_Compress -s $data_folder $email < /scratch2/NSF_GWAS/GMOlabeler/email_to_send.txt"
   ]
  },
  {
   "cell_type": "code",
   "execution_count": null,
   "metadata": {},
   "outputs": [],
   "source": [
    "du -sh $data_folder_Compress"
   ]
  },
  {
   "cell_type": "code",
   "execution_count": null,
   "metadata": {},
   "outputs": [],
   "source": [
    "cat /scratch2/NSF_GWAS/GMOlabeler/email_to_send.txt"
   ]
  },
  {
   "cell_type": "markdown",
   "metadata": {},
   "source": [
    "##### Time analysis ends"
   ]
  },
  {
   "cell_type": "code",
   "execution_count": null,
   "metadata": {},
   "outputs": [],
   "source": [
    "echo $(date)"
   ]
  },
  {
   "cell_type": "code",
   "execution_count": null,
   "metadata": {},
   "outputs": [],
   "source": []
  },
  {
   "cell_type": "markdown",
   "metadata": {},
   "source": []
  },
  {
   "cell_type": "code",
   "execution_count": null,
   "metadata": {},
   "outputs": [],
   "source": []
  },
  {
   "cell_type": "code",
   "execution_count": null,
   "metadata": {},
   "outputs": [],
   "source": []
  },
  {
   "cell_type": "code",
   "execution_count": null,
   "metadata": {},
   "outputs": [],
   "source": []
  },
  {
   "cell_type": "code",
   "execution_count": null,
   "metadata": {},
   "outputs": [],
   "source": []
  },
  {
   "cell_type": "code",
   "execution_count": null,
   "metadata": {},
   "outputs": [],
   "source": []
  },
  {
   "cell_type": "code",
   "execution_count": null,
   "metadata": {},
   "outputs": [],
   "source": []
  },
  {
   "cell_type": "code",
   "execution_count": null,
   "metadata": {},
   "outputs": [],
   "source": []
  },
  {
   "cell_type": "code",
   "execution_count": null,
   "metadata": {},
   "outputs": [],
   "source": []
  },
  {
   "cell_type": "code",
   "execution_count": null,
   "metadata": {},
   "outputs": [],
   "source": []
  },
  {
   "cell_type": "code",
   "execution_count": null,
   "metadata": {},
   "outputs": [],
   "source": []
  },
  {
   "cell_type": "code",
   "execution_count": null,
   "metadata": {},
   "outputs": [],
   "source": []
  }
 ],
 "metadata": {
  "kernelspec": {
   "display_name": "Bash",
   "language": "bash",
   "name": "bash"
  },
  "language_info": {
   "codemirror_mode": "shell",
   "file_extension": ".sh",
   "mimetype": "text/x-sh",
   "name": "bash"
  }
 },
 "nbformat": 4,
 "nbformat_minor": 4
}
