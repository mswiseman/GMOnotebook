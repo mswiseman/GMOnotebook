{
 "cells": [
  {
   "cell_type": "code",
   "execution_count": null,
   "id": "63f58d23-3249-40c8-9744-0bd85d6d9546",
   "metadata": {},
   "outputs": [],
   "source": []
  }
 ],
 "metadata": {
  "kernelspec": {
   "display_name": "Bash",
   "language": "bash",
   "name": "bash"
  },
  "language_info": {
   "codemirror_mode": "shell",
   "file_extension": ".sh",
   "mimetype": "text/x-sh",
   "name": "bash"
  }
 },
 "nbformat": 4,
 "nbformat_minor": 5
}
