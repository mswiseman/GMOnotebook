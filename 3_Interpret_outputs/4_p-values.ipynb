{
 "cells": [
  {
   "cell_type": "markdown",
   "id": "1c025dde",
   "metadata": {},
   "source": [
    "# Empirical *p*-values for treatment effects and interactions with genotype"
   ]
  },
  {
   "cell_type": "markdown",
   "id": "ad4489a8",
   "metadata": {},
   "source": [
    "A certain level of statistical analysis is automatically performed for the user. This includes linear regression and ANOVA, with empirical *p*-values calculated using the `permutes` package. The use of empirical *p*-values, computed by permutations and generation of a true null distribution, avoids any assumptions of data distributions and should thus be robust for the diverse distributions `GMOdetector` output statistics may follow."
   ]
  },
  {
   "cell_type": "markdown",
   "id": "67ace8a2",
   "metadata": {},
   "source": [
    "ANOVA and linear regression results are provided in separate spreadsheets for the whole-plate transformation frequency statistics and the per-explant summary statistics previously described."
   ]
  },
  {
   "cell_type": "markdown",
   "id": "56cb9ce3",
   "metadata": {},
   "source": [
    "## ANOVA"
   ]
  },
  {
   "cell_type": "code",
   "execution_count": null,
   "id": "bdb5f4e7",
   "metadata": {},
   "outputs": [],
   "source": []
  },
  {
   "cell_type": "markdown",
   "id": "32bf6f49",
   "metadata": {},
   "source": [
    "## Linear regression"
   ]
  },
  {
   "cell_type": "code",
   "execution_count": null,
   "id": "6f7f3b58",
   "metadata": {},
   "outputs": [],
   "source": []
  }
 ],
 "metadata": {
  "kernelspec": {
   "display_name": "R",
   "language": "R",
   "name": "ir"
  },
  "language_info": {
   "codemirror_mode": "r",
   "file_extension": ".r",
   "mimetype": "text/x-r-source",
   "name": "R",
   "pygments_lexer": "r",
   "version": "3.6.3"
  }
 },
 "nbformat": 4,
 "nbformat_minor": 5
}
