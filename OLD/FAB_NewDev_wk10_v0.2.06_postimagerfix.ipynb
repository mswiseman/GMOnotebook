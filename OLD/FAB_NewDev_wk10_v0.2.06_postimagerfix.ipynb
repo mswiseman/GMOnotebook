{
 "cells": [
  {
   "cell_type": "markdown",
   "metadata": {},
   "source": [
    "# *GMOnotebook*: Template to analyze a new batch of images\n",
    "**Notebook template for applying routine hyperspectral/segmentation cross-analysis phenomics workflow over new datasets**"
   ]
  },
  {
   "cell_type": "markdown",
   "metadata": {},
   "source": [
    "- Notebook template v0.2.03 (Oct 14, 2020)\n",
    "- v0.2.0 onward applies the Python `GMOdetector` package instead of the deprecated R `GMOdetectoR` package, for much faster runtime\n",
    "- v0.2.01 has calls to `conda` cleaned up with `conda activate` and `conda deactivate` in the same code blocks to avoid any problems with warnings/errors preventing automatic execution of subsequent blocks\n",
    "- v0.2.02 is cleaned up using path variables (declared in notebook) instead of hardcoded paths, for portability\n",
    "- v0.2.03 is more clean to avoid running alignment-processed images through `inference.py` if an analysis if being repeated... also has better instructions"
   ]
  },
  {
   "cell_type": "markdown",
   "metadata": {},
   "source": [
    "v.0.2.05 is updated to work with FAA wk7. Specifically, there are updates to deal with increased image resolution (y~=2000), off-center images, and rotated images, including metadata normalization and user inputs for parameterized grid cropping."
   ]
  },
  {
   "cell_type": "markdown",
   "metadata": {},
   "source": [
    "<img src=\"Figures/WorkflowFlowchart.png\">"
   ]
  },
  {
   "cell_type": "markdown",
   "metadata": {},
   "source": [
    "In this workflow, images taken with the macroPhor Array dual RGB/hyperspectral imaging platform are analyzed by a workflow in which regression quantifies fluorescent signals in hyperspectral images, deep learning segments RGB images into different tissues, and these datasets are cross-referenced to produce statistics on growth of transgenic callus and shoot."
   ]
  },
  {
   "cell_type": "markdown",
   "metadata": {},
   "source": [
    "## Instructions for use\n",
    "1.  Enter information for the experiment below\n",
    "2. Set <font color=blue>variables</font> for data paths and parameters, as instructed by colored boxes.\n",
    "3. \"Save as\" with filename describing experiment and anything special about this analysis (e.g. T18_OD_TAO_wk7_automation_test_attempt2.ipynb)\n",
    "4. Run notebook from console, by either one of two methods:\n",
    "- In the top bar of JupyterLab, select \"Run\" and \"Run all cells\"\n",
    "- In a terminal, enter the below command with the notebook filename inserted<br>\n",
    "```jupyter nbconvert --to HTML --ExecutePreprocessor.timeout=-1 --allow-errors --execute insert_filename_here```\n",
    "5. Wait for email"
   ]
  },
  {
   "cell_type": "markdown",
   "metadata": {},
   "source": [
    "## Experiment ID and quick description:"
   ]
  },
  {
   "cell_type": "markdown",
   "metadata": {},
   "source": [
    "<div class=\"alert alert-block alert-success\">\n",
    "Provide a short description of the experiment in the below box. This should include unique identifier codes for the experiment, along with a short description of genotypes and treatments studied. The timepoint should also be included. </div>"
   ]
  },
  {
   "cell_type": "raw",
   "metadata": {},
   "source": [
    "FAB: Testing new DEV gene plasmids\n",
    "Week 10 timepoint – After 3w callus induction and 7w shoot induction"
   ]
  },
  {
   "cell_type": "markdown",
   "metadata": {},
   "source": [
    "## Parameters for analysis:"
   ]
  },
  {
   "cell_type": "markdown",
   "metadata": {},
   "source": [
    "<div class=\"alert alert-block alert-success\">\n",
    "The below variables must be modified appropriately every time this workflow is run over new images.\n",
    "</div>"
   ]
  },
  {
   "cell_type": "markdown",
   "metadata": {},
   "source": [
    "### Data location\n",
    "The `data` variable below provides the **complete** path to the folder containing data to be analyzed. This should include all folders and subfolders in which the data of interest is organized by. For the organizational system used for our lab's data, this should follow the format \"/Experiment/Subexperiment/Timepoint/\""
   ]
  },
  {
   "cell_type": "code",
   "execution_count": 1,
   "metadata": {},
   "outputs": [],
   "source": [
    "data_prefix=\"/run/media/labgroup/Elements_9/\""
   ]
  },
  {
   "cell_type": "code",
   "execution_count": 2,
   "metadata": {},
   "outputs": [],
   "source": [
    "data=\"${data_prefix}/Transformation/FAB_Dev_Genes/wk10/Fluorescent/\""
   ]
  },
  {
   "cell_type": "markdown",
   "metadata": {},
   "source": [
    "### Sample information\n",
    "Every experiment has a randomization datasheet, which was used to organize treatment and genotype information for each plate, prepare labels, and randomize plates. The path to this file is provided through the `randomization_datasheets` variable below. This workflow requires this datasheet in order to know which plates have which genotype/treatment. At a later date, we will integrate an ability to read this data directly from labels."
   ]
  },
  {
   "cell_type": "code",
   "execution_count": 3,
   "metadata": {},
   "outputs": [],
   "source": [
    "randomization_datasheet=\"${data_prefix}/Transformation/FAB_Dev_Genes/FAB_randomization_list_labels.xlsx\""
   ]
  },
  {
   "cell_type": "markdown",
   "metadata": {},
   "source": [
    "### Detection of missing or contaminated explants"
   ]
  },
  {
   "cell_type": "markdown",
   "metadata": {},
   "source": [
    "Set the `missing_explants` variable to `\"Automatic\"` if using model to automatically detect missing and contaminated explants. Note that this model is only supported for plates with 12 explants. Otherwise, provide an appropriately formatted `.csv` spreadsheet (see example)  of manually scored contamination / missing explant data."
   ]
  },
  {
   "cell_type": "code",
   "execution_count": 4,
   "metadata": {},
   "outputs": [],
   "source": [
    "missing_explants=\"Automatic\""
   ]
  },
  {
   "cell_type": "markdown",
   "metadata": {},
   "source": [
    "Enter your email where results will be sent"
   ]
  },
  {
   "cell_type": "markdown",
   "metadata": {},
   "source": [
    "### Email"
   ]
  },
  {
   "cell_type": "code",
   "execution_count": 5,
   "metadata": {},
   "outputs": [],
   "source": [
    "email=michael.nagle@oregonstate.edu"
   ]
  },
  {
   "cell_type": "markdown",
   "metadata": {},
   "source": [
    "\n",
    "\n",
    "\n",
    "\n",
    "\n",
    "\n",
    "\n",
    "\n",
    "\n",
    "\n",
    "\n",
    "\n",
    "\n",
    "\n",
    "\n",
    "<div class=\"alert alert-block alert-warning\">\n",
    "All variables below should be modified only as needed to indicate the fluorescent proteins in samples and the grid layout of explants. </div>"
   ]
  },
  {
   "cell_type": "markdown",
   "metadata": {},
   "source": [
    "### Fluorescent protein settings"
   ]
  },
  {
   "cell_type": "markdown",
   "metadata": {},
   "source": [
    "Below should be all known fluorescent components contained in the sample. This includes each fluorescent protein, as well as a \"noise\" or \"diffraction\" term if applicable. All of these components must exist in the user's spectral library. `GMOdetector` currently comes with a spectral library that includes, by default:\n",
    "- DsRed\n",
    "- ZsYellow\n",
    "- GFP\n",
    "- Chl\n",
    "- ChlA\n",
    "- ChlB\n",
    "- Diffraction"
   ]
  },
  {
   "cell_type": "code",
   "execution_count": 6,
   "metadata": {},
   "outputs": [],
   "source": [
    "fluorophores=(DsRed Chl Diffraction) # An explanation of array variables in bash is here: https://tldp.org/LDP/Bash-Beginners-Guide/html/sect_10_02.html"
   ]
  },
  {
   "cell_type": "markdown",
   "metadata": {},
   "source": [
    "The user has the option of limiting loading of hyperspectral data and subsequent regression to a specific range of wavelengths, using the `desired_wavelength_range` array variable. This range should cover all fluorophores provided in the `fluorophores` array variable able. Aside from runtime, there is no disadvantage to including a wider range than is needed."
   ]
  },
  {
   "cell_type": "code",
   "execution_count": 7,
   "metadata": {},
   "outputs": [],
   "source": [
    "desired_wavelength_range=(500 900)"
   ]
  },
  {
   "cell_type": "markdown",
   "metadata": {},
   "source": [
    "### False color plot settings"
   ]
  },
  {
   "cell_type": "markdown",
   "metadata": {},
   "source": [
    "To assist user inspection of regression results, false color plots can be produced by `GMOdetector` to show results of regression over whole samples. \n",
    "Note: In v0.2.0 of the workflow, these parameters are independent of those used later by `GMOlabeler` to produce by-explant plots including false color plots. These will be made the same in a later update.\n",
    "The `FalseColor_channels` array variable indicates the components to be plotted as red, green and blue, in that order."
   ]
  },
  {
   "cell_type": "code",
   "execution_count": 8,
   "metadata": {},
   "outputs": [],
   "source": [
    "FalseColor_channels=(Chl DsRed Diffraction)"
   ]
  },
  {
   "cell_type": "markdown",
   "metadata": {},
   "source": [
    "The `FalseColor_caps` array variable indicates an upper limit of signal for each of these component. Any signal at or above these values will appear with maximum brightness; thus, these variables are comparable to exposure on a camera. If caps are too high, not much signal at lower ranges will be seen. If cap for a given component is too low, the false color images will appear overexposed with respect to the component."
   ]
  },
  {
   "cell_type": "code",
   "execution_count": 9,
   "metadata": {},
   "outputs": [],
   "source": [
    "FalseColor_caps=(200 400 50)"
   ]
  },
  {
   "cell_type": "markdown",
   "metadata": {},
   "source": [
    "`GMOlabeler` will use the below parameters to classify individual explants on plates as transgenic or not."
   ]
  },
  {
   "cell_type": "code",
   "execution_count": 10,
   "metadata": {},
   "outputs": [],
   "source": [
    "#reporter=GFP\n",
    "reporter=DsRed"
   ]
  },
  {
   "cell_type": "markdown",
   "metadata": {},
   "source": [
    "Parameters for reporter signal threshold and pixel threshold must be provided by the user. Our grid search yielded several noted below. These were most recently calculated from statistics produced with Python `GMOdetector`."
   ]
  },
  {
   "cell_type": "markdown",
   "metadata": {},
   "source": [
    "<img src=\"Figures/GMOlabeler_parameters.png\">"
   ]
  },
  {
   "cell_type": "code",
   "execution_count": 11,
   "metadata": {},
   "outputs": [],
   "source": [
    "reporter_threshold=38\n",
    "pixel_threshold=3"
   ]
  },
  {
   "cell_type": "markdown",
   "metadata": {},
   "source": [
    "### Grid settings"
   ]
  },
  {
   "cell_type": "markdown",
   "metadata": {},
   "source": [
    "Currently, `GMOlabeler` distinguishes explants by their expected position on a plate. This is supported for plates with 12 or 20 explants, arranged in specific positions on a grid. False positives may result in cases in which one explant grows to such an extent that it intrudes into the grid square meant for an adjacent explant. <br>In the future, an additional neural network will be used to segment individual explants on a per-pixel basis, avoiding the need for crude cropping, and the outputs from the resulting model will be integrated with `GMOlabeler`."
   ]
  },
  {
   "cell_type": "markdown",
   "metadata": {},
   "source": [
    "Cropping to grid squares is supported for standard grids with 12 or 20 explants, as indicated by the `grid` variable. An image of each grid square (with a file path provided by the `grid_file` variable) will be superimposed over each image during `GMOlabeler` analysis to allow the user to easily inspect and verify grid positions."
   ]
  },
  {
   "cell_type": "code",
   "execution_count": 12,
   "metadata": {},
   "outputs": [],
   "source": [
    "grid=12"
   ]
  },
  {
   "cell_type": "markdown",
   "metadata": {},
   "source": [
    "<div class=\"alert alert-block alert-danger\">\n",
    "The below variables do not need to be modified during any routine use of the workflow.\n",
    "</div>"
   ]
  },
  {
   "cell_type": "markdown",
   "metadata": {},
   "source": [
    "For the following variables, use 0 (False) or 1 (True)"
   ]
  },
  {
   "cell_type": "code",
   "execution_count": 13,
   "metadata": {},
   "outputs": [],
   "source": [
    "composite=0"
   ]
  },
  {
   "cell_type": "markdown",
   "metadata": {},
   "source": [
    "Set dimensions for plot outputs"
   ]
  },
  {
   "cell_type": "code",
   "execution_count": 14,
   "metadata": {},
   "outputs": [],
   "source": [
    "#width=15\n",
    "width=9\n",
    "height=5"
   ]
  },
  {
   "cell_type": "code",
   "execution_count": 15,
   "metadata": {},
   "outputs": [],
   "source": [
    "parallel=0"
   ]
  },
  {
   "cell_type": "markdown",
   "metadata": {},
   "source": [
    "### Alignment settings"
   ]
  },
  {
   "cell_type": "markdown",
   "metadata": {},
   "source": [
    "Set to \"Automatic\" if generating a new homography matrix from the grid standard included in the data folder. If using an existing homography matrix, enter the name here. This file should be in the \"output\" subfolder of the path to the `ImageAlignment` module."
   ]
  },
  {
   "cell_type": "code",
   "execution_count": 16,
   "metadata": {},
   "outputs": [],
   "source": [
    "homography=\"chromagrid_I5.0_F1.9_L100_190427_0_0_0_rgb_homography.npy\""
   ]
  },
  {
   "cell_type": "markdown",
   "metadata": {},
   "source": [
    "Set to \"Automatic\" or the path to the hyperspectral channel used to produce the homography matrix provided."
   ]
  },
  {
   "cell_type": "code",
   "execution_count": 64,
   "metadata": {},
   "outputs": [],
   "source": [
    "hypercube_csv=\"/run/media/labgroup/Elements_9//Transformation/FAC_Dev_Genes/wk10/Fluorescent/hypercube_to_csv.csv\""
   ]
  },
  {
   "cell_type": "markdown",
   "metadata": {},
   "source": [
    "Parameters to be used for generating a homography  matrix; these will only be used if `homography` is set to \"Automatic\""
   ]
  },
  {
   "cell_type": "code",
   "execution_count": 70,
   "metadata": {},
   "outputs": [],
   "source": [
    "distance=0.65\n",
    "gaussian_sigma=0.7"
   ]
  },
  {
   "cell_type": "markdown",
   "metadata": {},
   "source": [
    "Set to \"Automatic\" or the path to the jpg resulting from using the homography matrix (indicated by the `homography` variable) above to transform the original grid jpg"
   ]
  },
  {
   "cell_type": "code",
   "execution_count": 95,
   "metadata": {},
   "outputs": [],
   "source": [
    "aligned=\"/run/media/labgroup/Elements_9//Transformation/FAC_Dev_Genes/wk10/Fluorescent/chromagrid_I5.0_F1.9_L100_164321_0_0_0_rgb_processed.jpg\""
   ]
  },
  {
   "cell_type": "markdown",
   "metadata": {
    "heading_collapsed": "true"
   },
   "source": [
    "### Paths to workflow modules"
   ]
  },
  {
   "cell_type": "markdown",
   "metadata": {},
   "source": [
    "These only need to be modified if you are setting up a `GMOnotebook` template on a new computer."
   ]
  },
  {
   "cell_type": "code",
   "execution_count": 17,
   "metadata": {},
   "outputs": [],
   "source": [
    "cwd=\"/home/labgroup/code/GMOnotebook\""
   ]
  },
  {
   "cell_type": "code",
   "execution_count": 18,
   "metadata": {},
   "outputs": [],
   "source": [
    "#gmodetector_wd=\"/scratch2/NSF_GWAS/notebooks/gmodetector_py/\"\n",
    "gmodetector_wd=\"/home/labgroup/code/gmodetector_py/\"\n",
    "spectral_library_path=\"${gmodetector_wd}spectral_library/\"\n",
    "#output_directory_prefix=\"/scratch2/NSF_GWAS/gmodetector_out/\"\n",
    "#deeplab_path=\"/scratch2/NSF_GWAS/deeplab/\"\n",
    "deeplab_path=\"/home/labgroup/code/deeplab/\"\n",
    "#alignment_path=\"/scratch2/NSF_GWAS/ImageAlignment/\"\n",
    "alignment_path=\"/home/labgroup/code/ImageAlignment/\"\n",
    "#gmolabeler_path=\"/scratch2/NSF_GWAS/GMOlabeler/\"\n",
    "gmolabeler_path=\"/home/labgroup/code/GMOlabeler/\"\n",
    "#contamination_path=\"/scratch2/NSF_GWAS/Contamination\"\n",
    "contamination_path=\"/home/labgroup/code/DenseNet\"\n",
    "data_prefix=\"/home/labgroup/data/\"\n",
    "output_directory_prefix=\"${data_prefix}gmodetector_out/\""
   ]
  },
  {
   "cell_type": "code",
   "execution_count": 19,
   "metadata": {},
   "outputs": [],
   "source": [
    "#grid_file=\"/scratch2/NSF_GWAS/macroPhor_Array/grids/grid20_post_processed.png\"\n",
    "#grid_file=\"/scratch2/NSF_GWAS/macroPhor_Array/grids/grids_left_facing_125208_1_0_1_rgb_processed.jpg\"\n",
    "\n",
    "# For data from before when imager went off-center\n",
    "# grid_file=\"${gmolabeler_path}/grids/grid_12_explants_left-facing_processed.jpg\"\n",
    "\n",
    "# For offcenter images\n",
    "#grid_file=\"${alignment_path}/output/chromagrid_I5.0_F1.9_L100_122503_0_0_0_rgb_aligned.jpg\""
   ]
  },
  {
   "cell_type": "markdown",
   "metadata": {},
   "source": [
    "<div class=\"alert alert-block alert-info\">\n",
    "With all above variables set, please \"Save as...\" with a filename referencing this specific dataset. <br>Finally, deploy the workflow (Step 4 in above instructions).\n",
    "</div>"
   ]
  },
  {
   "cell_type": "markdown",
   "metadata": {},
   "source": [
    "# Automated workflow to be deployed"
   ]
  },
  {
   "cell_type": "markdown",
   "metadata": {},
   "source": [
    "See the below code for a walkthrough of how GMOnotebook works, or view the outputs after running the workflow for help troubleshooting errors in specific steps of analysis."
   ]
  },
  {
   "cell_type": "markdown",
   "metadata": {},
   "source": [
    "<div class=\"alert alert-block alert-danger\"> <b>Danger:</b> Do not modify any below code without creating a new version of the template notebook. During routine usage, this workflow should be customized only by modifying variables above, while leaving the below code unmodified. </div>"
   ]
  },
  {
   "cell_type": "markdown",
   "metadata": {},
   "source": [
    "These internal variables are set automatically."
   ]
  },
  {
   "cell_type": "code",
   "execution_count": 20,
   "metadata": {},
   "outputs": [],
   "source": [
    "datestamp=$(date +”%Y-%m-%d”)"
   ]
  },
  {
   "cell_type": "code",
   "execution_count": 21,
   "metadata": {},
   "outputs": [],
   "source": [
    "data_folder=$(echo $data | cut -d/ -f5-)"
   ]
  },
  {
   "cell_type": "code",
   "execution_count": 22,
   "metadata": {},
   "outputs": [],
   "source": [
    "timepoint=\"$(basename -- $data_folder)\""
   ]
  },
  {
   "cell_type": "code",
   "execution_count": 23,
   "metadata": {},
   "outputs": [],
   "source": [
    "output_directory_full=\"$output_directory_prefix$data_folder\""
   ]
  },
  {
   "cell_type": "code",
   "execution_count": 24,
   "metadata": {},
   "outputs": [],
   "source": [
    "dataset_name=$(echo $data_folder | sed -e 's/\\//-/g')"
   ]
  },
  {
   "cell_type": "markdown",
   "metadata": {},
   "source": [
    "Time analysis begins:"
   ]
  },
  {
   "cell_type": "code",
   "execution_count": 25,
   "metadata": {},
   "outputs": [
    {
     "name": "stdout",
     "output_type": "stream",
     "text": [
      "Thu Feb 25 03:01:42 PST 2021\n"
     ]
    }
   ],
   "source": [
    "echo $(date)"
   ]
  },
  {
   "cell_type": "markdown",
   "metadata": {},
   "source": [
    "## Quantification of fluorescent proteins by regression"
   ]
  },
  {
   "cell_type": "markdown",
   "metadata": {},
   "source": [
    "The Python package `GMOdetector` is used to quantify fluorescent proteins in each pixel of hyperspectral images via linear regression. Hyperspectral images are regressed over spectra of known components, and pixelwise maps of test-statistics are constructed for each component in the sample. This approach to quantifying components of hyperspectral images is described in-depth in the Methods section from <a href=\"https://link.springer.com/article/10.1007/s40789-019-0252-7\" target=\"_blank\">Böhme, et al. 2019</a>. Code and documentation for `GMOdetector` is on <a href=\"https://github.com/naglemi/GMOdetector_py\" target=\"_blank\">Github</a>."
   ]
  },
  {
   "cell_type": "code",
   "execution_count": 26,
   "metadata": {},
   "outputs": [],
   "source": [
    "cd $gmodetector_wd"
   ]
  },
  {
   "cell_type": "code",
   "execution_count": 27,
   "metadata": {},
   "outputs": [],
   "source": [
    "job_list_name=\"$dataset_name.jobs\""
   ]
  },
  {
   "cell_type": "code",
   "execution_count": 28,
   "metadata": {},
   "outputs": [],
   "source": [
    "rm -rf $job_list_name"
   ]
  },
  {
   "cell_type": "code",
   "execution_count": 30,
   "metadata": {},
   "outputs": [],
   "source": [
    "for file in $data/*.hdr\n",
    "do\n",
    " if [[ \"$file\" != *'hroma'* ]]; then\n",
    "  echo \"python -W ignore wrappers/analyze_sample.py \\\n",
    "--file_path $file \\\n",
    "--fluorophores ${fluorophores[*]} \\\n",
    "--min_desired_wavelength ${desired_wavelength_range[0]} \\\n",
    "--max_desired_wavelength ${desired_wavelength_range[1]} \\\n",
    "--red_channel ${FalseColor_channels[0]} \\\n",
    "--green_channel ${FalseColor_channels[1]} \\\n",
    "--blue_channel ${FalseColor_channels[2]} \\\n",
    "--red_cap ${FalseColor_caps[0]} \\\n",
    "--green_cap ${FalseColor_caps[1]} \\\n",
    "--blue_cap ${FalseColor_caps[2]} \\\n",
    "--plot 1 \\\n",
    "--spectral_library_path \"$spectral_library_path\" \\\n",
    "--output_dir $output_directory_full\" >> $job_list_name\n",
    " fi\n",
    "done"
   ]
  },
  {
   "cell_type": "code",
   "execution_count": 31,
   "metadata": {
    "collapsed": true,
    "jupyter": {
     "outputs_hidden": true
    }
   },
   "outputs": [
    {
     "name": "stdout",
     "output_type": "stream",
     "text": [
      "python wrappers/analyze_sample.py --file_path /run/media/labgroup/Elements_9//Transformation/FAB_Dev_Genes/wk10/Fluorescent//FAB1_I5.0_F1.9_L100LED30_184258_0_0_0_Fluorescence.hdr --fluorophores DsRed Chl Diffraction --min_desired_wavelength 500 --max_desired_wavelength 900 --red_channel Chl --green_channel DsRed --blue_channel Diffraction --red_cap 200 --green_cap 400 --blue_cap 50 --plot 1 --spectral_library_path /home/labgroup/code/gmodetector_py/spectral_library/ --output_dir /home/labgroup/data/gmodetector_out/Elements_9//Transformation/FAB_Dev_Genes/wk10/Fluorescent/\n",
      "python wrappers/analyze_sample.py --file_path /run/media/labgroup/Elements_9//Transformation/FAB_Dev_Genes/wk10/Fluorescent//FAB1_I5.0_F1.9_L100LED30_184501_2_0_2_Fluorescence.hdr --fluorophores DsRed Chl Diffraction --min_desired_wavelength 500 --max_desired_wavelength 900 --red_channel Chl --green_channel DsRed --blue_channel Diffraction --red_cap 200 --green_cap 400 --blue_cap 50 --plot 1 --spectral_library_path /home/labgroup/code/gmodetector_py/spectral_library/ --output_dir /home/labgroup/data/gmodetector_out/Elements_9//Transformation/FAB_Dev_Genes/wk10/Fluorescent/\n",
      "python wrappers/analyze_sample.py --file_path /run/media/labgroup/Elements_9//Transformation/FAB_Dev_Genes/wk10/Fluorescent//FAB1_I5.0_F1.9_L100LED30_184604_3_0_3_Fluorescence.hdr --fluorophores DsRed Chl Diffraction --min_desired_wavelength 500 --max_desired_wavelength 900 --red_channel Chl --green_channel DsRed --blue_channel Diffraction --red_cap 200 --green_cap 400 --blue_cap 50 --plot 1 --spectral_library_path /home/labgroup/code/gmodetector_py/spectral_library/ --output_dir /home/labgroup/data/gmodetector_out/Elements_9//Transformation/FAB_Dev_Genes/wk10/Fluorescent/\n",
      "python wrappers/analyze_sample.py --file_path /run/media/labgroup/Elements_9//Transformation/FAB_Dev_Genes/wk10/Fluorescent//FAB1_I5.0_F1.9_L100LED30_184828_5_0_5_Fluorescence.hdr --fluorophores DsRed Chl Diffraction --min_desired_wavelength 500 --max_desired_wavelength 900 --red_channel Chl --green_channel DsRed --blue_channel Diffraction --red_cap 200 --green_cap 400 --blue_cap 50 --plot 1 --spectral_library_path /home/labgroup/code/gmodetector_py/spectral_library/ --output_dir /home/labgroup/data/gmodetector_out/Elements_9//Transformation/FAB_Dev_Genes/wk10/Fluorescent/\n",
      "python wrappers/analyze_sample.py --file_path /run/media/labgroup/Elements_9//Transformation/FAB_Dev_Genes/wk10/Fluorescent//FAB1_I5.0_F1.9_L100LED30_184930_6_0_6_Fluorescence.hdr --fluorophores DsRed Chl Diffraction --min_desired_wavelength 500 --max_desired_wavelength 900 --red_channel Chl --green_channel DsRed --blue_channel Diffraction --red_cap 200 --green_cap 400 --blue_cap 50 --plot 1 --spectral_library_path /home/labgroup/code/gmodetector_py/spectral_library/ --output_dir /home/labgroup/data/gmodetector_out/Elements_9//Transformation/FAB_Dev_Genes/wk10/Fluorescent/\n",
      "python wrappers/analyze_sample.py --file_path /run/media/labgroup/Elements_9//Transformation/FAB_Dev_Genes/wk10/Fluorescent//FAB1_I5.0_F1.9_L100LED30_185128_8_1_4_Fluorescence.hdr --fluorophores DsRed Chl Diffraction --min_desired_wavelength 500 --max_desired_wavelength 900 --red_channel Chl --green_channel DsRed --blue_channel Diffraction --red_cap 200 --green_cap 400 --blue_cap 50 --plot 1 --spectral_library_path /home/labgroup/code/gmodetector_py/spectral_library/ --output_dir /home/labgroup/data/gmodetector_out/Elements_9//Transformation/FAB_Dev_Genes/wk10/Fluorescent/\n",
      "python wrappers/analyze_sample.py --file_path /run/media/labgroup/Elements_9//Transformation/FAB_Dev_Genes/wk10/Fluorescent//FAB1_I5.0_F1.9_L100LED30_190142_0_0_1_Fluorescence.hdr --fluorophores DsRed Chl Diffraction --min_desired_wavelength 500 --max_desired_wavelength 900 --red_channel Chl --green_channel DsRed --blue_channel Diffraction --red_cap 200 --green_cap 400 --blue_cap 50 --plot 1 --spectral_library_path /home/labgroup/code/gmodetector_py/spectral_library/ --output_dir /home/labgroup/data/gmodetector_out/Elements_9//Transformation/FAB_Dev_Genes/wk10/Fluorescent/\n",
      "python wrappers/analyze_sample.py --file_path /run/media/labgroup/Elements_9//Transformation/FAB_Dev_Genes/wk10/Fluorescent//FAB1_I5.0_F1.9_L100LED30_190240_1_0_4_Fluorescence.hdr --fluorophores DsRed Chl Diffraction --min_desired_wavelength 500 --max_desired_wavelength 900 --red_channel Chl --green_channel DsRed --blue_channel Diffraction --red_cap 200 --green_cap 400 --blue_cap 50 --plot 1 --spectral_library_path /home/labgroup/code/gmodetector_py/spectral_library/ --output_dir /home/labgroup/data/gmodetector_out/Elements_9//Transformation/FAB_Dev_Genes/wk10/Fluorescent/\n",
      "python wrappers/analyze_sample.py --file_path /run/media/labgroup/Elements_9//Transformation/FAB_Dev_Genes/wk10/Fluorescent//FAB1_I5.0_F1.9_L100LED30_190556_4_1_2_Fluorescence.hdr --fluorophores DsRed Chl Diffraction --min_desired_wavelength 500 --max_desired_wavelength 900 --red_channel Chl --green_channel DsRed --blue_channel Diffraction --red_cap 200 --green_cap 400 --blue_cap 50 --plot 1 --spectral_library_path /home/labgroup/code/gmodetector_py/spectral_library/ --output_dir /home/labgroup/data/gmodetector_out/Elements_9//Transformation/FAB_Dev_Genes/wk10/Fluorescent/\n",
      "python wrappers/analyze_sample.py --file_path /run/media/labgroup/Elements_9//Transformation/FAB_Dev_Genes/wk10/Fluorescent//FAB1_I5.0_F1.9_L100_122447_3_1_1.hdr --fluorophores DsRed Chl Diffraction --min_desired_wavelength 500 --max_desired_wavelength 900 --red_channel Chl --green_channel DsRed --blue_channel Diffraction --red_cap 200 --green_cap 400 --blue_cap 50 --plot 1 --spectral_library_path /home/labgroup/code/gmodetector_py/spectral_library/ --output_dir /home/labgroup/data/gmodetector_out/Elements_9//Transformation/FAB_Dev_Genes/wk10/Fluorescent/\n"
     ]
    }
   ],
   "source": [
    "head $job_list_name"
   ]
  },
  {
   "cell_type": "code",
   "execution_count": 32,
   "metadata": {},
   "outputs": [
    {
     "name": "stdout",
     "output_type": "stream",
     "text": [
      "Elements_9--Transformation-FAB_Dev_Genes-wk10-Fluorescent-.jobs\n"
     ]
    }
   ],
   "source": [
    "echo $job_list_name"
   ]
  },
  {
   "cell_type": "code",
   "execution_count": 33,
   "metadata": {
    "collapsed": true,
    "jupyter": {
     "outputs_hidden": true
    }
   },
   "outputs": [
    {
     "name": "stdout",
     "output_type": "stream",
     "text": [
      "(test-environment) (test-environment) (test-environment) (test-environment) During startup - There were 13 warnings (use warnings() to see them)\n",
      "wrappers/analyze_sample.py:188: UserWarning: Sample is not being normalized with a chroma standard.\n",
      "  warnings.warn('Sample is not being normalized with a chroma standard.')\n",
      "/home/labgroup/anaconda3/envs/test-environment/lib/python3.8/site-packages/spectral/io/envi.py:175: UserWarning: Parameters with non-lowercase names encountered and converted to lowercase. To retain source file parameter name capitalization, set spectral.settings.envi_support_nonlowercase_params to True.\n",
      "  warnings.warn(msg)\n",
      "/home/labgroup/anaconda3/envs/test-environment/lib/python3.8/site-packages/spectral/io/envi.py:175: UserWarning: Parameters with non-lowercase names encountered and converted to lowercase. To retain source file parameter name capitalization, set spectral.settings.envi_support_nonlowercase_params to True.\n",
      "  warnings.warn(msg)\n",
      "/home/labgroup/anaconda3/envs/test-environment/lib/python3.8/site-packages/gmodetector_py/weight_array.py:30: FutureWarning: arrays to stack must be passed as a \"sequence\" type such as list or tuple. Support for non-sequence iterables such as generators is deprecated as of NumPy 1.16 and will raise an error in the future.\n",
      "  array_in_coordinate = pd.DataFrame(np.column_stack(ar.ravel() for ar in (I, J, self.weights[:, :, i])),\n",
      "/home/labgroup/anaconda3/envs/test-environment/lib/python3.8/site-packages/gmodetector_py/weight_array.py:33: FutureWarning: arrays to stack must be passed as a \"sequence\" type such as list or tuple. Support for non-sequence iterables such as generators is deprecated as of NumPy 1.16 and will raise an error in the future.\n",
      "  matrix_slice_in_triplet = np.column_stack(ar.ravel() for ar in (I, J, self.weights[:, :, i]))\n",
      "R[write to console]: Warning message:\n",
      "\n",
      "R[write to console]: package 'tools' was built under R version 3.6.1 \n",
      "\n",
      "During startup - There were 13 warnings (use warnings() to see them)\n",
      "wrappers/analyze_sample.py:188: UserWarning: Sample is not being normalized with a chroma standard.\n",
      "  warnings.warn('Sample is not being normalized with a chroma standard.')\n",
      "/home/labgroup/anaconda3/envs/test-environment/lib/python3.8/site-packages/spectral/io/envi.py:175: UserWarning: Parameters with non-lowercase names encountered and converted to lowercase. To retain source file parameter name capitalization, set spectral.settings.envi_support_nonlowercase_params to True.\n",
      "  warnings.warn(msg)\n",
      "/home/labgroup/anaconda3/envs/test-environment/lib/python3.8/site-packages/spectral/io/envi.py:175: UserWarning: Parameters with non-lowercase names encountered and converted to lowercase. To retain source file parameter name capitalization, set spectral.settings.envi_support_nonlowercase_params to True.\n",
      "  warnings.warn(msg)\n",
      "/home/labgroup/anaconda3/envs/test-environment/lib/python3.8/site-packages/gmodetector_py/weight_array.py:30: FutureWarning: arrays to stack must be passed as a \"sequence\" type such as list or tuple. Support for non-sequence iterables such as generators is deprecated as of NumPy 1.16 and will raise an error in the future.\n",
      "  array_in_coordinate = pd.DataFrame(np.column_stack(ar.ravel() for ar in (I, J, self.weights[:, :, i])),\n",
      "/home/labgroup/anaconda3/envs/test-environment/lib/python3.8/site-packages/gmodetector_py/weight_array.py:33: FutureWarning: arrays to stack must be passed as a \"sequence\" type such as list or tuple. Support for non-sequence iterables such as generators is deprecated as of NumPy 1.16 and will raise an error in the future.\n",
      "  matrix_slice_in_triplet = np.column_stack(ar.ravel() for ar in (I, J, self.weights[:, :, i]))\n",
      "R[write to console]: Warning message:\n",
      "\n",
      "R[write to console]: package 'tools' was built under R version 3.6.1 \n",
      "\n",
      "During startup - There were 13 warnings (use warnings() to see them)\n",
      "wrappers/analyze_sample.py:188: UserWarning: Sample is not being normalized with a chroma standard.\n",
      "  warnings.warn('Sample is not being normalized with a chroma standard.')\n",
      "/home/labgroup/anaconda3/envs/test-environment/lib/python3.8/site-packages/spectral/io/envi.py:175: UserWarning: Parameters with non-lowercase names encountered and converted to lowercase. To retain source file parameter name capitalization, set spectral.settings.envi_support_nonlowercase_params to True.\n",
      "  warnings.warn(msg)\n",
      "/home/labgroup/anaconda3/envs/test-environment/lib/python3.8/site-packages/spectral/io/envi.py:175: UserWarning: Parameters with non-lowercase names encountered and converted to lowercase. To retain source file parameter name capitalization, set spectral.settings.envi_support_nonlowercase_params to True.\n",
      "  warnings.warn(msg)\n",
      "/home/labgroup/anaconda3/envs/test-environment/lib/python3.8/site-packages/gmodetector_py/weight_array.py:30: FutureWarning: arrays to stack must be passed as a \"sequence\" type such as list or tuple. Support for non-sequence iterables such as generators is deprecated as of NumPy 1.16 and will raise an error in the future.\n",
      "  array_in_coordinate = pd.DataFrame(np.column_stack(ar.ravel() for ar in (I, J, self.weights[:, :, i])),\n",
      "/home/labgroup/anaconda3/envs/test-environment/lib/python3.8/site-packages/gmodetector_py/weight_array.py:33: FutureWarning: arrays to stack must be passed as a \"sequence\" type such as list or tuple. Support for non-sequence iterables such as generators is deprecated as of NumPy 1.16 and will raise an error in the future.\n",
      "  matrix_slice_in_triplet = np.column_stack(ar.ravel() for ar in (I, J, self.weights[:, :, i]))\n",
      "R[write to console]: Warning message:\n",
      "\n",
      "R[write to console]: package 'tools' was built under R version 3.6.1 \n",
      "\n",
      "During startup - There were 13 warnings (use warnings() to see them)\n",
      "wrappers/analyze_sample.py:188: UserWarning: Sample is not being normalized with a chroma standard.\n",
      "  warnings.warn('Sample is not being normalized with a chroma standard.')\n",
      "/home/labgroup/anaconda3/envs/test-environment/lib/python3.8/site-packages/spectral/io/envi.py:175: UserWarning: Parameters with non-lowercase names encountered and converted to lowercase. To retain source file parameter name capitalization, set spectral.settings.envi_support_nonlowercase_params to True.\n",
      "  warnings.warn(msg)\n",
      "/home/labgroup/anaconda3/envs/test-environment/lib/python3.8/site-packages/spectral/io/envi.py:175: UserWarning: Parameters with non-lowercase names encountered and converted to lowercase. To retain source file parameter name capitalization, set spectral.settings.envi_support_nonlowercase_params to True.\n",
      "  warnings.warn(msg)\n",
      "/home/labgroup/anaconda3/envs/test-environment/lib/python3.8/site-packages/gmodetector_py/weight_array.py:30: FutureWarning: arrays to stack must be passed as a \"sequence\" type such as list or tuple. Support for non-sequence iterables such as generators is deprecated as of NumPy 1.16 and will raise an error in the future.\n",
      "  array_in_coordinate = pd.DataFrame(np.column_stack(ar.ravel() for ar in (I, J, self.weights[:, :, i])),\n",
      "/home/labgroup/anaconda3/envs/test-environment/lib/python3.8/site-packages/gmodetector_py/weight_array.py:33: FutureWarning: arrays to stack must be passed as a \"sequence\" type such as list or tuple. Support for non-sequence iterables such as generators is deprecated as of NumPy 1.16 and will raise an error in the future.\n",
      "  matrix_slice_in_triplet = np.column_stack(ar.ravel() for ar in (I, J, self.weights[:, :, i]))\n",
      "R[write to console]: Warning message:\n",
      "\n",
      "R[write to console]: package 'tools' was built under R version 3.6.1 \n",
      "\n",
      "During startup - There were 13 warnings (use warnings() to see them)\n",
      "wrappers/analyze_sample.py:188: UserWarning: Sample is not being normalized with a chroma standard.\n",
      "  warnings.warn('Sample is not being normalized with a chroma standard.')\n",
      "/home/labgroup/anaconda3/envs/test-environment/lib/python3.8/site-packages/spectral/io/envi.py:175: UserWarning: Parameters with non-lowercase names encountered and converted to lowercase. To retain source file parameter name capitalization, set spectral.settings.envi_support_nonlowercase_params to True.\n",
      "  warnings.warn(msg)\n",
      "/home/labgroup/anaconda3/envs/test-environment/lib/python3.8/site-packages/spectral/io/envi.py:175: UserWarning: Parameters with non-lowercase names encountered and converted to lowercase. To retain source file parameter name capitalization, set spectral.settings.envi_support_nonlowercase_params to True.\n",
      "  warnings.warn(msg)\n",
      "/home/labgroup/anaconda3/envs/test-environment/lib/python3.8/site-packages/gmodetector_py/weight_array.py:30: FutureWarning: arrays to stack must be passed as a \"sequence\" type such as list or tuple. Support for non-sequence iterables such as generators is deprecated as of NumPy 1.16 and will raise an error in the future.\n",
      "  array_in_coordinate = pd.DataFrame(np.column_stack(ar.ravel() for ar in (I, J, self.weights[:, :, i])),\n",
      "/home/labgroup/anaconda3/envs/test-environment/lib/python3.8/site-packages/gmodetector_py/weight_array.py:33: FutureWarning: arrays to stack must be passed as a \"sequence\" type such as list or tuple. Support for non-sequence iterables such as generators is deprecated as of NumPy 1.16 and will raise an error in the future.\n",
      "  matrix_slice_in_triplet = np.column_stack(ar.ravel() for ar in (I, J, self.weights[:, :, i]))\n",
      "R[write to console]: Warning message:\n",
      "\n",
      "R[write to console]: package 'tools' was built under R version 3.6.1 \n",
      "\n",
      "During startup - There were 13 warnings (use warnings() to see them)\n",
      "wrappers/analyze_sample.py:188: UserWarning: Sample is not being normalized with a chroma standard.\n",
      "  warnings.warn('Sample is not being normalized with a chroma standard.')\n",
      "/home/labgroup/anaconda3/envs/test-environment/lib/python3.8/site-packages/spectral/io/envi.py:175: UserWarning: Parameters with non-lowercase names encountered and converted to lowercase. To retain source file parameter name capitalization, set spectral.settings.envi_support_nonlowercase_params to True.\n",
      "  warnings.warn(msg)\n",
      "/home/labgroup/anaconda3/envs/test-environment/lib/python3.8/site-packages/spectral/io/envi.py:175: UserWarning: Parameters with non-lowercase names encountered and converted to lowercase. To retain source file parameter name capitalization, set spectral.settings.envi_support_nonlowercase_params to True.\n",
      "  warnings.warn(msg)\n",
      "/home/labgroup/anaconda3/envs/test-environment/lib/python3.8/site-packages/gmodetector_py/weight_array.py:30: FutureWarning: arrays to stack must be passed as a \"sequence\" type such as list or tuple. Support for non-sequence iterables such as generators is deprecated as of NumPy 1.16 and will raise an error in the future.\n",
      "  array_in_coordinate = pd.DataFrame(np.column_stack(ar.ravel() for ar in (I, J, self.weights[:, :, i])),\n",
      "/home/labgroup/anaconda3/envs/test-environment/lib/python3.8/site-packages/gmodetector_py/weight_array.py:33: FutureWarning: arrays to stack must be passed as a \"sequence\" type such as list or tuple. Support for non-sequence iterables such as generators is deprecated as of NumPy 1.16 and will raise an error in the future.\n",
      "  matrix_slice_in_triplet = np.column_stack(ar.ravel() for ar in (I, J, self.weights[:, :, i]))\n",
      "R[write to console]: Warning message:\n",
      "\n",
      "R[write to console]: package 'tools' was built under R version 3.6.1 \n",
      "\n",
      "During startup - There were 13 warnings (use warnings() to see them)\n",
      "wrappers/analyze_sample.py:188: UserWarning: Sample is not being normalized with a chroma standard.\n",
      "  warnings.warn('Sample is not being normalized with a chroma standard.')\n",
      "/home/labgroup/anaconda3/envs/test-environment/lib/python3.8/site-packages/spectral/io/envi.py:175: UserWarning: Parameters with non-lowercase names encountered and converted to lowercase. To retain source file parameter name capitalization, set spectral.settings.envi_support_nonlowercase_params to True.\n",
      "  warnings.warn(msg)\n",
      "/home/labgroup/anaconda3/envs/test-environment/lib/python3.8/site-packages/spectral/io/envi.py:175: UserWarning: Parameters with non-lowercase names encountered and converted to lowercase. To retain source file parameter name capitalization, set spectral.settings.envi_support_nonlowercase_params to True.\n",
      "  warnings.warn(msg)\n",
      "/home/labgroup/anaconda3/envs/test-environment/lib/python3.8/site-packages/gmodetector_py/weight_array.py:30: FutureWarning: arrays to stack must be passed as a \"sequence\" type such as list or tuple. Support for non-sequence iterables such as generators is deprecated as of NumPy 1.16 and will raise an error in the future.\n",
      "  array_in_coordinate = pd.DataFrame(np.column_stack(ar.ravel() for ar in (I, J, self.weights[:, :, i])),\n",
      "/home/labgroup/anaconda3/envs/test-environment/lib/python3.8/site-packages/gmodetector_py/weight_array.py:33: FutureWarning: arrays to stack must be passed as a \"sequence\" type such as list or tuple. Support for non-sequence iterables such as generators is deprecated as of NumPy 1.16 and will raise an error in the future.\n",
      "  matrix_slice_in_triplet = np.column_stack(ar.ravel() for ar in (I, J, self.weights[:, :, i]))\n",
      "R[write to console]: Warning message:\n",
      "\n",
      "R[write to console]: package 'tools' was built under R version 3.6.1 \n",
      "\n",
      "During startup - There were 13 warnings (use warnings() to see them)\n",
      "wrappers/analyze_sample.py:188: UserWarning: Sample is not being normalized with a chroma standard.\n",
      "  warnings.warn('Sample is not being normalized with a chroma standard.')\n",
      "/home/labgroup/anaconda3/envs/test-environment/lib/python3.8/site-packages/spectral/io/envi.py:175: UserWarning: Parameters with non-lowercase names encountered and converted to lowercase. To retain source file parameter name capitalization, set spectral.settings.envi_support_nonlowercase_params to True.\n",
      "  warnings.warn(msg)\n",
      "/home/labgroup/anaconda3/envs/test-environment/lib/python3.8/site-packages/spectral/io/envi.py:175: UserWarning: Parameters with non-lowercase names encountered and converted to lowercase. To retain source file parameter name capitalization, set spectral.settings.envi_support_nonlowercase_params to True.\n",
      "  warnings.warn(msg)\n",
      "/home/labgroup/anaconda3/envs/test-environment/lib/python3.8/site-packages/gmodetector_py/weight_array.py:30: FutureWarning: arrays to stack must be passed as a \"sequence\" type such as list or tuple. Support for non-sequence iterables such as generators is deprecated as of NumPy 1.16 and will raise an error in the future.\n",
      "  array_in_coordinate = pd.DataFrame(np.column_stack(ar.ravel() for ar in (I, J, self.weights[:, :, i])),\n",
      "/home/labgroup/anaconda3/envs/test-environment/lib/python3.8/site-packages/gmodetector_py/weight_array.py:33: FutureWarning: arrays to stack must be passed as a \"sequence\" type such as list or tuple. Support for non-sequence iterables such as generators is deprecated as of NumPy 1.16 and will raise an error in the future.\n",
      "  matrix_slice_in_triplet = np.column_stack(ar.ravel() for ar in (I, J, self.weights[:, :, i]))\n",
      "R[write to console]: Warning message:\n",
      "\n",
      "R[write to console]: package 'tools' was built under R version 3.6.1 \n",
      "\n",
      "During startup - There were 13 warnings (use warnings() to see them)\n",
      "wrappers/analyze_sample.py:188: UserWarning: Sample is not being normalized with a chroma standard.\n",
      "  warnings.warn('Sample is not being normalized with a chroma standard.')\n",
      "/home/labgroup/anaconda3/envs/test-environment/lib/python3.8/site-packages/spectral/io/envi.py:175: UserWarning: Parameters with non-lowercase names encountered and converted to lowercase. To retain source file parameter name capitalization, set spectral.settings.envi_support_nonlowercase_params to True.\n",
      "  warnings.warn(msg)\n",
      "/home/labgroup/anaconda3/envs/test-environment/lib/python3.8/site-packages/spectral/io/envi.py:175: UserWarning: Parameters with non-lowercase names encountered and converted to lowercase. To retain source file parameter name capitalization, set spectral.settings.envi_support_nonlowercase_params to True.\n",
      "  warnings.warn(msg)\n",
      "/home/labgroup/anaconda3/envs/test-environment/lib/python3.8/site-packages/gmodetector_py/weight_array.py:30: FutureWarning: arrays to stack must be passed as a \"sequence\" type such as list or tuple. Support for non-sequence iterables such as generators is deprecated as of NumPy 1.16 and will raise an error in the future.\n",
      "  array_in_coordinate = pd.DataFrame(np.column_stack(ar.ravel() for ar in (I, J, self.weights[:, :, i])),\n",
      "/home/labgroup/anaconda3/envs/test-environment/lib/python3.8/site-packages/gmodetector_py/weight_array.py:33: FutureWarning: arrays to stack must be passed as a \"sequence\" type such as list or tuple. Support for non-sequence iterables such as generators is deprecated as of NumPy 1.16 and will raise an error in the future.\n",
      "  matrix_slice_in_triplet = np.column_stack(ar.ravel() for ar in (I, J, self.weights[:, :, i]))\n",
      "R[write to console]: Warning message:\n",
      "\n",
      "R[write to console]: package 'tools' was built under R version 3.6.1 \n",
      "\n",
      "During startup - There were 13 warnings (use warnings() to see them)\n",
      "wrappers/analyze_sample.py:188: UserWarning: Sample is not being normalized with a chroma standard.\n",
      "  warnings.warn('Sample is not being normalized with a chroma standard.')\n",
      "/home/labgroup/anaconda3/envs/test-environment/lib/python3.8/site-packages/spectral/io/envi.py:175: UserWarning: Parameters with non-lowercase names encountered and converted to lowercase. To retain source file parameter name capitalization, set spectral.settings.envi_support_nonlowercase_params to True.\n",
      "  warnings.warn(msg)\n",
      "/home/labgroup/anaconda3/envs/test-environment/lib/python3.8/site-packages/spectral/io/envi.py:175: UserWarning: Parameters with non-lowercase names encountered and converted to lowercase. To retain source file parameter name capitalization, set spectral.settings.envi_support_nonlowercase_params to True.\n",
      "  warnings.warn(msg)\n",
      "/home/labgroup/anaconda3/envs/test-environment/lib/python3.8/site-packages/gmodetector_py/weight_array.py:30: FutureWarning: arrays to stack must be passed as a \"sequence\" type such as list or tuple. Support for non-sequence iterables such as generators is deprecated as of NumPy 1.16 and will raise an error in the future.\n",
      "  array_in_coordinate = pd.DataFrame(np.column_stack(ar.ravel() for ar in (I, J, self.weights[:, :, i])),\n",
      "/home/labgroup/anaconda3/envs/test-environment/lib/python3.8/site-packages/gmodetector_py/weight_array.py:33: FutureWarning: arrays to stack must be passed as a \"sequence\" type such as list or tuple. Support for non-sequence iterables such as generators is deprecated as of NumPy 1.16 and will raise an error in the future.\n",
      "  matrix_slice_in_triplet = np.column_stack(ar.ravel() for ar in (I, J, self.weights[:, :, i]))\n",
      "R[write to console]: Warning message:\n",
      "\n",
      "R[write to console]: package 'tools' was built under R version 3.6.1 \n",
      "\n",
      "During startup - There were 13 warnings (use warnings() to see them)\n",
      "wrappers/analyze_sample.py:188: UserWarning: Sample is not being normalized with a chroma standard.\n",
      "  warnings.warn('Sample is not being normalized with a chroma standard.')\n",
      "/home/labgroup/anaconda3/envs/test-environment/lib/python3.8/site-packages/spectral/io/envi.py:175: UserWarning: Parameters with non-lowercase names encountered and converted to lowercase. To retain source file parameter name capitalization, set spectral.settings.envi_support_nonlowercase_params to True.\n",
      "  warnings.warn(msg)\n",
      "/home/labgroup/anaconda3/envs/test-environment/lib/python3.8/site-packages/spectral/io/envi.py:175: UserWarning: Parameters with non-lowercase names encountered and converted to lowercase. To retain source file parameter name capitalization, set spectral.settings.envi_support_nonlowercase_params to True.\n",
      "  warnings.warn(msg)\n",
      "/home/labgroup/anaconda3/envs/test-environment/lib/python3.8/site-packages/gmodetector_py/weight_array.py:30: FutureWarning: arrays to stack must be passed as a \"sequence\" type such as list or tuple. Support for non-sequence iterables such as generators is deprecated as of NumPy 1.16 and will raise an error in the future.\n",
      "  array_in_coordinate = pd.DataFrame(np.column_stack(ar.ravel() for ar in (I, J, self.weights[:, :, i])),\n",
      "/home/labgroup/anaconda3/envs/test-environment/lib/python3.8/site-packages/gmodetector_py/weight_array.py:33: FutureWarning: arrays to stack must be passed as a \"sequence\" type such as list or tuple. Support for non-sequence iterables such as generators is deprecated as of NumPy 1.16 and will raise an error in the future.\n",
      "  matrix_slice_in_triplet = np.column_stack(ar.ravel() for ar in (I, J, self.weights[:, :, i]))\n",
      "R[write to console]: Warning message:\n",
      "\n",
      "R[write to console]: package 'tools' was built under R version 3.6.1 \n",
      "\n",
      "During startup - There were 13 warnings (use warnings() to see them)\n",
      "wrappers/analyze_sample.py:188: UserWarning: Sample is not being normalized with a chroma standard.\n",
      "  warnings.warn('Sample is not being normalized with a chroma standard.')\n",
      "/home/labgroup/anaconda3/envs/test-environment/lib/python3.8/site-packages/spectral/io/envi.py:175: UserWarning: Parameters with non-lowercase names encountered and converted to lowercase. To retain source file parameter name capitalization, set spectral.settings.envi_support_nonlowercase_params to True.\n",
      "  warnings.warn(msg)\n",
      "/home/labgroup/anaconda3/envs/test-environment/lib/python3.8/site-packages/spectral/io/envi.py:175: UserWarning: Parameters with non-lowercase names encountered and converted to lowercase. To retain source file parameter name capitalization, set spectral.settings.envi_support_nonlowercase_params to True.\n",
      "  warnings.warn(msg)\n",
      "/home/labgroup/anaconda3/envs/test-environment/lib/python3.8/site-packages/gmodetector_py/weight_array.py:30: FutureWarning: arrays to stack must be passed as a \"sequence\" type such as list or tuple. Support for non-sequence iterables such as generators is deprecated as of NumPy 1.16 and will raise an error in the future.\n",
      "  array_in_coordinate = pd.DataFrame(np.column_stack(ar.ravel() for ar in (I, J, self.weights[:, :, i])),\n",
      "/home/labgroup/anaconda3/envs/test-environment/lib/python3.8/site-packages/gmodetector_py/weight_array.py:33: FutureWarning: arrays to stack must be passed as a \"sequence\" type such as list or tuple. Support for non-sequence iterables such as generators is deprecated as of NumPy 1.16 and will raise an error in the future.\n",
      "  matrix_slice_in_triplet = np.column_stack(ar.ravel() for ar in (I, J, self.weights[:, :, i]))\n",
      "R[write to console]: Warning message:\n",
      "\n",
      "R[write to console]: package 'tools' was built under R version 3.6.1 \n",
      "\n",
      "During startup - There were 13 warnings (use warnings() to see them)\n",
      "wrappers/analyze_sample.py:188: UserWarning: Sample is not being normalized with a chroma standard.\n",
      "  warnings.warn('Sample is not being normalized with a chroma standard.')\n",
      "/home/labgroup/anaconda3/envs/test-environment/lib/python3.8/site-packages/spectral/io/envi.py:175: UserWarning: Parameters with non-lowercase names encountered and converted to lowercase. To retain source file parameter name capitalization, set spectral.settings.envi_support_nonlowercase_params to True.\n",
      "  warnings.warn(msg)\n",
      "/home/labgroup/anaconda3/envs/test-environment/lib/python3.8/site-packages/spectral/io/envi.py:175: UserWarning: Parameters with non-lowercase names encountered and converted to lowercase. To retain source file parameter name capitalization, set spectral.settings.envi_support_nonlowercase_params to True.\n",
      "  warnings.warn(msg)\n",
      "/home/labgroup/anaconda3/envs/test-environment/lib/python3.8/site-packages/gmodetector_py/weight_array.py:30: FutureWarning: arrays to stack must be passed as a \"sequence\" type such as list or tuple. Support for non-sequence iterables such as generators is deprecated as of NumPy 1.16 and will raise an error in the future.\n",
      "  array_in_coordinate = pd.DataFrame(np.column_stack(ar.ravel() for ar in (I, J, self.weights[:, :, i])),\n",
      "/home/labgroup/anaconda3/envs/test-environment/lib/python3.8/site-packages/gmodetector_py/weight_array.py:33: FutureWarning: arrays to stack must be passed as a \"sequence\" type such as list or tuple. Support for non-sequence iterables such as generators is deprecated as of NumPy 1.16 and will raise an error in the future.\n",
      "  matrix_slice_in_triplet = np.column_stack(ar.ravel() for ar in (I, J, self.weights[:, :, i]))\n",
      "R[write to console]: Warning message:\n",
      "\n",
      "R[write to console]: package 'tools' was built under R version 3.6.1 \n",
      "\n",
      "During startup - There were 13 warnings (use warnings() to see them)\n",
      "wrappers/analyze_sample.py:188: UserWarning: Sample is not being normalized with a chroma standard.\n",
      "  warnings.warn('Sample is not being normalized with a chroma standard.')\n",
      "/home/labgroup/anaconda3/envs/test-environment/lib/python3.8/site-packages/spectral/io/envi.py:175: UserWarning: Parameters with non-lowercase names encountered and converted to lowercase. To retain source file parameter name capitalization, set spectral.settings.envi_support_nonlowercase_params to True.\n",
      "  warnings.warn(msg)\n",
      "/home/labgroup/anaconda3/envs/test-environment/lib/python3.8/site-packages/spectral/io/envi.py:175: UserWarning: Parameters with non-lowercase names encountered and converted to lowercase. To retain source file parameter name capitalization, set spectral.settings.envi_support_nonlowercase_params to True.\n",
      "  warnings.warn(msg)\n",
      "/home/labgroup/anaconda3/envs/test-environment/lib/python3.8/site-packages/gmodetector_py/weight_array.py:30: FutureWarning: arrays to stack must be passed as a \"sequence\" type such as list or tuple. Support for non-sequence iterables such as generators is deprecated as of NumPy 1.16 and will raise an error in the future.\n",
      "  array_in_coordinate = pd.DataFrame(np.column_stack(ar.ravel() for ar in (I, J, self.weights[:, :, i])),\n",
      "/home/labgroup/anaconda3/envs/test-environment/lib/python3.8/site-packages/gmodetector_py/weight_array.py:33: FutureWarning: arrays to stack must be passed as a \"sequence\" type such as list or tuple. Support for non-sequence iterables such as generators is deprecated as of NumPy 1.16 and will raise an error in the future.\n",
      "  matrix_slice_in_triplet = np.column_stack(ar.ravel() for ar in (I, J, self.weights[:, :, i]))\n",
      "R[write to console]: Warning message:\n",
      "\n",
      "R[write to console]: package 'tools' was built under R version 3.6.1 \n",
      "\n",
      "During startup - There were 13 warnings (use warnings() to see them)\n",
      "wrappers/analyze_sample.py:188: UserWarning: Sample is not being normalized with a chroma standard.\n",
      "  warnings.warn('Sample is not being normalized with a chroma standard.')\n",
      "/home/labgroup/anaconda3/envs/test-environment/lib/python3.8/site-packages/spectral/io/envi.py:175: UserWarning: Parameters with non-lowercase names encountered and converted to lowercase. To retain source file parameter name capitalization, set spectral.settings.envi_support_nonlowercase_params to True.\n",
      "  warnings.warn(msg)\n",
      "/home/labgroup/anaconda3/envs/test-environment/lib/python3.8/site-packages/spectral/io/envi.py:175: UserWarning: Parameters with non-lowercase names encountered and converted to lowercase. To retain source file parameter name capitalization, set spectral.settings.envi_support_nonlowercase_params to True.\n",
      "  warnings.warn(msg)\n",
      "/home/labgroup/anaconda3/envs/test-environment/lib/python3.8/site-packages/gmodetector_py/weight_array.py:30: FutureWarning: arrays to stack must be passed as a \"sequence\" type such as list or tuple. Support for non-sequence iterables such as generators is deprecated as of NumPy 1.16 and will raise an error in the future.\n",
      "  array_in_coordinate = pd.DataFrame(np.column_stack(ar.ravel() for ar in (I, J, self.weights[:, :, i])),\n",
      "/home/labgroup/anaconda3/envs/test-environment/lib/python3.8/site-packages/gmodetector_py/weight_array.py:33: FutureWarning: arrays to stack must be passed as a \"sequence\" type such as list or tuple. Support for non-sequence iterables such as generators is deprecated as of NumPy 1.16 and will raise an error in the future.\n",
      "  matrix_slice_in_triplet = np.column_stack(ar.ravel() for ar in (I, J, self.weights[:, :, i]))\n",
      "R[write to console]: Warning message:\n",
      "\n",
      "R[write to console]: package 'tools' was built under R version 3.6.1 \n",
      "\n",
      "During startup - There were 13 warnings (use warnings() to see them)\n",
      "wrappers/analyze_sample.py:188: UserWarning: Sample is not being normalized with a chroma standard.\n",
      "  warnings.warn('Sample is not being normalized with a chroma standard.')\n",
      "/home/labgroup/anaconda3/envs/test-environment/lib/python3.8/site-packages/spectral/io/envi.py:175: UserWarning: Parameters with non-lowercase names encountered and converted to lowercase. To retain source file parameter name capitalization, set spectral.settings.envi_support_nonlowercase_params to True.\n",
      "  warnings.warn(msg)\n",
      "/home/labgroup/anaconda3/envs/test-environment/lib/python3.8/site-packages/spectral/io/envi.py:175: UserWarning: Parameters with non-lowercase names encountered and converted to lowercase. To retain source file parameter name capitalization, set spectral.settings.envi_support_nonlowercase_params to True.\n",
      "  warnings.warn(msg)\n",
      "/home/labgroup/anaconda3/envs/test-environment/lib/python3.8/site-packages/gmodetector_py/weight_array.py:30: FutureWarning: arrays to stack must be passed as a \"sequence\" type such as list or tuple. Support for non-sequence iterables such as generators is deprecated as of NumPy 1.16 and will raise an error in the future.\n",
      "  array_in_coordinate = pd.DataFrame(np.column_stack(ar.ravel() for ar in (I, J, self.weights[:, :, i])),\n",
      "/home/labgroup/anaconda3/envs/test-environment/lib/python3.8/site-packages/gmodetector_py/weight_array.py:33: FutureWarning: arrays to stack must be passed as a \"sequence\" type such as list or tuple. Support for non-sequence iterables such as generators is deprecated as of NumPy 1.16 and will raise an error in the future.\n",
      "  matrix_slice_in_triplet = np.column_stack(ar.ravel() for ar in (I, J, self.weights[:, :, i]))\n",
      "R[write to console]: Warning message:\n",
      "\n",
      "R[write to console]: package 'tools' was built under R version 3.6.1 \n",
      "\n",
      "During startup - There were 13 warnings (use warnings() to see them)\n",
      "wrappers/analyze_sample.py:188: UserWarning: Sample is not being normalized with a chroma standard.\n",
      "  warnings.warn('Sample is not being normalized with a chroma standard.')\n",
      "/home/labgroup/anaconda3/envs/test-environment/lib/python3.8/site-packages/spectral/io/envi.py:175: UserWarning: Parameters with non-lowercase names encountered and converted to lowercase. To retain source file parameter name capitalization, set spectral.settings.envi_support_nonlowercase_params to True.\n",
      "  warnings.warn(msg)\n",
      "/home/labgroup/anaconda3/envs/test-environment/lib/python3.8/site-packages/spectral/io/envi.py:175: UserWarning: Parameters with non-lowercase names encountered and converted to lowercase. To retain source file parameter name capitalization, set spectral.settings.envi_support_nonlowercase_params to True.\n",
      "  warnings.warn(msg)\n",
      "/home/labgroup/anaconda3/envs/test-environment/lib/python3.8/site-packages/gmodetector_py/weight_array.py:30: FutureWarning: arrays to stack must be passed as a \"sequence\" type such as list or tuple. Support for non-sequence iterables such as generators is deprecated as of NumPy 1.16 and will raise an error in the future.\n",
      "  array_in_coordinate = pd.DataFrame(np.column_stack(ar.ravel() for ar in (I, J, self.weights[:, :, i])),\n",
      "/home/labgroup/anaconda3/envs/test-environment/lib/python3.8/site-packages/gmodetector_py/weight_array.py:33: FutureWarning: arrays to stack must be passed as a \"sequence\" type such as list or tuple. Support for non-sequence iterables such as generators is deprecated as of NumPy 1.16 and will raise an error in the future.\n",
      "  matrix_slice_in_triplet = np.column_stack(ar.ravel() for ar in (I, J, self.weights[:, :, i]))\n",
      "R[write to console]: Warning message:\n",
      "\n",
      "R[write to console]: package 'tools' was built under R version 3.6.1 \n",
      "\n",
      "During startup - There were 13 warnings (use warnings() to see them)\n",
      "wrappers/analyze_sample.py:188: UserWarning: Sample is not being normalized with a chroma standard.\n",
      "  warnings.warn('Sample is not being normalized with a chroma standard.')\n",
      "/home/labgroup/anaconda3/envs/test-environment/lib/python3.8/site-packages/spectral/io/envi.py:175: UserWarning: Parameters with non-lowercase names encountered and converted to lowercase. To retain source file parameter name capitalization, set spectral.settings.envi_support_nonlowercase_params to True.\n",
      "  warnings.warn(msg)\n",
      "/home/labgroup/anaconda3/envs/test-environment/lib/python3.8/site-packages/spectral/io/envi.py:175: UserWarning: Parameters with non-lowercase names encountered and converted to lowercase. To retain source file parameter name capitalization, set spectral.settings.envi_support_nonlowercase_params to True.\n",
      "  warnings.warn(msg)\n",
      "/home/labgroup/anaconda3/envs/test-environment/lib/python3.8/site-packages/gmodetector_py/weight_array.py:30: FutureWarning: arrays to stack must be passed as a \"sequence\" type such as list or tuple. Support for non-sequence iterables such as generators is deprecated as of NumPy 1.16 and will raise an error in the future.\n",
      "  array_in_coordinate = pd.DataFrame(np.column_stack(ar.ravel() for ar in (I, J, self.weights[:, :, i])),\n",
      "/home/labgroup/anaconda3/envs/test-environment/lib/python3.8/site-packages/gmodetector_py/weight_array.py:33: FutureWarning: arrays to stack must be passed as a \"sequence\" type such as list or tuple. Support for non-sequence iterables such as generators is deprecated as of NumPy 1.16 and will raise an error in the future.\n",
      "  matrix_slice_in_triplet = np.column_stack(ar.ravel() for ar in (I, J, self.weights[:, :, i]))\n",
      "R[write to console]: Warning message:\n",
      "\n",
      "R[write to console]: package 'tools' was built under R version 3.6.1 \n",
      "\n",
      "During startup - There were 13 warnings (use warnings() to see them)\n",
      "wrappers/analyze_sample.py:188: UserWarning: Sample is not being normalized with a chroma standard.\n",
      "  warnings.warn('Sample is not being normalized with a chroma standard.')\n",
      "/home/labgroup/anaconda3/envs/test-environment/lib/python3.8/site-packages/spectral/io/envi.py:175: UserWarning: Parameters with non-lowercase names encountered and converted to lowercase. To retain source file parameter name capitalization, set spectral.settings.envi_support_nonlowercase_params to True.\n",
      "  warnings.warn(msg)\n",
      "/home/labgroup/anaconda3/envs/test-environment/lib/python3.8/site-packages/spectral/io/envi.py:175: UserWarning: Parameters with non-lowercase names encountered and converted to lowercase. To retain source file parameter name capitalization, set spectral.settings.envi_support_nonlowercase_params to True.\n",
      "  warnings.warn(msg)\n",
      "/home/labgroup/anaconda3/envs/test-environment/lib/python3.8/site-packages/gmodetector_py/weight_array.py:30: FutureWarning: arrays to stack must be passed as a \"sequence\" type such as list or tuple. Support for non-sequence iterables such as generators is deprecated as of NumPy 1.16 and will raise an error in the future.\n",
      "  array_in_coordinate = pd.DataFrame(np.column_stack(ar.ravel() for ar in (I, J, self.weights[:, :, i])),\n",
      "/home/labgroup/anaconda3/envs/test-environment/lib/python3.8/site-packages/gmodetector_py/weight_array.py:33: FutureWarning: arrays to stack must be passed as a \"sequence\" type such as list or tuple. Support for non-sequence iterables such as generators is deprecated as of NumPy 1.16 and will raise an error in the future.\n",
      "  matrix_slice_in_triplet = np.column_stack(ar.ravel() for ar in (I, J, self.weights[:, :, i]))\n",
      "R[write to console]: Warning message:\n",
      "\n",
      "R[write to console]: package 'tools' was built under R version 3.6.1 \n",
      "\n",
      "During startup - There were 13 warnings (use warnings() to see them)\n",
      "wrappers/analyze_sample.py:188: UserWarning: Sample is not being normalized with a chroma standard.\n",
      "  warnings.warn('Sample is not being normalized with a chroma standard.')\n",
      "/home/labgroup/anaconda3/envs/test-environment/lib/python3.8/site-packages/spectral/io/envi.py:175: UserWarning: Parameters with non-lowercase names encountered and converted to lowercase. To retain source file parameter name capitalization, set spectral.settings.envi_support_nonlowercase_params to True.\n",
      "  warnings.warn(msg)\n",
      "/home/labgroup/anaconda3/envs/test-environment/lib/python3.8/site-packages/spectral/io/envi.py:175: UserWarning: Parameters with non-lowercase names encountered and converted to lowercase. To retain source file parameter name capitalization, set spectral.settings.envi_support_nonlowercase_params to True.\n",
      "  warnings.warn(msg)\n",
      "/home/labgroup/anaconda3/envs/test-environment/lib/python3.8/site-packages/gmodetector_py/weight_array.py:30: FutureWarning: arrays to stack must be passed as a \"sequence\" type such as list or tuple. Support for non-sequence iterables such as generators is deprecated as of NumPy 1.16 and will raise an error in the future.\n",
      "  array_in_coordinate = pd.DataFrame(np.column_stack(ar.ravel() for ar in (I, J, self.weights[:, :, i])),\n",
      "/home/labgroup/anaconda3/envs/test-environment/lib/python3.8/site-packages/gmodetector_py/weight_array.py:33: FutureWarning: arrays to stack must be passed as a \"sequence\" type such as list or tuple. Support for non-sequence iterables such as generators is deprecated as of NumPy 1.16 and will raise an error in the future.\n",
      "  matrix_slice_in_triplet = np.column_stack(ar.ravel() for ar in (I, J, self.weights[:, :, i]))\n",
      "R[write to console]: Warning message:\n",
      "\n",
      "R[write to console]: package 'tools' was built under R version 3.6.1 \n",
      "\n",
      "During startup - There were 13 warnings (use warnings() to see them)\n",
      "wrappers/analyze_sample.py:188: UserWarning: Sample is not being normalized with a chroma standard.\n",
      "  warnings.warn('Sample is not being normalized with a chroma standard.')\n",
      "/home/labgroup/anaconda3/envs/test-environment/lib/python3.8/site-packages/spectral/io/envi.py:175: UserWarning: Parameters with non-lowercase names encountered and converted to lowercase. To retain source file parameter name capitalization, set spectral.settings.envi_support_nonlowercase_params to True.\n",
      "  warnings.warn(msg)\n",
      "/home/labgroup/anaconda3/envs/test-environment/lib/python3.8/site-packages/spectral/io/envi.py:175: UserWarning: Parameters with non-lowercase names encountered and converted to lowercase. To retain source file parameter name capitalization, set spectral.settings.envi_support_nonlowercase_params to True.\n",
      "  warnings.warn(msg)\n",
      "/home/labgroup/anaconda3/envs/test-environment/lib/python3.8/site-packages/gmodetector_py/weight_array.py:30: FutureWarning: arrays to stack must be passed as a \"sequence\" type such as list or tuple. Support for non-sequence iterables such as generators is deprecated as of NumPy 1.16 and will raise an error in the future.\n",
      "  array_in_coordinate = pd.DataFrame(np.column_stack(ar.ravel() for ar in (I, J, self.weights[:, :, i])),\n",
      "/home/labgroup/anaconda3/envs/test-environment/lib/python3.8/site-packages/gmodetector_py/weight_array.py:33: FutureWarning: arrays to stack must be passed as a \"sequence\" type such as list or tuple. Support for non-sequence iterables such as generators is deprecated as of NumPy 1.16 and will raise an error in the future.\n",
      "  matrix_slice_in_triplet = np.column_stack(ar.ravel() for ar in (I, J, self.weights[:, :, i]))\n",
      "R[write to console]: Warning message:\n",
      "\n",
      "R[write to console]: package 'tools' was built under R version 3.6.1 \n",
      "\n",
      "During startup - There were 13 warnings (use warnings() to see them)\n",
      "wrappers/analyze_sample.py:188: UserWarning: Sample is not being normalized with a chroma standard.\n",
      "  warnings.warn('Sample is not being normalized with a chroma standard.')\n",
      "/home/labgroup/anaconda3/envs/test-environment/lib/python3.8/site-packages/spectral/io/envi.py:175: UserWarning: Parameters with non-lowercase names encountered and converted to lowercase. To retain source file parameter name capitalization, set spectral.settings.envi_support_nonlowercase_params to True.\n",
      "  warnings.warn(msg)\n",
      "/home/labgroup/anaconda3/envs/test-environment/lib/python3.8/site-packages/spectral/io/envi.py:175: UserWarning: Parameters with non-lowercase names encountered and converted to lowercase. To retain source file parameter name capitalization, set spectral.settings.envi_support_nonlowercase_params to True.\n",
      "  warnings.warn(msg)\n",
      "/home/labgroup/anaconda3/envs/test-environment/lib/python3.8/site-packages/gmodetector_py/weight_array.py:30: FutureWarning: arrays to stack must be passed as a \"sequence\" type such as list or tuple. Support for non-sequence iterables such as generators is deprecated as of NumPy 1.16 and will raise an error in the future.\n",
      "  array_in_coordinate = pd.DataFrame(np.column_stack(ar.ravel() for ar in (I, J, self.weights[:, :, i])),\n",
      "/home/labgroup/anaconda3/envs/test-environment/lib/python3.8/site-packages/gmodetector_py/weight_array.py:33: FutureWarning: arrays to stack must be passed as a \"sequence\" type such as list or tuple. Support for non-sequence iterables such as generators is deprecated as of NumPy 1.16 and will raise an error in the future.\n",
      "  matrix_slice_in_triplet = np.column_stack(ar.ravel() for ar in (I, J, self.weights[:, :, i]))\n",
      "R[write to console]: Warning message:\n",
      "\n",
      "R[write to console]: package 'tools' was built under R version 3.6.1 \n",
      "\n",
      "During startup - There were 13 warnings (use warnings() to see them)\n",
      "wrappers/analyze_sample.py:188: UserWarning: Sample is not being normalized with a chroma standard.\n",
      "  warnings.warn('Sample is not being normalized with a chroma standard.')\n",
      "/home/labgroup/anaconda3/envs/test-environment/lib/python3.8/site-packages/spectral/io/envi.py:175: UserWarning: Parameters with non-lowercase names encountered and converted to lowercase. To retain source file parameter name capitalization, set spectral.settings.envi_support_nonlowercase_params to True.\n",
      "  warnings.warn(msg)\n",
      "/home/labgroup/anaconda3/envs/test-environment/lib/python3.8/site-packages/spectral/io/envi.py:175: UserWarning: Parameters with non-lowercase names encountered and converted to lowercase. To retain source file parameter name capitalization, set spectral.settings.envi_support_nonlowercase_params to True.\n",
      "  warnings.warn(msg)\n",
      "/home/labgroup/anaconda3/envs/test-environment/lib/python3.8/site-packages/gmodetector_py/weight_array.py:30: FutureWarning: arrays to stack must be passed as a \"sequence\" type such as list or tuple. Support for non-sequence iterables such as generators is deprecated as of NumPy 1.16 and will raise an error in the future.\n",
      "  array_in_coordinate = pd.DataFrame(np.column_stack(ar.ravel() for ar in (I, J, self.weights[:, :, i])),\n",
      "/home/labgroup/anaconda3/envs/test-environment/lib/python3.8/site-packages/gmodetector_py/weight_array.py:33: FutureWarning: arrays to stack must be passed as a \"sequence\" type such as list or tuple. Support for non-sequence iterables such as generators is deprecated as of NumPy 1.16 and will raise an error in the future.\n",
      "  matrix_slice_in_triplet = np.column_stack(ar.ravel() for ar in (I, J, self.weights[:, :, i]))\n",
      "R[write to console]: Warning message:\n",
      "\n",
      "R[write to console]: package 'tools' was built under R version 3.6.1 \n",
      "\n",
      "During startup - There were 13 warnings (use warnings() to see them)\n",
      "wrappers/analyze_sample.py:188: UserWarning: Sample is not being normalized with a chroma standard.\n",
      "  warnings.warn('Sample is not being normalized with a chroma standard.')\n",
      "/home/labgroup/anaconda3/envs/test-environment/lib/python3.8/site-packages/spectral/io/envi.py:175: UserWarning: Parameters with non-lowercase names encountered and converted to lowercase. To retain source file parameter name capitalization, set spectral.settings.envi_support_nonlowercase_params to True.\n",
      "  warnings.warn(msg)\n",
      "/home/labgroup/anaconda3/envs/test-environment/lib/python3.8/site-packages/spectral/io/envi.py:175: UserWarning: Parameters with non-lowercase names encountered and converted to lowercase. To retain source file parameter name capitalization, set spectral.settings.envi_support_nonlowercase_params to True.\n",
      "  warnings.warn(msg)\n",
      "/home/labgroup/anaconda3/envs/test-environment/lib/python3.8/site-packages/gmodetector_py/weight_array.py:30: FutureWarning: arrays to stack must be passed as a \"sequence\" type such as list or tuple. Support for non-sequence iterables such as generators is deprecated as of NumPy 1.16 and will raise an error in the future.\n",
      "  array_in_coordinate = pd.DataFrame(np.column_stack(ar.ravel() for ar in (I, J, self.weights[:, :, i])),\n",
      "/home/labgroup/anaconda3/envs/test-environment/lib/python3.8/site-packages/gmodetector_py/weight_array.py:33: FutureWarning: arrays to stack must be passed as a \"sequence\" type such as list or tuple. Support for non-sequence iterables such as generators is deprecated as of NumPy 1.16 and will raise an error in the future.\n",
      "  matrix_slice_in_triplet = np.column_stack(ar.ravel() for ar in (I, J, self.weights[:, :, i]))\n",
      "R[write to console]: Warning message:\n",
      "\n",
      "R[write to console]: package 'tools' was built under R version 3.6.1 \n",
      "\n",
      "During startup - There were 13 warnings (use warnings() to see them)\n",
      "wrappers/analyze_sample.py:188: UserWarning: Sample is not being normalized with a chroma standard.\n",
      "  warnings.warn('Sample is not being normalized with a chroma standard.')\n",
      "/home/labgroup/anaconda3/envs/test-environment/lib/python3.8/site-packages/spectral/io/envi.py:175: UserWarning: Parameters with non-lowercase names encountered and converted to lowercase. To retain source file parameter name capitalization, set spectral.settings.envi_support_nonlowercase_params to True.\n",
      "  warnings.warn(msg)\n",
      "/home/labgroup/anaconda3/envs/test-environment/lib/python3.8/site-packages/spectral/io/envi.py:175: UserWarning: Parameters with non-lowercase names encountered and converted to lowercase. To retain source file parameter name capitalization, set spectral.settings.envi_support_nonlowercase_params to True.\n",
      "  warnings.warn(msg)\n",
      "/home/labgroup/anaconda3/envs/test-environment/lib/python3.8/site-packages/gmodetector_py/weight_array.py:30: FutureWarning: arrays to stack must be passed as a \"sequence\" type such as list or tuple. Support for non-sequence iterables such as generators is deprecated as of NumPy 1.16 and will raise an error in the future.\n",
      "  array_in_coordinate = pd.DataFrame(np.column_stack(ar.ravel() for ar in (I, J, self.weights[:, :, i])),\n",
      "/home/labgroup/anaconda3/envs/test-environment/lib/python3.8/site-packages/gmodetector_py/weight_array.py:33: FutureWarning: arrays to stack must be passed as a \"sequence\" type such as list or tuple. Support for non-sequence iterables such as generators is deprecated as of NumPy 1.16 and will raise an error in the future.\n",
      "  matrix_slice_in_triplet = np.column_stack(ar.ravel() for ar in (I, J, self.weights[:, :, i]))\n",
      "R[write to console]: Warning message:\n",
      "\n",
      "R[write to console]: package 'tools' was built under R version 3.6.1 \n",
      "\n",
      "During startup - There were 13 warnings (use warnings() to see them)\n",
      "wrappers/analyze_sample.py:188: UserWarning: Sample is not being normalized with a chroma standard.\n",
      "  warnings.warn('Sample is not being normalized with a chroma standard.')\n",
      "/home/labgroup/anaconda3/envs/test-environment/lib/python3.8/site-packages/spectral/io/envi.py:175: UserWarning: Parameters with non-lowercase names encountered and converted to lowercase. To retain source file parameter name capitalization, set spectral.settings.envi_support_nonlowercase_params to True.\n",
      "  warnings.warn(msg)\n",
      "/home/labgroup/anaconda3/envs/test-environment/lib/python3.8/site-packages/spectral/io/envi.py:175: UserWarning: Parameters with non-lowercase names encountered and converted to lowercase. To retain source file parameter name capitalization, set spectral.settings.envi_support_nonlowercase_params to True.\n",
      "  warnings.warn(msg)\n",
      "/home/labgroup/anaconda3/envs/test-environment/lib/python3.8/site-packages/gmodetector_py/weight_array.py:30: FutureWarning: arrays to stack must be passed as a \"sequence\" type such as list or tuple. Support for non-sequence iterables such as generators is deprecated as of NumPy 1.16 and will raise an error in the future.\n",
      "  array_in_coordinate = pd.DataFrame(np.column_stack(ar.ravel() for ar in (I, J, self.weights[:, :, i])),\n",
      "/home/labgroup/anaconda3/envs/test-environment/lib/python3.8/site-packages/gmodetector_py/weight_array.py:33: FutureWarning: arrays to stack must be passed as a \"sequence\" type such as list or tuple. Support for non-sequence iterables such as generators is deprecated as of NumPy 1.16 and will raise an error in the future.\n",
      "  matrix_slice_in_triplet = np.column_stack(ar.ravel() for ar in (I, J, self.weights[:, :, i]))\n",
      "R[write to console]: Warning message:\n",
      "\n",
      "R[write to console]: package 'tools' was built under R version 3.6.1 \n",
      "\n",
      "During startup - There were 13 warnings (use warnings() to see them)\n",
      "wrappers/analyze_sample.py:188: UserWarning: Sample is not being normalized with a chroma standard.\n",
      "  warnings.warn('Sample is not being normalized with a chroma standard.')\n",
      "/home/labgroup/anaconda3/envs/test-environment/lib/python3.8/site-packages/spectral/io/envi.py:175: UserWarning: Parameters with non-lowercase names encountered and converted to lowercase. To retain source file parameter name capitalization, set spectral.settings.envi_support_nonlowercase_params to True.\n",
      "  warnings.warn(msg)\n",
      "/home/labgroup/anaconda3/envs/test-environment/lib/python3.8/site-packages/spectral/io/envi.py:175: UserWarning: Parameters with non-lowercase names encountered and converted to lowercase. To retain source file parameter name capitalization, set spectral.settings.envi_support_nonlowercase_params to True.\n",
      "  warnings.warn(msg)\n",
      "/home/labgroup/anaconda3/envs/test-environment/lib/python3.8/site-packages/gmodetector_py/weight_array.py:30: FutureWarning: arrays to stack must be passed as a \"sequence\" type such as list or tuple. Support for non-sequence iterables such as generators is deprecated as of NumPy 1.16 and will raise an error in the future.\n",
      "  array_in_coordinate = pd.DataFrame(np.column_stack(ar.ravel() for ar in (I, J, self.weights[:, :, i])),\n",
      "/home/labgroup/anaconda3/envs/test-environment/lib/python3.8/site-packages/gmodetector_py/weight_array.py:33: FutureWarning: arrays to stack must be passed as a \"sequence\" type such as list or tuple. Support for non-sequence iterables such as generators is deprecated as of NumPy 1.16 and will raise an error in the future.\n",
      "  matrix_slice_in_triplet = np.column_stack(ar.ravel() for ar in (I, J, self.weights[:, :, i]))\n",
      "R[write to console]: Warning message:\n",
      "\n",
      "R[write to console]: package 'tools' was built under R version 3.6.1 \n",
      "\n",
      "During startup - There were 13 warnings (use warnings() to see them)\n",
      "wrappers/analyze_sample.py:188: UserWarning: Sample is not being normalized with a chroma standard.\n",
      "  warnings.warn('Sample is not being normalized with a chroma standard.')\n",
      "/home/labgroup/anaconda3/envs/test-environment/lib/python3.8/site-packages/spectral/io/envi.py:175: UserWarning: Parameters with non-lowercase names encountered and converted to lowercase. To retain source file parameter name capitalization, set spectral.settings.envi_support_nonlowercase_params to True.\n",
      "  warnings.warn(msg)\n",
      "/home/labgroup/anaconda3/envs/test-environment/lib/python3.8/site-packages/spectral/io/envi.py:175: UserWarning: Parameters with non-lowercase names encountered and converted to lowercase. To retain source file parameter name capitalization, set spectral.settings.envi_support_nonlowercase_params to True.\n",
      "  warnings.warn(msg)\n",
      "/home/labgroup/anaconda3/envs/test-environment/lib/python3.8/site-packages/gmodetector_py/weight_array.py:30: FutureWarning: arrays to stack must be passed as a \"sequence\" type such as list or tuple. Support for non-sequence iterables such as generators is deprecated as of NumPy 1.16 and will raise an error in the future.\n",
      "  array_in_coordinate = pd.DataFrame(np.column_stack(ar.ravel() for ar in (I, J, self.weights[:, :, i])),\n",
      "/home/labgroup/anaconda3/envs/test-environment/lib/python3.8/site-packages/gmodetector_py/weight_array.py:33: FutureWarning: arrays to stack must be passed as a \"sequence\" type such as list or tuple. Support for non-sequence iterables such as generators is deprecated as of NumPy 1.16 and will raise an error in the future.\n",
      "  matrix_slice_in_triplet = np.column_stack(ar.ravel() for ar in (I, J, self.weights[:, :, i]))\n",
      "R[write to console]: Warning message:\n",
      "\n",
      "R[write to console]: package 'tools' was built under R version 3.6.1 \n",
      "\n",
      "During startup - There were 13 warnings (use warnings() to see them)\n",
      "wrappers/analyze_sample.py:188: UserWarning: Sample is not being normalized with a chroma standard.\n",
      "  warnings.warn('Sample is not being normalized with a chroma standard.')\n",
      "/home/labgroup/anaconda3/envs/test-environment/lib/python3.8/site-packages/spectral/io/envi.py:175: UserWarning: Parameters with non-lowercase names encountered and converted to lowercase. To retain source file parameter name capitalization, set spectral.settings.envi_support_nonlowercase_params to True.\n",
      "  warnings.warn(msg)\n",
      "/home/labgroup/anaconda3/envs/test-environment/lib/python3.8/site-packages/spectral/io/envi.py:175: UserWarning: Parameters with non-lowercase names encountered and converted to lowercase. To retain source file parameter name capitalization, set spectral.settings.envi_support_nonlowercase_params to True.\n",
      "  warnings.warn(msg)\n",
      "/home/labgroup/anaconda3/envs/test-environment/lib/python3.8/site-packages/gmodetector_py/weight_array.py:30: FutureWarning: arrays to stack must be passed as a \"sequence\" type such as list or tuple. Support for non-sequence iterables such as generators is deprecated as of NumPy 1.16 and will raise an error in the future.\n",
      "  array_in_coordinate = pd.DataFrame(np.column_stack(ar.ravel() for ar in (I, J, self.weights[:, :, i])),\n",
      "/home/labgroup/anaconda3/envs/test-environment/lib/python3.8/site-packages/gmodetector_py/weight_array.py:33: FutureWarning: arrays to stack must be passed as a \"sequence\" type such as list or tuple. Support for non-sequence iterables such as generators is deprecated as of NumPy 1.16 and will raise an error in the future.\n",
      "  matrix_slice_in_triplet = np.column_stack(ar.ravel() for ar in (I, J, self.weights[:, :, i]))\n",
      "R[write to console]: Warning message:\n",
      "\n",
      "R[write to console]: package 'tools' was built under R version 3.6.1 \n",
      "\n",
      "During startup - There were 13 warnings (use warnings() to see them)\n",
      "wrappers/analyze_sample.py:188: UserWarning: Sample is not being normalized with a chroma standard.\n",
      "  warnings.warn('Sample is not being normalized with a chroma standard.')\n",
      "/home/labgroup/anaconda3/envs/test-environment/lib/python3.8/site-packages/spectral/io/envi.py:175: UserWarning: Parameters with non-lowercase names encountered and converted to lowercase. To retain source file parameter name capitalization, set spectral.settings.envi_support_nonlowercase_params to True.\n",
      "  warnings.warn(msg)\n",
      "/home/labgroup/anaconda3/envs/test-environment/lib/python3.8/site-packages/spectral/io/envi.py:175: UserWarning: Parameters with non-lowercase names encountered and converted to lowercase. To retain source file parameter name capitalization, set spectral.settings.envi_support_nonlowercase_params to True.\n",
      "  warnings.warn(msg)\n",
      "/home/labgroup/anaconda3/envs/test-environment/lib/python3.8/site-packages/gmodetector_py/weight_array.py:30: FutureWarning: arrays to stack must be passed as a \"sequence\" type such as list or tuple. Support for non-sequence iterables such as generators is deprecated as of NumPy 1.16 and will raise an error in the future.\n",
      "  array_in_coordinate = pd.DataFrame(np.column_stack(ar.ravel() for ar in (I, J, self.weights[:, :, i])),\n",
      "/home/labgroup/anaconda3/envs/test-environment/lib/python3.8/site-packages/gmodetector_py/weight_array.py:33: FutureWarning: arrays to stack must be passed as a \"sequence\" type such as list or tuple. Support for non-sequence iterables such as generators is deprecated as of NumPy 1.16 and will raise an error in the future.\n",
      "  matrix_slice_in_triplet = np.column_stack(ar.ravel() for ar in (I, J, self.weights[:, :, i]))\n",
      "R[write to console]: Warning message:\n",
      "\n",
      "R[write to console]: package 'tools' was built under R version 3.6.1 \n",
      "\n",
      "During startup - There were 13 warnings (use warnings() to see them)\n",
      "wrappers/analyze_sample.py:188: UserWarning: Sample is not being normalized with a chroma standard.\n",
      "  warnings.warn('Sample is not being normalized with a chroma standard.')\n",
      "/home/labgroup/anaconda3/envs/test-environment/lib/python3.8/site-packages/spectral/io/envi.py:175: UserWarning: Parameters with non-lowercase names encountered and converted to lowercase. To retain source file parameter name capitalization, set spectral.settings.envi_support_nonlowercase_params to True.\n",
      "  warnings.warn(msg)\n",
      "/home/labgroup/anaconda3/envs/test-environment/lib/python3.8/site-packages/spectral/io/envi.py:175: UserWarning: Parameters with non-lowercase names encountered and converted to lowercase. To retain source file parameter name capitalization, set spectral.settings.envi_support_nonlowercase_params to True.\n",
      "  warnings.warn(msg)\n",
      "/home/labgroup/anaconda3/envs/test-environment/lib/python3.8/site-packages/gmodetector_py/weight_array.py:30: FutureWarning: arrays to stack must be passed as a \"sequence\" type such as list or tuple. Support for non-sequence iterables such as generators is deprecated as of NumPy 1.16 and will raise an error in the future.\n",
      "  array_in_coordinate = pd.DataFrame(np.column_stack(ar.ravel() for ar in (I, J, self.weights[:, :, i])),\n",
      "/home/labgroup/anaconda3/envs/test-environment/lib/python3.8/site-packages/gmodetector_py/weight_array.py:33: FutureWarning: arrays to stack must be passed as a \"sequence\" type such as list or tuple. Support for non-sequence iterables such as generators is deprecated as of NumPy 1.16 and will raise an error in the future.\n",
      "  matrix_slice_in_triplet = np.column_stack(ar.ravel() for ar in (I, J, self.weights[:, :, i]))\n",
      "R[write to console]: Warning message:\n",
      "\n",
      "R[write to console]: package 'tools' was built under R version 3.6.1 \n",
      "\n",
      "During startup - There were 13 warnings (use warnings() to see them)\n",
      "wrappers/analyze_sample.py:188: UserWarning: Sample is not being normalized with a chroma standard.\n",
      "  warnings.warn('Sample is not being normalized with a chroma standard.')\n",
      "/home/labgroup/anaconda3/envs/test-environment/lib/python3.8/site-packages/spectral/io/envi.py:175: UserWarning: Parameters with non-lowercase names encountered and converted to lowercase. To retain source file parameter name capitalization, set spectral.settings.envi_support_nonlowercase_params to True.\n",
      "  warnings.warn(msg)\n",
      "/home/labgroup/anaconda3/envs/test-environment/lib/python3.8/site-packages/spectral/io/envi.py:175: UserWarning: Parameters with non-lowercase names encountered and converted to lowercase. To retain source file parameter name capitalization, set spectral.settings.envi_support_nonlowercase_params to True.\n",
      "  warnings.warn(msg)\n",
      "/home/labgroup/anaconda3/envs/test-environment/lib/python3.8/site-packages/gmodetector_py/weight_array.py:30: FutureWarning: arrays to stack must be passed as a \"sequence\" type such as list or tuple. Support for non-sequence iterables such as generators is deprecated as of NumPy 1.16 and will raise an error in the future.\n",
      "  array_in_coordinate = pd.DataFrame(np.column_stack(ar.ravel() for ar in (I, J, self.weights[:, :, i])),\n",
      "/home/labgroup/anaconda3/envs/test-environment/lib/python3.8/site-packages/gmodetector_py/weight_array.py:33: FutureWarning: arrays to stack must be passed as a \"sequence\" type such as list or tuple. Support for non-sequence iterables such as generators is deprecated as of NumPy 1.16 and will raise an error in the future.\n",
      "  matrix_slice_in_triplet = np.column_stack(ar.ravel() for ar in (I, J, self.weights[:, :, i]))\n",
      "R[write to console]: Warning message:\n",
      "\n",
      "R[write to console]: package 'tools' was built under R version 3.6.1 \n",
      "\n",
      "During startup - There were 13 warnings (use warnings() to see them)\n",
      "wrappers/analyze_sample.py:188: UserWarning: Sample is not being normalized with a chroma standard.\n",
      "  warnings.warn('Sample is not being normalized with a chroma standard.')\n",
      "/home/labgroup/anaconda3/envs/test-environment/lib/python3.8/site-packages/spectral/io/envi.py:175: UserWarning: Parameters with non-lowercase names encountered and converted to lowercase. To retain source file parameter name capitalization, set spectral.settings.envi_support_nonlowercase_params to True.\n",
      "  warnings.warn(msg)\n",
      "/home/labgroup/anaconda3/envs/test-environment/lib/python3.8/site-packages/spectral/io/envi.py:175: UserWarning: Parameters with non-lowercase names encountered and converted to lowercase. To retain source file parameter name capitalization, set spectral.settings.envi_support_nonlowercase_params to True.\n",
      "  warnings.warn(msg)\n",
      "/home/labgroup/anaconda3/envs/test-environment/lib/python3.8/site-packages/gmodetector_py/weight_array.py:30: FutureWarning: arrays to stack must be passed as a \"sequence\" type such as list or tuple. Support for non-sequence iterables such as generators is deprecated as of NumPy 1.16 and will raise an error in the future.\n",
      "  array_in_coordinate = pd.DataFrame(np.column_stack(ar.ravel() for ar in (I, J, self.weights[:, :, i])),\n",
      "/home/labgroup/anaconda3/envs/test-environment/lib/python3.8/site-packages/gmodetector_py/weight_array.py:33: FutureWarning: arrays to stack must be passed as a \"sequence\" type such as list or tuple. Support for non-sequence iterables such as generators is deprecated as of NumPy 1.16 and will raise an error in the future.\n",
      "  matrix_slice_in_triplet = np.column_stack(ar.ravel() for ar in (I, J, self.weights[:, :, i]))\n",
      "R[write to console]: Warning message:\n",
      "\n",
      "R[write to console]: package 'tools' was built under R version 3.6.1 \n",
      "\n",
      "During startup - There were 13 warnings (use warnings() to see them)\n",
      "wrappers/analyze_sample.py:188: UserWarning: Sample is not being normalized with a chroma standard.\n",
      "  warnings.warn('Sample is not being normalized with a chroma standard.')\n",
      "/home/labgroup/anaconda3/envs/test-environment/lib/python3.8/site-packages/spectral/io/envi.py:175: UserWarning: Parameters with non-lowercase names encountered and converted to lowercase. To retain source file parameter name capitalization, set spectral.settings.envi_support_nonlowercase_params to True.\n",
      "  warnings.warn(msg)\n",
      "/home/labgroup/anaconda3/envs/test-environment/lib/python3.8/site-packages/spectral/io/envi.py:175: UserWarning: Parameters with non-lowercase names encountered and converted to lowercase. To retain source file parameter name capitalization, set spectral.settings.envi_support_nonlowercase_params to True.\n",
      "  warnings.warn(msg)\n",
      "/home/labgroup/anaconda3/envs/test-environment/lib/python3.8/site-packages/gmodetector_py/weight_array.py:30: FutureWarning: arrays to stack must be passed as a \"sequence\" type such as list or tuple. Support for non-sequence iterables such as generators is deprecated as of NumPy 1.16 and will raise an error in the future.\n",
      "  array_in_coordinate = pd.DataFrame(np.column_stack(ar.ravel() for ar in (I, J, self.weights[:, :, i])),\n",
      "/home/labgroup/anaconda3/envs/test-environment/lib/python3.8/site-packages/gmodetector_py/weight_array.py:33: FutureWarning: arrays to stack must be passed as a \"sequence\" type such as list or tuple. Support for non-sequence iterables such as generators is deprecated as of NumPy 1.16 and will raise an error in the future.\n",
      "  matrix_slice_in_triplet = np.column_stack(ar.ravel() for ar in (I, J, self.weights[:, :, i]))\n",
      "R[write to console]: Warning message:\n",
      "\n",
      "R[write to console]: package 'tools' was built under R version 3.6.1 \n",
      "\n",
      "During startup - There were 13 warnings (use warnings() to see them)\n",
      "wrappers/analyze_sample.py:188: UserWarning: Sample is not being normalized with a chroma standard.\n",
      "  warnings.warn('Sample is not being normalized with a chroma standard.')\n",
      "/home/labgroup/anaconda3/envs/test-environment/lib/python3.8/site-packages/spectral/io/envi.py:175: UserWarning: Parameters with non-lowercase names encountered and converted to lowercase. To retain source file parameter name capitalization, set spectral.settings.envi_support_nonlowercase_params to True.\n",
      "  warnings.warn(msg)\n",
      "/home/labgroup/anaconda3/envs/test-environment/lib/python3.8/site-packages/spectral/io/envi.py:175: UserWarning: Parameters with non-lowercase names encountered and converted to lowercase. To retain source file parameter name capitalization, set spectral.settings.envi_support_nonlowercase_params to True.\n",
      "  warnings.warn(msg)\n",
      "/home/labgroup/anaconda3/envs/test-environment/lib/python3.8/site-packages/gmodetector_py/weight_array.py:30: FutureWarning: arrays to stack must be passed as a \"sequence\" type such as list or tuple. Support for non-sequence iterables such as generators is deprecated as of NumPy 1.16 and will raise an error in the future.\n",
      "  array_in_coordinate = pd.DataFrame(np.column_stack(ar.ravel() for ar in (I, J, self.weights[:, :, i])),\n",
      "/home/labgroup/anaconda3/envs/test-environment/lib/python3.8/site-packages/gmodetector_py/weight_array.py:33: FutureWarning: arrays to stack must be passed as a \"sequence\" type such as list or tuple. Support for non-sequence iterables such as generators is deprecated as of NumPy 1.16 and will raise an error in the future.\n",
      "  matrix_slice_in_triplet = np.column_stack(ar.ravel() for ar in (I, J, self.weights[:, :, i]))\n",
      "R[write to console]: Warning message:\n",
      "\n",
      "R[write to console]: package 'tools' was built under R version 3.6.1 \n",
      "\n",
      "During startup - There were 13 warnings (use warnings() to see them)\n",
      "wrappers/analyze_sample.py:188: UserWarning: Sample is not being normalized with a chroma standard.\n",
      "  warnings.warn('Sample is not being normalized with a chroma standard.')\n",
      "/home/labgroup/anaconda3/envs/test-environment/lib/python3.8/site-packages/spectral/io/envi.py:175: UserWarning: Parameters with non-lowercase names encountered and converted to lowercase. To retain source file parameter name capitalization, set spectral.settings.envi_support_nonlowercase_params to True.\n",
      "  warnings.warn(msg)\n",
      "/home/labgroup/anaconda3/envs/test-environment/lib/python3.8/site-packages/spectral/io/envi.py:175: UserWarning: Parameters with non-lowercase names encountered and converted to lowercase. To retain source file parameter name capitalization, set spectral.settings.envi_support_nonlowercase_params to True.\n",
      "  warnings.warn(msg)\n",
      "/home/labgroup/anaconda3/envs/test-environment/lib/python3.8/site-packages/gmodetector_py/weight_array.py:30: FutureWarning: arrays to stack must be passed as a \"sequence\" type such as list or tuple. Support for non-sequence iterables such as generators is deprecated as of NumPy 1.16 and will raise an error in the future.\n",
      "  array_in_coordinate = pd.DataFrame(np.column_stack(ar.ravel() for ar in (I, J, self.weights[:, :, i])),\n",
      "/home/labgroup/anaconda3/envs/test-environment/lib/python3.8/site-packages/gmodetector_py/weight_array.py:33: FutureWarning: arrays to stack must be passed as a \"sequence\" type such as list or tuple. Support for non-sequence iterables such as generators is deprecated as of NumPy 1.16 and will raise an error in the future.\n",
      "  matrix_slice_in_triplet = np.column_stack(ar.ravel() for ar in (I, J, self.weights[:, :, i]))\n",
      "R[write to console]: Warning message:\n",
      "\n",
      "R[write to console]: package 'tools' was built under R version 3.6.1 \n",
      "\n",
      "During startup - There were 13 warnings (use warnings() to see them)\n",
      "wrappers/analyze_sample.py:188: UserWarning: Sample is not being normalized with a chroma standard.\n",
      "  warnings.warn('Sample is not being normalized with a chroma standard.')\n",
      "/home/labgroup/anaconda3/envs/test-environment/lib/python3.8/site-packages/spectral/io/envi.py:175: UserWarning: Parameters with non-lowercase names encountered and converted to lowercase. To retain source file parameter name capitalization, set spectral.settings.envi_support_nonlowercase_params to True.\n",
      "  warnings.warn(msg)\n",
      "/home/labgroup/anaconda3/envs/test-environment/lib/python3.8/site-packages/spectral/io/envi.py:175: UserWarning: Parameters with non-lowercase names encountered and converted to lowercase. To retain source file parameter name capitalization, set spectral.settings.envi_support_nonlowercase_params to True.\n",
      "  warnings.warn(msg)\n",
      "/home/labgroup/anaconda3/envs/test-environment/lib/python3.8/site-packages/gmodetector_py/weight_array.py:30: FutureWarning: arrays to stack must be passed as a \"sequence\" type such as list or tuple. Support for non-sequence iterables such as generators is deprecated as of NumPy 1.16 and will raise an error in the future.\n",
      "  array_in_coordinate = pd.DataFrame(np.column_stack(ar.ravel() for ar in (I, J, self.weights[:, :, i])),\n",
      "/home/labgroup/anaconda3/envs/test-environment/lib/python3.8/site-packages/gmodetector_py/weight_array.py:33: FutureWarning: arrays to stack must be passed as a \"sequence\" type such as list or tuple. Support for non-sequence iterables such as generators is deprecated as of NumPy 1.16 and will raise an error in the future.\n",
      "  matrix_slice_in_triplet = np.column_stack(ar.ravel() for ar in (I, J, self.weights[:, :, i]))\n",
      "R[write to console]: Warning message:\n",
      "\n",
      "R[write to console]: package 'tools' was built under R version 3.6.1 \n",
      "\n",
      "During startup - There were 13 warnings (use warnings() to see them)\n",
      "wrappers/analyze_sample.py:188: UserWarning: Sample is not being normalized with a chroma standard.\n",
      "  warnings.warn('Sample is not being normalized with a chroma standard.')\n",
      "/home/labgroup/anaconda3/envs/test-environment/lib/python3.8/site-packages/spectral/io/envi.py:175: UserWarning: Parameters with non-lowercase names encountered and converted to lowercase. To retain source file parameter name capitalization, set spectral.settings.envi_support_nonlowercase_params to True.\n",
      "  warnings.warn(msg)\n",
      "/home/labgroup/anaconda3/envs/test-environment/lib/python3.8/site-packages/spectral/io/envi.py:175: UserWarning: Parameters with non-lowercase names encountered and converted to lowercase. To retain source file parameter name capitalization, set spectral.settings.envi_support_nonlowercase_params to True.\n",
      "  warnings.warn(msg)\n",
      "/home/labgroup/anaconda3/envs/test-environment/lib/python3.8/site-packages/gmodetector_py/weight_array.py:30: FutureWarning: arrays to stack must be passed as a \"sequence\" type such as list or tuple. Support for non-sequence iterables such as generators is deprecated as of NumPy 1.16 and will raise an error in the future.\n",
      "  array_in_coordinate = pd.DataFrame(np.column_stack(ar.ravel() for ar in (I, J, self.weights[:, :, i])),\n",
      "/home/labgroup/anaconda3/envs/test-environment/lib/python3.8/site-packages/gmodetector_py/weight_array.py:33: FutureWarning: arrays to stack must be passed as a \"sequence\" type such as list or tuple. Support for non-sequence iterables such as generators is deprecated as of NumPy 1.16 and will raise an error in the future.\n",
      "  matrix_slice_in_triplet = np.column_stack(ar.ravel() for ar in (I, J, self.weights[:, :, i]))\n",
      "R[write to console]: Warning message:\n",
      "\n",
      "R[write to console]: package 'tools' was built under R version 3.6.1 \n",
      "\n",
      "During startup - There were 13 warnings (use warnings() to see them)\n",
      "wrappers/analyze_sample.py:188: UserWarning: Sample is not being normalized with a chroma standard.\n",
      "  warnings.warn('Sample is not being normalized with a chroma standard.')\n",
      "/home/labgroup/anaconda3/envs/test-environment/lib/python3.8/site-packages/spectral/io/envi.py:175: UserWarning: Parameters with non-lowercase names encountered and converted to lowercase. To retain source file parameter name capitalization, set spectral.settings.envi_support_nonlowercase_params to True.\n",
      "  warnings.warn(msg)\n",
      "/home/labgroup/anaconda3/envs/test-environment/lib/python3.8/site-packages/spectral/io/envi.py:175: UserWarning: Parameters with non-lowercase names encountered and converted to lowercase. To retain source file parameter name capitalization, set spectral.settings.envi_support_nonlowercase_params to True.\n",
      "  warnings.warn(msg)\n",
      "/home/labgroup/anaconda3/envs/test-environment/lib/python3.8/site-packages/gmodetector_py/weight_array.py:30: FutureWarning: arrays to stack must be passed as a \"sequence\" type such as list or tuple. Support for non-sequence iterables such as generators is deprecated as of NumPy 1.16 and will raise an error in the future.\n",
      "  array_in_coordinate = pd.DataFrame(np.column_stack(ar.ravel() for ar in (I, J, self.weights[:, :, i])),\n",
      "/home/labgroup/anaconda3/envs/test-environment/lib/python3.8/site-packages/gmodetector_py/weight_array.py:33: FutureWarning: arrays to stack must be passed as a \"sequence\" type such as list or tuple. Support for non-sequence iterables such as generators is deprecated as of NumPy 1.16 and will raise an error in the future.\n",
      "  matrix_slice_in_triplet = np.column_stack(ar.ravel() for ar in (I, J, self.weights[:, :, i]))\n",
      "R[write to console]: Warning message:\n",
      "\n",
      "R[write to console]: package 'tools' was built under R version 3.6.1 \n",
      "\n",
      "During startup - There were 13 warnings (use warnings() to see them)\n",
      "wrappers/analyze_sample.py:188: UserWarning: Sample is not being normalized with a chroma standard.\n",
      "  warnings.warn('Sample is not being normalized with a chroma standard.')\n",
      "/home/labgroup/anaconda3/envs/test-environment/lib/python3.8/site-packages/spectral/io/envi.py:175: UserWarning: Parameters with non-lowercase names encountered and converted to lowercase. To retain source file parameter name capitalization, set spectral.settings.envi_support_nonlowercase_params to True.\n",
      "  warnings.warn(msg)\n",
      "/home/labgroup/anaconda3/envs/test-environment/lib/python3.8/site-packages/spectral/io/envi.py:175: UserWarning: Parameters with non-lowercase names encountered and converted to lowercase. To retain source file parameter name capitalization, set spectral.settings.envi_support_nonlowercase_params to True.\n",
      "  warnings.warn(msg)\n",
      "/home/labgroup/anaconda3/envs/test-environment/lib/python3.8/site-packages/gmodetector_py/weight_array.py:30: FutureWarning: arrays to stack must be passed as a \"sequence\" type such as list or tuple. Support for non-sequence iterables such as generators is deprecated as of NumPy 1.16 and will raise an error in the future.\n",
      "  array_in_coordinate = pd.DataFrame(np.column_stack(ar.ravel() for ar in (I, J, self.weights[:, :, i])),\n",
      "/home/labgroup/anaconda3/envs/test-environment/lib/python3.8/site-packages/gmodetector_py/weight_array.py:33: FutureWarning: arrays to stack must be passed as a \"sequence\" type such as list or tuple. Support for non-sequence iterables such as generators is deprecated as of NumPy 1.16 and will raise an error in the future.\n",
      "  matrix_slice_in_triplet = np.column_stack(ar.ravel() for ar in (I, J, self.weights[:, :, i]))\n",
      "R[write to console]: Warning message:\n",
      "\n",
      "R[write to console]: package 'tools' was built under R version 3.6.1 \n",
      "\n",
      "During startup - There were 13 warnings (use warnings() to see them)\n",
      "wrappers/analyze_sample.py:188: UserWarning: Sample is not being normalized with a chroma standard.\n",
      "  warnings.warn('Sample is not being normalized with a chroma standard.')\n",
      "/home/labgroup/anaconda3/envs/test-environment/lib/python3.8/site-packages/spectral/io/envi.py:175: UserWarning: Parameters with non-lowercase names encountered and converted to lowercase. To retain source file parameter name capitalization, set spectral.settings.envi_support_nonlowercase_params to True.\n",
      "  warnings.warn(msg)\n",
      "/home/labgroup/anaconda3/envs/test-environment/lib/python3.8/site-packages/spectral/io/envi.py:175: UserWarning: Parameters with non-lowercase names encountered and converted to lowercase. To retain source file parameter name capitalization, set spectral.settings.envi_support_nonlowercase_params to True.\n",
      "  warnings.warn(msg)\n",
      "/home/labgroup/anaconda3/envs/test-environment/lib/python3.8/site-packages/gmodetector_py/weight_array.py:30: FutureWarning: arrays to stack must be passed as a \"sequence\" type such as list or tuple. Support for non-sequence iterables such as generators is deprecated as of NumPy 1.16 and will raise an error in the future.\n",
      "  array_in_coordinate = pd.DataFrame(np.column_stack(ar.ravel() for ar in (I, J, self.weights[:, :, i])),\n",
      "/home/labgroup/anaconda3/envs/test-environment/lib/python3.8/site-packages/gmodetector_py/weight_array.py:33: FutureWarning: arrays to stack must be passed as a \"sequence\" type such as list or tuple. Support for non-sequence iterables such as generators is deprecated as of NumPy 1.16 and will raise an error in the future.\n",
      "  matrix_slice_in_triplet = np.column_stack(ar.ravel() for ar in (I, J, self.weights[:, :, i]))\n",
      "R[write to console]: Warning message:\n",
      "\n",
      "R[write to console]: package 'tools' was built under R version 3.6.1 \n",
      "\n",
      "During startup - There were 13 warnings (use warnings() to see them)\n",
      "wrappers/analyze_sample.py:188: UserWarning: Sample is not being normalized with a chroma standard.\n",
      "  warnings.warn('Sample is not being normalized with a chroma standard.')\n",
      "/home/labgroup/anaconda3/envs/test-environment/lib/python3.8/site-packages/spectral/io/envi.py:175: UserWarning: Parameters with non-lowercase names encountered and converted to lowercase. To retain source file parameter name capitalization, set spectral.settings.envi_support_nonlowercase_params to True.\n",
      "  warnings.warn(msg)\n",
      "/home/labgroup/anaconda3/envs/test-environment/lib/python3.8/site-packages/spectral/io/envi.py:175: UserWarning: Parameters with non-lowercase names encountered and converted to lowercase. To retain source file parameter name capitalization, set spectral.settings.envi_support_nonlowercase_params to True.\n",
      "  warnings.warn(msg)\n",
      "/home/labgroup/anaconda3/envs/test-environment/lib/python3.8/site-packages/gmodetector_py/weight_array.py:30: FutureWarning: arrays to stack must be passed as a \"sequence\" type such as list or tuple. Support for non-sequence iterables such as generators is deprecated as of NumPy 1.16 and will raise an error in the future.\n",
      "  array_in_coordinate = pd.DataFrame(np.column_stack(ar.ravel() for ar in (I, J, self.weights[:, :, i])),\n",
      "/home/labgroup/anaconda3/envs/test-environment/lib/python3.8/site-packages/gmodetector_py/weight_array.py:33: FutureWarning: arrays to stack must be passed as a \"sequence\" type such as list or tuple. Support for non-sequence iterables such as generators is deprecated as of NumPy 1.16 and will raise an error in the future.\n",
      "  matrix_slice_in_triplet = np.column_stack(ar.ravel() for ar in (I, J, self.weights[:, :, i]))\n",
      "R[write to console]: Warning message:\n",
      "\n",
      "R[write to console]: package 'tools' was built under R version 3.6.1 \n",
      "\n",
      "During startup - There were 13 warnings (use warnings() to see them)\n",
      "wrappers/analyze_sample.py:188: UserWarning: Sample is not being normalized with a chroma standard.\n",
      "  warnings.warn('Sample is not being normalized with a chroma standard.')\n",
      "/home/labgroup/anaconda3/envs/test-environment/lib/python3.8/site-packages/spectral/io/envi.py:175: UserWarning: Parameters with non-lowercase names encountered and converted to lowercase. To retain source file parameter name capitalization, set spectral.settings.envi_support_nonlowercase_params to True.\n",
      "  warnings.warn(msg)\n",
      "/home/labgroup/anaconda3/envs/test-environment/lib/python3.8/site-packages/spectral/io/envi.py:175: UserWarning: Parameters with non-lowercase names encountered and converted to lowercase. To retain source file parameter name capitalization, set spectral.settings.envi_support_nonlowercase_params to True.\n",
      "  warnings.warn(msg)\n",
      "/home/labgroup/anaconda3/envs/test-environment/lib/python3.8/site-packages/gmodetector_py/weight_array.py:30: FutureWarning: arrays to stack must be passed as a \"sequence\" type such as list or tuple. Support for non-sequence iterables such as generators is deprecated as of NumPy 1.16 and will raise an error in the future.\n",
      "  array_in_coordinate = pd.DataFrame(np.column_stack(ar.ravel() for ar in (I, J, self.weights[:, :, i])),\n",
      "/home/labgroup/anaconda3/envs/test-environment/lib/python3.8/site-packages/gmodetector_py/weight_array.py:33: FutureWarning: arrays to stack must be passed as a \"sequence\" type such as list or tuple. Support for non-sequence iterables such as generators is deprecated as of NumPy 1.16 and will raise an error in the future.\n",
      "  matrix_slice_in_triplet = np.column_stack(ar.ravel() for ar in (I, J, self.weights[:, :, i]))\n",
      "R[write to console]: Warning message:\n",
      "\n",
      "R[write to console]: package 'tools' was built under R version 3.6.1 \n",
      "\n",
      "During startup - There were 13 warnings (use warnings() to see them)\n",
      "wrappers/analyze_sample.py:188: UserWarning: Sample is not being normalized with a chroma standard.\n",
      "  warnings.warn('Sample is not being normalized with a chroma standard.')\n",
      "/home/labgroup/anaconda3/envs/test-environment/lib/python3.8/site-packages/spectral/io/envi.py:175: UserWarning: Parameters with non-lowercase names encountered and converted to lowercase. To retain source file parameter name capitalization, set spectral.settings.envi_support_nonlowercase_params to True.\n",
      "  warnings.warn(msg)\n",
      "/home/labgroup/anaconda3/envs/test-environment/lib/python3.8/site-packages/spectral/io/envi.py:175: UserWarning: Parameters with non-lowercase names encountered and converted to lowercase. To retain source file parameter name capitalization, set spectral.settings.envi_support_nonlowercase_params to True.\n",
      "  warnings.warn(msg)\n",
      "/home/labgroup/anaconda3/envs/test-environment/lib/python3.8/site-packages/gmodetector_py/weight_array.py:30: FutureWarning: arrays to stack must be passed as a \"sequence\" type such as list or tuple. Support for non-sequence iterables such as generators is deprecated as of NumPy 1.16 and will raise an error in the future.\n",
      "  array_in_coordinate = pd.DataFrame(np.column_stack(ar.ravel() for ar in (I, J, self.weights[:, :, i])),\n",
      "/home/labgroup/anaconda3/envs/test-environment/lib/python3.8/site-packages/gmodetector_py/weight_array.py:33: FutureWarning: arrays to stack must be passed as a \"sequence\" type such as list or tuple. Support for non-sequence iterables such as generators is deprecated as of NumPy 1.16 and will raise an error in the future.\n",
      "  matrix_slice_in_triplet = np.column_stack(ar.ravel() for ar in (I, J, self.weights[:, :, i]))\n",
      "R[write to console]: Warning message:\n",
      "\n",
      "R[write to console]: package 'tools' was built under R version 3.6.1 \n",
      "\n",
      "During startup - There were 13 warnings (use warnings() to see them)\n",
      "wrappers/analyze_sample.py:188: UserWarning: Sample is not being normalized with a chroma standard.\n",
      "  warnings.warn('Sample is not being normalized with a chroma standard.')\n",
      "/home/labgroup/anaconda3/envs/test-environment/lib/python3.8/site-packages/spectral/io/envi.py:175: UserWarning: Parameters with non-lowercase names encountered and converted to lowercase. To retain source file parameter name capitalization, set spectral.settings.envi_support_nonlowercase_params to True.\n",
      "  warnings.warn(msg)\n",
      "/home/labgroup/anaconda3/envs/test-environment/lib/python3.8/site-packages/spectral/io/envi.py:175: UserWarning: Parameters with non-lowercase names encountered and converted to lowercase. To retain source file parameter name capitalization, set spectral.settings.envi_support_nonlowercase_params to True.\n",
      "  warnings.warn(msg)\n",
      "/home/labgroup/anaconda3/envs/test-environment/lib/python3.8/site-packages/gmodetector_py/weight_array.py:30: FutureWarning: arrays to stack must be passed as a \"sequence\" type such as list or tuple. Support for non-sequence iterables such as generators is deprecated as of NumPy 1.16 and will raise an error in the future.\n",
      "  array_in_coordinate = pd.DataFrame(np.column_stack(ar.ravel() for ar in (I, J, self.weights[:, :, i])),\n",
      "/home/labgroup/anaconda3/envs/test-environment/lib/python3.8/site-packages/gmodetector_py/weight_array.py:33: FutureWarning: arrays to stack must be passed as a \"sequence\" type such as list or tuple. Support for non-sequence iterables such as generators is deprecated as of NumPy 1.16 and will raise an error in the future.\n",
      "  matrix_slice_in_triplet = np.column_stack(ar.ravel() for ar in (I, J, self.weights[:, :, i]))\n",
      "R[write to console]: Warning message:\n",
      "\n",
      "R[write to console]: package 'tools' was built under R version 3.6.1 \n",
      "\n",
      "During startup - There were 13 warnings (use warnings() to see them)\n",
      "wrappers/analyze_sample.py:188: UserWarning: Sample is not being normalized with a chroma standard.\n",
      "  warnings.warn('Sample is not being normalized with a chroma standard.')\n",
      "/home/labgroup/anaconda3/envs/test-environment/lib/python3.8/site-packages/spectral/io/envi.py:175: UserWarning: Parameters with non-lowercase names encountered and converted to lowercase. To retain source file parameter name capitalization, set spectral.settings.envi_support_nonlowercase_params to True.\n",
      "  warnings.warn(msg)\n",
      "/home/labgroup/anaconda3/envs/test-environment/lib/python3.8/site-packages/spectral/io/envi.py:175: UserWarning: Parameters with non-lowercase names encountered and converted to lowercase. To retain source file parameter name capitalization, set spectral.settings.envi_support_nonlowercase_params to True.\n",
      "  warnings.warn(msg)\n",
      "/home/labgroup/anaconda3/envs/test-environment/lib/python3.8/site-packages/gmodetector_py/weight_array.py:30: FutureWarning: arrays to stack must be passed as a \"sequence\" type such as list or tuple. Support for non-sequence iterables such as generators is deprecated as of NumPy 1.16 and will raise an error in the future.\n",
      "  array_in_coordinate = pd.DataFrame(np.column_stack(ar.ravel() for ar in (I, J, self.weights[:, :, i])),\n",
      "/home/labgroup/anaconda3/envs/test-environment/lib/python3.8/site-packages/gmodetector_py/weight_array.py:33: FutureWarning: arrays to stack must be passed as a \"sequence\" type such as list or tuple. Support for non-sequence iterables such as generators is deprecated as of NumPy 1.16 and will raise an error in the future.\n",
      "  matrix_slice_in_triplet = np.column_stack(ar.ravel() for ar in (I, J, self.weights[:, :, i]))\n",
      "R[write to console]: Warning message:\n",
      "\n",
      "R[write to console]: package 'tools' was built under R version 3.6.1 \n",
      "\n",
      "During startup - There were 13 warnings (use warnings() to see them)\n",
      "wrappers/analyze_sample.py:188: UserWarning: Sample is not being normalized with a chroma standard.\n",
      "  warnings.warn('Sample is not being normalized with a chroma standard.')\n",
      "/home/labgroup/anaconda3/envs/test-environment/lib/python3.8/site-packages/spectral/io/envi.py:175: UserWarning: Parameters with non-lowercase names encountered and converted to lowercase. To retain source file parameter name capitalization, set spectral.settings.envi_support_nonlowercase_params to True.\n",
      "  warnings.warn(msg)\n",
      "/home/labgroup/anaconda3/envs/test-environment/lib/python3.8/site-packages/spectral/io/envi.py:175: UserWarning: Parameters with non-lowercase names encountered and converted to lowercase. To retain source file parameter name capitalization, set spectral.settings.envi_support_nonlowercase_params to True.\n",
      "  warnings.warn(msg)\n",
      "/home/labgroup/anaconda3/envs/test-environment/lib/python3.8/site-packages/gmodetector_py/weight_array.py:30: FutureWarning: arrays to stack must be passed as a \"sequence\" type such as list or tuple. Support for non-sequence iterables such as generators is deprecated as of NumPy 1.16 and will raise an error in the future.\n",
      "  array_in_coordinate = pd.DataFrame(np.column_stack(ar.ravel() for ar in (I, J, self.weights[:, :, i])),\n",
      "/home/labgroup/anaconda3/envs/test-environment/lib/python3.8/site-packages/gmodetector_py/weight_array.py:33: FutureWarning: arrays to stack must be passed as a \"sequence\" type such as list or tuple. Support for non-sequence iterables such as generators is deprecated as of NumPy 1.16 and will raise an error in the future.\n",
      "  matrix_slice_in_triplet = np.column_stack(ar.ravel() for ar in (I, J, self.weights[:, :, i]))\n",
      "R[write to console]: Warning message:\n",
      "\n",
      "R[write to console]: package 'tools' was built under R version 3.6.1 \n",
      "\n",
      "During startup - There were 13 warnings (use warnings() to see them)\n",
      "wrappers/analyze_sample.py:188: UserWarning: Sample is not being normalized with a chroma standard.\n",
      "  warnings.warn('Sample is not being normalized with a chroma standard.')\n",
      "/home/labgroup/anaconda3/envs/test-environment/lib/python3.8/site-packages/spectral/io/envi.py:175: UserWarning: Parameters with non-lowercase names encountered and converted to lowercase. To retain source file parameter name capitalization, set spectral.settings.envi_support_nonlowercase_params to True.\n",
      "  warnings.warn(msg)\n",
      "/home/labgroup/anaconda3/envs/test-environment/lib/python3.8/site-packages/spectral/io/envi.py:175: UserWarning: Parameters with non-lowercase names encountered and converted to lowercase. To retain source file parameter name capitalization, set spectral.settings.envi_support_nonlowercase_params to True.\n",
      "  warnings.warn(msg)\n",
      "/home/labgroup/anaconda3/envs/test-environment/lib/python3.8/site-packages/gmodetector_py/weight_array.py:30: FutureWarning: arrays to stack must be passed as a \"sequence\" type such as list or tuple. Support for non-sequence iterables such as generators is deprecated as of NumPy 1.16 and will raise an error in the future.\n",
      "  array_in_coordinate = pd.DataFrame(np.column_stack(ar.ravel() for ar in (I, J, self.weights[:, :, i])),\n",
      "/home/labgroup/anaconda3/envs/test-environment/lib/python3.8/site-packages/gmodetector_py/weight_array.py:33: FutureWarning: arrays to stack must be passed as a \"sequence\" type such as list or tuple. Support for non-sequence iterables such as generators is deprecated as of NumPy 1.16 and will raise an error in the future.\n",
      "  matrix_slice_in_triplet = np.column_stack(ar.ravel() for ar in (I, J, self.weights[:, :, i]))\n",
      "R[write to console]: Warning message:\n",
      "\n",
      "R[write to console]: package 'tools' was built under R version 3.6.1 \n",
      "\n",
      "During startup - There were 13 warnings (use warnings() to see them)\n",
      "wrappers/analyze_sample.py:188: UserWarning: Sample is not being normalized with a chroma standard.\n",
      "  warnings.warn('Sample is not being normalized with a chroma standard.')\n",
      "/home/labgroup/anaconda3/envs/test-environment/lib/python3.8/site-packages/spectral/io/envi.py:175: UserWarning: Parameters with non-lowercase names encountered and converted to lowercase. To retain source file parameter name capitalization, set spectral.settings.envi_support_nonlowercase_params to True.\n",
      "  warnings.warn(msg)\n",
      "/home/labgroup/anaconda3/envs/test-environment/lib/python3.8/site-packages/spectral/io/envi.py:175: UserWarning: Parameters with non-lowercase names encountered and converted to lowercase. To retain source file parameter name capitalization, set spectral.settings.envi_support_nonlowercase_params to True.\n",
      "  warnings.warn(msg)\n",
      "/home/labgroup/anaconda3/envs/test-environment/lib/python3.8/site-packages/gmodetector_py/weight_array.py:30: FutureWarning: arrays to stack must be passed as a \"sequence\" type such as list or tuple. Support for non-sequence iterables such as generators is deprecated as of NumPy 1.16 and will raise an error in the future.\n",
      "  array_in_coordinate = pd.DataFrame(np.column_stack(ar.ravel() for ar in (I, J, self.weights[:, :, i])),\n",
      "/home/labgroup/anaconda3/envs/test-environment/lib/python3.8/site-packages/gmodetector_py/weight_array.py:33: FutureWarning: arrays to stack must be passed as a \"sequence\" type such as list or tuple. Support for non-sequence iterables such as generators is deprecated as of NumPy 1.16 and will raise an error in the future.\n",
      "  matrix_slice_in_triplet = np.column_stack(ar.ravel() for ar in (I, J, self.weights[:, :, i]))\n",
      "R[write to console]: Warning message:\n",
      "\n",
      "R[write to console]: package 'tools' was built under R version 3.6.1 \n",
      "\n",
      "During startup - There were 13 warnings (use warnings() to see them)\n",
      "wrappers/analyze_sample.py:188: UserWarning: Sample is not being normalized with a chroma standard.\n",
      "  warnings.warn('Sample is not being normalized with a chroma standard.')\n",
      "/home/labgroup/anaconda3/envs/test-environment/lib/python3.8/site-packages/spectral/io/envi.py:175: UserWarning: Parameters with non-lowercase names encountered and converted to lowercase. To retain source file parameter name capitalization, set spectral.settings.envi_support_nonlowercase_params to True.\n",
      "  warnings.warn(msg)\n",
      "/home/labgroup/anaconda3/envs/test-environment/lib/python3.8/site-packages/spectral/io/envi.py:175: UserWarning: Parameters with non-lowercase names encountered and converted to lowercase. To retain source file parameter name capitalization, set spectral.settings.envi_support_nonlowercase_params to True.\n",
      "  warnings.warn(msg)\n",
      "/home/labgroup/anaconda3/envs/test-environment/lib/python3.8/site-packages/gmodetector_py/weight_array.py:30: FutureWarning: arrays to stack must be passed as a \"sequence\" type such as list or tuple. Support for non-sequence iterables such as generators is deprecated as of NumPy 1.16 and will raise an error in the future.\n",
      "  array_in_coordinate = pd.DataFrame(np.column_stack(ar.ravel() for ar in (I, J, self.weights[:, :, i])),\n",
      "/home/labgroup/anaconda3/envs/test-environment/lib/python3.8/site-packages/gmodetector_py/weight_array.py:33: FutureWarning: arrays to stack must be passed as a \"sequence\" type such as list or tuple. Support for non-sequence iterables such as generators is deprecated as of NumPy 1.16 and will raise an error in the future.\n",
      "  matrix_slice_in_triplet = np.column_stack(ar.ravel() for ar in (I, J, self.weights[:, :, i]))\n",
      "R[write to console]: Warning message:\n",
      "\n",
      "R[write to console]: package 'tools' was built under R version 3.6.1 \n",
      "\n",
      "During startup - There were 13 warnings (use warnings() to see them)\n",
      "wrappers/analyze_sample.py:188: UserWarning: Sample is not being normalized with a chroma standard.\n",
      "  warnings.warn('Sample is not being normalized with a chroma standard.')\n",
      "/home/labgroup/anaconda3/envs/test-environment/lib/python3.8/site-packages/spectral/io/envi.py:175: UserWarning: Parameters with non-lowercase names encountered and converted to lowercase. To retain source file parameter name capitalization, set spectral.settings.envi_support_nonlowercase_params to True.\n",
      "  warnings.warn(msg)\n",
      "/home/labgroup/anaconda3/envs/test-environment/lib/python3.8/site-packages/spectral/io/envi.py:175: UserWarning: Parameters with non-lowercase names encountered and converted to lowercase. To retain source file parameter name capitalization, set spectral.settings.envi_support_nonlowercase_params to True.\n",
      "  warnings.warn(msg)\n",
      "/home/labgroup/anaconda3/envs/test-environment/lib/python3.8/site-packages/gmodetector_py/weight_array.py:30: FutureWarning: arrays to stack must be passed as a \"sequence\" type such as list or tuple. Support for non-sequence iterables such as generators is deprecated as of NumPy 1.16 and will raise an error in the future.\n",
      "  array_in_coordinate = pd.DataFrame(np.column_stack(ar.ravel() for ar in (I, J, self.weights[:, :, i])),\n",
      "/home/labgroup/anaconda3/envs/test-environment/lib/python3.8/site-packages/gmodetector_py/weight_array.py:33: FutureWarning: arrays to stack must be passed as a \"sequence\" type such as list or tuple. Support for non-sequence iterables such as generators is deprecated as of NumPy 1.16 and will raise an error in the future.\n",
      "  matrix_slice_in_triplet = np.column_stack(ar.ravel() for ar in (I, J, self.weights[:, :, i]))\n",
      "R[write to console]: Warning message:\n",
      "\n",
      "R[write to console]: package 'tools' was built under R version 3.6.1 \n",
      "\n",
      "During startup - There were 13 warnings (use warnings() to see them)\n",
      "wrappers/analyze_sample.py:188: UserWarning: Sample is not being normalized with a chroma standard.\n",
      "  warnings.warn('Sample is not being normalized with a chroma standard.')\n",
      "/home/labgroup/anaconda3/envs/test-environment/lib/python3.8/site-packages/spectral/io/envi.py:175: UserWarning: Parameters with non-lowercase names encountered and converted to lowercase. To retain source file parameter name capitalization, set spectral.settings.envi_support_nonlowercase_params to True.\n",
      "  warnings.warn(msg)\n",
      "/home/labgroup/anaconda3/envs/test-environment/lib/python3.8/site-packages/spectral/io/envi.py:175: UserWarning: Parameters with non-lowercase names encountered and converted to lowercase. To retain source file parameter name capitalization, set spectral.settings.envi_support_nonlowercase_params to True.\n",
      "  warnings.warn(msg)\n",
      "/home/labgroup/anaconda3/envs/test-environment/lib/python3.8/site-packages/gmodetector_py/weight_array.py:30: FutureWarning: arrays to stack must be passed as a \"sequence\" type such as list or tuple. Support for non-sequence iterables such as generators is deprecated as of NumPy 1.16 and will raise an error in the future.\n",
      "  array_in_coordinate = pd.DataFrame(np.column_stack(ar.ravel() for ar in (I, J, self.weights[:, :, i])),\n",
      "/home/labgroup/anaconda3/envs/test-environment/lib/python3.8/site-packages/gmodetector_py/weight_array.py:33: FutureWarning: arrays to stack must be passed as a \"sequence\" type such as list or tuple. Support for non-sequence iterables such as generators is deprecated as of NumPy 1.16 and will raise an error in the future.\n",
      "  matrix_slice_in_triplet = np.column_stack(ar.ravel() for ar in (I, J, self.weights[:, :, i]))\n",
      "R[write to console]: Warning message:\n",
      "\n",
      "R[write to console]: package 'tools' was built under R version 3.6.1 \n",
      "\n",
      "During startup - There were 13 warnings (use warnings() to see them)\n",
      "wrappers/analyze_sample.py:188: UserWarning: Sample is not being normalized with a chroma standard.\n",
      "  warnings.warn('Sample is not being normalized with a chroma standard.')\n",
      "/home/labgroup/anaconda3/envs/test-environment/lib/python3.8/site-packages/spectral/io/envi.py:175: UserWarning: Parameters with non-lowercase names encountered and converted to lowercase. To retain source file parameter name capitalization, set spectral.settings.envi_support_nonlowercase_params to True.\n",
      "  warnings.warn(msg)\n",
      "/home/labgroup/anaconda3/envs/test-environment/lib/python3.8/site-packages/spectral/io/envi.py:175: UserWarning: Parameters with non-lowercase names encountered and converted to lowercase. To retain source file parameter name capitalization, set spectral.settings.envi_support_nonlowercase_params to True.\n",
      "  warnings.warn(msg)\n",
      "/home/labgroup/anaconda3/envs/test-environment/lib/python3.8/site-packages/gmodetector_py/weight_array.py:30: FutureWarning: arrays to stack must be passed as a \"sequence\" type such as list or tuple. Support for non-sequence iterables such as generators is deprecated as of NumPy 1.16 and will raise an error in the future.\n",
      "  array_in_coordinate = pd.DataFrame(np.column_stack(ar.ravel() for ar in (I, J, self.weights[:, :, i])),\n",
      "/home/labgroup/anaconda3/envs/test-environment/lib/python3.8/site-packages/gmodetector_py/weight_array.py:33: FutureWarning: arrays to stack must be passed as a \"sequence\" type such as list or tuple. Support for non-sequence iterables such as generators is deprecated as of NumPy 1.16 and will raise an error in the future.\n",
      "  matrix_slice_in_triplet = np.column_stack(ar.ravel() for ar in (I, J, self.weights[:, :, i]))\n",
      "R[write to console]: Warning message:\n",
      "\n",
      "R[write to console]: package 'tools' was built under R version 3.6.1 \n",
      "\n",
      "During startup - There were 13 warnings (use warnings() to see them)\n",
      "wrappers/analyze_sample.py:188: UserWarning: Sample is not being normalized with a chroma standard.\n",
      "  warnings.warn('Sample is not being normalized with a chroma standard.')\n",
      "/home/labgroup/anaconda3/envs/test-environment/lib/python3.8/site-packages/spectral/io/envi.py:175: UserWarning: Parameters with non-lowercase names encountered and converted to lowercase. To retain source file parameter name capitalization, set spectral.settings.envi_support_nonlowercase_params to True.\n",
      "  warnings.warn(msg)\n",
      "/home/labgroup/anaconda3/envs/test-environment/lib/python3.8/site-packages/spectral/io/envi.py:175: UserWarning: Parameters with non-lowercase names encountered and converted to lowercase. To retain source file parameter name capitalization, set spectral.settings.envi_support_nonlowercase_params to True.\n",
      "  warnings.warn(msg)\n",
      "/home/labgroup/anaconda3/envs/test-environment/lib/python3.8/site-packages/gmodetector_py/weight_array.py:30: FutureWarning: arrays to stack must be passed as a \"sequence\" type such as list or tuple. Support for non-sequence iterables such as generators is deprecated as of NumPy 1.16 and will raise an error in the future.\n",
      "  array_in_coordinate = pd.DataFrame(np.column_stack(ar.ravel() for ar in (I, J, self.weights[:, :, i])),\n",
      "/home/labgroup/anaconda3/envs/test-environment/lib/python3.8/site-packages/gmodetector_py/weight_array.py:33: FutureWarning: arrays to stack must be passed as a \"sequence\" type such as list or tuple. Support for non-sequence iterables such as generators is deprecated as of NumPy 1.16 and will raise an error in the future.\n",
      "  matrix_slice_in_triplet = np.column_stack(ar.ravel() for ar in (I, J, self.weights[:, :, i]))\n",
      "R[write to console]: Warning message:\n",
      "\n",
      "R[write to console]: package 'tools' was built under R version 3.6.1 \n",
      "\n",
      "During startup - There were 13 warnings (use warnings() to see them)\n",
      "wrappers/analyze_sample.py:188: UserWarning: Sample is not being normalized with a chroma standard.\n",
      "  warnings.warn('Sample is not being normalized with a chroma standard.')\n",
      "/home/labgroup/anaconda3/envs/test-environment/lib/python3.8/site-packages/spectral/io/envi.py:175: UserWarning: Parameters with non-lowercase names encountered and converted to lowercase. To retain source file parameter name capitalization, set spectral.settings.envi_support_nonlowercase_params to True.\n",
      "  warnings.warn(msg)\n",
      "/home/labgroup/anaconda3/envs/test-environment/lib/python3.8/site-packages/spectral/io/envi.py:175: UserWarning: Parameters with non-lowercase names encountered and converted to lowercase. To retain source file parameter name capitalization, set spectral.settings.envi_support_nonlowercase_params to True.\n",
      "  warnings.warn(msg)\n",
      "/home/labgroup/anaconda3/envs/test-environment/lib/python3.8/site-packages/gmodetector_py/weight_array.py:30: FutureWarning: arrays to stack must be passed as a \"sequence\" type such as list or tuple. Support for non-sequence iterables such as generators is deprecated as of NumPy 1.16 and will raise an error in the future.\n",
      "  array_in_coordinate = pd.DataFrame(np.column_stack(ar.ravel() for ar in (I, J, self.weights[:, :, i])),\n",
      "/home/labgroup/anaconda3/envs/test-environment/lib/python3.8/site-packages/gmodetector_py/weight_array.py:33: FutureWarning: arrays to stack must be passed as a \"sequence\" type such as list or tuple. Support for non-sequence iterables such as generators is deprecated as of NumPy 1.16 and will raise an error in the future.\n",
      "  matrix_slice_in_triplet = np.column_stack(ar.ravel() for ar in (I, J, self.weights[:, :, i]))\n",
      "R[write to console]: Warning message:\n",
      "\n",
      "R[write to console]: package 'tools' was built under R version 3.6.1 \n",
      "\n",
      "During startup - There were 13 warnings (use warnings() to see them)\n",
      "wrappers/analyze_sample.py:188: UserWarning: Sample is not being normalized with a chroma standard.\n",
      "  warnings.warn('Sample is not being normalized with a chroma standard.')\n",
      "/home/labgroup/anaconda3/envs/test-environment/lib/python3.8/site-packages/spectral/io/envi.py:175: UserWarning: Parameters with non-lowercase names encountered and converted to lowercase. To retain source file parameter name capitalization, set spectral.settings.envi_support_nonlowercase_params to True.\n",
      "  warnings.warn(msg)\n",
      "/home/labgroup/anaconda3/envs/test-environment/lib/python3.8/site-packages/spectral/io/envi.py:175: UserWarning: Parameters with non-lowercase names encountered and converted to lowercase. To retain source file parameter name capitalization, set spectral.settings.envi_support_nonlowercase_params to True.\n",
      "  warnings.warn(msg)\n",
      "/home/labgroup/anaconda3/envs/test-environment/lib/python3.8/site-packages/gmodetector_py/weight_array.py:30: FutureWarning: arrays to stack must be passed as a \"sequence\" type such as list or tuple. Support for non-sequence iterables such as generators is deprecated as of NumPy 1.16 and will raise an error in the future.\n",
      "  array_in_coordinate = pd.DataFrame(np.column_stack(ar.ravel() for ar in (I, J, self.weights[:, :, i])),\n",
      "/home/labgroup/anaconda3/envs/test-environment/lib/python3.8/site-packages/gmodetector_py/weight_array.py:33: FutureWarning: arrays to stack must be passed as a \"sequence\" type such as list or tuple. Support for non-sequence iterables such as generators is deprecated as of NumPy 1.16 and will raise an error in the future.\n",
      "  matrix_slice_in_triplet = np.column_stack(ar.ravel() for ar in (I, J, self.weights[:, :, i]))\n",
      "R[write to console]: Warning message:\n",
      "\n",
      "R[write to console]: package 'tools' was built under R version 3.6.1 \n",
      "\n",
      "During startup - There were 13 warnings (use warnings() to see them)\n",
      "wrappers/analyze_sample.py:188: UserWarning: Sample is not being normalized with a chroma standard.\n",
      "  warnings.warn('Sample is not being normalized with a chroma standard.')\n",
      "/home/labgroup/anaconda3/envs/test-environment/lib/python3.8/site-packages/spectral/io/envi.py:175: UserWarning: Parameters with non-lowercase names encountered and converted to lowercase. To retain source file parameter name capitalization, set spectral.settings.envi_support_nonlowercase_params to True.\n",
      "  warnings.warn(msg)\n",
      "/home/labgroup/anaconda3/envs/test-environment/lib/python3.8/site-packages/spectral/io/envi.py:175: UserWarning: Parameters with non-lowercase names encountered and converted to lowercase. To retain source file parameter name capitalization, set spectral.settings.envi_support_nonlowercase_params to True.\n",
      "  warnings.warn(msg)\n",
      "/home/labgroup/anaconda3/envs/test-environment/lib/python3.8/site-packages/gmodetector_py/weight_array.py:30: FutureWarning: arrays to stack must be passed as a \"sequence\" type such as list or tuple. Support for non-sequence iterables such as generators is deprecated as of NumPy 1.16 and will raise an error in the future.\n",
      "  array_in_coordinate = pd.DataFrame(np.column_stack(ar.ravel() for ar in (I, J, self.weights[:, :, i])),\n",
      "/home/labgroup/anaconda3/envs/test-environment/lib/python3.8/site-packages/gmodetector_py/weight_array.py:33: FutureWarning: arrays to stack must be passed as a \"sequence\" type such as list or tuple. Support for non-sequence iterables such as generators is deprecated as of NumPy 1.16 and will raise an error in the future.\n",
      "  matrix_slice_in_triplet = np.column_stack(ar.ravel() for ar in (I, J, self.weights[:, :, i]))\n",
      "R[write to console]: Warning message:\n",
      "\n",
      "R[write to console]: package 'tools' was built under R version 3.6.1 \n",
      "\n",
      "During startup - There were 13 warnings (use warnings() to see them)\n",
      "wrappers/analyze_sample.py:188: UserWarning: Sample is not being normalized with a chroma standard.\n",
      "  warnings.warn('Sample is not being normalized with a chroma standard.')\n",
      "/home/labgroup/anaconda3/envs/test-environment/lib/python3.8/site-packages/spectral/io/envi.py:175: UserWarning: Parameters with non-lowercase names encountered and converted to lowercase. To retain source file parameter name capitalization, set spectral.settings.envi_support_nonlowercase_params to True.\n",
      "  warnings.warn(msg)\n",
      "/home/labgroup/anaconda3/envs/test-environment/lib/python3.8/site-packages/spectral/io/envi.py:175: UserWarning: Parameters with non-lowercase names encountered and converted to lowercase. To retain source file parameter name capitalization, set spectral.settings.envi_support_nonlowercase_params to True.\n",
      "  warnings.warn(msg)\n",
      "/home/labgroup/anaconda3/envs/test-environment/lib/python3.8/site-packages/gmodetector_py/weight_array.py:30: FutureWarning: arrays to stack must be passed as a \"sequence\" type such as list or tuple. Support for non-sequence iterables such as generators is deprecated as of NumPy 1.16 and will raise an error in the future.\n",
      "  array_in_coordinate = pd.DataFrame(np.column_stack(ar.ravel() for ar in (I, J, self.weights[:, :, i])),\n",
      "/home/labgroup/anaconda3/envs/test-environment/lib/python3.8/site-packages/gmodetector_py/weight_array.py:33: FutureWarning: arrays to stack must be passed as a \"sequence\" type such as list or tuple. Support for non-sequence iterables such as generators is deprecated as of NumPy 1.16 and will raise an error in the future.\n",
      "  matrix_slice_in_triplet = np.column_stack(ar.ravel() for ar in (I, J, self.weights[:, :, i]))\n",
      "R[write to console]: Warning message:\n",
      "\n",
      "R[write to console]: package 'tools' was built under R version 3.6.1 \n",
      "\n",
      "During startup - There were 13 warnings (use warnings() to see them)\n",
      "wrappers/analyze_sample.py:188: UserWarning: Sample is not being normalized with a chroma standard.\n",
      "  warnings.warn('Sample is not being normalized with a chroma standard.')\n",
      "/home/labgroup/anaconda3/envs/test-environment/lib/python3.8/site-packages/spectral/io/envi.py:175: UserWarning: Parameters with non-lowercase names encountered and converted to lowercase. To retain source file parameter name capitalization, set spectral.settings.envi_support_nonlowercase_params to True.\n",
      "  warnings.warn(msg)\n",
      "/home/labgroup/anaconda3/envs/test-environment/lib/python3.8/site-packages/spectral/io/envi.py:175: UserWarning: Parameters with non-lowercase names encountered and converted to lowercase. To retain source file parameter name capitalization, set spectral.settings.envi_support_nonlowercase_params to True.\n",
      "  warnings.warn(msg)\n",
      "/home/labgroup/anaconda3/envs/test-environment/lib/python3.8/site-packages/gmodetector_py/weight_array.py:30: FutureWarning: arrays to stack must be passed as a \"sequence\" type such as list or tuple. Support for non-sequence iterables such as generators is deprecated as of NumPy 1.16 and will raise an error in the future.\n",
      "  array_in_coordinate = pd.DataFrame(np.column_stack(ar.ravel() for ar in (I, J, self.weights[:, :, i])),\n",
      "/home/labgroup/anaconda3/envs/test-environment/lib/python3.8/site-packages/gmodetector_py/weight_array.py:33: FutureWarning: arrays to stack must be passed as a \"sequence\" type such as list or tuple. Support for non-sequence iterables such as generators is deprecated as of NumPy 1.16 and will raise an error in the future.\n",
      "  matrix_slice_in_triplet = np.column_stack(ar.ravel() for ar in (I, J, self.weights[:, :, i]))\n",
      "R[write to console]: Warning message:\n",
      "\n",
      "R[write to console]: package 'tools' was built under R version 3.6.1 \n",
      "\n",
      "During startup - There were 13 warnings (use warnings() to see them)\n",
      "wrappers/analyze_sample.py:188: UserWarning: Sample is not being normalized with a chroma standard.\n",
      "  warnings.warn('Sample is not being normalized with a chroma standard.')\n",
      "/home/labgroup/anaconda3/envs/test-environment/lib/python3.8/site-packages/spectral/io/envi.py:175: UserWarning: Parameters with non-lowercase names encountered and converted to lowercase. To retain source file parameter name capitalization, set spectral.settings.envi_support_nonlowercase_params to True.\n",
      "  warnings.warn(msg)\n",
      "/home/labgroup/anaconda3/envs/test-environment/lib/python3.8/site-packages/spectral/io/envi.py:175: UserWarning: Parameters with non-lowercase names encountered and converted to lowercase. To retain source file parameter name capitalization, set spectral.settings.envi_support_nonlowercase_params to True.\n",
      "  warnings.warn(msg)\n",
      "/home/labgroup/anaconda3/envs/test-environment/lib/python3.8/site-packages/gmodetector_py/weight_array.py:30: FutureWarning: arrays to stack must be passed as a \"sequence\" type such as list or tuple. Support for non-sequence iterables such as generators is deprecated as of NumPy 1.16 and will raise an error in the future.\n",
      "  array_in_coordinate = pd.DataFrame(np.column_stack(ar.ravel() for ar in (I, J, self.weights[:, :, i])),\n",
      "/home/labgroup/anaconda3/envs/test-environment/lib/python3.8/site-packages/gmodetector_py/weight_array.py:33: FutureWarning: arrays to stack must be passed as a \"sequence\" type such as list or tuple. Support for non-sequence iterables such as generators is deprecated as of NumPy 1.16 and will raise an error in the future.\n",
      "  matrix_slice_in_triplet = np.column_stack(ar.ravel() for ar in (I, J, self.weights[:, :, i]))\n",
      "R[write to console]: Warning message:\n",
      "\n",
      "R[write to console]: package 'tools' was built under R version 3.6.1 \n",
      "\n",
      "During startup - There were 13 warnings (use warnings() to see them)\n",
      "wrappers/analyze_sample.py:188: UserWarning: Sample is not being normalized with a chroma standard.\n",
      "  warnings.warn('Sample is not being normalized with a chroma standard.')\n",
      "/home/labgroup/anaconda3/envs/test-environment/lib/python3.8/site-packages/spectral/io/envi.py:175: UserWarning: Parameters with non-lowercase names encountered and converted to lowercase. To retain source file parameter name capitalization, set spectral.settings.envi_support_nonlowercase_params to True.\n",
      "  warnings.warn(msg)\n",
      "/home/labgroup/anaconda3/envs/test-environment/lib/python3.8/site-packages/spectral/io/envi.py:175: UserWarning: Parameters with non-lowercase names encountered and converted to lowercase. To retain source file parameter name capitalization, set spectral.settings.envi_support_nonlowercase_params to True.\n",
      "  warnings.warn(msg)\n",
      "/home/labgroup/anaconda3/envs/test-environment/lib/python3.8/site-packages/gmodetector_py/weight_array.py:30: FutureWarning: arrays to stack must be passed as a \"sequence\" type such as list or tuple. Support for non-sequence iterables such as generators is deprecated as of NumPy 1.16 and will raise an error in the future.\n",
      "  array_in_coordinate = pd.DataFrame(np.column_stack(ar.ravel() for ar in (I, J, self.weights[:, :, i])),\n",
      "/home/labgroup/anaconda3/envs/test-environment/lib/python3.8/site-packages/gmodetector_py/weight_array.py:33: FutureWarning: arrays to stack must be passed as a \"sequence\" type such as list or tuple. Support for non-sequence iterables such as generators is deprecated as of NumPy 1.16 and will raise an error in the future.\n",
      "  matrix_slice_in_triplet = np.column_stack(ar.ravel() for ar in (I, J, self.weights[:, :, i]))\n",
      "R[write to console]: Warning message:\n",
      "\n",
      "R[write to console]: package 'tools' was built under R version 3.6.1 \n",
      "\n",
      "During startup - There were 13 warnings (use warnings() to see them)\n",
      "wrappers/analyze_sample.py:188: UserWarning: Sample is not being normalized with a chroma standard.\n",
      "  warnings.warn('Sample is not being normalized with a chroma standard.')\n",
      "/home/labgroup/anaconda3/envs/test-environment/lib/python3.8/site-packages/spectral/io/envi.py:175: UserWarning: Parameters with non-lowercase names encountered and converted to lowercase. To retain source file parameter name capitalization, set spectral.settings.envi_support_nonlowercase_params to True.\n",
      "  warnings.warn(msg)\n",
      "/home/labgroup/anaconda3/envs/test-environment/lib/python3.8/site-packages/spectral/io/envi.py:175: UserWarning: Parameters with non-lowercase names encountered and converted to lowercase. To retain source file parameter name capitalization, set spectral.settings.envi_support_nonlowercase_params to True.\n",
      "  warnings.warn(msg)\n",
      "/home/labgroup/anaconda3/envs/test-environment/lib/python3.8/site-packages/gmodetector_py/weight_array.py:30: FutureWarning: arrays to stack must be passed as a \"sequence\" type such as list or tuple. Support for non-sequence iterables such as generators is deprecated as of NumPy 1.16 and will raise an error in the future.\n",
      "  array_in_coordinate = pd.DataFrame(np.column_stack(ar.ravel() for ar in (I, J, self.weights[:, :, i])),\n",
      "/home/labgroup/anaconda3/envs/test-environment/lib/python3.8/site-packages/gmodetector_py/weight_array.py:33: FutureWarning: arrays to stack must be passed as a \"sequence\" type such as list or tuple. Support for non-sequence iterables such as generators is deprecated as of NumPy 1.16 and will raise an error in the future.\n",
      "  matrix_slice_in_triplet = np.column_stack(ar.ravel() for ar in (I, J, self.weights[:, :, i]))\n",
      "R[write to console]: Warning message:\n",
      "\n",
      "R[write to console]: package 'tools' was built under R version 3.6.1 \n",
      "\n",
      "During startup - There were 13 warnings (use warnings() to see them)\n",
      "wrappers/analyze_sample.py:188: UserWarning: Sample is not being normalized with a chroma standard.\n",
      "  warnings.warn('Sample is not being normalized with a chroma standard.')\n",
      "/home/labgroup/anaconda3/envs/test-environment/lib/python3.8/site-packages/spectral/io/envi.py:175: UserWarning: Parameters with non-lowercase names encountered and converted to lowercase. To retain source file parameter name capitalization, set spectral.settings.envi_support_nonlowercase_params to True.\n",
      "  warnings.warn(msg)\n",
      "/home/labgroup/anaconda3/envs/test-environment/lib/python3.8/site-packages/spectral/io/envi.py:175: UserWarning: Parameters with non-lowercase names encountered and converted to lowercase. To retain source file parameter name capitalization, set spectral.settings.envi_support_nonlowercase_params to True.\n",
      "  warnings.warn(msg)\n",
      "/home/labgroup/anaconda3/envs/test-environment/lib/python3.8/site-packages/gmodetector_py/weight_array.py:30: FutureWarning: arrays to stack must be passed as a \"sequence\" type such as list or tuple. Support for non-sequence iterables such as generators is deprecated as of NumPy 1.16 and will raise an error in the future.\n",
      "  array_in_coordinate = pd.DataFrame(np.column_stack(ar.ravel() for ar in (I, J, self.weights[:, :, i])),\n",
      "/home/labgroup/anaconda3/envs/test-environment/lib/python3.8/site-packages/gmodetector_py/weight_array.py:33: FutureWarning: arrays to stack must be passed as a \"sequence\" type such as list or tuple. Support for non-sequence iterables such as generators is deprecated as of NumPy 1.16 and will raise an error in the future.\n",
      "  matrix_slice_in_triplet = np.column_stack(ar.ravel() for ar in (I, J, self.weights[:, :, i]))\n",
      "R[write to console]: Warning message:\n",
      "\n",
      "R[write to console]: package 'tools' was built under R version 3.6.1 \n",
      "\n",
      "During startup - There were 13 warnings (use warnings() to see them)\n",
      "wrappers/analyze_sample.py:188: UserWarning: Sample is not being normalized with a chroma standard.\n",
      "  warnings.warn('Sample is not being normalized with a chroma standard.')\n",
      "/home/labgroup/anaconda3/envs/test-environment/lib/python3.8/site-packages/spectral/io/envi.py:175: UserWarning: Parameters with non-lowercase names encountered and converted to lowercase. To retain source file parameter name capitalization, set spectral.settings.envi_support_nonlowercase_params to True.\n",
      "  warnings.warn(msg)\n",
      "/home/labgroup/anaconda3/envs/test-environment/lib/python3.8/site-packages/spectral/io/envi.py:175: UserWarning: Parameters with non-lowercase names encountered and converted to lowercase. To retain source file parameter name capitalization, set spectral.settings.envi_support_nonlowercase_params to True.\n",
      "  warnings.warn(msg)\n",
      "/home/labgroup/anaconda3/envs/test-environment/lib/python3.8/site-packages/gmodetector_py/weight_array.py:30: FutureWarning: arrays to stack must be passed as a \"sequence\" type such as list or tuple. Support for non-sequence iterables such as generators is deprecated as of NumPy 1.16 and will raise an error in the future.\n",
      "  array_in_coordinate = pd.DataFrame(np.column_stack(ar.ravel() for ar in (I, J, self.weights[:, :, i])),\n",
      "/home/labgroup/anaconda3/envs/test-environment/lib/python3.8/site-packages/gmodetector_py/weight_array.py:33: FutureWarning: arrays to stack must be passed as a \"sequence\" type such as list or tuple. Support for non-sequence iterables such as generators is deprecated as of NumPy 1.16 and will raise an error in the future.\n",
      "  matrix_slice_in_triplet = np.column_stack(ar.ravel() for ar in (I, J, self.weights[:, :, i]))\n",
      "R[write to console]: Warning message:\n",
      "\n",
      "R[write to console]: package 'tools' was built under R version 3.6.1 \n",
      "\n",
      "During startup - There were 13 warnings (use warnings() to see them)\n",
      "wrappers/analyze_sample.py:188: UserWarning: Sample is not being normalized with a chroma standard.\n",
      "  warnings.warn('Sample is not being normalized with a chroma standard.')\n",
      "/home/labgroup/anaconda3/envs/test-environment/lib/python3.8/site-packages/spectral/io/envi.py:175: UserWarning: Parameters with non-lowercase names encountered and converted to lowercase. To retain source file parameter name capitalization, set spectral.settings.envi_support_nonlowercase_params to True.\n",
      "  warnings.warn(msg)\n",
      "/home/labgroup/anaconda3/envs/test-environment/lib/python3.8/site-packages/spectral/io/envi.py:175: UserWarning: Parameters with non-lowercase names encountered and converted to lowercase. To retain source file parameter name capitalization, set spectral.settings.envi_support_nonlowercase_params to True.\n",
      "  warnings.warn(msg)\n",
      "/home/labgroup/anaconda3/envs/test-environment/lib/python3.8/site-packages/gmodetector_py/weight_array.py:30: FutureWarning: arrays to stack must be passed as a \"sequence\" type such as list or tuple. Support for non-sequence iterables such as generators is deprecated as of NumPy 1.16 and will raise an error in the future.\n",
      "  array_in_coordinate = pd.DataFrame(np.column_stack(ar.ravel() for ar in (I, J, self.weights[:, :, i])),\n",
      "/home/labgroup/anaconda3/envs/test-environment/lib/python3.8/site-packages/gmodetector_py/weight_array.py:33: FutureWarning: arrays to stack must be passed as a \"sequence\" type such as list or tuple. Support for non-sequence iterables such as generators is deprecated as of NumPy 1.16 and will raise an error in the future.\n",
      "  matrix_slice_in_triplet = np.column_stack(ar.ravel() for ar in (I, J, self.weights[:, :, i]))\n",
      "R[write to console]: Warning message:\n",
      "\n",
      "R[write to console]: package 'tools' was built under R version 3.6.1 \n",
      "\n",
      "During startup - There were 13 warnings (use warnings() to see them)\n",
      "wrappers/analyze_sample.py:188: UserWarning: Sample is not being normalized with a chroma standard.\n",
      "  warnings.warn('Sample is not being normalized with a chroma standard.')\n",
      "/home/labgroup/anaconda3/envs/test-environment/lib/python3.8/site-packages/spectral/io/envi.py:175: UserWarning: Parameters with non-lowercase names encountered and converted to lowercase. To retain source file parameter name capitalization, set spectral.settings.envi_support_nonlowercase_params to True.\n",
      "  warnings.warn(msg)\n",
      "/home/labgroup/anaconda3/envs/test-environment/lib/python3.8/site-packages/spectral/io/envi.py:175: UserWarning: Parameters with non-lowercase names encountered and converted to lowercase. To retain source file parameter name capitalization, set spectral.settings.envi_support_nonlowercase_params to True.\n",
      "  warnings.warn(msg)\n",
      "/home/labgroup/anaconda3/envs/test-environment/lib/python3.8/site-packages/gmodetector_py/weight_array.py:30: FutureWarning: arrays to stack must be passed as a \"sequence\" type such as list or tuple. Support for non-sequence iterables such as generators is deprecated as of NumPy 1.16 and will raise an error in the future.\n",
      "  array_in_coordinate = pd.DataFrame(np.column_stack(ar.ravel() for ar in (I, J, self.weights[:, :, i])),\n",
      "/home/labgroup/anaconda3/envs/test-environment/lib/python3.8/site-packages/gmodetector_py/weight_array.py:33: FutureWarning: arrays to stack must be passed as a \"sequence\" type such as list or tuple. Support for non-sequence iterables such as generators is deprecated as of NumPy 1.16 and will raise an error in the future.\n",
      "  matrix_slice_in_triplet = np.column_stack(ar.ravel() for ar in (I, J, self.weights[:, :, i]))\n",
      "R[write to console]: Warning message:\n",
      "\n",
      "R[write to console]: package 'tools' was built under R version 3.6.1 \n",
      "\n",
      "During startup - There were 13 warnings (use warnings() to see them)\n",
      "wrappers/analyze_sample.py:188: UserWarning: Sample is not being normalized with a chroma standard.\n",
      "  warnings.warn('Sample is not being normalized with a chroma standard.')\n",
      "/home/labgroup/anaconda3/envs/test-environment/lib/python3.8/site-packages/spectral/io/envi.py:175: UserWarning: Parameters with non-lowercase names encountered and converted to lowercase. To retain source file parameter name capitalization, set spectral.settings.envi_support_nonlowercase_params to True.\n",
      "  warnings.warn(msg)\n",
      "/home/labgroup/anaconda3/envs/test-environment/lib/python3.8/site-packages/spectral/io/envi.py:175: UserWarning: Parameters with non-lowercase names encountered and converted to lowercase. To retain source file parameter name capitalization, set spectral.settings.envi_support_nonlowercase_params to True.\n",
      "  warnings.warn(msg)\n",
      "/home/labgroup/anaconda3/envs/test-environment/lib/python3.8/site-packages/gmodetector_py/weight_array.py:30: FutureWarning: arrays to stack must be passed as a \"sequence\" type such as list or tuple. Support for non-sequence iterables such as generators is deprecated as of NumPy 1.16 and will raise an error in the future.\n",
      "  array_in_coordinate = pd.DataFrame(np.column_stack(ar.ravel() for ar in (I, J, self.weights[:, :, i])),\n",
      "/home/labgroup/anaconda3/envs/test-environment/lib/python3.8/site-packages/gmodetector_py/weight_array.py:33: FutureWarning: arrays to stack must be passed as a \"sequence\" type such as list or tuple. Support for non-sequence iterables such as generators is deprecated as of NumPy 1.16 and will raise an error in the future.\n",
      "  matrix_slice_in_triplet = np.column_stack(ar.ravel() for ar in (I, J, self.weights[:, :, i]))\n",
      "R[write to console]: Warning message:\n",
      "\n",
      "R[write to console]: package 'tools' was built under R version 3.6.1 \n",
      "\n",
      "During startup - There were 13 warnings (use warnings() to see them)\n",
      "wrappers/analyze_sample.py:188: UserWarning: Sample is not being normalized with a chroma standard.\n",
      "  warnings.warn('Sample is not being normalized with a chroma standard.')\n",
      "/home/labgroup/anaconda3/envs/test-environment/lib/python3.8/site-packages/spectral/io/envi.py:175: UserWarning: Parameters with non-lowercase names encountered and converted to lowercase. To retain source file parameter name capitalization, set spectral.settings.envi_support_nonlowercase_params to True.\n",
      "  warnings.warn(msg)\n",
      "/home/labgroup/anaconda3/envs/test-environment/lib/python3.8/site-packages/spectral/io/envi.py:175: UserWarning: Parameters with non-lowercase names encountered and converted to lowercase. To retain source file parameter name capitalization, set spectral.settings.envi_support_nonlowercase_params to True.\n",
      "  warnings.warn(msg)\n",
      "/home/labgroup/anaconda3/envs/test-environment/lib/python3.8/site-packages/gmodetector_py/weight_array.py:30: FutureWarning: arrays to stack must be passed as a \"sequence\" type such as list or tuple. Support for non-sequence iterables such as generators is deprecated as of NumPy 1.16 and will raise an error in the future.\n",
      "  array_in_coordinate = pd.DataFrame(np.column_stack(ar.ravel() for ar in (I, J, self.weights[:, :, i])),\n",
      "/home/labgroup/anaconda3/envs/test-environment/lib/python3.8/site-packages/gmodetector_py/weight_array.py:33: FutureWarning: arrays to stack must be passed as a \"sequence\" type such as list or tuple. Support for non-sequence iterables such as generators is deprecated as of NumPy 1.16 and will raise an error in the future.\n",
      "  matrix_slice_in_triplet = np.column_stack(ar.ravel() for ar in (I, J, self.weights[:, :, i]))\n",
      "R[write to console]: Warning message:\n",
      "\n",
      "R[write to console]: package 'tools' was built under R version 3.6.1 \n",
      "\n",
      "During startup - There were 13 warnings (use warnings() to see them)\n",
      "wrappers/analyze_sample.py:188: UserWarning: Sample is not being normalized with a chroma standard.\n",
      "  warnings.warn('Sample is not being normalized with a chroma standard.')\n",
      "/home/labgroup/anaconda3/envs/test-environment/lib/python3.8/site-packages/spectral/io/envi.py:175: UserWarning: Parameters with non-lowercase names encountered and converted to lowercase. To retain source file parameter name capitalization, set spectral.settings.envi_support_nonlowercase_params to True.\n",
      "  warnings.warn(msg)\n",
      "/home/labgroup/anaconda3/envs/test-environment/lib/python3.8/site-packages/spectral/io/envi.py:175: UserWarning: Parameters with non-lowercase names encountered and converted to lowercase. To retain source file parameter name capitalization, set spectral.settings.envi_support_nonlowercase_params to True.\n",
      "  warnings.warn(msg)\n",
      "/home/labgroup/anaconda3/envs/test-environment/lib/python3.8/site-packages/gmodetector_py/weight_array.py:30: FutureWarning: arrays to stack must be passed as a \"sequence\" type such as list or tuple. Support for non-sequence iterables such as generators is deprecated as of NumPy 1.16 and will raise an error in the future.\n",
      "  array_in_coordinate = pd.DataFrame(np.column_stack(ar.ravel() for ar in (I, J, self.weights[:, :, i])),\n",
      "/home/labgroup/anaconda3/envs/test-environment/lib/python3.8/site-packages/gmodetector_py/weight_array.py:33: FutureWarning: arrays to stack must be passed as a \"sequence\" type such as list or tuple. Support for non-sequence iterables such as generators is deprecated as of NumPy 1.16 and will raise an error in the future.\n",
      "  matrix_slice_in_triplet = np.column_stack(ar.ravel() for ar in (I, J, self.weights[:, :, i]))\n",
      "R[write to console]: Warning message:\n",
      "\n",
      "R[write to console]: package 'tools' was built under R version 3.6.1 \n",
      "\n",
      "During startup - There were 13 warnings (use warnings() to see them)\n",
      "wrappers/analyze_sample.py:188: UserWarning: Sample is not being normalized with a chroma standard.\n",
      "  warnings.warn('Sample is not being normalized with a chroma standard.')\n",
      "/home/labgroup/anaconda3/envs/test-environment/lib/python3.8/site-packages/spectral/io/envi.py:175: UserWarning: Parameters with non-lowercase names encountered and converted to lowercase. To retain source file parameter name capitalization, set spectral.settings.envi_support_nonlowercase_params to True.\n",
      "  warnings.warn(msg)\n",
      "/home/labgroup/anaconda3/envs/test-environment/lib/python3.8/site-packages/spectral/io/envi.py:175: UserWarning: Parameters with non-lowercase names encountered and converted to lowercase. To retain source file parameter name capitalization, set spectral.settings.envi_support_nonlowercase_params to True.\n",
      "  warnings.warn(msg)\n",
      "/home/labgroup/anaconda3/envs/test-environment/lib/python3.8/site-packages/gmodetector_py/weight_array.py:30: FutureWarning: arrays to stack must be passed as a \"sequence\" type such as list or tuple. Support for non-sequence iterables such as generators is deprecated as of NumPy 1.16 and will raise an error in the future.\n",
      "  array_in_coordinate = pd.DataFrame(np.column_stack(ar.ravel() for ar in (I, J, self.weights[:, :, i])),\n",
      "/home/labgroup/anaconda3/envs/test-environment/lib/python3.8/site-packages/gmodetector_py/weight_array.py:33: FutureWarning: arrays to stack must be passed as a \"sequence\" type such as list or tuple. Support for non-sequence iterables such as generators is deprecated as of NumPy 1.16 and will raise an error in the future.\n",
      "  matrix_slice_in_triplet = np.column_stack(ar.ravel() for ar in (I, J, self.weights[:, :, i]))\n",
      "R[write to console]: Warning message:\n",
      "\n",
      "R[write to console]: package 'tools' was built under R version 3.6.1 \n",
      "\n",
      "During startup - There were 13 warnings (use warnings() to see them)\n",
      "wrappers/analyze_sample.py:188: UserWarning: Sample is not being normalized with a chroma standard.\n",
      "  warnings.warn('Sample is not being normalized with a chroma standard.')\n",
      "/home/labgroup/anaconda3/envs/test-environment/lib/python3.8/site-packages/spectral/io/envi.py:175: UserWarning: Parameters with non-lowercase names encountered and converted to lowercase. To retain source file parameter name capitalization, set spectral.settings.envi_support_nonlowercase_params to True.\n",
      "  warnings.warn(msg)\n",
      "/home/labgroup/anaconda3/envs/test-environment/lib/python3.8/site-packages/spectral/io/envi.py:175: UserWarning: Parameters with non-lowercase names encountered and converted to lowercase. To retain source file parameter name capitalization, set spectral.settings.envi_support_nonlowercase_params to True.\n",
      "  warnings.warn(msg)\n",
      "/home/labgroup/anaconda3/envs/test-environment/lib/python3.8/site-packages/gmodetector_py/weight_array.py:30: FutureWarning: arrays to stack must be passed as a \"sequence\" type such as list or tuple. Support for non-sequence iterables such as generators is deprecated as of NumPy 1.16 and will raise an error in the future.\n",
      "  array_in_coordinate = pd.DataFrame(np.column_stack(ar.ravel() for ar in (I, J, self.weights[:, :, i])),\n",
      "/home/labgroup/anaconda3/envs/test-environment/lib/python3.8/site-packages/gmodetector_py/weight_array.py:33: FutureWarning: arrays to stack must be passed as a \"sequence\" type such as list or tuple. Support for non-sequence iterables such as generators is deprecated as of NumPy 1.16 and will raise an error in the future.\n",
      "  matrix_slice_in_triplet = np.column_stack(ar.ravel() for ar in (I, J, self.weights[:, :, i]))\n",
      "R[write to console]: Warning message:\n",
      "\n",
      "R[write to console]: package 'tools' was built under R version 3.6.1 \n",
      "\n",
      "During startup - There were 13 warnings (use warnings() to see them)\n",
      "wrappers/analyze_sample.py:188: UserWarning: Sample is not being normalized with a chroma standard.\n",
      "  warnings.warn('Sample is not being normalized with a chroma standard.')\n",
      "/home/labgroup/anaconda3/envs/test-environment/lib/python3.8/site-packages/spectral/io/envi.py:175: UserWarning: Parameters with non-lowercase names encountered and converted to lowercase. To retain source file parameter name capitalization, set spectral.settings.envi_support_nonlowercase_params to True.\n",
      "  warnings.warn(msg)\n",
      "/home/labgroup/anaconda3/envs/test-environment/lib/python3.8/site-packages/spectral/io/envi.py:175: UserWarning: Parameters with non-lowercase names encountered and converted to lowercase. To retain source file parameter name capitalization, set spectral.settings.envi_support_nonlowercase_params to True.\n",
      "  warnings.warn(msg)\n",
      "/home/labgroup/anaconda3/envs/test-environment/lib/python3.8/site-packages/gmodetector_py/weight_array.py:30: FutureWarning: arrays to stack must be passed as a \"sequence\" type such as list or tuple. Support for non-sequence iterables such as generators is deprecated as of NumPy 1.16 and will raise an error in the future.\n",
      "  array_in_coordinate = pd.DataFrame(np.column_stack(ar.ravel() for ar in (I, J, self.weights[:, :, i])),\n",
      "/home/labgroup/anaconda3/envs/test-environment/lib/python3.8/site-packages/gmodetector_py/weight_array.py:33: FutureWarning: arrays to stack must be passed as a \"sequence\" type such as list or tuple. Support for non-sequence iterables such as generators is deprecated as of NumPy 1.16 and will raise an error in the future.\n",
      "  matrix_slice_in_triplet = np.column_stack(ar.ravel() for ar in (I, J, self.weights[:, :, i]))\n",
      "R[write to console]: Warning message:\n",
      "\n",
      "R[write to console]: package 'tools' was built under R version 3.6.1 \n",
      "\n",
      "During startup - There were 13 warnings (use warnings() to see them)\n",
      "wrappers/analyze_sample.py:188: UserWarning: Sample is not being normalized with a chroma standard.\n",
      "  warnings.warn('Sample is not being normalized with a chroma standard.')\n",
      "/home/labgroup/anaconda3/envs/test-environment/lib/python3.8/site-packages/spectral/io/envi.py:175: UserWarning: Parameters with non-lowercase names encountered and converted to lowercase. To retain source file parameter name capitalization, set spectral.settings.envi_support_nonlowercase_params to True.\n",
      "  warnings.warn(msg)\n",
      "/home/labgroup/anaconda3/envs/test-environment/lib/python3.8/site-packages/spectral/io/envi.py:175: UserWarning: Parameters with non-lowercase names encountered and converted to lowercase. To retain source file parameter name capitalization, set spectral.settings.envi_support_nonlowercase_params to True.\n",
      "  warnings.warn(msg)\n",
      "/home/labgroup/anaconda3/envs/test-environment/lib/python3.8/site-packages/gmodetector_py/weight_array.py:30: FutureWarning: arrays to stack must be passed as a \"sequence\" type such as list or tuple. Support for non-sequence iterables such as generators is deprecated as of NumPy 1.16 and will raise an error in the future.\n",
      "  array_in_coordinate = pd.DataFrame(np.column_stack(ar.ravel() for ar in (I, J, self.weights[:, :, i])),\n",
      "/home/labgroup/anaconda3/envs/test-environment/lib/python3.8/site-packages/gmodetector_py/weight_array.py:33: FutureWarning: arrays to stack must be passed as a \"sequence\" type such as list or tuple. Support for non-sequence iterables such as generators is deprecated as of NumPy 1.16 and will raise an error in the future.\n",
      "  matrix_slice_in_triplet = np.column_stack(ar.ravel() for ar in (I, J, self.weights[:, :, i]))\n",
      "R[write to console]: Warning message:\n",
      "\n",
      "R[write to console]: package 'tools' was built under R version 3.6.1 \n",
      "\n",
      "During startup - There were 13 warnings (use warnings() to see them)\n",
      "wrappers/analyze_sample.py:188: UserWarning: Sample is not being normalized with a chroma standard.\n",
      "  warnings.warn('Sample is not being normalized with a chroma standard.')\n",
      "/home/labgroup/anaconda3/envs/test-environment/lib/python3.8/site-packages/spectral/io/envi.py:175: UserWarning: Parameters with non-lowercase names encountered and converted to lowercase. To retain source file parameter name capitalization, set spectral.settings.envi_support_nonlowercase_params to True.\n",
      "  warnings.warn(msg)\n",
      "/home/labgroup/anaconda3/envs/test-environment/lib/python3.8/site-packages/spectral/io/envi.py:175: UserWarning: Parameters with non-lowercase names encountered and converted to lowercase. To retain source file parameter name capitalization, set spectral.settings.envi_support_nonlowercase_params to True.\n",
      "  warnings.warn(msg)\n",
      "/home/labgroup/anaconda3/envs/test-environment/lib/python3.8/site-packages/gmodetector_py/weight_array.py:30: FutureWarning: arrays to stack must be passed as a \"sequence\" type such as list or tuple. Support for non-sequence iterables such as generators is deprecated as of NumPy 1.16 and will raise an error in the future.\n",
      "  array_in_coordinate = pd.DataFrame(np.column_stack(ar.ravel() for ar in (I, J, self.weights[:, :, i])),\n",
      "/home/labgroup/anaconda3/envs/test-environment/lib/python3.8/site-packages/gmodetector_py/weight_array.py:33: FutureWarning: arrays to stack must be passed as a \"sequence\" type such as list or tuple. Support for non-sequence iterables such as generators is deprecated as of NumPy 1.16 and will raise an error in the future.\n",
      "  matrix_slice_in_triplet = np.column_stack(ar.ravel() for ar in (I, J, self.weights[:, :, i]))\n",
      "R[write to console]: Warning message:\n",
      "\n",
      "R[write to console]: package 'tools' was built under R version 3.6.1 \n",
      "\n",
      "During startup - There were 13 warnings (use warnings() to see them)\n",
      "wrappers/analyze_sample.py:188: UserWarning: Sample is not being normalized with a chroma standard.\n",
      "  warnings.warn('Sample is not being normalized with a chroma standard.')\n",
      "/home/labgroup/anaconda3/envs/test-environment/lib/python3.8/site-packages/spectral/io/envi.py:175: UserWarning: Parameters with non-lowercase names encountered and converted to lowercase. To retain source file parameter name capitalization, set spectral.settings.envi_support_nonlowercase_params to True.\n",
      "  warnings.warn(msg)\n",
      "/home/labgroup/anaconda3/envs/test-environment/lib/python3.8/site-packages/spectral/io/envi.py:175: UserWarning: Parameters with non-lowercase names encountered and converted to lowercase. To retain source file parameter name capitalization, set spectral.settings.envi_support_nonlowercase_params to True.\n",
      "  warnings.warn(msg)\n",
      "/home/labgroup/anaconda3/envs/test-environment/lib/python3.8/site-packages/gmodetector_py/weight_array.py:30: FutureWarning: arrays to stack must be passed as a \"sequence\" type such as list or tuple. Support for non-sequence iterables such as generators is deprecated as of NumPy 1.16 and will raise an error in the future.\n",
      "  array_in_coordinate = pd.DataFrame(np.column_stack(ar.ravel() for ar in (I, J, self.weights[:, :, i])),\n",
      "/home/labgroup/anaconda3/envs/test-environment/lib/python3.8/site-packages/gmodetector_py/weight_array.py:33: FutureWarning: arrays to stack must be passed as a \"sequence\" type such as list or tuple. Support for non-sequence iterables such as generators is deprecated as of NumPy 1.16 and will raise an error in the future.\n",
      "  matrix_slice_in_triplet = np.column_stack(ar.ravel() for ar in (I, J, self.weights[:, :, i]))\n",
      "R[write to console]: Warning message:\n",
      "\n",
      "R[write to console]: package 'tools' was built under R version 3.6.1 \n",
      "\n",
      "During startup - There were 13 warnings (use warnings() to see them)\n",
      "wrappers/analyze_sample.py:188: UserWarning: Sample is not being normalized with a chroma standard.\n",
      "  warnings.warn('Sample is not being normalized with a chroma standard.')\n",
      "/home/labgroup/anaconda3/envs/test-environment/lib/python3.8/site-packages/spectral/io/envi.py:175: UserWarning: Parameters with non-lowercase names encountered and converted to lowercase. To retain source file parameter name capitalization, set spectral.settings.envi_support_nonlowercase_params to True.\n",
      "  warnings.warn(msg)\n",
      "/home/labgroup/anaconda3/envs/test-environment/lib/python3.8/site-packages/spectral/io/envi.py:175: UserWarning: Parameters with non-lowercase names encountered and converted to lowercase. To retain source file parameter name capitalization, set spectral.settings.envi_support_nonlowercase_params to True.\n",
      "  warnings.warn(msg)\n",
      "/home/labgroup/anaconda3/envs/test-environment/lib/python3.8/site-packages/gmodetector_py/weight_array.py:30: FutureWarning: arrays to stack must be passed as a \"sequence\" type such as list or tuple. Support for non-sequence iterables such as generators is deprecated as of NumPy 1.16 and will raise an error in the future.\n",
      "  array_in_coordinate = pd.DataFrame(np.column_stack(ar.ravel() for ar in (I, J, self.weights[:, :, i])),\n",
      "/home/labgroup/anaconda3/envs/test-environment/lib/python3.8/site-packages/gmodetector_py/weight_array.py:33: FutureWarning: arrays to stack must be passed as a \"sequence\" type such as list or tuple. Support for non-sequence iterables such as generators is deprecated as of NumPy 1.16 and will raise an error in the future.\n",
      "  matrix_slice_in_triplet = np.column_stack(ar.ravel() for ar in (I, J, self.weights[:, :, i]))\n",
      "R[write to console]: Warning message:\n",
      "\n",
      "R[write to console]: package 'tools' was built under R version 3.6.1 \n",
      "\n",
      "During startup - There were 13 warnings (use warnings() to see them)\n",
      "wrappers/analyze_sample.py:188: UserWarning: Sample is not being normalized with a chroma standard.\n",
      "  warnings.warn('Sample is not being normalized with a chroma standard.')\n",
      "/home/labgroup/anaconda3/envs/test-environment/lib/python3.8/site-packages/spectral/io/envi.py:175: UserWarning: Parameters with non-lowercase names encountered and converted to lowercase. To retain source file parameter name capitalization, set spectral.settings.envi_support_nonlowercase_params to True.\n",
      "  warnings.warn(msg)\n",
      "/home/labgroup/anaconda3/envs/test-environment/lib/python3.8/site-packages/spectral/io/envi.py:175: UserWarning: Parameters with non-lowercase names encountered and converted to lowercase. To retain source file parameter name capitalization, set spectral.settings.envi_support_nonlowercase_params to True.\n",
      "  warnings.warn(msg)\n",
      "/home/labgroup/anaconda3/envs/test-environment/lib/python3.8/site-packages/gmodetector_py/weight_array.py:30: FutureWarning: arrays to stack must be passed as a \"sequence\" type such as list or tuple. Support for non-sequence iterables such as generators is deprecated as of NumPy 1.16 and will raise an error in the future.\n",
      "  array_in_coordinate = pd.DataFrame(np.column_stack(ar.ravel() for ar in (I, J, self.weights[:, :, i])),\n",
      "/home/labgroup/anaconda3/envs/test-environment/lib/python3.8/site-packages/gmodetector_py/weight_array.py:33: FutureWarning: arrays to stack must be passed as a \"sequence\" type such as list or tuple. Support for non-sequence iterables such as generators is deprecated as of NumPy 1.16 and will raise an error in the future.\n",
      "  matrix_slice_in_triplet = np.column_stack(ar.ravel() for ar in (I, J, self.weights[:, :, i]))\n",
      "R[write to console]: Warning message:\n",
      "\n",
      "R[write to console]: package 'tools' was built under R version 3.6.1 \n",
      "\n",
      "(test-environment) (test-environment) (base) "
     ]
    }
   ],
   "source": [
    "conda activate test-environment\n",
    "\n",
    "if [ $parallel -eq 1 ]\n",
    "then\n",
    "    parallel -a $job_list_name >> $data/log_gmodetector.txt\n",
    "fi\n",
    "\n",
    "if [ $parallel -eq 0 ]\n",
    "then\n",
    "    bash $job_list_name >> $data/log_gmodetector.txt\n",
    "fi\n",
    "\n",
    "conda deactivate\n",
    "conda deactivate"
   ]
  },
  {
   "cell_type": "markdown",
   "metadata": {},
   "source": [
    "Time regression completes:"
   ]
  },
  {
   "cell_type": "code",
   "execution_count": 37,
   "metadata": {},
   "outputs": [
    {
     "name": "stdout",
     "output_type": "stream",
     "text": [
      "Thu Feb 25 02:57:27 PST 2021\n"
     ]
    }
   ],
   "source": [
    "echo $(date)"
   ]
  },
  {
   "cell_type": "markdown",
   "metadata": {},
   "source": [
    "## Neural networks to segment tissues, classify missing/contaminated explants"
   ]
  },
  {
   "cell_type": "markdown",
   "metadata": {},
   "source": [
    "### Semantic segmentation of tissues"
   ]
  },
  {
   "cell_type": "markdown",
   "metadata": {},
   "source": [
    "Images are segmented into specific plant tissues by a deep neural network of the state-of-the-art Deeplab v3 architecture <a href=\"https://arxiv.org/abs/1706.05587\" target=\"_blank\">Liang-Chieh et al., 2017</a>. The model has been trained using training sets generated with our annotation GUI Intelligent DEep Annotator for Segmentation (IDEAS, available on <a href=\"https://bitbucket.org/JialinYuan/image-annotator/src/master/\" target=\"_blank\">Bitbucket</a>, publication pending). Our branch of the Deeplab v3 repo, including a Jupyter walkthrough for training, can be found on Github."
   ]
  },
  {
   "cell_type": "markdown",
   "metadata": {},
   "source": [
    "Training is completed upstream of this notebook, which only entails analysis of test data using the latest model."
   ]
  },
  {
   "cell_type": "markdown",
   "metadata": {},
   "source": [
    "<img src=\"Figures/downsized/segmentation_composite2.png\">"
   ]
  },
  {
   "cell_type": "markdown",
   "metadata": {},
   "source": [
    "Figure: This example image was taken from an experiment on the effects of different CIMs on cottonwood regeneration. This composite image illustrates that for every sample, tissues are segmented into stem (red), callus (blue) and shoot (green). These composite images, useful for manual inspection of results, are produced when the 'composite' option is on."
   ]
  },
  {
   "cell_type": "markdown",
   "metadata": {},
   "source": [
    "#### Pre-processing\n",
    "##### Normalize orientation"
   ]
  },
  {
   "cell_type": "markdown",
   "metadata": {},
   "source": [
    "We desire for images to all be in the same orientation. At one point, the camera on the *macroPhor Array* was set to automatically detect orientation, which led to images randomly being in portrait or landscape. Here we will standardize the orientation."
   ]
  },
  {
   "cell_type": "code",
   "execution_count": 38,
   "metadata": {
    "collapsed": true,
    "jupyter": {
     "outputs_hidden": true
    }
   },
   "outputs": [
    {
     "name": "stdout",
     "output_type": "stream",
     "text": [
      "(alignment) perl: warning: Setting locale failed.\n",
      "perl: warning: Please check that your locale settings:\n",
      "\tLANGUAGE = \"en.UTF-8\",\n",
      "\tLC_ALL = (unset),\n",
      "\tLANG = \"en.UTF-8\"\n",
      "    are supported and installed on your system.\n",
      "perl: warning: Falling back to the standard locale (\"C\").\n",
      "    1 image files updated\n",
      "perl: warning: Setting locale failed.\n",
      "perl: warning: Please check that your locale settings:\n",
      "\tLANGUAGE = \"en.UTF-8\",\n",
      "\tLC_ALL = (unset),\n",
      "\tLANG = \"en.UTF-8\"\n",
      "    are supported and installed on your system.\n",
      "perl: warning: Falling back to the standard locale (\"C\").\n",
      "    1 image files updated\n",
      "perl: warning: Setting locale failed.\n",
      "perl: warning: Please check that your locale settings:\n",
      "\tLANGUAGE = \"en.UTF-8\",\n",
      "\tLC_ALL = (unset),\n",
      "\tLANG = \"en.UTF-8\"\n",
      "    are supported and installed on your system.\n",
      "perl: warning: Falling back to the standard locale (\"C\").\n",
      "    1 image files updated\n",
      "perl: warning: Setting locale failed.\n",
      "perl: warning: Please check that your locale settings:\n",
      "\tLANGUAGE = \"en.UTF-8\",\n",
      "\tLC_ALL = (unset),\n",
      "\tLANG = \"en.UTF-8\"\n",
      "    are supported and installed on your system.\n",
      "perl: warning: Falling back to the standard locale (\"C\").\n",
      "    1 image files updated\n",
      "perl: warning: Setting locale failed.\n",
      "perl: warning: Please check that your locale settings:\n",
      "\tLANGUAGE = \"en.UTF-8\",\n",
      "\tLC_ALL = (unset),\n",
      "\tLANG = \"en.UTF-8\"\n",
      "    are supported and installed on your system.\n",
      "perl: warning: Falling back to the standard locale (\"C\").\n",
      "    1 image files updated\n",
      "perl: warning: Setting locale failed.\n",
      "perl: warning: Please check that your locale settings:\n",
      "\tLANGUAGE = \"en.UTF-8\",\n",
      "\tLC_ALL = (unset),\n",
      "\tLANG = \"en.UTF-8\"\n",
      "    are supported and installed on your system.\n",
      "perl: warning: Falling back to the standard locale (\"C\").\n",
      "    1 image files updated\n",
      "perl: warning: Setting locale failed.\n",
      "perl: warning: Please check that your locale settings:\n",
      "\tLANGUAGE = \"en.UTF-8\",\n",
      "\tLC_ALL = (unset),\n",
      "\tLANG = \"en.UTF-8\"\n",
      "    are supported and installed on your system.\n",
      "perl: warning: Falling back to the standard locale (\"C\").\n",
      "    1 image files updated\n",
      "perl: warning: Setting locale failed.\n",
      "perl: warning: Please check that your locale settings:\n",
      "\tLANGUAGE = \"en.UTF-8\",\n",
      "\tLC_ALL = (unset),\n",
      "\tLANG = \"en.UTF-8\"\n",
      "    are supported and installed on your system.\n",
      "perl: warning: Falling back to the standard locale (\"C\").\n",
      "    1 image files updated\n",
      "perl: warning: Setting locale failed.\n",
      "perl: warning: Please check that your locale settings:\n",
      "\tLANGUAGE = \"en.UTF-8\",\n",
      "\tLC_ALL = (unset),\n",
      "\tLANG = \"en.UTF-8\"\n",
      "    are supported and installed on your system.\n",
      "perl: warning: Falling back to the standard locale (\"C\").\n",
      "    1 image files updated\n",
      "perl: warning: Setting locale failed.\n",
      "perl: warning: Please check that your locale settings:\n",
      "\tLANGUAGE = \"en.UTF-8\",\n",
      "\tLC_ALL = (unset),\n",
      "\tLANG = \"en.UTF-8\"\n",
      "    are supported and installed on your system.\n",
      "perl: warning: Falling back to the standard locale (\"C\").\n",
      "    1 image files updated\n",
      "perl: warning: Setting locale failed.\n",
      "perl: warning: Please check that your locale settings:\n",
      "\tLANGUAGE = \"en.UTF-8\",\n",
      "\tLC_ALL = (unset),\n",
      "\tLANG = \"en.UTF-8\"\n",
      "    are supported and installed on your system.\n",
      "perl: warning: Falling back to the standard locale (\"C\").\n",
      "    1 image files updated\n",
      "perl: warning: Setting locale failed.\n",
      "perl: warning: Please check that your locale settings:\n",
      "\tLANGUAGE = \"en.UTF-8\",\n",
      "\tLC_ALL = (unset),\n",
      "\tLANG = \"en.UTF-8\"\n",
      "    are supported and installed on your system.\n",
      "perl: warning: Falling back to the standard locale (\"C\").\n",
      "    1 image files updated\n",
      "perl: warning: Setting locale failed.\n",
      "perl: warning: Please check that your locale settings:\n",
      "\tLANGUAGE = \"en.UTF-8\",\n",
      "\tLC_ALL = (unset),\n",
      "\tLANG = \"en.UTF-8\"\n",
      "    are supported and installed on your system.\n",
      "perl: warning: Falling back to the standard locale (\"C\").\n",
      "    1 image files updated\n",
      "perl: warning: Setting locale failed.\n",
      "perl: warning: Please check that your locale settings:\n",
      "\tLANGUAGE = \"en.UTF-8\",\n",
      "\tLC_ALL = (unset),\n",
      "\tLANG = \"en.UTF-8\"\n",
      "    are supported and installed on your system.\n",
      "perl: warning: Falling back to the standard locale (\"C\").\n",
      "    1 image files updated\n",
      "perl: warning: Setting locale failed.\n",
      "perl: warning: Please check that your locale settings:\n",
      "\tLANGUAGE = \"en.UTF-8\",\n",
      "\tLC_ALL = (unset),\n",
      "\tLANG = \"en.UTF-8\"\n",
      "    are supported and installed on your system.\n",
      "perl: warning: Falling back to the standard locale (\"C\").\n",
      "    1 image files updated\n",
      "perl: warning: Setting locale failed.\n",
      "perl: warning: Please check that your locale settings:\n",
      "\tLANGUAGE = \"en.UTF-8\",\n",
      "\tLC_ALL = (unset),\n",
      "\tLANG = \"en.UTF-8\"\n",
      "    are supported and installed on your system.\n",
      "perl: warning: Falling back to the standard locale (\"C\").\n",
      "    1 image files updated\n",
      "perl: warning: Setting locale failed.\n",
      "perl: warning: Please check that your locale settings:\n",
      "\tLANGUAGE = \"en.UTF-8\",\n",
      "\tLC_ALL = (unset),\n",
      "\tLANG = \"en.UTF-8\"\n",
      "    are supported and installed on your system.\n",
      "perl: warning: Falling back to the standard locale (\"C\").\n",
      "    1 image files updated\n",
      "perl: warning: Setting locale failed.\n",
      "perl: warning: Please check that your locale settings:\n",
      "\tLANGUAGE = \"en.UTF-8\",\n",
      "\tLC_ALL = (unset),\n",
      "\tLANG = \"en.UTF-8\"\n",
      "    are supported and installed on your system.\n",
      "perl: warning: Falling back to the standard locale (\"C\").\n",
      "    1 image files updated\n",
      "perl: warning: Setting locale failed.\n",
      "perl: warning: Please check that your locale settings:\n",
      "\tLANGUAGE = \"en.UTF-8\",\n",
      "\tLC_ALL = (unset),\n",
      "\tLANG = \"en.UTF-8\"\n",
      "    are supported and installed on your system.\n",
      "perl: warning: Falling back to the standard locale (\"C\").\n",
      "    1 image files updated\n",
      "perl: warning: Setting locale failed.\n",
      "perl: warning: Please check that your locale settings:\n",
      "\tLANGUAGE = \"en.UTF-8\",\n",
      "\tLC_ALL = (unset),\n",
      "\tLANG = \"en.UTF-8\"\n",
      "    are supported and installed on your system.\n",
      "perl: warning: Falling back to the standard locale (\"C\").\n",
      "    1 image files updated\n",
      "perl: warning: Setting locale failed.\n",
      "perl: warning: Please check that your locale settings:\n",
      "\tLANGUAGE = \"en.UTF-8\",\n",
      "\tLC_ALL = (unset),\n",
      "\tLANG = \"en.UTF-8\"\n",
      "    are supported and installed on your system.\n",
      "perl: warning: Falling back to the standard locale (\"C\").\n",
      "    1 image files updated\n",
      "perl: warning: Setting locale failed.\n",
      "perl: warning: Please check that your locale settings:\n",
      "\tLANGUAGE = \"en.UTF-8\",\n",
      "\tLC_ALL = (unset),\n",
      "\tLANG = \"en.UTF-8\"\n",
      "    are supported and installed on your system.\n",
      "perl: warning: Falling back to the standard locale (\"C\").\n",
      "    1 image files updated\n",
      "perl: warning: Setting locale failed.\n",
      "perl: warning: Please check that your locale settings:\n",
      "\tLANGUAGE = \"en.UTF-8\",\n",
      "\tLC_ALL = (unset),\n",
      "\tLANG = \"en.UTF-8\"\n",
      "    are supported and installed on your system.\n",
      "perl: warning: Falling back to the standard locale (\"C\").\n",
      "    1 image files updated\n",
      "perl: warning: Setting locale failed.\n",
      "perl: warning: Please check that your locale settings:\n",
      "\tLANGUAGE = \"en.UTF-8\",\n",
      "\tLC_ALL = (unset),\n",
      "\tLANG = \"en.UTF-8\"\n",
      "    are supported and installed on your system.\n",
      "perl: warning: Falling back to the standard locale (\"C\").\n",
      "    1 image files updated\n",
      "perl: warning: Setting locale failed.\n",
      "perl: warning: Please check that your locale settings:\n",
      "\tLANGUAGE = \"en.UTF-8\",\n",
      "\tLC_ALL = (unset),\n",
      "\tLANG = \"en.UTF-8\"\n",
      "    are supported and installed on your system.\n",
      "perl: warning: Falling back to the standard locale (\"C\").\n",
      "    1 image files updated\n",
      "perl: warning: Setting locale failed.\n",
      "perl: warning: Please check that your locale settings:\n",
      "\tLANGUAGE = \"en.UTF-8\",\n",
      "\tLC_ALL = (unset),\n",
      "\tLANG = \"en.UTF-8\"\n",
      "    are supported and installed on your system.\n",
      "perl: warning: Falling back to the standard locale (\"C\").\n",
      "    1 image files updated\n",
      "perl: warning: Setting locale failed.\n",
      "perl: warning: Please check that your locale settings:\n",
      "\tLANGUAGE = \"en.UTF-8\",\n",
      "\tLC_ALL = (unset),\n",
      "\tLANG = \"en.UTF-8\"\n",
      "    are supported and installed on your system.\n",
      "perl: warning: Falling back to the standard locale (\"C\").\n",
      "    1 image files updated\n",
      "perl: warning: Setting locale failed.\n",
      "perl: warning: Please check that your locale settings:\n",
      "\tLANGUAGE = \"en.UTF-8\",\n",
      "\tLC_ALL = (unset),\n",
      "\tLANG = \"en.UTF-8\"\n",
      "    are supported and installed on your system.\n",
      "perl: warning: Falling back to the standard locale (\"C\").\n",
      "    1 image files updated\n",
      "perl: warning: Setting locale failed.\n",
      "perl: warning: Please check that your locale settings:\n",
      "\tLANGUAGE = \"en.UTF-8\",\n",
      "\tLC_ALL = (unset),\n",
      "\tLANG = \"en.UTF-8\"\n",
      "    are supported and installed on your system.\n",
      "perl: warning: Falling back to the standard locale (\"C\").\n",
      "    1 image files updated\n",
      "perl: warning: Setting locale failed.\n",
      "perl: warning: Please check that your locale settings:\n",
      "\tLANGUAGE = \"en.UTF-8\",\n",
      "\tLC_ALL = (unset),\n",
      "\tLANG = \"en.UTF-8\"\n",
      "    are supported and installed on your system.\n",
      "perl: warning: Falling back to the standard locale (\"C\").\n",
      "    1 image files updated\n",
      "perl: warning: Setting locale failed.\n",
      "perl: warning: Please check that your locale settings:\n",
      "\tLANGUAGE = \"en.UTF-8\",\n",
      "\tLC_ALL = (unset),\n",
      "\tLANG = \"en.UTF-8\"\n",
      "    are supported and installed on your system.\n",
      "perl: warning: Falling back to the standard locale (\"C\").\n",
      "    1 image files updated\n",
      "perl: warning: Setting locale failed.\n",
      "perl: warning: Please check that your locale settings:\n",
      "\tLANGUAGE = \"en.UTF-8\",\n",
      "\tLC_ALL = (unset),\n",
      "\tLANG = \"en.UTF-8\"\n",
      "    are supported and installed on your system.\n",
      "perl: warning: Falling back to the standard locale (\"C\").\n",
      "    1 image files updated\n",
      "perl: warning: Setting locale failed.\n",
      "perl: warning: Please check that your locale settings:\n",
      "\tLANGUAGE = \"en.UTF-8\",\n",
      "\tLC_ALL = (unset),\n",
      "\tLANG = \"en.UTF-8\"\n",
      "    are supported and installed on your system.\n",
      "perl: warning: Falling back to the standard locale (\"C\").\n",
      "    1 image files updated\n",
      "perl: warning: Setting locale failed.\n",
      "perl: warning: Please check that your locale settings:\n",
      "\tLANGUAGE = \"en.UTF-8\",\n",
      "\tLC_ALL = (unset),\n",
      "\tLANG = \"en.UTF-8\"\n",
      "    are supported and installed on your system.\n",
      "perl: warning: Falling back to the standard locale (\"C\").\n",
      "    1 image files updated\n",
      "perl: warning: Setting locale failed.\n",
      "perl: warning: Please check that your locale settings:\n",
      "\tLANGUAGE = \"en.UTF-8\",\n",
      "\tLC_ALL = (unset),\n",
      "\tLANG = \"en.UTF-8\"\n",
      "    are supported and installed on your system.\n",
      "perl: warning: Falling back to the standard locale (\"C\").\n",
      "    1 image files updated\n",
      "perl: warning: Setting locale failed.\n",
      "perl: warning: Please check that your locale settings:\n",
      "\tLANGUAGE = \"en.UTF-8\",\n",
      "\tLC_ALL = (unset),\n",
      "\tLANG = \"en.UTF-8\"\n",
      "    are supported and installed on your system.\n",
      "perl: warning: Falling back to the standard locale (\"C\").\n",
      "    1 image files updated\n",
      "perl: warning: Setting locale failed.\n",
      "perl: warning: Please check that your locale settings:\n",
      "\tLANGUAGE = \"en.UTF-8\",\n",
      "\tLC_ALL = (unset),\n",
      "\tLANG = \"en.UTF-8\"\n",
      "    are supported and installed on your system.\n",
      "perl: warning: Falling back to the standard locale (\"C\").\n",
      "    1 image files updated\n",
      "perl: warning: Setting locale failed.\n",
      "perl: warning: Please check that your locale settings:\n",
      "\tLANGUAGE = \"en.UTF-8\",\n",
      "\tLC_ALL = (unset),\n",
      "\tLANG = \"en.UTF-8\"\n",
      "    are supported and installed on your system.\n",
      "perl: warning: Falling back to the standard locale (\"C\").\n",
      "    1 image files updated\n",
      "perl: warning: Setting locale failed.\n",
      "perl: warning: Please check that your locale settings:\n",
      "\tLANGUAGE = \"en.UTF-8\",\n",
      "\tLC_ALL = (unset),\n",
      "\tLANG = \"en.UTF-8\"\n",
      "    are supported and installed on your system.\n",
      "perl: warning: Falling back to the standard locale (\"C\").\n",
      "    1 image files updated\n",
      "perl: warning: Setting locale failed.\n",
      "perl: warning: Please check that your locale settings:\n",
      "\tLANGUAGE = \"en.UTF-8\",\n",
      "\tLC_ALL = (unset),\n",
      "\tLANG = \"en.UTF-8\"\n",
      "    are supported and installed on your system.\n",
      "perl: warning: Falling back to the standard locale (\"C\").\n",
      "    1 image files updated\n",
      "perl: warning: Setting locale failed.\n",
      "perl: warning: Please check that your locale settings:\n",
      "\tLANGUAGE = \"en.UTF-8\",\n",
      "\tLC_ALL = (unset),\n",
      "\tLANG = \"en.UTF-8\"\n",
      "    are supported and installed on your system.\n",
      "perl: warning: Falling back to the standard locale (\"C\").\n",
      "    1 image files updated\n",
      "perl: warning: Setting locale failed.\n",
      "perl: warning: Please check that your locale settings:\n",
      "\tLANGUAGE = \"en.UTF-8\",\n",
      "\tLC_ALL = (unset),\n",
      "\tLANG = \"en.UTF-8\"\n",
      "    are supported and installed on your system.\n",
      "perl: warning: Falling back to the standard locale (\"C\").\n",
      "    1 image files updated\n",
      "perl: warning: Setting locale failed.\n",
      "perl: warning: Please check that your locale settings:\n",
      "\tLANGUAGE = \"en.UTF-8\",\n",
      "\tLC_ALL = (unset),\n",
      "\tLANG = \"en.UTF-8\"\n",
      "    are supported and installed on your system.\n",
      "perl: warning: Falling back to the standard locale (\"C\").\n",
      "    1 image files updated\n",
      "perl: warning: Setting locale failed.\n",
      "perl: warning: Please check that your locale settings:\n",
      "\tLANGUAGE = \"en.UTF-8\",\n",
      "\tLC_ALL = (unset),\n",
      "\tLANG = \"en.UTF-8\"\n",
      "    are supported and installed on your system.\n",
      "perl: warning: Falling back to the standard locale (\"C\").\n",
      "    1 image files updated\n",
      "perl: warning: Setting locale failed.\n",
      "perl: warning: Please check that your locale settings:\n",
      "\tLANGUAGE = \"en.UTF-8\",\n",
      "\tLC_ALL = (unset),\n",
      "\tLANG = \"en.UTF-8\"\n",
      "    are supported and installed on your system.\n",
      "perl: warning: Falling back to the standard locale (\"C\").\n",
      "    1 image files updated\n",
      "perl: warning: Setting locale failed.\n",
      "perl: warning: Please check that your locale settings:\n",
      "\tLANGUAGE = \"en.UTF-8\",\n",
      "\tLC_ALL = (unset),\n",
      "\tLANG = \"en.UTF-8\"\n",
      "    are supported and installed on your system.\n",
      "perl: warning: Falling back to the standard locale (\"C\").\n",
      "    1 image files updated\n",
      "perl: warning: Setting locale failed.\n",
      "perl: warning: Please check that your locale settings:\n",
      "\tLANGUAGE = \"en.UTF-8\",\n",
      "\tLC_ALL = (unset),\n",
      "\tLANG = \"en.UTF-8\"\n",
      "    are supported and installed on your system.\n",
      "perl: warning: Falling back to the standard locale (\"C\").\n",
      "    1 image files updated\n",
      "perl: warning: Setting locale failed.\n",
      "perl: warning: Please check that your locale settings:\n",
      "\tLANGUAGE = \"en.UTF-8\",\n",
      "\tLC_ALL = (unset),\n",
      "\tLANG = \"en.UTF-8\"\n",
      "    are supported and installed on your system.\n",
      "perl: warning: Falling back to the standard locale (\"C\").\n",
      "    1 image files updated\n",
      "perl: warning: Setting locale failed.\n",
      "perl: warning: Please check that your locale settings:\n",
      "\tLANGUAGE = \"en.UTF-8\",\n",
      "\tLC_ALL = (unset),\n",
      "\tLANG = \"en.UTF-8\"\n",
      "    are supported and installed on your system.\n",
      "perl: warning: Falling back to the standard locale (\"C\").\n",
      "    1 image files updated\n",
      "perl: warning: Setting locale failed.\n",
      "perl: warning: Please check that your locale settings:\n",
      "\tLANGUAGE = \"en.UTF-8\",\n",
      "\tLC_ALL = (unset),\n",
      "\tLANG = \"en.UTF-8\"\n",
      "    are supported and installed on your system.\n",
      "perl: warning: Falling back to the standard locale (\"C\").\n",
      "    1 image files updated\n",
      "perl: warning: Setting locale failed.\n",
      "perl: warning: Please check that your locale settings:\n",
      "\tLANGUAGE = \"en.UTF-8\",\n",
      "\tLC_ALL = (unset),\n",
      "\tLANG = \"en.UTF-8\"\n",
      "    are supported and installed on your system.\n",
      "perl: warning: Falling back to the standard locale (\"C\").\n",
      "    1 image files updated\n",
      "perl: warning: Setting locale failed.\n",
      "perl: warning: Please check that your locale settings:\n",
      "\tLANGUAGE = \"en.UTF-8\",\n",
      "\tLC_ALL = (unset),\n",
      "\tLANG = \"en.UTF-8\"\n",
      "    are supported and installed on your system.\n",
      "perl: warning: Falling back to the standard locale (\"C\").\n",
      "    1 image files updated\n",
      "perl: warning: Setting locale failed.\n",
      "perl: warning: Please check that your locale settings:\n",
      "\tLANGUAGE = \"en.UTF-8\",\n",
      "\tLC_ALL = (unset),\n",
      "\tLANG = \"en.UTF-8\"\n",
      "    are supported and installed on your system.\n",
      "perl: warning: Falling back to the standard locale (\"C\").\n",
      "    1 image files updated\n",
      "perl: warning: Setting locale failed.\n",
      "perl: warning: Please check that your locale settings:\n",
      "\tLANGUAGE = \"en.UTF-8\",\n",
      "\tLC_ALL = (unset),\n",
      "\tLANG = \"en.UTF-8\"\n",
      "    are supported and installed on your system.\n",
      "perl: warning: Falling back to the standard locale (\"C\").\n",
      "    1 image files updated\n",
      "perl: warning: Setting locale failed.\n",
      "perl: warning: Please check that your locale settings:\n",
      "\tLANGUAGE = \"en.UTF-8\",\n",
      "\tLC_ALL = (unset),\n",
      "\tLANG = \"en.UTF-8\"\n",
      "    are supported and installed on your system.\n",
      "perl: warning: Falling back to the standard locale (\"C\").\n",
      "    1 image files updated\n",
      "perl: warning: Setting locale failed.\n",
      "perl: warning: Please check that your locale settings:\n",
      "\tLANGUAGE = \"en.UTF-8\",\n",
      "\tLC_ALL = (unset),\n",
      "\tLANG = \"en.UTF-8\"\n",
      "    are supported and installed on your system.\n",
      "perl: warning: Falling back to the standard locale (\"C\").\n",
      "    1 image files updated\n",
      "perl: warning: Setting locale failed.\n",
      "perl: warning: Please check that your locale settings:\n",
      "\tLANGUAGE = \"en.UTF-8\",\n",
      "\tLC_ALL = (unset),\n",
      "\tLANG = \"en.UTF-8\"\n",
      "    are supported and installed on your system.\n",
      "perl: warning: Falling back to the standard locale (\"C\").\n",
      "    1 image files updated\n",
      "perl: warning: Setting locale failed.\n",
      "perl: warning: Please check that your locale settings:\n",
      "\tLANGUAGE = \"en.UTF-8\",\n",
      "\tLC_ALL = (unset),\n",
      "\tLANG = \"en.UTF-8\"\n",
      "    are supported and installed on your system.\n",
      "perl: warning: Falling back to the standard locale (\"C\").\n",
      "    1 image files updated\n",
      "perl: warning: Setting locale failed.\n",
      "perl: warning: Please check that your locale settings:\n",
      "\tLANGUAGE = \"en.UTF-8\",\n",
      "\tLC_ALL = (unset),\n",
      "\tLANG = \"en.UTF-8\"\n",
      "    are supported and installed on your system.\n",
      "perl: warning: Falling back to the standard locale (\"C\").\n",
      "    1 image files updated\n",
      "perl: warning: Setting locale failed.\n",
      "perl: warning: Please check that your locale settings:\n",
      "\tLANGUAGE = \"en.UTF-8\",\n",
      "\tLC_ALL = (unset),\n",
      "\tLANG = \"en.UTF-8\"\n",
      "    are supported and installed on your system.\n",
      "perl: warning: Falling back to the standard locale (\"C\").\n",
      "    1 image files updated\n",
      "perl: warning: Setting locale failed.\n",
      "perl: warning: Please check that your locale settings:\n",
      "\tLANGUAGE = \"en.UTF-8\",\n",
      "\tLC_ALL = (unset),\n",
      "\tLANG = \"en.UTF-8\"\n",
      "    are supported and installed on your system.\n",
      "perl: warning: Falling back to the standard locale (\"C\").\n",
      "    1 image files updated\n",
      "perl: warning: Setting locale failed.\n",
      "perl: warning: Please check that your locale settings:\n",
      "\tLANGUAGE = \"en.UTF-8\",\n",
      "\tLC_ALL = (unset),\n",
      "\tLANG = \"en.UTF-8\"\n",
      "    are supported and installed on your system.\n",
      "perl: warning: Falling back to the standard locale (\"C\").\n",
      "    1 image files updated\n",
      "perl: warning: Setting locale failed.\n",
      "perl: warning: Please check that your locale settings:\n",
      "\tLANGUAGE = \"en.UTF-8\",\n",
      "\tLC_ALL = (unset),\n",
      "\tLANG = \"en.UTF-8\"\n",
      "    are supported and installed on your system.\n",
      "perl: warning: Falling back to the standard locale (\"C\").\n",
      "    1 image files updated\n",
      "perl: warning: Setting locale failed.\n",
      "perl: warning: Please check that your locale settings:\n",
      "\tLANGUAGE = \"en.UTF-8\",\n",
      "\tLC_ALL = (unset),\n",
      "\tLANG = \"en.UTF-8\"\n",
      "    are supported and installed on your system.\n",
      "perl: warning: Falling back to the standard locale (\"C\").\n",
      "    1 image files updated\n",
      "perl: warning: Setting locale failed.\n",
      "perl: warning: Please check that your locale settings:\n",
      "\tLANGUAGE = \"en.UTF-8\",\n",
      "\tLC_ALL = (unset),\n",
      "\tLANG = \"en.UTF-8\"\n",
      "    are supported and installed on your system.\n",
      "perl: warning: Falling back to the standard locale (\"C\").\n",
      "    1 image files updated\n",
      "perl: warning: Setting locale failed.\n",
      "perl: warning: Please check that your locale settings:\n",
      "\tLANGUAGE = \"en.UTF-8\",\n",
      "\tLC_ALL = (unset),\n",
      "\tLANG = \"en.UTF-8\"\n",
      "    are supported and installed on your system.\n",
      "perl: warning: Falling back to the standard locale (\"C\").\n",
      "    1 image files updated\n",
      "perl: warning: Setting locale failed.\n",
      "perl: warning: Please check that your locale settings:\n",
      "\tLANGUAGE = \"en.UTF-8\",\n",
      "\tLC_ALL = (unset),\n",
      "\tLANG = \"en.UTF-8\"\n",
      "    are supported and installed on your system.\n",
      "perl: warning: Falling back to the standard locale (\"C\").\n",
      "    1 image files updated\n",
      "perl: warning: Setting locale failed.\n",
      "perl: warning: Please check that your locale settings:\n",
      "\tLANGUAGE = \"en.UTF-8\",\n",
      "\tLC_ALL = (unset),\n",
      "\tLANG = \"en.UTF-8\"\n",
      "    are supported and installed on your system.\n",
      "perl: warning: Falling back to the standard locale (\"C\").\n",
      "    1 image files updated\n",
      "perl: warning: Setting locale failed.\n",
      "perl: warning: Please check that your locale settings:\n",
      "\tLANGUAGE = \"en.UTF-8\",\n",
      "\tLC_ALL = (unset),\n",
      "\tLANG = \"en.UTF-8\"\n",
      "    are supported and installed on your system.\n",
      "perl: warning: Falling back to the standard locale (\"C\").\n",
      "    1 image files updated\n",
      "perl: warning: Setting locale failed.\n",
      "perl: warning: Please check that your locale settings:\n",
      "\tLANGUAGE = \"en.UTF-8\",\n",
      "\tLC_ALL = (unset),\n",
      "\tLANG = \"en.UTF-8\"\n",
      "    are supported and installed on your system.\n",
      "perl: warning: Falling back to the standard locale (\"C\").\n",
      "    1 image files updated\n",
      "perl: warning: Setting locale failed.\n",
      "perl: warning: Please check that your locale settings:\n",
      "\tLANGUAGE = \"en.UTF-8\",\n",
      "\tLC_ALL = (unset),\n",
      "\tLANG = \"en.UTF-8\"\n",
      "    are supported and installed on your system.\n",
      "perl: warning: Falling back to the standard locale (\"C\").\n",
      "    1 image files updated\n",
      "perl: warning: Setting locale failed.\n",
      "perl: warning: Please check that your locale settings:\n",
      "\tLANGUAGE = \"en.UTF-8\",\n",
      "\tLC_ALL = (unset),\n",
      "\tLANG = \"en.UTF-8\"\n",
      "    are supported and installed on your system.\n",
      "perl: warning: Falling back to the standard locale (\"C\").\n",
      "    1 image files updated\n",
      "perl: warning: Setting locale failed.\n",
      "perl: warning: Please check that your locale settings:\n",
      "\tLANGUAGE = \"en.UTF-8\",\n",
      "\tLC_ALL = (unset),\n",
      "\tLANG = \"en.UTF-8\"\n",
      "    are supported and installed on your system.\n",
      "perl: warning: Falling back to the standard locale (\"C\").\n",
      "    1 image files updated\n",
      "perl: warning: Setting locale failed.\n",
      "perl: warning: Please check that your locale settings:\n",
      "\tLANGUAGE = \"en.UTF-8\",\n",
      "\tLC_ALL = (unset),\n",
      "\tLANG = \"en.UTF-8\"\n",
      "    are supported and installed on your system.\n",
      "perl: warning: Falling back to the standard locale (\"C\").\n",
      "    1 image files updated\n",
      "perl: warning: Setting locale failed.\n",
      "perl: warning: Please check that your locale settings:\n",
      "\tLANGUAGE = \"en.UTF-8\",\n",
      "\tLC_ALL = (unset),\n",
      "\tLANG = \"en.UTF-8\"\n",
      "    are supported and installed on your system.\n",
      "perl: warning: Falling back to the standard locale (\"C\").\n",
      "    1 image files updated\n",
      "perl: warning: Setting locale failed.\n",
      "perl: warning: Please check that your locale settings:\n",
      "\tLANGUAGE = \"en.UTF-8\",\n",
      "\tLC_ALL = (unset),\n",
      "\tLANG = \"en.UTF-8\"\n",
      "    are supported and installed on your system.\n",
      "perl: warning: Falling back to the standard locale (\"C\").\n",
      "    1 image files updated\n",
      "perl: warning: Setting locale failed.\n",
      "perl: warning: Please check that your locale settings:\n",
      "\tLANGUAGE = \"en.UTF-8\",\n",
      "\tLC_ALL = (unset),\n",
      "\tLANG = \"en.UTF-8\"\n",
      "    are supported and installed on your system.\n",
      "perl: warning: Falling back to the standard locale (\"C\").\n",
      "    1 image files updated\n",
      "(alignment) "
     ]
    }
   ],
   "source": [
    "conda activate alignment\n",
    "for filename in $data/*.jpg; do\n",
    "    #echo $filename\n",
    "    exiftool -Orientation=8 -n $filename\n",
    "    done\n",
    "conda deactivate"
   ]
  },
  {
   "cell_type": "code",
   "execution_count": 39,
   "metadata": {},
   "outputs": [],
   "source": [
    "rm -f $data/*original*"
   ]
  },
  {
   "cell_type": "markdown",
   "metadata": {},
   "source": [
    "This script resizes images to 900x900 and then crops away top and bottom 150 pixels for a final image size of 900x600."
   ]
  },
  {
   "cell_type": "markdown",
   "metadata": {},
   "source": [
    "##### Crop and resize"
   ]
  },
  {
   "cell_type": "markdown",
   "metadata": {},
   "source": [
    "The purpose for cropping is to remove labels, which has been standard practice for all training and testing. Otherwise, we could run into problems such as the neural network \"learning\" plants labeled as control have more or less regeneration.<br>The purpose for resizing is to reduce computational expense."
   ]
  },
  {
   "cell_type": "code",
   "execution_count": 40,
   "metadata": {},
   "outputs": [],
   "source": [
    "cd ${cwd}/intermediates/"
   ]
  },
  {
   "cell_type": "markdown",
   "metadata": {},
   "source": [
    "Note, the `standardize_orientation.py` script was used for a situation where image rotation was attempted manually in Mac OS X but metadata was left behind, causing downstream confusion. This approach is no longer needed since we are using `exiftool` (above) to make `Orientation` in metadata consistent."
   ]
  },
  {
   "cell_type": "code",
   "execution_count": 41,
   "metadata": {},
   "outputs": [
    {
     "name": "stdout",
     "output_type": "stream",
     "text": [
      "(base) (base) (base) "
     ]
    }
   ],
   "source": [
    "conda activate base\n",
    "#python standardize_orientation.py $data\n",
    "python crop.py $data\n",
    "conda deactivate"
   ]
  },
  {
   "cell_type": "markdown",
   "metadata": {},
   "source": [
    "##### Prepare input list"
   ]
  },
  {
   "cell_type": "markdown",
   "metadata": {},
   "source": [
    "The script `inference.py` requires a list of all files to be analyzed. We will create this file as `test.csv`. This will be a list of all our (pre-processed) image files."
   ]
  },
  {
   "cell_type": "code",
   "execution_count": 42,
   "metadata": {},
   "outputs": [],
   "source": [
    "cd $data\n",
    "ls -d $PWD/* $data | grep -i \"rgb_cropped.jpg\" > test.csv"
   ]
  },
  {
   "cell_type": "markdown",
   "metadata": {},
   "source": [
    "Remove the chroma standard from list of RGB image data to be segmented"
   ]
  },
  {
   "cell_type": "code",
   "execution_count": 43,
   "metadata": {},
   "outputs": [],
   "source": [
    "sed -i '/hroma/d' \"${data}/test.csv\""
   ]
  },
  {
   "cell_type": "markdown",
   "metadata": {},
   "source": [
    "#### Inference"
   ]
  },
  {
   "cell_type": "markdown",
   "metadata": {},
   "source": [
    "The trained model is deployed to perform semantic segmentation of experimental images. A list of RGB images to be segmented by the trained model is passed through the --image-list option. For each of these images, we will obtain an output mask (.png) of labeled tissues"
   ]
  },
  {
   "cell_type": "markdown",
   "metadata": {},
   "source": [
    "Dependencies include `opencv`, `scipy`, `yaml` and `tensorflow` (version 1.14)"
   ]
  },
  {
   "cell_type": "code",
   "execution_count": 74,
   "metadata": {},
   "outputs": [
    {
     "name": "stdout",
     "output_type": "stream",
     "text": [
      "(deeplab) WARNING:tensorflow:From inference.py:34: The name tf.gfile.GFile is deprecated. Please use tf.io.gfile.GFile instead.\n",
      "\n",
      "WARNING:tensorflow:From inference.py:35: The name tf.GraphDef is deprecated. Please use tf.compat.v1.GraphDef instead.\n",
      "\n",
      "WARNING:tensorflow:From inference.py:41: The name tf.Session is deprecated. Please use tf.compat.v1.Session instead.\n",
      "\n",
      "2021-02-25 13:44:44.600404: I tensorflow/core/platform/cpu_feature_guard.cc:142] Your CPU supports instructions that this TensorFlow binary was not compiled to use: SSE4.1 SSE4.2 AVX\n",
      "2021-02-25 13:44:44.831843: I tensorflow/core/platform/profile_utils/cpu_utils.cc:94] CPU Frequency: 2494470000 Hz\n",
      "2021-02-25 13:44:44.832832: I tensorflow/compiler/xla/service/service.cc:168] XLA service 0x56060656e8a0 executing computations on platform Host. Devices:\n",
      "2021-02-25 13:44:44.832899: I tensorflow/compiler/xla/service/service.cc:175]   StreamExecutor device (0): <undefined>, <undefined>\n",
      "2021-02-25 13:44:51.737072: W tensorflow/compiler/jit/mark_for_compilation_pass.cc:1412] (One-time warning): Not using XLA:CPU for cluster because envvar TF_XLA_FLAGS=--tf_xla_cpu_global_jit was not set.  If you want XLA:CPU, either set that envvar, or use experimental_jit_scope to enable XLA:CPU.  To confirm that XLA is active, pass --vmodule=xla_compilation_cache=1 (as a proper command-line flag, not via TF_XLA_FLAGS) or set the envvar XLA_FLAGS=--xla_hlo_profile.\n",
      "2021-02-25 13:44:53.090738: W tensorflow/core/framework/allocator.cc:107] Allocation of 26035328 exceeds 10% of system memory.\n",
      "2021-02-25 13:44:53.291263: W tensorflow/core/framework/allocator.cc:107] Allocation of 29246464 exceeds 10% of system memory.\n",
      "2021-02-25 13:44:53.298818: W tensorflow/core/framework/allocator.cc:107] Allocation of 52070656 exceeds 10% of system memory.\n",
      "2021-02-25 13:44:53.433376: W tensorflow/core/framework/allocator.cc:107] Allocation of 29246464 exceeds 10% of system memory.\n",
      "2021-02-25 13:44:53.587990: W tensorflow/core/framework/allocator.cc:107] Allocation of 52070656 exceeds 10% of system memory.\n",
      "(deeplab) "
     ]
    }
   ],
   "source": [
    "cd $deeplab_path\n",
    "conda activate deeplab\n",
    "python -W ignore inference.py --image-list \"${data}/test.csv\" >> $data/log_inference.txt\n",
    "conda deactivate\n",
    "conda deactivate"
   ]
  },
  {
   "cell_type": "markdown",
   "metadata": {},
   "source": [
    "#### Post-processing"
   ]
  },
  {
   "cell_type": "markdown",
   "metadata": {},
   "source": [
    "Name outputs to reflect that they are segmentation results"
   ]
  },
  {
   "cell_type": "code",
   "execution_count": 79,
   "metadata": {},
   "outputs": [
    {
     "name": "stdout",
     "output_type": "stream",
     "text": [
      "/run/media/labgroup/Elements_9//Transformation/FAB_Dev_Genes/wk10/Fluorescent/\n"
     ]
    }
   ],
   "source": [
    "echo $data"
   ]
  },
  {
   "cell_type": "code",
   "execution_count": 80,
   "metadata": {},
   "outputs": [],
   "source": [
    "cd $data\n",
    "for file in *_rgb_cropped.png; do mv -f \"$file\" \"${file%_rgb_cropped.png}_segment_cropped.png\"; done"
   ]
  },
  {
   "cell_type": "markdown",
   "metadata": {},
   "source": [
    "Re-expand segment outputs to same size as original RGB files"
   ]
  },
  {
   "cell_type": "markdown",
   "metadata": {},
   "source": [
    "Dependencies include `scikit-image`"
   ]
  },
  {
   "cell_type": "code",
   "execution_count": 81,
   "metadata": {},
   "outputs": [
    {
     "name": "stdout",
     "output_type": "stream",
     "text": [
      "(alignment) (alignment) (alignment) "
     ]
    }
   ],
   "source": [
    "conda activate alignment\n",
    "cd $alignment_path\n",
    "python expand.py $data >> $data/log_expand.txt\n",
    "conda deactivate"
   ]
  },
  {
   "cell_type": "markdown",
   "metadata": {},
   "source": [
    "Make composite images with side-by-side RGB, segmentation outputs and blended images"
   ]
  },
  {
   "cell_type": "code",
   "execution_count": null,
   "metadata": {},
   "outputs": [],
   "source": [
    "conda activate test-environment\n",
    "if [ $composite -eq 1 ]\n",
    "then\n",
    "    cd $gmolabeler_path\n",
    "    python image_blender.py $data 0.75 'both' 1 180 >> $data/log_blend.txt\n",
    "fi\n",
    "conda deactivate"
   ]
  },
  {
   "cell_type": "markdown",
   "metadata": {},
   "source": [
    "### Classification of contaminated/missing explants"
   ]
  },
  {
   "cell_type": "markdown",
   "metadata": {},
   "source": [
    "Plates are cropped into sub-images for each explant and each is analyzed to determine if the explant position should be excluded from analysis due to being missing or contamination. Missing and contaminated explants are recognized using a trained Densenet model (<a href=\"https://github.com/Contamination-Classification/DenseNet\" target=\"_blank\">Huang, et al. 2018</a>). Our fork of the Densenet repository is available on <a href=\"https://arxiv.org/abs/1608.06993\" target=\"_blank\">GitHub</a>."
   ]
  },
  {
   "cell_type": "markdown",
   "metadata": {},
   "source": [
    "<img src=\"Figures/Densenet.png\">\n",
    "Figure: These are four examples of contaminated explants used in the training set for this pre-trained model"
   ]
  },
  {
   "cell_type": "code",
   "execution_count": 38,
   "metadata": {},
   "outputs": [],
   "source": [
    "img_list_path=\"${data}/rgb_list.txt\""
   ]
  },
  {
   "cell_type": "markdown",
   "metadata": {},
   "source": [
    "To check the grid cropping dimensions, we can run the following script. Note that these are the dimensions to crop the image to after resizing to 2000x2000 (from 4000x4000 in the case of the *macroPhor Array)."
   ]
  },
  {
   "cell_type": "markdown",
   "metadata": {},
   "source": [
    "#### Prepare list of images"
   ]
  },
  {
   "cell_type": "code",
   "execution_count": 39,
   "metadata": {},
   "outputs": [
    {
     "name": "stdout",
     "output_type": "stream",
     "text": [
      "Missing explants will be inferred.\n"
     ]
    }
   ],
   "source": [
    "if [ $missing_explants = \"Automatic\" ]; then\n",
    "    echo \"Missing explants will be inferred.\"\n",
    "    cd $data\n",
    "    ls -d $PWD/* $data | grep -i \"rgb.jpg\" > rgb_list.txt\n",
    "    sed -i '/hroma/d' rgb_list.txt\n",
    "    img_list_path=\"${data}/rgb_list.txt\"\n",
    "else\n",
    "    echo \"Missing explants input manually by user, in file: \"\n",
    "    echo $missing_explants\n",
    "fi"
   ]
  },
  {
   "cell_type": "markdown",
   "metadata": {},
   "source": [
    "If the mode for missing explant data is automatic, prepare input file for script to detect missing explants and run this script."
   ]
  },
  {
   "cell_type": "markdown",
   "metadata": {},
   "source": [
    "#### Check dimensions for grid cropping"
   ]
  },
  {
   "cell_type": "markdown",
   "metadata": {},
   "source": [
    "The models to detect contamination and missing explants require a user input to define the pixel boundaries of the grid along which explants are placed. Note that currently, only the 12-explant grid is supported. To use other grids, contamination and missing explant data must be provided manually in a file formatted just like an output from this script."
   ]
  },
  {
   "cell_type": "markdown",
   "metadata": {},
   "source": [
    "When running `inference.py` to detect missing or contaminated explants, the user should provide dimensions for cropping down to the grid borders. Note, these dimensions apply after the image is rescaled to 2000x2000.\n",
    "- Default dimensions, used before the imager began to take \"off-center\" images, are (310, 515, 1750, 1610).\n",
    "- Dimensions for cropping for the off-center images are (260, 600, 1700, 1710). \n",
    "- New dimensions (275, 438, 1725, 1535) are for images taken after camera settings were re-centered.<br>\n",
    "\n",
    "We can test dimensions using the `--debug` option for `inference.py` as in the below code block. Next, we will run the same script in the regular mode to detect missing and contaminated explants using settled-upon cropping dimensions."
   ]
  },
  {
   "cell_type": "markdown",
   "metadata": {},
   "source": [
    "Uncomment and run this code block only if you wish to troubleshoot cropping."
   ]
  },
  {
   "cell_type": "code",
   "execution_count": 40,
   "metadata": {},
   "outputs": [],
   "source": [
    "# if [ $missing_explants = \"Automatic\" ]; then\n",
    "#     cd $contamination_path\n",
    "#     conda activate densenet\n",
    "#     python inference.py --img-list=$img_list_path --crop_dims \"(275,438,1725,1535)\" --debug\n",
    "#     conda deactivate\n",
    "# else\n",
    "#     echo \"Missing explants input manually by user, in file: \"\n",
    "#     echo $missing_explants\n",
    "# fi"
   ]
  },
  {
   "cell_type": "markdown",
   "metadata": {},
   "source": [
    "The outputs will be saved in this folder and can be evaluated to check how well the cropping worked."
   ]
  },
  {
   "cell_type": "code",
   "execution_count": 41,
   "metadata": {},
   "outputs": [],
   "source": [
    "# echo $contamination_path"
   ]
  },
  {
   "cell_type": "markdown",
   "metadata": {},
   "source": [
    "#### Infer contaminated/missing explants"
   ]
  },
  {
   "cell_type": "markdown",
   "metadata": {},
   "source": [
    "Dependencies include `keras-preprocessing`, `termcolor`,  `protobuf` and `absl-py`"
   ]
  },
  {
   "cell_type": "code",
   "execution_count": 42,
   "metadata": {
    "collapsed": true,
    "jupyter": {
     "outputs_hidden": true
    },
    "slideshow": {
     "slide_type": "slide"
    }
   },
   "outputs": [
    {
     "name": "stdout",
     "output_type": "stream",
     "text": [
      "Using TensorFlow backend.\n",
      "/home/labgroup/anaconda3/envs/densenet/lib/python3.6/site-packages/tensorflow/python/framework/dtypes.py:516: FutureWarning: Passing (type, 1) or '1type' as a synonym of type is deprecated; in a future version of numpy, it will be understood as (type, (1,)) / '(1,)type'.\n",
      "  _np_qint8 = np.dtype([(\"qint8\", np.int8, 1)])\n",
      "/home/labgroup/anaconda3/envs/densenet/lib/python3.6/site-packages/tensorflow/python/framework/dtypes.py:517: FutureWarning: Passing (type, 1) or '1type' as a synonym of type is deprecated; in a future version of numpy, it will be understood as (type, (1,)) / '(1,)type'.\n",
      "  _np_quint8 = np.dtype([(\"quint8\", np.uint8, 1)])\n",
      "/home/labgroup/anaconda3/envs/densenet/lib/python3.6/site-packages/tensorflow/python/framework/dtypes.py:518: FutureWarning: Passing (type, 1) or '1type' as a synonym of type is deprecated; in a future version of numpy, it will be understood as (type, (1,)) / '(1,)type'.\n",
      "  _np_qint16 = np.dtype([(\"qint16\", np.int16, 1)])\n",
      "/home/labgroup/anaconda3/envs/densenet/lib/python3.6/site-packages/tensorflow/python/framework/dtypes.py:519: FutureWarning: Passing (type, 1) or '1type' as a synonym of type is deprecated; in a future version of numpy, it will be understood as (type, (1,)) / '(1,)type'.\n",
      "  _np_quint16 = np.dtype([(\"quint16\", np.uint16, 1)])\n",
      "/home/labgroup/anaconda3/envs/densenet/lib/python3.6/site-packages/tensorflow/python/framework/dtypes.py:520: FutureWarning: Passing (type, 1) or '1type' as a synonym of type is deprecated; in a future version of numpy, it will be understood as (type, (1,)) / '(1,)type'.\n",
      "  _np_qint32 = np.dtype([(\"qint32\", np.int32, 1)])\n",
      "/home/labgroup/anaconda3/envs/densenet/lib/python3.6/site-packages/tensorflow/python/framework/dtypes.py:525: FutureWarning: Passing (type, 1) or '1type' as a synonym of type is deprecated; in a future version of numpy, it will be understood as (type, (1,)) / '(1,)type'.\n",
      "  np_resource = np.dtype([(\"resource\", np.ubyte, 1)])\n",
      "/home/labgroup/anaconda3/envs/densenet/lib/python3.6/site-packages/tensorboard/compat/tensorflow_stub/dtypes.py:541: FutureWarning: Passing (type, 1) or '1type' as a synonym of type is deprecated; in a future version of numpy, it will be understood as (type, (1,)) / '(1,)type'.\n",
      "  _np_qint8 = np.dtype([(\"qint8\", np.int8, 1)])\n",
      "/home/labgroup/anaconda3/envs/densenet/lib/python3.6/site-packages/tensorboard/compat/tensorflow_stub/dtypes.py:542: FutureWarning: Passing (type, 1) or '1type' as a synonym of type is deprecated; in a future version of numpy, it will be understood as (type, (1,)) / '(1,)type'.\n",
      "  _np_quint8 = np.dtype([(\"quint8\", np.uint8, 1)])\n",
      "/home/labgroup/anaconda3/envs/densenet/lib/python3.6/site-packages/tensorboard/compat/tensorflow_stub/dtypes.py:543: FutureWarning: Passing (type, 1) or '1type' as a synonym of type is deprecated; in a future version of numpy, it will be understood as (type, (1,)) / '(1,)type'.\n",
      "  _np_qint16 = np.dtype([(\"qint16\", np.int16, 1)])\n",
      "/home/labgroup/anaconda3/envs/densenet/lib/python3.6/site-packages/tensorboard/compat/tensorflow_stub/dtypes.py:544: FutureWarning: Passing (type, 1) or '1type' as a synonym of type is deprecated; in a future version of numpy, it will be understood as (type, (1,)) / '(1,)type'.\n",
      "  _np_quint16 = np.dtype([(\"quint16\", np.uint16, 1)])\n",
      "/home/labgroup/anaconda3/envs/densenet/lib/python3.6/site-packages/tensorboard/compat/tensorflow_stub/dtypes.py:545: FutureWarning: Passing (type, 1) or '1type' as a synonym of type is deprecated; in a future version of numpy, it will be understood as (type, (1,)) / '(1,)type'.\n",
      "  _np_qint32 = np.dtype([(\"qint32\", np.int32, 1)])\n",
      "/home/labgroup/anaconda3/envs/densenet/lib/python3.6/site-packages/tensorboard/compat/tensorflow_stub/dtypes.py:550: FutureWarning: Passing (type, 1) or '1type' as a synonym of type is deprecated; in a future version of numpy, it will be understood as (type, (1,)) / '(1,)type'.\n",
      "  np_resource = np.dtype([(\"resource\", np.ubyte, 1)])\n",
      "2021-02-25 11:09:43.231801: I tensorflow/core/platform/cpu_feature_guard.cc:142] Your CPU supports instructions that this TensorFlow binary was not compiled to use: SSE4.1 SSE4.2 AVX\n",
      "2021-02-25 11:09:43.493609: I tensorflow/core/platform/profile_utils/cpu_utils.cc:94] CPU Frequency: 2494470000 Hz\n",
      "2021-02-25 11:09:43.494793: I tensorflow/compiler/xla/service/service.cc:168] XLA service 0x560cb0f20140 executing computations on platform Host. Devices:\n",
      "2021-02-25 11:09:43.494920: I tensorflow/compiler/xla/service/service.cc:175]   StreamExecutor device (0): <undefined>, <undefined>\n",
      "2021-02-25 11:09:43.784685: W tensorflow/compiler/jit/mark_for_compilation_pass.cc:1412] (One-time warning): Not using XLA:CPU for cluster because envvar TF_XLA_FLAGS=--tf_xla_cpu_global_jit was not set.  If you want XLA:CPU, either set that envvar, or use experimental_jit_scope to enable XLA:CPU.  To confirm that XLA is active, pass --vmodule=xla_compilation_cache=1 (as a proper command-line flag, not via TF_XLA_FLAGS) or set the envvar XLA_FLAGS=--xla_hlo_profile.\n",
      "WARNING:tensorflow:From /home/labgroup/anaconda3/envs/densenet/lib/python3.6/site-packages/keras/backend/tensorflow_backend.py:4070: The name tf.nn.max_pool is deprecated. Please use tf.nn.max_pool2d instead.\n",
      "\n",
      "WARNING:tensorflow:From /home/labgroup/anaconda3/envs/densenet/lib/python3.6/site-packages/keras/backend/tensorflow_backend.py:4074: The name tf.nn.avg_pool is deprecated. Please use tf.nn.avg_pool2d instead.\n",
      "\n",
      "WARNING:tensorflow:From /home/labgroup/anaconda3/envs/densenet/lib/python3.6/site-packages/keras/backend/tensorflow_backend.py:422: The name tf.global_variables is deprecated. Please use tf.compat.v1.global_variables instead.\n",
      "\n",
      "Missing explants inferred by model and written to file:\n",
      "/run/media/labgroup/Elements_9//Transformation/FAB_Dev_Genes/wk10/Fluorescent//output.csv\n"
     ]
    }
   ],
   "source": [
    "if [ $missing_explants = \"Automatic\" ]; then\n",
    "    cd $contamination_path\n",
    "    conda activate densenet\n",
    "    python -W ignore inference.py \\\n",
    "    --img-list=$img_list_path \\\n",
    "    --crop_dims \"(275,438,1725,1535)\" \\\n",
    "    --output_file=output.csv >> $data/log_contam.txt\n",
    "    mv -f output.csv \"${data}/output.csv\"\n",
    "    missing_explants=\"${data}/output.csv\"\n",
    "    echo \"Missing explants inferred by model and written to file:\"\n",
    "    echo $missing_explants\n",
    "    conda deactivate\n",
    "else\n",
    "    echo \"Missing explants input manually by user, in file: \"\n",
    "    echo $missing_explants\n",
    "fi"
   ]
  },
  {
   "cell_type": "code",
   "execution_count": 44,
   "metadata": {},
   "outputs": [
    {
     "name": "stdout",
     "output_type": "stream",
     "text": [
      "Missing explants inferred by model and written to file:\n",
      "/run/media/labgroup/Elements_9//Transformation/FAB_Dev_Genes/wk10/Fluorescent//output.csv\n"
     ]
    }
   ],
   "source": [
    "echo \"Missing explants inferred by model and written to file:\"\n",
    "echo $missing_explants"
   ]
  },
  {
   "cell_type": "markdown",
   "metadata": {},
   "source": [
    "## Alignment of RGB and hyperspectral layers"
   ]
  },
  {
   "cell_type": "markdown",
   "metadata": {},
   "source": [
    "<div class=\"alert alert-block alert-info\"><b>Tip:</b> This section of the workflow must be run regardless of whether a homography matrix for alignment has been provided or will be generated.</div>"
   ]
  },
  {
   "cell_type": "markdown",
   "metadata": {},
   "source": [
    "To match the frame and angle of RGB and hyperspectral image layers, we apply a scale-invariant feature transformation (<a href=\"https://github.com/NSF-Image-alignment/ImageAlignment\" target=\"_blank\">GitHub</a>). Using a pair of standard images, a homography matrix is calculated for the necessary transformation of RGB images to align with hyperspectral images. The transformation can then be applied to large batches of images rapidly, as long as the RGB and hyperspectral cameras remain in the same positions relative to one another (as they do in the macroPhor Array platform)"
   ]
  },
  {
   "cell_type": "markdown",
   "metadata": {},
   "source": [
    "<img src=\"Figures/Alignment.png\">\n",
    "Figure: To enable precise calculation of a homography matrix for transformation of RGB images to match hyperspectral images, we used images of a piece of paper with grid marks. These images are provided by the user inputs to --hyper-img and --rgb-img in the below call to the alignment script. If using a phenotyping platform other than the macroPhor Array, or using updated camera settings, these variables will need to be replaced."
   ]
  },
  {
   "cell_type": "markdown",
   "metadata": {},
   "source": [
    "### Prepare file lists for alignment"
   ]
  },
  {
   "cell_type": "markdown",
   "metadata": {},
   "source": [
    "<div class=\"alert alert-block alert-info\"><b>Tip:</b> We will produce two lists: one for hyperspectral channels (chlorophyll peak channel) for each sample and another for the complementary RGB images. We will superimpose them and produce images for inspection, allowing the user to make sure the alignment works reliably for all images. However, it is possible to replace the hyperspectral channels for each image with a single file; this would run more quickly but be less useful for allowing the user to validate alignment results.</div>"
   ]
  },
  {
   "cell_type": "markdown",
   "metadata": {},
   "source": [
    "We need to produce a csv with two columns with headers `hyper_img` and `rgb_images`. For each RGB image being transformed in batch alignment (mode 2), we can test the alignment by producing superimposed images of the transformed RGB images together with a hyperspectral layer. The hyperspectral layer can either be for a grid (fast) or can be for a layer extracted from the hyperspectral image of each channel (slow, but useful for making sure a certain homography matrix works reliably to transform a batch of images)."
   ]
  },
  {
   "cell_type": "markdown",
   "metadata": {},
   "source": [
    "Let's first generate the list that will go into the column `rgb_images`"
   ]
  },
  {
   "cell_type": "code",
   "execution_count": 82,
   "metadata": {},
   "outputs": [],
   "source": [
    "cd $data\n",
    "ls | grep -i 'rgb\\.jpg' > file_list_part1.csv\n",
    "ls | grep -i 'segment_uncropped\\.png' > file_list_part2.csv\n",
    "cat file_list_part* > file_list.csv\n",
    "# sed -i '/hroma/d' file_list.csv\n",
    "cwd2=$(pwd)/\n",
    "awk -v prefix=\"$cwd2\" '{print prefix $0}' file_list.csv > temp\n",
    "mv -f temp file_list.csv\n",
    "echo 'rgb_images' | cat - file_list.csv > temp && mv -f temp file_list.csv"
   ]
  },
  {
   "cell_type": "markdown",
   "metadata": {},
   "source": [
    "Now to modify the list going into the `rgb_images` column to produce the list of filenames for `hyper_img`:"
   ]
  },
  {
   "cell_type": "code",
   "execution_count": 83,
   "metadata": {},
   "outputs": [],
   "source": [
    "cp file_list.csv file_list_hyper_channel.csv\n",
    "sed -i 's/_rgb.jpg/_hyperchannel.csv/g' file_list_hyper_channel.csv\n",
    "sed -i 's/rgb_images/hyper_img/g' file_list_hyper_channel.csv\n",
    "sed -i 's/_segment_uncropped.png/_hyperchannel.csv/g' file_list_hyper_channel.csv\n"
   ]
  },
  {
   "cell_type": "markdown",
   "metadata": {},
   "source": [
    "Bind these columns together..."
   ]
  },
  {
   "cell_type": "code",
   "execution_count": 84,
   "metadata": {},
   "outputs": [],
   "source": [
    "paste --delimiters=',' file_list_hyper_channel.csv file_list.csv > rgb_and_hyper_channel_lists.csv"
   ]
  },
  {
   "cell_type": "markdown",
   "metadata": {},
   "source": [
    "### Generate a homography matrix for alignment if one is not provided."
   ]
  },
  {
   "cell_type": "markdown",
   "metadata": {},
   "source": [
    "<div class=\"alert alert-block alert-info\"><b>Tip:</b> This section is only needed if a homography matrix has not been provided and must be generated. In this section, a hyperspectral channel is extracted from the standard to be used for alignment with the complementary RGB image.</div>"
   ]
  },
  {
   "cell_type": "markdown",
   "metadata": {},
   "source": [
    "If using this method, we should have RGB and hyperspectral images of a grid. Here, we will assume they have \"grid\" in their name and can be found in the same folder as the sample images."
   ]
  },
  {
   "cell_type": "markdown",
   "metadata": {},
   "source": [
    "We will generate a homography matrix for alignment of the grid images (RGB and hyperspectral) because these align more robustly than images of plants. We will then apply this homography matrix to alignment of all RGB plant images, so that they will align with the respective hyperspectral images. Note, for this approach to work the relative positions and angles of RGB/hyperspectral cameras must be the same for all image pairs."
   ]
  },
  {
   "cell_type": "code",
   "execution_count": 85,
   "metadata": {},
   "outputs": [],
   "source": [
    "cd $data"
   ]
  },
  {
   "cell_type": "code",
   "execution_count": 86,
   "metadata": {},
   "outputs": [
    {
     "name": "stdout",
     "output_type": "stream",
     "text": [
      "Homography matrix provided by user at:\n",
      "/home/labgroup/code/GMOlabeler/output/chromagrid_I5.0_F1.9_L100_190427_0_0_0_rgb_homography.npy\n"
     ]
    }
   ],
   "source": [
    "if [ $homography = \"Automatic\" ]; then\n",
    "    grid_hdr=$(ls $data | grep -i \"grid\" | grep -i \"hdr\")\n",
    "    grid_jpg=$(ls $data | grep -i \"grid\" | grep -i \"rgb.jpg\")\n",
    "    echo \"Homography matrix to be generated by alignment of:\"\n",
    "    echo $grid_hdr\n",
    "    echo $grid_jpg\n",
    "    conda activate test-environment\n",
    "    cd $alignment_path\n",
    "    python hypercube_to_csv.py \\\n",
    "    $data$grid_hdr \\\n",
    "    700 \\\n",
    "    130 \\\n",
    "    $data\"hypercube_to_csv.csv\" \\\n",
    "    $data\"hypercube_to_csv.jpg\"\n",
    "    conda deactivate\n",
    "    aligned=$(echo $grid_jpg | sed 's/rgb/rgb_aligned/g')\n",
    "    conda activate alignment\n",
    "    cd $alignment_path\n",
    "    python main.py \\\n",
    "    --hyper-img $data\"hypercube_to_csv.csv\" \\\n",
    "    --rgb-img $data$grid_jpg \\\n",
    "    --mode 1 \\\n",
    "    --image_thresh_high=120 \\\n",
    "    --image_thresh_low=50 \\\n",
    "    --distance=$distance \\\n",
    "    --gaussian_sigma=$gaussian_sigma\n",
    "    conda deactivate\n",
    "    homography=$(echo $grid_jpg | sed 's/\\.jpg/_homography.npy/g')\n",
    "    homography=${gmolabeler_path}output/$homography\n",
    "else\n",
    "    echo \"Homography matrix provided by user at:\"\n",
    "    echo ${gmolabeler_path}output/$homography\n",
    "fi"
   ]
  },
  {
   "cell_type": "markdown",
   "metadata": {},
   "source": [
    "<div class=\"alert alert-block alert-info\"><b>Tip:</b> We can visualize the extracted hyperspectral channel to make sure there is a signal and everything looks good.</div>"
   ]
  },
  {
   "cell_type": "code",
   "execution_count": null,
   "metadata": {},
   "outputs": [],
   "source": [
    "# display < $data\"hypercube_to_csv.jpg\""
   ]
  },
  {
   "cell_type": "markdown",
   "metadata": {},
   "source": [
    "<div class=\"alert alert-block alert-info\"><b>Tip:</b> We can also inspect the alignment to make sure image layers stack and align well.</div>"
   ]
  },
  {
   "cell_type": "code",
   "execution_count": 56,
   "metadata": {},
   "outputs": [],
   "source": [
    "# display < output/$aligned"
   ]
  },
  {
   "cell_type": "markdown",
   "metadata": {},
   "source": [
    "### Generate `csv` of hyperspectral channel for every image in dataset"
   ]
  },
  {
   "cell_type": "code",
   "execution_count": 58,
   "metadata": {},
   "outputs": [],
   "source": [
    "hdr_files=$data/*.hdr"
   ]
  },
  {
   "cell_type": "code",
   "execution_count": 59,
   "metadata": {
    "collapsed": true,
    "jupyter": {
     "outputs_hidden": true
    }
   },
   "outputs": [
    {
     "name": "stdout",
     "output_type": "stream",
     "text": [
      "(test-environment) Reading hyperspectral image /run/media/labgroup/Elements_9//Transformation/FAB_Dev_Genes/wk10/Fluorescent//FAB1_I5.0_F1.9_L100LED30_184258_0_0_0_Fluorescence.hdr\n",
      "/home/labgroup/anaconda3/envs/test-environment/lib/python3.8/site-packages/spectral/io/envi.py:175: UserWarning: Parameters with non-lowercase names encountered and converted to lowercase. To retain source file parameter name capitalization, set spectral.settings.envi_support_nonlowercase_params to True.\n",
      "  warnings.warn(msg)\n",
      "Extracting channel at index 219\n",
      "Writing channel matrix to /run/media/labgroup/Elements_9//Transformation/FAB_Dev_Genes/wk10/Fluorescent//FAB1_I5.0_F1.9_L100LED30_184258_0_0_0_hyperchannel.csv\n",
      "Making image for inspection and writing to /run/media/labgroup/Elements_9//Transformation/FAB_Dev_Genes/wk10/Fluorescent//FAB1_I5.0_F1.9_L100LED30_184258_0_0_0_hyperchannel.jpg\n",
      "Reading hyperspectral image /run/media/labgroup/Elements_9//Transformation/FAB_Dev_Genes/wk10/Fluorescent//FAB1_I5.0_F1.9_L100LED30_184501_2_0_2_Fluorescence.hdr\n",
      "/home/labgroup/anaconda3/envs/test-environment/lib/python3.8/site-packages/spectral/io/envi.py:175: UserWarning: Parameters with non-lowercase names encountered and converted to lowercase. To retain source file parameter name capitalization, set spectral.settings.envi_support_nonlowercase_params to True.\n",
      "  warnings.warn(msg)\n",
      "Extracting channel at index 219\n",
      "Writing channel matrix to /run/media/labgroup/Elements_9//Transformation/FAB_Dev_Genes/wk10/Fluorescent//FAB1_I5.0_F1.9_L100LED30_184501_2_0_2_hyperchannel.csv\n",
      "Making image for inspection and writing to /run/media/labgroup/Elements_9//Transformation/FAB_Dev_Genes/wk10/Fluorescent//FAB1_I5.0_F1.9_L100LED30_184501_2_0_2_hyperchannel.jpg\n",
      "Reading hyperspectral image /run/media/labgroup/Elements_9//Transformation/FAB_Dev_Genes/wk10/Fluorescent//FAB1_I5.0_F1.9_L100LED30_184604_3_0_3_Fluorescence.hdr\n",
      "/home/labgroup/anaconda3/envs/test-environment/lib/python3.8/site-packages/spectral/io/envi.py:175: UserWarning: Parameters with non-lowercase names encountered and converted to lowercase. To retain source file parameter name capitalization, set spectral.settings.envi_support_nonlowercase_params to True.\n",
      "  warnings.warn(msg)\n",
      "Extracting channel at index 219\n",
      "Writing channel matrix to /run/media/labgroup/Elements_9//Transformation/FAB_Dev_Genes/wk10/Fluorescent//FAB1_I5.0_F1.9_L100LED30_184604_3_0_3_hyperchannel.csv\n",
      "Making image for inspection and writing to /run/media/labgroup/Elements_9//Transformation/FAB_Dev_Genes/wk10/Fluorescent//FAB1_I5.0_F1.9_L100LED30_184604_3_0_3_hyperchannel.jpg\n",
      "Reading hyperspectral image /run/media/labgroup/Elements_9//Transformation/FAB_Dev_Genes/wk10/Fluorescent//FAB1_I5.0_F1.9_L100LED30_184828_5_0_5_Fluorescence.hdr\n",
      "/home/labgroup/anaconda3/envs/test-environment/lib/python3.8/site-packages/spectral/io/envi.py:175: UserWarning: Parameters with non-lowercase names encountered and converted to lowercase. To retain source file parameter name capitalization, set spectral.settings.envi_support_nonlowercase_params to True.\n",
      "  warnings.warn(msg)\n",
      "Extracting channel at index 219\n",
      "Writing channel matrix to /run/media/labgroup/Elements_9//Transformation/FAB_Dev_Genes/wk10/Fluorescent//FAB1_I5.0_F1.9_L100LED30_184828_5_0_5_hyperchannel.csv\n",
      "Making image for inspection and writing to /run/media/labgroup/Elements_9//Transformation/FAB_Dev_Genes/wk10/Fluorescent//FAB1_I5.0_F1.9_L100LED30_184828_5_0_5_hyperchannel.jpg\n",
      "Reading hyperspectral image /run/media/labgroup/Elements_9//Transformation/FAB_Dev_Genes/wk10/Fluorescent//FAB1_I5.0_F1.9_L100LED30_184930_6_0_6_Fluorescence.hdr\n",
      "/home/labgroup/anaconda3/envs/test-environment/lib/python3.8/site-packages/spectral/io/envi.py:175: UserWarning: Parameters with non-lowercase names encountered and converted to lowercase. To retain source file parameter name capitalization, set spectral.settings.envi_support_nonlowercase_params to True.\n",
      "  warnings.warn(msg)\n",
      "Extracting channel at index 219\n",
      "Writing channel matrix to /run/media/labgroup/Elements_9//Transformation/FAB_Dev_Genes/wk10/Fluorescent//FAB1_I5.0_F1.9_L100LED30_184930_6_0_6_hyperchannel.csv\n",
      "Making image for inspection and writing to /run/media/labgroup/Elements_9//Transformation/FAB_Dev_Genes/wk10/Fluorescent//FAB1_I5.0_F1.9_L100LED30_184930_6_0_6_hyperchannel.jpg\n",
      "Reading hyperspectral image /run/media/labgroup/Elements_9//Transformation/FAB_Dev_Genes/wk10/Fluorescent//FAB1_I5.0_F1.9_L100LED30_185128_8_1_4_Fluorescence.hdr\n",
      "/home/labgroup/anaconda3/envs/test-environment/lib/python3.8/site-packages/spectral/io/envi.py:175: UserWarning: Parameters with non-lowercase names encountered and converted to lowercase. To retain source file parameter name capitalization, set spectral.settings.envi_support_nonlowercase_params to True.\n",
      "  warnings.warn(msg)\n",
      "Extracting channel at index 219\n",
      "Writing channel matrix to /run/media/labgroup/Elements_9//Transformation/FAB_Dev_Genes/wk10/Fluorescent//FAB1_I5.0_F1.9_L100LED30_185128_8_1_4_hyperchannel.csv\n",
      "Making image for inspection and writing to /run/media/labgroup/Elements_9//Transformation/FAB_Dev_Genes/wk10/Fluorescent//FAB1_I5.0_F1.9_L100LED30_185128_8_1_4_hyperchannel.jpg\n",
      "Reading hyperspectral image /run/media/labgroup/Elements_9//Transformation/FAB_Dev_Genes/wk10/Fluorescent//FAB1_I5.0_F1.9_L100LED30_190142_0_0_1_Fluorescence.hdr\n",
      "/home/labgroup/anaconda3/envs/test-environment/lib/python3.8/site-packages/spectral/io/envi.py:175: UserWarning: Parameters with non-lowercase names encountered and converted to lowercase. To retain source file parameter name capitalization, set spectral.settings.envi_support_nonlowercase_params to True.\n",
      "  warnings.warn(msg)\n",
      "Extracting channel at index 219\n",
      "Writing channel matrix to /run/media/labgroup/Elements_9//Transformation/FAB_Dev_Genes/wk10/Fluorescent//FAB1_I5.0_F1.9_L100LED30_190142_0_0_1_hyperchannel.csv\n",
      "Making image for inspection and writing to /run/media/labgroup/Elements_9//Transformation/FAB_Dev_Genes/wk10/Fluorescent//FAB1_I5.0_F1.9_L100LED30_190142_0_0_1_hyperchannel.jpg\n",
      "Reading hyperspectral image /run/media/labgroup/Elements_9//Transformation/FAB_Dev_Genes/wk10/Fluorescent//FAB1_I5.0_F1.9_L100LED30_190240_1_0_4_Fluorescence.hdr\n",
      "/home/labgroup/anaconda3/envs/test-environment/lib/python3.8/site-packages/spectral/io/envi.py:175: UserWarning: Parameters with non-lowercase names encountered and converted to lowercase. To retain source file parameter name capitalization, set spectral.settings.envi_support_nonlowercase_params to True.\n",
      "  warnings.warn(msg)\n",
      "Extracting channel at index 219\n",
      "Writing channel matrix to /run/media/labgroup/Elements_9//Transformation/FAB_Dev_Genes/wk10/Fluorescent//FAB1_I5.0_F1.9_L100LED30_190240_1_0_4_hyperchannel.csv\n",
      "Making image for inspection and writing to /run/media/labgroup/Elements_9//Transformation/FAB_Dev_Genes/wk10/Fluorescent//FAB1_I5.0_F1.9_L100LED30_190240_1_0_4_hyperchannel.jpg\n",
      "Reading hyperspectral image /run/media/labgroup/Elements_9//Transformation/FAB_Dev_Genes/wk10/Fluorescent//FAB1_I5.0_F1.9_L100LED30_190556_4_1_2_Fluorescence.hdr\n",
      "/home/labgroup/anaconda3/envs/test-environment/lib/python3.8/site-packages/spectral/io/envi.py:175: UserWarning: Parameters with non-lowercase names encountered and converted to lowercase. To retain source file parameter name capitalization, set spectral.settings.envi_support_nonlowercase_params to True.\n",
      "  warnings.warn(msg)\n",
      "Extracting channel at index 219\n",
      "Writing channel matrix to /run/media/labgroup/Elements_9//Transformation/FAB_Dev_Genes/wk10/Fluorescent//FAB1_I5.0_F1.9_L100LED30_190556_4_1_2_hyperchannel.csv\n",
      "Making image for inspection and writing to /run/media/labgroup/Elements_9//Transformation/FAB_Dev_Genes/wk10/Fluorescent//FAB1_I5.0_F1.9_L100LED30_190556_4_1_2_hyperchannel.jpg\n",
      "Reading hyperspectral image /run/media/labgroup/Elements_9//Transformation/FAB_Dev_Genes/wk10/Fluorescent//FAB1_I5.0_F1.9_L100_122447_3_1_1.hdr\n",
      "/home/labgroup/anaconda3/envs/test-environment/lib/python3.8/site-packages/spectral/io/envi.py:175: UserWarning: Parameters with non-lowercase names encountered and converted to lowercase. To retain source file parameter name capitalization, set spectral.settings.envi_support_nonlowercase_params to True.\n",
      "  warnings.warn(msg)\n",
      "Extracting channel at index 219\n",
      "Writing channel matrix to /run/media/labgroup/Elements_9//Transformation/FAB_Dev_Genes/wk10/Fluorescent//FAB1_I5.0_F1.9_L100_122447_3_1_1_hyperchannel.csv\n",
      "Making image for inspection and writing to /run/media/labgroup/Elements_9//Transformation/FAB_Dev_Genes/wk10/Fluorescent//FAB1_I5.0_F1.9_L100_122447_3_1_1_hyperchannel.jpg\n",
      "Reading hyperspectral image /run/media/labgroup/Elements_9//Transformation/FAB_Dev_Genes/wk10/Fluorescent//FAB1_I5.0_F1.9_L100_122545_4_1_0.hdr\n",
      "/home/labgroup/anaconda3/envs/test-environment/lib/python3.8/site-packages/spectral/io/envi.py:175: UserWarning: Parameters with non-lowercase names encountered and converted to lowercase. To retain source file parameter name capitalization, set spectral.settings.envi_support_nonlowercase_params to True.\n",
      "  warnings.warn(msg)\n",
      "Extracting channel at index 219\n",
      "Writing channel matrix to /run/media/labgroup/Elements_9//Transformation/FAB_Dev_Genes/wk10/Fluorescent//FAB1_I5.0_F1.9_L100_122545_4_1_0_hyperchannel.csv\n",
      "Making image for inspection and writing to /run/media/labgroup/Elements_9//Transformation/FAB_Dev_Genes/wk10/Fluorescent//FAB1_I5.0_F1.9_L100_122545_4_1_0_hyperchannel.jpg\n",
      "Reading hyperspectral image /run/media/labgroup/Elements_9//Transformation/FAB_Dev_Genes/wk10/Fluorescent//FAB1_I5.0_F1.9_L100_122640_5_2_0.hdr\n",
      "/home/labgroup/anaconda3/envs/test-environment/lib/python3.8/site-packages/spectral/io/envi.py:175: UserWarning: Parameters with non-lowercase names encountered and converted to lowercase. To retain source file parameter name capitalization, set spectral.settings.envi_support_nonlowercase_params to True.\n",
      "  warnings.warn(msg)\n",
      "Extracting channel at index 219\n",
      "Writing channel matrix to /run/media/labgroup/Elements_9//Transformation/FAB_Dev_Genes/wk10/Fluorescent//FAB1_I5.0_F1.9_L100_122640_5_2_0_hyperchannel.csv\n",
      "Making image for inspection and writing to /run/media/labgroup/Elements_9//Transformation/FAB_Dev_Genes/wk10/Fluorescent//FAB1_I5.0_F1.9_L100_122640_5_2_0_hyperchannel.jpg\n",
      "Reading hyperspectral image /run/media/labgroup/Elements_9//Transformation/FAB_Dev_Genes/wk10/Fluorescent//FAB1_I5.0_F1.9_L100_122727_6_2_1.hdr\n",
      "/home/labgroup/anaconda3/envs/test-environment/lib/python3.8/site-packages/spectral/io/envi.py:175: UserWarning: Parameters with non-lowercase names encountered and converted to lowercase. To retain source file parameter name capitalization, set spectral.settings.envi_support_nonlowercase_params to True.\n",
      "  warnings.warn(msg)\n",
      "Extracting channel at index 219\n",
      "Writing channel matrix to /run/media/labgroup/Elements_9//Transformation/FAB_Dev_Genes/wk10/Fluorescent//FAB1_I5.0_F1.9_L100_122727_6_2_1_hyperchannel.csv\n",
      "Making image for inspection and writing to /run/media/labgroup/Elements_9//Transformation/FAB_Dev_Genes/wk10/Fluorescent//FAB1_I5.0_F1.9_L100_122727_6_2_1_hyperchannel.jpg\n",
      "Reading hyperspectral image /run/media/labgroup/Elements_9//Transformation/FAB_Dev_Genes/wk10/Fluorescent//FAB1_I5.0_F1.9_L100_122823_7_2_2.hdr\n",
      "/home/labgroup/anaconda3/envs/test-environment/lib/python3.8/site-packages/spectral/io/envi.py:175: UserWarning: Parameters with non-lowercase names encountered and converted to lowercase. To retain source file parameter name capitalization, set spectral.settings.envi_support_nonlowercase_params to True.\n",
      "  warnings.warn(msg)\n",
      "Extracting channel at index 219\n",
      "Writing channel matrix to /run/media/labgroup/Elements_9//Transformation/FAB_Dev_Genes/wk10/Fluorescent//FAB1_I5.0_F1.9_L100_122823_7_2_2_hyperchannel.csv\n",
      "Making image for inspection and writing to /run/media/labgroup/Elements_9//Transformation/FAB_Dev_Genes/wk10/Fluorescent//FAB1_I5.0_F1.9_L100_122823_7_2_2_hyperchannel.jpg\n",
      "Reading hyperspectral image /run/media/labgroup/Elements_9//Transformation/FAB_Dev_Genes/wk10/Fluorescent//FAB1_I5.0_F1.9_L100_122918_8_2_3.hdr\n",
      "/home/labgroup/anaconda3/envs/test-environment/lib/python3.8/site-packages/spectral/io/envi.py:175: UserWarning: Parameters with non-lowercase names encountered and converted to lowercase. To retain source file parameter name capitalization, set spectral.settings.envi_support_nonlowercase_params to True.\n",
      "  warnings.warn(msg)\n",
      "Extracting channel at index 219\n",
      "Writing channel matrix to /run/media/labgroup/Elements_9//Transformation/FAB_Dev_Genes/wk10/Fluorescent//FAB1_I5.0_F1.9_L100_122918_8_2_3_hyperchannel.csv\n",
      "Making image for inspection and writing to /run/media/labgroup/Elements_9//Transformation/FAB_Dev_Genes/wk10/Fluorescent//FAB1_I5.0_F1.9_L100_122918_8_2_3_hyperchannel.jpg\n",
      "Reading hyperspectral image /run/media/labgroup/Elements_9//Transformation/FAB_Dev_Genes/wk10/Fluorescent//FAB1_I5.0_F1.9_L100_123013_9_2_4.hdr\n",
      "/home/labgroup/anaconda3/envs/test-environment/lib/python3.8/site-packages/spectral/io/envi.py:175: UserWarning: Parameters with non-lowercase names encountered and converted to lowercase. To retain source file parameter name capitalization, set spectral.settings.envi_support_nonlowercase_params to True.\n",
      "  warnings.warn(msg)\n",
      "Extracting channel at index 219\n",
      "Writing channel matrix to /run/media/labgroup/Elements_9//Transformation/FAB_Dev_Genes/wk10/Fluorescent//FAB1_I5.0_F1.9_L100_123013_9_2_4_hyperchannel.csv\n",
      "Making image for inspection and writing to /run/media/labgroup/Elements_9//Transformation/FAB_Dev_Genes/wk10/Fluorescent//FAB1_I5.0_F1.9_L100_123013_9_2_4_hyperchannel.jpg\n",
      "Reading hyperspectral image /run/media/labgroup/Elements_9//Transformation/FAB_Dev_Genes/wk10/Fluorescent//FAB1_I5.0_F1.9_L100_123108_10_2_5.hdr\n",
      "/home/labgroup/anaconda3/envs/test-environment/lib/python3.8/site-packages/spectral/io/envi.py:175: UserWarning: Parameters with non-lowercase names encountered and converted to lowercase. To retain source file parameter name capitalization, set spectral.settings.envi_support_nonlowercase_params to True.\n",
      "  warnings.warn(msg)\n",
      "Extracting channel at index 219\n",
      "Writing channel matrix to /run/media/labgroup/Elements_9//Transformation/FAB_Dev_Genes/wk10/Fluorescent//FAB1_I5.0_F1.9_L100_123108_10_2_5_hyperchannel.csv\n",
      "Making image for inspection and writing to /run/media/labgroup/Elements_9//Transformation/FAB_Dev_Genes/wk10/Fluorescent//FAB1_I5.0_F1.9_L100_123108_10_2_5_hyperchannel.jpg\n",
      "Reading hyperspectral image /run/media/labgroup/Elements_9//Transformation/FAB_Dev_Genes/wk10/Fluorescent//FAB1_I5.0_F1.9_L100_123204_11_2_6.hdr\n",
      "/home/labgroup/anaconda3/envs/test-environment/lib/python3.8/site-packages/spectral/io/envi.py:175: UserWarning: Parameters with non-lowercase names encountered and converted to lowercase. To retain source file parameter name capitalization, set spectral.settings.envi_support_nonlowercase_params to True.\n",
      "  warnings.warn(msg)\n",
      "Extracting channel at index 219\n",
      "Writing channel matrix to /run/media/labgroup/Elements_9//Transformation/FAB_Dev_Genes/wk10/Fluorescent//FAB1_I5.0_F1.9_L100_123204_11_2_6_hyperchannel.csv\n",
      "Making image for inspection and writing to /run/media/labgroup/Elements_9//Transformation/FAB_Dev_Genes/wk10/Fluorescent//FAB1_I5.0_F1.9_L100_123204_11_2_6_hyperchannel.jpg\n",
      "Reading hyperspectral image /run/media/labgroup/Elements_9//Transformation/FAB_Dev_Genes/wk10/Fluorescent//FAB1_I5.0_F1.9_L100_123741_0_1_5.hdr\n",
      "/home/labgroup/anaconda3/envs/test-environment/lib/python3.8/site-packages/spectral/io/envi.py:175: UserWarning: Parameters with non-lowercase names encountered and converted to lowercase. To retain source file parameter name capitalization, set spectral.settings.envi_support_nonlowercase_params to True.\n",
      "  warnings.warn(msg)\n",
      "Extracting channel at index 219\n",
      "Writing channel matrix to /run/media/labgroup/Elements_9//Transformation/FAB_Dev_Genes/wk10/Fluorescent//FAB1_I5.0_F1.9_L100_123741_0_1_5_hyperchannel.csv\n",
      "Making image for inspection and writing to /run/media/labgroup/Elements_9//Transformation/FAB_Dev_Genes/wk10/Fluorescent//FAB1_I5.0_F1.9_L100_123741_0_1_5_hyperchannel.jpg\n",
      "Reading hyperspectral image /run/media/labgroup/Elements_9//Transformation/FAB_Dev_Genes/wk10/Fluorescent//FAB1_I5.0_F1.9_L100_123907_1_1_3.hdr\n",
      "/home/labgroup/anaconda3/envs/test-environment/lib/python3.8/site-packages/spectral/io/envi.py:175: UserWarning: Parameters with non-lowercase names encountered and converted to lowercase. To retain source file parameter name capitalization, set spectral.settings.envi_support_nonlowercase_params to True.\n",
      "  warnings.warn(msg)\n",
      "Extracting channel at index 219\n",
      "Writing channel matrix to /run/media/labgroup/Elements_9//Transformation/FAB_Dev_Genes/wk10/Fluorescent//FAB1_I5.0_F1.9_L100_123907_1_1_3_hyperchannel.csv\n",
      "Making image for inspection and writing to /run/media/labgroup/Elements_9//Transformation/FAB_Dev_Genes/wk10/Fluorescent//FAB1_I5.0_F1.9_L100_123907_1_1_3_hyperchannel.jpg\n",
      "Reading hyperspectral image /run/media/labgroup/Elements_9//Transformation/FAB_Dev_Genes/wk10/Fluorescent//FAB2_I5.0_F1.9_L100_124702_0_0_0.hdr\n",
      "/home/labgroup/anaconda3/envs/test-environment/lib/python3.8/site-packages/spectral/io/envi.py:175: UserWarning: Parameters with non-lowercase names encountered and converted to lowercase. To retain source file parameter name capitalization, set spectral.settings.envi_support_nonlowercase_params to True.\n",
      "  warnings.warn(msg)\n",
      "Extracting channel at index 219\n",
      "Writing channel matrix to /run/media/labgroup/Elements_9//Transformation/FAB_Dev_Genes/wk10/Fluorescent//FAB2_I5.0_F1.9_L100_124702_0_0_0_hyperchannel.csv\n",
      "Making image for inspection and writing to /run/media/labgroup/Elements_9//Transformation/FAB_Dev_Genes/wk10/Fluorescent//FAB2_I5.0_F1.9_L100_124702_0_0_0_hyperchannel.jpg\n",
      "Reading hyperspectral image /run/media/labgroup/Elements_9//Transformation/FAB_Dev_Genes/wk10/Fluorescent//FAB2_I5.0_F1.9_L100_124741_1_0_1.hdr\n",
      "/home/labgroup/anaconda3/envs/test-environment/lib/python3.8/site-packages/spectral/io/envi.py:175: UserWarning: Parameters with non-lowercase names encountered and converted to lowercase. To retain source file parameter name capitalization, set spectral.settings.envi_support_nonlowercase_params to True.\n",
      "  warnings.warn(msg)\n",
      "Extracting channel at index 219\n",
      "Writing channel matrix to /run/media/labgroup/Elements_9//Transformation/FAB_Dev_Genes/wk10/Fluorescent//FAB2_I5.0_F1.9_L100_124741_1_0_1_hyperchannel.csv\n",
      "Making image for inspection and writing to /run/media/labgroup/Elements_9//Transformation/FAB_Dev_Genes/wk10/Fluorescent//FAB2_I5.0_F1.9_L100_124741_1_0_1_hyperchannel.jpg\n",
      "Reading hyperspectral image /run/media/labgroup/Elements_9//Transformation/FAB_Dev_Genes/wk10/Fluorescent//FAB2_I5.0_F1.9_L100_124836_2_0_2.hdr\n",
      "/home/labgroup/anaconda3/envs/test-environment/lib/python3.8/site-packages/spectral/io/envi.py:175: UserWarning: Parameters with non-lowercase names encountered and converted to lowercase. To retain source file parameter name capitalization, set spectral.settings.envi_support_nonlowercase_params to True.\n",
      "  warnings.warn(msg)\n",
      "Extracting channel at index 219\n",
      "Writing channel matrix to /run/media/labgroup/Elements_9//Transformation/FAB_Dev_Genes/wk10/Fluorescent//FAB2_I5.0_F1.9_L100_124836_2_0_2_hyperchannel.csv\n",
      "Making image for inspection and writing to /run/media/labgroup/Elements_9//Transformation/FAB_Dev_Genes/wk10/Fluorescent//FAB2_I5.0_F1.9_L100_124836_2_0_2_hyperchannel.jpg\n",
      "Reading hyperspectral image /run/media/labgroup/Elements_9//Transformation/FAB_Dev_Genes/wk10/Fluorescent//FAB2_I5.0_F1.9_L100_124931_3_0_3.hdr\n",
      "/home/labgroup/anaconda3/envs/test-environment/lib/python3.8/site-packages/spectral/io/envi.py:175: UserWarning: Parameters with non-lowercase names encountered and converted to lowercase. To retain source file parameter name capitalization, set spectral.settings.envi_support_nonlowercase_params to True.\n",
      "  warnings.warn(msg)\n",
      "Extracting channel at index 219\n",
      "Writing channel matrix to /run/media/labgroup/Elements_9//Transformation/FAB_Dev_Genes/wk10/Fluorescent//FAB2_I5.0_F1.9_L100_124931_3_0_3_hyperchannel.csv\n",
      "Making image for inspection and writing to /run/media/labgroup/Elements_9//Transformation/FAB_Dev_Genes/wk10/Fluorescent//FAB2_I5.0_F1.9_L100_124931_3_0_3_hyperchannel.jpg\n",
      "Reading hyperspectral image /run/media/labgroup/Elements_9//Transformation/FAB_Dev_Genes/wk10/Fluorescent//FAB2_I5.0_F1.9_L100_125026_4_0_4.hdr\n",
      "/home/labgroup/anaconda3/envs/test-environment/lib/python3.8/site-packages/spectral/io/envi.py:175: UserWarning: Parameters with non-lowercase names encountered and converted to lowercase. To retain source file parameter name capitalization, set spectral.settings.envi_support_nonlowercase_params to True.\n",
      "  warnings.warn(msg)\n",
      "Extracting channel at index 219\n",
      "Writing channel matrix to /run/media/labgroup/Elements_9//Transformation/FAB_Dev_Genes/wk10/Fluorescent//FAB2_I5.0_F1.9_L100_125026_4_0_4_hyperchannel.csv\n",
      "Making image for inspection and writing to /run/media/labgroup/Elements_9//Transformation/FAB_Dev_Genes/wk10/Fluorescent//FAB2_I5.0_F1.9_L100_125026_4_0_4_hyperchannel.jpg\n",
      "Reading hyperspectral image /run/media/labgroup/Elements_9//Transformation/FAB_Dev_Genes/wk10/Fluorescent//FAB2_I5.0_F1.9_L100_125122_5_0_5.hdr\n",
      "/home/labgroup/anaconda3/envs/test-environment/lib/python3.8/site-packages/spectral/io/envi.py:175: UserWarning: Parameters with non-lowercase names encountered and converted to lowercase. To retain source file parameter name capitalization, set spectral.settings.envi_support_nonlowercase_params to True.\n",
      "  warnings.warn(msg)\n",
      "Extracting channel at index 219\n",
      "Writing channel matrix to /run/media/labgroup/Elements_9//Transformation/FAB_Dev_Genes/wk10/Fluorescent//FAB2_I5.0_F1.9_L100_125122_5_0_5_hyperchannel.csv\n",
      "Making image for inspection and writing to /run/media/labgroup/Elements_9//Transformation/FAB_Dev_Genes/wk10/Fluorescent//FAB2_I5.0_F1.9_L100_125122_5_0_5_hyperchannel.jpg\n",
      "Reading hyperspectral image /run/media/labgroup/Elements_9//Transformation/FAB_Dev_Genes/wk10/Fluorescent//FAB2_I5.0_F1.9_L100_125217_6_0_6.hdr\n",
      "/home/labgroup/anaconda3/envs/test-environment/lib/python3.8/site-packages/spectral/io/envi.py:175: UserWarning: Parameters with non-lowercase names encountered and converted to lowercase. To retain source file parameter name capitalization, set spectral.settings.envi_support_nonlowercase_params to True.\n",
      "  warnings.warn(msg)\n",
      "Extracting channel at index 219\n",
      "Writing channel matrix to /run/media/labgroup/Elements_9//Transformation/FAB_Dev_Genes/wk10/Fluorescent//FAB2_I5.0_F1.9_L100_125217_6_0_6_hyperchannel.csv\n",
      "Making image for inspection and writing to /run/media/labgroup/Elements_9//Transformation/FAB_Dev_Genes/wk10/Fluorescent//FAB2_I5.0_F1.9_L100_125217_6_0_6_hyperchannel.jpg\n",
      "Reading hyperspectral image /run/media/labgroup/Elements_9//Transformation/FAB_Dev_Genes/wk10/Fluorescent//FAB2_I5.0_F1.9_L100_125312_7_1_6.hdr\n",
      "/home/labgroup/anaconda3/envs/test-environment/lib/python3.8/site-packages/spectral/io/envi.py:175: UserWarning: Parameters with non-lowercase names encountered and converted to lowercase. To retain source file parameter name capitalization, set spectral.settings.envi_support_nonlowercase_params to True.\n",
      "  warnings.warn(msg)\n",
      "Extracting channel at index 219\n",
      "Writing channel matrix to /run/media/labgroup/Elements_9//Transformation/FAB_Dev_Genes/wk10/Fluorescent//FAB2_I5.0_F1.9_L100_125312_7_1_6_hyperchannel.csv\n",
      "Making image for inspection and writing to /run/media/labgroup/Elements_9//Transformation/FAB_Dev_Genes/wk10/Fluorescent//FAB2_I5.0_F1.9_L100_125312_7_1_6_hyperchannel.jpg\n",
      "Reading hyperspectral image /run/media/labgroup/Elements_9//Transformation/FAB_Dev_Genes/wk10/Fluorescent//FAB2_I5.0_F1.9_L100_125359_8_1_5.hdr\n",
      "/home/labgroup/anaconda3/envs/test-environment/lib/python3.8/site-packages/spectral/io/envi.py:175: UserWarning: Parameters with non-lowercase names encountered and converted to lowercase. To retain source file parameter name capitalization, set spectral.settings.envi_support_nonlowercase_params to True.\n",
      "  warnings.warn(msg)\n",
      "Extracting channel at index 219\n",
      "Writing channel matrix to /run/media/labgroup/Elements_9//Transformation/FAB_Dev_Genes/wk10/Fluorescent//FAB2_I5.0_F1.9_L100_125359_8_1_5_hyperchannel.csv\n",
      "Making image for inspection and writing to /run/media/labgroup/Elements_9//Transformation/FAB_Dev_Genes/wk10/Fluorescent//FAB2_I5.0_F1.9_L100_125359_8_1_5_hyperchannel.jpg\n",
      "Reading hyperspectral image /run/media/labgroup/Elements_9//Transformation/FAB_Dev_Genes/wk10/Fluorescent//FAB2_I5.0_F1.9_L100_125454_9_1_4.hdr\n",
      "/home/labgroup/anaconda3/envs/test-environment/lib/python3.8/site-packages/spectral/io/envi.py:175: UserWarning: Parameters with non-lowercase names encountered and converted to lowercase. To retain source file parameter name capitalization, set spectral.settings.envi_support_nonlowercase_params to True.\n",
      "  warnings.warn(msg)\n",
      "Extracting channel at index 219\n",
      "Writing channel matrix to /run/media/labgroup/Elements_9//Transformation/FAB_Dev_Genes/wk10/Fluorescent//FAB2_I5.0_F1.9_L100_125454_9_1_4_hyperchannel.csv\n",
      "Making image for inspection and writing to /run/media/labgroup/Elements_9//Transformation/FAB_Dev_Genes/wk10/Fluorescent//FAB2_I5.0_F1.9_L100_125454_9_1_4_hyperchannel.jpg\n",
      "Reading hyperspectral image /run/media/labgroup/Elements_9//Transformation/FAB_Dev_Genes/wk10/Fluorescent//FAB2_I5.0_F1.9_L100_125549_10_1_3.hdr\n",
      "/home/labgroup/anaconda3/envs/test-environment/lib/python3.8/site-packages/spectral/io/envi.py:175: UserWarning: Parameters with non-lowercase names encountered and converted to lowercase. To retain source file parameter name capitalization, set spectral.settings.envi_support_nonlowercase_params to True.\n",
      "  warnings.warn(msg)\n",
      "Extracting channel at index 219\n",
      "Writing channel matrix to /run/media/labgroup/Elements_9//Transformation/FAB_Dev_Genes/wk10/Fluorescent//FAB2_I5.0_F1.9_L100_125549_10_1_3_hyperchannel.csv\n",
      "Making image for inspection and writing to /run/media/labgroup/Elements_9//Transformation/FAB_Dev_Genes/wk10/Fluorescent//FAB2_I5.0_F1.9_L100_125549_10_1_3_hyperchannel.jpg\n",
      "Reading hyperspectral image /run/media/labgroup/Elements_9//Transformation/FAB_Dev_Genes/wk10/Fluorescent//FAB2_I5.0_F1.9_L100_125644_11_1_2.hdr\n",
      "/home/labgroup/anaconda3/envs/test-environment/lib/python3.8/site-packages/spectral/io/envi.py:175: UserWarning: Parameters with non-lowercase names encountered and converted to lowercase. To retain source file parameter name capitalization, set spectral.settings.envi_support_nonlowercase_params to True.\n",
      "  warnings.warn(msg)\n",
      "Extracting channel at index 219\n",
      "Writing channel matrix to /run/media/labgroup/Elements_9//Transformation/FAB_Dev_Genes/wk10/Fluorescent//FAB2_I5.0_F1.9_L100_125644_11_1_2_hyperchannel.csv\n",
      "Making image for inspection and writing to /run/media/labgroup/Elements_9//Transformation/FAB_Dev_Genes/wk10/Fluorescent//FAB2_I5.0_F1.9_L100_125644_11_1_2_hyperchannel.jpg\n",
      "Reading hyperspectral image /run/media/labgroup/Elements_9//Transformation/FAB_Dev_Genes/wk10/Fluorescent//FAB2_I5.0_F1.9_L100_125739_12_1_1.hdr\n",
      "/home/labgroup/anaconda3/envs/test-environment/lib/python3.8/site-packages/spectral/io/envi.py:175: UserWarning: Parameters with non-lowercase names encountered and converted to lowercase. To retain source file parameter name capitalization, set spectral.settings.envi_support_nonlowercase_params to True.\n",
      "  warnings.warn(msg)\n",
      "Extracting channel at index 219\n",
      "Writing channel matrix to /run/media/labgroup/Elements_9//Transformation/FAB_Dev_Genes/wk10/Fluorescent//FAB2_I5.0_F1.9_L100_125739_12_1_1_hyperchannel.csv\n",
      "Making image for inspection and writing to /run/media/labgroup/Elements_9//Transformation/FAB_Dev_Genes/wk10/Fluorescent//FAB2_I5.0_F1.9_L100_125739_12_1_1_hyperchannel.jpg\n",
      "Reading hyperspectral image /run/media/labgroup/Elements_9//Transformation/FAB_Dev_Genes/wk10/Fluorescent//FAB2_I5.0_F1.9_L100_125834_13_1_0.hdr\n",
      "/home/labgroup/anaconda3/envs/test-environment/lib/python3.8/site-packages/spectral/io/envi.py:175: UserWarning: Parameters with non-lowercase names encountered and converted to lowercase. To retain source file parameter name capitalization, set spectral.settings.envi_support_nonlowercase_params to True.\n",
      "  warnings.warn(msg)\n",
      "Extracting channel at index 219\n",
      "Writing channel matrix to /run/media/labgroup/Elements_9//Transformation/FAB_Dev_Genes/wk10/Fluorescent//FAB2_I5.0_F1.9_L100_125834_13_1_0_hyperchannel.csv\n",
      "Making image for inspection and writing to /run/media/labgroup/Elements_9//Transformation/FAB_Dev_Genes/wk10/Fluorescent//FAB2_I5.0_F1.9_L100_125834_13_1_0_hyperchannel.jpg\n",
      "Reading hyperspectral image /run/media/labgroup/Elements_9//Transformation/FAB_Dev_Genes/wk10/Fluorescent//FAB2_I5.0_F1.9_L100_125928_14_2_0.hdr\n",
      "/home/labgroup/anaconda3/envs/test-environment/lib/python3.8/site-packages/spectral/io/envi.py:175: UserWarning: Parameters with non-lowercase names encountered and converted to lowercase. To retain source file parameter name capitalization, set spectral.settings.envi_support_nonlowercase_params to True.\n",
      "  warnings.warn(msg)\n",
      "Extracting channel at index 219\n",
      "Writing channel matrix to /run/media/labgroup/Elements_9//Transformation/FAB_Dev_Genes/wk10/Fluorescent//FAB2_I5.0_F1.9_L100_125928_14_2_0_hyperchannel.csv\n",
      "Making image for inspection and writing to /run/media/labgroup/Elements_9//Transformation/FAB_Dev_Genes/wk10/Fluorescent//FAB2_I5.0_F1.9_L100_125928_14_2_0_hyperchannel.jpg\n",
      "Reading hyperspectral image /run/media/labgroup/Elements_9//Transformation/FAB_Dev_Genes/wk10/Fluorescent//FAB2_I5.0_F1.9_L100_130015_15_2_1.hdr\n",
      "/home/labgroup/anaconda3/envs/test-environment/lib/python3.8/site-packages/spectral/io/envi.py:175: UserWarning: Parameters with non-lowercase names encountered and converted to lowercase. To retain source file parameter name capitalization, set spectral.settings.envi_support_nonlowercase_params to True.\n",
      "  warnings.warn(msg)\n",
      "Extracting channel at index 219\n",
      "Writing channel matrix to /run/media/labgroup/Elements_9//Transformation/FAB_Dev_Genes/wk10/Fluorescent//FAB2_I5.0_F1.9_L100_130015_15_2_1_hyperchannel.csv\n",
      "Making image for inspection and writing to /run/media/labgroup/Elements_9//Transformation/FAB_Dev_Genes/wk10/Fluorescent//FAB2_I5.0_F1.9_L100_130015_15_2_1_hyperchannel.jpg\n",
      "Reading hyperspectral image /run/media/labgroup/Elements_9//Transformation/FAB_Dev_Genes/wk10/Fluorescent//FAB2_I5.0_F1.9_L100_130111_16_2_2.hdr\n",
      "/home/labgroup/anaconda3/envs/test-environment/lib/python3.8/site-packages/spectral/io/envi.py:175: UserWarning: Parameters with non-lowercase names encountered and converted to lowercase. To retain source file parameter name capitalization, set spectral.settings.envi_support_nonlowercase_params to True.\n",
      "  warnings.warn(msg)\n",
      "Extracting channel at index 219\n",
      "Writing channel matrix to /run/media/labgroup/Elements_9//Transformation/FAB_Dev_Genes/wk10/Fluorescent//FAB2_I5.0_F1.9_L100_130111_16_2_2_hyperchannel.csv\n",
      "Making image for inspection and writing to /run/media/labgroup/Elements_9//Transformation/FAB_Dev_Genes/wk10/Fluorescent//FAB2_I5.0_F1.9_L100_130111_16_2_2_hyperchannel.jpg\n",
      "Reading hyperspectral image /run/media/labgroup/Elements_9//Transformation/FAB_Dev_Genes/wk10/Fluorescent//FAB2_I5.0_F1.9_L100_130206_17_2_3.hdr\n",
      "/home/labgroup/anaconda3/envs/test-environment/lib/python3.8/site-packages/spectral/io/envi.py:175: UserWarning: Parameters with non-lowercase names encountered and converted to lowercase. To retain source file parameter name capitalization, set spectral.settings.envi_support_nonlowercase_params to True.\n",
      "  warnings.warn(msg)\n",
      "Extracting channel at index 219\n",
      "Writing channel matrix to /run/media/labgroup/Elements_9//Transformation/FAB_Dev_Genes/wk10/Fluorescent//FAB2_I5.0_F1.9_L100_130206_17_2_3_hyperchannel.csv\n",
      "Making image for inspection and writing to /run/media/labgroup/Elements_9//Transformation/FAB_Dev_Genes/wk10/Fluorescent//FAB2_I5.0_F1.9_L100_130206_17_2_3_hyperchannel.jpg\n",
      "Reading hyperspectral image /run/media/labgroup/Elements_9//Transformation/FAB_Dev_Genes/wk10/Fluorescent//FAB2_I5.0_F1.9_L100_130301_18_2_4.hdr\n",
      "/home/labgroup/anaconda3/envs/test-environment/lib/python3.8/site-packages/spectral/io/envi.py:175: UserWarning: Parameters with non-lowercase names encountered and converted to lowercase. To retain source file parameter name capitalization, set spectral.settings.envi_support_nonlowercase_params to True.\n",
      "  warnings.warn(msg)\n",
      "Extracting channel at index 219\n",
      "Writing channel matrix to /run/media/labgroup/Elements_9//Transformation/FAB_Dev_Genes/wk10/Fluorescent//FAB2_I5.0_F1.9_L100_130301_18_2_4_hyperchannel.csv\n",
      "Making image for inspection and writing to /run/media/labgroup/Elements_9//Transformation/FAB_Dev_Genes/wk10/Fluorescent//FAB2_I5.0_F1.9_L100_130301_18_2_4_hyperchannel.jpg\n",
      "Reading hyperspectral image /run/media/labgroup/Elements_9//Transformation/FAB_Dev_Genes/wk10/Fluorescent//FAB2_I5.0_F1.9_L100_130355_19_2_5.hdr\n",
      "/home/labgroup/anaconda3/envs/test-environment/lib/python3.8/site-packages/spectral/io/envi.py:175: UserWarning: Parameters with non-lowercase names encountered and converted to lowercase. To retain source file parameter name capitalization, set spectral.settings.envi_support_nonlowercase_params to True.\n",
      "  warnings.warn(msg)\n",
      "Extracting channel at index 219\n",
      "Writing channel matrix to /run/media/labgroup/Elements_9//Transformation/FAB_Dev_Genes/wk10/Fluorescent//FAB2_I5.0_F1.9_L100_130355_19_2_5_hyperchannel.csv\n",
      "Making image for inspection and writing to /run/media/labgroup/Elements_9//Transformation/FAB_Dev_Genes/wk10/Fluorescent//FAB2_I5.0_F1.9_L100_130355_19_2_5_hyperchannel.jpg\n",
      "Reading hyperspectral image /run/media/labgroup/Elements_9//Transformation/FAB_Dev_Genes/wk10/Fluorescent//FAB2_I5.0_F1.9_L100_130451_20_2_6.hdr\n",
      "/home/labgroup/anaconda3/envs/test-environment/lib/python3.8/site-packages/spectral/io/envi.py:175: UserWarning: Parameters with non-lowercase names encountered and converted to lowercase. To retain source file parameter name capitalization, set spectral.settings.envi_support_nonlowercase_params to True.\n",
      "  warnings.warn(msg)\n",
      "Extracting channel at index 219\n",
      "Writing channel matrix to /run/media/labgroup/Elements_9//Transformation/FAB_Dev_Genes/wk10/Fluorescent//FAB2_I5.0_F1.9_L100_130451_20_2_6_hyperchannel.csv\n",
      "Making image for inspection and writing to /run/media/labgroup/Elements_9//Transformation/FAB_Dev_Genes/wk10/Fluorescent//FAB2_I5.0_F1.9_L100_130451_20_2_6_hyperchannel.jpg\n",
      "Reading hyperspectral image /run/media/labgroup/Elements_9//Transformation/FAB_Dev_Genes/wk10/Fluorescent//FAB3_I5.0_F1.9_L100_130908_0_0_0.hdr\n",
      "/home/labgroup/anaconda3/envs/test-environment/lib/python3.8/site-packages/spectral/io/envi.py:175: UserWarning: Parameters with non-lowercase names encountered and converted to lowercase. To retain source file parameter name capitalization, set spectral.settings.envi_support_nonlowercase_params to True.\n",
      "  warnings.warn(msg)\n",
      "Extracting channel at index 219\n",
      "Writing channel matrix to /run/media/labgroup/Elements_9//Transformation/FAB_Dev_Genes/wk10/Fluorescent//FAB3_I5.0_F1.9_L100_130908_0_0_0_hyperchannel.csv\n",
      "Making image for inspection and writing to /run/media/labgroup/Elements_9//Transformation/FAB_Dev_Genes/wk10/Fluorescent//FAB3_I5.0_F1.9_L100_130908_0_0_0_hyperchannel.jpg\n",
      "Reading hyperspectral image /run/media/labgroup/Elements_9//Transformation/FAB_Dev_Genes/wk10/Fluorescent//FAB3_I5.0_F1.9_L100_130947_1_0_1.hdr\n",
      "/home/labgroup/anaconda3/envs/test-environment/lib/python3.8/site-packages/spectral/io/envi.py:175: UserWarning: Parameters with non-lowercase names encountered and converted to lowercase. To retain source file parameter name capitalization, set spectral.settings.envi_support_nonlowercase_params to True.\n",
      "  warnings.warn(msg)\n",
      "Extracting channel at index 219\n",
      "Writing channel matrix to /run/media/labgroup/Elements_9//Transformation/FAB_Dev_Genes/wk10/Fluorescent//FAB3_I5.0_F1.9_L100_130947_1_0_1_hyperchannel.csv\n",
      "Making image for inspection and writing to /run/media/labgroup/Elements_9//Transformation/FAB_Dev_Genes/wk10/Fluorescent//FAB3_I5.0_F1.9_L100_130947_1_0_1_hyperchannel.jpg\n",
      "Reading hyperspectral image /run/media/labgroup/Elements_9//Transformation/FAB_Dev_Genes/wk10/Fluorescent//FAB3_I5.0_F1.9_L100_131043_2_0_2.hdr\n",
      "/home/labgroup/anaconda3/envs/test-environment/lib/python3.8/site-packages/spectral/io/envi.py:175: UserWarning: Parameters with non-lowercase names encountered and converted to lowercase. To retain source file parameter name capitalization, set spectral.settings.envi_support_nonlowercase_params to True.\n",
      "  warnings.warn(msg)\n",
      "Extracting channel at index 219\n",
      "Writing channel matrix to /run/media/labgroup/Elements_9//Transformation/FAB_Dev_Genes/wk10/Fluorescent//FAB3_I5.0_F1.9_L100_131043_2_0_2_hyperchannel.csv\n",
      "Making image for inspection and writing to /run/media/labgroup/Elements_9//Transformation/FAB_Dev_Genes/wk10/Fluorescent//FAB3_I5.0_F1.9_L100_131043_2_0_2_hyperchannel.jpg\n",
      "Reading hyperspectral image /run/media/labgroup/Elements_9//Transformation/FAB_Dev_Genes/wk10/Fluorescent//FAB3_I5.0_F1.9_L100_131137_3_0_3.hdr\n",
      "/home/labgroup/anaconda3/envs/test-environment/lib/python3.8/site-packages/spectral/io/envi.py:175: UserWarning: Parameters with non-lowercase names encountered and converted to lowercase. To retain source file parameter name capitalization, set spectral.settings.envi_support_nonlowercase_params to True.\n",
      "  warnings.warn(msg)\n",
      "Extracting channel at index 219\n",
      "Writing channel matrix to /run/media/labgroup/Elements_9//Transformation/FAB_Dev_Genes/wk10/Fluorescent//FAB3_I5.0_F1.9_L100_131137_3_0_3_hyperchannel.csv\n",
      "Making image for inspection and writing to /run/media/labgroup/Elements_9//Transformation/FAB_Dev_Genes/wk10/Fluorescent//FAB3_I5.0_F1.9_L100_131137_3_0_3_hyperchannel.jpg\n",
      "Reading hyperspectral image /run/media/labgroup/Elements_9//Transformation/FAB_Dev_Genes/wk10/Fluorescent//FAB3_I5.0_F1.9_L100_131231_4_0_4.hdr\n",
      "/home/labgroup/anaconda3/envs/test-environment/lib/python3.8/site-packages/spectral/io/envi.py:175: UserWarning: Parameters with non-lowercase names encountered and converted to lowercase. To retain source file parameter name capitalization, set spectral.settings.envi_support_nonlowercase_params to True.\n",
      "  warnings.warn(msg)\n",
      "Extracting channel at index 219\n",
      "Writing channel matrix to /run/media/labgroup/Elements_9//Transformation/FAB_Dev_Genes/wk10/Fluorescent//FAB3_I5.0_F1.9_L100_131231_4_0_4_hyperchannel.csv\n",
      "Making image for inspection and writing to /run/media/labgroup/Elements_9//Transformation/FAB_Dev_Genes/wk10/Fluorescent//FAB3_I5.0_F1.9_L100_131231_4_0_4_hyperchannel.jpg\n",
      "Reading hyperspectral image /run/media/labgroup/Elements_9//Transformation/FAB_Dev_Genes/wk10/Fluorescent//FAB3_I5.0_F1.9_L100_131327_5_0_5.hdr\n",
      "/home/labgroup/anaconda3/envs/test-environment/lib/python3.8/site-packages/spectral/io/envi.py:175: UserWarning: Parameters with non-lowercase names encountered and converted to lowercase. To retain source file parameter name capitalization, set spectral.settings.envi_support_nonlowercase_params to True.\n",
      "  warnings.warn(msg)\n",
      "Extracting channel at index 219\n",
      "Writing channel matrix to /run/media/labgroup/Elements_9//Transformation/FAB_Dev_Genes/wk10/Fluorescent//FAB3_I5.0_F1.9_L100_131327_5_0_5_hyperchannel.csv\n",
      "Making image for inspection and writing to /run/media/labgroup/Elements_9//Transformation/FAB_Dev_Genes/wk10/Fluorescent//FAB3_I5.0_F1.9_L100_131327_5_0_5_hyperchannel.jpg\n",
      "Reading hyperspectral image /run/media/labgroup/Elements_9//Transformation/FAB_Dev_Genes/wk10/Fluorescent//FAB3_I5.0_F1.9_L100_131422_6_0_6.hdr\n",
      "/home/labgroup/anaconda3/envs/test-environment/lib/python3.8/site-packages/spectral/io/envi.py:175: UserWarning: Parameters with non-lowercase names encountered and converted to lowercase. To retain source file parameter name capitalization, set spectral.settings.envi_support_nonlowercase_params to True.\n",
      "  warnings.warn(msg)\n",
      "Extracting channel at index 219\n",
      "Writing channel matrix to /run/media/labgroup/Elements_9//Transformation/FAB_Dev_Genes/wk10/Fluorescent//FAB3_I5.0_F1.9_L100_131422_6_0_6_hyperchannel.csv\n",
      "Making image for inspection and writing to /run/media/labgroup/Elements_9//Transformation/FAB_Dev_Genes/wk10/Fluorescent//FAB3_I5.0_F1.9_L100_131422_6_0_6_hyperchannel.jpg\n",
      "Reading hyperspectral image /run/media/labgroup/Elements_9//Transformation/FAB_Dev_Genes/wk10/Fluorescent//FAB3_I5.0_F1.9_L100_131516_7_1_6.hdr\n",
      "/home/labgroup/anaconda3/envs/test-environment/lib/python3.8/site-packages/spectral/io/envi.py:175: UserWarning: Parameters with non-lowercase names encountered and converted to lowercase. To retain source file parameter name capitalization, set spectral.settings.envi_support_nonlowercase_params to True.\n",
      "  warnings.warn(msg)\n",
      "Extracting channel at index 219\n",
      "Writing channel matrix to /run/media/labgroup/Elements_9//Transformation/FAB_Dev_Genes/wk10/Fluorescent//FAB3_I5.0_F1.9_L100_131516_7_1_6_hyperchannel.csv\n",
      "Making image for inspection and writing to /run/media/labgroup/Elements_9//Transformation/FAB_Dev_Genes/wk10/Fluorescent//FAB3_I5.0_F1.9_L100_131516_7_1_6_hyperchannel.jpg\n",
      "Reading hyperspectral image /run/media/labgroup/Elements_9//Transformation/FAB_Dev_Genes/wk10/Fluorescent//FAB3_I5.0_F1.9_L100_131603_8_1_5.hdr\n",
      "/home/labgroup/anaconda3/envs/test-environment/lib/python3.8/site-packages/spectral/io/envi.py:175: UserWarning: Parameters with non-lowercase names encountered and converted to lowercase. To retain source file parameter name capitalization, set spectral.settings.envi_support_nonlowercase_params to True.\n",
      "  warnings.warn(msg)\n",
      "Extracting channel at index 219\n",
      "Writing channel matrix to /run/media/labgroup/Elements_9//Transformation/FAB_Dev_Genes/wk10/Fluorescent//FAB3_I5.0_F1.9_L100_131603_8_1_5_hyperchannel.csv\n",
      "Making image for inspection and writing to /run/media/labgroup/Elements_9//Transformation/FAB_Dev_Genes/wk10/Fluorescent//FAB3_I5.0_F1.9_L100_131603_8_1_5_hyperchannel.jpg\n",
      "Reading hyperspectral image /run/media/labgroup/Elements_9//Transformation/FAB_Dev_Genes/wk10/Fluorescent//FAB3_I5.0_F1.9_L100_131659_9_1_4.hdr\n",
      "/home/labgroup/anaconda3/envs/test-environment/lib/python3.8/site-packages/spectral/io/envi.py:175: UserWarning: Parameters with non-lowercase names encountered and converted to lowercase. To retain source file parameter name capitalization, set spectral.settings.envi_support_nonlowercase_params to True.\n",
      "  warnings.warn(msg)\n",
      "Extracting channel at index 219\n",
      "Writing channel matrix to /run/media/labgroup/Elements_9//Transformation/FAB_Dev_Genes/wk10/Fluorescent//FAB3_I5.0_F1.9_L100_131659_9_1_4_hyperchannel.csv\n",
      "Making image for inspection and writing to /run/media/labgroup/Elements_9//Transformation/FAB_Dev_Genes/wk10/Fluorescent//FAB3_I5.0_F1.9_L100_131659_9_1_4_hyperchannel.jpg\n",
      "Reading hyperspectral image /run/media/labgroup/Elements_9//Transformation/FAB_Dev_Genes/wk10/Fluorescent//FAB3_I5.0_F1.9_L100_131754_10_1_3.hdr\n",
      "/home/labgroup/anaconda3/envs/test-environment/lib/python3.8/site-packages/spectral/io/envi.py:175: UserWarning: Parameters with non-lowercase names encountered and converted to lowercase. To retain source file parameter name capitalization, set spectral.settings.envi_support_nonlowercase_params to True.\n",
      "  warnings.warn(msg)\n",
      "Extracting channel at index 219\n",
      "Writing channel matrix to /run/media/labgroup/Elements_9//Transformation/FAB_Dev_Genes/wk10/Fluorescent//FAB3_I5.0_F1.9_L100_131754_10_1_3_hyperchannel.csv\n",
      "Making image for inspection and writing to /run/media/labgroup/Elements_9//Transformation/FAB_Dev_Genes/wk10/Fluorescent//FAB3_I5.0_F1.9_L100_131754_10_1_3_hyperchannel.jpg\n",
      "Reading hyperspectral image /run/media/labgroup/Elements_9//Transformation/FAB_Dev_Genes/wk10/Fluorescent//FAB3_I5.0_F1.9_L100_131849_11_1_2.hdr\n",
      "/home/labgroup/anaconda3/envs/test-environment/lib/python3.8/site-packages/spectral/io/envi.py:175: UserWarning: Parameters with non-lowercase names encountered and converted to lowercase. To retain source file parameter name capitalization, set spectral.settings.envi_support_nonlowercase_params to True.\n",
      "  warnings.warn(msg)\n",
      "Extracting channel at index 219\n",
      "Writing channel matrix to /run/media/labgroup/Elements_9//Transformation/FAB_Dev_Genes/wk10/Fluorescent//FAB3_I5.0_F1.9_L100_131849_11_1_2_hyperchannel.csv\n",
      "Making image for inspection and writing to /run/media/labgroup/Elements_9//Transformation/FAB_Dev_Genes/wk10/Fluorescent//FAB3_I5.0_F1.9_L100_131849_11_1_2_hyperchannel.jpg\n",
      "Reading hyperspectral image /run/media/labgroup/Elements_9//Transformation/FAB_Dev_Genes/wk10/Fluorescent//FAB3_I5.0_F1.9_L100_131944_12_1_1.hdr\n",
      "/home/labgroup/anaconda3/envs/test-environment/lib/python3.8/site-packages/spectral/io/envi.py:175: UserWarning: Parameters with non-lowercase names encountered and converted to lowercase. To retain source file parameter name capitalization, set spectral.settings.envi_support_nonlowercase_params to True.\n",
      "  warnings.warn(msg)\n",
      "Extracting channel at index 219\n",
      "Writing channel matrix to /run/media/labgroup/Elements_9//Transformation/FAB_Dev_Genes/wk10/Fluorescent//FAB3_I5.0_F1.9_L100_131944_12_1_1_hyperchannel.csv\n",
      "Making image for inspection and writing to /run/media/labgroup/Elements_9//Transformation/FAB_Dev_Genes/wk10/Fluorescent//FAB3_I5.0_F1.9_L100_131944_12_1_1_hyperchannel.jpg\n",
      "Reading hyperspectral image /run/media/labgroup/Elements_9//Transformation/FAB_Dev_Genes/wk10/Fluorescent//FAB3_I5.0_F1.9_L100_132038_13_1_0.hdr\n",
      "/home/labgroup/anaconda3/envs/test-environment/lib/python3.8/site-packages/spectral/io/envi.py:175: UserWarning: Parameters with non-lowercase names encountered and converted to lowercase. To retain source file parameter name capitalization, set spectral.settings.envi_support_nonlowercase_params to True.\n",
      "  warnings.warn(msg)\n",
      "Extracting channel at index 219\n",
      "Writing channel matrix to /run/media/labgroup/Elements_9//Transformation/FAB_Dev_Genes/wk10/Fluorescent//FAB3_I5.0_F1.9_L100_132038_13_1_0_hyperchannel.csv\n",
      "Making image for inspection and writing to /run/media/labgroup/Elements_9//Transformation/FAB_Dev_Genes/wk10/Fluorescent//FAB3_I5.0_F1.9_L100_132038_13_1_0_hyperchannel.jpg\n",
      "Reading hyperspectral image /run/media/labgroup/Elements_9//Transformation/FAB_Dev_Genes/wk10/Fluorescent//FAB3_I5.0_F1.9_L100_132133_14_2_0.hdr\n",
      "/home/labgroup/anaconda3/envs/test-environment/lib/python3.8/site-packages/spectral/io/envi.py:175: UserWarning: Parameters with non-lowercase names encountered and converted to lowercase. To retain source file parameter name capitalization, set spectral.settings.envi_support_nonlowercase_params to True.\n",
      "  warnings.warn(msg)\n",
      "Extracting channel at index 219\n",
      "Writing channel matrix to /run/media/labgroup/Elements_9//Transformation/FAB_Dev_Genes/wk10/Fluorescent//FAB3_I5.0_F1.9_L100_132133_14_2_0_hyperchannel.csv\n",
      "Making image for inspection and writing to /run/media/labgroup/Elements_9//Transformation/FAB_Dev_Genes/wk10/Fluorescent//FAB3_I5.0_F1.9_L100_132133_14_2_0_hyperchannel.jpg\n",
      "Reading hyperspectral image /run/media/labgroup/Elements_9//Transformation/FAB_Dev_Genes/wk10/Fluorescent//FAB3_I5.0_F1.9_L100_132219_15_2_1.hdr\n",
      "/home/labgroup/anaconda3/envs/test-environment/lib/python3.8/site-packages/spectral/io/envi.py:175: UserWarning: Parameters with non-lowercase names encountered and converted to lowercase. To retain source file parameter name capitalization, set spectral.settings.envi_support_nonlowercase_params to True.\n",
      "  warnings.warn(msg)\n",
      "Extracting channel at index 219\n",
      "Writing channel matrix to /run/media/labgroup/Elements_9//Transformation/FAB_Dev_Genes/wk10/Fluorescent//FAB3_I5.0_F1.9_L100_132219_15_2_1_hyperchannel.csv\n",
      "Making image for inspection and writing to /run/media/labgroup/Elements_9//Transformation/FAB_Dev_Genes/wk10/Fluorescent//FAB3_I5.0_F1.9_L100_132219_15_2_1_hyperchannel.jpg\n",
      "Reading hyperspectral image /run/media/labgroup/Elements_9//Transformation/FAB_Dev_Genes/wk10/Fluorescent//FAB3_I5.0_F1.9_L100_132313_16_2_2.hdr\n",
      "/home/labgroup/anaconda3/envs/test-environment/lib/python3.8/site-packages/spectral/io/envi.py:175: UserWarning: Parameters with non-lowercase names encountered and converted to lowercase. To retain source file parameter name capitalization, set spectral.settings.envi_support_nonlowercase_params to True.\n",
      "  warnings.warn(msg)\n",
      "Extracting channel at index 219\n",
      "Writing channel matrix to /run/media/labgroup/Elements_9//Transformation/FAB_Dev_Genes/wk10/Fluorescent//FAB3_I5.0_F1.9_L100_132313_16_2_2_hyperchannel.csv\n",
      "Making image for inspection and writing to /run/media/labgroup/Elements_9//Transformation/FAB_Dev_Genes/wk10/Fluorescent//FAB3_I5.0_F1.9_L100_132313_16_2_2_hyperchannel.jpg\n",
      "Reading hyperspectral image /run/media/labgroup/Elements_9//Transformation/FAB_Dev_Genes/wk10/Fluorescent//FAB3_I5.0_F1.9_L100_132408_17_2_4.hdr\n",
      "/home/labgroup/anaconda3/envs/test-environment/lib/python3.8/site-packages/spectral/io/envi.py:175: UserWarning: Parameters with non-lowercase names encountered and converted to lowercase. To retain source file parameter name capitalization, set spectral.settings.envi_support_nonlowercase_params to True.\n",
      "  warnings.warn(msg)\n",
      "Extracting channel at index 219\n",
      "Writing channel matrix to /run/media/labgroup/Elements_9//Transformation/FAB_Dev_Genes/wk10/Fluorescent//FAB3_I5.0_F1.9_L100_132408_17_2_4_hyperchannel.csv\n",
      "Making image for inspection and writing to /run/media/labgroup/Elements_9//Transformation/FAB_Dev_Genes/wk10/Fluorescent//FAB3_I5.0_F1.9_L100_132408_17_2_4_hyperchannel.jpg\n",
      "Reading hyperspectral image /run/media/labgroup/Elements_9//Transformation/FAB_Dev_Genes/wk10/Fluorescent//FAB3_I5.0_F1.9_L100_132505_18_2_5.hdr\n",
      "/home/labgroup/anaconda3/envs/test-environment/lib/python3.8/site-packages/spectral/io/envi.py:175: UserWarning: Parameters with non-lowercase names encountered and converted to lowercase. To retain source file parameter name capitalization, set spectral.settings.envi_support_nonlowercase_params to True.\n",
      "  warnings.warn(msg)\n",
      "Extracting channel at index 219\n",
      "Writing channel matrix to /run/media/labgroup/Elements_9//Transformation/FAB_Dev_Genes/wk10/Fluorescent//FAB3_I5.0_F1.9_L100_132505_18_2_5_hyperchannel.csv\n",
      "Making image for inspection and writing to /run/media/labgroup/Elements_9//Transformation/FAB_Dev_Genes/wk10/Fluorescent//FAB3_I5.0_F1.9_L100_132505_18_2_5_hyperchannel.jpg\n",
      "Reading hyperspectral image /run/media/labgroup/Elements_9//Transformation/FAB_Dev_Genes/wk10/Fluorescent//FAB3_I5.0_F1.9_L100_132559_19_2_6.hdr\n",
      "/home/labgroup/anaconda3/envs/test-environment/lib/python3.8/site-packages/spectral/io/envi.py:175: UserWarning: Parameters with non-lowercase names encountered and converted to lowercase. To retain source file parameter name capitalization, set spectral.settings.envi_support_nonlowercase_params to True.\n",
      "  warnings.warn(msg)\n",
      "Extracting channel at index 219\n",
      "Writing channel matrix to /run/media/labgroup/Elements_9//Transformation/FAB_Dev_Genes/wk10/Fluorescent//FAB3_I5.0_F1.9_L100_132559_19_2_6_hyperchannel.csv\n",
      "Making image for inspection and writing to /run/media/labgroup/Elements_9//Transformation/FAB_Dev_Genes/wk10/Fluorescent//FAB3_I5.0_F1.9_L100_132559_19_2_6_hyperchannel.jpg\n",
      "Reading hyperspectral image /run/media/labgroup/Elements_9//Transformation/FAB_Dev_Genes/wk10/Fluorescent//FAB4_I5.0_F1.9_L100_132938_0_0_0.hdr\n",
      "/home/labgroup/anaconda3/envs/test-environment/lib/python3.8/site-packages/spectral/io/envi.py:175: UserWarning: Parameters with non-lowercase names encountered and converted to lowercase. To retain source file parameter name capitalization, set spectral.settings.envi_support_nonlowercase_params to True.\n",
      "  warnings.warn(msg)\n",
      "Extracting channel at index 219\n",
      "Writing channel matrix to /run/media/labgroup/Elements_9//Transformation/FAB_Dev_Genes/wk10/Fluorescent//FAB4_I5.0_F1.9_L100_132938_0_0_0_hyperchannel.csv\n",
      "Making image for inspection and writing to /run/media/labgroup/Elements_9//Transformation/FAB_Dev_Genes/wk10/Fluorescent//FAB4_I5.0_F1.9_L100_132938_0_0_0_hyperchannel.jpg\n",
      "Reading hyperspectral image /run/media/labgroup/Elements_9//Transformation/FAB_Dev_Genes/wk10/Fluorescent//FAB4_I5.0_F1.9_L100_133017_1_0_1.hdr\n",
      "/home/labgroup/anaconda3/envs/test-environment/lib/python3.8/site-packages/spectral/io/envi.py:175: UserWarning: Parameters with non-lowercase names encountered and converted to lowercase. To retain source file parameter name capitalization, set spectral.settings.envi_support_nonlowercase_params to True.\n",
      "  warnings.warn(msg)\n",
      "Extracting channel at index 219\n",
      "Writing channel matrix to /run/media/labgroup/Elements_9//Transformation/FAB_Dev_Genes/wk10/Fluorescent//FAB4_I5.0_F1.9_L100_133017_1_0_1_hyperchannel.csv\n",
      "Making image for inspection and writing to /run/media/labgroup/Elements_9//Transformation/FAB_Dev_Genes/wk10/Fluorescent//FAB4_I5.0_F1.9_L100_133017_1_0_1_hyperchannel.jpg\n",
      "Reading hyperspectral image /run/media/labgroup/Elements_9//Transformation/FAB_Dev_Genes/wk10/Fluorescent//FAB4_I5.0_F1.9_L100_133112_2_0_2.hdr\n",
      "/home/labgroup/anaconda3/envs/test-environment/lib/python3.8/site-packages/spectral/io/envi.py:175: UserWarning: Parameters with non-lowercase names encountered and converted to lowercase. To retain source file parameter name capitalization, set spectral.settings.envi_support_nonlowercase_params to True.\n",
      "  warnings.warn(msg)\n",
      "Extracting channel at index 219\n",
      "Writing channel matrix to /run/media/labgroup/Elements_9//Transformation/FAB_Dev_Genes/wk10/Fluorescent//FAB4_I5.0_F1.9_L100_133112_2_0_2_hyperchannel.csv\n",
      "Making image for inspection and writing to /run/media/labgroup/Elements_9//Transformation/FAB_Dev_Genes/wk10/Fluorescent//FAB4_I5.0_F1.9_L100_133112_2_0_2_hyperchannel.jpg\n",
      "Reading hyperspectral image /run/media/labgroup/Elements_9//Transformation/FAB_Dev_Genes/wk10/Fluorescent//FAB4_I5.0_F1.9_L100_133207_3_0_3.hdr\n",
      "/home/labgroup/anaconda3/envs/test-environment/lib/python3.8/site-packages/spectral/io/envi.py:175: UserWarning: Parameters with non-lowercase names encountered and converted to lowercase. To retain source file parameter name capitalization, set spectral.settings.envi_support_nonlowercase_params to True.\n",
      "  warnings.warn(msg)\n",
      "Extracting channel at index 219\n",
      "Writing channel matrix to /run/media/labgroup/Elements_9//Transformation/FAB_Dev_Genes/wk10/Fluorescent//FAB4_I5.0_F1.9_L100_133207_3_0_3_hyperchannel.csv\n",
      "Making image for inspection and writing to /run/media/labgroup/Elements_9//Transformation/FAB_Dev_Genes/wk10/Fluorescent//FAB4_I5.0_F1.9_L100_133207_3_0_3_hyperchannel.jpg\n",
      "Reading hyperspectral image /run/media/labgroup/Elements_9//Transformation/FAB_Dev_Genes/wk10/Fluorescent//FAB4_I5.0_F1.9_L100_133302_4_0_4.hdr\n",
      "/home/labgroup/anaconda3/envs/test-environment/lib/python3.8/site-packages/spectral/io/envi.py:175: UserWarning: Parameters with non-lowercase names encountered and converted to lowercase. To retain source file parameter name capitalization, set spectral.settings.envi_support_nonlowercase_params to True.\n",
      "  warnings.warn(msg)\n",
      "Extracting channel at index 219\n",
      "Writing channel matrix to /run/media/labgroup/Elements_9//Transformation/FAB_Dev_Genes/wk10/Fluorescent//FAB4_I5.0_F1.9_L100_133302_4_0_4_hyperchannel.csv\n",
      "Making image for inspection and writing to /run/media/labgroup/Elements_9//Transformation/FAB_Dev_Genes/wk10/Fluorescent//FAB4_I5.0_F1.9_L100_133302_4_0_4_hyperchannel.jpg\n",
      "Reading hyperspectral image /run/media/labgroup/Elements_9//Transformation/FAB_Dev_Genes/wk10/Fluorescent//FAB4_I5.0_F1.9_L100_133359_5_0_5.hdr\n",
      "/home/labgroup/anaconda3/envs/test-environment/lib/python3.8/site-packages/spectral/io/envi.py:175: UserWarning: Parameters with non-lowercase names encountered and converted to lowercase. To retain source file parameter name capitalization, set spectral.settings.envi_support_nonlowercase_params to True.\n",
      "  warnings.warn(msg)\n",
      "Extracting channel at index 219\n",
      "Writing channel matrix to /run/media/labgroup/Elements_9//Transformation/FAB_Dev_Genes/wk10/Fluorescent//FAB4_I5.0_F1.9_L100_133359_5_0_5_hyperchannel.csv\n",
      "Making image for inspection and writing to /run/media/labgroup/Elements_9//Transformation/FAB_Dev_Genes/wk10/Fluorescent//FAB4_I5.0_F1.9_L100_133359_5_0_5_hyperchannel.jpg\n",
      "Reading hyperspectral image /run/media/labgroup/Elements_9//Transformation/FAB_Dev_Genes/wk10/Fluorescent//FAB4_I5.0_F1.9_L100_133455_6_0_6.hdr\n",
      "/home/labgroup/anaconda3/envs/test-environment/lib/python3.8/site-packages/spectral/io/envi.py:175: UserWarning: Parameters with non-lowercase names encountered and converted to lowercase. To retain source file parameter name capitalization, set spectral.settings.envi_support_nonlowercase_params to True.\n",
      "  warnings.warn(msg)\n",
      "Extracting channel at index 219\n",
      "Writing channel matrix to /run/media/labgroup/Elements_9//Transformation/FAB_Dev_Genes/wk10/Fluorescent//FAB4_I5.0_F1.9_L100_133455_6_0_6_hyperchannel.csv\n",
      "Making image for inspection and writing to /run/media/labgroup/Elements_9//Transformation/FAB_Dev_Genes/wk10/Fluorescent//FAB4_I5.0_F1.9_L100_133455_6_0_6_hyperchannel.jpg\n",
      "Reading hyperspectral image /run/media/labgroup/Elements_9//Transformation/FAB_Dev_Genes/wk10/Fluorescent//FAB4_I5.0_F1.9_L100_133550_7_1_6.hdr\n",
      "/home/labgroup/anaconda3/envs/test-environment/lib/python3.8/site-packages/spectral/io/envi.py:175: UserWarning: Parameters with non-lowercase names encountered and converted to lowercase. To retain source file parameter name capitalization, set spectral.settings.envi_support_nonlowercase_params to True.\n",
      "  warnings.warn(msg)\n",
      "Extracting channel at index 219\n",
      "Writing channel matrix to /run/media/labgroup/Elements_9//Transformation/FAB_Dev_Genes/wk10/Fluorescent//FAB4_I5.0_F1.9_L100_133550_7_1_6_hyperchannel.csv\n",
      "Making image for inspection and writing to /run/media/labgroup/Elements_9//Transformation/FAB_Dev_Genes/wk10/Fluorescent//FAB4_I5.0_F1.9_L100_133550_7_1_6_hyperchannel.jpg\n",
      "Reading hyperspectral image /run/media/labgroup/Elements_9//Transformation/FAB_Dev_Genes/wk10/Fluorescent//FAB4_I5.0_F1.9_L100_133635_8_1_5.hdr\n",
      "/home/labgroup/anaconda3/envs/test-environment/lib/python3.8/site-packages/spectral/io/envi.py:175: UserWarning: Parameters with non-lowercase names encountered and converted to lowercase. To retain source file parameter name capitalization, set spectral.settings.envi_support_nonlowercase_params to True.\n",
      "  warnings.warn(msg)\n",
      "Extracting channel at index 219\n",
      "Writing channel matrix to /run/media/labgroup/Elements_9//Transformation/FAB_Dev_Genes/wk10/Fluorescent//FAB4_I5.0_F1.9_L100_133635_8_1_5_hyperchannel.csv\n",
      "Making image for inspection and writing to /run/media/labgroup/Elements_9//Transformation/FAB_Dev_Genes/wk10/Fluorescent//FAB4_I5.0_F1.9_L100_133635_8_1_5_hyperchannel.jpg\n",
      "Reading hyperspectral image /run/media/labgroup/Elements_9//Transformation/FAB_Dev_Genes/wk10/Fluorescent//FAB4_I5.0_F1.9_L100_133730_9_1_4.hdr\n",
      "/home/labgroup/anaconda3/envs/test-environment/lib/python3.8/site-packages/spectral/io/envi.py:175: UserWarning: Parameters with non-lowercase names encountered and converted to lowercase. To retain source file parameter name capitalization, set spectral.settings.envi_support_nonlowercase_params to True.\n",
      "  warnings.warn(msg)\n",
      "Extracting channel at index 219\n",
      "Writing channel matrix to /run/media/labgroup/Elements_9//Transformation/FAB_Dev_Genes/wk10/Fluorescent//FAB4_I5.0_F1.9_L100_133730_9_1_4_hyperchannel.csv\n",
      "Making image for inspection and writing to /run/media/labgroup/Elements_9//Transformation/FAB_Dev_Genes/wk10/Fluorescent//FAB4_I5.0_F1.9_L100_133730_9_1_4_hyperchannel.jpg\n",
      "Reading hyperspectral image /run/media/labgroup/Elements_9//Transformation/FAB_Dev_Genes/wk10/Fluorescent//FAB4_I5.0_F1.9_L100_133824_10_1_3.hdr\n",
      "/home/labgroup/anaconda3/envs/test-environment/lib/python3.8/site-packages/spectral/io/envi.py:175: UserWarning: Parameters with non-lowercase names encountered and converted to lowercase. To retain source file parameter name capitalization, set spectral.settings.envi_support_nonlowercase_params to True.\n",
      "  warnings.warn(msg)\n",
      "Extracting channel at index 219\n",
      "Writing channel matrix to /run/media/labgroup/Elements_9//Transformation/FAB_Dev_Genes/wk10/Fluorescent//FAB4_I5.0_F1.9_L100_133824_10_1_3_hyperchannel.csv\n",
      "Making image for inspection and writing to /run/media/labgroup/Elements_9//Transformation/FAB_Dev_Genes/wk10/Fluorescent//FAB4_I5.0_F1.9_L100_133824_10_1_3_hyperchannel.jpg\n",
      "Reading hyperspectral image /run/media/labgroup/Elements_9//Transformation/FAB_Dev_Genes/wk10/Fluorescent//FAB4_I5.0_F1.9_L100_133921_11_1_2.hdr\n",
      "/home/labgroup/anaconda3/envs/test-environment/lib/python3.8/site-packages/spectral/io/envi.py:175: UserWarning: Parameters with non-lowercase names encountered and converted to lowercase. To retain source file parameter name capitalization, set spectral.settings.envi_support_nonlowercase_params to True.\n",
      "  warnings.warn(msg)\n",
      "Extracting channel at index 219\n",
      "Writing channel matrix to /run/media/labgroup/Elements_9//Transformation/FAB_Dev_Genes/wk10/Fluorescent//FAB4_I5.0_F1.9_L100_133921_11_1_2_hyperchannel.csv\n",
      "Making image for inspection and writing to /run/media/labgroup/Elements_9//Transformation/FAB_Dev_Genes/wk10/Fluorescent//FAB4_I5.0_F1.9_L100_133921_11_1_2_hyperchannel.jpg\n",
      "Reading hyperspectral image /run/media/labgroup/Elements_9//Transformation/FAB_Dev_Genes/wk10/Fluorescent//FAB4_I5.0_F1.9_L100_134022_12_1_1.hdr\n",
      "/home/labgroup/anaconda3/envs/test-environment/lib/python3.8/site-packages/spectral/io/envi.py:175: UserWarning: Parameters with non-lowercase names encountered and converted to lowercase. To retain source file parameter name capitalization, set spectral.settings.envi_support_nonlowercase_params to True.\n",
      "  warnings.warn(msg)\n",
      "Extracting channel at index 219\n",
      "Writing channel matrix to /run/media/labgroup/Elements_9//Transformation/FAB_Dev_Genes/wk10/Fluorescent//FAB4_I5.0_F1.9_L100_134022_12_1_1_hyperchannel.csv\n",
      "Making image for inspection and writing to /run/media/labgroup/Elements_9//Transformation/FAB_Dev_Genes/wk10/Fluorescent//FAB4_I5.0_F1.9_L100_134022_12_1_1_hyperchannel.jpg\n",
      "Reading hyperspectral image /run/media/labgroup/Elements_9//Transformation/FAB_Dev_Genes/wk10/Fluorescent//FAB4_I5.0_F1.9_L100_134118_13_1_0.hdr\n",
      "/home/labgroup/anaconda3/envs/test-environment/lib/python3.8/site-packages/spectral/io/envi.py:175: UserWarning: Parameters with non-lowercase names encountered and converted to lowercase. To retain source file parameter name capitalization, set spectral.settings.envi_support_nonlowercase_params to True.\n",
      "  warnings.warn(msg)\n",
      "Extracting channel at index 219\n",
      "Writing channel matrix to /run/media/labgroup/Elements_9//Transformation/FAB_Dev_Genes/wk10/Fluorescent//FAB4_I5.0_F1.9_L100_134118_13_1_0_hyperchannel.csv\n",
      "Making image for inspection and writing to /run/media/labgroup/Elements_9//Transformation/FAB_Dev_Genes/wk10/Fluorescent//FAB4_I5.0_F1.9_L100_134118_13_1_0_hyperchannel.jpg\n",
      "Reading hyperspectral image /run/media/labgroup/Elements_9//Transformation/FAB_Dev_Genes/wk10/Fluorescent//FAB4_I5.0_F1.9_L100_134214_14_2_0.hdr\n",
      "/home/labgroup/anaconda3/envs/test-environment/lib/python3.8/site-packages/spectral/io/envi.py:175: UserWarning: Parameters with non-lowercase names encountered and converted to lowercase. To retain source file parameter name capitalization, set spectral.settings.envi_support_nonlowercase_params to True.\n",
      "  warnings.warn(msg)\n",
      "Extracting channel at index 219\n",
      "Writing channel matrix to /run/media/labgroup/Elements_9//Transformation/FAB_Dev_Genes/wk10/Fluorescent//FAB4_I5.0_F1.9_L100_134214_14_2_0_hyperchannel.csv\n",
      "Making image for inspection and writing to /run/media/labgroup/Elements_9//Transformation/FAB_Dev_Genes/wk10/Fluorescent//FAB4_I5.0_F1.9_L100_134214_14_2_0_hyperchannel.jpg\n",
      "Reading hyperspectral image /run/media/labgroup/Elements_9//Transformation/FAB_Dev_Genes/wk10/Fluorescent//FAB4_I5.0_F1.9_L100_134538_0_2_2.hdr\n",
      "/home/labgroup/anaconda3/envs/test-environment/lib/python3.8/site-packages/spectral/io/envi.py:175: UserWarning: Parameters with non-lowercase names encountered and converted to lowercase. To retain source file parameter name capitalization, set spectral.settings.envi_support_nonlowercase_params to True.\n",
      "  warnings.warn(msg)\n",
      "Extracting channel at index 219\n",
      "Writing channel matrix to /run/media/labgroup/Elements_9//Transformation/FAB_Dev_Genes/wk10/Fluorescent//FAB4_I5.0_F1.9_L100_134538_0_2_2_hyperchannel.csv\n",
      "Making image for inspection and writing to /run/media/labgroup/Elements_9//Transformation/FAB_Dev_Genes/wk10/Fluorescent//FAB4_I5.0_F1.9_L100_134538_0_2_2_hyperchannel.jpg\n",
      "(test-environment) "
     ]
    }
   ],
   "source": [
    "cd $alignment_path\n",
    "conda activate test-environment\n",
    "for hdr_file in $hdr_files\n",
    "do\n",
    " csv_file=$(sed 's/Fluorescence.hdr/hyperchannel.csv/g' <<< $hdr_file)\n",
    " csv_file=$(sed 's/.hdr/_hyperchannel.csv/g' <<< $csv_file)\n",
    " csv_jpg=$(sed 's/csv/jpg/g' <<< $csv_file)\n",
    " python hypercube_to_csv.py \\\n",
    " $hdr_file \\\n",
    " 300 \\\n",
    " 219 \\\n",
    " $csv_file \\\n",
    " $csv_jpg\n",
    "done\n",
    "conda deactivate"
   ]
  },
  {
   "cell_type": "markdown",
   "metadata": {},
   "source": [
    "### Run batch alignment to apply homography matrix to all images"
   ]
  },
  {
   "cell_type": "code",
   "execution_count": 87,
   "metadata": {},
   "outputs": [
    {
     "name": "stdout",
     "output_type": "stream",
     "text": [
      "(alignment) (alignment) (alignment) (alignment) "
     ]
    }
   ],
   "source": [
    "conda activate alignment\n",
    "cd $alignment_path\n",
    "file_list_input=\"${data}/rgb_and_hyper_channel_lists.csv\"\n",
    "python main.py \\\n",
    "--hyper-img $hypercube_csv \\\n",
    "--img-csv $file_list_input \\\n",
    "--mode 2 \\\n",
    "--h_matrix_path ${alignment_path}output/$homography >> $data/log_alignment_mode2.txt\n",
    "conda deactivate\n",
    "conda deactivate"
   ]
  },
  {
   "cell_type": "markdown",
   "metadata": {},
   "source": [
    "## Cross-analyze deep segmentation and regression results"
   ]
  },
  {
   "cell_type": "markdown",
   "metadata": {},
   "source": [
    "Scripts in the <a href=\"https://github.com/naglemi/GMOlabeler\" target=\"_blank\">GMOlabeler repository</a> are used to cross-reference results from deep segmentation of RGB images and regression of hyperspectral imaging, apply thresholding parameters to classify tissues as transgenic or escapes, and produce plots."
   ]
  },
  {
   "cell_type": "markdown",
   "metadata": {},
   "source": [
    "<img src=\"Figures/GMOlabeler.png\">"
   ]
  },
  {
   "cell_type": "markdown",
   "metadata": {},
   "source": [
    "Figure: The various steps of data processing in GMOlabeler are illustrated for an example explant from an experiment on CIM optimization for cottonwood. Images of plates are cropped to a sub-image for each explant. RGB segmentation results and hyperspectral regression results are cross-referenced to calculate fluorecent proteins in specific tissues and infer whether these tissues are transgenic."
   ]
  },
  {
   "cell_type": "markdown",
   "metadata": {},
   "source": [
    "### Prepare sample datasheet input"
   ]
  },
  {
   "cell_type": "markdown",
   "metadata": {},
   "source": [
    "Prepare input file we will use for making plots. This file contains paths to CLS results, RGB images, and hyperspectral images."
   ]
  },
  {
   "cell_type": "code",
   "execution_count": 88,
   "metadata": {},
   "outputs": [
    {
     "name": "stdout",
     "output_type": "stream",
     "text": [
      "/run/media/labgroup/Elements_9//Transformation/FAB_Dev_Genes/wk10/Fluorescent/\n",
      "/run/media/labgroup/Elements_9//Transformation/FAB_Dev_Genes/wk10/Fluorescent//run/media/labgroup/Elements_9//Transformation/FAC_Dev_Genes/wk10/Fluorescent/chromagrid_I5.0_F1.9_L100_164321_0_0_0_rgb_aligned.jpg\n"
     ]
    }
   ],
   "source": [
    "echo $data\n",
    "echo $data$aligned"
   ]
  },
  {
   "cell_type": "code",
   "execution_count": 89,
   "metadata": {},
   "outputs": [
    {
     "name": "stdout",
     "output_type": "stream",
     "text": [
      "(gmolabeler) (gmolabeler) During startup - Warning messages:\n",
      "1: Setting LC_CTYPE failed, using \"C\" \n",
      "2: Setting LC_COLLATE failed, using \"C\" \n",
      "3: Setting LC_TIME failed, using \"C\" \n",
      "4: Setting LC_MESSAGES failed, using \"C\" \n",
      "5: Setting LC_MONETARY failed, using \"C\" \n",
      "6: Setting LC_PAPER failed, using \"C\" \n",
      "7: Setting LC_MEASUREMENT failed, using \"C\" \n",
      "[1] \"\\342\\200\\2352021-02-25\\342\\200\\235\"\n",
      "[1] \"Looking for CLS data in: /home/labgroup/data/gmodetector_out/Elements_9//Transformation/FAB_Dev_Genes/wk10/Fluorescent//\"\n",
      "[1] \"2021-02-25\"\n",
      "[1] \"Looking for CLS files in directory /home/labgroup/data/gmodetector_out/Elements_9//Transformation/FAB_Dev_Genes/wk10/Fluorescent//\"\n",
      "[1] \"How many CLS files? 77\"\n",
      "[1] \"Writing 77 rows to /run/media/labgroup/Elements_9//Transformation/FAB_Dev_Genes/wk10/Fluorescent///samples_pre_labeling.csv\"\n",
      "(gmolabeler) "
     ]
    }
   ],
   "source": [
    "conda activate gmolabeler\n",
    "cd \"${cwd}/intermediates/\"\n",
    "Rscript pre_label.R \\\n",
    "-r \"${data}/\" \\\n",
    "-R \"${output_directory_prefix}\" \\\n",
    "-i 1 \\\n",
    "-d $datestamp\n",
    "conda deactivate"
   ]
  },
  {
   "cell_type": "markdown",
   "metadata": {},
   "source": [
    "### Cross-reference RGB and hyperspectral data"
   ]
  },
  {
   "cell_type": "markdown",
   "metadata": {},
   "source": [
    "On 1/11/20, we altered `gmolabeler` to accept user-defined borders of the grid box, rather than hardcoding these borders in for specific grids with 12 or 20 explants. Thus, if providing `grid_borders`, `grid` can be left as `None`, or vice versa. To determine the borders, open the *aligned* grid file in a GUI like GIMP or Microsoft Paint and use the crosshairs to find the pixel positions of each border. These are then provided through the `grid_borders` parameter in order \"top bottom right left\"."
   ]
  },
  {
   "cell_type": "code",
   "execution_count": 96,
   "metadata": {},
   "outputs": [],
   "source": [
    "if [ $aligned = \"Automatic\" ]; then\n",
    "    aligned_grid=$(ls $data | grep -i \"grid\" | grep -i \"rgb_processed.jpg\")\n",
    "    echo $data$aligned_grid\n",
    "else\n",
    "    aligned_grid=$aligned\n",
    "fi"
   ]
  },
  {
   "cell_type": "code",
   "execution_count": null,
   "metadata": {},
   "outputs": [],
   "source": []
  },
  {
   "cell_type": "markdown",
   "metadata": {},
   "source": [
    "Some notes on grid copping parameters:\n",
    "- Submit a space-delimited string with parameters for borders of grid as \"left right bottom top\"\n",
    "- For FAA wk3, use parameters \"139 1580 1250 312\"\n",
    "- For FAA wk7 and FAD wk7, use \"156 1600 1280 335\"\n",
    "- For all images taken after re-centering of camera settings on 1/18/21, use \"152 1592 1200 260\" if images are of high resolution (2GB hyperspectral files) or \"110 1356 1168 222\" if of normal resolution (1.3GB hyperspectral files)"
   ]
  },
  {
   "cell_type": "code",
   "execution_count": 97,
   "metadata": {},
   "outputs": [
    {
     "name": "stdout",
     "output_type": "stream",
     "text": [
      "/run/media/labgroup/Elements_9//Transformation/FAB_Dev_Genes/wk10/Fluorescent//samples_pre_labeling.csv\n"
     ]
    }
   ],
   "source": [
    "echo ${data}/samples_pre_labeling.csv"
   ]
  },
  {
   "cell_type": "code",
   "execution_count": 98,
   "metadata": {},
   "outputs": [
    {
     "name": "stdout",
     "output_type": "stream",
     "text": [
      "/run/media/labgroup/Elements_9//Transformation/FAB_Dev_Genes/wk10/Fluorescent//run/media/labgroup/Elements_9//Transformation/FAC_Dev_Genes/wk10/Fluorescent/chromagrid_I5.0_F1.9_L100_164321_0_0_0_rgb_processed.jpg\n"
     ]
    }
   ],
   "source": [
    "echo $data$aligned_grid"
   ]
  },
  {
   "cell_type": "code",
   "execution_count": 100,
   "metadata": {},
   "outputs": [
    {
     "name": "stdout",
     "output_type": "stream",
     "text": [
      "(gmolabeler) (gmolabeler) (gmolabeler) "
     ]
    }
   ],
   "source": [
    "conda activate gmolabeler\n",
    "cd $gmolabeler_path\n",
    "python main.py \\\n",
    "\"${data}/samples_pre_labeling.csv\" \\\n",
    "$aligned_grid \\\n",
    "$reporter_threshold \\\n",
    "$reporter \\\n",
    "$grid \\\n",
    "\"hdf\" \\\n",
    "$gmolabeler_path \\\n",
    "\"110 1356 1168 222\" > $data/log_gmolabeler.txt\n",
    "conda deactivate"
   ]
  },
  {
   "cell_type": "markdown",
   "metadata": {},
   "source": [
    "### Calculate sums of statistics over combined segments"
   ]
  },
  {
   "cell_type": "markdown",
   "metadata": {},
   "source": [
    "We are interested in all regenerated tissue (callus + shoot) as well as all tissue (including stem as well). We will calculate aggregate statistics over these groups."
   ]
  },
  {
   "cell_type": "code",
   "execution_count": 101,
   "metadata": {},
   "outputs": [
    {
     "name": "stdout",
     "output_type": "stream",
     "text": [
      "(gmolabeler) During startup - Warning messages:\n",
      "1: Setting LC_CTYPE failed, using \"C\" \n",
      "2: Setting LC_COLLATE failed, using \"C\" \n",
      "3: Setting LC_TIME failed, using \"C\" \n",
      "4: Setting LC_MESSAGES failed, using \"C\" \n",
      "5: Setting LC_MONETARY failed, using \"C\" \n",
      "6: Setting LC_PAPER failed, using \"C\" \n",
      "7: Setting LC_MEASUREMENT failed, using \"C\" \n",
      "[1] \"Writing output with sums statistics calculated over combined tissue segments to: /home/labgroup/code/GMOlabeler//output/Elements_9//Transformation/FAB_Dev_Genes/wk10/Fluorescent//stats_with_sums_over_tissues.csv\"\n",
      "(gmolabeler) "
     ]
    }
   ],
   "source": [
    "conda activate gmolabeler\n",
    "Rscript calculate_sum_stats_over_combined_segments.R \\\n",
    "--output_dir \"${gmolabeler_path}/output/\" \\\n",
    "--datapath \"${data_folder}/\"\n",
    "conda deactivate"
   ]
  },
  {
   "cell_type": "markdown",
   "metadata": {},
   "source": [
    "### Make plots of results"
   ]
  },
  {
   "cell_type": "code",
   "execution_count": 102,
   "metadata": {},
   "outputs": [
    {
     "name": "stdout",
     "output_type": "stream",
     "text": [
      "(gmolabeler) (gmolabeler) During startup - Warning messages:\n",
      "1: Setting LC_CTYPE failed, using \"C\" \n",
      "2: Setting LC_COLLATE failed, using \"C\" \n",
      "3: Setting LC_TIME failed, using \"C\" \n",
      "4: Setting LC_MESSAGES failed, using \"C\" \n",
      "5: Setting LC_MONETARY failed, using \"C\" \n",
      "6: Setting LC_PAPER failed, using \"C\" \n",
      "7: Setting LC_MEASUREMENT failed, using \"C\" \n",
      "Warning message:\n",
      "In storage.mode(default) <- type : NAs introduced by coercion\n",
      "[1] \"Saving list of input arguments to : /home/labgroup/code/GMOlabeler/plots/Elements_9//Transformation/FAB_Dev_Genes/wk10/Fluorescent//gridplot_args.rds\"\n",
      "[1] \"Reading in output from GMOlabeler at path: /home/labgroup/code/GMOlabeler/output/Elements_9//Transformation/FAB_Dev_Genes/wk10/Fluorescent//stats_with_sums_over_tissues.csv\"\n",
      "\n",
      "[1] \"Rows in output from GMOlabeler: 4148\"\n",
      "\n",
      "[1] \"Max n_pixels_passing_threshold in output from GMOlabeler: 27334\"\n",
      "\n",
      "[1] \"Max total_signal in output from GMOlabeler: 3902712.12939376\"\n",
      "\n",
      "[1] \"Look at the top of output from GMOlabeler\"\n",
      "[1] \"\"                                                                                                                         \n",
      "[2] \"/run/media/labgroup/Elements_9//Transformation/FAB_Dev_Genes/wk10/Fluorescent///FAB1_I5.0_F1.9_L100LED30_190556_4_1_2.png\"\n",
      "[3] \"/run/media/labgroup/Elements_9//Transformation/FAB_Dev_Genes/wk10/Fluorescent///FAB1_I5.0_F1.9_L100LED30_190556_4_1_2.png\"\n",
      "[4] \"/run/media/labgroup/Elements_9//Transformation/FAB_Dev_Genes/wk10/Fluorescent///FAB1_I5.0_F1.9_L100LED30_190556_4_1_2.png\"\n",
      "[5] \"/run/media/labgroup/Elements_9//Transformation/FAB_Dev_Genes/wk10/Fluorescent///FAB1_I5.0_F1.9_L100LED30_190556_4_1_2.png\"\n",
      "[6] \"/run/media/labgroup/Elements_9//Transformation/FAB_Dev_Genes/wk10/Fluorescent///FAB1_I5.0_F1.9_L100LED30_190556_4_1_2.png\"\n",
      "\n",
      "[1] \"Look at the top of missing explant data\"\n",
      "# A tibble: 6 x 3\n",
      "  filename                                      grid_item present\n",
      "  <chr>                                         <chr>     <chr>  \n",
      "1 FAB1_I5.0_F1.9_L100LED30_184258_0_0_0_rgb.jpg 1         NC     \n",
      "2 FAB1_I5.0_F1.9_L100LED30_184258_0_0_0_rgb.jpg 2         NC     \n",
      "3 FAB1_I5.0_F1.9_L100LED30_184258_0_0_0_rgb.jpg 3         NC     \n",
      "4 FAB1_I5.0_F1.9_L100LED30_184258_0_0_0_rgb.jpg 4         NC     \n",
      "5 FAB1_I5.0_F1.9_L100LED30_184258_0_0_0_rgb.jpg 5         NC     \n",
      "6 FAB1_I5.0_F1.9_L100LED30_184258_0_0_0_rgb.jpg 6         NC     \n",
      "\n",
      "[1] \"Look at the head of filenames for missing explant data\"\n",
      "[1] \"FAB1_I5.0_F1.9_L100LED30_184258_0_0_0_rgb.jpg\"\n",
      "[2] \"FAB1_I5.0_F1.9_L100LED30_184258_0_0_0_rgb.jpg\"\n",
      "[3] \"FAB1_I5.0_F1.9_L100LED30_184258_0_0_0_rgb.jpg\"\n",
      "[4] \"FAB1_I5.0_F1.9_L100LED30_184258_0_0_0_rgb.jpg\"\n",
      "[5] \"FAB1_I5.0_F1.9_L100LED30_184258_0_0_0_rgb.jpg\"\n",
      "[6] \"FAB1_I5.0_F1.9_L100LED30_184258_0_0_0_rgb.jpg\"\n",
      "\n",
      "[1] \"Look at the colnames of output from GMOlabeler\"\n",
      " [1] \"V1\"                         \"filename\"                  \n",
      " [3] \"grid_item\"                  \"segment_hex\"               \n",
      " [5] \"intensity_threshold\"        \"n_pixels_passing_threshold\"\n",
      " [7] \"mean_signal\"                \"max_signal\"                \n",
      " [9] \"total_signal\"               \"total_pixels\"              \n",
      "\n",
      "[1] \"Look at the colnames of missing explant data\"\n",
      "[1] \"filename\"  \"grid_item\" \"present\"  \n",
      "\n",
      "[1] \"Before merging the GMOlabeler and missing output data, they have rows of 4148 and 924 respectively.\"\n",
      "\n",
      "[1] \"After merging but before removing missing/contminated explants, merged output has 4148 rows.\"\n",
      "\n",
      "[1] \"After removing the missing/contaminated explants, merged output has 4148\"\n",
      "\n",
      "[1] \"Afer processing GMOlabeler output to merge with missing explant data, Head of data (w/ first 5 col): \"\n",
      "                                    filename grid_item          V1 segment_hex\n",
      "1:                                                <NA> observation            \n",
      "2: FAB1_I5.0_F1.9_L100LED30_184258_0_0_0.png         1 observation      00CC11\n",
      "3: FAB1_I5.0_F1.9_L100LED30_184258_0_0_0.png         1 observation      0006CC\n",
      "4: FAB1_I5.0_F1.9_L100LED30_184258_0_0_0.png         1 observation      CC0000\n",
      "5: FAB1_I5.0_F1.9_L100LED30_184258_0_0_0.png         1 observation  All_tissue\n",
      "   intensity_threshold\n",
      "1:                  NA\n",
      "2:                  38\n",
      "3:                  38\n",
      "4:                  38\n",
      "5:                  NA\n",
      "New names:\n",
      "* `` -> ...11\n",
      "* `` -> ...13\n",
      "[1] \"Upon loading randomization_datasheet, it has how many rows? 80\"\n",
      "\n",
      "[1] \"Calculating total numbers of missing explants per plate\"\n",
      "[1] \"Let's figure out why contaminated/missing plates are being said to have 0 instead of NA\"\n",
      "\n",
      "[1] \"Dimensions of missing explant data with totals\"\n",
      "[1] 77 14\n",
      "[1] \"Minimum number of explants on any plate after removing missing and contaminated explants is...\"\n",
      "[1] 0\n",
      "                                      image_name 1 2 3 4 5 6 7 8 9 10 11 12\n",
      "1: FAB1_I5.0_F1.9_L100LED30_184258_0_0_0_rgb.jpg 1 1 1 1 1 1 1 1 1  1  1  1\n",
      "2: FAB1_I5.0_F1.9_L100LED30_184501_2_0_2_rgb.jpg 1 1 1 1 1 1 1 1 1  1  1  1\n",
      "3: FAB1_I5.0_F1.9_L100LED30_184604_3_0_3_rgb.jpg 1 1 1 1 1 1 1 1 1  1  1  1\n",
      "4: FAB1_I5.0_F1.9_L100LED30_184828_5_0_5_rgb.jpg 1 1 1 1 1 1 1 1 1  1  1  1\n",
      "5: FAB1_I5.0_F1.9_L100LED30_184930_6_0_6_rgb.jpg 1 1 1 1 1 1 1 1 1  1  1  1\n",
      "6: FAB1_I5.0_F1.9_L100LED30_185128_8_1_4_rgb.jpg 0 1 1 0 1 1 1 1 1  1  1  1\n",
      "   total_explants\n",
      "1:             12\n",
      "2:             12\n",
      "3:             12\n",
      "4:             12\n",
      "5:             12\n",
      "6:             10\n",
      "\n",
      "[1] \"About to add IDs to missing explant data based on filenames. Here is head of filenames.\"\n",
      "[1] \"FAB1_I5.0_F1.9_L100LED30_184258_0_0_0\"\n",
      "[2] \"FAB1_I5.0_F1.9_L100LED30_184501_2_0_2\"\n",
      "[3] \"FAB1_I5.0_F1.9_L100LED30_184604_3_0_3\"\n",
      "[4] \"FAB1_I5.0_F1.9_L100LED30_184828_5_0_5\"\n",
      "[5] \"FAB1_I5.0_F1.9_L100LED30_184930_6_0_6\"\n",
      "[6] \"FAB1_I5.0_F1.9_L100LED30_185128_8_1_4\"\n",
      "\n",
      "[1] \"We have added IDs to missing explant data based on filenames. Here is head of IDs.\"\n",
      "[1] \"FAB1_1\"  \"FAB1_3\"  \"FAB1_4\"  \"FAB1_6\"  \"FAB1_7\"  \"FAB1_12\"\n",
      "\n",
      "[1] \"N rows of randomization datasheet before merging with missing explant data: \"\n",
      "[1] 80\n",
      "[1] \"Head of IDs in missing explant data\"\n",
      "[1] \"FAB1_1\"  \"FAB1_3\"  \"FAB1_4\"  \"FAB1_6\"  \"FAB1_7\"  \"FAB1_12\"\n",
      "[1] \"Head of IDs in randomization datasheet\"\n",
      "[1] \"FAB1_1\" \"FAB1_2\" \"FAB1_3\" \"FAB1_4\" \"FAB1_5\" \"FAB1_6\"\n",
      "\n",
      "[1] \"Now about to merge randomization_datasheet and missing explant data.\"\n",
      "[1] \"Rows in randomization_datasheet: 80\"\n",
      "[1] \"Rows in missing explant data: 77\"\n",
      "\n",
      "[1] \"Now about to merge randomization datasheet and missing explant data, by ID. Look at head of IDs for both.\"\n",
      "[1] \"FAB1_1\" \"FAB1_2\" \"FAB1_3\" \"FAB1_4\" \"FAB1_5\" \"FAB1_6\"\n",
      "[1] \"FAB1_1\"  \"FAB1_3\"  \"FAB1_4\"  \"FAB1_6\"  \"FAB1_7\"  \"FAB1_12\"\n",
      "       ID Image # Tray ID Rand # Date of transform Date on Media *Plate #\n",
      "1  FAB1_1       1    FAB1      1        2020-11-03    2020-11-05       30\n",
      "2 FAB1_10      10    FAB1     10        2020-11-03    2020-11-05       80\n",
      "3 FAB1_11      11    FAB1     11        2020-11-03    2020-11-05       15\n",
      "4 FAB1_12      12    FAB1     12        2020-11-03    2020-11-05       52\n",
      "5 FAB1_13      13    FAB1     13        2020-11-03    2020-11-05       63\n",
      "6 FAB1_14      14    FAB1     14        2020-11-03    2020-11-05       23\n",
      "  Index# in GH Genotype_ID Treatment name Replicate ...11       Rand ...13\n",
      "1           R6   SLMB-28-1          WOX11         8    NA 0.65196082    NA\n",
      "2          R21   SKWB-24-2          WOX11         9    NA 0.91915062    NA\n",
      "3           R6   SLMB-28-1          WOX5a         4    NA 0.90835196    NA\n",
      "4           R7   NISQUALLY          WOX11         5    NA 0.58337630    NA\n",
      "5          R21   SKWB-24-2          WOX5a         1    NA 0.22702208    NA\n",
      "6           R6   SLMB-28-1          WOX11         1    NA 0.09142265    NA\n",
      "     LabelTop          LabelBot                              filename    1    2\n",
      "1   FAB1_1_R1 SLMB-28-1_WOX11_8 FAB1_I5.0_F1.9_L100LED30_184258_0_0_0    1    1\n",
      "2 FAB1_10_R10 SKWB-24-2_WOX11_9 FAB1_I5.0_F1.9_L100LED30_190556_4_1_2    0    1\n",
      "3 FAB1_11_R11 SLMB-28-1_WOX5a_4      FAB1_I5.0_F1.9_L100_123907_1_1_3    1    1\n",
      "4 FAB1_12_R12 NISQUALLY_WOX11_5 FAB1_I5.0_F1.9_L100LED30_185128_8_1_4    0    1\n",
      "5 FAB1_13_R13 SKWB-24-2_WOX5a_1      FAB1_I5.0_F1.9_L100_123741_0_1_5    1    1\n",
      "6 FAB1_14_R14 SLMB-28-1_WOX11_1                                  <NA> <NA> <NA>\n",
      "     3    4    5    6    7    8    9   10   11   12 total_explants\n",
      "1    1    1    1    1    1    1    1    1    1    1             12\n",
      "2    0    1    1    1    0    0    0    0    1    0              5\n",
      "3    1    1    1    1    1    1    1    1    1    1             12\n",
      "4    1    0    1    1    1    1    1    1    1    1             10\n",
      "5    1    1    1    1    1    1    1    1    1    1             12\n",
      "6 <NA> <NA> <NA> <NA> <NA> <NA> <NA> <NA> <NA> <NA>             NA\n",
      " [1] 12  5 12 10 12 NA  8 11 12 12 12 12 11 11 12 12 12 12 12  8 12 12 12 12 12\n",
      "[26] 12 12  5  0 11 12 12 12 12 12 12  5 12  4 10  6  7 12  3 12 11 12  9  1 12\n",
      "[51] 12 NA 12 12 12 12  5 12 12 11  0 12  3 12 11 12 12 12 12  8 NA 12 12  6 12\n",
      "[76]  7  8 12  9  8\n",
      "[1] \"Still figuring, now in merged rd, out why contaminated/missing plates are being said to have 0 instead of NA\"\n",
      "\n",
      "[1] \"Dimensions of missing explant data with totals\"\n",
      "[1] 77 15\n",
      "[1] \"Levels of total explants on any plate after removing missing and contaminated explants is...\"\n",
      " [1] \"0\"  \"1\"  \"3\"  \"4\"  \"5\"  \"6\"  \"7\"  \"8\"  \"9\"  \"10\" \"11\" \"12\"\n",
      "[1] \"Minimum number of explants on any plate after removing missing and contaminated explants is...\"\n",
      "[1] 0\n",
      "\n",
      "[1] \"Rows in merged output: 80\"\n",
      " [1] 12  5 12 10 12 NA  8 11 12 12 12 12 11 11 12 12 12 12 12  8 12 12 12 12 12\n",
      "[26] 12 12  5  0 11 12 12 12 12 12 12  5 12  4 10  6  7 12  3 12 11 12  9  1 12\n",
      "[51] 12 NA 12 12 12 12  5 12 12 11  0 12  3 12 11 12 12 12 12  8 NA 12 12  6 12\n",
      "[76]  7  8 12  9  8\n",
      "\n",
      "[1] \"Assuming for all explants for which we have no missing explant data that there are:\"\n",
      "[1] 12\n",
      "\n",
      "[1] \"N rows of randomization datasheet after merging with missing explant data: \"\n",
      "[1] 80\n",
      "[1] \"Column names of randomization datasheet afer merging with missing explant data: \"\n",
      " [1] \"ID\"                \"Image #\"           \"Tray ID\"          \n",
      " [4] \"Rand #\"            \"Date of transform\" \"Date on Media\"    \n",
      " [7] \"*Plate #\"          \"Index# in GH\"      \"Genotype_ID\"      \n",
      "[10] \"Treatment name\"    \"Replicate\"         \"...11\"            \n",
      "[13] \"Rand\"              \"...13\"             \"LabelTop\"         \n",
      "[16] \"LabelBot\"          \"filename\"          \"1\"                \n",
      "[19] \"2\"                 \"3\"                 \"4\"                \n",
      "[22] \"5\"                 \"6\"                 \"7\"                \n",
      "[25] \"8\"                 \"9\"                 \"10\"               \n",
      "[28] \"11\"                \"12\"                \"total_explants\"   \n",
      "\n",
      "[1] \"In output, Maximum observations for a segment in a grid item in a filename (should be 1): 1\"\n",
      "[1] \"In randomization datasheet, Maximum observations for an ID (should be 1): 1\"\n",
      "\n",
      "[1] \"Before calculating totals, let's look at the column total_explants in randomization datasheet\"\n",
      "[1] 12  5 12 10 12 12\n",
      " [1] \"0\"  \"1\"  \"3\"  \"4\"  \"5\"  \"6\"  \"7\"  \"8\"  \"9\"  \"10\" \"11\" \"12\"\n",
      "\n",
      "\n",
      "[1] \"Nrow of output before dropping missing explants is: 4148\"\n",
      "[1] \"Head of ID_exp columns from both output data table and IDs_to_drop data tbales, respectively:\"\n",
      "[1] \"__NA\"     \"FAB1_1_1\" \"FAB1_1_1\" \"FAB1_1_1\" \"FAB1_1_1\" \"FAB1_1_1\"\n",
      "[1] \"FAB1_12_1\" \"FAB1_12_4\" \"FAB1_10_1\" \"FAB1_10_3\" \"FAB1_10_7\" \"FAB1_10_8\"\n",
      "[1] \"Nrow of output AFTER dropping missing explants is: 3491\"\n",
      "[1] \"Head of output\"\n",
      "   filename grid_item          V1 segment_hex intensity_threshold\n",
      "1:               <NA> observation                              NA\n",
      "   n_pixels_passing_threshold mean_signal max_signal total_signal total_pixels\n",
      "1:                         NA          NA         NA           NA           NA\n",
      "   present ID transgenic segment_present ID_exp\n",
      "1:       Y  _          0               0   __NA\n",
      "\n",
      "# A tibble: 6 x 5\n",
      "  filename                                  grid_item present ID      ID_exp   \n",
      "  <chr>                                     <chr>     <chr>   <chr>   <chr>    \n",
      "1 FAB1_I5.0_F1.9_L100LED30_185128_8_1_4.jpg 1         C       FAB1_12 FAB1_12_1\n",
      "2 FAB1_I5.0_F1.9_L100LED30_185128_8_1_4.jpg 4         C       FAB1_12 FAB1_12_4\n",
      "3 FAB1_I5.0_F1.9_L100LED30_190556_4_1_2.jpg 1         C       FAB1_10 FAB1_10_1\n",
      "4 FAB1_I5.0_F1.9_L100LED30_190556_4_1_2.jpg 3         C       FAB1_10 FAB1_10_3\n",
      "5 FAB1_I5.0_F1.9_L100LED30_190556_4_1_2.jpg 7         C       FAB1_10 FAB1_10_7\n",
      "6 FAB1_I5.0_F1.9_L100LED30_190556_4_1_2.jpg 8         C       FAB1_10 FAB1_10_8\n",
      " [1] \"filename\"                   \"grid_item\"                 \n",
      " [3] \"V1\"                         \"segment_hex\"               \n",
      " [5] \"intensity_threshold\"        \"n_pixels_passing_threshold\"\n",
      " [7] \"mean_signal\"                \"max_signal\"                \n",
      " [9] \"total_signal\"               \"total_pixels\"              \n",
      "[11] \"present\"                    \"ID\"                        \n",
      "[13] \"transgenic\"                 \"segment_present\"           \n",
      "[15] \"ID_exp\"                    \n",
      "[1] \"Maximum # grid positions with transgenic stem in any plate: 2\"\n",
      "[1] \"Maximum # grid positions with transgenic callus in any plate: 3\"\n",
      "[1] \"Maximum # grid positions with transgenic shoot in any plate: 3\"\n",
      "[1] \"Minimum # grid positions with explants in any plate: 0\"\n",
      "[1] \"Maximum # grid positions with explants in any plate: 12\"\n",
      "[1] \"Maximum # grid positions with callus in any plate: 12\"\n",
      "[1] \"Maximum # grid positions with shoot in any plate: 4\"\n",
      "[1] \"Column of interest is portion_transgenic_Shoot\"\n",
      "[1] \"For transgenic tissue, What is the range of values for portion for Shoot\"\n",
      "[1] NA\n",
      "[1] NA\n",
      "[1] \"What are factor levels?\"\n",
      "[1] \"0\"                  \"0.0833333333333333\" \"0.166666666666667\" \n",
      "[4] \"0.181818181818182\"  \"0.25\"              \n",
      "\n",
      "[1] \"Column of interest is portion_Shoot\"\n",
      "[1] \"For total tissue, What is the range of values for portion for Shoot\"\n",
      "[1] NaN\n",
      "[1] NaN\n",
      "[1] \"What are factor levels?\"\n",
      "[1] \"0\"                  \"0.0833333333333333\" \"0.1\"               \n",
      "[4] \"0.166666666666667\"  \"0.25\"               \"0.272727272727273\" \n",
      "[7] \"0.333333333333333\"  \"NaN\"               \n",
      "\n",
      "[1] \"Column of interest is portion_transgenic_Callus\"\n",
      "[1] \"For transgenic tissue, What is the range of values for portion for Callus\"\n",
      "[1] NA\n",
      "[1] NA\n",
      "[1] \"What are factor levels?\"\n",
      "[1] \"0\"                  \"0.0833333333333333\" \"0.111111111111111\" \n",
      "[4] \"0.25\"              \n",
      "\n",
      "[1] \"Column of interest is portion_Callus\"\n",
      "[1] \"For total tissue, What is the range of values for portion for Callus\"\n",
      "[1] NaN\n",
      "[1] NaN\n",
      "[1] \"What are factor levels?\"\n",
      " [1] \"0\"                  \"0.0833333333333333\" \"0.0909090909090909\"\n",
      " [4] \"0.1\"                \"0.2\"                \"0.222222222222222\" \n",
      " [7] \"0.25\"               \"0.333333333333333\"  \"0.375\"             \n",
      "[10] \"0.4\"                \"0.416666666666667\"  \"0.5\"               \n",
      "[13] \"0.545454545454545\"  \"0.583333333333333\"  \"0.625\"             \n",
      "[16] \"0.636363636363636\"  \"0.666666666666667\"  \"0.727272727272727\" \n",
      "[19] \"0.75\"               \"0.777777777777778\"  \"0.8\"               \n",
      "[22] \"0.833333333333333\"  \"0.857142857142857\"  \"0.916666666666667\" \n",
      "[25] \"1\"                  \"NaN\"               \n",
      "\n",
      "[1] \"Column of interest is portion_transgenic_Stem\"\n",
      "[1] \"For transgenic tissue, What is the range of values for portion for Stem\"\n",
      "[1] NA\n",
      "[1] NA\n",
      "[1] \"What are factor levels?\"\n",
      "[1] \"0\"                  \"0.0833333333333333\" \"0.0909090909090909\"\n",
      "[4] \"0.125\"              \"0.166666666666667\"  \"0.2\"               \n",
      "[7] \"0.222222222222222\" \n",
      "\n",
      "[1] \"Column of interest is portion_Stem\"\n",
      "[1] \"For total tissue, What is the range of values for portion for Stem\"\n",
      "[1] NaN\n",
      "[1] NaN\n",
      "[1] \"What are factor levels?\"\n",
      " [1] \"0\"                  \"0.0833333333333333\" \"0.166666666666667\" \n",
      " [4] \"0.25\"               \"0.333333333333333\"  \"0.416666666666667\" \n",
      " [7] \"0.428571428571429\"  \"0.454545454545455\"  \"0.5\"               \n",
      "[10] \"0.583333333333333\"  \"0.666666666666667\"  \"0.727272727272727\" \n",
      "[13] \"0.75\"               \"0.8\"                \"0.833333333333333\" \n",
      "[16] \"0.888888888888889\"  \"0.909090909090909\"  \"0.916666666666667\" \n",
      "[19] \"1\"                  \"NaN\"               \n",
      "\n",
      "[1] \"Column of interest is portion_transgenic_All_tissue\"\n",
      "[1] \"For transgenic tissue, What is the range of values for portion for All_tissue\"\n",
      "[1] NA\n",
      "[1] NA\n",
      "[1] \"What are factor levels?\"\n",
      " [1] \"0\"                  \"0.0833333333333333\" \"0.0909090909090909\"\n",
      " [4] \"0.111111111111111\"  \"0.125\"              \"0.166666666666667\" \n",
      " [7] \"0.181818181818182\"  \"0.2\"                \"0.222222222222222\" \n",
      "[10] \"0.25\"              \n",
      "\n",
      "[1] \"Column of interest is portion_All_tissue\"\n",
      "[1] \"For total tissue, What is the range of values for portion for All_tissue\"\n",
      "[1] NaN\n",
      "[1] NaN\n",
      "[1] \"What are factor levels?\"\n",
      "[1] \"0\"   \"1\"   \"NaN\"\n",
      "\n",
      "[1] \"Column of interest is portion_transgenic_All_regenerated_tissue\"\n",
      "[1] \"For transgenic tissue, What is the range of values for portion for All_regenerated_tissue\"\n",
      "[1] NA\n",
      "[1] NA\n",
      "[1] \"What are factor levels?\"\n",
      "[1] \"0\"                  \"0.0833333333333333\" \"0.111111111111111\" \n",
      "[4] \"0.166666666666667\"  \"0.181818181818182\"  \"0.25\"              \n",
      "\n",
      "[1] \"Column of interest is portion_All_regenerated_tissue\"\n",
      "[1] \"For total tissue, What is the range of values for portion for All_regenerated_tissue\"\n",
      "[1] NaN\n",
      "[1] NaN\n",
      "[1] \"What are factor levels?\"\n",
      " [1] \"0\"                  \"0.0833333333333333\" \"0.0909090909090909\"\n",
      " [4] \"0.1\"                \"0.2\"                \"0.222222222222222\" \n",
      " [7] \"0.25\"               \"0.333333333333333\"  \"0.375\"             \n",
      "[10] \"0.4\"                \"0.416666666666667\"  \"0.5\"               \n",
      "[13] \"0.545454545454545\"  \"0.583333333333333\"  \"0.625\"             \n",
      "[16] \"0.636363636363636\"  \"0.666666666666667\"  \"0.727272727272727\" \n",
      "[19] \"0.75\"               \"0.777777777777778\"  \"0.8\"               \n",
      "[22] \"0.833333333333333\"  \"0.857142857142857\"  \"0.916666666666667\" \n",
      "[25] \"1\"                  \"NaN\"               \n",
      "\n",
      "[1] \"Column of interest is portion_transgenic_Background\"\n",
      "[1] \"For transgenic tissue, What is the range of values for portion for Background\"\n",
      "[1] NA\n",
      "[1] NA\n",
      "[1] \"What are factor levels?\"\n",
      "[1] \"0\"\n",
      "\n",
      "[1] \"Column of interest is portion_Background\"\n",
      "[1] \"For total tissue, What is the range of values for portion for Background\"\n",
      "[1] NaN\n",
      "[1] NaN\n",
      "[1] \"What are factor levels?\"\n",
      "[1] \"0\"   \"NaN\"\n",
      "\n",
      "[1] \"N rows of randomization datasheet: \"\n",
      "[1] 80\n",
      "[1] \"N rows of randomization datasheet: \"\n",
      "[1] 80\n",
      "\n",
      "[1] \"Plots will be saved to: \"\n",
      "[1] \"/home/labgroup/code/GMOlabeler/plots/Elements_9//Transformation/FAB_Dev_Genes/wk10/Fluorescent//\"\n",
      "\n",
      "\n",
      "[1] \"How many groups per treatment?\"\n",
      "\n",
      "  CTR WOX11 WOX5a \n",
      "   28    26    26 \n",
      "[1] \"How many rows in randomization datasheet?\"\n",
      "[1] 80\n",
      "[1] \"How many rows in randomization datasheet with portion_Callus data?\"\n",
      "[1] 78\n",
      "Warning messages:\n",
      "1: `fun.y` is deprecated. Use `fun` instead. \n",
      "2: Removed 2 rows containing non-finite values (stat_boxplot). \n",
      "3: Removed 2 rows containing non-finite values (stat_summary). \n",
      "4: Removed 2 rows containing missing values (geom_point). \n",
      "5: Removed 2 rows containing missing values (geom_point). \n",
      "Warning messages:\n",
      "1: Removed 2 rows containing non-finite values (stat_boxplot). \n",
      "2: Removed 2 rows containing non-finite values (stat_summary). \n",
      "3: Removed 2 rows containing missing values (geom_point). \n",
      "4: Removed 2 rows containing missing values (geom_point). \n",
      "Warning messages:\n",
      "1: `fun.y` is deprecated. Use `fun` instead. \n",
      "2: Removed 2 rows containing non-finite values (stat_boxplot). \n",
      "3: Removed 2 rows containing non-finite values (stat_summary). \n",
      "4: Removed 2 rows containing missing values (geom_point). \n",
      "Warning messages:\n",
      "1: Removed 2 rows containing non-finite values (stat_boxplot). \n",
      "2: Removed 2 rows containing non-finite values (stat_summary). \n",
      "3: Removed 2 rows containing missing values (geom_point). \n",
      "Warning messages:\n",
      "1: `fun.y` is deprecated. Use `fun` instead. \n",
      "2: Removed 2 rows containing non-finite values (stat_boxplot). \n",
      "3: Removed 2 rows containing non-finite values (stat_summary). \n",
      "4: Removed 2 rows containing missing values (geom_point). \n",
      "5: Removed 2 rows containing missing values (geom_point). \n",
      "Warning messages:\n",
      "1: Removed 2 rows containing non-finite values (stat_boxplot). \n",
      "2: Removed 2 rows containing non-finite values (stat_summary). \n",
      "3: Removed 2 rows containing missing values (geom_point). \n",
      "4: Removed 2 rows containing missing values (geom_point). \n",
      "Warning messages:\n",
      "1: `fun.y` is deprecated. Use `fun` instead. \n",
      "2: Removed 2 rows containing non-finite values (stat_boxplot). \n",
      "3: Removed 2 rows containing non-finite values (stat_summary). \n",
      "4: Removed 2 rows containing missing values (geom_point). \n",
      "Warning messages:\n",
      "1: Removed 2 rows containing non-finite values (stat_boxplot). \n",
      "2: Removed 2 rows containing non-finite values (stat_summary). \n",
      "3: Removed 2 rows containing missing values (geom_point). \n",
      "Warning messages:\n",
      "1: `fun.y` is deprecated. Use `fun` instead. \n",
      "2: Removed 2 rows containing non-finite values (stat_boxplot). \n",
      "3: Removed 2 rows containing non-finite values (stat_summary). \n",
      "4: Removed 2 rows containing missing values (geom_point). \n",
      "Warning messages:\n",
      "1: Removed 2 rows containing non-finite values (stat_boxplot). \n",
      "2: Removed 2 rows containing non-finite values (stat_summary). \n",
      "3: Removed 2 rows containing missing values (geom_point). \n",
      "Warning messages:\n",
      "1: `fun.y` is deprecated. Use `fun` instead. \n",
      "2: Removed 2 rows containing non-finite values (stat_boxplot). \n",
      "3: Removed 2 rows containing non-finite values (stat_summary). \n",
      "4: Removed 2 rows containing missing values (geom_point). \n",
      "5: Removed 2 rows containing missing values (geom_point). \n",
      "Warning messages:\n",
      "1: Removed 2 rows containing non-finite values (stat_boxplot). \n",
      "2: Removed 2 rows containing non-finite values (stat_summary). \n",
      "3: Removed 2 rows containing missing values (geom_point). \n",
      "4: Removed 2 rows containing missing values (geom_point). \n",
      "Warning messages:\n",
      "1: `fun.y` is deprecated. Use `fun` instead. \n",
      "2: Removed 2 rows containing non-finite values (stat_boxplot). \n",
      "3: Removed 2 rows containing non-finite values (stat_summary). \n",
      "4: Removed 2 rows containing missing values (geom_point). \n",
      "Warning messages:\n",
      "1: Removed 2 rows containing non-finite values (stat_boxplot). \n",
      "2: Removed 2 rows containing non-finite values (stat_summary). \n",
      "3: Removed 2 rows containing missing values (geom_point). \n",
      "Warning messages:\n",
      "1: `fun.y` is deprecated. Use `fun` instead. \n",
      "2: Removed 2 rows containing non-finite values (stat_boxplot). \n",
      "3: Removed 2 rows containing non-finite values (stat_summary). \n",
      "4: Removed 2 rows containing missing values (geom_point). \n",
      "Warning messages:\n",
      "1: Removed 2 rows containing non-finite values (stat_boxplot). \n",
      "2: Removed 2 rows containing non-finite values (stat_summary). \n",
      "3: Removed 2 rows containing missing values (geom_point). \n",
      "\n",
      "[1] \"How many groups per treatment?\"\n",
      "\n",
      "  CTR WOX11 WOX5a \n",
      "   28    26    26 \n",
      "[1] \"How many rows in randomization datasheet?\"\n",
      "[1] 80\n",
      "[1] \"How many rows in randomization datasheet with portion_Callus data?\"\n",
      "[1] 78\n",
      "Warning messages:\n",
      "1: Ignoring unknown parameters: outlier.shape \n",
      "2: `fun.y` is deprecated. Use `fun` instead. \n",
      "3: Removed 2 rows containing non-finite values (stat_ydensity). \n",
      "4: Removed 2 rows containing non-finite values (stat_summary). \n",
      "Warning messages:\n",
      "1: Removed 2 rows containing non-finite values (stat_ydensity). \n",
      "2: Removed 2 rows containing non-finite values (stat_summary). \n",
      "Warning messages:\n",
      "1: Ignoring unknown parameters: outlier.shape \n",
      "2: `fun.y` is deprecated. Use `fun` instead. \n",
      "3: Removed 2 rows containing non-finite values (stat_ydensity). \n",
      "4: Removed 2 rows containing non-finite values (stat_summary). \n",
      "Warning messages:\n",
      "1: Removed 2 rows containing non-finite values (stat_ydensity). \n",
      "2: Removed 2 rows containing non-finite values (stat_summary). \n",
      "Warning messages:\n",
      "1: Ignoring unknown parameters: outlier.shape \n",
      "2: `fun.y` is deprecated. Use `fun` instead. \n",
      "3: Removed 2 rows containing non-finite values (stat_ydensity). \n",
      "4: Removed 2 rows containing non-finite values (stat_summary). \n",
      "Warning messages:\n",
      "1: Removed 2 rows containing non-finite values (stat_ydensity). \n",
      "2: Removed 2 rows containing non-finite values (stat_summary). \n",
      "Warning messages:\n",
      "1: Ignoring unknown parameters: outlier.shape \n",
      "2: `fun.y` is deprecated. Use `fun` instead. \n",
      "3: Removed 2 rows containing non-finite values (stat_ydensity). \n",
      "4: Removed 2 rows containing non-finite values (stat_summary). \n",
      "Warning messages:\n",
      "1: Removed 2 rows containing non-finite values (stat_ydensity). \n",
      "2: Removed 2 rows containing non-finite values (stat_summary). \n",
      "Warning messages:\n",
      "1: Ignoring unknown parameters: outlier.shape \n",
      "2: `fun.y` is deprecated. Use `fun` instead. \n",
      "3: Removed 2 rows containing non-finite values (stat_ydensity). \n",
      "4: Removed 2 rows containing non-finite values (stat_summary). \n",
      "Warning messages:\n",
      "1: Removed 2 rows containing non-finite values (stat_ydensity). \n",
      "2: Removed 2 rows containing non-finite values (stat_summary). \n",
      "Warning messages:\n",
      "1: Ignoring unknown parameters: outlier.shape \n",
      "2: `fun.y` is deprecated. Use `fun` instead. \n",
      "3: Removed 2 rows containing non-finite values (stat_ydensity). \n",
      "4: Removed 2 rows containing non-finite values (stat_summary). \n",
      "Warning messages:\n",
      "1: Removed 2 rows containing non-finite values (stat_ydensity). \n",
      "2: Removed 2 rows containing non-finite values (stat_summary). \n",
      "Warning messages:\n",
      "1: Ignoring unknown parameters: outlier.shape \n",
      "2: `fun.y` is deprecated. Use `fun` instead. \n",
      "3: Removed 2 rows containing non-finite values (stat_ydensity). \n",
      "4: Removed 2 rows containing non-finite values (stat_summary). \n",
      "Warning messages:\n",
      "1: Removed 2 rows containing non-finite values (stat_ydensity). \n",
      "2: Removed 2 rows containing non-finite values (stat_summary). \n",
      "Warning messages:\n",
      "1: Ignoring unknown parameters: outlier.shape \n",
      "2: `fun.y` is deprecated. Use `fun` instead. \n",
      "3: Removed 2 rows containing non-finite values (stat_ydensity). \n",
      "4: Removed 2 rows containing non-finite values (stat_summary). \n",
      "Warning messages:\n",
      "1: Removed 2 rows containing non-finite values (stat_ydensity). \n",
      "2: Removed 2 rows containing non-finite values (stat_summary). \n",
      "\n",
      "[1] \"How many groups per treatment?\"\n",
      "\n",
      "  CTR WOX11 WOX5a \n",
      "   28    26    26 \n",
      "[1] \"How many rows in randomization datasheet?\"\n",
      "[1] 80\n",
      "[1] \"How many rows in randomization datasheet with n_Callus data?\"\n",
      "[1] 80\n",
      "[1] \"Head:\"\n",
      "       ID Image # Tray ID Rand # Date of transform Date on Media *Plate #\n",
      "1  FAB1_1       1    FAB1      1        2020-11-03    2020-11-05       30\n",
      "2 FAB1_10      10    FAB1     10        2020-11-03    2020-11-05       80\n",
      "3 FAB1_11      11    FAB1     11        2020-11-03    2020-11-05       15\n",
      "4 FAB1_12      12    FAB1     12        2020-11-03    2020-11-05       52\n",
      "5 FAB1_13      13    FAB1     13        2020-11-03    2020-11-05       63\n",
      "6 FAB1_14      14    FAB1     14        2020-11-03    2020-11-05       23\n",
      "  Index# in GH Genotype_ID Treatment name Replicate ...11       Rand ...13\n",
      "1           R6   SLMB-28-1          WOX11         8    NA 0.65196082    NA\n",
      "2          R21   SKWB-24-2          WOX11         9    NA 0.91915062    NA\n",
      "3           R6   SLMB-28-1          WOX5a         4    NA 0.90835196    NA\n",
      "4           R7   NISQUALLY          WOX11         5    NA 0.58337630    NA\n",
      "5          R21   SKWB-24-2          WOX5a         1    NA 0.22702208    NA\n",
      "6           R6   SLMB-28-1          WOX11         1    NA 0.09142265    NA\n",
      "     LabelTop          LabelBot                              filename    1    2\n",
      "1   FAB1_1_R1 SLMB-28-1_WOX11_8 FAB1_I5.0_F1.9_L100LED30_184258_0_0_0    1    1\n",
      "2 FAB1_10_R10 SKWB-24-2_WOX11_9 FAB1_I5.0_F1.9_L100LED30_190556_4_1_2    0    1\n",
      "3 FAB1_11_R11 SLMB-28-1_WOX5a_4      FAB1_I5.0_F1.9_L100_123907_1_1_3    1    1\n",
      "4 FAB1_12_R12 NISQUALLY_WOX11_5 FAB1_I5.0_F1.9_L100LED30_185128_8_1_4    0    1\n",
      "5 FAB1_13_R13 SKWB-24-2_WOX5a_1      FAB1_I5.0_F1.9_L100_123741_0_1_5    1    1\n",
      "6 FAB1_14_R14 SLMB-28-1_WOX11_1                                  <NA> <NA> <NA>\n",
      "     3    4    5    6    7    8    9   10   11   12 total_explants\n",
      "1    1    1    1    1    1    1    1    1    1    1             12\n",
      "2    0    1    1    1    0    0    0    0    1    0              5\n",
      "3    1    1    1    1    1    1    1    1    1    1             12\n",
      "4    1    0    1    1    1    1    1    1    1    1             10\n",
      "5    1    1    1    1    1    1    1    1    1    1             12\n",
      "6 <NA> <NA> <NA> <NA> <NA> <NA> <NA> <NA> <NA> <NA>             12\n",
      "  n_transgenic_Shoot portion_transgenic_Shoot n_transgenic_Callus\n",
      "1                  0                0.0000000                   0\n",
      "2                  0                0.0000000                   0\n",
      "3                  0                0.0000000                   0\n",
      "4                  0                0.0000000                   0\n",
      "5                  2                0.1666667                   1\n",
      "6                  0                0.0000000                   0\n",
      "  portion_transgenic_Callus n_transgenic_Stem portion_transgenic_Stem\n",
      "1                0.00000000                 0                       0\n",
      "2                0.00000000                 0                       0\n",
      "3                0.00000000                 0                       0\n",
      "4                0.00000000                 0                       0\n",
      "5                0.08333333                 0                       0\n",
      "6                0.00000000                 0                       0\n",
      "  n_transgenic_All_tissue portion_transgenic_All_tissue\n",
      "1                       0                     0.0000000\n",
      "2                       0                     0.0000000\n",
      "3                       0                     0.0000000\n",
      "4                       0                     0.0000000\n",
      "5                       2                     0.1666667\n",
      "6                       0                     0.0000000\n",
      "  n_transgenic_All_regenerated_tissue portion_transgenic_All_regenerated_tissue\n",
      "1                                   0                                 0.0000000\n",
      "2                                   0                                 0.0000000\n",
      "3                                   0                                 0.0000000\n",
      "4                                   0                                 0.0000000\n",
      "5                                   2                                 0.1666667\n",
      "6                                   0                                 0.0000000\n",
      "  n_transgenic_Background portion_transgenic_Background n_Shoot portion_Shoot\n",
      "1                       0                             0       0     0.0000000\n",
      "2                       0                             0       0     0.0000000\n",
      "3                       0                             0       0     0.0000000\n",
      "4                       0                             0       0     0.0000000\n",
      "5                       0                             0       2     0.1666667\n",
      "6                       0                             0       0     0.0000000\n",
      "  n_Callus portion_Callus n_Stem portion_Stem n_All_tissue portion_All_tissue\n",
      "1       10      0.8333333      4    0.3333333           12                  1\n",
      "2        1      0.2000000      5    1.0000000            5                  1\n",
      "3       12      1.0000000      2    0.1666667           12                  1\n",
      "4        1      0.1000000     10    1.0000000           10                  1\n",
      "5       10      0.8333333      6    0.5000000           12                  1\n",
      "6        0      0.0000000      0    0.0000000            0                  0\n",
      "  n_All_regenerated_tissue portion_All_regenerated_tissue n_Background\n",
      "1                       10                      0.8333333            0\n",
      "2                        1                      0.2000000            0\n",
      "3                       12                      1.0000000            0\n",
      "4                        1                      0.1000000            0\n",
      "5                       10                      0.8333333            0\n",
      "6                        0                      0.0000000            0\n",
      "  portion_Background\n",
      "1                  0\n",
      "2                  0\n",
      "3                  0\n",
      "4                  0\n",
      "5                  0\n",
      "6                  0\n",
      "Warning message:\n",
      "`fun.y` is deprecated. Use `fun` instead. \n",
      "Warning message:\n",
      "`fun.y` is deprecated. Use `fun` instead. \n",
      "Warning message:\n",
      "`fun.y` is deprecated. Use `fun` instead. \n",
      "Warning message:\n",
      "`fun.y` is deprecated. Use `fun` instead. \n",
      "Warning message:\n",
      "`fun.y` is deprecated. Use `fun` instead. \n",
      "Warning message:\n",
      "`fun.y` is deprecated. Use `fun` instead. \n",
      "Warning message:\n",
      "`fun.y` is deprecated. Use `fun` instead. \n",
      "Warning message:\n",
      "`fun.y` is deprecated. Use `fun` instead. \n",
      "\n",
      "[1] \"List of treatments in this randomization_datasheet: \"\n",
      "[1] \"CTR\"   \"WOX11\" \"WOX5a\"\n",
      "[1] \"Now about to merge randomization_datasheet and GMOlabeler output.\"\n",
      "[1] \"Rows in randomization_datasheet: 80\"\n",
      "[1] \"Rows in GMOlabeler output: 3491\"\n",
      "[1] \"Before merging, look at table of ID in both. \"\n",
      "\n",
      " FAB1_1 FAB1_10 FAB1_11 FAB1_12 FAB1_13 FAB1_14 FAB1_15 FAB1_16 FAB1_17 FAB1_18 \n",
      "      1       1       1       1       1       1       1       1       1       1 \n",
      "FAB1_19  FAB1_2 FAB1_20 FAB1_21  FAB1_3  FAB1_4  FAB1_5  FAB1_6  FAB1_7  FAB1_8 \n",
      "      1       1       1       1       1       1       1       1       1       1 \n",
      " FAB1_9  FAB2_1 FAB2_10 FAB2_11 FAB2_12 FAB2_13 FAB2_14 FAB2_15 FAB2_16 FAB2_17 \n",
      "      1       1       1       1       1       1       1       1       1       1 \n",
      "FAB2_18 FAB2_19  FAB2_2 FAB2_20 FAB2_21  FAB2_3  FAB2_4  FAB2_5  FAB2_6  FAB2_7 \n",
      "      1       1       1       1       1       1       1       1       1       1 \n",
      " FAB2_8  FAB2_9  FAB3_1 FAB3_10 FAB3_11 FAB3_12 FAB3_13 FAB3_14 FAB3_15 FAB3_16 \n",
      "      1       1       1       1       1       1       1       1       1       1 \n",
      "FAB3_17 FAB3_18 FAB3_19  FAB3_2 FAB3_20 FAB3_21  FAB3_3  FAB3_4  FAB3_5  FAB3_6 \n",
      "      1       1       1       1       1       1       1       1       1       1 \n",
      " FAB3_7  FAB3_8  FAB3_9  FAB4_1 FAB4_10 FAB4_11 FAB4_12 FAB4_13 FAB4_14 FAB4_15 \n",
      "      1       1       1       1       1       1       1       1       1       1 \n",
      "FAB4_16 FAB4_17  FAB4_2  FAB4_3  FAB4_4  FAB4_5  FAB4_6  FAB4_7  FAB4_8  FAB4_9 \n",
      "      1       1       1       1       1       1       1       1       1       1 \n",
      "\n",
      " FAB1_1 FAB1_10 FAB1_11 FAB1_12 FAB1_13 FAB1_15 FAB1_16 FAB1_17 FAB1_18 FAB1_19 \n",
      "     58      21      60      41      58      37      45      58      53      52 \n",
      " FAB1_2 FAB1_20 FAB1_21  FAB1_3  FAB1_4  FAB1_5  FAB1_6  FAB1_7  FAB1_8  FAB1_9 \n",
      "     48      51      51      54      58      60      48      56      35      57 \n",
      " FAB2_1 FAB2_10 FAB2_11 FAB2_12 FAB2_13 FAB2_14 FAB2_15 FAB2_17 FAB2_18 FAB2_19 \n",
      "     60      58      51      60      48      53      20      45      58      56 \n",
      " FAB2_2 FAB2_20 FAB2_21  FAB2_3  FAB2_4  FAB2_5  FAB2_6  FAB2_7  FAB2_8  FAB2_9 \n",
      "     58      48      48      51      22      56      16      44      24      34 \n",
      " FAB3_1 FAB3_10 FAB3_11 FAB3_12 FAB3_13 FAB3_14 FAB3_15 FAB3_16 FAB3_17 FAB3_19 \n",
      "     59      12      48      50      60      43       4      54      49      48 \n",
      " FAB3_2 FAB3_20 FAB3_21  FAB3_3  FAB3_4  FAB3_5  FAB3_6  FAB3_8  FAB3_9  FAB4_1 \n",
      "     56      60      57      24      58      49      44      48      13      55 \n",
      "FAB4_10 FAB4_11 FAB4_12 FAB4_13 FAB4_14 FAB4_15 FAB4_17  FAB4_2  FAB4_3  FAB4_4 \n",
      "     52      60      56      48      55      35      59      49      24      60 \n",
      " FAB4_5  FAB4_6  FAB4_7  FAB4_8  FAB4_9       _ \n",
      "     28      36      53      38      35       1 \n",
      "[1] \"Rows in merged output: 3491\"\n",
      "[1] \"List of treatments in this combined data: \"\n",
      "[1] \"CTR\"   \"WOX11\" \"WOX5a\"\n",
      "\n",
      "[1] \"Making final plots for tissue: \"\n",
      "  Tissue hex_code color\n",
      "1  Shoot   00CC11 green\n",
      "[1] \"Dim before and after subsetting combined data to this tissue only\"\n",
      "[1] 3491   68\n",
      "[1] 776  68\n",
      "[1] \"Max mean_signal\"\n",
      "[1] 131.2871\n",
      "[1] \"Mean signal plots\"\n",
      "[1] \"Finished making mean signal plot... Now to save and make the rest.\"\n",
      "[1] \"Max signal plots\"\n",
      "[1] \"Total signal plots\"\n",
      "[1] \"Making final plots for tissue: \"\n",
      "  Tissue hex_code color\n",
      "2 Callus   0006CC  blue\n",
      "[1] \"Dim before and after subsetting combined data to this tissue only\"\n",
      "[1] 3491   68\n",
      "[1] 776  68\n",
      "[1] \"Max mean_signal\"\n",
      "[1] 49.88872\n",
      "[1] \"Mean signal plots\"\n",
      "[1] \"Finished making mean signal plot... Now to save and make the rest.\"\n",
      "[1] \"Max signal plots\"\n",
      "[1] \"Total signal plots\"\n",
      "[1] \"Making final plots for tissue: \"\n",
      "  Tissue hex_code color\n",
      "3   Stem   CC0000   red\n",
      "[1] \"Dim before and after subsetting combined data to this tissue only\"\n",
      "[1] 3491   68\n",
      "[1] 776  68\n",
      "[1] \"Max mean_signal\"\n",
      "[1] 12.34937\n",
      "[1] \"Mean signal plots\"\n",
      "[1] \"Finished making mean signal plot... Now to save and make the rest.\"\n",
      "[1] \"Max signal plots\"\n",
      "[1] \"Total signal plots\"\n",
      "[1] \"Making final plots for tissue: \"\n",
      "      Tissue   hex_code color\n",
      "4 All_tissue All_tissue black\n",
      "[1] \"Dim before and after subsetting combined data to this tissue only\"\n",
      "[1] 3491   68\n",
      "[1] 776  68\n",
      "[1] \"Max mean_signal\"\n",
      "[1] -Inf\n",
      "[1] \"Making final plots for tissue: \"\n",
      "                  Tissue               hex_code color\n",
      "5 All_regenerated_tissue All_regenerated_tissue  <NA>\n",
      "[1] \"Dim before and after subsetting combined data to this tissue only\"\n",
      "[1] 3491   68\n",
      "[1] 386  68\n",
      "[1] \"Max mean_signal\"\n",
      "[1] -Inf\n",
      "There were 50 or more warnings (use warnings() to see the first 50)\n",
      "(gmolabeler) "
     ]
    }
   ],
   "source": [
    "conda activate gmolabeler\n",
    "cd $gmolabeler_path\n",
    "Rscript grid_item_plots.R \\\n",
    "-d \"${data_folder}/\" \\\n",
    "-r \"$randomization_datasheet\" \\\n",
    "-p $pixel_threshold \\\n",
    "-v categorical \\\n",
    "-m 1 \\\n",
    "-M $missing_explants \\\n",
    "-g $grid \\\n",
    "--sort 1 \\\n",
    "--height $height \\\n",
    "--width $width\n",
    "conda deactivate"
   ]
  },
  {
   "cell_type": "markdown",
   "metadata": {},
   "source": [
    "## Email plots to user"
   ]
  },
  {
   "cell_type": "markdown",
   "metadata": {},
   "source": [
    "### ZIP results"
   ]
  },
  {
   "cell_type": "code",
   "execution_count": 103,
   "metadata": {},
   "outputs": [
    {
     "name": "stdout",
     "output_type": "stream",
     "text": [
      "/home/labgroup/code/GMOlabeler//plotsElements_9//Transformation/FAB_Dev_Genes/wk10/Fluorescent/\n"
     ]
    }
   ],
   "source": [
    "echo \"${gmolabeler_path}/plots${data_folder}\""
   ]
  },
  {
   "cell_type": "code",
   "execution_count": 104,
   "metadata": {},
   "outputs": [],
   "source": [
    "cd \"${gmolabeler_path}/plots/${data_folder}\""
   ]
  },
  {
   "cell_type": "code",
   "execution_count": 105,
   "metadata": {},
   "outputs": [],
   "source": [
    "rm -f ./plants_over_plates.csv"
   ]
  },
  {
   "cell_type": "code",
   "execution_count": 106,
   "metadata": {},
   "outputs": [
    {
     "name": "stdout",
     "output_type": "stream",
     "text": [
      "/home/labgroup/code/GMOlabeler//output/Elements_9//Transformation/FAB_Dev_Genes/wk10/Fluorescent//\n"
     ]
    }
   ],
   "source": [
    "echo ${gmolabeler_path}/output/${data_folder}/"
   ]
  },
  {
   "cell_type": "code",
   "execution_count": 107,
   "metadata": {},
   "outputs": [],
   "source": [
    "cp \"${gmolabeler_path}/output/${data_folder}/plants_over_plates.csv\" ./"
   ]
  },
  {
   "cell_type": "code",
   "execution_count": 108,
   "metadata": {},
   "outputs": [],
   "source": [
    "cp \"${gmolabeler_path}/output/${data_folder}/stats_with_sums_over_tissues.csv\" ./"
   ]
  },
  {
   "cell_type": "code",
   "execution_count": 109,
   "metadata": {},
   "outputs": [],
   "source": [
    "#cd $data"
   ]
  },
  {
   "cell_type": "code",
   "execution_count": 110,
   "metadata": {},
   "outputs": [],
   "source": [
    "rm -f Rplots.pdf"
   ]
  },
  {
   "cell_type": "code",
   "execution_count": 111,
   "metadata": {},
   "outputs": [],
   "source": [
    "cd ../"
   ]
  },
  {
   "cell_type": "markdown",
   "metadata": {},
   "source": [
    "This messy substitution is explained here: https://superuser.com/questions/1068031/replace-backslash-with-forward-slash-in-a-variable-in-bash"
   ]
  },
  {
   "cell_type": "code",
   "execution_count": 112,
   "metadata": {},
   "outputs": [],
   "source": [
    "data_folder_Compress=\"${data_folder////-}.zip\"\n",
    "data_folder_Compress=${data_folder_Compress#?};"
   ]
  },
  {
   "cell_type": "code",
   "execution_count": 113,
   "metadata": {},
   "outputs": [
    {
     "name": "stdout",
     "output_type": "stream",
     "text": [
      "Elements_9//Transformation/FAB_Dev_Genes/wk10/Fluorescent/\n"
     ]
    }
   ],
   "source": [
    "echo $data_folder"
   ]
  },
  {
   "cell_type": "code",
   "execution_count": 114,
   "metadata": {},
   "outputs": [
    {
     "name": "stdout",
     "output_type": "stream",
     "text": [
      "lements_9--Transformation-FAB_Dev_Genes-wk10-Fluorescent-.zip\n"
     ]
    }
   ],
   "source": [
    "echo $data_folder_Compress"
   ]
  },
  {
   "cell_type": "code",
   "execution_count": 115,
   "metadata": {},
   "outputs": [
    {
     "name": "stdout",
     "output_type": "stream",
     "text": [
      "/home/labgroup/code/GMOlabeler/plots/Elements_9/Transformation/FAB_Dev_Genes/wk10\n"
     ]
    }
   ],
   "source": [
    "pwd"
   ]
  },
  {
   "cell_type": "code",
   "execution_count": 116,
   "metadata": {},
   "outputs": [],
   "source": [
    "cd $timepoint"
   ]
  },
  {
   "cell_type": "code",
   "execution_count": 117,
   "metadata": {},
   "outputs": [
    {
     "name": "stdout",
     "output_type": "stream",
     "text": [
      "2A1_portion_Callus_total.png\n",
      "2A1c_portion_Callus_total.png\n",
      "2A2_portion_Callus_transgenic.png\n",
      "2A2c_portion_Callus_transgenic.png\n",
      "2B1_portion_Shoot_total.png\n",
      "2B1c_portion_Shoot_total.png\n",
      "2B2_portion_Shoot_transgenic.png\n",
      "2B2c_portion_Shoot_transgenic.png\n",
      "2C1_portion_All_regenerated_tissue_total.png\n",
      "2C1c_portion_All_regenerated_tissue_total.png\n",
      "2C2_portion_All_regenerated_tissue_transgenic.png\n",
      "2C2c_portion_All_regenerated_tissue_transgenic.png\n",
      "2D1_portion_All_tissue_total.png\n",
      "2D1c_portion_All_tissue_total.png\n",
      "2D2_portion_All_tissue_transgenic.png\n",
      "2D2c_portion_All_tissue_transgenic.png\n",
      "3A1_Callus_total.png\n",
      "3A2_Callus_transgenic.png\n",
      "3B1_Shoot_total.png\n",
      "3B2_Shoot_transgenic.png\n",
      "3D1_All_regenerated_tissue_total.png\n",
      "3D1_All_tissue_total.png\n",
      "3D2_All_regenerated_tissue_transgenic.png\n",
      "3D2_All_tissue_transgenic.png\n",
      "A1_Shoot_Total_signal.png\n",
      "A2_Callus_Total_signal.png\n",
      "A3_Stem_Total_signal.png\n",
      "B1_Shoot_Max_signal.png\n",
      "B2_Callus_Max_signal.png\n",
      "B3_Stem_Max_signal.png\n",
      "C1_Shoot_Mean_signal.png\n",
      "C2_Callus_Mean_signal.png\n",
      "C3_Stem_Mean_signal.png\n",
      "gridplot_args.rds\n",
      "plants_over_plates.csv\n",
      "stats_with_sums_over_tissues.csv\n"
     ]
    }
   ],
   "source": [
    "ls"
   ]
  },
  {
   "cell_type": "code",
   "execution_count": 118,
   "metadata": {},
   "outputs": [
    {
     "name": "stdout",
     "output_type": "stream",
     "text": [
      "bash: cd: Fluorescent: No such file or directory\n",
      "  adding: 2A1_portion_Callus_total.png (deflated 12%)\n",
      "  adding: 2A1c_portion_Callus_total.png (deflated 8%)\n",
      "  adding: 2A2_portion_Callus_transgenic.png (deflated 15%)\n",
      "  adding: 2A2c_portion_Callus_transgenic.png (deflated 12%)\n",
      "  adding: 2B1_portion_Shoot_total.png (deflated 15%)\n",
      "  adding: 2B1c_portion_Shoot_total.png (deflated 9%)\n",
      "  adding: 2B2_portion_Shoot_transgenic.png (deflated 26%)\n",
      "  adding: 2B2c_portion_Shoot_transgenic.png (deflated 10%)\n",
      "  adding: 2C1_portion_All_regenerated_tissue_total.png (deflated 13%)\n",
      "  adding: 2C1c_portion_All_regenerated_tissue_total.png (deflated 7%)\n",
      "  adding: 2C2_portion_All_regenerated_tissue_transgenic.png (deflated 14%)\n",
      "  adding: 2C2c_portion_All_regenerated_tissue_transgenic.png (deflated 9%)\n",
      "  adding: 2D1_portion_All_tissue_total.png (deflated 29%)\n",
      "  adding: 2D1c_portion_All_tissue_total.png (deflated 12%)\n",
      "  adding: 2D2_portion_All_tissue_transgenic.png (deflated 14%)\n",
      "  adding: 2D2c_portion_All_tissue_transgenic.png (deflated 10%)\n",
      "  adding: 3A1_Callus_total.png (deflated 14%)\n",
      "  adding: 3A2_Callus_transgenic.png (deflated 16%)\n",
      "  adding: 3B1_Shoot_total.png (deflated 17%)\n",
      "  adding: 3B2_Shoot_transgenic.png (deflated 33%)\n",
      "  adding: 3D1_All_regenerated_tissue_total.png (deflated 13%)\n",
      "  adding: 3D1_All_tissue_total.png (deflated 14%)\n",
      "  adding: 3D2_All_regenerated_tissue_transgenic.png (deflated 15%)\n",
      "  adding: 3D2_All_tissue_transgenic.png (deflated 16%)\n",
      "  adding: A1_Shoot_Total_signal.png (deflated 18%)\n",
      "  adding: A2_Callus_Total_signal.png (deflated 16%)\n",
      "  adding: A3_Stem_Total_signal.png (deflated 10%)\n",
      "  adding: B1_Shoot_Max_signal.png (deflated 17%)\n",
      "  adding: B2_Callus_Max_signal.png (deflated 17%)\n",
      "  adding: B3_Stem_Max_signal.png (deflated 14%)\n",
      "  adding: C1_Shoot_Mean_signal.png (deflated 18%)\n",
      "  adding: C2_Callus_Mean_signal.png (deflated 16%)\n",
      "  adding: C3_Stem_Mean_signal.png (deflated 12%)\n",
      "  adding: gridplot_args.rds (stored 0%)\n",
      "  adding: plants_over_plates.csv (deflated 80%)\n",
      "  adding: stats_with_sums_over_tissues.csv (deflated 89%)\n"
     ]
    }
   ],
   "source": [
    "cd $timepoint\n",
    "zip -r $data_folder_Compress ./*"
   ]
  },
  {
   "cell_type": "markdown",
   "metadata": {},
   "source": [
    "### Write email"
   ]
  },
  {
   "cell_type": "code",
   "execution_count": 119,
   "metadata": {},
   "outputs": [],
   "source": [
    "duration=$(( SECONDS - start ))"
   ]
  },
  {
   "cell_type": "markdown",
   "metadata": {},
   "source": [
    "https://unix.stackexchange.com/questions/53841/how-to-use-a-timer-in-bash"
   ]
  },
  {
   "cell_type": "code",
   "execution_count": 120,
   "metadata": {},
   "outputs": [],
   "source": [
    "rm -f \"${gmolabeler_path}/email_to_send.txt\"\n",
    "cp \"${gmolabeler_path}/email_to_send_template.txt\" \"${gmolabeler_path}/email_to_send.txt\""
   ]
  },
  {
   "cell_type": "code",
   "execution_count": 121,
   "metadata": {},
   "outputs": [],
   "source": [
    "echo \"\" >> \"${gmolabeler_path}/email_to_send.txt\"\n",
    "echo \"Number of samples run: \" >> \"${gmolabeler_path}/email_to_send.txt\""
   ]
  },
  {
   "cell_type": "code",
   "execution_count": 122,
   "metadata": {},
   "outputs": [],
   "source": [
    "cat \"${data}/test.csv\" | wc -l >> \"${gmolabeler_path}/email_to_send.txt\"\n",
    "echo \"\" >> \"${gmolabeler_path}/email_to_send.txt\""
   ]
  },
  {
   "cell_type": "code",
   "execution_count": 123,
   "metadata": {},
   "outputs": [],
   "source": [
    "if (( $SECONDS > 3600 )) ; then\n",
    "    let \"hours=SECONDS/3600\"\n",
    "    let \"minutes=(SECONDS%3600)/60\"\n",
    "    let \"seconds=(SECONDS%3600)%60\"\n",
    "    echo \"Completed in $hours hour(s), $minutes minute(s) and $seconds second(s)\" >> \"${gmolabeler_path}/email_to_send.txt\"\n",
    "elif (( $SECONDS > 60 )) ; then\n",
    "    let \"minutes=(SECONDS%3600)/60\"\n",
    "    let \"seconds=(SECONDS%3600)%60\"\n",
    "    echo \"Completed in $minutes minute(s) and $seconds second(s)\" >> \"${gmolabeler_path}/email_to_send.txt\"\n",
    "else\n",
    "    echo \"Completed in $SECONDS seconds\" >> \"${gmolabeler_path}/email_to_send.txt\"\n",
    "fi"
   ]
  },
  {
   "cell_type": "code",
   "execution_count": 124,
   "metadata": {},
   "outputs": [],
   "source": [
    "echo \"\" >> \"${gmolabeler_path}/email_to_send.txt\""
   ]
  },
  {
   "cell_type": "markdown",
   "metadata": {},
   "source": [
    "### Send email with results to user"
   ]
  },
  {
   "cell_type": "code",
   "execution_count": 125,
   "metadata": {},
   "outputs": [
    {
     "name": "stdout",
     "output_type": "stream",
     "text": [
      "/home/labgroup/code/GMOlabeler/plots/Elements_9/Transformation/FAB_Dev_Genes/wk10/Fluorescent\n"
     ]
    }
   ],
   "source": [
    "pwd"
   ]
  },
  {
   "cell_type": "code",
   "execution_count": 126,
   "metadata": {},
   "outputs": [],
   "source": [
    "conda deactivate"
   ]
  },
  {
   "cell_type": "code",
   "execution_count": 127,
   "metadata": {},
   "outputs": [],
   "source": [
    "mail -a $data_folder_Compress -s $data_folder $email < \"${gmolabeler_path}/email_to_send.txt\""
   ]
  },
  {
   "cell_type": "code",
   "execution_count": 128,
   "metadata": {},
   "outputs": [
    {
     "name": "stdout",
     "output_type": "stream",
     "text": [
      "3.7M\tlements_9--Transformation-FAB_Dev_Genes-wk10-Fluorescent-.zip\n"
     ]
    }
   ],
   "source": [
    "du -sh $data_folder_Compress"
   ]
  },
  {
   "cell_type": "code",
   "execution_count": 129,
   "metadata": {},
   "outputs": [
    {
     "name": "stdout",
     "output_type": "stream",
     "text": [
      "\n",
      "Your job is complete!\n",
      "\n",
      "Number of samples run: \n",
      "77\n",
      "\n",
      "Completed in 12 hour(s), 45 minute(s) and 28 second(s)\n",
      "\n"
     ]
    }
   ],
   "source": [
    "cat \"${gmolabeler_path}/email_to_send.txt\""
   ]
  },
  {
   "cell_type": "markdown",
   "metadata": {},
   "source": [
    "Time workflow ends:"
   ]
  },
  {
   "cell_type": "code",
   "execution_count": 130,
   "metadata": {},
   "outputs": [
    {
     "name": "stdout",
     "output_type": "stream",
     "text": [
      "Error in certificate: Peer's certificate issuer is not recognized.\n",
      "Thu Feb 25 15:46:51 PST 2021\n"
     ]
    }
   ],
   "source": [
    "echo $(date)"
   ]
  },
  {
   "cell_type": "code",
   "execution_count": null,
   "metadata": {},
   "outputs": [],
   "source": []
  },
  {
   "cell_type": "code",
   "execution_count": null,
   "metadata": {},
   "outputs": [],
   "source": []
  },
  {
   "cell_type": "code",
   "execution_count": null,
   "metadata": {},
   "outputs": [],
   "source": []
  },
  {
   "cell_type": "code",
   "execution_count": null,
   "metadata": {},
   "outputs": [],
   "source": []
  },
  {
   "cell_type": "code",
   "execution_count": null,
   "metadata": {},
   "outputs": [],
   "source": []
  },
  {
   "cell_type": "code",
   "execution_count": null,
   "metadata": {},
   "outputs": [],
   "source": []
  },
  {
   "cell_type": "code",
   "execution_count": null,
   "metadata": {},
   "outputs": [],
   "source": []
  },
  {
   "cell_type": "code",
   "execution_count": null,
   "metadata": {},
   "outputs": [],
   "source": []
  },
  {
   "cell_type": "code",
   "execution_count": null,
   "metadata": {},
   "outputs": [],
   "source": []
  },
  {
   "cell_type": "code",
   "execution_count": null,
   "metadata": {},
   "outputs": [],
   "source": []
  },
  {
   "cell_type": "code",
   "execution_count": null,
   "metadata": {},
   "outputs": [],
   "source": []
  },
  {
   "cell_type": "code",
   "execution_count": null,
   "metadata": {},
   "outputs": [],
   "source": []
  },
  {
   "cell_type": "code",
   "execution_count": null,
   "metadata": {},
   "outputs": [],
   "source": []
  },
  {
   "cell_type": "code",
   "execution_count": null,
   "metadata": {},
   "outputs": [],
   "source": []
  },
  {
   "cell_type": "code",
   "execution_count": null,
   "metadata": {},
   "outputs": [],
   "source": []
  },
  {
   "cell_type": "code",
   "execution_count": null,
   "metadata": {},
   "outputs": [],
   "source": []
  },
  {
   "cell_type": "code",
   "execution_count": null,
   "metadata": {},
   "outputs": [],
   "source": []
  }
 ],
 "metadata": {
  "kernelspec": {
   "display_name": "Bash",
   "language": "bash",
   "name": "bash"
  },
  "language_info": {
   "codemirror_mode": "shell",
   "file_extension": ".sh",
   "mimetype": "text/x-sh",
   "name": "bash"
  },
  "toc-autonumbering": true
 },
 "nbformat": 4,
 "nbformat_minor": 4
}
