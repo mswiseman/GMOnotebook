{
 "cells": [
  {
   "cell_type": "markdown",
   "metadata": {},
   "source": [
    "# Why is `expand.py` writing to wrong filename on local machine?"
   ]
  },
  {
   "cell_type": "code",
   "execution_count": 2,
   "metadata": {},
   "outputs": [],
   "source": [
    "import os\n",
    "import math\n",
    "from PIL import Image\n",
    "from skimage.io import imread\n",
    "import numpy as np\n",
    "import sys\n",
    "import PIL"
   ]
  },
  {
   "cell_type": "code",
   "execution_count": 3,
   "metadata": {},
   "outputs": [],
   "source": [
    "class_color = [[0,   0, 0], # 0-background\n",
    "                         [128, 0, 0], # 1-stem\n",
    "                         [0, 0, 128], # 2-callus\n",
    "                         [0, 128, 0], # 3-shoot\n",
    "                          ]\n",
    "idx_palette = np.reshape(np.asarray(class_color), (-1))"
   ]
  },
  {
   "cell_type": "code",
   "execution_count": 4,
   "metadata": {},
   "outputs": [],
   "source": [
    "def expand2square(pil_img, background_color):\n",
    "    # https://note.nkmk.me/en/python-pillow-add-margin-expand-canvas/\n",
    "    width, height = pil_img.size\n",
    "    if width == height:\n",
    "        return pil_img\n",
    "    elif width > height:\n",
    "        result = Image.new(pil_img.mode, (width, width), background_color)\n",
    "        result.paste(pil_img, (0, (width - height) // 2))\n",
    "        return result\n",
    "    else:\n",
    "        result = Image.new(pil_img.mode, (height, height), background_color)\n",
    "        result.paste(pil_img, ((height - width) // 2, 0))\n",
    "        return result"
   ]
  },
  {
   "cell_type": "code",
   "execution_count": 5,
   "metadata": {},
   "outputs": [],
   "source": [
    "def pad_image(file_path):\n",
    "    if '.png' in file_path:\n",
    "        file_in = imread(file_path, pilmode='P')\n",
    "        file_in = Image.fromarray(file_in)\n",
    "    if '.jpg' in file_path:\n",
    "        x = \"RGB\"\n",
    "        file_in = Image.open(file_path).convert(x)\n",
    "    \n",
    "    print('Reading file ' + str(file_path))\n",
    "    \n",
    "    expanded_img = expand2square(pil_img = file_in, background_color=0)\n",
    "    \n",
    "    # if not os.path.exists('resized'):\n",
    "    #     os.makedirs('resized') # https://www.tutorialspoint.com/How-can-I-create-a-directory-if-it-does-not-exist-using-Python\n",
    "\n",
    "    img_out_path = file_path.replace('segment_cropped', 'segment_uncropped')\n",
    "    filterim = PIL.Image.BICUBIC if '.png' not in file_path else PIL.Image.NEAREST\n",
    "    expanded_img = expanded_img.resize((4000,4000), resample=filterim)\n",
    "    \n",
    "    print('Writing file ' + str(img_out_path))\n",
    "    expanded_img = expanded_img.rotate(180, expand=True, resample=PIL.Image.NEAREST)\n",
    "    ########## WE ARE ROTATING IMAGES 180deg here because NN wants label on bottom and alignment homography matrix currently used wants them on top\n",
    "    if '.png' in file_path:\n",
    "        expanded_img.putpalette(list(idx_palette))\n",
    "    \n",
    "    expanded_img.save(img_out_path)"
   ]
  },
  {
   "cell_type": "code",
   "execution_count": 6,
   "metadata": {},
   "outputs": [],
   "source": [
    "def expandloop(wd):\n",
    "    file_list = os.listdir(wd)\n",
    "    os.chdir(wd)\n",
    "    print('Working in directory' + str(wd))\n",
    "    file_list = [x for x in file_list if '.png' in x]\n",
    "    print('Number of files: ' + str(len(file_list)))\n",
    "    #print(file_list)\n",
    "    #return(None)\n",
    "    for file in file_list:\n",
    "        pad_image(file)"
   ]
  },
  {
   "cell_type": "code",
   "execution_count": 7,
   "metadata": {
    "collapsed": true,
    "jupyter": {
     "outputs_hidden": true
    }
   },
   "outputs": [
    {
     "name": "stdout",
     "output_type": "stream",
     "text": [
      "Working in directory/home/labgroup/data/GREGSCORNER/GFPA_cottonwoods/wk3/Fluorescent/\n",
      "Number of files: 25\n",
      "Reading file GFPA2_I5.0_F1.9_L100_164433_2_0_5_rgb_cropped.png\n",
      "Writing file GFPA2_I5.0_F1.9_L100_164433_2_0_5_rgb_cropped.png\n",
      "Reading file GFPA1_I5.0_F1.9_L100_162939_14_2_1_rgb_cropped.png\n",
      "Writing file GFPA1_I5.0_F1.9_L100_162939_14_2_1_rgb_cropped.png\n",
      "Reading file GFPA2_I5.0_F1.9_L100_164229_0_0_3_rgb_cropped.png\n",
      "Writing file GFPA2_I5.0_F1.9_L100_164229_0_0_3_rgb_cropped.png\n",
      "Reading file GFPA1_I5.0_F1.9_L100_162117_5_0_5_rgb_cropped.png\n",
      "Writing file GFPA1_I5.0_F1.9_L100_162117_5_0_5_rgb_cropped.png\n",
      "Reading file GFPA1_I5.0_F1.9_L100_163322_18_2_5_rgb_cropped.png\n",
      "Writing file GFPA1_I5.0_F1.9_L100_163322_18_2_5_rgb_cropped.png\n",
      "Reading file GFPA1_I5.0_F1.9_L100_161923_3_0_3_rgb_cropped.png\n",
      "Writing file GFPA1_I5.0_F1.9_L100_161923_3_0_3_rgb_cropped.png\n",
      "Reading file GFPA1_I5.0_F1.9_L100_162757_12_1_0_rgb_cropped.png\n",
      "Writing file GFPA1_I5.0_F1.9_L100_162757_12_1_0_rgb_cropped.png\n",
      "Reading file GFPA1_I5.0_F1.9_L100_163039_15_2_2_rgb_cropped.png\n",
      "Writing file GFPA1_I5.0_F1.9_L100_163039_15_2_2_rgb_cropped.png\n",
      "Reading file GFPA1_I5.0_F1.9_L100_161732_1_0_1_rgb_cropped.png\n",
      "Writing file GFPA1_I5.0_F1.9_L100_161732_1_0_1_rgb_cropped.png\n",
      "Reading file GFPA1_I5.0_F1.9_L100_161827_2_0_2_rgb_cropped.png\n",
      "Writing file GFPA1_I5.0_F1.9_L100_161827_2_0_2_rgb_cropped.png\n",
      "Reading file GFPA1_I5.0_F1.9_L100_162212_6_0_6_rgb_cropped.png\n",
      "Writing file GFPA1_I5.0_F1.9_L100_162212_6_0_6_rgb_cropped.png\n",
      "Reading file GFPA1_I5.0_F1.9_L100_162308_7_1_6_rgb_cropped.png\n",
      "Writing file GFPA1_I5.0_F1.9_L100_162308_7_1_6_rgb_cropped.png\n",
      "Reading file GFPA1_I5.0_F1.9_L100_162649_11_1_2_rgb_cropped.png\n",
      "Writing file GFPA1_I5.0_F1.9_L100_162649_11_1_2_rgb_cropped.png\n",
      "Reading file GFPA1_I5.0_F1.9_L100_162020_4_0_4_rgb_cropped.png\n",
      "Writing file GFPA1_I5.0_F1.9_L100_162020_4_0_4_rgb_cropped.png\n",
      "Reading file GFPA1_I5.0_F1.9_L100_162450_9_1_4_rgb_cropped.png\n",
      "Writing file GFPA1_I5.0_F1.9_L100_162450_9_1_4_rgb_cropped.png\n",
      "Reading file GFPA1_I5.0_F1.9_L100_162853_13_2_0_rgb_cropped.png\n",
      "Writing file GFPA1_I5.0_F1.9_L100_162853_13_2_0_rgb_cropped.png\n",
      "Reading file GFPA2_I5.0_F1.9_L100_164338_1_0_4_rgb_cropped.png\n",
      "Writing file GFPA2_I5.0_F1.9_L100_164338_1_0_4_rgb_cropped.png\n",
      "Reading file GFPA1_I5.0_F1.9_L100_161651_0_0_0_rgb_cropped.png\n",
      "Writing file GFPA1_I5.0_F1.9_L100_161651_0_0_0_rgb_cropped.png\n",
      "Reading file GFPA2_I5.0_F1.9_L100_164623_4_1_6_rgb_cropped.png\n",
      "Writing file GFPA2_I5.0_F1.9_L100_164623_4_1_6_rgb_cropped.png\n",
      "Reading file GFPA1_I5.0_F1.9_L100_162555_10_1_3_rgb_cropped.png\n",
      "Writing file GFPA1_I5.0_F1.9_L100_162555_10_1_3_rgb_cropped.png\n",
      "Reading file GFPA1_I5.0_F1.9_L100_163228_17_2_4_rgb_cropped.png\n",
      "Writing file GFPA1_I5.0_F1.9_L100_163228_17_2_4_rgb_cropped.png\n",
      "Reading file GFPA1_I5.0_F1.9_L100_163432_19_2_6_rgb_cropped.png\n",
      "Writing file GFPA1_I5.0_F1.9_L100_163432_19_2_6_rgb_cropped.png\n",
      "Reading file GFPA2_I5.0_F1.9_L100_164528_3_0_6_rgb_cropped.png\n",
      "Writing file GFPA2_I5.0_F1.9_L100_164528_3_0_6_rgb_cropped.png\n",
      "Reading file GFPA1_I5.0_F1.9_L100_162354_8_1_5_rgb_cropped.png\n",
      "Writing file GFPA1_I5.0_F1.9_L100_162354_8_1_5_rgb_cropped.png\n",
      "Reading file GFPA1_I5.0_F1.9_L100_163133_16_2_3_rgb_cropped.png\n",
      "Writing file GFPA1_I5.0_F1.9_L100_163133_16_2_3_rgb_cropped.png\n"
     ]
    }
   ],
   "source": [
    "expandloop(\"/home/labgroup/data/GREGSCORNER/GFPA_cottonwoods/wk3/Fluorescent/\")"
   ]
  },
  {
   "cell_type": "code",
   "execution_count": null,
   "metadata": {},
   "outputs": [],
   "source": []
  },
  {
   "cell_type": "code",
   "execution_count": null,
   "metadata": {},
   "outputs": [],
   "source": [
    "def main():\n",
    "    expandloop(sys.argv[1])\n",
    "    #pad_image(sys.argv[1])\n",
    "\n",
    "if __name__==\"__main__\":\n",
    "    main()"
   ]
  }
 ],
 "metadata": {
  "kernelspec": {
   "display_name": "Python 3",
   "language": "python",
   "name": "python3"
  },
  "language_info": {
   "codemirror_mode": {
    "name": "ipython",
    "version": 3
   },
   "file_extension": ".py",
   "mimetype": "text/x-python",
   "name": "python",
   "nbconvert_exporter": "python",
   "pygments_lexer": "ipython3",
   "version": "3.8.3"
  }
 },
 "nbformat": 4,
 "nbformat_minor": 4
}
