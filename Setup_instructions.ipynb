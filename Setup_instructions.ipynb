{
 "cells": [
  {
   "cell_type": "markdown",
   "metadata": {},
   "source": [
    "# Instructions to install phenomics workflow on a new computer"
   ]
  },
  {
   "cell_type": "markdown",
   "metadata": {},
   "source": [
    "## Installation of *JupyterLab*\n",
    "Note: If you are viewing these instructions in *JupyterLab*, this is already complete.\n",
    "\n",
    "1. Install *Anaconda*\n",
    "2. Install *JupyterLab* by the command: <br>`conda install -c conda-forge jupyterlab`\n",
    "3. Install the bash kernel for *JupyterLab* by the command:<br>`conda install -c conda-forge bash_kernel`\n",
    "3. Open *JupyterLab* using the command: `jupyter lab`\n"
   ]
  },
  {
   "cell_type": "markdown",
   "metadata": {},
   "source": [
    "## Installation of GMOdetector"
   ]
  },
  {
   "cell_type": "markdown",
   "metadata": {},
   "source": [
    "1. Clone `gmodetector_py` from Github using the command:<br>`git clone https://github.com/naglemi/gmodetector_py.git`"
   ]
  },
  {
   "cell_type": "markdown",
   "metadata": {},
   "source": [
    "2. Create a `conda` environment that already has most dependencies using this command: <br>`conda create -q -n test-environment python=$TRAVIS_PYTHON_VERSION pytest codecov numpy pandas matplotlib tzlocal h5py pytables`\n",
    "3. Activate the new conda environment<br>`source activate test-environment`\n",
    "4. Install additional packages through conda:<br> Install *rpy* to allow loading of R packages in Python<br>`conda install -c conda-forge rpy2`<br> Install *GNU parallel* to allow parallelization<br>`conda install -c conda-forge parallel`\n",
    "5. Install *Spectral Python* from the *pypi* repository<br>`pip install spectral`\n",
    "6. Launch R and install `scales` from the R console via:<br>`install.packages('scales', repos = 'http://cran.us.r-project.org')`\n",
    "7. Install `gmodetector_py` and test dependencies:<br>`pip install \".[test]\"`"
   ]
  },
  {
   "cell_type": "markdown",
   "metadata": {},
   "source": [
    "## Installation of segmentation tools"
   ]
  },
  {
   "cell_type": "markdown",
   "metadata": {},
   "source": [
    "Install all dependencies for deeplab in a new conda environment<br>\n",
    "`conda create --name deeplab`<br>\n",
    "`conda activate deeplab`<br>\n",
    "`conda install -c anaconda scipy`<br>\n",
    "`conda install -c conda-forge opencv`<br>\n",
    "`conda install -c conda-forge tensorflow=1.14`<br>`conda install -c anaconda yaml` # Not needed<br>`pip install pyyaml`<br>\n",
    "`conda install -c anaconda pillow`"
   ]
  },
  {
   "cell_type": "markdown",
   "metadata": {},
   "source": [
    "Copy or clone the appropriate `deeplab` repo with pretrained model (not yet all in one place on Github at time of writing; currently in `deeplab` folder on OSU server `steed`)"
   ]
  },
  {
   "cell_type": "markdown",
   "metadata": {},
   "source": [
    "## Installation of tools for classifying missing/contaminated explants"
   ]
  },
  {
   "cell_type": "markdown",
   "metadata": {},
   "source": [
    "Follow instructions on repo https://github.com/Contamination-Classification/DenseNet and note that `tensorflow` v1.14 can be used if there is an issue installing v1.13"
   ]
  },
  {
   "cell_type": "markdown",
   "metadata": {},
   "source": [
    "## Installation of image alignment"
   ]
  },
  {
   "cell_type": "raw",
   "metadata": {},
   "source": [
    "git clone https://github.com/NSF-Image-alignment/ImageAlignment.git"
   ]
  },
  {
   "cell_type": "raw",
   "metadata": {},
   "source": [
    "cd ImageAlignment"
   ]
  },
  {
   "cell_type": "markdown",
   "metadata": {},
   "source": [
    "Create the environment and install dependencies available through `pip`"
   ]
  },
  {
   "cell_type": "raw",
   "metadata": {},
   "source": [
    "conda create -n alignment python=3.7\n",
    "conda activate alignment\n",
    "pip3 install pillow scikit-image numpy matplotlib easydict opencv-python pandas argparse xlrd"
   ]
  },
  {
   "cell_type": "markdown",
   "metadata": {},
   "source": [
    "Install some additional dependencies through `conda`"
   ]
  },
  {
   "cell_type": "raw",
   "metadata": {},
   "source": [
    "conda install -c anaconda xlrd\n",
    "conda install numpy\n",
    "conda install -c conda-forge opencv\n",
    "conda install -c conda-forge easydict\n",
    "conda install scikit-image\n",
    "conda install -y -c anaconda pandas"
   ]
  },
  {
   "cell_type": "markdown",
   "metadata": {},
   "source": [
    "## Installation of GMOlabeler"
   ]
  },
  {
   "cell_type": "markdown",
   "metadata": {},
   "source": [
    "1. Create and activate a new environment"
   ]
  },
  {
   "cell_type": "raw",
   "metadata": {},
   "source": [
    "conda create -n gmolabeler\n",
    "conda activate gmolabeler"
   ]
  },
  {
   "cell_type": "markdown",
   "metadata": {},
   "source": [
    "2. Install R. Instructions can be found here: https://cloud.r-project.org/<br>Alternatively, R may be installed through conda, either by installing R itself alone or by installing R as a dependency for `rpy2` as shown below."
   ]
  },
  {
   "cell_type": "raw",
   "metadata": {},
   "source": [
    "conda install -c conda-forge rpy2"
   ]
  },
  {
   "cell_type": "markdown",
   "metadata": {},
   "source": [
    "3. Launch the R console and install required R packages from the R console:"
   ]
  },
  {
   "cell_type": "raw",
   "metadata": {},
   "source": [
    "install.packages(\"optparse\")\n",
    "install.packages(\"data.table\")\n",
    "install.packages(\"stringr\")"
   ]
  },
  {
   "cell_type": "markdown",
   "metadata": {},
   "source": [
    "4. Install python dependencies"
   ]
  },
  {
   "cell_type": "raw",
   "metadata": {},
   "source": [
    "# Python dependencies\n",
    "conda install -y -c anaconda pillow\n",
    "conda install -y -c anaconda pandas\n",
    "conda install -c anaconda pytables\n",
    "\n",
    "# One R dependency installed by conda for randomcoloR R package\n",
    "conda install -c conda-forge libv8"
   ]
  },
  {
   "cell_type": "code",
   "execution_count": null,
   "metadata": {},
   "outputs": [],
   "source": []
  },
  {
   "cell_type": "raw",
   "metadata": {},
   "source": [
    "R"
   ]
  },
  {
   "cell_type": "markdown",
   "metadata": {},
   "source": [
    "Install `R` package dependencies from within `R`"
   ]
  },
  {
   "cell_type": "code",
   "execution_count": null,
   "metadata": {},
   "outputs": [],
   "source": [
    "install.packages(\"scales\")\n",
    "install.packages(\"readxl\")\n",
    "install.packages(\"ggplot2\")\n",
    "install.packages(\"randomcoloR\")\n",
    "install.packages(\"tidyr\")"
   ]
  }
 ],
 "metadata": {
  "kernelspec": {
   "display_name": "Python 3",
   "language": "python",
   "name": "python3"
  },
  "language_info": {
   "codemirror_mode": {
    "name": "ipython",
    "version": 3
   },
   "file_extension": ".py",
   "mimetype": "text/x-python",
   "name": "python",
   "nbconvert_exporter": "python",
   "pygments_lexer": "ipython3",
   "version": "3.8.3"
  }
 },
 "nbformat": 4,
 "nbformat_minor": 4
}
