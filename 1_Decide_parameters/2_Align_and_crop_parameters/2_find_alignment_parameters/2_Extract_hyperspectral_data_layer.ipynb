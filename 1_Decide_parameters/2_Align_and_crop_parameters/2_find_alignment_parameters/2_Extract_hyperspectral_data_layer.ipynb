{
 "cells": [
  {
   "cell_type": "markdown",
   "id": "935d196b-9413-4f7a-8204-593ed5c23a59",
   "metadata": {},
   "source": [
    "# Produce a `jpg` for alignment given raw hyperspectral data"
   ]
  },
  {
   "cell_type": "markdown",
   "id": "8343cdc8-c967-49dc-8a39-27d0fa76165a",
   "metadata": {},
   "source": [
    "Purpose: Regardless of whether we are using the `opencv` or `scikit-image` method for alignment, we must first produce a `jpg` file from our raw hyperspectral data. One wavelength of bright intensity and high contrast will be used to produce a `jpg` that can be easily aligned witht the RGB `jpg` file."
   ]
  },
  {
   "cell_type": "markdown",
   "id": "b7253448-1bc2-4bfb-8011-93d26d68741a",
   "metadata": {},
   "source": [
    "## Set the path to hyperspectral data for grid standard"
   ]
  },
  {
   "cell_type": "markdown",
   "id": "da26c06b-edfc-474d-a7b4-25c6df231bcf",
   "metadata": {},
   "source": [
    "This path should point to the `hdr` file for a hyperspectral image, which must also have a `raw` file with a matching name."
   ]
  },
  {
   "cell_type": "code",
   "execution_count": null,
   "id": "4001bae4-4237-496c-a6cc-bd802dcc3e55",
   "metadata": {},
   "outputs": [],
   "source": [
    "pwd"
   ]
  },
  {
   "cell_type": "code",
   "execution_count": 2,
   "id": "21534daa-7a59-4c41-a549-a95d53aa6b73",
   "metadata": {},
   "outputs": [],
   "source": [
    "chroma_grid_hdr_path=/home/michael/GMOnotebook/1_decide_parameters/1_cropping_parameters/example_12-spot_grid.hdr"
   ]
  },
  {
   "cell_type": "markdown",
   "id": "5b163510-96d5-41ff-9562-d0204b420d19",
   "metadata": {},
   "source": [
    "This path should point to where the `ImageAlignment` module is installed. This module can be found [here on GitHub](https://github.com/NSF-Image-alignment/ImageAlignment)."
   ]
  },
  {
   "cell_type": "code",
   "execution_count": 3,
   "id": "2a336954-82d9-400d-ba8a-912026302bf6",
   "metadata": {},
   "outputs": [],
   "source": [
    "alignment_module_path=/home/michael/ImageAlignment/"
   ]
  },
  {
   "cell_type": "code",
   "execution_count": 4,
   "id": "93a0f5bf-63d5-481e-8e7d-15097bef640e",
   "metadata": {},
   "outputs": [
    {
     "name": "stdout",
     "output_type": "stream",
     "text": [
      "/home/michael/ImageAlignment/hypercube_to_csv.py\n"
     ]
    }
   ],
   "source": [
    "echo ${alignment_module_path}hypercube_to_csv.py"
   ]
  },
  {
   "cell_type": "markdown",
   "id": "e20cc642-14ad-4183-b6ff-3f0a2e0ffee1",
   "metadata": {},
   "source": [
    "## Produce `csv` and `jpg` versions of extracted hyperspectral data for a selected wavelength channel."
   ]
  },
  {
   "cell_type": "code",
   "execution_count": 8,
   "id": "e90f0075-8fb5-474c-b6ee-8a4ac5e77be9",
   "metadata": {
    "tags": []
   },
   "outputs": [
    {
     "name": "stdout",
     "output_type": "stream",
     "text": [
      "(test-environment) (test-environment) Reading hyperspectral image /home/michael/GMOnotebook/1_decide_parameters/1_cropping_parameters/example_12-spot_grid.hdr\n",
      "/home/michael/anaconda3/envs/test-environment/lib/python3.7/site-packages/spectral/io/envi.py:175: UserWarning: Parameters with non-lowercase names encountered and converted to lowercase. To retain source file parameter name capitalization, set spectral.settings.envi_support_nonlowercase_params to True.\n",
      "  warnings.warn(msg)\n",
      "Extracting channel at index 130\n",
      "Writing channel matrix to 2-OUT_hypercube_layer.csv\n",
      "Making image for inspection and writing to 2-OUT_hypercube_layer.jpg\n",
      "(test-environment) "
     ]
    }
   ],
   "source": [
    "conda activate test-environment\n",
    "#cd $alignment_module_path\n",
    "python ${alignment_module_path}hypercube_to_csv.py \\\n",
    "$chroma_grid_hdr_path \\\n",
    "500 \\\n",
    "130 \\\n",
    "\"2-OUT_hypercube_layer.csv\" \\\n",
    "\"2-OUT_hypercube_layer.jpg\"\n",
    "conda deactivate"
   ]
  },
  {
   "cell_type": "code",
   "execution_count": null,
   "id": "3cfae0ac-0039-41a2-ba2e-c68479dece49",
   "metadata": {},
   "outputs": [],
   "source": []
  }
 ],
 "metadata": {
  "kernelspec": {
   "display_name": "Bash",
   "language": "bash",
   "name": "bash"
  },
  "language_info": {
   "codemirror_mode": "shell",
   "file_extension": ".sh",
   "mimetype": "text/x-sh",
   "name": "bash"
  }
 },
 "nbformat": 4,
 "nbformat_minor": 5
}
