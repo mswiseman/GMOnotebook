{
 "cells": [
  {
   "cell_type": "markdown",
   "id": "eca05678-33b1-4d68-827c-980d6b74f415",
   "metadata": {
    "tags": []
   },
   "source": [
    "# Introduction to alignment of RGB and hyperspectral data layers"
   ]
  },
  {
   "cell_type": "markdown",
   "id": "ac53ff0c-50ce-4ba2-a094-bbb620045963",
   "metadata": {},
   "source": [
    "***Purpose:*** The `GMOdetector` workflow relies on using RGB images to segment regenerating tissues (e.g. callus, shoot) and hyperspectral images to quantify fluorescent proteins (e.g. GFP, DsRed, chlorophylls) in these tissues."
   ]
  },
  {
   "cell_type": "markdown",
   "id": "03dc2658-d7fd-4fa5-a2da-2bc22ebae31f",
   "metadata": {},
   "source": [
    "***Challenge:*** RGB and hyperspectral images collected using the macroPhor Array (Middleton Spectral Vision) have very different resolutions and slightly different panning and angles. Thus, to accomplish our goal of cross-referencing fluorescent protein data with tissue ID data, we must align these two data layers so that they can be \"stacked\"."
   ]
  },
  {
   "cell_type": "markdown",
   "id": "c3a8aa68-70fd-4132-b21f-8d349034c57d",
   "metadata": {},
   "source": [
    "***Approach:*** We provide two approaches to accomplish this alignment. With either approach, a homography matrix is computed to transform an RGB image such that it stacks properly with a hyperspectral image. To accomplish this, we must in one way or another identify specific points in both the RGB and hyperspectral images that correspond to one another. \n",
    "\n",
    "The suggested approach is to compute a homography matrix using a grid standard and then apply the same homography transformation to all images collected with the same settings. Computing a homography matrix from plant images is less easy due to the need to select points that match in both types of images."
   ]
  },
  {
   "cell_type": "markdown",
   "id": "93413ceb-914d-435a-b0ba-8eb24a1dcb1d",
   "metadata": {},
   "source": [
    "## `scikit` approach (recommended)"
   ]
  },
  {
   "cell_type": "markdown",
   "id": "fce9f2ed-01e4-4cb3-9f38-1199f1e39c71",
   "metadata": {},
   "source": [
    "Using this approach, the user manually selects points (typically the corners of a grid) in both the RGB and hyperspectral data layers. The Python package `scikit-image` is then used to compute a homography matrix for transformation given these points. We can inspect the output to make sure the alignment is good, and repeat if needed."
   ]
  },
  {
   "cell_type": "markdown",
   "id": "bb440ceb-e79e-4050-8009-bcd2e08eec86",
   "metadata": {},
   "source": [
    "## `opencv` approach (no longer recommended, but still supported)"
   ]
  },
  {
   "cell_type": "markdown",
   "id": "9e138bd1-bfbb-487c-b8f0-e3f68603a59b",
   "metadata": {},
   "source": [
    "The aim of this approach is to automatically detect points for aligning the two images, so that the user doesn't have to. In a perfect world, this would save time and reduce labor. However, for points to be selected properly, two parameters (`distance` and `gaussian_sigma`) must be properly tuned. To find good parameters, we can run a grid search to test many possible parameters, then inspect outputs and select parameters that work well."
   ]
  }
 ],
 "metadata": {
  "kernelspec": {
   "display_name": "Bash",
   "language": "bash",
   "name": "bash"
  },
  "language_info": {
   "codemirror_mode": "shell",
   "file_extension": ".sh",
   "mimetype": "text/x-sh",
   "name": "bash"
  }
 },
 "nbformat": 4,
 "nbformat_minor": 5
}
