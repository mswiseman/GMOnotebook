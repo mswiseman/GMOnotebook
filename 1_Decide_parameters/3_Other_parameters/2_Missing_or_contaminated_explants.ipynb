{
 "cells": [
  {
   "cell_type": "markdown",
   "id": "a63d674f-2ddb-4a63-b4c5-23ec2e41f13b",
   "metadata": {},
   "source": [
    "# Information for missing and contaminated explants"
   ]
  },
  {
   "cell_type": "markdown",
   "id": "67ec9a53-5855-41f4-ba75-d4f6527c733c",
   "metadata": {},
   "source": [
    "The GMOdetector workflow includes a [`DenseNet` model](https://github.com/Contamination-Classification/DenseNet) that can detect when grid spots that should contain poplar explants are empty (no explant) or significantly contaminated.\n",
    "\n",
    "However, this model has only been trained for poplar explants and only works when 12 explants are arranged according to a specific grid pattern. There are several cases in which the user should instead manually provide a spreadsheet indicating missing/contaminated explants. For example, this data should be provided manually if studying a plant other than poplar, or if using a different grid template (e.g. our standard template for 20 explants).\n",
    "\n",
    "In this notebook, we will explain how to manually prepare the spreadsheet if needed."
   ]
  },
  {
   "cell_type": "markdown",
   "id": "f74a204a-1740-4563-958b-3b3502e895ea",
   "metadata": {},
   "source": [
    "## Automatic detection of missing/contaminated explants"
   ]
  },
  {
   "cell_type": "markdown",
   "id": "67e92beb-4581-4ce0-ad9f-5f129a3b8b5d",
   "metadata": {},
   "source": [
    "To deploy the DenseNet model as part of the workflow, the `missing_explant` parameter in the GMOdetector workflow notebook should be set to \"Automatic\"."
   ]
  },
  {
   "cell_type": "markdown",
   "id": "89719b04-3b71-4f13-a6aa-b8b68e4f9afd",
   "metadata": {},
   "source": [
    "## Manual noting of missing/contaminated explants"
   ]
  },
  {
   "cell_type": "markdown",
   "id": "ee2bd670-5df7-4619-b16d-e7a2ecf6067e",
   "metadata": {},
   "source": [
    "A spreadsheet should be prepared in the same format as the output from the DenseNet model. To summarize:\n",
    "- The first column should be named `image_name`. Each value in this column should be the name of a specific `jpg` file.\n",
    "- The remaining columns should have names that are numbers for each explant. For example, if working with 12 explants, there should be 12 of these columns numbered 1 though 12.\n",
    "- For each image and explant ID number, we write `NC` if an explant is not contaminated or missing, `C` if it is significantly contaminated, or `M` if there is no explant."
   ]
  },
  {
   "cell_type": "markdown",
   "id": "a07799e1-849f-413b-95bf-2bd06e178471",
   "metadata": {},
   "source": [
    "Tip: To quickly prepare a list of `jpg` files from a batch of images, navigate to the data folder in a terminal and use the following command."
   ]
  },
  {
   "cell_type": "raw",
   "id": "a9751093-c8c3-4a17-8673-6424f036fd4e",
   "metadata": {},
   "source": [
    "ls | grep -i \"rgb.jpg\""
   ]
  },
  {
   "cell_type": "code",
   "execution_count": null,
   "id": "3e703257-0472-4df5-bf5a-60d73a10fed9",
   "metadata": {},
   "outputs": [],
   "source": []
  }
 ],
 "metadata": {
  "kernelspec": {
   "display_name": "Bash",
   "language": "bash",
   "name": "bash"
  },
  "language_info": {
   "codemirror_mode": "shell",
   "file_extension": ".sh",
   "mimetype": "text/x-sh",
   "name": "bash"
  }
 },
 "nbformat": 4,
 "nbformat_minor": 5
}
