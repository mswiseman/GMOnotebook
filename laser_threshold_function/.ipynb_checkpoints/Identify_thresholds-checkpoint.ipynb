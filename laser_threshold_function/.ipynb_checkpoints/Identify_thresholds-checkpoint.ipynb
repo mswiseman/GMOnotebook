{
 "cells": [
  {
   "cell_type": "markdown",
   "id": "8d213475",
   "metadata": {},
   "source": [
    "# Use code from `analyze_sample` to identify thresholds that distinguish when laser fails to turn on"
   ]
  },
  {
   "cell_type": "markdown",
   "id": "3e69db25",
   "metadata": {},
   "source": [
    "## Load functions"
   ]
  },
  {
   "cell_type": "code",
   "execution_count": 1,
   "id": "a09b6c3d",
   "metadata": {},
   "outputs": [
    {
     "name": "stdout",
     "output_type": "stream",
     "text": [
      "Running GMOdetector version 0.0.855\n"
     ]
    }
   ],
   "source": [
    "# Path to R (for rpy2)\n",
    "import os\n",
    "os.environ['R_HOME'] = '/home/michael/anaconda3/lib/R'\n",
    "\n",
    "# Import classes\n",
    "# Check version\n",
    "from gmodetector_py import version\n",
    "print('Running GMOdetector version ' + version.__version__)\n",
    "\n",
    "from gmodetector_py import XMatrix\n",
    "from gmodetector_py import Hypercube\n",
    "from gmodetector_py import WeightArray\n",
    "from gmodetector_py import ImageChannel\n",
    "from gmodetector_py import FalseColor\n",
    "\n",
    "# Import the one function we need to use before calling classes\n",
    "from gmodetector_py import read_wavelengths\n",
    "\n",
    "# The following are needed for this specific wrapper script only\n",
    "import warnings\n",
    "import argparse\n",
    "import time\n",
    "from datetime import datetime\n",
    "import ntpath\n",
    "\n",
    "import os # needed for basename"
   ]
  },
  {
   "cell_type": "markdown",
   "id": "caf8d87d",
   "metadata": {},
   "source": [
    "## Configure options"
   ]
  },
  {
   "cell_type": "code",
   "execution_count": 2,
   "id": "d44dc93b",
   "metadata": {},
   "outputs": [],
   "source": [
    "spectral_library_path = \"/home/michael/gmodetector_py/spectral_library/\"\n",
    "intercept = 1\n",
    "spectra_noise_threshold = 0.01\n",
    "min_desired_wavelength = 500\n",
    "max_desired_wavelength = 900\n",
    "\n",
    "fluorophore_ID_vector = [\"GFP\", \"Chl\", \"Diffraction\"]\n",
    "\n",
    "relu_before_plot = True"
   ]
  },
  {
   "cell_type": "markdown",
   "id": "e96ee11d",
   "metadata": {},
   "source": [
    "## Compute array of fluorophore weights for a given hypercube"
   ]
  },
  {
   "cell_type": "markdown",
   "id": "89d655d8",
   "metadata": {},
   "source": [
    "### With laser off"
   ]
  },
  {
   "cell_type": "code",
   "execution_count": 3,
   "id": "a5537eb2",
   "metadata": {},
   "outputs": [],
   "source": [
    "file_path = \"/media/michael/Elements_13/Laser_threshold_function/PLANTLESSlaserOFF_I5.0_F1.9_L100LED30_194918_0_0_0_Fluorescence.hdr\""
   ]
  },
  {
   "cell_type": "code",
   "execution_count": 4,
   "id": "27b3531b",
   "metadata": {},
   "outputs": [
    {
     "name": "stderr",
     "output_type": "stream",
     "text": [
      "/home/michael/anaconda3/lib/python3.8/site-packages/spectral/io/envi.py:175: UserWarning: Parameters with non-lowercase names encountered and converted to lowercase. To retain source file parameter name capitalization, set spectral.settings.envi_support_nonlowercase_params to True.\n",
      "  warnings.warn(msg)\n",
      "/home/michael/anaconda3/lib/python3.8/site-packages/spectral/io/envi.py:175: UserWarning: Parameters with non-lowercase names encountered and converted to lowercase. To retain source file parameter name capitalization, set spectral.settings.envi_support_nonlowercase_params to True.\n",
      "  warnings.warn(msg)\n"
     ]
    },
    {
     "name": "stdout",
     "output_type": "stream",
     "text": [
      "load mode isload_full_then_crop\n"
     ]
    }
   ],
   "source": [
    "wavelengths = read_wavelengths(file_path = file_path)\n",
    "\n",
    "test_matrix = XMatrix(fluorophore_ID_vector = fluorophore_ID_vector,\n",
    "                  spectral_library_path = spectral_library_path,\n",
    "                  intercept = intercept,\n",
    "                  wavelengths = wavelengths,\n",
    "                  spectra_noise_threshold = spectra_noise_threshold,\n",
    "                  min_desired_wavelength = min_desired_wavelength,\n",
    "                  max_desired_wavelength = max_desired_wavelength)\n",
    "\n",
    "\n",
    "test_cube = Hypercube(file_path,\n",
    "                      min_desired_wavelength = min_desired_wavelength,\n",
    "                      max_desired_wavelength = max_desired_wavelength)\n",
    "\n",
    "weight_array = WeightArray(test_matrix=test_matrix,\n",
    "                           test_cube=test_cube,\n",
    "                           relu = relu_before_plot)"
   ]
  },
  {
   "cell_type": "code",
   "execution_count": 5,
   "id": "e35ed0ca",
   "metadata": {},
   "outputs": [],
   "source": [
    "import numpy as np"
   ]
  },
  {
   "cell_type": "code",
   "execution_count": 6,
   "id": "92fd3f86",
   "metadata": {},
   "outputs": [
    {
     "data": {
      "text/plain": [
       "(1566, 1444, 4)"
      ]
     },
     "execution_count": 6,
     "metadata": {},
     "output_type": "execute_result"
    }
   ],
   "source": [
    "weight_array.weights.shape"
   ]
  },
  {
   "cell_type": "markdown",
   "id": "10e2f1c8",
   "metadata": {},
   "source": [
    "#### Summary stats for whole array"
   ]
  },
  {
   "cell_type": "code",
   "execution_count": 7,
   "id": "03090b29",
   "metadata": {},
   "outputs": [
    {
     "data": {
      "text/plain": [
       "124.26552790911411"
      ]
     },
     "execution_count": 7,
     "metadata": {},
     "output_type": "execute_result"
    }
   ],
   "source": [
    "np.max(weight_array.weights)"
   ]
  },
  {
   "cell_type": "code",
   "execution_count": 8,
   "id": "9838e785",
   "metadata": {},
   "outputs": [
    {
     "data": {
      "text/plain": [
       "50.59577948694527"
      ]
     },
     "execution_count": 8,
     "metadata": {},
     "output_type": "execute_result"
    }
   ],
   "source": [
    "np.std(weight_array.weights)"
   ]
  },
  {
   "cell_type": "markdown",
   "id": "3c910ffa",
   "metadata": {},
   "source": [
    "#### Summary stats for each matrix slice"
   ]
  },
  {
   "cell_type": "markdown",
   "id": "28fbd6d0",
   "metadata": {},
   "source": [
    "##### Intercept"
   ]
  },
  {
   "cell_type": "code",
   "execution_count": 9,
   "id": "35df7dc3",
   "metadata": {},
   "outputs": [
    {
     "data": {
      "text/plain": [
       "122.85028046756408"
      ]
     },
     "execution_count": 9,
     "metadata": {},
     "output_type": "execute_result"
    }
   ],
   "source": [
    "np.max(weight_array.weights[[0]])"
   ]
  },
  {
   "cell_type": "code",
   "execution_count": 10,
   "id": "714a9399",
   "metadata": {},
   "outputs": [
    {
     "data": {
      "text/plain": [
       "50.70611236360541"
      ]
     },
     "execution_count": 10,
     "metadata": {},
     "output_type": "execute_result"
    }
   ],
   "source": [
    "np.std(weight_array.weights[[0]])"
   ]
  },
  {
   "cell_type": "markdown",
   "id": "4ddca0e6",
   "metadata": {},
   "source": [
    "##### GFP"
   ]
  },
  {
   "cell_type": "code",
   "execution_count": 11,
   "id": "e6dcd81a",
   "metadata": {},
   "outputs": [
    {
     "data": {
      "text/plain": [
       "122.46411827370765"
      ]
     },
     "execution_count": 11,
     "metadata": {},
     "output_type": "execute_result"
    }
   ],
   "source": [
    "np.max(weight_array.weights[[1]])"
   ]
  },
  {
   "cell_type": "code",
   "execution_count": 12,
   "id": "13391cbd",
   "metadata": {},
   "outputs": [
    {
     "data": {
      "text/plain": [
       "50.66173744507744"
      ]
     },
     "execution_count": 12,
     "metadata": {},
     "output_type": "execute_result"
    }
   ],
   "source": [
    "np.std(weight_array.weights[[1]])"
   ]
  },
  {
   "cell_type": "markdown",
   "id": "aed5e441",
   "metadata": {},
   "source": [
    "##### Chlorophyll"
   ]
  },
  {
   "cell_type": "code",
   "execution_count": 13,
   "id": "5a16269e",
   "metadata": {},
   "outputs": [
    {
     "data": {
      "text/plain": [
       "122.59770638619983"
      ]
     },
     "execution_count": 13,
     "metadata": {},
     "output_type": "execute_result"
    }
   ],
   "source": [
    "np.max(weight_array.weights[[2]])"
   ]
  },
  {
   "cell_type": "code",
   "execution_count": 14,
   "id": "284226bc",
   "metadata": {},
   "outputs": [
    {
     "data": {
      "text/plain": [
       "50.51773880259409"
      ]
     },
     "execution_count": 14,
     "metadata": {},
     "output_type": "execute_result"
    }
   ],
   "source": [
    "np.std(weight_array.weights[[2]])"
   ]
  },
  {
   "cell_type": "markdown",
   "id": "5d61c3e0",
   "metadata": {},
   "source": [
    "##### Diffraction "
   ]
  },
  {
   "cell_type": "code",
   "execution_count": 15,
   "id": "f4fb153d",
   "metadata": {},
   "outputs": [
    {
     "data": {
      "text/plain": [
       "122.73007548465777"
      ]
     },
     "execution_count": 15,
     "metadata": {},
     "output_type": "execute_result"
    }
   ],
   "source": [
    "np.max(weight_array.weights[[3]])"
   ]
  },
  {
   "cell_type": "code",
   "execution_count": 16,
   "id": "87073396",
   "metadata": {},
   "outputs": [
    {
     "data": {
      "text/plain": [
       "50.47986043302553"
      ]
     },
     "execution_count": 16,
     "metadata": {},
     "output_type": "execute_result"
    }
   ],
   "source": [
    "np.std(weight_array.weights[[3]])"
   ]
  },
  {
   "cell_type": "markdown",
   "id": "123a51ff",
   "metadata": {},
   "source": [
    "### With laser on, but no samples on media"
   ]
  },
  {
   "cell_type": "code",
   "execution_count": 17,
   "id": "cdeba268",
   "metadata": {},
   "outputs": [],
   "source": [
    "file_path = \"/media/michael/Elements_13/Laser_threshold_function/PLANTLESSlaserON_I5.0_F1.9_L100LED30_194615_0_0_0_Fluorescence.hdr\""
   ]
  },
  {
   "cell_type": "code",
   "execution_count": 18,
   "id": "e68dda1d",
   "metadata": {},
   "outputs": [
    {
     "name": "stdout",
     "output_type": "stream",
     "text": [
      "load mode isload_full_then_crop\n"
     ]
    },
    {
     "name": "stderr",
     "output_type": "stream",
     "text": [
      "/home/michael/anaconda3/lib/python3.8/site-packages/spectral/io/envi.py:175: UserWarning: Parameters with non-lowercase names encountered and converted to lowercase. To retain source file parameter name capitalization, set spectral.settings.envi_support_nonlowercase_params to True.\n",
      "  warnings.warn(msg)\n"
     ]
    }
   ],
   "source": [
    "wavelengths = read_wavelengths(file_path = file_path)\n",
    "\n",
    "test_matrix = XMatrix(fluorophore_ID_vector = fluorophore_ID_vector,\n",
    "                  spectral_library_path = spectral_library_path,\n",
    "                  intercept = intercept,\n",
    "                  wavelengths = wavelengths,\n",
    "                  spectra_noise_threshold = spectra_noise_threshold,\n",
    "                  min_desired_wavelength = min_desired_wavelength,\n",
    "                  max_desired_wavelength = max_desired_wavelength)\n",
    "\n",
    "\n",
    "test_cube = Hypercube(file_path,\n",
    "                      min_desired_wavelength = min_desired_wavelength,\n",
    "                      max_desired_wavelength = max_desired_wavelength)\n",
    "\n",
    "weight_array = WeightArray(test_matrix=test_matrix,\n",
    "                           test_cube=test_cube,\n",
    "                           relu = relu_before_plot)"
   ]
  },
  {
   "cell_type": "markdown",
   "id": "2fb65774",
   "metadata": {},
   "source": [
    "#### Summary stats for each matrix slice"
   ]
  },
  {
   "cell_type": "markdown",
   "id": "41c637d5",
   "metadata": {},
   "source": [
    "##### Intercept"
   ]
  },
  {
   "cell_type": "code",
   "execution_count": 31,
   "id": "3fbc4003",
   "metadata": {},
   "outputs": [
    {
     "data": {
      "text/plain": [
       "array([[120.01990542,   0.        ,   0.        ,   1.61859937],\n",
       "       [119.81492061,   0.        ,   0.        ,   4.15960362],\n",
       "       [119.86893194,   0.        ,   0.        ,   0.        ],\n",
       "       ...,\n",
       "       [118.13934622,   0.        ,   0.        ,   4.22735003],\n",
       "       [119.60309775,   0.        ,   0.        ,   2.66718229],\n",
       "       [118.69280912,   0.35662373,   0.        ,   1.19637464]])"
      ]
     },
     "execution_count": 31,
     "metadata": {},
     "output_type": "execute_result"
    }
   ],
   "source": [
    "weight_array.weights[[0]][0]"
   ]
  },
  {
   "cell_type": "code",
   "execution_count": 33,
   "id": "c19fd63e",
   "metadata": {},
   "outputs": [
    {
     "data": {
      "text/plain": [
       "(1566, 1444, 4)"
      ]
     },
     "execution_count": 33,
     "metadata": {},
     "output_type": "execute_result"
    }
   ],
   "source": [
    "weight_array.weights.shape"
   ]
  },
  {
   "cell_type": "markdown",
   "id": "122ec7d8",
   "metadata": {},
   "source": [
    "We need to slice along the third dimension...."
   ]
  },
  {
   "cell_type": "code",
   "execution_count": null,
   "id": "6a28e871",
   "metadata": {},
   "outputs": [],
   "source": []
  },
  {
   "cell_type": "code",
   "execution_count": null,
   "id": "4c452eb5",
   "metadata": {},
   "outputs": [],
   "source": []
  },
  {
   "cell_type": "code",
   "execution_count": null,
   "id": "88389323",
   "metadata": {},
   "outputs": [],
   "source": []
  },
  {
   "cell_type": "code",
   "execution_count": null,
   "id": "480d6344",
   "metadata": {},
   "outputs": [],
   "source": []
  },
  {
   "cell_type": "code",
   "execution_count": null,
   "id": "50cbcedb",
   "metadata": {},
   "outputs": [],
   "source": []
  },
  {
   "cell_type": "code",
   "execution_count": 19,
   "id": "9d5aa24d",
   "metadata": {},
   "outputs": [
    {
     "data": {
      "text/plain": [
       "123.07429804431831"
      ]
     },
     "execution_count": 19,
     "metadata": {},
     "output_type": "execute_result"
    }
   ],
   "source": [
    "np.max(weight_array.weights[[0]])"
   ]
  },
  {
   "cell_type": "code",
   "execution_count": 20,
   "id": "e1cad742",
   "metadata": {},
   "outputs": [
    {
     "data": {
      "text/plain": [
       "50.134153665855195"
      ]
     },
     "execution_count": 20,
     "metadata": {},
     "output_type": "execute_result"
    }
   ],
   "source": [
    "np.std(weight_array.weights[[0]])"
   ]
  },
  {
   "cell_type": "markdown",
   "id": "5dffa0e8",
   "metadata": {},
   "source": [
    "##### GFP"
   ]
  },
  {
   "cell_type": "code",
   "execution_count": 21,
   "id": "9738eac2",
   "metadata": {},
   "outputs": [
    {
     "data": {
      "text/plain": [
       "122.6234701395474"
      ]
     },
     "execution_count": 21,
     "metadata": {},
     "output_type": "execute_result"
    }
   ],
   "source": [
    "np.max(weight_array.weights[[1]])"
   ]
  },
  {
   "cell_type": "code",
   "execution_count": 22,
   "id": "ccf7af07",
   "metadata": {},
   "outputs": [
    {
     "data": {
      "text/plain": [
       "50.284539823464996"
      ]
     },
     "execution_count": 22,
     "metadata": {},
     "output_type": "execute_result"
    }
   ],
   "source": [
    "np.std(weight_array.weights[[1]])"
   ]
  },
  {
   "cell_type": "markdown",
   "id": "4a853ae1",
   "metadata": {},
   "source": [
    "##### Chlorophyll"
   ]
  },
  {
   "cell_type": "code",
   "execution_count": 23,
   "id": "8418dd5d",
   "metadata": {},
   "outputs": [
    {
     "data": {
      "text/plain": [
       "122.5697562467691"
      ]
     },
     "execution_count": 23,
     "metadata": {},
     "output_type": "execute_result"
    }
   ],
   "source": [
    "np.max(weight_array.weights[[2]])"
   ]
  },
  {
   "cell_type": "code",
   "execution_count": 24,
   "id": "1714897c",
   "metadata": {},
   "outputs": [
    {
     "data": {
      "text/plain": [
       "50.17266316460072"
      ]
     },
     "execution_count": 24,
     "metadata": {},
     "output_type": "execute_result"
    }
   ],
   "source": [
    "np.std(weight_array.weights[[2]])"
   ]
  },
  {
   "cell_type": "markdown",
   "id": "bef469d1",
   "metadata": {},
   "source": [
    "##### Diffraction "
   ]
  },
  {
   "cell_type": "code",
   "execution_count": 25,
   "id": "6f5f03c2",
   "metadata": {},
   "outputs": [
    {
     "data": {
      "text/plain": [
       "123.5250615387869"
      ]
     },
     "execution_count": 25,
     "metadata": {},
     "output_type": "execute_result"
    }
   ],
   "source": [
    "np.max(weight_array.weights[[3]])"
   ]
  },
  {
   "cell_type": "code",
   "execution_count": 26,
   "id": "32ff04d3",
   "metadata": {},
   "outputs": [
    {
     "data": {
      "text/plain": [
       "50.23792570998733"
      ]
     },
     "execution_count": 26,
     "metadata": {},
     "output_type": "execute_result"
    }
   ],
   "source": [
    "np.std(weight_array.weights[[3]])"
   ]
  },
  {
   "cell_type": "code",
   "execution_count": null,
   "id": "b584675a",
   "metadata": {},
   "outputs": [],
   "source": []
  }
 ],
 "metadata": {
  "kernelspec": {
   "display_name": "test-environment",
   "language": "python",
   "name": "test-environment"
  },
  "language_info": {
   "codemirror_mode": {
    "name": "ipython",
    "version": 3
   },
   "file_extension": ".py",
   "mimetype": "text/x-python",
   "name": "python",
   "nbconvert_exporter": "python",
   "pygments_lexer": "ipython3",
   "version": "3.8.8"
  }
 },
 "nbformat": 4,
 "nbformat_minor": 5
}
