{
 "cells": [
  {
   "cell_type": "markdown",
   "id": "7c539827",
   "metadata": {},
   "source": [
    "# Use code from `analyze_sample` to identify thresholds that distinguish when laser fails to turn on"
   ]
  },
  {
   "cell_type": "markdown",
   "id": "ebd142cd",
   "metadata": {},
   "source": [
    "## Load functions"
   ]
  },
  {
   "cell_type": "code",
   "execution_count": 1,
   "id": "1b128d56",
   "metadata": {},
   "outputs": [
    {
     "name": "stdout",
     "output_type": "stream",
     "text": [
      "Running GMOdetector version 0.0.855\n"
     ]
    }
   ],
   "source": [
    "# Path to R (for rpy2)\n",
    "import os\n",
    "os.environ['R_HOME'] = '/home/michael/anaconda3/lib/R'\n",
    "\n",
    "# Import classes\n",
    "# Check version\n",
    "from gmodetector_py import version\n",
    "print('Running GMOdetector version ' + version.__version__)\n",
    "\n",
    "from gmodetector_py import XMatrix\n",
    "from gmodetector_py import Hypercube\n",
    "from gmodetector_py import WeightArray\n",
    "from gmodetector_py import ImageChannel\n",
    "from gmodetector_py import FalseColor\n",
    "\n",
    "# Import the one function we need to use before calling classes\n",
    "from gmodetector_py import read_wavelengths\n",
    "\n",
    "# The following are needed for this specific wrapper script only\n",
    "import warnings\n",
    "import argparse\n",
    "import time\n",
    "from datetime import datetime\n",
    "import ntpath\n",
    "\n",
    "import os # needed for basename"
   ]
  },
  {
   "cell_type": "markdown",
   "id": "7ce37c12",
   "metadata": {},
   "source": [
    "## Configure options"
   ]
  },
  {
   "cell_type": "code",
   "execution_count": 2,
   "id": "00bd4e2c",
   "metadata": {},
   "outputs": [],
   "source": [
    "spectral_library_path = \"/home/michael/gmodetector_py/spectral_library/\"\n",
    "intercept = 1\n",
    "spectra_noise_threshold = 0.01\n",
    "min_desired_wavelength = 500\n",
    "max_desired_wavelength = 900\n",
    "\n",
    "fluorophore_ID_vector = [\"GFP\", \"Chl\", \"Diffraction\"]\n",
    "\n",
    "relu_before_plot = True"
   ]
  },
  {
   "cell_type": "markdown",
   "id": "5173a758",
   "metadata": {},
   "source": [
    "## Compute array of fluorophore weights for a given hypercube"
   ]
  },
  {
   "cell_type": "markdown",
   "id": "c7b4a7b3",
   "metadata": {},
   "source": [
    "### With laser off"
   ]
  },
  {
   "cell_type": "code",
   "execution_count": 3,
   "id": "44251b72",
   "metadata": {},
   "outputs": [],
   "source": [
    "file_path = \"/media/michael/Elements_13/Laser_threshold_function/PLANTLESSlaserOFF_I5.0_F1.9_L100LED30_194918_0_0_0_Fluorescence.hdr\""
   ]
  },
  {
   "cell_type": "code",
   "execution_count": 4,
   "id": "d583e96c",
   "metadata": {},
   "outputs": [
    {
     "name": "stdout",
     "output_type": "stream",
     "text": [
      "load mode isload_full_then_crop\n"
     ]
    },
    {
     "name": "stderr",
     "output_type": "stream",
     "text": [
      "/home/michael/anaconda3/lib/python3.8/site-packages/spectral/io/envi.py:175: UserWarning: Parameters with non-lowercase names encountered and converted to lowercase. To retain source file parameter name capitalization, set spectral.settings.envi_support_nonlowercase_params to True.\n",
      "  warnings.warn(msg)\n",
      "/home/michael/anaconda3/lib/python3.8/site-packages/spectral/io/envi.py:175: UserWarning: Parameters with non-lowercase names encountered and converted to lowercase. To retain source file parameter name capitalization, set spectral.settings.envi_support_nonlowercase_params to True.\n",
      "  warnings.warn(msg)\n"
     ]
    }
   ],
   "source": [
    "wavelengths = read_wavelengths(file_path = file_path)\n",
    "\n",
    "test_matrix = XMatrix(fluorophore_ID_vector = fluorophore_ID_vector,\n",
    "                  spectral_library_path = spectral_library_path,\n",
    "                  intercept = intercept,\n",
    "                  wavelengths = wavelengths,\n",
    "                  spectra_noise_threshold = spectra_noise_threshold,\n",
    "                  min_desired_wavelength = min_desired_wavelength,\n",
    "                  max_desired_wavelength = max_desired_wavelength)\n",
    "\n",
    "\n",
    "test_cube = Hypercube(file_path,\n",
    "                      min_desired_wavelength = min_desired_wavelength,\n",
    "                      max_desired_wavelength = max_desired_wavelength)\n",
    "\n",
    "weight_array = WeightArray(test_matrix=test_matrix,\n",
    "                           test_cube=test_cube,\n",
    "                           relu = relu_before_plot)"
   ]
  },
  {
   "cell_type": "code",
   "execution_count": 5,
   "id": "2714c68f",
   "metadata": {},
   "outputs": [],
   "source": [
    "import numpy as np"
   ]
  },
  {
   "cell_type": "code",
   "execution_count": 6,
   "id": "fd3cb017",
   "metadata": {},
   "outputs": [
    {
     "data": {
      "text/plain": [
       "(1566, 1444, 4)"
      ]
     },
     "execution_count": 6,
     "metadata": {},
     "output_type": "execute_result"
    }
   ],
   "source": [
    "weight_array.weights.shape"
   ]
  },
  {
   "cell_type": "markdown",
   "id": "faebc8ea",
   "metadata": {},
   "source": [
    "#### Summary stats for whole array"
   ]
  },
  {
   "cell_type": "code",
   "execution_count": 7,
   "id": "a001552b",
   "metadata": {},
   "outputs": [
    {
     "data": {
      "text/plain": [
       "124.26552790911411"
      ]
     },
     "execution_count": 7,
     "metadata": {},
     "output_type": "execute_result"
    }
   ],
   "source": [
    "np.max(weight_array.weights)"
   ]
  },
  {
   "cell_type": "code",
   "execution_count": 8,
   "id": "ccb8d9ad",
   "metadata": {},
   "outputs": [
    {
     "data": {
      "text/plain": [
       "50.59577948694527"
      ]
     },
     "execution_count": 8,
     "metadata": {},
     "output_type": "execute_result"
    }
   ],
   "source": [
    "np.std(weight_array.weights)"
   ]
  },
  {
   "cell_type": "markdown",
   "id": "aa9bdda3",
   "metadata": {},
   "source": [
    "#### Summary stats for each matrix slice"
   ]
  },
  {
   "cell_type": "markdown",
   "id": "5eab594e",
   "metadata": {},
   "source": [
    "##### Intercept"
   ]
  },
  {
   "cell_type": "code",
   "execution_count": 9,
   "id": "ed2cc174",
   "metadata": {},
   "outputs": [
    {
     "data": {
      "text/plain": [
       "124.26552790911411"
      ]
     },
     "execution_count": 9,
     "metadata": {},
     "output_type": "execute_result"
    }
   ],
   "source": [
    "np.max(weight_array.weights[:,:,0])"
   ]
  },
  {
   "cell_type": "code",
   "execution_count": 11,
   "id": "7f364687",
   "metadata": {},
   "outputs": [
    {
     "data": {
      "text/plain": [
       "1.5609014897310411"
      ]
     },
     "execution_count": 11,
     "metadata": {},
     "output_type": "execute_result"
    }
   ],
   "source": [
    "np.std(weight_array.weights[:,:,0])"
   ]
  },
  {
   "cell_type": "markdown",
   "id": "e7399056",
   "metadata": {},
   "source": [
    "##### GFP"
   ]
  },
  {
   "cell_type": "code",
   "execution_count": 12,
   "id": "d8b360ab",
   "metadata": {},
   "outputs": [
    {
     "data": {
      "text/plain": [
       "17.50230122172923"
      ]
     },
     "execution_count": 12,
     "metadata": {},
     "output_type": "execute_result"
    }
   ],
   "source": [
    "np.max(weight_array.weights[:,:,1])"
   ]
  },
  {
   "cell_type": "code",
   "execution_count": 13,
   "id": "57f7a6fa",
   "metadata": {},
   "outputs": [
    {
     "data": {
      "text/plain": [
       "1.8884950840506438"
      ]
     },
     "execution_count": 13,
     "metadata": {},
     "output_type": "execute_result"
    }
   ],
   "source": [
    "np.std(weight_array.weights[:,:,1])"
   ]
  },
  {
   "cell_type": "markdown",
   "id": "40241f89",
   "metadata": {},
   "source": [
    "##### Chlorophyll"
   ]
  },
  {
   "cell_type": "code",
   "execution_count": 13,
   "id": "979604f2",
   "metadata": {},
   "outputs": [
    {
     "data": {
      "text/plain": [
       "122.59770638619983"
      ]
     },
     "execution_count": 13,
     "metadata": {},
     "output_type": "execute_result"
    }
   ],
   "source": [
    "np.max(weight_array.weights[:,:,2])"
   ]
  },
  {
   "cell_type": "code",
   "execution_count": 14,
   "id": "884c1717",
   "metadata": {},
   "outputs": [
    {
     "data": {
      "text/plain": [
       "1.2940365079897382"
      ]
     },
     "execution_count": 14,
     "metadata": {},
     "output_type": "execute_result"
    }
   ],
   "source": [
    "np.std(weight_array.weights[:,:,2])"
   ]
  },
  {
   "cell_type": "markdown",
   "id": "644a2c53",
   "metadata": {},
   "source": [
    "##### Diffraction "
   ]
  },
  {
   "cell_type": "code",
   "execution_count": 16,
   "id": "e5745fbe",
   "metadata": {},
   "outputs": [
    {
     "data": {
      "text/plain": [
       "13.634662622291104"
      ]
     },
     "execution_count": 16,
     "metadata": {},
     "output_type": "execute_result"
    }
   ],
   "source": [
    "np.max(weight_array.weights[:,:,3])"
   ]
  },
  {
   "cell_type": "code",
   "execution_count": 17,
   "id": "be5039a6",
   "metadata": {},
   "outputs": [
    {
     "data": {
      "text/plain": [
       "1.5569386799197245"
      ]
     },
     "execution_count": 17,
     "metadata": {},
     "output_type": "execute_result"
    }
   ],
   "source": [
    "np.std(weight_array.weights[:,:,3])"
   ]
  },
  {
   "cell_type": "markdown",
   "id": "23ff67f6",
   "metadata": {},
   "source": [
    "#### Check for every laser off image"
   ]
  },
  {
   "cell_type": "code",
   "execution_count": 42,
   "id": "6ab2a42d",
   "metadata": {},
   "outputs": [],
   "source": [
    "import os\n",
    "import glob\n",
    "import pandas as pd"
   ]
  },
  {
   "cell_type": "code",
   "execution_count": 43,
   "id": "e6231dec",
   "metadata": {},
   "outputs": [],
   "source": [
    "os.chdir(\"/media/michael/Elements_13/Laser_threshold_function/\")"
   ]
  },
  {
   "cell_type": "code",
   "execution_count": 51,
   "id": "bb23b903",
   "metadata": {},
   "outputs": [
    {
     "name": "stderr",
     "output_type": "stream",
     "text": [
      "/home/michael/anaconda3/lib/python3.8/site-packages/spectral/io/envi.py:175: UserWarning: Parameters with non-lowercase names encountered and converted to lowercase. To retain source file parameter name capitalization, set spectral.settings.envi_support_nonlowercase_params to True.\n",
      "  warnings.warn(msg)\n",
      "/home/michael/anaconda3/lib/python3.8/site-packages/spectral/io/envi.py:175: UserWarning: Parameters with non-lowercase names encountered and converted to lowercase. To retain source file parameter name capitalization, set spectral.settings.envi_support_nonlowercase_params to True.\n",
      "  warnings.warn(msg)\n"
     ]
    },
    {
     "name": "stdout",
     "output_type": "stream",
     "text": [
      "load mode isload_full_then_crop\n",
      "load mode isload_full_then_crop\n"
     ]
    },
    {
     "name": "stderr",
     "output_type": "stream",
     "text": [
      "/home/michael/anaconda3/lib/python3.8/site-packages/spectral/io/envi.py:175: UserWarning: Parameters with non-lowercase names encountered and converted to lowercase. To retain source file parameter name capitalization, set spectral.settings.envi_support_nonlowercase_params to True.\n",
      "  warnings.warn(msg)\n"
     ]
    },
    {
     "name": "stdout",
     "output_type": "stream",
     "text": [
      "load mode isload_full_then_crop\n"
     ]
    },
    {
     "name": "stderr",
     "output_type": "stream",
     "text": [
      "/home/michael/anaconda3/lib/python3.8/site-packages/spectral/io/envi.py:175: UserWarning: Parameters with non-lowercase names encountered and converted to lowercase. To retain source file parameter name capitalization, set spectral.settings.envi_support_nonlowercase_params to True.\n",
      "  warnings.warn(msg)\n"
     ]
    },
    {
     "name": "stdout",
     "output_type": "stream",
     "text": [
      "load mode isload_full_then_crop\n"
     ]
    },
    {
     "name": "stderr",
     "output_type": "stream",
     "text": [
      "/home/michael/anaconda3/lib/python3.8/site-packages/spectral/io/envi.py:175: UserWarning: Parameters with non-lowercase names encountered and converted to lowercase. To retain source file parameter name capitalization, set spectral.settings.envi_support_nonlowercase_params to True.\n",
      "  warnings.warn(msg)\n"
     ]
    },
    {
     "name": "stdout",
     "output_type": "stream",
     "text": [
      "load mode isload_full_then_crop\n"
     ]
    },
    {
     "name": "stderr",
     "output_type": "stream",
     "text": [
      "/home/michael/anaconda3/lib/python3.8/site-packages/spectral/io/envi.py:175: UserWarning: Parameters with non-lowercase names encountered and converted to lowercase. To retain source file parameter name capitalization, set spectral.settings.envi_support_nonlowercase_params to True.\n",
      "  warnings.warn(msg)\n"
     ]
    },
    {
     "name": "stdout",
     "output_type": "stream",
     "text": [
      "load mode isload_full_then_crop\n"
     ]
    },
    {
     "name": "stderr",
     "output_type": "stream",
     "text": [
      "/home/michael/anaconda3/lib/python3.8/site-packages/spectral/io/envi.py:175: UserWarning: Parameters with non-lowercase names encountered and converted to lowercase. To retain source file parameter name capitalization, set spectral.settings.envi_support_nonlowercase_params to True.\n",
      "  warnings.warn(msg)\n"
     ]
    },
    {
     "name": "stdout",
     "output_type": "stream",
     "text": [
      "load mode isload_full_then_crop\n"
     ]
    },
    {
     "name": "stderr",
     "output_type": "stream",
     "text": [
      "/home/michael/anaconda3/lib/python3.8/site-packages/spectral/io/envi.py:175: UserWarning: Parameters with non-lowercase names encountered and converted to lowercase. To retain source file parameter name capitalization, set spectral.settings.envi_support_nonlowercase_params to True.\n",
      "  warnings.warn(msg)\n"
     ]
    },
    {
     "name": "stdout",
     "output_type": "stream",
     "text": [
      "load mode isload_full_then_crop\n"
     ]
    },
    {
     "name": "stderr",
     "output_type": "stream",
     "text": [
      "/home/michael/anaconda3/lib/python3.8/site-packages/spectral/io/envi.py:175: UserWarning: Parameters with non-lowercase names encountered and converted to lowercase. To retain source file parameter name capitalization, set spectral.settings.envi_support_nonlowercase_params to True.\n",
      "  warnings.warn(msg)\n"
     ]
    },
    {
     "name": "stdout",
     "output_type": "stream",
     "text": [
      "load mode isload_full_then_crop\n"
     ]
    },
    {
     "name": "stderr",
     "output_type": "stream",
     "text": [
      "/home/michael/anaconda3/lib/python3.8/site-packages/spectral/io/envi.py:175: UserWarning: Parameters with non-lowercase names encountered and converted to lowercase. To retain source file parameter name capitalization, set spectral.settings.envi_support_nonlowercase_params to True.\n",
      "  warnings.warn(msg)\n"
     ]
    },
    {
     "name": "stdout",
     "output_type": "stream",
     "text": [
      "load mode isload_full_then_crop\n"
     ]
    },
    {
     "name": "stderr",
     "output_type": "stream",
     "text": [
      "/home/michael/anaconda3/lib/python3.8/site-packages/spectral/io/envi.py:175: UserWarning: Parameters with non-lowercase names encountered and converted to lowercase. To retain source file parameter name capitalization, set spectral.settings.envi_support_nonlowercase_params to True.\n",
      "  warnings.warn(msg)\n"
     ]
    },
    {
     "name": "stdout",
     "output_type": "stream",
     "text": [
      "load mode isload_full_then_crop\n"
     ]
    },
    {
     "name": "stderr",
     "output_type": "stream",
     "text": [
      "/home/michael/anaconda3/lib/python3.8/site-packages/spectral/io/envi.py:175: UserWarning: Parameters with non-lowercase names encountered and converted to lowercase. To retain source file parameter name capitalization, set spectral.settings.envi_support_nonlowercase_params to True.\n",
      "  warnings.warn(msg)\n"
     ]
    },
    {
     "name": "stdout",
     "output_type": "stream",
     "text": [
      "load mode isload_full_then_crop\n"
     ]
    },
    {
     "name": "stderr",
     "output_type": "stream",
     "text": [
      "/home/michael/anaconda3/lib/python3.8/site-packages/spectral/io/envi.py:175: UserWarning: Parameters with non-lowercase names encountered and converted to lowercase. To retain source file parameter name capitalization, set spectral.settings.envi_support_nonlowercase_params to True.\n",
      "  warnings.warn(msg)\n"
     ]
    },
    {
     "name": "stdout",
     "output_type": "stream",
     "text": [
      "load mode isload_full_then_crop\n"
     ]
    },
    {
     "name": "stderr",
     "output_type": "stream",
     "text": [
      "/home/michael/anaconda3/lib/python3.8/site-packages/spectral/io/envi.py:175: UserWarning: Parameters with non-lowercase names encountered and converted to lowercase. To retain source file parameter name capitalization, set spectral.settings.envi_support_nonlowercase_params to True.\n",
      "  warnings.warn(msg)\n"
     ]
    },
    {
     "name": "stdout",
     "output_type": "stream",
     "text": [
      "load mode isload_full_then_crop\n"
     ]
    },
    {
     "name": "stderr",
     "output_type": "stream",
     "text": [
      "/home/michael/anaconda3/lib/python3.8/site-packages/spectral/io/envi.py:175: UserWarning: Parameters with non-lowercase names encountered and converted to lowercase. To retain source file parameter name capitalization, set spectral.settings.envi_support_nonlowercase_params to True.\n",
      "  warnings.warn(msg)\n"
     ]
    },
    {
     "name": "stdout",
     "output_type": "stream",
     "text": [
      "load mode isload_full_then_crop\n"
     ]
    },
    {
     "name": "stderr",
     "output_type": "stream",
     "text": [
      "/home/michael/anaconda3/lib/python3.8/site-packages/spectral/io/envi.py:175: UserWarning: Parameters with non-lowercase names encountered and converted to lowercase. To retain source file parameter name capitalization, set spectral.settings.envi_support_nonlowercase_params to True.\n",
      "  warnings.warn(msg)\n"
     ]
    },
    {
     "name": "stdout",
     "output_type": "stream",
     "text": [
      "load mode isload_full_then_crop\n"
     ]
    },
    {
     "name": "stderr",
     "output_type": "stream",
     "text": [
      "/home/michael/anaconda3/lib/python3.8/site-packages/spectral/io/envi.py:175: UserWarning: Parameters with non-lowercase names encountered and converted to lowercase. To retain source file parameter name capitalization, set spectral.settings.envi_support_nonlowercase_params to True.\n",
      "  warnings.warn(msg)\n"
     ]
    },
    {
     "name": "stdout",
     "output_type": "stream",
     "text": [
      "load mode isload_full_then_crop\n"
     ]
    },
    {
     "name": "stderr",
     "output_type": "stream",
     "text": [
      "/home/michael/anaconda3/lib/python3.8/site-packages/spectral/io/envi.py:175: UserWarning: Parameters with non-lowercase names encountered and converted to lowercase. To retain source file parameter name capitalization, set spectral.settings.envi_support_nonlowercase_params to True.\n",
      "  warnings.warn(msg)\n"
     ]
    }
   ],
   "source": [
    "file_list = glob.glob(\"*laserOFF*.hdr\")\n",
    "\n",
    "file_list.sort()\n",
    "\n",
    "df = pd.DataFrame(columns = ['file', 'mean_intercept', 'max_intercept', 'mean_chlorophyll', 'max_chlorophyll', 'mean_GFP', 'max_GFP',\n",
    "                             'mean_diffraction', 'max_diffraction'], index = range(len(file_list)))\n",
    "\n",
    "for i in range(len(file_list)):\n",
    "    file_path = file_list[i]\n",
    "    \n",
    "    wavelengths = read_wavelengths(file_path = file_path)\n",
    "\n",
    "    test_matrix = XMatrix(fluorophore_ID_vector = fluorophore_ID_vector,\n",
    "                      spectral_library_path = spectral_library_path,\n",
    "                      intercept = intercept,\n",
    "                      wavelengths = wavelengths,\n",
    "                      spectra_noise_threshold = spectra_noise_threshold,\n",
    "                      min_desired_wavelength = min_desired_wavelength,\n",
    "                      max_desired_wavelength = max_desired_wavelength)\n",
    "\n",
    "\n",
    "    test_cube = Hypercube(file_path,\n",
    "                          min_desired_wavelength = min_desired_wavelength,\n",
    "                          max_desired_wavelength = max_desired_wavelength)\n",
    "\n",
    "    weight_array = WeightArray(test_matrix=test_matrix,\n",
    "                               test_cube=test_cube,\n",
    "                               relu = relu_before_plot)\n",
    "    \n",
    "    mean_intercept = np.mean(weight_array.weights[:,:,0])\n",
    "    max_intercept = np.max(weight_array.weights[:,:,0])\n",
    "    mean_chlorophyll = np.mean(weight_array.weights[:,:,1])\n",
    "    max_chlorophyll = np.max(weight_array.weights[:,:,1])\n",
    "    mean_GFP = np.mean(weight_array.weights[:,:,2])\n",
    "    max_GFP = np.max(weight_array.weights[:,:,2])\n",
    "    mean_diffraction = np.mean(weight_array.weights[:,:,3])\n",
    "    max_diffraction = np.max(weight_array.weights[:,:,3])\n",
    "    \n",
    "    df.iloc[i] = [file_path, mean_intercept, max_intercept,\n",
    "                  mean_chlorophyll, max_chlorophyll, mean_GFP,\n",
    "                  max_GFP, mean_diffraction, max_diffraction]"
   ]
  },
  {
   "cell_type": "code",
   "execution_count": 53,
   "id": "65cc02f7",
   "metadata": {},
   "outputs": [],
   "source": [
    "df_laser_off = df"
   ]
  },
  {
   "cell_type": "markdown",
   "id": "1a628490",
   "metadata": {},
   "source": [
    "### With laser on, but no samples on media"
   ]
  },
  {
   "cell_type": "code",
   "execution_count": 18,
   "id": "2056718e",
   "metadata": {},
   "outputs": [],
   "source": [
    "file_path = \"/media/michael/Elements_13/Laser_threshold_function/PLANTLESSlaserON_I5.0_F1.9_L100LED30_194615_0_0_0_Fluorescence.hdr\""
   ]
  },
  {
   "cell_type": "code",
   "execution_count": 19,
   "id": "8302f585",
   "metadata": {},
   "outputs": [
    {
     "name": "stdout",
     "output_type": "stream",
     "text": [
      "load mode isload_full_then_crop\n"
     ]
    },
    {
     "name": "stderr",
     "output_type": "stream",
     "text": [
      "/home/michael/anaconda3/lib/python3.8/site-packages/spectral/io/envi.py:175: UserWarning: Parameters with non-lowercase names encountered and converted to lowercase. To retain source file parameter name capitalization, set spectral.settings.envi_support_nonlowercase_params to True.\n",
      "  warnings.warn(msg)\n"
     ]
    }
   ],
   "source": [
    "wavelengths = read_wavelengths(file_path = file_path)\n",
    "\n",
    "test_matrix = XMatrix(fluorophore_ID_vector = fluorophore_ID_vector,\n",
    "                  spectral_library_path = spectral_library_path,\n",
    "                  intercept = intercept,\n",
    "                  wavelengths = wavelengths,\n",
    "                  spectra_noise_threshold = spectra_noise_threshold,\n",
    "                  min_desired_wavelength = min_desired_wavelength,\n",
    "                  max_desired_wavelength = max_desired_wavelength)\n",
    "\n",
    "\n",
    "test_cube = Hypercube(file_path,\n",
    "                      min_desired_wavelength = min_desired_wavelength,\n",
    "                      max_desired_wavelength = max_desired_wavelength)\n",
    "\n",
    "weight_array = WeightArray(test_matrix=test_matrix,\n",
    "                           test_cube=test_cube,\n",
    "                           relu = relu_before_plot)"
   ]
  },
  {
   "cell_type": "markdown",
   "id": "904a0ea8",
   "metadata": {},
   "source": [
    "#### Summary stats for each matrix slice"
   ]
  },
  {
   "cell_type": "markdown",
   "id": "642b4fae",
   "metadata": {},
   "source": [
    "##### Intercept"
   ]
  },
  {
   "cell_type": "code",
   "execution_count": 20,
   "id": "c3282f65",
   "metadata": {},
   "outputs": [
    {
     "data": {
      "text/plain": [
       "144.16810761713282"
      ]
     },
     "execution_count": 20,
     "metadata": {},
     "output_type": "execute_result"
    }
   ],
   "source": [
    "np.max(weight_array.weights[:,:,0])"
   ]
  },
  {
   "cell_type": "code",
   "execution_count": 21,
   "id": "b6915d84",
   "metadata": {},
   "outputs": [
    {
     "data": {
      "text/plain": [
       "1.5832997595357379"
      ]
     },
     "execution_count": 21,
     "metadata": {},
     "output_type": "execute_result"
    }
   ],
   "source": [
    "np.std(weight_array.weights[:,:,0])"
   ]
  },
  {
   "cell_type": "markdown",
   "id": "194b6813",
   "metadata": {},
   "source": [
    "##### GFP"
   ]
  },
  {
   "cell_type": "code",
   "execution_count": 22,
   "id": "63ef00b4",
   "metadata": {},
   "outputs": [
    {
     "data": {
      "text/plain": [
       "164.5967418059667"
      ]
     },
     "execution_count": 22,
     "metadata": {},
     "output_type": "execute_result"
    }
   ],
   "source": [
    "np.max(weight_array.weights[:,:,1])"
   ]
  },
  {
   "cell_type": "code",
   "execution_count": 23,
   "id": "7dad41f1",
   "metadata": {},
   "outputs": [
    {
     "data": {
      "text/plain": [
       "7.907386636074557"
      ]
     },
     "execution_count": 23,
     "metadata": {},
     "output_type": "execute_result"
    }
   ],
   "source": [
    "np.std(weight_array.weights[:,:,1])"
   ]
  },
  {
   "cell_type": "markdown",
   "id": "de4a9f0a",
   "metadata": {},
   "source": [
    "##### Chlorophyll"
   ]
  },
  {
   "cell_type": "code",
   "execution_count": 24,
   "id": "61aa7400",
   "metadata": {},
   "outputs": [
    {
     "data": {
      "text/plain": [
       "12.312077935403781"
      ]
     },
     "execution_count": 24,
     "metadata": {},
     "output_type": "execute_result"
    }
   ],
   "source": [
    "np.max(weight_array.weights[:,:,2])"
   ]
  },
  {
   "cell_type": "code",
   "execution_count": 25,
   "id": "3baa4f16",
   "metadata": {},
   "outputs": [
    {
     "data": {
      "text/plain": [
       "1.1006240258728135"
      ]
     },
     "execution_count": 25,
     "metadata": {},
     "output_type": "execute_result"
    }
   ],
   "source": [
    "np.std(weight_array.weights[:,:,2])"
   ]
  },
  {
   "cell_type": "markdown",
   "id": "5d10dfc2",
   "metadata": {},
   "source": [
    "##### Diffraction "
   ]
  },
  {
   "cell_type": "code",
   "execution_count": 26,
   "id": "7d25e295",
   "metadata": {},
   "outputs": [
    {
     "data": {
      "text/plain": [
       "104.80118568063536"
      ]
     },
     "execution_count": 26,
     "metadata": {},
     "output_type": "execute_result"
    }
   ],
   "source": [
    "np.max(weight_array.weights[:,:,3])"
   ]
  },
  {
   "cell_type": "code",
   "execution_count": 27,
   "id": "c9210093",
   "metadata": {},
   "outputs": [
    {
     "data": {
      "text/plain": [
       "5.053849224638607"
      ]
     },
     "execution_count": 27,
     "metadata": {},
     "output_type": "execute_result"
    }
   ],
   "source": [
    "np.std(weight_array.weights[:,:,3])"
   ]
  },
  {
   "cell_type": "markdown",
   "id": "e7a7beb3",
   "metadata": {},
   "source": [
    "#### Run for all samples with laser on"
   ]
  },
  {
   "cell_type": "code",
   "execution_count": 54,
   "id": "cb396d49",
   "metadata": {},
   "outputs": [
    {
     "name": "stderr",
     "output_type": "stream",
     "text": [
      "/home/michael/anaconda3/lib/python3.8/site-packages/spectral/io/envi.py:175: UserWarning: Parameters with non-lowercase names encountered and converted to lowercase. To retain source file parameter name capitalization, set spectral.settings.envi_support_nonlowercase_params to True.\n",
      "  warnings.warn(msg)\n",
      "/home/michael/anaconda3/lib/python3.8/site-packages/spectral/io/envi.py:175: UserWarning: Parameters with non-lowercase names encountered and converted to lowercase. To retain source file parameter name capitalization, set spectral.settings.envi_support_nonlowercase_params to True.\n",
      "  warnings.warn(msg)\n"
     ]
    },
    {
     "name": "stdout",
     "output_type": "stream",
     "text": [
      "load mode isload_full_then_crop\n",
      "load mode isload_full_then_crop\n"
     ]
    },
    {
     "name": "stderr",
     "output_type": "stream",
     "text": [
      "/home/michael/anaconda3/lib/python3.8/site-packages/spectral/io/envi.py:175: UserWarning: Parameters with non-lowercase names encountered and converted to lowercase. To retain source file parameter name capitalization, set spectral.settings.envi_support_nonlowercase_params to True.\n",
      "  warnings.warn(msg)\n"
     ]
    },
    {
     "name": "stdout",
     "output_type": "stream",
     "text": [
      "load mode isload_full_then_crop\n"
     ]
    },
    {
     "name": "stderr",
     "output_type": "stream",
     "text": [
      "/home/michael/anaconda3/lib/python3.8/site-packages/spectral/io/envi.py:175: UserWarning: Parameters with non-lowercase names encountered and converted to lowercase. To retain source file parameter name capitalization, set spectral.settings.envi_support_nonlowercase_params to True.\n",
      "  warnings.warn(msg)\n"
     ]
    },
    {
     "name": "stdout",
     "output_type": "stream",
     "text": [
      "load mode isload_full_then_crop\n"
     ]
    },
    {
     "name": "stderr",
     "output_type": "stream",
     "text": [
      "/home/michael/anaconda3/lib/python3.8/site-packages/spectral/io/envi.py:175: UserWarning: Parameters with non-lowercase names encountered and converted to lowercase. To retain source file parameter name capitalization, set spectral.settings.envi_support_nonlowercase_params to True.\n",
      "  warnings.warn(msg)\n"
     ]
    },
    {
     "name": "stdout",
     "output_type": "stream",
     "text": [
      "load mode isload_full_then_crop\n"
     ]
    },
    {
     "name": "stderr",
     "output_type": "stream",
     "text": [
      "/home/michael/anaconda3/lib/python3.8/site-packages/spectral/io/envi.py:175: UserWarning: Parameters with non-lowercase names encountered and converted to lowercase. To retain source file parameter name capitalization, set spectral.settings.envi_support_nonlowercase_params to True.\n",
      "  warnings.warn(msg)\n"
     ]
    },
    {
     "name": "stdout",
     "output_type": "stream",
     "text": [
      "load mode isload_full_then_crop\n"
     ]
    },
    {
     "name": "stderr",
     "output_type": "stream",
     "text": [
      "/home/michael/anaconda3/lib/python3.8/site-packages/spectral/io/envi.py:175: UserWarning: Parameters with non-lowercase names encountered and converted to lowercase. To retain source file parameter name capitalization, set spectral.settings.envi_support_nonlowercase_params to True.\n",
      "  warnings.warn(msg)\n"
     ]
    },
    {
     "name": "stdout",
     "output_type": "stream",
     "text": [
      "load mode isload_full_then_crop\n"
     ]
    },
    {
     "name": "stderr",
     "output_type": "stream",
     "text": [
      "/home/michael/anaconda3/lib/python3.8/site-packages/spectral/io/envi.py:175: UserWarning: Parameters with non-lowercase names encountered and converted to lowercase. To retain source file parameter name capitalization, set spectral.settings.envi_support_nonlowercase_params to True.\n",
      "  warnings.warn(msg)\n"
     ]
    },
    {
     "name": "stdout",
     "output_type": "stream",
     "text": [
      "load mode isload_full_then_crop\n"
     ]
    },
    {
     "name": "stderr",
     "output_type": "stream",
     "text": [
      "/home/michael/anaconda3/lib/python3.8/site-packages/spectral/io/envi.py:175: UserWarning: Parameters with non-lowercase names encountered and converted to lowercase. To retain source file parameter name capitalization, set spectral.settings.envi_support_nonlowercase_params to True.\n",
      "  warnings.warn(msg)\n"
     ]
    },
    {
     "name": "stdout",
     "output_type": "stream",
     "text": [
      "load mode isload_full_then_crop\n"
     ]
    },
    {
     "name": "stderr",
     "output_type": "stream",
     "text": [
      "/home/michael/anaconda3/lib/python3.8/site-packages/spectral/io/envi.py:175: UserWarning: Parameters with non-lowercase names encountered and converted to lowercase. To retain source file parameter name capitalization, set spectral.settings.envi_support_nonlowercase_params to True.\n",
      "  warnings.warn(msg)\n"
     ]
    },
    {
     "name": "stdout",
     "output_type": "stream",
     "text": [
      "load mode isload_full_then_crop\n"
     ]
    },
    {
     "name": "stderr",
     "output_type": "stream",
     "text": [
      "/home/michael/anaconda3/lib/python3.8/site-packages/spectral/io/envi.py:175: UserWarning: Parameters with non-lowercase names encountered and converted to lowercase. To retain source file parameter name capitalization, set spectral.settings.envi_support_nonlowercase_params to True.\n",
      "  warnings.warn(msg)\n"
     ]
    },
    {
     "name": "stdout",
     "output_type": "stream",
     "text": [
      "load mode isload_full_then_crop\n"
     ]
    },
    {
     "name": "stderr",
     "output_type": "stream",
     "text": [
      "/home/michael/anaconda3/lib/python3.8/site-packages/spectral/io/envi.py:175: UserWarning: Parameters with non-lowercase names encountered and converted to lowercase. To retain source file parameter name capitalization, set spectral.settings.envi_support_nonlowercase_params to True.\n",
      "  warnings.warn(msg)\n"
     ]
    },
    {
     "name": "stdout",
     "output_type": "stream",
     "text": [
      "load mode isload_full_then_crop\n"
     ]
    },
    {
     "name": "stderr",
     "output_type": "stream",
     "text": [
      "/home/michael/anaconda3/lib/python3.8/site-packages/spectral/io/envi.py:175: UserWarning: Parameters with non-lowercase names encountered and converted to lowercase. To retain source file parameter name capitalization, set spectral.settings.envi_support_nonlowercase_params to True.\n",
      "  warnings.warn(msg)\n"
     ]
    },
    {
     "name": "stdout",
     "output_type": "stream",
     "text": [
      "load mode isload_full_then_crop\n"
     ]
    },
    {
     "name": "stderr",
     "output_type": "stream",
     "text": [
      "/home/michael/anaconda3/lib/python3.8/site-packages/spectral/io/envi.py:175: UserWarning: Parameters with non-lowercase names encountered and converted to lowercase. To retain source file parameter name capitalization, set spectral.settings.envi_support_nonlowercase_params to True.\n",
      "  warnings.warn(msg)\n"
     ]
    },
    {
     "name": "stdout",
     "output_type": "stream",
     "text": [
      "load mode isload_full_then_crop\n"
     ]
    },
    {
     "name": "stderr",
     "output_type": "stream",
     "text": [
      "/home/michael/anaconda3/lib/python3.8/site-packages/spectral/io/envi.py:175: UserWarning: Parameters with non-lowercase names encountered and converted to lowercase. To retain source file parameter name capitalization, set spectral.settings.envi_support_nonlowercase_params to True.\n",
      "  warnings.warn(msg)\n"
     ]
    },
    {
     "name": "stdout",
     "output_type": "stream",
     "text": [
      "load mode isload_full_then_crop\n"
     ]
    },
    {
     "name": "stderr",
     "output_type": "stream",
     "text": [
      "/home/michael/anaconda3/lib/python3.8/site-packages/spectral/io/envi.py:175: UserWarning: Parameters with non-lowercase names encountered and converted to lowercase. To retain source file parameter name capitalization, set spectral.settings.envi_support_nonlowercase_params to True.\n",
      "  warnings.warn(msg)\n"
     ]
    },
    {
     "name": "stdout",
     "output_type": "stream",
     "text": [
      "load mode isload_full_then_crop\n"
     ]
    },
    {
     "name": "stderr",
     "output_type": "stream",
     "text": [
      "/home/michael/anaconda3/lib/python3.8/site-packages/spectral/io/envi.py:175: UserWarning: Parameters with non-lowercase names encountered and converted to lowercase. To retain source file parameter name capitalization, set spectral.settings.envi_support_nonlowercase_params to True.\n",
      "  warnings.warn(msg)\n"
     ]
    },
    {
     "name": "stdout",
     "output_type": "stream",
     "text": [
      "load mode isload_full_then_crop\n"
     ]
    },
    {
     "name": "stderr",
     "output_type": "stream",
     "text": [
      "/home/michael/anaconda3/lib/python3.8/site-packages/spectral/io/envi.py:175: UserWarning: Parameters with non-lowercase names encountered and converted to lowercase. To retain source file parameter name capitalization, set spectral.settings.envi_support_nonlowercase_params to True.\n",
      "  warnings.warn(msg)\n"
     ]
    },
    {
     "name": "stdout",
     "output_type": "stream",
     "text": [
      "load mode isload_full_then_crop\n"
     ]
    },
    {
     "name": "stderr",
     "output_type": "stream",
     "text": [
      "/home/michael/anaconda3/lib/python3.8/site-packages/spectral/io/envi.py:175: UserWarning: Parameters with non-lowercase names encountered and converted to lowercase. To retain source file parameter name capitalization, set spectral.settings.envi_support_nonlowercase_params to True.\n",
      "  warnings.warn(msg)\n"
     ]
    },
    {
     "name": "stdout",
     "output_type": "stream",
     "text": [
      "load mode isload_full_then_crop\n"
     ]
    },
    {
     "name": "stderr",
     "output_type": "stream",
     "text": [
      "/home/michael/anaconda3/lib/python3.8/site-packages/spectral/io/envi.py:175: UserWarning: Parameters with non-lowercase names encountered and converted to lowercase. To retain source file parameter name capitalization, set spectral.settings.envi_support_nonlowercase_params to True.\n",
      "  warnings.warn(msg)\n"
     ]
    },
    {
     "name": "stdout",
     "output_type": "stream",
     "text": [
      "load mode isload_full_then_crop\n"
     ]
    },
    {
     "name": "stderr",
     "output_type": "stream",
     "text": [
      "/home/michael/anaconda3/lib/python3.8/site-packages/spectral/io/envi.py:175: UserWarning: Parameters with non-lowercase names encountered and converted to lowercase. To retain source file parameter name capitalization, set spectral.settings.envi_support_nonlowercase_params to True.\n",
      "  warnings.warn(msg)\n"
     ]
    }
   ],
   "source": [
    "file_list = glob.glob(\"*laserON*.hdr\")\n",
    "\n",
    "file_list.sort()\n",
    "\n",
    "df = pd.DataFrame(columns = ['file', 'mean_intercept', 'max_intercept', 'mean_chlorophyll', 'max_chlorophyll', 'mean_GFP', 'max_GFP',\n",
    "                             'mean_diffraction', 'max_diffraction'], index = range(len(file_list)))\n",
    "\n",
    "for i in range(len(file_list)):\n",
    "    file_path = file_list[i]\n",
    "    \n",
    "    wavelengths = read_wavelengths(file_path = file_path)\n",
    "\n",
    "    test_matrix = XMatrix(fluorophore_ID_vector = fluorophore_ID_vector,\n",
    "                      spectral_library_path = spectral_library_path,\n",
    "                      intercept = intercept,\n",
    "                      wavelengths = wavelengths,\n",
    "                      spectra_noise_threshold = spectra_noise_threshold,\n",
    "                      min_desired_wavelength = min_desired_wavelength,\n",
    "                      max_desired_wavelength = max_desired_wavelength)\n",
    "\n",
    "\n",
    "    test_cube = Hypercube(file_path,\n",
    "                          min_desired_wavelength = min_desired_wavelength,\n",
    "                          max_desired_wavelength = max_desired_wavelength)\n",
    "\n",
    "    weight_array = WeightArray(test_matrix=test_matrix,\n",
    "                               test_cube=test_cube,\n",
    "                               relu = relu_before_plot)\n",
    "    \n",
    "    mean_intercept = np.mean(weight_array.weights[:,:,0])\n",
    "    max_intercept = np.max(weight_array.weights[:,:,0])\n",
    "    mean_chlorophyll = np.mean(weight_array.weights[:,:,1])\n",
    "    max_chlorophyll = np.max(weight_array.weights[:,:,1])\n",
    "    mean_GFP = np.mean(weight_array.weights[:,:,2])\n",
    "    max_GFP = np.max(weight_array.weights[:,:,2])\n",
    "    mean_diffraction = np.mean(weight_array.weights[:,:,3])\n",
    "    max_diffraction = np.max(weight_array.weights[:,:,3])\n",
    "    \n",
    "    df.iloc[i] = [file_path, mean_intercept, max_intercept,\n",
    "                  mean_chlorophyll, max_chlorophyll, mean_GFP,\n",
    "                  max_GFP, mean_diffraction, max_diffraction]"
   ]
  },
  {
   "cell_type": "code",
   "execution_count": 55,
   "id": "64dadbb1",
   "metadata": {},
   "outputs": [],
   "source": [
    "df_laser_on = df"
   ]
  },
  {
   "cell_type": "code",
   "execution_count": 56,
   "id": "7e8877ef",
   "metadata": {},
   "outputs": [],
   "source": [
    "df_laser_on.to_csv(\"laser_on_stats.csv\")"
   ]
  },
  {
   "cell_type": "code",
   "execution_count": 57,
   "id": "cd63d7b9",
   "metadata": {},
   "outputs": [],
   "source": [
    "df_laser_off.to_csv(\"laser_off_stats.csv\")"
   ]
  },
  {
   "cell_type": "code",
   "execution_count": 59,
   "id": "26c78a37",
   "metadata": {},
   "outputs": [
    {
     "data": {
      "text/plain": [
       "'/media/michael/Elements_13/Laser_threshold_function'"
      ]
     },
     "execution_count": 59,
     "metadata": {},
     "output_type": "execute_result"
    }
   ],
   "source": [
    "os.getcwd()"
   ]
  },
  {
   "cell_type": "markdown",
   "id": "5db4f624",
   "metadata": {},
   "source": [
    "Good rule: If max signal for all fluorophores (exclude intercept) is under 50, the laser is off."
   ]
  },
  {
   "cell_type": "code",
   "execution_count": 64,
   "id": "c207ba6a",
   "metadata": {},
   "outputs": [],
   "source": [
    "intercept = 1"
   ]
  },
  {
   "cell_type": "code",
   "execution_count": 66,
   "id": "ae7b17de",
   "metadata": {},
   "outputs": [
    {
     "data": {
      "text/plain": [
       "4"
      ]
     },
     "execution_count": 66,
     "metadata": {},
     "output_type": "execute_result"
    }
   ],
   "source": [
    "weight_array.weights.shape[2]"
   ]
  },
  {
   "cell_type": "code",
   "execution_count": 61,
   "id": "f0f4649d",
   "metadata": {},
   "outputs": [],
   "source": [
    "weight_array_sans_intercept = weight_array.weights[:, :, intercept:weight_array.weights.shape[3]]"
   ]
  },
  {
   "cell_type": "code",
   "execution_count": 68,
   "id": "64b65797",
   "metadata": {},
   "outputs": [
    {
     "data": {
      "text/plain": [
       "129.4689030090608"
      ]
     },
     "execution_count": 68,
     "metadata": {},
     "output_type": "execute_result"
    }
   ],
   "source": [
    "weight_array_sans_intercept.max()"
   ]
  },
  {
   "cell_type": "code",
   "execution_count": 63,
   "id": "e26769d9",
   "metadata": {},
   "outputs": [
    {
     "data": {
      "text/plain": [
       "(1569, 1444)"
      ]
     },
     "execution_count": 63,
     "metadata": {},
     "output_type": "execute_result"
    }
   ],
   "source": [
    "weight_array_sans_intercept.shape"
   ]
  },
  {
   "cell_type": "code",
   "execution_count": null,
   "id": "72df6979",
   "metadata": {},
   "outputs": [],
   "source": []
  }
 ],
 "metadata": {
  "kernelspec": {
   "display_name": "test-environment",
   "language": "python",
   "name": "test-environment"
  },
  "language_info": {
   "codemirror_mode": {
    "name": "ipython",
    "version": 3
   },
   "file_extension": ".py",
   "mimetype": "text/x-python",
   "name": "python",
   "nbconvert_exporter": "python",
   "pygments_lexer": "ipython3",
   "version": "3.8.8"
  }
 },
 "nbformat": 4,
 "nbformat_minor": 5
}
