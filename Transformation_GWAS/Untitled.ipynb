{
 "cells": [
  {
   "cell_type": "markdown",
   "id": "a61902b0-136c-4751-96aa-d8ace3326a02",
   "metadata": {},
   "source": [
    "# Gather copies of all `jpg` images for quality control"
   ]
  },
  {
   "cell_type": "code",
   "execution_count": 1,
   "id": "137cb883-ddc2-4921-a134-dac00f3ba931",
   "metadata": {},
   "outputs": [],
   "source": [
    "library(data.table)"
   ]
  },
  {
   "cell_type": "code",
   "execution_count": 12,
   "id": "75e24dee-29cf-4db4-9811-67a0dd0a06f4",
   "metadata": {},
   "outputs": [],
   "source": [
    "dest <- \"/media/gmobot/MyBook_16/jpg_copies_for_QC/\""
   ]
  },
  {
   "cell_type": "code",
   "execution_count": 4,
   "id": "b8b74713-a132-4fe0-85ed-dc1e0cf1d649",
   "metadata": {},
   "outputs": [],
   "source": [
    "if(!dir.exists(dest)) dir.create(dest)"
   ]
  },
  {
   "cell_type": "code",
   "execution_count": 5,
   "id": "e2e48d17-a15c-4cd0-809d-684f8d5916b1",
   "metadata": {},
   "outputs": [],
   "source": [
    "df <- fread(\"1-OUT_paths_phases_timepoint_to_inspect_a4.csv\")"
   ]
  },
  {
   "cell_type": "code",
   "execution_count": 6,
   "id": "e9de64fe-5e06-4f3e-85d4-682bcd7991ae",
   "metadata": {},
   "outputs": [
    {
     "data": {
      "text/html": [
       "<table>\n",
       "<thead><tr><th scope=col>dirs</th><th scope=col>phase</th><th scope=col>timepoint</th><th scope=col>phase_timepoint</th><th scope=col>is_duplicated</th></tr></thead>\n",
       "<tbody>\n",
       "\t<tr><td>/media//gmobot/easystore/GWAS_Transformation/GTAA/wk10                </td><td>GTAA                                                                  </td><td>wk10                                                                  </td><td>GTAA_wk10                                                             </td><td>FALSE                                                                 </td></tr>\n",
       "\t<tr><td>/media//gmobot/easystore/GWAS_Transformation/GTAA/wk3                 </td><td>GTAA                                                                  </td><td>wk3                                                                   </td><td>GTAA_wk3                                                              </td><td>FALSE                                                                 </td></tr>\n",
       "\t<tr><td>/media//gmobot/easystore/GWAS_Transformation/GTAA/wk7                 </td><td>GTAA                                                                  </td><td>wk7                                                                   </td><td>GTAA_wk7                                                              </td><td>FALSE                                                                 </td></tr>\n",
       "\t<tr><td>/media//gmobot/Expansio_15/Expansion_15/GWAS_Transformation/GTAAA/wk10</td><td>GTAAA                                                                 </td><td>wk10                                                                  </td><td>GTAAA_wk10                                                            </td><td>FALSE                                                                 </td></tr>\n",
       "\t<tr><td>/media//gmobot/Expansio_15/Expansion_15/GWAS_Transformation/GTAAA/wk3 </td><td>GTAAA                                                                 </td><td>wk3                                                                   </td><td>GTAAA_wk3                                                             </td><td>FALSE                                                                 </td></tr>\n",
       "\t<tr><td>/media//gmobot/Expansio_15/Expansion_15/GWAS_Transformation/GTAAA/wk7 </td><td>GTAAA                                                                 </td><td>wk7                                                                   </td><td>GTAAA_wk7                                                             </td><td>FALSE                                                                 </td></tr>\n",
       "</tbody>\n",
       "</table>\n"
      ],
      "text/latex": [
       "\\begin{tabular}{r|lllll}\n",
       " dirs & phase & timepoint & phase\\_timepoint & is\\_duplicated\\\\\n",
       "\\hline\n",
       "\t /media//gmobot/easystore/GWAS\\_Transformation/GTAA/wk10                 & GTAA                                                                     & wk10                                                                     & GTAA\\_wk10                                                              & FALSE                                                                   \\\\\n",
       "\t /media//gmobot/easystore/GWAS\\_Transformation/GTAA/wk3                  & GTAA                                                                     & wk3                                                                      & GTAA\\_wk3                                                               & FALSE                                                                   \\\\\n",
       "\t /media//gmobot/easystore/GWAS\\_Transformation/GTAA/wk7                  & GTAA                                                                     & wk7                                                                      & GTAA\\_wk7                                                               & FALSE                                                                   \\\\\n",
       "\t /media//gmobot/Expansio\\_15/Expansion\\_15/GWAS\\_Transformation/GTAAA/wk10 & GTAAA                                                                        & wk10                                                                         & GTAAA\\_wk10                                                                 & FALSE                                                                       \\\\\n",
       "\t /media//gmobot/Expansio\\_15/Expansion\\_15/GWAS\\_Transformation/GTAAA/wk3  & GTAAA                                                                        & wk3                                                                          & GTAAA\\_wk3                                                                  & FALSE                                                                       \\\\\n",
       "\t /media//gmobot/Expansio\\_15/Expansion\\_15/GWAS\\_Transformation/GTAAA/wk7  & GTAAA                                                                        & wk7                                                                          & GTAAA\\_wk7                                                                  & FALSE                                                                       \\\\\n",
       "\\end{tabular}\n"
      ],
      "text/markdown": [
       "\n",
       "| dirs | phase | timepoint | phase_timepoint | is_duplicated |\n",
       "|---|---|---|---|---|\n",
       "| /media//gmobot/easystore/GWAS_Transformation/GTAA/wk10                 | GTAA                                                                   | wk10                                                                   | GTAA_wk10                                                              | FALSE                                                                  |\n",
       "| /media//gmobot/easystore/GWAS_Transformation/GTAA/wk3                  | GTAA                                                                   | wk3                                                                    | GTAA_wk3                                                               | FALSE                                                                  |\n",
       "| /media//gmobot/easystore/GWAS_Transformation/GTAA/wk7                  | GTAA                                                                   | wk7                                                                    | GTAA_wk7                                                               | FALSE                                                                  |\n",
       "| /media//gmobot/Expansio_15/Expansion_15/GWAS_Transformation/GTAAA/wk10 | GTAAA                                                                  | wk10                                                                   | GTAAA_wk10                                                             | FALSE                                                                  |\n",
       "| /media//gmobot/Expansio_15/Expansion_15/GWAS_Transformation/GTAAA/wk3  | GTAAA                                                                  | wk3                                                                    | GTAAA_wk3                                                              | FALSE                                                                  |\n",
       "| /media//gmobot/Expansio_15/Expansion_15/GWAS_Transformation/GTAAA/wk7  | GTAAA                                                                  | wk7                                                                    | GTAAA_wk7                                                              | FALSE                                                                  |\n",
       "\n"
      ],
      "text/plain": [
       "  dirs                                                                   phase\n",
       "1 /media//gmobot/easystore/GWAS_Transformation/GTAA/wk10                 GTAA \n",
       "2 /media//gmobot/easystore/GWAS_Transformation/GTAA/wk3                  GTAA \n",
       "3 /media//gmobot/easystore/GWAS_Transformation/GTAA/wk7                  GTAA \n",
       "4 /media//gmobot/Expansio_15/Expansion_15/GWAS_Transformation/GTAAA/wk10 GTAAA\n",
       "5 /media//gmobot/Expansio_15/Expansion_15/GWAS_Transformation/GTAAA/wk3  GTAAA\n",
       "6 /media//gmobot/Expansio_15/Expansion_15/GWAS_Transformation/GTAAA/wk7  GTAAA\n",
       "  timepoint phase_timepoint is_duplicated\n",
       "1 wk10      GTAA_wk10       FALSE        \n",
       "2 wk3       GTAA_wk3        FALSE        \n",
       "3 wk7       GTAA_wk7        FALSE        \n",
       "4 wk10      GTAAA_wk10      FALSE        \n",
       "5 wk3       GTAAA_wk3       FALSE        \n",
       "6 wk7       GTAAA_wk7       FALSE        "
      ]
     },
     "metadata": {},
     "output_type": "display_data"
    }
   ],
   "source": [
    "head(df)"
   ]
  },
  {
   "cell_type": "code",
   "execution_count": 7,
   "id": "929534a7-d8b7-4185-a93c-efde6f47217c",
   "metadata": {},
   "outputs": [],
   "source": [
    "dirs <- df$dirs"
   ]
  },
  {
   "cell_type": "code",
   "execution_count": 8,
   "id": "a70925fb-15aa-4eee-9d3d-e5b569814474",
   "metadata": {},
   "outputs": [],
   "source": [
    "files <- c()"
   ]
  },
  {
   "cell_type": "code",
   "execution_count": 9,
   "id": "3e9f6ca8-5b4e-4d6e-8110-20eb421c8a3b",
   "metadata": {},
   "outputs": [],
   "source": [
    "for(dir in dirs){\n",
    "    files_to_append <- list.files(dir, pattern = \".jpg\", full.names = TRUE)\n",
    "    files <- c(files, files_to_append)\n",
    "}"
   ]
  },
  {
   "cell_type": "code",
   "execution_count": 14,
   "id": "5fb30c22-e555-47ff-855c-5f492f18e9ed",
   "metadata": {},
   "outputs": [
    {
     "data": {
      "text/html": [
       "90.388"
      ],
      "text/latex": [
       "90.388"
      ],
      "text/markdown": [
       "90.388"
      ],
      "text/plain": [
       "[1] 90.388"
      ]
     },
     "metadata": {},
     "output_type": "display_data"
    }
   ],
   "source": [
    "length(files)* 4 / 1000"
   ]
  },
  {
   "cell_type": "markdown",
   "id": "ecb96ecb-15bd-4db7-9ff3-d2963195b0a1",
   "metadata": {},
   "source": [
    "We'll need about 90GB for all these ~4MB files."
   ]
  },
  {
   "cell_type": "code",
   "execution_count": 15,
   "id": "c15cc9a2-dcb7-4ce2-9d00-ed9fd515b546",
   "metadata": {},
   "outputs": [
    {
     "data": {
      "text/html": [
       "<ol class=list-inline>\n",
       "\t<li>'/media//gmobot/easystore/GWAS_Transformation/GTAA/wk10/chromagrid_I5.0_F1.889_L100LED30_103316_0_0_0_rgb.jpg'</li>\n",
       "\t<li>'/media//gmobot/easystore/GWAS_Transformation/GTAA/wk10/GTAA1_I5.0_F1.889_L100LED30_144012_0_0_1_rgb.jpg'</li>\n",
       "\t<li>'/media//gmobot/easystore/GWAS_Transformation/GTAA/wk10/GTAA1_I5.0_F1.889_L100LED30_144136_1_0_2_rgb.jpg'</li>\n",
       "\t<li>'/media//gmobot/easystore/GWAS_Transformation/GTAA/wk10/GTAA1_I5.0_F1.889_L100LED30_144306_2_0_3_rgb.jpg'</li>\n",
       "\t<li>'/media//gmobot/easystore/GWAS_Transformation/GTAA/wk10/GTAA1_I5.0_F1.889_L100LED30_144436_3_0_4_rgb.jpg'</li>\n",
       "\t<li>'/media//gmobot/easystore/GWAS_Transformation/GTAA/wk10/GTAA1_I5.0_F1.889_L100LED30_144606_4_0_5_rgb.jpg'</li>\n",
       "</ol>\n"
      ],
      "text/latex": [
       "\\begin{enumerate*}\n",
       "\\item '/media//gmobot/easystore/GWAS\\_Transformation/GTAA/wk10/chromagrid\\_I5.0\\_F1.889\\_L100LED30\\_103316\\_0\\_0\\_0\\_rgb.jpg'\n",
       "\\item '/media//gmobot/easystore/GWAS\\_Transformation/GTAA/wk10/GTAA1\\_I5.0\\_F1.889\\_L100LED30\\_144012\\_0\\_0\\_1\\_rgb.jpg'\n",
       "\\item '/media//gmobot/easystore/GWAS\\_Transformation/GTAA/wk10/GTAA1\\_I5.0\\_F1.889\\_L100LED30\\_144136\\_1\\_0\\_2\\_rgb.jpg'\n",
       "\\item '/media//gmobot/easystore/GWAS\\_Transformation/GTAA/wk10/GTAA1\\_I5.0\\_F1.889\\_L100LED30\\_144306\\_2\\_0\\_3\\_rgb.jpg'\n",
       "\\item '/media//gmobot/easystore/GWAS\\_Transformation/GTAA/wk10/GTAA1\\_I5.0\\_F1.889\\_L100LED30\\_144436\\_3\\_0\\_4\\_rgb.jpg'\n",
       "\\item '/media//gmobot/easystore/GWAS\\_Transformation/GTAA/wk10/GTAA1\\_I5.0\\_F1.889\\_L100LED30\\_144606\\_4\\_0\\_5\\_rgb.jpg'\n",
       "\\end{enumerate*}\n"
      ],
      "text/markdown": [
       "1. '/media//gmobot/easystore/GWAS_Transformation/GTAA/wk10/chromagrid_I5.0_F1.889_L100LED30_103316_0_0_0_rgb.jpg'\n",
       "2. '/media//gmobot/easystore/GWAS_Transformation/GTAA/wk10/GTAA1_I5.0_F1.889_L100LED30_144012_0_0_1_rgb.jpg'\n",
       "3. '/media//gmobot/easystore/GWAS_Transformation/GTAA/wk10/GTAA1_I5.0_F1.889_L100LED30_144136_1_0_2_rgb.jpg'\n",
       "4. '/media//gmobot/easystore/GWAS_Transformation/GTAA/wk10/GTAA1_I5.0_F1.889_L100LED30_144306_2_0_3_rgb.jpg'\n",
       "5. '/media//gmobot/easystore/GWAS_Transformation/GTAA/wk10/GTAA1_I5.0_F1.889_L100LED30_144436_3_0_4_rgb.jpg'\n",
       "6. '/media//gmobot/easystore/GWAS_Transformation/GTAA/wk10/GTAA1_I5.0_F1.889_L100LED30_144606_4_0_5_rgb.jpg'\n",
       "\n",
       "\n"
      ],
      "text/plain": [
       "[1] \"/media//gmobot/easystore/GWAS_Transformation/GTAA/wk10/chromagrid_I5.0_F1.889_L100LED30_103316_0_0_0_rgb.jpg\"\n",
       "[2] \"/media//gmobot/easystore/GWAS_Transformation/GTAA/wk10/GTAA1_I5.0_F1.889_L100LED30_144012_0_0_1_rgb.jpg\"     \n",
       "[3] \"/media//gmobot/easystore/GWAS_Transformation/GTAA/wk10/GTAA1_I5.0_F1.889_L100LED30_144136_1_0_2_rgb.jpg\"     \n",
       "[4] \"/media//gmobot/easystore/GWAS_Transformation/GTAA/wk10/GTAA1_I5.0_F1.889_L100LED30_144306_2_0_3_rgb.jpg\"     \n",
       "[5] \"/media//gmobot/easystore/GWAS_Transformation/GTAA/wk10/GTAA1_I5.0_F1.889_L100LED30_144436_3_0_4_rgb.jpg\"     \n",
       "[6] \"/media//gmobot/easystore/GWAS_Transformation/GTAA/wk10/GTAA1_I5.0_F1.889_L100LED30_144606_4_0_5_rgb.jpg\"     "
      ]
     },
     "metadata": {},
     "output_type": "display_data"
    }
   ],
   "source": [
    "head(files)"
   ]
  },
  {
   "cell_type": "code",
   "execution_count": 16,
   "id": "44faa707-faa7-4f90-8d14-41b6b04c3553",
   "metadata": {},
   "outputs": [],
   "source": [
    "for(file in files){\n",
    "    file.copy(file,\n",
    "              paste0(dest,\n",
    "                     basename(file)))\n",
    "}"
   ]
  },
  {
   "cell_type": "code",
   "execution_count": null,
   "id": "fe770ee9-bb8c-4058-abce-7302fda98851",
   "metadata": {},
   "outputs": [],
   "source": []
  }
 ],
 "metadata": {
  "kernelspec": {
   "display_name": "R 4.1",
   "language": "R",
   "name": "ir41"
  },
  "language_info": {
   "codemirror_mode": "r",
   "file_extension": ".r",
   "mimetype": "text/x-r-source",
   "name": "R",
   "pygments_lexer": "r",
   "version": "3.6.1"
  }
 },
 "nbformat": 4,
 "nbformat_minor": 5
}
