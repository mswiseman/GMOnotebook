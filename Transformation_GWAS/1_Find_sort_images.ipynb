{
 "cells": [
  {
   "cell_type": "markdown",
   "id": "e1d57348-4323-41a2-9866-ad204acd5d78",
   "metadata": {},
   "source": [
    "# Find all transformation GWAS files"
   ]
  },
  {
   "cell_type": "markdown",
   "id": "0dc4a6a0-9761-4661-87a2-550348f348ed",
   "metadata": {},
   "source": [
    "## Build list of all images"
   ]
  },
  {
   "cell_type": "code",
   "execution_count": 1,
   "id": "cb518bb2-267a-433f-ac74-e23322a2eeaf",
   "metadata": {},
   "outputs": [],
   "source": [
    "files <- list.files(\"/media/\",\n",
    "                    recursive = TRUE,\n",
    "                    full.names = TRUE)"
   ]
  },
  {
   "cell_type": "code",
   "execution_count": 2,
   "id": "a9dd7041-f0ab-4b44-84db-3e9bf8d6165a",
   "metadata": {},
   "outputs": [
    {
     "data": {
      "text/html": [
       "<ol class=list-inline>\n",
       "\t<li>'/media//gmobot/data/$RECYCLE.BIN/S-1-5-21-768827146-30536187-3989377230-1001/desktop.ini'</li>\n",
       "\t<li>'/media//gmobot/data/$RECYCLE.BIN/S-1-5-21-768827146-30536187-3989377230-1003/desktop.ini'</li>\n",
       "\t<li>'/media//gmobot/data/DumpStack.log.tmp'</li>\n",
       "\t<li>'/media//gmobot/data/NSF_GWAS/notebooks/InPlantaGWAS/01_SNP_format_conversions/1323_cohort_maf0.05_defaultmissingrates.snp.pass.bed'</li>\n",
       "\t<li>'/media//gmobot/data/NSF_GWAS/notebooks/InPlantaGWAS/01_SNP_format_conversions/1323_cohort_maf0.05_defaultmissingrates.snp.pass.bim'</li>\n",
       "\t<li>'/media//gmobot/data/NSF_GWAS/notebooks/InPlantaGWAS/01_SNP_format_conversions/1323_cohort_maf0.05_defaultmissingrates.snp.pass.fam'</li>\n",
       "</ol>\n"
      ],
      "text/latex": [
       "\\begin{enumerate*}\n",
       "\\item '/media//gmobot/data/\\$RECYCLE.BIN/S-1-5-21-768827146-30536187-3989377230-1001/desktop.ini'\n",
       "\\item '/media//gmobot/data/\\$RECYCLE.BIN/S-1-5-21-768827146-30536187-3989377230-1003/desktop.ini'\n",
       "\\item '/media//gmobot/data/DumpStack.log.tmp'\n",
       "\\item '/media//gmobot/data/NSF\\_GWAS/notebooks/InPlantaGWAS/01\\_SNP\\_format\\_conversions/1323\\_cohort\\_maf0.05\\_defaultmissingrates.snp.pass.bed'\n",
       "\\item '/media//gmobot/data/NSF\\_GWAS/notebooks/InPlantaGWAS/01\\_SNP\\_format\\_conversions/1323\\_cohort\\_maf0.05\\_defaultmissingrates.snp.pass.bim'\n",
       "\\item '/media//gmobot/data/NSF\\_GWAS/notebooks/InPlantaGWAS/01\\_SNP\\_format\\_conversions/1323\\_cohort\\_maf0.05\\_defaultmissingrates.snp.pass.fam'\n",
       "\\end{enumerate*}\n"
      ],
      "text/markdown": [
       "1. '/media//gmobot/data/$RECYCLE.BIN/S-1-5-21-768827146-30536187-3989377230-1001/desktop.ini'\n",
       "2. '/media//gmobot/data/$RECYCLE.BIN/S-1-5-21-768827146-30536187-3989377230-1003/desktop.ini'\n",
       "3. '/media//gmobot/data/DumpStack.log.tmp'\n",
       "4. '/media//gmobot/data/NSF_GWAS/notebooks/InPlantaGWAS/01_SNP_format_conversions/1323_cohort_maf0.05_defaultmissingrates.snp.pass.bed'\n",
       "5. '/media//gmobot/data/NSF_GWAS/notebooks/InPlantaGWAS/01_SNP_format_conversions/1323_cohort_maf0.05_defaultmissingrates.snp.pass.bim'\n",
       "6. '/media//gmobot/data/NSF_GWAS/notebooks/InPlantaGWAS/01_SNP_format_conversions/1323_cohort_maf0.05_defaultmissingrates.snp.pass.fam'\n",
       "\n",
       "\n"
      ],
      "text/plain": [
       "[1] \"/media//gmobot/data/$RECYCLE.BIN/S-1-5-21-768827146-30536187-3989377230-1001/desktop.ini\"                                          \n",
       "[2] \"/media//gmobot/data/$RECYCLE.BIN/S-1-5-21-768827146-30536187-3989377230-1003/desktop.ini\"                                          \n",
       "[3] \"/media//gmobot/data/DumpStack.log.tmp\"                                                                                             \n",
       "[4] \"/media//gmobot/data/NSF_GWAS/notebooks/InPlantaGWAS/01_SNP_format_conversions/1323_cohort_maf0.05_defaultmissingrates.snp.pass.bed\"\n",
       "[5] \"/media//gmobot/data/NSF_GWAS/notebooks/InPlantaGWAS/01_SNP_format_conversions/1323_cohort_maf0.05_defaultmissingrates.snp.pass.bim\"\n",
       "[6] \"/media//gmobot/data/NSF_GWAS/notebooks/InPlantaGWAS/01_SNP_format_conversions/1323_cohort_maf0.05_defaultmissingrates.snp.pass.fam\""
      ]
     },
     "metadata": {},
     "output_type": "display_data"
    }
   ],
   "source": [
    "head(files)"
   ]
  },
  {
   "cell_type": "code",
   "execution_count": 3,
   "id": "9378750b-90f8-4ae9-87e8-ae854271fc19",
   "metadata": {},
   "outputs": [
    {
     "data": {
      "text/html": [
       "8361054"
      ],
      "text/latex": [
       "8361054"
      ],
      "text/markdown": [
       "8361054"
      ],
      "text/plain": [
       "[1] 8361054"
      ]
     },
     "metadata": {},
     "output_type": "display_data"
    }
   ],
   "source": [
    "length(files)"
   ]
  },
  {
   "cell_type": "markdown",
   "id": "876d0af5-1630-4fae-bb92-f0f762e007e5",
   "metadata": {},
   "source": [
    "## Filter, parse down to transformation GWAS directories"
   ]
  },
  {
   "cell_type": "markdown",
   "id": "ef45a0bf-68f2-4f17-84ca-7d6b241c632c",
   "metadata": {},
   "source": [
    "Filter to transformation GWAS data only"
   ]
  },
  {
   "cell_type": "code",
   "execution_count": 4,
   "id": "4f17a845-a157-47fd-88be-fa7fa1b4657e",
   "metadata": {},
   "outputs": [],
   "source": [
    "files <- files[grepl(\"GWAS_Transformation\", files)]"
   ]
  },
  {
   "cell_type": "code",
   "execution_count": 5,
   "id": "00ca8314-9006-4638-bd84-b578b62d3ad3",
   "metadata": {},
   "outputs": [],
   "source": [
    "files <- files[!grepl(\"desktop.ini\", files)]\n",
    "files <- files[!grepl(\"xlsx\", files)]\n",
    "files <- files[!grepl(\"roadband\", files)]\n",
    "files <- files[!grepl(\"rgb_test\", files)]\n",
    "files <- files[!grepl(\".csv\", files)]\n",
    "files <- files[!grepl(\"duplicate\", files)]\n",
    "files <- files[!grepl(\"Not right\", files)]\n",
    "files <- files[!grepl(\"wrong\", files)]\n",
    "files <- files[!grepl(\"screenshots\", files)]\n",
    "files <- files[!grepl(\"subset\", files)]\n",
    "files <- files[!grepl(\"Grids\", files)]\n",
    "files <- files[!grepl(\"GRIDS\", files)]\n",
    "files <- files[!grepl(\".txt\", files)]\n",
    "files <- files[!grepl(\"samples_for_annotation\", files)]"
   ]
  },
  {
   "cell_type": "code",
   "execution_count": 6,
   "id": "f9514452-8b6e-46f9-89de-dc4a6beb7449",
   "metadata": {},
   "outputs": [
    {
     "data": {
      "text/html": [
       "68306"
      ],
      "text/latex": [
       "68306"
      ],
      "text/markdown": [
       "68306"
      ],
      "text/plain": [
       "[1] 68306"
      ]
     },
     "metadata": {},
     "output_type": "display_data"
    }
   ],
   "source": [
    "length(files)"
   ]
  },
  {
   "cell_type": "markdown",
   "id": "84d34276-62a4-462c-872a-d4804dedec96",
   "metadata": {},
   "source": [
    "Parse out directory names"
   ]
  },
  {
   "cell_type": "code",
   "execution_count": 7,
   "id": "c21c71ff-39f9-4cf9-9efb-3a6c8cbfa0b9",
   "metadata": {},
   "outputs": [],
   "source": [
    "dirs <- dirname(files)"
   ]
  },
  {
   "cell_type": "code",
   "execution_count": 8,
   "id": "7001157d-6d6e-47df-9ddf-b4996515b310",
   "metadata": {},
   "outputs": [],
   "source": [
    "dirs <- unique(dirs)"
   ]
  },
  {
   "cell_type": "code",
   "execution_count": 9,
   "id": "7ad1bbdf-b2bb-489c-b62f-9c55c89e1780",
   "metadata": {},
   "outputs": [
    {
     "data": {
      "text/html": [
       "<ol class=list-inline>\n",
       "\t<li>'/media//gmobot/Easystore_longerm_storage_2/GWAS_Transformation/GTCC/wk3'</li>\n",
       "\t<li>'/media//gmobot/Easystore_longerm_storage_2/GWAS_Transformation/GTDD/wk3'</li>\n",
       "\t<li>'/media//gmobot/Easystore_longerm_storage_2/GWAS_Transformation/GTEE/wk3'</li>\n",
       "\t<li>'/media//gmobot/Easystore_longerm_storage_2/GWAS_Transformation/GTX/wk10'</li>\n",
       "\t<li>'/media//gmobot/Easystore_longerm_storage_2/GWAS_Transformation/GTX/wk7'</li>\n",
       "\t<li>'/media//gmobot/Easystore_longerm_storage_2/GWAS_Transformation/GTY/wk10'</li>\n",
       "</ol>\n"
      ],
      "text/latex": [
       "\\begin{enumerate*}\n",
       "\\item '/media//gmobot/Easystore\\_longerm\\_storage\\_2/GWAS\\_Transformation/GTCC/wk3'\n",
       "\\item '/media//gmobot/Easystore\\_longerm\\_storage\\_2/GWAS\\_Transformation/GTDD/wk3'\n",
       "\\item '/media//gmobot/Easystore\\_longerm\\_storage\\_2/GWAS\\_Transformation/GTEE/wk3'\n",
       "\\item '/media//gmobot/Easystore\\_longerm\\_storage\\_2/GWAS\\_Transformation/GTX/wk10'\n",
       "\\item '/media//gmobot/Easystore\\_longerm\\_storage\\_2/GWAS\\_Transformation/GTX/wk7'\n",
       "\\item '/media//gmobot/Easystore\\_longerm\\_storage\\_2/GWAS\\_Transformation/GTY/wk10'\n",
       "\\end{enumerate*}\n"
      ],
      "text/markdown": [
       "1. '/media//gmobot/Easystore_longerm_storage_2/GWAS_Transformation/GTCC/wk3'\n",
       "2. '/media//gmobot/Easystore_longerm_storage_2/GWAS_Transformation/GTDD/wk3'\n",
       "3. '/media//gmobot/Easystore_longerm_storage_2/GWAS_Transformation/GTEE/wk3'\n",
       "4. '/media//gmobot/Easystore_longerm_storage_2/GWAS_Transformation/GTX/wk10'\n",
       "5. '/media//gmobot/Easystore_longerm_storage_2/GWAS_Transformation/GTX/wk7'\n",
       "6. '/media//gmobot/Easystore_longerm_storage_2/GWAS_Transformation/GTY/wk10'\n",
       "\n",
       "\n"
      ],
      "text/plain": [
       "[1] \"/media//gmobot/Easystore_longerm_storage_2/GWAS_Transformation/GTCC/wk3\"\n",
       "[2] \"/media//gmobot/Easystore_longerm_storage_2/GWAS_Transformation/GTDD/wk3\"\n",
       "[3] \"/media//gmobot/Easystore_longerm_storage_2/GWAS_Transformation/GTEE/wk3\"\n",
       "[4] \"/media//gmobot/Easystore_longerm_storage_2/GWAS_Transformation/GTX/wk10\"\n",
       "[5] \"/media//gmobot/Easystore_longerm_storage_2/GWAS_Transformation/GTX/wk7\" \n",
       "[6] \"/media//gmobot/Easystore_longerm_storage_2/GWAS_Transformation/GTY/wk10\""
      ]
     },
     "metadata": {},
     "output_type": "display_data"
    }
   ],
   "source": [
    "head(dirs)"
   ]
  },
  {
   "cell_type": "markdown",
   "id": "90ae6faf-89fd-4d34-a444-320ce3308628",
   "metadata": {
    "tags": []
   },
   "source": [
    "## Produce `data.frame` with directory paths and metadata for each"
   ]
  },
  {
   "cell_type": "markdown",
   "id": "08828910-b8e4-4953-80b3-a996f9909341",
   "metadata": {},
   "source": [
    "Desired columns: Phase, Timepoint, Path"
   ]
  },
  {
   "cell_type": "code",
   "execution_count": 10,
   "id": "d29c0ab7-d4b9-44e0-910a-dbc81d29f109",
   "metadata": {},
   "outputs": [],
   "source": [
    "library(stringr)"
   ]
  },
  {
   "cell_type": "code",
   "execution_count": 11,
   "id": "b692e606-6b14-409e-9d60-2c70256aa065",
   "metadata": {},
   "outputs": [],
   "source": [
    "Phase_Timepoint <- str_split_fixed(dirs, \"GWAS_Transformation/\", 2)[,2]"
   ]
  },
  {
   "cell_type": "code",
   "execution_count": 12,
   "id": "1257e4b5-c53f-4c89-8b18-ded49e43e879",
   "metadata": {},
   "outputs": [],
   "source": [
    "Phase <- str_split_fixed(Phase_Timepoint, \"/\", 2)[,1] \n",
    "Timepoint <- str_split_fixed(Phase_Timepoint, \"/\", 2)[,2] "
   ]
  },
  {
   "cell_type": "code",
   "execution_count": 13,
   "id": "be8e949d-37aa-45ff-ad24-38b14347f8e5",
   "metadata": {},
   "outputs": [],
   "source": [
    "df <- data.frame(dirs = dirs,\n",
    "                 phase = Phase,\n",
    "                 timepoint = Timepoint)"
   ]
  },
  {
   "cell_type": "code",
   "execution_count": 14,
   "id": "b6f6ef79-bf87-4f84-ab0e-75f56e04c437",
   "metadata": {},
   "outputs": [
    {
     "data": {
      "text/html": [
       "<table>\n",
       "<thead><tr><th scope=col>dirs</th><th scope=col>phase</th><th scope=col>timepoint</th></tr></thead>\n",
       "<tbody>\n",
       "\t<tr><td>/media//gmobot/Easystore_longerm_storage_2/GWAS_Transformation/GTCC/wk3</td><td>GTCC                                                                   </td><td>wk3                                                                    </td></tr>\n",
       "\t<tr><td>/media//gmobot/Easystore_longerm_storage_2/GWAS_Transformation/GTDD/wk3</td><td>GTDD                                                                   </td><td>wk3                                                                    </td></tr>\n",
       "\t<tr><td>/media//gmobot/Easystore_longerm_storage_2/GWAS_Transformation/GTEE/wk3</td><td>GTEE                                                                   </td><td>wk3                                                                    </td></tr>\n",
       "\t<tr><td>/media//gmobot/Easystore_longerm_storage_2/GWAS_Transformation/GTX/wk10</td><td>GTX                                                                    </td><td>wk10                                                                   </td></tr>\n",
       "\t<tr><td>/media//gmobot/Easystore_longerm_storage_2/GWAS_Transformation/GTX/wk7 </td><td>GTX                                                                    </td><td>wk7                                                                    </td></tr>\n",
       "\t<tr><td>/media//gmobot/Easystore_longerm_storage_2/GWAS_Transformation/GTY/wk10</td><td>GTY                                                                    </td><td>wk10                                                                   </td></tr>\n",
       "</tbody>\n",
       "</table>\n"
      ],
      "text/latex": [
       "\\begin{tabular}{r|lll}\n",
       " dirs & phase & timepoint\\\\\n",
       "\\hline\n",
       "\t /media//gmobot/Easystore\\_longerm\\_storage\\_2/GWAS\\_Transformation/GTCC/wk3 & GTCC                                                                            & wk3                                                                            \\\\\n",
       "\t /media//gmobot/Easystore\\_longerm\\_storage\\_2/GWAS\\_Transformation/GTDD/wk3 & GTDD                                                                            & wk3                                                                            \\\\\n",
       "\t /media//gmobot/Easystore\\_longerm\\_storage\\_2/GWAS\\_Transformation/GTEE/wk3 & GTEE                                                                            & wk3                                                                            \\\\\n",
       "\t /media//gmobot/Easystore\\_longerm\\_storage\\_2/GWAS\\_Transformation/GTX/wk10 & GTX                                                                             & wk10                                                                           \\\\\n",
       "\t /media//gmobot/Easystore\\_longerm\\_storage\\_2/GWAS\\_Transformation/GTX/wk7  & GTX                                                                             & wk7                                                                            \\\\\n",
       "\t /media//gmobot/Easystore\\_longerm\\_storage\\_2/GWAS\\_Transformation/GTY/wk10 & GTY                                                                             & wk10                                                                           \\\\\n",
       "\\end{tabular}\n"
      ],
      "text/markdown": [
       "\n",
       "| dirs | phase | timepoint |\n",
       "|---|---|---|\n",
       "| /media//gmobot/Easystore_longerm_storage_2/GWAS_Transformation/GTCC/wk3 | GTCC                                                                    | wk3                                                                     |\n",
       "| /media//gmobot/Easystore_longerm_storage_2/GWAS_Transformation/GTDD/wk3 | GTDD                                                                    | wk3                                                                     |\n",
       "| /media//gmobot/Easystore_longerm_storage_2/GWAS_Transformation/GTEE/wk3 | GTEE                                                                    | wk3                                                                     |\n",
       "| /media//gmobot/Easystore_longerm_storage_2/GWAS_Transformation/GTX/wk10 | GTX                                                                     | wk10                                                                    |\n",
       "| /media//gmobot/Easystore_longerm_storage_2/GWAS_Transformation/GTX/wk7  | GTX                                                                     | wk7                                                                     |\n",
       "| /media//gmobot/Easystore_longerm_storage_2/GWAS_Transformation/GTY/wk10 | GTY                                                                     | wk10                                                                    |\n",
       "\n"
      ],
      "text/plain": [
       "  dirs                                                                    phase\n",
       "1 /media//gmobot/Easystore_longerm_storage_2/GWAS_Transformation/GTCC/wk3 GTCC \n",
       "2 /media//gmobot/Easystore_longerm_storage_2/GWAS_Transformation/GTDD/wk3 GTDD \n",
       "3 /media//gmobot/Easystore_longerm_storage_2/GWAS_Transformation/GTEE/wk3 GTEE \n",
       "4 /media//gmobot/Easystore_longerm_storage_2/GWAS_Transformation/GTX/wk10 GTX  \n",
       "5 /media//gmobot/Easystore_longerm_storage_2/GWAS_Transformation/GTX/wk7  GTX  \n",
       "6 /media//gmobot/Easystore_longerm_storage_2/GWAS_Transformation/GTY/wk10 GTY  \n",
       "  timepoint\n",
       "1 wk3      \n",
       "2 wk3      \n",
       "3 wk3      \n",
       "4 wk10     \n",
       "5 wk7      \n",
       "6 wk10     "
      ]
     },
     "metadata": {},
     "output_type": "display_data"
    }
   ],
   "source": [
    "head(df)"
   ]
  },
  {
   "cell_type": "code",
   "execution_count": 15,
   "id": "e737b405-8048-4cb7-b555-dde4098c4dc9",
   "metadata": {},
   "outputs": [],
   "source": [
    "df <- df[order(df$phase, df$timepoint), ]"
   ]
  },
  {
   "cell_type": "code",
   "execution_count": 16,
   "id": "750b872f-2785-4e64-b935-63e1adda996b",
   "metadata": {},
   "outputs": [
    {
     "data": {
      "text/html": [
       "<table>\n",
       "<thead><tr><th></th><th scope=col>dirs</th><th scope=col>phase</th><th scope=col>timepoint</th></tr></thead>\n",
       "<tbody>\n",
       "\t<tr><th scope=row>9</th><td>/media//gmobot/easystore/GWAS_Transformation/GTAA/wk10                </td><td>GTAA                                                                  </td><td>wk10                                                                  </td></tr>\n",
       "\t<tr><th scope=row>10</th><td>/media//gmobot/easystore/GWAS_Transformation/GTAA/wk3                 </td><td>GTAA                                                                  </td><td>wk3                                                                   </td></tr>\n",
       "\t<tr><th scope=row>11</th><td>/media//gmobot/easystore/GWAS_Transformation/GTAA/wk7                 </td><td>GTAA                                                                  </td><td>wk7                                                                   </td></tr>\n",
       "\t<tr><th scope=row>127</th><td>/media//gmobot/Expansio_15/Expansion_15/GWAS_Transformation/GTAAA/wk10</td><td>GTAAA                                                                 </td><td>wk10                                                                  </td></tr>\n",
       "\t<tr><th scope=row>128</th><td>/media//gmobot/Expansio_15/Expansion_15/GWAS_Transformation/GTAAA/wk3 </td><td>GTAAA                                                                 </td><td>wk3                                                                   </td></tr>\n",
       "\t<tr><th scope=row>129</th><td>/media//gmobot/Expansio_15/Expansion_15/GWAS_Transformation/GTAAA/wk7 </td><td>GTAAA                                                                 </td><td>wk7                                                                   </td></tr>\n",
       "</tbody>\n",
       "</table>\n"
      ],
      "text/latex": [
       "\\begin{tabular}{r|lll}\n",
       "  & dirs & phase & timepoint\\\\\n",
       "\\hline\n",
       "\t9 & /media//gmobot/easystore/GWAS\\_Transformation/GTAA/wk10                 & GTAA                                                                     & wk10                                                                    \\\\\n",
       "\t10 & /media//gmobot/easystore/GWAS\\_Transformation/GTAA/wk3                  & GTAA                                                                     & wk3                                                                     \\\\\n",
       "\t11 & /media//gmobot/easystore/GWAS\\_Transformation/GTAA/wk7                  & GTAA                                                                     & wk7                                                                     \\\\\n",
       "\t127 & /media//gmobot/Expansio\\_15/Expansion\\_15/GWAS\\_Transformation/GTAAA/wk10 & GTAAA                                                                        & wk10                                                                        \\\\\n",
       "\t128 & /media//gmobot/Expansio\\_15/Expansion\\_15/GWAS\\_Transformation/GTAAA/wk3  & GTAAA                                                                        & wk3                                                                         \\\\\n",
       "\t129 & /media//gmobot/Expansio\\_15/Expansion\\_15/GWAS\\_Transformation/GTAAA/wk7  & GTAAA                                                                        & wk7                                                                         \\\\\n",
       "\\end{tabular}\n"
      ],
      "text/markdown": [
       "\n",
       "| <!--/--> | dirs | phase | timepoint |\n",
       "|---|---|---|---|\n",
       "| 9 | /media//gmobot/easystore/GWAS_Transformation/GTAA/wk10                 | GTAA                                                                   | wk10                                                                   |\n",
       "| 10 | /media//gmobot/easystore/GWAS_Transformation/GTAA/wk3                  | GTAA                                                                   | wk3                                                                    |\n",
       "| 11 | /media//gmobot/easystore/GWAS_Transformation/GTAA/wk7                  | GTAA                                                                   | wk7                                                                    |\n",
       "| 127 | /media//gmobot/Expansio_15/Expansion_15/GWAS_Transformation/GTAAA/wk10 | GTAAA                                                                  | wk10                                                                   |\n",
       "| 128 | /media//gmobot/Expansio_15/Expansion_15/GWAS_Transformation/GTAAA/wk3  | GTAAA                                                                  | wk3                                                                    |\n",
       "| 129 | /media//gmobot/Expansio_15/Expansion_15/GWAS_Transformation/GTAAA/wk7  | GTAAA                                                                  | wk7                                                                    |\n",
       "\n"
      ],
      "text/plain": [
       "    dirs                                                                  \n",
       "9   /media//gmobot/easystore/GWAS_Transformation/GTAA/wk10                \n",
       "10  /media//gmobot/easystore/GWAS_Transformation/GTAA/wk3                 \n",
       "11  /media//gmobot/easystore/GWAS_Transformation/GTAA/wk7                 \n",
       "127 /media//gmobot/Expansio_15/Expansion_15/GWAS_Transformation/GTAAA/wk10\n",
       "128 /media//gmobot/Expansio_15/Expansion_15/GWAS_Transformation/GTAAA/wk3 \n",
       "129 /media//gmobot/Expansio_15/Expansion_15/GWAS_Transformation/GTAAA/wk7 \n",
       "    phase timepoint\n",
       "9   GTAA  wk10     \n",
       "10  GTAA  wk3      \n",
       "11  GTAA  wk7      \n",
       "127 GTAAA wk10     \n",
       "128 GTAAA wk3      \n",
       "129 GTAAA wk7      "
      ]
     },
     "metadata": {},
     "output_type": "display_data"
    }
   ],
   "source": [
    "head(df)"
   ]
  },
  {
   "cell_type": "markdown",
   "id": "9054ade1-aa1a-4b41-8681-85f6812686ab",
   "metadata": {},
   "source": [
    "Clean up timepoint from folder names"
   ]
  },
  {
   "cell_type": "code",
   "execution_count": 17,
   "id": "d1cd91d0-286f-45d0-a429-97409af11e30",
   "metadata": {},
   "outputs": [],
   "source": [
    "df$timepoint <- gsub(\"/Fluorescent\", \"\", df$timepoint)\n",
    "df$timepoint <- gsub(\"Fluorescent/\", \"\", df$timepoint)"
   ]
  },
  {
   "cell_type": "code",
   "execution_count": 18,
   "id": "50e9ba39-1136-4055-85e0-6465f64219c7",
   "metadata": {},
   "outputs": [],
   "source": [
    "timepoints <- levels(factor(df$timepoint))"
   ]
  },
  {
   "cell_type": "code",
   "execution_count": 19,
   "id": "93d414ec-4ab0-48c9-a1d2-8e543ceb46d7",
   "metadata": {},
   "outputs": [
    {
     "data": {
      "text/html": [
       "<ol class=list-inline>\n",
       "\t<li>'wk10'</li>\n",
       "\t<li>'wk12'</li>\n",
       "\t<li>'wk13'</li>\n",
       "\t<li>'wk3'</li>\n",
       "\t<li>'wk4'</li>\n",
       "\t<li>'wk5'</li>\n",
       "\t<li>'wk7'</li>\n",
       "\t<li>'wk8'</li>\n",
       "\t<li>'wk9'</li>\n",
       "</ol>\n"
      ],
      "text/latex": [
       "\\begin{enumerate*}\n",
       "\\item 'wk10'\n",
       "\\item 'wk12'\n",
       "\\item 'wk13'\n",
       "\\item 'wk3'\n",
       "\\item 'wk4'\n",
       "\\item 'wk5'\n",
       "\\item 'wk7'\n",
       "\\item 'wk8'\n",
       "\\item 'wk9'\n",
       "\\end{enumerate*}\n"
      ],
      "text/markdown": [
       "1. 'wk10'\n",
       "2. 'wk12'\n",
       "3. 'wk13'\n",
       "4. 'wk3'\n",
       "5. 'wk4'\n",
       "6. 'wk5'\n",
       "7. 'wk7'\n",
       "8. 'wk8'\n",
       "9. 'wk9'\n",
       "\n",
       "\n"
      ],
      "text/plain": [
       "[1] \"wk10\" \"wk12\" \"wk13\" \"wk3\"  \"wk4\"  \"wk5\"  \"wk7\"  \"wk8\"  \"wk9\" "
      ]
     },
     "metadata": {},
     "output_type": "display_data"
    }
   ],
   "source": [
    "timepoints"
   ]
  },
  {
   "cell_type": "code",
   "execution_count": null,
   "id": "5b2e0279-fa02-462b-b4ff-9cb8587b8662",
   "metadata": {},
   "outputs": [],
   "source": []
  },
  {
   "cell_type": "code",
   "execution_count": 20,
   "id": "abe399ec-750e-46a0-aa7f-b556c52d4f0e",
   "metadata": {},
   "outputs": [],
   "source": [
    "df <- df[!grepl(\"GX\", df$phase), ]"
   ]
  },
  {
   "cell_type": "code",
   "execution_count": 21,
   "id": "95ceffcb-4fc2-4b30-9f93-90eec4271873",
   "metadata": {},
   "outputs": [],
   "source": [
    "phases <- levels(factor(Phase))"
   ]
  },
  {
   "cell_type": "markdown",
   "id": "77194993-28f7-4460-8949-44fb97cd0072",
   "metadata": {},
   "source": [
    "Need to clean up cases where there are files not saved in any timepoint folder"
   ]
  },
  {
   "cell_type": "code",
   "execution_count": 22,
   "id": "dc8cb8f8-50f6-44b8-af9a-f9fa044adffd",
   "metadata": {},
   "outputs": [
    {
     "data": {
      "text/html": [
       "<table>\n",
       "<thead><tr><th scope=col>dirs</th><th scope=col>phase</th><th scope=col>timepoint</th></tr></thead>\n",
       "<tbody>\n",
       "</tbody>\n",
       "</table>\n"
      ],
      "text/latex": [
       "\\begin{tabular}{r|lll}\n",
       " dirs & phase & timepoint\\\\\n",
       "\\hline\n",
       "\\end{tabular}\n"
      ],
      "text/markdown": [
       "\n",
       "| dirs | phase | timepoint |\n",
       "|---|---|---|\n",
       "\n"
      ],
      "text/plain": [
       "     dirs phase timepoint"
      ]
     },
     "metadata": {},
     "output_type": "display_data"
    }
   ],
   "source": [
    "df[which(df$timepoint == \"\"), ]"
   ]
  },
  {
   "cell_type": "markdown",
   "id": "2f88f451-f8a2-4f40-8e62-867c18d45593",
   "metadata": {},
   "source": [
    "Need to identify cases where a timepoint is missing for any given phase"
   ]
  },
  {
   "cell_type": "code",
   "execution_count": 23,
   "id": "4cb8e49c-7437-49cc-aba6-c7110496d191",
   "metadata": {},
   "outputs": [
    {
     "data": {
      "text/html": [
       "<table>\n",
       "<thead><tr><th></th><th scope=col>dirs</th><th scope=col>phase</th><th scope=col>timepoint</th></tr></thead>\n",
       "<tbody>\n",
       "\t<tr><th scope=row>68</th><td>/media//gmobot/Elements_13/Elements_13/GWAS_Transformation/GTJJ/wk4</td><td>GTJJ                                                               </td><td>wk4                                                                </td></tr>\n",
       "</tbody>\n",
       "</table>\n"
      ],
      "text/latex": [
       "\\begin{tabular}{r|lll}\n",
       "  & dirs & phase & timepoint\\\\\n",
       "\\hline\n",
       "\t68 & /media//gmobot/Elements\\_13/Elements\\_13/GWAS\\_Transformation/GTJJ/wk4 & GTJJ                                                                      & wk4                                                                      \\\\\n",
       "\\end{tabular}\n"
      ],
      "text/markdown": [
       "\n",
       "| <!--/--> | dirs | phase | timepoint |\n",
       "|---|---|---|---|\n",
       "| 68 | /media//gmobot/Elements_13/Elements_13/GWAS_Transformation/GTJJ/wk4 | GTJJ                                                                | wk4                                                                 |\n",
       "\n"
      ],
      "text/plain": [
       "   dirs                                                                phase\n",
       "68 /media//gmobot/Elements_13/Elements_13/GWAS_Transformation/GTJJ/wk4 GTJJ \n",
       "   timepoint\n",
       "68 wk4      "
      ]
     },
     "metadata": {},
     "output_type": "display_data"
    }
   ],
   "source": [
    "df[which(df$timepoint == \"wk4\"), ]"
   ]
  },
  {
   "cell_type": "code",
   "execution_count": 24,
   "id": "3b5c64a2-5457-40ec-80ac-84dd69351d56",
   "metadata": {},
   "outputs": [
    {
     "data": {
      "text/html": [
       "<table>\n",
       "<thead><tr><th></th><th scope=col>dirs</th><th scope=col>phase</th><th scope=col>timepoint</th></tr></thead>\n",
       "<tbody>\n",
       "\t<tr><th scope=row>118</th><td>/media//gmobot/Elements/GWAS_Transformation/GTCC/wk13                </td><td>GTCC                                                                 </td><td>wk13                                                                 </td></tr>\n",
       "\t<tr><th scope=row>133</th><td>/media//gmobot/Expansio_15/Expansion_15/GWAS_Transformation/GTCCC/wk9</td><td>GTCCC                                                                </td><td>wk9                                                                  </td></tr>\n",
       "\t<tr><th scope=row>119</th><td>/media//gmobot/Elements/GWAS_Transformation/GTDD/wk12                </td><td>GTDD                                                                 </td><td>wk12                                                                 </td></tr>\n",
       "\t<tr><th scope=row>135</th><td>/media//gmobot/Expansio_15/Expansion_15/GWAS_Transformation/GTDDD/wk8</td><td>GTDDD                                                                </td><td>wk8                                                                  </td></tr>\n",
       "\t<tr><th scope=row>120</th><td>/media//gmobot/Elements/GWAS_Transformation/GTEE/wk13                </td><td>GTEE                                                                 </td><td>wk13                                                                 </td></tr>\n",
       "\t<tr><th scope=row>123</th><td>/media//gmobot/Elements/GWAS_Transformation/GTGG/wk8                 </td><td>GTGG                                                                 </td><td>wk8                                                                  </td></tr>\n",
       "\t<tr><th scope=row>125</th><td>/media//gmobot/Elements/GWAS_Transformation/GTII/wk5                 </td><td>GTII                                                                 </td><td>wk5                                                                  </td></tr>\n",
       "\t<tr><th scope=row>68</th><td>/media//gmobot/Elements_13/Elements_13/GWAS_Transformation/GTJJ/wk4  </td><td>GTJJ                                                                 </td><td>wk4                                                                  </td></tr>\n",
       "</tbody>\n",
       "</table>\n"
      ],
      "text/latex": [
       "\\begin{tabular}{r|lll}\n",
       "  & dirs & phase & timepoint\\\\\n",
       "\\hline\n",
       "\t118 & /media//gmobot/Elements/GWAS\\_Transformation/GTCC/wk13                 & GTCC                                                                    & wk13                                                                   \\\\\n",
       "\t133 & /media//gmobot/Expansio\\_15/Expansion\\_15/GWAS\\_Transformation/GTCCC/wk9 & GTCCC                                                                       & wk9                                                                        \\\\\n",
       "\t119 & /media//gmobot/Elements/GWAS\\_Transformation/GTDD/wk12                 & GTDD                                                                    & wk12                                                                   \\\\\n",
       "\t135 & /media//gmobot/Expansio\\_15/Expansion\\_15/GWAS\\_Transformation/GTDDD/wk8 & GTDDD                                                                       & wk8                                                                        \\\\\n",
       "\t120 & /media//gmobot/Elements/GWAS\\_Transformation/GTEE/wk13                 & GTEE                                                                    & wk13                                                                   \\\\\n",
       "\t123 & /media//gmobot/Elements/GWAS\\_Transformation/GTGG/wk8                  & GTGG                                                                    & wk8                                                                    \\\\\n",
       "\t125 & /media//gmobot/Elements/GWAS\\_Transformation/GTII/wk5                  & GTII                                                                    & wk5                                                                    \\\\\n",
       "\t68 & /media//gmobot/Elements\\_13/Elements\\_13/GWAS\\_Transformation/GTJJ/wk4   & GTJJ                                                                        & wk4                                                                        \\\\\n",
       "\\end{tabular}\n"
      ],
      "text/markdown": [
       "\n",
       "| <!--/--> | dirs | phase | timepoint |\n",
       "|---|---|---|---|\n",
       "| 118 | /media//gmobot/Elements/GWAS_Transformation/GTCC/wk13                 | GTCC                                                                  | wk13                                                                  |\n",
       "| 133 | /media//gmobot/Expansio_15/Expansion_15/GWAS_Transformation/GTCCC/wk9 | GTCCC                                                                 | wk9                                                                   |\n",
       "| 119 | /media//gmobot/Elements/GWAS_Transformation/GTDD/wk12                 | GTDD                                                                  | wk12                                                                  |\n",
       "| 135 | /media//gmobot/Expansio_15/Expansion_15/GWAS_Transformation/GTDDD/wk8 | GTDDD                                                                 | wk8                                                                   |\n",
       "| 120 | /media//gmobot/Elements/GWAS_Transformation/GTEE/wk13                 | GTEE                                                                  | wk13                                                                  |\n",
       "| 123 | /media//gmobot/Elements/GWAS_Transformation/GTGG/wk8                  | GTGG                                                                  | wk8                                                                   |\n",
       "| 125 | /media//gmobot/Elements/GWAS_Transformation/GTII/wk5                  | GTII                                                                  | wk5                                                                   |\n",
       "| 68 | /media//gmobot/Elements_13/Elements_13/GWAS_Transformation/GTJJ/wk4   | GTJJ                                                                  | wk4                                                                   |\n",
       "\n"
      ],
      "text/plain": [
       "    dirs                                                                  phase\n",
       "118 /media//gmobot/Elements/GWAS_Transformation/GTCC/wk13                 GTCC \n",
       "133 /media//gmobot/Expansio_15/Expansion_15/GWAS_Transformation/GTCCC/wk9 GTCCC\n",
       "119 /media//gmobot/Elements/GWAS_Transformation/GTDD/wk12                 GTDD \n",
       "135 /media//gmobot/Expansio_15/Expansion_15/GWAS_Transformation/GTDDD/wk8 GTDDD\n",
       "120 /media//gmobot/Elements/GWAS_Transformation/GTEE/wk13                 GTEE \n",
       "123 /media//gmobot/Elements/GWAS_Transformation/GTGG/wk8                  GTGG \n",
       "125 /media//gmobot/Elements/GWAS_Transformation/GTII/wk5                  GTII \n",
       "68  /media//gmobot/Elements_13/Elements_13/GWAS_Transformation/GTJJ/wk4   GTJJ \n",
       "    timepoint\n",
       "118 wk13     \n",
       "133 wk9      \n",
       "119 wk12     \n",
       "135 wk8      \n",
       "120 wk13     \n",
       "123 wk8      \n",
       "125 wk5      \n",
       "68  wk4      "
      ]
     },
     "metadata": {},
     "output_type": "display_data"
    }
   ],
   "source": [
    "df[which(df$timepoint != \"wk3\" &\n",
    "         df$timepoint != \"wk7\" &\n",
    "         df$timepoint != \"wk10\"), ]"
   ]
  },
  {
   "cell_type": "code",
   "execution_count": 25,
   "id": "7eec4f36-741b-44cf-aa98-bb00a0f9fa24",
   "metadata": {},
   "outputs": [],
   "source": [
    "timepoints <- c(\"wk3\", \"wk7\", \"wk10\")"
   ]
  },
  {
   "cell_type": "code",
   "execution_count": 26,
   "id": "5d972ad2-b931-4c06-9478-79b8781af4f9",
   "metadata": {},
   "outputs": [],
   "source": [
    "for(phase in phases){\n",
    "    for(timepoint in timepoints){\n",
    "        this_phase_timepoint <- df[which(df$phase == phase &\n",
    "                                         df$timepoint == timepoint), ]\n",
    "        if(nrow(this_phase_timepoint) == 0){\n",
    "            to_append <- data.frame(dirs = c(\"Missing\"),\n",
    "                                    phase = c(phase),\n",
    "                                    timepoint = c(timepoint))\n",
    "            df <- rbind(df, to_append)\n",
    "            }\n",
    "        }\n",
    "    }"
   ]
  },
  {
   "cell_type": "code",
   "execution_count": 27,
   "id": "ed85f53f-ff30-4b2d-99ef-7495f74164c9",
   "metadata": {},
   "outputs": [],
   "source": [
    "df$phase_timepoint <- paste0(df$phase, \"_\", df$timepoint)"
   ]
  },
  {
   "cell_type": "code",
   "execution_count": 28,
   "id": "7218ec8d-126e-4814-9e59-f4a08144d544",
   "metadata": {},
   "outputs": [],
   "source": [
    "df$is_duplicated <- duplicated(df$phase_timepoint)"
   ]
  },
  {
   "cell_type": "code",
   "execution_count": 29,
   "id": "763c6fdc-e8e6-4395-81a1-2d18e246e3f6",
   "metadata": {},
   "outputs": [],
   "source": [
    "df <- df[order(df$phase, df$timepoint, df$dirs), ]"
   ]
  },
  {
   "cell_type": "code",
   "execution_count": 30,
   "id": "e8dd3d94-1d6d-4a1a-bb9d-46e8d6c68925",
   "metadata": {},
   "outputs": [],
   "source": [
    "library(data.table)"
   ]
  },
  {
   "cell_type": "code",
   "execution_count": 31,
   "id": "dbb17165-959c-4669-afd5-28d9063edcab",
   "metadata": {},
   "outputs": [],
   "source": [
    "fwrite(df, \"1-OUT_paths_phases_timepoint_to_inspect_a4.csv\")"
   ]
  },
  {
   "cell_type": "markdown",
   "id": "47e7bf91-ad0d-4178-84fa-5f00d6b6e4c8",
   "metadata": {},
   "source": [
    "## Search for missing data"
   ]
  },
  {
   "cell_type": "code",
   "execution_count": 32,
   "id": "5fb5a95b-703c-4a92-ae3a-67594232b2f6",
   "metadata": {},
   "outputs": [
    {
     "data": {
      "text/html": [
       "<table>\n",
       "<thead><tr><th></th><th scope=col>dirs</th><th scope=col>phase</th><th scope=col>timepoint</th><th scope=col>phase_timepoint</th><th scope=col>is_duplicated</th></tr></thead>\n",
       "<tbody>\n",
       "\t<tr><th scope=row>9</th><td>/media//gmobot/easystore/GWAS_Transformation/GTAA/wk10                </td><td>GTAA                                                                  </td><td>wk10                                                                  </td><td>GTAA_wk10                                                             </td><td>FALSE                                                                 </td></tr>\n",
       "\t<tr><th scope=row>10</th><td>/media//gmobot/easystore/GWAS_Transformation/GTAA/wk3                 </td><td>GTAA                                                                  </td><td>wk3                                                                   </td><td>GTAA_wk3                                                              </td><td>FALSE                                                                 </td></tr>\n",
       "\t<tr><th scope=row>11</th><td>/media//gmobot/easystore/GWAS_Transformation/GTAA/wk7                 </td><td>GTAA                                                                  </td><td>wk7                                                                   </td><td>GTAA_wk7                                                              </td><td>FALSE                                                                 </td></tr>\n",
       "\t<tr><th scope=row>127</th><td>/media//gmobot/Expansio_15/Expansion_15/GWAS_Transformation/GTAAA/wk10</td><td>GTAAA                                                                 </td><td>wk10                                                                  </td><td>GTAAA_wk10                                                            </td><td>FALSE                                                                 </td></tr>\n",
       "\t<tr><th scope=row>128</th><td>/media//gmobot/Expansio_15/Expansion_15/GWAS_Transformation/GTAAA/wk3 </td><td>GTAAA                                                                 </td><td>wk3                                                                   </td><td>GTAAA_wk3                                                             </td><td>FALSE                                                                 </td></tr>\n",
       "\t<tr><th scope=row>129</th><td>/media//gmobot/Expansio_15/Expansion_15/GWAS_Transformation/GTAAA/wk7 </td><td>GTAAA                                                                 </td><td>wk7                                                                   </td><td>GTAAA_wk7                                                             </td><td>FALSE                                                                 </td></tr>\n",
       "</tbody>\n",
       "</table>\n"
      ],
      "text/latex": [
       "\\begin{tabular}{r|lllll}\n",
       "  & dirs & phase & timepoint & phase\\_timepoint & is\\_duplicated\\\\\n",
       "\\hline\n",
       "\t9 & /media//gmobot/easystore/GWAS\\_Transformation/GTAA/wk10                 & GTAA                                                                     & wk10                                                                     & GTAA\\_wk10                                                              & FALSE                                                                   \\\\\n",
       "\t10 & /media//gmobot/easystore/GWAS\\_Transformation/GTAA/wk3                  & GTAA                                                                     & wk3                                                                      & GTAA\\_wk3                                                               & FALSE                                                                   \\\\\n",
       "\t11 & /media//gmobot/easystore/GWAS\\_Transformation/GTAA/wk7                  & GTAA                                                                     & wk7                                                                      & GTAA\\_wk7                                                               & FALSE                                                                   \\\\\n",
       "\t127 & /media//gmobot/Expansio\\_15/Expansion\\_15/GWAS\\_Transformation/GTAAA/wk10 & GTAAA                                                                        & wk10                                                                         & GTAAA\\_wk10                                                                 & FALSE                                                                       \\\\\n",
       "\t128 & /media//gmobot/Expansio\\_15/Expansion\\_15/GWAS\\_Transformation/GTAAA/wk3  & GTAAA                                                                        & wk3                                                                          & GTAAA\\_wk3                                                                  & FALSE                                                                       \\\\\n",
       "\t129 & /media//gmobot/Expansio\\_15/Expansion\\_15/GWAS\\_Transformation/GTAAA/wk7  & GTAAA                                                                        & wk7                                                                          & GTAAA\\_wk7                                                                  & FALSE                                                                       \\\\\n",
       "\\end{tabular}\n"
      ],
      "text/markdown": [
       "\n",
       "| <!--/--> | dirs | phase | timepoint | phase_timepoint | is_duplicated |\n",
       "|---|---|---|---|---|---|\n",
       "| 9 | /media//gmobot/easystore/GWAS_Transformation/GTAA/wk10                 | GTAA                                                                   | wk10                                                                   | GTAA_wk10                                                              | FALSE                                                                  |\n",
       "| 10 | /media//gmobot/easystore/GWAS_Transformation/GTAA/wk3                  | GTAA                                                                   | wk3                                                                    | GTAA_wk3                                                               | FALSE                                                                  |\n",
       "| 11 | /media//gmobot/easystore/GWAS_Transformation/GTAA/wk7                  | GTAA                                                                   | wk7                                                                    | GTAA_wk7                                                               | FALSE                                                                  |\n",
       "| 127 | /media//gmobot/Expansio_15/Expansion_15/GWAS_Transformation/GTAAA/wk10 | GTAAA                                                                  | wk10                                                                   | GTAAA_wk10                                                             | FALSE                                                                  |\n",
       "| 128 | /media//gmobot/Expansio_15/Expansion_15/GWAS_Transformation/GTAAA/wk3  | GTAAA                                                                  | wk3                                                                    | GTAAA_wk3                                                              | FALSE                                                                  |\n",
       "| 129 | /media//gmobot/Expansio_15/Expansion_15/GWAS_Transformation/GTAAA/wk7  | GTAAA                                                                  | wk7                                                                    | GTAAA_wk7                                                              | FALSE                                                                  |\n",
       "\n"
      ],
      "text/plain": [
       "    dirs                                                                  \n",
       "9   /media//gmobot/easystore/GWAS_Transformation/GTAA/wk10                \n",
       "10  /media//gmobot/easystore/GWAS_Transformation/GTAA/wk3                 \n",
       "11  /media//gmobot/easystore/GWAS_Transformation/GTAA/wk7                 \n",
       "127 /media//gmobot/Expansio_15/Expansion_15/GWAS_Transformation/GTAAA/wk10\n",
       "128 /media//gmobot/Expansio_15/Expansion_15/GWAS_Transformation/GTAAA/wk3 \n",
       "129 /media//gmobot/Expansio_15/Expansion_15/GWAS_Transformation/GTAAA/wk7 \n",
       "    phase timepoint phase_timepoint is_duplicated\n",
       "9   GTAA  wk10      GTAA_wk10       FALSE        \n",
       "10  GTAA  wk3       GTAA_wk3        FALSE        \n",
       "11  GTAA  wk7       GTAA_wk7        FALSE        \n",
       "127 GTAAA wk10      GTAAA_wk10      FALSE        \n",
       "128 GTAAA wk3       GTAAA_wk3       FALSE        \n",
       "129 GTAAA wk7       GTAAA_wk7       FALSE        "
      ]
     },
     "metadata": {},
     "output_type": "display_data"
    }
   ],
   "source": [
    "head(df)"
   ]
  },
  {
   "cell_type": "code",
   "execution_count": 33,
   "id": "ec8aa91a-282c-4a40-a942-8603b871a714",
   "metadata": {},
   "outputs": [],
   "source": [
    "missing <- df[which(df$dirs == \"Missing\"), ]"
   ]
  },
  {
   "cell_type": "code",
   "execution_count": 34,
   "id": "369f507d-9547-4357-bf43-22324fc3c6e1",
   "metadata": {},
   "outputs": [],
   "source": [
    "missing_strings_to_search_for <- paste0(missing$phase, \"/\", missing$timepoint)"
   ]
  },
  {
   "cell_type": "code",
   "execution_count": 35,
   "id": "d7a22a9d-7a51-4c43-9db8-4e5e238f670e",
   "metadata": {
    "tags": []
   },
   "outputs": [
    {
     "data": {
      "text/html": [
       "<ol class=list-inline>\n",
       "\t<li>'GTCC/wk10'</li>\n",
       "\t<li>'GTCCC/wk7'</li>\n",
       "\t<li>'GTDD/wk10'</li>\n",
       "\t<li>'GTDDD/wk7'</li>\n",
       "\t<li>'GTEE/wk10'</li>\n",
       "\t<li>'GTFF/wk7'</li>\n",
       "\t<li>'GTFFF/wk10'</li>\n",
       "\t<li>'GTGG/wk7'</li>\n",
       "\t<li>'GTGGG/wk10'</li>\n",
       "\t<li>'GTHHH/wk10'</li>\n",
       "\t<li>'GTII/wk3'</li>\n",
       "\t<li>'GTIII/wk10'</li>\n",
       "\t<li>'GTIII/wk7'</li>\n",
       "\t<li>'GTJJ/wk3'</li>\n",
       "\t<li>'GTJJJ/wk10'</li>\n",
       "\t<li>'GTJJJ/wk7'</li>\n",
       "</ol>\n"
      ],
      "text/latex": [
       "\\begin{enumerate*}\n",
       "\\item 'GTCC/wk10'\n",
       "\\item 'GTCCC/wk7'\n",
       "\\item 'GTDD/wk10'\n",
       "\\item 'GTDDD/wk7'\n",
       "\\item 'GTEE/wk10'\n",
       "\\item 'GTFF/wk7'\n",
       "\\item 'GTFFF/wk10'\n",
       "\\item 'GTGG/wk7'\n",
       "\\item 'GTGGG/wk10'\n",
       "\\item 'GTHHH/wk10'\n",
       "\\item 'GTII/wk3'\n",
       "\\item 'GTIII/wk10'\n",
       "\\item 'GTIII/wk7'\n",
       "\\item 'GTJJ/wk3'\n",
       "\\item 'GTJJJ/wk10'\n",
       "\\item 'GTJJJ/wk7'\n",
       "\\end{enumerate*}\n"
      ],
      "text/markdown": [
       "1. 'GTCC/wk10'\n",
       "2. 'GTCCC/wk7'\n",
       "3. 'GTDD/wk10'\n",
       "4. 'GTDDD/wk7'\n",
       "5. 'GTEE/wk10'\n",
       "6. 'GTFF/wk7'\n",
       "7. 'GTFFF/wk10'\n",
       "8. 'GTGG/wk7'\n",
       "9. 'GTGGG/wk10'\n",
       "10. 'GTHHH/wk10'\n",
       "11. 'GTII/wk3'\n",
       "12. 'GTIII/wk10'\n",
       "13. 'GTIII/wk7'\n",
       "14. 'GTJJ/wk3'\n",
       "15. 'GTJJJ/wk10'\n",
       "16. 'GTJJJ/wk7'\n",
       "\n",
       "\n"
      ],
      "text/plain": [
       " [1] \"GTCC/wk10\"  \"GTCCC/wk7\"  \"GTDD/wk10\"  \"GTDDD/wk7\"  \"GTEE/wk10\" \n",
       " [6] \"GTFF/wk7\"   \"GTFFF/wk10\" \"GTGG/wk7\"   \"GTGGG/wk10\" \"GTHHH/wk10\"\n",
       "[11] \"GTII/wk3\"   \"GTIII/wk10\" \"GTIII/wk7\"  \"GTJJ/wk3\"   \"GTJJJ/wk10\"\n",
       "[16] \"GTJJJ/wk7\" "
      ]
     },
     "metadata": {},
     "output_type": "display_data"
    }
   ],
   "source": [
    "missing_strings_to_search_for"
   ]
  },
  {
   "cell_type": "code",
   "execution_count": 36,
   "id": "655e7c84-cc23-4aa7-a8ff-0cdcaeadb5c1",
   "metadata": {},
   "outputs": [],
   "source": [
    "all_files <- files <- list.files(\"/media/\",\n",
    "                    recursive = TRUE,\n",
    "                    full.names = TRUE)"
   ]
  },
  {
   "cell_type": "code",
   "execution_count": 37,
   "id": "abdb23a4-721a-4fb5-aa05-45d67d2a0b9b",
   "metadata": {},
   "outputs": [],
   "source": [
    "all_dirs <- unique(dirname(all_files))"
   ]
  },
  {
   "cell_type": "markdown",
   "id": "6b4a7f2a-80a6-4327-9c87-dfe173379852",
   "metadata": {},
   "source": [
    "We will employ the method found here to search for strings in a vectors that contain any subtring in another vector"
   ]
  },
  {
   "cell_type": "code",
   "execution_count": 38,
   "id": "0fc14e4d-fce5-41a0-997a-af5476a1e90a",
   "metadata": {},
   "outputs": [],
   "source": [
    "pattern = paste(missing_strings_to_search_for, collapse = \"|\")"
   ]
  },
  {
   "cell_type": "code",
   "execution_count": 39,
   "id": "fcdeb997-05cc-4c15-9eb7-f5996190fe40",
   "metadata": {},
   "outputs": [],
   "source": [
    "dt_results <- data.table(all_dirs, result=grepl(pattern, all_dirs))"
   ]
  },
  {
   "cell_type": "code",
   "execution_count": 40,
   "id": "9d0f29d1-fc37-4332-ad4f-f19bb19f5873",
   "metadata": {},
   "outputs": [
    {
     "name": "stdout",
     "output_type": "stream",
     "text": [
      "Empty data.table (0 rows and 2 cols): all_dirs,result\n"
     ]
    }
   ],
   "source": [
    "print(dt_results[which(result == TRUE), ])"
   ]
  },
  {
   "cell_type": "code",
   "execution_count": null,
   "id": "0075371d-9e4b-4a0b-b104-194ef86b7580",
   "metadata": {},
   "outputs": [],
   "source": []
  }
 ],
 "metadata": {
  "kernelspec": {
   "display_name": "R 4.1",
   "language": "R",
   "name": "ir41"
  },
  "language_info": {
   "codemirror_mode": "r",
   "file_extension": ".r",
   "mimetype": "text/x-r-source",
   "name": "R",
   "pygments_lexer": "r",
   "version": "3.6.1"
  }
 },
 "nbformat": 4,
 "nbformat_minor": 5
}
