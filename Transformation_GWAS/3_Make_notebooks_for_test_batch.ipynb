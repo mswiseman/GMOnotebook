{
 "cells": [
  {
   "cell_type": "markdown",
   "id": "745ed19a-0762-4d48-bf83-8cda073f25b5",
   "metadata": {},
   "source": [
    "# Prepare Jupyter notebooks for each batch"
   ]
  },
  {
   "cell_type": "code",
   "execution_count": 1,
   "id": "a5e95f4a-d17c-4c6b-876a-3e5d72438d3e",
   "metadata": {},
   "outputs": [],
   "source": [
    "library(data.table)"
   ]
  },
  {
   "cell_type": "markdown",
   "id": "76eb3aa5-af55-4c5b-9de1-fc7f3ee07a17",
   "metadata": {},
   "source": [
    "## Load dataframe of batches and parameters"
   ]
  },
  {
   "cell_type": "code",
   "execution_count": 2,
   "id": "15aac8dd-17ed-45b7-a256-fdb5ac819f2f",
   "metadata": {},
   "outputs": [],
   "source": [
    "df <- fread(\"2-OUT_paths_parameters_test_batch.csv\")"
   ]
  },
  {
   "cell_type": "markdown",
   "id": "b40f0f82-0132-42f8-b995-71b3ee4fd712",
   "metadata": {},
   "source": [
    "## Initiate files from template"
   ]
  },
  {
   "cell_type": "code",
   "execution_count": 3,
   "id": "dc9a86de-46c8-4403-b59b-fb056529b939",
   "metadata": {},
   "outputs": [],
   "source": [
    "df$filenames <- paste0(\"3-OUT_Test-batch_notebooks/\",\n",
    "                       df$phase_timepoint,\n",
    "                       \"_test-batch_v0.5.ipynb\")"
   ]
  },
  {
   "cell_type": "code",
   "execution_count": 4,
   "id": "f939a010-854a-4a36-80dd-56c10fc19659",
   "metadata": {},
   "outputs": [
    {
     "data": {
      "text/html": [
       "<ol class=list-inline>\n",
       "\t<li>'3-OUT_Test-batch_notebooks/GTW_wk10_test-batch_v0.5.ipynb'</li>\n",
       "\t<li>'3-OUT_Test-batch_notebooks/GTDD_wk3_test-batch_v0.5.ipynb'</li>\n",
       "\t<li>'3-OUT_Test-batch_notebooks/GTFF_wk10_test-batch_v0.5.ipynb'</li>\n",
       "\t<li>'3-OUT_Test-batch_notebooks/GTUU_wk3_test-batch_v0.5.ipynb'</li>\n",
       "\t<li>'3-OUT_Test-batch_notebooks/GTC_wk7_test-batch_v0.5.ipynb'</li>\n",
       "\t<li>'3-OUT_Test-batch_notebooks/GTE_wk3_test-batch_v0.5.ipynb'</li>\n",
       "</ol>\n"
      ],
      "text/latex": [
       "\\begin{enumerate*}\n",
       "\\item '3-OUT\\_Test-batch\\_notebooks/GTW\\_wk10\\_test-batch\\_v0.5.ipynb'\n",
       "\\item '3-OUT\\_Test-batch\\_notebooks/GTDD\\_wk3\\_test-batch\\_v0.5.ipynb'\n",
       "\\item '3-OUT\\_Test-batch\\_notebooks/GTFF\\_wk10\\_test-batch\\_v0.5.ipynb'\n",
       "\\item '3-OUT\\_Test-batch\\_notebooks/GTUU\\_wk3\\_test-batch\\_v0.5.ipynb'\n",
       "\\item '3-OUT\\_Test-batch\\_notebooks/GTC\\_wk7\\_test-batch\\_v0.5.ipynb'\n",
       "\\item '3-OUT\\_Test-batch\\_notebooks/GTE\\_wk3\\_test-batch\\_v0.5.ipynb'\n",
       "\\end{enumerate*}\n"
      ],
      "text/markdown": [
       "1. '3-OUT_Test-batch_notebooks/GTW_wk10_test-batch_v0.5.ipynb'\n",
       "2. '3-OUT_Test-batch_notebooks/GTDD_wk3_test-batch_v0.5.ipynb'\n",
       "3. '3-OUT_Test-batch_notebooks/GTFF_wk10_test-batch_v0.5.ipynb'\n",
       "4. '3-OUT_Test-batch_notebooks/GTUU_wk3_test-batch_v0.5.ipynb'\n",
       "5. '3-OUT_Test-batch_notebooks/GTC_wk7_test-batch_v0.5.ipynb'\n",
       "6. '3-OUT_Test-batch_notebooks/GTE_wk3_test-batch_v0.5.ipynb'\n",
       "\n",
       "\n"
      ],
      "text/plain": [
       "[1] \"3-OUT_Test-batch_notebooks/GTW_wk10_test-batch_v0.5.ipynb\" \n",
       "[2] \"3-OUT_Test-batch_notebooks/GTDD_wk3_test-batch_v0.5.ipynb\" \n",
       "[3] \"3-OUT_Test-batch_notebooks/GTFF_wk10_test-batch_v0.5.ipynb\"\n",
       "[4] \"3-OUT_Test-batch_notebooks/GTUU_wk3_test-batch_v0.5.ipynb\" \n",
       "[5] \"3-OUT_Test-batch_notebooks/GTC_wk7_test-batch_v0.5.ipynb\"  \n",
       "[6] \"3-OUT_Test-batch_notebooks/GTE_wk3_test-batch_v0.5.ipynb\"  "
      ]
     },
     "metadata": {},
     "output_type": "display_data"
    }
   ],
   "source": [
    "df$filenames"
   ]
  },
  {
   "cell_type": "code",
   "execution_count": 5,
   "id": "c94cd8f6-2016-46f4-82f3-ec5ee0889793",
   "metadata": {},
   "outputs": [],
   "source": [
    "for(filename in df$filenames){\n",
    "    file.copy(\"Batch-automatic-template_v0.5.ipynb\",\n",
    "              df$filename,\n",
    "              overwrite = TRUE)\n",
    "}"
   ]
  },
  {
   "cell_type": "markdown",
   "id": "d18809ec-9808-4681-80c7-f56e25965d29",
   "metadata": {},
   "source": [
    "## Replace dummy strings with desired paths/parameters"
   ]
  },
  {
   "cell_type": "markdown",
   "id": "49c184bd-e6b2-4ac7-8843-d2367c69dd41",
   "metadata": {},
   "source": [
    "A good way to do this is using `sed` in `bash`, via R's `system` function."
   ]
  },
  {
   "cell_type": "markdown",
   "id": "740c24fd-1fe0-4252-8b39-fc1e9464ca78",
   "metadata": {},
   "source": [
    "Example `sed` find and replace command:"
   ]
  },
  {
   "cell_type": "raw",
   "id": "104bda7e-2588-4162-92d3-381c4c375882",
   "metadata": {},
   "source": [
    "sed -i -e 's/abc/XYZ/g' /tmp/file.txt"
   ]
  },
  {
   "cell_type": "markdown",
   "id": "7dd421ac-0e21-4f6d-b218-54c107622d32",
   "metadata": {},
   "source": [
    "To use `system` in R, we simply pass the desired command to `system` as a string."
   ]
  },
  {
   "cell_type": "code",
   "execution_count": 6,
   "id": "b4e29fdd-44d6-4042-a288-67d3967bb5c2",
   "metadata": {},
   "outputs": [],
   "source": [
    "strings <- fread(\"3-IN_strings_to_replace.csv\")"
   ]
  },
  {
   "cell_type": "code",
   "execution_count": 7,
   "id": "c693c96c-e49b-4712-8465-8c2e490c8186",
   "metadata": {},
   "outputs": [],
   "source": [
    "filenames <- df$filenames"
   ]
  },
  {
   "cell_type": "code",
   "execution_count": 8,
   "id": "a2f454e6-373d-4a05-a212-30bcfe8cb233",
   "metadata": {},
   "outputs": [],
   "source": [
    "df_partial <- df[, c(5, 30, 31, 27, 28, 29, 16, 17)]"
   ]
  },
  {
   "cell_type": "code",
   "execution_count": 9,
   "id": "11680d36-f04a-403b-84c7-2b12f6143b1c",
   "metadata": {},
   "outputs": [],
   "source": [
    "df_partial$homography <- df_partial$hypercube_csv <- \n",
    "df_partial$aligned_grid <- \"Automatic\""
   ]
  },
  {
   "cell_type": "code",
   "execution_count": 10,
   "id": "b764e2c1-fc88-44a9-90fa-df74aeda4e01",
   "metadata": {},
   "outputs": [],
   "source": [
    "df_partial$randomization_datasheet <- paste0(\"/home/gmobot/GMOnotebook/Transformation_GWAS/\",\n",
    "                                     df_partial$randomization_datasheet)"
   ]
  },
  {
   "cell_type": "code",
   "execution_count": 11,
   "id": "b7dec43f-7792-4ef4-a1e7-33b395661d27",
   "metadata": {},
   "outputs": [],
   "source": [
    "t_df_partial <- t(df_partial)"
   ]
  },
  {
   "cell_type": "code",
   "execution_count": 12,
   "id": "7a71f18e-4b6c-4f42-bec7-56a00ffe6ecc",
   "metadata": {
    "tags": []
   },
   "outputs": [
    {
     "data": {
      "text/html": [
       "<table>\n",
       "<tbody>\n",
       "\t<tr><th scope=row>phase_timepoint</th><td>GTW_wk10                                                                                                               </td><td>GTDD_wk3                                                                                                               </td><td>GTFF_wk10                                                                                                              </td><td>GTUU_wk3                                                                                                               </td><td>GTC_wk7                                                                                                                </td><td>GTE_wk3                                                                                                                </td></tr>\n",
       "\t<tr><th scope=row>data_prefix</th><td>/media//gmobot/easystore/                                                                                              </td><td>/media//gmobot/Easystore_longerm_storage_2/                                                                            </td><td>/media//gmobot/Elements_13/Elements_13/                                                                                </td><td>/media//gmobot/Elements_14/Elements_14/                                                                                </td><td>/media//gmobot/Elements_9/                                                                                             </td><td>/media//gmobot/Elements_8/GoogleDrive/Images_Elements_8/                                                               </td></tr>\n",
       "\t<tr><th scope=row>data_suffix</th><td>GWAS_Transformation/GTW/wk10/                                                                                          </td><td>GWAS_Transformation/GTDD/wk3/                                                                                          </td><td>GWAS_Transformation/GTFF/wk10/                                                                                         </td><td>GWAS_Transformation/GTUU/wk3/                                                                                          </td><td>GWAS_Transformation/GTC/wk7/                                                                                           </td><td>GWAS_Transformation/GTE/wk3/                                                                                           </td></tr>\n",
       "\t<tr><th scope=row>randomization_datasheet</th><td>/home/gmobot/GMOnotebook/Transformation_GWAS/Randomization_datasheets//GTW_32_genotypes_labels.xlsx                    </td><td>/home/gmobot/GMOnotebook/Transformation_GWAS/Randomization_datasheets//GTDD_16_genotypes_labels.xlsx                   </td><td>/home/gmobot/GMOnotebook/Transformation_GWAS/Randomization_datasheets//GTFF_adds_labels.xlsx                           </td><td>/home/gmobot/GMOnotebook/Transformation_GWAS/Randomization_datasheets//GTUU_8_genotypes_01.19.22-01.21.22_labels.xlsx  </td><td>/home/gmobot/GMOnotebook/Transformation_GWAS/Randomization_datasheets//GTC_32_genotypes_12.01.20_labels.xlsx           </td><td>/home/gmobot/GMOnotebook/Transformation_GWAS/Randomization_datasheets//GTE_32_genotypes_12.17.20_randomized_labels.xlsx</td></tr>\n",
       "\t<tr><th scope=row>pre_aligned_resized_grid_borders</th><td>230,469.5,1688,1584                                                                                                    </td><td>267,504,1722,1613                                                                                                      </td><td>240,501,1701,1617                                                                                                      </td><td>221,486,1682,1602                                                                                                      </td><td>277,439,1725,1540                                                                                                      </td><td>270,432,1710,1527                                                                                                      </td></tr>\n",
       "\t<tr><th scope=row>aligned_grid_borders</th><td>98 1254 1228 280                                                                                                       </td><td>128 1284 1278 346                                                                                                      </td><td>109 1266 1280 342                                                                                                      </td><td>95 1246 1266 330                                                                                                       </td><td>99 1252 1227 285                                                                                                       </td><td>100 1252 1225 283                                                                                                      </td></tr>\n",
       "\t<tr><th scope=row>D</th><td>0.66                                                                                                                   </td><td>0.60                                                                                                                   </td><td>0.55                                                                                                                   </td><td>0.50                                                                                                                   </td><td>0.52                                                                                                                   </td><td>0.54                                                                                                                   </td></tr>\n",
       "\t<tr><th scope=row>GS</th><td>0.72                                                                                                                   </td><td>0.85                                                                                                                   </td><td>0.65                                                                                                                   </td><td>0.60                                                                                                                   </td><td>0.62                                                                                                                   </td><td>0.70                                                                                                                   </td></tr>\n",
       "\t<tr><th scope=row>aligned_grid</th><td>Automatic                                                                                                              </td><td>Automatic                                                                                                              </td><td>Automatic                                                                                                              </td><td>Automatic                                                                                                              </td><td>Automatic                                                                                                              </td><td>Automatic                                                                                                              </td></tr>\n",
       "\t<tr><th scope=row>hypercube_csv</th><td>Automatic                                                                                                              </td><td>Automatic                                                                                                              </td><td>Automatic                                                                                                              </td><td>Automatic                                                                                                              </td><td>Automatic                                                                                                              </td><td>Automatic                                                                                                              </td></tr>\n",
       "\t<tr><th scope=row>homography</th><td>Automatic                                                                                                              </td><td>Automatic                                                                                                              </td><td>Automatic                                                                                                              </td><td>Automatic                                                                                                              </td><td>Automatic                                                                                                              </td><td>Automatic                                                                                                              </td></tr>\n",
       "</tbody>\n",
       "</table>\n"
      ],
      "text/latex": [
       "\\begin{tabular}{r|llllll}\n",
       "\tphase\\_timepoint & GTW\\_wk10                                                                                                                & GTDD\\_wk3                                                                                                                & GTFF\\_wk10                                                                                                               & GTUU\\_wk3                                                                                                                & GTC\\_wk7                                                                                                                 & GTE\\_wk3                                                                                                                \\\\\n",
       "\tdata\\_prefix & /media//gmobot/easystore/                                                                                                     & /media//gmobot/Easystore\\_longerm\\_storage\\_2/                                                                             & /media//gmobot/Elements\\_13/Elements\\_13/                                                                                   & /media//gmobot/Elements\\_14/Elements\\_14/                                                                                   & /media//gmobot/Elements\\_9/                                                                                                  & /media//gmobot/Elements\\_8/GoogleDrive/Images\\_Elements\\_8/                                                               \\\\\n",
       "\tdata\\_suffix & GWAS\\_Transformation/GTW/wk10/                                                                                           & GWAS\\_Transformation/GTDD/wk3/                                                                                           & GWAS\\_Transformation/GTFF/wk10/                                                                                          & GWAS\\_Transformation/GTUU/wk3/                                                                                           & GWAS\\_Transformation/GTC/wk7/                                                                                            & GWAS\\_Transformation/GTE/wk3/                                                                                           \\\\\n",
       "\trandomization\\_datasheet & /home/gmobot/GMOnotebook/Transformation\\_GWAS/Randomization\\_datasheets//GTW\\_32\\_genotypes\\_labels.xlsx                         & /home/gmobot/GMOnotebook/Transformation\\_GWAS/Randomization\\_datasheets//GTDD\\_16\\_genotypes\\_labels.xlsx                        & /home/gmobot/GMOnotebook/Transformation\\_GWAS/Randomization\\_datasheets//GTFF\\_adds\\_labels.xlsx                                  & /home/gmobot/GMOnotebook/Transformation\\_GWAS/Randomization\\_datasheets//GTUU\\_8\\_genotypes\\_01.19.22-01.21.22\\_labels.xlsx     & /home/gmobot/GMOnotebook/Transformation\\_GWAS/Randomization\\_datasheets//GTC\\_32\\_genotypes\\_12.01.20\\_labels.xlsx              & /home/gmobot/GMOnotebook/Transformation\\_GWAS/Randomization\\_datasheets//GTE\\_32\\_genotypes\\_12.17.20\\_randomized\\_labels.xlsx\\\\\n",
       "\tpre\\_aligned\\_resized\\_grid\\_borders & 230,469.5,1688,1584                                                                                                     & 267,504,1722,1613                                                                                                       & 240,501,1701,1617                                                                                                       & 221,486,1682,1602                                                                                                       & 277,439,1725,1540                                                                                                       & 270,432,1710,1527                                                                                                      \\\\\n",
       "\taligned\\_grid\\_borders & 98 1254 1228 280                                                                                                        & 128 1284 1278 346                                                                                                       & 109 1266 1280 342                                                                                                       & 95 1246 1266 330                                                                                                        & 99 1252 1227 285                                                                                                        & 100 1252 1225 283                                                                                                      \\\\\n",
       "\tD & 0.66                                                                                                                    & 0.60                                                                                                                    & 0.55                                                                                                                    & 0.50                                                                                                                    & 0.52                                                                                                                    & 0.54                                                                                                                   \\\\\n",
       "\tGS & 0.72                                                                                                                    & 0.85                                                                                                                    & 0.65                                                                                                                    & 0.60                                                                                                                    & 0.62                                                                                                                    & 0.70                                                                                                                   \\\\\n",
       "\taligned\\_grid & Automatic                                                                                                               & Automatic                                                                                                               & Automatic                                                                                                               & Automatic                                                                                                               & Automatic                                                                                                               & Automatic                                                                                                              \\\\\n",
       "\thypercube\\_csv & Automatic                                                                                                               & Automatic                                                                                                               & Automatic                                                                                                               & Automatic                                                                                                               & Automatic                                                                                                               & Automatic                                                                                                              \\\\\n",
       "\thomography & Automatic                                                                                                               & Automatic                                                                                                               & Automatic                                                                                                               & Automatic                                                                                                               & Automatic                                                                                                               & Automatic                                                                                                              \\\\\n",
       "\\end{tabular}\n"
      ],
      "text/markdown": [
       "\n",
       "| phase_timepoint | GTW_wk10                                                                                                                | GTDD_wk3                                                                                                                | GTFF_wk10                                                                                                               | GTUU_wk3                                                                                                                | GTC_wk7                                                                                                                 | GTE_wk3                                                                                                                 |\n",
       "| data_prefix | /media//gmobot/easystore/                                                                                               | /media//gmobot/Easystore_longerm_storage_2/                                                                             | /media//gmobot/Elements_13/Elements_13/                                                                                 | /media//gmobot/Elements_14/Elements_14/                                                                                 | /media//gmobot/Elements_9/                                                                                              | /media//gmobot/Elements_8/GoogleDrive/Images_Elements_8/                                                                |\n",
       "| data_suffix | GWAS_Transformation/GTW/wk10/                                                                                           | GWAS_Transformation/GTDD/wk3/                                                                                           | GWAS_Transformation/GTFF/wk10/                                                                                          | GWAS_Transformation/GTUU/wk3/                                                                                           | GWAS_Transformation/GTC/wk7/                                                                                            | GWAS_Transformation/GTE/wk3/                                                                                            |\n",
       "| randomization_datasheet | /home/gmobot/GMOnotebook/Transformation_GWAS/Randomization_datasheets//GTW_32_genotypes_labels.xlsx                     | /home/gmobot/GMOnotebook/Transformation_GWAS/Randomization_datasheets//GTDD_16_genotypes_labels.xlsx                    | /home/gmobot/GMOnotebook/Transformation_GWAS/Randomization_datasheets//GTFF_adds_labels.xlsx                            | /home/gmobot/GMOnotebook/Transformation_GWAS/Randomization_datasheets//GTUU_8_genotypes_01.19.22-01.21.22_labels.xlsx   | /home/gmobot/GMOnotebook/Transformation_GWAS/Randomization_datasheets//GTC_32_genotypes_12.01.20_labels.xlsx            | /home/gmobot/GMOnotebook/Transformation_GWAS/Randomization_datasheets//GTE_32_genotypes_12.17.20_randomized_labels.xlsx |\n",
       "| pre_aligned_resized_grid_borders | 230,469.5,1688,1584                                                                                                     | 267,504,1722,1613                                                                                                       | 240,501,1701,1617                                                                                                       | 221,486,1682,1602                                                                                                       | 277,439,1725,1540                                                                                                       | 270,432,1710,1527                                                                                                       |\n",
       "| aligned_grid_borders | 98 1254 1228 280                                                                                                        | 128 1284 1278 346                                                                                                       | 109 1266 1280 342                                                                                                       | 95 1246 1266 330                                                                                                        | 99 1252 1227 285                                                                                                        | 100 1252 1225 283                                                                                                       |\n",
       "| D | 0.66                                                                                                                    | 0.60                                                                                                                    | 0.55                                                                                                                    | 0.50                                                                                                                    | 0.52                                                                                                                    | 0.54                                                                                                                    |\n",
       "| GS | 0.72                                                                                                                    | 0.85                                                                                                                    | 0.65                                                                                                                    | 0.60                                                                                                                    | 0.62                                                                                                                    | 0.70                                                                                                                    |\n",
       "| aligned_grid | Automatic                                                                                                               | Automatic                                                                                                               | Automatic                                                                                                               | Automatic                                                                                                               | Automatic                                                                                                               | Automatic                                                                                                               |\n",
       "| hypercube_csv | Automatic                                                                                                               | Automatic                                                                                                               | Automatic                                                                                                               | Automatic                                                                                                               | Automatic                                                                                                               | Automatic                                                                                                               |\n",
       "| homography | Automatic                                                                                                               | Automatic                                                                                                               | Automatic                                                                                                               | Automatic                                                                                                               | Automatic                                                                                                               | Automatic                                                                                                               |\n",
       "\n"
      ],
      "text/plain": [
       "                                 [,1]                                                                                               \n",
       "phase_timepoint                  GTW_wk10                                                                                           \n",
       "data_prefix                      /media//gmobot/easystore/                                                                          \n",
       "data_suffix                      GWAS_Transformation/GTW/wk10/                                                                      \n",
       "randomization_datasheet          /home/gmobot/GMOnotebook/Transformation_GWAS/Randomization_datasheets//GTW_32_genotypes_labels.xlsx\n",
       "pre_aligned_resized_grid_borders 230,469.5,1688,1584                                                                                \n",
       "aligned_grid_borders             98 1254 1228 280                                                                                   \n",
       "D                                0.66                                                                                               \n",
       "GS                               0.72                                                                                               \n",
       "aligned_grid                     Automatic                                                                                          \n",
       "hypercube_csv                    Automatic                                                                                          \n",
       "homography                       Automatic                                                                                          \n",
       "                                 [,2]                                                                                                \n",
       "phase_timepoint                  GTDD_wk3                                                                                            \n",
       "data_prefix                      /media//gmobot/Easystore_longerm_storage_2/                                                         \n",
       "data_suffix                      GWAS_Transformation/GTDD/wk3/                                                                       \n",
       "randomization_datasheet          /home/gmobot/GMOnotebook/Transformation_GWAS/Randomization_datasheets//GTDD_16_genotypes_labels.xlsx\n",
       "pre_aligned_resized_grid_borders 267,504,1722,1613                                                                                   \n",
       "aligned_grid_borders             128 1284 1278 346                                                                                   \n",
       "D                                0.60                                                                                                \n",
       "GS                               0.85                                                                                                \n",
       "aligned_grid                     Automatic                                                                                           \n",
       "hypercube_csv                    Automatic                                                                                           \n",
       "homography                       Automatic                                                                                           \n",
       "                                 [,3]                                                                                        \n",
       "phase_timepoint                  GTFF_wk10                                                                                   \n",
       "data_prefix                      /media//gmobot/Elements_13/Elements_13/                                                     \n",
       "data_suffix                      GWAS_Transformation/GTFF/wk10/                                                              \n",
       "randomization_datasheet          /home/gmobot/GMOnotebook/Transformation_GWAS/Randomization_datasheets//GTFF_adds_labels.xlsx\n",
       "pre_aligned_resized_grid_borders 240,501,1701,1617                                                                           \n",
       "aligned_grid_borders             109 1266 1280 342                                                                           \n",
       "D                                0.55                                                                                        \n",
       "GS                               0.65                                                                                        \n",
       "aligned_grid                     Automatic                                                                                   \n",
       "hypercube_csv                    Automatic                                                                                   \n",
       "homography                       Automatic                                                                                   \n",
       "                                 [,4]                                                                                                                 \n",
       "phase_timepoint                  GTUU_wk3                                                                                                             \n",
       "data_prefix                      /media//gmobot/Elements_14/Elements_14/                                                                              \n",
       "data_suffix                      GWAS_Transformation/GTUU/wk3/                                                                                        \n",
       "randomization_datasheet          /home/gmobot/GMOnotebook/Transformation_GWAS/Randomization_datasheets//GTUU_8_genotypes_01.19.22-01.21.22_labels.xlsx\n",
       "pre_aligned_resized_grid_borders 221,486,1682,1602                                                                                                    \n",
       "aligned_grid_borders             95 1246 1266 330                                                                                                     \n",
       "D                                0.50                                                                                                                 \n",
       "GS                               0.60                                                                                                                 \n",
       "aligned_grid                     Automatic                                                                                                            \n",
       "hypercube_csv                    Automatic                                                                                                            \n",
       "homography                       Automatic                                                                                                            \n",
       "                                 [,5]                                                                                                        \n",
       "phase_timepoint                  GTC_wk7                                                                                                     \n",
       "data_prefix                      /media//gmobot/Elements_9/                                                                                  \n",
       "data_suffix                      GWAS_Transformation/GTC/wk7/                                                                                \n",
       "randomization_datasheet          /home/gmobot/GMOnotebook/Transformation_GWAS/Randomization_datasheets//GTC_32_genotypes_12.01.20_labels.xlsx\n",
       "pre_aligned_resized_grid_borders 277,439,1725,1540                                                                                           \n",
       "aligned_grid_borders             99 1252 1227 285                                                                                            \n",
       "D                                0.52                                                                                                        \n",
       "GS                               0.62                                                                                                        \n",
       "aligned_grid                     Automatic                                                                                                   \n",
       "hypercube_csv                    Automatic                                                                                                   \n",
       "homography                       Automatic                                                                                                   \n",
       "                                 [,6]                                                                                                                   \n",
       "phase_timepoint                  GTE_wk3                                                                                                                \n",
       "data_prefix                      /media//gmobot/Elements_8/GoogleDrive/Images_Elements_8/                                                               \n",
       "data_suffix                      GWAS_Transformation/GTE/wk3/                                                                                           \n",
       "randomization_datasheet          /home/gmobot/GMOnotebook/Transformation_GWAS/Randomization_datasheets//GTE_32_genotypes_12.17.20_randomized_labels.xlsx\n",
       "pre_aligned_resized_grid_borders 270,432,1710,1527                                                                                                      \n",
       "aligned_grid_borders             100 1252 1225 283                                                                                                      \n",
       "D                                0.54                                                                                                                   \n",
       "GS                               0.70                                                                                                                   \n",
       "aligned_grid                     Automatic                                                                                                              \n",
       "hypercube_csv                    Automatic                                                                                                              \n",
       "homography                       Automatic                                                                                                              "
      ]
     },
     "metadata": {},
     "output_type": "display_data"
    }
   ],
   "source": [
    "t_df_partial"
   ]
  },
  {
   "cell_type": "code",
   "execution_count": 13,
   "id": "8ab2aca9-a9ae-4ea9-b80c-1a13d2b61809",
   "metadata": {},
   "outputs": [],
   "source": [
    "merged <- cbind(strings, t_df_partial)"
   ]
  },
  {
   "cell_type": "code",
   "execution_count": 14,
   "id": "a0887813-69d6-40eb-893a-4df5aff9480a",
   "metadata": {},
   "outputs": [
    {
     "data": {
      "text/html": [
       "<table>\n",
       "<thead><tr><th scope=col>Parameter</th><th scope=col>String_to_Replace</th><th scope=col>V1</th><th scope=col>V2</th><th scope=col>V3</th><th scope=col>V4</th><th scope=col>V5</th><th scope=col>V6</th></tr></thead>\n",
       "<tbody>\n",
       "\t<tr><td>phase_timepoint                                                                                                        </td><td>ENTER_NOTE                                                                                                             </td><td>GTW_wk10                                                                                                               </td><td>GTDD_wk3                                                                                                               </td><td>GTFF_wk10                                                                                                              </td><td>GTUU_wk3                                                                                                               </td><td>GTC_wk7                                                                                                                </td><td>GTE_wk3                                                                                                                </td></tr>\n",
       "\t<tr><td>data_prefix                                                                                                            </td><td>ENTER_DATA_PREFIX                                                                                                      </td><td>/media//gmobot/easystore/                                                                                              </td><td>/media//gmobot/Easystore_longerm_storage_2/                                                                            </td><td>/media//gmobot/Elements_13/Elements_13/                                                                                </td><td>/media//gmobot/Elements_14/Elements_14/                                                                                </td><td>/media//gmobot/Elements_9/                                                                                             </td><td>/media//gmobot/Elements_8/GoogleDrive/Images_Elements_8/                                                               </td></tr>\n",
       "\t<tr><td>data_suffix                                                                                                            </td><td>ENTER_DATA_SUFFIX                                                                                                      </td><td>GWAS_Transformation/GTW/wk10/                                                                                          </td><td>GWAS_Transformation/GTDD/wk3/                                                                                          </td><td>GWAS_Transformation/GTFF/wk10/                                                                                         </td><td>GWAS_Transformation/GTUU/wk3/                                                                                          </td><td>GWAS_Transformation/GTC/wk7/                                                                                           </td><td>GWAS_Transformation/GTE/wk3/                                                                                           </td></tr>\n",
       "\t<tr><td>randomization_datasheet                                                                                                </td><td>ENTER_RANDOMIZATION_DATASHEET_FULL_PATH                                                                                </td><td>/home/gmobot/GMOnotebook/Transformation_GWAS/Randomization_datasheets//GTW_32_genotypes_labels.xlsx                    </td><td>/home/gmobot/GMOnotebook/Transformation_GWAS/Randomization_datasheets//GTDD_16_genotypes_labels.xlsx                   </td><td>/home/gmobot/GMOnotebook/Transformation_GWAS/Randomization_datasheets//GTFF_adds_labels.xlsx                           </td><td>/home/gmobot/GMOnotebook/Transformation_GWAS/Randomization_datasheets//GTUU_8_genotypes_01.19.22-01.21.22_labels.xlsx  </td><td>/home/gmobot/GMOnotebook/Transformation_GWAS/Randomization_datasheets//GTC_32_genotypes_12.01.20_labels.xlsx           </td><td>/home/gmobot/GMOnotebook/Transformation_GWAS/Randomization_datasheets//GTE_32_genotypes_12.17.20_randomized_labels.xlsx</td></tr>\n",
       "\t<tr><td>pre_aligned_resized_grid_borders                                                                                       </td><td>ENTER_PRE_ALIGNED_GRID_BORDERS                                                                                         </td><td>230,469.5,1688,1584                                                                                                    </td><td>267,504,1722,1613                                                                                                      </td><td>240,501,1701,1617                                                                                                      </td><td>221,486,1682,1602                                                                                                      </td><td>277,439,1725,1540                                                                                                      </td><td>270,432,1710,1527                                                                                                      </td></tr>\n",
       "\t<tr><td>aligned_grid_borders                                                                                                   </td><td>ENTER_ALIGNED_GRID_BORDERS                                                                                             </td><td>98 1254 1228 280                                                                                                       </td><td>128 1284 1278 346                                                                                                      </td><td>109 1266 1280 342                                                                                                      </td><td>95 1246 1266 330                                                                                                       </td><td>99 1252 1227 285                                                                                                       </td><td>100 1252 1225 283                                                                                                      </td></tr>\n",
       "\t<tr><td>distance                                                                                                               </td><td>ENTER_DISTANCE                                                                                                         </td><td>0.66                                                                                                                   </td><td>0.60                                                                                                                   </td><td>0.55                                                                                                                   </td><td>0.50                                                                                                                   </td><td>0.52                                                                                                                   </td><td>0.54                                                                                                                   </td></tr>\n",
       "\t<tr><td>gaussian_sigma                                                                                                         </td><td>ENTER_GAUSSIAN_SIGMA                                                                                                   </td><td>0.72                                                                                                                   </td><td>0.85                                                                                                                   </td><td>0.65                                                                                                                   </td><td>0.60                                                                                                                   </td><td>0.62                                                                                                                   </td><td>0.70                                                                                                                   </td></tr>\n",
       "\t<tr><td>homography                                                                                                             </td><td>ENTER_HOMOGRAPHY_NPY                                                                                                   </td><td>Automatic                                                                                                              </td><td>Automatic                                                                                                              </td><td>Automatic                                                                                                              </td><td>Automatic                                                                                                              </td><td>Automatic                                                                                                              </td><td>Automatic                                                                                                              </td></tr>\n",
       "\t<tr><td>hypercube_csv                                                                                                          </td><td>ENTER_HYPERCUBE_TO_CSV                                                                                                 </td><td>Automatic                                                                                                              </td><td>Automatic                                                                                                              </td><td>Automatic                                                                                                              </td><td>Automatic                                                                                                              </td><td>Automatic                                                                                                              </td><td>Automatic                                                                                                              </td></tr>\n",
       "\t<tr><td>aligned_grid                                                                                                           </td><td>ENTER_ALIGNED_GRID                                                                                                     </td><td>Automatic                                                                                                              </td><td>Automatic                                                                                                              </td><td>Automatic                                                                                                              </td><td>Automatic                                                                                                              </td><td>Automatic                                                                                                              </td><td>Automatic                                                                                                              </td></tr>\n",
       "</tbody>\n",
       "</table>\n"
      ],
      "text/latex": [
       "\\begin{tabular}{r|llllllll}\n",
       " Parameter & String\\_to\\_Replace & V1 & V2 & V3 & V4 & V5 & V6\\\\\n",
       "\\hline\n",
       "\t phase\\_timepoint                                                                                                         & ENTER\\_NOTE                                                                                                              & GTW\\_wk10                                                                                                                & GTDD\\_wk3                                                                                                                & GTFF\\_wk10                                                                                                               & GTUU\\_wk3                                                                                                                & GTC\\_wk7                                                                                                                 & GTE\\_wk3                                                                                                                \\\\\n",
       "\t data\\_prefix                                                                                                                 & ENTER\\_DATA\\_PREFIX                                                                                                         & /media//gmobot/easystore/                                                                                                     & /media//gmobot/Easystore\\_longerm\\_storage\\_2/                                                                             & /media//gmobot/Elements\\_13/Elements\\_13/                                                                                   & /media//gmobot/Elements\\_14/Elements\\_14/                                                                                   & /media//gmobot/Elements\\_9/                                                                                                  & /media//gmobot/Elements\\_8/GoogleDrive/Images\\_Elements\\_8/                                                               \\\\\n",
       "\t data\\_suffix                                                                                                             & ENTER\\_DATA\\_SUFFIX                                                                                                     & GWAS\\_Transformation/GTW/wk10/                                                                                           & GWAS\\_Transformation/GTDD/wk3/                                                                                           & GWAS\\_Transformation/GTFF/wk10/                                                                                          & GWAS\\_Transformation/GTUU/wk3/                                                                                           & GWAS\\_Transformation/GTC/wk7/                                                                                            & GWAS\\_Transformation/GTE/wk3/                                                                                           \\\\\n",
       "\t randomization\\_datasheet                                                                                                             & ENTER\\_RANDOMIZATION\\_DATASHEET\\_FULL\\_PATH                                                                                       & /home/gmobot/GMOnotebook/Transformation\\_GWAS/Randomization\\_datasheets//GTW\\_32\\_genotypes\\_labels.xlsx                         & /home/gmobot/GMOnotebook/Transformation\\_GWAS/Randomization\\_datasheets//GTDD\\_16\\_genotypes\\_labels.xlsx                        & /home/gmobot/GMOnotebook/Transformation\\_GWAS/Randomization\\_datasheets//GTFF\\_adds\\_labels.xlsx                                  & /home/gmobot/GMOnotebook/Transformation\\_GWAS/Randomization\\_datasheets//GTUU\\_8\\_genotypes\\_01.19.22-01.21.22\\_labels.xlsx     & /home/gmobot/GMOnotebook/Transformation\\_GWAS/Randomization\\_datasheets//GTC\\_32\\_genotypes\\_12.01.20\\_labels.xlsx              & /home/gmobot/GMOnotebook/Transformation\\_GWAS/Randomization\\_datasheets//GTE\\_32\\_genotypes\\_12.17.20\\_randomized\\_labels.xlsx\\\\\n",
       "\t pre\\_aligned\\_resized\\_grid\\_borders                                                                                & ENTER\\_PRE\\_ALIGNED\\_GRID\\_BORDERS                                                                                  & 230,469.5,1688,1584                                                                                                     & 267,504,1722,1613                                                                                                       & 240,501,1701,1617                                                                                                       & 221,486,1682,1602                                                                                                       & 277,439,1725,1540                                                                                                       & 270,432,1710,1527                                                                                                      \\\\\n",
       "\t aligned\\_grid\\_borders                                                                                                & ENTER\\_ALIGNED\\_GRID\\_BORDERS                                                                                        & 98 1254 1228 280                                                                                                        & 128 1284 1278 346                                                                                                       & 109 1266 1280 342                                                                                                       & 95 1246 1266 330                                                                                                        & 99 1252 1227 285                                                                                                        & 100 1252 1225 283                                                                                                      \\\\\n",
       "\t distance                                                                                                                & ENTER\\_DISTANCE                                                                                                        & 0.66                                                                                                                    & 0.60                                                                                                                    & 0.55                                                                                                                    & 0.50                                                                                                                    & 0.52                                                                                                                    & 0.54                                                                                                                   \\\\\n",
       "\t gaussian\\_sigma                                                                                                        & ENTER\\_GAUSSIAN\\_SIGMA                                                                                                & 0.72                                                                                                                    & 0.85                                                                                                                    & 0.65                                                                                                                    & 0.60                                                                                                                    & 0.62                                                                                                                    & 0.70                                                                                                                   \\\\\n",
       "\t homography                                                                                                              & ENTER\\_HOMOGRAPHY\\_NPY                                                                                                & Automatic                                                                                                               & Automatic                                                                                                               & Automatic                                                                                                               & Automatic                                                                                                               & Automatic                                                                                                               & Automatic                                                                                                              \\\\\n",
       "\t hypercube\\_csv                                                                                                         & ENTER\\_HYPERCUBE\\_TO\\_CSV                                                                                            & Automatic                                                                                                               & Automatic                                                                                                               & Automatic                                                                                                               & Automatic                                                                                                               & Automatic                                                                                                               & Automatic                                                                                                              \\\\\n",
       "\t aligned\\_grid                                                                                                          & ENTER\\_ALIGNED\\_GRID                                                                                                  & Automatic                                                                                                               & Automatic                                                                                                               & Automatic                                                                                                               & Automatic                                                                                                               & Automatic                                                                                                               & Automatic                                                                                                              \\\\\n",
       "\\end{tabular}\n"
      ],
      "text/markdown": [
       "\n",
       "| Parameter | String_to_Replace | V1 | V2 | V3 | V4 | V5 | V6 |\n",
       "|---|---|---|---|---|---|---|---|\n",
       "| phase_timepoint                                                                                                         | ENTER_NOTE                                                                                                              | GTW_wk10                                                                                                                | GTDD_wk3                                                                                                                | GTFF_wk10                                                                                                               | GTUU_wk3                                                                                                                | GTC_wk7                                                                                                                 | GTE_wk3                                                                                                                 |\n",
       "| data_prefix                                                                                                             | ENTER_DATA_PREFIX                                                                                                       | /media//gmobot/easystore/                                                                                               | /media//gmobot/Easystore_longerm_storage_2/                                                                             | /media//gmobot/Elements_13/Elements_13/                                                                                 | /media//gmobot/Elements_14/Elements_14/                                                                                 | /media//gmobot/Elements_9/                                                                                              | /media//gmobot/Elements_8/GoogleDrive/Images_Elements_8/                                                                |\n",
       "| data_suffix                                                                                                             | ENTER_DATA_SUFFIX                                                                                                       | GWAS_Transformation/GTW/wk10/                                                                                           | GWAS_Transformation/GTDD/wk3/                                                                                           | GWAS_Transformation/GTFF/wk10/                                                                                          | GWAS_Transformation/GTUU/wk3/                                                                                           | GWAS_Transformation/GTC/wk7/                                                                                            | GWAS_Transformation/GTE/wk3/                                                                                            |\n",
       "| randomization_datasheet                                                                                                 | ENTER_RANDOMIZATION_DATASHEET_FULL_PATH                                                                                 | /home/gmobot/GMOnotebook/Transformation_GWAS/Randomization_datasheets//GTW_32_genotypes_labels.xlsx                     | /home/gmobot/GMOnotebook/Transformation_GWAS/Randomization_datasheets//GTDD_16_genotypes_labels.xlsx                    | /home/gmobot/GMOnotebook/Transformation_GWAS/Randomization_datasheets//GTFF_adds_labels.xlsx                            | /home/gmobot/GMOnotebook/Transformation_GWAS/Randomization_datasheets//GTUU_8_genotypes_01.19.22-01.21.22_labels.xlsx   | /home/gmobot/GMOnotebook/Transformation_GWAS/Randomization_datasheets//GTC_32_genotypes_12.01.20_labels.xlsx            | /home/gmobot/GMOnotebook/Transformation_GWAS/Randomization_datasheets//GTE_32_genotypes_12.17.20_randomized_labels.xlsx |\n",
       "| pre_aligned_resized_grid_borders                                                                                        | ENTER_PRE_ALIGNED_GRID_BORDERS                                                                                          | 230,469.5,1688,1584                                                                                                     | 267,504,1722,1613                                                                                                       | 240,501,1701,1617                                                                                                       | 221,486,1682,1602                                                                                                       | 277,439,1725,1540                                                                                                       | 270,432,1710,1527                                                                                                       |\n",
       "| aligned_grid_borders                                                                                                    | ENTER_ALIGNED_GRID_BORDERS                                                                                              | 98 1254 1228 280                                                                                                        | 128 1284 1278 346                                                                                                       | 109 1266 1280 342                                                                                                       | 95 1246 1266 330                                                                                                        | 99 1252 1227 285                                                                                                        | 100 1252 1225 283                                                                                                       |\n",
       "| distance                                                                                                                | ENTER_DISTANCE                                                                                                          | 0.66                                                                                                                    | 0.60                                                                                                                    | 0.55                                                                                                                    | 0.50                                                                                                                    | 0.52                                                                                                                    | 0.54                                                                                                                    |\n",
       "| gaussian_sigma                                                                                                          | ENTER_GAUSSIAN_SIGMA                                                                                                    | 0.72                                                                                                                    | 0.85                                                                                                                    | 0.65                                                                                                                    | 0.60                                                                                                                    | 0.62                                                                                                                    | 0.70                                                                                                                    |\n",
       "| homography                                                                                                              | ENTER_HOMOGRAPHY_NPY                                                                                                    | Automatic                                                                                                               | Automatic                                                                                                               | Automatic                                                                                                               | Automatic                                                                                                               | Automatic                                                                                                               | Automatic                                                                                                               |\n",
       "| hypercube_csv                                                                                                           | ENTER_HYPERCUBE_TO_CSV                                                                                                  | Automatic                                                                                                               | Automatic                                                                                                               | Automatic                                                                                                               | Automatic                                                                                                               | Automatic                                                                                                               | Automatic                                                                                                               |\n",
       "| aligned_grid                                                                                                            | ENTER_ALIGNED_GRID                                                                                                      | Automatic                                                                                                               | Automatic                                                                                                               | Automatic                                                                                                               | Automatic                                                                                                               | Automatic                                                                                                               | Automatic                                                                                                               |\n",
       "\n"
      ],
      "text/plain": [
       "   Parameter                        String_to_Replace                      \n",
       "1  phase_timepoint                  ENTER_NOTE                             \n",
       "2  data_prefix                      ENTER_DATA_PREFIX                      \n",
       "3  data_suffix                      ENTER_DATA_SUFFIX                      \n",
       "4  randomization_datasheet          ENTER_RANDOMIZATION_DATASHEET_FULL_PATH\n",
       "5  pre_aligned_resized_grid_borders ENTER_PRE_ALIGNED_GRID_BORDERS         \n",
       "6  aligned_grid_borders             ENTER_ALIGNED_GRID_BORDERS             \n",
       "7  distance                         ENTER_DISTANCE                         \n",
       "8  gaussian_sigma                   ENTER_GAUSSIAN_SIGMA                   \n",
       "9  homography                       ENTER_HOMOGRAPHY_NPY                   \n",
       "10 hypercube_csv                    ENTER_HYPERCUBE_TO_CSV                 \n",
       "11 aligned_grid                     ENTER_ALIGNED_GRID                     \n",
       "   V1                                                                                                 \n",
       "1  GTW_wk10                                                                                           \n",
       "2  /media//gmobot/easystore/                                                                          \n",
       "3  GWAS_Transformation/GTW/wk10/                                                                      \n",
       "4  /home/gmobot/GMOnotebook/Transformation_GWAS/Randomization_datasheets//GTW_32_genotypes_labels.xlsx\n",
       "5  230,469.5,1688,1584                                                                                \n",
       "6  98 1254 1228 280                                                                                   \n",
       "7  0.66                                                                                               \n",
       "8  0.72                                                                                               \n",
       "9  Automatic                                                                                          \n",
       "10 Automatic                                                                                          \n",
       "11 Automatic                                                                                          \n",
       "   V2                                                                                                  \n",
       "1  GTDD_wk3                                                                                            \n",
       "2  /media//gmobot/Easystore_longerm_storage_2/                                                         \n",
       "3  GWAS_Transformation/GTDD/wk3/                                                                       \n",
       "4  /home/gmobot/GMOnotebook/Transformation_GWAS/Randomization_datasheets//GTDD_16_genotypes_labels.xlsx\n",
       "5  267,504,1722,1613                                                                                   \n",
       "6  128 1284 1278 346                                                                                   \n",
       "7  0.60                                                                                                \n",
       "8  0.85                                                                                                \n",
       "9  Automatic                                                                                           \n",
       "10 Automatic                                                                                           \n",
       "11 Automatic                                                                                           \n",
       "   V3                                                                                          \n",
       "1  GTFF_wk10                                                                                   \n",
       "2  /media//gmobot/Elements_13/Elements_13/                                                     \n",
       "3  GWAS_Transformation/GTFF/wk10/                                                              \n",
       "4  /home/gmobot/GMOnotebook/Transformation_GWAS/Randomization_datasheets//GTFF_adds_labels.xlsx\n",
       "5  240,501,1701,1617                                                                           \n",
       "6  109 1266 1280 342                                                                           \n",
       "7  0.55                                                                                        \n",
       "8  0.65                                                                                        \n",
       "9  Automatic                                                                                   \n",
       "10 Automatic                                                                                   \n",
       "11 Automatic                                                                                   \n",
       "   V4                                                                                                                   \n",
       "1  GTUU_wk3                                                                                                             \n",
       "2  /media//gmobot/Elements_14/Elements_14/                                                                              \n",
       "3  GWAS_Transformation/GTUU/wk3/                                                                                        \n",
       "4  /home/gmobot/GMOnotebook/Transformation_GWAS/Randomization_datasheets//GTUU_8_genotypes_01.19.22-01.21.22_labels.xlsx\n",
       "5  221,486,1682,1602                                                                                                    \n",
       "6  95 1246 1266 330                                                                                                     \n",
       "7  0.50                                                                                                                 \n",
       "8  0.60                                                                                                                 \n",
       "9  Automatic                                                                                                            \n",
       "10 Automatic                                                                                                            \n",
       "11 Automatic                                                                                                            \n",
       "   V5                                                                                                          \n",
       "1  GTC_wk7                                                                                                     \n",
       "2  /media//gmobot/Elements_9/                                                                                  \n",
       "3  GWAS_Transformation/GTC/wk7/                                                                                \n",
       "4  /home/gmobot/GMOnotebook/Transformation_GWAS/Randomization_datasheets//GTC_32_genotypes_12.01.20_labels.xlsx\n",
       "5  277,439,1725,1540                                                                                           \n",
       "6  99 1252 1227 285                                                                                            \n",
       "7  0.52                                                                                                        \n",
       "8  0.62                                                                                                        \n",
       "9  Automatic                                                                                                   \n",
       "10 Automatic                                                                                                   \n",
       "11 Automatic                                                                                                   \n",
       "   V6                                                                                                                     \n",
       "1  GTE_wk3                                                                                                                \n",
       "2  /media//gmobot/Elements_8/GoogleDrive/Images_Elements_8/                                                               \n",
       "3  GWAS_Transformation/GTE/wk3/                                                                                           \n",
       "4  /home/gmobot/GMOnotebook/Transformation_GWAS/Randomization_datasheets//GTE_32_genotypes_12.17.20_randomized_labels.xlsx\n",
       "5  270,432,1710,1527                                                                                                      \n",
       "6  100 1252 1225 283                                                                                                      \n",
       "7  0.54                                                                                                                   \n",
       "8  0.70                                                                                                                   \n",
       "9  Automatic                                                                                                              \n",
       "10 Automatic                                                                                                              \n",
       "11 Automatic                                                                                                              "
      ]
     },
     "metadata": {},
     "output_type": "display_data"
    }
   ],
   "source": [
    "merged"
   ]
  },
  {
   "cell_type": "code",
   "execution_count": 15,
   "id": "7ae3ed3f-3e83-47f3-962e-b9336f755db1",
   "metadata": {
    "tags": []
   },
   "outputs": [
    {
     "name": "stdout",
     "output_type": "stream",
     "text": [
      "3-OUT_Test-batch_notebooks/GTW_wk10_test-batch_v0.5.ipynb \n",
      "Replacing ENTER_NOTE with GTW_wk10\n",
      "sed -i -e 's#ENTER_NOTE#GTW_wk10#g' 3-OUT_Test-batch_notebooks/GTW_wk10_test-batch_v0.5.ipynb \n",
      "Replacing ENTER_DATA_PREFIX with /media//gmobot/easystore/\n",
      "sed -i -e 's#ENTER_DATA_PREFIX#/media//gmobot/easystore/#g' 3-OUT_Test-batch_notebooks/GTW_wk10_test-batch_v0.5.ipynb \n",
      "Replacing ENTER_DATA_SUFFIX with GWAS_Transformation/GTW/wk10/\n",
      "sed -i -e 's#ENTER_DATA_SUFFIX#GWAS_Transformation/GTW/wk10/#g' 3-OUT_Test-batch_notebooks/GTW_wk10_test-batch_v0.5.ipynb \n",
      "Replacing ENTER_RANDOMIZATION_DATASHEET_FULL_PATH with /home/gmobot/GMOnotebook/Transformation_GWAS/Randomization_datasheets//GTW_32_genotypes_labels.xlsx\n",
      "sed -i -e 's#ENTER_RANDOMIZATION_DATASHEET_FULL_PATH#/home/gmobot/GMOnotebook/Transformation_GWAS/Randomization_datasheets//GTW_32_genotypes_labels.xlsx#g' 3-OUT_Test-batch_notebooks/GTW_wk10_test-batch_v0.5.ipynb \n",
      "Replacing ENTER_PRE_ALIGNED_GRID_BORDERS with 230,469.5,1688,1584\n",
      "sed -i -e 's#ENTER_PRE_ALIGNED_GRID_BORDERS#230,469.5,1688,1584#g' 3-OUT_Test-batch_notebooks/GTW_wk10_test-batch_v0.5.ipynb \n",
      "Replacing ENTER_ALIGNED_GRID_BORDERS with 98 1254 1228 280\n",
      "sed -i -e 's#ENTER_ALIGNED_GRID_BORDERS#98 1254 1228 280#g' 3-OUT_Test-batch_notebooks/GTW_wk10_test-batch_v0.5.ipynb \n",
      "Replacing ENTER_DISTANCE with 0.66\n",
      "sed -i -e 's#ENTER_DISTANCE#0.66#g' 3-OUT_Test-batch_notebooks/GTW_wk10_test-batch_v0.5.ipynb \n",
      "Replacing ENTER_GAUSSIAN_SIGMA with 0.72\n",
      "sed -i -e 's#ENTER_GAUSSIAN_SIGMA#0.72#g' 3-OUT_Test-batch_notebooks/GTW_wk10_test-batch_v0.5.ipynb \n",
      "Replacing ENTER_HOMOGRAPHY_NPY with Automatic\n",
      "sed -i -e 's#ENTER_HOMOGRAPHY_NPY#Automatic#g' 3-OUT_Test-batch_notebooks/GTW_wk10_test-batch_v0.5.ipynb \n",
      "Replacing ENTER_HYPERCUBE_TO_CSV with Automatic\n",
      "sed -i -e 's#ENTER_HYPERCUBE_TO_CSV#Automatic#g' 3-OUT_Test-batch_notebooks/GTW_wk10_test-batch_v0.5.ipynb \n",
      "Replacing ENTER_ALIGNED_GRID with Automatic\n",
      "sed -i -e 's#ENTER_ALIGNED_GRID#Automatic#g' 3-OUT_Test-batch_notebooks/GTW_wk10_test-batch_v0.5.ipynb \n",
      "3-OUT_Test-batch_notebooks/GTDD_wk3_test-batch_v0.5.ipynb \n",
      "Replacing ENTER_NOTE with GTDD_wk3\n",
      "sed -i -e 's#ENTER_NOTE#GTDD_wk3#g' 3-OUT_Test-batch_notebooks/GTDD_wk3_test-batch_v0.5.ipynb \n",
      "Replacing ENTER_DATA_PREFIX with /media//gmobot/Easystore_longerm_storage_2/\n",
      "sed -i -e 's#ENTER_DATA_PREFIX#/media//gmobot/Easystore_longerm_storage_2/#g' 3-OUT_Test-batch_notebooks/GTDD_wk3_test-batch_v0.5.ipynb \n",
      "Replacing ENTER_DATA_SUFFIX with GWAS_Transformation/GTDD/wk3/\n",
      "sed -i -e 's#ENTER_DATA_SUFFIX#GWAS_Transformation/GTDD/wk3/#g' 3-OUT_Test-batch_notebooks/GTDD_wk3_test-batch_v0.5.ipynb \n",
      "Replacing ENTER_RANDOMIZATION_DATASHEET_FULL_PATH with /home/gmobot/GMOnotebook/Transformation_GWAS/Randomization_datasheets//GTDD_16_genotypes_labels.xlsx\n",
      "sed -i -e 's#ENTER_RANDOMIZATION_DATASHEET_FULL_PATH#/home/gmobot/GMOnotebook/Transformation_GWAS/Randomization_datasheets//GTDD_16_genotypes_labels.xlsx#g' 3-OUT_Test-batch_notebooks/GTDD_wk3_test-batch_v0.5.ipynb \n",
      "Replacing ENTER_PRE_ALIGNED_GRID_BORDERS with 267,504,1722,1613\n",
      "sed -i -e 's#ENTER_PRE_ALIGNED_GRID_BORDERS#267,504,1722,1613#g' 3-OUT_Test-batch_notebooks/GTDD_wk3_test-batch_v0.5.ipynb \n",
      "Replacing ENTER_ALIGNED_GRID_BORDERS with 128 1284 1278 346\n",
      "sed -i -e 's#ENTER_ALIGNED_GRID_BORDERS#128 1284 1278 346#g' 3-OUT_Test-batch_notebooks/GTDD_wk3_test-batch_v0.5.ipynb \n",
      "Replacing ENTER_DISTANCE with 0.60\n",
      "sed -i -e 's#ENTER_DISTANCE#0.60#g' 3-OUT_Test-batch_notebooks/GTDD_wk3_test-batch_v0.5.ipynb \n",
      "Replacing ENTER_GAUSSIAN_SIGMA with 0.85\n",
      "sed -i -e 's#ENTER_GAUSSIAN_SIGMA#0.85#g' 3-OUT_Test-batch_notebooks/GTDD_wk3_test-batch_v0.5.ipynb \n",
      "Replacing ENTER_HOMOGRAPHY_NPY with Automatic\n",
      "sed -i -e 's#ENTER_HOMOGRAPHY_NPY#Automatic#g' 3-OUT_Test-batch_notebooks/GTDD_wk3_test-batch_v0.5.ipynb \n",
      "Replacing ENTER_HYPERCUBE_TO_CSV with Automatic\n",
      "sed -i -e 's#ENTER_HYPERCUBE_TO_CSV#Automatic#g' 3-OUT_Test-batch_notebooks/GTDD_wk3_test-batch_v0.5.ipynb \n",
      "Replacing ENTER_ALIGNED_GRID with Automatic\n",
      "sed -i -e 's#ENTER_ALIGNED_GRID#Automatic#g' 3-OUT_Test-batch_notebooks/GTDD_wk3_test-batch_v0.5.ipynb \n",
      "3-OUT_Test-batch_notebooks/GTFF_wk10_test-batch_v0.5.ipynb \n",
      "Replacing ENTER_NOTE with GTFF_wk10\n",
      "sed -i -e 's#ENTER_NOTE#GTFF_wk10#g' 3-OUT_Test-batch_notebooks/GTFF_wk10_test-batch_v0.5.ipynb \n",
      "Replacing ENTER_DATA_PREFIX with /media//gmobot/Elements_13/Elements_13/\n",
      "sed -i -e 's#ENTER_DATA_PREFIX#/media//gmobot/Elements_13/Elements_13/#g' 3-OUT_Test-batch_notebooks/GTFF_wk10_test-batch_v0.5.ipynb \n",
      "Replacing ENTER_DATA_SUFFIX with GWAS_Transformation/GTFF/wk10/\n",
      "sed -i -e 's#ENTER_DATA_SUFFIX#GWAS_Transformation/GTFF/wk10/#g' 3-OUT_Test-batch_notebooks/GTFF_wk10_test-batch_v0.5.ipynb \n",
      "Replacing ENTER_RANDOMIZATION_DATASHEET_FULL_PATH with /home/gmobot/GMOnotebook/Transformation_GWAS/Randomization_datasheets//GTFF_adds_labels.xlsx\n",
      "sed -i -e 's#ENTER_RANDOMIZATION_DATASHEET_FULL_PATH#/home/gmobot/GMOnotebook/Transformation_GWAS/Randomization_datasheets//GTFF_adds_labels.xlsx#g' 3-OUT_Test-batch_notebooks/GTFF_wk10_test-batch_v0.5.ipynb \n",
      "Replacing ENTER_PRE_ALIGNED_GRID_BORDERS with 240,501,1701,1617\n",
      "sed -i -e 's#ENTER_PRE_ALIGNED_GRID_BORDERS#240,501,1701,1617#g' 3-OUT_Test-batch_notebooks/GTFF_wk10_test-batch_v0.5.ipynb \n",
      "Replacing ENTER_ALIGNED_GRID_BORDERS with 109 1266 1280 342\n",
      "sed -i -e 's#ENTER_ALIGNED_GRID_BORDERS#109 1266 1280 342#g' 3-OUT_Test-batch_notebooks/GTFF_wk10_test-batch_v0.5.ipynb \n",
      "Replacing ENTER_DISTANCE with 0.55\n",
      "sed -i -e 's#ENTER_DISTANCE#0.55#g' 3-OUT_Test-batch_notebooks/GTFF_wk10_test-batch_v0.5.ipynb \n",
      "Replacing ENTER_GAUSSIAN_SIGMA with 0.65\n",
      "sed -i -e 's#ENTER_GAUSSIAN_SIGMA#0.65#g' 3-OUT_Test-batch_notebooks/GTFF_wk10_test-batch_v0.5.ipynb \n",
      "Replacing ENTER_HOMOGRAPHY_NPY with Automatic\n",
      "sed -i -e 's#ENTER_HOMOGRAPHY_NPY#Automatic#g' 3-OUT_Test-batch_notebooks/GTFF_wk10_test-batch_v0.5.ipynb \n",
      "Replacing ENTER_HYPERCUBE_TO_CSV with Automatic\n",
      "sed -i -e 's#ENTER_HYPERCUBE_TO_CSV#Automatic#g' 3-OUT_Test-batch_notebooks/GTFF_wk10_test-batch_v0.5.ipynb \n",
      "Replacing ENTER_ALIGNED_GRID with Automatic\n",
      "sed -i -e 's#ENTER_ALIGNED_GRID#Automatic#g' 3-OUT_Test-batch_notebooks/GTFF_wk10_test-batch_v0.5.ipynb \n",
      "3-OUT_Test-batch_notebooks/GTUU_wk3_test-batch_v0.5.ipynb \n",
      "Replacing ENTER_NOTE with GTUU_wk3\n",
      "sed -i -e 's#ENTER_NOTE#GTUU_wk3#g' 3-OUT_Test-batch_notebooks/GTUU_wk3_test-batch_v0.5.ipynb \n",
      "Replacing ENTER_DATA_PREFIX with /media//gmobot/Elements_14/Elements_14/\n",
      "sed -i -e 's#ENTER_DATA_PREFIX#/media//gmobot/Elements_14/Elements_14/#g' 3-OUT_Test-batch_notebooks/GTUU_wk3_test-batch_v0.5.ipynb \n",
      "Replacing ENTER_DATA_SUFFIX with GWAS_Transformation/GTUU/wk3/\n",
      "sed -i -e 's#ENTER_DATA_SUFFIX#GWAS_Transformation/GTUU/wk3/#g' 3-OUT_Test-batch_notebooks/GTUU_wk3_test-batch_v0.5.ipynb \n",
      "Replacing ENTER_RANDOMIZATION_DATASHEET_FULL_PATH with /home/gmobot/GMOnotebook/Transformation_GWAS/Randomization_datasheets//GTUU_8_genotypes_01.19.22-01.21.22_labels.xlsx\n",
      "sed -i -e 's#ENTER_RANDOMIZATION_DATASHEET_FULL_PATH#/home/gmobot/GMOnotebook/Transformation_GWAS/Randomization_datasheets//GTUU_8_genotypes_01.19.22-01.21.22_labels.xlsx#g' 3-OUT_Test-batch_notebooks/GTUU_wk3_test-batch_v0.5.ipynb \n",
      "Replacing ENTER_PRE_ALIGNED_GRID_BORDERS with 221,486,1682,1602\n",
      "sed -i -e 's#ENTER_PRE_ALIGNED_GRID_BORDERS#221,486,1682,1602#g' 3-OUT_Test-batch_notebooks/GTUU_wk3_test-batch_v0.5.ipynb \n",
      "Replacing ENTER_ALIGNED_GRID_BORDERS with 95 1246 1266 330\n",
      "sed -i -e 's#ENTER_ALIGNED_GRID_BORDERS#95 1246 1266 330#g' 3-OUT_Test-batch_notebooks/GTUU_wk3_test-batch_v0.5.ipynb \n",
      "Replacing ENTER_DISTANCE with 0.50\n",
      "sed -i -e 's#ENTER_DISTANCE#0.50#g' 3-OUT_Test-batch_notebooks/GTUU_wk3_test-batch_v0.5.ipynb \n",
      "Replacing ENTER_GAUSSIAN_SIGMA with 0.60\n",
      "sed -i -e 's#ENTER_GAUSSIAN_SIGMA#0.60#g' 3-OUT_Test-batch_notebooks/GTUU_wk3_test-batch_v0.5.ipynb \n",
      "Replacing ENTER_HOMOGRAPHY_NPY with Automatic\n",
      "sed -i -e 's#ENTER_HOMOGRAPHY_NPY#Automatic#g' 3-OUT_Test-batch_notebooks/GTUU_wk3_test-batch_v0.5.ipynb \n",
      "Replacing ENTER_HYPERCUBE_TO_CSV with Automatic\n",
      "sed -i -e 's#ENTER_HYPERCUBE_TO_CSV#Automatic#g' 3-OUT_Test-batch_notebooks/GTUU_wk3_test-batch_v0.5.ipynb \n",
      "Replacing ENTER_ALIGNED_GRID with Automatic\n",
      "sed -i -e 's#ENTER_ALIGNED_GRID#Automatic#g' 3-OUT_Test-batch_notebooks/GTUU_wk3_test-batch_v0.5.ipynb \n",
      "3-OUT_Test-batch_notebooks/GTC_wk7_test-batch_v0.5.ipynb \n",
      "Replacing ENTER_NOTE with GTC_wk7\n",
      "sed -i -e 's#ENTER_NOTE#GTC_wk7#g' 3-OUT_Test-batch_notebooks/GTC_wk7_test-batch_v0.5.ipynb \n",
      "Replacing ENTER_DATA_PREFIX with /media//gmobot/Elements_9/\n",
      "sed -i -e 's#ENTER_DATA_PREFIX#/media//gmobot/Elements_9/#g' 3-OUT_Test-batch_notebooks/GTC_wk7_test-batch_v0.5.ipynb \n",
      "Replacing ENTER_DATA_SUFFIX with GWAS_Transformation/GTC/wk7/\n",
      "sed -i -e 's#ENTER_DATA_SUFFIX#GWAS_Transformation/GTC/wk7/#g' 3-OUT_Test-batch_notebooks/GTC_wk7_test-batch_v0.5.ipynb \n",
      "Replacing ENTER_RANDOMIZATION_DATASHEET_FULL_PATH with /home/gmobot/GMOnotebook/Transformation_GWAS/Randomization_datasheets//GTC_32_genotypes_12.01.20_labels.xlsx\n",
      "sed -i -e 's#ENTER_RANDOMIZATION_DATASHEET_FULL_PATH#/home/gmobot/GMOnotebook/Transformation_GWAS/Randomization_datasheets//GTC_32_genotypes_12.01.20_labels.xlsx#g' 3-OUT_Test-batch_notebooks/GTC_wk7_test-batch_v0.5.ipynb \n",
      "Replacing ENTER_PRE_ALIGNED_GRID_BORDERS with 277,439,1725,1540\n",
      "sed -i -e 's#ENTER_PRE_ALIGNED_GRID_BORDERS#277,439,1725,1540#g' 3-OUT_Test-batch_notebooks/GTC_wk7_test-batch_v0.5.ipynb \n",
      "Replacing ENTER_ALIGNED_GRID_BORDERS with 99 1252 1227 285\n",
      "sed -i -e 's#ENTER_ALIGNED_GRID_BORDERS#99 1252 1227 285#g' 3-OUT_Test-batch_notebooks/GTC_wk7_test-batch_v0.5.ipynb \n",
      "Replacing ENTER_DISTANCE with 0.52\n",
      "sed -i -e 's#ENTER_DISTANCE#0.52#g' 3-OUT_Test-batch_notebooks/GTC_wk7_test-batch_v0.5.ipynb \n",
      "Replacing ENTER_GAUSSIAN_SIGMA with 0.62\n",
      "sed -i -e 's#ENTER_GAUSSIAN_SIGMA#0.62#g' 3-OUT_Test-batch_notebooks/GTC_wk7_test-batch_v0.5.ipynb \n",
      "Replacing ENTER_HOMOGRAPHY_NPY with Automatic\n",
      "sed -i -e 's#ENTER_HOMOGRAPHY_NPY#Automatic#g' 3-OUT_Test-batch_notebooks/GTC_wk7_test-batch_v0.5.ipynb \n",
      "Replacing ENTER_HYPERCUBE_TO_CSV with Automatic\n",
      "sed -i -e 's#ENTER_HYPERCUBE_TO_CSV#Automatic#g' 3-OUT_Test-batch_notebooks/GTC_wk7_test-batch_v0.5.ipynb \n",
      "Replacing ENTER_ALIGNED_GRID with Automatic\n",
      "sed -i -e 's#ENTER_ALIGNED_GRID#Automatic#g' 3-OUT_Test-batch_notebooks/GTC_wk7_test-batch_v0.5.ipynb \n",
      "3-OUT_Test-batch_notebooks/GTE_wk3_test-batch_v0.5.ipynb \n",
      "Replacing ENTER_NOTE with GTE_wk3\n",
      "sed -i -e 's#ENTER_NOTE#GTE_wk3#g' 3-OUT_Test-batch_notebooks/GTE_wk3_test-batch_v0.5.ipynb \n",
      "Replacing ENTER_DATA_PREFIX with /media//gmobot/Elements_8/GoogleDrive/Images_Elements_8/\n",
      "sed -i -e 's#ENTER_DATA_PREFIX#/media//gmobot/Elements_8/GoogleDrive/Images_Elements_8/#g' 3-OUT_Test-batch_notebooks/GTE_wk3_test-batch_v0.5.ipynb \n",
      "Replacing ENTER_DATA_SUFFIX with GWAS_Transformation/GTE/wk3/\n",
      "sed -i -e 's#ENTER_DATA_SUFFIX#GWAS_Transformation/GTE/wk3/#g' 3-OUT_Test-batch_notebooks/GTE_wk3_test-batch_v0.5.ipynb \n",
      "Replacing ENTER_RANDOMIZATION_DATASHEET_FULL_PATH with /home/gmobot/GMOnotebook/Transformation_GWAS/Randomization_datasheets//GTE_32_genotypes_12.17.20_randomized_labels.xlsx\n",
      "sed -i -e 's#ENTER_RANDOMIZATION_DATASHEET_FULL_PATH#/home/gmobot/GMOnotebook/Transformation_GWAS/Randomization_datasheets//GTE_32_genotypes_12.17.20_randomized_labels.xlsx#g' 3-OUT_Test-batch_notebooks/GTE_wk3_test-batch_v0.5.ipynb \n",
      "Replacing ENTER_PRE_ALIGNED_GRID_BORDERS with 270,432,1710,1527\n",
      "sed -i -e 's#ENTER_PRE_ALIGNED_GRID_BORDERS#270,432,1710,1527#g' 3-OUT_Test-batch_notebooks/GTE_wk3_test-batch_v0.5.ipynb \n",
      "Replacing ENTER_ALIGNED_GRID_BORDERS with 100 1252 1225 283\n",
      "sed -i -e 's#ENTER_ALIGNED_GRID_BORDERS#100 1252 1225 283#g' 3-OUT_Test-batch_notebooks/GTE_wk3_test-batch_v0.5.ipynb \n",
      "Replacing ENTER_DISTANCE with 0.54\n",
      "sed -i -e 's#ENTER_DISTANCE#0.54#g' 3-OUT_Test-batch_notebooks/GTE_wk3_test-batch_v0.5.ipynb \n",
      "Replacing ENTER_GAUSSIAN_SIGMA with 0.70\n",
      "sed -i -e 's#ENTER_GAUSSIAN_SIGMA#0.70#g' 3-OUT_Test-batch_notebooks/GTE_wk3_test-batch_v0.5.ipynb \n",
      "Replacing ENTER_HOMOGRAPHY_NPY with Automatic\n",
      "sed -i -e 's#ENTER_HOMOGRAPHY_NPY#Automatic#g' 3-OUT_Test-batch_notebooks/GTE_wk3_test-batch_v0.5.ipynb \n",
      "Replacing ENTER_HYPERCUBE_TO_CSV with Automatic\n",
      "sed -i -e 's#ENTER_HYPERCUBE_TO_CSV#Automatic#g' 3-OUT_Test-batch_notebooks/GTE_wk3_test-batch_v0.5.ipynb \n",
      "Replacing ENTER_ALIGNED_GRID with Automatic\n",
      "sed -i -e 's#ENTER_ALIGNED_GRID#Automatic#g' 3-OUT_Test-batch_notebooks/GTE_wk3_test-batch_v0.5.ipynb \n"
     ]
    }
   ],
   "source": [
    "for(j in 1:length(filenames)){\n",
    "    filename <- filenames[j]\n",
    "    batchs_column_in_merged <- j + 2\n",
    "    cat(filename, \"\\n\")\n",
    "    for(i in 1:nrow(merged)){\n",
    "        find <- merged[i, 2]\n",
    "        replace <- merged[i, ..batchs_column_in_merged]\n",
    "        # replace <- gsub(\"/\", \"\\\\/\", replace)\n",
    "        cat(paste0(\"Replacing \",\n",
    "                   find, \" with \", replace, \"\\n\"))\n",
    "        \n",
    "        command <- paste0(\"sed -i -e 's#\",\n",
    "                          find,\n",
    "                          \"#\",\n",
    "                          replace,\n",
    "                          \"#g' \",\n",
    "                          filename)\n",
    "        cat(command, \"\\n\")\n",
    "        system(command)\n",
    "        Sys.sleep(0.5)\n",
    "    }\n",
    "}"
   ]
  }
 ],
 "metadata": {
  "kernelspec": {
   "display_name": "R 4.1",
   "language": "R",
   "name": "ir41"
  },
  "language_info": {
   "codemirror_mode": "r",
   "file_extension": ".r",
   "mimetype": "text/x-r-source",
   "name": "R",
   "pygments_lexer": "r",
   "version": "3.6.1"
  }
 },
 "nbformat": 4,
 "nbformat_minor": 5
}
