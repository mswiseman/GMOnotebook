{
 "cells": [
  {
   "cell_type": "markdown",
   "id": "ec79432c-2c2b-4672-8470-7c636b37d6df",
   "metadata": {
    "tags": []
   },
   "source": [
    "# Run test batch notebooks"
   ]
  },
  {
   "cell_type": "code",
   "execution_count": 1,
   "id": "d92b6b85-a8e5-443f-a7fe-8f880d8ec905",
   "metadata": {},
   "outputs": [],
   "source": [
    "setwd(\"3-OUT_Test-batch_notebooks/\")"
   ]
  },
  {
   "cell_type": "code",
   "execution_count": 2,
   "id": "9e3f75a8-34fd-4eac-89e4-3eb03ea9d4e1",
   "metadata": {},
   "outputs": [],
   "source": [
    "notebooks <- list.files(\"./\",\n",
    "                        pattern = \".ipynb\")"
   ]
  },
  {
   "cell_type": "code",
   "execution_count": 3,
   "id": "16758612-f566-4cc8-8b6f-7e9a6d287f7b",
   "metadata": {},
   "outputs": [
    {
     "data": {
      "text/html": [
       "<strong>elapsed:</strong> 0.0109"
      ],
      "text/latex": [
       "\\textbf{elapsed:} 0.0109"
      ],
      "text/markdown": [
       "**elapsed:** 0.0109"
      ],
      "text/plain": [
       "elapsed \n",
       " 0.0109 "
      ]
     },
     "metadata": {},
     "output_type": "display_data"
    }
   ],
   "source": [
    "proc.time()[3]/60"
   ]
  },
  {
   "cell_type": "code",
   "execution_count": 4,
   "id": "49a32cd8-e747-4cc8-9d55-3aaf40788da5",
   "metadata": {},
   "outputs": [
    {
     "data": {
      "text/html": [
       "<ol class=list-inline>\n",
       "\t<li>'GTC_wk7_test-batch_v0.5.ipynb'</li>\n",
       "\t<li>'GTDD_wk3_test-batch_v0.5.ipynb'</li>\n",
       "\t<li>'GTE_wk3_test-batch_v0.5.ipynb'</li>\n",
       "\t<li>'GTFF_wk10_test-batch_v0.5.ipynb'</li>\n",
       "\t<li>'GTUU_wk3_test-batch_v0.5.ipynb'</li>\n",
       "\t<li>'GTW_wk10_test-batch_v0.5.ipynb'</li>\n",
       "</ol>\n"
      ],
      "text/latex": [
       "\\begin{enumerate*}\n",
       "\\item 'GTC\\_wk7\\_test-batch\\_v0.5.ipynb'\n",
       "\\item 'GTDD\\_wk3\\_test-batch\\_v0.5.ipynb'\n",
       "\\item 'GTE\\_wk3\\_test-batch\\_v0.5.ipynb'\n",
       "\\item 'GTFF\\_wk10\\_test-batch\\_v0.5.ipynb'\n",
       "\\item 'GTUU\\_wk3\\_test-batch\\_v0.5.ipynb'\n",
       "\\item 'GTW\\_wk10\\_test-batch\\_v0.5.ipynb'\n",
       "\\end{enumerate*}\n"
      ],
      "text/markdown": [
       "1. 'GTC_wk7_test-batch_v0.5.ipynb'\n",
       "2. 'GTDD_wk3_test-batch_v0.5.ipynb'\n",
       "3. 'GTE_wk3_test-batch_v0.5.ipynb'\n",
       "4. 'GTFF_wk10_test-batch_v0.5.ipynb'\n",
       "5. 'GTUU_wk3_test-batch_v0.5.ipynb'\n",
       "6. 'GTW_wk10_test-batch_v0.5.ipynb'\n",
       "\n",
       "\n"
      ],
      "text/plain": [
       "[1] \"GTC_wk7_test-batch_v0.5.ipynb\"   \"GTDD_wk3_test-batch_v0.5.ipynb\" \n",
       "[3] \"GTE_wk3_test-batch_v0.5.ipynb\"   \"GTFF_wk10_test-batch_v0.5.ipynb\"\n",
       "[5] \"GTUU_wk3_test-batch_v0.5.ipynb\"  \"GTW_wk10_test-batch_v0.5.ipynb\" "
      ]
     },
     "metadata": {},
     "output_type": "display_data"
    }
   ],
   "source": [
    "notebooks"
   ]
  },
  {
   "cell_type": "code",
   "execution_count": 5,
   "id": "a4d96536-0861-4886-896e-bd3ecd4d0496",
   "metadata": {},
   "outputs": [],
   "source": [
    "system(\"conda activate jupyter\")"
   ]
  },
  {
   "cell_type": "code",
   "execution_count": null,
   "id": "2741df8c-9036-4647-9e9f-56781b1fe139",
   "metadata": {},
   "outputs": [],
   "source": []
  },
  {
   "cell_type": "code",
   "execution_count": null,
   "id": "e6395dde-f0bb-4315-ad3a-e8e12c258f44",
   "metadata": {},
   "outputs": [
    {
     "name": "stderr",
     "output_type": "stream",
     "text": [
      "Running notebook GTC_wk7_test-batch_v0.5.ipynb\n",
      "\n",
      "Ran in 22.89205 minutes\n",
      "\n",
      "Running notebook GTDD_wk3_test-batch_v0.5.ipynb\n",
      "\n"
     ]
    }
   ],
   "source": [
    "for(notebook in notebooks){\n",
    "    command <- paste0(\"jupyter nbconvert --to HTML --ExecutePreprocessor.timeout=-1 --allow-errors --execute \",\n",
    "                      notebook)\n",
    "\n",
    "    output_filename <- gsub(\"ipynb\", \"html\", notebook)\n",
    "    \n",
    "#     output_filename <- gsub(\"ipynb\", \"_out.ipynb\", notebook)\n",
    "    \n",
    "#     command <- paste0(\"papermill \", notebook, \" \", output_filename)\n",
    "\n",
    "    message(paste0(\"Running notebook \", notebook))\n",
    "    \n",
    "    output_exists <- FALSE\n",
    "    \n",
    "    ptm <- proc.time()\n",
    "    \n",
    "    system(command)\n",
    "\n",
    "    while(output_exists == FALSE){\n",
    "        Sys.sleep(1)\n",
    "        if(file.exists(output_filename)){\n",
    "            output_exists <- TRUE\n",
    "        }\n",
    "    }\n",
    "    \n",
    "    runtime <- (proc.time() - ptm)[3] / 60\n",
    "    \n",
    "    message(paste0(\"Ran in \", runtime, \" minutes\"))\n",
    "    \n",
    "}"
   ]
  },
  {
   "cell_type": "code",
   "execution_count": null,
   "id": "c1fa70d9-e226-48fa-a747-7dd15598323b",
   "metadata": {},
   "outputs": [],
   "source": []
  }
 ],
 "metadata": {
  "kernelspec": {
   "display_name": "R 4.1",
   "language": "R",
   "name": "ir41"
  },
  "language_info": {
   "codemirror_mode": "r",
   "file_extension": ".r",
   "mimetype": "text/x-r-source",
   "name": "R",
   "pygments_lexer": "r",
   "version": "3.6.1"
  }
 },
 "nbformat": 4,
 "nbformat_minor": 5
}
