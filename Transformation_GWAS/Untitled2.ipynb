{
 "cells": [
  {
   "cell_type": "markdown",
   "id": "59c03f66-7526-4783-b7f0-dd0204424da7",
   "metadata": {},
   "source": [
    "# Merge in batch information and cropping/alignment parameters"
   ]
  },
  {
   "cell_type": "code",
   "execution_count": 1,
   "id": "192138a9-f7a0-4612-9ca8-f6c214fa7e09",
   "metadata": {},
   "outputs": [],
   "source": [
    "library(data.table)"
   ]
  },
  {
   "cell_type": "markdown",
   "id": "35c2548c-dd3f-467c-9284-bba2211f2b01",
   "metadata": {},
   "source": [
    "## Load data"
   ]
  },
  {
   "cell_type": "code",
   "execution_count": 2,
   "id": "bbfe15e8-e725-4176-a81e-12ee1b014def",
   "metadata": {},
   "outputs": [],
   "source": [
    "df <- fread(\"1-OUT_paths_phases_timepoint_to_inspect_a4.csv\")"
   ]
  },
  {
   "cell_type": "code",
   "execution_count": 3,
   "id": "3df9638a-ce7e-447b-bc78-48ca959ec859",
   "metadata": {},
   "outputs": [],
   "source": [
    "batches <- fread(\"2-IN_CHECKLIST_phases_timepoint.csv\")"
   ]
  },
  {
   "cell_type": "code",
   "execution_count": 4,
   "id": "19633aba-04fd-4efc-ac10-bd8dee6ad429",
   "metadata": {},
   "outputs": [],
   "source": [
    "parameters <- fread(\"2-IN_grid_crop_parameters.csv\")"
   ]
  },
  {
   "cell_type": "code",
   "execution_count": 5,
   "id": "42cb5f30-a9ca-4fd6-a09b-6e126bfc82b3",
   "metadata": {},
   "outputs": [
    {
     "data": {
      "text/html": [
       "<ol class=list-inline>\n",
       "\t<li>'dirs'</li>\n",
       "\t<li>'phase'</li>\n",
       "\t<li>'timepoint'</li>\n",
       "\t<li>'phase_timepoint'</li>\n",
       "\t<li>'is_duplicated'</li>\n",
       "</ol>\n"
      ],
      "text/latex": [
       "\\begin{enumerate*}\n",
       "\\item 'dirs'\n",
       "\\item 'phase'\n",
       "\\item 'timepoint'\n",
       "\\item 'phase\\_timepoint'\n",
       "\\item 'is\\_duplicated'\n",
       "\\end{enumerate*}\n"
      ],
      "text/markdown": [
       "1. 'dirs'\n",
       "2. 'phase'\n",
       "3. 'timepoint'\n",
       "4. 'phase_timepoint'\n",
       "5. 'is_duplicated'\n",
       "\n",
       "\n"
      ],
      "text/plain": [
       "[1] \"dirs\"            \"phase\"           \"timepoint\"       \"phase_timepoint\"\n",
       "[5] \"is_duplicated\"  "
      ]
     },
     "metadata": {},
     "output_type": "display_data"
    }
   ],
   "source": [
    "colnames(df)"
   ]
  },
  {
   "cell_type": "markdown",
   "id": "f486f31f-3793-43b8-a7e1-b5e653a3928e",
   "metadata": {},
   "source": [
    "## Merge `df` of paths with batch info"
   ]
  },
  {
   "cell_type": "code",
   "execution_count": 6,
   "id": "ff974c11-c2ba-4b0a-ba49-c8f5b344cc72",
   "metadata": {},
   "outputs": [],
   "source": [
    "colnames(batches)[1:2] <- c(\"phase\", \"timepoint\")"
   ]
  },
  {
   "cell_type": "code",
   "execution_count": 7,
   "id": "8e801ce9-f179-4aff-8b5e-612f2a893f8e",
   "metadata": {},
   "outputs": [],
   "source": [
    "df <- merge(df, batches)"
   ]
  },
  {
   "cell_type": "code",
   "execution_count": 8,
   "id": "48cf51d3-16aa-4957-a0be-897c5d70b978",
   "metadata": {},
   "outputs": [
    {
     "data": {
      "text/html": [
       "<table>\n",
       "<thead><tr><th scope=col>phase</th><th scope=col>timepoint</th><th scope=col>dirs</th><th scope=col>phase_timepoint</th><th scope=col>is_duplicated</th><th scope=col>group</th></tr></thead>\n",
       "<tbody>\n",
       "\t<tr><td>GTAA                                                                  </td><td>wk10                                                                  </td><td>/media//gmobot/easystore/GWAS_Transformation/GTAA/wk10                </td><td>GTAA_wk10                                                             </td><td>FALSE                                                                 </td><td>Grids_post_shift/subset_b                                             </td></tr>\n",
       "\t<tr><td>GTAA                                                                  </td><td>wk3                                                                   </td><td>/media//gmobot/easystore/GWAS_Transformation/GTAA/wk3                 </td><td>GTAA_wk3                                                              </td><td>FALSE                                                                 </td><td>Grids_post_shift/subset_a                                             </td></tr>\n",
       "\t<tr><td>GTAA                                                                  </td><td>wk7                                                                   </td><td>/media//gmobot/easystore/GWAS_Transformation/GTAA/wk7                 </td><td>GTAA_wk7                                                              </td><td>FALSE                                                                 </td><td>Grids_post_shift/subset_a                                             </td></tr>\n",
       "\t<tr><td>GTAAA                                                                 </td><td>wk10                                                                  </td><td>/media//gmobot/Expansio_15/Expansion_15/GWAS_Transformation/GTAAA/wk10</td><td>GTAAA_wk10                                                            </td><td>FALSE                                                                 </td><td>Grids_post_shift/subset_d                                             </td></tr>\n",
       "\t<tr><td>GTAAA                                                                 </td><td>wk3                                                                   </td><td>/media//gmobot/Expansio_15/Expansion_15/GWAS_Transformation/GTAAA/wk3 </td><td>GTAAA_wk3                                                             </td><td>FALSE                                                                 </td><td>Grids_post_shift/subset_d                                             </td></tr>\n",
       "\t<tr><td>GTAAA                                                                 </td><td>wk7                                                                   </td><td>/media//gmobot/Expansio_15/Expansion_15/GWAS_Transformation/GTAAA/wk7 </td><td>GTAAA_wk7                                                             </td><td>FALSE                                                                 </td><td>Grids_post_shift/subset_d                                             </td></tr>\n",
       "</tbody>\n",
       "</table>\n"
      ],
      "text/latex": [
       "\\begin{tabular}{r|llllll}\n",
       " phase & timepoint & dirs & phase\\_timepoint & is\\_duplicated & group\\\\\n",
       "\\hline\n",
       "\t GTAA                                                                     & wk10                                                                     & /media//gmobot/easystore/GWAS\\_Transformation/GTAA/wk10                 & GTAA\\_wk10                                                              & FALSE                                                                    & Grids\\_post\\_shift/subset\\_b                                         \\\\\n",
       "\t GTAA                                                                     & wk3                                                                      & /media//gmobot/easystore/GWAS\\_Transformation/GTAA/wk3                  & GTAA\\_wk3                                                               & FALSE                                                                    & Grids\\_post\\_shift/subset\\_a                                         \\\\\n",
       "\t GTAA                                                                     & wk7                                                                      & /media//gmobot/easystore/GWAS\\_Transformation/GTAA/wk7                  & GTAA\\_wk7                                                               & FALSE                                                                    & Grids\\_post\\_shift/subset\\_a                                         \\\\\n",
       "\t GTAAA                                                                        & wk10                                                                         & /media//gmobot/Expansio\\_15/Expansion\\_15/GWAS\\_Transformation/GTAAA/wk10 & GTAAA\\_wk10                                                                 & FALSE                                                                        & Grids\\_post\\_shift/subset\\_d                                             \\\\\n",
       "\t GTAAA                                                                        & wk3                                                                          & /media//gmobot/Expansio\\_15/Expansion\\_15/GWAS\\_Transformation/GTAAA/wk3  & GTAAA\\_wk3                                                                  & FALSE                                                                        & Grids\\_post\\_shift/subset\\_d                                             \\\\\n",
       "\t GTAAA                                                                        & wk7                                                                          & /media//gmobot/Expansio\\_15/Expansion\\_15/GWAS\\_Transformation/GTAAA/wk7  & GTAAA\\_wk7                                                                  & FALSE                                                                        & Grids\\_post\\_shift/subset\\_d                                             \\\\\n",
       "\\end{tabular}\n"
      ],
      "text/markdown": [
       "\n",
       "| phase | timepoint | dirs | phase_timepoint | is_duplicated | group |\n",
       "|---|---|---|---|---|---|\n",
       "| GTAA                                                                   | wk10                                                                   | /media//gmobot/easystore/GWAS_Transformation/GTAA/wk10                 | GTAA_wk10                                                              | FALSE                                                                  | Grids_post_shift/subset_b                                              |\n",
       "| GTAA                                                                   | wk3                                                                    | /media//gmobot/easystore/GWAS_Transformation/GTAA/wk3                  | GTAA_wk3                                                               | FALSE                                                                  | Grids_post_shift/subset_a                                              |\n",
       "| GTAA                                                                   | wk7                                                                    | /media//gmobot/easystore/GWAS_Transformation/GTAA/wk7                  | GTAA_wk7                                                               | FALSE                                                                  | Grids_post_shift/subset_a                                              |\n",
       "| GTAAA                                                                  | wk10                                                                   | /media//gmobot/Expansio_15/Expansion_15/GWAS_Transformation/GTAAA/wk10 | GTAAA_wk10                                                             | FALSE                                                                  | Grids_post_shift/subset_d                                              |\n",
       "| GTAAA                                                                  | wk3                                                                    | /media//gmobot/Expansio_15/Expansion_15/GWAS_Transformation/GTAAA/wk3  | GTAAA_wk3                                                              | FALSE                                                                  | Grids_post_shift/subset_d                                              |\n",
       "| GTAAA                                                                  | wk7                                                                    | /media//gmobot/Expansio_15/Expansion_15/GWAS_Transformation/GTAAA/wk7  | GTAAA_wk7                                                              | FALSE                                                                  | Grids_post_shift/subset_d                                              |\n",
       "\n"
      ],
      "text/plain": [
       "  phase timepoint\n",
       "1 GTAA  wk10     \n",
       "2 GTAA  wk3      \n",
       "3 GTAA  wk7      \n",
       "4 GTAAA wk10     \n",
       "5 GTAAA wk3      \n",
       "6 GTAAA wk7      \n",
       "  dirs                                                                  \n",
       "1 /media//gmobot/easystore/GWAS_Transformation/GTAA/wk10                \n",
       "2 /media//gmobot/easystore/GWAS_Transformation/GTAA/wk3                 \n",
       "3 /media//gmobot/easystore/GWAS_Transformation/GTAA/wk7                 \n",
       "4 /media//gmobot/Expansio_15/Expansion_15/GWAS_Transformation/GTAAA/wk10\n",
       "5 /media//gmobot/Expansio_15/Expansion_15/GWAS_Transformation/GTAAA/wk3 \n",
       "6 /media//gmobot/Expansio_15/Expansion_15/GWAS_Transformation/GTAAA/wk7 \n",
       "  phase_timepoint is_duplicated group                    \n",
       "1 GTAA_wk10       FALSE         Grids_post_shift/subset_b\n",
       "2 GTAA_wk3        FALSE         Grids_post_shift/subset_a\n",
       "3 GTAA_wk7        FALSE         Grids_post_shift/subset_a\n",
       "4 GTAAA_wk10      FALSE         Grids_post_shift/subset_d\n",
       "5 GTAAA_wk3       FALSE         Grids_post_shift/subset_d\n",
       "6 GTAAA_wk7       FALSE         Grids_post_shift/subset_d"
      ]
     },
     "metadata": {},
     "output_type": "display_data"
    }
   ],
   "source": [
    "head(df)"
   ]
  },
  {
   "cell_type": "markdown",
   "id": "05351c1c-de15-4041-8b04-d0df0872661d",
   "metadata": {},
   "source": [
    "Do we have group info for everything?"
   ]
  },
  {
   "cell_type": "code",
   "execution_count": 9,
   "id": "dd13adb8-95a8-4127-a750-34972839ffdb",
   "metadata": {},
   "outputs": [
    {
     "data": {
      "text/html": [
       "<table>\n",
       "<thead><tr><th scope=col>phase</th><th scope=col>timepoint</th><th scope=col>dirs</th><th scope=col>phase_timepoint</th><th scope=col>is_duplicated</th><th scope=col>group</th></tr></thead>\n",
       "<tbody>\n",
       "</tbody>\n",
       "</table>\n"
      ],
      "text/latex": [
       "\\begin{tabular}{r|llllll}\n",
       " phase & timepoint & dirs & phase\\_timepoint & is\\_duplicated & group\\\\\n",
       "\\hline\n",
       "\\end{tabular}\n"
      ],
      "text/markdown": [
       "\n",
       "| phase | timepoint | dirs | phase_timepoint | is_duplicated | group |\n",
       "|---|---|---|---|---|---|\n",
       "\n"
      ],
      "text/plain": [
       "     phase timepoint dirs phase_timepoint is_duplicated group"
      ]
     },
     "metadata": {},
     "output_type": "display_data"
    }
   ],
   "source": [
    "df[is.na(df$group), ]"
   ]
  },
  {
   "cell_type": "code",
   "execution_count": 10,
   "id": "ee0f6830-8b2b-40ac-9c63-271e5ea3beb8",
   "metadata": {},
   "outputs": [
    {
     "data": {
      "text/html": [
       "<table>\n",
       "<thead><tr><th scope=col>phase</th><th scope=col>timepoint</th><th scope=col>dirs</th><th scope=col>phase_timepoint</th><th scope=col>is_duplicated</th><th scope=col>group</th></tr></thead>\n",
       "<tbody>\n",
       "</tbody>\n",
       "</table>\n"
      ],
      "text/latex": [
       "\\begin{tabular}{r|llllll}\n",
       " phase & timepoint & dirs & phase\\_timepoint & is\\_duplicated & group\\\\\n",
       "\\hline\n",
       "\\end{tabular}\n"
      ],
      "text/markdown": [
       "\n",
       "| phase | timepoint | dirs | phase_timepoint | is_duplicated | group |\n",
       "|---|---|---|---|---|---|\n",
       "\n"
      ],
      "text/plain": [
       "     phase timepoint dirs phase_timepoint is_duplicated group"
      ]
     },
     "metadata": {},
     "output_type": "display_data"
    }
   ],
   "source": [
    "df[which(df$group == \"\"), ]"
   ]
  },
  {
   "cell_type": "markdown",
   "id": "be0fe2d6-78a6-4075-b592-c8e33b2a1c50",
   "metadata": {},
   "source": [
    "Yes."
   ]
  },
  {
   "cell_type": "markdown",
   "id": "9ae9caa4-77d3-4904-8b81-9ca2e41f921c",
   "metadata": {},
   "source": [
    "## Find where each chroma grid in `parameters` file comes from"
   ]
  },
  {
   "cell_type": "code",
   "execution_count": 11,
   "id": "dbefeade-5b64-4d64-80e3-97bce8f53cbe",
   "metadata": {},
   "outputs": [],
   "source": [
    "files <- list.files(\"/media/\",\n",
    "                    recursive = TRUE,\n",
    "                    full.names = TRUE)"
   ]
  },
  {
   "cell_type": "code",
   "execution_count": 12,
   "id": "9d426f3d-d3ea-4169-a53b-06cae9deba9e",
   "metadata": {},
   "outputs": [],
   "source": [
    "files <- files[grepl(\"GWAS_Transformation\", files)]"
   ]
  },
  {
   "cell_type": "code",
   "execution_count": 13,
   "id": "034bc93b-1e1c-443a-b377-1d0f99ae6088",
   "metadata": {},
   "outputs": [],
   "source": [
    "files <- files[!grepl(\"desktop.ini\", files)]\n",
    "files <- files[!grepl(\"xlsx\", files)]\n",
    "files <- files[!grepl(\"roadband\", files)]\n",
    "files <- files[!grepl(\"rgb_test\", files)]\n",
    "files <- files[!grepl(\".csv\", files)]\n",
    "files <- files[!grepl(\"duplicate\", files)]\n",
    "files <- files[!grepl(\"Not right\", files)]\n",
    "files <- files[!grepl(\"wrong\", files)]\n",
    "files <- files[!grepl(\"screenshots\", files)]\n",
    "files <- files[!grepl(\"subset\", files)]\n",
    "files <- files[!grepl(\"Grids\", files)]\n",
    "files <- files[!grepl(\"GRIDS\", files)]\n",
    "files <- files[!grepl(\".txt\", files)]\n",
    "files <- files[!grepl(\"samples_for_annotation\", files)]"
   ]
  },
  {
   "cell_type": "markdown",
   "id": "8d4b636c-a879-415e-892f-177909ca5afb",
   "metadata": {},
   "source": [
    "Test for one"
   ]
  },
  {
   "cell_type": "code",
   "execution_count": 14,
   "id": "87b3aec9-18ab-4336-887a-d5b7ecd3e4c5",
   "metadata": {},
   "outputs": [],
   "source": [
    "i <- 1"
   ]
  },
  {
   "cell_type": "code",
   "execution_count": 15,
   "id": "4d8253b7-bea0-4c78-a287-1c2a43375a33",
   "metadata": {},
   "outputs": [],
   "source": [
    "parameters$grid_file <- gsub(\"_pre-densenet\", \"\", parameters$RGB[i])"
   ]
  },
  {
   "cell_type": "code",
   "execution_count": 16,
   "id": "3dfe5397-b186-4f93-ba17-6dadf6baac87",
   "metadata": {},
   "outputs": [
    {
     "data": {
      "text/html": [
       "'/media//gmobot/Elements_9/GWAS_Transformation/GTC/wk7/chromagrid_I5.0_F1.9_L100LED30_133853_0_0_0_rgb.jpg'"
      ],
      "text/latex": [
       "'/media//gmobot/Elements\\_9/GWAS\\_Transformation/GTC/wk7/chromagrid\\_I5.0\\_F1.9\\_L100LED30\\_133853\\_0\\_0\\_0\\_rgb.jpg'"
      ],
      "text/markdown": [
       "'/media//gmobot/Elements_9/GWAS_Transformation/GTC/wk7/chromagrid_I5.0_F1.9_L100LED30_133853_0_0_0_rgb.jpg'"
      ],
      "text/plain": [
       "[1] \"/media//gmobot/Elements_9/GWAS_Transformation/GTC/wk7/chromagrid_I5.0_F1.9_L100LED30_133853_0_0_0_rgb.jpg\""
      ]
     },
     "metadata": {},
     "output_type": "display_data"
    }
   ],
   "source": [
    "files[grepl(parameters$grid_file[i], files)]"
   ]
  },
  {
   "cell_type": "markdown",
   "id": "0f686ceb-a7e2-4364-8b4a-0210244ac36a",
   "metadata": {},
   "source": [
    "Run for all"
   ]
  },
  {
   "cell_type": "code",
   "execution_count": 17,
   "id": "636a628d-81db-4c1c-a4d3-24dea9e87d74",
   "metadata": {},
   "outputs": [],
   "source": [
    "parameters$grid_file_rgb_path <- parameters$grid_file_hdr_path <- parameters$grid_file_prefix <- NA"
   ]
  },
  {
   "cell_type": "code",
   "execution_count": 18,
   "id": "8528531d-678d-43b5-b594-66cbe74652ed",
   "metadata": {
    "tags": []
   },
   "outputs": [
    {
     "name": "stdout",
     "output_type": "stream",
     "text": [
      "[1] 1\n",
      "[1] 2\n",
      "[1] 3\n",
      "[1] 4\n",
      "[1] 5\n",
      "[1] 6\n"
     ]
    }
   ],
   "source": [
    "for(i in 1:nrow(parameters)){\n",
    "    print(i)\n",
    "    parameters$grid_file_prefix[i] <- gsub(\"_pre-densenet\", \"\", parameters$RGB[i])\n",
    "    \n",
    "    grid_file_rgb_path <- files[grepl(parameters$grid_file_prefix[i], files)][1]\n",
    "    if(file.exists(grid_file_rgb_path)){\n",
    "        parameters$grid_file_rgb_path[i] <- grid_file_rgb_path\n",
    "    } else { \n",
    "        stop(\"Error! RGB File doesn't exist.\")\n",
    "    }\n",
    "    \n",
    "    grid_file_hdr_path <- gsub(\"_rgb.jpg\", \"_Fluorescence.hdr\", parameters$grid_file_rgb_path[i])\n",
    "    if(file.exists(grid_file_hdr_path)){\n",
    "        parameters$grid_file_hdr_path[i] <- grid_file_hdr_path\n",
    "    } else { \n",
    "        print(grid_file_hdr_path)\n",
    "        stop(\"Error! HDR File doesn't exist.\")\n",
    "\n",
    "    }\n",
    "\n",
    "}"
   ]
  },
  {
   "cell_type": "code",
   "execution_count": 19,
   "id": "8d099225-d2e9-4238-9cd2-73de378eceaa",
   "metadata": {
    "tags": []
   },
   "outputs": [
    {
     "data": {
      "text/html": [
       "<table>\n",
       "<thead><tr><th scope=col>Shift_group</th><th scope=col>subset</th><th scope=col>Location</th><th scope=col>RGB</th><th scope=col>prealign_top</th><th scope=col>prealign_bottom</th><th scope=col>prealign_left</th><th scope=col>prealign_right</th><th scope=col>Align_file</th><th scope=col>D</th><th scope=col>GS</th><th scope=col>aligned_top</th><th scope=col>aligned_bottom</th><th scope=col>aligned_left</th><th scope=col>aligned_right</th><th scope=col>grid_file</th><th scope=col>grid_file_prefix</th><th scope=col>grid_file_hdr_path</th><th scope=col>grid_file_rgb_path</th></tr></thead>\n",
       "<tbody>\n",
       "\t<tr><td>pre_shift                                                                                                                                       </td><td>subset_a                                                                                                                                        </td><td>GTC_7                                                                                                                                           </td><td>chromagrid_I5.0_F1.9_L100LED30_133853_0_0_0_rgb_pre-densenet                                                                                    </td><td>439.0                                                                                                                                           </td><td>1540                                                                                                                                            </td><td>277                                                                                                                                             </td><td>1725                                                                                                                                            </td><td>chromagrid_I5.0_F1.9_L100LED30_133853_0_0_0_rgb_D0.52_GS0.62.jpg                                                                                </td><td>0.52                                                                                                                                            </td><td>0.62                                                                                                                                            </td><td> 99                                                                                                                                             </td><td>1252                                                                                                                                            </td><td>285                                                                                                                                             </td><td>1227                                                                                                                                            </td><td>chromagrid_I5.0_F1.9_L100LED30_133853_0_0_0_rgb                                                                                                 </td><td>chromagrid_I5.0_F1.9_L100LED30_133853_0_0_0_rgb                                                                                                 </td><td>/media//gmobot/Elements_9/GWAS_Transformation/GTC/wk7/chromagrid_I5.0_F1.9_L100LED30_133853_0_0_0_Fluorescence.hdr                              </td><td>/media//gmobot/Elements_9/GWAS_Transformation/GTC/wk7/chromagrid_I5.0_F1.9_L100LED30_133853_0_0_0_rgb.jpg                                       </td></tr>\n",
       "\t<tr><td>pre_shift                                                                                                                                       </td><td>subset_b                                                                                                                                        </td><td>GTH_3                                                                                                                                           </td><td>chromagrid_I5.0_F1.9_L100LED30_110504_0_0_0_rgb_pre-densenet                                                                                    </td><td>432.0                                                                                                                                           </td><td>1527                                                                                                                                            </td><td>270                                                                                                                                             </td><td>1710                                                                                                                                            </td><td>chromagrid_I5.0_F1.9_L100LED30_110504_0_0_0_rgb_D0.54_GS0.70.jpg                                                                                </td><td>0.54                                                                                                                                            </td><td>0.70                                                                                                                                            </td><td>100                                                                                                                                             </td><td>1252                                                                                                                                            </td><td>283                                                                                                                                             </td><td>1225                                                                                                                                            </td><td>chromagrid_I5.0_F1.9_L100LED30_133853_0_0_0_rgb                                                                                                 </td><td>chromagrid_I5.0_F1.9_L100LED30_110504_0_0_0_rgb                                                                                                 </td><td>/media//gmobot/Elements_8/GoogleDrive/Images_Elements_8/GWAS_Transformation/GTE/wk3/chromagrid_I5.0_F1.9_L100LED30_110504_0_0_0_Fluorescence.hdr</td><td>/media//gmobot/Elements_8/GoogleDrive/Images_Elements_8/GWAS_Transformation/GTE/wk3/chromagrid_I5.0_F1.9_L100LED30_110504_0_0_0_rgb.jpg         </td></tr>\n",
       "\t<tr><td>post_shift                                                                                                                                      </td><td>subset_a                                                                                                                                        </td><td>GTW_10                                                                                                                                          </td><td>chromagrid_I5.0_F1.9_L100LED30_124643_0_0_0_rgb_pre-densenet                                                                                    </td><td>469.5                                                                                                                                           </td><td>1584                                                                                                                                            </td><td>230                                                                                                                                             </td><td>1688                                                                                                                                            </td><td>chromagrid_I5.0_F1.9_L100LED30_124643_0_0_0_rgb_D0.66_GS0.72.jpg                                                                                </td><td>0.66                                                                                                                                            </td><td>0.72                                                                                                                                            </td><td> 98                                                                                                                                             </td><td>1254                                                                                                                                            </td><td>280                                                                                                                                             </td><td>1228                                                                                                                                            </td><td>chromagrid_I5.0_F1.9_L100LED30_133853_0_0_0_rgb                                                                                                 </td><td>chromagrid_I5.0_F1.9_L100LED30_124643_0_0_0_rgb                                                                                                 </td><td>/media//gmobot/easystore/GWAS_Transformation/GTW/wk10/chromagrid_I5.0_F1.9_L100LED30_124643_0_0_0_Fluorescence.hdr                              </td><td>/media//gmobot/easystore/GWAS_Transformation/GTW/wk10/chromagrid_I5.0_F1.9_L100LED30_124643_0_0_0_rgb.jpg                                       </td></tr>\n",
       "\t<tr><td>post_shift                                                                                                                                      </td><td>subset_b                                                                                                                                        </td><td>GTDD_3                                                                                                                                          </td><td>chromagrid_I5.0_F1.9_L100LED30_102651_0_0_0_rgb_pre-densenet                                                                                    </td><td>504.0                                                                                                                                           </td><td>1613                                                                                                                                            </td><td>267                                                                                                                                             </td><td>1722                                                                                                                                            </td><td>chromagrid_I5.0_F1.9_L100LED30_102651_0_0_0_rgb_D0.60_GS0.85.jpg                                                                                </td><td>0.60                                                                                                                                            </td><td>0.85                                                                                                                                            </td><td>128                                                                                                                                             </td><td>1284                                                                                                                                            </td><td>346                                                                                                                                             </td><td>1278                                                                                                                                            </td><td>chromagrid_I5.0_F1.9_L100LED30_133853_0_0_0_rgb                                                                                                 </td><td>chromagrid_I5.0_F1.9_L100LED30_102651_0_0_0_rgb                                                                                                 </td><td>/media//gmobot/Easystore_longerm_storage_2/GWAS_Transformation/GTDD/wk3/chromagrid_I5.0_F1.9_L100LED30_102651_0_0_0_Fluorescence.hdr            </td><td>/media//gmobot/Easystore_longerm_storage_2/GWAS_Transformation/GTDD/wk3/chromagrid_I5.0_F1.9_L100LED30_102651_0_0_0_rgb.jpg                     </td></tr>\n",
       "\t<tr><td>post_shift                                                                                                                                      </td><td>subset_c                                                                                                                                        </td><td>GTLL_3                                                                                                                                          </td><td>chromagrid_F1.9_I5.0_L100LED30_102232_0_0_0_rgb_pre-densenet                                                                                    </td><td>501.0                                                                                                                                           </td><td>1617                                                                                                                                            </td><td>240                                                                                                                                             </td><td>1701                                                                                                                                            </td><td>chromagrid_F1.9_I5.0_L100LED30_102232_0_0_0_rgb_D0.55_GS0.65.jpg                                                                                </td><td>0.55                                                                                                                                            </td><td>0.65                                                                                                                                            </td><td>109                                                                                                                                             </td><td>1266                                                                                                                                            </td><td>342                                                                                                                                             </td><td>1280                                                                                                                                            </td><td>chromagrid_I5.0_F1.9_L100LED30_133853_0_0_0_rgb                                                                                                 </td><td>chromagrid_F1.9_I5.0_L100LED30_102232_0_0_0_rgb                                                                                                 </td><td>/media//gmobot/Elements_13/Elements_13/GWAS_Transformation/GTFF/wk10/chromagrid_F1.9_I5.0_L100LED30_102232_0_0_0_Fluorescence.hdr               </td><td>/media//gmobot/Elements_13/Elements_13/GWAS_Transformation/GTFF/wk10/chromagrid_F1.9_I5.0_L100LED30_102232_0_0_0_rgb.jpg                        </td></tr>\n",
       "\t<tr><td>post_shift                                                                                                                                      </td><td>subset_d                                                                                                                                        </td><td>GTUU_3                                                                                                                                          </td><td>chromagrid_I5.0_F1.9_L100LED30_171422_0_0_0_rgb_pre-densenet                                                                                    </td><td>486.0                                                                                                                                           </td><td>1602                                                                                                                                            </td><td>221                                                                                                                                             </td><td>1682                                                                                                                                            </td><td>chromagrid_I5.0_F1.9_L100LED30_171422_0_0_0_rgb_D0.50_GS0.60.jpg                                                                                </td><td>0.50                                                                                                                                            </td><td>0.60                                                                                                                                            </td><td> 95                                                                                                                                             </td><td>1246                                                                                                                                            </td><td>330                                                                                                                                             </td><td>1266                                                                                                                                            </td><td>chromagrid_I5.0_F1.9_L100LED30_133853_0_0_0_rgb                                                                                                 </td><td>chromagrid_I5.0_F1.9_L100LED30_171422_0_0_0_rgb                                                                                                 </td><td>/media//gmobot/Elements_14/Elements_14/GWAS_Transformation/GTUU/wk3/chromagrid_I5.0_F1.9_L100LED30_171422_0_0_0_Fluorescence.hdr                </td><td>/media//gmobot/Elements_14/Elements_14/GWAS_Transformation/GTUU/wk3/chromagrid_I5.0_F1.9_L100LED30_171422_0_0_0_rgb.jpg                         </td></tr>\n",
       "</tbody>\n",
       "</table>\n"
      ],
      "text/latex": [
       "\\begin{tabular}{r|lllllllllllllllllll}\n",
       " Shift\\_group & subset & Location & RGB & prealign\\_top & prealign\\_bottom & prealign\\_left & prealign\\_right & Align\\_file & D & GS & aligned\\_top & aligned\\_bottom & aligned\\_left & aligned\\_right & grid\\_file & grid\\_file\\_prefix & grid\\_file\\_hdr\\_path & grid\\_file\\_rgb\\_path\\\\\n",
       "\\hline\n",
       "\t pre\\_shift                                                                                                                                                          & subset\\_a                                                                                                                                                           & GTC\\_7                                                                                                                                                              & chromagrid\\_I5.0\\_F1.9\\_L100LED30\\_133853\\_0\\_0\\_0\\_rgb\\_pre-densenet                                                                                       & 439.0                                                                                                                                                                & 1540                                                                                                                                                                 & 277                                                                                                                                                                  & 1725                                                                                                                                                                 & chromagrid\\_I5.0\\_F1.9\\_L100LED30\\_133853\\_0\\_0\\_0\\_rgb\\_D0.52\\_GS0.62.jpg                                                                                 & 0.52                                                                                                                                                                 & 0.62                                                                                                                                                                 &  99                                                                                                                                                                  & 1252                                                                                                                                                                 & 285                                                                                                                                                                  & 1227                                                                                                                                                                 & chromagrid\\_I5.0\\_F1.9\\_L100LED30\\_133853\\_0\\_0\\_0\\_rgb                                                                                                      & chromagrid\\_I5.0\\_F1.9\\_L100LED30\\_133853\\_0\\_0\\_0\\_rgb                                                                                                      & /media//gmobot/Elements\\_9/GWAS\\_Transformation/GTC/wk7/chromagrid\\_I5.0\\_F1.9\\_L100LED30\\_133853\\_0\\_0\\_0\\_Fluorescence.hdr                               & /media//gmobot/Elements\\_9/GWAS\\_Transformation/GTC/wk7/chromagrid\\_I5.0\\_F1.9\\_L100LED30\\_133853\\_0\\_0\\_0\\_rgb.jpg                                       \\\\\n",
       "\t pre\\_shift                                                                                                                                                              & subset\\_b                                                                                                                                                               & GTH\\_3                                                                                                                                                                  & chromagrid\\_I5.0\\_F1.9\\_L100LED30\\_110504\\_0\\_0\\_0\\_rgb\\_pre-densenet                                                                                           & 432.0                                                                                                                                                                    & 1527                                                                                                                                                                     & 270                                                                                                                                                                      & 1710                                                                                                                                                                     & chromagrid\\_I5.0\\_F1.9\\_L100LED30\\_110504\\_0\\_0\\_0\\_rgb\\_D0.54\\_GS0.70.jpg                                                                                     & 0.54                                                                                                                                                                     & 0.70                                                                                                                                                                     & 100                                                                                                                                                                      & 1252                                                                                                                                                                     & 283                                                                                                                                                                      & 1225                                                                                                                                                                     & chromagrid\\_I5.0\\_F1.9\\_L100LED30\\_133853\\_0\\_0\\_0\\_rgb                                                                                                          & chromagrid\\_I5.0\\_F1.9\\_L100LED30\\_110504\\_0\\_0\\_0\\_rgb                                                                                                          & /media//gmobot/Elements\\_8/GoogleDrive/Images\\_Elements\\_8/GWAS\\_Transformation/GTE/wk3/chromagrid\\_I5.0\\_F1.9\\_L100LED30\\_110504\\_0\\_0\\_0\\_Fluorescence.hdr & /media//gmobot/Elements\\_8/GoogleDrive/Images\\_Elements\\_8/GWAS\\_Transformation/GTE/wk3/chromagrid\\_I5.0\\_F1.9\\_L100LED30\\_110504\\_0\\_0\\_0\\_rgb.jpg         \\\\\n",
       "\t post\\_shift                                                                                                                                                       & subset\\_a                                                                                                                                                         & GTW\\_10                                                                                                                                                           & chromagrid\\_I5.0\\_F1.9\\_L100LED30\\_124643\\_0\\_0\\_0\\_rgb\\_pre-densenet                                                                                     & 469.5                                                                                                                                                              & 1584                                                                                                                                                               & 230                                                                                                                                                                & 1688                                                                                                                                                               & chromagrid\\_I5.0\\_F1.9\\_L100LED30\\_124643\\_0\\_0\\_0\\_rgb\\_D0.66\\_GS0.72.jpg                                                                               & 0.66                                                                                                                                                               & 0.72                                                                                                                                                               &  98                                                                                                                                                                & 1254                                                                                                                                                               & 280                                                                                                                                                                & 1228                                                                                                                                                               & chromagrid\\_I5.0\\_F1.9\\_L100LED30\\_133853\\_0\\_0\\_0\\_rgb                                                                                                    & chromagrid\\_I5.0\\_F1.9\\_L100LED30\\_124643\\_0\\_0\\_0\\_rgb                                                                                                    & /media//gmobot/easystore/GWAS\\_Transformation/GTW/wk10/chromagrid\\_I5.0\\_F1.9\\_L100LED30\\_124643\\_0\\_0\\_0\\_Fluorescence.hdr                               & /media//gmobot/easystore/GWAS\\_Transformation/GTW/wk10/chromagrid\\_I5.0\\_F1.9\\_L100LED30\\_124643\\_0\\_0\\_0\\_rgb.jpg                                       \\\\\n",
       "\t post\\_shift                                                                                                                                                             & subset\\_b                                                                                                                                                               & GTDD\\_3                                                                                                                                                                 & chromagrid\\_I5.0\\_F1.9\\_L100LED30\\_102651\\_0\\_0\\_0\\_rgb\\_pre-densenet                                                                                           & 504.0                                                                                                                                                                    & 1613                                                                                                                                                                     & 267                                                                                                                                                                      & 1722                                                                                                                                                                     & chromagrid\\_I5.0\\_F1.9\\_L100LED30\\_102651\\_0\\_0\\_0\\_rgb\\_D0.60\\_GS0.85.jpg                                                                                     & 0.60                                                                                                                                                                     & 0.85                                                                                                                                                                     & 128                                                                                                                                                                      & 1284                                                                                                                                                                     & 346                                                                                                                                                                      & 1278                                                                                                                                                                     & chromagrid\\_I5.0\\_F1.9\\_L100LED30\\_133853\\_0\\_0\\_0\\_rgb                                                                                                          & chromagrid\\_I5.0\\_F1.9\\_L100LED30\\_102651\\_0\\_0\\_0\\_rgb                                                                                                          & /media//gmobot/Easystore\\_longerm\\_storage\\_2/GWAS\\_Transformation/GTDD/wk3/chromagrid\\_I5.0\\_F1.9\\_L100LED30\\_102651\\_0\\_0\\_0\\_Fluorescence.hdr             & /media//gmobot/Easystore\\_longerm\\_storage\\_2/GWAS\\_Transformation/GTDD/wk3/chromagrid\\_I5.0\\_F1.9\\_L100LED30\\_102651\\_0\\_0\\_0\\_rgb.jpg                     \\\\\n",
       "\t post\\_shift                                                                                                                                                           & subset\\_c                                                                                                                                                             & GTLL\\_3                                                                                                                                                               & chromagrid\\_F1.9\\_I5.0\\_L100LED30\\_102232\\_0\\_0\\_0\\_rgb\\_pre-densenet                                                                                         & 501.0                                                                                                                                                                  & 1617                                                                                                                                                                   & 240                                                                                                                                                                    & 1701                                                                                                                                                                   & chromagrid\\_F1.9\\_I5.0\\_L100LED30\\_102232\\_0\\_0\\_0\\_rgb\\_D0.55\\_GS0.65.jpg                                                                                   & 0.55                                                                                                                                                                   & 0.65                                                                                                                                                                   & 109                                                                                                                                                                    & 1266                                                                                                                                                                   & 342                                                                                                                                                                    & 1280                                                                                                                                                                   & chromagrid\\_I5.0\\_F1.9\\_L100LED30\\_133853\\_0\\_0\\_0\\_rgb                                                                                                        & chromagrid\\_F1.9\\_I5.0\\_L100LED30\\_102232\\_0\\_0\\_0\\_rgb                                                                                                        & /media//gmobot/Elements\\_13/Elements\\_13/GWAS\\_Transformation/GTFF/wk10/chromagrid\\_F1.9\\_I5.0\\_L100LED30\\_102232\\_0\\_0\\_0\\_Fluorescence.hdr                & /media//gmobot/Elements\\_13/Elements\\_13/GWAS\\_Transformation/GTFF/wk10/chromagrid\\_F1.9\\_I5.0\\_L100LED30\\_102232\\_0\\_0\\_0\\_rgb.jpg                        \\\\\n",
       "\t post\\_shift                                                                                                                                                           & subset\\_d                                                                                                                                                             & GTUU\\_3                                                                                                                                                               & chromagrid\\_I5.0\\_F1.9\\_L100LED30\\_171422\\_0\\_0\\_0\\_rgb\\_pre-densenet                                                                                         & 486.0                                                                                                                                                                  & 1602                                                                                                                                                                   & 221                                                                                                                                                                    & 1682                                                                                                                                                                   & chromagrid\\_I5.0\\_F1.9\\_L100LED30\\_171422\\_0\\_0\\_0\\_rgb\\_D0.50\\_GS0.60.jpg                                                                                   & 0.50                                                                                                                                                                   & 0.60                                                                                                                                                                   &  95                                                                                                                                                                    & 1246                                                                                                                                                                   & 330                                                                                                                                                                    & 1266                                                                                                                                                                   & chromagrid\\_I5.0\\_F1.9\\_L100LED30\\_133853\\_0\\_0\\_0\\_rgb                                                                                                        & chromagrid\\_I5.0\\_F1.9\\_L100LED30\\_171422\\_0\\_0\\_0\\_rgb                                                                                                        & /media//gmobot/Elements\\_14/Elements\\_14/GWAS\\_Transformation/GTUU/wk3/chromagrid\\_I5.0\\_F1.9\\_L100LED30\\_171422\\_0\\_0\\_0\\_Fluorescence.hdr                 & /media//gmobot/Elements\\_14/Elements\\_14/GWAS\\_Transformation/GTUU/wk3/chromagrid\\_I5.0\\_F1.9\\_L100LED30\\_171422\\_0\\_0\\_0\\_rgb.jpg                         \\\\\n",
       "\\end{tabular}\n"
      ],
      "text/markdown": [
       "\n",
       "| Shift_group | subset | Location | RGB | prealign_top | prealign_bottom | prealign_left | prealign_right | Align_file | D | GS | aligned_top | aligned_bottom | aligned_left | aligned_right | grid_file | grid_file_prefix | grid_file_hdr_path | grid_file_rgb_path |\n",
       "|---|---|---|---|---|---|---|---|---|---|---|---|---|---|---|---|---|---|---|\n",
       "| pre_shift                                                                                                                                        | subset_a                                                                                                                                         | GTC_7                                                                                                                                            | chromagrid_I5.0_F1.9_L100LED30_133853_0_0_0_rgb_pre-densenet                                                                                     | 439.0                                                                                                                                            | 1540                                                                                                                                             | 277                                                                                                                                              | 1725                                                                                                                                             | chromagrid_I5.0_F1.9_L100LED30_133853_0_0_0_rgb_D0.52_GS0.62.jpg                                                                                 | 0.52                                                                                                                                             | 0.62                                                                                                                                             |  99                                                                                                                                              | 1252                                                                                                                                             | 285                                                                                                                                              | 1227                                                                                                                                             | chromagrid_I5.0_F1.9_L100LED30_133853_0_0_0_rgb                                                                                                  | chromagrid_I5.0_F1.9_L100LED30_133853_0_0_0_rgb                                                                                                  | /media//gmobot/Elements_9/GWAS_Transformation/GTC/wk7/chromagrid_I5.0_F1.9_L100LED30_133853_0_0_0_Fluorescence.hdr                               | /media//gmobot/Elements_9/GWAS_Transformation/GTC/wk7/chromagrid_I5.0_F1.9_L100LED30_133853_0_0_0_rgb.jpg                                        |\n",
       "| pre_shift                                                                                                                                        | subset_b                                                                                                                                         | GTH_3                                                                                                                                            | chromagrid_I5.0_F1.9_L100LED30_110504_0_0_0_rgb_pre-densenet                                                                                     | 432.0                                                                                                                                            | 1527                                                                                                                                             | 270                                                                                                                                              | 1710                                                                                                                                             | chromagrid_I5.0_F1.9_L100LED30_110504_0_0_0_rgb_D0.54_GS0.70.jpg                                                                                 | 0.54                                                                                                                                             | 0.70                                                                                                                                             | 100                                                                                                                                              | 1252                                                                                                                                             | 283                                                                                                                                              | 1225                                                                                                                                             | chromagrid_I5.0_F1.9_L100LED30_133853_0_0_0_rgb                                                                                                  | chromagrid_I5.0_F1.9_L100LED30_110504_0_0_0_rgb                                                                                                  | /media//gmobot/Elements_8/GoogleDrive/Images_Elements_8/GWAS_Transformation/GTE/wk3/chromagrid_I5.0_F1.9_L100LED30_110504_0_0_0_Fluorescence.hdr | /media//gmobot/Elements_8/GoogleDrive/Images_Elements_8/GWAS_Transformation/GTE/wk3/chromagrid_I5.0_F1.9_L100LED30_110504_0_0_0_rgb.jpg          |\n",
       "| post_shift                                                                                                                                       | subset_a                                                                                                                                         | GTW_10                                                                                                                                           | chromagrid_I5.0_F1.9_L100LED30_124643_0_0_0_rgb_pre-densenet                                                                                     | 469.5                                                                                                                                            | 1584                                                                                                                                             | 230                                                                                                                                              | 1688                                                                                                                                             | chromagrid_I5.0_F1.9_L100LED30_124643_0_0_0_rgb_D0.66_GS0.72.jpg                                                                                 | 0.66                                                                                                                                             | 0.72                                                                                                                                             |  98                                                                                                                                              | 1254                                                                                                                                             | 280                                                                                                                                              | 1228                                                                                                                                             | chromagrid_I5.0_F1.9_L100LED30_133853_0_0_0_rgb                                                                                                  | chromagrid_I5.0_F1.9_L100LED30_124643_0_0_0_rgb                                                                                                  | /media//gmobot/easystore/GWAS_Transformation/GTW/wk10/chromagrid_I5.0_F1.9_L100LED30_124643_0_0_0_Fluorescence.hdr                               | /media//gmobot/easystore/GWAS_Transformation/GTW/wk10/chromagrid_I5.0_F1.9_L100LED30_124643_0_0_0_rgb.jpg                                        |\n",
       "| post_shift                                                                                                                                       | subset_b                                                                                                                                         | GTDD_3                                                                                                                                           | chromagrid_I5.0_F1.9_L100LED30_102651_0_0_0_rgb_pre-densenet                                                                                     | 504.0                                                                                                                                            | 1613                                                                                                                                             | 267                                                                                                                                              | 1722                                                                                                                                             | chromagrid_I5.0_F1.9_L100LED30_102651_0_0_0_rgb_D0.60_GS0.85.jpg                                                                                 | 0.60                                                                                                                                             | 0.85                                                                                                                                             | 128                                                                                                                                              | 1284                                                                                                                                             | 346                                                                                                                                              | 1278                                                                                                                                             | chromagrid_I5.0_F1.9_L100LED30_133853_0_0_0_rgb                                                                                                  | chromagrid_I5.0_F1.9_L100LED30_102651_0_0_0_rgb                                                                                                  | /media//gmobot/Easystore_longerm_storage_2/GWAS_Transformation/GTDD/wk3/chromagrid_I5.0_F1.9_L100LED30_102651_0_0_0_Fluorescence.hdr             | /media//gmobot/Easystore_longerm_storage_2/GWAS_Transformation/GTDD/wk3/chromagrid_I5.0_F1.9_L100LED30_102651_0_0_0_rgb.jpg                      |\n",
       "| post_shift                                                                                                                                       | subset_c                                                                                                                                         | GTLL_3                                                                                                                                           | chromagrid_F1.9_I5.0_L100LED30_102232_0_0_0_rgb_pre-densenet                                                                                     | 501.0                                                                                                                                            | 1617                                                                                                                                             | 240                                                                                                                                              | 1701                                                                                                                                             | chromagrid_F1.9_I5.0_L100LED30_102232_0_0_0_rgb_D0.55_GS0.65.jpg                                                                                 | 0.55                                                                                                                                             | 0.65                                                                                                                                             | 109                                                                                                                                              | 1266                                                                                                                                             | 342                                                                                                                                              | 1280                                                                                                                                             | chromagrid_I5.0_F1.9_L100LED30_133853_0_0_0_rgb                                                                                                  | chromagrid_F1.9_I5.0_L100LED30_102232_0_0_0_rgb                                                                                                  | /media//gmobot/Elements_13/Elements_13/GWAS_Transformation/GTFF/wk10/chromagrid_F1.9_I5.0_L100LED30_102232_0_0_0_Fluorescence.hdr                | /media//gmobot/Elements_13/Elements_13/GWAS_Transformation/GTFF/wk10/chromagrid_F1.9_I5.0_L100LED30_102232_0_0_0_rgb.jpg                         |\n",
       "| post_shift                                                                                                                                       | subset_d                                                                                                                                         | GTUU_3                                                                                                                                           | chromagrid_I5.0_F1.9_L100LED30_171422_0_0_0_rgb_pre-densenet                                                                                     | 486.0                                                                                                                                            | 1602                                                                                                                                             | 221                                                                                                                                              | 1682                                                                                                                                             | chromagrid_I5.0_F1.9_L100LED30_171422_0_0_0_rgb_D0.50_GS0.60.jpg                                                                                 | 0.50                                                                                                                                             | 0.60                                                                                                                                             |  95                                                                                                                                              | 1246                                                                                                                                             | 330                                                                                                                                              | 1266                                                                                                                                             | chromagrid_I5.0_F1.9_L100LED30_133853_0_0_0_rgb                                                                                                  | chromagrid_I5.0_F1.9_L100LED30_171422_0_0_0_rgb                                                                                                  | /media//gmobot/Elements_14/Elements_14/GWAS_Transformation/GTUU/wk3/chromagrid_I5.0_F1.9_L100LED30_171422_0_0_0_Fluorescence.hdr                 | /media//gmobot/Elements_14/Elements_14/GWAS_Transformation/GTUU/wk3/chromagrid_I5.0_F1.9_L100LED30_171422_0_0_0_rgb.jpg                          |\n",
       "\n"
      ],
      "text/plain": [
       "  Shift_group subset   Location\n",
       "1 pre_shift   subset_a GTC_7   \n",
       "2 pre_shift   subset_b GTH_3   \n",
       "3 post_shift  subset_a GTW_10  \n",
       "4 post_shift  subset_b GTDD_3  \n",
       "5 post_shift  subset_c GTLL_3  \n",
       "6 post_shift  subset_d GTUU_3  \n",
       "  RGB                                                          prealign_top\n",
       "1 chromagrid_I5.0_F1.9_L100LED30_133853_0_0_0_rgb_pre-densenet 439.0       \n",
       "2 chromagrid_I5.0_F1.9_L100LED30_110504_0_0_0_rgb_pre-densenet 432.0       \n",
       "3 chromagrid_I5.0_F1.9_L100LED30_124643_0_0_0_rgb_pre-densenet 469.5       \n",
       "4 chromagrid_I5.0_F1.9_L100LED30_102651_0_0_0_rgb_pre-densenet 504.0       \n",
       "5 chromagrid_F1.9_I5.0_L100LED30_102232_0_0_0_rgb_pre-densenet 501.0       \n",
       "6 chromagrid_I5.0_F1.9_L100LED30_171422_0_0_0_rgb_pre-densenet 486.0       \n",
       "  prealign_bottom prealign_left prealign_right\n",
       "1 1540            277           1725          \n",
       "2 1527            270           1710          \n",
       "3 1584            230           1688          \n",
       "4 1613            267           1722          \n",
       "5 1617            240           1701          \n",
       "6 1602            221           1682          \n",
       "  Align_file                                                       D    GS  \n",
       "1 chromagrid_I5.0_F1.9_L100LED30_133853_0_0_0_rgb_D0.52_GS0.62.jpg 0.52 0.62\n",
       "2 chromagrid_I5.0_F1.9_L100LED30_110504_0_0_0_rgb_D0.54_GS0.70.jpg 0.54 0.70\n",
       "3 chromagrid_I5.0_F1.9_L100LED30_124643_0_0_0_rgb_D0.66_GS0.72.jpg 0.66 0.72\n",
       "4 chromagrid_I5.0_F1.9_L100LED30_102651_0_0_0_rgb_D0.60_GS0.85.jpg 0.60 0.85\n",
       "5 chromagrid_F1.9_I5.0_L100LED30_102232_0_0_0_rgb_D0.55_GS0.65.jpg 0.55 0.65\n",
       "6 chromagrid_I5.0_F1.9_L100LED30_171422_0_0_0_rgb_D0.50_GS0.60.jpg 0.50 0.60\n",
       "  aligned_top aligned_bottom aligned_left aligned_right\n",
       "1  99         1252           285          1227         \n",
       "2 100         1252           283          1225         \n",
       "3  98         1254           280          1228         \n",
       "4 128         1284           346          1278         \n",
       "5 109         1266           342          1280         \n",
       "6  95         1246           330          1266         \n",
       "  grid_file                                      \n",
       "1 chromagrid_I5.0_F1.9_L100LED30_133853_0_0_0_rgb\n",
       "2 chromagrid_I5.0_F1.9_L100LED30_133853_0_0_0_rgb\n",
       "3 chromagrid_I5.0_F1.9_L100LED30_133853_0_0_0_rgb\n",
       "4 chromagrid_I5.0_F1.9_L100LED30_133853_0_0_0_rgb\n",
       "5 chromagrid_I5.0_F1.9_L100LED30_133853_0_0_0_rgb\n",
       "6 chromagrid_I5.0_F1.9_L100LED30_133853_0_0_0_rgb\n",
       "  grid_file_prefix                               \n",
       "1 chromagrid_I5.0_F1.9_L100LED30_133853_0_0_0_rgb\n",
       "2 chromagrid_I5.0_F1.9_L100LED30_110504_0_0_0_rgb\n",
       "3 chromagrid_I5.0_F1.9_L100LED30_124643_0_0_0_rgb\n",
       "4 chromagrid_I5.0_F1.9_L100LED30_102651_0_0_0_rgb\n",
       "5 chromagrid_F1.9_I5.0_L100LED30_102232_0_0_0_rgb\n",
       "6 chromagrid_I5.0_F1.9_L100LED30_171422_0_0_0_rgb\n",
       "  grid_file_hdr_path                                                                                                                              \n",
       "1 /media//gmobot/Elements_9/GWAS_Transformation/GTC/wk7/chromagrid_I5.0_F1.9_L100LED30_133853_0_0_0_Fluorescence.hdr                              \n",
       "2 /media//gmobot/Elements_8/GoogleDrive/Images_Elements_8/GWAS_Transformation/GTE/wk3/chromagrid_I5.0_F1.9_L100LED30_110504_0_0_0_Fluorescence.hdr\n",
       "3 /media//gmobot/easystore/GWAS_Transformation/GTW/wk10/chromagrid_I5.0_F1.9_L100LED30_124643_0_0_0_Fluorescence.hdr                              \n",
       "4 /media//gmobot/Easystore_longerm_storage_2/GWAS_Transformation/GTDD/wk3/chromagrid_I5.0_F1.9_L100LED30_102651_0_0_0_Fluorescence.hdr            \n",
       "5 /media//gmobot/Elements_13/Elements_13/GWAS_Transformation/GTFF/wk10/chromagrid_F1.9_I5.0_L100LED30_102232_0_0_0_Fluorescence.hdr               \n",
       "6 /media//gmobot/Elements_14/Elements_14/GWAS_Transformation/GTUU/wk3/chromagrid_I5.0_F1.9_L100LED30_171422_0_0_0_Fluorescence.hdr                \n",
       "  grid_file_rgb_path                                                                                                                     \n",
       "1 /media//gmobot/Elements_9/GWAS_Transformation/GTC/wk7/chromagrid_I5.0_F1.9_L100LED30_133853_0_0_0_rgb.jpg                              \n",
       "2 /media//gmobot/Elements_8/GoogleDrive/Images_Elements_8/GWAS_Transformation/GTE/wk3/chromagrid_I5.0_F1.9_L100LED30_110504_0_0_0_rgb.jpg\n",
       "3 /media//gmobot/easystore/GWAS_Transformation/GTW/wk10/chromagrid_I5.0_F1.9_L100LED30_124643_0_0_0_rgb.jpg                              \n",
       "4 /media//gmobot/Easystore_longerm_storage_2/GWAS_Transformation/GTDD/wk3/chromagrid_I5.0_F1.9_L100LED30_102651_0_0_0_rgb.jpg            \n",
       "5 /media//gmobot/Elements_13/Elements_13/GWAS_Transformation/GTFF/wk10/chromagrid_F1.9_I5.0_L100LED30_102232_0_0_0_rgb.jpg               \n",
       "6 /media//gmobot/Elements_14/Elements_14/GWAS_Transformation/GTUU/wk3/chromagrid_I5.0_F1.9_L100LED30_171422_0_0_0_rgb.jpg                "
      ]
     },
     "metadata": {},
     "output_type": "display_data"
    }
   ],
   "source": [
    "head(parameters)"
   ]
  },
  {
   "cell_type": "code",
   "execution_count": 21,
   "id": "95dfaaa1-4e40-4557-91e8-b5ce425f56b9",
   "metadata": {},
   "outputs": [],
   "source": [
    "library(stringr)"
   ]
  },
  {
   "cell_type": "code",
   "execution_count": 22,
   "id": "842fd079-0df6-4b48-8e70-a551b9cc4b59",
   "metadata": {},
   "outputs": [],
   "source": [
    "phase_timepoint <- str_split_fixed(dirname(parameters$grid_file_rgb_path),\n",
    "                                   \"GWAS_Transformation\",\n",
    "                                   2)[, 2]"
   ]
  },
  {
   "cell_type": "code",
   "execution_count": 23,
   "id": "d4c26c45-c118-48e4-a6b5-b6a738712d37",
   "metadata": {},
   "outputs": [
    {
     "data": {
      "text/html": [
       "<ol class=list-inline>\n",
       "\t<li>'/GTC/wk7'</li>\n",
       "\t<li>'/GTE/wk3'</li>\n",
       "\t<li>'/GTW/wk10'</li>\n",
       "\t<li>'/GTDD/wk3'</li>\n",
       "\t<li>'/GTFF/wk10'</li>\n",
       "\t<li>'/GTUU/wk3'</li>\n",
       "</ol>\n"
      ],
      "text/latex": [
       "\\begin{enumerate*}\n",
       "\\item '/GTC/wk7'\n",
       "\\item '/GTE/wk3'\n",
       "\\item '/GTW/wk10'\n",
       "\\item '/GTDD/wk3'\n",
       "\\item '/GTFF/wk10'\n",
       "\\item '/GTUU/wk3'\n",
       "\\end{enumerate*}\n"
      ],
      "text/markdown": [
       "1. '/GTC/wk7'\n",
       "2. '/GTE/wk3'\n",
       "3. '/GTW/wk10'\n",
       "4. '/GTDD/wk3'\n",
       "5. '/GTFF/wk10'\n",
       "6. '/GTUU/wk3'\n",
       "\n",
       "\n"
      ],
      "text/plain": [
       "[1] \"/GTC/wk7\"   \"/GTE/wk3\"   \"/GTW/wk10\"  \"/GTDD/wk3\"  \"/GTFF/wk10\"\n",
       "[6] \"/GTUU/wk3\" "
      ]
     },
     "metadata": {},
     "output_type": "display_data"
    }
   ],
   "source": [
    "phase_timepoint"
   ]
  },
  {
   "cell_type": "code",
   "execution_count": 24,
   "id": "40ef4616-dbad-4ef6-87ef-34a51a5db769",
   "metadata": {},
   "outputs": [],
   "source": [
    "parameters$phase_timepoint_of_grid_standard <- gsub(\"/G\", \"G\", phase_timepoint)"
   ]
  },
  {
   "cell_type": "markdown",
   "id": "da03e143-be7f-4625-b0d7-8519e9e92845",
   "metadata": {},
   "source": [
    "## Merge `df` of paths, batch info with parameters"
   ]
  },
  {
   "cell_type": "code",
   "execution_count": 26,
   "id": "ad378d12-cc25-4a04-9dce-12dc0b434aa2",
   "metadata": {},
   "outputs": [],
   "source": [
    "df$group <- gsub(\"Grids_\", \"\", df$group)"
   ]
  },
  {
   "cell_type": "code",
   "execution_count": 27,
   "id": "2e33785a-3d47-48eb-a153-2beb46d289df",
   "metadata": {},
   "outputs": [],
   "source": [
    "parameters$group <- paste0(parameters$Shift_group, \"/\", parameters$subset)"
   ]
  },
  {
   "cell_type": "code",
   "execution_count": 28,
   "id": "454cf21c-e05d-482e-b2a0-39c3d816fb06",
   "metadata": {},
   "outputs": [
    {
     "data": {
      "text/html": [
       "<ol class=list-inline>\n",
       "\t<li>'pre_shift/subset_a'</li>\n",
       "\t<li>'pre_shift/subset_b'</li>\n",
       "\t<li>'post_shift/subset_a'</li>\n",
       "\t<li>'post_shift/subset_b'</li>\n",
       "\t<li>'post_shift/subset_c'</li>\n",
       "\t<li>'post_shift/subset_d'</li>\n",
       "</ol>\n"
      ],
      "text/latex": [
       "\\begin{enumerate*}\n",
       "\\item 'pre\\_shift/subset\\_a'\n",
       "\\item 'pre\\_shift/subset\\_b'\n",
       "\\item 'post\\_shift/subset\\_a'\n",
       "\\item 'post\\_shift/subset\\_b'\n",
       "\\item 'post\\_shift/subset\\_c'\n",
       "\\item 'post\\_shift/subset\\_d'\n",
       "\\end{enumerate*}\n"
      ],
      "text/markdown": [
       "1. 'pre_shift/subset_a'\n",
       "2. 'pre_shift/subset_b'\n",
       "3. 'post_shift/subset_a'\n",
       "4. 'post_shift/subset_b'\n",
       "5. 'post_shift/subset_c'\n",
       "6. 'post_shift/subset_d'\n",
       "\n",
       "\n"
      ],
      "text/plain": [
       "[1] \"pre_shift/subset_a\"  \"pre_shift/subset_b\"  \"post_shift/subset_a\"\n",
       "[4] \"post_shift/subset_b\" \"post_shift/subset_c\" \"post_shift/subset_d\""
      ]
     },
     "metadata": {},
     "output_type": "display_data"
    }
   ],
   "source": [
    "head(parameters$group)"
   ]
  },
  {
   "cell_type": "code",
   "execution_count": 29,
   "id": "ad6fe541-4e2a-4132-95e0-2e0d3ed93229",
   "metadata": {},
   "outputs": [],
   "source": [
    "df <- merge(df, parameters, by = \"group\")"
   ]
  },
  {
   "cell_type": "code",
   "execution_count": 30,
   "id": "8d266f4f-2f4f-4bda-a2a4-4f1743a951e0",
   "metadata": {},
   "outputs": [
    {
     "data": {
      "text/html": [
       "<table>\n",
       "<thead><tr><th scope=col>group</th><th scope=col>phase</th><th scope=col>timepoint</th><th scope=col>dirs</th><th scope=col>phase_timepoint</th><th scope=col>is_duplicated</th><th scope=col>Shift_group</th><th scope=col>subset</th><th scope=col>Location</th><th scope=col>RGB</th><th scope=col>...</th><th scope=col>GS</th><th scope=col>aligned_top</th><th scope=col>aligned_bottom</th><th scope=col>aligned_left</th><th scope=col>aligned_right</th><th scope=col>grid_file</th><th scope=col>grid_file_prefix</th><th scope=col>grid_file_hdr_path</th><th scope=col>grid_file_rgb_path</th><th scope=col>phase_timepoint_of_grid_standard</th></tr></thead>\n",
       "<tbody>\n",
       "\t<tr><td>post_shift/subset_a                                                                                               </td><td>GTAA                                                                                                              </td><td>wk3                                                                                                               </td><td>/media//gmobot/easystore/GWAS_Transformation/GTAA/wk3                                                             </td><td>GTAA_wk3                                                                                                          </td><td>FALSE                                                                                                             </td><td>post_shift                                                                                                        </td><td>subset_a                                                                                                          </td><td>GTW_10                                                                                                            </td><td>chromagrid_I5.0_F1.9_L100LED30_124643_0_0_0_rgb_pre-densenet                                                      </td><td>...                                                                                                               </td><td>0.72                                                                                                              </td><td>98                                                                                                                </td><td>1254                                                                                                              </td><td>280                                                                                                               </td><td>1228                                                                                                              </td><td>chromagrid_I5.0_F1.9_L100LED30_133853_0_0_0_rgb                                                                   </td><td>chromagrid_I5.0_F1.9_L100LED30_124643_0_0_0_rgb                                                                   </td><td>/media//gmobot/easystore/GWAS_Transformation/GTW/wk10/chromagrid_I5.0_F1.9_L100LED30_124643_0_0_0_Fluorescence.hdr</td><td>/media//gmobot/easystore/GWAS_Transformation/GTW/wk10/chromagrid_I5.0_F1.9_L100LED30_124643_0_0_0_rgb.jpg         </td><td>GTW/wk10                                                                                                          </td></tr>\n",
       "\t<tr><td>post_shift/subset_a                                                                                               </td><td>GTAA                                                                                                              </td><td>wk7                                                                                                               </td><td>/media//gmobot/easystore/GWAS_Transformation/GTAA/wk7                                                             </td><td>GTAA_wk7                                                                                                          </td><td>FALSE                                                                                                             </td><td>post_shift                                                                                                        </td><td>subset_a                                                                                                          </td><td>GTW_10                                                                                                            </td><td>chromagrid_I5.0_F1.9_L100LED30_124643_0_0_0_rgb_pre-densenet                                                      </td><td>...                                                                                                               </td><td>0.72                                                                                                              </td><td>98                                                                                                                </td><td>1254                                                                                                              </td><td>280                                                                                                               </td><td>1228                                                                                                              </td><td>chromagrid_I5.0_F1.9_L100LED30_133853_0_0_0_rgb                                                                   </td><td>chromagrid_I5.0_F1.9_L100LED30_124643_0_0_0_rgb                                                                   </td><td>/media//gmobot/easystore/GWAS_Transformation/GTW/wk10/chromagrid_I5.0_F1.9_L100LED30_124643_0_0_0_Fluorescence.hdr</td><td>/media//gmobot/easystore/GWAS_Transformation/GTW/wk10/chromagrid_I5.0_F1.9_L100LED30_124643_0_0_0_rgb.jpg         </td><td>GTW/wk10                                                                                                          </td></tr>\n",
       "\t<tr><td>post_shift/subset_a                                                                                               </td><td>GTO                                                                                                               </td><td>wk10                                                                                                              </td><td>/media//gmobot/Seagate Portable Drive/GWAS_Transformation/GTO/wk10                                                </td><td>GTO_wk10                                                                                                          </td><td>FALSE                                                                                                             </td><td>post_shift                                                                                                        </td><td>subset_a                                                                                                          </td><td>GTW_10                                                                                                            </td><td>chromagrid_I5.0_F1.9_L100LED30_124643_0_0_0_rgb_pre-densenet                                                      </td><td>...                                                                                                               </td><td>0.72                                                                                                              </td><td>98                                                                                                                </td><td>1254                                                                                                              </td><td>280                                                                                                               </td><td>1228                                                                                                              </td><td>chromagrid_I5.0_F1.9_L100LED30_133853_0_0_0_rgb                                                                   </td><td>chromagrid_I5.0_F1.9_L100LED30_124643_0_0_0_rgb                                                                   </td><td>/media//gmobot/easystore/GWAS_Transformation/GTW/wk10/chromagrid_I5.0_F1.9_L100LED30_124643_0_0_0_Fluorescence.hdr</td><td>/media//gmobot/easystore/GWAS_Transformation/GTW/wk10/chromagrid_I5.0_F1.9_L100LED30_124643_0_0_0_rgb.jpg         </td><td>GTW/wk10                                                                                                          </td></tr>\n",
       "\t<tr><td>post_shift/subset_a                                                                                               </td><td>GTP                                                                                                               </td><td>wk10                                                                                                              </td><td>/media//gmobot/New Volume/GWAS_Transformation/GTP/wk10                                                            </td><td>GTP_wk10                                                                                                          </td><td>FALSE                                                                                                             </td><td>post_shift                                                                                                        </td><td>subset_a                                                                                                          </td><td>GTW_10                                                                                                            </td><td>chromagrid_I5.0_F1.9_L100LED30_124643_0_0_0_rgb_pre-densenet                                                      </td><td>...                                                                                                               </td><td>0.72                                                                                                              </td><td>98                                                                                                                </td><td>1254                                                                                                              </td><td>280                                                                                                               </td><td>1228                                                                                                              </td><td>chromagrid_I5.0_F1.9_L100LED30_133853_0_0_0_rgb                                                                   </td><td>chromagrid_I5.0_F1.9_L100LED30_124643_0_0_0_rgb                                                                   </td><td>/media//gmobot/easystore/GWAS_Transformation/GTW/wk10/chromagrid_I5.0_F1.9_L100LED30_124643_0_0_0_Fluorescence.hdr</td><td>/media//gmobot/easystore/GWAS_Transformation/GTW/wk10/chromagrid_I5.0_F1.9_L100LED30_124643_0_0_0_rgb.jpg         </td><td>GTW/wk10                                                                                                          </td></tr>\n",
       "\t<tr><td>post_shift/subset_a                                                                                               </td><td>GTQ                                                                                                               </td><td>wk10                                                                                                              </td><td>/media//gmobot/MyBook_16/MyBook_16/GWAS_Transformation/GTQ/wk10                                                   </td><td>GTQ_wk10                                                                                                          </td><td>FALSE                                                                                                             </td><td>post_shift                                                                                                        </td><td>subset_a                                                                                                          </td><td>GTW_10                                                                                                            </td><td>chromagrid_I5.0_F1.9_L100LED30_124643_0_0_0_rgb_pre-densenet                                                      </td><td>...                                                                                                               </td><td>0.72                                                                                                              </td><td>98                                                                                                                </td><td>1254                                                                                                              </td><td>280                                                                                                               </td><td>1228                                                                                                              </td><td>chromagrid_I5.0_F1.9_L100LED30_133853_0_0_0_rgb                                                                   </td><td>chromagrid_I5.0_F1.9_L100LED30_124643_0_0_0_rgb                                                                   </td><td>/media//gmobot/easystore/GWAS_Transformation/GTW/wk10/chromagrid_I5.0_F1.9_L100LED30_124643_0_0_0_Fluorescence.hdr</td><td>/media//gmobot/easystore/GWAS_Transformation/GTW/wk10/chromagrid_I5.0_F1.9_L100LED30_124643_0_0_0_rgb.jpg         </td><td>GTW/wk10                                                                                                          </td></tr>\n",
       "\t<tr><td>post_shift/subset_a                                                                                               </td><td>GTQ                                                                                                               </td><td>wk10                                                                                                              </td><td>/media//gmobot/MyBook_16/MyBook_16/GWAS_Transformation/GTQ/wk10                                                   </td><td>GTQ_wk10                                                                                                          </td><td>FALSE                                                                                                             </td><td>post_shift                                                                                                        </td><td>subset_a                                                                                                          </td><td>GTW_10                                                                                                            </td><td>chromagrid_I5.0_F1.9_L100LED30_124643_0_0_0_rgb_pre-densenet                                                      </td><td>...                                                                                                               </td><td>0.72                                                                                                              </td><td>98                                                                                                                </td><td>1254                                                                                                              </td><td>280                                                                                                               </td><td>1228                                                                                                              </td><td>chromagrid_I5.0_F1.9_L100LED30_133853_0_0_0_rgb                                                                   </td><td>chromagrid_I5.0_F1.9_L100LED30_124643_0_0_0_rgb                                                                   </td><td>/media//gmobot/easystore/GWAS_Transformation/GTW/wk10/chromagrid_I5.0_F1.9_L100LED30_124643_0_0_0_Fluorescence.hdr</td><td>/media//gmobot/easystore/GWAS_Transformation/GTW/wk10/chromagrid_I5.0_F1.9_L100LED30_124643_0_0_0_rgb.jpg         </td><td>GTW/wk10                                                                                                          </td></tr>\n",
       "</tbody>\n",
       "</table>\n"
      ],
      "text/latex": [
       "\\begin{tabular}{r|llllllllllllllllllllllllll}\n",
       " group & phase & timepoint & dirs & phase\\_timepoint & is\\_duplicated & Shift\\_group & subset & Location & RGB & ... & GS & aligned\\_top & aligned\\_bottom & aligned\\_left & aligned\\_right & grid\\_file & grid\\_file\\_prefix & grid\\_file\\_hdr\\_path & grid\\_file\\_rgb\\_path & phase\\_timepoint\\_of\\_grid\\_standard\\\\\n",
       "\\hline\n",
       "\t post\\_shift/subset\\_a                                                                                                              & GTAA                                                                                                                                 & wk3                                                                                                                                  & /media//gmobot/easystore/GWAS\\_Transformation/GTAA/wk3                                                                              & GTAA\\_wk3                                                                                                                           & FALSE                                                                                                                                & post\\_shift                                                                                                                         & subset\\_a                                                                                                                           & GTW\\_10                                                                                                                             & chromagrid\\_I5.0\\_F1.9\\_L100LED30\\_124643\\_0\\_0\\_0\\_rgb\\_pre-densenet                                                       & ...                                                                                                                                  & 0.72                                                                                                                                 & 98                                                                                                                                   & 1254                                                                                                                                 & 280                                                                                                                                  & 1228                                                                                                                                 & chromagrid\\_I5.0\\_F1.9\\_L100LED30\\_133853\\_0\\_0\\_0\\_rgb                                                                      & chromagrid\\_I5.0\\_F1.9\\_L100LED30\\_124643\\_0\\_0\\_0\\_rgb                                                                      & /media//gmobot/easystore/GWAS\\_Transformation/GTW/wk10/chromagrid\\_I5.0\\_F1.9\\_L100LED30\\_124643\\_0\\_0\\_0\\_Fluorescence.hdr & /media//gmobot/easystore/GWAS\\_Transformation/GTW/wk10/chromagrid\\_I5.0\\_F1.9\\_L100LED30\\_124643\\_0\\_0\\_0\\_rgb.jpg          & GTW/wk10                                                                                                                            \\\\\n",
       "\t post\\_shift/subset\\_a                                                                                                              & GTAA                                                                                                                                 & wk7                                                                                                                                  & /media//gmobot/easystore/GWAS\\_Transformation/GTAA/wk7                                                                              & GTAA\\_wk7                                                                                                                           & FALSE                                                                                                                                & post\\_shift                                                                                                                         & subset\\_a                                                                                                                           & GTW\\_10                                                                                                                             & chromagrid\\_I5.0\\_F1.9\\_L100LED30\\_124643\\_0\\_0\\_0\\_rgb\\_pre-densenet                                                       & ...                                                                                                                                  & 0.72                                                                                                                                 & 98                                                                                                                                   & 1254                                                                                                                                 & 280                                                                                                                                  & 1228                                                                                                                                 & chromagrid\\_I5.0\\_F1.9\\_L100LED30\\_133853\\_0\\_0\\_0\\_rgb                                                                      & chromagrid\\_I5.0\\_F1.9\\_L100LED30\\_124643\\_0\\_0\\_0\\_rgb                                                                      & /media//gmobot/easystore/GWAS\\_Transformation/GTW/wk10/chromagrid\\_I5.0\\_F1.9\\_L100LED30\\_124643\\_0\\_0\\_0\\_Fluorescence.hdr & /media//gmobot/easystore/GWAS\\_Transformation/GTW/wk10/chromagrid\\_I5.0\\_F1.9\\_L100LED30\\_124643\\_0\\_0\\_0\\_rgb.jpg          & GTW/wk10                                                                                                                            \\\\\n",
       "\t post\\_shift/subset\\_a                                                                                                              & GTO                                                                                                                                  & wk10                                                                                                                                 & /media//gmobot/Seagate Portable Drive/GWAS\\_Transformation/GTO/wk10                                                                 & GTO\\_wk10                                                                                                                           & FALSE                                                                                                                                & post\\_shift                                                                                                                         & subset\\_a                                                                                                                           & GTW\\_10                                                                                                                             & chromagrid\\_I5.0\\_F1.9\\_L100LED30\\_124643\\_0\\_0\\_0\\_rgb\\_pre-densenet                                                       & ...                                                                                                                                  & 0.72                                                                                                                                 & 98                                                                                                                                   & 1254                                                                                                                                 & 280                                                                                                                                  & 1228                                                                                                                                 & chromagrid\\_I5.0\\_F1.9\\_L100LED30\\_133853\\_0\\_0\\_0\\_rgb                                                                      & chromagrid\\_I5.0\\_F1.9\\_L100LED30\\_124643\\_0\\_0\\_0\\_rgb                                                                      & /media//gmobot/easystore/GWAS\\_Transformation/GTW/wk10/chromagrid\\_I5.0\\_F1.9\\_L100LED30\\_124643\\_0\\_0\\_0\\_Fluorescence.hdr & /media//gmobot/easystore/GWAS\\_Transformation/GTW/wk10/chromagrid\\_I5.0\\_F1.9\\_L100LED30\\_124643\\_0\\_0\\_0\\_rgb.jpg          & GTW/wk10                                                                                                                            \\\\\n",
       "\t post\\_shift/subset\\_a                                                                                                              & GTP                                                                                                                                  & wk10                                                                                                                                 & /media//gmobot/New Volume/GWAS\\_Transformation/GTP/wk10                                                                             & GTP\\_wk10                                                                                                                           & FALSE                                                                                                                                & post\\_shift                                                                                                                         & subset\\_a                                                                                                                           & GTW\\_10                                                                                                                             & chromagrid\\_I5.0\\_F1.9\\_L100LED30\\_124643\\_0\\_0\\_0\\_rgb\\_pre-densenet                                                       & ...                                                                                                                                  & 0.72                                                                                                                                 & 98                                                                                                                                   & 1254                                                                                                                                 & 280                                                                                                                                  & 1228                                                                                                                                 & chromagrid\\_I5.0\\_F1.9\\_L100LED30\\_133853\\_0\\_0\\_0\\_rgb                                                                      & chromagrid\\_I5.0\\_F1.9\\_L100LED30\\_124643\\_0\\_0\\_0\\_rgb                                                                      & /media//gmobot/easystore/GWAS\\_Transformation/GTW/wk10/chromagrid\\_I5.0\\_F1.9\\_L100LED30\\_124643\\_0\\_0\\_0\\_Fluorescence.hdr & /media//gmobot/easystore/GWAS\\_Transformation/GTW/wk10/chromagrid\\_I5.0\\_F1.9\\_L100LED30\\_124643\\_0\\_0\\_0\\_rgb.jpg          & GTW/wk10                                                                                                                            \\\\\n",
       "\t post\\_shift/subset\\_a                                                                                                              & GTQ                                                                                                                                  & wk10                                                                                                                                 & /media//gmobot/MyBook\\_16/MyBook\\_16/GWAS\\_Transformation/GTQ/wk10                                                                & GTQ\\_wk10                                                                                                                           & FALSE                                                                                                                                & post\\_shift                                                                                                                         & subset\\_a                                                                                                                           & GTW\\_10                                                                                                                             & chromagrid\\_I5.0\\_F1.9\\_L100LED30\\_124643\\_0\\_0\\_0\\_rgb\\_pre-densenet                                                       & ...                                                                                                                                  & 0.72                                                                                                                                 & 98                                                                                                                                   & 1254                                                                                                                                 & 280                                                                                                                                  & 1228                                                                                                                                 & chromagrid\\_I5.0\\_F1.9\\_L100LED30\\_133853\\_0\\_0\\_0\\_rgb                                                                      & chromagrid\\_I5.0\\_F1.9\\_L100LED30\\_124643\\_0\\_0\\_0\\_rgb                                                                      & /media//gmobot/easystore/GWAS\\_Transformation/GTW/wk10/chromagrid\\_I5.0\\_F1.9\\_L100LED30\\_124643\\_0\\_0\\_0\\_Fluorescence.hdr & /media//gmobot/easystore/GWAS\\_Transformation/GTW/wk10/chromagrid\\_I5.0\\_F1.9\\_L100LED30\\_124643\\_0\\_0\\_0\\_rgb.jpg          & GTW/wk10                                                                                                                            \\\\\n",
       "\t post\\_shift/subset\\_a                                                                                                              & GTQ                                                                                                                                  & wk10                                                                                                                                 & /media//gmobot/MyBook\\_16/MyBook\\_16/GWAS\\_Transformation/GTQ/wk10                                                                & GTQ\\_wk10                                                                                                                           & FALSE                                                                                                                                & post\\_shift                                                                                                                         & subset\\_a                                                                                                                           & GTW\\_10                                                                                                                             & chromagrid\\_I5.0\\_F1.9\\_L100LED30\\_124643\\_0\\_0\\_0\\_rgb\\_pre-densenet                                                       & ...                                                                                                                                  & 0.72                                                                                                                                 & 98                                                                                                                                   & 1254                                                                                                                                 & 280                                                                                                                                  & 1228                                                                                                                                 & chromagrid\\_I5.0\\_F1.9\\_L100LED30\\_133853\\_0\\_0\\_0\\_rgb                                                                      & chromagrid\\_I5.0\\_F1.9\\_L100LED30\\_124643\\_0\\_0\\_0\\_rgb                                                                      & /media//gmobot/easystore/GWAS\\_Transformation/GTW/wk10/chromagrid\\_I5.0\\_F1.9\\_L100LED30\\_124643\\_0\\_0\\_0\\_Fluorescence.hdr & /media//gmobot/easystore/GWAS\\_Transformation/GTW/wk10/chromagrid\\_I5.0\\_F1.9\\_L100LED30\\_124643\\_0\\_0\\_0\\_rgb.jpg          & GTW/wk10                                                                                                                            \\\\\n",
       "\\end{tabular}\n"
      ],
      "text/markdown": [
       "\n",
       "| group | phase | timepoint | dirs | phase_timepoint | is_duplicated | Shift_group | subset | Location | RGB | ... | GS | aligned_top | aligned_bottom | aligned_left | aligned_right | grid_file | grid_file_prefix | grid_file_hdr_path | grid_file_rgb_path | phase_timepoint_of_grid_standard |\n",
       "|---|---|---|---|---|---|---|---|---|---|---|---|---|---|---|---|---|---|---|---|---|\n",
       "| post_shift/subset_a                                                                                                | GTAA                                                                                                               | wk3                                                                                                                | /media//gmobot/easystore/GWAS_Transformation/GTAA/wk3                                                              | GTAA_wk3                                                                                                           | FALSE                                                                                                              | post_shift                                                                                                         | subset_a                                                                                                           | GTW_10                                                                                                             | chromagrid_I5.0_F1.9_L100LED30_124643_0_0_0_rgb_pre-densenet                                                       | ...                                                                                                                | 0.72                                                                                                               | 98                                                                                                                 | 1254                                                                                                               | 280                                                                                                                | 1228                                                                                                               | chromagrid_I5.0_F1.9_L100LED30_133853_0_0_0_rgb                                                                    | chromagrid_I5.0_F1.9_L100LED30_124643_0_0_0_rgb                                                                    | /media//gmobot/easystore/GWAS_Transformation/GTW/wk10/chromagrid_I5.0_F1.9_L100LED30_124643_0_0_0_Fluorescence.hdr | /media//gmobot/easystore/GWAS_Transformation/GTW/wk10/chromagrid_I5.0_F1.9_L100LED30_124643_0_0_0_rgb.jpg          | GTW/wk10                                                                                                           |\n",
       "| post_shift/subset_a                                                                                                | GTAA                                                                                                               | wk7                                                                                                                | /media//gmobot/easystore/GWAS_Transformation/GTAA/wk7                                                              | GTAA_wk7                                                                                                           | FALSE                                                                                                              | post_shift                                                                                                         | subset_a                                                                                                           | GTW_10                                                                                                             | chromagrid_I5.0_F1.9_L100LED30_124643_0_0_0_rgb_pre-densenet                                                       | ...                                                                                                                | 0.72                                                                                                               | 98                                                                                                                 | 1254                                                                                                               | 280                                                                                                                | 1228                                                                                                               | chromagrid_I5.0_F1.9_L100LED30_133853_0_0_0_rgb                                                                    | chromagrid_I5.0_F1.9_L100LED30_124643_0_0_0_rgb                                                                    | /media//gmobot/easystore/GWAS_Transformation/GTW/wk10/chromagrid_I5.0_F1.9_L100LED30_124643_0_0_0_Fluorescence.hdr | /media//gmobot/easystore/GWAS_Transformation/GTW/wk10/chromagrid_I5.0_F1.9_L100LED30_124643_0_0_0_rgb.jpg          | GTW/wk10                                                                                                           |\n",
       "| post_shift/subset_a                                                                                                | GTO                                                                                                                | wk10                                                                                                               | /media//gmobot/Seagate Portable Drive/GWAS_Transformation/GTO/wk10                                                 | GTO_wk10                                                                                                           | FALSE                                                                                                              | post_shift                                                                                                         | subset_a                                                                                                           | GTW_10                                                                                                             | chromagrid_I5.0_F1.9_L100LED30_124643_0_0_0_rgb_pre-densenet                                                       | ...                                                                                                                | 0.72                                                                                                               | 98                                                                                                                 | 1254                                                                                                               | 280                                                                                                                | 1228                                                                                                               | chromagrid_I5.0_F1.9_L100LED30_133853_0_0_0_rgb                                                                    | chromagrid_I5.0_F1.9_L100LED30_124643_0_0_0_rgb                                                                    | /media//gmobot/easystore/GWAS_Transformation/GTW/wk10/chromagrid_I5.0_F1.9_L100LED30_124643_0_0_0_Fluorescence.hdr | /media//gmobot/easystore/GWAS_Transformation/GTW/wk10/chromagrid_I5.0_F1.9_L100LED30_124643_0_0_0_rgb.jpg          | GTW/wk10                                                                                                           |\n",
       "| post_shift/subset_a                                                                                                | GTP                                                                                                                | wk10                                                                                                               | /media//gmobot/New Volume/GWAS_Transformation/GTP/wk10                                                             | GTP_wk10                                                                                                           | FALSE                                                                                                              | post_shift                                                                                                         | subset_a                                                                                                           | GTW_10                                                                                                             | chromagrid_I5.0_F1.9_L100LED30_124643_0_0_0_rgb_pre-densenet                                                       | ...                                                                                                                | 0.72                                                                                                               | 98                                                                                                                 | 1254                                                                                                               | 280                                                                                                                | 1228                                                                                                               | chromagrid_I5.0_F1.9_L100LED30_133853_0_0_0_rgb                                                                    | chromagrid_I5.0_F1.9_L100LED30_124643_0_0_0_rgb                                                                    | /media//gmobot/easystore/GWAS_Transformation/GTW/wk10/chromagrid_I5.0_F1.9_L100LED30_124643_0_0_0_Fluorescence.hdr | /media//gmobot/easystore/GWAS_Transformation/GTW/wk10/chromagrid_I5.0_F1.9_L100LED30_124643_0_0_0_rgb.jpg          | GTW/wk10                                                                                                           |\n",
       "| post_shift/subset_a                                                                                                | GTQ                                                                                                                | wk10                                                                                                               | /media//gmobot/MyBook_16/MyBook_16/GWAS_Transformation/GTQ/wk10                                                    | GTQ_wk10                                                                                                           | FALSE                                                                                                              | post_shift                                                                                                         | subset_a                                                                                                           | GTW_10                                                                                                             | chromagrid_I5.0_F1.9_L100LED30_124643_0_0_0_rgb_pre-densenet                                                       | ...                                                                                                                | 0.72                                                                                                               | 98                                                                                                                 | 1254                                                                                                               | 280                                                                                                                | 1228                                                                                                               | chromagrid_I5.0_F1.9_L100LED30_133853_0_0_0_rgb                                                                    | chromagrid_I5.0_F1.9_L100LED30_124643_0_0_0_rgb                                                                    | /media//gmobot/easystore/GWAS_Transformation/GTW/wk10/chromagrid_I5.0_F1.9_L100LED30_124643_0_0_0_Fluorescence.hdr | /media//gmobot/easystore/GWAS_Transformation/GTW/wk10/chromagrid_I5.0_F1.9_L100LED30_124643_0_0_0_rgb.jpg          | GTW/wk10                                                                                                           |\n",
       "| post_shift/subset_a                                                                                                | GTQ                                                                                                                | wk10                                                                                                               | /media//gmobot/MyBook_16/MyBook_16/GWAS_Transformation/GTQ/wk10                                                    | GTQ_wk10                                                                                                           | FALSE                                                                                                              | post_shift                                                                                                         | subset_a                                                                                                           | GTW_10                                                                                                             | chromagrid_I5.0_F1.9_L100LED30_124643_0_0_0_rgb_pre-densenet                                                       | ...                                                                                                                | 0.72                                                                                                               | 98                                                                                                                 | 1254                                                                                                               | 280                                                                                                                | 1228                                                                                                               | chromagrid_I5.0_F1.9_L100LED30_133853_0_0_0_rgb                                                                    | chromagrid_I5.0_F1.9_L100LED30_124643_0_0_0_rgb                                                                    | /media//gmobot/easystore/GWAS_Transformation/GTW/wk10/chromagrid_I5.0_F1.9_L100LED30_124643_0_0_0_Fluorescence.hdr | /media//gmobot/easystore/GWAS_Transformation/GTW/wk10/chromagrid_I5.0_F1.9_L100LED30_124643_0_0_0_rgb.jpg          | GTW/wk10                                                                                                           |\n",
       "\n"
      ],
      "text/plain": [
       "  group               phase timepoint\n",
       "1 post_shift/subset_a GTAA  wk3      \n",
       "2 post_shift/subset_a GTAA  wk7      \n",
       "3 post_shift/subset_a GTO   wk10     \n",
       "4 post_shift/subset_a GTP   wk10     \n",
       "5 post_shift/subset_a GTQ   wk10     \n",
       "6 post_shift/subset_a GTQ   wk10     \n",
       "  dirs                                                              \n",
       "1 /media//gmobot/easystore/GWAS_Transformation/GTAA/wk3             \n",
       "2 /media//gmobot/easystore/GWAS_Transformation/GTAA/wk7             \n",
       "3 /media//gmobot/Seagate Portable Drive/GWAS_Transformation/GTO/wk10\n",
       "4 /media//gmobot/New Volume/GWAS_Transformation/GTP/wk10            \n",
       "5 /media//gmobot/MyBook_16/MyBook_16/GWAS_Transformation/GTQ/wk10   \n",
       "6 /media//gmobot/MyBook_16/MyBook_16/GWAS_Transformation/GTQ/wk10   \n",
       "  phase_timepoint is_duplicated Shift_group subset   Location\n",
       "1 GTAA_wk3        FALSE         post_shift  subset_a GTW_10  \n",
       "2 GTAA_wk7        FALSE         post_shift  subset_a GTW_10  \n",
       "3 GTO_wk10        FALSE         post_shift  subset_a GTW_10  \n",
       "4 GTP_wk10        FALSE         post_shift  subset_a GTW_10  \n",
       "5 GTQ_wk10        FALSE         post_shift  subset_a GTW_10  \n",
       "6 GTQ_wk10        FALSE         post_shift  subset_a GTW_10  \n",
       "  RGB                                                          ... GS  \n",
       "1 chromagrid_I5.0_F1.9_L100LED30_124643_0_0_0_rgb_pre-densenet ... 0.72\n",
       "2 chromagrid_I5.0_F1.9_L100LED30_124643_0_0_0_rgb_pre-densenet ... 0.72\n",
       "3 chromagrid_I5.0_F1.9_L100LED30_124643_0_0_0_rgb_pre-densenet ... 0.72\n",
       "4 chromagrid_I5.0_F1.9_L100LED30_124643_0_0_0_rgb_pre-densenet ... 0.72\n",
       "5 chromagrid_I5.0_F1.9_L100LED30_124643_0_0_0_rgb_pre-densenet ... 0.72\n",
       "6 chromagrid_I5.0_F1.9_L100LED30_124643_0_0_0_rgb_pre-densenet ... 0.72\n",
       "  aligned_top aligned_bottom aligned_left aligned_right\n",
       "1 98          1254           280          1228         \n",
       "2 98          1254           280          1228         \n",
       "3 98          1254           280          1228         \n",
       "4 98          1254           280          1228         \n",
       "5 98          1254           280          1228         \n",
       "6 98          1254           280          1228         \n",
       "  grid_file                                      \n",
       "1 chromagrid_I5.0_F1.9_L100LED30_133853_0_0_0_rgb\n",
       "2 chromagrid_I5.0_F1.9_L100LED30_133853_0_0_0_rgb\n",
       "3 chromagrid_I5.0_F1.9_L100LED30_133853_0_0_0_rgb\n",
       "4 chromagrid_I5.0_F1.9_L100LED30_133853_0_0_0_rgb\n",
       "5 chromagrid_I5.0_F1.9_L100LED30_133853_0_0_0_rgb\n",
       "6 chromagrid_I5.0_F1.9_L100LED30_133853_0_0_0_rgb\n",
       "  grid_file_prefix                               \n",
       "1 chromagrid_I5.0_F1.9_L100LED30_124643_0_0_0_rgb\n",
       "2 chromagrid_I5.0_F1.9_L100LED30_124643_0_0_0_rgb\n",
       "3 chromagrid_I5.0_F1.9_L100LED30_124643_0_0_0_rgb\n",
       "4 chromagrid_I5.0_F1.9_L100LED30_124643_0_0_0_rgb\n",
       "5 chromagrid_I5.0_F1.9_L100LED30_124643_0_0_0_rgb\n",
       "6 chromagrid_I5.0_F1.9_L100LED30_124643_0_0_0_rgb\n",
       "  grid_file_hdr_path                                                                                                \n",
       "1 /media//gmobot/easystore/GWAS_Transformation/GTW/wk10/chromagrid_I5.0_F1.9_L100LED30_124643_0_0_0_Fluorescence.hdr\n",
       "2 /media//gmobot/easystore/GWAS_Transformation/GTW/wk10/chromagrid_I5.0_F1.9_L100LED30_124643_0_0_0_Fluorescence.hdr\n",
       "3 /media//gmobot/easystore/GWAS_Transformation/GTW/wk10/chromagrid_I5.0_F1.9_L100LED30_124643_0_0_0_Fluorescence.hdr\n",
       "4 /media//gmobot/easystore/GWAS_Transformation/GTW/wk10/chromagrid_I5.0_F1.9_L100LED30_124643_0_0_0_Fluorescence.hdr\n",
       "5 /media//gmobot/easystore/GWAS_Transformation/GTW/wk10/chromagrid_I5.0_F1.9_L100LED30_124643_0_0_0_Fluorescence.hdr\n",
       "6 /media//gmobot/easystore/GWAS_Transformation/GTW/wk10/chromagrid_I5.0_F1.9_L100LED30_124643_0_0_0_Fluorescence.hdr\n",
       "  grid_file_rgb_path                                                                                       \n",
       "1 /media//gmobot/easystore/GWAS_Transformation/GTW/wk10/chromagrid_I5.0_F1.9_L100LED30_124643_0_0_0_rgb.jpg\n",
       "2 /media//gmobot/easystore/GWAS_Transformation/GTW/wk10/chromagrid_I5.0_F1.9_L100LED30_124643_0_0_0_rgb.jpg\n",
       "3 /media//gmobot/easystore/GWAS_Transformation/GTW/wk10/chromagrid_I5.0_F1.9_L100LED30_124643_0_0_0_rgb.jpg\n",
       "4 /media//gmobot/easystore/GWAS_Transformation/GTW/wk10/chromagrid_I5.0_F1.9_L100LED30_124643_0_0_0_rgb.jpg\n",
       "5 /media//gmobot/easystore/GWAS_Transformation/GTW/wk10/chromagrid_I5.0_F1.9_L100LED30_124643_0_0_0_rgb.jpg\n",
       "6 /media//gmobot/easystore/GWAS_Transformation/GTW/wk10/chromagrid_I5.0_F1.9_L100LED30_124643_0_0_0_rgb.jpg\n",
       "  phase_timepoint_of_grid_standard\n",
       "1 GTW/wk10                        \n",
       "2 GTW/wk10                        \n",
       "3 GTW/wk10                        \n",
       "4 GTW/wk10                        \n",
       "5 GTW/wk10                        \n",
       "6 GTW/wk10                        "
      ]
     },
     "metadata": {},
     "output_type": "display_data"
    }
   ],
   "source": [
    "head(df)"
   ]
  },
  {
   "cell_type": "markdown",
   "id": "b3f29600-ba37-4294-bac8-2b8af70f18a5",
   "metadata": {},
   "source": [
    "## Add randomization datasheets"
   ]
  },
  {
   "cell_type": "code",
   "execution_count": 38,
   "id": "b864f640-20a6-496a-ac06-b78ae42e59b2",
   "metadata": {},
   "outputs": [],
   "source": [
    "rd <- list.files(\"Randomization_datasheets/\",\n",
    "                 pattern = \"labels\",\n",
    "                 full.names = TRUE)"
   ]
  },
  {
   "cell_type": "code",
   "execution_count": 39,
   "id": "47efa283-a5b8-4c61-8c15-6a2eaff44dd2",
   "metadata": {},
   "outputs": [],
   "source": [
    "df$randomization_datasheet <- NA"
   ]
  },
  {
   "cell_type": "code",
   "execution_count": 40,
   "id": "038fcf15-2d09-47ef-907f-9c3cddc23071",
   "metadata": {},
   "outputs": [],
   "source": [
    "for(i in 1:nrow(df)){\n",
    "    phase_ <- paste0(df$phase[i], \"_\")\n",
    "    this_rd <- rd[which(grepl(phase_, rd))]\n",
    "    if(length(this_rd) > 1){\n",
    "        stop(\"Alert! More than one datashet for this phase?!\")\n",
    "    }\n",
    "    if(length(this_rd) == 1){\n",
    "        df$randomization_datasheet[i] <- this_rd\n",
    "    }\n",
    "}"
   ]
  },
  {
   "cell_type": "code",
   "execution_count": 41,
   "id": "292c4bda-86d6-4dd7-9808-263a9abf6535",
   "metadata": {},
   "outputs": [
    {
     "data": {
      "text/html": [
       "<table>\n",
       "<thead><tr><th scope=col>group</th><th scope=col>phase</th><th scope=col>timepoint</th><th scope=col>dirs</th><th scope=col>phase_timepoint</th><th scope=col>is_duplicated</th><th scope=col>Shift_group</th><th scope=col>subset</th><th scope=col>Location</th><th scope=col>RGB</th><th scope=col>...</th><th scope=col>aligned_top</th><th scope=col>aligned_bottom</th><th scope=col>aligned_left</th><th scope=col>aligned_right</th><th scope=col>grid_file</th><th scope=col>grid_file_prefix</th><th scope=col>grid_file_hdr_path</th><th scope=col>grid_file_rgb_path</th><th scope=col>phase_timepoint_of_grid_standard</th><th scope=col>randomization_datasheet</th></tr></thead>\n",
       "<tbody>\n",
       "\t<tr><td>post_shift/subset_a                                                                                               </td><td>GTAA                                                                                                              </td><td>wk3                                                                                                               </td><td>/media//gmobot/easystore/GWAS_Transformation/GTAA/wk3                                                             </td><td>GTAA_wk3                                                                                                          </td><td>FALSE                                                                                                             </td><td>post_shift                                                                                                        </td><td>subset_a                                                                                                          </td><td>GTW_10                                                                                                            </td><td>chromagrid_I5.0_F1.9_L100LED30_124643_0_0_0_rgb_pre-densenet                                                      </td><td>...                                                                                                               </td><td>98                                                                                                                </td><td>1254                                                                                                              </td><td>280                                                                                                               </td><td>1228                                                                                                              </td><td>chromagrid_I5.0_F1.9_L100LED30_133853_0_0_0_rgb                                                                   </td><td>chromagrid_I5.0_F1.9_L100LED30_124643_0_0_0_rgb                                                                   </td><td>/media//gmobot/easystore/GWAS_Transformation/GTW/wk10/chromagrid_I5.0_F1.9_L100LED30_124643_0_0_0_Fluorescence.hdr</td><td>/media//gmobot/easystore/GWAS_Transformation/GTW/wk10/chromagrid_I5.0_F1.9_L100LED30_124643_0_0_0_rgb.jpg         </td><td>GTW/wk10                                                                                                          </td><td>Randomization_datasheets//GTAA_16_genotypes_6.30.21-7.02.21_labels.xlsx                                           </td></tr>\n",
       "\t<tr><td>post_shift/subset_a                                                                                               </td><td>GTAA                                                                                                              </td><td>wk7                                                                                                               </td><td>/media//gmobot/easystore/GWAS_Transformation/GTAA/wk7                                                             </td><td>GTAA_wk7                                                                                                          </td><td>FALSE                                                                                                             </td><td>post_shift                                                                                                        </td><td>subset_a                                                                                                          </td><td>GTW_10                                                                                                            </td><td>chromagrid_I5.0_F1.9_L100LED30_124643_0_0_0_rgb_pre-densenet                                                      </td><td>...                                                                                                               </td><td>98                                                                                                                </td><td>1254                                                                                                              </td><td>280                                                                                                               </td><td>1228                                                                                                              </td><td>chromagrid_I5.0_F1.9_L100LED30_133853_0_0_0_rgb                                                                   </td><td>chromagrid_I5.0_F1.9_L100LED30_124643_0_0_0_rgb                                                                   </td><td>/media//gmobot/easystore/GWAS_Transformation/GTW/wk10/chromagrid_I5.0_F1.9_L100LED30_124643_0_0_0_Fluorescence.hdr</td><td>/media//gmobot/easystore/GWAS_Transformation/GTW/wk10/chromagrid_I5.0_F1.9_L100LED30_124643_0_0_0_rgb.jpg         </td><td>GTW/wk10                                                                                                          </td><td>Randomization_datasheets//GTAA_16_genotypes_6.30.21-7.02.21_labels.xlsx                                           </td></tr>\n",
       "\t<tr><td>post_shift/subset_a                                                                                               </td><td>GTO                                                                                                               </td><td>wk10                                                                                                              </td><td>/media//gmobot/Seagate Portable Drive/GWAS_Transformation/GTO/wk10                                                </td><td>GTO_wk10                                                                                                          </td><td>FALSE                                                                                                             </td><td>post_shift                                                                                                        </td><td>subset_a                                                                                                          </td><td>GTW_10                                                                                                            </td><td>chromagrid_I5.0_F1.9_L100LED30_124643_0_0_0_rgb_pre-densenet                                                      </td><td>...                                                                                                               </td><td>98                                                                                                                </td><td>1254                                                                                                              </td><td>280                                                                                                               </td><td>1228                                                                                                              </td><td>chromagrid_I5.0_F1.9_L100LED30_133853_0_0_0_rgb                                                                   </td><td>chromagrid_I5.0_F1.9_L100LED30_124643_0_0_0_rgb                                                                   </td><td>/media//gmobot/easystore/GWAS_Transformation/GTW/wk10/chromagrid_I5.0_F1.9_L100LED30_124643_0_0_0_Fluorescence.hdr</td><td>/media//gmobot/easystore/GWAS_Transformation/GTW/wk10/chromagrid_I5.0_F1.9_L100LED30_124643_0_0_0_rgb.jpg         </td><td>GTW/wk10                                                                                                          </td><td>Randomization_datasheets//GTO_16_genotypes_03.01.21-03.03.21_labels.xlsx                                          </td></tr>\n",
       "\t<tr><td>post_shift/subset_a                                                                                               </td><td>GTP                                                                                                               </td><td>wk10                                                                                                              </td><td>/media//gmobot/New Volume/GWAS_Transformation/GTP/wk10                                                            </td><td>GTP_wk10                                                                                                          </td><td>FALSE                                                                                                             </td><td>post_shift                                                                                                        </td><td>subset_a                                                                                                          </td><td>GTW_10                                                                                                            </td><td>chromagrid_I5.0_F1.9_L100LED30_124643_0_0_0_rgb_pre-densenet                                                      </td><td>...                                                                                                               </td><td>98                                                                                                                </td><td>1254                                                                                                              </td><td>280                                                                                                               </td><td>1228                                                                                                              </td><td>chromagrid_I5.0_F1.9_L100LED30_133853_0_0_0_rgb                                                                   </td><td>chromagrid_I5.0_F1.9_L100LED30_124643_0_0_0_rgb                                                                   </td><td>/media//gmobot/easystore/GWAS_Transformation/GTW/wk10/chromagrid_I5.0_F1.9_L100LED30_124643_0_0_0_Fluorescence.hdr</td><td>/media//gmobot/easystore/GWAS_Transformation/GTW/wk10/chromagrid_I5.0_F1.9_L100LED30_124643_0_0_0_rgb.jpg         </td><td>GTW/wk10                                                                                                          </td><td>Randomization_datasheets//GTP_32_genotypes_03.09.21-03.12.21_labels.xlsx                                          </td></tr>\n",
       "\t<tr><td>post_shift/subset_a                                                                                               </td><td>GTQ                                                                                                               </td><td>wk10                                                                                                              </td><td>/media//gmobot/MyBook_16/MyBook_16/GWAS_Transformation/GTQ/wk10                                                   </td><td>GTQ_wk10                                                                                                          </td><td>FALSE                                                                                                             </td><td>post_shift                                                                                                        </td><td>subset_a                                                                                                          </td><td>GTW_10                                                                                                            </td><td>chromagrid_I5.0_F1.9_L100LED30_124643_0_0_0_rgb_pre-densenet                                                      </td><td>...                                                                                                               </td><td>98                                                                                                                </td><td>1254                                                                                                              </td><td>280                                                                                                               </td><td>1228                                                                                                              </td><td>chromagrid_I5.0_F1.9_L100LED30_133853_0_0_0_rgb                                                                   </td><td>chromagrid_I5.0_F1.9_L100LED30_124643_0_0_0_rgb                                                                   </td><td>/media//gmobot/easystore/GWAS_Transformation/GTW/wk10/chromagrid_I5.0_F1.9_L100LED30_124643_0_0_0_Fluorescence.hdr</td><td>/media//gmobot/easystore/GWAS_Transformation/GTW/wk10/chromagrid_I5.0_F1.9_L100LED30_124643_0_0_0_rgb.jpg         </td><td>GTW/wk10                                                                                                          </td><td>Randomization_datasheets//GTQ_32_genotypes_03.15.21-03.18.21_labels.xlsx                                          </td></tr>\n",
       "\t<tr><td>post_shift/subset_a                                                                                               </td><td>GTQ                                                                                                               </td><td>wk10                                                                                                              </td><td>/media//gmobot/MyBook_16/MyBook_16/GWAS_Transformation/GTQ/wk10                                                   </td><td>GTQ_wk10                                                                                                          </td><td>FALSE                                                                                                             </td><td>post_shift                                                                                                        </td><td>subset_a                                                                                                          </td><td>GTW_10                                                                                                            </td><td>chromagrid_I5.0_F1.9_L100LED30_124643_0_0_0_rgb_pre-densenet                                                      </td><td>...                                                                                                               </td><td>98                                                                                                                </td><td>1254                                                                                                              </td><td>280                                                                                                               </td><td>1228                                                                                                              </td><td>chromagrid_I5.0_F1.9_L100LED30_133853_0_0_0_rgb                                                                   </td><td>chromagrid_I5.0_F1.9_L100LED30_124643_0_0_0_rgb                                                                   </td><td>/media//gmobot/easystore/GWAS_Transformation/GTW/wk10/chromagrid_I5.0_F1.9_L100LED30_124643_0_0_0_Fluorescence.hdr</td><td>/media//gmobot/easystore/GWAS_Transformation/GTW/wk10/chromagrid_I5.0_F1.9_L100LED30_124643_0_0_0_rgb.jpg         </td><td>GTW/wk10                                                                                                          </td><td>Randomization_datasheets//GTQ_32_genotypes_03.15.21-03.18.21_labels.xlsx                                          </td></tr>\n",
       "</tbody>\n",
       "</table>\n"
      ],
      "text/latex": [
       "\\begin{tabular}{r|lllllllllllllllllllllllllll}\n",
       " group & phase & timepoint & dirs & phase\\_timepoint & is\\_duplicated & Shift\\_group & subset & Location & RGB & ... & aligned\\_top & aligned\\_bottom & aligned\\_left & aligned\\_right & grid\\_file & grid\\_file\\_prefix & grid\\_file\\_hdr\\_path & grid\\_file\\_rgb\\_path & phase\\_timepoint\\_of\\_grid\\_standard & randomization\\_datasheet\\\\\n",
       "\\hline\n",
       "\t post\\_shift/subset\\_a                                                                                                              & GTAA                                                                                                                                 & wk3                                                                                                                                  & /media//gmobot/easystore/GWAS\\_Transformation/GTAA/wk3                                                                              & GTAA\\_wk3                                                                                                                           & FALSE                                                                                                                                & post\\_shift                                                                                                                         & subset\\_a                                                                                                                           & GTW\\_10                                                                                                                             & chromagrid\\_I5.0\\_F1.9\\_L100LED30\\_124643\\_0\\_0\\_0\\_rgb\\_pre-densenet                                                       & ...                                                                                                                                  & 98                                                                                                                                   & 1254                                                                                                                                 & 280                                                                                                                                  & 1228                                                                                                                                 & chromagrid\\_I5.0\\_F1.9\\_L100LED30\\_133853\\_0\\_0\\_0\\_rgb                                                                      & chromagrid\\_I5.0\\_F1.9\\_L100LED30\\_124643\\_0\\_0\\_0\\_rgb                                                                      & /media//gmobot/easystore/GWAS\\_Transformation/GTW/wk10/chromagrid\\_I5.0\\_F1.9\\_L100LED30\\_124643\\_0\\_0\\_0\\_Fluorescence.hdr & /media//gmobot/easystore/GWAS\\_Transformation/GTW/wk10/chromagrid\\_I5.0\\_F1.9\\_L100LED30\\_124643\\_0\\_0\\_0\\_rgb.jpg          & GTW/wk10                                                                                                                             & Randomization\\_datasheets//GTAA\\_16\\_genotypes\\_6.30.21-7.02.21\\_labels.xlsx                                                   \\\\\n",
       "\t post\\_shift/subset\\_a                                                                                                              & GTAA                                                                                                                                 & wk7                                                                                                                                  & /media//gmobot/easystore/GWAS\\_Transformation/GTAA/wk7                                                                              & GTAA\\_wk7                                                                                                                           & FALSE                                                                                                                                & post\\_shift                                                                                                                         & subset\\_a                                                                                                                           & GTW\\_10                                                                                                                             & chromagrid\\_I5.0\\_F1.9\\_L100LED30\\_124643\\_0\\_0\\_0\\_rgb\\_pre-densenet                                                       & ...                                                                                                                                  & 98                                                                                                                                   & 1254                                                                                                                                 & 280                                                                                                                                  & 1228                                                                                                                                 & chromagrid\\_I5.0\\_F1.9\\_L100LED30\\_133853\\_0\\_0\\_0\\_rgb                                                                      & chromagrid\\_I5.0\\_F1.9\\_L100LED30\\_124643\\_0\\_0\\_0\\_rgb                                                                      & /media//gmobot/easystore/GWAS\\_Transformation/GTW/wk10/chromagrid\\_I5.0\\_F1.9\\_L100LED30\\_124643\\_0\\_0\\_0\\_Fluorescence.hdr & /media//gmobot/easystore/GWAS\\_Transformation/GTW/wk10/chromagrid\\_I5.0\\_F1.9\\_L100LED30\\_124643\\_0\\_0\\_0\\_rgb.jpg          & GTW/wk10                                                                                                                             & Randomization\\_datasheets//GTAA\\_16\\_genotypes\\_6.30.21-7.02.21\\_labels.xlsx                                                   \\\\\n",
       "\t post\\_shift/subset\\_a                                                                                                              & GTO                                                                                                                                  & wk10                                                                                                                                 & /media//gmobot/Seagate Portable Drive/GWAS\\_Transformation/GTO/wk10                                                                 & GTO\\_wk10                                                                                                                           & FALSE                                                                                                                                & post\\_shift                                                                                                                         & subset\\_a                                                                                                                           & GTW\\_10                                                                                                                             & chromagrid\\_I5.0\\_F1.9\\_L100LED30\\_124643\\_0\\_0\\_0\\_rgb\\_pre-densenet                                                       & ...                                                                                                                                  & 98                                                                                                                                   & 1254                                                                                                                                 & 280                                                                                                                                  & 1228                                                                                                                                 & chromagrid\\_I5.0\\_F1.9\\_L100LED30\\_133853\\_0\\_0\\_0\\_rgb                                                                      & chromagrid\\_I5.0\\_F1.9\\_L100LED30\\_124643\\_0\\_0\\_0\\_rgb                                                                      & /media//gmobot/easystore/GWAS\\_Transformation/GTW/wk10/chromagrid\\_I5.0\\_F1.9\\_L100LED30\\_124643\\_0\\_0\\_0\\_Fluorescence.hdr & /media//gmobot/easystore/GWAS\\_Transformation/GTW/wk10/chromagrid\\_I5.0\\_F1.9\\_L100LED30\\_124643\\_0\\_0\\_0\\_rgb.jpg          & GTW/wk10                                                                                                                             & Randomization\\_datasheets//GTO\\_16\\_genotypes\\_03.01.21-03.03.21\\_labels.xlsx                                                  \\\\\n",
       "\t post\\_shift/subset\\_a                                                                                                              & GTP                                                                                                                                  & wk10                                                                                                                                 & /media//gmobot/New Volume/GWAS\\_Transformation/GTP/wk10                                                                             & GTP\\_wk10                                                                                                                           & FALSE                                                                                                                                & post\\_shift                                                                                                                         & subset\\_a                                                                                                                           & GTW\\_10                                                                                                                             & chromagrid\\_I5.0\\_F1.9\\_L100LED30\\_124643\\_0\\_0\\_0\\_rgb\\_pre-densenet                                                       & ...                                                                                                                                  & 98                                                                                                                                   & 1254                                                                                                                                 & 280                                                                                                                                  & 1228                                                                                                                                 & chromagrid\\_I5.0\\_F1.9\\_L100LED30\\_133853\\_0\\_0\\_0\\_rgb                                                                      & chromagrid\\_I5.0\\_F1.9\\_L100LED30\\_124643\\_0\\_0\\_0\\_rgb                                                                      & /media//gmobot/easystore/GWAS\\_Transformation/GTW/wk10/chromagrid\\_I5.0\\_F1.9\\_L100LED30\\_124643\\_0\\_0\\_0\\_Fluorescence.hdr & /media//gmobot/easystore/GWAS\\_Transformation/GTW/wk10/chromagrid\\_I5.0\\_F1.9\\_L100LED30\\_124643\\_0\\_0\\_0\\_rgb.jpg          & GTW/wk10                                                                                                                             & Randomization\\_datasheets//GTP\\_32\\_genotypes\\_03.09.21-03.12.21\\_labels.xlsx                                                  \\\\\n",
       "\t post\\_shift/subset\\_a                                                                                                              & GTQ                                                                                                                                  & wk10                                                                                                                                 & /media//gmobot/MyBook\\_16/MyBook\\_16/GWAS\\_Transformation/GTQ/wk10                                                                & GTQ\\_wk10                                                                                                                           & FALSE                                                                                                                                & post\\_shift                                                                                                                         & subset\\_a                                                                                                                           & GTW\\_10                                                                                                                             & chromagrid\\_I5.0\\_F1.9\\_L100LED30\\_124643\\_0\\_0\\_0\\_rgb\\_pre-densenet                                                       & ...                                                                                                                                  & 98                                                                                                                                   & 1254                                                                                                                                 & 280                                                                                                                                  & 1228                                                                                                                                 & chromagrid\\_I5.0\\_F1.9\\_L100LED30\\_133853\\_0\\_0\\_0\\_rgb                                                                      & chromagrid\\_I5.0\\_F1.9\\_L100LED30\\_124643\\_0\\_0\\_0\\_rgb                                                                      & /media//gmobot/easystore/GWAS\\_Transformation/GTW/wk10/chromagrid\\_I5.0\\_F1.9\\_L100LED30\\_124643\\_0\\_0\\_0\\_Fluorescence.hdr & /media//gmobot/easystore/GWAS\\_Transformation/GTW/wk10/chromagrid\\_I5.0\\_F1.9\\_L100LED30\\_124643\\_0\\_0\\_0\\_rgb.jpg          & GTW/wk10                                                                                                                             & Randomization\\_datasheets//GTQ\\_32\\_genotypes\\_03.15.21-03.18.21\\_labels.xlsx                                                  \\\\\n",
       "\t post\\_shift/subset\\_a                                                                                                              & GTQ                                                                                                                                  & wk10                                                                                                                                 & /media//gmobot/MyBook\\_16/MyBook\\_16/GWAS\\_Transformation/GTQ/wk10                                                                & GTQ\\_wk10                                                                                                                           & FALSE                                                                                                                                & post\\_shift                                                                                                                         & subset\\_a                                                                                                                           & GTW\\_10                                                                                                                             & chromagrid\\_I5.0\\_F1.9\\_L100LED30\\_124643\\_0\\_0\\_0\\_rgb\\_pre-densenet                                                       & ...                                                                                                                                  & 98                                                                                                                                   & 1254                                                                                                                                 & 280                                                                                                                                  & 1228                                                                                                                                 & chromagrid\\_I5.0\\_F1.9\\_L100LED30\\_133853\\_0\\_0\\_0\\_rgb                                                                      & chromagrid\\_I5.0\\_F1.9\\_L100LED30\\_124643\\_0\\_0\\_0\\_rgb                                                                      & /media//gmobot/easystore/GWAS\\_Transformation/GTW/wk10/chromagrid\\_I5.0\\_F1.9\\_L100LED30\\_124643\\_0\\_0\\_0\\_Fluorescence.hdr & /media//gmobot/easystore/GWAS\\_Transformation/GTW/wk10/chromagrid\\_I5.0\\_F1.9\\_L100LED30\\_124643\\_0\\_0\\_0\\_rgb.jpg          & GTW/wk10                                                                                                                             & Randomization\\_datasheets//GTQ\\_32\\_genotypes\\_03.15.21-03.18.21\\_labels.xlsx                                                  \\\\\n",
       "\\end{tabular}\n"
      ],
      "text/markdown": [
       "\n",
       "| group | phase | timepoint | dirs | phase_timepoint | is_duplicated | Shift_group | subset | Location | RGB | ... | aligned_top | aligned_bottom | aligned_left | aligned_right | grid_file | grid_file_prefix | grid_file_hdr_path | grid_file_rgb_path | phase_timepoint_of_grid_standard | randomization_datasheet |\n",
       "|---|---|---|---|---|---|---|---|---|---|---|---|---|---|---|---|---|---|---|---|---|\n",
       "| post_shift/subset_a                                                                                                | GTAA                                                                                                               | wk3                                                                                                                | /media//gmobot/easystore/GWAS_Transformation/GTAA/wk3                                                              | GTAA_wk3                                                                                                           | FALSE                                                                                                              | post_shift                                                                                                         | subset_a                                                                                                           | GTW_10                                                                                                             | chromagrid_I5.0_F1.9_L100LED30_124643_0_0_0_rgb_pre-densenet                                                       | ...                                                                                                                | 98                                                                                                                 | 1254                                                                                                               | 280                                                                                                                | 1228                                                                                                               | chromagrid_I5.0_F1.9_L100LED30_133853_0_0_0_rgb                                                                    | chromagrid_I5.0_F1.9_L100LED30_124643_0_0_0_rgb                                                                    | /media//gmobot/easystore/GWAS_Transformation/GTW/wk10/chromagrid_I5.0_F1.9_L100LED30_124643_0_0_0_Fluorescence.hdr | /media//gmobot/easystore/GWAS_Transformation/GTW/wk10/chromagrid_I5.0_F1.9_L100LED30_124643_0_0_0_rgb.jpg          | GTW/wk10                                                                                                           | Randomization_datasheets//GTAA_16_genotypes_6.30.21-7.02.21_labels.xlsx                                            |\n",
       "| post_shift/subset_a                                                                                                | GTAA                                                                                                               | wk7                                                                                                                | /media//gmobot/easystore/GWAS_Transformation/GTAA/wk7                                                              | GTAA_wk7                                                                                                           | FALSE                                                                                                              | post_shift                                                                                                         | subset_a                                                                                                           | GTW_10                                                                                                             | chromagrid_I5.0_F1.9_L100LED30_124643_0_0_0_rgb_pre-densenet                                                       | ...                                                                                                                | 98                                                                                                                 | 1254                                                                                                               | 280                                                                                                                | 1228                                                                                                               | chromagrid_I5.0_F1.9_L100LED30_133853_0_0_0_rgb                                                                    | chromagrid_I5.0_F1.9_L100LED30_124643_0_0_0_rgb                                                                    | /media//gmobot/easystore/GWAS_Transformation/GTW/wk10/chromagrid_I5.0_F1.9_L100LED30_124643_0_0_0_Fluorescence.hdr | /media//gmobot/easystore/GWAS_Transformation/GTW/wk10/chromagrid_I5.0_F1.9_L100LED30_124643_0_0_0_rgb.jpg          | GTW/wk10                                                                                                           | Randomization_datasheets//GTAA_16_genotypes_6.30.21-7.02.21_labels.xlsx                                            |\n",
       "| post_shift/subset_a                                                                                                | GTO                                                                                                                | wk10                                                                                                               | /media//gmobot/Seagate Portable Drive/GWAS_Transformation/GTO/wk10                                                 | GTO_wk10                                                                                                           | FALSE                                                                                                              | post_shift                                                                                                         | subset_a                                                                                                           | GTW_10                                                                                                             | chromagrid_I5.0_F1.9_L100LED30_124643_0_0_0_rgb_pre-densenet                                                       | ...                                                                                                                | 98                                                                                                                 | 1254                                                                                                               | 280                                                                                                                | 1228                                                                                                               | chromagrid_I5.0_F1.9_L100LED30_133853_0_0_0_rgb                                                                    | chromagrid_I5.0_F1.9_L100LED30_124643_0_0_0_rgb                                                                    | /media//gmobot/easystore/GWAS_Transformation/GTW/wk10/chromagrid_I5.0_F1.9_L100LED30_124643_0_0_0_Fluorescence.hdr | /media//gmobot/easystore/GWAS_Transformation/GTW/wk10/chromagrid_I5.0_F1.9_L100LED30_124643_0_0_0_rgb.jpg          | GTW/wk10                                                                                                           | Randomization_datasheets//GTO_16_genotypes_03.01.21-03.03.21_labels.xlsx                                           |\n",
       "| post_shift/subset_a                                                                                                | GTP                                                                                                                | wk10                                                                                                               | /media//gmobot/New Volume/GWAS_Transformation/GTP/wk10                                                             | GTP_wk10                                                                                                           | FALSE                                                                                                              | post_shift                                                                                                         | subset_a                                                                                                           | GTW_10                                                                                                             | chromagrid_I5.0_F1.9_L100LED30_124643_0_0_0_rgb_pre-densenet                                                       | ...                                                                                                                | 98                                                                                                                 | 1254                                                                                                               | 280                                                                                                                | 1228                                                                                                               | chromagrid_I5.0_F1.9_L100LED30_133853_0_0_0_rgb                                                                    | chromagrid_I5.0_F1.9_L100LED30_124643_0_0_0_rgb                                                                    | /media//gmobot/easystore/GWAS_Transformation/GTW/wk10/chromagrid_I5.0_F1.9_L100LED30_124643_0_0_0_Fluorescence.hdr | /media//gmobot/easystore/GWAS_Transformation/GTW/wk10/chromagrid_I5.0_F1.9_L100LED30_124643_0_0_0_rgb.jpg          | GTW/wk10                                                                                                           | Randomization_datasheets//GTP_32_genotypes_03.09.21-03.12.21_labels.xlsx                                           |\n",
       "| post_shift/subset_a                                                                                                | GTQ                                                                                                                | wk10                                                                                                               | /media//gmobot/MyBook_16/MyBook_16/GWAS_Transformation/GTQ/wk10                                                    | GTQ_wk10                                                                                                           | FALSE                                                                                                              | post_shift                                                                                                         | subset_a                                                                                                           | GTW_10                                                                                                             | chromagrid_I5.0_F1.9_L100LED30_124643_0_0_0_rgb_pre-densenet                                                       | ...                                                                                                                | 98                                                                                                                 | 1254                                                                                                               | 280                                                                                                                | 1228                                                                                                               | chromagrid_I5.0_F1.9_L100LED30_133853_0_0_0_rgb                                                                    | chromagrid_I5.0_F1.9_L100LED30_124643_0_0_0_rgb                                                                    | /media//gmobot/easystore/GWAS_Transformation/GTW/wk10/chromagrid_I5.0_F1.9_L100LED30_124643_0_0_0_Fluorescence.hdr | /media//gmobot/easystore/GWAS_Transformation/GTW/wk10/chromagrid_I5.0_F1.9_L100LED30_124643_0_0_0_rgb.jpg          | GTW/wk10                                                                                                           | Randomization_datasheets//GTQ_32_genotypes_03.15.21-03.18.21_labels.xlsx                                           |\n",
       "| post_shift/subset_a                                                                                                | GTQ                                                                                                                | wk10                                                                                                               | /media//gmobot/MyBook_16/MyBook_16/GWAS_Transformation/GTQ/wk10                                                    | GTQ_wk10                                                                                                           | FALSE                                                                                                              | post_shift                                                                                                         | subset_a                                                                                                           | GTW_10                                                                                                             | chromagrid_I5.0_F1.9_L100LED30_124643_0_0_0_rgb_pre-densenet                                                       | ...                                                                                                                | 98                                                                                                                 | 1254                                                                                                               | 280                                                                                                                | 1228                                                                                                               | chromagrid_I5.0_F1.9_L100LED30_133853_0_0_0_rgb                                                                    | chromagrid_I5.0_F1.9_L100LED30_124643_0_0_0_rgb                                                                    | /media//gmobot/easystore/GWAS_Transformation/GTW/wk10/chromagrid_I5.0_F1.9_L100LED30_124643_0_0_0_Fluorescence.hdr | /media//gmobot/easystore/GWAS_Transformation/GTW/wk10/chromagrid_I5.0_F1.9_L100LED30_124643_0_0_0_rgb.jpg          | GTW/wk10                                                                                                           | Randomization_datasheets//GTQ_32_genotypes_03.15.21-03.18.21_labels.xlsx                                           |\n",
       "\n"
      ],
      "text/plain": [
       "  group               phase timepoint\n",
       "1 post_shift/subset_a GTAA  wk3      \n",
       "2 post_shift/subset_a GTAA  wk7      \n",
       "3 post_shift/subset_a GTO   wk10     \n",
       "4 post_shift/subset_a GTP   wk10     \n",
       "5 post_shift/subset_a GTQ   wk10     \n",
       "6 post_shift/subset_a GTQ   wk10     \n",
       "  dirs                                                              \n",
       "1 /media//gmobot/easystore/GWAS_Transformation/GTAA/wk3             \n",
       "2 /media//gmobot/easystore/GWAS_Transformation/GTAA/wk7             \n",
       "3 /media//gmobot/Seagate Portable Drive/GWAS_Transformation/GTO/wk10\n",
       "4 /media//gmobot/New Volume/GWAS_Transformation/GTP/wk10            \n",
       "5 /media//gmobot/MyBook_16/MyBook_16/GWAS_Transformation/GTQ/wk10   \n",
       "6 /media//gmobot/MyBook_16/MyBook_16/GWAS_Transformation/GTQ/wk10   \n",
       "  phase_timepoint is_duplicated Shift_group subset   Location\n",
       "1 GTAA_wk3        FALSE         post_shift  subset_a GTW_10  \n",
       "2 GTAA_wk7        FALSE         post_shift  subset_a GTW_10  \n",
       "3 GTO_wk10        FALSE         post_shift  subset_a GTW_10  \n",
       "4 GTP_wk10        FALSE         post_shift  subset_a GTW_10  \n",
       "5 GTQ_wk10        FALSE         post_shift  subset_a GTW_10  \n",
       "6 GTQ_wk10        FALSE         post_shift  subset_a GTW_10  \n",
       "  RGB                                                          ... aligned_top\n",
       "1 chromagrid_I5.0_F1.9_L100LED30_124643_0_0_0_rgb_pre-densenet ... 98         \n",
       "2 chromagrid_I5.0_F1.9_L100LED30_124643_0_0_0_rgb_pre-densenet ... 98         \n",
       "3 chromagrid_I5.0_F1.9_L100LED30_124643_0_0_0_rgb_pre-densenet ... 98         \n",
       "4 chromagrid_I5.0_F1.9_L100LED30_124643_0_0_0_rgb_pre-densenet ... 98         \n",
       "5 chromagrid_I5.0_F1.9_L100LED30_124643_0_0_0_rgb_pre-densenet ... 98         \n",
       "6 chromagrid_I5.0_F1.9_L100LED30_124643_0_0_0_rgb_pre-densenet ... 98         \n",
       "  aligned_bottom aligned_left aligned_right\n",
       "1 1254           280          1228         \n",
       "2 1254           280          1228         \n",
       "3 1254           280          1228         \n",
       "4 1254           280          1228         \n",
       "5 1254           280          1228         \n",
       "6 1254           280          1228         \n",
       "  grid_file                                      \n",
       "1 chromagrid_I5.0_F1.9_L100LED30_133853_0_0_0_rgb\n",
       "2 chromagrid_I5.0_F1.9_L100LED30_133853_0_0_0_rgb\n",
       "3 chromagrid_I5.0_F1.9_L100LED30_133853_0_0_0_rgb\n",
       "4 chromagrid_I5.0_F1.9_L100LED30_133853_0_0_0_rgb\n",
       "5 chromagrid_I5.0_F1.9_L100LED30_133853_0_0_0_rgb\n",
       "6 chromagrid_I5.0_F1.9_L100LED30_133853_0_0_0_rgb\n",
       "  grid_file_prefix                               \n",
       "1 chromagrid_I5.0_F1.9_L100LED30_124643_0_0_0_rgb\n",
       "2 chromagrid_I5.0_F1.9_L100LED30_124643_0_0_0_rgb\n",
       "3 chromagrid_I5.0_F1.9_L100LED30_124643_0_0_0_rgb\n",
       "4 chromagrid_I5.0_F1.9_L100LED30_124643_0_0_0_rgb\n",
       "5 chromagrid_I5.0_F1.9_L100LED30_124643_0_0_0_rgb\n",
       "6 chromagrid_I5.0_F1.9_L100LED30_124643_0_0_0_rgb\n",
       "  grid_file_hdr_path                                                                                                \n",
       "1 /media//gmobot/easystore/GWAS_Transformation/GTW/wk10/chromagrid_I5.0_F1.9_L100LED30_124643_0_0_0_Fluorescence.hdr\n",
       "2 /media//gmobot/easystore/GWAS_Transformation/GTW/wk10/chromagrid_I5.0_F1.9_L100LED30_124643_0_0_0_Fluorescence.hdr\n",
       "3 /media//gmobot/easystore/GWAS_Transformation/GTW/wk10/chromagrid_I5.0_F1.9_L100LED30_124643_0_0_0_Fluorescence.hdr\n",
       "4 /media//gmobot/easystore/GWAS_Transformation/GTW/wk10/chromagrid_I5.0_F1.9_L100LED30_124643_0_0_0_Fluorescence.hdr\n",
       "5 /media//gmobot/easystore/GWAS_Transformation/GTW/wk10/chromagrid_I5.0_F1.9_L100LED30_124643_0_0_0_Fluorescence.hdr\n",
       "6 /media//gmobot/easystore/GWAS_Transformation/GTW/wk10/chromagrid_I5.0_F1.9_L100LED30_124643_0_0_0_Fluorescence.hdr\n",
       "  grid_file_rgb_path                                                                                       \n",
       "1 /media//gmobot/easystore/GWAS_Transformation/GTW/wk10/chromagrid_I5.0_F1.9_L100LED30_124643_0_0_0_rgb.jpg\n",
       "2 /media//gmobot/easystore/GWAS_Transformation/GTW/wk10/chromagrid_I5.0_F1.9_L100LED30_124643_0_0_0_rgb.jpg\n",
       "3 /media//gmobot/easystore/GWAS_Transformation/GTW/wk10/chromagrid_I5.0_F1.9_L100LED30_124643_0_0_0_rgb.jpg\n",
       "4 /media//gmobot/easystore/GWAS_Transformation/GTW/wk10/chromagrid_I5.0_F1.9_L100LED30_124643_0_0_0_rgb.jpg\n",
       "5 /media//gmobot/easystore/GWAS_Transformation/GTW/wk10/chromagrid_I5.0_F1.9_L100LED30_124643_0_0_0_rgb.jpg\n",
       "6 /media//gmobot/easystore/GWAS_Transformation/GTW/wk10/chromagrid_I5.0_F1.9_L100LED30_124643_0_0_0_rgb.jpg\n",
       "  phase_timepoint_of_grid_standard\n",
       "1 GTW/wk10                        \n",
       "2 GTW/wk10                        \n",
       "3 GTW/wk10                        \n",
       "4 GTW/wk10                        \n",
       "5 GTW/wk10                        \n",
       "6 GTW/wk10                        \n",
       "  randomization_datasheet                                                 \n",
       "1 Randomization_datasheets//GTAA_16_genotypes_6.30.21-7.02.21_labels.xlsx \n",
       "2 Randomization_datasheets//GTAA_16_genotypes_6.30.21-7.02.21_labels.xlsx \n",
       "3 Randomization_datasheets//GTO_16_genotypes_03.01.21-03.03.21_labels.xlsx\n",
       "4 Randomization_datasheets//GTP_32_genotypes_03.09.21-03.12.21_labels.xlsx\n",
       "5 Randomization_datasheets//GTQ_32_genotypes_03.15.21-03.18.21_labels.xlsx\n",
       "6 Randomization_datasheets//GTQ_32_genotypes_03.15.21-03.18.21_labels.xlsx"
      ]
     },
     "metadata": {},
     "output_type": "display_data"
    }
   ],
   "source": [
    "head(df)"
   ]
  },
  {
   "cell_type": "code",
   "execution_count": null,
   "id": "5e568dca-ee8c-467f-ab0f-0f3ffc9d7eba",
   "metadata": {},
   "outputs": [],
   "source": []
  }
 ],
 "metadata": {
  "kernelspec": {
   "display_name": "R 4.1",
   "language": "R",
   "name": "ir41"
  },
  "language_info": {
   "codemirror_mode": "r",
   "file_extension": ".r",
   "mimetype": "text/x-r-source",
   "name": "R",
   "pygments_lexer": "r",
   "version": "3.6.1"
  }
 },
 "nbformat": 4,
 "nbformat_minor": 5
}
