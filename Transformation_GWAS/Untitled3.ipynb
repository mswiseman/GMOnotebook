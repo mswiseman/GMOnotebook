{
 "cells": [
  {
   "cell_type": "code",
   "execution_count": 8,
   "id": "398155f7-acc1-475c-abc5-a95bb31e4384",
   "metadata": {},
   "outputs": [
    {
     "name": "stdout",
     "output_type": "stream",
     "text": [
      "no change     /home/gmobot/anaconda3/condabin/conda\n",
      "no change     /home/gmobot/anaconda3/bin/conda\n",
      "no change     /home/gmobot/anaconda3/bin/conda-env\n",
      "no change     /home/gmobot/anaconda3/bin/activate\n",
      "no change     /home/gmobot/anaconda3/bin/deactivate\n",
      "no change     /home/gmobot/anaconda3/etc/profile.d/conda.sh\n",
      "no change     /home/gmobot/anaconda3/etc/fish/conf.d/conda.fish\n",
      "no change     /home/gmobot/anaconda3/shell/condabin/Conda.psm1\n",
      "no change     /home/gmobot/anaconda3/shell/condabin/conda-hook.ps1\n",
      "no change     /home/gmobot/anaconda3/lib/python3.9/site-packages/xontrib/conda.xsh\n",
      "no change     /home/gmobot/anaconda3/etc/profile.d/conda.csh\n",
      "no change     /home/gmobot/.bashrc\n",
      "No action taken.\n",
      "\u001b[?2004h"
     ]
    },
    {
     "ename": "",
     "evalue": "1",
     "output_type": "error",
     "traceback": []
    }
   ],
   "source": [
    "conda init bash"
   ]
  },
  {
   "cell_type": "code",
   "execution_count": 9,
   "id": "c4a6474d-6107-4acf-a554-d6e336fbd5e8",
   "metadata": {
    "collapsed": true,
    "jupyter": {
     "outputs_hidden": true
    },
    "tags": []
   },
   "outputs": [
    {
     "name": "stdout",
     "output_type": "stream",
     "text": [
      "usage: conda init [-h] [--all] [--reverse] [--json] [-v] [-q] [-d]\n",
      "                  [shells ...]\n",
      "\n",
      "Initialize conda for shell interaction. [Experimental]\n",
      "\n",
      "Options:\n",
      "\n",
      "positional arguments:\n",
      "  shells         One or more shells to be initialized. If not given, the\n",
      "                 default value is 'bash' on unix and 'cmd.exe' on Windows. Use\n",
      "                 the '--all' flag to initialize all shells. Currently\n",
      "                 compatible shells are {bash, fish, powershell, tcsh, xonsh,\n",
      "                 zsh}\n",
      "\n",
      "optional arguments:\n",
      "  -h, --help     Show this help message and exit.\n",
      "  --all          Initialize all currently available shells.\n",
      "  -d, --dry-run  Only display what would have been done.\n",
      "\n",
      "setup type:\n",
      "  --reverse      Undo past effects of conda init.\n",
      "\n",
      "Output, Prompt, and Flow Control Options:\n",
      "  --json         Report all output as json. Suitable for using conda\n",
      "                 programmatically.\n",
      "  -v, --verbose  Use once for info, twice for debug, three times for trace.\n",
      "  -q, --quiet    Do not display progress bar.\n",
      "\n",
      "Key parts of conda's functionality require that it interact directly with the shell\n",
      "within which conda is being invoked. The `conda activate` and `conda deactivate` commands\n",
      "specifically are shell-level commands. That is, they affect the state (e.g. environment\n",
      "variables) of the shell context being interacted with. Other core commands, like\n",
      "`conda create` and `conda install`, also necessarily interact with the shell environment.\n",
      "They're therefore implemented in ways specific to each shell. Each shell must be configured\n",
      "to make use of them.\n",
      "\n",
      "This command makes changes to your system that are specific and customized for each shell.\n",
      "To see the specific files and locations on your system that will be affected before, use the\n",
      "'--dry-run' flag.  To see the exact changes that are being or will be made to each location,\n",
      "use the '--verbose' flag.\n",
      "\n",
      "IMPORTANT: After running `conda init`, most shells will need to be closed and restarted\n",
      "           for changes to take effect.\n",
      "\u001b[?2004h"
     ]
    },
    {
     "ename": "",
     "evalue": "1",
     "output_type": "error",
     "traceback": []
    }
   ],
   "source": [
    "conda init --help"
   ]
  },
  {
   "cell_type": "code",
   "execution_count": null,
   "id": "a4ad4279-e714-42f3-8da4-56d6dc563789",
   "metadata": {},
   "outputs": [],
   "source": []
  }
 ],
 "metadata": {
  "kernelspec": {
   "display_name": "Bash",
   "language": "bash",
   "name": "bash"
  },
  "language_info": {
   "codemirror_mode": "shell",
   "file_extension": ".sh",
   "mimetype": "text/x-sh",
   "name": "bash"
  }
 },
 "nbformat": 4,
 "nbformat_minor": 5
}
