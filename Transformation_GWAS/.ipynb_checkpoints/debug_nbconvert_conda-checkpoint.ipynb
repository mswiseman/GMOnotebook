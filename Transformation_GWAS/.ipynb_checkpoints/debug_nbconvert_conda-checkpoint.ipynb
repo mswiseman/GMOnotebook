{
 "cells": [
  {
   "cell_type": "code",
   "execution_count": 1,
   "id": "0e5a035d-6cbd-473c-a5bd-8f030e7c13bf",
   "metadata": {},
   "outputs": [
    {
     "name": "stdout",
     "output_type": "stream",
     "text": [
      "\u001b[?2004h(test-environment) "
     ]
    },
    {
     "ename": "",
     "evalue": "1",
     "output_type": "error",
     "traceback": []
    }
   ],
   "source": [
    "conda activate test-environment"
   ]
  },
  {
   "cell_type": "code",
   "execution_count": 2,
   "id": "1cff812b-d066-4155-829c-e5b9c6735d22",
   "metadata": {},
   "outputs": [
    {
     "name": "stdout",
     "output_type": "stream",
     "text": [
      "\u001b[?2004h"
     ]
    },
    {
     "ename": "",
     "evalue": "1",
     "output_type": "error",
     "traceback": []
    }
   ],
   "source": [
    "conda deactivate"
   ]
  },
  {
   "cell_type": "code",
   "execution_count": 4,
   "id": "3f741055-7170-4a9f-ac39-cd9b926e3e29",
   "metadata": {},
   "outputs": [
    {
     "name": "stdout",
     "output_type": "stream",
     "text": [
      "\u001b[?2004h(alignment) "
     ]
    },
    {
     "ename": "",
     "evalue": "1",
     "output_type": "error",
     "traceback": []
    }
   ],
   "source": [
    "conda activate alignment"
   ]
  },
  {
   "cell_type": "code",
   "execution_count": 5,
   "id": "87c895a9-9ea9-46e7-a6bc-042bbf1f7a0c",
   "metadata": {},
   "outputs": [
    {
     "name": "stdout",
     "output_type": "stream",
     "text": [
      "\u001b[?2004h"
     ]
    },
    {
     "ename": "",
     "evalue": "1",
     "output_type": "error",
     "traceback": []
    }
   ],
   "source": [
    "conda deactivate"
   ]
  },
  {
   "cell_type": "code",
   "execution_count": 6,
   "id": "a4ad4279-e714-42f3-8da4-56d6dc563789",
   "metadata": {},
   "outputs": [
    {
     "name": "stdout",
     "output_type": "stream",
     "text": [
      "test004l\n",
      "\u001b[?2004h"
     ]
    },
    {
     "ename": "",
     "evalue": "1",
     "output_type": "error",
     "traceback": []
    }
   ],
   "source": [
    "echo \"test\""
   ]
  },
  {
   "cell_type": "code",
   "execution_count": null,
   "id": "f1293c97-87d7-47ae-8147-39d8e0746011",
   "metadata": {},
   "outputs": [],
   "source": []
  }
 ],
 "metadata": {
  "kernelspec": {
   "display_name": "Bash",
   "language": "bash",
   "name": "bash"
  },
  "language_info": {
   "codemirror_mode": "shell",
   "file_extension": ".sh",
   "mimetype": "text/x-sh",
   "name": "bash"
  }
 },
 "nbformat": 4,
 "nbformat_minor": 5
}
