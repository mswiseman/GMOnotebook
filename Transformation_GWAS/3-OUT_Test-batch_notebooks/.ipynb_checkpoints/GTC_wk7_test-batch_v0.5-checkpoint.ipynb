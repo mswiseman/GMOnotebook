{
 "cells": [
  {
   "cell_type": "markdown",
   "metadata": {},
   "source": [
    "# *GMOdetector notebook*: Template to analyze a new batch of images\n",
    "**Notebook template for applying routine hyperspectral/segmentation cross-analysis phenomics workflow over new datasets**"
   ]
  },
  {
   "cell_type": "markdown",
   "metadata": {},
   "source": [
    "v.0.3.0 is updated to use new segmentation model and work without producing test alignment for every single image (to run more quickly)"
   ]
  },
  {
   "cell_type": "markdown",
   "metadata": {},
   "source": [
    "<img src=\"Figures/WorkflowFlowchart.png\">"
   ]
  },
  {
   "cell_type": "markdown",
   "metadata": {},
   "source": [
    "In this workflow, images taken with the macroPhor Array dual RGB/hyperspectral imaging platform are analyzed by a workflow in which regression quantifies fluorescent signals in hyperspectral images, deep learning segments RGB images into different tissues, and these datasets are cross-referenced to produce statistics on growth of transgenic callus and shoot."
   ]
  },
  {
   "cell_type": "markdown",
   "metadata": {},
   "source": [
    "## Instructions for use\n",
    "1.  Enter information for the experiment below\n",
    "2. Set <font color=blue>variables</font> for data paths and parameters, as instructed by colored boxes.\n",
    "3. \"Save as\" with filename describing experiment and anything special about this analysis (e.g. T18_OD_TAO_wk7_automation_test_attempt2.ipynb)\n",
    "4. Run notebook from console, by either one of two methods:\n",
    "- In the top bar of JupyterLab, select \"Run\" and \"Run all cells\"\n",
    "- In a terminal, enter the below command with the notebook filename inserted<br>\n",
    "```jupyter nbconvert --to HTML --ExecutePreprocessor.timeout=-1 --allow-errors --execute insert_filename_here```\n",
    "5. Wait for email"
   ]
  },
  {
   "cell_type": "markdown",
   "metadata": {},
   "source": [
    "## Experiment ID and quick description:"
   ]
  },
  {
   "cell_type": "markdown",
   "metadata": {},
   "source": [
    "<div class=\"alert alert-block alert-success\">\n",
    "Provide a short description of the experiment in the below box. This should include unique identifier codes for the experiment, along with a short description of genotypes and treatments studied. The timepoint should also be included. </div>"
   ]
  },
  {
   "cell_type": "raw",
   "metadata": {},
   "source": [
    "Dataset (Phase ID and week timepoint): \"GTC_wk7\"\n",
    "\n",
    "This notebook comes from a template which we use in R scripts to automatically generate a notebook for each \n",
    "transformation GWAS phase x timepoint."
   ]
  },
  {
   "cell_type": "markdown",
   "metadata": {
    "heading_collapsed": "true"
   },
   "source": [
    "## Parameters for analysis:"
   ]
  },
  {
   "cell_type": "markdown",
   "metadata": {},
   "source": [
    "<div class=\"alert alert-block alert-success\">\n",
    "The below variables must be modified appropriately every time this workflow is run over new images.\n",
    "</div>"
   ]
  },
  {
   "cell_type": "markdown",
   "metadata": {},
   "source": [
    "### Data location\n",
    "The `data` variable below provides the **complete** path to the folder containing data to be analyzed. This should include all folders and subfolders in which the data of interest is organized by. For the organizational system used for our lab's data, this should follow the format \"/Experiment/Subexperiment/Timepoint/\""
   ]
  },
  {
   "cell_type": "code",
   "execution_count": 2,
   "metadata": {},
   "outputs": [
    {
     "name": "stdout",
     "output_type": "stream",
     "text": [
      "\u001b[?2004h"
     ]
    },
    {
     "ename": "",
     "evalue": "1",
     "output_type": "error",
     "traceback": []
    }
   ],
   "source": [
    "data_prefix=\"ENTER_DATA_PREFIX\""
   ]
  },
  {
   "cell_type": "code",
   "execution_count": 3,
   "metadata": {},
   "outputs": [
    {
     "name": "stdout",
     "output_type": "stream",
     "text": [
      "\u001b[?2004h"
     ]
    },
    {
     "ename": "",
     "evalue": "1",
     "output_type": "error",
     "traceback": []
    }
   ],
   "source": [
    "data_suffix=\"ENTER_DATA_SUFFIX\""
   ]
  },
  {
   "cell_type": "code",
   "execution_count": 4,
   "metadata": {},
   "outputs": [
    {
     "name": "stdout",
     "output_type": "stream",
     "text": [
      "\u001b[?2004h"
     ]
    },
    {
     "ename": "",
     "evalue": "1",
     "output_type": "error",
     "traceback": []
    }
   ],
   "source": [
    "data=\"${data_prefix}${data_suffix}\""
   ]
  },
  {
   "cell_type": "markdown",
   "metadata": {},
   "source": [
    "### Sample information\n",
    "Every experiment has a randomization datasheet, which was used to organize treatment and genotype information for each plate, prepare labels, and randomize plates. The path to this file is provided through the `randomization_datasheets` variable below. This workflow requires this datasheet in order to know which plates have which genotype/treatment. At a later date, we will integrate an ability to read this data directly from labels."
   ]
  },
  {
   "cell_type": "code",
   "execution_count": 5,
   "metadata": {},
   "outputs": [
    {
     "name": "stdout",
     "output_type": "stream",
     "text": [
      "\u001b[?2004h"
     ]
    },
    {
     "ename": "",
     "evalue": "1",
     "output_type": "error",
     "traceback": []
    }
   ],
   "source": [
    "randomization_datasheet=\"ENTER_RANDOMIZATION_DATASHEET_FULL_PATH\""
   ]
  },
  {
   "cell_type": "markdown",
   "metadata": {},
   "source": [
    "### Detection of missing or contaminated explants"
   ]
  },
  {
   "cell_type": "markdown",
   "metadata": {},
   "source": [
    "Set the `missing_explants` variable to `\"Automatic\"` if using model to automatically detect missing and contaminated explants. Note that this model is only supported for plates with 12 explants. Otherwise, provide an appropriately formatted `.csv` spreadsheet (see example)  of manually scored contamination / missing explant data."
   ]
  },
  {
   "cell_type": "code",
   "execution_count": 6,
   "metadata": {},
   "outputs": [
    {
     "name": "stdout",
     "output_type": "stream",
     "text": [
      "\u001b[?2004h"
     ]
    },
    {
     "ename": "",
     "evalue": "1",
     "output_type": "error",
     "traceback": []
    }
   ],
   "source": [
    "missing_explants=\"Automatic\""
   ]
  },
  {
   "cell_type": "markdown",
   "metadata": {},
   "source": [
    "Enter your email where results will be sent"
   ]
  },
  {
   "cell_type": "markdown",
   "metadata": {},
   "source": [
    "### Email"
   ]
  },
  {
   "cell_type": "code",
   "execution_count": 7,
   "metadata": {},
   "outputs": [
    {
     "name": "stdout",
     "output_type": "stream",
     "text": [
      "\u001b[?2004h"
     ]
    },
    {
     "ename": "",
     "evalue": "1",
     "output_type": "error",
     "traceback": []
    }
   ],
   "source": [
    "email=michael.nagle@oregonstate.edu"
   ]
  },
  {
   "cell_type": "markdown",
   "metadata": {},
   "source": [
    "\n",
    "\n",
    "\n",
    "\n",
    "\n",
    "\n",
    "\n",
    "\n",
    "\n",
    "\n",
    "\n",
    "\n",
    "\n",
    "\n",
    "\n",
    "<div class=\"alert alert-block alert-warning\">\n",
    "All variables below should be modified only as needed to indicate the fluorescent proteins in samples and the grid layout of explants. </div>"
   ]
  },
  {
   "cell_type": "markdown",
   "metadata": {},
   "source": [
    "### Fluorescent protein settings"
   ]
  },
  {
   "cell_type": "markdown",
   "metadata": {},
   "source": [
    "Below should be all known fluorescent components contained in the sample. This includes each fluorescent protein, as well as a \"noise\" or \"diffraction\" term if applicable. All of these components must exist in the user's spectral library. `GMOdetector` currently comes with a spectral library that includes, by default:\n",
    "- DsRed\n",
    "- ZsYellow\n",
    "- GFP\n",
    "- Chl\n",
    "- ChlA\n",
    "- ChlB\n",
    "- Diffraction"
   ]
  },
  {
   "cell_type": "code",
   "execution_count": 8,
   "metadata": {},
   "outputs": [
    {
     "name": "stdout",
     "output_type": "stream",
     "text": [
      "\u001b[?2004h"
     ]
    },
    {
     "ename": "",
     "evalue": "1",
     "output_type": "error",
     "traceback": []
    }
   ],
   "source": [
    "fluorophores=(GFP Chl Diffraction) # An explanation of array variables in bash is here: https://tldp.org/LDP/Bash-Beginners-Guide/html/sect_10_02.html"
   ]
  },
  {
   "cell_type": "markdown",
   "metadata": {},
   "source": [
    "The user has the option of limiting loading of hyperspectral data and subsequent regression to a specific range of wavelengths, using the `desired_wavelength_range` array variable. This range should cover all fluorophores provided in the `fluorophores` array variable able. Aside from runtime, there is no disadvantage to including a wider range than is needed."
   ]
  },
  {
   "cell_type": "code",
   "execution_count": 9,
   "metadata": {},
   "outputs": [
    {
     "name": "stdout",
     "output_type": "stream",
     "text": [
      "\u001b[?2004h"
     ]
    },
    {
     "ename": "",
     "evalue": "1",
     "output_type": "error",
     "traceback": []
    }
   ],
   "source": [
    "desired_wavelength_range=(500 900)"
   ]
  },
  {
   "cell_type": "markdown",
   "metadata": {},
   "source": [
    "### False color plot settings"
   ]
  },
  {
   "cell_type": "markdown",
   "metadata": {},
   "source": [
    "To assist user inspection of regression results, false color plots can be produced by `GMOdetector` to show results of regression over whole samples. \n",
    "Note: In v0.2.0.x of the workflow, these parameters are independent of those used later by `GMOlabeler` to produce by-explant plots including false color plots. These will be made the same in a later update.\n",
    "The `FalseColor_channels` array variable indicates the components to be plotted as red, green and blue, in that order."
   ]
  },
  {
   "cell_type": "code",
   "execution_count": 10,
   "metadata": {},
   "outputs": [
    {
     "name": "stdout",
     "output_type": "stream",
     "text": [
      "\u001b[?2004h"
     ]
    },
    {
     "ename": "",
     "evalue": "1",
     "output_type": "error",
     "traceback": []
    }
   ],
   "source": [
    "FalseColor_channels=(Chl GFP Diffraction)"
   ]
  },
  {
   "cell_type": "markdown",
   "metadata": {},
   "source": [
    "The `FalseColor_caps` array variable indicates an upper limit of signal for each of these component. Any signal at or above these values will appear with maximum brightness; thus, these variables are comparable to exposure on a camera. If caps are too high, not much signal at lower ranges will be seen. If cap for a given component is too low, the false color images will appear overexposed with respect to the component."
   ]
  },
  {
   "cell_type": "code",
   "execution_count": 11,
   "metadata": {},
   "outputs": [
    {
     "name": "stdout",
     "output_type": "stream",
     "text": [
      "\u001b[?2004h"
     ]
    },
    {
     "ename": "",
     "evalue": "1",
     "output_type": "error",
     "traceback": []
    }
   ],
   "source": [
    "FalseColor_caps=(200 400 200)"
   ]
  },
  {
   "cell_type": "markdown",
   "metadata": {},
   "source": [
    "`GMOlabeler` will use the below parameters to classify individual explants on plates as positive for a given fluorescent protein or not. A single fluorescent protein is chosen for the by-explant false color plots. Multiple can be used to generate the final plots summarizing results."
   ]
  },
  {
   "cell_type": "code",
   "execution_count": 12,
   "metadata": {},
   "outputs": [
    {
     "name": "stdout",
     "output_type": "stream",
     "text": [
      "\u001b[?2004h\u001b[?2004l"
     ]
    },
    {
     "ename": "",
     "evalue": "1",
     "output_type": "error",
     "traceback": []
    }
   ],
   "source": [
    "reporters=(GFP Chl)\n",
    "#reporter=DsRed"
   ]
  },
  {
   "cell_type": "markdown",
   "metadata": {},
   "source": [
    "Parameters for reporter signal threshold and pixel threshold must be provided by the user. Our grid search yielded several noted below. These were most recently calculated from statistics produced with Python `GMOdetector`."
   ]
  },
  {
   "cell_type": "markdown",
   "metadata": {},
   "source": [
    "<img src=\"Figures/GMOlabeler_parameters.png\">"
   ]
  },
  {
   "cell_type": "code",
   "execution_count": 13,
   "metadata": {},
   "outputs": [
    {
     "name": "stdout",
     "output_type": "stream",
     "text": [
      "\u001b[?2004h\u001b[?2004l"
     ]
    },
    {
     "ename": "",
     "evalue": "1",
     "output_type": "error",
     "traceback": []
    }
   ],
   "source": [
    "reporter_threshold=38\n",
    "pixel_threshold=3"
   ]
  },
  {
   "cell_type": "markdown",
   "metadata": {},
   "source": [
    "### Grid settings"
   ]
  },
  {
   "cell_type": "markdown",
   "metadata": {},
   "source": [
    "Currently, `GMOlabeler` distinguishes explants by their expected position on a plate. This is supported for plates with 12 or 20 explants, arranged in specific positions on a grid. False positives may result in cases in which one explant grows to such an extent that it intrudes into the grid square meant for an adjacent explant. <br>In the future, an additional neural network will be used to segment individual explants on a per-pixel basis, avoiding the need for crude cropping, and the outputs from the resulting model will be integrated with `GMOlabeler`."
   ]
  },
  {
   "cell_type": "markdown",
   "metadata": {},
   "source": [
    "Cropping to grid squares is supported for standard grids with 12 or 20 explants, as indicated by the `grid` variable. An image of each grid square (with a file path provided by the `grid_file` variable) will be superimposed over each image during `GMOlabeler` analysis to allow the user to easily inspect and verify grid positions."
   ]
  },
  {
   "cell_type": "code",
   "execution_count": 14,
   "metadata": {},
   "outputs": [
    {
     "name": "stdout",
     "output_type": "stream",
     "text": [
      "\u001b[?2004h"
     ]
    },
    {
     "ename": "",
     "evalue": "1",
     "output_type": "error",
     "traceback": []
    }
   ],
   "source": [
    "grid=12"
   ]
  },
  {
   "cell_type": "markdown",
   "metadata": {},
   "source": [
    "Define grid borders for the grid with an image size of 2000x2000, not yet aligned to hyperspectral images. These borders will be used for the contamination model."
   ]
  },
  {
   "cell_type": "code",
   "execution_count": 15,
   "metadata": {},
   "outputs": [
    {
     "name": "stdout",
     "output_type": "stream",
     "text": [
      "\u001b[?2004h"
     ]
    },
    {
     "ename": "",
     "evalue": "1",
     "output_type": "error",
     "traceback": []
    }
   ],
   "source": [
    "pre_aligned_resized_grid_borders=(\"277,439,1725,1540\")"
   ]
  },
  {
   "cell_type": "markdown",
   "metadata": {},
   "source": [
    "Define grid borders for the grid after alignment. If unsure what to use, you may wish to wait until after alignment and inspection of results to set this parameter."
   ]
  },
  {
   "cell_type": "code",
   "execution_count": 16,
   "metadata": {},
   "outputs": [
    {
     "name": "stdout",
     "output_type": "stream",
     "text": [
      "\u001b[?2004h"
     ]
    },
    {
     "ename": "",
     "evalue": "1",
     "output_type": "error",
     "traceback": []
    }
   ],
   "source": [
    "aligned_grid_borders=\"99 1252 1227 285\""
   ]
  },
  {
   "cell_type": "markdown",
   "metadata": {},
   "source": [
    "<div class=\"alert alert-block alert-danger\">\n",
    "The below variables do not need to be modified during any routine use of the workflow.\n",
    "</div>"
   ]
  },
  {
   "cell_type": "markdown",
   "metadata": {},
   "source": [
    "For the following variables, use 0 (False) or 1 (True)"
   ]
  },
  {
   "cell_type": "code",
   "execution_count": 17,
   "metadata": {},
   "outputs": [
    {
     "name": "stdout",
     "output_type": "stream",
     "text": [
      "\u001b[?2004h"
     ]
    },
    {
     "ename": "",
     "evalue": "1",
     "output_type": "error",
     "traceback": []
    }
   ],
   "source": [
    "composite=1"
   ]
  },
  {
   "cell_type": "markdown",
   "metadata": {},
   "source": [
    "Set dimensions for plot outputs"
   ]
  },
  {
   "cell_type": "code",
   "execution_count": 18,
   "metadata": {},
   "outputs": [
    {
     "name": "stdout",
     "output_type": "stream",
     "text": [
      "\u001b[?2004h\u001b[?2004l\u001b[?2004l"
     ]
    },
    {
     "ename": "",
     "evalue": "1",
     "output_type": "error",
     "traceback": []
    }
   ],
   "source": [
    "#width=15\n",
    "width=9\n",
    "height=5"
   ]
  },
  {
   "cell_type": "code",
   "execution_count": null,
   "metadata": {},
   "outputs": [],
   "source": [
    "parallel=1"
   ]
  },
  {
   "cell_type": "markdown",
   "metadata": {},
   "source": [
    "### Alignment settings"
   ]
  },
  {
   "cell_type": "markdown",
   "metadata": {},
   "source": [
    "Set to \"Automatic\" if generating a new homography matrix from the grid standard included in the data folder. If using an existing homography matrix, enter the name here. This file should be in the \"output\" subfolder of the path to the `ImageAlignment` module."
   ]
  },
  {
   "cell_type": "code",
   "execution_count": 19,
   "metadata": {},
   "outputs": [
    {
     "name": "stdout",
     "output_type": "stream",
     "text": [
      "\u001b[?2004h"
     ]
    },
    {
     "ename": "",
     "evalue": "1",
     "output_type": "error",
     "traceback": []
    }
   ],
   "source": [
    "homography=\"Automatic\""
   ]
  },
  {
   "cell_type": "markdown",
   "metadata": {},
   "source": [
    "Set to \"Automatic\" or the path to the hyperspectral channel used to produce the homography matrix provided."
   ]
  },
  {
   "cell_type": "code",
   "execution_count": 20,
   "metadata": {},
   "outputs": [
    {
     "name": "stdout",
     "output_type": "stream",
     "text": [
      "\u001b[?2004h"
     ]
    },
    {
     "ename": "",
     "evalue": "1",
     "output_type": "error",
     "traceback": []
    }
   ],
   "source": [
    "hypercube_csv=\"Automatic\""
   ]
  },
  {
   "cell_type": "markdown",
   "metadata": {},
   "source": [
    "Parameters to be used for generating a homography  matrix; these will only be used if `homography` is set to \"Automatic\""
   ]
  },
  {
   "cell_type": "code",
   "execution_count": 21,
   "metadata": {},
   "outputs": [
    {
     "name": "stdout",
     "output_type": "stream",
     "text": [
      "\u001b[?2004h\u001b[?2004l"
     ]
    },
    {
     "ename": "",
     "evalue": "1",
     "output_type": "error",
     "traceback": []
    }
   ],
   "source": [
    "distance=0.60\n",
    "gaussian_sigma=0.40"
   ]
  },
  {
   "cell_type": "markdown",
   "metadata": {},
   "source": [
    "Set to \"Automatic\" or the path to the jpg resulting from using the homography matrix (indicated by the `homography` variable) above to transform the original grid jpg"
   ]
  },
  {
   "cell_type": "code",
   "execution_count": 22,
   "metadata": {},
   "outputs": [
    {
     "name": "stdout",
     "output_type": "stream",
     "text": [
      "\u001b[?2004h"
     ]
    },
    {
     "ename": "",
     "evalue": "1",
     "output_type": "error",
     "traceback": []
    }
   ],
   "source": [
    "aligned_grid=\"Automatic\""
   ]
  },
  {
   "cell_type": "code",
   "execution_count": 23,
   "metadata": {},
   "outputs": [
    {
     "name": "stdout",
     "output_type": "stream",
     "text": [
      "\u001b[?2004h"
     ]
    },
    {
     "ename": "",
     "evalue": "1",
     "output_type": "error",
     "traceback": []
    }
   ],
   "source": [
    "test_align_each_img=0"
   ]
  },
  {
   "cell_type": "markdown",
   "metadata": {},
   "source": [
    "### Paths to workflow modules"
   ]
  },
  {
   "cell_type": "markdown",
   "metadata": {},
   "source": [
    "These only need to be modified if you are setting up a `GMOnotebook` template on a new computer."
   ]
  },
  {
   "cell_type": "code",
   "execution_count": 24,
   "metadata": {},
   "outputs": [
    {
     "name": "stdout",
     "output_type": "stream",
     "text": [
      "\u001b[?2004h"
     ]
    },
    {
     "ename": "",
     "evalue": "1",
     "output_type": "error",
     "traceback": []
    }
   ],
   "source": [
    "cwd=\"/home/gmobot/GMOnotebook\""
   ]
  },
  {
   "cell_type": "code",
   "execution_count": 25,
   "metadata": {},
   "outputs": [
    {
     "name": "stdout",
     "output_type": "stream",
     "text": [
      "\u001b[?2004h\u001b[?2004l\u001b[?2004l\u001b[?2004l\u001b[?2004l\u001b[?2004l\u001b[?2004l\u001b[?2004l"
     ]
    },
    {
     "ename": "",
     "evalue": "1",
     "output_type": "error",
     "traceback": []
    }
   ],
   "source": [
    "gmodetector_wd=\"/home/gmobot/gmodetector_py/\"\n",
    "spectral_library_path=\"${gmodetector_wd}spectral_library/\"\n",
    "deeplab_path=\"/home/gmobot/poplar_model_2_w_contam/\"\n",
    "alignment_path=\"/home/gmobot/ImageAlignment/\"\n",
    "gmolabeler_path=\"/home/gmobot/GMOlabeler/\"\n",
    "contamination_path=\"/home/gmobot/DenseNet\"\n",
    "data_prefix=\"/home/gmobot/data/\"\n",
    "output_directory_prefix=\"${data_prefix}gmodetector_out/\""
   ]
  },
  {
   "cell_type": "markdown",
   "metadata": {},
   "source": [
    "<div class=\"alert alert-block alert-info\">\n",
    "With all above variables set, please \"Save as...\" with a filename referencing this specific dataset. <br>Finally, deploy the workflow (Step 4 in above instructions).\n",
    "</div>"
   ]
  },
  {
   "cell_type": "markdown",
   "metadata": {},
   "source": [
    "# Automated workflow to be deployed"
   ]
  },
  {
   "cell_type": "markdown",
   "metadata": {},
   "source": [
    "See the below code for a walkthrough of how GMOnotebook works, or view the outputs after running the workflow for help troubleshooting errors in specific steps of analysis."
   ]
  },
  {
   "cell_type": "markdown",
   "metadata": {},
   "source": [
    "<div class=\"alert alert-block alert-danger\"> <b>Danger:</b> Do not modify any below code without creating a new version of the template notebook. During routine usage, this workflow should be customized only by modifying variables above, while leaving the below code unmodified. </div>"
   ]
  },
  {
   "cell_type": "markdown",
   "metadata": {},
   "source": [
    "These internal variables are set automatically."
   ]
  },
  {
   "cell_type": "code",
   "execution_count": 27,
   "metadata": {},
   "outputs": [
    {
     "name": "stdout",
     "output_type": "stream",
     "text": [
      "\u001b[?2004h"
     ]
    },
    {
     "ename": "",
     "evalue": "1",
     "output_type": "error",
     "traceback": []
    }
   ],
   "source": [
    "datestamp=$(date +”%Y-%m-%d”)"
   ]
  },
  {
   "cell_type": "code",
   "execution_count": 28,
   "metadata": {},
   "outputs": [
    {
     "name": "stdout",
     "output_type": "stream",
     "text": [
      "\u001b[?2004h"
     ]
    },
    {
     "ename": "",
     "evalue": "1",
     "output_type": "error",
     "traceback": []
    }
   ],
   "source": [
    "data_folder=$(echo $data | cut -d/ -f5-)"
   ]
  },
  {
   "cell_type": "code",
   "execution_count": 29,
   "metadata": {},
   "outputs": [
    {
     "name": "stdout",
     "output_type": "stream",
     "text": [
      "\u001b[?2004h"
     ]
    },
    {
     "ename": "",
     "evalue": "1",
     "output_type": "error",
     "traceback": []
    }
   ],
   "source": [
    "timepoint=\"$(basename -- $data_folder)\""
   ]
  },
  {
   "cell_type": "code",
   "execution_count": 30,
   "metadata": {},
   "outputs": [
    {
     "name": "stdout",
     "output_type": "stream",
     "text": [
      "\u001b[?2004h"
     ]
    },
    {
     "ename": "",
     "evalue": "1",
     "output_type": "error",
     "traceback": []
    }
   ],
   "source": [
    "output_directory_full=\"$output_directory_prefix$data_folder\""
   ]
  },
  {
   "cell_type": "code",
   "execution_count": 32,
   "metadata": {},
   "outputs": [
    {
     "name": "stdout",
     "output_type": "stream",
     "text": [
      "\u001b[?2004h\u001b[?2004l"
     ]
    },
    {
     "ename": "",
     "evalue": "1",
     "output_type": "error",
     "traceback": []
    }
   ],
   "source": [
    "#dataset_name=$(echo $data_folder | sed -e 's/\\//-/g')\n",
    "dataset_name=$(echo $data_folder | sed -e 's/\\///g')"
   ]
  },
  {
   "cell_type": "code",
   "execution_count": 33,
   "metadata": {},
   "outputs": [
    {
     "name": "stdout",
     "output_type": "stream",
     "text": [
      "Elements_14GWAS_CRISPRCRIBwk7\n",
      "\u001b[?2004h"
     ]
    },
    {
     "ename": "",
     "evalue": "1",
     "output_type": "error",
     "traceback": []
    }
   ],
   "source": [
    "echo $dataset_name"
   ]
  },
  {
   "cell_type": "markdown",
   "metadata": {},
   "source": [
    "Time analysis begins:"
   ]
  },
  {
   "cell_type": "code",
   "execution_count": 33,
   "metadata": {},
   "outputs": [
    {
     "name": "stdout",
     "output_type": "stream",
     "text": [
      "Wed Jun 8 06:00:45 PM PDT 2022\n",
      "\u001b[?2004h"
     ]
    },
    {
     "ename": "",
     "evalue": "1",
     "output_type": "error",
     "traceback": []
    }
   ],
   "source": [
    "echo $(date)"
   ]
  },
  {
   "cell_type": "markdown",
   "metadata": {},
   "source": [
    "## Quantification of fluorescent proteins by regression"
   ]
  },
  {
   "cell_type": "markdown",
   "metadata": {},
   "source": [
    "The Python package `CubeGLM` is used to quantify fluorescent proteins in each pixel of hyperspectral images via linear regression. Hyperspectral images are regressed over spectra of known components, and pixelwise maps of test-statistics are constructed for each component in the sample. This approach to quantifying components of hyperspectral images is described in-depth in the Methods section from <a href=\"https://link.springer.com/article/10.1007/s40789-019-0252-7\" target=\"_blank\">Böhme, et al. 2019</a>. Code and documentation for `CubeGLM` is on <a href=\"https://github.com/naglemi/GMOdetector_py\" target=\"_blank\">Github</a>."
   ]
  },
  {
   "cell_type": "code",
   "execution_count": 34,
   "metadata": {},
   "outputs": [
    {
     "name": "stdout",
     "output_type": "stream",
     "text": [
      "\u001b[?2004h"
     ]
    },
    {
     "ename": "",
     "evalue": "1",
     "output_type": "error",
     "traceback": []
    }
   ],
   "source": [
    "cd $gmodetector_wd"
   ]
  },
  {
   "cell_type": "code",
   "execution_count": 35,
   "metadata": {},
   "outputs": [
    {
     "name": "stdout",
     "output_type": "stream",
     "text": [
      "\u001b[?2004h"
     ]
    },
    {
     "ename": "",
     "evalue": "1",
     "output_type": "error",
     "traceback": []
    }
   ],
   "source": [
    "job_list_name=\"$dataset_name.jobs\""
   ]
  },
  {
   "cell_type": "code",
   "execution_count": 36,
   "metadata": {},
   "outputs": [
    {
     "name": "stdout",
     "output_type": "stream",
     "text": [
      "\u001b[?2004h"
     ]
    },
    {
     "ename": "",
     "evalue": "1",
     "output_type": "error",
     "traceback": []
    }
   ],
   "source": [
    "rm -rf $job_list_name"
   ]
  },
  {
   "cell_type": "code",
   "execution_count": 37,
   "metadata": {},
   "outputs": [
    {
     "name": "stdout",
     "output_type": "stream",
     "text": [
      "\u001b[?2004h\u001b[?2004l\u001b[?2004l\u001b[?2004l\u001b[?2004l\u001b[?2004l\u001b[?2004l\u001b[?2004l\u001b[?2004l\u001b[?2004l\u001b[?2004l\u001b[?2004l\u001b[?2004l\u001b[?2004l\u001b[?2004l\u001b[?2004l\u001b[?2004l\u001b[?2004l\u001b[?2004l\u001b[?2004l"
     ]
    },
    {
     "ename": "",
     "evalue": "1",
     "output_type": "error",
     "traceback": []
    }
   ],
   "source": [
    "for file in $data/*.hdr\n",
    "do\n",
    " if [[ \"$file\" != *'hroma'* ]] && [[ \"$file\" != *'roadband'* ]]; then\n",
    "  echo \"python -W ignore wrappers/analyze_sample.py \\\n",
    "--file_path $file \\\n",
    "--fluorophores ${fluorophores[*]} \\\n",
    "--min_desired_wavelength ${desired_wavelength_range[0]} \\\n",
    "--max_desired_wavelength ${desired_wavelength_range[1]} \\\n",
    "--red_channel ${FalseColor_channels[0]} \\\n",
    "--green_channel ${FalseColor_channels[1]} \\\n",
    "--blue_channel ${FalseColor_channels[2]} \\\n",
    "--red_cap ${FalseColor_caps[0]} \\\n",
    "--green_cap ${FalseColor_caps[1]} \\\n",
    "--blue_cap ${FalseColor_caps[2]} \\\n",
    "--plot 1 \\\n",
    "--spectral_library_path \"$spectral_library_path\" \\\n",
    "--output_dir $output_directory_full \\\n",
    "--threshold 38\" >> $job_list_name\n",
    " fi\n",
    "done"
   ]
  },
  {
   "cell_type": "code",
   "execution_count": 38,
   "metadata": {},
   "outputs": [
    {
     "name": "stdout",
     "output_type": "stream",
     "text": [
      "Elements_14GWAS_CRISPRCRIBwk7.jobs\n",
      "\u001b[?2004h"
     ]
    },
    {
     "ename": "",
     "evalue": "1",
     "output_type": "error",
     "traceback": []
    }
   ],
   "source": [
    "echo $job_list_name"
   ]
  },
  {
   "cell_type": "code",
   "execution_count": 39,
   "metadata": {
    "scrolled": true
   },
   "outputs": [
    {
     "name": "stdout",
     "output_type": "stream",
     "text": [
      "Academic tradition requires you to cite works you base your article on.\n",
      "If you use programs that use GNU Parallel to process data for an article in a\n",
      "scientific publication, please cite:\n",
      "\n",
      "  Tange, O. (2022, May 22). GNU Parallel 20220522 ('NATO').\n",
      "  Zenodo. https://doi.org/10.5281/zenodo.6570228\n",
      "\n",
      "This helps funding further development; AND IT WON'T COST YOU A CENT.\n",
      "If you pay 10000 EUR you should feel free to use GNU Parallel without citing.\n",
      "\n",
      "More about funding GNU Parallel and the citation notice:\n",
      "https://www.gnu.org/software/parallel/parallel_design.html#citation-notice\n",
      "\n",
      "To silence this citation notice: run 'parallel --citation' once.\n",
      "\n",
      "Running GMOdetector version 0.0.875\n",
      "load mode isload_full_then_crop\n",
      "Saving to /home/gmobot/data/gmodetector_out/Elements_14//GWAS_CRISPR/CRIB/wk7/CRIB1_I5.0_F1.9_L100LED30_150554_4_0_5_Fluorescence_weights.hdf with key of weights\n",
      "Saving summary stats w/ threshold38.0 to /home/gmobot/data/gmodetector_out/Elements_14//GWAS_CRISPR/CRIB/wk7/CRIB1_I5.0_F1.9_L100LED30_150554_4_0_5_Fluorescence_summary.csv\n",
      "Producing image channel for GFP with cap 400 in color green\n",
      "Producing image channel for Chl with cap 200 in color red\n",
      "Producing image channel for Diffraction with cap 200 in color blue\n",
      "Saving image to /home/gmobot/data/gmodetector_out/Elements_14//GWAS_CRISPR/CRIB/wk7/CRIB1_I5.0_F1.9_L100LED30_150554_4_0_5_Fluorescence.png\n",
      "Saving image metadata to /home/gmobot/data/gmodetector_out/Elements_14//GWAS_CRISPR/CRIB/wk7/CRIB1_I5.0_F1.9_L100LED30_150554_4_0_5_Fluorescence.csv\n",
      "\n",
      "Finished running sample /media/gmobot/Elements_14/Elements_14//GWAS_CRISPR/CRIB/wk7//CRIB1_I5.0_F1.9_L100LED30_150554_4_0_5_Fluorescence.hdr in 32.355838696006685s\n",
      "\n",
      "Running GMOdetector version 0.0.875\n",
      "load mode isload_full_then_crop\n",
      "Saving to /home/gmobot/data/gmodetector_out/Elements_14//GWAS_CRISPR/CRIB/wk7/CRIB3_I5.0_F1.9_L100LED30_133651_0_0_0_Fluorescence_weights.hdf with key of weights\n",
      "Saving summary stats w/ threshold38.0 to /home/gmobot/data/gmodetector_out/Elements_14//GWAS_CRISPR/CRIB/wk7/CRIB3_I5.0_F1.9_L100LED30_133651_0_0_0_Fluorescence_summary.csv\n",
      "Producing image channel for GFP with cap 400 in color green\n",
      "Producing image channel for Chl with cap 200 in color red\n",
      "Producing image channel for Diffraction with cap 200 in color blue\n",
      "Saving image to /home/gmobot/data/gmodetector_out/Elements_14//GWAS_CRISPR/CRIB/wk7/CRIB3_I5.0_F1.9_L100LED30_133651_0_0_0_Fluorescence.png\n",
      "Saving image metadata to /home/gmobot/data/gmodetector_out/Elements_14//GWAS_CRISPR/CRIB/wk7/CRIB3_I5.0_F1.9_L100LED30_133651_0_0_0_Fluorescence.csv\n",
      "\n",
      "Finished running sample /media/gmobot/Elements_14/Elements_14//GWAS_CRISPR/CRIB/wk7//CRIB3_I5.0_F1.9_L100LED30_133651_0_0_0_Fluorescence.hdr in 33.010253068991005s\n",
      "\n",
      "Running GMOdetector version 0.0.875\n",
      "load mode isload_full_then_crop\n",
      "Saving to /home/gmobot/data/gmodetector_out/Elements_14//GWAS_CRISPR/CRIB/wk7/CRIB1_I5.0_F1.9_L100LED30_152731_4_2_1_Fluorescence_weights.hdf with key of weights\n",
      "Saving summary stats w/ threshold38.0 to /home/gmobot/data/gmodetector_out/Elements_14//GWAS_CRISPR/CRIB/wk7/CRIB1_I5.0_F1.9_L100LED30_152731_4_2_1_Fluorescence_summary.csv\n",
      "Producing image channel for GFP with cap 400 in color green\n",
      "Producing image channel for Chl with cap 200 in color red\n",
      "Producing image channel for Diffraction with cap 200 in color blue\n",
      "Saving image to /home/gmobot/data/gmodetector_out/Elements_14//GWAS_CRISPR/CRIB/wk7/CRIB1_I5.0_F1.9_L100LED30_152731_4_2_1_Fluorescence.png\n",
      "Saving image metadata to /home/gmobot/data/gmodetector_out/Elements_14//GWAS_CRISPR/CRIB/wk7/CRIB1_I5.0_F1.9_L100LED30_152731_4_2_1_Fluorescence.csv\n",
      "\n",
      "Finished running sample /media/gmobot/Elements_14/Elements_14//GWAS_CRISPR/CRIB/wk7//CRIB1_I5.0_F1.9_L100LED30_152731_4_2_1_Fluorescence.hdr in 33.45790006220341s\n",
      "\n",
      "Running GMOdetector version 0.0.875\n",
      "load mode isload_full_then_crop\n",
      "Saving to /home/gmobot/data/gmodetector_out/Elements_14//GWAS_CRISPR/CRIB/wk7/CRIB1_I5.0_F1.9_L100LED30_151616_11_1_0_Fluorescence_weights.hdf with key of weights\n",
      "Saving summary stats w/ threshold38.0 to /home/gmobot/data/gmodetector_out/Elements_14//GWAS_CRISPR/CRIB/wk7/CRIB1_I5.0_F1.9_L100LED30_151616_11_1_0_Fluorescence_summary.csv\n",
      "Producing image channel for GFP with cap 400 in color green\n",
      "Producing image channel for Chl with cap 200 in color red\n",
      "Producing image channel for Diffraction with cap 200 in color blue\n",
      "Saving image to /home/gmobot/data/gmodetector_out/Elements_14//GWAS_CRISPR/CRIB/wk7/CRIB1_I5.0_F1.9_L100LED30_151616_11_1_0_Fluorescence.png\n",
      "Saving image metadata to /home/gmobot/data/gmodetector_out/Elements_14//GWAS_CRISPR/CRIB/wk7/CRIB1_I5.0_F1.9_L100LED30_151616_11_1_0_Fluorescence.csv\n",
      "\n",
      "Finished running sample /media/gmobot/Elements_14/Elements_14//GWAS_CRISPR/CRIB/wk7//CRIB1_I5.0_F1.9_L100LED30_151616_11_1_0_Fluorescence.hdr in 32.86065219528973s\n",
      "\n",
      "Running GMOdetector version 0.0.875\n",
      "load mode isload_full_then_crop\n",
      "Saving to /home/gmobot/data/gmodetector_out/Elements_14//GWAS_CRISPR/CRIB/wk7/CRIB1_I5.0_F1.9_L100LED30_153500_9_2_6_Fluorescence_weights.hdf with key of weights\n",
      "Saving summary stats w/ threshold38.0 to /home/gmobot/data/gmodetector_out/Elements_14//GWAS_CRISPR/CRIB/wk7/CRIB1_I5.0_F1.9_L100LED30_153500_9_2_6_Fluorescence_summary.csv\n",
      "Producing image channel for GFP with cap 400 in color green\n",
      "Producing image channel for Chl with cap 200 in color red\n",
      "Producing image channel for Diffraction with cap 200 in color blue\n",
      "Saving image to /home/gmobot/data/gmodetector_out/Elements_14//GWAS_CRISPR/CRIB/wk7/CRIB1_I5.0_F1.9_L100LED30_153500_9_2_6_Fluorescence.png\n",
      "Saving image metadata to /home/gmobot/data/gmodetector_out/Elements_14//GWAS_CRISPR/CRIB/wk7/CRIB1_I5.0_F1.9_L100LED30_153500_9_2_6_Fluorescence.csv\n",
      "\n",
      "Finished running sample /media/gmobot/Elements_14/Elements_14//GWAS_CRISPR/CRIB/wk7//CRIB1_I5.0_F1.9_L100LED30_153500_9_2_6_Fluorescence.hdr in 33.62417712714523s\n",
      "\n",
      "Running GMOdetector version 0.0.875\n",
      "load mode isload_full_then_crop\n",
      "Saving to /home/gmobot/data/gmodetector_out/Elements_14//GWAS_CRISPR/CRIB/wk7/CRIB1_I5.0_F1.9_L100LED30_153330_8_2_5_Fluorescence_weights.hdf with key of weights\n",
      "Saving summary stats w/ threshold38.0 to /home/gmobot/data/gmodetector_out/Elements_14//GWAS_CRISPR/CRIB/wk7/CRIB1_I5.0_F1.9_L100LED30_153330_8_2_5_Fluorescence_summary.csv\n",
      "Producing image channel for GFP with cap 400 in color green\n",
      "Producing image channel for Chl with cap 200 in color red\n",
      "Producing image channel for Diffraction with cap 200 in color blue\n",
      "Saving image to /home/gmobot/data/gmodetector_out/Elements_14//GWAS_CRISPR/CRIB/wk7/CRIB1_I5.0_F1.9_L100LED30_153330_8_2_5_Fluorescence.png\n",
      "Saving image metadata to /home/gmobot/data/gmodetector_out/Elements_14//GWAS_CRISPR/CRIB/wk7/CRIB1_I5.0_F1.9_L100LED30_153330_8_2_5_Fluorescence.csv\n",
      "\n",
      "Finished running sample /media/gmobot/Elements_14/Elements_14//GWAS_CRISPR/CRIB/wk7//CRIB1_I5.0_F1.9_L100LED30_153330_8_2_5_Fluorescence.hdr in 33.78059467906132s\n",
      "\n",
      "Running GMOdetector version 0.0.875\n",
      "load mode isload_full_then_crop\n",
      "Saving to /home/gmobot/data/gmodetector_out/Elements_14//GWAS_CRISPR/CRIB/wk7/CRIB1_I5.0_F1.9_L100LED30_151016_7_1_4_Fluorescence_weights.hdf with key of weights\n",
      "Saving summary stats w/ threshold38.0 to /home/gmobot/data/gmodetector_out/Elements_14//GWAS_CRISPR/CRIB/wk7/CRIB1_I5.0_F1.9_L100LED30_151016_7_1_4_Fluorescence_summary.csv\n",
      "Producing image channel for GFP with cap 400 in color green\n",
      "Producing image channel for Chl with cap 200 in color red\n",
      "Producing image channel for Diffraction with cap 200 in color blue\n",
      "Saving image to /home/gmobot/data/gmodetector_out/Elements_14//GWAS_CRISPR/CRIB/wk7/CRIB1_I5.0_F1.9_L100LED30_151016_7_1_4_Fluorescence.png\n",
      "Saving image metadata to /home/gmobot/data/gmodetector_out/Elements_14//GWAS_CRISPR/CRIB/wk7/CRIB1_I5.0_F1.9_L100LED30_151016_7_1_4_Fluorescence.csv\n",
      "\n",
      "Finished running sample /media/gmobot/Elements_14/Elements_14//GWAS_CRISPR/CRIB/wk7//CRIB1_I5.0_F1.9_L100LED30_151016_7_1_4_Fluorescence.hdr in 32.81780275190249s\n",
      "\n",
      "Running GMOdetector version 0.0.875\n",
      "load mode isload_full_then_crop\n",
      "Saving to /home/gmobot/data/gmodetector_out/Elements_14//GWAS_CRISPR/CRIB/wk7/CRIB1_I5.0_F1.9_L100LED30_151146_8_1_3_Fluorescence_weights.hdf with key of weights\n",
      "Saving summary stats w/ threshold38.0 to /home/gmobot/data/gmodetector_out/Elements_14//GWAS_CRISPR/CRIB/wk7/CRIB1_I5.0_F1.9_L100LED30_151146_8_1_3_Fluorescence_summary.csv\n",
      "Producing image channel for GFP with cap 400 in color green\n",
      "Producing image channel for Chl with cap 200 in color red\n",
      "Producing image channel for Diffraction with cap 200 in color blue\n",
      "Saving image to /home/gmobot/data/gmodetector_out/Elements_14//GWAS_CRISPR/CRIB/wk7/CRIB1_I5.0_F1.9_L100LED30_151146_8_1_3_Fluorescence.png\n",
      "Saving image metadata to /home/gmobot/data/gmodetector_out/Elements_14//GWAS_CRISPR/CRIB/wk7/CRIB1_I5.0_F1.9_L100LED30_151146_8_1_3_Fluorescence.csv\n",
      "\n",
      "Finished running sample /media/gmobot/Elements_14/Elements_14//GWAS_CRISPR/CRIB/wk7//CRIB1_I5.0_F1.9_L100LED30_151146_8_1_3_Fluorescence.hdr in 33.95091214496642s\n",
      "\n",
      "Running GMOdetector version 0.0.875\n",
      "load mode isload_full_then_crop\n",
      "Saving to /home/gmobot/data/gmodetector_out/Elements_14//GWAS_CRISPR/CRIB/wk7/CRIB1_I5.0_F1.9_L100LED30_152151_1_0_6_Fluorescence_weights.hdf with key of weights\n",
      "Saving summary stats w/ threshold38.0 to /home/gmobot/data/gmodetector_out/Elements_14//GWAS_CRISPR/CRIB/wk7/CRIB1_I5.0_F1.9_L100LED30_152151_1_0_6_Fluorescence_summary.csv\n",
      "Producing image channel for GFP with cap 400 in color green\n",
      "Producing image channel for Chl with cap 200 in color red\n",
      "Producing image channel for Diffraction with cap 200 in color blue\n",
      "Saving image to /home/gmobot/data/gmodetector_out/Elements_14//GWAS_CRISPR/CRIB/wk7/CRIB1_I5.0_F1.9_L100LED30_152151_1_0_6_Fluorescence.png\n",
      "Saving image metadata to /home/gmobot/data/gmodetector_out/Elements_14//GWAS_CRISPR/CRIB/wk7/CRIB1_I5.0_F1.9_L100LED30_152151_1_0_6_Fluorescence.csv\n",
      "\n",
      "Finished running sample /media/gmobot/Elements_14/Elements_14//GWAS_CRISPR/CRIB/wk7//CRIB1_I5.0_F1.9_L100LED30_152151_1_0_6_Fluorescence.hdr in 33.90919996704906s\n",
      "\n",
      "Running GMOdetector version 0.0.875\n",
      "load mode isload_full_then_crop\n",
      "Saving to /home/gmobot/data/gmodetector_out/Elements_14//GWAS_CRISPR/CRIB/wk7/CRIB2_I5.0_F1.9_L100LED30_161007_0_0_0_Fluorescence_weights.hdf with key of weights\n",
      "Saving summary stats w/ threshold38.0 to /home/gmobot/data/gmodetector_out/Elements_14//GWAS_CRISPR/CRIB/wk7/CRIB2_I5.0_F1.9_L100LED30_161007_0_0_0_Fluorescence_summary.csv\n",
      "Producing image channel for GFP with cap 400 in color green\n",
      "Producing image channel for Chl with cap 200 in color red\n",
      "Producing image channel for Diffraction with cap 200 in color blue\n",
      "Saving image to /home/gmobot/data/gmodetector_out/Elements_14//GWAS_CRISPR/CRIB/wk7/CRIB2_I5.0_F1.9_L100LED30_161007_0_0_0_Fluorescence.png\n",
      "Saving image metadata to /home/gmobot/data/gmodetector_out/Elements_14//GWAS_CRISPR/CRIB/wk7/CRIB2_I5.0_F1.9_L100LED30_161007_0_0_0_Fluorescence.csv\n",
      "\n",
      "Finished running sample /media/gmobot/Elements_14/Elements_14//GWAS_CRISPR/CRIB/wk7//CRIB2_I5.0_F1.9_L100LED30_161007_0_0_0_Fluorescence.hdr in 33.74688020395115s\n",
      "\n",
      "Running GMOdetector version 0.0.875\n",
      "load mode isload_full_then_crop\n",
      "Saving to /home/gmobot/data/gmodetector_out/Elements_14//GWAS_CRISPR/CRIB/wk7/CRIB1_I5.0_F1.9_L100LED30_152521_3_2_0_Fluorescence_weights.hdf with key of weights\n",
      "Saving summary stats w/ threshold38.0 to /home/gmobot/data/gmodetector_out/Elements_14//GWAS_CRISPR/CRIB/wk7/CRIB1_I5.0_F1.9_L100LED30_152521_3_2_0_Fluorescence_summary.csv\n",
      "Producing image channel for GFP with cap 400 in color green\n",
      "Producing image channel for Chl with cap 200 in color red\n",
      "Producing image channel for Diffraction with cap 200 in color blue\n",
      "Saving image to /home/gmobot/data/gmodetector_out/Elements_14//GWAS_CRISPR/CRIB/wk7/CRIB1_I5.0_F1.9_L100LED30_152521_3_2_0_Fluorescence.png\n",
      "Saving image metadata to /home/gmobot/data/gmodetector_out/Elements_14//GWAS_CRISPR/CRIB/wk7/CRIB1_I5.0_F1.9_L100LED30_152521_3_2_0_Fluorescence.csv\n",
      "\n",
      "Finished running sample /media/gmobot/Elements_14/Elements_14//GWAS_CRISPR/CRIB/wk7//CRIB1_I5.0_F1.9_L100LED30_152521_3_2_0_Fluorescence.hdr in 34.331918437965214s\n",
      "\n",
      "Running GMOdetector version 0.0.875\n",
      "load mode isload_full_then_crop\n",
      "Saving to /home/gmobot/data/gmodetector_out/Elements_14//GWAS_CRISPR/CRIB/wk7/CRIB1_I5.0_F1.9_L100LED30_151316_9_1_2_Fluorescence_weights.hdf with key of weights\n",
      "Saving summary stats w/ threshold38.0 to /home/gmobot/data/gmodetector_out/Elements_14//GWAS_CRISPR/CRIB/wk7/CRIB1_I5.0_F1.9_L100LED30_151316_9_1_2_Fluorescence_summary.csv\n",
      "Producing image channel for GFP with cap 400 in color green\n",
      "Producing image channel for Chl with cap 200 in color red\n",
      "Producing image channel for Diffraction with cap 200 in color blue\n",
      "Saving image to /home/gmobot/data/gmodetector_out/Elements_14//GWAS_CRISPR/CRIB/wk7/CRIB1_I5.0_F1.9_L100LED30_151316_9_1_2_Fluorescence.png\n",
      "Saving image metadata to /home/gmobot/data/gmodetector_out/Elements_14//GWAS_CRISPR/CRIB/wk7/CRIB1_I5.0_F1.9_L100LED30_151316_9_1_2_Fluorescence.csv\n",
      "\n",
      "Finished running sample /media/gmobot/Elements_14/Elements_14//GWAS_CRISPR/CRIB/wk7//CRIB1_I5.0_F1.9_L100LED30_151316_9_1_2_Fluorescence.hdr in 33.9654366732575s\n",
      "\n",
      "Running GMOdetector version 0.0.875\n",
      "load mode isload_full_then_crop\n",
      "Saving to /home/gmobot/data/gmodetector_out/Elements_14//GWAS_CRISPR/CRIB/wk7/CRIB1_I5.0_F1.9_L100LED30_150424_3_0_4_Fluorescence_weights.hdf with key of weights\n",
      "Saving summary stats w/ threshold38.0 to /home/gmobot/data/gmodetector_out/Elements_14//GWAS_CRISPR/CRIB/wk7/CRIB1_I5.0_F1.9_L100LED30_150424_3_0_4_Fluorescence_summary.csv\n",
      "Producing image channel for GFP with cap 400 in color green\n",
      "Producing image channel for Chl with cap 200 in color red\n",
      "Producing image channel for Diffraction with cap 200 in color blue\n",
      "Saving image to /home/gmobot/data/gmodetector_out/Elements_14//GWAS_CRISPR/CRIB/wk7/CRIB1_I5.0_F1.9_L100LED30_150424_3_0_4_Fluorescence.png\n",
      "Saving image metadata to /home/gmobot/data/gmodetector_out/Elements_14//GWAS_CRISPR/CRIB/wk7/CRIB1_I5.0_F1.9_L100LED30_150424_3_0_4_Fluorescence.csv\n",
      "\n",
      "Finished running sample /media/gmobot/Elements_14/Elements_14//GWAS_CRISPR/CRIB/wk7//CRIB1_I5.0_F1.9_L100LED30_150424_3_0_4_Fluorescence.hdr in 34.67838754411787s\n",
      "\n",
      "Running GMOdetector version 0.0.875\n",
      "load mode isload_full_then_crop\n",
      "Saving to /home/gmobot/data/gmodetector_out/Elements_14//GWAS_CRISPR/CRIB/wk7/CRIB2_I5.0_F1.9_L100LED30_161122_1_0_1_Fluorescence_weights.hdf with key of weights\n",
      "Saving summary stats w/ threshold38.0 to /home/gmobot/data/gmodetector_out/Elements_14//GWAS_CRISPR/CRIB/wk7/CRIB2_I5.0_F1.9_L100LED30_161122_1_0_1_Fluorescence_summary.csv\n",
      "Producing image channel for GFP with cap 400 in color green\n",
      "Producing image channel for Chl with cap 200 in color red\n",
      "Producing image channel for Diffraction with cap 200 in color blue\n",
      "Saving image to /home/gmobot/data/gmodetector_out/Elements_14//GWAS_CRISPR/CRIB/wk7/CRIB2_I5.0_F1.9_L100LED30_161122_1_0_1_Fluorescence.png\n",
      "Saving image metadata to /home/gmobot/data/gmodetector_out/Elements_14//GWAS_CRISPR/CRIB/wk7/CRIB2_I5.0_F1.9_L100LED30_161122_1_0_1_Fluorescence.csv\n",
      "\n",
      "Finished running sample /media/gmobot/Elements_14/Elements_14//GWAS_CRISPR/CRIB/wk7//CRIB2_I5.0_F1.9_L100LED30_161122_1_0_1_Fluorescence.hdr in 34.333548930007964s\n",
      "\n",
      "Running GMOdetector version 0.0.875\n",
      "load mode isload_full_then_crop\n",
      "Saving to /home/gmobot/data/gmodetector_out/Elements_14//GWAS_CRISPR/CRIB/wk7/CRIB1_I5.0_F1.9_L100LED30_152036_0_0_0_Fluorescence_weights.hdf with key of weights\n",
      "Saving summary stats w/ threshold38.0 to /home/gmobot/data/gmodetector_out/Elements_14//GWAS_CRISPR/CRIB/wk7/CRIB1_I5.0_F1.9_L100LED30_152036_0_0_0_Fluorescence_summary.csv\n",
      "Producing image channel for GFP with cap 400 in color green\n",
      "Producing image channel for Chl with cap 200 in color red\n",
      "Producing image channel for Diffraction with cap 200 in color blue\n",
      "Saving image to /home/gmobot/data/gmodetector_out/Elements_14//GWAS_CRISPR/CRIB/wk7/CRIB1_I5.0_F1.9_L100LED30_152036_0_0_0_Fluorescence.png\n",
      "Saving image metadata to /home/gmobot/data/gmodetector_out/Elements_14//GWAS_CRISPR/CRIB/wk7/CRIB1_I5.0_F1.9_L100LED30_152036_0_0_0_Fluorescence.csv\n",
      "\n",
      "Finished running sample /media/gmobot/Elements_14/Elements_14//GWAS_CRISPR/CRIB/wk7//CRIB1_I5.0_F1.9_L100LED30_152036_0_0_0_Fluorescence.hdr in 35.18433653889224s\n",
      "\n",
      "Running GMOdetector version 0.0.875\n",
      "load mode isload_full_then_crop\n",
      "Saving to /home/gmobot/data/gmodetector_out/Elements_14//GWAS_CRISPR/CRIB/wk7/CRIB1_I5.0_F1.9_L100LED30_150254_2_0_3_Fluorescence_weights.hdf with key of weights\n",
      "Saving summary stats w/ threshold38.0 to /home/gmobot/data/gmodetector_out/Elements_14//GWAS_CRISPR/CRIB/wk7/CRIB1_I5.0_F1.9_L100LED30_150254_2_0_3_Fluorescence_summary.csv\n",
      "Producing image channel for GFP with cap 400 in color green\n",
      "Producing image channel for Chl with cap 200 in color red\n",
      "Producing image channel for Diffraction with cap 200 in color blue\n",
      "Saving image to /home/gmobot/data/gmodetector_out/Elements_14//GWAS_CRISPR/CRIB/wk7/CRIB1_I5.0_F1.9_L100LED30_150254_2_0_3_Fluorescence.png\n",
      "Saving image metadata to /home/gmobot/data/gmodetector_out/Elements_14//GWAS_CRISPR/CRIB/wk7/CRIB1_I5.0_F1.9_L100LED30_150254_2_0_3_Fluorescence.csv\n",
      "\n",
      "Finished running sample /media/gmobot/Elements_14/Elements_14//GWAS_CRISPR/CRIB/wk7//CRIB1_I5.0_F1.9_L100LED30_150254_2_0_3_Fluorescence.hdr in 35.47965734777972s\n",
      "\n",
      "Running GMOdetector version 0.0.875\n",
      "load mode isload_full_then_crop\n",
      "Saving to /home/gmobot/data/gmodetector_out/Elements_14//GWAS_CRISPR/CRIB/wk7/CRIB1_I5.0_F1.9_L100LED30_150854_6_1_5_Fluorescence_weights.hdf with key of weights\n",
      "Saving summary stats w/ threshold38.0 to /home/gmobot/data/gmodetector_out/Elements_14//GWAS_CRISPR/CRIB/wk7/CRIB1_I5.0_F1.9_L100LED30_150854_6_1_5_Fluorescence_summary.csv\n",
      "Producing image channel for GFP with cap 400 in color green\n",
      "Producing image channel for Chl with cap 200 in color red\n",
      "Producing image channel for Diffraction with cap 200 in color blue\n",
      "Saving image to /home/gmobot/data/gmodetector_out/Elements_14//GWAS_CRISPR/CRIB/wk7/CRIB1_I5.0_F1.9_L100LED30_150854_6_1_5_Fluorescence.png\n",
      "Saving image metadata to /home/gmobot/data/gmodetector_out/Elements_14//GWAS_CRISPR/CRIB/wk7/CRIB1_I5.0_F1.9_L100LED30_150854_6_1_5_Fluorescence.csv\n",
      "\n",
      "Finished running sample /media/gmobot/Elements_14/Elements_14//GWAS_CRISPR/CRIB/wk7//CRIB1_I5.0_F1.9_L100LED30_150854_6_1_5_Fluorescence.hdr in 35.11234853696078s\n",
      "\n",
      "Running GMOdetector version 0.0.875\n",
      "load mode isload_full_then_crop\n",
      "Saving to /home/gmobot/data/gmodetector_out/Elements_14//GWAS_CRISPR/CRIB/wk7/CRIB1_I5.0_F1.9_L100LED30_150124_1_0_2_Fluorescence_weights.hdf with key of weights\n",
      "Saving summary stats w/ threshold38.0 to /home/gmobot/data/gmodetector_out/Elements_14//GWAS_CRISPR/CRIB/wk7/CRIB1_I5.0_F1.9_L100LED30_150124_1_0_2_Fluorescence_summary.csv\n",
      "Producing image channel for GFP with cap 400 in color green\n",
      "Producing image channel for Chl with cap 200 in color red\n",
      "Producing image channel for Diffraction with cap 200 in color blue\n",
      "Saving image to /home/gmobot/data/gmodetector_out/Elements_14//GWAS_CRISPR/CRIB/wk7/CRIB1_I5.0_F1.9_L100LED30_150124_1_0_2_Fluorescence.png\n",
      "Saving image metadata to /home/gmobot/data/gmodetector_out/Elements_14//GWAS_CRISPR/CRIB/wk7/CRIB1_I5.0_F1.9_L100LED30_150124_1_0_2_Fluorescence.csv\n",
      "\n",
      "Finished running sample /media/gmobot/Elements_14/Elements_14//GWAS_CRISPR/CRIB/wk7//CRIB1_I5.0_F1.9_L100LED30_150124_1_0_2_Fluorescence.hdr in 35.22792529081926s\n",
      "\n",
      "Running GMOdetector version 0.0.875\n",
      "load mode isload_full_then_crop\n",
      "Saving to /home/gmobot/data/gmodetector_out/Elements_14//GWAS_CRISPR/CRIB/wk7/CRIB1_I5.0_F1.9_L100LED30_145959_0_0_1_Fluorescence_weights.hdf with key of weights\n",
      "Saving summary stats w/ threshold38.0 to /home/gmobot/data/gmodetector_out/Elements_14//GWAS_CRISPR/CRIB/wk7/CRIB1_I5.0_F1.9_L100LED30_145959_0_0_1_Fluorescence_summary.csv\n",
      "Producing image channel for GFP with cap 400 in color green\n",
      "Producing image channel for Chl with cap 200 in color red\n",
      "Producing image channel for Diffraction with cap 200 in color blue\n",
      "Saving image to /home/gmobot/data/gmodetector_out/Elements_14//GWAS_CRISPR/CRIB/wk7/CRIB1_I5.0_F1.9_L100LED30_145959_0_0_1_Fluorescence.png\n",
      "Saving image metadata to /home/gmobot/data/gmodetector_out/Elements_14//GWAS_CRISPR/CRIB/wk7/CRIB1_I5.0_F1.9_L100LED30_145959_0_0_1_Fluorescence.csv\n",
      "\n",
      "Finished running sample /media/gmobot/Elements_14/Elements_14//GWAS_CRISPR/CRIB/wk7//CRIB1_I5.0_F1.9_L100LED30_145959_0_0_1_Fluorescence.hdr in 35.32034387718886s\n",
      "\n",
      "Running GMOdetector version 0.0.875\n",
      "load mode isload_full_then_crop\n",
      "Saving to /home/gmobot/data/gmodetector_out/Elements_14//GWAS_CRISPR/CRIB/wk7/CRIB1_I5.0_F1.9_L100LED30_153030_6_2_3_Fluorescence_weights.hdf with key of weights\n",
      "Saving summary stats w/ threshold38.0 to /home/gmobot/data/gmodetector_out/Elements_14//GWAS_CRISPR/CRIB/wk7/CRIB1_I5.0_F1.9_L100LED30_153030_6_2_3_Fluorescence_summary.csv\n",
      "Producing image channel for GFP with cap 400 in color green\n",
      "Producing image channel for Chl with cap 200 in color red\n",
      "Producing image channel for Diffraction with cap 200 in color blue\n",
      "Saving image to /home/gmobot/data/gmodetector_out/Elements_14//GWAS_CRISPR/CRIB/wk7/CRIB1_I5.0_F1.9_L100LED30_153030_6_2_3_Fluorescence.png\n",
      "Saving image metadata to /home/gmobot/data/gmodetector_out/Elements_14//GWAS_CRISPR/CRIB/wk7/CRIB1_I5.0_F1.9_L100LED30_153030_6_2_3_Fluorescence.csv\n",
      "\n",
      "Finished running sample /media/gmobot/Elements_14/Elements_14//GWAS_CRISPR/CRIB/wk7//CRIB1_I5.0_F1.9_L100LED30_153030_6_2_3_Fluorescence.hdr in 36.16570539493114s\n",
      "\n",
      "Running GMOdetector version 0.0.875\n",
      "load mode isload_full_then_crop\n",
      "Saving to /home/gmobot/data/gmodetector_out/Elements_14//GWAS_CRISPR/CRIB/wk7/CRIB1_I5.0_F1.9_L100LED30_152401_2_1_6_Fluorescence_weights.hdf with key of weights\n",
      "Saving summary stats w/ threshold38.0 to /home/gmobot/data/gmodetector_out/Elements_14//GWAS_CRISPR/CRIB/wk7/CRIB1_I5.0_F1.9_L100LED30_152401_2_1_6_Fluorescence_summary.csv\n",
      "Producing image channel for GFP with cap 400 in color green\n",
      "Producing image channel for Chl with cap 200 in color red\n",
      "Producing image channel for Diffraction with cap 200 in color blue\n",
      "Saving image to /home/gmobot/data/gmodetector_out/Elements_14//GWAS_CRISPR/CRIB/wk7/CRIB1_I5.0_F1.9_L100LED30_152401_2_1_6_Fluorescence.png\n",
      "Saving image metadata to /home/gmobot/data/gmodetector_out/Elements_14//GWAS_CRISPR/CRIB/wk7/CRIB1_I5.0_F1.9_L100LED30_152401_2_1_6_Fluorescence.csv\n",
      "\n",
      "Finished running sample /media/gmobot/Elements_14/Elements_14//GWAS_CRISPR/CRIB/wk7//CRIB1_I5.0_F1.9_L100LED30_152401_2_1_6_Fluorescence.hdr in 36.21373093407601s\n",
      "\n",
      "Running GMOdetector version 0.0.875\n",
      "load mode isload_full_then_crop\n",
      "Saving to /home/gmobot/data/gmodetector_out/Elements_14//GWAS_CRISPR/CRIB/wk7/CRIB1_I5.0_F1.9_L100LED30_153200_7_2_4_Fluorescence_weights.hdf with key of weights\n",
      "Saving summary stats w/ threshold38.0 to /home/gmobot/data/gmodetector_out/Elements_14//GWAS_CRISPR/CRIB/wk7/CRIB1_I5.0_F1.9_L100LED30_153200_7_2_4_Fluorescence_summary.csv\n",
      "Producing image channel for GFP with cap 400 in color green\n",
      "Producing image channel for Chl with cap 200 in color red\n",
      "Producing image channel for Diffraction with cap 200 in color blue\n",
      "Saving image to /home/gmobot/data/gmodetector_out/Elements_14//GWAS_CRISPR/CRIB/wk7/CRIB1_I5.0_F1.9_L100LED30_153200_7_2_4_Fluorescence.png\n",
      "Saving image metadata to /home/gmobot/data/gmodetector_out/Elements_14//GWAS_CRISPR/CRIB/wk7/CRIB1_I5.0_F1.9_L100LED30_153200_7_2_4_Fluorescence.csv\n",
      "\n",
      "Finished running sample /media/gmobot/Elements_14/Elements_14//GWAS_CRISPR/CRIB/wk7//CRIB1_I5.0_F1.9_L100LED30_153200_7_2_4_Fluorescence.hdr in 36.131876301020384s\n",
      "\n",
      "Running GMOdetector version 0.0.875\n",
      "load mode isload_full_then_crop\n",
      "Saving to /home/gmobot/data/gmodetector_out/Elements_14//GWAS_CRISPR/CRIB/wk7/CRIB1_I5.0_F1.9_L100LED30_151446_10_1_1_Fluorescence_weights.hdf with key of weights\n",
      "Saving summary stats w/ threshold38.0 to /home/gmobot/data/gmodetector_out/Elements_14//GWAS_CRISPR/CRIB/wk7/CRIB1_I5.0_F1.9_L100LED30_151446_10_1_1_Fluorescence_summary.csv\n",
      "Producing image channel for GFP with cap 400 in color green\n",
      "Producing image channel for Chl with cap 200 in color red\n",
      "Producing image channel for Diffraction with cap 200 in color blue\n",
      "Saving image to /home/gmobot/data/gmodetector_out/Elements_14//GWAS_CRISPR/CRIB/wk7/CRIB1_I5.0_F1.9_L100LED30_151446_10_1_1_Fluorescence.png\n",
      "Saving image metadata to /home/gmobot/data/gmodetector_out/Elements_14//GWAS_CRISPR/CRIB/wk7/CRIB1_I5.0_F1.9_L100LED30_151446_10_1_1_Fluorescence.csv\n",
      "\n",
      "Finished running sample /media/gmobot/Elements_14/Elements_14//GWAS_CRISPR/CRIB/wk7//CRIB1_I5.0_F1.9_L100LED30_151446_10_1_1_Fluorescence.hdr in 36.446607457939535s\n",
      "\n",
      "Running GMOdetector version 0.0.875\n",
      "load mode isload_full_then_crop\n",
      "Saving to /home/gmobot/data/gmodetector_out/Elements_14//GWAS_CRISPR/CRIB/wk7/CRIB1_I5.0_F1.9_L100LED30_152900_5_2_2_Fluorescence_weights.hdf with key of weights\n",
      "Saving summary stats w/ threshold38.0 to /home/gmobot/data/gmodetector_out/Elements_14//GWAS_CRISPR/CRIB/wk7/CRIB1_I5.0_F1.9_L100LED30_152900_5_2_2_Fluorescence_summary.csv\n",
      "Producing image channel for GFP with cap 400 in color green\n",
      "Producing image channel for Chl with cap 200 in color red\n",
      "Producing image channel for Diffraction with cap 200 in color blue\n",
      "Saving image to /home/gmobot/data/gmodetector_out/Elements_14//GWAS_CRISPR/CRIB/wk7/CRIB1_I5.0_F1.9_L100LED30_152900_5_2_2_Fluorescence.png\n",
      "Saving image metadata to /home/gmobot/data/gmodetector_out/Elements_14//GWAS_CRISPR/CRIB/wk7/CRIB1_I5.0_F1.9_L100LED30_152900_5_2_2_Fluorescence.csv\n",
      "\n",
      "Finished running sample /media/gmobot/Elements_14/Elements_14//GWAS_CRISPR/CRIB/wk7//CRIB1_I5.0_F1.9_L100LED30_152900_5_2_2_Fluorescence.hdr in 36.27270736824721s\n",
      "\n",
      "Running GMOdetector version 0.0.875\n",
      "load mode isload_full_then_crop\n",
      "Saving to /home/gmobot/data/gmodetector_out/Elements_14//GWAS_CRISPR/CRIB/wk7/CRIB3_I5.0_F1.9_L100LED30_134535_6_0_6_Fluorescence_weights.hdf with key of weights\n",
      "Saving summary stats w/ threshold38.0 to /home/gmobot/data/gmodetector_out/Elements_14//GWAS_CRISPR/CRIB/wk7/CRIB3_I5.0_F1.9_L100LED30_134535_6_0_6_Fluorescence_summary.csv\n",
      "Producing image channel for GFP with cap 400 in color green\n",
      "Producing image channel for Chl with cap 200 in color red\n",
      "Producing image channel for Diffraction with cap 200 in color blue\n",
      "Saving image to /home/gmobot/data/gmodetector_out/Elements_14//GWAS_CRISPR/CRIB/wk7/CRIB3_I5.0_F1.9_L100LED30_134535_6_0_6_Fluorescence.png\n",
      "Saving image metadata to /home/gmobot/data/gmodetector_out/Elements_14//GWAS_CRISPR/CRIB/wk7/CRIB3_I5.0_F1.9_L100LED30_134535_6_0_6_Fluorescence.csv\n",
      "\n",
      "Finished running sample /media/gmobot/Elements_14/Elements_14//GWAS_CRISPR/CRIB/wk7//CRIB3_I5.0_F1.9_L100LED30_134535_6_0_6_Fluorescence.hdr in 26.721513675060123s\n",
      "\n",
      "Running GMOdetector version 0.0.875\n",
      "load mode isload_full_then_crop\n",
      "Saving to /home/gmobot/data/gmodetector_out/Elements_14//GWAS_CRISPR/CRIB/wk7/CRIB3_I5.0_F1.9_L100LED30_134956_9_1_4_Fluorescence_weights.hdf with key of weights\n",
      "Saving summary stats w/ threshold38.0 to /home/gmobot/data/gmodetector_out/Elements_14//GWAS_CRISPR/CRIB/wk7/CRIB3_I5.0_F1.9_L100LED30_134956_9_1_4_Fluorescence_summary.csv\n",
      "Producing image channel for GFP with cap 400 in color green\n",
      "Producing image channel for Chl with cap 200 in color red\n",
      "Producing image channel for Diffraction with cap 200 in color blue\n",
      "Saving image to /home/gmobot/data/gmodetector_out/Elements_14//GWAS_CRISPR/CRIB/wk7/CRIB3_I5.0_F1.9_L100LED30_134956_9_1_4_Fluorescence.png\n",
      "Saving image metadata to /home/gmobot/data/gmodetector_out/Elements_14//GWAS_CRISPR/CRIB/wk7/CRIB3_I5.0_F1.9_L100LED30_134956_9_1_4_Fluorescence.csv\n",
      "\n",
      "Finished running sample /media/gmobot/Elements_14/Elements_14//GWAS_CRISPR/CRIB/wk7//CRIB3_I5.0_F1.9_L100LED30_134956_9_1_4_Fluorescence.hdr in 26.92007530387491s\n",
      "\n",
      "Running GMOdetector version 0.0.875\n",
      "load mode isload_full_then_crop\n",
      "Saving to /home/gmobot/data/gmodetector_out/Elements_14//GWAS_CRISPR/CRIB/wk7/CRIB3_I5.0_F1.9_L100LED30_135557_13_1_0_Fluorescence_weights.hdf with key of weights\n",
      "Saving summary stats w/ threshold38.0 to /home/gmobot/data/gmodetector_out/Elements_14//GWAS_CRISPR/CRIB/wk7/CRIB3_I5.0_F1.9_L100LED30_135557_13_1_0_Fluorescence_summary.csv\n",
      "Producing image channel for GFP with cap 400 in color green\n",
      "Producing image channel for Chl with cap 200 in color red\n",
      "Producing image channel for Diffraction with cap 200 in color blue\n",
      "Saving image to /home/gmobot/data/gmodetector_out/Elements_14//GWAS_CRISPR/CRIB/wk7/CRIB3_I5.0_F1.9_L100LED30_135557_13_1_0_Fluorescence.png\n",
      "Saving image metadata to /home/gmobot/data/gmodetector_out/Elements_14//GWAS_CRISPR/CRIB/wk7/CRIB3_I5.0_F1.9_L100LED30_135557_13_1_0_Fluorescence.csv\n",
      "\n",
      "Finished running sample /media/gmobot/Elements_14/Elements_14//GWAS_CRISPR/CRIB/wk7//CRIB3_I5.0_F1.9_L100LED30_135557_13_1_0_Fluorescence.hdr in 28.24447449296713s\n",
      "\n",
      "Running GMOdetector version 0.0.875\n",
      "load mode isload_full_then_crop\n",
      "Saving to /home/gmobot/data/gmodetector_out/Elements_14//GWAS_CRISPR/CRIB/wk7/CRIB3_I5.0_F1.9_L100LED30_134705_7_1_6_Fluorescence_weights.hdf with key of weights\n",
      "Saving summary stats w/ threshold38.0 to /home/gmobot/data/gmodetector_out/Elements_14//GWAS_CRISPR/CRIB/wk7/CRIB3_I5.0_F1.9_L100LED30_134705_7_1_6_Fluorescence_summary.csv\n",
      "Producing image channel for GFP with cap 400 in color green\n",
      "Producing image channel for Chl with cap 200 in color red\n",
      "Producing image channel for Diffraction with cap 200 in color blue\n",
      "Saving image to /home/gmobot/data/gmodetector_out/Elements_14//GWAS_CRISPR/CRIB/wk7/CRIB3_I5.0_F1.9_L100LED30_134705_7_1_6_Fluorescence.png\n",
      "Saving image metadata to /home/gmobot/data/gmodetector_out/Elements_14//GWAS_CRISPR/CRIB/wk7/CRIB3_I5.0_F1.9_L100LED30_134705_7_1_6_Fluorescence.csv\n",
      "\n",
      "Finished running sample /media/gmobot/Elements_14/Elements_14//GWAS_CRISPR/CRIB/wk7//CRIB3_I5.0_F1.9_L100LED30_134705_7_1_6_Fluorescence.hdr in 28.9036635607481s\n",
      "\n",
      "Running GMOdetector version 0.0.875\n",
      "load mode isload_full_then_crop\n",
      "Saving to /home/gmobot/data/gmodetector_out/Elements_14//GWAS_CRISPR/CRIB/wk7/CRIB3_I5.0_F1.9_L100LED30_135426_12_1_1_Fluorescence_weights.hdf with key of weights\n",
      "Saving summary stats w/ threshold38.0 to /home/gmobot/data/gmodetector_out/Elements_14//GWAS_CRISPR/CRIB/wk7/CRIB3_I5.0_F1.9_L100LED30_135426_12_1_1_Fluorescence_summary.csv\n",
      "Producing image channel for GFP with cap 400 in color green\n",
      "Producing image channel for Chl with cap 200 in color red\n",
      "Producing image channel for Diffraction with cap 200 in color blue\n",
      "Saving image to /home/gmobot/data/gmodetector_out/Elements_14//GWAS_CRISPR/CRIB/wk7/CRIB3_I5.0_F1.9_L100LED30_135426_12_1_1_Fluorescence.png\n",
      "Saving image metadata to /home/gmobot/data/gmodetector_out/Elements_14//GWAS_CRISPR/CRIB/wk7/CRIB3_I5.0_F1.9_L100LED30_135426_12_1_1_Fluorescence.csv\n",
      "\n",
      "Finished running sample /media/gmobot/Elements_14/Elements_14//GWAS_CRISPR/CRIB/wk7//CRIB3_I5.0_F1.9_L100LED30_135426_12_1_1_Fluorescence.hdr in 29.32254231488332s\n",
      "\n",
      "Running GMOdetector version 0.0.875\n",
      "load mode isload_full_then_crop\n",
      "Saving to /home/gmobot/data/gmodetector_out/Elements_14//GWAS_CRISPR/CRIB/wk7/CRIB3_I5.0_F1.9_L100LED30_134235_4_0_4_Fluorescence_weights.hdf with key of weights\n",
      "Saving summary stats w/ threshold38.0 to /home/gmobot/data/gmodetector_out/Elements_14//GWAS_CRISPR/CRIB/wk7/CRIB3_I5.0_F1.9_L100LED30_134235_4_0_4_Fluorescence_summary.csv\n",
      "Producing image channel for GFP with cap 400 in color green\n",
      "Producing image channel for Chl with cap 200 in color red\n",
      "Producing image channel for Diffraction with cap 200 in color blue\n",
      "Saving image to /home/gmobot/data/gmodetector_out/Elements_14//GWAS_CRISPR/CRIB/wk7/CRIB3_I5.0_F1.9_L100LED30_134235_4_0_4_Fluorescence.png\n",
      "Saving image metadata to /home/gmobot/data/gmodetector_out/Elements_14//GWAS_CRISPR/CRIB/wk7/CRIB3_I5.0_F1.9_L100LED30_134235_4_0_4_Fluorescence.csv\n",
      "\n",
      "Finished running sample /media/gmobot/Elements_14/Elements_14//GWAS_CRISPR/CRIB/wk7//CRIB3_I5.0_F1.9_L100LED30_134235_4_0_4_Fluorescence.hdr in 29.81332771293819s\n",
      "\n",
      "Running GMOdetector version 0.0.875\n",
      "load mode isload_full_then_crop\n",
      "Saving to /home/gmobot/data/gmodetector_out/Elements_14//GWAS_CRISPR/CRIB/wk7/CRIB3_I5.0_F1.9_L100LED30_135848_15_2_1_Fluorescence_weights.hdf with key of weights\n",
      "Saving summary stats w/ threshold38.0 to /home/gmobot/data/gmodetector_out/Elements_14//GWAS_CRISPR/CRIB/wk7/CRIB3_I5.0_F1.9_L100LED30_135848_15_2_1_Fluorescence_summary.csv\n",
      "Producing image channel for GFP with cap 400 in color green\n",
      "Producing image channel for Chl with cap 200 in color red\n",
      "Producing image channel for Diffraction with cap 200 in color blue\n",
      "Saving image to /home/gmobot/data/gmodetector_out/Elements_14//GWAS_CRISPR/CRIB/wk7/CRIB3_I5.0_F1.9_L100LED30_135848_15_2_1_Fluorescence.png\n",
      "Saving image metadata to /home/gmobot/data/gmodetector_out/Elements_14//GWAS_CRISPR/CRIB/wk7/CRIB3_I5.0_F1.9_L100LED30_135848_15_2_1_Fluorescence.csv\n",
      "\n",
      "Finished running sample /media/gmobot/Elements_14/Elements_14//GWAS_CRISPR/CRIB/wk7//CRIB3_I5.0_F1.9_L100LED30_135848_15_2_1_Fluorescence.hdr in 28.83953077485785s\n",
      "\n",
      "Running GMOdetector version 0.0.875\n",
      "load mode isload_full_then_crop\n",
      "Saving to /home/gmobot/data/gmodetector_out/Elements_14//GWAS_CRISPR/CRIB/wk7/CRIB3_I5.0_F1.9_L100LED30_135126_10_1_3_Fluorescence_weights.hdf with key of weights\n",
      "Saving summary stats w/ threshold38.0 to /home/gmobot/data/gmodetector_out/Elements_14//GWAS_CRISPR/CRIB/wk7/CRIB3_I5.0_F1.9_L100LED30_135126_10_1_3_Fluorescence_summary.csv\n",
      "Producing image channel for GFP with cap 400 in color green\n",
      "Producing image channel for Chl with cap 200 in color red\n",
      "Producing image channel for Diffraction with cap 200 in color blue\n",
      "Saving image to /home/gmobot/data/gmodetector_out/Elements_14//GWAS_CRISPR/CRIB/wk7/CRIB3_I5.0_F1.9_L100LED30_135126_10_1_3_Fluorescence.png\n",
      "Saving image metadata to /home/gmobot/data/gmodetector_out/Elements_14//GWAS_CRISPR/CRIB/wk7/CRIB3_I5.0_F1.9_L100LED30_135126_10_1_3_Fluorescence.csv\n",
      "\n",
      "Finished running sample /media/gmobot/Elements_14/Elements_14//GWAS_CRISPR/CRIB/wk7//CRIB3_I5.0_F1.9_L100LED30_135126_10_1_3_Fluorescence.hdr in 29.91175388265401s\n",
      "\n",
      "Running GMOdetector version 0.0.875\n",
      "load mode isload_full_then_crop\n",
      "Saving to /home/gmobot/data/gmodetector_out/Elements_14//GWAS_CRISPR/CRIB/wk7/CRIB3_I5.0_F1.9_L100LED30_142009_1_2_2_Fluorescence_weights.hdf with key of weights\n",
      "Saving summary stats w/ threshold38.0 to /home/gmobot/data/gmodetector_out/Elements_14//GWAS_CRISPR/CRIB/wk7/CRIB3_I5.0_F1.9_L100LED30_142009_1_2_2_Fluorescence_summary.csv\n",
      "Producing image channel for GFP with cap 400 in color green\n",
      "Producing image channel for Chl with cap 200 in color red\n",
      "Producing image channel for Diffraction with cap 200 in color blue\n",
      "Saving image to /home/gmobot/data/gmodetector_out/Elements_14//GWAS_CRISPR/CRIB/wk7/CRIB3_I5.0_F1.9_L100LED30_142009_1_2_2_Fluorescence.png\n",
      "Saving image metadata to /home/gmobot/data/gmodetector_out/Elements_14//GWAS_CRISPR/CRIB/wk7/CRIB3_I5.0_F1.9_L100LED30_142009_1_2_2_Fluorescence.csv\n",
      "\n",
      "Finished running sample /media/gmobot/Elements_14/Elements_14//GWAS_CRISPR/CRIB/wk7//CRIB3_I5.0_F1.9_L100LED30_142009_1_2_2_Fluorescence.hdr in 28.704590434674174s\n",
      "\n",
      "Running GMOdetector version 0.0.875\n",
      "load mode isload_full_then_crop\n",
      "Saving to /home/gmobot/data/gmodetector_out/Elements_14//GWAS_CRISPR/CRIB/wk7/CRIB3_I5.0_F1.9_L100LED30_134826_8_1_5_Fluorescence_weights.hdf with key of weights\n",
      "Saving summary stats w/ threshold38.0 to /home/gmobot/data/gmodetector_out/Elements_14//GWAS_CRISPR/CRIB/wk7/CRIB3_I5.0_F1.9_L100LED30_134826_8_1_5_Fluorescence_summary.csv\n",
      "Producing image channel for GFP with cap 400 in color green\n",
      "Producing image channel for Chl with cap 200 in color red\n",
      "Producing image channel for Diffraction with cap 200 in color blue\n",
      "Saving image to /home/gmobot/data/gmodetector_out/Elements_14//GWAS_CRISPR/CRIB/wk7/CRIB3_I5.0_F1.9_L100LED30_134826_8_1_5_Fluorescence.png\n",
      "Saving image metadata to /home/gmobot/data/gmodetector_out/Elements_14//GWAS_CRISPR/CRIB/wk7/CRIB3_I5.0_F1.9_L100LED30_134826_8_1_5_Fluorescence.csv\n",
      "\n",
      "Finished running sample /media/gmobot/Elements_14/Elements_14//GWAS_CRISPR/CRIB/wk7//CRIB3_I5.0_F1.9_L100LED30_134826_8_1_5_Fluorescence.hdr in 30.34086206369102s\n",
      "\n",
      "Running GMOdetector version 0.0.875\n",
      "load mode isload_full_then_crop\n",
      "Saving to /home/gmobot/data/gmodetector_out/Elements_14//GWAS_CRISPR/CRIB/wk7/CRIB4_I5.0_F1.9_L100LED30_155449_0_0_0_Fluorescence_weights.hdf with key of weights\n",
      "Saving summary stats w/ threshold38.0 to /home/gmobot/data/gmodetector_out/Elements_14//GWAS_CRISPR/CRIB/wk7/CRIB4_I5.0_F1.9_L100LED30_155449_0_0_0_Fluorescence_summary.csv\n",
      "Producing image channel for GFP with cap 400 in color green\n",
      "Producing image channel for Chl with cap 200 in color red\n",
      "Producing image channel for Diffraction with cap 200 in color blue\n",
      "Saving image to /home/gmobot/data/gmodetector_out/Elements_14//GWAS_CRISPR/CRIB/wk7/CRIB4_I5.0_F1.9_L100LED30_155449_0_0_0_Fluorescence.png\n",
      "Saving image metadata to /home/gmobot/data/gmodetector_out/Elements_14//GWAS_CRISPR/CRIB/wk7/CRIB4_I5.0_F1.9_L100LED30_155449_0_0_0_Fluorescence.csv\n",
      "\n",
      "Finished running sample /media/gmobot/Elements_14/Elements_14//GWAS_CRISPR/CRIB/wk7//CRIB4_I5.0_F1.9_L100LED30_155449_0_0_0_Fluorescence.hdr in 29.071065419819206s\n",
      "\n",
      "Running GMOdetector version 0.0.875\n",
      "load mode isload_full_then_crop\n",
      "Saving to /home/gmobot/data/gmodetector_out/Elements_14//GWAS_CRISPR/CRIB/wk7/CRIB3_I5.0_F1.9_L100LED30_141835_0_1_2_Fluorescence_weights.hdf with key of weights\n",
      "Saving summary stats w/ threshold38.0 to /home/gmobot/data/gmodetector_out/Elements_14//GWAS_CRISPR/CRIB/wk7/CRIB3_I5.0_F1.9_L100LED30_141835_0_1_2_Fluorescence_summary.csv\n",
      "Producing image channel for GFP with cap 400 in color green\n",
      "Producing image channel for Chl with cap 200 in color red\n",
      "Producing image channel for Diffraction with cap 200 in color blue\n",
      "Saving image to /home/gmobot/data/gmodetector_out/Elements_14//GWAS_CRISPR/CRIB/wk7/CRIB3_I5.0_F1.9_L100LED30_141835_0_1_2_Fluorescence.png\n",
      "Saving image metadata to /home/gmobot/data/gmodetector_out/Elements_14//GWAS_CRISPR/CRIB/wk7/CRIB3_I5.0_F1.9_L100LED30_141835_0_1_2_Fluorescence.csv\n",
      "\n",
      "Finished running sample /media/gmobot/Elements_14/Elements_14//GWAS_CRISPR/CRIB/wk7//CRIB3_I5.0_F1.9_L100LED30_141835_0_1_2_Fluorescence.hdr in 29.360710934735835s\n",
      "\n",
      "Running GMOdetector version 0.0.875\n",
      "load mode isload_full_then_crop\n",
      "Saving to /home/gmobot/data/gmodetector_out/Elements_14//GWAS_CRISPR/CRIB/wk7/CRIB4_I5.0_F1.9_L100LED30_155735_2_0_2_Fluorescence_weights.hdf with key of weights\n",
      "Saving summary stats w/ threshold38.0 to /home/gmobot/data/gmodetector_out/Elements_14//GWAS_CRISPR/CRIB/wk7/CRIB4_I5.0_F1.9_L100LED30_155735_2_0_2_Fluorescence_summary.csv\n",
      "Producing image channel for GFP with cap 400 in color green\n",
      "Producing image channel for Chl with cap 200 in color red\n",
      "Producing image channel for Diffraction with cap 200 in color blue\n",
      "Saving image to /home/gmobot/data/gmodetector_out/Elements_14//GWAS_CRISPR/CRIB/wk7/CRIB4_I5.0_F1.9_L100LED30_155735_2_0_2_Fluorescence.png\n",
      "Saving image metadata to /home/gmobot/data/gmodetector_out/Elements_14//GWAS_CRISPR/CRIB/wk7/CRIB4_I5.0_F1.9_L100LED30_155735_2_0_2_Fluorescence.csv\n",
      "\n",
      "Finished running sample /media/gmobot/Elements_14/Elements_14//GWAS_CRISPR/CRIB/wk7//CRIB4_I5.0_F1.9_L100LED30_155735_2_0_2_Fluorescence.hdr in 28.4992368449457s\n",
      "\n",
      "Running GMOdetector version 0.0.875\n",
      "load mode isload_full_then_crop\n",
      "Saving to /home/gmobot/data/gmodetector_out/Elements_14//GWAS_CRISPR/CRIB/wk7/CRIB3_I5.0_F1.9_L100LED30_134106_3_0_3_Fluorescence_weights.hdf with key of weights\n",
      "Saving summary stats w/ threshold38.0 to /home/gmobot/data/gmodetector_out/Elements_14//GWAS_CRISPR/CRIB/wk7/CRIB3_I5.0_F1.9_L100LED30_134106_3_0_3_Fluorescence_summary.csv\n",
      "Producing image channel for GFP with cap 400 in color green\n",
      "Producing image channel for Chl with cap 200 in color red\n",
      "Producing image channel for Diffraction with cap 200 in color blue\n",
      "Saving image to /home/gmobot/data/gmodetector_out/Elements_14//GWAS_CRISPR/CRIB/wk7/CRIB3_I5.0_F1.9_L100LED30_134106_3_0_3_Fluorescence.png\n",
      "Saving image metadata to /home/gmobot/data/gmodetector_out/Elements_14//GWAS_CRISPR/CRIB/wk7/CRIB3_I5.0_F1.9_L100LED30_134106_3_0_3_Fluorescence.csv\n",
      "\n",
      "Finished running sample /media/gmobot/Elements_14/Elements_14//GWAS_CRISPR/CRIB/wk7//CRIB3_I5.0_F1.9_L100LED30_134106_3_0_3_Fluorescence.hdr in 31.79992847284302s\n",
      "\n",
      "Running GMOdetector version 0.0.875\n",
      "load mode isload_full_then_crop\n",
      "Saving to /home/gmobot/data/gmodetector_out/Elements_14//GWAS_CRISPR/CRIB/wk7/CRIB3_I5.0_F1.9_L100LED30_142300_3_2_4_Fluorescence_weights.hdf with key of weights\n",
      "Saving summary stats w/ threshold38.0 to /home/gmobot/data/gmodetector_out/Elements_14//GWAS_CRISPR/CRIB/wk7/CRIB3_I5.0_F1.9_L100LED30_142300_3_2_4_Fluorescence_summary.csv\n",
      "Producing image channel for GFP with cap 400 in color green\n",
      "Producing image channel for Chl with cap 200 in color red\n",
      "Producing image channel for Diffraction with cap 200 in color blue\n",
      "Saving image to /home/gmobot/data/gmodetector_out/Elements_14//GWAS_CRISPR/CRIB/wk7/CRIB3_I5.0_F1.9_L100LED30_142300_3_2_4_Fluorescence.png\n",
      "Saving image metadata to /home/gmobot/data/gmodetector_out/Elements_14//GWAS_CRISPR/CRIB/wk7/CRIB3_I5.0_F1.9_L100LED30_142300_3_2_4_Fluorescence.csv\n",
      "\n",
      "Finished running sample /media/gmobot/Elements_14/Elements_14//GWAS_CRISPR/CRIB/wk7//CRIB3_I5.0_F1.9_L100LED30_142300_3_2_4_Fluorescence.hdr in 29.57089148601517s\n",
      "\n",
      "Running GMOdetector version 0.0.875\n",
      "load mode isload_full_then_crop\n",
      "Saving to /home/gmobot/data/gmodetector_out/Elements_14//GWAS_CRISPR/CRIB/wk7/CRIB3_I5.0_F1.9_L100LED30_134405_5_0_5_Fluorescence_weights.hdf with key of weights\n",
      "Saving summary stats w/ threshold38.0 to /home/gmobot/data/gmodetector_out/Elements_14//GWAS_CRISPR/CRIB/wk7/CRIB3_I5.0_F1.9_L100LED30_134405_5_0_5_Fluorescence_summary.csv\n",
      "Producing image channel for GFP with cap 400 in color green\n",
      "Producing image channel for Chl with cap 200 in color red\n",
      "Producing image channel for Diffraction with cap 200 in color blue\n",
      "Saving image to /home/gmobot/data/gmodetector_out/Elements_14//GWAS_CRISPR/CRIB/wk7/CRIB3_I5.0_F1.9_L100LED30_134405_5_0_5_Fluorescence.png\n",
      "Saving image metadata to /home/gmobot/data/gmodetector_out/Elements_14//GWAS_CRISPR/CRIB/wk7/CRIB3_I5.0_F1.9_L100LED30_134405_5_0_5_Fluorescence.csv\n",
      "\n",
      "Finished running sample /media/gmobot/Elements_14/Elements_14//GWAS_CRISPR/CRIB/wk7//CRIB3_I5.0_F1.9_L100LED30_134405_5_0_5_Fluorescence.hdr in 31.652049684897065s\n",
      "\n",
      "Running GMOdetector version 0.0.875\n",
      "load mode isload_full_then_crop\n",
      "Saving to /home/gmobot/data/gmodetector_out/Elements_14//GWAS_CRISPR/CRIB/wk7/CRIB4_I5.0_F1.9_L100LED30_155605_1_0_1_Fluorescence_weights.hdf with key of weights\n",
      "Saving summary stats w/ threshold38.0 to /home/gmobot/data/gmodetector_out/Elements_14//GWAS_CRISPR/CRIB/wk7/CRIB4_I5.0_F1.9_L100LED30_155605_1_0_1_Fluorescence_summary.csv\n",
      "Producing image channel for GFP with cap 400 in color green\n",
      "Producing image channel for Chl with cap 200 in color red\n",
      "Producing image channel for Diffraction with cap 200 in color blue\n",
      "Saving image to /home/gmobot/data/gmodetector_out/Elements_14//GWAS_CRISPR/CRIB/wk7/CRIB4_I5.0_F1.9_L100LED30_155605_1_0_1_Fluorescence.png\n",
      "Saving image metadata to /home/gmobot/data/gmodetector_out/Elements_14//GWAS_CRISPR/CRIB/wk7/CRIB4_I5.0_F1.9_L100LED30_155605_1_0_1_Fluorescence.csv\n",
      "\n",
      "Finished running sample /media/gmobot/Elements_14/Elements_14//GWAS_CRISPR/CRIB/wk7//CRIB4_I5.0_F1.9_L100LED30_155605_1_0_1_Fluorescence.hdr in 29.690239635296166s\n",
      "\n",
      "Running GMOdetector version 0.0.875\n",
      "load mode isload_full_then_crop\n",
      "Saving to /home/gmobot/data/gmodetector_out/Elements_14//GWAS_CRISPR/CRIB/wk7/CRIB3_I5.0_F1.9_L100LED30_142430_4_2_5_Fluorescence_weights.hdf with key of weights\n",
      "Saving summary stats w/ threshold38.0 to /home/gmobot/data/gmodetector_out/Elements_14//GWAS_CRISPR/CRIB/wk7/CRIB3_I5.0_F1.9_L100LED30_142430_4_2_5_Fluorescence_summary.csv\n",
      "Producing image channel for GFP with cap 400 in color green\n",
      "Producing image channel for Chl with cap 200 in color red\n",
      "Producing image channel for Diffraction with cap 200 in color blue\n",
      "Saving image to /home/gmobot/data/gmodetector_out/Elements_14//GWAS_CRISPR/CRIB/wk7/CRIB3_I5.0_F1.9_L100LED30_142430_4_2_5_Fluorescence.png\n",
      "Saving image metadata to /home/gmobot/data/gmodetector_out/Elements_14//GWAS_CRISPR/CRIB/wk7/CRIB3_I5.0_F1.9_L100LED30_142430_4_2_5_Fluorescence.csv\n",
      "\n",
      "Finished running sample /media/gmobot/Elements_14/Elements_14//GWAS_CRISPR/CRIB/wk7//CRIB3_I5.0_F1.9_L100LED30_142430_4_2_5_Fluorescence.hdr in 29.807810050901026s\n",
      "\n",
      "Running GMOdetector version 0.0.875\n",
      "load mode isload_full_then_crop\n",
      "Saving to /home/gmobot/data/gmodetector_out/Elements_14//GWAS_CRISPR/CRIB/wk7/CRIB3_I5.0_F1.9_L100LED30_133936_2_0_2_Fluorescence_weights.hdf with key of weights\n",
      "Saving summary stats w/ threshold38.0 to /home/gmobot/data/gmodetector_out/Elements_14//GWAS_CRISPR/CRIB/wk7/CRIB3_I5.0_F1.9_L100LED30_133936_2_0_2_Fluorescence_summary.csv\n",
      "Producing image channel for GFP with cap 400 in color green\n",
      "Producing image channel for Chl with cap 200 in color red\n",
      "Producing image channel for Diffraction with cap 200 in color blue\n",
      "Saving image to /home/gmobot/data/gmodetector_out/Elements_14//GWAS_CRISPR/CRIB/wk7/CRIB3_I5.0_F1.9_L100LED30_133936_2_0_2_Fluorescence.png\n",
      "Saving image metadata to /home/gmobot/data/gmodetector_out/Elements_14//GWAS_CRISPR/CRIB/wk7/CRIB3_I5.0_F1.9_L100LED30_133936_2_0_2_Fluorescence.csv\n",
      "\n",
      "Finished running sample /media/gmobot/Elements_14/Elements_14//GWAS_CRISPR/CRIB/wk7//CRIB3_I5.0_F1.9_L100LED30_133936_2_0_2_Fluorescence.hdr in 32.02417124994099s\n",
      "\n",
      "Running GMOdetector version 0.0.875\n",
      "load mode isload_full_then_crop\n",
      "Saving to /home/gmobot/data/gmodetector_out/Elements_14//GWAS_CRISPR/CRIB/wk7/CRIB3_I5.0_F1.9_L100LED30_133806_1_0_1_Fluorescence_weights.hdf with key of weights\n",
      "Saving summary stats w/ threshold38.0 to /home/gmobot/data/gmodetector_out/Elements_14//GWAS_CRISPR/CRIB/wk7/CRIB3_I5.0_F1.9_L100LED30_133806_1_0_1_Fluorescence_summary.csv\n",
      "Producing image channel for GFP with cap 400 in color green\n",
      "Producing image channel for Chl with cap 200 in color red\n",
      "Producing image channel for Diffraction with cap 200 in color blue\n",
      "Saving image to /home/gmobot/data/gmodetector_out/Elements_14//GWAS_CRISPR/CRIB/wk7/CRIB3_I5.0_F1.9_L100LED30_133806_1_0_1_Fluorescence.png\n",
      "Saving image metadata to /home/gmobot/data/gmodetector_out/Elements_14//GWAS_CRISPR/CRIB/wk7/CRIB3_I5.0_F1.9_L100LED30_133806_1_0_1_Fluorescence.csv\n",
      "\n",
      "Finished running sample /media/gmobot/Elements_14/Elements_14//GWAS_CRISPR/CRIB/wk7//CRIB3_I5.0_F1.9_L100LED30_133806_1_0_1_Fluorescence.hdr in 32.387582403142005s\n",
      "\n",
      "Running GMOdetector version 0.0.875\n",
      "load mode isload_full_then_crop\n",
      "Saving to /home/gmobot/data/gmodetector_out/Elements_14//GWAS_CRISPR/CRIB/wk7/CRIB3_I5.0_F1.9_L100LED30_135727_14_2_0_Fluorescence_weights.hdf with key of weights\n",
      "Saving summary stats w/ threshold38.0 to /home/gmobot/data/gmodetector_out/Elements_14//GWAS_CRISPR/CRIB/wk7/CRIB3_I5.0_F1.9_L100LED30_135727_14_2_0_Fluorescence_summary.csv\n",
      "Producing image channel for GFP with cap 400 in color green\n",
      "Producing image channel for Chl with cap 200 in color red\n",
      "Producing image channel for Diffraction with cap 200 in color blue\n",
      "Saving image to /home/gmobot/data/gmodetector_out/Elements_14//GWAS_CRISPR/CRIB/wk7/CRIB3_I5.0_F1.9_L100LED30_135727_14_2_0_Fluorescence.png\n",
      "Saving image metadata to /home/gmobot/data/gmodetector_out/Elements_14//GWAS_CRISPR/CRIB/wk7/CRIB3_I5.0_F1.9_L100LED30_135727_14_2_0_Fluorescence.csv\n",
      "\n",
      "Finished running sample /media/gmobot/Elements_14/Elements_14//GWAS_CRISPR/CRIB/wk7//CRIB3_I5.0_F1.9_L100LED30_135727_14_2_0_Fluorescence.hdr in 31.73107310710475s\n",
      "\n",
      "Running GMOdetector version 0.0.875\n",
      "load mode isload_full_then_crop\n",
      "Saving to /home/gmobot/data/gmodetector_out/Elements_14//GWAS_CRISPR/CRIB/wk7/CRIB3_I5.0_F1.9_L100LED30_142600_5_2_6_Fluorescence_weights.hdf with key of weights\n",
      "Saving summary stats w/ threshold38.0 to /home/gmobot/data/gmodetector_out/Elements_14//GWAS_CRISPR/CRIB/wk7/CRIB3_I5.0_F1.9_L100LED30_142600_5_2_6_Fluorescence_summary.csv\n",
      "Producing image channel for GFP with cap 400 in color green\n",
      "Producing image channel for Chl with cap 200 in color red\n",
      "Producing image channel for Diffraction with cap 200 in color blue\n",
      "Saving image to /home/gmobot/data/gmodetector_out/Elements_14//GWAS_CRISPR/CRIB/wk7/CRIB3_I5.0_F1.9_L100LED30_142600_5_2_6_Fluorescence.png\n",
      "Saving image metadata to /home/gmobot/data/gmodetector_out/Elements_14//GWAS_CRISPR/CRIB/wk7/CRIB3_I5.0_F1.9_L100LED30_142600_5_2_6_Fluorescence.csv\n",
      "\n",
      "Finished running sample /media/gmobot/Elements_14/Elements_14//GWAS_CRISPR/CRIB/wk7//CRIB3_I5.0_F1.9_L100LED30_142600_5_2_6_Fluorescence.hdr in 31.44537800597027s\n",
      "\n",
      "Running GMOdetector version 0.0.875\n",
      "load mode isload_full_then_crop\n",
      "Saving to /home/gmobot/data/gmodetector_out/Elements_14//GWAS_CRISPR/CRIB/wk7/CRIB4_I5.0_F1.9_L100LED30_155905_3_0_3_Fluorescence_weights.hdf with key of weights\n",
      "Saving summary stats w/ threshold38.0 to /home/gmobot/data/gmodetector_out/Elements_14//GWAS_CRISPR/CRIB/wk7/CRIB4_I5.0_F1.9_L100LED30_155905_3_0_3_Fluorescence_summary.csv\n",
      "Producing image channel for GFP with cap 400 in color green\n",
      "Producing image channel for Chl with cap 200 in color red\n",
      "Producing image channel for Diffraction with cap 200 in color blue\n",
      "Saving image to /home/gmobot/data/gmodetector_out/Elements_14//GWAS_CRISPR/CRIB/wk7/CRIB4_I5.0_F1.9_L100LED30_155905_3_0_3_Fluorescence.png\n",
      "Saving image metadata to /home/gmobot/data/gmodetector_out/Elements_14//GWAS_CRISPR/CRIB/wk7/CRIB4_I5.0_F1.9_L100LED30_155905_3_0_3_Fluorescence.csv\n",
      "\n",
      "Finished running sample /media/gmobot/Elements_14/Elements_14//GWAS_CRISPR/CRIB/wk7//CRIB4_I5.0_F1.9_L100LED30_155905_3_0_3_Fluorescence.hdr in 30.36516367038712s\n",
      "\n",
      "Running GMOdetector version 0.0.875\n",
      "load mode isload_full_then_crop\n",
      "Saving to /home/gmobot/data/gmodetector_out/Elements_14//GWAS_CRISPR/CRIB/wk7/CRIB3_I5.0_F1.9_L100LED30_142130_2_2_3_Fluorescence_weights.hdf with key of weights\n",
      "Saving summary stats w/ threshold38.0 to /home/gmobot/data/gmodetector_out/Elements_14//GWAS_CRISPR/CRIB/wk7/CRIB3_I5.0_F1.9_L100LED30_142130_2_2_3_Fluorescence_summary.csv\n",
      "Producing image channel for GFP with cap 400 in color green\n",
      "Producing image channel for Chl with cap 200 in color red\n",
      "Producing image channel for Diffraction with cap 200 in color blue\n",
      "Saving image to /home/gmobot/data/gmodetector_out/Elements_14//GWAS_CRISPR/CRIB/wk7/CRIB3_I5.0_F1.9_L100LED30_142130_2_2_3_Fluorescence.png\n",
      "Saving image metadata to /home/gmobot/data/gmodetector_out/Elements_14//GWAS_CRISPR/CRIB/wk7/CRIB3_I5.0_F1.9_L100LED30_142130_2_2_3_Fluorescence.csv\n",
      "\n",
      "Finished running sample /media/gmobot/Elements_14/Elements_14//GWAS_CRISPR/CRIB/wk7//CRIB3_I5.0_F1.9_L100LED30_142130_2_2_3_Fluorescence.hdr in 31.679850512184203s\n",
      "\n",
      "Running GMOdetector version 0.0.875\n",
      "load mode isload_full_then_crop\n",
      "Saving to /home/gmobot/data/gmodetector_out/Elements_14//GWAS_CRISPR/CRIB/wk7/CRIB4_I5.0_F1.9_L100LED30_160205_5_0_5_Fluorescence_weights.hdf with key of weights\n",
      "Saving summary stats w/ threshold38.0 to /home/gmobot/data/gmodetector_out/Elements_14//GWAS_CRISPR/CRIB/wk7/CRIB4_I5.0_F1.9_L100LED30_160205_5_0_5_Fluorescence_summary.csv\n",
      "Producing image channel for GFP with cap 400 in color green\n",
      "Producing image channel for Chl with cap 200 in color red\n",
      "Producing image channel for Diffraction with cap 200 in color blue\n",
      "Saving image to /home/gmobot/data/gmodetector_out/Elements_14//GWAS_CRISPR/CRIB/wk7/CRIB4_I5.0_F1.9_L100LED30_160205_5_0_5_Fluorescence.png\n",
      "Saving image metadata to /home/gmobot/data/gmodetector_out/Elements_14//GWAS_CRISPR/CRIB/wk7/CRIB4_I5.0_F1.9_L100LED30_160205_5_0_5_Fluorescence.csv\n",
      "\n",
      "Finished running sample /media/gmobot/Elements_14/Elements_14//GWAS_CRISPR/CRIB/wk7//CRIB4_I5.0_F1.9_L100LED30_160205_5_0_5_Fluorescence.hdr in 10.710743348114192s\n",
      "\n",
      "Running GMOdetector version 0.0.875\n",
      "load mode isload_full_then_crop\n",
      "Saving to /home/gmobot/data/gmodetector_out/Elements_14//GWAS_CRISPR/CRIB/wk7/CRIB4_I5.0_F1.9_L100LED30_160035_4_0_4_Fluorescence_weights.hdf with key of weights\n",
      "Saving summary stats w/ threshold38.0 to /home/gmobot/data/gmodetector_out/Elements_14//GWAS_CRISPR/CRIB/wk7/CRIB4_I5.0_F1.9_L100LED30_160035_4_0_4_Fluorescence_summary.csv\n",
      "Producing image channel for GFP with cap 400 in color green\n",
      "Producing image channel for Chl with cap 200 in color red\n",
      "Producing image channel for Diffraction with cap 200 in color blue\n",
      "Saving image to /home/gmobot/data/gmodetector_out/Elements_14//GWAS_CRISPR/CRIB/wk7/CRIB4_I5.0_F1.9_L100LED30_160035_4_0_4_Fluorescence.png\n",
      "Saving image metadata to /home/gmobot/data/gmodetector_out/Elements_14//GWAS_CRISPR/CRIB/wk7/CRIB4_I5.0_F1.9_L100LED30_160035_4_0_4_Fluorescence.csv\n",
      "\n",
      "Finished running sample /media/gmobot/Elements_14/Elements_14//GWAS_CRISPR/CRIB/wk7//CRIB4_I5.0_F1.9_L100LED30_160035_4_0_4_Fluorescence.hdr in 11.034951023291796s\n",
      "\n",
      "Running GMOdetector version 0.0.875\n",
      "load mode isload_full_then_crop\n",
      "Saving to /home/gmobot/data/gmodetector_out/Elements_14//GWAS_CRISPR/CRIB/wk7/CRIB5_I5.0_F1.9_L100LED30_175231_1_0_1_Fluorescence_weights.hdf with key of weights\n",
      "Saving summary stats w/ threshold38.0 to /home/gmobot/data/gmodetector_out/Elements_14//GWAS_CRISPR/CRIB/wk7/CRIB5_I5.0_F1.9_L100LED30_175231_1_0_1_Fluorescence_summary.csv\n",
      "Producing image channel for GFP with cap 400 in color green\n",
      "Producing image channel for Chl with cap 200 in color red\n",
      "Producing image channel for Diffraction with cap 200 in color blue\n",
      "Saving image to /home/gmobot/data/gmodetector_out/Elements_14//GWAS_CRISPR/CRIB/wk7/CRIB5_I5.0_F1.9_L100LED30_175231_1_0_1_Fluorescence.png\n",
      "Saving image metadata to /home/gmobot/data/gmodetector_out/Elements_14//GWAS_CRISPR/CRIB/wk7/CRIB5_I5.0_F1.9_L100LED30_175231_1_0_1_Fluorescence.csv\n",
      "\n",
      "Finished running sample /media/gmobot/Elements_14/Elements_14//GWAS_CRISPR/CRIB/wk7//CRIB5_I5.0_F1.9_L100LED30_175231_1_0_1_Fluorescence.hdr in 9.995123546104878s\n",
      "\n",
      "Running GMOdetector version 0.0.875\n",
      "load mode isload_full_then_crop\n",
      "Saving to /home/gmobot/data/gmodetector_out/Elements_14//GWAS_CRISPR/CRIB/wk7/CRIB5_I5.0_F1.9_L100LED30_175115_0_0_0_Fluorescence_weights.hdf with key of weights\n",
      "Saving summary stats w/ threshold38.0 to /home/gmobot/data/gmodetector_out/Elements_14//GWAS_CRISPR/CRIB/wk7/CRIB5_I5.0_F1.9_L100LED30_175115_0_0_0_Fluorescence_summary.csv\n",
      "Producing image channel for GFP with cap 400 in color green\n",
      "Producing image channel for Chl with cap 200 in color red\n",
      "Producing image channel for Diffraction with cap 200 in color blue\n",
      "Saving image to /home/gmobot/data/gmodetector_out/Elements_14//GWAS_CRISPR/CRIB/wk7/CRIB5_I5.0_F1.9_L100LED30_175115_0_0_0_Fluorescence.png\n",
      "Saving image metadata to /home/gmobot/data/gmodetector_out/Elements_14//GWAS_CRISPR/CRIB/wk7/CRIB5_I5.0_F1.9_L100LED30_175115_0_0_0_Fluorescence.csv\n",
      "\n",
      "Finished running sample /media/gmobot/Elements_14/Elements_14//GWAS_CRISPR/CRIB/wk7//CRIB5_I5.0_F1.9_L100LED30_175115_0_0_0_Fluorescence.hdr in 9.599864582996815s\n",
      "\n",
      "Running GMOdetector version 0.0.875\n",
      "load mode isload_full_then_crop\n",
      "Saving to /home/gmobot/data/gmodetector_out/Elements_14//GWAS_CRISPR/CRIB/wk7/CRIB5_I5.0_F1.9_L100LED30_175401_2_0_2_Fluorescence_weights.hdf with key of weights\n",
      "Saving summary stats w/ threshold38.0 to /home/gmobot/data/gmodetector_out/Elements_14//GWAS_CRISPR/CRIB/wk7/CRIB5_I5.0_F1.9_L100LED30_175401_2_0_2_Fluorescence_summary.csv\n",
      "Producing image channel for GFP with cap 400 in color green\n",
      "Producing image channel for Chl with cap 200 in color red\n",
      "Producing image channel for Diffraction with cap 200 in color blue\n",
      "Saving image to /home/gmobot/data/gmodetector_out/Elements_14//GWAS_CRISPR/CRIB/wk7/CRIB5_I5.0_F1.9_L100LED30_175401_2_0_2_Fluorescence.png\n",
      "Saving image metadata to /home/gmobot/data/gmodetector_out/Elements_14//GWAS_CRISPR/CRIB/wk7/CRIB5_I5.0_F1.9_L100LED30_175401_2_0_2_Fluorescence.csv\n",
      "\n",
      "Finished running sample /media/gmobot/Elements_14/Elements_14//GWAS_CRISPR/CRIB/wk7//CRIB5_I5.0_F1.9_L100LED30_175401_2_0_2_Fluorescence.hdr in 14.03802581736818s\n",
      "\n",
      "Running GMOdetector version 0.0.875\n",
      "load mode isload_full_then_crop\n",
      "Saving to /home/gmobot/data/gmodetector_out/Elements_14//GWAS_CRISPR/CRIB/wk7/CRIB5_I5.0_F1.9_L100LED30_175530_3_0_3_Fluorescence_weights.hdf with key of weights\n",
      "Saving summary stats w/ threshold38.0 to /home/gmobot/data/gmodetector_out/Elements_14//GWAS_CRISPR/CRIB/wk7/CRIB5_I5.0_F1.9_L100LED30_175530_3_0_3_Fluorescence_summary.csv\n",
      "Producing image channel for GFP with cap 400 in color green\n",
      "Producing image channel for Chl with cap 200 in color red\n",
      "Producing image channel for Diffraction with cap 200 in color blue\n",
      "Saving image to /home/gmobot/data/gmodetector_out/Elements_14//GWAS_CRISPR/CRIB/wk7/CRIB5_I5.0_F1.9_L100LED30_175530_3_0_3_Fluorescence.png\n",
      "Saving image metadata to /home/gmobot/data/gmodetector_out/Elements_14//GWAS_CRISPR/CRIB/wk7/CRIB5_I5.0_F1.9_L100LED30_175530_3_0_3_Fluorescence.csv\n",
      "\n",
      "Finished running sample /media/gmobot/Elements_14/Elements_14//GWAS_CRISPR/CRIB/wk7//CRIB5_I5.0_F1.9_L100LED30_175530_3_0_3_Fluorescence.hdr in 34.99301714496687s\n",
      "\n",
      "Running GMOdetector version 0.0.875\n",
      "load mode isload_full_then_crop\n",
      "Saving to /home/gmobot/data/gmodetector_out/Elements_14//GWAS_CRISPR/CRIB/wk7/CRIB5_I5.0_F1.9_L100LED30_175700_4_0_4_Fluorescence_weights.hdf with key of weights\n",
      "Saving summary stats w/ threshold38.0 to /home/gmobot/data/gmodetector_out/Elements_14//GWAS_CRISPR/CRIB/wk7/CRIB5_I5.0_F1.9_L100LED30_175700_4_0_4_Fluorescence_summary.csv\n",
      "Producing image channel for GFP with cap 400 in color green\n",
      "Producing image channel for Chl with cap 200 in color red\n",
      "Producing image channel for Diffraction with cap 200 in color blue\n",
      "Saving image to /home/gmobot/data/gmodetector_out/Elements_14//GWAS_CRISPR/CRIB/wk7/CRIB5_I5.0_F1.9_L100LED30_175700_4_0_4_Fluorescence.png\n",
      "Saving image metadata to /home/gmobot/data/gmodetector_out/Elements_14//GWAS_CRISPR/CRIB/wk7/CRIB5_I5.0_F1.9_L100LED30_175700_4_0_4_Fluorescence.csv\n",
      "\n",
      "Finished running sample /media/gmobot/Elements_14/Elements_14//GWAS_CRISPR/CRIB/wk7//CRIB5_I5.0_F1.9_L100LED30_175700_4_0_4_Fluorescence.hdr in 74.52377466112375s\n",
      "\n",
      "Running GMOdetector version 0.0.875\n",
      "load mode isload_full_then_crop\n",
      "Saving to /home/gmobot/data/gmodetector_out/Elements_14//GWAS_CRISPR/CRIB/wk7/CRIB5_I5.0_F1.9_L100LED30_175830_5_0_5_Fluorescence_weights.hdf with key of weights\n",
      "Saving summary stats w/ threshold38.0 to /home/gmobot/data/gmodetector_out/Elements_14//GWAS_CRISPR/CRIB/wk7/CRIB5_I5.0_F1.9_L100LED30_175830_5_0_5_Fluorescence_summary.csv\n",
      "Producing image channel for GFP with cap 400 in color green\n",
      "Producing image channel for Chl with cap 200 in color red\n",
      "Producing image channel for Diffraction with cap 200 in color blue\n",
      "Saving image to /home/gmobot/data/gmodetector_out/Elements_14//GWAS_CRISPR/CRIB/wk7/CRIB5_I5.0_F1.9_L100LED30_175830_5_0_5_Fluorescence.png\n",
      "Saving image metadata to /home/gmobot/data/gmodetector_out/Elements_14//GWAS_CRISPR/CRIB/wk7/CRIB5_I5.0_F1.9_L100LED30_175830_5_0_5_Fluorescence.csv\n",
      "\n",
      "Finished running sample /media/gmobot/Elements_14/Elements_14//GWAS_CRISPR/CRIB/wk7//CRIB5_I5.0_F1.9_L100LED30_175830_5_0_5_Fluorescence.hdr in 80.17422206373885s\n",
      "\n",
      "Running GMOdetector version 0.0.875\n",
      "load mode isload_full_then_crop\n",
      "Saving to /home/gmobot/data/gmodetector_out/Elements_14//GWAS_CRISPR/CRIB/wk7/CRIB5_I5.0_F1.9_L100LED30_180000_6_0_6_Fluorescence_weights.hdf with key of weights\n",
      "Saving summary stats w/ threshold38.0 to /home/gmobot/data/gmodetector_out/Elements_14//GWAS_CRISPR/CRIB/wk7/CRIB5_I5.0_F1.9_L100LED30_180000_6_0_6_Fluorescence_summary.csv\n",
      "Producing image channel for GFP with cap 400 in color green\n",
      "Producing image channel for Chl with cap 200 in color red\n",
      "Producing image channel for Diffraction with cap 200 in color blue\n",
      "Saving image to /home/gmobot/data/gmodetector_out/Elements_14//GWAS_CRISPR/CRIB/wk7/CRIB5_I5.0_F1.9_L100LED30_180000_6_0_6_Fluorescence.png\n",
      "Saving image metadata to /home/gmobot/data/gmodetector_out/Elements_14//GWAS_CRISPR/CRIB/wk7/CRIB5_I5.0_F1.9_L100LED30_180000_6_0_6_Fluorescence.csv\n",
      "\n",
      "Finished running sample /media/gmobot/Elements_14/Elements_14//GWAS_CRISPR/CRIB/wk7//CRIB5_I5.0_F1.9_L100LED30_180000_6_0_6_Fluorescence.hdr in 95.21306743565947s\n",
      "\n",
      "Running GMOdetector version 0.0.875\n",
      "load mode isload_full_then_crop\n",
      "Saving to /home/gmobot/data/gmodetector_out/Elements_14//GWAS_CRISPR/CRIB/wk7/CRIB5_I5.0_F1.9_L100LED30_180551_10_1_3_Fluorescence_weights.hdf with key of weights\n",
      "Saving summary stats w/ threshold38.0 to /home/gmobot/data/gmodetector_out/Elements_14//GWAS_CRISPR/CRIB/wk7/CRIB5_I5.0_F1.9_L100LED30_180551_10_1_3_Fluorescence_summary.csv\n",
      "Producing image channel for GFP with cap 400 in color green\n",
      "Producing image channel for Chl with cap 200 in color red\n",
      "Producing image channel for Diffraction with cap 200 in color blue\n",
      "Saving image to /home/gmobot/data/gmodetector_out/Elements_14//GWAS_CRISPR/CRIB/wk7/CRIB5_I5.0_F1.9_L100LED30_180551_10_1_3_Fluorescence.png\n",
      "Saving image metadata to /home/gmobot/data/gmodetector_out/Elements_14//GWAS_CRISPR/CRIB/wk7/CRIB5_I5.0_F1.9_L100LED30_180551_10_1_3_Fluorescence.csv\n",
      "\n",
      "Finished running sample /media/gmobot/Elements_14/Elements_14//GWAS_CRISPR/CRIB/wk7//CRIB5_I5.0_F1.9_L100LED30_180551_10_1_3_Fluorescence.hdr in 152.33414795063436s\n",
      "\n",
      "Running GMOdetector version 0.0.875\n",
      "load mode isload_full_then_crop\n",
      "Saving to /home/gmobot/data/gmodetector_out/Elements_14//GWAS_CRISPR/CRIB/wk7/CRIB5_I5.0_F1.9_L100LED30_180130_7_1_6_Fluorescence_weights.hdf with key of weights\n",
      "Saving summary stats w/ threshold38.0 to /home/gmobot/data/gmodetector_out/Elements_14//GWAS_CRISPR/CRIB/wk7/CRIB5_I5.0_F1.9_L100LED30_180130_7_1_6_Fluorescence_summary.csv\n",
      "Producing image channel for GFP with cap 400 in color green\n",
      "Producing image channel for Chl with cap 200 in color red\n",
      "Producing image channel for Diffraction with cap 200 in color blue\n",
      "Saving image to /home/gmobot/data/gmodetector_out/Elements_14//GWAS_CRISPR/CRIB/wk7/CRIB5_I5.0_F1.9_L100LED30_180130_7_1_6_Fluorescence.png\n",
      "Saving image metadata to /home/gmobot/data/gmodetector_out/Elements_14//GWAS_CRISPR/CRIB/wk7/CRIB5_I5.0_F1.9_L100LED30_180130_7_1_6_Fluorescence.csv\n",
      "\n",
      "Finished running sample /media/gmobot/Elements_14/Elements_14//GWAS_CRISPR/CRIB/wk7//CRIB5_I5.0_F1.9_L100LED30_180130_7_1_6_Fluorescence.hdr in 153.99077433813363s\n",
      "\n",
      "Running GMOdetector version 0.0.875\n",
      "load mode isload_full_then_crop\n",
      "Saving to /home/gmobot/data/gmodetector_out/Elements_14//GWAS_CRISPR/CRIB/wk7/CRIB5_I5.0_F1.9_L100LED30_180421_9_1_4_Fluorescence_weights.hdf with key of weights\n",
      "Saving summary stats w/ threshold38.0 to /home/gmobot/data/gmodetector_out/Elements_14//GWAS_CRISPR/CRIB/wk7/CRIB5_I5.0_F1.9_L100LED30_180421_9_1_4_Fluorescence_summary.csv\n",
      "Producing image channel for GFP with cap 400 in color green\n",
      "Producing image channel for Chl with cap 200 in color red\n",
      "Producing image channel for Diffraction with cap 200 in color blue\n",
      "Saving image to /home/gmobot/data/gmodetector_out/Elements_14//GWAS_CRISPR/CRIB/wk7/CRIB5_I5.0_F1.9_L100LED30_180421_9_1_4_Fluorescence.png\n",
      "Saving image metadata to /home/gmobot/data/gmodetector_out/Elements_14//GWAS_CRISPR/CRIB/wk7/CRIB5_I5.0_F1.9_L100LED30_180421_9_1_4_Fluorescence.csv\n",
      "\n",
      "Finished running sample /media/gmobot/Elements_14/Elements_14//GWAS_CRISPR/CRIB/wk7//CRIB5_I5.0_F1.9_L100LED30_180421_9_1_4_Fluorescence.hdr in 160.93856418225914s\n",
      "\n",
      "Running GMOdetector version 0.0.875\n",
      "load mode isload_full_then_crop\n",
      "Saving to /home/gmobot/data/gmodetector_out/Elements_14//GWAS_CRISPR/CRIB/wk7/CRIB5_I5.0_F1.9_L100LED30_181441_16_2_2_Fluorescence_weights.hdf with key of weights\n",
      "Saving summary stats w/ threshold38.0 to /home/gmobot/data/gmodetector_out/Elements_14//GWAS_CRISPR/CRIB/wk7/CRIB5_I5.0_F1.9_L100LED30_181441_16_2_2_Fluorescence_summary.csv\n",
      "Producing image channel for GFP with cap 400 in color green\n",
      "Producing image channel for Chl with cap 200 in color red\n",
      "Producing image channel for Diffraction with cap 200 in color blue\n",
      "Saving image to /home/gmobot/data/gmodetector_out/Elements_14//GWAS_CRISPR/CRIB/wk7/CRIB5_I5.0_F1.9_L100LED30_181441_16_2_2_Fluorescence.png\n",
      "Saving image metadata to /home/gmobot/data/gmodetector_out/Elements_14//GWAS_CRISPR/CRIB/wk7/CRIB5_I5.0_F1.9_L100LED30_181441_16_2_2_Fluorescence.csv\n",
      "\n",
      "Finished running sample /media/gmobot/Elements_14/Elements_14//GWAS_CRISPR/CRIB/wk7//CRIB5_I5.0_F1.9_L100LED30_181441_16_2_2_Fluorescence.hdr in 163.58842327492312s\n",
      "\n",
      "Running GMOdetector version 0.0.875\n",
      "load mode isload_full_then_crop\n",
      "Saving to /home/gmobot/data/gmodetector_out/Elements_14//GWAS_CRISPR/CRIB/wk7/CRIB5_I5.0_F1.9_L100LED30_181021_13_1_0_Fluorescence_weights.hdf with key of weights\n",
      "Saving summary stats w/ threshold38.0 to /home/gmobot/data/gmodetector_out/Elements_14//GWAS_CRISPR/CRIB/wk7/CRIB5_I5.0_F1.9_L100LED30_181021_13_1_0_Fluorescence_summary.csv\n",
      "Producing image channel for GFP with cap 400 in color green\n",
      "Producing image channel for Chl with cap 200 in color red\n",
      "Producing image channel for Diffraction with cap 200 in color blue\n",
      "Saving image to /home/gmobot/data/gmodetector_out/Elements_14//GWAS_CRISPR/CRIB/wk7/CRIB5_I5.0_F1.9_L100LED30_181021_13_1_0_Fluorescence.png\n",
      "Saving image metadata to /home/gmobot/data/gmodetector_out/Elements_14//GWAS_CRISPR/CRIB/wk7/CRIB5_I5.0_F1.9_L100LED30_181021_13_1_0_Fluorescence.csv\n",
      "\n",
      "Finished running sample /media/gmobot/Elements_14/Elements_14//GWAS_CRISPR/CRIB/wk7//CRIB5_I5.0_F1.9_L100LED30_181021_13_1_0_Fluorescence.hdr in 164.6429992238991s\n",
      "\n",
      "Running GMOdetector version 0.0.875\n",
      "load mode isload_full_then_crop\n",
      "Saving to /home/gmobot/data/gmodetector_out/Elements_14//GWAS_CRISPR/CRIB/wk7/CRIB5_I5.0_F1.9_L100LED30_180851_12_1_1_Fluorescence_weights.hdf with key of weights\n",
      "Saving summary stats w/ threshold38.0 to /home/gmobot/data/gmodetector_out/Elements_14//GWAS_CRISPR/CRIB/wk7/CRIB5_I5.0_F1.9_L100LED30_180851_12_1_1_Fluorescence_summary.csv\n",
      "Producing image channel for GFP with cap 400 in color green\n",
      "Producing image channel for Chl with cap 200 in color red\n",
      "Producing image channel for Diffraction with cap 200 in color blue\n",
      "Saving image to /home/gmobot/data/gmodetector_out/Elements_14//GWAS_CRISPR/CRIB/wk7/CRIB5_I5.0_F1.9_L100LED30_180851_12_1_1_Fluorescence.png\n",
      "Saving image metadata to /home/gmobot/data/gmodetector_out/Elements_14//GWAS_CRISPR/CRIB/wk7/CRIB5_I5.0_F1.9_L100LED30_180851_12_1_1_Fluorescence.csv\n",
      "\n",
      "Finished running sample /media/gmobot/Elements_14/Elements_14//GWAS_CRISPR/CRIB/wk7//CRIB5_I5.0_F1.9_L100LED30_180851_12_1_1_Fluorescence.hdr in 164.79664365621284s\n",
      "\n",
      "Running GMOdetector version 0.0.875\n",
      "load mode isload_full_then_crop\n",
      "Saving to /home/gmobot/data/gmodetector_out/Elements_14//GWAS_CRISPR/CRIB/wk7/CRIB5_I5.0_F1.9_L100LED30_180251_8_1_5_Fluorescence_weights.hdf with key of weights\n",
      "Saving summary stats w/ threshold38.0 to /home/gmobot/data/gmodetector_out/Elements_14//GWAS_CRISPR/CRIB/wk7/CRIB5_I5.0_F1.9_L100LED30_180251_8_1_5_Fluorescence_summary.csv\n",
      "Producing image channel for GFP with cap 400 in color green\n",
      "Producing image channel for Chl with cap 200 in color red\n",
      "Producing image channel for Diffraction with cap 200 in color blue\n",
      "Saving image to /home/gmobot/data/gmodetector_out/Elements_14//GWAS_CRISPR/CRIB/wk7/CRIB5_I5.0_F1.9_L100LED30_180251_8_1_5_Fluorescence.png\n",
      "Saving image metadata to /home/gmobot/data/gmodetector_out/Elements_14//GWAS_CRISPR/CRIB/wk7/CRIB5_I5.0_F1.9_L100LED30_180251_8_1_5_Fluorescence.csv\n",
      "\n",
      "Finished running sample /media/gmobot/Elements_14/Elements_14//GWAS_CRISPR/CRIB/wk7//CRIB5_I5.0_F1.9_L100LED30_180251_8_1_5_Fluorescence.hdr in 164.4236043971032s\n",
      "\n",
      "Running GMOdetector version 0.0.875\n",
      "load mode isload_full_then_crop\n",
      "Saving to /home/gmobot/data/gmodetector_out/Elements_14//GWAS_CRISPR/CRIB/wk7/CRIB5_I5.0_F1.9_L100LED30_181151_14_2_0_Fluorescence_weights.hdf with key of weights\n",
      "Saving summary stats w/ threshold38.0 to /home/gmobot/data/gmodetector_out/Elements_14//GWAS_CRISPR/CRIB/wk7/CRIB5_I5.0_F1.9_L100LED30_181151_14_2_0_Fluorescence_summary.csv\n",
      "Producing image channel for GFP with cap 400 in color green\n",
      "Producing image channel for Chl with cap 200 in color red\n",
      "Producing image channel for Diffraction with cap 200 in color blue\n",
      "Saving image to /home/gmobot/data/gmodetector_out/Elements_14//GWAS_CRISPR/CRIB/wk7/CRIB5_I5.0_F1.9_L100LED30_181151_14_2_0_Fluorescence.png\n",
      "Saving image metadata to /home/gmobot/data/gmodetector_out/Elements_14//GWAS_CRISPR/CRIB/wk7/CRIB5_I5.0_F1.9_L100LED30_181151_14_2_0_Fluorescence.csv\n",
      "\n",
      "Finished running sample /media/gmobot/Elements_14/Elements_14//GWAS_CRISPR/CRIB/wk7//CRIB5_I5.0_F1.9_L100LED30_181151_14_2_0_Fluorescence.hdr in 165.78783953888342s\n",
      "\n",
      "Running GMOdetector version 0.0.875\n",
      "load mode isload_full_then_crop\n",
      "Saving to /home/gmobot/data/gmodetector_out/Elements_14//GWAS_CRISPR/CRIB/wk7/CRIB5_I5.0_F1.9_L100LED30_180721_11_1_2_Fluorescence_weights.hdf with key of weights\n",
      "Saving summary stats w/ threshold38.0 to /home/gmobot/data/gmodetector_out/Elements_14//GWAS_CRISPR/CRIB/wk7/CRIB5_I5.0_F1.9_L100LED30_180721_11_1_2_Fluorescence_summary.csv\n",
      "Producing image channel for GFP with cap 400 in color green\n",
      "Producing image channel for Chl with cap 200 in color red\n",
      "Producing image channel for Diffraction with cap 200 in color blue\n",
      "Saving image to /home/gmobot/data/gmodetector_out/Elements_14//GWAS_CRISPR/CRIB/wk7/CRIB5_I5.0_F1.9_L100LED30_180721_11_1_2_Fluorescence.png\n",
      "Saving image metadata to /home/gmobot/data/gmodetector_out/Elements_14//GWAS_CRISPR/CRIB/wk7/CRIB5_I5.0_F1.9_L100LED30_180721_11_1_2_Fluorescence.csv\n",
      "\n",
      "Finished running sample /media/gmobot/Elements_14/Elements_14//GWAS_CRISPR/CRIB/wk7//CRIB5_I5.0_F1.9_L100LED30_180721_11_1_2_Fluorescence.hdr in 167.3375638979487s\n",
      "\n",
      "Running GMOdetector version 0.0.875\n",
      "load mode isload_full_then_crop\n",
      "Saving to /home/gmobot/data/gmodetector_out/Elements_14//GWAS_CRISPR/CRIB/wk7/CRIB5_I5.0_F1.9_L100LED30_181311_15_2_1_Fluorescence_weights.hdf with key of weights\n",
      "Saving summary stats w/ threshold38.0 to /home/gmobot/data/gmodetector_out/Elements_14//GWAS_CRISPR/CRIB/wk7/CRIB5_I5.0_F1.9_L100LED30_181311_15_2_1_Fluorescence_summary.csv\n",
      "Producing image channel for GFP with cap 400 in color green\n",
      "Producing image channel for Chl with cap 200 in color red\n",
      "Producing image channel for Diffraction with cap 200 in color blue\n",
      "Saving image to /home/gmobot/data/gmodetector_out/Elements_14//GWAS_CRISPR/CRIB/wk7/CRIB5_I5.0_F1.9_L100LED30_181311_15_2_1_Fluorescence.png\n",
      "Saving image metadata to /home/gmobot/data/gmodetector_out/Elements_14//GWAS_CRISPR/CRIB/wk7/CRIB5_I5.0_F1.9_L100LED30_181311_15_2_1_Fluorescence.csv\n",
      "\n",
      "Finished running sample /media/gmobot/Elements_14/Elements_14//GWAS_CRISPR/CRIB/wk7//CRIB5_I5.0_F1.9_L100LED30_181311_15_2_1_Fluorescence.hdr in 167.70484511135146s\n",
      "\n",
      "Running GMOdetector version 0.0.875\n",
      "load mode isload_full_then_crop\n",
      "Saving to /home/gmobot/data/gmodetector_out/Elements_14//GWAS_CRISPR/CRIB/wk7/CRIB5_I5.0_F1.9_L100LED30_181611_17_2_3_Fluorescence_weights.hdf with key of weights\n",
      "Saving summary stats w/ threshold38.0 to /home/gmobot/data/gmodetector_out/Elements_14//GWAS_CRISPR/CRIB/wk7/CRIB5_I5.0_F1.9_L100LED30_181611_17_2_3_Fluorescence_summary.csv\n",
      "Producing image channel for GFP with cap 400 in color green\n",
      "Producing image channel for Chl with cap 200 in color red\n",
      "Producing image channel for Diffraction with cap 200 in color blue\n",
      "Saving image to /home/gmobot/data/gmodetector_out/Elements_14//GWAS_CRISPR/CRIB/wk7/CRIB5_I5.0_F1.9_L100LED30_181611_17_2_3_Fluorescence.png\n",
      "Saving image metadata to /home/gmobot/data/gmodetector_out/Elements_14//GWAS_CRISPR/CRIB/wk7/CRIB5_I5.0_F1.9_L100LED30_181611_17_2_3_Fluorescence.csv\n",
      "\n",
      "Finished running sample /media/gmobot/Elements_14/Elements_14//GWAS_CRISPR/CRIB/wk7//CRIB5_I5.0_F1.9_L100LED30_181611_17_2_3_Fluorescence.hdr in 167.52684730524197s\n",
      "\n",
      "Running GMOdetector version 0.0.875\n",
      "load mode isload_full_then_crop\n",
      "Saving to /home/gmobot/data/gmodetector_out/Elements_14//GWAS_CRISPR/CRIB/wk7/CRIB5_I5.0_F1.9_L100LED30_182041_20_2_6_Fluorescence_weights.hdf with key of weights\n",
      "Saving summary stats w/ threshold38.0 to /home/gmobot/data/gmodetector_out/Elements_14//GWAS_CRISPR/CRIB/wk7/CRIB5_I5.0_F1.9_L100LED30_182041_20_2_6_Fluorescence_summary.csv\n",
      "Producing image channel for GFP with cap 400 in color green\n",
      "Producing image channel for Chl with cap 200 in color red\n",
      "Producing image channel for Diffraction with cap 200 in color blue\n",
      "Saving image to /home/gmobot/data/gmodetector_out/Elements_14//GWAS_CRISPR/CRIB/wk7/CRIB5_I5.0_F1.9_L100LED30_182041_20_2_6_Fluorescence.png\n",
      "Saving image metadata to /home/gmobot/data/gmodetector_out/Elements_14//GWAS_CRISPR/CRIB/wk7/CRIB5_I5.0_F1.9_L100LED30_182041_20_2_6_Fluorescence.csv\n",
      "\n",
      "Finished running sample /media/gmobot/Elements_14/Elements_14//GWAS_CRISPR/CRIB/wk7//CRIB5_I5.0_F1.9_L100LED30_182041_20_2_6_Fluorescence.hdr in 167.155987277627s\n",
      "\n",
      "Running GMOdetector version 0.0.875\n",
      "load mode isload_full_then_crop\n",
      "Saving to /home/gmobot/data/gmodetector_out/Elements_14//GWAS_CRISPR/CRIB/wk7/CRIB5_I5.0_F1.9_L100LED30_181741_18_2_4_Fluorescence_weights.hdf with key of weights\n",
      "Saving summary stats w/ threshold38.0 to /home/gmobot/data/gmodetector_out/Elements_14//GWAS_CRISPR/CRIB/wk7/CRIB5_I5.0_F1.9_L100LED30_181741_18_2_4_Fluorescence_summary.csv\n",
      "Producing image channel for GFP with cap 400 in color green\n",
      "Producing image channel for Chl with cap 200 in color red\n",
      "Producing image channel for Diffraction with cap 200 in color blue\n",
      "Saving image to /home/gmobot/data/gmodetector_out/Elements_14//GWAS_CRISPR/CRIB/wk7/CRIB5_I5.0_F1.9_L100LED30_181741_18_2_4_Fluorescence.png\n",
      "Saving image metadata to /home/gmobot/data/gmodetector_out/Elements_14//GWAS_CRISPR/CRIB/wk7/CRIB5_I5.0_F1.9_L100LED30_181741_18_2_4_Fluorescence.csv\n",
      "\n",
      "Finished running sample /media/gmobot/Elements_14/Elements_14//GWAS_CRISPR/CRIB/wk7//CRIB5_I5.0_F1.9_L100LED30_181741_18_2_4_Fluorescence.hdr in 168.24948087893426s\n",
      "\n",
      "Running GMOdetector version 0.0.875\n",
      "load mode isload_full_then_crop\n",
      "Saving to /home/gmobot/data/gmodetector_out/Elements_14//GWAS_CRISPR/CRIB/wk7/CRIB6_I5.0_F1.9_L100LED30_164746_0_0_0_Fluorescence_weights.hdf with key of weights\n",
      "Saving summary stats w/ threshold38.0 to /home/gmobot/data/gmodetector_out/Elements_14//GWAS_CRISPR/CRIB/wk7/CRIB6_I5.0_F1.9_L100LED30_164746_0_0_0_Fluorescence_summary.csv\n",
      "Producing image channel for GFP with cap 400 in color green\n",
      "Producing image channel for Chl with cap 200 in color red\n",
      "Producing image channel for Diffraction with cap 200 in color blue\n",
      "Saving image to /home/gmobot/data/gmodetector_out/Elements_14//GWAS_CRISPR/CRIB/wk7/CRIB6_I5.0_F1.9_L100LED30_164746_0_0_0_Fluorescence.png\n",
      "Saving image metadata to /home/gmobot/data/gmodetector_out/Elements_14//GWAS_CRISPR/CRIB/wk7/CRIB6_I5.0_F1.9_L100LED30_164746_0_0_0_Fluorescence.csv\n",
      "\n",
      "Finished running sample /media/gmobot/Elements_14/Elements_14//GWAS_CRISPR/CRIB/wk7//CRIB6_I5.0_F1.9_L100LED30_164746_0_0_0_Fluorescence.hdr in 167.7429023971781s\n",
      "\n",
      "Running GMOdetector version 0.0.875\n",
      "load mode isload_full_then_crop\n",
      "Saving to /home/gmobot/data/gmodetector_out/Elements_14//GWAS_CRISPR/CRIB/wk7/CRIB5_I5.0_F1.9_L100LED30_181911_19_2_5_Fluorescence_weights.hdf with key of weights\n",
      "Saving summary stats w/ threshold38.0 to /home/gmobot/data/gmodetector_out/Elements_14//GWAS_CRISPR/CRIB/wk7/CRIB5_I5.0_F1.9_L100LED30_181911_19_2_5_Fluorescence_summary.csv\n",
      "Producing image channel for GFP with cap 400 in color green\n",
      "Producing image channel for Chl with cap 200 in color red\n",
      "Producing image channel for Diffraction with cap 200 in color blue\n",
      "Saving image to /home/gmobot/data/gmodetector_out/Elements_14//GWAS_CRISPR/CRIB/wk7/CRIB5_I5.0_F1.9_L100LED30_181911_19_2_5_Fluorescence.png\n",
      "Saving image metadata to /home/gmobot/data/gmodetector_out/Elements_14//GWAS_CRISPR/CRIB/wk7/CRIB5_I5.0_F1.9_L100LED30_181911_19_2_5_Fluorescence.csv\n",
      "\n",
      "Finished running sample /media/gmobot/Elements_14/Elements_14//GWAS_CRISPR/CRIB/wk7//CRIB5_I5.0_F1.9_L100LED30_181911_19_2_5_Fluorescence.hdr in 168.93622298166156s\n",
      "\n",
      "Running GMOdetector version 0.0.875\n",
      "load mode isload_full_then_crop\n",
      "Saving to /home/gmobot/data/gmodetector_out/Elements_14//GWAS_CRISPR/CRIB/wk7/CRIB6_I5.0_F1.9_L100LED30_164902_1_0_1_Fluorescence_weights.hdf with key of weights\n",
      "Saving summary stats w/ threshold38.0 to /home/gmobot/data/gmodetector_out/Elements_14//GWAS_CRISPR/CRIB/wk7/CRIB6_I5.0_F1.9_L100LED30_164902_1_0_1_Fluorescence_summary.csv\n",
      "Producing image channel for GFP with cap 400 in color green\n",
      "Producing image channel for Chl with cap 200 in color red\n",
      "Producing image channel for Diffraction with cap 200 in color blue\n",
      "Saving image to /home/gmobot/data/gmodetector_out/Elements_14//GWAS_CRISPR/CRIB/wk7/CRIB6_I5.0_F1.9_L100LED30_164902_1_0_1_Fluorescence.png\n",
      "Saving image metadata to /home/gmobot/data/gmodetector_out/Elements_14//GWAS_CRISPR/CRIB/wk7/CRIB6_I5.0_F1.9_L100LED30_164902_1_0_1_Fluorescence.csv\n",
      "\n",
      "Finished running sample /media/gmobot/Elements_14/Elements_14//GWAS_CRISPR/CRIB/wk7//CRIB6_I5.0_F1.9_L100LED30_164902_1_0_1_Fluorescence.hdr in 161.71615489386022s\n",
      "\n",
      "Running GMOdetector version 0.0.875\n",
      "load mode isload_full_then_crop\n",
      "Saving to /home/gmobot/data/gmodetector_out/Elements_14//GWAS_CRISPR/CRIB/wk7/CRIB6_I5.0_F1.9_L100LED30_165032_2_0_2_Fluorescence_weights.hdf with key of weights\n",
      "Saving summary stats w/ threshold38.0 to /home/gmobot/data/gmodetector_out/Elements_14//GWAS_CRISPR/CRIB/wk7/CRIB6_I5.0_F1.9_L100LED30_165032_2_0_2_Fluorescence_summary.csv\n",
      "Producing image channel for GFP with cap 400 in color green\n",
      "Producing image channel for Chl with cap 200 in color red\n",
      "Producing image channel for Diffraction with cap 200 in color blue\n",
      "Saving image to /home/gmobot/data/gmodetector_out/Elements_14//GWAS_CRISPR/CRIB/wk7/CRIB6_I5.0_F1.9_L100LED30_165032_2_0_2_Fluorescence.png\n",
      "Saving image metadata to /home/gmobot/data/gmodetector_out/Elements_14//GWAS_CRISPR/CRIB/wk7/CRIB6_I5.0_F1.9_L100LED30_165032_2_0_2_Fluorescence.csv\n",
      "\n",
      "Finished running sample /media/gmobot/Elements_14/Elements_14//GWAS_CRISPR/CRIB/wk7//CRIB6_I5.0_F1.9_L100LED30_165032_2_0_2_Fluorescence.hdr in 162.36098907096311s\n",
      "\n",
      "Running GMOdetector version 0.0.875\n",
      "load mode isload_full_then_crop\n",
      "Saving to /home/gmobot/data/gmodetector_out/Elements_14//GWAS_CRISPR/CRIB/wk7/CRIB6_I5.0_F1.9_L100LED30_165202_3_0_3_Fluorescence_weights.hdf with key of weights\n",
      "Saving summary stats w/ threshold38.0 to /home/gmobot/data/gmodetector_out/Elements_14//GWAS_CRISPR/CRIB/wk7/CRIB6_I5.0_F1.9_L100LED30_165202_3_0_3_Fluorescence_summary.csv\n",
      "Producing image channel for GFP with cap 400 in color green\n",
      "Producing image channel for Chl with cap 200 in color red\n",
      "Producing image channel for Diffraction with cap 200 in color blue\n",
      "Saving image to /home/gmobot/data/gmodetector_out/Elements_14//GWAS_CRISPR/CRIB/wk7/CRIB6_I5.0_F1.9_L100LED30_165202_3_0_3_Fluorescence.png\n",
      "Saving image metadata to /home/gmobot/data/gmodetector_out/Elements_14//GWAS_CRISPR/CRIB/wk7/CRIB6_I5.0_F1.9_L100LED30_165202_3_0_3_Fluorescence.csv\n",
      "\n",
      "Finished running sample /media/gmobot/Elements_14/Elements_14//GWAS_CRISPR/CRIB/wk7//CRIB6_I5.0_F1.9_L100LED30_165202_3_0_3_Fluorescence.hdr in 290.7698975428939s\n",
      "\n",
      "Running GMOdetector version 0.0.875\n",
      "load mode isload_full_then_crop\n",
      "Saving to /home/gmobot/data/gmodetector_out/Elements_14//GWAS_CRISPR/CRIB/wk7/CRIB6_I5.0_F1.9_L100LED30_165332_4_0_4_Fluorescence_weights.hdf with key of weights\n",
      "Saving summary stats w/ threshold38.0 to /home/gmobot/data/gmodetector_out/Elements_14//GWAS_CRISPR/CRIB/wk7/CRIB6_I5.0_F1.9_L100LED30_165332_4_0_4_Fluorescence_summary.csv\n",
      "Producing image channel for GFP with cap 400 in color green\n",
      "Producing image channel for Chl with cap 200 in color red\n",
      "Producing image channel for Diffraction with cap 200 in color blue\n",
      "Saving image to /home/gmobot/data/gmodetector_out/Elements_14//GWAS_CRISPR/CRIB/wk7/CRIB6_I5.0_F1.9_L100LED30_165332_4_0_4_Fluorescence.png\n",
      "Saving image metadata to /home/gmobot/data/gmodetector_out/Elements_14//GWAS_CRISPR/CRIB/wk7/CRIB6_I5.0_F1.9_L100LED30_165332_4_0_4_Fluorescence.csv\n",
      "\n",
      "Finished running sample /media/gmobot/Elements_14/Elements_14//GWAS_CRISPR/CRIB/wk7//CRIB6_I5.0_F1.9_L100LED30_165332_4_0_4_Fluorescence.hdr in 338.84311642637476s\n",
      "\n",
      "Running GMOdetector version 0.0.875\n",
      "load mode isload_full_then_crop\n",
      "Saving to /home/gmobot/data/gmodetector_out/Elements_14//GWAS_CRISPR/CRIB/wk7/CRIB6_I5.0_F1.9_L100LED30_165502_5_0_5_Fluorescence_weights.hdf with key of weights\n",
      "Saving summary stats w/ threshold38.0 to /home/gmobot/data/gmodetector_out/Elements_14//GWAS_CRISPR/CRIB/wk7/CRIB6_I5.0_F1.9_L100LED30_165502_5_0_5_Fluorescence_summary.csv\n",
      "Producing image channel for GFP with cap 400 in color green\n",
      "Producing image channel for Chl with cap 200 in color red\n",
      "Producing image channel for Diffraction with cap 200 in color blue\n",
      "Saving image to /home/gmobot/data/gmodetector_out/Elements_14//GWAS_CRISPR/CRIB/wk7/CRIB6_I5.0_F1.9_L100LED30_165502_5_0_5_Fluorescence.png\n",
      "Saving image metadata to /home/gmobot/data/gmodetector_out/Elements_14//GWAS_CRISPR/CRIB/wk7/CRIB6_I5.0_F1.9_L100LED30_165502_5_0_5_Fluorescence.csv\n",
      "\n",
      "Finished running sample /media/gmobot/Elements_14/Elements_14//GWAS_CRISPR/CRIB/wk7//CRIB6_I5.0_F1.9_L100LED30_165502_5_0_5_Fluorescence.hdr in 352.29657013714314s\n",
      "\n",
      "Running GMOdetector version 0.0.875\n",
      "load mode isload_full_then_crop\n",
      "Saving to /home/gmobot/data/gmodetector_out/Elements_14//GWAS_CRISPR/CRIB/wk7/CRIB6_I5.0_F1.9_L100LED30_165632_6_0_6_Fluorescence_weights.hdf with key of weights\n",
      "Saving summary stats w/ threshold38.0 to /home/gmobot/data/gmodetector_out/Elements_14//GWAS_CRISPR/CRIB/wk7/CRIB6_I5.0_F1.9_L100LED30_165632_6_0_6_Fluorescence_summary.csv\n",
      "Producing image channel for GFP with cap 400 in color green\n",
      "Producing image channel for Chl with cap 200 in color red\n",
      "Producing image channel for Diffraction with cap 200 in color blue\n",
      "Saving image to /home/gmobot/data/gmodetector_out/Elements_14//GWAS_CRISPR/CRIB/wk7/CRIB6_I5.0_F1.9_L100LED30_165632_6_0_6_Fluorescence.png\n",
      "Saving image metadata to /home/gmobot/data/gmodetector_out/Elements_14//GWAS_CRISPR/CRIB/wk7/CRIB6_I5.0_F1.9_L100LED30_165632_6_0_6_Fluorescence.csv\n",
      "\n",
      "Finished running sample /media/gmobot/Elements_14/Elements_14//GWAS_CRISPR/CRIB/wk7//CRIB6_I5.0_F1.9_L100LED30_165632_6_0_6_Fluorescence.hdr in 348.9000161839649s\n",
      "\n",
      "Running GMOdetector version 0.0.875\n",
      "load mode isload_full_then_crop\n",
      "Saving to /home/gmobot/data/gmodetector_out/Elements_14//GWAS_CRISPR/CRIB/wk7/CRIB6_I5.0_F1.9_L100LED30_165802_7_1_6_Fluorescence_weights.hdf with key of weights\n",
      "Saving summary stats w/ threshold38.0 to /home/gmobot/data/gmodetector_out/Elements_14//GWAS_CRISPR/CRIB/wk7/CRIB6_I5.0_F1.9_L100LED30_165802_7_1_6_Fluorescence_summary.csv\n",
      "Producing image channel for GFP with cap 400 in color green\n",
      "Producing image channel for Chl with cap 200 in color red\n",
      "Producing image channel for Diffraction with cap 200 in color blue\n",
      "Saving image to /home/gmobot/data/gmodetector_out/Elements_14//GWAS_CRISPR/CRIB/wk7/CRIB6_I5.0_F1.9_L100LED30_165802_7_1_6_Fluorescence.png\n",
      "Saving image metadata to /home/gmobot/data/gmodetector_out/Elements_14//GWAS_CRISPR/CRIB/wk7/CRIB6_I5.0_F1.9_L100LED30_165802_7_1_6_Fluorescence.csv\n",
      "\n",
      "Finished running sample /media/gmobot/Elements_14/Elements_14//GWAS_CRISPR/CRIB/wk7//CRIB6_I5.0_F1.9_L100LED30_165802_7_1_6_Fluorescence.hdr in 331.09254588279873s\n",
      "\n",
      "Running GMOdetector version 0.0.875\n",
      "load mode isload_full_then_crop\n",
      "Saving to /home/gmobot/data/gmodetector_out/Elements_14//GWAS_CRISPR/CRIB/wk7/CRIB6_I5.0_F1.9_L100LED30_165923_8_1_5_Fluorescence_weights.hdf with key of weights\n",
      "Saving summary stats w/ threshold38.0 to /home/gmobot/data/gmodetector_out/Elements_14//GWAS_CRISPR/CRIB/wk7/CRIB6_I5.0_F1.9_L100LED30_165923_8_1_5_Fluorescence_summary.csv\n",
      "Producing image channel for GFP with cap 400 in color green\n",
      "Producing image channel for Chl with cap 200 in color red\n",
      "Producing image channel for Diffraction with cap 200 in color blue\n",
      "Saving image to /home/gmobot/data/gmodetector_out/Elements_14//GWAS_CRISPR/CRIB/wk7/CRIB6_I5.0_F1.9_L100LED30_165923_8_1_5_Fluorescence.png\n",
      "Saving image metadata to /home/gmobot/data/gmodetector_out/Elements_14//GWAS_CRISPR/CRIB/wk7/CRIB6_I5.0_F1.9_L100LED30_165923_8_1_5_Fluorescence.csv\n",
      "\n",
      "Finished running sample /media/gmobot/Elements_14/Elements_14//GWAS_CRISPR/CRIB/wk7//CRIB6_I5.0_F1.9_L100LED30_165923_8_1_5_Fluorescence.hdr in 328.6495617176406s\n",
      "\n",
      "Running GMOdetector version 0.0.875\n",
      "load mode isload_full_then_crop\n",
      "Saving to /home/gmobot/data/gmodetector_out/Elements_14//GWAS_CRISPR/CRIB/wk7/CRIB6_I5.0_F1.9_L100LED30_170053_9_1_4_Fluorescence_weights.hdf with key of weights\n",
      "Saving summary stats w/ threshold38.0 to /home/gmobot/data/gmodetector_out/Elements_14//GWAS_CRISPR/CRIB/wk7/CRIB6_I5.0_F1.9_L100LED30_170053_9_1_4_Fluorescence_summary.csv\n",
      "Producing image channel for GFP with cap 400 in color green\n",
      "Producing image channel for Chl with cap 200 in color red\n",
      "Producing image channel for Diffraction with cap 200 in color blue\n",
      "Saving image to /home/gmobot/data/gmodetector_out/Elements_14//GWAS_CRISPR/CRIB/wk7/CRIB6_I5.0_F1.9_L100LED30_170053_9_1_4_Fluorescence.png\n",
      "Saving image metadata to /home/gmobot/data/gmodetector_out/Elements_14//GWAS_CRISPR/CRIB/wk7/CRIB6_I5.0_F1.9_L100LED30_170053_9_1_4_Fluorescence.csv\n",
      "\n",
      "Finished running sample /media/gmobot/Elements_14/Elements_14//GWAS_CRISPR/CRIB/wk7//CRIB6_I5.0_F1.9_L100LED30_170053_9_1_4_Fluorescence.hdr in 320.1061478811316s\n",
      "\n",
      "Running GMOdetector version 0.0.875\n",
      "load mode isload_full_then_crop\n",
      "Saving to /home/gmobot/data/gmodetector_out/Elements_14//GWAS_CRISPR/CRIB/wk7/CRIB6_I5.0_F1.9_L100LED30_170223_10_1_3_Fluorescence_weights.hdf with key of weights\n",
      "Saving summary stats w/ threshold38.0 to /home/gmobot/data/gmodetector_out/Elements_14//GWAS_CRISPR/CRIB/wk7/CRIB6_I5.0_F1.9_L100LED30_170223_10_1_3_Fluorescence_summary.csv\n",
      "Producing image channel for GFP with cap 400 in color green\n",
      "Producing image channel for Chl with cap 200 in color red\n",
      "Producing image channel for Diffraction with cap 200 in color blue\n",
      "Saving image to /home/gmobot/data/gmodetector_out/Elements_14//GWAS_CRISPR/CRIB/wk7/CRIB6_I5.0_F1.9_L100LED30_170223_10_1_3_Fluorescence.png\n",
      "Saving image metadata to /home/gmobot/data/gmodetector_out/Elements_14//GWAS_CRISPR/CRIB/wk7/CRIB6_I5.0_F1.9_L100LED30_170223_10_1_3_Fluorescence.csv\n",
      "\n",
      "Finished running sample /media/gmobot/Elements_14/Elements_14//GWAS_CRISPR/CRIB/wk7//CRIB6_I5.0_F1.9_L100LED30_170223_10_1_3_Fluorescence.hdr in 297.7527599101886s\n",
      "\n",
      "Running GMOdetector version 0.0.875\n",
      "load mode isload_full_then_crop\n",
      "Saving to /home/gmobot/data/gmodetector_out/Elements_14//GWAS_CRISPR/CRIB/wk7/CRIB6_I5.0_F1.9_L100LED30_170353_11_1_2_Fluorescence_weights.hdf with key of weights\n",
      "Saving summary stats w/ threshold38.0 to /home/gmobot/data/gmodetector_out/Elements_14//GWAS_CRISPR/CRIB/wk7/CRIB6_I5.0_F1.9_L100LED30_170353_11_1_2_Fluorescence_summary.csv\n",
      "Producing image channel for GFP with cap 400 in color green\n",
      "Producing image channel for Chl with cap 200 in color red\n",
      "Producing image channel for Diffraction with cap 200 in color blue\n",
      "Saving image to /home/gmobot/data/gmodetector_out/Elements_14//GWAS_CRISPR/CRIB/wk7/CRIB6_I5.0_F1.9_L100LED30_170353_11_1_2_Fluorescence.png\n",
      "Saving image metadata to /home/gmobot/data/gmodetector_out/Elements_14//GWAS_CRISPR/CRIB/wk7/CRIB6_I5.0_F1.9_L100LED30_170353_11_1_2_Fluorescence.csv\n",
      "\n",
      "Finished running sample /media/gmobot/Elements_14/Elements_14//GWAS_CRISPR/CRIB/wk7//CRIB6_I5.0_F1.9_L100LED30_170353_11_1_2_Fluorescence.hdr in 300.38559588510543s\n",
      "\n",
      "Running GMOdetector version 0.0.875\n",
      "load mode isload_full_then_crop\n",
      "Saving to /home/gmobot/data/gmodetector_out/Elements_14//GWAS_CRISPR/CRIB/wk7/CRIB6_I5.0_F1.9_L100LED30_170522_12_1_1_Fluorescence_weights.hdf with key of weights\n",
      "Saving summary stats w/ threshold38.0 to /home/gmobot/data/gmodetector_out/Elements_14//GWAS_CRISPR/CRIB/wk7/CRIB6_I5.0_F1.9_L100LED30_170522_12_1_1_Fluorescence_summary.csv\n",
      "Producing image channel for GFP with cap 400 in color green\n",
      "Producing image channel for Chl with cap 200 in color red\n",
      "Producing image channel for Diffraction with cap 200 in color blue\n",
      "Saving image to /home/gmobot/data/gmodetector_out/Elements_14//GWAS_CRISPR/CRIB/wk7/CRIB6_I5.0_F1.9_L100LED30_170522_12_1_1_Fluorescence.png\n",
      "Saving image metadata to /home/gmobot/data/gmodetector_out/Elements_14//GWAS_CRISPR/CRIB/wk7/CRIB6_I5.0_F1.9_L100LED30_170522_12_1_1_Fluorescence.csv\n",
      "\n",
      "Finished running sample /media/gmobot/Elements_14/Elements_14//GWAS_CRISPR/CRIB/wk7//CRIB6_I5.0_F1.9_L100LED30_170522_12_1_1_Fluorescence.hdr in 305.72663919767365s\n",
      "\n",
      "Running GMOdetector version 0.0.875\n",
      "load mode isload_full_then_crop\n",
      "Saving to /home/gmobot/data/gmodetector_out/Elements_14//GWAS_CRISPR/CRIB/wk7/CRIB6_I5.0_F1.9_L100LED30_170943_15_2_1_Fluorescence_weights.hdf with key of weights\n",
      "Saving summary stats w/ threshold38.0 to /home/gmobot/data/gmodetector_out/Elements_14//GWAS_CRISPR/CRIB/wk7/CRIB6_I5.0_F1.9_L100LED30_170943_15_2_1_Fluorescence_summary.csv\n",
      "Producing image channel for GFP with cap 400 in color green\n",
      "Producing image channel for Chl with cap 200 in color red\n",
      "Producing image channel for Diffraction with cap 200 in color blue\n",
      "Saving image to /home/gmobot/data/gmodetector_out/Elements_14//GWAS_CRISPR/CRIB/wk7/CRIB6_I5.0_F1.9_L100LED30_170943_15_2_1_Fluorescence.png\n",
      "Saving image metadata to /home/gmobot/data/gmodetector_out/Elements_14//GWAS_CRISPR/CRIB/wk7/CRIB6_I5.0_F1.9_L100LED30_170943_15_2_1_Fluorescence.csv\n",
      "\n",
      "Finished running sample /media/gmobot/Elements_14/Elements_14//GWAS_CRISPR/CRIB/wk7//CRIB6_I5.0_F1.9_L100LED30_170943_15_2_1_Fluorescence.hdr in 315.6596754277125s\n",
      "\n",
      "Running GMOdetector version 0.0.875\n",
      "load mode isload_full_then_crop\n",
      "Saving to /home/gmobot/data/gmodetector_out/Elements_14//GWAS_CRISPR/CRIB/wk7/CRIB6_I5.0_F1.9_L100LED30_170652_13_1_0_Fluorescence_weights.hdf with key of weights\n",
      "Saving summary stats w/ threshold38.0 to /home/gmobot/data/gmodetector_out/Elements_14//GWAS_CRISPR/CRIB/wk7/CRIB6_I5.0_F1.9_L100LED30_170652_13_1_0_Fluorescence_summary.csv\n",
      "Producing image channel for GFP with cap 400 in color green\n",
      "Producing image channel for Chl with cap 200 in color red\n",
      "Producing image channel for Diffraction with cap 200 in color blue\n",
      "Saving image to /home/gmobot/data/gmodetector_out/Elements_14//GWAS_CRISPR/CRIB/wk7/CRIB6_I5.0_F1.9_L100LED30_170652_13_1_0_Fluorescence.png\n",
      "Saving image metadata to /home/gmobot/data/gmodetector_out/Elements_14//GWAS_CRISPR/CRIB/wk7/CRIB6_I5.0_F1.9_L100LED30_170652_13_1_0_Fluorescence.csv\n",
      "\n",
      "Finished running sample /media/gmobot/Elements_14/Elements_14//GWAS_CRISPR/CRIB/wk7//CRIB6_I5.0_F1.9_L100LED30_170652_13_1_0_Fluorescence.hdr in 321.1368884430267s\n",
      "\n",
      "Running GMOdetector version 0.0.875\n",
      "load mode isload_full_then_crop\n",
      "Saving to /home/gmobot/data/gmodetector_out/Elements_14//GWAS_CRISPR/CRIB/wk7/CRIB6_I5.0_F1.9_L100LED30_170823_14_2_0_Fluorescence_weights.hdf with key of weights\n",
      "Saving summary stats w/ threshold38.0 to /home/gmobot/data/gmodetector_out/Elements_14//GWAS_CRISPR/CRIB/wk7/CRIB6_I5.0_F1.9_L100LED30_170823_14_2_0_Fluorescence_summary.csv\n",
      "Producing image channel for GFP with cap 400 in color green\n",
      "Producing image channel for Chl with cap 200 in color red\n",
      "Producing image channel for Diffraction with cap 200 in color blue\n",
      "Saving image to /home/gmobot/data/gmodetector_out/Elements_14//GWAS_CRISPR/CRIB/wk7/CRIB6_I5.0_F1.9_L100LED30_170823_14_2_0_Fluorescence.png\n",
      "Saving image metadata to /home/gmobot/data/gmodetector_out/Elements_14//GWAS_CRISPR/CRIB/wk7/CRIB6_I5.0_F1.9_L100LED30_170823_14_2_0_Fluorescence.csv\n",
      "\n",
      "Finished running sample /media/gmobot/Elements_14/Elements_14//GWAS_CRISPR/CRIB/wk7//CRIB6_I5.0_F1.9_L100LED30_170823_14_2_0_Fluorescence.hdr in 320.9020174932666s\n",
      "\n",
      "Running GMOdetector version 0.0.875\n",
      "load mode isload_full_then_crop\n",
      "Saving to /home/gmobot/data/gmodetector_out/Elements_14//GWAS_CRISPR/CRIB/wk7/CRIB6_I5.0_F1.9_L100LED30_171113_16_2_2_Fluorescence_weights.hdf with key of weights\n",
      "Saving summary stats w/ threshold38.0 to /home/gmobot/data/gmodetector_out/Elements_14//GWAS_CRISPR/CRIB/wk7/CRIB6_I5.0_F1.9_L100LED30_171113_16_2_2_Fluorescence_summary.csv\n",
      "Producing image channel for GFP with cap 400 in color green\n",
      "Producing image channel for Chl with cap 200 in color red\n",
      "Producing image channel for Diffraction with cap 200 in color blue\n",
      "Saving image to /home/gmobot/data/gmodetector_out/Elements_14//GWAS_CRISPR/CRIB/wk7/CRIB6_I5.0_F1.9_L100LED30_171113_16_2_2_Fluorescence.png\n",
      "Saving image metadata to /home/gmobot/data/gmodetector_out/Elements_14//GWAS_CRISPR/CRIB/wk7/CRIB6_I5.0_F1.9_L100LED30_171113_16_2_2_Fluorescence.csv\n",
      "\n",
      "Finished running sample /media/gmobot/Elements_14/Elements_14//GWAS_CRISPR/CRIB/wk7//CRIB6_I5.0_F1.9_L100LED30_171113_16_2_2_Fluorescence.hdr in 326.3410510821268s\n",
      "\n",
      "Running GMOdetector version 0.0.875\n",
      "load mode isload_full_then_crop\n",
      "Saving to /home/gmobot/data/gmodetector_out/Elements_14//GWAS_CRISPR/CRIB/wk7/CRIB7_I5.0_F1.9_L100LED30_162302_0_0_0_Fluorescence_weights.hdf with key of weights\n",
      "Saving summary stats w/ threshold38.0 to /home/gmobot/data/gmodetector_out/Elements_14//GWAS_CRISPR/CRIB/wk7/CRIB7_I5.0_F1.9_L100LED30_162302_0_0_0_Fluorescence_summary.csv\n",
      "Producing image channel for GFP with cap 400 in color green\n",
      "Producing image channel for Chl with cap 200 in color red\n",
      "Producing image channel for Diffraction with cap 200 in color blue\n",
      "Saving image to /home/gmobot/data/gmodetector_out/Elements_14//GWAS_CRISPR/CRIB/wk7/CRIB7_I5.0_F1.9_L100LED30_162302_0_0_0_Fluorescence.png\n",
      "Saving image metadata to /home/gmobot/data/gmodetector_out/Elements_14//GWAS_CRISPR/CRIB/wk7/CRIB7_I5.0_F1.9_L100LED30_162302_0_0_0_Fluorescence.csv\n",
      "\n",
      "Finished running sample /media/gmobot/Elements_14/Elements_14//GWAS_CRISPR/CRIB/wk7//CRIB7_I5.0_F1.9_L100LED30_162302_0_0_0_Fluorescence.hdr in 324.03598313592374s\n",
      "\n",
      "Running GMOdetector version 0.0.875\n",
      "load mode isload_full_then_crop\n",
      "Saving to /home/gmobot/data/gmodetector_out/Elements_14//GWAS_CRISPR/CRIB/wk7/CRIB6_I5.0_F1.9_L100LED30_171243_17_2_3_Fluorescence_weights.hdf with key of weights\n",
      "Saving summary stats w/ threshold38.0 to /home/gmobot/data/gmodetector_out/Elements_14//GWAS_CRISPR/CRIB/wk7/CRIB6_I5.0_F1.9_L100LED30_171243_17_2_3_Fluorescence_summary.csv\n",
      "Producing image channel for GFP with cap 400 in color green\n",
      "Producing image channel for Chl with cap 200 in color red\n",
      "Producing image channel for Diffraction with cap 200 in color blue\n",
      "Saving image to /home/gmobot/data/gmodetector_out/Elements_14//GWAS_CRISPR/CRIB/wk7/CRIB6_I5.0_F1.9_L100LED30_171243_17_2_3_Fluorescence.png\n",
      "Saving image metadata to /home/gmobot/data/gmodetector_out/Elements_14//GWAS_CRISPR/CRIB/wk7/CRIB6_I5.0_F1.9_L100LED30_171243_17_2_3_Fluorescence.csv\n",
      "\n",
      "Finished running sample /media/gmobot/Elements_14/Elements_14//GWAS_CRISPR/CRIB/wk7//CRIB6_I5.0_F1.9_L100LED30_171243_17_2_3_Fluorescence.hdr in 325.47819090168923s\n",
      "\n",
      "Running GMOdetector version 0.0.875\n",
      "load mode isload_full_then_crop\n",
      "Saving to /home/gmobot/data/gmodetector_out/Elements_14//GWAS_CRISPR/CRIB/wk7/CRIB6_I5.0_F1.9_L100LED30_171413_18_2_4_Fluorescence_weights.hdf with key of weights\n",
      "Saving summary stats w/ threshold38.0 to /home/gmobot/data/gmodetector_out/Elements_14//GWAS_CRISPR/CRIB/wk7/CRIB6_I5.0_F1.9_L100LED30_171413_18_2_4_Fluorescence_summary.csv\n",
      "Producing image channel for GFP with cap 400 in color green\n",
      "Producing image channel for Chl with cap 200 in color red\n",
      "Producing image channel for Diffraction with cap 200 in color blue\n",
      "Saving image to /home/gmobot/data/gmodetector_out/Elements_14//GWAS_CRISPR/CRIB/wk7/CRIB6_I5.0_F1.9_L100LED30_171413_18_2_4_Fluorescence.png\n",
      "Saving image metadata to /home/gmobot/data/gmodetector_out/Elements_14//GWAS_CRISPR/CRIB/wk7/CRIB6_I5.0_F1.9_L100LED30_171413_18_2_4_Fluorescence.csv\n",
      "\n",
      "Finished running sample /media/gmobot/Elements_14/Elements_14//GWAS_CRISPR/CRIB/wk7//CRIB6_I5.0_F1.9_L100LED30_171413_18_2_4_Fluorescence.hdr in 324.64397808304057s\n",
      "\n",
      "Running GMOdetector version 0.0.875\n",
      "load mode isload_full_then_crop\n",
      "Saving to /home/gmobot/data/gmodetector_out/Elements_14//GWAS_CRISPR/CRIB/wk7/CRIB7_I5.0_F1.9_L100LED30_163017_5_0_5_Fluorescence_weights.hdf with key of weights\n",
      "Saving summary stats w/ threshold38.0 to /home/gmobot/data/gmodetector_out/Elements_14//GWAS_CRISPR/CRIB/wk7/CRIB7_I5.0_F1.9_L100LED30_163017_5_0_5_Fluorescence_summary.csv\n",
      "Producing image channel for GFP with cap 400 in color green\n",
      "Producing image channel for Chl with cap 200 in color red\n",
      "Producing image channel for Diffraction with cap 200 in color blue\n",
      "Saving image to /home/gmobot/data/gmodetector_out/Elements_14//GWAS_CRISPR/CRIB/wk7/CRIB7_I5.0_F1.9_L100LED30_163017_5_0_5_Fluorescence.png\n",
      "Saving image metadata to /home/gmobot/data/gmodetector_out/Elements_14//GWAS_CRISPR/CRIB/wk7/CRIB7_I5.0_F1.9_L100LED30_163017_5_0_5_Fluorescence.csv\n",
      "\n",
      "Finished running sample /media/gmobot/Elements_14/Elements_14//GWAS_CRISPR/CRIB/wk7//CRIB7_I5.0_F1.9_L100LED30_163017_5_0_5_Fluorescence.hdr in 322.3674191008322s\n",
      "\n",
      "Running GMOdetector version 0.0.875\n",
      "load mode isload_full_then_crop\n",
      "Saving to /home/gmobot/data/gmodetector_out/Elements_14//GWAS_CRISPR/CRIB/wk7/CRIB7_I5.0_F1.9_L100LED30_162417_1_0_1_Fluorescence_weights.hdf with key of weights\n",
      "Saving summary stats w/ threshold38.0 to /home/gmobot/data/gmodetector_out/Elements_14//GWAS_CRISPR/CRIB/wk7/CRIB7_I5.0_F1.9_L100LED30_162417_1_0_1_Fluorescence_summary.csv\n",
      "Producing image channel for GFP with cap 400 in color green\n",
      "Producing image channel for Chl with cap 200 in color red\n",
      "Producing image channel for Diffraction with cap 200 in color blue\n",
      "Saving image to /home/gmobot/data/gmodetector_out/Elements_14//GWAS_CRISPR/CRIB/wk7/CRIB7_I5.0_F1.9_L100LED30_162417_1_0_1_Fluorescence.png\n",
      "Saving image metadata to /home/gmobot/data/gmodetector_out/Elements_14//GWAS_CRISPR/CRIB/wk7/CRIB7_I5.0_F1.9_L100LED30_162417_1_0_1_Fluorescence.csv\n",
      "\n",
      "Finished running sample /media/gmobot/Elements_14/Elements_14//GWAS_CRISPR/CRIB/wk7//CRIB7_I5.0_F1.9_L100LED30_162417_1_0_1_Fluorescence.hdr in 324.0093174437061s\n",
      "\n",
      "Running GMOdetector version 0.0.875\n",
      "load mode isload_full_then_crop\n",
      "Saving to /home/gmobot/data/gmodetector_out/Elements_14//GWAS_CRISPR/CRIB/wk7/CRIB6_I5.0_F1.9_L100LED30_171714_20_2_6_Fluorescence_weights.hdf with key of weights\n",
      "Saving summary stats w/ threshold38.0 to /home/gmobot/data/gmodetector_out/Elements_14//GWAS_CRISPR/CRIB/wk7/CRIB6_I5.0_F1.9_L100LED30_171714_20_2_6_Fluorescence_summary.csv\n",
      "Producing image channel for GFP with cap 400 in color green\n",
      "Producing image channel for Chl with cap 200 in color red\n",
      "Producing image channel for Diffraction with cap 200 in color blue\n",
      "Saving image to /home/gmobot/data/gmodetector_out/Elements_14//GWAS_CRISPR/CRIB/wk7/CRIB6_I5.0_F1.9_L100LED30_171714_20_2_6_Fluorescence.png\n",
      "Saving image metadata to /home/gmobot/data/gmodetector_out/Elements_14//GWAS_CRISPR/CRIB/wk7/CRIB6_I5.0_F1.9_L100LED30_171714_20_2_6_Fluorescence.csv\n",
      "\n",
      "Finished running sample /media/gmobot/Elements_14/Elements_14//GWAS_CRISPR/CRIB/wk7//CRIB6_I5.0_F1.9_L100LED30_171714_20_2_6_Fluorescence.hdr in 324.71782321389765s\n",
      "\n",
      "Running GMOdetector version 0.0.875\n",
      "load mode isload_full_then_crop\n",
      "Saving to /home/gmobot/data/gmodetector_out/Elements_14//GWAS_CRISPR/CRIB/wk7/CRIB6_I5.0_F1.9_L100LED30_171544_19_2_5_Fluorescence_weights.hdf with key of weights\n",
      "Saving summary stats w/ threshold38.0 to /home/gmobot/data/gmodetector_out/Elements_14//GWAS_CRISPR/CRIB/wk7/CRIB6_I5.0_F1.9_L100LED30_171544_19_2_5_Fluorescence_summary.csv\n",
      "Producing image channel for GFP with cap 400 in color green\n",
      "Producing image channel for Chl with cap 200 in color red\n",
      "Producing image channel for Diffraction with cap 200 in color blue\n",
      "Saving image to /home/gmobot/data/gmodetector_out/Elements_14//GWAS_CRISPR/CRIB/wk7/CRIB6_I5.0_F1.9_L100LED30_171544_19_2_5_Fluorescence.png\n",
      "Saving image metadata to /home/gmobot/data/gmodetector_out/Elements_14//GWAS_CRISPR/CRIB/wk7/CRIB6_I5.0_F1.9_L100LED30_171544_19_2_5_Fluorescence.csv\n",
      "\n",
      "Finished running sample /media/gmobot/Elements_14/Elements_14//GWAS_CRISPR/CRIB/wk7//CRIB6_I5.0_F1.9_L100LED30_171544_19_2_5_Fluorescence.hdr in 324.7750430898741s\n",
      "\n",
      "Running GMOdetector version 0.0.875\n",
      "load mode isload_full_then_crop\n",
      "Saving to /home/gmobot/data/gmodetector_out/Elements_14//GWAS_CRISPR/CRIB/wk7/CRIB7_I5.0_F1.9_L100LED30_162717_3_0_3_Fluorescence_weights.hdf with key of weights\n",
      "Saving summary stats w/ threshold38.0 to /home/gmobot/data/gmodetector_out/Elements_14//GWAS_CRISPR/CRIB/wk7/CRIB7_I5.0_F1.9_L100LED30_162717_3_0_3_Fluorescence_summary.csv\n",
      "Producing image channel for GFP with cap 400 in color green\n",
      "Producing image channel for Chl with cap 200 in color red\n",
      "Producing image channel for Diffraction with cap 200 in color blue\n",
      "Saving image to /home/gmobot/data/gmodetector_out/Elements_14//GWAS_CRISPR/CRIB/wk7/CRIB7_I5.0_F1.9_L100LED30_162717_3_0_3_Fluorescence.png\n",
      "Saving image metadata to /home/gmobot/data/gmodetector_out/Elements_14//GWAS_CRISPR/CRIB/wk7/CRIB7_I5.0_F1.9_L100LED30_162717_3_0_3_Fluorescence.csv\n",
      "\n",
      "Finished running sample /media/gmobot/Elements_14/Elements_14//GWAS_CRISPR/CRIB/wk7//CRIB7_I5.0_F1.9_L100LED30_162717_3_0_3_Fluorescence.hdr in 323.76367793092504s\n",
      "\n",
      "Running GMOdetector version 0.0.875\n",
      "load mode isload_full_then_crop\n",
      "Saving to /home/gmobot/data/gmodetector_out/Elements_14//GWAS_CRISPR/CRIB/wk7/CRIB7_I5.0_F1.9_L100LED30_162547_2_0_2_Fluorescence_weights.hdf with key of weights\n",
      "Saving summary stats w/ threshold38.0 to /home/gmobot/data/gmodetector_out/Elements_14//GWAS_CRISPR/CRIB/wk7/CRIB7_I5.0_F1.9_L100LED30_162547_2_0_2_Fluorescence_summary.csv\n",
      "Producing image channel for GFP with cap 400 in color green\n",
      "Producing image channel for Chl with cap 200 in color red\n",
      "Producing image channel for Diffraction with cap 200 in color blue\n",
      "Saving image to /home/gmobot/data/gmodetector_out/Elements_14//GWAS_CRISPR/CRIB/wk7/CRIB7_I5.0_F1.9_L100LED30_162547_2_0_2_Fluorescence.png\n",
      "Saving image metadata to /home/gmobot/data/gmodetector_out/Elements_14//GWAS_CRISPR/CRIB/wk7/CRIB7_I5.0_F1.9_L100LED30_162547_2_0_2_Fluorescence.csv\n",
      "\n",
      "Finished running sample /media/gmobot/Elements_14/Elements_14//GWAS_CRISPR/CRIB/wk7//CRIB7_I5.0_F1.9_L100LED30_162547_2_0_2_Fluorescence.hdr in 324.420981308911s\n",
      "\n",
      "Running GMOdetector version 0.0.875\n",
      "load mode isload_full_then_crop\n",
      "Saving to /home/gmobot/data/gmodetector_out/Elements_14//GWAS_CRISPR/CRIB/wk7/CRIB7_I5.0_F1.9_L100LED30_162847_4_0_4_Fluorescence_weights.hdf with key of weights\n",
      "Saving summary stats w/ threshold38.0 to /home/gmobot/data/gmodetector_out/Elements_14//GWAS_CRISPR/CRIB/wk7/CRIB7_I5.0_F1.9_L100LED30_162847_4_0_4_Fluorescence_summary.csv\n",
      "Producing image channel for GFP with cap 400 in color green\n",
      "Producing image channel for Chl with cap 200 in color red\n",
      "Producing image channel for Diffraction with cap 200 in color blue\n",
      "Saving image to /home/gmobot/data/gmodetector_out/Elements_14//GWAS_CRISPR/CRIB/wk7/CRIB7_I5.0_F1.9_L100LED30_162847_4_0_4_Fluorescence.png\n",
      "Saving image metadata to /home/gmobot/data/gmodetector_out/Elements_14//GWAS_CRISPR/CRIB/wk7/CRIB7_I5.0_F1.9_L100LED30_162847_4_0_4_Fluorescence.csv\n",
      "\n",
      "Finished running sample /media/gmobot/Elements_14/Elements_14//GWAS_CRISPR/CRIB/wk7//CRIB7_I5.0_F1.9_L100LED30_162847_4_0_4_Fluorescence.hdr in 323.7164669879712s\n",
      "\n",
      "Running GMOdetector version 0.0.875\n",
      "load mode isload_full_then_crop\n",
      "Saving to /home/gmobot/data/gmodetector_out/Elements_14//GWAS_CRISPR/CRIB/wk7/CRIB7_I5.0_F1.9_L100LED30_163147_6_0_6_Fluorescence_weights.hdf with key of weights\n",
      "Saving summary stats w/ threshold38.0 to /home/gmobot/data/gmodetector_out/Elements_14//GWAS_CRISPR/CRIB/wk7/CRIB7_I5.0_F1.9_L100LED30_163147_6_0_6_Fluorescence_summary.csv\n",
      "Producing image channel for GFP with cap 400 in color green\n",
      "Producing image channel for Chl with cap 200 in color red\n",
      "Producing image channel for Diffraction with cap 200 in color blue\n",
      "Saving image to /home/gmobot/data/gmodetector_out/Elements_14//GWAS_CRISPR/CRIB/wk7/CRIB7_I5.0_F1.9_L100LED30_163147_6_0_6_Fluorescence.png\n",
      "Saving image metadata to /home/gmobot/data/gmodetector_out/Elements_14//GWAS_CRISPR/CRIB/wk7/CRIB7_I5.0_F1.9_L100LED30_163147_6_0_6_Fluorescence.csv\n",
      "\n",
      "Finished running sample /media/gmobot/Elements_14/Elements_14//GWAS_CRISPR/CRIB/wk7//CRIB7_I5.0_F1.9_L100LED30_163147_6_0_6_Fluorescence.hdr in 194.68605143483728s\n",
      "\n",
      "\u001b[?2004h(base) nvironment) \u001b[?2004l\u001b[?2004l\u001b[?2004l\u001b[?2004l\u001b[?2004l\u001b[?2004l\u001b[?2004l\u001b[?2004l"
     ]
    },
    {
     "ename": "",
     "evalue": "1",
     "output_type": "error",
     "traceback": []
    }
   ],
   "source": [
    "conda activate test-environment\n",
    "\n",
    "if [ $parallel -eq 1 ]\n",
    "then\n",
    "    parallel -a $job_list_name\n",
    "fi\n",
    "\n",
    "if [ $parallel -eq 0 ]\n",
    "then\n",
    "    bash $job_list_name\n",
    "fi\n",
    "\n",
    "conda deactivate\n",
    "conda deactivate"
   ]
  },
  {
   "cell_type": "markdown",
   "metadata": {},
   "source": [
    "Time regression completes:"
   ]
  },
  {
   "cell_type": "code",
   "execution_count": 40,
   "metadata": {},
   "outputs": [
    {
     "name": "stdout",
     "output_type": "stream",
     "text": [
      "Wed Jun 8 06:12:21 PM PDT 2022\n",
      "\u001b[?2004h"
     ]
    },
    {
     "ename": "",
     "evalue": "1",
     "output_type": "error",
     "traceback": []
    }
   ],
   "source": [
    "echo $(date)"
   ]
  },
  {
   "cell_type": "markdown",
   "metadata": {},
   "source": [
    "## Neural networks to segment tissues, classify missing/contaminated explants"
   ]
  },
  {
   "cell_type": "markdown",
   "metadata": {},
   "source": [
    "### Semantic segmentation of tissues"
   ]
  },
  {
   "cell_type": "markdown",
   "metadata": {},
   "source": [
    "Images are segmented into specific plant tissues by a deep neural network of the state-of-the-art Deeplab v3 architecture <a href=\"https://arxiv.org/abs/1706.05587\" target=\"_blank\">Liang-Chieh et al., 2017</a>. The model has been trained using training sets generated with our annotation GUI Intelligent DEep Annotator for Segmentation (IDEAS, available on <a href=\"https://bitbucket.org/JialinYuan/image-annotator/src/master/\" target=\"_blank\">Bitbucket</a>, publication pending). Our branch of the Deeplab v3 repo, including a Jupyter walkthrough for training, can be found on Github."
   ]
  },
  {
   "cell_type": "markdown",
   "metadata": {},
   "source": [
    "Training is completed upstream of this notebook, which only entails analysis of test data using the latest model."
   ]
  },
  {
   "cell_type": "markdown",
   "metadata": {},
   "source": [
    "<img src=\"Figures/downsized/segmentation_composite2.png\">"
   ]
  },
  {
   "cell_type": "markdown",
   "metadata": {},
   "source": [
    "Figure: This example image was taken from an experiment on the effects of different CIMs on cottonwood regeneration. This composite image illustrates that for every sample, tissues are segmented into stem (red), callus (blue) and shoot (green). These composite images, useful for manual inspection of results, are produced when the 'composite' option is on."
   ]
  },
  {
   "cell_type": "markdown",
   "metadata": {},
   "source": [
    "#### Pre-processing"
   ]
  },
  {
   "cell_type": "markdown",
   "metadata": {},
   "source": [
    "##### Normalize orientation"
   ]
  },
  {
   "cell_type": "markdown",
   "metadata": {},
   "source": [
    "We desire for images to all be in the same orientation. At one point, the camera on the *macroPhor Array* was set to automatically detect orientation, which led to images randomly being in portrait or landscape. Here we will standardize the orientation."
   ]
  },
  {
   "cell_type": "code",
   "execution_count": 41,
   "metadata": {},
   "outputs": [
    {
     "name": "stdout",
     "output_type": "stream",
     "text": [
      "\u001b[?2004h(alignment) \u001b[?2004l\u001b[?2004l\u001b[?2004l\u001b[?2004l\u001b[?2004l"
     ]
    },
    {
     "ename": "",
     "evalue": "1",
     "output_type": "error",
     "traceback": []
    }
   ],
   "source": [
    "conda activate alignment\n",
    "for filename in $data/*.jpg; do\n",
    "    exiftool -Orientation=8 -n $filename > ${data}log_exiftool.txt\n",
    "    done\n",
    "conda deactivate\n",
    "conda deactivate"
   ]
  },
  {
   "cell_type": "code",
   "execution_count": 42,
   "metadata": {},
   "outputs": [
    {
     "name": "stdout",
     "output_type": "stream",
     "text": [
      "\u001b[?2004h"
     ]
    },
    {
     "ename": "",
     "evalue": "1",
     "output_type": "error",
     "traceback": []
    }
   ],
   "source": [
    "rm -f $data/*original*"
   ]
  },
  {
   "cell_type": "markdown",
   "metadata": {},
   "source": [
    "##### Crop and resize"
   ]
  },
  {
   "cell_type": "markdown",
   "metadata": {},
   "source": [
    "This script resizes images to 900x900 and then crops away top and bottom 150 pixels for a final image size of 900x600."
   ]
  },
  {
   "cell_type": "markdown",
   "metadata": {},
   "source": [
    "The purpose for cropping is to remove labels, which has been standard practice for all training and testing. Otherwise, we could run into problems such as the neural network \"learning\" plants labeled as control have more or less regeneration.<br>The purpose for resizing is to reduce computational expense."
   ]
  },
  {
   "cell_type": "code",
   "execution_count": 43,
   "metadata": {},
   "outputs": [
    {
     "name": "stdout",
     "output_type": "stream",
     "text": [
      "\u001b[?2004h"
     ]
    },
    {
     "ename": "",
     "evalue": "1",
     "output_type": "error",
     "traceback": []
    }
   ],
   "source": [
    "cd ${cwd}/intermediates/"
   ]
  },
  {
   "cell_type": "code",
   "execution_count": 44,
   "metadata": {},
   "outputs": [
    {
     "name": "stdout",
     "output_type": "stream",
     "text": [
      "\u001b[?2004h(base) \u001b[?2004l\u001b[?2004l"
     ]
    },
    {
     "ename": "",
     "evalue": "1",
     "output_type": "error",
     "traceback": []
    }
   ],
   "source": [
    "conda activate base\n",
    "python crop.py $data\n",
    "conda deactivate"
   ]
  },
  {
   "cell_type": "markdown",
   "metadata": {},
   "source": [
    "##### Prepare input list"
   ]
  },
  {
   "cell_type": "markdown",
   "metadata": {},
   "source": [
    "The script `inference.py` requires a list of all files to be analyzed. We will create this file as `test.csv`. This will be a list of all our (pre-processed) image files."
   ]
  },
  {
   "cell_type": "code",
   "execution_count": 45,
   "metadata": {},
   "outputs": [
    {
     "name": "stdout",
     "output_type": "stream",
     "text": [
      "\u001b[?2004h\u001b[?2004l"
     ]
    },
    {
     "ename": "",
     "evalue": "1",
     "output_type": "error",
     "traceback": []
    }
   ],
   "source": [
    "cd $data\n",
    "ls -d $PWD/* $data | grep -i \"rgb_cropped.jpg\" > test.csv"
   ]
  },
  {
   "cell_type": "markdown",
   "metadata": {},
   "source": [
    "Remove the chroma standard from list of RGB image data to be segmented"
   ]
  },
  {
   "cell_type": "code",
   "execution_count": 46,
   "metadata": {},
   "outputs": [
    {
     "name": "stdout",
     "output_type": "stream",
     "text": [
      "\u001b[?2004h"
     ]
    },
    {
     "ename": "",
     "evalue": "1",
     "output_type": "error",
     "traceback": []
    }
   ],
   "source": [
    "sed -i '/hroma/d' \"${data}/test.csv\""
   ]
  },
  {
   "cell_type": "markdown",
   "metadata": {},
   "source": [
    "#### Inference"
   ]
  },
  {
   "cell_type": "markdown",
   "metadata": {},
   "source": [
    "The trained model is deployed to perform semantic segmentation of experimental images. A list of RGB images to be segmented by the trained model is passed through the --image-list option. For each of these images, we will obtain an output mask (.png) of labeled tissues"
   ]
  },
  {
   "cell_type": "markdown",
   "metadata": {},
   "source": [
    "Dependencies include `opencv`, `scipy`, `yaml` and `tensorflow` (version 1.14)"
   ]
  },
  {
   "cell_type": "code",
   "execution_count": 49,
   "metadata": {
    "scrolled": true
   },
   "outputs": [
    {
     "name": "stdout",
     "output_type": "stream",
     "text": [
      "WARNING:tensorflow:From deeplab/inference.py:142: The name tf.app.run is deprecated. Please use tf.compat.v1.app.run instead.\n",
      "\n",
      "WARNING:tensorflow:From deeplab/inference.py:51: The name tf.gfile.GFile is deprecated. Please use tf.io.gfile.GFile instead.\n",
      "\n",
      "W0609 00:29:29.565407 140367987025728 deprecation_wrapper.py:119] From deeplab/inference.py:51: The name tf.gfile.GFile is deprecated. Please use tf.io.gfile.GFile instead.\n",
      "\n",
      "WARNING:tensorflow:From deeplab/inference.py:52: The name tf.GraphDef is deprecated. Please use tf.compat.v1.GraphDef instead.\n",
      "\n",
      "W0609 00:29:29.565623 140367987025728 deprecation_wrapper.py:119] From deeplab/inference.py:52: The name tf.GraphDef is deprecated. Please use tf.compat.v1.GraphDef instead.\n",
      "\n",
      "WARNING:tensorflow:From deeplab/inference.py:61: The name tf.Session is deprecated. Please use tf.compat.v1.Session instead.\n",
      "\n",
      "W0609 00:29:30.491752 140367987025728 deprecation_wrapper.py:119] From deeplab/inference.py:61: The name tf.Session is deprecated. Please use tf.compat.v1.Session instead.\n",
      "\n",
      "2022-06-09 00:29:30.495875: I tensorflow/core/platform/cpu_feature_guard.cc:142] Your CPU supports instructions that this TensorFlow binary was not compiled to use: SSE4.1 SSE4.2 AVX AVX2 AVX512F FMA\n",
      "2022-06-09 00:29:30.506921: I tensorflow/core/platform/profile_utils/cpu_utils.cc:94] CPU Frequency: 3499910000 Hz\n",
      "2022-06-09 00:29:30.507522: I tensorflow/compiler/xla/service/service.cc:168] XLA service 0x56372de57d40 executing computations on platform Host. Devices:\n",
      "2022-06-09 00:29:30.507543: I tensorflow/compiler/xla/service/service.cc:175]   StreamExecutor device (0): <undefined>, <undefined>\n",
      "Running inference for  99  images.\n",
      "Running deeplab on image: 1\n",
      "2022-06-09 00:29:35.176539: W tensorflow/compiler/jit/mark_for_compilation_pass.cc:1412] (One-time warning): Not using XLA:CPU for cluster because envvar TF_XLA_FLAGS=--tf_xla_cpu_global_jit was not set.  If you want XLA:CPU, either set that envvar, or use experimental_jit_scope to enable XLA:CPU.  To confirm that XLA is active, pass --vmodule=xla_compilation_cache=1 (as a proper command-line flag, not via TF_XLA_FLAGS) or set the envvar XLA_FLAGS=--xla_hlo_profile.\n",
      "WARNING:tensorflow:From /home/gmobot/poplar_model_2_w_contam/deeplab/utils/save_annotation.py:82: The name tf.gfile.Open is deprecated. Please use tf.io.gfile.GFile instead.\n",
      "\n",
      "W0609 00:29:38.593270 140367987025728 deprecation_wrapper.py:119] From /home/gmobot/poplar_model_2_w_contam/deeplab/utils/save_annotation.py:82: The name tf.gfile.Open is deprecated. Please use tf.io.gfile.GFile instead.\n",
      "\n",
      "Running deeplab on image: 2\n",
      "Running deeplab on image: 3\n",
      "Running deeplab on image: 4\n",
      "Running deeplab on image: 5\n",
      "Running deeplab on image: 6\n",
      "Running deeplab on image: 7\n",
      "Running deeplab on image: 8\n",
      "Running deeplab on image: 9\n",
      "Running deeplab on image: 10\n",
      "Running deeplab on image: 11\n",
      "Running deeplab on image: 12\n",
      "Running deeplab on image: 13\n",
      "Running deeplab on image: 14\n",
      "Running deeplab on image: 15\n",
      "Running deeplab on image: 16\n",
      "Running deeplab on image: 17\n",
      "Running deeplab on image: 18\n",
      "Running deeplab on image: 19\n",
      "Running deeplab on image: 20\n",
      "Running deeplab on image: 21\n",
      "Running deeplab on image: 22\n",
      "Running deeplab on image: 23\n",
      "Running deeplab on image: 24\n",
      "Running deeplab on image: 25\n",
      "Running deeplab on image: 26\n",
      "Running deeplab on image: 27\n",
      "Running deeplab on image: 28\n",
      "Running deeplab on image: 29\n",
      "Running deeplab on image: 30\n",
      "Running deeplab on image: 31\n",
      "Running deeplab on image: 32\n",
      "Running deeplab on image: 33\n",
      "Running deeplab on image: 34\n",
      "Running deeplab on image: 35\n",
      "Running deeplab on image: 36\n",
      "Running deeplab on image: 37\n",
      "Running deeplab on image: 38\n",
      "Running deeplab on image: 39\n",
      "Running deeplab on image: 40\n",
      "Running deeplab on image: 41\n",
      "Running deeplab on image: 42\n",
      "Running deeplab on image: 43\n",
      "Running deeplab on image: 44\n",
      "Running deeplab on image: 45\n",
      "Running deeplab on image: 46\n",
      "Running deeplab on image: 47\n",
      "Running deeplab on image: 48\n",
      "Running deeplab on image: 49\n",
      "Running deeplab on image: 50\n",
      "Running deeplab on image: 51\n",
      "Running deeplab on image: 52\n",
      "Running deeplab on image: 53\n",
      "Running deeplab on image: 54\n",
      "Running deeplab on image: 55\n",
      "Running deeplab on image: 56\n",
      "Running deeplab on image: 57\n",
      "Running deeplab on image: 58\n",
      "Running deeplab on image: 59\n",
      "Running deeplab on image: 60\n",
      "Running deeplab on image: 61\n",
      "Running deeplab on image: 62\n",
      "Running deeplab on image: 63\n",
      "Running deeplab on image: 64\n",
      "Running deeplab on image: 65\n",
      "Running deeplab on image: 66\n",
      "Running deeplab on image: 67\n",
      "Running deeplab on image: 68\n",
      "Running deeplab on image: 69\n",
      "Running deeplab on image: 70\n",
      "Running deeplab on image: 71\n",
      "Running deeplab on image: 72\n",
      "Running deeplab on image: 73\n",
      "Running deeplab on image: 74\n",
      "Running deeplab on image: 75\n",
      "Running deeplab on image: 76\n",
      "Running deeplab on image: 77\n",
      "Running deeplab on image: 78\n",
      "Running deeplab on image: 79\n",
      "Running deeplab on image: 80\n",
      "Running deeplab on image: 81\n",
      "Running deeplab on image: 82\n",
      "Running deeplab on image: 83\n",
      "Running deeplab on image: 84\n",
      "Running deeplab on image: 85\n",
      "Running deeplab on image: 86\n",
      "Running deeplab on image: 87\n",
      "Running deeplab on image: 88\n",
      "Running deeplab on image: 89\n",
      "Running deeplab on image: 90\n",
      "Running deeplab on image: 91\n",
      "Running deeplab on image: 92\n",
      "Running deeplab on image: 93\n",
      "Running deeplab on image: 94\n",
      "Running deeplab on image: 95\n",
      "Running deeplab on image: 96\n",
      "Running deeplab on image: 97\n",
      "Running deeplab on image: 98\n",
      "Running deeplab on image: 99\n",
      "\u001b[?2004h(deeplab) \u001b[?2004l\u001b[?2004l\u001b[?2004l"
     ]
    },
    {
     "ename": "",
     "evalue": "1",
     "output_type": "error",
     "traceback": []
    }
   ],
   "source": [
    "cd $deeplab_path\n",
    "conda activate deeplab\n",
    "export PYTHONPATH=$PYTHONPATH:`pwd`:`pwd`/slim\n",
    "python -W ignore deeplab/inference.py \\\n",
    "--image_lists \"${data}/test.csv\" \\\n",
    "--crop_size 900 --crop_size 600 \\\n",
    "--seg_results segmentation_results \\\n",
    "--model_dir \"${deeplab_path}/deeplab/model/\"\n",
    ">> $data/log_inference.txt\n",
    "conda deactivate\n",
    "conda deactivate"
   ]
  },
  {
   "cell_type": "code",
   "execution_count": 50,
   "metadata": {
    "tags": []
   },
   "outputs": [
    {
     "name": "stdout",
     "output_type": "stream",
     "text": [
      "\u001b[?2004h"
     ]
    },
    {
     "ename": "",
     "evalue": "1",
     "output_type": "error",
     "traceback": []
    }
   ],
   "source": [
    "#ls \"${deeplab_path}/segmentation_results/output/\""
   ]
  },
  {
   "cell_type": "markdown",
   "metadata": {},
   "source": [
    "Clean up and reorganize files. Let's keep the outputs we need with all other data."
   ]
  },
  {
   "cell_type": "code",
   "execution_count": 51,
   "metadata": {},
   "outputs": [
    {
     "name": "stdout",
     "output_type": "stream",
     "text": [
      "\u001b[?2004h"
     ]
    },
    {
     "ename": "",
     "evalue": "1",
     "output_type": "error",
     "traceback": []
    }
   ],
   "source": [
    "mv \"${deeplab_path}/segmentation_results/raw/\"* $data/"
   ]
  },
  {
   "cell_type": "markdown",
   "metadata": {},
   "source": [
    "#### Post-processing"
   ]
  },
  {
   "cell_type": "markdown",
   "metadata": {},
   "source": [
    "Name outputs to reflect that they are segmentation results"
   ]
  },
  {
   "cell_type": "code",
   "execution_count": 52,
   "metadata": {},
   "outputs": [
    {
     "name": "stdout",
     "output_type": "stream",
     "text": [
      "/media/gmobot/Elements_14/Elements_14//GWAS_CRISPR/CRIB/wk7/\n",
      "\u001b[?2004h"
     ]
    },
    {
     "ename": "",
     "evalue": "1",
     "output_type": "error",
     "traceback": []
    }
   ],
   "source": [
    "echo $data"
   ]
  },
  {
   "cell_type": "code",
   "execution_count": 53,
   "metadata": {},
   "outputs": [
    {
     "name": "stdout",
     "output_type": "stream",
     "text": [
      "\u001b[?2004h\u001b[?2004l"
     ]
    },
    {
     "ename": "",
     "evalue": "1",
     "output_type": "error",
     "traceback": []
    }
   ],
   "source": [
    "cd $data\n",
    "for file in *_rgb_cropped.png; do mv -f \"$file\" \"${file%_rgb_cropped.png}_segment_cropped.png\"; done"
   ]
  },
  {
   "cell_type": "markdown",
   "metadata": {},
   "source": [
    "Re-expand segment outputs to same size as original RGB files"
   ]
  },
  {
   "cell_type": "markdown",
   "metadata": {},
   "source": [
    "Dependencies include `scikit-image`"
   ]
  },
  {
   "cell_type": "code",
   "execution_count": 58,
   "metadata": {},
   "outputs": [
    {
     "name": "stdout",
     "output_type": "stream",
     "text": [
      "\u001b[?2004h(alignment) \u001b[?2004l\u001b[?2004l\u001b[?2004l\u001b[?2004l"
     ]
    },
    {
     "ename": "",
     "evalue": "1",
     "output_type": "error",
     "traceback": []
    }
   ],
   "source": [
    "conda activate alignment\n",
    "#cd ${cwd}/intermediates\n",
    "cd $alignment_path\n",
    "python expand.py $data >> $data/log_expand.txt\n",
    "conda deactivate"
   ]
  },
  {
   "cell_type": "code",
   "execution_count": 59,
   "metadata": {},
   "outputs": [
    {
     "name": "stdout",
     "output_type": "stream",
     "text": [
      "Thu Jun  9 01:24:24 AM PDT 2022\n",
      "\u001b[?2004h"
     ]
    },
    {
     "ename": "",
     "evalue": "1",
     "output_type": "error",
     "traceback": []
    }
   ],
   "source": [
    "date # started abt 5:15pm"
   ]
  },
  {
   "cell_type": "markdown",
   "metadata": {},
   "source": [
    "Make composite images with side-by-side RGB, segmentation outputs and blended images"
   ]
  },
  {
   "cell_type": "code",
   "execution_count": 60,
   "metadata": {},
   "outputs": [
    {
     "name": "stdout",
     "output_type": "stream",
     "text": [
      "\u001b[?2004h\u001b[?2004l\u001b[?2004l\u001b[?2004l\u001b[?2004l\u001b[?2004l\u001b[?2004l"
     ]
    },
    {
     "ename": "",
     "evalue": "1",
     "output_type": "error",
     "traceback": []
    }
   ],
   "source": [
    "# conda activate test-environment\n",
    "# if [ $composite -eq 1 ]\n",
    "# then\n",
    "#     cd $gmolabeler_path\n",
    "#     python image_blender.py $data 0.75 'both' 1 180 >> $data/log_blend.txt\n",
    "# fi\n",
    "# conda deactivate"
   ]
  },
  {
   "cell_type": "markdown",
   "metadata": {},
   "source": [
    "### Classification of contaminated/missing explants"
   ]
  },
  {
   "cell_type": "markdown",
   "metadata": {},
   "source": [
    "Plates are cropped into sub-images for each explant and each is analyzed to determine if the explant position should be excluded from analysis due to being missing or contamination. Missing and contaminated explants are recognized using a trained Densenet model (<a href=\"https://github.com/Contamination-Classification/DenseNet\" target=\"_blank\">Huang, et al. 2018</a>). Our fork of the Densenet repository is available on <a href=\"https://arxiv.org/abs/1608.06993\" target=\"_blank\">GitHub</a>."
   ]
  },
  {
   "cell_type": "markdown",
   "metadata": {},
   "source": [
    "<img src=\"Figures/Densenet.png\">\n",
    "Figure: These are four examples of contaminated explants used in the training set for this pre-trained model"
   ]
  },
  {
   "cell_type": "markdown",
   "metadata": {},
   "source": [
    "To check the grid cropping dimensions, we can run the following script. Note that these are the dimensions to crop the image to after resizing to 2000x2000 (from 4000x4000 in the case of the *macroPhor Array)."
   ]
  },
  {
   "cell_type": "markdown",
   "metadata": {},
   "source": [
    "#### Prepare list of images"
   ]
  },
  {
   "cell_type": "code",
   "execution_count": 61,
   "metadata": {},
   "outputs": [
    {
     "name": "stdout",
     "output_type": "stream",
     "text": [
      "Missing explants will be inferred.?2004l\u001b[?2004l\u001b[?2004l\u001b[?2004l\u001b[?2004l\u001b[?2004l\n",
      "\u001b[?2004h"
     ]
    },
    {
     "ename": "",
     "evalue": "1",
     "output_type": "error",
     "traceback": []
    }
   ],
   "source": [
    "if [ $missing_explants = \"Automatic\" ]; then\n",
    "    echo \"Missing explants will be inferred.\"\n",
    "    cd $data\n",
    "    ls -d $PWD/* $data | grep -i \"rgb.jpg\" > rgb_list.txt\n",
    "    sed -i '/hroma/d' rgb_list.txt\n",
    "    img_list_path=\"${data}/rgb_list.txt\"\n",
    "else\n",
    "    echo \"Missing explants input manually by user, in file: \"\n",
    "    echo $missing_explants\n",
    "fi"
   ]
  },
  {
   "cell_type": "markdown",
   "metadata": {},
   "source": [
    "If the mode for missing explant data is automatic, prepare input file for script to detect missing explants and run this script."
   ]
  },
  {
   "cell_type": "markdown",
   "metadata": {},
   "source": [
    "#### Check dimensions for grid cropping"
   ]
  },
  {
   "cell_type": "markdown",
   "metadata": {},
   "source": [
    "The models to detect contamination and missing explants require a user input to define the pixel boundaries of the grid along which explants are placed. Note that currently, only the 12-explant grid is supported. To use other grids, contamination and missing explant data must be provided manually in a file formatted just like an output from this script."
   ]
  },
  {
   "cell_type": "markdown",
   "metadata": {},
   "source": [
    "When running `inference.py` to detect missing or contaminated explants, the user should provide dimensions for cropping down to the grid borders. Note, these dimensions apply after the image is rescaled to 2000x2000.\n",
    "- Default dimensions, used before the imager began to take \"off-center\" images, are (310, 515, 1750, 1610).\n",
    "- Dimensions for cropping for the off-center images are (260, 600, 1700, 1710). \n",
    "- New dimensions (275, 438, 1725, 1535) are for images taken after camera settings were re-centered.<br>\n",
    "\n",
    "We can test dimensions using the `--debug` option for `inference.py` as in the below code block. Next, we will run the same script in the regular mode to detect missing and contaminated explants using settled-upon cropping dimensions."
   ]
  },
  {
   "cell_type": "markdown",
   "metadata": {},
   "source": [
    "Uncomment and run this code block only if you wish to troubleshoot cropping."
   ]
  },
  {
   "cell_type": "code",
   "execution_count": 62,
   "metadata": {},
   "outputs": [
    {
     "name": "stdout",
     "output_type": "stream",
     "text": [
      "\u001b[?2004h\u001b[?2004l\u001b[?2004l\u001b[?2004l\u001b[?2004l\u001b[?2004l\u001b[?2004l\u001b[?2004l\u001b[?2004l"
     ]
    },
    {
     "ename": "",
     "evalue": "1",
     "output_type": "error",
     "traceback": []
    }
   ],
   "source": [
    "# if [ $missing_explants = \"Automatic\" ]; then\n",
    "#     cd $contamination_path\n",
    "#     conda activate densenet\n",
    "#     python inference.py --img-list=$img_list_path --crop_dims \"(275,438,1725,1535)\" --debug\n",
    "#     conda deactivate\n",
    "# else\n",
    "#     echo \"Missing explants input manually by user, in file: \"\n",
    "#     echo $missing_explants\n",
    "# fi"
   ]
  },
  {
   "cell_type": "markdown",
   "metadata": {},
   "source": [
    "The outputs will be saved in this folder and can be evaluated to check how well the cropping worked."
   ]
  },
  {
   "cell_type": "code",
   "execution_count": 63,
   "metadata": {},
   "outputs": [
    {
     "name": "stdout",
     "output_type": "stream",
     "text": [
      "\u001b[?2004h"
     ]
    },
    {
     "ename": "",
     "evalue": "1",
     "output_type": "error",
     "traceback": []
    }
   ],
   "source": [
    "# echo $contamination_path"
   ]
  },
  {
   "cell_type": "markdown",
   "metadata": {},
   "source": [
    "#### Infer contaminated/missing explants"
   ]
  },
  {
   "cell_type": "markdown",
   "metadata": {},
   "source": [
    "Dependencies include `keras-preprocessing`, `termcolor`,  `protobuf` and `absl-py`"
   ]
  },
  {
   "cell_type": "code",
   "execution_count": 64,
   "metadata": {},
   "outputs": [
    {
     "name": "stdout",
     "output_type": "stream",
     "text": [
      "Thu Jun  9 01:24:38 AM PDT 2022\n",
      "\u001b[?2004h"
     ]
    },
    {
     "ename": "",
     "evalue": "1",
     "output_type": "error",
     "traceback": []
    }
   ],
   "source": [
    "date"
   ]
  },
  {
   "cell_type": "code",
   "execution_count": 68,
   "metadata": {
    "slideshow": {
     "slide_type": "slide"
    }
   },
   "outputs": [
    {
     "name": "stdout",
     "output_type": "stream",
     "text": [
      "Using TensorFlow backend.[?2004l\u001b[?2004l\u001b[?2004l\u001b[?2004l\u001b[?2004l\u001b[?2004l\u001b[?2004l\n",
      "2022-06-09 16:18:48.019666: I tensorflow/core/platform/cpu_feature_guard.cc:142] Your CPU supports instructions that this TensorFlow binary was not compiled to use: SSE4.1 SSE4.2 AVX AVX2 AVX512F FMA\n",
      "2022-06-09 16:18:48.023278: I tensorflow/core/platform/profile_utils/cpu_utils.cc:94] CPU Frequency: 3499910000 Hz\n",
      "2022-06-09 16:18:48.024063: I tensorflow/compiler/xla/service/service.cc:168] XLA service 0x557effd9a9e0 executing computations on platform Host. Devices:\n",
      "2022-06-09 16:18:48.024084: I tensorflow/compiler/xla/service/service.cc:175]   StreamExecutor device (0): <undefined>, <undefined>\n",
      "2022-06-09 16:18:48.030519: W tensorflow/compiler/jit/mark_for_compilation_pass.cc:1412] (One-time warning): Not using XLA:CPU for cluster because envvar TF_XLA_FLAGS=--tf_xla_cpu_global_jit was not set.  If you want XLA:CPU, either set that envvar, or use experimental_jit_scope to enable XLA:CPU.  To confirm that XLA is active, pass --vmodule=xla_compilation_cache=1 (as a proper command-line flag, not via TF_XLA_FLAGS) or set the envvar XLA_FLAGS=--xla_hlo_profile.\n",
      "WARNING:tensorflow:From /home/gmobot/anaconda3/envs/DenseNet/lib/python3.7/site-packages/keras/backend/tensorflow_backend.py:4070: The name tf.nn.max_pool is deprecated. Please use tf.nn.max_pool2d instead.\n",
      "\n",
      "WARNING:tensorflow:From /home/gmobot/anaconda3/envs/DenseNet/lib/python3.7/site-packages/keras/backend/tensorflow_backend.py:4074: The name tf.nn.avg_pool is deprecated. Please use tf.nn.avg_pool2d instead.\n",
      "\n",
      "WARNING:tensorflow:From /home/gmobot/anaconda3/envs/DenseNet/lib/python3.7/site-packages/keras/backend/tensorflow_backend.py:422: The name tf.global_variables is deprecated. Please use tf.compat.v1.global_variables instead.\n",
      "\n",
      "\u001b[?2004h"
     ]
    },
    {
     "ename": "",
     "evalue": "1",
     "output_type": "error",
     "traceback": []
    }
   ],
   "source": [
    "if [ $missing_explants = \"Automatic\" ]; then\n",
    "    cd $contamination_path\n",
    "    conda activate DenseNet\n",
    "    python -W ignore inference.py \\\n",
    "    --img-list=$img_list_path \\\n",
    "    --crop_dims $pre_aligned_resized_grid_borders \\\n",
    "    --output_file=output.csv >> $data/log_contam.txt\n",
    "    mv -f output.csv \"${data}/output.csv\"\n",
    "    conda deactivate\n",
    "fi"
   ]
  },
  {
   "cell_type": "code",
   "execution_count": 70,
   "metadata": {},
   "outputs": [
    {
     "name": "stdout",
     "output_type": "stream",
     "text": [
      "Missing explants inferred by model and written to file:l\u001b[?2004l\n",
      "/media/gmobot/Elements_14/Elements_14//GWAS_CRISPR/CRIB/wk7//output.csv\n",
      "\u001b[?2004h"
     ]
    },
    {
     "ename": "",
     "evalue": "1",
     "output_type": "error",
     "traceback": []
    }
   ],
   "source": [
    "if [ $missing_explants = \"Automatic\" ]; then\n",
    "    missing_explants=\"${data}/output.csv\"\n",
    "    echo \"Missing explants inferred by model and written to file:\"\n",
    "    echo $missing_explants\n",
    "else\n",
    "    echo \"Missing explants input manually by user, in file: \"\n",
    "    echo $missing_explants\n",
    "fi"
   ]
  },
  {
   "cell_type": "code",
   "execution_count": 71,
   "metadata": {},
   "outputs": [
    {
     "name": "stdout",
     "output_type": "stream",
     "text": [
      "Thu Jun  9 05:07:42 PM PDT 2022\n",
      "\u001b[?2004h"
     ]
    },
    {
     "ename": "",
     "evalue": "1",
     "output_type": "error",
     "traceback": []
    }
   ],
   "source": [
    "date"
   ]
  },
  {
   "cell_type": "markdown",
   "metadata": {},
   "source": [
    "## Alignment of RGB and hyperspectral layers"
   ]
  },
  {
   "cell_type": "markdown",
   "metadata": {},
   "source": [
    "<div class=\"alert alert-block alert-info\"><b>Tip:</b> This section of the workflow must be run regardless of whether a homography matrix for alignment has been provided or will be generated.</div>"
   ]
  },
  {
   "cell_type": "markdown",
   "metadata": {},
   "source": [
    "To match the frame and angle of RGB and hyperspectral image layers, we apply a scale-invariant feature transformation (<a href=\"https://github.com/NSF-Image-alignment/ImageAlignment\" target=\"_blank\">GitHub</a>). Using a pair of standard images, a homography matrix is calculated for the necessary transformation of RGB images to align with hyperspectral images. The transformation can then be applied to large batches of images rapidly, as long as the RGB and hyperspectral cameras remain in the same positions relative to one another (as they do in the macroPhor Array platform)"
   ]
  },
  {
   "cell_type": "markdown",
   "metadata": {},
   "source": [
    "<img src=\"Figures/Alignment.png\">\n",
    "Figure: To enable precise calculation of a homography matrix for transformation of RGB images to match hyperspectral images, we used images of a piece of paper with grid marks. These images are provided by the user inputs to --hyper-img and --rgb-img in the below call to the alignment script. If using a phenotyping platform other than the macroPhor Array, or using updated camera settings, these variables will need to be replaced."
   ]
  },
  {
   "cell_type": "markdown",
   "metadata": {},
   "source": [
    "### Prepare file lists for alignment"
   ]
  },
  {
   "cell_type": "markdown",
   "metadata": {},
   "source": [
    "<div class=\"alert alert-block alert-info\"><b>Tip:</b> We will produce two lists: one for hyperspectral channels (chlorophyll peak channel) for each sample and another for the complementary RGB images. We will superimpose them and produce images for inspection, allowing the user to make sure the alignment works reliably for all images. However, it is possible to replace the hyperspectral channels for each image with a single file; this would run more quickly but be less useful for allowing the user to validate alignment results.</div>"
   ]
  },
  {
   "cell_type": "markdown",
   "metadata": {},
   "source": [
    "We need to produce a csv with two columns with headers `hyper_img` and `rgb_images`. For each RGB image being transformed in batch alignment (mode 2), we can test the alignment by producing superimposed images of the transformed RGB images together with a hyperspectral layer. The hyperspectral layer can either be for a grid (fast) or can be for a layer extracted from the hyperspectral image of each channel (slow, but useful for making sure a certain homography matrix works reliably to transform a batch of images)."
   ]
  },
  {
   "cell_type": "markdown",
   "metadata": {},
   "source": [
    "Let's first generate the list that will go into the column `rgb_images`"
   ]
  },
  {
   "cell_type": "code",
   "execution_count": 72,
   "metadata": {},
   "outputs": [
    {
     "name": "stdout",
     "output_type": "stream",
     "text": [
      "\u001b[?2004h\u001b[?2004l\u001b[?2004l\u001b[?2004l\u001b[?2004l\u001b[?2004l\u001b[?2004l\u001b[?2004l\u001b[?2004l"
     ]
    },
    {
     "ename": "",
     "evalue": "1",
     "output_type": "error",
     "traceback": []
    }
   ],
   "source": [
    "cd $data\n",
    "ls | grep -i 'rgb\\.jpg' > file_list_part1.csv\n",
    "ls | grep -i 'segment_uncropped\\.png' > file_list_part2.csv\n",
    "cat file_list_part* > file_list.csv\n",
    "# sed -i '/hroma/d' file_list.csv\n",
    "cwd2=$(pwd)/\n",
    "awk -v prefix=\"$cwd2\" '{print prefix $0}' file_list.csv > temp\n",
    "mv -f temp file_list.csv\n",
    "echo 'rgb_images' | cat - file_list.csv > temp && mv -f temp file_list.csv"
   ]
  },
  {
   "cell_type": "markdown",
   "metadata": {},
   "source": [
    "If testing alignment on every image, we will now modify the list going into the `rgb_images` column to produce the list of filenames for `hyper_img`. If not, we will simply use the `_hyperchannel.csv` file for every value of this column."
   ]
  },
  {
   "cell_type": "code",
   "execution_count": 73,
   "metadata": {},
   "outputs": [
    {
     "name": "stdout",
     "output_type": "stream",
     "text": [
      "\u001b[?2004h"
     ]
    },
    {
     "ename": "",
     "evalue": "1",
     "output_type": "error",
     "traceback": []
    }
   ],
   "source": [
    "test_align_each_img=0"
   ]
  },
  {
   "cell_type": "code",
   "execution_count": 74,
   "metadata": {},
   "outputs": [
    {
     "name": "stdout",
     "output_type": "stream",
     "text": [
      "/media/gmobot/Elements_14/Elements_14/GWAS_CRISPR/CRIB/wk7\n",
      "\u001b[?2004h"
     ]
    },
    {
     "ename": "",
     "evalue": "1",
     "output_type": "error",
     "traceback": []
    }
   ],
   "source": [
    "pwd"
   ]
  },
  {
   "cell_type": "code",
   "execution_count": 75,
   "metadata": {},
   "outputs": [
    {
     "name": "stdout",
     "output_type": "stream",
     "text": [
      "\u001b[?2004h\u001b[?2004l\u001b[?2004l\u001b[?2004l\u001b[?2004l\u001b[?2004l\u001b[?2004l"
     ]
    },
    {
     "ename": "",
     "evalue": "1",
     "output_type": "error",
     "traceback": []
    }
   ],
   "source": [
    "#if [ $test_align_each_img -eq 1 ]; then\n",
    "cp file_list.csv file_list_hyper_channel.csv\n",
    "sed -i 's/_rgb.jpg/_hyperchannel.csv/g' file_list_hyper_channel.csv\n",
    "sed -i 's/rgb_images/hyper_img/g' file_list_hyper_channel.csv\n",
    "sed -i 's/_segment_uncropped.png/_hyperchannel.csv/g' file_list_hyper_channel.csv\n",
    "paste --delimiters=',' file_list_hyper_channel.csv file_list.csv > rgb_and_hyper_channel_lists.csv\n",
    "#fi"
   ]
  },
  {
   "cell_type": "code",
   "execution_count": 76,
   "metadata": {
    "tags": []
   },
   "outputs": [
    {
     "name": "stdout",
     "output_type": "stream",
     "text": [
      "\u001b[?2004h\u001b[?2004l\u001b[?2004l"
     ]
    },
    {
     "ename": "",
     "evalue": "1",
     "output_type": "error",
     "traceback": []
    }
   ],
   "source": [
    "#if [ $test_align_each_img -eq 0 ]; then\n",
    "#Rscript $cwd/intermediates/generate_file_list_with_grid.R\n",
    "#fi"
   ]
  },
  {
   "cell_type": "markdown",
   "metadata": {},
   "source": [
    "### Generate a homography matrix for alignment if one is not provided."
   ]
  },
  {
   "cell_type": "markdown",
   "metadata": {},
   "source": [
    "<div class=\"alert alert-block alert-info\"><b>Tip:</b> This section is only needed if a homography matrix has not been provided and must be generated. In this section, a hyperspectral channel is extracted from the standard to be used for alignment with the complementary RGB image.</div>"
   ]
  },
  {
   "cell_type": "markdown",
   "metadata": {},
   "source": [
    "If using this method, we should have RGB and hyperspectral images of a grid. Here, we will assume they have \"grid\" in their name and can be found in the same folder as the sample images."
   ]
  },
  {
   "cell_type": "markdown",
   "metadata": {},
   "source": [
    "We will generate a homography matrix for alignment of the grid images (RGB and hyperspectral) because these align more robustly than images of plants. We will then apply this homography matrix to alignment of all RGB plant images, so that they will align with the respective hyperspectral images. Note, for this approach to work the relative positions and angles of RGB/hyperspectral cameras must be the same for all image pairs."
   ]
  },
  {
   "cell_type": "code",
   "execution_count": 77,
   "metadata": {},
   "outputs": [
    {
     "name": "stdout",
     "output_type": "stream",
     "text": [
      "\u001b[?2004h"
     ]
    },
    {
     "ename": "",
     "evalue": "1",
     "output_type": "error",
     "traceback": []
    }
   ],
   "source": [
    "cd $data"
   ]
  },
  {
   "cell_type": "code",
   "execution_count": 78,
   "metadata": {},
   "outputs": [
    {
     "name": "stdout",
     "output_type": "stream",
     "text": [
      "/media/gmobot/Elements_14/Elements_14//GWAS_CRISPR/CRIB/wk7/\n",
      "\u001b[?2004h"
     ]
    },
    {
     "ename": "",
     "evalue": "1",
     "output_type": "error",
     "traceback": []
    }
   ],
   "source": [
    "echo $data$grid_hdr"
   ]
  },
  {
   "cell_type": "code",
   "execution_count": 79,
   "metadata": {},
   "outputs": [
    {
     "name": "stdout",
     "output_type": "stream",
     "text": [
      "/home/gmobot/ImageAlignment/\n",
      "\u001b[?2004h"
     ]
    },
    {
     "ename": "",
     "evalue": "1",
     "output_type": "error",
     "traceback": []
    }
   ],
   "source": [
    "echo $alignment_path"
   ]
  },
  {
   "cell_type": "code",
   "execution_count": 80,
   "metadata": {},
   "outputs": [
    {
     "name": "stdout",
     "output_type": "stream",
     "text": [
      "\u001b[?2004l\n",
      "\u001b[?2004h"
     ]
    },
    {
     "ename": "",
     "evalue": "1",
     "output_type": "error",
     "traceback": []
    }
   ],
   "source": [
    "echo $grid_jpg"
   ]
  },
  {
   "cell_type": "code",
   "execution_count": 81,
   "metadata": {},
   "outputs": [
    {
     "name": "stdout",
     "output_type": "stream",
     "text": [
      "Homography matrix provided by user at:4l\u001b[?2004l\u001b[?2004l\u001b[?2004l\u001b[?2004l\u001b[?2004l\u001b[?2004l\u001b[?2004l\u001b[?2004l\u001b[?2004l\u001b[?2004l\u001b[?2004l\u001b[?2004l\u001b[?2004l\u001b[?2004l\u001b[?2004l\u001b[?2004l\u001b[?2004l\u001b[?2004l\u001b[?2004l\u001b[?2004l\u001b[?2004l\u001b[?2004l\u001b[?2004l\u001b[?2004l\u001b[?2004l\u001b[?2004l\u001b[?2004l\u001b[?2004l\u001b[?2004l\u001b[?2004l\n",
      "/home/gmobot/GMOlabeler/output//home/gmobot/GMOnotebook/existing_alignments/_GWAS_CRISPR_CRIA_wk3_stem_only_/chromagrid_I5.0_F1.9_L100LED30_144832_0_0_0_rgb_homography.npy\n",
      "\u001b[?2004h"
     ]
    },
    {
     "ename": "",
     "evalue": "1",
     "output_type": "error",
     "traceback": []
    }
   ],
   "source": [
    "if [ $homography = \"Automatic\" ]; then\n",
    "    grid_hdr=$(ls $data | grep -i \"grid\" | grep -i \"Fluorescence.hdr\")\n",
    "    grid_jpg=$(ls $data | grep -i \"grid\" | grep -i \"rgb.jpg\")\n",
    "    echo \"Homography matrix to be generated by alignment of:\"\n",
    "    echo $grid_hdr\n",
    "    echo $grid_jpg\n",
    "    conda activate test-environment\n",
    "    cd $alignment_path\n",
    "    python hypercube_to_csv.py \\\n",
    "    $data$grid_hdr \\\n",
    "    700 \\\n",
    "    130 \\\n",
    "    $data\"hypercube_to_csv.csv\" \\\n",
    "    $data\"hypercube_to_csv.jpg\"\n",
    "    conda deactivate\n",
    "    aligned_grid=$(echo $grid_jpg | sed 's/rgb/rgb_aligned/g')\n",
    "    aligned_grid=${alignment_path}output/$aligned_grid\n",
    "    conda activate alignment\n",
    "    cd $alignment_path\n",
    "    python main.py \\\n",
    "    --hyper-img $data\"hypercube_to_csv.csv\" \\\n",
    "    --rgb-img $data$grid_jpg \\\n",
    "    --mode 1 \\\n",
    "    --image_thresh_high=120 \\\n",
    "    --image_thresh_low=50 \\\n",
    "    --distance=$distance \\\n",
    "    --gaussian_sigma=$gaussian_sigma\n",
    "    conda deactivate\n",
    "    homography=$(echo $grid_jpg | sed 's/\\.jpg/_homography.npy/g')\n",
    "    homography=${alignment_path}output/$homography\n",
    "    hypercube_csv=\"${data}hypercube_to_csv.csv\"\n",
    "else\n",
    "    echo \"Homography matrix provided by user at:\"\n",
    "    echo ${gmolabeler_path}output/$homography\n",
    "fi"
   ]
  },
  {
   "cell_type": "markdown",
   "metadata": {},
   "source": [
    "Save copies of the homography matrix and aligned images for later inspection and reuse."
   ]
  },
  {
   "cell_type": "code",
   "execution_count": 82,
   "metadata": {},
   "outputs": [
    {
     "name": "stdout",
     "output_type": "stream",
     "text": [
      "\u001b[?2004h"
     ]
    },
    {
     "ename": "",
     "evalue": "1",
     "output_type": "error",
     "traceback": []
    }
   ],
   "source": [
    "alignment_subfolder_name=$(echo $data_folder | sed -e 's/\\//_/g')"
   ]
  },
  {
   "cell_type": "code",
   "execution_count": 83,
   "metadata": {},
   "outputs": [
    {
     "name": "stdout",
     "output_type": "stream",
     "text": [
      "Elements_14__GWAS_CRISPR_CRIB_wk7_\n",
      "\u001b[?2004h"
     ]
    },
    {
     "ename": "",
     "evalue": "1",
     "output_type": "error",
     "traceback": []
    }
   ],
   "source": [
    "echo $alignment_subfolder_name"
   ]
  },
  {
   "cell_type": "code",
   "execution_count": 84,
   "metadata": {},
   "outputs": [
    {
     "name": "stdout",
     "output_type": "stream",
     "text": [
      "\u001b[?2004h"
     ]
    },
    {
     "ename": "",
     "evalue": "1",
     "output_type": "error",
     "traceback": []
    }
   ],
   "source": [
    "mkdir -p $cwd/existing_alignments/$alignment_subfolder_name"
   ]
  },
  {
   "cell_type": "code",
   "execution_count": 85,
   "metadata": {},
   "outputs": [
    {
     "name": "stdout",
     "output_type": "stream",
     "text": [
      "/home/gmobot/GMOnotebook/existing_alignments/_GWAS_CRISPR_CRIA_wk3_stem_only_/chromagrid_I5.0_F1.9_L100LED30_144832_0_0_0_rgb_homography.npy\n",
      "\u001b[?2004h"
     ]
    },
    {
     "ename": "",
     "evalue": "1",
     "output_type": "error",
     "traceback": []
    }
   ],
   "source": [
    "echo $homography"
   ]
  },
  {
   "cell_type": "code",
   "execution_count": 86,
   "metadata": {},
   "outputs": [
    {
     "name": "stdout",
     "output_type": "stream",
     "text": [
      "/home/gmobot/GMOnotebook/existing_alignments/_GWAS_CRISPR_CRIA_wk3_stem_only_/hypercube_to_csv.csv\n",
      "\u001b[?2004h"
     ]
    },
    {
     "ename": "",
     "evalue": "1",
     "output_type": "error",
     "traceback": []
    }
   ],
   "source": [
    "echo $hypercube_csv"
   ]
  },
  {
   "cell_type": "code",
   "execution_count": 87,
   "metadata": {},
   "outputs": [
    {
     "name": "stdout",
     "output_type": "stream",
     "text": [
      "/home/gmobot/GMOnotebook/existing_alignments/_GWAS_CRISPR_CRIA_wk3_stem_only_/chromagrid_I5.0_F1.9_L100LED30_144832_0_0_0_rgb_aligned.jpg\n",
      "\u001b[?2004h"
     ]
    },
    {
     "ename": "",
     "evalue": "1",
     "output_type": "error",
     "traceback": []
    }
   ],
   "source": [
    "echo $aligned_grid"
   ]
  },
  {
   "cell_type": "code",
   "execution_count": 88,
   "metadata": {},
   "outputs": [
    {
     "name": "stdout",
     "output_type": "stream",
     "text": [
      "\u001b[?2004h\u001b[?2004l\u001b[?2004l"
     ]
    },
    {
     "ename": "",
     "evalue": "1",
     "output_type": "error",
     "traceback": []
    }
   ],
   "source": [
    "cp $homography $cwd/existing_alignments/$alignment_subfolder_name\n",
    "cp $hypercube_csv $cwd/existing_alignments/$alignment_subfolder_name\n",
    "cp $aligned_grid $cwd/existing_alignments/$alignment_subfolder_name"
   ]
  },
  {
   "cell_type": "markdown",
   "metadata": {},
   "source": [
    "<div class=\"alert alert-block alert-info\"><b>Tip:</b> We can visualize the extracted hyperspectral channel to make sure there is a signal and everything looks good.</div>"
   ]
  },
  {
   "cell_type": "code",
   "execution_count": 89,
   "metadata": {},
   "outputs": [
    {
     "name": "stdout",
     "output_type": "stream",
     "text": [
      "/media/gmobot/Elements_14/Elements_14//GWAS_CRISPR/CRIB/wk7/hypercube_to_csv.jpg\n",
      "\u001b[?2004h"
     ]
    },
    {
     "ename": "",
     "evalue": "1",
     "output_type": "error",
     "traceback": []
    }
   ],
   "source": [
    "echo $data\"hypercube_to_csv.jpg\""
   ]
  },
  {
   "cell_type": "markdown",
   "metadata": {},
   "source": [
    "<div class=\"alert alert-block alert-info\"><b>Tip:</b> We can also inspect the alignment to make sure image layers stack and align well.</div>"
   ]
  },
  {
   "cell_type": "code",
   "execution_count": 90,
   "metadata": {},
   "outputs": [
    {
     "name": "stdout",
     "output_type": "stream",
     "text": [
      "/home/gmobot/GMOnotebook/existing_alignments/_GWAS_CRISPR_CRIA_wk3_stem_only_/chromagrid_I5.0_F1.9_L100LED30_144832_0_0_0_rgb_aligned.jpg\n",
      "\u001b[?2004h"
     ]
    },
    {
     "ename": "",
     "evalue": "1",
     "output_type": "error",
     "traceback": []
    }
   ],
   "source": [
    "echo $aligned_grid"
   ]
  },
  {
   "cell_type": "code",
   "execution_count": 91,
   "metadata": {
    "tags": []
   },
   "outputs": [
    {
     "name": "stdout",
     "output_type": "stream",
     "text": [
      "bash_kernel: saved image data to: /tmp/bash_kernel.0T8Tv20w5Q\n",
      "\u001b[?2004h"
     ]
    },
    {
     "ename": "",
     "evalue": "1",
     "output_type": "error",
     "traceback": []
    }
   ],
   "source": [
    "display < $aligned_grid"
   ]
  },
  {
   "cell_type": "markdown",
   "metadata": {},
   "source": [
    "### Generate `csv` of hyperspectral channel for every image in dataset"
   ]
  },
  {
   "cell_type": "markdown",
   "metadata": {},
   "source": [
    "This section is optional. It is useful to *make sure* the alignment works reasonably well for every image, but it can be slow."
   ]
  },
  {
   "cell_type": "code",
   "execution_count": 92,
   "metadata": {},
   "outputs": [
    {
     "name": "stdout",
     "output_type": "stream",
     "text": [
      "\u001b[?2004h\u001b[?2004l\u001b[?2004l\u001b[?2004l\u001b[?2004l\u001b[?2004l\u001b[?2004l\u001b[?2004l\u001b[?2004l\u001b[?2004l\u001b[?2004l\u001b[?2004l\u001b[?2004l\u001b[?2004l\u001b[?2004l\u001b[?2004l\u001b[?2004l\u001b[?2004l"
     ]
    },
    {
     "ename": "",
     "evalue": "1",
     "output_type": "error",
     "traceback": []
    }
   ],
   "source": [
    "if [ $test_align_each_img -eq 1 ]; then\n",
    "hdr_files=$data/*.hdr\n",
    "cd $alignment_path\n",
    "conda activate test-environment\n",
    "for hdr_file in $hdr_files\n",
    "do\n",
    " csv_file=$(sed 's/Fluorescence.hdr/hyperchannel.csv/g' <<< $hdr_file)\n",
    " csv_file=$(sed 's/.hdr/_hyperchannel.csv/g' <<< $csv_file)\n",
    " csv_jpg=$(sed 's/csv/jpg/g' <<< $csv_file)\n",
    " python -W ignore hypercube_to_csv.py \\\n",
    " $hdr_file \\\n",
    " 300 \\\n",
    " 219 \\\n",
    " $csv_file \\\n",
    " $csv_jpg >> ${data}log_hypercube2csv.txt\n",
    "done\n",
    "conda deactivate\n",
    "fi"
   ]
  },
  {
   "cell_type": "markdown",
   "metadata": {},
   "source": [
    "### Run batch alignment to apply homography matrix to all images"
   ]
  },
  {
   "cell_type": "code",
   "execution_count": 93,
   "metadata": {},
   "outputs": [
    {
     "name": "stdout",
     "output_type": "stream",
     "text": [
      "/home/gmobot/GMOnotebook/existing_alignments/_GWAS_CRISPR_CRIA_wk3_stem_only_/hypercube_to_csv.csv\n",
      "\u001b[?2004h"
     ]
    },
    {
     "ename": "",
     "evalue": "1",
     "output_type": "error",
     "traceback": []
    }
   ],
   "source": [
    "echo $hypercube_csv"
   ]
  },
  {
   "cell_type": "code",
   "execution_count": 94,
   "metadata": {
    "collapsed": true,
    "jupyter": {
     "outputs_hidden": true
    },
    "tags": []
   },
   "outputs": [
    {
     "name": "stdout",
     "output_type": "stream",
     "text": [
      "hyper_img,rgb_images\n",
      "/media/gmobot/Elements_14/Elements_14/GWAS_CRISPR/CRIB/wk7/chromagrid_I5.0_F1.9_L100LED30_112137_0_0_0_hyperchannel.csv,/media/gmobot/Elements_14/Elements_14/GWAS_CRISPR/CRIB/wk7/chromagrid_I5.0_F1.9_L100LED30_112137_0_0_0_rgb.jpg\n",
      "/media/gmobot/Elements_14/Elements_14/GWAS_CRISPR/CRIB/wk7/CRIB1_I5.0_F1.9_L100LED30_145959_0_0_1_hyperchannel.csv,/media/gmobot/Elements_14/Elements_14/GWAS_CRISPR/CRIB/wk7/CRIB1_I5.0_F1.9_L100LED30_145959_0_0_1_rgb.jpg\n",
      "/media/gmobot/Elements_14/Elements_14/GWAS_CRISPR/CRIB/wk7/CRIB1_I5.0_F1.9_L100LED30_150124_1_0_2_hyperchannel.csv,/media/gmobot/Elements_14/Elements_14/GWAS_CRISPR/CRIB/wk7/CRIB1_I5.0_F1.9_L100LED30_150124_1_0_2_rgb.jpg\n",
      "/media/gmobot/Elements_14/Elements_14/GWAS_CRISPR/CRIB/wk7/CRIB1_I5.0_F1.9_L100LED30_150254_2_0_3_hyperchannel.csv,/media/gmobot/Elements_14/Elements_14/GWAS_CRISPR/CRIB/wk7/CRIB1_I5.0_F1.9_L100LED30_150254_2_0_3_rgb.jpg\n",
      "/media/gmobot/Elements_14/Elements_14/GWAS_CRISPR/CRIB/wk7/CRIB1_I5.0_F1.9_L100LED30_150424_3_0_4_hyperchannel.csv,/media/gmobot/Elements_14/Elements_14/GWAS_CRISPR/CRIB/wk7/CRIB1_I5.0_F1.9_L100LED30_150424_3_0_4_rgb.jpg\n",
      "/media/gmobot/Elements_14/Elements_14/GWAS_CRISPR/CRIB/wk7/CRIB1_I5.0_F1.9_L100LED30_150554_4_0_5_hyperchannel.csv,/media/gmobot/Elements_14/Elements_14/GWAS_CRISPR/CRIB/wk7/CRIB1_I5.0_F1.9_L100LED30_150554_4_0_5_rgb.jpg\n",
      "/media/gmobot/Elements_14/Elements_14/GWAS_CRISPR/CRIB/wk7/CRIB1_I5.0_F1.9_L100LED30_150854_6_1_5_hyperchannel.csv,/media/gmobot/Elements_14/Elements_14/GWAS_CRISPR/CRIB/wk7/CRIB1_I5.0_F1.9_L100LED30_150854_6_1_5_rgb.jpg\n",
      "/media/gmobot/Elements_14/Elements_14/GWAS_CRISPR/CRIB/wk7/CRIB1_I5.0_F1.9_L100LED30_151016_7_1_4_hyperchannel.csv,/media/gmobot/Elements_14/Elements_14/GWAS_CRISPR/CRIB/wk7/CRIB1_I5.0_F1.9_L100LED30_151016_7_1_4_rgb.jpg\n",
      "/media/gmobot/Elements_14/Elements_14/GWAS_CRISPR/CRIB/wk7/CRIB1_I5.0_F1.9_L100LED30_151146_8_1_3_hyperchannel.csv,/media/gmobot/Elements_14/Elements_14/GWAS_CRISPR/CRIB/wk7/CRIB1_I5.0_F1.9_L100LED30_151146_8_1_3_rgb.jpg\n",
      "\u001b[?2004h"
     ]
    },
    {
     "ename": "",
     "evalue": "1",
     "output_type": "error",
     "traceback": []
    }
   ],
   "source": [
    "head \"${data}/rgb_and_hyper_channel_lists.csv\""
   ]
  },
  {
   "cell_type": "code",
   "execution_count": 95,
   "metadata": {},
   "outputs": [
    {
     "name": "stdout",
     "output_type": "stream",
     "text": [
      "/home/gmobot/GMOnotebook/existing_alignments/_GWAS_CRISPR_CRIA_wk3_stem_only_/chromagrid_I5.0_F1.9_L100LED30_144832_0_0_0_rgb_homography.npy\n",
      "\u001b[?2004h"
     ]
    },
    {
     "ename": "",
     "evalue": "1",
     "output_type": "error",
     "traceback": []
    }
   ],
   "source": [
    "echo $homography"
   ]
  },
  {
   "cell_type": "code",
   "execution_count": 103,
   "metadata": {},
   "outputs": [
    {
     "name": "stdout",
     "output_type": "stream",
     "text": [
      "\u001b[?2004h(alignment) \u001b[?2004l\u001b[?2004l\u001b[?2004l\u001b[?2004l\u001b[?2004l\u001b[?2004l\u001b[?2004l\u001b[?2004l\u001b[?2004l"
     ]
    },
    {
     "ename": "",
     "evalue": "1",
     "output_type": "error",
     "traceback": []
    }
   ],
   "source": [
    "conda activate alignment\n",
    "cd $alignment_path\n",
    "file_list_input=\"${data}/rgb_and_hyper_channel_lists.csv\"\n",
    "python main.py \\\n",
    "--hyper-img $hypercube_csv \\\n",
    "--img-csv $file_list_input \\\n",
    "--mode 2 \\\n",
    "--h_matrix_path $homography >> $data/log_alignment_mode2.txt\n",
    "conda deactivate\n",
    "conda deactivate"
   ]
  },
  {
   "cell_type": "markdown",
   "metadata": {},
   "source": [
    "## Cross-analyze deep segmentation and regression results"
   ]
  },
  {
   "cell_type": "markdown",
   "metadata": {},
   "source": [
    "Scripts in the <a href=\"https://github.com/naglemi/GMOlabeler\" target=\"_blank\">GMOlabeler repository</a> are used to cross-reference results from deep segmentation of RGB images and regression of hyperspectral imaging, apply thresholding parameters to classify tissues as transgenic or escapes, and produce plots."
   ]
  },
  {
   "cell_type": "markdown",
   "metadata": {},
   "source": [
    "<img src=\"Figures/GMOlabeler.png\">"
   ]
  },
  {
   "cell_type": "markdown",
   "metadata": {},
   "source": [
    "Figure: The various steps of data processing in GMOlabeler are illustrated for an example explant from an experiment on CIM optimization for cottonwood. Images of plates are cropped to a sub-image for each explant. RGB segmentation results and hyperspectral regression results are cross-referenced to calculate fluorecent proteins in specific tissues and infer whether these tissues are transgenic."
   ]
  },
  {
   "cell_type": "markdown",
   "metadata": {},
   "source": [
    "### Prepare sample datasheet input"
   ]
  },
  {
   "cell_type": "markdown",
   "metadata": {},
   "source": [
    "Prepare input file we will use for making plots. This file contains paths to CLS results, RGB images, and hyperspectral images."
   ]
  },
  {
   "cell_type": "code",
   "execution_count": 104,
   "metadata": {},
   "outputs": [
    {
     "name": "stdout",
     "output_type": "stream",
     "text": [
      "/media/gmobot/Elements_14/Elements_14//GWAS_CRISPR/CRIB/wk7/\n",
      "\u001b[?2004h"
     ]
    },
    {
     "ename": "",
     "evalue": "1",
     "output_type": "error",
     "traceback": []
    }
   ],
   "source": [
    "echo $data"
   ]
  },
  {
   "cell_type": "code",
   "execution_count": 105,
   "metadata": {},
   "outputs": [
    {
     "name": "stdout",
     "output_type": "stream",
     "text": [
      "/media/gmobot/Elements_14/Elements_14//GWAS_CRISPR/CRIB/wk7/\n",
      "\u001b[?2004h"
     ]
    },
    {
     "ename": "",
     "evalue": "1",
     "output_type": "error",
     "traceback": []
    }
   ],
   "source": [
    "echo $data"
   ]
  },
  {
   "cell_type": "code",
   "execution_count": 106,
   "metadata": {
    "scrolled": true,
    "tags": []
   },
   "outputs": [
    {
     "name": "stdout",
     "output_type": "stream",
     "text": [
      "[1] \"”2022-06-08”\"r) \u001b[?2004l\u001b[?2004l\u001b[?2004l\u001b[?2004l\u001b[?2004l\u001b[?2004l\n",
      "[1] \"Looking for CLS data in: /home/gmobot/data/gmodetector_out/Elements_14//GWAS_CRISPR/CRIB/wk7//\"\n",
      "[1] \"2022-06-08\"\n",
      "[1] \"Looking for CLS files in directory /home/gmobot/data/gmodetector_out/Elements_14//GWAS_CRISPR/CRIB/wk7//\"\n",
      "[1] \"How many CLS files? 99\"\n",
      "[1] \"Writing 99 rows to /media/gmobot/Elements_14/Elements_14//GWAS_CRISPR/CRIB/wk7///samples_pre_labeling.csv\"\n",
      "\u001b[?2004h(gmolabeler) \u001b[?2004l"
     ]
    },
    {
     "ename": "",
     "evalue": "1",
     "output_type": "error",
     "traceback": []
    }
   ],
   "source": [
    "conda activate gmolabeler\n",
    "cd \"${cwd}/intermediates/\"\n",
    "Rscript pre_label.R \\\n",
    "-r \"${data}/\" \\\n",
    "-R \"${output_directory_prefix}\" \\\n",
    "-i 1 \\\n",
    "-d $datestamp\n",
    "conda deactivate"
   ]
  },
  {
   "cell_type": "markdown",
   "metadata": {},
   "source": [
    "### Cross-reference RGB and hyperspectral data"
   ]
  },
  {
   "cell_type": "markdown",
   "metadata": {},
   "source": [
    "On 1/11/20, we altered `gmolabeler` to accept user-defined borders of the grid box, rather than hardcoding these borders in for specific grids with 12 or 20 explants. Thus, if providing `grid_borders`, `grid` can be left as `None`, or vice versa. To determine the borders, open the *aligned* grid file in a GUI like GIMP or Microsoft Paint and use the crosshairs to find the pixel positions of each border. These are then provided through the `grid_borders` parameter in order \"top bottom right left\"."
   ]
  },
  {
   "cell_type": "markdown",
   "metadata": {},
   "source": [
    "Some notes on grid copping parameters:\n",
    "- Submit a space-delimited string with parameters for borders of grid as \"left right bottom top\"\n",
    "- For FAA wk3, use parameters \"139 1580 1250 312\"\n",
    "- For FAA wk7 and FAD wk7, use \"156 1600 1280 335\"\n",
    "- For all images taken after re-centering of camera settings on 1/18/21, use \"152 1592 1200 260\" if images are of high resolution (2GB hyperspectral files) or \"110 1356 1168 222\" if of normal resolution (1.3GB hyperspectral files)"
   ]
  },
  {
   "cell_type": "code",
   "execution_count": 107,
   "metadata": {},
   "outputs": [
    {
     "name": "stdout",
     "output_type": "stream",
     "text": [
      "/media/gmobot/Elements_14/Elements_14//GWAS_CRISPR/CRIB/wk7//samples_pre_labeling.csv\n",
      "\u001b[?2004h"
     ]
    },
    {
     "ename": "",
     "evalue": "1",
     "output_type": "error",
     "traceback": []
    }
   ],
   "source": [
    "echo ${data}/samples_pre_labeling.csv"
   ]
  },
  {
   "cell_type": "code",
   "execution_count": 108,
   "metadata": {},
   "outputs": [
    {
     "name": "stdout",
     "output_type": "stream",
     "text": [
      "/home/gmobot/GMOnotebook/existing_alignments/_GWAS_CRISPR_CRIA_wk3_stem_only_/chromagrid_I5.0_F1.9_L100LED30_144832_0_0_0_rgb_aligned.jpg\n",
      "\u001b[?2004h"
     ]
    },
    {
     "ename": "",
     "evalue": "1",
     "output_type": "error",
     "traceback": []
    }
   ],
   "source": [
    "echo $aligned_grid"
   ]
  },
  {
   "cell_type": "code",
   "execution_count": 109,
   "metadata": {},
   "outputs": [
    {
     "name": "stdout",
     "output_type": "stream",
     "text": [
      "Elements_14//GWAS_CRISPR/CRIB/wk7/\n",
      "\u001b[?2004h"
     ]
    },
    {
     "ename": "",
     "evalue": "1",
     "output_type": "error",
     "traceback": []
    }
   ],
   "source": [
    "echo $data_folder"
   ]
  },
  {
   "cell_type": "code",
   "execution_count": 110,
   "metadata": {
    "tags": []
   },
   "outputs": [
    {
     "name": "stdout",
     "output_type": "stream",
     "text": [
      "segment,CLS_data,rgb,mean_callus_signal,mean_shoot_signal,callus_signal_total,shoot_signal_total,n_pixels_callus_transgenic,n_pixels_callus_escape,n_pixels_shoot_transgenic,n_pixels_shoot_escape,threshold\n",
      "/media/gmobot/Elements_14/Elements_14//GWAS_CRISPR/CRIB/wk7///CRIB5_I5.0_F1.9_L100LED30_182041_20_2_6_segment_uncropped_processed.png,/home/gmobot/data/gmodetector_out/Elements_14//GWAS_CRISPR/CRIB/wk7///CRIB5_I5.0_F1.9_L100LED30_182041_20_2_6_Fluorescence_weights.hdf,/media/gmobot/Elements_14/Elements_14//GWAS_CRISPR/CRIB/wk7///CRIB5_I5.0_F1.9_L100LED30_182041_20_2_6_rgb_processed.jpg,,,,,,,,,\n",
      "/media/gmobot/Elements_14/Elements_14//GWAS_CRISPR/CRIB/wk7///CRIB5_I5.0_F1.9_L100LED30_181911_19_2_5_segment_uncropped_processed.png,/home/gmobot/data/gmodetector_out/Elements_14//GWAS_CRISPR/CRIB/wk7///CRIB5_I5.0_F1.9_L100LED30_181911_19_2_5_Fluorescence_weights.hdf,/media/gmobot/Elements_14/Elements_14//GWAS_CRISPR/CRIB/wk7///CRIB5_I5.0_F1.9_L100LED30_181911_19_2_5_rgb_processed.jpg,,,,,,,,,\n",
      "/media/gmobot/Elements_14/Elements_14//GWAS_CRISPR/CRIB/wk7///CRIB5_I5.0_F1.9_L100LED30_181741_18_2_4_segment_uncropped_processed.png,/home/gmobot/data/gmodetector_out/Elements_14//GWAS_CRISPR/CRIB/wk7///CRIB5_I5.0_F1.9_L100LED30_181741_18_2_4_Fluorescence_weights.hdf,/media/gmobot/Elements_14/Elements_14//GWAS_CRISPR/CRIB/wk7///CRIB5_I5.0_F1.9_L100LED30_181741_18_2_4_rgb_processed.jpg,,,,,,,,,\n",
      "/media/gmobot/Elements_14/Elements_14//GWAS_CRISPR/CRIB/wk7///CRIB5_I5.0_F1.9_L100LED30_181611_17_2_3_segment_uncropped_processed.png,/home/gmobot/data/gmodetector_out/Elements_14//GWAS_CRISPR/CRIB/wk7///CRIB5_I5.0_F1.9_L100LED30_181611_17_2_3_Fluorescence_weights.hdf,/media/gmobot/Elements_14/Elements_14//GWAS_CRISPR/CRIB/wk7///CRIB5_I5.0_F1.9_L100LED30_181611_17_2_3_rgb_processed.jpg,,,,,,,,,\n",
      "/media/gmobot/Elements_14/Elements_14//GWAS_CRISPR/CRIB/wk7///CRIB5_I5.0_F1.9_L100LED30_181441_16_2_2_segment_uncropped_processed.png,/home/gmobot/data/gmodetector_out/Elements_14//GWAS_CRISPR/CRIB/wk7///CRIB5_I5.0_F1.9_L100LED30_181441_16_2_2_Fluorescence_weights.hdf,/media/gmobot/Elements_14/Elements_14//GWAS_CRISPR/CRIB/wk7///CRIB5_I5.0_F1.9_L100LED30_181441_16_2_2_rgb_processed.jpg,,,,,,,,,\n",
      "/media/gmobot/Elements_14/Elements_14//GWAS_CRISPR/CRIB/wk7///CRIB5_I5.0_F1.9_L100LED30_181311_15_2_1_segment_uncropped_processed.png,/home/gmobot/data/gmodetector_out/Elements_14//GWAS_CRISPR/CRIB/wk7///CRIB5_I5.0_F1.9_L100LED30_181311_15_2_1_Fluorescence_weights.hdf,/media/gmobot/Elements_14/Elements_14//GWAS_CRISPR/CRIB/wk7///CRIB5_I5.0_F1.9_L100LED30_181311_15_2_1_rgb_processed.jpg,,,,,,,,,\n",
      "/media/gmobot/Elements_14/Elements_14//GWAS_CRISPR/CRIB/wk7///CRIB5_I5.0_F1.9_L100LED30_181151_14_2_0_segment_uncropped_processed.png,/home/gmobot/data/gmodetector_out/Elements_14//GWAS_CRISPR/CRIB/wk7///CRIB5_I5.0_F1.9_L100LED30_181151_14_2_0_Fluorescence_weights.hdf,/media/gmobot/Elements_14/Elements_14//GWAS_CRISPR/CRIB/wk7///CRIB5_I5.0_F1.9_L100LED30_181151_14_2_0_rgb_processed.jpg,,,,,,,,,\n",
      "/media/gmobot/Elements_14/Elements_14//GWAS_CRISPR/CRIB/wk7///CRIB5_I5.0_F1.9_L100LED30_181021_13_1_0_segment_uncropped_processed.png,/home/gmobot/data/gmodetector_out/Elements_14//GWAS_CRISPR/CRIB/wk7///CRIB5_I5.0_F1.9_L100LED30_181021_13_1_0_Fluorescence_weights.hdf,/media/gmobot/Elements_14/Elements_14//GWAS_CRISPR/CRIB/wk7///CRIB5_I5.0_F1.9_L100LED30_181021_13_1_0_rgb_processed.jpg,,,,,,,,,\n",
      "/media/gmobot/Elements_14/Elements_14//GWAS_CRISPR/CRIB/wk7///CRIB5_I5.0_F1.9_L100LED30_180851_12_1_1_segment_uncropped_processed.png,/home/gmobot/data/gmodetector_out/Elements_14//GWAS_CRISPR/CRIB/wk7///CRIB5_I5.0_F1.9_L100LED30_180851_12_1_1_Fluorescence_weights.hdf,/media/gmobot/Elements_14/Elements_14//GWAS_CRISPR/CRIB/wk7///CRIB5_I5.0_F1.9_L100LED30_180851_12_1_1_rgb_processed.jpg,,,,,,,,,\n",
      "\u001b[?2004h"
     ]
    },
    {
     "ename": "",
     "evalue": "1",
     "output_type": "error",
     "traceback": []
    }
   ],
   "source": [
    "head $data/samples_pre_labeling.csv"
   ]
  },
  {
   "cell_type": "code",
   "execution_count": 111,
   "metadata": {},
   "outputs": [
    {
     "name": "stdout",
     "output_type": "stream",
     "text": [
      "/home/gmobot/GMOnotebook/existing_alignments/_GWAS_CRISPR_CRIA_wk3_stem_only_/chromagrid_I5.0_F1.9_L100LED30_144832_0_0_0_rgb_aligned.jpg\n",
      "\u001b[?2004h"
     ]
    },
    {
     "ename": "",
     "evalue": "1",
     "output_type": "error",
     "traceback": []
    }
   ],
   "source": [
    "echo $aligned_grid"
   ]
  },
  {
   "cell_type": "code",
   "execution_count": 112,
   "metadata": {},
   "outputs": [
    {
     "name": "stdout",
     "output_type": "stream",
     "text": [
      "GFP2004l\n",
      "\u001b[?2004h"
     ]
    },
    {
     "ename": "",
     "evalue": "1",
     "output_type": "error",
     "traceback": []
    }
   ],
   "source": [
    "echo $reporters"
   ]
  },
  {
   "cell_type": "code",
   "execution_count": 113,
   "metadata": {},
   "outputs": [
    {
     "name": "stdout",
     "output_type": "stream",
     "text": [
      "GFP2004h\u001b[?2004l\u001b[?2004l\n",
      "\u001b[?2004h"
     ]
    },
    {
     "ename": "",
     "evalue": "1",
     "output_type": "error",
     "traceback": []
    }
   ],
   "source": [
    "for reporter in ${reporters[@]}; do\n",
    "    echo $reporter\n",
    "done"
   ]
  },
  {
   "cell_type": "code",
   "execution_count": 117,
   "metadata": {},
   "outputs": [
    {
     "name": "stdout",
     "output_type": "stream",
     "text": [
      "\u001b[?2004h(gmolabeler) \u001b[?2004l\u001b[?2004l\u001b[?2004l\u001b[?2004l\u001b[?2004l\u001b[?2004l\u001b[?2004l\u001b[?2004l\u001b[?2004l\u001b[?2004l\u001b[?2004l\u001b[?2004l\u001b[?2004l"
     ]
    },
    {
     "ename": "",
     "evalue": "1",
     "output_type": "error",
     "traceback": []
    }
   ],
   "source": [
    "conda activate gmolabeler\n",
    "cd $gmolabeler_path\n",
    "for reporter in ${reporters[@]}; do\n",
    "    python main.py \\\n",
    "    \"${data}/samples_pre_labeling.csv\" \\\n",
    "    $aligned_grid \\\n",
    "    $reporter_threshold \\\n",
    "    $reporter \\\n",
    "    $grid \\\n",
    "    \"hdf\" \\\n",
    "    $gmolabeler_path \\\n",
    "    \"$aligned_grid_borders\" > $data/log_gmolabeler_$reporter.txt\n",
    "done\n",
    "conda deactivate"
   ]
  },
  {
   "cell_type": "markdown",
   "metadata": {},
   "source": [
    "### Calculate sums of statistics over combined segments"
   ]
  },
  {
   "cell_type": "markdown",
   "metadata": {},
   "source": [
    "We are interested in all regenerated tissue (callus + shoot) as well as all tissue (including stem as well). We will calculate aggregate statistics over these groups."
   ]
  },
  {
   "cell_type": "code",
   "execution_count": 118,
   "metadata": {},
   "outputs": [
    {
     "name": "stdout",
     "output_type": "stream",
     "text": [
      "[1] \"Writing output with sums statistics calculated over combined tissue segments to: /home/gmobot/GMOlabeler//output/Elements_14//GWAS_CRISPR/CRIB/wk7//GFP/stats_with_sums_over_tissues.csv\"\n",
      "\u001b[?2004h(gmolabeler) \u001b[?2004l"
     ]
    },
    {
     "ename": "",
     "evalue": "1",
     "output_type": "error",
     "traceback": []
    }
   ],
   "source": [
    "conda activate gmolabeler\n",
    "for reporter in ${reporters[@]}; do\n",
    "    Rscript calculate_sum_stats_over_combined_segments.R \\\n",
    "    --output_dir \"${gmolabeler_path}/output/\" \\\n",
    "    --datapath \"${data_folder}/${reporter}/\"\n",
    "done\n",
    "conda deactivate"
   ]
  },
  {
   "cell_type": "markdown",
   "metadata": {},
   "source": [
    "### Make plots of results"
   ]
  },
  {
   "cell_type": "code",
   "execution_count": 122,
   "metadata": {
    "scrolled": true
   },
   "outputs": [
    {
     "name": "stdout",
     "output_type": "stream",
     "text": [
      "\u001b[?25h\u001b[?25h\u001b[?25h\u001b[?25h\u001b[?25h\u001b[?25h\u001b[?25hWarning message:04l\u001b[?2004l\u001b[?2004l\u001b[?2004l\u001b[?2004l\u001b[?2004l\u001b[?2004l\u001b[?2004l\u001b[?2004l\u001b[?2004l\u001b[?2004l\u001b[?2004l\n",
      "In storage.mode(default) <- type : NAs introduced by coercion\n",
      "\u001b[?25h\u001b[?25h\u001b[?25h\u001b[?25h\u001b[?25h\u001b[?25h\u001b[?25h\u001b[?25h[1] \"Saving list of input arguments to : /home/gmobot/GMOlabeler/plots/Elements_14//GWAS_CRISPR/CRIB/wk7///GFP/gridplot_args.rds\"\n",
      "\u001b[?25h\u001b[?25h\u001b[?25h[1] \"Reading in output from GMOlabeler at path: /home/gmobot/GMOlabeler/output/Elements_14//GWAS_CRISPR/CRIB/wk7//GFP/stats_with_sums_over_tissues.csv\"\n",
      "\u001b[?25h\u001b[?25h\u001b[?25h\u001b[?25h\u001b[?25h\n",
      "\u001b[?25h[1] \"Rows in output from GMOlabeler: 5830\"\n",
      "\u001b[?25h\n",
      "\u001b[?25h[1] \"Max n_pixels_passing_threshold in output from GMOlabeler: 14314\"\n",
      "\u001b[?25h\n",
      "\u001b[?25h[1] \"Max total_signal in output from GMOlabeler: 1842315.84186183\"\n",
      "\u001b[?25h\u001b[?25h\u001b[?25h\n",
      "[1] \"Look at the top of output from GMOlabeler\"\n",
      "[1] \"/media/gmobot/Elements_14/Elements_14//GWAS_CRISPR/CRIB/wk7///CRIB5_I5.0_F1.9_L100LED30_182041_20_2_6.png\"\n",
      "[2] \"/media/gmobot/Elements_14/Elements_14//GWAS_CRISPR/CRIB/wk7///CRIB5_I5.0_F1.9_L100LED30_182041_20_2_6.png\"\n",
      "[3] \"/media/gmobot/Elements_14/Elements_14//GWAS_CRISPR/CRIB/wk7///CRIB5_I5.0_F1.9_L100LED30_182041_20_2_6.png\"\n",
      "[4] \"/media/gmobot/Elements_14/Elements_14//GWAS_CRISPR/CRIB/wk7///CRIB5_I5.0_F1.9_L100LED30_182041_20_2_6.png\"\n",
      "[5] \"/media/gmobot/Elements_14/Elements_14//GWAS_CRISPR/CRIB/wk7///CRIB5_I5.0_F1.9_L100LED30_182041_20_2_6.png\"\n",
      "[6] \"/media/gmobot/Elements_14/Elements_14//GWAS_CRISPR/CRIB/wk7///CRIB5_I5.0_F1.9_L100LED30_182041_20_2_6.png\"\n",
      "\n",
      "[1] \"Look at the top of missing explant data\"\n",
      "\u001b[38;5;246m# A tibble: 6 × 3\u001b[39m\n",
      "  filename                                       grid_item present\n",
      "  \u001b[3m\u001b[38;5;246m<chr>\u001b[39m\u001b[23m                                          \u001b[3m\u001b[38;5;246m<chr>\u001b[39m\u001b[23m     \u001b[3m\u001b[38;5;246m<chr>\u001b[39m\u001b[23m  \n",
      "\u001b[38;5;250m1\u001b[39m CRIB1_I5.0_F1.9_L100LED30_145959_0_0_1_rgb.jpg 1         NC     \n",
      "\u001b[38;5;250m2\u001b[39m CRIB1_I5.0_F1.9_L100LED30_145959_0_0_1_rgb.jpg 2         NC     \n",
      "\u001b[38;5;250m3\u001b[39m CRIB1_I5.0_F1.9_L100LED30_145959_0_0_1_rgb.jpg 3         NC     \n",
      "\u001b[38;5;250m4\u001b[39m CRIB1_I5.0_F1.9_L100LED30_145959_0_0_1_rgb.jpg 4         NC     \n",
      "\u001b[38;5;250m5\u001b[39m CRIB1_I5.0_F1.9_L100LED30_145959_0_0_1_rgb.jpg 5         NC     \n",
      "\u001b[38;5;250m6\u001b[39m CRIB1_I5.0_F1.9_L100LED30_145959_0_0_1_rgb.jpg 6         NC     \n",
      "\n",
      "[1] \"Look at the head of filenames for missing explant data\"\n",
      "[1] \"CRIB1_I5.0_F1.9_L100LED30_145959_0_0_1_rgb.jpg\"\n",
      "[2] \"CRIB1_I5.0_F1.9_L100LED30_145959_0_0_1_rgb.jpg\"\n",
      "[3] \"CRIB1_I5.0_F1.9_L100LED30_145959_0_0_1_rgb.jpg\"\n",
      "[4] \"CRIB1_I5.0_F1.9_L100LED30_145959_0_0_1_rgb.jpg\"\n",
      "[5] \"CRIB1_I5.0_F1.9_L100LED30_145959_0_0_1_rgb.jpg\"\n",
      "[6] \"CRIB1_I5.0_F1.9_L100LED30_145959_0_0_1_rgb.jpg\"\n",
      "\n",
      "[1] \"Look at the colnames of output from GMOlabeler\"\n",
      " [1] \"V1\"                         \"filename\"                  \n",
      " [3] \"grid_item\"                  \"segment_hex\"               \n",
      " [5] \"intensity_threshold\"        \"n_pixels_passing_threshold\"\n",
      " [7] \"mean_signal\"                \"max_signal\"                \n",
      " [9] \"total_signal\"               \"total_pixels\"              \n",
      "\n",
      "[1] \"Look at the colnames of missing explant data\"\n",
      "[1] \"filename\"  \"grid_item\" \"present\"  \n",
      "\n",
      "[1] \"Before merging the GMOlabeler and missing output data, they have rows of 5830 and 1188 respectively.\"\n",
      "\n",
      "[1] \"After merging but before removing missing/contminated explants, merged output has 5830 rows.\"\n",
      "\n",
      "[1] \"After removing the missing/contaminated explants, merged output has 5830\"\n",
      "\u001b[?25h\n",
      "\u001b[?25h[1] \"Afer processing GMOlabeler output to merge with missing explant data, Head of data (w/ first 5 col): \"\n",
      "\u001b[?25h                                     filename grid_item          V1\n",
      "1: CRIB1_I5.0_F1.9_L100LED30_145959_0_0_1.png         1 observation\n",
      "2: CRIB1_I5.0_F1.9_L100LED30_145959_0_0_1.png         1 observation\n",
      "3: CRIB1_I5.0_F1.9_L100LED30_145959_0_0_1.png         1 observation\n",
      "4: CRIB1_I5.0_F1.9_L100LED30_145959_0_0_1.png         1 observation\n",
      "5: CRIB1_I5.0_F1.9_L100LED30_145959_0_0_1.png         1 observation\n",
      "              segment_hex intensity_threshold\n",
      "1:                 00CC11                  38\n",
      "2:                 0006CC                  38\n",
      "3:                 CC0000                  38\n",
      "4:             All_tissue                  NA\n",
      "5: All_regenerated_tissue                  NA\n",
      "\u001b[?25h\u001b[?25h\u001b[?25h\u001b[?25h\u001b[1m\u001b[22mNew names:\n",
      "\u001b[36m•\u001b[39m `` -> `...10`\n",
      "\u001b[?25hWarning! This dataset contains multiple explant types. We will only analyze stem/petiole explants.\n",
      "[1] \"Randomization datasheet contains levels of tissue type: \"\n",
      "[1] \"L\" \"P\" \"S\"\n",
      "[1] \"Nrow before subsetting to stem only: 99\"\n",
      "[1] \"Nrow after subsetting to stem/petiole only: 50\"\n",
      "\u001b[?25h\u001b[?25h\u001b[?25h\u001b[?25h[1] \"Upon loading randomization_datasheet, it has how many rows? 50\"\n",
      "\u001b[?25h\u001b[?25h\u001b[?25h\u001b[?25h\u001b[?25h\u001b[?25h\u001b[?25h\u001b[?25h\u001b[?25h\u001b[?25h\u001b[?25h\u001b[?25h\n",
      "\u001b[?25h[1] \"Calculating total numbers of missing explants per plate\"\n",
      "\u001b[?25h\u001b[?25h\u001b[?25h\u001b[?25h\u001b[?25h\u001b[?25h[1] \"Let's figure out why contaminated/missing plates are being said to have 0 instead of NA\"\n",
      "\u001b[?25h\n",
      "\u001b[?25h[1] \"Dimensions of missing explant data with totals\"\n",
      "\u001b[?25h[1] 99 14\n",
      "\u001b[?25h[1] \"Minimum number of explants on any plate after removing missing and contaminated explants is...\"\n",
      "\u001b[?25h[1] 4\n",
      "\u001b[?25h                                       image_name 1 2 3 4 5 6 7 8 9 10 11 12\n",
      "1: CRIB1_I5.0_F1.9_L100LED30_145959_0_0_1_rgb.jpg 1 1 1 1 1 1 1 1 1  1  1  1\n",
      "2: CRIB1_I5.0_F1.9_L100LED30_150124_1_0_2_rgb.jpg 1 1 1 1 1 1 1 1 1  1  1  1\n",
      "3: CRIB1_I5.0_F1.9_L100LED30_150254_2_0_3_rgb.jpg 0 1 1 1 1 1 1 1 1  1  1  1\n",
      "4: CRIB1_I5.0_F1.9_L100LED30_150424_3_0_4_rgb.jpg 1 1 1 1 1 1 1 1 1  1  1  1\n",
      "5: CRIB1_I5.0_F1.9_L100LED30_150554_4_0_5_rgb.jpg 1 0 1 1 1 0 1 1 1  1  1  1\n",
      "6: CRIB1_I5.0_F1.9_L100LED30_150854_6_1_5_rgb.jpg 1 1 1 1 1 1 0 1 1  1  1  1\n",
      "   total_explants\n",
      "1:             12\n",
      "2:             12\n",
      "3:             11\n",
      "4:             12\n",
      "5:             10\n",
      "6:             11\n",
      "\u001b[?25h\u001b[?25h\u001b[?25h\u001b[?25h\u001b[?25h\u001b[?25h\n",
      "\u001b[?25h[1] \"About to add IDs to missing explant data based on filenames. Here is head of filenames.\"\n",
      "\u001b[?25h[1] \"CRIB1_I5.0_F1.9_L100LED30_145959_0_0_1\"\n",
      "[2] \"CRIB1_I5.0_F1.9_L100LED30_150124_1_0_2\"\n",
      "[3] \"CRIB1_I5.0_F1.9_L100LED30_150254_2_0_3\"\n",
      "[4] \"CRIB1_I5.0_F1.9_L100LED30_150424_3_0_4\"\n",
      "[5] \"CRIB1_I5.0_F1.9_L100LED30_150554_4_0_5\"\n",
      "[6] \"CRIB1_I5.0_F1.9_L100LED30_150854_6_1_5\"\n",
      "\u001b[?25h\n",
      "\u001b[?25h\u001b[?25h[1] \"We have added IDs to missing explant data based on filenames. Here is head of IDs.\"\n",
      "\u001b[?25h[1] \"CRIB1_2\"  \"CRIB1_3\"  \"CRIB1_4\"  \"CRIB1_5\"  \"CRIB1_6\"  \"CRIB1_13\"\n",
      "\u001b[?25h\n",
      "\u001b[?25h[1] \"N rows of randomization datasheet before merging with missing explant data: \"\n",
      "\u001b[?25h[1] 50\n",
      "\u001b[?25h[1] \"Head of IDs in missing explant data\"\n",
      "\u001b[?25h[1] \"CRIB1_2\"  \"CRIB1_3\"  \"CRIB1_4\"  \"CRIB1_5\"  \"CRIB1_6\"  \"CRIB1_13\"\n",
      "\u001b[?25h[1] \"Head of IDs in randomization datasheet\"\n",
      "\u001b[?25h[1] \"CRIB1_1\" \"CRIB1_2\" \"CRIB1_3\" \"CRIB1_4\" \"CRIB1_5\" \"CRIB1_6\"\n",
      "\u001b[?25h\n",
      "\u001b[?25h[1] \"Now about to merge randomization_datasheet and missing explant data.\"\n",
      "\u001b[?25h[1] \"Rows in randomization_datasheet: 50\"\n",
      "\u001b[?25h[1] \"Rows in missing explant data: 99\"\n",
      "\u001b[?25h\n",
      "\u001b[?25h[1] \"Now about to merge randomization datasheet and missing explant data, by ID. Look at head of IDs for both.\"\n",
      "\u001b[?25h[1] \"CRIB1_1\" \"CRIB1_2\" \"CRIB1_3\" \"CRIB1_4\" \"CRIB1_5\" \"CRIB1_6\"\n",
      "\u001b[?25h[1] \"CRIB1_2\"  \"CRIB1_3\"  \"CRIB1_4\"  \"CRIB1_5\"  \"CRIB1_6\"  \"CRIB1_13\"\n",
      "\u001b[?25h\u001b[?25h         ID Image # Tray ID Rand # Rand/const/tissue Plate ID Tissue type\n",
      "1:  CRIB1_1       1   CRIB1      1                 1      1-2           S\n",
      "2: CRIB1_10      10   CRIB1     10                 1      2-1           S\n",
      "3: CRIB1_11      11   CRIB1     11                 3      1-1           S\n",
      "4: CRIB1_12      12   CRIB1     12                 1      2-2           S\n",
      "5: CRIB1_13      13   CRIB1     13                 3      2-2           S\n",
      "6: CRIB1_14      14   CRIB1     14                 3      2-2           S\n",
      "   Genotype_ID Treatment name Block ...10     LabelTop      LabelBot\n",
      "1:         717       CAS9_CTR    B1    NA   CRIB1_1_R1 CAS9_CTR_S_B1\n",
      "2:         717          IAA27    B1    NA CRIB1_10_R10    IAA27_S_B1\n",
      "3:         717          JANUS    B1    NA CRIB1_11_R11    JANUS_S_B1\n",
      "4:         717          JANUS    B1    NA CRIB1_12_R12    JANUS_S_B1\n",
      "5:         717          IAA27    B1    NA CRIB1_13_R13    IAA27_S_B1\n",
      "6:         717       CAS9_CTR    B2    NA CRIB1_14_R14 CAS9_CTR_S_B2\n",
      "                                 filename 1 2 3 4 5 6 7 8 9 10 11 12\n",
      "1: CRIB1_I5.0_F1.9_L100LED30_152036_0_0_0 1 1 1 1 1 1 1 1 1  0  0  0\n",
      "2: CRIB1_I5.0_F1.9_L100LED30_151316_9_1_2 0 1 1 1 1 0 1 1 1  1  1  1\n",
      "3: CRIB1_I5.0_F1.9_L100LED30_151146_8_1_3 1 1 1 0 1 1 1 1 1  1  1  1\n",
      "4: CRIB1_I5.0_F1.9_L100LED30_151016_7_1_4 1 1 0 1 1 1 1 1 1  1  1  1\n",
      "5: CRIB1_I5.0_F1.9_L100LED30_150854_6_1_5 1 1 1 1 1 1 0 1 1  1  1  1\n",
      "6: CRIB1_I5.0_F1.9_L100LED30_152401_2_1_6 1 1 1 1 1 1 1 1 1  1  0  1\n",
      "   total_explants\n",
      "1:              9\n",
      "2:             10\n",
      "3:             11\n",
      "4:             11\n",
      "5:             11\n",
      "6:             11\n",
      "\u001b[?25h [1]  9 10 11 11 11 11 12  6 12 12 11 12 12 12 12 11 12 10  5 10  8 11 12  8  9\n",
      "[26] 11  7 12 12 12 12 11  6 10 10 11 10 10 11 11  9  9 11  9 11 12 11 12 12 12\n",
      "\u001b[?25h[1] \"Still figuring, now in merged rd, out why contaminated/missing plates are being said to have 0 instead of NA\"\n",
      "\u001b[?25h\n",
      "\u001b[?25h[1] \"Dimensions of missing explant data with totals\"\n",
      "\u001b[?25h[1] 99 15\n",
      "\u001b[?25h[1] \"Levels of total explants on any plate after removing missing and contaminated explants is...\"\n",
      "\u001b[?25h[1] \"5\"  \"6\"  \"7\"  \"8\"  \"9\"  \"10\" \"11\" \"12\"\n",
      "\u001b[?25h[1] \"Minimum number of explants on any plate after removing missing and contaminated explants is...\"\n",
      "\u001b[?25h[1] 5\n",
      "\u001b[?25h\n",
      "\u001b[?25h[1] \"Rows in merged output: 50\"\n",
      "\u001b[?25h [1]  9 10 11 11 11 11 12  6 12 12 11 12 12 12 12 11 12 10  5 10  8 11 12  8  9\n",
      "[26] 11  7 12 12 12 12 11  6 10 10 11 10 10 11 11  9  9 11  9 11 12 11 12 12 12\n",
      "\u001b[?25h\n",
      "\u001b[?25h\u001b[?25h[1] \"Assuming for all explants for which we have no missing explant data that there are:\"\n",
      "\u001b[?25h[1] 12\n",
      "\u001b[?25h\n",
      "\u001b[?25h[1] \"N rows of randomization datasheet after merging with missing explant data: \"\n",
      "\u001b[?25h[1] 50\n",
      "\u001b[?25h[1] \"Column names of randomization datasheet afer merging with missing explant data: \"\n",
      "\u001b[?25h [1] \"ID\"                \"Image #\"           \"Tray ID\"          \n",
      " [4] \"Rand #\"            \"Rand/const/tissue\" \"Plate ID\"         \n",
      " [7] \"Tissue type\"       \"Genotype_ID\"       \"Treatment name\"   \n",
      "[10] \"Block\"             \"...10\"             \"LabelTop\"         \n",
      "[13] \"LabelBot\"          \"filename\"          \"1\"                \n",
      "[16] \"2\"                 \"3\"                 \"4\"                \n",
      "[19] \"5\"                 \"6\"                 \"7\"                \n",
      "[22] \"8\"                 \"9\"                 \"10\"               \n",
      "[25] \"11\"                \"12\"                \"total_explants\"   \n",
      "\u001b[?25h\n",
      "\u001b[?25h[1] \"In output, Maximum observations for a segment in a grid item in a filename (should be 1): 1\"\n",
      "\u001b[?25h[1] \"In randomization datasheet, Maximum observations for an ID (should be 1): 1\"\n",
      "\u001b[?25h\n",
      "\u001b[?25h[1] \"Before calculating totals, let's look at the column total_explants in randomization datasheet\"\n",
      "\u001b[?25h[1]  9 10 11 11 11 11\n",
      "\u001b[?25h[1] \"5\"  \"6\"  \"7\"  \"8\"  \"9\"  \"10\" \"11\" \"12\"\n",
      "\u001b[?25h\n",
      "\u001b[?25h\u001b[?25h\u001b[?25h\u001b[?25h\u001b[?25h\u001b[?25h\u001b[?25h\u001b[?25h\n",
      "\u001b[?25h[1] \"Nrow of output before dropping missing explants is: 5830\"\n",
      "\u001b[?25h[1] \"Head of ID_exp columns from both output data table and IDs_to_drop data tbales, respectively:\"\n",
      "\u001b[?25h[1] \"CRIB1_2_1\"  \"CRIB1_2_1\"  \"CRIB1_2_1\"  \"CRIB1_2_1\"  \"CRIB1_2_1\" \n",
      "[6] \"CRIB1_2_10\"\n",
      "\u001b[?25h[1] \"CRIB1_4_1\"  \"CRIB1_6_2\"  \"CRIB1_6_6\"  \"CRIB1_13_7\" \"CRIB1_12_3\"\n",
      "[6] \"CRIB1_11_4\"\n",
      "\u001b[?25h\u001b[?25h[1] \"Nrow of output AFTER dropping missing explants is: 4743\"\n",
      "\u001b[?25h[1] \"Head of output\"\n",
      "\u001b[?25h                                     filename grid_item          V1 segment_hex\n",
      "1: CRIB1_I5.0_F1.9_L100LED30_145959_0_0_1.png         1 observation       Shoot\n",
      "   intensity_threshold n_pixels_passing_threshold mean_signal max_signal\n",
      "1:                  38                         NA          NA         NA\n",
      "   total_signal total_pixels present      ID transgenic segment_present\n",
      "1:           NA            0       Y CRIB1_2          0               0\n",
      "      ID_exp\n",
      "1: CRIB1_2_1\n",
      "\u001b[?25h\n",
      "\u001b[?25h\u001b[38;5;246m# A tibble: 6 × 5\u001b[39m\n",
      "  filename                                   grid_item present ID       ID_exp  \n",
      "  \u001b[3m\u001b[38;5;246m<chr>\u001b[39m\u001b[23m                                      \u001b[3m\u001b[38;5;246m<chr>\u001b[39m\u001b[23m     \u001b[3m\u001b[38;5;246m<chr>\u001b[39m\u001b[23m   \u001b[3m\u001b[38;5;246m<chr>\u001b[39m\u001b[23m    \u001b[3m\u001b[38;5;246m<chr>\u001b[39m\u001b[23m   \n",
      "\u001b[38;5;250m1\u001b[39m CRIB1_I5.0_F1.9_L100LED30_150254_2_0_3.jpg 1         C       CRIB1_4  CRIB1_4…\n",
      "\u001b[38;5;250m2\u001b[39m CRIB1_I5.0_F1.9_L100LED30_150554_4_0_5.jpg 2         C       CRIB1_6  CRIB1_6…\n",
      "\u001b[38;5;250m3\u001b[39m CRIB1_I5.0_F1.9_L100LED30_150554_4_0_5.jpg 6         C       CRIB1_6  CRIB1_6…\n",
      "\u001b[38;5;250m4\u001b[39m CRIB1_I5.0_F1.9_L100LED30_150854_6_1_5.jpg 7         C       CRIB1_13 CRIB1_1…\n",
      "\u001b[38;5;250m5\u001b[39m CRIB1_I5.0_F1.9_L100LED30_151016_7_1_4.jpg 3         C       CRIB1_12 CRIB1_1…\n",
      "\u001b[38;5;250m6\u001b[39m CRIB1_I5.0_F1.9_L100LED30_151146_8_1_3.jpg 4         C       CRIB1_11 CRIB1_1…\n",
      "\u001b[?25h [1] \"filename\"                   \"grid_item\"                 \n",
      " [3] \"V1\"                         \"segment_hex\"               \n",
      " [5] \"intensity_threshold\"        \"n_pixels_passing_threshold\"\n",
      " [7] \"mean_signal\"                \"max_signal\"                \n",
      " [9] \"total_signal\"               \"total_pixels\"              \n",
      "[11] \"present\"                    \"ID\"                        \n",
      "[13] \"transgenic\"                 \"segment_present\"           \n",
      "[15] \"ID_exp\"                    \n",
      "\u001b[?25h\u001b[?25h\u001b[?25h\u001b[?25h[1] \"Maximum # grid positions with transgenic stem in any plate: 8\"\n",
      "\u001b[?25h[1] \"Maximum # grid positions with transgenic callus in any plate: 12\"\n",
      "\u001b[?25h[1] \"Maximum # grid positions with transgenic shoot in any plate: 12\"\n",
      "\u001b[?25h  Tissue hex_code color\n",
      "1  Shoot   00CC11 green\n",
      "  Tissue hex_code color\n",
      "2 Callus   0006CC  blue\n",
      "  Tissue hex_code color\n",
      "3   Stem   CC0000   red\n",
      "      Tissue   hex_code color\n",
      "4 All_tissue All_tissue black\n",
      "                  Tissue               hex_code color\n",
      "5 All_regenerated_tissue All_regenerated_tissue  <NA>\n",
      "      Tissue hex_code color\n",
      "6 Background   000000  <NA>\n",
      "\u001b[?25h\u001b[?25h[1] \"Minimum # grid positions with explants in any plate: 5\"\n",
      "\u001b[?25h[1] \"Maximum # grid positions with explants in any plate: 12\"\n",
      "\u001b[?25h[1] \"Maximum # grid positions with callus in any plate: 12\"\n",
      "\u001b[?25h[1] \"Maximum # grid positions with shoot in any plate: 12\"\n",
      "\u001b[?25h\u001b[?25h[1] \"Column of interest is portion_transgenic_Shoot\"\n",
      "[1] \"For transgenic tissue, What is the range of values for portion for Shoot\"\n",
      "[1] 0\n",
      "[1] 1\n",
      "[1] \"What are factor levels?\"\n",
      " [1] \"0\"                  \"0.0833333333333333\" \"0.0909090909090909\"\n",
      " [4] \"0.125\"              \"0.181818181818182\"  \"0.25\"              \n",
      " [7] \"0.272727272727273\"  \"0.333333333333333\"  \"0.4\"               \n",
      "[10] \"0.454545454545455\"  \"0.5\"                \"0.555555555555556\" \n",
      "[13] \"0.571428571428571\"  \"0.583333333333333\"  \"0.6\"               \n",
      "[16] \"0.625\"              \"0.636363636363636\"  \"0.666666666666667\" \n",
      "[19] \"0.7\"                \"0.75\"               \"0.777777777777778\" \n",
      "[22] \"0.818181818181818\"  \"0.833333333333333\"  \"0.9\"               \n",
      "[25] \"0.909090909090909\"  \"1\"                 \n",
      "\n",
      "[1] \"Column of interest is portion_Shoot\"\n",
      "[1] \"For total tissue, What is the range of values for portion for Shoot\"\n",
      "[1] 0.1666667\n",
      "[1] 1\n",
      "[1] \"What are factor levels?\"\n",
      " [1] \"0.166666666666667\" \"0.181818181818182\" \"0.2\"              \n",
      " [4] \"0.363636363636364\" \"0.375\"             \"0.416666666666667\"\n",
      " [7] \"0.5\"               \"0.545454545454545\" \"0.583333333333333\"\n",
      "[10] \"0.625\"             \"0.636363636363636\" \"0.666666666666667\"\n",
      "[13] \"0.7\"               \"0.714285714285714\" \"0.727272727272727\"\n",
      "[16] \"0.75\"              \"0.777777777777778\" \"0.8\"              \n",
      "[19] \"0.818181818181818\" \"0.888888888888889\" \"0.9\"              \n",
      "[22] \"0.909090909090909\" \"0.916666666666667\" \"1\"                \n",
      "\n",
      "[1] \"Column of interest is portion_transgenic_Callus\"\n",
      "[1] \"For transgenic tissue, What is the range of values for portion for Callus\"\n",
      "[1] 0.08333333\n",
      "[1] 1\n",
      "[1] \"What are factor levels?\"\n",
      " [1] \"0.0833333333333333\" \"0.363636363636364\"  \"0.4\"               \n",
      " [4] \"0.454545454545455\"  \"0.5\"                \"0.583333333333333\" \n",
      " [7] \"0.6\"                \"0.625\"              \"0.636363636363636\" \n",
      "[10] \"0.666666666666667\"  \"0.7\"                \"0.714285714285714\" \n",
      "[13] \"0.75\"               \"0.777777777777778\"  \"0.8\"               \n",
      "[16] \"0.818181818181818\"  \"0.833333333333333\"  \"0.9\"               \n",
      "[19] \"0.909090909090909\"  \"0.916666666666667\"  \"1\"                 \n",
      "\n",
      "[1] \"Column of interest is portion_Callus\"\n",
      "[1] \"For total tissue, What is the range of values for portion for Callus\"\n",
      "[1] 0.8333333\n",
      "[1] 1\n",
      "[1] \"What are factor levels?\"\n",
      "[1] \"0.833333333333333\" \"0.857142857142857\" \"0.875\"            \n",
      "[4] \"0.888888888888889\" \"0.9\"               \"0.909090909090909\"\n",
      "[7] \"0.916666666666667\" \"1\"                \n",
      "\n",
      "[1] \"Column of interest is portion_transgenic_Stem\"\n",
      "[1] \"For transgenic tissue, What is the range of values for portion for Stem\"\n",
      "[1] 0\n",
      "[1] 0.7272727\n",
      "[1] \"What are factor levels?\"\n",
      " [1] \"0\"                  \"0.0833333333333333\" \"0.0909090909090909\"\n",
      " [4] \"0.111111111111111\"  \"0.125\"              \"0.142857142857143\" \n",
      " [7] \"0.166666666666667\"  \"0.181818181818182\"  \"0.2\"               \n",
      "[10] \"0.25\"               \"0.272727272727273\"  \"0.3\"               \n",
      "[13] \"0.333333333333333\"  \"0.4\"                \"0.416666666666667\" \n",
      "[16] \"0.454545454545455\"  \"0.5\"                \"0.545454545454545\" \n",
      "[19] \"0.555555555555556\"  \"0.727272727272727\" \n",
      "\n",
      "[1] \"Column of interest is portion_Stem\"\n",
      "[1] \"For total tissue, What is the range of values for portion for Stem\"\n",
      "[1] 0.1666667\n",
      "[1] 1\n",
      "[1] \"What are factor levels?\"\n",
      " [1] \"0.166666666666667\" \"0.272727272727273\" \"0.363636363636364\"\n",
      " [4] \"0.416666666666667\" \"0.444444444444444\" \"0.5\"              \n",
      " [7] \"0.545454545454545\" \"0.583333333333333\" \"0.6\"              \n",
      "[10] \"0.625\"             \"0.636363636363636\" \"0.666666666666667\"\n",
      "[13] \"0.7\"               \"0.727272727272727\" \"0.75\"             \n",
      "[16] \"0.8\"               \"0.818181818181818\" \"0.833333333333333\"\n",
      "[19] \"0.857142857142857\" \"0.888888888888889\" \"0.9\"              \n",
      "[22] \"0.909090909090909\" \"1\"                \n",
      "\n",
      "[1] \"Column of interest is portion_transgenic_All_tissue\"\n",
      "[1] \"For transgenic tissue, What is the range of values for portion for All_tissue\"\n",
      "[1] 0.1666667\n",
      "[1] 1\n",
      "[1] \"What are factor levels?\"\n",
      " [1] \"0.166666666666667\" \"0.4\"               \"0.454545454545455\"\n",
      " [4] \"0.545454545454545\" \"0.583333333333333\" \"0.6\"              \n",
      " [7] \"0.625\"             \"0.666666666666667\" \"0.7\"              \n",
      "[10] \"0.714285714285714\" \"0.727272727272727\" \"0.777777777777778\"\n",
      "[13] \"0.8\"               \"0.833333333333333\" \"0.9\"              \n",
      "[16] \"0.909090909090909\" \"0.916666666666667\" \"1\"                \n",
      "\n",
      "[1] \"Column of interest is portion_All_tissue\"\n",
      "[1] \"For total tissue, What is the range of values for portion for All_tissue\"\n",
      "[1] 0.8333333\n",
      "[1] 1\n",
      "[1] \"What are factor levels?\"\n",
      "[1] \"0.833333333333333\" \"0.875\"             \"0.888888888888889\"\n",
      "[4] \"0.9\"               \"0.909090909090909\" \"0.916666666666667\"\n",
      "[7] \"1\"                \n",
      "\n",
      "[1] \"Column of interest is portion_transgenic_All_regenerated_tissue\"\n",
      "[1] \"For transgenic tissue, What is the range of values for portion for All_regenerated_tissue\"\n",
      "[1] 0.08333333\n",
      "[1] 1\n",
      "[1] \"What are factor levels?\"\n",
      " [1] \"0.0833333333333333\" \"0.363636363636364\"  \"0.4\"               \n",
      " [4] \"0.454545454545455\"  \"0.5\"                \"0.583333333333333\" \n",
      " [7] \"0.6\"                \"0.625\"              \"0.666666666666667\" \n",
      "[10] \"0.7\"                \"0.714285714285714\"  \"0.727272727272727\" \n",
      "[13] \"0.777777777777778\"  \"0.8\"                \"0.818181818181818\" \n",
      "[16] \"0.833333333333333\"  \"0.9\"                \"0.909090909090909\" \n",
      "[19] \"0.916666666666667\"  \"1\"                 \n",
      "\n",
      "[1] \"Column of interest is portion_All_regenerated_tissue\"\n",
      "[1] \"For total tissue, What is the range of values for portion for All_regenerated_tissue\"\n",
      "[1] 0.8333333\n",
      "[1] 1\n",
      "[1] \"What are factor levels?\"\n",
      "[1] \"0.833333333333333\" \"0.857142857142857\" \"0.875\"            \n",
      "[4] \"0.888888888888889\" \"0.9\"               \"0.909090909090909\"\n",
      "[7] \"0.916666666666667\" \"1\"                \n",
      "\n",
      "[1] \"Column of interest is portion_transgenic_Background\"\n",
      "[1] \"For transgenic tissue, What is the range of values for portion for Background\"\n",
      "[1] 0\n",
      "[1] 0\n",
      "[1] \"What are factor levels?\"\n",
      "[1] \"0\"\n",
      "\n",
      "[1] \"Column of interest is portion_Background\"\n",
      "[1] \"For total tissue, What is the range of values for portion for Background\"\n",
      "[1] 0\n",
      "[1] 0\n",
      "[1] \"What are factor levels?\"\n",
      "[1] \"0\"\n",
      "\n",
      "\u001b[?25h[1] \"N rows of randomization datasheet: \"\n",
      "\u001b[?25h[1] 50\n",
      "\u001b[?25h\u001b[?25h[1] \"N rows of randomization datasheet: \"\n",
      "\u001b[?25h[1] 50\n",
      "\u001b[?25h\n",
      "\u001b[?25h[1] \"Plots will be saved to: \"\n",
      "\u001b[?25h[1] \"/home/gmobot/GMOlabeler/plots/Elements_14//GWAS_CRISPR/CRIB/wk7///GFP/\"\n",
      "\u001b[?25h\n",
      "\u001b[?25h\u001b[?25h\u001b[?25h\u001b[?25h\u001b[?25h\u001b[?25h\u001b[?25h\u001b[?25h\u001b[?25h\u001b[?25h\n",
      "\u001b[?25h[1] \"How many groups per treatment?\"\n",
      "\u001b[?25h\n",
      "CAS9_CTR      FLA    IAA27    JANUS     SLC3 \n",
      "       9        9       10       12       10 \n",
      "\u001b[?25h[1] \"How many rows in randomization datasheet?\"\n",
      "\u001b[?25h[1] 50\n",
      "\u001b[?25h[1] \"How many rows in randomization datasheet with portion_Callus data?\"\n",
      "\u001b[?25h[1] 50\n",
      "\u001b[?25h     \n",
      "      CAS9_CTR FLA IAA27 JANUS SLC3\n",
      "  717        9   9    10    12   10\n",
      "\u001b[?25hWarning message:\n",
      "`fun.y` is deprecated. Use `fun` instead. \n",
      "\u001b[?25h\u001b[?25hWarning message:\n",
      "`fun.y` is deprecated. Use `fun` instead. \n",
      "\u001b[?25h\u001b[?25hWarning message:\n",
      "`fun.y` is deprecated. Use `fun` instead. \n",
      "\u001b[?25h\u001b[?25hWarning message:\n",
      "`fun.y` is deprecated. Use `fun` instead. \n",
      "\u001b[?25h\u001b[?25hWarning message:\n",
      "`fun.y` is deprecated. Use `fun` instead. \n",
      "\u001b[?25h\u001b[?25hWarning message:\n",
      "`fun.y` is deprecated. Use `fun` instead. \n",
      "\u001b[?25h\u001b[?25hWarning message:\n",
      "`fun.y` is deprecated. Use `fun` instead. \n",
      "\u001b[?25h\u001b[?25hWarning message:\n",
      "`fun.y` is deprecated. Use `fun` instead. \n",
      "\u001b[?25h\u001b[?25h\u001b[?25h\u001b[?25h\u001b[?25h\n",
      "\u001b[?25h[1] \"How many groups per treatment?\"\n",
      "\u001b[?25h\n",
      "CAS9_CTR      FLA    IAA27    JANUS     SLC3 \n",
      "       9        9       10       12       10 \n",
      "\u001b[?25h[1] \"How many rows in randomization datasheet?\"\n",
      "\u001b[?25h[1] 50\n",
      "\u001b[?25h[1] \"How many rows in randomization datasheet with portion_Callus data?\"\n",
      "\u001b[?25h[1] 50\n",
      "\u001b[?25hWarning messages:\n",
      "1: Ignoring unknown parameters: outlier.shape \n",
      "2: `fun.y` is deprecated. Use `fun` instead. \n",
      "\u001b[?25h\u001b[?25hWarning messages:\n",
      "1: Ignoring unknown parameters: outlier.shape \n",
      "2: `fun.y` is deprecated. Use `fun` instead. \n",
      "\u001b[?25h\u001b[?25hWarning messages:\n",
      "1: Ignoring unknown parameters: outlier.shape \n",
      "2: `fun.y` is deprecated. Use `fun` instead. \n",
      "\u001b[?25h\u001b[?25hWarning messages:\n",
      "1: Ignoring unknown parameters: outlier.shape \n",
      "2: `fun.y` is deprecated. Use `fun` instead. \n",
      "\u001b[?25h\u001b[?25hWarning messages:\n",
      "1: Ignoring unknown parameters: outlier.shape \n",
      "2: `fun.y` is deprecated. Use `fun` instead. \n",
      "\u001b[?25h\u001b[?25hWarning messages:\n",
      "1: Ignoring unknown parameters: outlier.shape \n",
      "2: `fun.y` is deprecated. Use `fun` instead. \n",
      "\u001b[?25h\u001b[?25hWarning messages:\n",
      "1: Ignoring unknown parameters: outlier.shape \n",
      "2: `fun.y` is deprecated. Use `fun` instead. \n",
      "\u001b[?25h\u001b[?25hWarning messages:\n",
      "1: Ignoring unknown parameters: outlier.shape \n",
      "2: `fun.y` is deprecated. Use `fun` instead. \n",
      "\u001b[?25h\u001b[?25h\u001b[?25h\u001b[?25h\u001b[?25h\u001b[?25h\u001b[?25h\n",
      "\u001b[?25h[1] \"How many groups per treatment?\"\n",
      "\u001b[?25h\n",
      "CAS9_CTR      FLA    IAA27    JANUS     SLC3 \n",
      "       9        9       10       12       10 \n",
      "\u001b[?25h[1] \"How many rows in randomization datasheet?\"\n",
      "\u001b[?25h[1] 50\n",
      "\u001b[?25h[1] \"How many rows in randomization datasheet with n_Callus data?\"\n",
      "\u001b[?25h[1] 50\n",
      "\u001b[?25h[1] \"Head:\"\n",
      "\u001b[?25h         ID Image # Tray ID Rand # Rand/const/tissue Plate ID Tissue type\n",
      "1:  CRIB1_1       1   CRIB1      1                 1      1-2           S\n",
      "2: CRIB1_10      10   CRIB1     10                 1      2-1           S\n",
      "3: CRIB1_11      11   CRIB1     11                 3      1-1           S\n",
      "4: CRIB1_12      12   CRIB1     12                 1      2-2           S\n",
      "5: CRIB1_13      13   CRIB1     13                 3      2-2           S\n",
      "6: CRIB1_14      14   CRIB1     14                 3      2-2           S\n",
      "   Genotype_ID Treatment name Block ...10     LabelTop      LabelBot\n",
      "1:         717       CAS9_CTR    B1    NA   CRIB1_1_R1 CAS9_CTR_S_B1\n",
      "2:         717          IAA27    B1    NA CRIB1_10_R10    IAA27_S_B1\n",
      "3:         717          JANUS    B1    NA CRIB1_11_R11    JANUS_S_B1\n",
      "4:         717          JANUS    B1    NA CRIB1_12_R12    JANUS_S_B1\n",
      "5:         717          IAA27    B1    NA CRIB1_13_R13    IAA27_S_B1\n",
      "6:         717       CAS9_CTR    B2    NA CRIB1_14_R14 CAS9_CTR_S_B2\n",
      "                                 filename 1 2 3 4 5 6 7 8 9 10 11 12\n",
      "1: CRIB1_I5.0_F1.9_L100LED30_152036_0_0_0 1 1 1 1 1 1 1 1 1  0  0  0\n",
      "2: CRIB1_I5.0_F1.9_L100LED30_151316_9_1_2 0 1 1 1 1 0 1 1 1  1  1  1\n",
      "3: CRIB1_I5.0_F1.9_L100LED30_151146_8_1_3 1 1 1 0 1 1 1 1 1  1  1  1\n",
      "4: CRIB1_I5.0_F1.9_L100LED30_151016_7_1_4 1 1 0 1 1 1 1 1 1  1  1  1\n",
      "5: CRIB1_I5.0_F1.9_L100LED30_150854_6_1_5 1 1 1 1 1 1 0 1 1  1  1  1\n",
      "6: CRIB1_I5.0_F1.9_L100LED30_152401_2_1_6 1 1 1 1 1 1 1 1 1  1  0  1\n",
      "   total_explants n_transgenic_Shoot portion_transgenic_Shoot\n",
      "1:              9                  5                0.5555556\n",
      "2:             10                  4                0.4000000\n",
      "3:             11                  2                0.1818182\n",
      "4:             11                  7                0.6363636\n",
      "5:             11                  7                0.6363636\n",
      "6:             11                  3                0.2727273\n",
      "   n_transgenic_Callus portion_transgenic_Callus n_transgenic_Stem\n",
      "1:                   6                 0.6666667                 1\n",
      "2:                   8                 0.8000000                 2\n",
      "3:                   4                 0.3636364                 1\n",
      "4:                   9                 0.8181818                 6\n",
      "5:                  10                 0.9090909                 5\n",
      "6:                   5                 0.4545455                 0\n",
      "   portion_transgenic_Stem n_transgenic_All_tissue\n",
      "1:              0.11111111                       6\n",
      "2:              0.20000000                       8\n",
      "3:              0.09090909                       5\n",
      "4:              0.54545455                      10\n",
      "5:              0.45454545                      10\n",
      "6:              0.00000000                       5\n",
      "   portion_transgenic_All_tissue n_transgenic_All_regenerated_tissue\n",
      "1:                     0.6666667                                   6\n",
      "2:                     0.8000000                                   8\n",
      "3:                     0.4545455                                   4\n",
      "4:                     0.9090909                                   9\n",
      "5:                     0.9090909                                  10\n",
      "6:                     0.4545455                                   5\n",
      "   portion_transgenic_All_regenerated_tissue n_transgenic_Background\n",
      "1:                                 0.6666667                       0\n",
      "2:                                 0.8000000                       0\n",
      "3:                                 0.3636364                       0\n",
      "4:                                 0.8181818                       0\n",
      "5:                                 0.9090909                       0\n",
      "6:                                 0.4545455                       0\n",
      "   portion_transgenic_Background n_Shoot portion_Shoot n_Callus portion_Callus\n",
      "1:                             0       7     0.7777778        9      1.0000000\n",
      "2:                             0       7     0.7000000       10      1.0000000\n",
      "3:                             0       4     0.3636364       10      0.9090909\n",
      "4:                             0       8     0.7272727       11      1.0000000\n",
      "5:                             0       9     0.8181818       11      1.0000000\n",
      "6:                             0       6     0.5454545       10      0.9090909\n",
      "   n_Stem portion_Stem n_All_tissue portion_All_tissue n_All_regenerated_tissue\n",
      "1:      8    0.8888889            9          1.0000000                        9\n",
      "2:      7    0.7000000           10          1.0000000                       10\n",
      "3:      9    0.8181818           10          0.9090909                       10\n",
      "4:     11    1.0000000           11          1.0000000                       11\n",
      "5:      9    0.8181818           11          1.0000000                       11\n",
      "6:      9    0.8181818           10          0.9090909                       10\n",
      "   portion_All_regenerated_tissue n_Background portion_Background\n",
      "1:                      1.0000000            0                  0\n",
      "2:                      1.0000000            0                  0\n",
      "3:                      0.9090909            0                  0\n",
      "4:                      1.0000000            0                  0\n",
      "5:                      1.0000000            0                  0\n",
      "6:                      0.9090909            0                  0\n",
      "\u001b[?25hWarning message:\n",
      "`fun.y` is deprecated. Use `fun` instead. \n",
      "\u001b[?25h\u001b[?25hWarning message:\n",
      "`fun.y` is deprecated. Use `fun` instead. \n",
      "\u001b[?25h\u001b[?25hWarning message:\n",
      "`fun.y` is deprecated. Use `fun` instead. \n",
      "\u001b[?25h\u001b[?25hWarning message:\n",
      "`fun.y` is deprecated. Use `fun` instead. \n",
      "\u001b[?25h\u001b[?25hWarning message:\n",
      "`fun.y` is deprecated. Use `fun` instead. \n",
      "\u001b[?25h\u001b[?25hWarning message:\n",
      "`fun.y` is deprecated. Use `fun` instead. \n",
      "\u001b[?25h\u001b[?25hWarning message:\n",
      "`fun.y` is deprecated. Use `fun` instead. \n",
      "\u001b[?25h\u001b[?25hWarning message:\n",
      "`fun.y` is deprecated. Use `fun` instead. \n",
      "\u001b[?25h\u001b[?25h\u001b[?25h\u001b[?25h\u001b[?25h\n",
      "\u001b[?25h[1] \"List of treatments in this randomization_datasheet: \"\n",
      "\u001b[?25h[1] \"CAS9_CTR\" \"FLA\"      \"IAA27\"    \"JANUS\"    \"SLC3\"    \n",
      "\u001b[?25h[1] \"Now about to merge randomization_datasheet and GMOlabeler output.\"\n",
      "\u001b[?25h[1] \"Rows in randomization_datasheet: 50\"\n",
      "\u001b[?25h[1] \"Rows in GMOlabeler output: 4743\"\n",
      "\u001b[?25h[1] \"Before merging, look at table of ID in both. \"\n",
      "\u001b[?25h\n",
      " CRIB1_1 CRIB1_10 CRIB1_11 CRIB1_12 CRIB1_13 CRIB1_14 CRIB1_15 CRIB1_16 \n",
      "       1        1        1        1        1        1        1        1 \n",
      "CRIB1_17 CRIB1_18 CRIB1_19  CRIB1_2 CRIB1_20 CRIB1_21  CRIB1_3  CRIB1_4 \n",
      "       1        1        1        1        1        1        1        1 \n",
      " CRIB1_5  CRIB1_6  CRIB1_7  CRIB1_8  CRIB1_9  CRIB2_1  CRIB2_2  CRIB3_1 \n",
      "       1        1        1        1        1        1        1        1 \n",
      "CRIB3_10 CRIB3_11 CRIB3_12 CRIB3_13 CRIB3_14 CRIB3_15 CRIB3_16 CRIB3_17 \n",
      "       1        1        1        1        1        1        1        1 \n",
      "CRIB3_18 CRIB3_19  CRIB3_2 CRIB3_20 CRIB3_21  CRIB3_3  CRIB3_4  CRIB3_5 \n",
      "       1        1        1        1        1        1        1        1 \n",
      " CRIB3_6  CRIB3_7  CRIB3_8  CRIB3_9  CRIB4_1  CRIB4_2  CRIB4_3  CRIB4_4 \n",
      "       1        1        1        1        1        1        1        1 \n",
      " CRIB4_5  CRIB4_6 \n",
      "       1        1 \n",
      "\u001b[?25h\n",
      " CRIB1_1 CRIB1_10 CRIB1_11 CRIB1_12 CRIB1_13 CRIB1_14 CRIB1_15 CRIB1_16 \n",
      "      45       50       53       55       55       53       60       28 \n",
      "CRIB1_17 CRIB1_18 CRIB1_19  CRIB1_2 CRIB1_20 CRIB1_21  CRIB1_3  CRIB1_4 \n",
      "      60       60       55       58       59       57       60       55 \n",
      " CRIB1_5  CRIB1_6  CRIB1_7  CRIB1_8  CRIB1_9  CRIB2_1  CRIB2_2  CRIB3_1 \n",
      "      60       50       25       50       40       55       60       38 \n",
      "CRIB3_10 CRIB3_11 CRIB3_12 CRIB3_13 CRIB3_14 CRIB3_15 CRIB3_16 CRIB3_17 \n",
      "      43       55       34       59       60       60       60       55 \n",
      "CRIB3_18 CRIB3_19  CRIB3_2 CRIB3_20 CRIB3_21  CRIB3_3  CRIB3_4  CRIB3_5 \n",
      "      30       50       48       55       50       50       55       55 \n",
      " CRIB3_6  CRIB3_7  CRIB3_8  CRIB3_9  CRIB4_1  CRIB4_2  CRIB4_3  CRIB4_4 \n",
      "      45       45       53       45       55       60       55       60 \n",
      " CRIB4_5  CRIB4_6  CRIB5_1 CRIB5_10 CRIB5_11 CRIB5_12 CRIB5_13 CRIB5_14 \n",
      "      60       60       45       50       55       50       30       40 \n",
      "CRIB5_15 CRIB5_16 CRIB5_17 CRIB5_18 CRIB5_19  CRIB5_2 CRIB5_20 CRIB5_21 \n",
      "      45       30       50       45       45       45       40       45 \n",
      " CRIB5_3  CRIB5_4  CRIB5_5  CRIB5_6  CRIB5_7  CRIB5_8  CRIB5_9  CRIB6_1 \n",
      "      50       50       60       25       50       55       60       30 \n",
      "CRIB6_10 CRIB6_11 CRIB6_12 CRIB6_13 CRIB6_14 CRIB6_15 CRIB6_16 CRIB6_17 \n",
      "      50       50       35       50       35       60       55       30 \n",
      "CRIB6_18 CRIB6_19  CRIB6_2 CRIB6_20 CRIB6_21  CRIB6_3  CRIB6_4  CRIB6_5 \n",
      "      50       55       35       45       45       40       55       30 \n",
      " CRIB6_6  CRIB6_7  CRIB6_8  CRIB6_9  CRIB7_1  CRIB7_2  CRIB7_3  CRIB7_4 \n",
      "      35       40       45       35       35       50       20       40 \n",
      " CRIB7_5  CRIB7_6  CRIB7_7 \n",
      "      50       35       45 \n",
      "\u001b[?25h\u001b[?25h\u001b[?25h[1] \"Rows in merged output: 4743\"\n",
      "\u001b[?25h[1] \"List of treatments in this combined data: \"\n",
      "\u001b[?25h[1] \"CAS9_CTR\" \"FLA\"      \"IAA27\"    \"JANUS\"    \"SLC3\"    \n",
      "\u001b[?25h\n",
      "\u001b[?25h\u001b[?25h\u001b[?25h[1] \"Making final plots for tissue: \"\n",
      "  Tissue hex_code color\n",
      "1  Shoot   00CC11 green\n",
      "[1] \"Dim before and after subsetting combined data to this tissue only\"\n",
      "[1] 2598   65\n",
      "[1] 524  65\n",
      "[1] \"Max mean_signal\"\n",
      "[1] 178.2781\n",
      "[1] \"Mean signal plots\"\n",
      "[1] \"Finished making mean signal plot... Now to save and make the rest.\"\n",
      "[1] \"Max signal plots\"\n",
      "[1] \"Total signal plots\"\n",
      "[1] \"Making final plots for tissue: \"\n",
      "  Tissue hex_code color\n",
      "2 Callus   0006CC  blue\n",
      "[1] \"Dim before and after subsetting combined data to this tissue only\"\n",
      "[1] 2598   65\n",
      "[1] 524  65\n",
      "[1] \"Max mean_signal\"\n",
      "[1] 147.1309\n",
      "[1] \"Mean signal plots\"\n",
      "[1] \"Finished making mean signal plot... Now to save and make the rest.\"\n",
      "[1] \"Max signal plots\"\n",
      "[1] \"Total signal plots\"\n",
      "[1] \"Making final plots for tissue: \"\n",
      "  Tissue hex_code color\n",
      "3   Stem   CC0000   red\n",
      "[1] \"Dim before and after subsetting combined data to this tissue only\"\n",
      "[1] 2598   65\n",
      "[1] 524  65\n",
      "[1] \"Max mean_signal\"\n",
      "[1] 217.9939\n",
      "[1] \"Mean signal plots\"\n",
      "[1] \"Finished making mean signal plot... Now to save and make the rest.\"\n",
      "[1] \"Max signal plots\"\n",
      "[1] \"Total signal plots\"\n",
      "[1] \"Making final plots for tissue: \"\n",
      "      Tissue   hex_code color\n",
      "4 All_tissue All_tissue black\n",
      "[1] \"Dim before and after subsetting combined data to this tissue only\"\n",
      "[1] 2598   65\n",
      "[1] 515  65\n",
      "[1] \"Max mean_signal\"\n",
      "[1] -Inf\n",
      "[1] \"Making final plots for tissue: \"\n",
      "                  Tissue               hex_code color\n",
      "5 All_regenerated_tissue All_regenerated_tissue  <NA>\n",
      "[1] \"Dim before and after subsetting combined data to this tissue only\"\n",
      "[1] 2598   65\n",
      "[1] 511  65\n",
      "[1] \"Max mean_signal\"\n",
      "[1] -Inf\n",
      "There were 50 or more warnings (use warnings() to see the first 50)\n",
      "\u001b[?25h\u001b[?25h[1] \"Saving summary stats in folder: /home/gmobot/GMOlabeler/plots/Elements_14/GWAS_CRISPR/CRIB/wk7/GFP\"\n",
      "\u001b[?25h\u001b[?25h[1] \"Saved summary_stats_by_plate.csv\"\n",
      "\u001b[?25h\u001b[?25h\u001b[?25h\u001b[?25h\u001b[?25h[1] \"Saved summary_stats_by_explant.csv\"\n",
      "\u001b[?25h[1] \"Completed workflow up until statistical tests\"\n",
      "\u001b[?25h\u001b[?25h\u001b[?25h\u001b[?25h\u001b[?25h\u001b[?25h\u001b[?25h\u001b[?25h\u001b[?25h\u001b[?25h\u001b[?25h\u001b[?25h\u001b[?25h\u001b[?25h\u001b[?25h\u001b[?25h[1] \"mean_signal\"\n",
      "[1] \"max_signal\"\n",
      "[1] \"total_signal\"\n",
      "[1] \"total_pixels\"\n",
      "[1] \"n_pixels_passing_threshold\"\n",
      "[1] \"mean_signal\"\n",
      "[1] \"max_signal\"\n",
      "[1] \"total_signal\"\n",
      "[1] \"total_pixels\"\n",
      "[1] \"n_pixels_passing_threshold\"\n",
      "[1] \"mean_signal\"\n",
      "[1] \"max_signal\"\n",
      "[1] \"total_signal\"\n",
      "[1] \"total_pixels\"\n",
      "[1] \"n_pixels_passing_threshold\"\n",
      "Warning messages:\n",
      "1: In max(na.omit(data_subset$mean_signal)) :\n",
      "  no non-missing arguments to max; returning -Inf\n",
      "2: In max(na.omit(data_subset$mean_signal)) :\n",
      "  no non-missing arguments to max; returning -Inf\n",
      "\u001b[?2004h?25h\u001b[?25h\u001b[?25h\u001b[?25h\u001b[?25h\u001b[?2004h(gmolabeler) \u001b[?2004l"
     ]
    },
    {
     "ename": "",
     "evalue": "1",
     "output_type": "error",
     "traceback": []
    }
   ],
   "source": [
    "conda activate gmolabeler\n",
    "cd $gmolabeler_path\n",
    "for reporter in ${reporters[@]}; do\n",
    "    Rscript grid_item_plots.R \\\n",
    "    -d \"${data_folder}/\" \\\n",
    "    -r \"$randomization_datasheet\" \\\n",
    "    -p $pixel_threshold \\\n",
    "    -v categorical \\\n",
    "    -m 1 \\\n",
    "    -M $missing_explants \\\n",
    "    -g $grid \\\n",
    "    --samples-pre-labeling ${data}/samples_pre_labeling.csv \\\n",
    "    --sort 1 \\\n",
    "    --height $height \\\n",
    "    --width $width \\\n",
    "    --Reporter $reporter\n",
    "done\n",
    "conda deactivate"
   ]
  },
  {
   "cell_type": "code",
   "execution_count": 101,
   "metadata": {},
   "outputs": [
    {
     "name": "stdout",
     "output_type": "stream",
     "text": [
      "/media/michael/Elements_14/Elements_14//GWAS_CRISPR/CRIB/CRIB_11.9.21.xlsx\n"
     ]
    }
   ],
   "source": [
    "echo $randomization_datasheet"
   ]
  },
  {
   "cell_type": "markdown",
   "metadata": {},
   "source": [
    "## Email plots to user"
   ]
  },
  {
   "cell_type": "markdown",
   "metadata": {},
   "source": [
    "### ZIP results"
   ]
  },
  {
   "cell_type": "code",
   "execution_count": 34,
   "metadata": {},
   "outputs": [
    {
     "name": "stdout",
     "output_type": "stream",
     "text": [
      "/home/gmobot/GMOlabeler//plotsElements_14//GWAS_CRISPR/CRIB/wk7/\n",
      "\u001b[?2004h"
     ]
    },
    {
     "ename": "",
     "evalue": "1",
     "output_type": "error",
     "traceback": []
    }
   ],
   "source": [
    "echo \"${gmolabeler_path}/plots${data_folder}\""
   ]
  },
  {
   "cell_type": "code",
   "execution_count": 35,
   "metadata": {},
   "outputs": [
    {
     "name": "stdout",
     "output_type": "stream",
     "text": [
      "\u001b[?2004h"
     ]
    },
    {
     "ename": "",
     "evalue": "1",
     "output_type": "error",
     "traceback": []
    }
   ],
   "source": [
    "cd \"${gmolabeler_path}/plots/${data_folder}\""
   ]
  },
  {
   "cell_type": "code",
   "execution_count": 36,
   "metadata": {},
   "outputs": [
    {
     "name": "stdout",
     "output_type": "stream",
     "text": [
      "\u001b[?2004h"
     ]
    },
    {
     "ename": "",
     "evalue": "1",
     "output_type": "error",
     "traceback": []
    }
   ],
   "source": [
    "rm -f ./plants_over_plates.csv"
   ]
  },
  {
   "cell_type": "code",
   "execution_count": 37,
   "metadata": {},
   "outputs": [
    {
     "name": "stdout",
     "output_type": "stream",
     "text": [
      "/home/gmobot/GMOlabeler//output/Elements_14//GWAS_CRISPR/CRIB/wk7//\n",
      "\u001b[?2004h"
     ]
    },
    {
     "ename": "",
     "evalue": "1",
     "output_type": "error",
     "traceback": []
    }
   ],
   "source": [
    "echo ${gmolabeler_path}/output/${data_folder}/"
   ]
  },
  {
   "cell_type": "code",
   "execution_count": 38,
   "metadata": {},
   "outputs": [
    {
     "name": "stdout",
     "output_type": "stream",
     "text": [
      "\u001b[?2004h"
     ]
    },
    {
     "ename": "",
     "evalue": "1",
     "output_type": "error",
     "traceback": []
    }
   ],
   "source": [
    "#cp \"${gmolabeler_path}/output/${data_folder}/plants_over_plates.csv\" ./"
   ]
  },
  {
   "cell_type": "code",
   "execution_count": 39,
   "metadata": {},
   "outputs": [
    {
     "name": "stdout",
     "output_type": "stream",
     "text": [
      "\u001b[?2004h\u001b[?2004l\u001b[?2004l"
     ]
    },
    {
     "ename": "",
     "evalue": "1",
     "output_type": "error",
     "traceback": []
    }
   ],
   "source": [
    "for reporter in ${reporters[@]}; do\n",
    "    cp \"${gmolabeler_path}/output/${data_folder}/${reporter}/stats_with_sums_over_tissues.csv\" ./\n",
    "done"
   ]
  },
  {
   "cell_type": "code",
   "execution_count": 40,
   "metadata": {},
   "outputs": [
    {
     "name": "stdout",
     "output_type": "stream",
     "text": [
      "\u001b[?2004h"
     ]
    },
    {
     "ename": "",
     "evalue": "1",
     "output_type": "error",
     "traceback": []
    }
   ],
   "source": [
    "#cd $data"
   ]
  },
  {
   "cell_type": "code",
   "execution_count": 41,
   "metadata": {},
   "outputs": [
    {
     "name": "stdout",
     "output_type": "stream",
     "text": [
      "\u001b[?2004h"
     ]
    },
    {
     "ename": "",
     "evalue": "1",
     "output_type": "error",
     "traceback": []
    }
   ],
   "source": [
    "rm -f Rplots.pdf"
   ]
  },
  {
   "cell_type": "code",
   "execution_count": 42,
   "metadata": {},
   "outputs": [
    {
     "name": "stdout",
     "output_type": "stream",
     "text": [
      "\u001b[?2004h"
     ]
    },
    {
     "ename": "",
     "evalue": "1",
     "output_type": "error",
     "traceback": []
    }
   ],
   "source": [
    "cd ../"
   ]
  },
  {
   "cell_type": "markdown",
   "metadata": {},
   "source": [
    "This messy substitution is explained here: https://superuser.com/questions/1068031/replace-backslash-with-forward-slash-in-a-variable-in-bash"
   ]
  },
  {
   "cell_type": "code",
   "execution_count": 43,
   "metadata": {},
   "outputs": [
    {
     "name": "stdout",
     "output_type": "stream",
     "text": [
      "\u001b[?2004h\u001b[?2004l"
     ]
    },
    {
     "ename": "",
     "evalue": "1",
     "output_type": "error",
     "traceback": []
    }
   ],
   "source": [
    "data_folder_Compress=\"${data_folder////-}.zip\"\n",
    "data_folder_Compress=${data_folder_Compress#?};"
   ]
  },
  {
   "cell_type": "code",
   "execution_count": 44,
   "metadata": {},
   "outputs": [
    {
     "name": "stdout",
     "output_type": "stream",
     "text": [
      "Elements_14//GWAS_CRISPR/CRIB/wk7/\n",
      "\u001b[?2004h"
     ]
    },
    {
     "ename": "",
     "evalue": "1",
     "output_type": "error",
     "traceback": []
    }
   ],
   "source": [
    "echo $data_folder"
   ]
  },
  {
   "cell_type": "code",
   "execution_count": 45,
   "metadata": {},
   "outputs": [
    {
     "name": "stdout",
     "output_type": "stream",
     "text": [
      "lements_14--GWAS_CRISPR-CRIB-wk7-.zip\n",
      "\u001b[?2004h"
     ]
    },
    {
     "ename": "",
     "evalue": "1",
     "output_type": "error",
     "traceback": []
    }
   ],
   "source": [
    "echo $data_folder_Compress"
   ]
  },
  {
   "cell_type": "code",
   "execution_count": 46,
   "metadata": {},
   "outputs": [
    {
     "name": "stdout",
     "output_type": "stream",
     "text": [
      "/home/gmobot/GMOlabeler/plots/Elements_14/GWAS_CRISPR/CRIB\n",
      "\u001b[?2004h"
     ]
    },
    {
     "ename": "",
     "evalue": "1",
     "output_type": "error",
     "traceback": []
    }
   ],
   "source": [
    "pwd"
   ]
  },
  {
   "cell_type": "code",
   "execution_count": 47,
   "metadata": {},
   "outputs": [
    {
     "name": "stdout",
     "output_type": "stream",
     "text": [
      "\u001b[?2004h"
     ]
    },
    {
     "ename": "",
     "evalue": "1",
     "output_type": "error",
     "traceback": []
    }
   ],
   "source": [
    "cd $timepoint"
   ]
  },
  {
   "cell_type": "code",
   "execution_count": 48,
   "metadata": {},
   "outputs": [
    {
     "name": "stdout",
     "output_type": "stream",
     "text": [
      "wk72004l\n",
      "\u001b[?2004h"
     ]
    },
    {
     "ename": "",
     "evalue": "1",
     "output_type": "error",
     "traceback": []
    }
   ],
   "source": [
    "echo $timepoint"
   ]
  },
  {
   "cell_type": "code",
   "execution_count": 49,
   "metadata": {
    "tags": []
   },
   "outputs": [
    {
     "name": "stdout",
     "output_type": "stream",
     "text": [
      "\u001b[0m\u001b[01;34mGFP\u001b[0m  \u001b[01;31mlements_14--GWAS_CRISPR-CRIB-wk7-.zip\u001b[0m  stats_with_sums_over_tissues.csv\n",
      "\u001b[?2004h"
     ]
    },
    {
     "ename": "",
     "evalue": "1",
     "output_type": "error",
     "traceback": []
    }
   ],
   "source": [
    "ls"
   ]
  },
  {
   "cell_type": "code",
   "execution_count": 50,
   "metadata": {
    "scrolled": true,
    "tags": []
   },
   "outputs": [
    {
     "name": "stdout",
     "output_type": "stream",
     "text": [
      "bash: cd: wk7: No such file or directory\n",
      "updating: GFP/ (stored 0%)\n",
      "updating: GFP/gridplot_args.rds (stored 0%)\n",
      "updating: GFP/Perc of explants with X/ (stored 0%)\n",
      "updating: GFP/Perc of explants with X/By genotype/ (stored 0%)\n",
      "updating: GFP/Perc of explants with X/By genotype/Rplots.pdf (deflated 3%)\n",
      "updating: GFP/Perc of explants with X/By genotype/2A1_portion_Callus_total.png (deflated 16%)\n",
      "updating: GFP/Perc of explants with X/By genotype/2A2_portion_Callus_transgenic.png (deflated 15%)\n",
      "updating: GFP/Perc of explants with X/By genotype/2B1_portion_Shoot_total.png (deflated 14%)\n",
      "updating: GFP/Perc of explants with X/By genotype/2B2_portion_Shoot_transgenic.png (deflated 14%)\n",
      "updating: GFP/Perc of explants with X/By genotype/2C1_portion_All_regenerated_tissue_total.png (deflated 16%)\n",
      "updating: GFP/Perc of explants with X/By genotype/2C2_portion_All_regenerated_tissue_transgenic.png (deflated 14%)\n",
      "updating: GFP/Perc of explants with X/By genotype/2D1_portion_All_tissue_total.png (deflated 18%)\n",
      "updating: GFP/Perc of explants with X/By genotype/2D2_portion_All_tissue_transgenic.png (deflated 15%)\n",
      "updating: GFP/Perc of explants with X/Genotypes combined/ (stored 0%)\n",
      "updating: GFP/Perc of explants with X/Genotypes combined/2A1c_portion_Callus_total.png (deflated 9%)\n",
      "updating: GFP/Perc of explants with X/Genotypes combined/2A2c_portion_Callus_transgenic.png (deflated 8%)\n",
      "updating: GFP/Perc of explants with X/Genotypes combined/2B1c_portion_Shoot_total.png (deflated 8%)\n",
      "updating: GFP/Perc of explants with X/Genotypes combined/2B2c_portion_Shoot_transgenic.png (deflated 7%)\n",
      "updating: GFP/Perc of explants with X/Genotypes combined/2C1c_portion_All_regenerated_tissue_total.png (deflated 10%)\n",
      "updating: GFP/Perc of explants with X/Genotypes combined/2C2c_portion_All_regenerated_tissue_transgenic.png (deflated 9%)\n",
      "updating: GFP/Perc of explants with X/Genotypes combined/2D1c_portion_All_tissue_total.png (deflated 10%)\n",
      "updating: GFP/Perc of explants with X/Genotypes combined/2D2c_portion_All_tissue_transgenic.png (deflated 8%)\n",
      "updating: GFP/N of grid spots with X/ (stored 0%)\n",
      "updating: GFP/N of grid spots with X/By genotype/ (stored 0%)\n",
      "updating: GFP/N of grid spots with X/By genotype/3A1_Callus_total.png (deflated 15%)\n",
      "updating: GFP/N of grid spots with X/By genotype/3A2_Callus_transgenic.png (deflated 15%)\n",
      "updating: GFP/N of grid spots with X/By genotype/3B1_Shoot_total.png (deflated 15%)\n",
      "updating: GFP/N of grid spots with X/By genotype/3B2_Shoot_transgenic.png (deflated 14%)\n",
      "updating: GFP/N of grid spots with X/By genotype/3D1_All_regenerated_tissue_total.png (deflated 15%)\n",
      "updating: GFP/N of grid spots with X/By genotype/3D2_All_regenerated_tissue_transgenic.png (deflated 15%)\n",
      "updating: GFP/N of grid spots with X/By genotype/3D1_All_tissue_total.png (deflated 14%)\n",
      "updating: GFP/N of grid spots with X/By genotype/3D2_All_tissue_transgenic.png (deflated 14%)\n",
      "updating: GFP/Raw signal stats/ (stored 0%)\n",
      "updating: GFP/Raw signal stats/C1_Shoot_Mean_signal.png (deflated 14%)\n",
      "updating: GFP/Raw signal stats/B1_Shoot_Max_signal.png (deflated 10%)\n",
      "updating: GFP/Raw signal stats/A1_Shoot_Total_signal.png (deflated 13%)\n",
      "updating: GFP/Raw signal stats/A1_Shoot_Total_pixels.png (deflated 13%)\n",
      "updating: GFP/Raw signal stats/A1_Shoot_pixels_w_strong_signal.png (deflated 14%)\n",
      "updating: GFP/Raw signal stats/C2_Callus_Mean_signal.png (deflated 12%)\n",
      "updating: GFP/Raw signal stats/B2_Callus_Max_signal.png (deflated 11%)\n",
      "updating: GFP/Raw signal stats/A2_Callus_Total_signal.png (deflated 14%)\n",
      "updating: GFP/Raw signal stats/A2_Callus_Total_pixels.png (deflated 11%)\n",
      "updating: GFP/Raw signal stats/A2_Callus_pixels_w_strong_signal.png (deflated 13%)\n",
      "updating: GFP/Raw signal stats/C3_Stem_Mean_signal.png (deflated 15%)\n",
      "updating: GFP/Raw signal stats/B3_Stem_Max_signal.png (deflated 13%)\n",
      "updating: GFP/Raw signal stats/A3_Stem_Total_signal.png (deflated 16%)\n",
      "updating: GFP/Raw signal stats/A3_Stem_Total_pixels.png (deflated 12%)\n",
      "updating: GFP/Raw signal stats/A3_Stem_pixels_w_strong_signal.png (deflated 16%)\n",
      "updating: GFP/summary_stats_by_plate.csv (deflated 81%)\n",
      "updating: GFP/summary_stats_by_explant.csv (deflated 79%)\n",
      "updating: GFP/ANOVA_plate_stats.csv (deflated 61%)\n",
      "updating: GFP/EMM_plate_stats.csv (deflated 66%)\n",
      "updating: GFP/ANOVA_explant_statistics.csv (deflated 59%)\n",
      "updating: GFP/EMM_explant_statistics.csv (deflated 60%)\n",
      "updating: stats_with_sums_over_tissues.csv (deflated 85%)\n",
      "\u001b[?2004h"
     ]
    },
    {
     "ename": "",
     "evalue": "1",
     "output_type": "error",
     "traceback": []
    }
   ],
   "source": [
    "cd $timepoint\n",
    "zip -r $data_folder_Compress ./*"
   ]
  },
  {
   "cell_type": "markdown",
   "metadata": {},
   "source": [
    "### Write email"
   ]
  },
  {
   "cell_type": "code",
   "execution_count": 51,
   "metadata": {},
   "outputs": [
    {
     "name": "stdout",
     "output_type": "stream",
     "text": [
      "\u001b[?2004h"
     ]
    },
    {
     "ename": "",
     "evalue": "1",
     "output_type": "error",
     "traceback": []
    }
   ],
   "source": [
    "duration=$(( SECONDS - start ))"
   ]
  },
  {
   "cell_type": "markdown",
   "metadata": {},
   "source": [
    "https://unix.stackexchange.com/questions/53841/how-to-use-a-timer-in-bash"
   ]
  },
  {
   "cell_type": "code",
   "execution_count": 52,
   "metadata": {},
   "outputs": [
    {
     "name": "stdout",
     "output_type": "stream",
     "text": [
      "\u001b[?2004h\u001b[?2004l"
     ]
    },
    {
     "ename": "",
     "evalue": "1",
     "output_type": "error",
     "traceback": []
    }
   ],
   "source": [
    "rm -f \"${gmolabeler_path}/email_to_send.txt\"\n",
    "cp \"${gmolabeler_path}/email_to_send_template.txt\" \"${gmolabeler_path}/email_to_send.txt\""
   ]
  },
  {
   "cell_type": "code",
   "execution_count": 53,
   "metadata": {},
   "outputs": [
    {
     "name": "stdout",
     "output_type": "stream",
     "text": [
      "\u001b[?2004h\u001b[?2004l"
     ]
    },
    {
     "ename": "",
     "evalue": "1",
     "output_type": "error",
     "traceback": []
    }
   ],
   "source": [
    "echo \"\" >> \"${gmolabeler_path}/email_to_send.txt\"\n",
    "echo \"Number of samples run: \" >> \"${gmolabeler_path}/email_to_send.txt\""
   ]
  },
  {
   "cell_type": "code",
   "execution_count": 54,
   "metadata": {},
   "outputs": [
    {
     "name": "stdout",
     "output_type": "stream",
     "text": [
      "\u001b[?2004h\u001b[?2004l"
     ]
    },
    {
     "ename": "",
     "evalue": "1",
     "output_type": "error",
     "traceback": []
    }
   ],
   "source": [
    "cat \"${data}/test.csv\" | wc -l >> \"${gmolabeler_path}/email_to_send.txt\"\n",
    "echo \"\" >> \"${gmolabeler_path}/email_to_send.txt\""
   ]
  },
  {
   "cell_type": "code",
   "execution_count": 55,
   "metadata": {},
   "outputs": [
    {
     "name": "stdout",
     "output_type": "stream",
     "text": [
      "\u001b[?2004h\u001b[?2004l\u001b[?2004l\u001b[?2004l\u001b[?2004l\u001b[?2004l\u001b[?2004l\u001b[?2004l\u001b[?2004l\u001b[?2004l\u001b[?2004l\u001b[?2004l"
     ]
    },
    {
     "ename": "",
     "evalue": "1",
     "output_type": "error",
     "traceback": []
    }
   ],
   "source": [
    "if (( $SECONDS > 3600 )) ; then\n",
    "    let \"hours=SECONDS/3600\"\n",
    "    let \"minutes=(SECONDS%3600)/60\"\n",
    "    let \"seconds=(SECONDS%3600)%60\"\n",
    "    echo \"Completed in $hours hour(s), $minutes minute(s) and $seconds second(s)\" >> \"${gmolabeler_path}/email_to_send.txt\"\n",
    "elif (( $SECONDS > 60 )) ; then\n",
    "    let \"minutes=(SECONDS%3600)/60\"\n",
    "    let \"seconds=(SECONDS%3600)%60\"\n",
    "    echo \"Completed in $minutes minute(s) and $seconds second(s)\" >> \"${gmolabeler_path}/email_to_send.txt\"\n",
    "else\n",
    "    echo \"Completed in $SECONDS seconds\" >> \"${gmolabeler_path}/email_to_send.txt\"\n",
    "fi"
   ]
  },
  {
   "cell_type": "code",
   "execution_count": 56,
   "metadata": {},
   "outputs": [
    {
     "name": "stdout",
     "output_type": "stream",
     "text": [
      "\u001b[?2004h"
     ]
    },
    {
     "ename": "",
     "evalue": "1",
     "output_type": "error",
     "traceback": []
    }
   ],
   "source": [
    "echo \"\" >> \"${gmolabeler_path}/email_to_send.txt\""
   ]
  },
  {
   "cell_type": "markdown",
   "metadata": {},
   "source": [
    "### Send email with results to user"
   ]
  },
  {
   "cell_type": "code",
   "execution_count": 57,
   "metadata": {},
   "outputs": [
    {
     "name": "stdout",
     "output_type": "stream",
     "text": [
      "/home/gmobot/GMOlabeler/plots/Elements_14/GWAS_CRISPR/CRIB/wk7\n",
      "\u001b[?2004h"
     ]
    },
    {
     "ename": "",
     "evalue": "1",
     "output_type": "error",
     "traceback": []
    }
   ],
   "source": [
    "pwd"
   ]
  },
  {
   "cell_type": "code",
   "execution_count": 58,
   "metadata": {},
   "outputs": [
    {
     "name": "stdout",
     "output_type": "stream",
     "text": [
      "lements_14--GWAS_CRISPR-CRIB-wk7-.zip\n",
      "\u001b[?2004h"
     ]
    },
    {
     "ename": "",
     "evalue": "1",
     "output_type": "error",
     "traceback": []
    }
   ],
   "source": [
    "echo $data_folder_Compress"
   ]
  },
  {
   "cell_type": "code",
   "execution_count": 59,
   "metadata": {},
   "outputs": [
    {
     "name": "stdout",
     "output_type": "stream",
     "text": [
      "Elements_14//GWAS_CRISPR/CRIB/wk7/\n",
      "\u001b[?2004h"
     ]
    },
    {
     "ename": "",
     "evalue": "1",
     "output_type": "error",
     "traceback": []
    }
   ],
   "source": [
    "echo $data_folder"
   ]
  },
  {
   "cell_type": "code",
   "execution_count": 60,
   "metadata": {},
   "outputs": [
    {
     "name": "stdout",
     "output_type": "stream",
     "text": [
      "michael.nagle@oregonstate.edu\n",
      "\u001b[?2004h"
     ]
    },
    {
     "ename": "",
     "evalue": "1",
     "output_type": "error",
     "traceback": []
    }
   ],
   "source": [
    "echo $email"
   ]
  },
  {
   "cell_type": "code",
   "execution_count": 61,
   "metadata": {},
   "outputs": [
    {
     "name": "stdout",
     "output_type": "stream",
     "text": [
      "/home/gmobot/GMOlabeler//email_to_send.txt\n",
      "\u001b[?2004h"
     ]
    },
    {
     "ename": "",
     "evalue": "1",
     "output_type": "error",
     "traceback": []
    }
   ],
   "source": [
    "echo \"${gmolabeler_path}/email_to_send.txt\""
   ]
  },
  {
   "cell_type": "code",
   "execution_count": 62,
   "metadata": {},
   "outputs": [
    {
     "name": "stdout",
     "output_type": "stream",
     "text": [
      "/home/gmobot/GMOlabeler/plots/Elements_14/GWAS_CRISPR/CRIB/wk7\n",
      "\u001b[?2004h"
     ]
    },
    {
     "ename": "",
     "evalue": "1",
     "output_type": "error",
     "traceback": []
    }
   ],
   "source": [
    "pwd"
   ]
  },
  {
   "cell_type": "code",
   "execution_count": 63,
   "metadata": {},
   "outputs": [
    {
     "name": "stdout",
     "output_type": "stream",
     "text": [
      "\u001b[?2004l\n",
      "Your job is complete!\n",
      "\n",
      "Number of samples run: \n",
      "99\n",
      "\n",
      "Completed in 1 minute(s) and 56 second(s)\n",
      "\n",
      "\u001b[?2004h"
     ]
    },
    {
     "ename": "",
     "evalue": "1",
     "output_type": "error",
     "traceback": []
    }
   ],
   "source": [
    "cat \"${gmolabeler_path}/email_to_send.txt\""
   ]
  },
  {
   "cell_type": "code",
   "execution_count": 64,
   "metadata": {},
   "outputs": [
    {
     "name": "stdout",
     "output_type": "stream",
     "text": [
      "lements_14--GWAS_CRISPR-CRIB-wk7-.zip\n",
      "\u001b[?2004h"
     ]
    },
    {
     "ename": "",
     "evalue": "1",
     "output_type": "error",
     "traceback": []
    }
   ],
   "source": [
    "echo $data_folder_Compress"
   ]
  },
  {
   "cell_type": "code",
   "execution_count": 72,
   "metadata": {},
   "outputs": [
    {
     "name": "stdout",
     "output_type": "stream",
     "text": [
      "pwd\n",
      "/home/gmobot/GMOlabeler/plots/Elements_14/GWAS_CRISPR/CRIB/wk7\n",
      "\u001b[?2004h"
     ]
    },
    {
     "ename": "",
     "evalue": "1",
     "output_type": "error",
     "traceback": []
    }
   ],
   "source": [
    "pwd"
   ]
  },
  {
   "cell_type": "code",
   "execution_count": 71,
   "metadata": {},
   "outputs": [
    {
     "name": "stdout",
     "output_type": "stream",
     "text": [
      "echo \"s-nail -a $data_folder_Compress -s $data_folder $email < \"${gmolabeler_path}/email_to_send.txt\"\"\n",
      "s-nail -a lements_14--GWAS_CRISPR-CRIB-wk7-.zip -s Elements_14//GWAS_CRISPR/CRIB/wk7/ michael.nagle@oregonstate.edu < /home/gmobot/GMOlabeler//email_to_send.txt\n",
      "\u001b[?2004h"
     ]
    },
    {
     "ename": "",
     "evalue": "1",
     "output_type": "error",
     "traceback": []
    }
   ],
   "source": [
    "echo \"s-nail -a $data_folder_Compress -s $data_folder $email < \"${gmolabeler_path}/email_to_send.txt\"\""
   ]
  },
  {
   "cell_type": "code",
   "execution_count": 66,
   "metadata": {},
   "outputs": [
    {
     "name": "stdout",
     "output_type": "stream",
     "text": [
      "\u001b[?2004h"
     ]
    },
    {
     "ename": "",
     "evalue": "1",
     "output_type": "error",
     "traceback": []
    }
   ],
   "source": [
    "s-nail -a $data_folder_Compress -s $data_folder $email < \"${gmolabeler_path}/email_to_send.txt\""
   ]
  },
  {
   "cell_type": "code",
   "execution_count": 67,
   "metadata": {},
   "outputs": [
    {
     "name": "stdout",
     "output_type": "stream",
     "text": [
      "du -sh $data_folder_Compress\n",
      "5.3M\tlements_14--GWAS_CRISPR-CRIB-wk7-.zip\n",
      "\u001b[?2004h"
     ]
    },
    {
     "ename": "",
     "evalue": "1",
     "output_type": "error",
     "traceback": []
    }
   ],
   "source": [
    "du -sh $data_folder_Compress"
   ]
  },
  {
   "cell_type": "code",
   "execution_count": 68,
   "metadata": {},
   "outputs": [
    {
     "name": "stdout",
     "output_type": "stream",
     "text": [
      "cat \"${gmolabeler_path}/email_to_send.txt\"\n",
      "\u001b[?2004l\n",
      "Your job is complete!\n",
      "\n",
      "Number of samples run: \n",
      "99\n",
      "\n",
      "Completed in 1 minute(s) and 56 second(s)\n",
      "\n",
      "\u001b[?2004h"
     ]
    },
    {
     "ename": "",
     "evalue": "1",
     "output_type": "error",
     "traceback": []
    }
   ],
   "source": [
    "cat \"${gmolabeler_path}/email_to_send.txt\""
   ]
  },
  {
   "cell_type": "markdown",
   "metadata": {},
   "source": [
    "Time workflow ends:"
   ]
  },
  {
   "cell_type": "code",
   "execution_count": 69,
   "metadata": {},
   "outputs": [
    {
     "name": "stdout",
     "output_type": "stream",
     "text": [
      "echo $(date)\n",
      "Sun Jun 12 11:17:18 PM PDT 2022\n",
      "\u001b[?2004h"
     ]
    },
    {
     "ename": "",
     "evalue": "1",
     "output_type": "error",
     "traceback": []
    }
   ],
   "source": [
    "echo $(date)"
   ]
  },
  {
   "cell_type": "code",
   "execution_count": 70,
   "metadata": {},
   "outputs": [
    {
     "name": "stdout",
     "output_type": "stream",
     "text": [
      "echo \"tst\"\n",
      "tst2004l\n",
      "\u001b[?2004h"
     ]
    },
    {
     "ename": "",
     "evalue": "1",
     "output_type": "error",
     "traceback": []
    }
   ],
   "source": [
    "echo \"tst\""
   ]
  },
  {
   "cell_type": "code",
   "execution_count": null,
   "metadata": {},
   "outputs": [],
   "source": []
  },
  {
   "cell_type": "code",
   "execution_count": null,
   "metadata": {},
   "outputs": [],
   "source": []
  },
  {
   "cell_type": "code",
   "execution_count": null,
   "metadata": {},
   "outputs": [],
   "source": []
  },
  {
   "cell_type": "code",
   "execution_count": null,
   "metadata": {},
   "outputs": [],
   "source": []
  },
  {
   "cell_type": "code",
   "execution_count": null,
   "metadata": {},
   "outputs": [],
   "source": []
  },
  {
   "cell_type": "code",
   "execution_count": null,
   "metadata": {},
   "outputs": [],
   "source": []
  },
  {
   "cell_type": "code",
   "execution_count": null,
   "metadata": {},
   "outputs": [],
   "source": []
  },
  {
   "cell_type": "code",
   "execution_count": null,
   "metadata": {},
   "outputs": [],
   "source": []
  },
  {
   "cell_type": "code",
   "execution_count": null,
   "metadata": {},
   "outputs": [],
   "source": []
  },
  {
   "cell_type": "code",
   "execution_count": null,
   "metadata": {},
   "outputs": [],
   "source": []
  },
  {
   "cell_type": "code",
   "execution_count": null,
   "metadata": {},
   "outputs": [],
   "source": []
  },
  {
   "cell_type": "code",
   "execution_count": null,
   "metadata": {},
   "outputs": [],
   "source": []
  },
  {
   "cell_type": "code",
   "execution_count": null,
   "metadata": {},
   "outputs": [],
   "source": []
  },
  {
   "cell_type": "code",
   "execution_count": null,
   "metadata": {},
   "outputs": [],
   "source": []
  },
  {
   "cell_type": "code",
   "execution_count": null,
   "metadata": {},
   "outputs": [],
   "source": []
  },
  {
   "cell_type": "code",
   "execution_count": null,
   "metadata": {},
   "outputs": [],
   "source": []
  }
 ],
 "metadata": {
  "kernelspec": {
   "display_name": "Bash",
   "language": "bash",
   "name": "bash"
  },
  "language_info": {
   "codemirror_mode": "shell",
   "file_extension": ".sh",
   "mimetype": "text/x-sh",
   "name": "bash"
  },
  "toc-autonumbering": true,
  "toc-showtags": false
 },
 "nbformat": 4,
 "nbformat_minor": 4
}
