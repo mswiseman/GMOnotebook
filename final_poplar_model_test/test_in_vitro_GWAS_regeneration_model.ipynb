{
 "cells": [
  {
   "cell_type": "markdown",
   "id": "severe-negotiation",
   "metadata": {},
   "source": [
    "# Test model for segmentation of *in vitro* GWAS images"
   ]
  },
  {
   "cell_type": "code",
   "execution_count": 17,
   "id": "agricultural-turtle",
   "metadata": {},
   "outputs": [],
   "source": [
    "data=\"/run/media/labgroup/Elements_9/GWAS_Transformation/GTE/wk7/\"\n",
    "#data=\"/run/media/labgroup/Elements_9/GWAS_Regeneration/BBB/wk7\""
   ]
  },
  {
   "cell_type": "code",
   "execution_count": 18,
   "id": "professional-shade",
   "metadata": {},
   "outputs": [],
   "source": [
    "deeplab_path=\"/home/labgroup/Downloads/explant/deeplab/\"\n"
   ]
  },
  {
   "cell_type": "code",
   "execution_count": 19,
   "id": "spatial-aurora",
   "metadata": {},
   "outputs": [],
   "source": [
    "rm -rf $data/*tmp*"
   ]
  },
  {
   "cell_type": "code",
   "execution_count": 20,
   "id": "fundamental-listing",
   "metadata": {},
   "outputs": [
    {
     "name": "stdout",
     "output_type": "stream",
     "text": [
      "(alignment) (alignment) "
     ]
    }
   ],
   "source": [
    "conda activate alignment\n",
    "for filename in $data/*.jpg; do\n",
    "    exiftool -Orientation=8 -n $filename > ${data}log_exiftool.txt\n",
    "    done\n",
    "conda deactivate\n",
    "conda deactivate"
   ]
  },
  {
   "cell_type": "code",
   "execution_count": 21,
   "id": "documentary-russian",
   "metadata": {},
   "outputs": [],
   "source": [
    "rm -f $data/*original*"
   ]
  },
  {
   "cell_type": "code",
   "execution_count": 22,
   "id": "million-charter",
   "metadata": {},
   "outputs": [
    {
     "name": "stdout",
     "output_type": "stream",
     "text": [
      "bash: cd: intermediates/: No such file or directory\n"
     ]
    },
    {
     "ename": "",
     "evalue": "1",
     "output_type": "error",
     "traceback": []
    }
   ],
   "source": [
    "cd intermediates/"
   ]
  },
  {
   "cell_type": "code",
   "execution_count": null,
   "id": "historic-shareware",
   "metadata": {},
   "outputs": [],
   "source": [
    "conda activate base\n",
    "python crop.py $data\n",
    "conda deactivate"
   ]
  },
  {
   "cell_type": "code",
   "execution_count": null,
   "id": "white-mandate",
   "metadata": {},
   "outputs": [],
   "source": [
    "cd $data\n",
    "ls -d $PWD/* $data | grep -i \"rgb_cropped.jpg\" > test.csv"
   ]
  },
  {
   "cell_type": "code",
   "execution_count": null,
   "id": "familiar-receiver",
   "metadata": {},
   "outputs": [],
   "source": [
    "sed -i '/hroma/d' \"${data}/test.csv\""
   ]
  },
  {
   "cell_type": "markdown",
   "id": "greatest-butter",
   "metadata": {},
   "source": [
    "Note, this requires additional dependencies `matplotlib` and `skimage` (`pip install matplotlib` and `pip install scikit-image`)"
   ]
  },
  {
   "cell_type": "code",
   "execution_count": null,
   "id": "herbal-january",
   "metadata": {},
   "outputs": [],
   "source": [
    "pwd"
   ]
  },
  {
   "cell_type": "code",
   "execution_count": null,
   "id": "arabic-fishing",
   "metadata": {},
   "outputs": [],
   "source": [
    "mkdir segmentation_results"
   ]
  },
  {
   "cell_type": "code",
   "execution_count": null,
   "id": "australian-outdoors",
   "metadata": {},
   "outputs": [],
   "source": [
    "cd $deeplab_path/../\n",
    "conda activate deeplab\n",
    "export PYTHONPATH=$PYTHONPATH:`pwd`:`pwd`/slim\n",
    "python -W ignore deeplab/inference.py --image_lists \"${data}/test.csv\" \\\n",
    "--crop_size 900 --crop_size 600 \\\n",
    "--seg_results segmentation_results \\\n",
    "--model_dir /home/labgroup/Downloads/explant/deeplab/model/\n",
    "conda deactivate\n",
    "conda deactivate"
   ]
  },
  {
   "cell_type": "code",
   "execution_count": 18,
   "id": "emotional-monthly",
   "metadata": {},
   "outputs": [
    {
     "name": "stdout",
     "output_type": "stream",
     "text": [
      "mv: cannot stat ‘*_rgb_cropped.png’: No such file or directory\n"
     ]
    },
    {
     "ename": "",
     "evalue": "1",
     "output_type": "error",
     "traceback": []
    }
   ],
   "source": [
    "cd $data\n",
    "for file in *_rgb_cropped.png; do mv -f \"$file\" \"${file%_rgb_cropped.png}_segment_cropped.png\"; done"
   ]
  },
  {
   "cell_type": "code",
   "execution_count": null,
   "id": "touched-norfolk",
   "metadata": {},
   "outputs": [],
   "source": [
    "conda activate alignment\n",
    "cd $alignment_path\n",
    "python expand.py $data >> $data/log_expand.txt\n",
    "conda deactivate"
   ]
  },
  {
   "cell_type": "code",
   "execution_count": null,
   "id": "retained-pattern",
   "metadata": {},
   "outputs": [],
   "source": []
  }
 ],
 "metadata": {
  "kernelspec": {
   "display_name": "Bash",
   "language": "bash",
   "name": "bash"
  },
  "language_info": {
   "codemirror_mode": "shell",
   "file_extension": ".sh",
   "mimetype": "text/x-sh",
   "name": "bash"
  }
 },
 "nbformat": 4,
 "nbformat_minor": 5
}
